{
 "cells": [
  {
   "cell_type": "markdown",
   "id": "83f52390",
   "metadata": {},
   "source": [
    "## Prepare Data"
   ]
  },
  {
   "cell_type": "code",
   "execution_count": 91,
   "id": "072f4dae",
   "metadata": {},
   "outputs": [
    {
     "name": "stdout",
     "output_type": "stream",
     "text": [
      "1.12.1\n",
      "0.12.1+cu113\n",
      "cuda\n"
     ]
    }
   ],
   "source": [
    "import torch\n",
    "import os\n",
    "import torchaudio\n",
    "\n",
    "print(torch.__version__)\n",
    "print(torchaudio.__version__)\n",
    "\n",
    "torch.random.manual_seed(0)\n",
    "device = torch.device(\"cuda\" if torch.cuda.is_available() else \"cpu\")\n",
    "\n",
    "print(device)\n",
    "\n",
    "bundle = torchaudio.pipelines.WAV2VEC2_BASE\n",
    "model_extr = bundle.get_model().to(device)\n",
    "\n",
    "main_path = '/home/wawa_/'\n",
    "\n",
    "emotion_map = {'Neutre': 'neutral', 'Colère': 'angry', 'Joie': 'happy', 'Tristesse': 'sad', 'Peur': 'fear',\n",
    "              'Dégoût': 'disgust', 'Surprise': 'surprise'}\n",
    "\n",
    "holdout = 5\n",
    "model_name = 'Wav2Vec2Base' \n",
    "model_folder = model_name"
   ]
  },
  {
   "attachments": {},
   "cell_type": "markdown",
   "id": "81a803d0",
   "metadata": {},
   "source": [
    "# Generate features (run once)"
   ]
  },
  {
   "cell_type": "code",
   "execution_count": 92,
   "id": "b2bf642e",
   "metadata": {},
   "outputs": [],
   "source": [
    "# import os\n",
    "\n",
    "# data_path = '/home/wawa_/CaFE/High resolution (192kHz)/'\n",
    "# folders = ['Joie', 'Peur', 'Tristesse', 'Colère', 'Dégoût', 'Neutre', 'Surprise']\n",
    "# audios = []\n",
    "# labels = []\n",
    "# file_paths = []\n",
    "# for folder in folders:\n",
    "#   if folder!='Neutre':\n",
    "#     subfolders = ['Fort/', 'Faible/']\n",
    "#   else:\n",
    "#     subfolders = ['']\n",
    "#   for subfolder in subfolders:\n",
    "#     dir_path = data_path + folder + '/' + subfolder\n",
    "#     for file in os.listdir(dir_path):\n",
    "#         if 'aiff' not in file:\n",
    "#             continue\n",
    "#         name = file.split('.')[0]\n",
    "#         file_path = dir_path + file\n",
    "#         labels.append(folder)\n",
    "#         wave, sr = torchaudio.load(file_path)\n",
    "#         wave = wave.to(device)\n",
    "#         if sr != bundle.sample_rate:\n",
    "#             wave = torchaudio.functional.resample(wave, sr, bundle.sample_rate)\n",
    "  \n",
    "#         with torch.inference_mode():\n",
    "#             feature, _ = model_extr.extract_features(wave)\n",
    "#         feature = [f[0] for f in feature]\n",
    "#         feature = torch.stack(feature)\n",
    "#         save_path_folder = f'/home/wawa_/data/{model_folder}/{folder}/{subfolder}'\n",
    "#         os.makedirs(save_path_folder, exist_ok = True) \n",
    "#         save_path = f'/home/wawa_/data/{model_folder}/{folder}/{subfolder}{name}.pt'\n",
    "#         torch.save(feature, save_path)\n"
   ]
  },
  {
   "cell_type": "markdown",
   "id": "d75f81d6",
   "metadata": {},
   "source": [
    "# Generate Sessions (run once)"
   ]
  },
  {
   "cell_type": "code",
   "execution_count": 93,
   "id": "3c93e401",
   "metadata": {},
   "outputs": [],
   "source": [
    "# data_path = main_path + 'CaFE/High resolution (192kHz)/'\n",
    "# features_path = main_path + 'data/{model_folder}/'\n",
    "\n",
    "# feat_extension = '.pt'\n",
    "\n",
    "# keep_strong_only = False\n",
    "\n",
    "# folders = ['Joie', 'Peur', 'Tristesse', 'Colère', 'Dégoût', 'Neutre', 'Surprise']\n",
    "# labels = []\n",
    "\n",
    "# file_paths = []\n",
    "# new_file_paths = []\n",
    "# strengths = []\n",
    "\n",
    "# for folder in folders:\n",
    "#   if folder!='Neutre':\n",
    "#     subfolders = ['Fort/', 'Faible/']\n",
    "#   else:\n",
    "#     subfolders = ['']\n",
    "#   for subfolder in subfolders:\n",
    "#     dir_path = data_path + folder + '/' + subfolder\n",
    "#     dir_path_features = features_path + folder + '/' + subfolder\n",
    "#     for file in os.listdir(dir_path):\n",
    "#         if 'aiff' not in file:\n",
    "#             continue\n",
    "#         if keep_strong_only and subfolder == 'Faible/':\n",
    "#             continue              \n",
    "#         file_path = dir_path + file\n",
    "#         new_file_path = dir_path_features + file.split('.')[0] + feat_extension\n",
    "        \n",
    "#         if subfolder == '':\n",
    "#           strengths.append('Fort')\n",
    "#         else:\n",
    "#           strengths.append(subfolder.split('/')[0])\n",
    "\n",
    "#         labels.append(emotion_map[folder])\n",
    "#         file_paths.append(file_path)\n",
    "#         new_file_paths.append(new_file_path)\n"
   ]
  },
  {
   "cell_type": "code",
   "execution_count": 94,
   "id": "4fd19ea1",
   "metadata": {},
   "outputs": [],
   "source": [
    "# import random\n",
    "# from tqdm import tqdm\n",
    "# import pandas as pd\n",
    "\n",
    "# def shuffle_lists(list1, list2, list3, list4):\n",
    "#     combined = list(zip(list1, list2, list3, list4))\n",
    "#     random.shuffle(combined)\n",
    "#     return zip(*combined)\n",
    "\n",
    "# file_paths, new_file_paths, labels, strengths = shuffle_lists(file_paths, new_file_paths, labels, strengths)\n",
    "\n",
    "# sessions = []\n",
    "# file_names = []\n",
    "\n",
    "# equal_parts = (len(file_paths)-1)//5 # for equally split the file_paths into 5 parts\n",
    "# count = 0\n",
    "# for i in tqdm(range(len(file_paths))):\n",
    "#     file_path = file_paths[i]\n",
    "#     if \"aiff\" not in file_path:\n",
    "#         continue\n",
    "#     file_name = file_path.split('/')[-1]\n",
    "#     file_names.append(file_name)\n",
    "#     # assign session to it\n",
    "#     part = (count//equal_parts)%6 + 1\n",
    "#     if part == 6:\n",
    "#         part = 5\n",
    "#     sessions.append(part)\n",
    "#     count += 1\n",
    "\n",
    "# file = pd.DataFrame({'path':file_paths, 'feat_path': new_file_paths, 'name': file_names, 'emotion': labels, 'strength': strengths, 'session': sessions})\n",
    "# dataframe_path = main_path + 'session_entries.csv'\n",
    "# file.to_csv(dataframe_path)"
   ]
  },
  {
   "cell_type": "markdown",
   "id": "8a7be560",
   "metadata": {},
   "source": [
    "## Load Data"
   ]
  },
  {
   "cell_type": "code",
   "execution_count": 95,
   "id": "c1ef2595",
   "metadata": {},
   "outputs": [
    {
     "data": {
      "text/html": [
       "<div>\n",
       "<style scoped>\n",
       "    .dataframe tbody tr th:only-of-type {\n",
       "        vertical-align: middle;\n",
       "    }\n",
       "\n",
       "    .dataframe tbody tr th {\n",
       "        vertical-align: top;\n",
       "    }\n",
       "\n",
       "    .dataframe thead th {\n",
       "        text-align: right;\n",
       "    }\n",
       "</style>\n",
       "<table border=\"1\" class=\"dataframe\">\n",
       "  <thead>\n",
       "    <tr style=\"text-align: right;\">\n",
       "      <th></th>\n",
       "      <th>path</th>\n",
       "      <th>feat_path</th>\n",
       "      <th>name</th>\n",
       "      <th>emotion</th>\n",
       "      <th>strength</th>\n",
       "      <th>session</th>\n",
       "    </tr>\n",
       "  </thead>\n",
       "  <tbody>\n",
       "    <tr>\n",
       "      <th>0</th>\n",
       "      <td>/home/wawa_/CaFE/High resolution (192kHz)/Dégo...</td>\n",
       "      <td>/home/wawa_/data/Wav2Vec2Base/Dégoût/Fort/03-D...</td>\n",
       "      <td>03-D-2-2.aiff</td>\n",
       "      <td>disgust</td>\n",
       "      <td>Fort</td>\n",
       "      <td>1</td>\n",
       "    </tr>\n",
       "    <tr>\n",
       "      <th>1</th>\n",
       "      <td>/home/wawa_/CaFE/High resolution (192kHz)/Neut...</td>\n",
       "      <td>/home/wawa_/data/Wav2Vec2Base/Neutre/01-N-3.pt</td>\n",
       "      <td>01-N-3.aiff</td>\n",
       "      <td>neutral</td>\n",
       "      <td>Fort</td>\n",
       "      <td>1</td>\n",
       "    </tr>\n",
       "    <tr>\n",
       "      <th>2</th>\n",
       "      <td>/home/wawa_/CaFE/High resolution (192kHz)/Tris...</td>\n",
       "      <td>/home/wawa_/data/Wav2Vec2Base/Tristesse/Fort/0...</td>\n",
       "      <td>02-T-2-6.aiff</td>\n",
       "      <td>sad</td>\n",
       "      <td>Fort</td>\n",
       "      <td>1</td>\n",
       "    </tr>\n",
       "    <tr>\n",
       "      <th>4</th>\n",
       "      <td>/home/wawa_/CaFE/High resolution (192kHz)/Surp...</td>\n",
       "      <td>/home/wawa_/data/Wav2Vec2Base/Surprise/Fort/08...</td>\n",
       "      <td>08-S-2-6.aiff</td>\n",
       "      <td>surprise</td>\n",
       "      <td>Fort</td>\n",
       "      <td>1</td>\n",
       "    </tr>\n",
       "    <tr>\n",
       "      <th>5</th>\n",
       "      <td>/home/wawa_/CaFE/High resolution (192kHz)/Tris...</td>\n",
       "      <td>/home/wawa_/data/Wav2Vec2Base/Tristesse/Fort/0...</td>\n",
       "      <td>09-T-2-5.aiff</td>\n",
       "      <td>sad</td>\n",
       "      <td>Fort</td>\n",
       "      <td>1</td>\n",
       "    </tr>\n",
       "  </tbody>\n",
       "</table>\n",
       "</div>"
      ],
      "text/plain": [
       "                                                path  \\\n",
       "0  /home/wawa_/CaFE/High resolution (192kHz)/Dégo...   \n",
       "1  /home/wawa_/CaFE/High resolution (192kHz)/Neut...   \n",
       "2  /home/wawa_/CaFE/High resolution (192kHz)/Tris...   \n",
       "4  /home/wawa_/CaFE/High resolution (192kHz)/Surp...   \n",
       "5  /home/wawa_/CaFE/High resolution (192kHz)/Tris...   \n",
       "\n",
       "                                           feat_path           name   emotion  \\\n",
       "0  /home/wawa_/data/Wav2Vec2Base/Dégoût/Fort/03-D...  03-D-2-2.aiff   disgust   \n",
       "1     /home/wawa_/data/Wav2Vec2Base/Neutre/01-N-3.pt    01-N-3.aiff   neutral   \n",
       "2  /home/wawa_/data/Wav2Vec2Base/Tristesse/Fort/0...  02-T-2-6.aiff       sad   \n",
       "4  /home/wawa_/data/Wav2Vec2Base/Surprise/Fort/08...  08-S-2-6.aiff  surprise   \n",
       "5  /home/wawa_/data/Wav2Vec2Base/Tristesse/Fort/0...  09-T-2-5.aiff       sad   \n",
       "\n",
       "  strength  session  \n",
       "0     Fort        1  \n",
       "1     Fort        1  \n",
       "2     Fort        1  \n",
       "4     Fort        1  \n",
       "5     Fort        1  "
      ]
     },
     "execution_count": 95,
     "metadata": {},
     "output_type": "execute_result"
    }
   ],
   "source": [
    "import pandas as pd\n",
    "\n",
    "# Get the entries with assigned session\n",
    "dataframe_path = main_path + 'session_entries.csv'\n",
    "file = pd.read_csv(dataframe_path)[['path', 'feat_path', 'name', 'emotion', 'strength', 'session']]\n",
    "file = file[file['strength'] == 'Fort']\n",
    "\n",
    "\n",
    "\n",
    "# #### If on low_res data:\n",
    "# def fix_path(path):\n",
    "#     path2 = path.split('/')\n",
    "#     if path2[-1][3]=='N':\n",
    "#         path2[-1] = path2[-1][:5] + '1-' + path2[-1][5:]\n",
    "#     return '/'.join(path2)\n",
    "\n",
    "# def fix_name(name):\n",
    "#     if name[3]=='N':\n",
    "#         return name[:5] + '1-' + name[5:]\n",
    "#     else:\n",
    "#         return name\n",
    "\n",
    "# file['path'] = file['path'].map(fix_path)\n",
    "# file['feat_path'] = file['feat_path'].map(fix_path)\n",
    "# file['name'] = file['name'].map(fix_name)\n",
    "\n",
    "\n",
    "#### Corrects path of data:\n",
    "def fix_path(path):\n",
    "    global model_folder\n",
    "    path2 = path.split('/')\n",
    "    path2[4] = model_folder\n",
    "    return '/'.join(path2)\n",
    "\n",
    "file['feat_path'] = file['feat_path'].map(fix_path)\n",
    "\n",
    "file.head()"
   ]
  },
  {
   "attachments": {},
   "cell_type": "markdown",
   "id": "07289a31",
   "metadata": {},
   "source": [
    "# Create Sessions and shuffle data"
   ]
  },
  {
   "cell_type": "code",
   "execution_count": 96,
   "id": "eb4cd78e",
   "metadata": {},
   "outputs": [],
   "source": [
    "train = file[file['session'] != holdout]\n",
    "test = file[file['session'] == holdout]"
   ]
  },
  {
   "cell_type": "code",
   "execution_count": 97,
   "id": "f62bde2d",
   "metadata": {},
   "outputs": [
    {
     "data": {
      "image/png": "[encoded data removed]",
      "text/plain": [
       "<Figure size 640x480 with 1 Axes>"
      ]
     },
     "metadata": {},
     "output_type": "display_data"
    }
   ],
   "source": [
    "import matplotlib.pyplot as plt\n",
    "\n",
    "file[file['session']== holdout]['emotion'].value_counts().plot(kind='bar')\n",
    "\n",
    "\n",
    "os.makedirs(f'images/Session balances/{model_name}/', exist_ok = True) \n",
    "plt.title(f'Class balance for holdout {holdout} on model {model_name}')\n",
    "plt.ylabel('count')\n",
    "plt.savefig(f'images/Session balances/{model_name}/{model_name}_holdout{holdout}.jpg')\n",
    "plt.show()"
   ]
  },
  {
   "cell_type": "code",
   "execution_count": 98,
   "id": "75a75bd9",
   "metadata": {},
   "outputs": [],
   "source": [
    "class MyDataSet(torch.utils.data.Dataset):\n",
    "    def __init__(self, datas, labels, label_transform):\n",
    "        super(MyDataSet).__init__()\n",
    "        self.datas = datas\n",
    "        self.labels = labels\n",
    "        self.label_transform = label_transform\n",
    "        \n",
    "    def __getitem__(self, idx):\n",
    "        audio = self.datas[idx]\n",
    "        label = self.label_transform[self.labels[idx]]\n",
    "        length = audio.size(1)\n",
    "        return audio, length, label\n",
    "    \n",
    "    def __len__(self):\n",
    "        return len(self.labels)"
   ]
  },
  {
   "cell_type": "code",
   "execution_count": 99,
   "id": "141ec40a",
   "metadata": {},
   "outputs": [],
   "source": [
    "def collate_indic(data):\n",
    "    audios, lengths, labels = zip(*data)\n",
    "    max_len = max(lengths)\n",
    "    n_ftrs = audios[0].size(2)\n",
    "    n_dims = audios[0].size(0)\n",
    "    features = torch.zeros((len(audios), n_dims, max_len, n_ftrs))\n",
    "    labels = torch.tensor(labels).to(device)\n",
    "    lengths = torch.tensor(lengths).to(device)\n",
    "\n",
    "    for i in range(len(data)):\n",
    "        j, k = audios[i].size(1), audios[i].size(2)\n",
    "        features[i] = torch.cat([audios[i].to(device), torch.zeros((n_dims, max_len - j, k)).to(device)], dim=1).to(device)\n",
    "\n",
    "    return features, lengths, labels"
   ]
  },
  {
   "cell_type": "code",
   "execution_count": 100,
   "id": "0738ead4",
   "metadata": {},
   "outputs": [
    {
     "data": {
      "text/plain": [
       "{'neutral': 0,\n",
       " 'angry': 1,\n",
       " 'happy': 2,\n",
       " 'sad': 3,\n",
       " 'fear': 4,\n",
       " 'disgust': 5,\n",
       " 'surprise': 6}"
      ]
     },
     "execution_count": 100,
     "metadata": {},
     "output_type": "execute_result"
    }
   ],
   "source": [
    "categories = ['neutral', 'angry', 'happy', 'sad', 'fear', 'disgust', 'surprise']\n",
    "cate_dic = {}\n",
    "for i, cate in enumerate(categories):\n",
    "    cate_dic[cate] = i\n",
    "cate_dic"
   ]
  },
  {
   "cell_type": "markdown",
   "id": "adf4848c",
   "metadata": {},
   "source": [
    "## Train with 3CNN+LSTM"
   ]
  },
  {
   "cell_type": "code",
   "execution_count": 101,
   "id": "2ef1a6ec",
   "metadata": {},
   "outputs": [],
   "source": [
    "import torch.nn as nn\n",
    "import torch.nn.functional as F\n",
    "\n",
    "class ICASSP3CNN(nn.Module):\n",
    "    def __init__(self, vocab_size, dims = 12, embed_size=128, hidden_size=512, num_lstm_layers = 2, bidirectional = False, label_size=7):\n",
    "        super().__init__()\n",
    "        self.n_layers = num_lstm_layers \n",
    "        self.hidden = hidden_size\n",
    "        self.bidirectional = bidirectional\n",
    "        \n",
    "        self.aggr = nn.Conv1d(in_channels=dims, out_channels=1, kernel_size=1)\n",
    "        \n",
    "        self.embed = nn.Linear(in_features = vocab_size, out_features = embed_size)\n",
    "\n",
    "        self.cnn  = nn.Conv1d(embed_size, embed_size, kernel_size=3, padding=1)\n",
    "        self.cnn2 = nn.Conv1d(embed_size, embed_size, kernel_size=5, padding=2)\n",
    "        self.cnn3 = nn.Conv1d(embed_size, embed_size, kernel_size=7, padding=3)\n",
    "\n",
    "        self.batchnorm = nn.BatchNorm1d(3 * embed_size)\n",
    "\n",
    "        self.lstm = nn.LSTM(input_size = 3 * embed_size, \n",
    "                            hidden_size = hidden_size, \n",
    "                            num_layers = num_lstm_layers, \n",
    "                            bidirectional = bidirectional)\n",
    "\n",
    "        self.linear = nn.Linear(in_features = 2 * hidden_size if bidirectional else hidden_size, \n",
    "                                out_features = label_size)\n",
    "\n",
    "\n",
    "    def forward(self, x, lengths):\n",
    "        \"\"\"\n",
    "        padded_x: (B,T) padded LongTensor\n",
    "        \"\"\"\n",
    "        n, d, b, t = x.size(0), x.size(1), x.size(2), x.size(3)\n",
    "        x = torch.flatten(x, start_dim=2)\n",
    "        input = self.aggr(x)\n",
    "        input = torch.reshape(input, (n, b, t))\n",
    "        input = self.embed(input)\n",
    "\n",
    "        batch_size = input.size(0)\n",
    "        input = input.transpose(1,2)    # (B,T,H) -> (B,H,T)\n",
    "\n",
    "        cnn_output = torch.cat([self.cnn(input), self.cnn2(input), self.cnn3(input)], dim=1)\n",
    "\n",
    "        input = F.relu(self.batchnorm(cnn_output))\n",
    "\n",
    "        input = input.transpose(1,2)\n",
    "\n",
    "        pack_tensor = nn.utils.rnn.pack_padded_sequence(input, lengths, batch_first=True, enforce_sorted=False)\n",
    "        _, (hn, cn) = self.lstm(pack_tensor)\n",
    "\n",
    "        if self.bidirectional:\n",
    "            h_n = hn.view(self.n_layers, 2, batch_size, self.hidden)\n",
    "            h_n = torch.cat([ h_n[-1, 0,:], h_n[-1,1,:] ], dim = 1)\n",
    "        else:\n",
    "            h_n = hn[-1]\n",
    "\n",
    "        logits = self.linear(h_n)\n",
    "\n",
    "        return logits"
   ]
  },
  {
   "cell_type": "markdown",
   "id": "21a7d392",
   "metadata": {},
   "source": [
    "### Model Traning on each layer "
   ]
  },
  {
   "cell_type": "code",
   "execution_count": 102,
   "id": "01d051d0",
   "metadata": {},
   "outputs": [
    {
     "name": "stderr",
     "output_type": "stream",
     "text": [
      "392it [00:01, 222.73it/s]\n"
     ]
    }
   ],
   "source": [
    "from tqdm import tqdm\n",
    "from torch.utils.data import DataLoader\n",
    "\n",
    "traindata = []\n",
    "for _, row in tqdm(train.iterrows()):\n",
    "    traindata.append(torch.load(row['feat_path']).to(device))"
   ]
  },
  {
   "cell_type": "code",
   "execution_count": 103,
   "id": "57b10d98",
   "metadata": {},
   "outputs": [],
   "source": [
    "train_dataset = MyDataSet(traindata, train['emotion'].tolist(), cate_dic)\n",
    "trainloader_args = dict(batch_size=16, shuffle=True)\n",
    "train_dataloader = DataLoader(train_dataset, **trainloader_args, \n",
    "                              collate_fn=collate_indic)"
   ]
  },
  {
   "cell_type": "code",
   "execution_count": 104,
   "id": "e6942285",
   "metadata": {},
   "outputs": [],
   "source": [
    "from tqdm import tqdm\n",
    "from torchsummary import summary\n",
    "import torch.optim as optim\n",
    "\n",
    "model = ICASSP3CNN(768, dims = 12)\n",
    "model = model.to(device)\n",
    "criterion = nn.CrossEntropyLoss()\n",
    "optimizer = optim.Adam(model.parameters(), lr=0.001)"
   ]
  },
  {
   "cell_type": "code",
   "execution_count": 105,
   "id": "75762bdc",
   "metadata": {},
   "outputs": [
    {
     "name": "stderr",
     "output_type": "stream",
     "text": [
      "  2%|▏         | 1/50 [00:04<03:30,  4.31s/it]"
     ]
    },
    {
     "name": "stdout",
     "output_type": "stream",
     "text": [
      "epoch:1, train accu:0.2347, train loss:1.88\n"
     ]
    },
    {
     "name": "stderr",
     "output_type": "stream",
     "text": [
      "  4%|▍         | 2/50 [00:09<03:41,  4.60s/it]"
     ]
    },
    {
     "name": "stdout",
     "output_type": "stream",
     "text": [
      "epoch:2, train accu:0.3750, train loss:1.58\n"
     ]
    },
    {
     "name": "stderr",
     "output_type": "stream",
     "text": [
      "  6%|▌         | 3/50 [00:13<03:35,  4.59s/it]"
     ]
    },
    {
     "name": "stdout",
     "output_type": "stream",
     "text": [
      "epoch:3, train accu:0.4260, train loss:1.44\n"
     ]
    },
    {
     "name": "stderr",
     "output_type": "stream",
     "text": [
      "  8%|▊         | 4/50 [00:17<03:25,  4.46s/it]"
     ]
    },
    {
     "name": "stdout",
     "output_type": "stream",
     "text": [
      "epoch:4, train accu:0.5051, train loss:1.19\n"
     ]
    },
    {
     "name": "stderr",
     "output_type": "stream",
     "text": [
      " 10%|█         | 5/50 [00:22<03:16,  4.37s/it]"
     ]
    },
    {
     "name": "stdout",
     "output_type": "stream",
     "text": [
      "epoch:5, train accu:0.5969, train loss:1.14\n"
     ]
    },
    {
     "name": "stderr",
     "output_type": "stream",
     "text": [
      " 12%|█▏        | 6/50 [00:26<03:09,  4.31s/it]"
     ]
    },
    {
     "name": "stdout",
     "output_type": "stream",
     "text": [
      "epoch:6, train accu:0.5459, train loss:1.18\n"
     ]
    },
    {
     "name": "stderr",
     "output_type": "stream",
     "text": [
      " 14%|█▍        | 7/50 [00:30<03:04,  4.29s/it]"
     ]
    },
    {
     "name": "stdout",
     "output_type": "stream",
     "text": [
      "epoch:7, train accu:0.6352, train loss:0.94\n"
     ]
    },
    {
     "name": "stderr",
     "output_type": "stream",
     "text": [
      " 16%|█▌        | 8/50 [00:34<02:59,  4.27s/it]"
     ]
    },
    {
     "name": "stdout",
     "output_type": "stream",
     "text": [
      "epoch:8, train accu:0.7219, train loss:0.75\n"
     ]
    },
    {
     "name": "stderr",
     "output_type": "stream",
     "text": [
      " 18%|█▊        | 9/50 [00:39<02:55,  4.28s/it]"
     ]
    },
    {
     "name": "stdout",
     "output_type": "stream",
     "text": [
      "epoch:9, train accu:0.7730, train loss:0.58\n"
     ]
    },
    {
     "name": "stderr",
     "output_type": "stream",
     "text": [
      " 20%|██        | 10/50 [00:43<02:50,  4.27s/it]"
     ]
    },
    {
     "name": "stdout",
     "output_type": "stream",
     "text": [
      "epoch:10, train accu:0.7628, train loss:0.60\n"
     ]
    },
    {
     "name": "stderr",
     "output_type": "stream",
     "text": [
      " 22%|██▏       | 11/50 [00:47<02:46,  4.26s/it]"
     ]
    },
    {
     "name": "stdout",
     "output_type": "stream",
     "text": [
      "epoch:11, train accu:0.8138, train loss:0.62\n"
     ]
    },
    {
     "name": "stderr",
     "output_type": "stream",
     "text": [
      " 24%|██▍       | 12/50 [00:51<02:41,  4.26s/it]"
     ]
    },
    {
     "name": "stdout",
     "output_type": "stream",
     "text": [
      "epoch:12, train accu:0.8597, train loss:0.46\n"
     ]
    },
    {
     "name": "stderr",
     "output_type": "stream",
     "text": [
      " 26%|██▌       | 13/50 [00:56<02:37,  4.25s/it]"
     ]
    },
    {
     "name": "stdout",
     "output_type": "stream",
     "text": [
      "epoch:13, train accu:0.8673, train loss:0.41\n"
     ]
    },
    {
     "name": "stderr",
     "output_type": "stream",
     "text": [
      " 28%|██▊       | 14/50 [01:00<02:33,  4.26s/it]"
     ]
    },
    {
     "name": "stdout",
     "output_type": "stream",
     "text": [
      "epoch:14, train accu:0.8163, train loss:0.56\n"
     ]
    },
    {
     "name": "stderr",
     "output_type": "stream",
     "text": [
      " 30%|███       | 15/50 [01:04<02:28,  4.25s/it]"
     ]
    },
    {
     "name": "stdout",
     "output_type": "stream",
     "text": [
      "epoch:15, train accu:0.8878, train loss:0.33\n"
     ]
    },
    {
     "name": "stderr",
     "output_type": "stream",
     "text": [
      " 32%|███▏      | 16/50 [01:09<02:27,  4.35s/it]"
     ]
    },
    {
     "name": "stdout",
     "output_type": "stream",
     "text": [
      "epoch:16, train accu:0.8980, train loss:0.29\n"
     ]
    },
    {
     "name": "stderr",
     "output_type": "stream",
     "text": [
      " 34%|███▍      | 17/50 [01:13<02:25,  4.41s/it]"
     ]
    },
    {
     "name": "stdout",
     "output_type": "stream",
     "text": [
      "epoch:17, train accu:0.8929, train loss:0.30\n"
     ]
    },
    {
     "name": "stderr",
     "output_type": "stream",
     "text": [
      " 36%|███▌      | 18/50 [01:18<02:19,  4.37s/it]"
     ]
    },
    {
     "name": "stdout",
     "output_type": "stream",
     "text": [
      "epoch:18, train accu:0.9592, train loss:0.17\n"
     ]
    },
    {
     "name": "stderr",
     "output_type": "stream",
     "text": [
      " 38%|███▊      | 19/50 [01:22<02:14,  4.33s/it]"
     ]
    },
    {
     "name": "stdout",
     "output_type": "stream",
     "text": [
      "epoch:19, train accu:0.9056, train loss:0.26\n"
     ]
    },
    {
     "name": "stderr",
     "output_type": "stream",
     "text": [
      " 40%|████      | 20/50 [01:26<02:09,  4.30s/it]"
     ]
    },
    {
     "name": "stdout",
     "output_type": "stream",
     "text": [
      "epoch:20, train accu:0.9337, train loss:0.19\n"
     ]
    },
    {
     "name": "stderr",
     "output_type": "stream",
     "text": [
      " 42%|████▏     | 21/50 [01:30<02:04,  4.29s/it]"
     ]
    },
    {
     "name": "stdout",
     "output_type": "stream",
     "text": [
      "epoch:21, train accu:0.9770, train loss:0.07\n"
     ]
    },
    {
     "name": "stderr",
     "output_type": "stream",
     "text": [
      " 44%|████▍     | 22/50 [01:35<01:59,  4.28s/it]"
     ]
    },
    {
     "name": "stdout",
     "output_type": "stream",
     "text": [
      "epoch:22, train accu:0.9668, train loss:0.13\n"
     ]
    },
    {
     "name": "stderr",
     "output_type": "stream",
     "text": [
      " 46%|████▌     | 23/50 [01:39<01:55,  4.29s/it]"
     ]
    },
    {
     "name": "stdout",
     "output_type": "stream",
     "text": [
      "epoch:23, train accu:0.9643, train loss:0.12\n"
     ]
    },
    {
     "name": "stderr",
     "output_type": "stream",
     "text": [
      " 48%|████▊     | 24/50 [01:43<01:50,  4.26s/it]"
     ]
    },
    {
     "name": "stdout",
     "output_type": "stream",
     "text": [
      "epoch:24, train accu:0.9515, train loss:0.13\n"
     ]
    },
    {
     "name": "stderr",
     "output_type": "stream",
     "text": [
      " 50%|█████     | 25/50 [01:47<01:46,  4.27s/it]"
     ]
    },
    {
     "name": "stdout",
     "output_type": "stream",
     "text": [
      "epoch:25, train accu:0.9694, train loss:0.10\n"
     ]
    },
    {
     "name": "stderr",
     "output_type": "stream",
     "text": [
      " 52%|█████▏    | 26/50 [01:52<01:42,  4.25s/it]"
     ]
    },
    {
     "name": "stdout",
     "output_type": "stream",
     "text": [
      "epoch:26, train accu:0.9898, train loss:0.03\n"
     ]
    },
    {
     "name": "stderr",
     "output_type": "stream",
     "text": [
      " 54%|█████▍    | 27/50 [01:56<01:37,  4.26s/it]"
     ]
    },
    {
     "name": "stdout",
     "output_type": "stream",
     "text": [
      "epoch:27, train accu:0.9974, train loss:0.01\n"
     ]
    },
    {
     "name": "stderr",
     "output_type": "stream",
     "text": [
      " 56%|█████▌    | 28/50 [02:00<01:33,  4.26s/it]"
     ]
    },
    {
     "name": "stdout",
     "output_type": "stream",
     "text": [
      "epoch:28, train accu:0.9847, train loss:0.07\n"
     ]
    },
    {
     "name": "stderr",
     "output_type": "stream",
     "text": [
      " 58%|█████▊    | 29/50 [02:04<01:29,  4.28s/it]"
     ]
    },
    {
     "name": "stdout",
     "output_type": "stream",
     "text": [
      "epoch:29, train accu:0.9694, train loss:0.11\n"
     ]
    },
    {
     "name": "stderr",
     "output_type": "stream",
     "text": [
      " 60%|██████    | 30/50 [02:09<01:28,  4.45s/it]"
     ]
    },
    {
     "name": "stdout",
     "output_type": "stream",
     "text": [
      "epoch:30, train accu:0.9566, train loss:0.15\n"
     ]
    },
    {
     "name": "stderr",
     "output_type": "stream",
     "text": [
      " 62%|██████▏   | 31/50 [02:14<01:24,  4.45s/it]"
     ]
    },
    {
     "name": "stdout",
     "output_type": "stream",
     "text": [
      "epoch:31, train accu:0.9694, train loss:0.14\n"
     ]
    },
    {
     "name": "stderr",
     "output_type": "stream",
     "text": [
      " 64%|██████▍   | 32/50 [02:18<01:19,  4.40s/it]"
     ]
    },
    {
     "name": "stdout",
     "output_type": "stream",
     "text": [
      "epoch:32, train accu:0.9694, train loss:0.08\n"
     ]
    },
    {
     "name": "stderr",
     "output_type": "stream",
     "text": [
      " 66%|██████▌   | 33/50 [02:22<01:13,  4.34s/it]"
     ]
    },
    {
     "name": "stdout",
     "output_type": "stream",
     "text": [
      "epoch:33, train accu:0.9745, train loss:0.07\n"
     ]
    },
    {
     "name": "stderr",
     "output_type": "stream",
     "text": [
      " 68%|██████▊   | 34/50 [02:26<01:08,  4.30s/it]"
     ]
    },
    {
     "name": "stdout",
     "output_type": "stream",
     "text": [
      "epoch:34, train accu:0.9694, train loss:0.09\n"
     ]
    },
    {
     "name": "stderr",
     "output_type": "stream",
     "text": [
      " 70%|███████   | 35/50 [02:31<01:04,  4.28s/it]"
     ]
    },
    {
     "name": "stdout",
     "output_type": "stream",
     "text": [
      "epoch:35, train accu:0.9362, train loss:0.23\n"
     ]
    },
    {
     "name": "stderr",
     "output_type": "stream",
     "text": [
      " 72%|███████▏  | 36/50 [02:35<00:59,  4.25s/it]"
     ]
    },
    {
     "name": "stdout",
     "output_type": "stream",
     "text": [
      "epoch:36, train accu:0.9643, train loss:0.11\n"
     ]
    },
    {
     "name": "stderr",
     "output_type": "stream",
     "text": [
      " 74%|███████▍  | 37/50 [02:39<00:55,  4.25s/it]"
     ]
    },
    {
     "name": "stdout",
     "output_type": "stream",
     "text": [
      "epoch:37, train accu:0.9898, train loss:0.05\n"
     ]
    },
    {
     "name": "stderr",
     "output_type": "stream",
     "text": [
      " 76%|███████▌  | 38/50 [02:43<00:51,  4.27s/it]"
     ]
    },
    {
     "name": "stdout",
     "output_type": "stream",
     "text": [
      "epoch:38, train accu:0.9847, train loss:0.05\n"
     ]
    },
    {
     "name": "stderr",
     "output_type": "stream",
     "text": [
      " 78%|███████▊  | 39/50 [02:48<00:46,  4.27s/it]"
     ]
    },
    {
     "name": "stdout",
     "output_type": "stream",
     "text": [
      "epoch:39, train accu:0.9745, train loss:0.08\n"
     ]
    },
    {
     "name": "stderr",
     "output_type": "stream",
     "text": [
      " 80%|████████  | 40/50 [02:52<00:42,  4.26s/it]"
     ]
    },
    {
     "name": "stdout",
     "output_type": "stream",
     "text": [
      "epoch:40, train accu:0.9872, train loss:0.05\n"
     ]
    },
    {
     "name": "stderr",
     "output_type": "stream",
     "text": [
      " 82%|████████▏ | 41/50 [02:56<00:38,  4.25s/it]"
     ]
    },
    {
     "name": "stdout",
     "output_type": "stream",
     "text": [
      "epoch:41, train accu:0.9949, train loss:0.02\n"
     ]
    },
    {
     "name": "stderr",
     "output_type": "stream",
     "text": [
      " 84%|████████▍ | 42/50 [03:00<00:34,  4.26s/it]"
     ]
    },
    {
     "name": "stdout",
     "output_type": "stream",
     "text": [
      "epoch:42, train accu:0.9974, train loss:0.01\n"
     ]
    },
    {
     "name": "stderr",
     "output_type": "stream",
     "text": [
      " 86%|████████▌ | 43/50 [03:05<00:29,  4.25s/it]"
     ]
    },
    {
     "name": "stdout",
     "output_type": "stream",
     "text": [
      "epoch:43, train accu:1.0000, train loss:0.00\n"
     ]
    },
    {
     "name": "stderr",
     "output_type": "stream",
     "text": [
      " 88%|████████▊ | 44/50 [03:10<00:26,  4.45s/it]"
     ]
    },
    {
     "name": "stdout",
     "output_type": "stream",
     "text": [
      "epoch:44, train accu:1.0000, train loss:0.00\n"
     ]
    },
    {
     "name": "stderr",
     "output_type": "stream",
     "text": [
      " 90%|█████████ | 45/50 [03:14<00:22,  4.42s/it]"
     ]
    },
    {
     "name": "stdout",
     "output_type": "stream",
     "text": [
      "epoch:45, train accu:0.9949, train loss:0.02\n"
     ]
    },
    {
     "name": "stderr",
     "output_type": "stream",
     "text": [
      " 92%|█████████▏| 46/50 [03:18<00:17,  4.38s/it]"
     ]
    },
    {
     "name": "stdout",
     "output_type": "stream",
     "text": [
      "epoch:46, train accu:1.0000, train loss:0.00\n"
     ]
    },
    {
     "name": "stderr",
     "output_type": "stream",
     "text": [
      " 94%|█████████▍| 47/50 [03:22<00:12,  4.33s/it]"
     ]
    },
    {
     "name": "stdout",
     "output_type": "stream",
     "text": [
      "epoch:47, train accu:1.0000, train loss:0.00\n"
     ]
    },
    {
     "name": "stderr",
     "output_type": "stream",
     "text": [
      " 96%|█████████▌| 48/50 [03:27<00:08,  4.32s/it]"
     ]
    },
    {
     "name": "stdout",
     "output_type": "stream",
     "text": [
      "epoch:48, train accu:0.9923, train loss:0.02\n"
     ]
    },
    {
     "name": "stderr",
     "output_type": "stream",
     "text": [
      " 98%|█████████▊| 49/50 [03:31<00:04,  4.30s/it]"
     ]
    },
    {
     "name": "stdout",
     "output_type": "stream",
     "text": [
      "epoch:49, train accu:0.9643, train loss:0.12\n"
     ]
    },
    {
     "name": "stderr",
     "output_type": "stream",
     "text": [
      "100%|██████████| 50/50 [03:35<00:00,  4.31s/it]"
     ]
    },
    {
     "name": "stdout",
     "output_type": "stream",
     "text": [
      "epoch:50, train accu:0.9694, train loss:0.09\n"
     ]
    },
    {
     "name": "stderr",
     "output_type": "stream",
     "text": [
      "\n"
     ]
    }
   ],
   "source": [
    "epochs = 50\n",
    "train_losses = []\n",
    "train_accuracies = []\n",
    "valid_losses = []\n",
    "valid_accuracies = []\n",
    "\n",
    "for epoch in tqdm(range(epochs)):\n",
    "    train_loss = 0\n",
    "    acc_cnt = 0\n",
    "    err_cnt = 0\n",
    "    batch_cnt = 0\n",
    "    model.train()\n",
    "    for batch, (x, length, y) in enumerate(train_dataloader):\n",
    "        x = x.to(device)\n",
    "        y = y.to(device)\n",
    "        length = length.cpu()\n",
    "        optimizer.zero_grad()\n",
    "        logits = model(x, length)\n",
    "        loss = criterion(logits, y)\n",
    "        loss.backward()\n",
    "        optimizer.step()\n",
    "        train_loss += loss.cpu().item()\n",
    "\n",
    "        #model outputs\n",
    "        out_val, out_indices = torch.max(logits, dim=1)\n",
    "        tar_indices = y\n",
    "\n",
    "        for i in range(len(out_indices)):\n",
    "            if out_indices[i] == tar_indices[i]:\n",
    "                acc_cnt += 1\n",
    "            else:\n",
    "                err_cnt += 1\n",
    "        batch_cnt += 1\n",
    "    \n",
    "    train_loss = train_loss/batch_cnt\n",
    "    train_accuracy = acc_cnt/(acc_cnt+err_cnt)\n",
    "    train_accuracies.append(train_accuracy)\n",
    "    train_losses.append(train_loss)\n",
    "    \n",
    "    print(f\"epoch:{epoch+1}, train accu:{train_accuracy:.4f},\", f\"train loss:{train_loss:.2f}\")"
   ]
  },
  {
   "cell_type": "markdown",
   "id": "42092bf7",
   "metadata": {},
   "source": [
    "## Model Test"
   ]
  },
  {
   "cell_type": "code",
   "execution_count": 106,
   "id": "85045cb4",
   "metadata": {},
   "outputs": [],
   "source": [
    "#Let's free memory, else we will overflow our 16GB Memory GPU\n",
    "del traindata\n",
    "del train_dataset\n",
    "del trainloader_args\n",
    "del train_dataloader\n",
    "\n",
    "torch.cuda.empty_cache()"
   ]
  },
  {
   "cell_type": "code",
   "execution_count": 107,
   "id": "3c5c9897",
   "metadata": {},
   "outputs": [
    {
     "name": "stderr",
     "output_type": "stream",
     "text": [
      "112it [00:00, 236.85it/s]\n"
     ]
    }
   ],
   "source": [
    "from tqdm import tqdm\n",
    "\n",
    "testdata = []\n",
    "for _, row in tqdm(test.iterrows()):\n",
    "    testdata.append(torch.load(row['feat_path']).to(device))\n",
    "    \n",
    "test_dataset = MyDataSet(testdata, test['emotion'].tolist(), cate_dic)\n",
    "testloader_args = dict(batch_size=1, shuffle=True)\n",
    "test_dataloader = DataLoader(test_dataset, **testloader_args, \n",
    "                             collate_fn=collate_indic)"
   ]
  },
  {
   "cell_type": "code",
   "execution_count": 108,
   "id": "3120f8d4",
   "metadata": {},
   "outputs": [
    {
     "name": "stdout",
     "output_type": "stream",
     "text": [
      "test accuracy: 0.5803571428571429\n"
     ]
    }
   ],
   "source": [
    "test_loss = 0\n",
    "acc_cnt = 0\n",
    "err_cnt = 0\n",
    "batch_cnt = 0\n",
    "model.eval()\n",
    "\n",
    "for x, lengths, y in test_dataloader:\n",
    "\n",
    "    x = x.to(device)\n",
    "    y = y.to(device)\n",
    "\n",
    "    lengths = lengths.cpu()\n",
    "    logits = model(x, lengths)\n",
    "    loss = criterion(logits, y)\n",
    "    test_loss += loss.cpu().item()\n",
    "\n",
    "    out_val, out_indices = torch.max(logits, dim=1)\n",
    "    tar_indices = y\n",
    "\n",
    "    for i in range(len(out_indices)):\n",
    "        if out_indices[i] == tar_indices[i]:\n",
    "            acc_cnt += 1\n",
    "        else:\n",
    "            err_cnt += 1\n",
    "    batch_cnt += 1\n",
    "\n",
    "test_loss = test_loss/batch_cnt\n",
    "test_accuracy = acc_cnt/(acc_cnt+err_cnt)\n",
    "print(f'test accuracy: {test_accuracy}')"
   ]
  },
  {
   "cell_type": "code",
   "execution_count": 109,
   "id": "80de6d2e",
   "metadata": {},
   "outputs": [
    {
     "name": "stdout",
     "output_type": "stream",
     "text": [
      "Got 65 / 112 with accuracy 58.04\n",
      "Confusion matrix for Wav2Vec 2.0:\n"
     ]
    },
    {
     "data": {
      "image/png": "[encoded data removed]",
      "text/plain": [
       "<Figure size 640x480 with 2 Axes>"
      ]
     },
     "metadata": {},
     "output_type": "display_data"
    }
   ],
   "source": [
    "#Confusion Matrix\n",
    "from sklearn.metrics import confusion_matrix, ConfusionMatrixDisplay\n",
    "import matplotlib.pyplot as plt\n",
    "\n",
    "def check_accuracy(loader, model):\n",
    "    num_correct = 0\n",
    "    num_samples = 0\n",
    "    model.eval()\n",
    "    y_preds_list = []\n",
    "    y_list = []\n",
    "    \n",
    "    with torch.no_grad():\n",
    "        for batch, (x, length, y) in enumerate(loader):\n",
    "            x = x.to(device=device)\n",
    "            y = y.to(device=device)\n",
    "            y_list.extend(y.tolist())\n",
    "            length = length.to('cpu')\n",
    "            \n",
    "            scores = model(x, length)\n",
    "            _, predictions = scores.max(1)\n",
    "            y_preds_list.extend(predictions.tolist())\n",
    "            num_correct += (predictions == y).sum()\n",
    "            num_samples += predictions.size(0)\n",
    "        \n",
    "        print(f'Got {num_correct} / {num_samples} with accuracy {float(num_correct)/float(num_samples)*100:.2f}') \n",
    "    \n",
    "    model.train()\n",
    "    return y_preds_list, y_list, round(float(num_correct)/float(num_samples)*100, 1)\n",
    "    \n",
    "y_preds_list, y_list, accur = check_accuracy(test_dataloader, model)\n",
    "\n",
    "print(f'Confusion matrix for Wav2Vec 2.0:')\n",
    "disp = ConfusionMatrixDisplay(confusion_matrix(y_list, y_preds_list, normalize='true'), display_labels=['neutral', 'angry', 'happy', 'sad', 'fear', 'disgust', 'surprise'])\n",
    "\n",
    "disp.plot()\n",
    "plt.title(f'Confusion matrix for {model_name} on holdout {holdout}.')\n",
    "\n",
    "\n",
    "os.makedirs(f'images/Confusion Matrices/{model_name}/', exist_ok = True) \n",
    "\n",
    "\n",
    "plt.savefig(f'images/Confusion Matrices/{model_name}/{model_name}_CM_holdout{holdout}.png')\n",
    "plt.show()"
   ]
  },
  {
   "cell_type": "code",
   "execution_count": 110,
   "id": "997c700b",
   "metadata": {},
   "outputs": [
    {
     "name": "stdout",
     "output_type": "stream",
     "text": [
      "aggr.weight tensor([[[-0.1856],\n",
      "         [ 0.1059],\n",
      "         [-0.1469],\n",
      "         [ 0.2933],\n",
      "         [ 0.0733],\n",
      "         [-0.3121],\n",
      "         [ 0.2297],\n",
      "         [-0.0248],\n",
      "         [ 0.1724],\n",
      "         [-0.1135],\n",
      "         [ 0.2149],\n",
      "         [-0.2386]]], device='cuda:0')\n",
      "aggr.bias tensor([-0.0433], device='cuda:0')\n",
      "embed.weight tensor([[ 0.0159,  0.0200,  0.0880,  ..., -0.0390, -0.0197, -0.0067],\n",
      "        [ 0.0671,  0.0190,  0.0455,  ...,  0.1021,  0.0724, -0.0381],\n",
      "        [-0.0216,  0.0189, -0.0523,  ..., -0.0237, -0.0120, -0.0450],\n",
      "        ...,\n",
      "        [-0.1238, -0.0009,  0.0667,  ..., -0.0115, -0.0556,  0.0209],\n",
      "        [-0.0798,  0.0236,  0.0505,  ..., -0.0134,  0.0537,  0.0397],\n",
      "        [ 0.0151,  0.0519,  0.0763,  ...,  0.0210, -0.0375, -0.0463]],\n",
      "       device='cuda:0')\n",
      "embed.bias tensor([-0.0214,  0.0033,  0.0141, -0.0107,  0.0077,  0.0866, -0.0020, -0.0454,\n",
      "         0.0182,  0.0467,  0.0080, -0.0094,  0.0091,  0.0303, -0.0126,  0.0719,\n",
      "         0.0144,  0.0239, -0.0021, -0.0011,  0.0073,  0.0295, -0.0393, -0.0203,\n",
      "        -0.0169,  0.0229,  0.0334,  0.0502,  0.0356,  0.0314,  0.0515, -0.0060,\n",
      "        -0.0290, -0.0361,  0.0558, -0.0176,  0.0615, -0.0428, -0.0205, -0.0329,\n",
      "         0.0153, -0.0066, -0.0695, -0.0080,  0.0002,  0.0155, -0.0467,  0.0322,\n",
      "        -0.0032,  0.0471,  0.0221, -0.0242, -0.0164,  0.0167, -0.0076, -0.0225,\n",
      "        -0.0144, -0.0150, -0.0042,  0.0398, -0.0427, -0.0022,  0.0130,  0.0442,\n",
      "        -0.0265, -0.0370,  0.0251,  0.0186,  0.0103, -0.0569,  0.0682, -0.0021,\n",
      "        -0.0071,  0.0002,  0.0443, -0.0318,  0.0403,  0.0242,  0.0043,  0.0346,\n",
      "         0.0467, -0.0499,  0.0581, -0.0192,  0.0056,  0.0016,  0.0150,  0.0173,\n",
      "        -0.0648,  0.0039, -0.0028, -0.0095,  0.0215, -0.0112, -0.0273,  0.0383,\n",
      "         0.0258,  0.0265,  0.0776, -0.0242,  0.0163,  0.0432,  0.0592, -0.0098,\n",
      "        -0.0409,  0.0254, -0.0535,  0.0285, -0.0023,  0.0539, -0.0183, -0.0248,\n",
      "        -0.0333,  0.0068, -0.0568, -0.0681, -0.0360,  0.0174,  0.0429, -0.0419,\n",
      "        -0.0432, -0.0731, -0.0298,  0.0284,  0.0245, -0.0365, -0.0151, -0.0292],\n",
      "       device='cuda:0')\n",
      "cnn.weight tensor([[[ 4.2915e-02,  5.3506e-02, -4.4712e-02],\n",
      "         [-6.6497e-02, -4.9187e-02, -1.7089e-02],\n",
      "         [ 2.1035e-02,  4.1992e-02,  5.1914e-02],\n",
      "         ...,\n",
      "         [-4.7410e-02, -5.6575e-02, -5.3552e-02],\n",
      "         [ 4.6342e-02,  2.1664e-02,  3.4264e-02],\n",
      "         [-5.1502e-02,  1.4242e-02, -5.8077e-02]],\n",
      "\n",
      "        [[ 6.2459e-02,  3.4362e-02,  4.6113e-02],\n",
      "         [ 2.8997e-02, -2.4340e-02, -1.7022e-02],\n",
      "         [ 5.7823e-02,  7.2895e-02, -1.1606e-03],\n",
      "         ...,\n",
      "         [ 4.7360e-02,  4.0694e-02, -4.3273e-02],\n",
      "         [-2.7889e-02, -3.6857e-03,  2.5974e-02],\n",
      "         [-1.9725e-02, -2.1841e-02,  1.0202e-02]],\n",
      "\n",
      "        [[-1.4512e-02,  5.7935e-02,  2.6347e-02],\n",
      "         [ 2.7812e-02, -4.0343e-02, -4.5197e-02],\n",
      "         [ 1.1506e-02,  1.4630e-02, -1.1924e-02],\n",
      "         ...,\n",
      "         [ 2.7422e-02,  7.4993e-02, -1.6014e-02],\n",
      "         [ 4.1478e-02,  4.0545e-02,  3.4388e-02],\n",
      "         [-3.4956e-02, -2.3902e-03, -3.8216e-02]],\n",
      "\n",
      "        ...,\n",
      "\n",
      "        [[ 7.0745e-05,  2.6561e-02, -2.9246e-02],\n",
      "         [-1.4929e-02,  2.2185e-02, -5.6830e-02],\n",
      "         [ 1.0452e-02, -3.5812e-02,  2.7758e-02],\n",
      "         ...,\n",
      "         [ 6.0630e-03,  3.6692e-02, -3.2336e-02],\n",
      "         [ 1.0020e-04, -4.1706e-02,  7.9718e-03],\n",
      "         [ 4.6123e-02,  3.7828e-02, -5.1607e-02]],\n",
      "\n",
      "        [[ 1.1561e-02,  4.6267e-02,  3.8751e-02],\n",
      "         [ 7.7584e-03,  1.3821e-02,  4.1234e-02],\n",
      "         [-6.7386e-02, -1.0538e-02, -3.5287e-02],\n",
      "         ...,\n",
      "         [ 3.7923e-02,  5.1039e-02,  3.9113e-02],\n",
      "         [-3.5596e-02,  1.9316e-02, -5.4715e-02],\n",
      "         [ 2.9137e-02,  5.2501e-02,  6.9116e-02]],\n",
      "\n",
      "        [[ 1.1040e-02,  2.6428e-02, -7.0160e-03],\n",
      "         [ 6.2334e-02,  6.6202e-02,  1.7471e-02],\n",
      "         [-3.6540e-02, -2.3680e-02, -6.1445e-02],\n",
      "         ...,\n",
      "         [ 1.5285e-02, -5.3079e-03,  6.4388e-02],\n",
      "         [ 2.0489e-02, -9.0753e-03, -4.3760e-03],\n",
      "         [ 2.0237e-02,  2.3073e-02, -1.9593e-02]]], device='cuda:0')\n",
      "cnn.bias tensor([ 0.0140,  0.0235,  0.0372, -0.0227,  0.0430,  0.0144,  0.0446, -0.0674,\n",
      "        -0.0252, -0.0044,  0.0092, -0.0041, -0.0204,  0.0243,  0.0207,  0.0248,\n",
      "         0.0156,  0.0539, -0.0407, -0.0351,  0.0323, -0.0154,  0.0257,  0.0215,\n",
      "         0.0110, -0.0390, -0.0063, -0.0282,  0.0429, -0.0347,  0.0348,  0.0011,\n",
      "        -0.0123, -0.0292, -0.0070, -0.0334,  0.0104,  0.0072,  0.0201,  0.0584,\n",
      "         0.0294, -0.0218, -0.0367, -0.0360,  0.0434,  0.0091, -0.0557, -0.0466,\n",
      "        -0.0018,  0.0140, -0.0572, -0.0558,  0.0315, -0.0459,  0.0074,  0.0328,\n",
      "         0.0296,  0.0294,  0.0074, -0.0122,  0.0281,  0.0424, -0.0342, -0.0439,\n",
      "        -0.0172, -0.0066,  0.0354, -0.0467,  0.0401,  0.0384, -0.0516, -0.0057,\n",
      "        -0.0070, -0.0014,  0.0075, -0.0561, -0.0482,  0.0185,  0.0257,  0.0394,\n",
      "        -0.0088,  0.0149, -0.0547,  0.0458,  0.0322,  0.0113, -0.0273,  0.0262,\n",
      "        -0.0023,  0.0454, -0.0313, -0.0010,  0.0287,  0.0184, -0.0053, -0.0113,\n",
      "         0.0429, -0.0399,  0.0100, -0.0358, -0.0343, -0.0288, -0.0145,  0.0133,\n",
      "         0.0044, -0.0167, -0.0320, -0.0228, -0.0353, -0.0487, -0.0317,  0.0393,\n",
      "        -0.0191,  0.0181, -0.0243,  0.0436,  0.0426, -0.0025,  0.0337,  0.0008,\n",
      "         0.0019, -0.0459,  0.0289, -0.0620,  0.0255,  0.0107,  0.0211, -0.0394],\n",
      "       device='cuda:0')\n",
      "cnn2.weight tensor([[[ 0.0443,  0.0483,  0.0082, -0.0311,  0.0202],\n",
      "         [ 0.0348, -0.0426, -0.0027, -0.0091, -0.0484],\n",
      "         [-0.0009,  0.0408,  0.0466, -0.0195,  0.0092],\n",
      "         ...,\n",
      "         [ 0.0082,  0.0277, -0.0035, -0.0125, -0.0076],\n",
      "         [-0.0086,  0.0182,  0.0253,  0.0336,  0.0134],\n",
      "         [ 0.0033, -0.0137,  0.0103, -0.0228,  0.0158]],\n",
      "\n",
      "        [[ 0.0425,  0.0217,  0.0208, -0.0233,  0.0114],\n",
      "         [ 0.0341,  0.0432, -0.0118,  0.0332,  0.0329],\n",
      "         [ 0.0529,  0.0054, -0.0093, -0.0124,  0.0168],\n",
      "         ...,\n",
      "         [ 0.0481,  0.0034,  0.0635,  0.0488, -0.0172],\n",
      "         [-0.0260, -0.0056, -0.0010,  0.0118, -0.0169],\n",
      "         [ 0.0571,  0.0155,  0.0810, -0.0084,  0.0547]],\n",
      "\n",
      "        [[ 0.0414, -0.0161,  0.0075,  0.0431, -0.0047],\n",
      "         [-0.0275,  0.0327, -0.0622, -0.0139, -0.0033],\n",
      "         [ 0.0537,  0.0322,  0.0176,  0.0313,  0.0147],\n",
      "         ...,\n",
      "         [ 0.0234,  0.0357,  0.0534,  0.0468, -0.0089],\n",
      "         [ 0.0035,  0.0233,  0.0046, -0.0079,  0.0142],\n",
      "         [-0.0309, -0.0336,  0.0105,  0.0155, -0.0578]],\n",
      "\n",
      "        ...,\n",
      "\n",
      "        [[ 0.0442,  0.0338, -0.0065,  0.0229, -0.0399],\n",
      "         [-0.0444, -0.0087, -0.0396, -0.0546, -0.0690],\n",
      "         [ 0.0029,  0.0408, -0.0098,  0.0223,  0.0438],\n",
      "         ...,\n",
      "         [ 0.0198,  0.0224,  0.0433, -0.0219,  0.0240],\n",
      "         [-0.0069, -0.0103, -0.0115,  0.0297, -0.0059],\n",
      "         [ 0.0219,  0.0123,  0.0370,  0.0186,  0.0588]],\n",
      "\n",
      "        [[-0.0098, -0.0409, -0.0295, -0.0757, -0.0352],\n",
      "         [-0.0301, -0.0234, -0.0227,  0.0281,  0.0176],\n",
      "         [-0.0239, -0.0172,  0.0188, -0.0360, -0.0163],\n",
      "         ...,\n",
      "         [-0.0276, -0.0328,  0.0414,  0.0043, -0.0448],\n",
      "         [-0.0625,  0.0387,  0.0711,  0.0284,  0.0086],\n",
      "         [ 0.0556, -0.0092,  0.0303, -0.0652, -0.0732]],\n",
      "\n",
      "        [[ 0.0454,  0.0123,  0.0504, -0.0090,  0.0120],\n",
      "         [-0.0029, -0.0437, -0.0347,  0.0123, -0.0047],\n",
      "         [-0.0009,  0.0200,  0.0166,  0.0474,  0.0226],\n",
      "         ...,\n",
      "         [ 0.0157,  0.0525,  0.0024,  0.0394,  0.0240],\n",
      "         [ 0.0123, -0.0237,  0.0345, -0.0066, -0.0196],\n",
      "         [ 0.0112,  0.0070,  0.0445,  0.0002, -0.0058]]], device='cuda:0')\n",
      "cnn2.bias tensor([ 0.0331,  0.0117,  0.0144, -0.0261,  0.0361,  0.0119,  0.0057, -0.0154,\n",
      "        -0.0373, -0.0362, -0.0130, -0.0149,  0.0139,  0.0191,  0.0087, -0.0277,\n",
      "         0.0367,  0.0161, -0.0255, -0.0252,  0.0165, -0.0189,  0.0342,  0.0379,\n",
      "        -0.0227, -0.0340,  0.0152, -0.0321, -0.0052, -0.0079,  0.0223,  0.0317,\n",
      "         0.0347,  0.0358, -0.0334, -0.0222,  0.0072,  0.0330,  0.0324,  0.0106,\n",
      "        -0.0212,  0.0265, -0.0176,  0.0138, -0.0127, -0.0318,  0.0249, -0.0352,\n",
      "        -0.0052, -0.0301, -0.0078, -0.0010,  0.0319,  0.0033, -0.0089,  0.0428,\n",
      "        -0.0129,  0.0307,  0.0312, -0.0179, -0.0181,  0.0370, -0.0178, -0.0032,\n",
      "         0.0388, -0.0228,  0.0314, -0.0002,  0.0206,  0.0268,  0.0418, -0.0047,\n",
      "         0.0304,  0.0144, -0.0058, -0.0166, -0.0338,  0.0232, -0.0241, -0.0076,\n",
      "        -0.0263,  0.0144,  0.0325, -0.0368,  0.0326,  0.0303, -0.0210,  0.0114,\n",
      "         0.0401,  0.0197,  0.0134,  0.0129, -0.0200, -0.0231, -0.0325,  0.0208,\n",
      "        -0.0293,  0.0218, -0.0012, -0.0095,  0.0169,  0.0186, -0.0058,  0.0069,\n",
      "        -0.0197,  0.0080,  0.0372,  0.0264, -0.0020,  0.0249, -0.0237,  0.0100,\n",
      "         0.0237,  0.0411, -0.0319, -0.0069, -0.0251,  0.0411, -0.0219,  0.0059,\n",
      "         0.0105, -0.0220,  0.0122, -0.0113, -0.0262,  0.0168,  0.0177,  0.0315],\n",
      "       device='cuda:0')\n",
      "cnn3.weight tensor([[[ 5.8476e-02,  6.1986e-02,  3.3443e-02,  ...,  8.1039e-03,\n",
      "           3.8589e-02,  2.7716e-02],\n",
      "         [ 5.0815e-03, -1.1458e-02,  3.7407e-03,  ..., -2.5918e-02,\n",
      "          -4.1923e-02, -1.5559e-02],\n",
      "         [ 2.1999e-02,  3.2561e-02,  2.0686e-02,  ...,  4.2641e-02,\n",
      "           5.8016e-02,  1.8577e-02],\n",
      "         ...,\n",
      "         [ 1.0399e-02,  2.7137e-03,  2.6104e-02,  ...,  1.1583e-02,\n",
      "           1.6642e-02,  2.5291e-02],\n",
      "         [ 7.3751e-04, -3.8973e-02, -2.7802e-02,  ..., -2.0084e-02,\n",
      "          -3.5752e-02, -3.3534e-02],\n",
      "         [ 2.7999e-02,  5.2523e-02,  1.6604e-02,  ...,  1.8437e-02,\n",
      "           8.6745e-03,  2.2982e-02]],\n",
      "\n",
      "        [[ 8.6370e-03, -1.6230e-02,  2.7306e-02,  ...,  1.8419e-03,\n",
      "          -2.0418e-02,  3.3678e-02],\n",
      "         [ 3.1794e-02, -6.7321e-03, -1.3094e-03,  ...,  5.2248e-03,\n",
      "          -6.3029e-04,  2.8822e-02],\n",
      "         [-3.3677e-02, -5.7803e-03, -1.2028e-02,  ...,  3.6108e-03,\n",
      "          -5.0002e-02, -1.5655e-02],\n",
      "         ...,\n",
      "         [ 3.2329e-02, -4.7249e-03, -5.3405e-03,  ...,  1.6448e-02,\n",
      "          -2.2760e-02,  1.7699e-02],\n",
      "         [ 1.6989e-02,  6.2108e-02,  2.0320e-02,  ...,  1.9231e-02,\n",
      "          -4.7939e-03, -4.6254e-03],\n",
      "         [-3.0723e-02, -6.8607e-02, -4.5616e-02,  ..., -4.1008e-02,\n",
      "          -2.6889e-03,  1.4859e-02]],\n",
      "\n",
      "        [[ 1.2015e-03, -6.0907e-02, -3.0754e-02,  ..., -1.8727e-02,\n",
      "          -2.2481e-02, -9.1361e-03],\n",
      "         [ 3.4560e-02,  6.0191e-03,  2.3271e-02,  ...,  1.9980e-02,\n",
      "           4.3689e-02,  1.7552e-03],\n",
      "         [-3.7161e-02, -3.0176e-02, -4.2794e-02,  ..., -5.6278e-02,\n",
      "          -1.4620e-02, -5.0042e-02],\n",
      "         ...,\n",
      "         [ 8.3724e-03,  1.1554e-02,  2.1634e-03,  ...,  4.3453e-02,\n",
      "          -1.2995e-02, -1.0968e-02],\n",
      "         [-3.7026e-03,  3.0940e-02,  2.9477e-03,  ...,  1.7525e-02,\n",
      "          -2.5887e-02,  6.7402e-03],\n",
      "         [-2.2188e-02, -4.9221e-02,  5.1464e-03,  ..., -1.6568e-02,\n",
      "           9.1097e-04, -1.0406e-02]],\n",
      "\n",
      "        ...,\n",
      "\n",
      "        [[ 1.8565e-02,  7.1676e-03, -1.0456e-03,  ..., -1.4583e-02,\n",
      "          -8.8939e-04, -2.0260e-02],\n",
      "         [ 6.7125e-02,  1.0042e-01,  5.9565e-02,  ...,  5.1183e-02,\n",
      "           1.0021e-02, -1.2124e-02],\n",
      "         [ 3.5555e-02,  2.0385e-02,  3.9966e-02,  ...,  2.5759e-03,\n",
      "           2.3260e-02,  3.7820e-02],\n",
      "         ...,\n",
      "         [-3.0052e-02, -3.6379e-02, -2.7378e-03,  ...,  1.7585e-02,\n",
      "           3.5775e-03,  3.4054e-03],\n",
      "         [-6.0032e-02, -1.1113e-02, -1.9198e-02,  ...,  3.3432e-03,\n",
      "           1.3393e-02,  1.5658e-02],\n",
      "         [-2.7024e-02,  8.4305e-03,  3.8246e-03,  ...,  1.9532e-02,\n",
      "           3.2032e-02,  2.2544e-02]],\n",
      "\n",
      "        [[ 4.8987e-02,  6.1235e-02,  2.9719e-02,  ...,  2.7483e-02,\n",
      "           2.0232e-02, -4.2763e-03],\n",
      "         [ 1.9635e-02,  4.4752e-03,  6.7636e-03,  ..., -5.0423e-03,\n",
      "          -3.6544e-02, -5.9246e-03],\n",
      "         [-7.5717e-02,  4.3809e-05, -4.8712e-02,  ...,  5.0010e-03,\n",
      "           3.5138e-02,  1.3113e-02],\n",
      "         ...,\n",
      "         [-2.6118e-02, -2.2461e-02, -1.1812e-02,  ..., -3.2146e-02,\n",
      "          -4.3040e-03, -1.6477e-02],\n",
      "         [-1.7859e-02, -5.1181e-03,  1.6119e-02,  ..., -2.2822e-02,\n",
      "           3.0704e-02,  3.3864e-02],\n",
      "         [-5.3177e-03,  4.3919e-02,  3.0764e-02,  ..., -1.3774e-02,\n",
      "           2.1745e-02, -2.8083e-02]],\n",
      "\n",
      "        [[-1.6694e-02, -1.5211e-02, -4.1392e-02,  ..., -3.5361e-03,\n",
      "          -4.8788e-02, -6.3906e-03],\n",
      "         [-6.5132e-02, -6.1245e-02, -3.0243e-02,  ..., -4.1979e-02,\n",
      "           1.9198e-02, -3.1725e-02],\n",
      "         [ 1.2330e-02, -2.7993e-02, -2.9175e-04,  ..., -4.1720e-03,\n",
      "          -1.6640e-02, -6.4364e-03],\n",
      "         ...,\n",
      "         [-3.7518e-02, -2.1482e-02, -3.8369e-02,  ..., -3.1916e-02,\n",
      "          -5.1735e-02, -5.9651e-03],\n",
      "         [-7.8703e-03,  2.2056e-02, -1.0639e-03,  ...,  3.9733e-02,\n",
      "           1.3680e-02, -3.5923e-02],\n",
      "         [-3.1828e-02,  2.8608e-02,  1.7780e-02,  ..., -1.9076e-02,\n",
      "          -5.0813e-02, -1.1646e-03]]], device='cuda:0')\n",
      "cnn3.bias tensor([ 0.0094,  0.0259, -0.0355, -0.0319,  0.0296,  0.0135,  0.0154,  0.0206,\n",
      "         0.0034, -0.0126,  0.0207, -0.0120,  0.0063,  0.0103, -0.0188,  0.0013,\n",
      "        -0.0039,  0.0259, -0.0257, -0.0158,  0.0347, -0.0243,  0.0150, -0.0197,\n",
      "        -0.0082,  0.0186, -0.0222, -0.0240, -0.0277,  0.0148, -0.0025, -0.0140,\n",
      "         0.0173, -0.0140,  0.0061, -0.0383, -0.0129, -0.0271, -0.0122,  0.0101,\n",
      "        -0.0115,  0.0101,  0.0018,  0.0161, -0.0027,  0.0005, -0.0144, -0.0429,\n",
      "         0.0095,  0.0170,  0.0065, -0.0145,  0.0241, -0.0040, -0.0006, -0.0194,\n",
      "         0.0167,  0.0330,  0.0261,  0.0055, -0.0214,  0.0183, -0.0172, -0.0080,\n",
      "        -0.0065,  0.0232, -0.0088, -0.0276,  0.0073, -0.0355, -0.0004,  0.0015,\n",
      "         0.0136,  0.0163,  0.0087, -0.0199,  0.0147, -0.0054, -0.0012,  0.0199,\n",
      "         0.0169,  0.0217, -0.0420,  0.0080,  0.0229, -0.0190, -0.0416, -0.0136,\n",
      "        -0.0300, -0.0070,  0.0148, -0.0022, -0.0065,  0.0114, -0.0087, -0.0155,\n",
      "        -0.0167,  0.0015,  0.0250, -0.0207,  0.0013,  0.0171,  0.0258,  0.0270,\n",
      "        -0.0280, -0.0229,  0.0170,  0.0237,  0.0174, -0.0180,  0.0327, -0.0060,\n",
      "         0.0185,  0.0277,  0.0109,  0.0059, -0.0207, -0.0280, -0.0155, -0.0210,\n",
      "         0.0167, -0.0127, -0.0254, -0.0244,  0.0145,  0.0119,  0.0058, -0.0194],\n",
      "       device='cuda:0')\n",
      "batchnorm.weight tensor([0.9500, 0.9981, 1.0248, 0.9886, 0.9864, 1.0059, 1.0065, 1.0370, 1.0480,\n",
      "        1.0225, 0.9859, 0.9900, 1.0178, 1.0251, 1.0237, 1.0092, 1.0154, 1.0231,\n",
      "        0.9938, 0.9798, 0.9651, 1.0063, 1.0198, 1.0019, 0.9853, 1.0000, 1.0171,\n",
      "        1.0240, 0.9905, 1.0184, 1.0090, 0.9669, 0.9996, 0.9431, 1.0128, 1.0370,\n",
      "        1.0266, 1.0309, 0.9970, 0.9981, 1.0186, 0.9764, 0.9931, 1.0225, 0.9958,\n",
      "        1.0280, 1.0579, 0.9475, 1.0293, 1.0055, 1.0043, 0.9694, 0.9475, 1.0354,\n",
      "        0.9860, 1.0134, 1.0003, 1.0157, 1.0169, 0.9795, 0.9823, 1.0230, 0.9763,\n",
      "        1.0164, 1.0036, 0.9802, 1.0424, 1.0161, 1.0346, 1.0180, 1.0142, 1.0100,\n",
      "        1.0192, 1.0328, 0.9815, 1.0011, 1.0011, 0.9823, 1.0185, 0.9609, 1.0302,\n",
      "        1.0214, 1.0500, 1.0295, 1.0137, 1.0030, 1.0044, 0.9991, 0.9416, 1.0439,\n",
      "        1.0605, 1.0116, 0.9827, 0.9598, 0.9934, 0.9709, 1.0520, 0.9827, 1.0314,\n",
      "        1.0083, 0.9841, 1.0259, 1.0325, 0.9630, 1.0059, 1.0375, 1.0275, 0.9913,\n",
      "        1.0069, 0.9732, 0.9987, 1.0152, 1.0133, 0.9630, 1.0190, 1.0089, 1.0209,\n",
      "        0.9898, 0.9845, 1.0143, 0.9064, 1.0006, 1.0111, 1.0146, 0.9936, 1.0430,\n",
      "        0.9952, 1.0408, 0.9547, 0.9880, 1.0160, 1.0283, 1.0226, 0.9877, 0.9855,\n",
      "        1.0137, 0.9730, 0.9762, 0.9739, 1.0379, 1.0204, 1.0066, 1.0242, 1.0080,\n",
      "        1.0121, 1.0192, 1.0335, 1.0198, 1.0345, 1.0113, 1.0434, 1.0266, 1.0157,\n",
      "        1.0137, 0.9919, 1.0195, 1.0084, 1.0044, 1.0249, 1.0253, 0.9455, 1.0337,\n",
      "        1.0006, 1.0388, 1.0170, 1.0023, 1.0168, 1.0051, 1.0230, 0.9634, 0.9738,\n",
      "        0.9977, 1.0374, 1.0273, 1.0052, 1.0043, 1.0080, 0.9955, 0.9923, 1.0274,\n",
      "        1.0037, 1.0057, 0.9633, 1.0042, 0.9701, 1.0093, 0.9697, 1.0108, 1.0159,\n",
      "        1.0230, 1.0456, 1.0208, 1.0329, 1.0043, 1.0088, 1.0115, 1.0135, 1.0083,\n",
      "        1.0174, 1.0081, 1.0187, 0.9338, 1.0219, 1.0239, 1.0084, 1.0118, 0.9321,\n",
      "        1.0112, 1.0303, 1.0224, 0.9883, 1.0463, 0.9978, 1.0197, 1.0196, 1.0331,\n",
      "        1.0224, 1.0090, 1.0044, 1.0179, 0.9934, 1.0124, 1.0186, 0.9931, 0.9865,\n",
      "        1.0248, 1.0176, 1.0195, 0.9089, 1.0274, 1.0020, 1.0231, 1.0230, 1.0123,\n",
      "        1.0191, 0.9758, 1.0027, 0.9796, 0.9897, 1.0196, 1.0081, 0.9904, 0.9990,\n",
      "        0.9692, 0.9810, 1.0010, 0.9947, 1.0146, 1.0395, 1.0387, 1.0114, 1.0070,\n",
      "        1.0104, 0.9941, 0.9928, 0.9720, 0.9778, 1.0082, 0.9894, 0.9820, 1.0123,\n",
      "        0.9637, 1.0414, 0.9939, 0.9801, 0.9841, 1.0246, 0.9795, 1.0238, 0.9967,\n",
      "        1.0468, 1.0128, 1.0338, 0.9899, 0.9968, 1.0002, 1.0050, 1.0139, 1.0087,\n",
      "        1.0102, 0.9976, 1.0231, 1.0593, 1.0184, 0.9903, 0.9984, 0.9852, 0.9628,\n",
      "        0.9842, 1.0273, 1.0101, 1.0106, 1.0075, 0.9452, 1.0135, 0.9881, 0.9397,\n",
      "        1.0128, 1.0083, 1.0198, 1.0235, 0.9537, 1.0027, 1.0118, 1.0450, 1.0352,\n",
      "        0.9966, 1.0171, 0.9286, 1.0300, 0.9959, 1.0523, 0.9835, 0.9927, 0.9896,\n",
      "        1.0467, 1.0079, 1.0105, 0.9759, 1.0304, 0.9774, 0.9551, 1.0298, 1.0100,\n",
      "        1.0304, 1.0166, 1.0090, 1.0205, 1.0236, 1.0133, 1.0015, 1.0175, 1.0133,\n",
      "        1.0024, 0.9429, 1.0093, 0.9720, 1.0077, 1.0389, 1.0130, 0.9815, 1.0249,\n",
      "        1.0407, 1.0334, 1.0763, 1.0424, 1.0237, 0.9949, 1.0096, 1.0250, 0.9970,\n",
      "        0.9873, 1.0066, 0.9706, 1.0118, 1.0020, 1.0231, 0.9952, 0.9963, 1.0067,\n",
      "        1.0034, 0.9499, 1.0164, 1.0124, 1.0206, 0.9871, 0.9904, 1.0310, 1.0259,\n",
      "        1.0282, 1.0552, 1.0271, 0.9826, 1.0221, 0.9984, 1.0025, 0.9886, 0.9807,\n",
      "        0.9796, 1.0013, 1.0275, 1.0239, 1.0281, 1.0161], device='cuda:0')\n",
      "batchnorm.bias tensor([-0.1091, -0.0254,  0.0071, -0.0519, -0.0445, -0.0144, -0.0336,  0.0013,\n",
      "         0.0051, -0.0178, -0.0253, -0.0253, -0.0068, -0.0203, -0.0026,  0.0147,\n",
      "        -0.0026, -0.0097, -0.0303, -0.0316, -0.0293, -0.0104, -0.0201,  0.0045,\n",
      "        -0.0345, -0.0114, -0.0160, -0.0226, -0.0225, -0.0198,  0.0010, -0.0396,\n",
      "        -0.0372, -0.0701, -0.0228, -0.0148, -0.0026, -0.0271, -0.0096, -0.0234,\n",
      "         0.0086, -0.0529, -0.0347, -0.0193, -0.0122,  0.0120, -0.0014, -0.0678,\n",
      "         0.0032, -0.0163, -0.0215, -0.0459, -0.0756, -0.0065, -0.0302, -0.0146,\n",
      "        -0.0150, -0.0101, -0.0160, -0.0407, -0.0517, -0.0012, -0.0383, -0.0209,\n",
      "        -0.0217, -0.0255, -0.0175, -0.0144, -0.0055, -0.0044,  0.0031, -0.0350,\n",
      "        -0.0104,  0.0085, -0.0075, -0.0242, -0.0074, -0.0381,  0.0008, -0.0410,\n",
      "        -0.0173, -0.0066, -0.0249,  0.0095, -0.0024, -0.0247, -0.0275, -0.0265,\n",
      "        -0.0706, -0.0036,  0.0170, -0.0326, -0.0213, -0.0368, -0.0279, -0.0297,\n",
      "         0.0045, -0.0304, -0.0084, -0.0110,  0.0022, -0.0228, -0.0236, -0.0527,\n",
      "        -0.0091, -0.0151, -0.0365, -0.0355, -0.0073, -0.0377, -0.0283, -0.0031,\n",
      "        -0.0090, -0.0448,  0.0073, -0.0131,  0.0102, -0.0263, -0.0336, -0.0082,\n",
      "        -0.0774, -0.0206, -0.0195, -0.0271, -0.0239, -0.0241, -0.0133,  0.0001,\n",
      "        -0.0547, -0.0094, -0.0002, -0.0028, -0.0199, -0.0230, -0.0302, -0.0178,\n",
      "        -0.0560, -0.0338, -0.0156,  0.0017, -0.0117, -0.0174,  0.0047, -0.0042,\n",
      "        -0.0163, -0.0118, -0.0031, -0.0109, -0.0052, -0.0130,  0.0103, -0.0083,\n",
      "        -0.0181,  0.0008, -0.0209, -0.0151,  0.0114, -0.0150, -0.0005,  0.0211,\n",
      "        -0.0564, -0.0092, -0.0378, -0.0097, -0.0317, -0.0320, -0.0064, -0.0109,\n",
      "         0.0091, -0.0507, -0.0255, -0.0311, -0.0157, -0.0127, -0.0222, -0.0056,\n",
      "        -0.0226, -0.0148, -0.0212, -0.0067,  0.0020, -0.0209, -0.0465, -0.0105,\n",
      "        -0.0444, -0.0189, -0.0563, -0.0170, -0.0228, -0.0076, -0.0043, -0.0057,\n",
      "         0.0014, -0.0006, -0.0073, -0.0086, -0.0282, -0.0199, -0.0225, -0.0146,\n",
      "        -0.0192, -0.0575,  0.0023, -0.0033, -0.0073, -0.0176, -0.0918, -0.0136,\n",
      "        -0.0080, -0.0196, -0.0259,  0.0007, -0.0336,  0.0085, -0.0241,  0.0097,\n",
      "        -0.0160, -0.0243,  0.0011, -0.0098, -0.0102,  0.0010, -0.0124,  0.0012,\n",
      "        -0.0136,  0.0193, -0.0154,  0.0030, -0.1051,  0.0016, -0.0196, -0.0301,\n",
      "        -0.0171, -0.0199,  0.0086, -0.0397, -0.0050, -0.0417, -0.0227, -0.0150,\n",
      "        -0.0219, -0.0061, -0.0235, -0.0405, -0.0215, -0.0055, -0.0253, -0.0066,\n",
      "        -0.0076, -0.0203, -0.0048, -0.0181, -0.0102, -0.0410, -0.0149, -0.0496,\n",
      "        -0.0332,  0.0039,  0.0001, -0.0398, -0.0162, -0.0340,  0.0225, -0.0291,\n",
      "        -0.0268, -0.0374, -0.0035, -0.0375, -0.0043, -0.0226,  0.0210, -0.0059,\n",
      "         0.0108, -0.0313, -0.0234, -0.0183, -0.0017, -0.0004, -0.0292, -0.0186,\n",
      "        -0.0255, -0.0096,  0.0045, -0.0134, -0.0136, -0.0154, -0.0422, -0.0403,\n",
      "        -0.0256, -0.0108, -0.0277, -0.0050, -0.0385, -0.0424, -0.0277, -0.0118,\n",
      "        -0.0489, -0.0333, -0.0112, -0.0280, -0.0208, -0.0381,  0.0133, -0.0124,\n",
      "        -0.0023, -0.0205, -0.0211, -0.0186, -0.0787,  0.0177, -0.0188, -0.0122,\n",
      "        -0.0467, -0.0383, -0.0332, -0.0019, -0.0283, -0.0204, -0.0415, -0.0028,\n",
      "        -0.0297, -0.0352, -0.0117, -0.0003, -0.0202, -0.0095, -0.0059, -0.0133,\n",
      "        -0.0097, -0.0047, -0.0015, -0.0117, -0.0182, -0.0103, -0.0413, -0.0343,\n",
      "        -0.0402, -0.0217,  0.0016, -0.0156, -0.0387, -0.0091, -0.0040, -0.0426,\n",
      "        -0.0115, -0.0168, -0.0194, -0.0104, -0.0145, -0.0002, -0.0364, -0.0171,\n",
      "        -0.0160, -0.0642,  0.0001, -0.0282, -0.0047, -0.0361, -0.0264,  0.0041,\n",
      "        -0.0410, -0.0424, -0.0308, -0.0121, -0.0127, -0.0195, -0.0195, -0.0046,\n",
      "        -0.0079, -0.0005,  0.0132, -0.0030, -0.0327, -0.0162, -0.0188, -0.0409,\n",
      "        -0.0229, -0.0229, -0.0341, -0.0100, -0.0104, -0.0132, -0.0180, -0.0091],\n",
      "       device='cuda:0')\n",
      "lstm.weight_ih_l0 tensor([[-0.0091, -0.0387,  0.0242,  ..., -0.0630, -0.0494, -0.0670],\n",
      "        [-0.0174, -0.0417, -0.0553,  ..., -0.0154, -0.0468, -0.0168],\n",
      "        [ 0.0793, -0.0467, -0.0149,  ...,  0.0210, -0.0093, -0.0091],\n",
      "        ...,\n",
      "        [ 0.0668,  0.0001, -0.0447,  ..., -0.0122,  0.0226, -0.0173],\n",
      "        [ 0.0098, -0.0079, -0.0464,  ...,  0.0320, -0.1077, -0.0781],\n",
      "        [ 0.0256,  0.0038,  0.0719,  ...,  0.0512, -0.0103, -0.0382]],\n",
      "       device='cuda:0')\n",
      "lstm.weight_hh_l0 tensor([[-0.0060, -0.0249,  0.0173,  ...,  0.0293,  0.0017,  0.0019],\n",
      "        [-0.0397,  0.0373, -0.0014,  ..., -0.0501, -0.0365, -0.0232],\n",
      "        [-0.0112,  0.0296,  0.0224,  ..., -0.0506,  0.0537, -0.0357],\n",
      "        ...,\n",
      "        [ 0.0160, -0.0342,  0.0373,  ..., -0.0076,  0.0106,  0.0364],\n",
      "        [-0.0034, -0.0202,  0.0995,  ...,  0.0688, -0.0384,  0.0344],\n",
      "        [ 0.0555,  0.0325,  0.0311,  ..., -0.0002, -0.0329,  0.0629]],\n",
      "       device='cuda:0')\n",
      "lstm.bias_ih_l0 tensor([-0.0539, -0.0016,  0.0054,  ..., -0.0170, -0.0378, -0.0220],\n",
      "       device='cuda:0')\n",
      "lstm.bias_hh_l0 tensor([ 3.1111e-03, -2.9252e-02,  1.0103e-02,  ...,  1.4435e-02,\n",
      "        -7.7385e-02,  4.6796e-05], device='cuda:0')\n",
      "lstm.weight_ih_l1 tensor([[ 0.0460,  0.0011, -0.0079,  ..., -0.0512,  0.0380, -0.0085],\n",
      "        [-0.0205,  0.0116,  0.0012,  ...,  0.0139,  0.0652,  0.0224],\n",
      "        [ 0.0061, -0.0110, -0.0053,  ..., -0.0052, -0.0257, -0.0400],\n",
      "        ...,\n",
      "        [ 0.0199, -0.0052, -0.0205,  ..., -0.0823,  0.0098,  0.0318],\n",
      "        [ 0.0007, -0.0170,  0.0026,  ..., -0.0024, -0.0800,  0.0060],\n",
      "        [ 0.0807, -0.0306,  0.0482,  ...,  0.0462, -0.0767,  0.0578]],\n",
      "       device='cuda:0')\n",
      "lstm.weight_hh_l1 tensor([[ 0.0410, -0.0243, -0.0062,  ...,  0.0018, -0.0566,  0.0121],\n",
      "        [ 0.0307, -0.0059,  0.0124,  ...,  0.0074,  0.0405,  0.0009],\n",
      "        [-0.0268, -0.0205, -0.0426,  ...,  0.0574, -0.0035, -0.0121],\n",
      "        ...,\n",
      "        [ 0.0094, -0.0323, -0.0059,  ...,  0.0069,  0.0260,  0.0074],\n",
      "        [ 0.0260, -0.0356, -0.0068,  ..., -0.0030, -0.0426, -0.0364],\n",
      "        [ 0.0569, -0.0310, -0.0403,  ...,  0.0384, -0.0187, -0.0059]],\n",
      "       device='cuda:0')\n",
      "lstm.bias_ih_l1 tensor([-0.0624, -0.0373, -0.0477,  ..., -0.0769, -0.0340, -0.0402],\n",
      "       device='cuda:0')\n",
      "lstm.bias_hh_l1 tensor([-0.0100, -0.0543, -0.0554,  ..., -0.0954, -0.0856, -0.0311],\n",
      "       device='cuda:0')\n",
      "linear.weight tensor([[ 0.0180,  0.0466,  0.0413,  ...,  0.0611, -0.0128,  0.0239],\n",
      "        [-0.0434, -0.0751,  0.0542,  ..., -0.0131,  0.0324,  0.0112],\n",
      "        [ 0.0082,  0.0238, -0.0365,  ..., -0.0182,  0.0052, -0.0088],\n",
      "        ...,\n",
      "        [ 0.0277,  0.0036,  0.0096,  ..., -0.0139, -0.0075, -0.0828],\n",
      "        [-0.0002,  0.0301, -0.0520,  ..., -0.0168, -0.0043,  0.0402],\n",
      "        [-0.0421,  0.0169,  0.0117,  ...,  0.0017,  0.0505,  0.0164]],\n",
      "       device='cuda:0')\n",
      "linear.bias tensor([-0.0105, -0.0396, -0.0010, -0.0370, -0.0326,  0.0368,  0.0249],\n",
      "       device='cuda:0')\n"
     ]
    }
   ],
   "source": [
    "for name, param in model.named_parameters():\n",
    "    if param.requires_grad:\n",
    "        print(name, param.data)"
   ]
  },
  {
   "cell_type": "code",
   "execution_count": 111,
   "id": "cc9b6fd0",
   "metadata": {},
   "outputs": [],
   "source": [
    "model_path = f'models/{model_folder}/'\n",
    "\n",
    "os.makedirs(model_path, exist_ok = True) \n",
    "\n",
    "\n",
    "torch.save({'epoch':epochs,\n",
    "            'model_state_dict':model.state_dict(),\n",
    "            'optimizer_state_dict':optimizer.state_dict()},\n",
    "            model_path + f'holdout{holdout}.pth')"
   ]
  },
  {
   "cell_type": "code",
   "execution_count": 112,
   "id": "bb9bbd84",
   "metadata": {},
   "outputs": [],
   "source": [
    "#Let's free memory, else we will overflow our 16GB Memory GPU\n",
    "del testdata\n",
    "del test_dataset\n",
    "del testloader_args\n",
    "del test_dataloader\n",
    "\n",
    "torch.cuda.empty_cache()"
   ]
  }
 ],
 "metadata": {
  "kernelspec": {
   "display_name": "base",
   "language": "python",
   "name": "python3"
  },
  "language_info": {
   "codemirror_mode": {
    "name": "ipython",
    "version": 3
   },
   "file_extension": ".py",
   "mimetype": "text/x-python",
   "name": "python",
   "nbconvert_exporter": "python",
   "pygments_lexer": "ipython3",
   "version": "3.7.12"
  },
  "vscode": {
   "interpreter": {
    "hash": "d4d1e4263499bec80672ea0156c357c1ee493ec2b1c70f0acce89fc37c4a6abe"
   }
  }
 },
 "nbformat": 4,
 "nbformat_minor": 5
}
