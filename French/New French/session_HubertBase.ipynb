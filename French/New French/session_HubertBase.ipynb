{
 "cells": [
  {
   "cell_type": "markdown",
   "id": "83f52390",
   "metadata": {},
   "source": [
    "## Prepare Data"
   ]
  },
  {
   "cell_type": "code",
   "execution_count": 242,
   "id": "072f4dae",
   "metadata": {},
   "outputs": [
    {
     "name": "stdout",
     "output_type": "stream",
     "text": [
      "1.12.1\n",
      "0.12.1+cu113\n",
      "cuda\n"
     ]
    }
   ],
   "source": [
    "import torch\n",
    "import os\n",
    "import torchaudio\n",
    "\n",
    "print(torch.__version__)\n",
    "print(torchaudio.__version__)\n",
    "\n",
    "torch.random.manual_seed(0)\n",
    "device = torch.device(\"cuda\" if torch.cuda.is_available() else \"cpu\")\n",
    "\n",
    "print(device)\n",
    "\n",
    "bundle = torchaudio.pipelines.HUBERT_BASE\n",
    "model_extr = bundle.get_model().to(device)\n",
    "\n",
    "main_path = '/home/wawa_/'\n",
    "\n",
    "emotion_map = {'Neutre': 'neutral', 'Colère': 'angry', 'Joie': 'happy', 'Tristesse': 'sad', 'Peur': 'fear',\n",
    "              'Dégoût': 'disgust', 'Surprise': 'surprise'}\n",
    "\n",
    "holdout = 5\n",
    "model_name = 'HubertBase' \n",
    "model_folder = model_name"
   ]
  },
  {
   "attachments": {},
   "cell_type": "markdown",
   "id": "81a803d0",
   "metadata": {},
   "source": [
    "# Generate features (run once)"
   ]
  },
  {
   "cell_type": "code",
   "execution_count": 243,
   "id": "b2bf642e",
   "metadata": {},
   "outputs": [],
   "source": [
    "# import os\n",
    "\n",
    "# data_path = '/home/wawa_/CaFE/High resolution (192kHz)/'\n",
    "# folders = ['Joie', 'Peur', 'Tristesse', 'Colère', 'Dégoût', 'Neutre', 'Surprise']\n",
    "# audios = []\n",
    "# labels = []\n",
    "# file_paths = []\n",
    "# for folder in folders:\n",
    "#   if folder!='Neutre':\n",
    "#     subfolders = ['Fort/', 'Faible/']\n",
    "#   else:\n",
    "#     subfolders = ['']\n",
    "#   for subfolder in subfolders:\n",
    "#     dir_path = data_path + folder + '/' + subfolder\n",
    "#     for file in os.listdir(dir_path):\n",
    "#         if 'aiff' not in file:\n",
    "#             continue\n",
    "#         name = file.split('.')[0]\n",
    "#         file_path = dir_path + file\n",
    "#         labels.append(folder)\n",
    "#         wave, sr = torchaudio.load(file_path)\n",
    "#         wave = wave.to(device)\n",
    "#         if sr != bundle.sample_rate:\n",
    "#             wave = torchaudio.functional.resample(wave, sr, bundle.sample_rate)\n",
    "  \n",
    "#         with torch.inference_mode():\n",
    "#             feature, _ = model_extr.extract_features(wave)\n",
    "#         feature = [f[0] for f in feature]\n",
    "#         feature = torch.stack(feature)\n",
    "#         save_path_folder = f'/home/wawa_/data/{model_folder}/{folder}/{subfolder}'\n",
    "#         os.makedirs(save_path_folder, exist_ok = True) \n",
    "#         save_path = f'/home/wawa_/data/{model_folder}/{folder}/{subfolder}{name}.pt'\n",
    "#         torch.save(feature, save_path)\n"
   ]
  },
  {
   "cell_type": "markdown",
   "id": "d75f81d6",
   "metadata": {},
   "source": [
    "# Generate Sessions (run once)"
   ]
  },
  {
   "cell_type": "code",
   "execution_count": 244,
   "id": "3c93e401",
   "metadata": {},
   "outputs": [],
   "source": [
    "# data_path = main_path + 'CaFE/High resolution (192kHz)/'\n",
    "# features_path = main_path + 'data/{model_folder}/'\n",
    "\n",
    "# feat_extension = '.pt'\n",
    "\n",
    "# keep_strong_only = False\n",
    "\n",
    "# folders = ['Joie', 'Peur', 'Tristesse', 'Colère', 'Dégoût', 'Neutre', 'Surprise']\n",
    "# labels = []\n",
    "\n",
    "# file_paths = []\n",
    "# new_file_paths = []\n",
    "# strengths = []\n",
    "\n",
    "# for folder in folders:\n",
    "#   if folder!='Neutre':\n",
    "#     subfolders = ['Fort/', 'Faible/']\n",
    "#   else:\n",
    "#     subfolders = ['']\n",
    "#   for subfolder in subfolders:\n",
    "#     dir_path = data_path + folder + '/' + subfolder\n",
    "#     dir_path_features = features_path + folder + '/' + subfolder\n",
    "#     for file in os.listdir(dir_path):\n",
    "#         if 'aiff' not in file:\n",
    "#             continue\n",
    "#         if keep_strong_only and subfolder == 'Faible/':\n",
    "#             continue              \n",
    "#         file_path = dir_path + file\n",
    "#         new_file_path = dir_path_features + file.split('.')[0] + feat_extension\n",
    "        \n",
    "#         if subfolder == '':\n",
    "#           strengths.append('Fort')\n",
    "#         else:\n",
    "#           strengths.append(subfolder.split('/')[0])\n",
    "\n",
    "#         labels.append(emotion_map[folder])\n",
    "#         file_paths.append(file_path)\n",
    "#         new_file_paths.append(new_file_path)\n"
   ]
  },
  {
   "cell_type": "code",
   "execution_count": 245,
   "id": "4fd19ea1",
   "metadata": {},
   "outputs": [],
   "source": [
    "# import random\n",
    "# from tqdm import tqdm\n",
    "# import pandas as pd\n",
    "\n",
    "# def shuffle_lists(list1, list2, list3, list4):\n",
    "#     combined = list(zip(list1, list2, list3, list4))\n",
    "#     random.shuffle(combined)\n",
    "#     return zip(*combined)\n",
    "\n",
    "# file_paths, new_file_paths, labels, strengths = shuffle_lists(file_paths, new_file_paths, labels, strengths)\n",
    "\n",
    "# sessions = []\n",
    "# file_names = []\n",
    "\n",
    "# equal_parts = (len(file_paths)-1)//5 # for equally split the file_paths into 5 parts\n",
    "# count = 0\n",
    "# for i in tqdm(range(len(file_paths))):\n",
    "#     file_path = file_paths[i]\n",
    "#     if \"aiff\" not in file_path:\n",
    "#         continue\n",
    "#     file_name = file_path.split('/')[-1]\n",
    "#     file_names.append(file_name)\n",
    "#     # assign session to it\n",
    "#     part = (count//equal_parts)%6 + 1\n",
    "#     if part == 6:\n",
    "#         part = 5\n",
    "#     sessions.append(part)\n",
    "#     count += 1\n",
    "\n",
    "# file = pd.DataFrame({'path':file_paths, 'feat_path': new_file_paths, 'name': file_names, 'emotion': labels, 'strength': strengths, 'session': sessions})\n",
    "# dataframe_path = main_path + 'session_entries.csv'\n",
    "# file.to_csv(dataframe_path)"
   ]
  },
  {
   "cell_type": "markdown",
   "id": "8a7be560",
   "metadata": {},
   "source": [
    "## Load Data"
   ]
  },
  {
   "cell_type": "code",
   "execution_count": 246,
   "id": "c1ef2595",
   "metadata": {},
   "outputs": [
    {
     "data": {
      "text/html": [
       "<div>\n",
       "<style scoped>\n",
       "    .dataframe tbody tr th:only-of-type {\n",
       "        vertical-align: middle;\n",
       "    }\n",
       "\n",
       "    .dataframe tbody tr th {\n",
       "        vertical-align: top;\n",
       "    }\n",
       "\n",
       "    .dataframe thead th {\n",
       "        text-align: right;\n",
       "    }\n",
       "</style>\n",
       "<table border=\"1\" class=\"dataframe\">\n",
       "  <thead>\n",
       "    <tr style=\"text-align: right;\">\n",
       "      <th></th>\n",
       "      <th>path</th>\n",
       "      <th>feat_path</th>\n",
       "      <th>name</th>\n",
       "      <th>emotion</th>\n",
       "      <th>strength</th>\n",
       "      <th>session</th>\n",
       "    </tr>\n",
       "  </thead>\n",
       "  <tbody>\n",
       "    <tr>\n",
       "      <th>0</th>\n",
       "      <td>/home/wawa_/CaFE/High resolution (192kHz)/Dégo...</td>\n",
       "      <td>/home/wawa_/data/HubertBase/Dégoût/Fort/03-D-2...</td>\n",
       "      <td>03-D-2-2.aiff</td>\n",
       "      <td>disgust</td>\n",
       "      <td>Fort</td>\n",
       "      <td>1</td>\n",
       "    </tr>\n",
       "    <tr>\n",
       "      <th>1</th>\n",
       "      <td>/home/wawa_/CaFE/High resolution (192kHz)/Neut...</td>\n",
       "      <td>/home/wawa_/data/HubertBase/Neutre/01-N-3.pt</td>\n",
       "      <td>01-N-3.aiff</td>\n",
       "      <td>neutral</td>\n",
       "      <td>Fort</td>\n",
       "      <td>1</td>\n",
       "    </tr>\n",
       "    <tr>\n",
       "      <th>2</th>\n",
       "      <td>/home/wawa_/CaFE/High resolution (192kHz)/Tris...</td>\n",
       "      <td>/home/wawa_/data/HubertBase/Tristesse/Fort/02-...</td>\n",
       "      <td>02-T-2-6.aiff</td>\n",
       "      <td>sad</td>\n",
       "      <td>Fort</td>\n",
       "      <td>1</td>\n",
       "    </tr>\n",
       "    <tr>\n",
       "      <th>4</th>\n",
       "      <td>/home/wawa_/CaFE/High resolution (192kHz)/Surp...</td>\n",
       "      <td>/home/wawa_/data/HubertBase/Surprise/Fort/08-S...</td>\n",
       "      <td>08-S-2-6.aiff</td>\n",
       "      <td>surprise</td>\n",
       "      <td>Fort</td>\n",
       "      <td>1</td>\n",
       "    </tr>\n",
       "    <tr>\n",
       "      <th>5</th>\n",
       "      <td>/home/wawa_/CaFE/High resolution (192kHz)/Tris...</td>\n",
       "      <td>/home/wawa_/data/HubertBase/Tristesse/Fort/09-...</td>\n",
       "      <td>09-T-2-5.aiff</td>\n",
       "      <td>sad</td>\n",
       "      <td>Fort</td>\n",
       "      <td>1</td>\n",
       "    </tr>\n",
       "  </tbody>\n",
       "</table>\n",
       "</div>"
      ],
      "text/plain": [
       "                                                path  \\\n",
       "0  /home/wawa_/CaFE/High resolution (192kHz)/Dégo...   \n",
       "1  /home/wawa_/CaFE/High resolution (192kHz)/Neut...   \n",
       "2  /home/wawa_/CaFE/High resolution (192kHz)/Tris...   \n",
       "4  /home/wawa_/CaFE/High resolution (192kHz)/Surp...   \n",
       "5  /home/wawa_/CaFE/High resolution (192kHz)/Tris...   \n",
       "\n",
       "                                           feat_path           name   emotion  \\\n",
       "0  /home/wawa_/data/HubertBase/Dégoût/Fort/03-D-2...  03-D-2-2.aiff   disgust   \n",
       "1       /home/wawa_/data/HubertBase/Neutre/01-N-3.pt    01-N-3.aiff   neutral   \n",
       "2  /home/wawa_/data/HubertBase/Tristesse/Fort/02-...  02-T-2-6.aiff       sad   \n",
       "4  /home/wawa_/data/HubertBase/Surprise/Fort/08-S...  08-S-2-6.aiff  surprise   \n",
       "5  /home/wawa_/data/HubertBase/Tristesse/Fort/09-...  09-T-2-5.aiff       sad   \n",
       "\n",
       "  strength  session  \n",
       "0     Fort        1  \n",
       "1     Fort        1  \n",
       "2     Fort        1  \n",
       "4     Fort        1  \n",
       "5     Fort        1  "
      ]
     },
     "execution_count": 246,
     "metadata": {},
     "output_type": "execute_result"
    }
   ],
   "source": [
    "import pandas as pd\n",
    "\n",
    "# Get the entries with assigned session\n",
    "dataframe_path = main_path + 'session_entries.csv'\n",
    "file = pd.read_csv(dataframe_path)[['path', 'feat_path', 'name', 'emotion', 'strength', 'session']]\n",
    "file = file[file['strength'] == 'Fort']\n",
    "\n",
    "\n",
    "\n",
    "# #### If on low_res data:\n",
    "# def fix_path(path):\n",
    "#     path2 = path.split('/')\n",
    "#     if path2[-1][3]=='N':\n",
    "#         path2[-1] = path2[-1][:5] + '1-' + path2[-1][5:]\n",
    "#     return '/'.join(path2)\n",
    "\n",
    "# def fix_name(name):\n",
    "#     if name[3]=='N':\n",
    "#         return name[:5] + '1-' + name[5:]\n",
    "#     else:\n",
    "#         return name\n",
    "\n",
    "# file['path'] = file['path'].map(fix_path)\n",
    "# file['feat_path'] = file['feat_path'].map(fix_path)\n",
    "# file['name'] = file['name'].map(fix_name)\n",
    "\n",
    "\n",
    "#### Corrects path of data:\n",
    "def fix_path(path):\n",
    "    global model_folder\n",
    "    path2 = path.split('/')\n",
    "    path2[4] = model_folder\n",
    "    return '/'.join(path2)\n",
    "\n",
    "file['feat_path'] = file['feat_path'].map(fix_path)\n",
    "\n",
    "file.head()"
   ]
  },
  {
   "attachments": {},
   "cell_type": "markdown",
   "id": "07289a31",
   "metadata": {},
   "source": [
    "# Create Sessions and shuffle data"
   ]
  },
  {
   "cell_type": "code",
   "execution_count": 247,
   "id": "eb4cd78e",
   "metadata": {},
   "outputs": [],
   "source": [
    "train = file[file['session'] != holdout]\n",
    "test = file[file['session'] == holdout]"
   ]
  },
  {
   "cell_type": "code",
   "execution_count": 248,
   "id": "f62bde2d",
   "metadata": {},
   "outputs": [
    {
     "data": {
      "image/png": "[encoded data removed]",
      "text/plain": [
       "<Figure size 640x480 with 1 Axes>"
      ]
     },
     "metadata": {},
     "output_type": "display_data"
    }
   ],
   "source": [
    "import matplotlib.pyplot as plt\n",
    "\n",
    "file[file['session']== holdout]['emotion'].value_counts().plot(kind='bar')\n",
    "\n",
    "\n",
    "os.makedirs(f'images/Session balances/{model_name}/', exist_ok = True) \n",
    "plt.title(f'Class balance for holdout {holdout} on model {model_name}')\n",
    "plt.ylabel('count')\n",
    "plt.savefig(f'images/Session balances/{model_name}/{model_name}_holdout{holdout}.jpg')\n",
    "plt.show()"
   ]
  },
  {
   "cell_type": "code",
   "execution_count": 249,
   "id": "75a75bd9",
   "metadata": {},
   "outputs": [],
   "source": [
    "class MyDataSet(torch.utils.data.Dataset):\n",
    "    def __init__(self, datas, labels, label_transform):\n",
    "        super(MyDataSet).__init__()\n",
    "        self.datas = datas\n",
    "        self.labels = labels\n",
    "        self.label_transform = label_transform\n",
    "        \n",
    "    def __getitem__(self, idx):\n",
    "        audio = self.datas[idx]\n",
    "        label = self.label_transform[self.labels[idx]]\n",
    "        length = audio.size(1)\n",
    "        return audio, length, label\n",
    "    \n",
    "    def __len__(self):\n",
    "        return len(self.labels)"
   ]
  },
  {
   "cell_type": "code",
   "execution_count": 250,
   "id": "141ec40a",
   "metadata": {},
   "outputs": [],
   "source": [
    "def collate_indic(data):\n",
    "    audios, lengths, labels = zip(*data)\n",
    "    max_len = max(lengths)\n",
    "    n_ftrs = audios[0].size(2)\n",
    "    n_dims = audios[0].size(0)\n",
    "    features = torch.zeros((len(audios), n_dims, max_len, n_ftrs))\n",
    "    labels = torch.tensor(labels).to(device)\n",
    "    lengths = torch.tensor(lengths).to(device)\n",
    "\n",
    "    for i in range(len(data)):\n",
    "        j, k = audios[i].size(1), audios[i].size(2)\n",
    "        features[i] = torch.cat([audios[i].to(device), torch.zeros((n_dims, max_len - j, k)).to(device)], dim=1).to(device)\n",
    "\n",
    "    return features, lengths, labels"
   ]
  },
  {
   "cell_type": "code",
   "execution_count": 251,
   "id": "0738ead4",
   "metadata": {},
   "outputs": [
    {
     "data": {
      "text/plain": [
       "{'neutral': 0,\n",
       " 'angry': 1,\n",
       " 'happy': 2,\n",
       " 'sad': 3,\n",
       " 'fear': 4,\n",
       " 'disgust': 5,\n",
       " 'surprise': 6}"
      ]
     },
     "execution_count": 251,
     "metadata": {},
     "output_type": "execute_result"
    }
   ],
   "source": [
    "categories = ['neutral', 'angry', 'happy', 'sad', 'fear', 'disgust', 'surprise']\n",
    "cate_dic = {}\n",
    "for i, cate in enumerate(categories):\n",
    "    cate_dic[cate] = i\n",
    "cate_dic"
   ]
  },
  {
   "cell_type": "markdown",
   "id": "adf4848c",
   "metadata": {},
   "source": [
    "## Train with 3CNN+LSTM"
   ]
  },
  {
   "cell_type": "code",
   "execution_count": 252,
   "id": "2ef1a6ec",
   "metadata": {},
   "outputs": [],
   "source": [
    "import torch.nn as nn\n",
    "import torch.nn.functional as F\n",
    "\n",
    "class ICASSP3CNN(nn.Module):\n",
    "    def __init__(self, vocab_size, dims = 12, embed_size=128, hidden_size=512, num_lstm_layers = 2, bidirectional = False, label_size=7):\n",
    "        super().__init__()\n",
    "        self.n_layers = num_lstm_layers \n",
    "        self.hidden = hidden_size\n",
    "        self.bidirectional = bidirectional\n",
    "        \n",
    "        self.aggr = nn.Conv1d(in_channels=dims, out_channels=1, kernel_size=1)\n",
    "        \n",
    "        self.embed = nn.Linear(in_features = vocab_size, out_features = embed_size)\n",
    "\n",
    "        self.cnn  = nn.Conv1d(embed_size, embed_size, kernel_size=3, padding=1)\n",
    "        self.cnn2 = nn.Conv1d(embed_size, embed_size, kernel_size=5, padding=2)\n",
    "        self.cnn3 = nn.Conv1d(embed_size, embed_size, kernel_size=7, padding=3)\n",
    "\n",
    "        self.batchnorm = nn.BatchNorm1d(3 * embed_size)\n",
    "\n",
    "        self.lstm = nn.LSTM(input_size = 3 * embed_size, \n",
    "                            hidden_size = hidden_size, \n",
    "                            num_layers = num_lstm_layers, \n",
    "                            bidirectional = bidirectional)\n",
    "\n",
    "        self.linear = nn.Linear(in_features = 2 * hidden_size if bidirectional else hidden_size, \n",
    "                                out_features = label_size)\n",
    "\n",
    "\n",
    "    def forward(self, x, lengths):\n",
    "        \"\"\"\n",
    "        padded_x: (B,T) padded LongTensor\n",
    "        \"\"\"\n",
    "        n, d, b, t = x.size(0), x.size(1), x.size(2), x.size(3)\n",
    "        x = torch.flatten(x, start_dim=2)\n",
    "        input = self.aggr(x)\n",
    "        input = torch.reshape(input, (n, b, t))\n",
    "        input = self.embed(input)\n",
    "\n",
    "        batch_size = input.size(0)\n",
    "        input = input.transpose(1,2)    # (B,T,H) -> (B,H,T)\n",
    "\n",
    "        cnn_output = torch.cat([self.cnn(input), self.cnn2(input), self.cnn3(input)], dim=1)\n",
    "\n",
    "        input = F.relu(self.batchnorm(cnn_output))\n",
    "\n",
    "        input = input.transpose(1,2)\n",
    "\n",
    "        pack_tensor = nn.utils.rnn.pack_padded_sequence(input, lengths, batch_first=True, enforce_sorted=False)\n",
    "        _, (hn, cn) = self.lstm(pack_tensor)\n",
    "\n",
    "        if self.bidirectional:\n",
    "            h_n = hn.view(self.n_layers, 2, batch_size, self.hidden)\n",
    "            h_n = torch.cat([ h_n[-1, 0,:], h_n[-1,1,:] ], dim = 1)\n",
    "        else:\n",
    "            h_n = hn[-1]\n",
    "\n",
    "        logits = self.linear(h_n)\n",
    "\n",
    "        return logits"
   ]
  },
  {
   "cell_type": "markdown",
   "id": "21a7d392",
   "metadata": {},
   "source": [
    "### Model Traning on each layer "
   ]
  },
  {
   "cell_type": "code",
   "execution_count": 253,
   "id": "01d051d0",
   "metadata": {},
   "outputs": [
    {
     "name": "stderr",
     "output_type": "stream",
     "text": [
      "392it [00:01, 227.15it/s]\n"
     ]
    }
   ],
   "source": [
    "from tqdm import tqdm\n",
    "from torch.utils.data import DataLoader\n",
    "\n",
    "traindata = []\n",
    "for _, row in tqdm(train.iterrows()):\n",
    "    traindata.append(torch.load(row['feat_path']).to(device))"
   ]
  },
  {
   "cell_type": "code",
   "execution_count": 254,
   "id": "57b10d98",
   "metadata": {},
   "outputs": [],
   "source": [
    "train_dataset = MyDataSet(traindata, train['emotion'].tolist(), cate_dic)\n",
    "trainloader_args = dict(batch_size=16, shuffle=True)\n",
    "train_dataloader = DataLoader(train_dataset, **trainloader_args, \n",
    "                              collate_fn=collate_indic)"
   ]
  },
  {
   "cell_type": "code",
   "execution_count": 255,
   "id": "e6942285",
   "metadata": {},
   "outputs": [],
   "source": [
    "from tqdm import tqdm\n",
    "from torchsummary import summary\n",
    "import torch.optim as optim\n",
    "\n",
    "model = ICASSP3CNN(768, dims = 12)\n",
    "model = model.to(device)\n",
    "criterion = nn.CrossEntropyLoss()\n",
    "optimizer = optim.Adam(model.parameters(), lr=0.0005)"
   ]
  },
  {
   "cell_type": "code",
   "execution_count": 256,
   "id": "75762bdc",
   "metadata": {},
   "outputs": [
    {
     "name": "stderr",
     "output_type": "stream",
     "text": [
      "  2%|▏         | 1/50 [00:04<03:38,  4.46s/it]"
     ]
    },
    {
     "name": "stdout",
     "output_type": "stream",
     "text": [
      "epoch:1, train accu:0.2704, train loss:1.82\n"
     ]
    },
    {
     "name": "stderr",
     "output_type": "stream",
     "text": [
      "  4%|▍         | 2/50 [00:08<03:32,  4.43s/it]"
     ]
    },
    {
     "name": "stdout",
     "output_type": "stream",
     "text": [
      "epoch:2, train accu:0.3954, train loss:1.50\n"
     ]
    },
    {
     "name": "stderr",
     "output_type": "stream",
     "text": [
      "  6%|▌         | 3/50 [00:13<03:28,  4.43s/it]"
     ]
    },
    {
     "name": "stdout",
     "output_type": "stream",
     "text": [
      "epoch:3, train accu:0.4235, train loss:1.41\n"
     ]
    },
    {
     "name": "stderr",
     "output_type": "stream",
     "text": [
      "  8%|▊         | 4/50 [00:17<03:23,  4.43s/it]"
     ]
    },
    {
     "name": "stdout",
     "output_type": "stream",
     "text": [
      "epoch:4, train accu:0.5816, train loss:1.15\n"
     ]
    },
    {
     "name": "stderr",
     "output_type": "stream",
     "text": [
      " 10%|█         | 5/50 [00:22<03:17,  4.38s/it]"
     ]
    },
    {
     "name": "stdout",
     "output_type": "stream",
     "text": [
      "epoch:5, train accu:0.6735, train loss:0.95\n"
     ]
    },
    {
     "name": "stderr",
     "output_type": "stream",
     "text": [
      " 12%|█▏        | 6/50 [00:26<03:12,  4.37s/it]"
     ]
    },
    {
     "name": "stdout",
     "output_type": "stream",
     "text": [
      "epoch:6, train accu:0.7219, train loss:0.79\n"
     ]
    },
    {
     "name": "stderr",
     "output_type": "stream",
     "text": [
      " 14%|█▍        | 7/50 [00:30<03:07,  4.37s/it]"
     ]
    },
    {
     "name": "stdout",
     "output_type": "stream",
     "text": [
      "epoch:7, train accu:0.8087, train loss:0.55\n"
     ]
    },
    {
     "name": "stderr",
     "output_type": "stream",
     "text": [
      " 16%|█▌        | 8/50 [00:35<03:03,  4.37s/it]"
     ]
    },
    {
     "name": "stdout",
     "output_type": "stream",
     "text": [
      "epoch:8, train accu:0.8189, train loss:0.58\n"
     ]
    },
    {
     "name": "stderr",
     "output_type": "stream",
     "text": [
      " 18%|█▊        | 9/50 [00:39<02:59,  4.38s/it]"
     ]
    },
    {
     "name": "stdout",
     "output_type": "stream",
     "text": [
      "epoch:9, train accu:0.8648, train loss:0.42\n"
     ]
    },
    {
     "name": "stderr",
     "output_type": "stream",
     "text": [
      " 20%|██        | 10/50 [00:44<03:06,  4.65s/it]"
     ]
    },
    {
     "name": "stdout",
     "output_type": "stream",
     "text": [
      "epoch:10, train accu:0.8954, train loss:0.32\n"
     ]
    },
    {
     "name": "stderr",
     "output_type": "stream",
     "text": [
      " 22%|██▏       | 11/50 [00:49<02:57,  4.56s/it]"
     ]
    },
    {
     "name": "stdout",
     "output_type": "stream",
     "text": [
      "epoch:11, train accu:0.8673, train loss:0.38\n"
     ]
    },
    {
     "name": "stderr",
     "output_type": "stream",
     "text": [
      " 24%|██▍       | 12/50 [00:53<02:51,  4.51s/it]"
     ]
    },
    {
     "name": "stdout",
     "output_type": "stream",
     "text": [
      "epoch:12, train accu:0.9005, train loss:0.36\n"
     ]
    },
    {
     "name": "stderr",
     "output_type": "stream",
     "text": [
      " 26%|██▌       | 13/50 [00:57<02:45,  4.47s/it]"
     ]
    },
    {
     "name": "stdout",
     "output_type": "stream",
     "text": [
      "epoch:13, train accu:0.9464, train loss:0.19\n"
     ]
    },
    {
     "name": "stderr",
     "output_type": "stream",
     "text": [
      " 28%|██▊       | 14/50 [01:02<02:40,  4.46s/it]"
     ]
    },
    {
     "name": "stdout",
     "output_type": "stream",
     "text": [
      "epoch:14, train accu:0.9031, train loss:0.28\n"
     ]
    },
    {
     "name": "stderr",
     "output_type": "stream",
     "text": [
      " 30%|███       | 15/50 [01:06<02:35,  4.43s/it]"
     ]
    },
    {
     "name": "stdout",
     "output_type": "stream",
     "text": [
      "epoch:15, train accu:0.9260, train loss:0.22\n"
     ]
    },
    {
     "name": "stderr",
     "output_type": "stream",
     "text": [
      " 32%|███▏      | 16/50 [01:11<02:30,  4.44s/it]"
     ]
    },
    {
     "name": "stdout",
     "output_type": "stream",
     "text": [
      "epoch:16, train accu:0.9005, train loss:0.34\n"
     ]
    },
    {
     "name": "stderr",
     "output_type": "stream",
     "text": [
      " 34%|███▍      | 17/50 [01:15<02:26,  4.43s/it]"
     ]
    },
    {
     "name": "stdout",
     "output_type": "stream",
     "text": [
      "epoch:17, train accu:0.9464, train loss:0.17\n"
     ]
    },
    {
     "name": "stderr",
     "output_type": "stream",
     "text": [
      " 36%|███▌      | 18/50 [01:19<02:21,  4.42s/it]"
     ]
    },
    {
     "name": "stdout",
     "output_type": "stream",
     "text": [
      "epoch:18, train accu:0.9796, train loss:0.08\n"
     ]
    },
    {
     "name": "stderr",
     "output_type": "stream",
     "text": [
      " 38%|███▊      | 19/50 [01:24<02:17,  4.42s/it]"
     ]
    },
    {
     "name": "stdout",
     "output_type": "stream",
     "text": [
      "epoch:19, train accu:0.9184, train loss:0.29\n"
     ]
    },
    {
     "name": "stderr",
     "output_type": "stream",
     "text": [
      " 40%|████      | 20/50 [01:28<02:12,  4.42s/it]"
     ]
    },
    {
     "name": "stdout",
     "output_type": "stream",
     "text": [
      "epoch:20, train accu:0.9388, train loss:0.21\n"
     ]
    },
    {
     "name": "stderr",
     "output_type": "stream",
     "text": [
      " 42%|████▏     | 21/50 [01:33<02:08,  4.42s/it]"
     ]
    },
    {
     "name": "stdout",
     "output_type": "stream",
     "text": [
      "epoch:21, train accu:0.9592, train loss:0.12\n"
     ]
    },
    {
     "name": "stderr",
     "output_type": "stream",
     "text": [
      " 44%|████▍     | 22/50 [01:37<02:03,  4.41s/it]"
     ]
    },
    {
     "name": "stdout",
     "output_type": "stream",
     "text": [
      "epoch:22, train accu:0.9872, train loss:0.05\n"
     ]
    },
    {
     "name": "stderr",
     "output_type": "stream",
     "text": [
      " 46%|████▌     | 23/50 [01:42<02:04,  4.62s/it]"
     ]
    },
    {
     "name": "stdout",
     "output_type": "stream",
     "text": [
      "epoch:23, train accu:0.9821, train loss:0.06\n"
     ]
    },
    {
     "name": "stderr",
     "output_type": "stream",
     "text": [
      " 48%|████▊     | 24/50 [01:47<01:58,  4.55s/it]"
     ]
    },
    {
     "name": "stdout",
     "output_type": "stream",
     "text": [
      "epoch:24, train accu:0.9847, train loss:0.06\n"
     ]
    },
    {
     "name": "stderr",
     "output_type": "stream",
     "text": [
      " 50%|█████     | 25/50 [01:51<01:52,  4.51s/it]"
     ]
    },
    {
     "name": "stdout",
     "output_type": "stream",
     "text": [
      "epoch:25, train accu:0.8929, train loss:0.37\n"
     ]
    },
    {
     "name": "stderr",
     "output_type": "stream",
     "text": [
      " 52%|█████▏    | 26/50 [01:55<01:47,  4.48s/it]"
     ]
    },
    {
     "name": "stdout",
     "output_type": "stream",
     "text": [
      "epoch:26, train accu:0.9260, train loss:0.26\n"
     ]
    },
    {
     "name": "stderr",
     "output_type": "stream",
     "text": [
      " 54%|█████▍    | 27/50 [02:00<01:42,  4.46s/it]"
     ]
    },
    {
     "name": "stdout",
     "output_type": "stream",
     "text": [
      "epoch:27, train accu:0.9337, train loss:0.22\n"
     ]
    },
    {
     "name": "stderr",
     "output_type": "stream",
     "text": [
      " 56%|█████▌    | 28/50 [02:04<01:37,  4.45s/it]"
     ]
    },
    {
     "name": "stdout",
     "output_type": "stream",
     "text": [
      "epoch:28, train accu:0.9821, train loss:0.07\n"
     ]
    },
    {
     "name": "stderr",
     "output_type": "stream",
     "text": [
      " 58%|█████▊    | 29/50 [02:09<01:33,  4.45s/it]"
     ]
    },
    {
     "name": "stdout",
     "output_type": "stream",
     "text": [
      "epoch:29, train accu:0.9949, train loss:0.03\n"
     ]
    },
    {
     "name": "stderr",
     "output_type": "stream",
     "text": [
      " 60%|██████    | 30/50 [02:13<01:28,  4.44s/it]"
     ]
    },
    {
     "name": "stdout",
     "output_type": "stream",
     "text": [
      "epoch:30, train accu:0.9974, train loss:0.01\n"
     ]
    },
    {
     "name": "stderr",
     "output_type": "stream",
     "text": [
      " 62%|██████▏   | 31/50 [02:18<01:24,  4.42s/it]"
     ]
    },
    {
     "name": "stdout",
     "output_type": "stream",
     "text": [
      "epoch:31, train accu:0.9847, train loss:0.06\n"
     ]
    },
    {
     "name": "stderr",
     "output_type": "stream",
     "text": [
      " 64%|██████▍   | 32/50 [02:22<01:19,  4.42s/it]"
     ]
    },
    {
     "name": "stdout",
     "output_type": "stream",
     "text": [
      "epoch:32, train accu:0.9949, train loss:0.01\n"
     ]
    },
    {
     "name": "stderr",
     "output_type": "stream",
     "text": [
      " 66%|██████▌   | 33/50 [02:26<01:14,  4.40s/it]"
     ]
    },
    {
     "name": "stdout",
     "output_type": "stream",
     "text": [
      "epoch:33, train accu:1.0000, train loss:0.00\n"
     ]
    },
    {
     "name": "stderr",
     "output_type": "stream",
     "text": [
      " 68%|██████▊   | 34/50 [02:31<01:10,  4.39s/it]"
     ]
    },
    {
     "name": "stdout",
     "output_type": "stream",
     "text": [
      "epoch:34, train accu:1.0000, train loss:0.00\n"
     ]
    },
    {
     "name": "stderr",
     "output_type": "stream",
     "text": [
      " 70%|███████   | 35/50 [02:35<01:05,  4.39s/it]"
     ]
    },
    {
     "name": "stdout",
     "output_type": "stream",
     "text": [
      "epoch:35, train accu:1.0000, train loss:0.00\n"
     ]
    },
    {
     "name": "stderr",
     "output_type": "stream",
     "text": [
      " 72%|███████▏  | 36/50 [02:39<01:01,  4.36s/it]"
     ]
    },
    {
     "name": "stdout",
     "output_type": "stream",
     "text": [
      "epoch:36, train accu:1.0000, train loss:0.00\n"
     ]
    },
    {
     "name": "stderr",
     "output_type": "stream",
     "text": [
      " 74%|███████▍  | 37/50 [02:45<00:59,  4.61s/it]"
     ]
    },
    {
     "name": "stdout",
     "output_type": "stream",
     "text": [
      "epoch:37, train accu:1.0000, train loss:0.00\n"
     ]
    },
    {
     "name": "stderr",
     "output_type": "stream",
     "text": [
      " 76%|███████▌  | 38/50 [02:49<00:54,  4.56s/it]"
     ]
    },
    {
     "name": "stdout",
     "output_type": "stream",
     "text": [
      "epoch:38, train accu:1.0000, train loss:0.00\n"
     ]
    },
    {
     "name": "stderr",
     "output_type": "stream",
     "text": [
      " 78%|███████▊  | 39/50 [02:53<00:49,  4.51s/it]"
     ]
    },
    {
     "name": "stdout",
     "output_type": "stream",
     "text": [
      "epoch:39, train accu:1.0000, train loss:0.00\n"
     ]
    },
    {
     "name": "stderr",
     "output_type": "stream",
     "text": [
      " 80%|████████  | 40/50 [02:58<00:44,  4.47s/it]"
     ]
    },
    {
     "name": "stdout",
     "output_type": "stream",
     "text": [
      "epoch:40, train accu:1.0000, train loss:0.00\n"
     ]
    },
    {
     "name": "stderr",
     "output_type": "stream",
     "text": [
      " 82%|████████▏ | 41/50 [03:02<00:39,  4.44s/it]"
     ]
    },
    {
     "name": "stdout",
     "output_type": "stream",
     "text": [
      "epoch:41, train accu:1.0000, train loss:0.00\n"
     ]
    },
    {
     "name": "stderr",
     "output_type": "stream",
     "text": [
      " 84%|████████▍ | 42/50 [03:06<00:35,  4.42s/it]"
     ]
    },
    {
     "name": "stdout",
     "output_type": "stream",
     "text": [
      "epoch:42, train accu:1.0000, train loss:0.00\n"
     ]
    },
    {
     "name": "stderr",
     "output_type": "stream",
     "text": [
      " 86%|████████▌ | 43/50 [03:11<00:30,  4.41s/it]"
     ]
    },
    {
     "name": "stdout",
     "output_type": "stream",
     "text": [
      "epoch:43, train accu:1.0000, train loss:0.00\n"
     ]
    },
    {
     "name": "stderr",
     "output_type": "stream",
     "text": [
      " 88%|████████▊ | 44/50 [03:15<00:26,  4.42s/it]"
     ]
    },
    {
     "name": "stdout",
     "output_type": "stream",
     "text": [
      "epoch:44, train accu:1.0000, train loss:0.00\n"
     ]
    },
    {
     "name": "stderr",
     "output_type": "stream",
     "text": [
      " 90%|█████████ | 45/50 [03:20<00:21,  4.39s/it]"
     ]
    },
    {
     "name": "stdout",
     "output_type": "stream",
     "text": [
      "epoch:45, train accu:1.0000, train loss:0.00\n"
     ]
    },
    {
     "name": "stderr",
     "output_type": "stream",
     "text": [
      " 92%|█████████▏| 46/50 [03:24<00:17,  4.42s/it]"
     ]
    },
    {
     "name": "stdout",
     "output_type": "stream",
     "text": [
      "epoch:46, train accu:1.0000, train loss:0.00\n"
     ]
    },
    {
     "name": "stderr",
     "output_type": "stream",
     "text": [
      " 94%|█████████▍| 47/50 [03:29<00:13,  4.41s/it]"
     ]
    },
    {
     "name": "stdout",
     "output_type": "stream",
     "text": [
      "epoch:47, train accu:1.0000, train loss:0.00\n"
     ]
    },
    {
     "name": "stderr",
     "output_type": "stream",
     "text": [
      " 96%|█████████▌| 48/50 [03:33<00:08,  4.43s/it]"
     ]
    },
    {
     "name": "stdout",
     "output_type": "stream",
     "text": [
      "epoch:48, train accu:1.0000, train loss:0.00\n"
     ]
    },
    {
     "name": "stderr",
     "output_type": "stream",
     "text": [
      " 98%|█████████▊| 49/50 [03:37<00:04,  4.43s/it]"
     ]
    },
    {
     "name": "stdout",
     "output_type": "stream",
     "text": [
      "epoch:49, train accu:1.0000, train loss:0.00\n"
     ]
    },
    {
     "name": "stderr",
     "output_type": "stream",
     "text": [
      "100%|██████████| 50/50 [03:43<00:00,  4.46s/it]"
     ]
    },
    {
     "name": "stdout",
     "output_type": "stream",
     "text": [
      "epoch:50, train accu:1.0000, train loss:0.00\n"
     ]
    },
    {
     "name": "stderr",
     "output_type": "stream",
     "text": [
      "\n"
     ]
    }
   ],
   "source": [
    "epochs = 50\n",
    "train_losses = []\n",
    "train_accuracies = []\n",
    "valid_losses = []\n",
    "valid_accuracies = []\n",
    "\n",
    "for epoch in tqdm(range(epochs)):\n",
    "    train_loss = 0\n",
    "    acc_cnt = 0\n",
    "    err_cnt = 0\n",
    "    batch_cnt = 0\n",
    "    model.train()\n",
    "    for batch, (x, length, y) in enumerate(train_dataloader):\n",
    "        x = x.to(device)\n",
    "        y = y.to(device)\n",
    "        length = length.cpu()\n",
    "        optimizer.zero_grad()\n",
    "        logits = model(x, length)\n",
    "        loss = criterion(logits, y)\n",
    "        loss.backward()\n",
    "        optimizer.step()\n",
    "        train_loss += loss.cpu().item()\n",
    "\n",
    "        #model outputs\n",
    "        out_val, out_indices = torch.max(logits, dim=1)\n",
    "        tar_indices = y\n",
    "\n",
    "        for i in range(len(out_indices)):\n",
    "            if out_indices[i] == tar_indices[i]:\n",
    "                acc_cnt += 1\n",
    "            else:\n",
    "                err_cnt += 1\n",
    "        batch_cnt += 1\n",
    "    \n",
    "    train_loss = train_loss/batch_cnt\n",
    "    train_accuracy = acc_cnt/(acc_cnt+err_cnt)\n",
    "    train_accuracies.append(train_accuracy)\n",
    "    train_losses.append(train_loss)\n",
    "    \n",
    "    print(f\"epoch:{epoch+1}, train accu:{train_accuracy:.4f},\", f\"train loss:{train_loss:.2f}\")"
   ]
  },
  {
   "cell_type": "markdown",
   "id": "42092bf7",
   "metadata": {},
   "source": [
    "## Model Test"
   ]
  },
  {
   "cell_type": "code",
   "execution_count": 257,
   "id": "85045cb4",
   "metadata": {},
   "outputs": [],
   "source": [
    "#Let's free memory, else we will overflow our 16GB Memory GPU\n",
    "del traindata\n",
    "del train_dataset\n",
    "del trainloader_args\n",
    "del train_dataloader\n",
    "\n",
    "torch.cuda.empty_cache()"
   ]
  },
  {
   "cell_type": "code",
   "execution_count": 258,
   "id": "3c5c9897",
   "metadata": {},
   "outputs": [
    {
     "name": "stderr",
     "output_type": "stream",
     "text": [
      "112it [00:00, 235.42it/s]\n"
     ]
    }
   ],
   "source": [
    "from tqdm import tqdm\n",
    "\n",
    "testdata = []\n",
    "for _, row in tqdm(test.iterrows()):\n",
    "    testdata.append(torch.load(row['feat_path']).to(device))\n",
    "    \n",
    "test_dataset = MyDataSet(testdata, test['emotion'].tolist(), cate_dic)\n",
    "testloader_args = dict(batch_size=1, shuffle=True)\n",
    "test_dataloader = DataLoader(test_dataset, **testloader_args, \n",
    "                             collate_fn=collate_indic)"
   ]
  },
  {
   "cell_type": "code",
   "execution_count": 259,
   "id": "3120f8d4",
   "metadata": {},
   "outputs": [
    {
     "name": "stdout",
     "output_type": "stream",
     "text": [
      "test accuracy: 0.7053571428571429\n"
     ]
    }
   ],
   "source": [
    "test_loss = 0\n",
    "acc_cnt = 0\n",
    "err_cnt = 0\n",
    "batch_cnt = 0\n",
    "model.eval()\n",
    "\n",
    "for x, lengths, y in test_dataloader:\n",
    "\n",
    "    x = x.to(device)\n",
    "    y = y.to(device)\n",
    "\n",
    "    lengths = lengths.cpu()\n",
    "    logits = model(x, lengths)\n",
    "    loss = criterion(logits, y)\n",
    "    test_loss += loss.cpu().item()\n",
    "\n",
    "    out_val, out_indices = torch.max(logits, dim=1)\n",
    "    tar_indices = y\n",
    "\n",
    "    for i in range(len(out_indices)):\n",
    "        if out_indices[i] == tar_indices[i]:\n",
    "            acc_cnt += 1\n",
    "        else:\n",
    "            err_cnt += 1\n",
    "    batch_cnt += 1\n",
    "\n",
    "test_loss = test_loss/batch_cnt\n",
    "test_accuracy = acc_cnt/(acc_cnt+err_cnt)\n",
    "print(f'test accuracy: {test_accuracy}')"
   ]
  },
  {
   "cell_type": "code",
   "execution_count": 260,
   "id": "80de6d2e",
   "metadata": {},
   "outputs": [
    {
     "name": "stdout",
     "output_type": "stream",
     "text": [
      "Got 79 / 112 with accuracy 70.54\n",
      "Confusion matrix for Wav2Vec 2.0:\n"
     ]
    },
    {
     "data": {
      "image/png": "[encoded data removed]",
      "text/plain": [
       "<Figure size 640x480 with 2 Axes>"
      ]
     },
     "metadata": {},
     "output_type": "display_data"
    }
   ],
   "source": [
    "#Confusion Matrix\n",
    "from sklearn.metrics import confusion_matrix, ConfusionMatrixDisplay\n",
    "import matplotlib.pyplot as plt\n",
    "\n",
    "def check_accuracy(loader, model):\n",
    "    num_correct = 0\n",
    "    num_samples = 0\n",
    "    model.eval()\n",
    "    y_preds_list = []\n",
    "    y_list = []\n",
    "    \n",
    "    with torch.no_grad():\n",
    "        for batch, (x, length, y) in enumerate(loader):\n",
    "            x = x.to(device=device)\n",
    "            y = y.to(device=device)\n",
    "            y_list.extend(y.tolist())\n",
    "            length = length.to('cpu')\n",
    "            \n",
    "            scores = model(x, length)\n",
    "            _, predictions = scores.max(1)\n",
    "            y_preds_list.extend(predictions.tolist())\n",
    "            num_correct += (predictions == y).sum()\n",
    "            num_samples += predictions.size(0)\n",
    "        \n",
    "        print(f'Got {num_correct} / {num_samples} with accuracy {float(num_correct)/float(num_samples)*100:.2f}') \n",
    "    \n",
    "    model.train()\n",
    "    return y_preds_list, y_list, round(float(num_correct)/float(num_samples)*100, 1)\n",
    "    \n",
    "y_preds_list, y_list, accur = check_accuracy(test_dataloader, model)\n",
    "\n",
    "print(f'Confusion matrix for Wav2Vec 2.0:')\n",
    "disp = ConfusionMatrixDisplay(confusion_matrix(y_list, y_preds_list, normalize='true'), display_labels=['neutral', 'angry', 'happy', 'sad', 'fear', 'disgust', 'surprise'])\n",
    "\n",
    "disp.plot()\n",
    "plt.title(f'Confusion matrix for {model_name} on holdout {holdout}.')\n",
    "\n",
    "\n",
    "os.makedirs(f'images/Confusion Matrices/{model_name}/', exist_ok = True) \n",
    "\n",
    "plt.savefig(f'images/Confusion Matrices/{model_name}/{model_name}_CM_holdout{holdout}.png')\n",
    "plt.show()"
   ]
  },
  {
   "cell_type": "code",
   "execution_count": 261,
   "id": "997c700b",
   "metadata": {},
   "outputs": [
    {
     "name": "stdout",
     "output_type": "stream",
     "text": [
      "aggr.weight tensor([[[-0.1847],\n",
      "         [ 0.1252],\n",
      "         [-0.1181],\n",
      "         [ 0.2659],\n",
      "         [ 0.0751],\n",
      "         [-0.3142],\n",
      "         [ 0.2047],\n",
      "         [-0.0305],\n",
      "         [ 0.2347],\n",
      "         [-0.0568],\n",
      "         [ 0.2534],\n",
      "         [-0.2389]]], device='cuda:0')\n",
      "aggr.bias tensor([-0.0636], device='cuda:0')\n",
      "embed.weight tensor([[ 0.0316,  0.0277,  0.0570,  ..., -0.0288,  0.0149,  0.0317],\n",
      "        [ 0.0095, -0.0061,  0.0024,  ...,  0.0289,  0.0442, -0.0103],\n",
      "        [-0.0247,  0.0129, -0.0079,  ...,  0.0043,  0.0256, -0.0227],\n",
      "        ...,\n",
      "        [-0.0583, -0.0205,  0.0032,  ...,  0.0173,  0.0009,  0.0163],\n",
      "        [-0.0080,  0.0318,  0.0418,  ...,  0.0063,  0.0121, -0.0128],\n",
      "        [-0.0222,  0.0312,  0.0435,  ...,  0.0204, -0.0259, -0.0255]],\n",
      "       device='cuda:0')\n",
      "embed.bias tensor([-0.0084,  0.0298,  0.0238,  0.0038,  0.0420,  0.0190,  0.0003,  0.0060,\n",
      "         0.0385,  0.0592,  0.0279, -0.0132,  0.0057,  0.0448, -0.0029,  0.0171,\n",
      "         0.0165,  0.0320, -0.0138, -0.0032,  0.0401,  0.0318,  0.0149,  0.0136,\n",
      "        -0.0376,  0.0287,  0.0112, -0.0430,  0.0041, -0.0156,  0.0392, -0.0330,\n",
      "        -0.0226,  0.0080,  0.0601, -0.0094,  0.0212, -0.0361,  0.0373, -0.0151,\n",
      "        -0.0558,  0.0204, -0.0333, -0.0352, -0.0052,  0.0293, -0.0305,  0.0147,\n",
      "         0.0159,  0.0140, -0.0200,  0.0050,  0.0101, -0.0009, -0.0144,  0.0045,\n",
      "         0.0070, -0.0028,  0.0442,  0.0395, -0.0630,  0.0110,  0.0167,  0.0101,\n",
      "        -0.0111,  0.0095, -0.0062,  0.0290, -0.0006, -0.0249,  0.0406,  0.0064,\n",
      "        -0.0317, -0.0369, -0.0323, -0.0300,  0.0244, -0.0315,  0.0004, -0.0206,\n",
      "         0.0593, -0.0252,  0.0451, -0.0019,  0.0303, -0.0314,  0.0460,  0.0179,\n",
      "         0.0104, -0.0046,  0.0024, -0.0008,  0.0387,  0.0009, -0.0257,  0.0009,\n",
      "         0.0276,  0.0199,  0.0480, -0.0166, -0.0172,  0.0135,  0.0218, -0.0095,\n",
      "        -0.0248,  0.0285, -0.0389,  0.0150,  0.0595,  0.0153, -0.0289, -0.0256,\n",
      "        -0.0033,  0.0274,  0.0156, -0.0253, -0.0243,  0.0301,  0.0215, -0.0337,\n",
      "        -0.0325, -0.0154, -0.0244,  0.0479,  0.0230, -0.0039,  0.0423,  0.0063],\n",
      "       device='cuda:0')\n",
      "cnn.weight tensor([[[ 0.0164,  0.0418, -0.0383],\n",
      "         [-0.0473, -0.0332, -0.0222],\n",
      "         [ 0.0281,  0.0256,  0.0442],\n",
      "         ...,\n",
      "         [-0.0243, -0.0211, -0.0251],\n",
      "         [ 0.0364,  0.0192,  0.0181],\n",
      "         [ 0.0074,  0.0506, -0.0258]],\n",
      "\n",
      "        [[ 0.0385,  0.0148,  0.0362],\n",
      "         [ 0.0666,  0.0117,  0.0190],\n",
      "         [ 0.0171,  0.0319, -0.0394],\n",
      "         ...,\n",
      "         [ 0.0404,  0.0288, -0.0520],\n",
      "         [ 0.0035,  0.0347,  0.0517],\n",
      "         [-0.0550, -0.0425, -0.0019]],\n",
      "\n",
      "        [[-0.0072,  0.0577,  0.0256],\n",
      "         [ 0.0208, -0.0313, -0.0396],\n",
      "         [ 0.0161,  0.0312, -0.0012],\n",
      "         ...,\n",
      "         [-0.0146,  0.0431, -0.0372],\n",
      "         [-0.0284, -0.0216,  0.0100],\n",
      "         [-0.0098,  0.0170, -0.0119]],\n",
      "\n",
      "        ...,\n",
      "\n",
      "        [[-0.0085,  0.0116, -0.0313],\n",
      "         [-0.0310,  0.0268, -0.0493],\n",
      "         [ 0.0182, -0.0381,  0.0336],\n",
      "         ...,\n",
      "         [-0.0192, -0.0177, -0.0681],\n",
      "         [ 0.0421, -0.0127,  0.0518],\n",
      "         [ 0.0122,  0.0075, -0.0310]],\n",
      "\n",
      "        [[-0.0711, -0.0289, -0.0306],\n",
      "         [ 0.0142,  0.0386,  0.0421],\n",
      "         [-0.0583, -0.0183, -0.0363],\n",
      "         ...,\n",
      "         [-0.0036, -0.0055, -0.0013],\n",
      "         [-0.0652, -0.0351, -0.0670],\n",
      "         [ 0.0023,  0.0201,  0.0299]],\n",
      "\n",
      "        [[-0.0118, -0.0056, -0.0222],\n",
      "         [ 0.0499,  0.0543,  0.0062],\n",
      "         [-0.0446, -0.0518, -0.0630],\n",
      "         ...,\n",
      "         [ 0.0002, -0.0273,  0.0338],\n",
      "         [-0.0088, -0.0260, -0.0334],\n",
      "         [ 0.0056,  0.0094, -0.0110]]], device='cuda:0')\n",
      "cnn.bias tensor([ 9.6369e-03,  3.0049e-02,  2.4193e-02, -2.5610e-02,  4.3877e-02,\n",
      "         1.8616e-02,  2.9972e-02, -4.2966e-02, -3.7148e-02, -4.1878e-03,\n",
      "         1.3875e-02,  4.2886e-03, -3.2793e-02,  2.5455e-02,  1.5240e-02,\n",
      "         4.3162e-02,  2.3052e-02,  4.6220e-02, -3.8115e-02, -2.8834e-02,\n",
      "         2.8480e-02, -2.2491e-02,  7.0744e-03,  2.4734e-02,  2.8675e-03,\n",
      "        -3.0875e-02, -1.7801e-02, -3.8759e-02,  4.5058e-02, -4.5738e-02,\n",
      "         2.7379e-02, -5.6592e-03,  6.7251e-03, -1.8934e-02,  1.5856e-03,\n",
      "        -3.7056e-02, -2.7965e-03,  6.1123e-04,  1.0398e-02,  6.1104e-02,\n",
      "        -3.1673e-03, -2.2095e-02, -5.0344e-02, -4.4212e-02,  5.0505e-02,\n",
      "         3.2341e-03, -5.4266e-02, -4.9168e-02,  6.2462e-05,  2.0893e-02,\n",
      "        -3.9793e-02, -6.6195e-02,  1.7002e-02, -4.3326e-02,  2.1276e-02,\n",
      "         2.8818e-02,  3.1252e-02,  9.1568e-03, -1.0546e-04, -1.2938e-02,\n",
      "         3.0527e-02,  4.3643e-02, -2.6166e-02, -5.9886e-02, -8.7860e-03,\n",
      "        -1.1608e-02, -2.3126e-03, -5.8691e-02,  3.7217e-02,  2.4825e-02,\n",
      "        -4.4470e-02, -6.3400e-03,  1.1709e-02,  1.2080e-02,  5.7966e-03,\n",
      "        -5.3221e-02, -5.6458e-02,  2.4247e-02,  2.0100e-02,  3.1309e-02,\n",
      "        -2.8032e-03,  2.0824e-02, -2.4148e-02,  3.4022e-02,  4.2822e-02,\n",
      "         8.9188e-03, -2.2904e-02,  2.9840e-02, -8.1613e-03,  1.6039e-02,\n",
      "        -3.5059e-02,  3.3049e-03,  2.1037e-02,  1.6030e-02, -2.2669e-02,\n",
      "        -1.3132e-02,  1.9545e-02, -3.5668e-02,  3.8251e-02, -2.1032e-02,\n",
      "        -4.5159e-02, -3.5729e-02, -2.0197e-02,  2.0998e-02, -7.4901e-03,\n",
      "        -1.0453e-02, -3.7252e-02, -2.6226e-02, -3.7845e-02, -4.6531e-02,\n",
      "        -2.5263e-02,  2.9422e-02, -5.0881e-02,  7.5009e-03, -1.6600e-02,\n",
      "         2.9099e-02,  4.7572e-02, -1.1601e-02,  3.9293e-02, -1.7622e-02,\n",
      "         7.2569e-03, -5.6871e-02,  1.4439e-02, -3.4611e-02,  4.4729e-02,\n",
      "         2.1049e-02,  3.8504e-02, -5.4395e-02], device='cuda:0')\n",
      "cnn2.weight tensor([[[ 0.0433,  0.0518,  0.0146, -0.0006,  0.0556],\n",
      "         [ 0.0287, -0.0262,  0.0203,  0.0206, -0.0285],\n",
      "         [ 0.0054,  0.0449,  0.0372, -0.0164,  0.0149],\n",
      "         ...,\n",
      "         [-0.0080,  0.0123, -0.0212, -0.0122,  0.0121],\n",
      "         [-0.0035,  0.0418,  0.0324,  0.0327,  0.0050],\n",
      "         [-0.0290, -0.0291, -0.0139, -0.0197,  0.0183]],\n",
      "\n",
      "        [[ 0.0052,  0.0114,  0.0368, -0.0147,  0.0125],\n",
      "         [-0.0029,  0.0171, -0.0193,  0.0170,  0.0015],\n",
      "         [ 0.0060, -0.0102, -0.0258, -0.0210, -0.0003],\n",
      "         ...,\n",
      "         [ 0.0124, -0.0112,  0.0264,  0.0197, -0.0397],\n",
      "         [-0.0277, -0.0135, -0.0276,  0.0096,  0.0020],\n",
      "         [-0.0389, -0.0413,  0.0227, -0.0413,  0.0303]],\n",
      "\n",
      "        [[ 0.0353, -0.0351,  0.0091,  0.0409,  0.0126],\n",
      "         [ 0.0135,  0.0326, -0.0081,  0.0076,  0.0119],\n",
      "         [ 0.0323,  0.0183,  0.0183,  0.0264,  0.0194],\n",
      "         ...,\n",
      "         [-0.0460,  0.0119, -0.0044,  0.0109, -0.0391],\n",
      "         [-0.0429,  0.0157, -0.0358, -0.0218,  0.0014],\n",
      "         [-0.0012, -0.0219,  0.0342,  0.0338, -0.0258]],\n",
      "\n",
      "        ...,\n",
      "\n",
      "        [[ 0.0210,  0.0238, -0.0119,  0.0245, -0.0370],\n",
      "         [-0.0154,  0.0307,  0.0072, -0.0258, -0.0415],\n",
      "         [-0.0295,  0.0150, -0.0468, -0.0092, -0.0110],\n",
      "         ...,\n",
      "         [ 0.0181,  0.0228,  0.0205, -0.0567,  0.0002],\n",
      "         [ 0.0014, -0.0100, -0.0217,  0.0174, -0.0164],\n",
      "         [-0.0450, -0.0482, -0.0207, -0.0241,  0.0071]],\n",
      "\n",
      "        [[ 0.0088,  0.0085,  0.0310, -0.0031,  0.0245],\n",
      "         [-0.0366, -0.0117,  0.0061,  0.0342,  0.0011],\n",
      "         [-0.0314, -0.0181,  0.0180, -0.0186, -0.0064],\n",
      "         ...,\n",
      "         [-0.0125, -0.0140,  0.0153,  0.0242,  0.0178],\n",
      "         [-0.0530,  0.0133,  0.0160, -0.0050, -0.0099],\n",
      "         [-0.0017, -0.0401,  0.0075, -0.0406, -0.0313]],\n",
      "\n",
      "        [[ 0.0213,  0.0032,  0.0647,  0.0043,  0.0170],\n",
      "         [-0.0068, -0.0259, -0.0125,  0.0333,  0.0007],\n",
      "         [ 0.0235,  0.0300,  0.0180,  0.0344,  0.0021],\n",
      "         ...,\n",
      "         [ 0.0076,  0.0090, -0.0309,  0.0234,  0.0109],\n",
      "         [ 0.0095, -0.0219,  0.0255, -0.0075, -0.0303],\n",
      "         [-0.0049, -0.0210,  0.0395,  0.0010,  0.0047]]], device='cuda:0')\n",
      "cnn2.bias tensor([ 0.0443, -0.0024,  0.0134, -0.0277,  0.0247,  0.0137,  0.0094, -0.0109,\n",
      "        -0.0379, -0.0331, -0.0159, -0.0350,  0.0215,  0.0068,  0.0043, -0.0272,\n",
      "         0.0252,  0.0143, -0.0325, -0.0297,  0.0098, -0.0117,  0.0235,  0.0387,\n",
      "        -0.0309, -0.0340,  0.0139, -0.0431,  0.0053, -0.0038,  0.0262,  0.0228,\n",
      "         0.0241,  0.0429, -0.0327, -0.0088, -0.0027,  0.0288,  0.0278,  0.0127,\n",
      "        -0.0260,  0.0252, -0.0203,  0.0070, -0.0294, -0.0113,  0.0230, -0.0298,\n",
      "         0.0021, -0.0504, -0.0140,  0.0032,  0.0259, -0.0040, -0.0161,  0.0374,\n",
      "        -0.0184,  0.0314,  0.0278, -0.0396, -0.0175,  0.0316, -0.0146,  0.0037,\n",
      "         0.0434, -0.0339,  0.0261,  0.0140,  0.0395,  0.0228,  0.0463, -0.0011,\n",
      "         0.0266,  0.0057, -0.0237, -0.0251, -0.0369,  0.0212, -0.0318,  0.0036,\n",
      "        -0.0257,  0.0153,  0.0396, -0.0360,  0.0375,  0.0256, -0.0101,  0.0233,\n",
      "         0.0365,  0.0146,  0.0100,  0.0252, -0.0114, -0.0166, -0.0316,  0.0213,\n",
      "        -0.0348,  0.0209, -0.0018, -0.0103,  0.0109,  0.0144, -0.0062, -0.0023,\n",
      "        -0.0267,  0.0199,  0.0342,  0.0296, -0.0354,  0.0180, -0.0124,  0.0212,\n",
      "         0.0260,  0.0325, -0.0338, -0.0127, -0.0240,  0.0146, -0.0385,  0.0044,\n",
      "         0.0328, -0.0165,  0.0107, -0.0101, -0.0295,  0.0125,  0.0261,  0.0408],\n",
      "       device='cuda:0')\n",
      "cnn3.weight tensor([[[-0.0180,  0.0013, -0.0218,  ..., -0.0262,  0.0170,  0.0190],\n",
      "         [ 0.0154,  0.0029,  0.0214,  ..., -0.0035, -0.0167,  0.0038],\n",
      "         [ 0.0085,  0.0117, -0.0038,  ..., -0.0036,  0.0050, -0.0282],\n",
      "         ...,\n",
      "         [-0.0060,  0.0006,  0.0231,  ...,  0.0067,  0.0218,  0.0281],\n",
      "         [ 0.0214, -0.0219, -0.0178,  ..., -0.0126, -0.0314, -0.0286],\n",
      "         [ 0.0135,  0.0171, -0.0156,  ...,  0.0068, -0.0031,  0.0086]],\n",
      "\n",
      "        [[-0.0061, -0.0255,  0.0026,  ..., -0.0159, -0.0464,  0.0088],\n",
      "         [ 0.0179,  0.0147,  0.0110,  ...,  0.0016, -0.0099,  0.0194],\n",
      "         [-0.0192,  0.0078, -0.0184,  ...,  0.0255, -0.0248,  0.0101],\n",
      "         ...,\n",
      "         [ 0.0265, -0.0277, -0.0104,  ...,  0.0183, -0.0087,  0.0347],\n",
      "         [-0.0005,  0.0061, -0.0096,  ..., -0.0022, -0.0057,  0.0123],\n",
      "         [-0.0216, -0.0228, -0.0346,  ..., -0.0331,  0.0005,  0.0088]],\n",
      "\n",
      "        [[ 0.0139, -0.0240, -0.0137,  ...,  0.0013, -0.0024,  0.0018],\n",
      "         [ 0.0271,  0.0177,  0.0231,  ...,  0.0033,  0.0218, -0.0219],\n",
      "         [-0.0179, -0.0084, -0.0298,  ..., -0.0284,  0.0135, -0.0207],\n",
      "         ...,\n",
      "         [-0.0052, -0.0204, -0.0246,  ...,  0.0087, -0.0454, -0.0388],\n",
      "         [ 0.0159,  0.0369,  0.0194,  ...,  0.0241, -0.0156,  0.0227],\n",
      "         [ 0.0063, -0.0017,  0.0465,  ...,  0.0138,  0.0268,  0.0020]],\n",
      "\n",
      "        ...,\n",
      "\n",
      "        [[-0.0017, -0.0366, -0.0363,  ..., -0.0429, -0.0167, -0.0362],\n",
      "         [-0.0166,  0.0034, -0.0456,  ..., -0.0095, -0.0262, -0.0207],\n",
      "         [ 0.0161, -0.0068,  0.0243,  ..., -0.0127,  0.0035,  0.0099],\n",
      "         ...,\n",
      "         [-0.0409, -0.0535, -0.0251,  ..., -0.0326, -0.0335, -0.0434],\n",
      "         [ 0.0059,  0.0391,  0.0378,  ...,  0.0273,  0.0289,  0.0187],\n",
      "         [ 0.0032,  0.0119,  0.0025,  ...,  0.0220,  0.0341,  0.0101]],\n",
      "\n",
      "        [[-0.0228,  0.0029,  0.0045,  ...,  0.0241,  0.0201, -0.0117],\n",
      "         [-0.0269,  0.0025,  0.0186,  ...,  0.0100, -0.0413, -0.0197],\n",
      "         [-0.0283,  0.0183, -0.0415,  ..., -0.0105,  0.0206,  0.0005],\n",
      "         ...,\n",
      "         [-0.0137, -0.0043, -0.0167,  ..., -0.0377,  0.0103,  0.0045],\n",
      "         [ 0.0174,  0.0102,  0.0217,  ..., -0.0268,  0.0191,  0.0170],\n",
      "         [-0.0256,  0.0221,  0.0011,  ..., -0.0250,  0.0225, -0.0179]],\n",
      "\n",
      "        [[ 0.0030, -0.0113, -0.0500,  ..., -0.0006, -0.0420,  0.0080],\n",
      "         [-0.0201, -0.0197,  0.0176,  ..., -0.0201,  0.0177, -0.0402],\n",
      "         [-0.0239, -0.0538, -0.0181,  ..., -0.0246, -0.0395, -0.0288],\n",
      "         ...,\n",
      "         [-0.0456, -0.0142, -0.0406,  ..., -0.0237, -0.0223,  0.0374],\n",
      "         [ 0.0022,  0.0269, -0.0103,  ...,  0.0148,  0.0055, -0.0323],\n",
      "         [-0.0236,  0.0282,  0.0143,  ..., -0.0045, -0.0398,  0.0101]]],\n",
      "       device='cuda:0')\n",
      "cnn3.bias tensor([ 0.0132,  0.0355, -0.0249, -0.0265,  0.0329,  0.0162,  0.0176,  0.0164,\n",
      "        -0.0021,  0.0091,  0.0188, -0.0133,  0.0087,  0.0081, -0.0239, -0.0065,\n",
      "        -0.0049,  0.0229, -0.0261, -0.0173,  0.0320, -0.0134,  0.0145, -0.0100,\n",
      "        -0.0045,  0.0129, -0.0281, -0.0206, -0.0301,  0.0148, -0.0112, -0.0187,\n",
      "         0.0131, -0.0239,  0.0064, -0.0290, -0.0170, -0.0485, -0.0110,  0.0130,\n",
      "        -0.0094,  0.0045, -0.0009,  0.0079, -0.0030,  0.0020, -0.0095, -0.0424,\n",
      "         0.0142,  0.0131,  0.0023, -0.0153,  0.0260, -0.0131, -0.0070,  0.0007,\n",
      "         0.0239,  0.0298,  0.0376,  0.0026, -0.0185,  0.0288, -0.0075, -0.0142,\n",
      "         0.0035,  0.0226, -0.0081, -0.0264, -0.0054, -0.0311,  0.0003, -0.0020,\n",
      "         0.0071,  0.0145,  0.0121, -0.0233,  0.0172,  0.0025, -0.0014,  0.0132,\n",
      "         0.0133,  0.0266, -0.0364,  0.0156,  0.0211, -0.0094, -0.0375, -0.0151,\n",
      "        -0.0290, -0.0129,  0.0227, -0.0005,  0.0176,  0.0056, -0.0086, -0.0188,\n",
      "        -0.0147,  0.0117,  0.0373, -0.0315, -0.0127,  0.0226,  0.0274,  0.0410,\n",
      "        -0.0255, -0.0173,  0.0192,  0.0330,  0.0224, -0.0147,  0.0323, -0.0095,\n",
      "         0.0243,  0.0418,  0.0204,  0.0086, -0.0158, -0.0368, -0.0172, -0.0154,\n",
      "         0.0189, -0.0117, -0.0273, -0.0302,  0.0215,  0.0213,  0.0053, -0.0251],\n",
      "       device='cuda:0')\n",
      "batchnorm.weight tensor([1.0103, 0.9894, 1.0189, 1.0186, 1.0108, 1.0055, 1.0150, 1.0007, 1.0143,\n",
      "        1.0103, 0.9928, 0.9954, 1.0189, 1.0032, 0.9986, 1.0020, 1.0134, 1.0244,\n",
      "        1.0000, 1.0070, 1.0145, 1.0000, 1.0120, 0.9897, 0.9882, 1.0063, 1.0020,\n",
      "        1.0191, 1.0120, 1.0076, 1.0057, 1.0012, 1.0007, 1.0053, 1.0067, 1.0169,\n",
      "        1.0162, 0.9909, 1.0156, 1.0072, 1.0117, 0.9947, 0.9975, 1.0031, 1.0090,\n",
      "        1.0214, 1.0027, 1.0099, 1.0016, 0.9973, 0.9738, 0.9987, 0.9860, 1.0071,\n",
      "        0.9990, 1.0069, 0.9909, 1.0109, 1.0172, 1.0176, 0.9778, 0.9839, 1.0053,\n",
      "        1.0169, 1.0091, 1.0056, 1.0163, 0.9947, 1.0116, 1.0067, 1.0172, 1.0106,\n",
      "        0.9944, 1.0275, 0.9834, 0.9912, 0.9882, 1.0106, 1.0135, 0.9865, 1.0173,\n",
      "        1.0115, 1.0099, 1.0181, 0.9875, 0.9979, 0.9992, 1.0154, 1.0147, 1.0100,\n",
      "        1.0126, 0.9913, 1.0015, 0.9994, 0.9971, 1.0209, 1.0013, 1.0046, 1.0083,\n",
      "        1.0061, 1.0144, 0.9923, 1.0078, 0.9977, 0.9904, 1.0022, 1.0056, 1.0018,\n",
      "        1.0093, 0.9938, 1.0156, 0.9867, 0.9926, 1.0053, 0.9916, 1.0092, 1.0178,\n",
      "        1.0032, 1.0089, 1.0105, 1.0077, 1.0189, 0.9998, 1.0197, 1.0153, 1.0005,\n",
      "        1.0030, 1.0114, 1.0149, 1.0093, 1.0143, 0.9971, 1.0062, 1.0225, 1.0022,\n",
      "        1.0108, 0.9960, 1.0213, 1.0158, 1.0064, 1.0021, 1.0019, 0.9888, 1.0135,\n",
      "        1.0134, 0.9966, 0.9777, 1.0223, 1.0355, 1.0041, 1.0024, 0.9957, 1.0062,\n",
      "        1.0057, 1.0127, 1.0026, 1.0059, 0.9929, 1.0037, 1.0231, 0.9962, 0.9906,\n",
      "        1.0045, 0.9816, 1.0095, 0.9966, 1.0063, 1.0113, 1.0130, 1.0114, 0.9936,\n",
      "        0.9974, 1.0023, 0.9994, 1.0112, 0.9880, 1.0089, 1.0081, 1.0186, 1.0098,\n",
      "        1.0256, 1.0242, 1.0139, 1.0107, 0.9969, 0.9790, 1.0051, 1.0045, 0.9988,\n",
      "        1.0162, 1.0128, 1.0039, 1.0027, 1.0000, 1.0010, 1.0202, 0.9889, 1.0130,\n",
      "        0.9981, 0.9695, 1.0032, 1.0053, 1.0057, 1.0080, 1.0157, 0.9869, 1.0005,\n",
      "        0.9980, 1.0137, 1.0141, 1.0132, 1.0184, 1.0098, 0.9807, 1.0134, 1.0061,\n",
      "        0.9760, 1.0048, 0.9673, 1.0010, 1.0186, 1.0157, 0.9982, 0.9947, 0.9996,\n",
      "        0.9997, 1.0043, 1.0035, 1.0055, 1.0080, 1.0136, 1.0149, 1.0101, 1.0142,\n",
      "        0.9984, 1.0024, 1.0045, 1.0089, 1.0136, 0.9927, 1.0071, 0.9933, 1.0095,\n",
      "        1.0085, 1.0047, 1.0053, 0.9792, 1.0313, 1.0162, 1.0146, 1.0137, 0.9908,\n",
      "        0.9986, 0.9817, 1.0004, 1.0162, 1.0026, 1.0135, 1.0076, 1.0077, 0.9783,\n",
      "        1.0054, 0.9984, 0.9916, 0.9838, 1.0127, 1.0107, 1.0062, 1.0147, 1.0145,\n",
      "        0.9967, 1.0111, 1.0071, 1.0014, 1.0109, 1.0151, 0.9933, 1.0075, 0.9794,\n",
      "        1.0157, 0.9916, 1.0082, 1.0143, 1.0173, 1.0102, 1.0086, 0.9831, 1.0056,\n",
      "        1.0117, 1.0089, 1.0032, 1.0123, 1.0071, 1.0087, 1.0086, 0.9980, 1.0126,\n",
      "        0.9994, 1.0048, 1.0141, 0.9778, 0.9945, 1.0209, 1.0007, 1.0088, 1.0111,\n",
      "        1.0126, 1.0108, 1.0148, 0.9958, 1.0205, 0.9955, 1.0029, 0.9684, 1.0018,\n",
      "        1.0138, 1.0037, 1.0181, 1.0027, 1.0147, 0.9980, 1.0001, 1.0232, 1.0122,\n",
      "        1.0021, 1.0011, 0.9828, 1.0022, 1.0067, 1.0074, 1.0081, 0.9854, 0.9871,\n",
      "        1.0117, 1.0116, 1.0047, 1.0101, 1.0218, 1.0032, 1.0091, 1.0023, 0.9841,\n",
      "        0.9962, 1.0049, 1.0060, 1.0245, 0.9826, 1.0104, 1.0145, 1.0123, 0.9876,\n",
      "        0.9967, 1.0153, 1.0087, 1.0191, 1.0165, 1.0084, 1.0143, 1.0048, 1.0189,\n",
      "        0.9969, 1.0264, 1.0194, 1.0291, 1.0208, 0.9972, 0.9770, 1.0056, 1.0147,\n",
      "        1.0097, 1.0092, 1.0234, 1.0077, 0.9917, 0.9755, 1.0012, 0.9890, 1.0163,\n",
      "        1.0023, 1.0122, 1.0194, 1.0215, 1.0056, 0.9992], device='cuda:0')\n",
      "batchnorm.bias tensor([-1.5959e-03, -2.2525e-02,  4.1451e-03,  7.4148e-04, -6.4106e-03,\n",
      "        -1.7655e-04,  6.7810e-03, -1.1606e-02,  5.6696e-03, -6.9124e-03,\n",
      "        -1.1695e-02, -9.3963e-03, -4.2847e-04,  9.6954e-04, -1.0320e-02,\n",
      "        -7.0335e-03,  7.0944e-03,  6.2814e-03, -1.7041e-02, -2.7663e-03,\n",
      "        -2.2358e-04, -9.6092e-03, -3.6381e-03, -1.2027e-02, -1.7175e-02,\n",
      "        -3.4850e-03, -1.2189e-02, -8.0483e-03, -1.4211e-02, -6.6475e-03,\n",
      "        -1.1691e-02, -4.6865e-03, -3.3927e-03, -2.4384e-03, -2.7236e-03,\n",
      "        -3.1592e-04, -3.0673e-03, -8.9647e-03, -3.1042e-04, -6.3075e-03,\n",
      "        -7.5525e-04, -2.1695e-02, -8.7427e-03, -7.9004e-03, -2.1059e-03,\n",
      "         1.1508e-04, -7.7835e-03, -1.7443e-03, -1.2507e-02, -1.0673e-02,\n",
      "        -4.3130e-02,  9.3276e-04, -1.2016e-02,  5.6156e-04, -3.7688e-04,\n",
      "        -6.4617e-03, -1.3775e-02, -3.6981e-03, -5.0210e-03,  3.6311e-03,\n",
      "        -2.5625e-02, -2.3044e-02, -4.3117e-03,  5.1056e-03,  3.0078e-03,\n",
      "        -3.1920e-03,  7.8289e-03, -6.3359e-03, -2.3107e-03, -3.3254e-03,\n",
      "         3.4732e-03, -2.6535e-03, -1.3098e-02,  5.1352e-04, -2.6810e-02,\n",
      "        -1.0505e-02, -2.2446e-02, -2.8083e-03, -1.1744e-02, -2.0695e-02,\n",
      "         9.5664e-03, -2.0266e-03, -5.3730e-03,  1.6468e-03, -1.6164e-02,\n",
      "        -7.5672e-03, -6.4377e-03,  1.3116e-03, -1.0256e-02, -9.4208e-03,\n",
      "        -1.8582e-03, -5.1871e-03, -1.0649e-02, -1.0884e-02, -8.3429e-03,\n",
      "         6.1823e-03, -5.8584e-03, -1.1747e-02, -7.7638e-03, -9.8162e-03,\n",
      "        -5.8804e-03, -2.2871e-02,  5.3568e-04, -9.0677e-03, -2.0848e-02,\n",
      "        -9.9355e-03,  3.9133e-03, -1.5396e-02, -6.6898e-03, -2.0484e-02,\n",
      "        -1.1275e-03, -1.5469e-02, -2.3612e-02, -4.7756e-03, -8.2679e-03,\n",
      "        -6.9343e-03,  1.1851e-02, -6.5074e-03, -1.2859e-03, -7.1863e-03,\n",
      "        -3.3170e-03, -6.4066e-04, -7.8422e-03,  4.1686e-03, -1.0281e-02,\n",
      "        -1.0935e-02, -1.4728e-02,  1.6288e-03,  9.0765e-03, -2.3910e-03,\n",
      "         8.7178e-03, -1.2203e-02,  6.1516e-03, -1.4249e-02, -6.0315e-03,\n",
      "        -1.6834e-03, -8.7409e-03, -1.4022e-03,  6.7768e-03, -4.8627e-03,\n",
      "        -1.8480e-02, -9.2195e-03, -2.0320e-02,  2.3139e-03,  1.1787e-03,\n",
      "        -8.9855e-03, -2.0753e-02, -7.4185e-05,  2.1812e-05, -1.4232e-02,\n",
      "        -9.5504e-03, -8.0854e-03,  1.4858e-03, -7.8178e-03, -1.2382e-03,\n",
      "        -2.4702e-03, -5.8393e-03, -1.9445e-02, -5.6714e-03,  3.7654e-03,\n",
      "        -6.2840e-03, -1.5745e-02, -9.6338e-03, -2.0777e-02, -1.3450e-02,\n",
      "        -1.5578e-02, -6.3049e-03, -1.0335e-02, -2.4141e-03, -6.6851e-03,\n",
      "        -1.9552e-02, -1.3846e-02, -8.7736e-03, -5.3667e-03,  5.8032e-04,\n",
      "        -1.1222e-02, -4.5535e-03, -1.4421e-02, -8.9461e-04, -4.6456e-03,\n",
      "        -6.5198e-03,  9.6138e-03, -5.6464e-03,  5.9426e-03, -2.2514e-02,\n",
      "        -3.2775e-02, -1.2692e-02,  9.7600e-04, -1.4007e-02,  2.3533e-03,\n",
      "        -5.3077e-03, -2.2338e-03, -9.3983e-03, -8.6433e-03, -1.1217e-02,\n",
      "         2.7257e-04, -2.1584e-02,  1.2127e-03, -1.9471e-02, -3.3646e-02,\n",
      "        -1.3899e-02, -1.2691e-02,  1.4979e-03,  4.4369e-04,  2.5354e-03,\n",
      "        -1.5430e-02, -4.1086e-03, -1.3223e-02,  2.9289e-04, -2.3882e-03,\n",
      "         3.1291e-03,  6.5500e-03, -9.2780e-04, -2.2254e-02, -9.3656e-03,\n",
      "        -1.3474e-03, -2.9492e-02, -5.9255e-03, -2.9565e-02, -7.4356e-03,\n",
      "        -1.3280e-03,  2.0065e-03, -1.5005e-03, -4.4720e-03, -4.7057e-03,\n",
      "        -8.1992e-03, -3.8530e-03,  1.9691e-05, -8.3277e-03, -1.2520e-03,\n",
      "         5.1551e-04,  2.2182e-03, -6.0561e-03,  3.4246e-03, -1.2656e-02,\n",
      "        -1.1734e-02, -8.2754e-03, -2.6875e-03, -7.0321e-03, -1.0198e-02,\n",
      "         3.8417e-04, -1.2300e-02,  1.1704e-04, -3.2215e-03, -2.9295e-03,\n",
      "        -6.6205e-03, -3.8685e-02,  2.9955e-03,  2.9365e-03,  8.6345e-03,\n",
      "         3.3265e-03, -2.3800e-02, -7.8635e-03, -3.0862e-02,  1.8035e-03,\n",
      "         6.8669e-03, -7.8987e-03, -7.9632e-03,  4.0630e-03, -1.4188e-02,\n",
      "        -2.3833e-02, -6.9791e-03, -9.8111e-03, -5.5432e-03, -1.0213e-02,\n",
      "        -3.3014e-03, -8.3843e-03, -1.5575e-03,  2.3483e-03,  4.3875e-03,\n",
      "        -1.2669e-02, -1.3098e-04, -2.8882e-03, -5.1884e-03, -5.3196e-03,\n",
      "         3.6938e-03, -1.8714e-02,  8.7492e-04, -2.2092e-02, -1.5661e-03,\n",
      "        -1.3320e-02, -8.6184e-03, -5.2673e-03, -5.0833e-04, -3.8640e-03,\n",
      "         1.9032e-03, -2.0717e-02, -7.5176e-03, -4.0963e-03,  1.9184e-03,\n",
      "        -6.2084e-03, -5.2300e-03, -9.8016e-03,  7.2640e-03, -8.6068e-03,\n",
      "        -1.3613e-02, -5.4728e-04, -9.0862e-03, -3.7864e-03,  4.7511e-03,\n",
      "        -3.9598e-02, -1.5020e-02, -5.0334e-04, -4.6785e-03,  1.5317e-03,\n",
      "        -9.8296e-03, -1.6504e-03, -4.1048e-03,  2.3884e-03, -4.0223e-03,\n",
      "         9.1152e-03,  4.4554e-04, -1.7447e-02, -2.7588e-02, -7.6099e-03,\n",
      "         1.5132e-04, -9.5678e-03, -3.4329e-03, -6.8885e-03, -4.0445e-03,\n",
      "        -6.4534e-03, -6.6346e-03,  1.0047e-02, -3.6892e-03, -8.9435e-03,\n",
      "        -7.7395e-03, -2.4206e-02, -1.2626e-02, -6.4663e-03,  2.6603e-03,\n",
      "        -1.3625e-03, -1.2281e-02, -2.7385e-02,  2.3465e-05, -2.2813e-03,\n",
      "        -6.3471e-03, -1.8683e-03,  6.2150e-03, -7.1439e-03, -6.8962e-03,\n",
      "        -1.3855e-02, -2.3755e-02, -7.3656e-03, -1.5931e-03, -7.5487e-03,\n",
      "         3.3434e-03, -2.7524e-02,  3.5638e-03,  2.4400e-04,  6.2071e-03,\n",
      "        -1.2891e-02, -2.3413e-02,  4.5191e-03, -1.7897e-03, -8.8589e-03,\n",
      "         3.9130e-03, -4.4924e-04, -3.4118e-03, -1.9909e-03, -4.2288e-03,\n",
      "        -7.0712e-03,  1.1546e-02, -6.6923e-03,  6.1641e-03,  1.2919e-02,\n",
      "        -2.4075e-02, -1.9170e-02, -5.9054e-03, -3.4442e-03,  4.7533e-05,\n",
      "        -2.8915e-03, -1.6843e-03, -1.5018e-02, -1.1856e-02, -3.7327e-02,\n",
      "        -1.0859e-02, -1.7070e-02,  3.9161e-03, -1.1964e-03,  4.5267e-03,\n",
      "         2.6997e-03,  4.9716e-03, -3.9518e-03, -1.3381e-02], device='cuda:0')\n",
      "lstm.weight_ih_l0 tensor([[-0.0358, -0.0074,  0.0180,  ..., -0.0311, -0.0148, -0.0477],\n",
      "        [-0.0153, -0.0517, -0.0328,  ...,  0.0525, -0.0346,  0.0206],\n",
      "        [ 0.0333, -0.0398,  0.0174,  ...,  0.0224,  0.0166, -0.0067],\n",
      "        ...,\n",
      "        [-0.0249, -0.0192, -0.0620,  ..., -0.0168,  0.0138,  0.0446],\n",
      "        [-0.0465,  0.0106, -0.0206,  ..., -0.0008, -0.0316, -0.0044],\n",
      "        [ 0.0195,  0.0107,  0.0109,  ...,  0.0383, -0.0457, -0.0208]],\n",
      "       device='cuda:0')\n",
      "lstm.weight_hh_l0 tensor([[-0.0220, -0.0386,  0.0074,  ...,  0.0473, -0.0039, -0.0169],\n",
      "        [-0.0533,  0.0504,  0.0506,  ..., -0.0203, -0.0171, -0.0101],\n",
      "        [ 0.0062, -0.0396,  0.0325,  ..., -0.0352,  0.0179, -0.0554],\n",
      "        ...,\n",
      "        [ 0.0074, -0.0676,  0.0329,  ...,  0.0216, -0.0379,  0.0196],\n",
      "        [-0.0206, -0.0111,  0.0246,  ...,  0.0122, -0.0464,  0.0143],\n",
      "        [ 0.0286, -0.0255,  0.0407,  ...,  0.0217,  0.0328,  0.0452]],\n",
      "       device='cuda:0')\n",
      "lstm.bias_ih_l0 tensor([-0.0408,  0.0363, -0.0073,  ..., -0.0185,  0.0026, -0.0349],\n",
      "       device='cuda:0')\n",
      "lstm.bias_hh_l0 tensor([ 0.0162,  0.0086, -0.0026,  ...,  0.0129, -0.0370, -0.0129],\n",
      "       device='cuda:0')\n",
      "lstm.weight_ih_l1 tensor([[ 0.0543, -0.0102, -0.0359,  ..., -0.0417, -0.0152, -0.0244],\n",
      "        [-0.0255,  0.0196,  0.0270,  ...,  0.0336,  0.0384,  0.0042],\n",
      "        [-0.0269, -0.0251,  0.0285,  ...,  0.0148, -0.0162,  0.0088],\n",
      "        ...,\n",
      "        [ 0.0128,  0.0185,  0.0437,  ..., -0.0545, -0.0101,  0.0345],\n",
      "        [-0.0034, -0.0529,  0.0500,  ...,  0.0426, -0.0348, -0.0003],\n",
      "        [-0.0002, -0.0448, -0.0002,  ...,  0.0321,  0.0222,  0.0434]],\n",
      "       device='cuda:0')\n",
      "lstm.weight_hh_l1 tensor([[ 7.3651e-03, -3.0579e-02, -3.3623e-03,  ..., -2.3738e-02,\n",
      "         -4.4761e-02,  6.9403e-03],\n",
      "        [ 3.4016e-02,  3.0795e-03,  1.0328e-02,  ...,  1.2636e-02,\n",
      "          4.5226e-02, -1.2514e-02],\n",
      "        [-2.7377e-02, -2.9817e-03, -1.6059e-02,  ...,  2.4407e-02,\n",
      "         -5.6378e-03,  9.8975e-03],\n",
      "        ...,\n",
      "        [ 6.2766e-08, -3.6725e-02, -5.2628e-02,  ...,  1.8041e-02,\n",
      "         -1.5816e-02,  7.9234e-03],\n",
      "        [ 1.0076e-02, -1.9402e-02, -2.4142e-02,  ..., -2.4223e-02,\n",
      "         -5.3013e-02, -3.2026e-03],\n",
      "        [ 5.7956e-02, -6.7612e-03, -3.5270e-02,  ..., -1.8391e-03,\n",
      "          8.5940e-04,  2.4518e-02]], device='cuda:0')\n",
      "lstm.bias_ih_l1 tensor([-0.0437, -0.0234, -0.0221,  ..., -0.0202,  0.0096, -0.0071],\n",
      "       device='cuda:0')\n",
      "lstm.bias_hh_l1 tensor([ 0.0088, -0.0404, -0.0298,  ..., -0.0387, -0.0420,  0.0019],\n",
      "       device='cuda:0')\n",
      "linear.weight tensor([[ 0.0359,  0.0425,  0.0644,  ...,  0.0238,  0.0288,  0.0591],\n",
      "        [-0.0396, -0.0479,  0.0566,  ...,  0.0011,  0.0295, -0.0077],\n",
      "        [ 0.0004,  0.0262, -0.0468,  ..., -0.0459,  0.0123, -0.0054],\n",
      "        ...,\n",
      "        [ 0.0353,  0.0111, -0.0122,  ..., -0.0032,  0.0112, -0.0436],\n",
      "        [ 0.0080, -0.0041, -0.0243,  ...,  0.0056, -0.0234,  0.0462],\n",
      "        [-0.0482,  0.0287, -0.0072,  ...,  0.0307,  0.0398, -0.0245]],\n",
      "       device='cuda:0')\n",
      "linear.bias tensor([-0.0100, -0.0380, -0.0023, -0.0301, -0.0214,  0.0126,  0.0300],\n",
      "       device='cuda:0')\n"
     ]
    }
   ],
   "source": [
    "for name, param in model.named_parameters():\n",
    "    if param.requires_grad:\n",
    "        print(name, param.data)"
   ]
  },
  {
   "cell_type": "code",
   "execution_count": 262,
   "id": "cc9b6fd0",
   "metadata": {},
   "outputs": [],
   "source": [
    "model_path = f'models/{model_folder}/'\n",
    "\n",
    "os.makedirs(model_path, exist_ok = True) \n",
    "\n",
    "\n",
    "torch.save({'epoch':epochs,\n",
    "            'model_state_dict':model.state_dict(),\n",
    "            'optimizer_state_dict':optimizer.state_dict()},\n",
    "            model_path + f'holdout{holdout}.pth')"
   ]
  },
  {
   "cell_type": "code",
   "execution_count": 263,
   "id": "bb9bbd84",
   "metadata": {},
   "outputs": [],
   "source": [
    "#Let's free memory, else we will overflow our 16GB Memory GPU\n",
    "del testdata\n",
    "del test_dataset\n",
    "del testloader_args\n",
    "del test_dataloader\n",
    "\n",
    "torch.cuda.empty_cache()"
   ]
  },
  {
   "cell_type": "code",
   "execution_count": 264,
   "id": "345075a5",
   "metadata": {},
   "outputs": [],
   "source": [
    "# #Load Model\n",
    "# model = ICASSP3CNN(768, dims = 12)\n",
    "# model.load_state_dict(torch.load(model_path + f'holdout{holdout}.pth')['model_state_dict'])\n",
    "# model = model.to(device)"
   ]
  }
 ],
 "metadata": {
  "kernelspec": {
   "display_name": "base",
   "language": "python",
   "name": "python3"
  },
  "language_info": {
   "codemirror_mode": {
    "name": "ipython",
    "version": 3
   },
   "file_extension": ".py",
   "mimetype": "text/x-python",
   "name": "python",
   "nbconvert_exporter": "python",
   "pygments_lexer": "ipython3",
   "version": "3.7.12"
  },
  "vscode": {
   "interpreter": {
    "hash": "d4d1e4263499bec80672ea0156c357c1ee493ec2b1c70f0acce89fc37c4a6abe"
   }
  }
 },
 "nbformat": 4,
 "nbformat_minor": 5
}
