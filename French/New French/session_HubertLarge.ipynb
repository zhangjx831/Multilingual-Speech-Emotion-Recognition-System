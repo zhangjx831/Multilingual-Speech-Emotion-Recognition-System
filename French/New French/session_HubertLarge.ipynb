{
 "cells": [
  {
   "cell_type": "markdown",
   "id": "83f52390",
   "metadata": {},
   "source": [
    "## Prepare Data"
   ]
  },
  {
   "cell_type": "code",
   "execution_count": 300,
   "id": "072f4dae",
   "metadata": {},
   "outputs": [
    {
     "name": "stdout",
     "output_type": "stream",
     "text": [
      "1.12.1\n",
      "0.12.1+cu113\n",
      "cuda\n"
     ]
    }
   ],
   "source": [
    "import torch\n",
    "import os\n",
    "import torchaudio\n",
    "\n",
    "print(torch.__version__)\n",
    "print(torchaudio.__version__)\n",
    "\n",
    "torch.random.manual_seed(0)\n",
    "device = torch.device(\"cuda\" if torch.cuda.is_available() else \"cpu\")\n",
    "\n",
    "print(device)\n",
    "\n",
    "bundle = torchaudio.pipelines.HUBERT_LARGE\n",
    "model_extr = bundle.get_model().to(device)\n",
    "\n",
    "main_path = '/home/wawa_/'\n",
    "\n",
    "emotion_map = {'Neutre': 'neutral', 'Colère': 'angry', 'Joie': 'happy', 'Tristesse': 'sad', 'Peur': 'fear',\n",
    "              'Dégoût': 'disgust', 'Surprise': 'surprise'}\n",
    "\n",
    "holdout = 4\n",
    "model_name = 'HubertLarge' \n",
    "model_folder = model_name"
   ]
  },
  {
   "attachments": {},
   "cell_type": "markdown",
   "id": "81a803d0",
   "metadata": {},
   "source": [
    "# Generate features (run once)"
   ]
  },
  {
   "cell_type": "code",
   "execution_count": 301,
   "id": "b2bf642e",
   "metadata": {},
   "outputs": [],
   "source": [
    "# import os\n",
    "\n",
    "# data_path = '/home/wawa_/CaFE/High resolution (192kHz)/'\n",
    "# folders = ['Joie', 'Peur', 'Tristesse', 'Colère', 'Dégoût', 'Neutre', 'Surprise']\n",
    "# audios = []\n",
    "# labels = []\n",
    "# file_paths = []\n",
    "# for folder in folders:\n",
    "#   if folder!='Neutre':\n",
    "#     subfolders = ['Fort/', 'Faible/']\n",
    "#   else:\n",
    "#     subfolders = ['']\n",
    "#   for subfolder in subfolders:\n",
    "#     dir_path = data_path + folder + '/' + subfolder\n",
    "#     for file in os.listdir(dir_path):\n",
    "#         if 'aiff' not in file:\n",
    "#             continue\n",
    "#         name = file.split('.')[0]\n",
    "#         file_path = dir_path + file\n",
    "#         labels.append(folder)\n",
    "#         wave, sr = torchaudio.load(file_path)\n",
    "#         wave = wave.to(device)\n",
    "#         if sr != bundle.sample_rate:\n",
    "#             wave = torchaudio.functional.resample(wave, sr, bundle.sample_rate)\n",
    "  \n",
    "#         with torch.inference_mode():\n",
    "#             feature, _ = model_extr.extract_features(wave)\n",
    "#         feature = [f[0] for f in feature]\n",
    "#         feature = torch.stack(feature)\n",
    "#         save_path_folder = f'/home/wawa_/data/{model_folder}/{folder}/{subfolder}'\n",
    "#         os.makedirs(save_path_folder, exist_ok = True) \n",
    "#         save_path = f'/home/wawa_/data/{model_folder}/{folder}/{subfolder}{name}.pt'\n",
    "#         torch.save(feature, save_path)\n"
   ]
  },
  {
   "cell_type": "markdown",
   "id": "d75f81d6",
   "metadata": {},
   "source": [
    "# Generate Sessions (run once)"
   ]
  },
  {
   "cell_type": "code",
   "execution_count": 302,
   "id": "3c93e401",
   "metadata": {},
   "outputs": [],
   "source": [
    "# data_path = main_path + 'CaFE/High resolution (192kHz)/'\n",
    "# features_path = main_path + 'data/{model_folder}/'\n",
    "\n",
    "# feat_extension = '.pt'\n",
    "\n",
    "# keep_strong_only = False\n",
    "\n",
    "# folders = ['Joie', 'Peur', 'Tristesse', 'Colère', 'Dégoût', 'Neutre', 'Surprise']\n",
    "# labels = []\n",
    "\n",
    "# file_paths = []\n",
    "# new_file_paths = []\n",
    "# strengths = []\n",
    "\n",
    "# for folder in folders:\n",
    "#   if folder!='Neutre':\n",
    "#     subfolders = ['Fort/', 'Faible/']\n",
    "#   else:\n",
    "#     subfolders = ['']\n",
    "#   for subfolder in subfolders:\n",
    "#     dir_path = data_path + folder + '/' + subfolder\n",
    "#     dir_path_features = features_path + folder + '/' + subfolder\n",
    "#     for file in os.listdir(dir_path):\n",
    "#         if 'aiff' not in file:\n",
    "#             continue\n",
    "#         if keep_strong_only and subfolder == 'Faible/':\n",
    "#             continue              \n",
    "#         file_path = dir_path + file\n",
    "#         new_file_path = dir_path_features + file.split('.')[0] + feat_extension\n",
    "        \n",
    "#         if subfolder == '':\n",
    "#           strengths.append('Fort')\n",
    "#         else:\n",
    "#           strengths.append(subfolder.split('/')[0])\n",
    "\n",
    "#         labels.append(emotion_map[folder])\n",
    "#         file_paths.append(file_path)\n",
    "#         new_file_paths.append(new_file_path)\n"
   ]
  },
  {
   "cell_type": "code",
   "execution_count": 303,
   "id": "4fd19ea1",
   "metadata": {},
   "outputs": [],
   "source": [
    "# import random\n",
    "# from tqdm import tqdm\n",
    "# import pandas as pd\n",
    "\n",
    "# def shuffle_lists(list1, list2, list3, list4):\n",
    "#     combined = list(zip(list1, list2, list3, list4))\n",
    "#     random.shuffle(combined)\n",
    "#     return zip(*combined)\n",
    "\n",
    "# file_paths, new_file_paths, labels, strengths = shuffle_lists(file_paths, new_file_paths, labels, strengths)\n",
    "\n",
    "# sessions = []\n",
    "# file_names = []\n",
    "\n",
    "# equal_parts = (len(file_paths)-1)//5 # for equally split the file_paths into 5 parts\n",
    "# count = 0\n",
    "# for i in tqdm(range(len(file_paths))):\n",
    "#     file_path = file_paths[i]\n",
    "#     if \"aiff\" not in file_path:\n",
    "#         continue\n",
    "#     file_name = file_path.split('/')[-1]\n",
    "#     file_names.append(file_name)\n",
    "#     # assign session to it\n",
    "#     part = (count//equal_parts)%6 + 1\n",
    "#     if part == 6:\n",
    "#         part = 5\n",
    "#     sessions.append(part)\n",
    "#     count += 1\n",
    "\n",
    "# file = pd.DataFrame({'path':file_paths, 'feat_path': new_file_paths, 'name': file_names, 'emotion': labels, 'strength': strengths, 'session': sessions})\n",
    "# dataframe_path = main_path + 'session_entries.csv'\n",
    "# file.to_csv(dataframe_path)"
   ]
  },
  {
   "cell_type": "markdown",
   "id": "8a7be560",
   "metadata": {},
   "source": [
    "## Load Data"
   ]
  },
  {
   "cell_type": "code",
   "execution_count": 304,
   "id": "c1ef2595",
   "metadata": {},
   "outputs": [
    {
     "data": {
      "text/html": [
       "<div>\n",
       "<style scoped>\n",
       "    .dataframe tbody tr th:only-of-type {\n",
       "        vertical-align: middle;\n",
       "    }\n",
       "\n",
       "    .dataframe tbody tr th {\n",
       "        vertical-align: top;\n",
       "    }\n",
       "\n",
       "    .dataframe thead th {\n",
       "        text-align: right;\n",
       "    }\n",
       "</style>\n",
       "<table border=\"1\" class=\"dataframe\">\n",
       "  <thead>\n",
       "    <tr style=\"text-align: right;\">\n",
       "      <th></th>\n",
       "      <th>path</th>\n",
       "      <th>feat_path</th>\n",
       "      <th>name</th>\n",
       "      <th>emotion</th>\n",
       "      <th>strength</th>\n",
       "      <th>session</th>\n",
       "    </tr>\n",
       "  </thead>\n",
       "  <tbody>\n",
       "    <tr>\n",
       "      <th>0</th>\n",
       "      <td>/home/wawa_/CaFE/High resolution (192kHz)/Dégo...</td>\n",
       "      <td>/home/wawa_/data/HubertLarge/Dégoût/Fort/03-D-...</td>\n",
       "      <td>03-D-2-2.aiff</td>\n",
       "      <td>disgust</td>\n",
       "      <td>Fort</td>\n",
       "      <td>1</td>\n",
       "    </tr>\n",
       "    <tr>\n",
       "      <th>1</th>\n",
       "      <td>/home/wawa_/CaFE/High resolution (192kHz)/Neut...</td>\n",
       "      <td>/home/wawa_/data/HubertLarge/Neutre/01-N-3.pt</td>\n",
       "      <td>01-N-3.aiff</td>\n",
       "      <td>neutral</td>\n",
       "      <td>Fort</td>\n",
       "      <td>1</td>\n",
       "    </tr>\n",
       "    <tr>\n",
       "      <th>2</th>\n",
       "      <td>/home/wawa_/CaFE/High resolution (192kHz)/Tris...</td>\n",
       "      <td>/home/wawa_/data/HubertLarge/Tristesse/Fort/02...</td>\n",
       "      <td>02-T-2-6.aiff</td>\n",
       "      <td>sad</td>\n",
       "      <td>Fort</td>\n",
       "      <td>1</td>\n",
       "    </tr>\n",
       "    <tr>\n",
       "      <th>4</th>\n",
       "      <td>/home/wawa_/CaFE/High resolution (192kHz)/Surp...</td>\n",
       "      <td>/home/wawa_/data/HubertLarge/Surprise/Fort/08-...</td>\n",
       "      <td>08-S-2-6.aiff</td>\n",
       "      <td>surprise</td>\n",
       "      <td>Fort</td>\n",
       "      <td>1</td>\n",
       "    </tr>\n",
       "    <tr>\n",
       "      <th>5</th>\n",
       "      <td>/home/wawa_/CaFE/High resolution (192kHz)/Tris...</td>\n",
       "      <td>/home/wawa_/data/HubertLarge/Tristesse/Fort/09...</td>\n",
       "      <td>09-T-2-5.aiff</td>\n",
       "      <td>sad</td>\n",
       "      <td>Fort</td>\n",
       "      <td>1</td>\n",
       "    </tr>\n",
       "  </tbody>\n",
       "</table>\n",
       "</div>"
      ],
      "text/plain": [
       "                                                path  \\\n",
       "0  /home/wawa_/CaFE/High resolution (192kHz)/Dégo...   \n",
       "1  /home/wawa_/CaFE/High resolution (192kHz)/Neut...   \n",
       "2  /home/wawa_/CaFE/High resolution (192kHz)/Tris...   \n",
       "4  /home/wawa_/CaFE/High resolution (192kHz)/Surp...   \n",
       "5  /home/wawa_/CaFE/High resolution (192kHz)/Tris...   \n",
       "\n",
       "                                           feat_path           name   emotion  \\\n",
       "0  /home/wawa_/data/HubertLarge/Dégoût/Fort/03-D-...  03-D-2-2.aiff   disgust   \n",
       "1      /home/wawa_/data/HubertLarge/Neutre/01-N-3.pt    01-N-3.aiff   neutral   \n",
       "2  /home/wawa_/data/HubertLarge/Tristesse/Fort/02...  02-T-2-6.aiff       sad   \n",
       "4  /home/wawa_/data/HubertLarge/Surprise/Fort/08-...  08-S-2-6.aiff  surprise   \n",
       "5  /home/wawa_/data/HubertLarge/Tristesse/Fort/09...  09-T-2-5.aiff       sad   \n",
       "\n",
       "  strength  session  \n",
       "0     Fort        1  \n",
       "1     Fort        1  \n",
       "2     Fort        1  \n",
       "4     Fort        1  \n",
       "5     Fort        1  "
      ]
     },
     "execution_count": 304,
     "metadata": {},
     "output_type": "execute_result"
    }
   ],
   "source": [
    "import pandas as pd\n",
    "\n",
    "# Get the entries with assigned session\n",
    "dataframe_path = main_path + 'session_entries.csv'\n",
    "file = pd.read_csv(dataframe_path)[['path', 'feat_path', 'name', 'emotion', 'strength', 'session']]\n",
    "file = file[file['strength'] == 'Fort']\n",
    "\n",
    "\n",
    "\n",
    "# #### If on low_res data:\n",
    "# def fix_path(path):\n",
    "#     path2 = path.split('/')\n",
    "#     if path2[-1][3]=='N':\n",
    "#         path2[-1] = path2[-1][:5] + '1-' + path2[-1][5:]\n",
    "#     return '/'.join(path2)\n",
    "\n",
    "# def fix_name(name):\n",
    "#     if name[3]=='N':\n",
    "#         return name[:5] + '1-' + name[5:]\n",
    "#     else:\n",
    "#         return name\n",
    "\n",
    "# file['path'] = file['path'].map(fix_path)\n",
    "# file['feat_path'] = file['feat_path'].map(fix_path)\n",
    "# file['name'] = file['name'].map(fix_name)\n",
    "\n",
    "\n",
    "#### Corrects path of data:\n",
    "def fix_path(path):\n",
    "    global model_folder\n",
    "    path2 = path.split('/')\n",
    "    path2[4] = model_folder\n",
    "    return '/'.join(path2)\n",
    "\n",
    "file['feat_path'] = file['feat_path'].map(fix_path)\n",
    "\n",
    "file.head()"
   ]
  },
  {
   "attachments": {},
   "cell_type": "markdown",
   "id": "07289a31",
   "metadata": {},
   "source": [
    "# Create Sessions and shuffle data"
   ]
  },
  {
   "cell_type": "code",
   "execution_count": 305,
   "id": "eb4cd78e",
   "metadata": {},
   "outputs": [],
   "source": [
    "train = file[file['session'] != holdout]\n",
    "test = file[file['session'] == holdout]"
   ]
  },
  {
   "cell_type": "code",
   "execution_count": 306,
   "id": "f62bde2d",
   "metadata": {},
   "outputs": [
    {
     "data": {
      "image/png": "[encoded data removed]",
      "text/plain": [
       "<Figure size 640x480 with 1 Axes>"
      ]
     },
     "metadata": {},
     "output_type": "display_data"
    }
   ],
   "source": [
    "import matplotlib.pyplot as plt\n",
    "\n",
    "file[file['session']== holdout]['emotion'].value_counts().plot(kind='bar')\n",
    "\n",
    "\n",
    "os.makedirs(f'images/Session balances/{model_name}/', exist_ok = True) \n",
    "plt.title(f'Class balance for holdout {holdout} on model {model_name}')\n",
    "plt.ylabel('count')\n",
    "plt.savefig(f'images/Session balances/{model_name}/{model_name}_holdout{holdout}.jpg')\n",
    "plt.show()"
   ]
  },
  {
   "cell_type": "code",
   "execution_count": 307,
   "id": "75a75bd9",
   "metadata": {},
   "outputs": [],
   "source": [
    "class MyDataSet(torch.utils.data.Dataset):\n",
    "    def __init__(self, datas, labels, label_transform):\n",
    "        super(MyDataSet).__init__()\n",
    "        self.datas = datas\n",
    "        self.labels = labels\n",
    "        self.label_transform = label_transform\n",
    "        \n",
    "    def __getitem__(self, idx):\n",
    "        audio = self.datas[idx]\n",
    "        label = self.label_transform[self.labels[idx]]\n",
    "        length = audio.size(1)\n",
    "        return audio, length, label\n",
    "    \n",
    "    def __len__(self):\n",
    "        return len(self.labels)"
   ]
  },
  {
   "cell_type": "code",
   "execution_count": 308,
   "id": "141ec40a",
   "metadata": {},
   "outputs": [],
   "source": [
    "def collate_indic(data):\n",
    "    audios, lengths, labels = zip(*data)\n",
    "    max_len = max(lengths)\n",
    "    n_ftrs = audios[0].size(2)\n",
    "    n_dims = audios[0].size(0)\n",
    "    features = torch.zeros((len(audios), n_dims, max_len, n_ftrs))\n",
    "    labels = torch.tensor(labels).to(device)\n",
    "    lengths = torch.tensor(lengths).to(device)\n",
    "\n",
    "    for i in range(len(data)):\n",
    "        j, k = audios[i].size(1), audios[i].size(2)\n",
    "        features[i] = torch.cat([audios[i].to(device), torch.zeros((n_dims, max_len - j, k)).to(device)], dim=1).to(device)\n",
    "\n",
    "    return features, lengths, labels"
   ]
  },
  {
   "cell_type": "code",
   "execution_count": 309,
   "id": "0738ead4",
   "metadata": {},
   "outputs": [
    {
     "data": {
      "text/plain": [
       "{'neutral': 0,\n",
       " 'angry': 1,\n",
       " 'happy': 2,\n",
       " 'sad': 3,\n",
       " 'fear': 4,\n",
       " 'disgust': 5,\n",
       " 'surprise': 6}"
      ]
     },
     "execution_count": 309,
     "metadata": {},
     "output_type": "execute_result"
    }
   ],
   "source": [
    "categories = ['neutral', 'angry', 'happy', 'sad', 'fear', 'disgust', 'surprise']\n",
    "cate_dic = {}\n",
    "for i, cate in enumerate(categories):\n",
    "    cate_dic[cate] = i\n",
    "cate_dic"
   ]
  },
  {
   "cell_type": "markdown",
   "id": "adf4848c",
   "metadata": {},
   "source": [
    "## Train with 3CNN+LSTM"
   ]
  },
  {
   "cell_type": "code",
   "execution_count": 310,
   "id": "2ef1a6ec",
   "metadata": {},
   "outputs": [],
   "source": [
    "import torch.nn as nn\n",
    "import torch.nn.functional as F\n",
    "\n",
    "class ICASSP3CNN(nn.Module):\n",
    "    def __init__(self, vocab_size, dims = 12, embed_size=128, hidden_size=512, num_lstm_layers = 2, bidirectional = False, label_size=7):\n",
    "        super().__init__()\n",
    "        self.n_layers = num_lstm_layers \n",
    "        self.hidden = hidden_size\n",
    "        self.bidirectional = bidirectional\n",
    "        \n",
    "        self.aggr = nn.Conv1d(in_channels=dims, out_channels=1, kernel_size=1)\n",
    "        \n",
    "        self.embed = nn.Linear(in_features = vocab_size, out_features = embed_size)\n",
    "\n",
    "        self.cnn  = nn.Conv1d(embed_size, embed_size, kernel_size=3, padding=1)\n",
    "        self.cnn2 = nn.Conv1d(embed_size, embed_size, kernel_size=5, padding=2)\n",
    "        self.cnn3 = nn.Conv1d(embed_size, embed_size, kernel_size=7, padding=3)\n",
    "\n",
    "        self.batchnorm = nn.BatchNorm1d(3 * embed_size)\n",
    "\n",
    "        self.lstm = nn.LSTM(input_size = 3 * embed_size, \n",
    "                            hidden_size = hidden_size, \n",
    "                            num_layers = num_lstm_layers, \n",
    "                            bidirectional = bidirectional)\n",
    "\n",
    "        self.linear = nn.Linear(in_features = 2 * hidden_size if bidirectional else hidden_size, \n",
    "                                out_features = label_size)\n",
    "\n",
    "\n",
    "    def forward(self, x, lengths):\n",
    "        \"\"\"\n",
    "        padded_x: (B,T) padded LongTensor\n",
    "        \"\"\"\n",
    "        n, d, b, t = x.size(0), x.size(1), x.size(2), x.size(3)\n",
    "        x = torch.flatten(x, start_dim=2)\n",
    "        input = self.aggr(x)\n",
    "        input = torch.reshape(input, (n, b, t))\n",
    "        input = self.embed(input)\n",
    "\n",
    "        batch_size = input.size(0)\n",
    "        input = input.transpose(1,2)    # (B,T,H) -> (B,H,T)\n",
    "\n",
    "        cnn_output = torch.cat([self.cnn(input), self.cnn2(input), self.cnn3(input)], dim=1)\n",
    "\n",
    "        input = F.relu(self.batchnorm(cnn_output))\n",
    "\n",
    "        input = input.transpose(1,2)\n",
    "\n",
    "        pack_tensor = nn.utils.rnn.pack_padded_sequence(input, lengths, batch_first=True, enforce_sorted=False)\n",
    "        _, (hn, cn) = self.lstm(pack_tensor)\n",
    "\n",
    "        if self.bidirectional:\n",
    "            h_n = hn.view(self.n_layers, 2, batch_size, self.hidden)\n",
    "            h_n = torch.cat([ h_n[-1, 0,:], h_n[-1,1,:] ], dim = 1)\n",
    "        else:\n",
    "            h_n = hn[-1]\n",
    "\n",
    "        logits = self.linear(h_n)\n",
    "\n",
    "        return logits"
   ]
  },
  {
   "cell_type": "markdown",
   "id": "21a7d392",
   "metadata": {},
   "source": [
    "### Model Traning on each layer "
   ]
  },
  {
   "cell_type": "code",
   "execution_count": 311,
   "id": "01d051d0",
   "metadata": {},
   "outputs": [
    {
     "name": "stderr",
     "output_type": "stream",
     "text": [
      "417it [00:04, 90.39it/s]\n"
     ]
    }
   ],
   "source": [
    "from tqdm import tqdm\n",
    "from torch.utils.data import DataLoader\n",
    "\n",
    "traindata = []\n",
    "for _, row in tqdm(train.iterrows()):\n",
    "    traindata.append(torch.load(row['feat_path']).to(device))"
   ]
  },
  {
   "cell_type": "code",
   "execution_count": 312,
   "id": "57b10d98",
   "metadata": {},
   "outputs": [],
   "source": [
    "train_dataset = MyDataSet(traindata, train['emotion'].tolist(), cate_dic)\n",
    "trainloader_args = dict(batch_size=16, shuffle=True)\n",
    "train_dataloader = DataLoader(train_dataset, **trainloader_args, \n",
    "                              collate_fn=collate_indic)"
   ]
  },
  {
   "cell_type": "code",
   "execution_count": 313,
   "id": "e6942285",
   "metadata": {},
   "outputs": [],
   "source": [
    "from tqdm import tqdm\n",
    "from torchsummary import summary\n",
    "import torch.optim as optim\n",
    "\n",
    "model = ICASSP3CNN(1024, dims = 24)\n",
    "model = model.to(device)\n",
    "criterion = nn.CrossEntropyLoss()\n",
    "optimizer = optim.Adam(model.parameters(), lr=0.00005)"
   ]
  },
  {
   "cell_type": "code",
   "execution_count": 314,
   "id": "75762bdc",
   "metadata": {},
   "outputs": [
    {
     "name": "stderr",
     "output_type": "stream",
     "text": [
      "  2%|▏         | 1/50 [00:09<07:37,  9.33s/it]"
     ]
    },
    {
     "name": "stdout",
     "output_type": "stream",
     "text": [
      "epoch:1, train accu:0.1631, train loss:1.94\n"
     ]
    },
    {
     "name": "stderr",
     "output_type": "stream",
     "text": [
      "  4%|▍         | 2/50 [00:18<07:36,  9.51s/it]"
     ]
    },
    {
     "name": "stdout",
     "output_type": "stream",
     "text": [
      "epoch:2, train accu:0.3501, train loss:1.86\n"
     ]
    },
    {
     "name": "stderr",
     "output_type": "stream",
     "text": [
      "  6%|▌         | 3/50 [00:28<07:25,  9.47s/it]"
     ]
    },
    {
     "name": "stdout",
     "output_type": "stream",
     "text": [
      "epoch:3, train accu:0.3909, train loss:1.62\n"
     ]
    },
    {
     "name": "stderr",
     "output_type": "stream",
     "text": [
      "  8%|▊         | 4/50 [00:37<07:14,  9.44s/it]"
     ]
    },
    {
     "name": "stdout",
     "output_type": "stream",
     "text": [
      "epoch:4, train accu:0.5875, train loss:1.26\n"
     ]
    },
    {
     "name": "stderr",
     "output_type": "stream",
     "text": [
      " 10%|█         | 5/50 [00:46<07:01,  9.36s/it]"
     ]
    },
    {
     "name": "stdout",
     "output_type": "stream",
     "text": [
      "epoch:5, train accu:0.6547, train loss:1.09\n"
     ]
    },
    {
     "name": "stderr",
     "output_type": "stream",
     "text": [
      " 12%|█▏        | 6/50 [00:56<06:49,  9.31s/it]"
     ]
    },
    {
     "name": "stdout",
     "output_type": "stream",
     "text": [
      "epoch:6, train accu:0.6906, train loss:0.84\n"
     ]
    },
    {
     "name": "stderr",
     "output_type": "stream",
     "text": [
      " 14%|█▍        | 7/50 [01:05<06:38,  9.26s/it]"
     ]
    },
    {
     "name": "stdout",
     "output_type": "stream",
     "text": [
      "epoch:7, train accu:0.7482, train loss:0.75\n"
     ]
    },
    {
     "name": "stderr",
     "output_type": "stream",
     "text": [
      " 16%|█▌        | 8/50 [01:14<06:29,  9.28s/it]"
     ]
    },
    {
     "name": "stdout",
     "output_type": "stream",
     "text": [
      "epoch:8, train accu:0.7914, train loss:0.58\n"
     ]
    },
    {
     "name": "stderr",
     "output_type": "stream",
     "text": [
      " 18%|█▊        | 9/50 [01:24<06:22,  9.32s/it]"
     ]
    },
    {
     "name": "stdout",
     "output_type": "stream",
     "text": [
      "epoch:9, train accu:0.8153, train loss:0.55\n"
     ]
    },
    {
     "name": "stderr",
     "output_type": "stream",
     "text": [
      " 20%|██        | 10/50 [01:33<06:13,  9.33s/it]"
     ]
    },
    {
     "name": "stdout",
     "output_type": "stream",
     "text": [
      "epoch:10, train accu:0.7722, train loss:0.76\n"
     ]
    },
    {
     "name": "stderr",
     "output_type": "stream",
     "text": [
      " 22%|██▏       | 11/50 [01:42<06:00,  9.25s/it]"
     ]
    },
    {
     "name": "stdout",
     "output_type": "stream",
     "text": [
      "epoch:11, train accu:0.7674, train loss:0.68\n"
     ]
    },
    {
     "name": "stderr",
     "output_type": "stream",
     "text": [
      " 24%|██▍       | 12/50 [01:51<05:53,  9.29s/it]"
     ]
    },
    {
     "name": "stdout",
     "output_type": "stream",
     "text": [
      "epoch:12, train accu:0.8657, train loss:0.51\n"
     ]
    },
    {
     "name": "stderr",
     "output_type": "stream",
     "text": [
      " 26%|██▌       | 13/50 [02:01<05:43,  9.27s/it]"
     ]
    },
    {
     "name": "stdout",
     "output_type": "stream",
     "text": [
      "epoch:13, train accu:0.8225, train loss:0.50\n"
     ]
    },
    {
     "name": "stderr",
     "output_type": "stream",
     "text": [
      " 28%|██▊       | 14/50 [02:10<05:33,  9.27s/it]"
     ]
    },
    {
     "name": "stdout",
     "output_type": "stream",
     "text": [
      "epoch:14, train accu:0.8825, train loss:0.33\n"
     ]
    },
    {
     "name": "stderr",
     "output_type": "stream",
     "text": [
      " 30%|███       | 15/50 [02:20<05:29,  9.43s/it]"
     ]
    },
    {
     "name": "stdout",
     "output_type": "stream",
     "text": [
      "epoch:15, train accu:0.9209, train loss:0.33\n"
     ]
    },
    {
     "name": "stderr",
     "output_type": "stream",
     "text": [
      " 32%|███▏      | 16/50 [02:29<05:17,  9.33s/it]"
     ]
    },
    {
     "name": "stdout",
     "output_type": "stream",
     "text": [
      "epoch:16, train accu:0.8225, train loss:0.53\n"
     ]
    },
    {
     "name": "stderr",
     "output_type": "stream",
     "text": [
      " 34%|███▍      | 17/50 [02:38<05:06,  9.28s/it]"
     ]
    },
    {
     "name": "stdout",
     "output_type": "stream",
     "text": [
      "epoch:17, train accu:0.8945, train loss:0.33\n"
     ]
    },
    {
     "name": "stderr",
     "output_type": "stream",
     "text": [
      " 36%|███▌      | 18/50 [02:47<04:56,  9.25s/it]"
     ]
    },
    {
     "name": "stdout",
     "output_type": "stream",
     "text": [
      "epoch:18, train accu:0.8153, train loss:0.47\n"
     ]
    },
    {
     "name": "stderr",
     "output_type": "stream",
     "text": [
      " 38%|███▊      | 19/50 [02:57<04:48,  9.29s/it]"
     ]
    },
    {
     "name": "stdout",
     "output_type": "stream",
     "text": [
      "epoch:19, train accu:0.9209, train loss:0.24\n"
     ]
    },
    {
     "name": "stderr",
     "output_type": "stream",
     "text": [
      " 40%|████      | 20/50 [03:06<04:39,  9.31s/it]"
     ]
    },
    {
     "name": "stdout",
     "output_type": "stream",
     "text": [
      "epoch:20, train accu:0.9568, train loss:0.16\n"
     ]
    },
    {
     "name": "stderr",
     "output_type": "stream",
     "text": [
      " 42%|████▏     | 21/50 [03:16<04:35,  9.50s/it]"
     ]
    },
    {
     "name": "stdout",
     "output_type": "stream",
     "text": [
      "epoch:21, train accu:0.9640, train loss:0.23\n"
     ]
    },
    {
     "name": "stderr",
     "output_type": "stream",
     "text": [
      " 44%|████▍     | 22/50 [03:25<04:22,  9.38s/it]"
     ]
    },
    {
     "name": "stdout",
     "output_type": "stream",
     "text": [
      "epoch:22, train accu:0.8225, train loss:0.46\n"
     ]
    },
    {
     "name": "stderr",
     "output_type": "stream",
     "text": [
      " 46%|████▌     | 23/50 [03:34<04:11,  9.33s/it]"
     ]
    },
    {
     "name": "stdout",
     "output_type": "stream",
     "text": [
      "epoch:23, train accu:0.9113, train loss:0.28\n"
     ]
    },
    {
     "name": "stderr",
     "output_type": "stream",
     "text": [
      " 48%|████▊     | 24/50 [03:43<04:01,  9.28s/it]"
     ]
    },
    {
     "name": "stdout",
     "output_type": "stream",
     "text": [
      "epoch:24, train accu:0.9616, train loss:0.15\n"
     ]
    },
    {
     "name": "stderr",
     "output_type": "stream",
     "text": [
      " 50%|█████     | 25/50 [03:52<03:51,  9.25s/it]"
     ]
    },
    {
     "name": "stdout",
     "output_type": "stream",
     "text": [
      "epoch:25, train accu:0.9305, train loss:0.21\n"
     ]
    },
    {
     "name": "stderr",
     "output_type": "stream",
     "text": [
      " 52%|█████▏    | 26/50 [04:02<03:41,  9.25s/it]"
     ]
    },
    {
     "name": "stdout",
     "output_type": "stream",
     "text": [
      "epoch:26, train accu:0.9544, train loss:0.18\n"
     ]
    },
    {
     "name": "stderr",
     "output_type": "stream",
     "text": [
      " 54%|█████▍    | 27/50 [04:11<03:32,  9.25s/it]"
     ]
    },
    {
     "name": "stdout",
     "output_type": "stream",
     "text": [
      "epoch:27, train accu:0.7842, train loss:0.76\n"
     ]
    },
    {
     "name": "stderr",
     "output_type": "stream",
     "text": [
      " 56%|█████▌    | 28/50 [04:21<03:27,  9.43s/it]"
     ]
    },
    {
     "name": "stdout",
     "output_type": "stream",
     "text": [
      "epoch:28, train accu:0.7098, train loss:0.90\n"
     ]
    },
    {
     "name": "stderr",
     "output_type": "stream",
     "text": [
      " 58%|█████▊    | 29/50 [04:30<03:17,  9.40s/it]"
     ]
    },
    {
     "name": "stdout",
     "output_type": "stream",
     "text": [
      "epoch:29, train accu:0.8777, train loss:0.41\n"
     ]
    },
    {
     "name": "stderr",
     "output_type": "stream",
     "text": [
      " 60%|██████    | 30/50 [04:40<03:07,  9.39s/it]"
     ]
    },
    {
     "name": "stdout",
     "output_type": "stream",
     "text": [
      "epoch:30, train accu:0.9065, train loss:0.33\n"
     ]
    },
    {
     "name": "stderr",
     "output_type": "stream",
     "text": [
      " 62%|██████▏   | 31/50 [04:49<02:58,  9.37s/it]"
     ]
    },
    {
     "name": "stdout",
     "output_type": "stream",
     "text": [
      "epoch:31, train accu:0.8513, train loss:0.43\n"
     ]
    },
    {
     "name": "stderr",
     "output_type": "stream",
     "text": [
      " 64%|██████▍   | 32/50 [04:58<02:48,  9.34s/it]"
     ]
    },
    {
     "name": "stdout",
     "output_type": "stream",
     "text": [
      "epoch:32, train accu:0.9448, train loss:0.17\n"
     ]
    },
    {
     "name": "stderr",
     "output_type": "stream",
     "text": [
      " 66%|██████▌   | 33/50 [05:07<02:37,  9.29s/it]"
     ]
    },
    {
     "name": "stdout",
     "output_type": "stream",
     "text": [
      "epoch:33, train accu:0.9784, train loss:0.10\n"
     ]
    },
    {
     "name": "stderr",
     "output_type": "stream",
     "text": [
      " 68%|██████▊   | 34/50 [05:17<02:31,  9.46s/it]"
     ]
    },
    {
     "name": "stdout",
     "output_type": "stream",
     "text": [
      "epoch:34, train accu:0.9904, train loss:0.08\n"
     ]
    },
    {
     "name": "stderr",
     "output_type": "stream",
     "text": [
      " 70%|███████   | 35/50 [05:26<02:20,  9.39s/it]"
     ]
    },
    {
     "name": "stdout",
     "output_type": "stream",
     "text": [
      "epoch:35, train accu:0.8849, train loss:0.52\n"
     ]
    },
    {
     "name": "stderr",
     "output_type": "stream",
     "text": [
      " 72%|███████▏  | 36/50 [05:36<02:10,  9.32s/it]"
     ]
    },
    {
     "name": "stdout",
     "output_type": "stream",
     "text": [
      "epoch:36, train accu:0.9281, train loss:0.19\n"
     ]
    },
    {
     "name": "stderr",
     "output_type": "stream",
     "text": [
      " 74%|███████▍  | 37/50 [05:45<02:00,  9.27s/it]"
     ]
    },
    {
     "name": "stdout",
     "output_type": "stream",
     "text": [
      "epoch:37, train accu:0.9736, train loss:0.09\n"
     ]
    },
    {
     "name": "stderr",
     "output_type": "stream",
     "text": [
      " 76%|███████▌  | 38/50 [05:54<01:51,  9.31s/it]"
     ]
    },
    {
     "name": "stdout",
     "output_type": "stream",
     "text": [
      "epoch:38, train accu:0.9832, train loss:0.07\n"
     ]
    },
    {
     "name": "stderr",
     "output_type": "stream",
     "text": [
      " 78%|███████▊  | 39/50 [06:03<01:42,  9.30s/it]"
     ]
    },
    {
     "name": "stdout",
     "output_type": "stream",
     "text": [
      "epoch:39, train accu:0.9928, train loss:0.06\n"
     ]
    },
    {
     "name": "stderr",
     "output_type": "stream",
     "text": [
      " 80%|████████  | 40/50 [06:13<01:33,  9.32s/it]"
     ]
    },
    {
     "name": "stdout",
     "output_type": "stream",
     "text": [
      "epoch:40, train accu:0.9257, train loss:0.22\n"
     ]
    },
    {
     "name": "stderr",
     "output_type": "stream",
     "text": [
      " 82%|████████▏ | 41/50 [06:23<01:25,  9.49s/it]"
     ]
    },
    {
     "name": "stdout",
     "output_type": "stream",
     "text": [
      "epoch:41, train accu:0.9736, train loss:0.09\n"
     ]
    },
    {
     "name": "stderr",
     "output_type": "stream",
     "text": [
      " 84%|████████▍ | 42/50 [06:32<01:15,  9.40s/it]"
     ]
    },
    {
     "name": "stdout",
     "output_type": "stream",
     "text": [
      "epoch:42, train accu:0.9904, train loss:0.05\n"
     ]
    },
    {
     "name": "stderr",
     "output_type": "stream",
     "text": [
      " 86%|████████▌ | 43/50 [06:41<01:05,  9.37s/it]"
     ]
    },
    {
     "name": "stdout",
     "output_type": "stream",
     "text": [
      "epoch:43, train accu:0.9976, train loss:0.06\n"
     ]
    },
    {
     "name": "stderr",
     "output_type": "stream",
     "text": [
      " 88%|████████▊ | 44/50 [06:50<00:55,  9.32s/it]"
     ]
    },
    {
     "name": "stdout",
     "output_type": "stream",
     "text": [
      "epoch:44, train accu:0.8225, train loss:0.68\n"
     ]
    },
    {
     "name": "stderr",
     "output_type": "stream",
     "text": [
      " 90%|█████████ | 45/50 [07:00<00:46,  9.29s/it]"
     ]
    },
    {
     "name": "stdout",
     "output_type": "stream",
     "text": [
      "epoch:45, train accu:0.9664, train loss:0.12\n"
     ]
    },
    {
     "name": "stderr",
     "output_type": "stream",
     "text": [
      " 92%|█████████▏| 46/50 [07:09<00:37,  9.28s/it]"
     ]
    },
    {
     "name": "stdout",
     "output_type": "stream",
     "text": [
      "epoch:46, train accu:0.9952, train loss:0.05\n"
     ]
    },
    {
     "name": "stderr",
     "output_type": "stream",
     "text": [
      " 94%|█████████▍| 47/50 [07:18<00:28,  9.40s/it]"
     ]
    },
    {
     "name": "stdout",
     "output_type": "stream",
     "text": [
      "epoch:47, train accu:0.9952, train loss:0.03\n"
     ]
    },
    {
     "name": "stderr",
     "output_type": "stream",
     "text": [
      " 96%|█████████▌| 48/50 [07:28<00:18,  9.38s/it]"
     ]
    },
    {
     "name": "stdout",
     "output_type": "stream",
     "text": [
      "epoch:48, train accu:1.0000, train loss:0.02\n"
     ]
    },
    {
     "name": "stderr",
     "output_type": "stream",
     "text": [
      " 98%|█████████▊| 49/50 [07:37<00:09,  9.34s/it]"
     ]
    },
    {
     "name": "stdout",
     "output_type": "stream",
     "text": [
      "epoch:49, train accu:1.0000, train loss:0.02\n"
     ]
    },
    {
     "name": "stderr",
     "output_type": "stream",
     "text": [
      "100%|██████████| 50/50 [07:46<00:00,  9.34s/it]"
     ]
    },
    {
     "name": "stdout",
     "output_type": "stream",
     "text": [
      "epoch:50, train accu:1.0000, train loss:0.01\n"
     ]
    },
    {
     "name": "stderr",
     "output_type": "stream",
     "text": [
      "\n"
     ]
    }
   ],
   "source": [
    "epochs = 50\n",
    "train_losses = []\n",
    "train_accuracies = []\n",
    "valid_losses = []\n",
    "valid_accuracies = []\n",
    "\n",
    "for epoch in tqdm(range(epochs)):\n",
    "    train_loss = 0\n",
    "    acc_cnt = 0\n",
    "    err_cnt = 0\n",
    "    batch_cnt = 0\n",
    "    model.train()\n",
    "    for batch, (x, length, y) in enumerate(train_dataloader):\n",
    "        x = x.to(device)\n",
    "        y = y.to(device)\n",
    "        length = length.cpu()\n",
    "        optimizer.zero_grad()\n",
    "        logits = model(x, length)\n",
    "        loss = criterion(logits, y)\n",
    "        loss.backward()\n",
    "        optimizer.step()\n",
    "        train_loss += loss.cpu().item()\n",
    "\n",
    "        #model outputs\n",
    "        out_val, out_indices = torch.max(logits, dim=1)\n",
    "        tar_indices = y\n",
    "\n",
    "        for i in range(len(out_indices)):\n",
    "            if out_indices[i] == tar_indices[i]:\n",
    "                acc_cnt += 1\n",
    "            else:\n",
    "                err_cnt += 1\n",
    "        batch_cnt += 1\n",
    "    \n",
    "    train_loss = train_loss/batch_cnt\n",
    "    train_accuracy = acc_cnt/(acc_cnt+err_cnt)\n",
    "    train_accuracies.append(train_accuracy)\n",
    "    train_losses.append(train_loss)\n",
    "    \n",
    "    print(f\"epoch:{epoch+1}, train accu:{train_accuracy:.4f},\", f\"train loss:{train_loss:.2f}\")"
   ]
  },
  {
   "cell_type": "markdown",
   "id": "42092bf7",
   "metadata": {},
   "source": [
    "## Model Test"
   ]
  },
  {
   "cell_type": "code",
   "execution_count": 315,
   "id": "85045cb4",
   "metadata": {},
   "outputs": [],
   "source": [
    "#Let's free memory, else we will overflow our 16GB Memory GPU\n",
    "del traindata\n",
    "del train_dataset\n",
    "del trainloader_args\n",
    "del train_dataloader\n",
    "\n",
    "torch.cuda.empty_cache()"
   ]
  },
  {
   "cell_type": "code",
   "execution_count": 316,
   "id": "3c5c9897",
   "metadata": {},
   "outputs": [
    {
     "name": "stderr",
     "output_type": "stream",
     "text": [
      "87it [00:00, 93.65it/s]\n"
     ]
    }
   ],
   "source": [
    "from tqdm import tqdm\n",
    "\n",
    "testdata = []\n",
    "for _, row in tqdm(test.iterrows()):\n",
    "    testdata.append(torch.load(row['feat_path']).to(device))\n",
    "    \n",
    "test_dataset = MyDataSet(testdata, test['emotion'].tolist(), cate_dic)\n",
    "testloader_args = dict(batch_size=1, shuffle=True)\n",
    "test_dataloader = DataLoader(test_dataset, **testloader_args, \n",
    "                             collate_fn=collate_indic)"
   ]
  },
  {
   "cell_type": "code",
   "execution_count": 317,
   "id": "3120f8d4",
   "metadata": {},
   "outputs": [
    {
     "name": "stdout",
     "output_type": "stream",
     "text": [
      "test accuracy: 0.8160919540229885\n"
     ]
    }
   ],
   "source": [
    "test_loss = 0\n",
    "acc_cnt = 0\n",
    "err_cnt = 0\n",
    "batch_cnt = 0\n",
    "model.eval()\n",
    "\n",
    "for x, lengths, y in test_dataloader:\n",
    "\n",
    "    x = x.to(device)\n",
    "    y = y.to(device)\n",
    "\n",
    "    lengths = lengths.cpu()\n",
    "    logits = model(x, lengths)\n",
    "    loss = criterion(logits, y)\n",
    "    test_loss += loss.cpu().item()\n",
    "\n",
    "    out_val, out_indices = torch.max(logits, dim=1)\n",
    "    tar_indices = y\n",
    "\n",
    "    for i in range(len(out_indices)):\n",
    "        if out_indices[i] == tar_indices[i]:\n",
    "            acc_cnt += 1\n",
    "        else:\n",
    "            err_cnt += 1\n",
    "    batch_cnt += 1\n",
    "\n",
    "test_loss = test_loss/batch_cnt\n",
    "test_accuracy = acc_cnt/(acc_cnt+err_cnt)\n",
    "print(f'test accuracy: {test_accuracy}')"
   ]
  },
  {
   "cell_type": "code",
   "execution_count": 318,
   "id": "80de6d2e",
   "metadata": {},
   "outputs": [
    {
     "name": "stdout",
     "output_type": "stream",
     "text": [
      "Got 71 / 87 with accuracy 81.61\n",
      "Confusion matrix for Wav2Vec 2.0:\n"
     ]
    },
    {
     "data": {
      "image/png": "[encoded data removed]",
      "text/plain": [
       "<Figure size 640x480 with 2 Axes>"
      ]
     },
     "metadata": {},
     "output_type": "display_data"
    }
   ],
   "source": [
    "#Confusion Matrix\n",
    "from sklearn.metrics import confusion_matrix, ConfusionMatrixDisplay\n",
    "import matplotlib.pyplot as plt\n",
    "\n",
    "def check_accuracy(loader, model):\n",
    "    num_correct = 0\n",
    "    num_samples = 0\n",
    "    model.eval()\n",
    "    y_preds_list = []\n",
    "    y_list = []\n",
    "    \n",
    "    with torch.no_grad():\n",
    "        for batch, (x, length, y) in enumerate(loader):\n",
    "            x = x.to(device=device)\n",
    "            y = y.to(device=device)\n",
    "            y_list.extend(y.tolist())\n",
    "            length = length.to('cpu')\n",
    "            \n",
    "            scores = model(x, length)\n",
    "            _, predictions = scores.max(1)\n",
    "            y_preds_list.extend(predictions.tolist())\n",
    "            num_correct += (predictions == y).sum()\n",
    "            num_samples += predictions.size(0)\n",
    "        \n",
    "        print(f'Got {num_correct} / {num_samples} with accuracy {float(num_correct)/float(num_samples)*100:.2f}') \n",
    "    \n",
    "    model.train()\n",
    "    return y_preds_list, y_list, round(float(num_correct)/float(num_samples)*100, 1)\n",
    "    \n",
    "y_preds_list, y_list, accur = check_accuracy(test_dataloader, model)\n",
    "\n",
    "print(f'Confusion matrix for Wav2Vec 2.0:')\n",
    "disp = ConfusionMatrixDisplay(confusion_matrix(y_list, y_preds_list, normalize='true'), display_labels=['neutral', 'angry', 'happy', 'sad', 'fear', 'disgust', 'surprise'])\n",
    "\n",
    "disp.plot()\n",
    "plt.title(f'Confusion matrix for {model_name} on holdout {holdout}.')\n",
    "\n",
    "\n",
    "os.makedirs(f'images/Confusion Matrices/{model_name}/', exist_ok = True) \n",
    "\n",
    "plt.savefig(f'images/Confusion Matrices/{model_name}/{model_name}_CM_holdout{holdout}.png')\n",
    "plt.show()"
   ]
  },
  {
   "cell_type": "code",
   "execution_count": 319,
   "id": "997c700b",
   "metadata": {},
   "outputs": [
    {
     "name": "stdout",
     "output_type": "stream",
     "text": [
      "aggr.weight tensor([[[-0.1077],\n",
      "         [-0.0328],\n",
      "         [-0.0412],\n",
      "         [ 0.0241],\n",
      "         [ 0.1026],\n",
      "         [ 0.0479],\n",
      "         [-0.0798],\n",
      "         [ 0.0346],\n",
      "         [ 0.1955],\n",
      "         [ 0.1046],\n",
      "         [ 0.0906],\n",
      "         [ 0.2042],\n",
      "         [ 0.0270],\n",
      "         [ 0.1290],\n",
      "         [ 0.0521],\n",
      "         [-0.0121],\n",
      "         [-0.1904],\n",
      "         [-0.0378],\n",
      "         [-0.1793],\n",
      "         [ 0.1849],\n",
      "         [-0.1922],\n",
      "         [ 0.1563],\n",
      "         [-0.0885],\n",
      "         [ 0.0227]]], device='cuda:0')\n",
      "aggr.bias tensor([0.1706], device='cuda:0')\n",
      "embed.weight tensor([[-0.0009,  0.0023,  0.0121,  ..., -0.0006, -0.0116,  0.0169],\n",
      "        [-0.0281,  0.0257,  0.0202,  ..., -0.0270, -0.0169, -0.0220],\n",
      "        [-0.0159, -0.0300, -0.0093,  ...,  0.0216,  0.0154, -0.0310],\n",
      "        ...,\n",
      "        [-0.0010,  0.0011,  0.0076,  ...,  0.0051,  0.0009, -0.0214],\n",
      "        [-0.0089,  0.0254,  0.0011,  ..., -0.0270, -0.0018,  0.0078],\n",
      "        [ 0.0279, -0.0072,  0.0134,  ...,  0.0005,  0.0016,  0.0170]],\n",
      "       device='cuda:0')\n",
      "embed.bias tensor([-0.0108,  0.0059,  0.0039,  0.0010, -0.0040, -0.0108, -0.0175,  0.0123,\n",
      "        -0.0174, -0.0201, -0.0251,  0.0323,  0.0226,  0.0169,  0.0235,  0.0135,\n",
      "         0.0210, -0.0285, -0.0316,  0.0298,  0.0046,  0.0176,  0.0065,  0.0095,\n",
      "        -0.0212,  0.0116,  0.0110, -0.0205, -0.0036,  0.0294,  0.0222, -0.0309,\n",
      "        -0.0038,  0.0224,  0.0277, -0.0238,  0.0231, -0.0248,  0.0194,  0.0163,\n",
      "        -0.0158, -0.0308, -0.0251, -0.0250, -0.0096,  0.0064,  0.0218,  0.0222,\n",
      "         0.0142, -0.0197, -0.0077, -0.0023,  0.0023,  0.0124, -0.0037, -0.0039,\n",
      "         0.0249,  0.0193,  0.0082, -0.0045, -0.0253, -0.0047,  0.0230,  0.0245,\n",
      "         0.0257, -0.0155, -0.0280, -0.0073,  0.0333,  0.0027,  0.0053,  0.0261,\n",
      "         0.0023, -0.0112,  0.0086,  0.0182,  0.0135,  0.0006, -0.0096, -0.0217,\n",
      "         0.0120, -0.0222,  0.0031, -0.0213,  0.0290,  0.0259,  0.0305,  0.0010,\n",
      "         0.0051, -0.0156,  0.0152, -0.0167, -0.0063, -0.0264,  0.0284,  0.0217,\n",
      "         0.0225,  0.0308,  0.0044,  0.0268,  0.0006, -0.0178, -0.0291,  0.0299,\n",
      "        -0.0276, -0.0183, -0.0111,  0.0306,  0.0301, -0.0197,  0.0278, -0.0247,\n",
      "        -0.0039,  0.0041,  0.0183, -0.0018, -0.0251,  0.0223,  0.0241,  0.0166,\n",
      "        -0.0231, -0.0119,  0.0242, -0.0143,  0.0019, -0.0279,  0.0183,  0.0087],\n",
      "       device='cuda:0')\n",
      "cnn.weight tensor([[[ 0.0471,  0.0151, -0.0191],\n",
      "         [-0.0504,  0.0335,  0.0057],\n",
      "         [-0.0364, -0.0012,  0.0252],\n",
      "         ...,\n",
      "         [-0.0484, -0.0077, -0.0387],\n",
      "         [ 0.0498, -0.0205, -0.0341],\n",
      "         [ 0.0030,  0.0022, -0.0413]],\n",
      "\n",
      "        [[-0.0420, -0.0096, -0.0087],\n",
      "         [-0.0266,  0.0365, -0.0381],\n",
      "         [-0.0137, -0.0008, -0.0441],\n",
      "         ...,\n",
      "         [ 0.0381, -0.0152, -0.0300],\n",
      "         [-0.0384,  0.0112,  0.0520],\n",
      "         [ 0.0229,  0.0490, -0.0189]],\n",
      "\n",
      "        [[-0.0383, -0.0112, -0.0254],\n",
      "         [ 0.0117, -0.0390, -0.0053],\n",
      "         [ 0.0370, -0.0334,  0.0223],\n",
      "         ...,\n",
      "         [ 0.0463,  0.0329, -0.0008],\n",
      "         [ 0.0397,  0.0384, -0.0312],\n",
      "         [-0.0493, -0.0293, -0.0084]],\n",
      "\n",
      "        ...,\n",
      "\n",
      "        [[-0.0320,  0.0388,  0.0361],\n",
      "         [-0.0491, -0.0402,  0.0381],\n",
      "         [-0.0286, -0.0213, -0.0099],\n",
      "         ...,\n",
      "         [ 0.0009, -0.0052,  0.0310],\n",
      "         [-0.0089, -0.0249,  0.0173],\n",
      "         [-0.0427,  0.0517,  0.0073]],\n",
      "\n",
      "        [[-0.0241,  0.0449, -0.0415],\n",
      "         [-0.0143, -0.0431, -0.0105],\n",
      "         [ 0.0365, -0.0008, -0.0226],\n",
      "         ...,\n",
      "         [ 0.0484,  0.0142,  0.0362],\n",
      "         [-0.0443, -0.0063, -0.0059],\n",
      "         [-0.0036,  0.0398,  0.0183]],\n",
      "\n",
      "        [[ 0.0122, -0.0337,  0.0054],\n",
      "         [ 0.0475, -0.0466, -0.0231],\n",
      "         [ 0.0184,  0.0326, -0.0249],\n",
      "         ...,\n",
      "         [-0.0251, -0.0230, -0.0397],\n",
      "         [-0.0372, -0.0389,  0.0062],\n",
      "         [ 0.0021,  0.0214, -0.0327]]], device='cuda:0')\n",
      "cnn.bias tensor([-0.0167, -0.0084, -0.0095, -0.0255, -0.0333,  0.0120,  0.0123,  0.0451,\n",
      "         0.0031,  0.0298,  0.0045,  0.0056, -0.0087, -0.0353,  0.0234,  0.0069,\n",
      "         0.0068, -0.0388,  0.0218, -0.0314,  0.0501, -0.0280, -0.0309,  0.0203,\n",
      "        -0.0202, -0.0351,  0.0328, -0.0193, -0.0239, -0.0427, -0.0473,  0.0414,\n",
      "         0.0109, -0.0400,  0.0484, -0.0380,  0.0215, -0.0052, -0.0180,  0.0294,\n",
      "        -0.0387, -0.0400, -0.0271,  0.0313,  0.0502, -0.0032,  0.0141, -0.0468,\n",
      "        -0.0057,  0.0178, -0.0381, -0.0322,  0.0415, -0.0258,  0.0477,  0.0428,\n",
      "        -0.0305, -0.0067,  0.0025, -0.0266, -0.0497, -0.0137,  0.0385,  0.0367,\n",
      "        -0.0291, -0.0196,  0.0387,  0.0098, -0.0237,  0.0331, -0.0178,  0.0143,\n",
      "        -0.0220, -0.0373, -0.0177, -0.0389, -0.0119, -0.0220,  0.0035,  0.0439,\n",
      "         0.0058,  0.0350, -0.0294,  0.0503,  0.0339,  0.0359, -0.0481,  0.0127,\n",
      "         0.0402, -0.0290, -0.0365, -0.0283,  0.0356, -0.0102,  0.0294, -0.0114,\n",
      "        -0.0365,  0.0040,  0.0121,  0.0380, -0.0417, -0.0366, -0.0247,  0.0086,\n",
      "        -0.0146, -0.0237,  0.0498, -0.0143,  0.0275,  0.0130,  0.0326,  0.0389,\n",
      "         0.0416, -0.0224, -0.0454, -0.0458, -0.0193,  0.0494, -0.0223, -0.0016,\n",
      "        -0.0079, -0.0471, -0.0178,  0.0361, -0.0251, -0.0314,  0.0183, -0.0240],\n",
      "       device='cuda:0')\n",
      "cnn2.weight tensor([[[ 0.0014, -0.0156,  0.0206, -0.0321,  0.0202],\n",
      "         [ 0.0087,  0.0221, -0.0182,  0.0053, -0.0238],\n",
      "         [-0.0286,  0.0148, -0.0327,  0.0035,  0.0248],\n",
      "         ...,\n",
      "         [-0.0365,  0.0273,  0.0084,  0.0374, -0.0305],\n",
      "         [ 0.0028, -0.0115,  0.0047,  0.0238,  0.0003],\n",
      "         [ 0.0280, -0.0318,  0.0392, -0.0280, -0.0122]],\n",
      "\n",
      "        [[-0.0031, -0.0313,  0.0327, -0.0144, -0.0190],\n",
      "         [ 0.0261, -0.0398, -0.0372,  0.0181,  0.0134],\n",
      "         [ 0.0161, -0.0094, -0.0293, -0.0008, -0.0120],\n",
      "         ...,\n",
      "         [ 0.0281, -0.0117,  0.0120,  0.0280, -0.0140],\n",
      "         [-0.0187,  0.0361, -0.0355, -0.0288, -0.0293],\n",
      "         [ 0.0078, -0.0095, -0.0063, -0.0002, -0.0278]],\n",
      "\n",
      "        [[ 0.0342, -0.0149, -0.0338, -0.0038,  0.0311],\n",
      "         [ 0.0258,  0.0007, -0.0070,  0.0042,  0.0295],\n",
      "         [-0.0059,  0.0130, -0.0320, -0.0044,  0.0145],\n",
      "         ...,\n",
      "         [ 0.0072,  0.0110,  0.0332,  0.0256, -0.0389],\n",
      "         [-0.0259, -0.0300, -0.0232, -0.0304, -0.0199],\n",
      "         [-0.0138, -0.0138, -0.0368, -0.0146, -0.0091]],\n",
      "\n",
      "        ...,\n",
      "\n",
      "        [[-0.0276,  0.0104, -0.0078, -0.0272,  0.0131],\n",
      "         [-0.0350, -0.0432,  0.0125,  0.0200,  0.0042],\n",
      "         [ 0.0368,  0.0136,  0.0139,  0.0054, -0.0005],\n",
      "         ...,\n",
      "         [-0.0275,  0.0236,  0.0360,  0.0312,  0.0424],\n",
      "         [ 0.0294, -0.0115,  0.0310, -0.0144, -0.0116],\n",
      "         [ 0.0092, -0.0079, -0.0077,  0.0344,  0.0417]],\n",
      "\n",
      "        [[ 0.0132, -0.0288, -0.0054, -0.0166, -0.0356],\n",
      "         [ 0.0167,  0.0195, -0.0028,  0.0214,  0.0080],\n",
      "         [-0.0353, -0.0183,  0.0327,  0.0259, -0.0175],\n",
      "         ...,\n",
      "         [ 0.0165,  0.0317,  0.0371,  0.0356, -0.0135],\n",
      "         [-0.0034, -0.0106, -0.0334,  0.0344,  0.0241],\n",
      "         [ 0.0140,  0.0106, -0.0079, -0.0211, -0.0370]],\n",
      "\n",
      "        [[ 0.0043,  0.0156, -0.0339, -0.0347,  0.0314],\n",
      "         [-0.0286, -0.0408,  0.0130,  0.0322,  0.0124],\n",
      "         [ 0.0411,  0.0384,  0.0216,  0.0097,  0.0115],\n",
      "         ...,\n",
      "         [-0.0245, -0.0226, -0.0329, -0.0114,  0.0354],\n",
      "         [ 0.0398, -0.0152, -0.0085, -0.0234, -0.0183],\n",
      "         [-0.0038, -0.0077, -0.0371,  0.0188,  0.0180]]], device='cuda:0')\n",
      "cnn2.bias tensor([ 0.0085,  0.0086, -0.0207,  0.0098, -0.0187, -0.0375, -0.0236,  0.0302,\n",
      "         0.0266, -0.0306, -0.0025,  0.0048,  0.0279, -0.0038, -0.0302, -0.0083,\n",
      "        -0.0345, -0.0073, -0.0027,  0.0110,  0.0283, -0.0176, -0.0326,  0.0142,\n",
      "        -0.0092,  0.0248, -0.0160, -0.0344,  0.0053,  0.0053,  0.0185,  0.0076,\n",
      "         0.0235,  0.0247,  0.0234, -0.0004,  0.0131, -0.0181, -0.0048,  0.0135,\n",
      "         0.0139,  0.0017,  0.0137,  0.0241,  0.0094,  0.0204, -0.0020,  0.0294,\n",
      "        -0.0190, -0.0082,  0.0184, -0.0166, -0.0268,  0.0251, -0.0207, -0.0360,\n",
      "         0.0273,  0.0003,  0.0008,  0.0040,  0.0247,  0.0109,  0.0166,  0.0218,\n",
      "        -0.0212, -0.0087,  0.0012,  0.0078, -0.0245, -0.0180, -0.0253,  0.0174,\n",
      "        -0.0120,  0.0382,  0.0374, -0.0211, -0.0041,  0.0379,  0.0336,  0.0044,\n",
      "        -0.0037, -0.0261,  0.0347,  0.0309, -0.0025,  0.0357, -0.0237, -0.0126,\n",
      "         0.0349, -0.0166, -0.0048, -0.0031,  0.0378, -0.0374, -0.0065,  0.0334,\n",
      "        -0.0289, -0.0110,  0.0320,  0.0163, -0.0247,  0.0138,  0.0216,  0.0074,\n",
      "         0.0051, -0.0384, -0.0361, -0.0038, -0.0123, -0.0388,  0.0361,  0.0065,\n",
      "        -0.0208,  0.0184, -0.0080, -0.0333, -0.0162,  0.0238,  0.0298, -0.0298,\n",
      "         0.0229,  0.0102, -0.0089,  0.0237, -0.0046,  0.0305,  0.0227,  0.0109],\n",
      "       device='cuda:0')\n",
      "cnn3.weight tensor([[[-0.0021, -0.0084, -0.0141,  ...,  0.0179, -0.0271,  0.0255],\n",
      "         [-0.0169, -0.0265,  0.0257,  ..., -0.0327,  0.0189, -0.0233],\n",
      "         [-0.0258,  0.0316,  0.0078,  ...,  0.0151,  0.0010,  0.0116],\n",
      "         ...,\n",
      "         [ 0.0105,  0.0189, -0.0251,  ..., -0.0134, -0.0261,  0.0210],\n",
      "         [ 0.0360,  0.0117, -0.0118,  ...,  0.0020, -0.0031, -0.0091],\n",
      "         [ 0.0252, -0.0169,  0.0200,  ..., -0.0274, -0.0017, -0.0064]],\n",
      "\n",
      "        [[ 0.0261, -0.0176, -0.0273,  ...,  0.0159,  0.0292,  0.0219],\n",
      "         [-0.0280,  0.0067, -0.0072,  ...,  0.0214,  0.0103,  0.0162],\n",
      "         [-0.0137,  0.0040,  0.0068,  ...,  0.0258,  0.0139,  0.0306],\n",
      "         ...,\n",
      "         [-0.0185, -0.0294,  0.0204,  ...,  0.0265,  0.0069, -0.0008],\n",
      "         [-0.0054, -0.0191, -0.0131,  ..., -0.0184, -0.0209, -0.0211],\n",
      "         [ 0.0012, -0.0262,  0.0133,  ...,  0.0133,  0.0034, -0.0194]],\n",
      "\n",
      "        [[ 0.0095, -0.0142, -0.0031,  ..., -0.0173,  0.0177,  0.0285],\n",
      "         [-0.0262, -0.0080, -0.0153,  ..., -0.0053, -0.0088,  0.0269],\n",
      "         [ 0.0343, -0.0053,  0.0216,  ..., -0.0059, -0.0277,  0.0109],\n",
      "         ...,\n",
      "         [ 0.0002, -0.0282, -0.0147,  ...,  0.0144,  0.0286,  0.0147],\n",
      "         [ 0.0198, -0.0299, -0.0118,  ..., -0.0064, -0.0313,  0.0009],\n",
      "         [ 0.0356, -0.0016, -0.0036,  ...,  0.0198,  0.0067,  0.0285]],\n",
      "\n",
      "        ...,\n",
      "\n",
      "        [[-0.0137,  0.0060, -0.0085,  ..., -0.0226, -0.0289, -0.0009],\n",
      "         [ 0.0275, -0.0004, -0.0177,  ...,  0.0129, -0.0104, -0.0275],\n",
      "         [ 0.0056,  0.0061, -0.0103,  ..., -0.0029, -0.0091,  0.0237],\n",
      "         ...,\n",
      "         [ 0.0093, -0.0045,  0.0243,  ..., -0.0222,  0.0307, -0.0087],\n",
      "         [ 0.0241, -0.0063,  0.0329,  ...,  0.0262,  0.0218, -0.0305],\n",
      "         [ 0.0090, -0.0248, -0.0119,  ..., -0.0118,  0.0265, -0.0326]],\n",
      "\n",
      "        [[-0.0305, -0.0223, -0.0106,  ..., -0.0204, -0.0175, -0.0118],\n",
      "         [ 0.0132, -0.0264, -0.0044,  ..., -0.0094,  0.0199,  0.0177],\n",
      "         [ 0.0105, -0.0085,  0.0005,  ..., -0.0148,  0.0177,  0.0094],\n",
      "         ...,\n",
      "         [-0.0238,  0.0189, -0.0052,  ..., -0.0154,  0.0268, -0.0110],\n",
      "         [ 0.0112,  0.0065, -0.0160,  ...,  0.0085,  0.0325,  0.0224],\n",
      "         [-0.0106, -0.0169,  0.0189,  ...,  0.0053,  0.0230,  0.0151]],\n",
      "\n",
      "        [[ 0.0317,  0.0072, -0.0247,  ..., -0.0141, -0.0115,  0.0070],\n",
      "         [-0.0070,  0.0353,  0.0287,  ...,  0.0104,  0.0329, -0.0128],\n",
      "         [-0.0012,  0.0237, -0.0060,  ..., -0.0065, -0.0130, -0.0201],\n",
      "         ...,\n",
      "         [-0.0046, -0.0223,  0.0336,  ..., -0.0164,  0.0286,  0.0357],\n",
      "         [-0.0089, -0.0133,  0.0221,  ...,  0.0244, -0.0228, -0.0084],\n",
      "         [ 0.0312, -0.0271, -0.0199,  ..., -0.0199, -0.0146, -0.0055]]],\n",
      "       device='cuda:0')\n",
      "cnn3.bias tensor([ 3.1772e-02, -1.5559e-02,  2.5229e-02, -1.9807e-02, -1.5314e-02,\n",
      "         2.4029e-02, -2.0767e-02, -3.1204e-02, -8.6281e-03,  2.0200e-02,\n",
      "        -2.4224e-02, -2.4449e-02, -2.6274e-02,  1.0605e-02,  1.7577e-02,\n",
      "        -4.7489e-03,  2.0192e-02,  6.1284e-03, -3.3122e-02, -2.4068e-02,\n",
      "         1.0146e-02,  9.9292e-03,  2.8113e-02,  1.5266e-02,  7.0952e-03,\n",
      "        -2.4630e-02, -3.8340e-03, -2.2288e-02, -8.1697e-03,  1.0501e-02,\n",
      "         2.9337e-02,  1.5531e-02,  1.6762e-02,  3.0491e-02, -1.2779e-02,\n",
      "        -2.7727e-02, -2.5106e-02,  9.7049e-03, -3.0844e-03, -2.0562e-02,\n",
      "         1.2320e-02, -3.0394e-02,  1.1432e-02,  1.2091e-02, -5.9899e-03,\n",
      "         2.4482e-02, -2.5508e-02, -1.9703e-02, -3.0196e-02, -2.1929e-02,\n",
      "        -1.9057e-03,  2.2827e-03,  1.1405e-02,  1.2757e-03,  1.9481e-02,\n",
      "        -2.1569e-02, -1.2532e-03, -1.6812e-02,  3.0982e-02,  1.1494e-03,\n",
      "         1.4360e-02, -6.3979e-03,  2.8064e-02,  2.4899e-02, -2.1893e-02,\n",
      "        -2.8141e-02, -1.5089e-02, -8.0772e-05,  6.2049e-03,  1.5286e-03,\n",
      "         2.4417e-02,  2.0722e-02, -2.1684e-02, -1.3938e-03, -1.4184e-02,\n",
      "        -2.2643e-02,  1.5250e-03, -2.0311e-02, -5.5108e-03, -8.4865e-03,\n",
      "         9.3325e-03, -7.2679e-03,  1.5394e-02,  1.2927e-02, -3.1721e-02,\n",
      "         1.3001e-02,  1.6045e-02, -2.1508e-02, -1.6344e-02, -1.5624e-02,\n",
      "         9.0487e-03,  2.2692e-02, -2.0700e-02, -1.2666e-02, -3.3905e-03,\n",
      "        -6.2906e-03,  1.8134e-02,  2.3613e-02, -8.4709e-03, -2.4446e-02,\n",
      "         2.8585e-02,  3.2402e-02,  1.2782e-02,  1.1382e-02,  1.2999e-02,\n",
      "        -1.5458e-02,  2.9332e-02, -2.9024e-02, -1.7843e-02,  1.1748e-02,\n",
      "        -2.0626e-02, -1.2398e-02, -1.5695e-02, -2.1909e-02,  1.3247e-02,\n",
      "        -1.8543e-02,  3.3240e-02,  1.9420e-02, -2.4337e-02, -2.1845e-02,\n",
      "         3.1098e-02,  3.0836e-02, -3.3179e-02,  1.4801e-02, -2.4169e-02,\n",
      "         2.1729e-02,  6.5069e-03,  1.5338e-02], device='cuda:0')\n",
      "batchnorm.weight tensor([1.0015, 1.0042, 1.0017, 0.9993, 1.0033, 1.0024, 1.0018, 1.0036, 1.0021,\n",
      "        1.0034, 1.0017, 1.0044, 1.0015, 1.0036, 1.0042, 1.0017, 1.0035, 1.0014,\n",
      "        0.9997, 1.0001, 1.0022, 1.0013, 1.0024, 1.0058, 1.0047, 1.0043, 1.0016,\n",
      "        1.0023, 1.0011, 1.0029, 1.0027, 1.0044, 1.0045, 1.0008, 1.0019, 1.0036,\n",
      "        1.0044, 1.0049, 1.0024, 1.0008, 1.0044, 1.0010, 1.0039, 1.0069, 1.0006,\n",
      "        1.0033, 1.0061, 0.9990, 0.9973, 1.0015, 1.0004, 1.0008, 1.0036, 1.0046,\n",
      "        1.0042, 1.0013, 1.0026, 1.0026, 1.0036, 1.0039, 1.0020, 1.0027, 1.0008,\n",
      "        1.0032, 1.0028, 1.0031, 0.9999, 1.0006, 1.0025, 1.0011, 1.0034, 1.0019,\n",
      "        1.0029, 1.0033, 1.0044, 1.0012, 1.0022, 1.0053, 0.9997, 1.0032, 1.0021,\n",
      "        1.0015, 1.0046, 1.0007, 1.0038, 1.0017, 1.0032, 1.0013, 1.0069, 1.0006,\n",
      "        1.0022, 1.0010, 1.0029, 1.0017, 1.0019, 1.0046, 1.0025, 1.0013, 1.0033,\n",
      "        1.0072, 1.0014, 1.0025, 1.0058, 1.0003, 1.0033, 1.0045, 1.0025, 1.0025,\n",
      "        1.0025, 1.0039, 1.0052, 1.0024, 1.0025, 1.0049, 1.0068, 1.0033, 1.0039,\n",
      "        1.0020, 1.0023, 1.0068, 1.0025, 1.0025, 0.9999, 1.0037, 1.0004, 1.0051,\n",
      "        1.0036, 1.0039, 0.9990, 1.0018, 1.0018, 1.0050, 0.9999, 1.0041, 1.0033,\n",
      "        0.9997, 1.0002, 1.0022, 1.0025, 1.0005, 1.0027, 0.9998, 1.0017, 1.0025,\n",
      "        1.0017, 1.0016, 1.0021, 1.0078, 1.0024, 1.0027, 1.0019, 1.0044, 1.0038,\n",
      "        1.0021, 1.0028, 1.0016, 1.0040, 1.0003, 1.0050, 1.0022, 1.0012, 1.0049,\n",
      "        1.0003, 1.0041, 1.0041, 1.0008, 1.0036, 1.0027, 1.0024, 1.0002, 1.0055,\n",
      "        1.0027, 1.0025, 1.0027, 1.0032, 1.0066, 1.0023, 0.9998, 1.0011, 1.0008,\n",
      "        1.0008, 1.0025, 0.9990, 1.0029, 1.0006, 1.0014, 1.0030, 1.0037, 1.0020,\n",
      "        1.0055, 1.0033, 1.0026, 0.9995, 1.0015, 1.0024, 1.0025, 0.9993, 1.0017,\n",
      "        1.0023, 1.0046, 1.0019, 1.0012, 1.0078, 1.0016, 1.0033, 1.0021, 1.0028,\n",
      "        1.0016, 1.0019, 1.0026, 1.0026, 1.0037, 1.0067, 1.0045, 1.0031, 1.0004,\n",
      "        1.0016, 1.0009, 1.0005, 1.0020, 1.0022, 1.0034, 1.0028, 1.0005, 1.0054,\n",
      "        1.0032, 1.0045, 0.9994, 1.0027, 1.0049, 0.9994, 1.0046, 1.0025, 1.0032,\n",
      "        1.0035, 1.0030, 1.0042, 0.9999, 1.0033, 1.0007, 1.0015, 1.0024, 1.0026,\n",
      "        1.0024, 1.0024, 1.0025, 1.0044, 1.0054, 1.0044, 1.0040, 1.0029, 1.0009,\n",
      "        1.0043, 1.0050, 1.0067, 1.0018, 1.0006, 1.0018, 1.0010, 1.0007, 1.0037,\n",
      "        1.0016, 1.0010, 1.0026, 1.0027, 1.0038, 1.0026, 1.0003, 1.0050, 1.0031,\n",
      "        1.0014, 1.0032, 1.0009, 1.0034, 1.0005, 1.0031, 0.9998, 1.0049, 0.9991,\n",
      "        0.9997, 1.0009, 1.0042, 1.0019, 1.0040, 1.0023, 1.0002, 1.0024, 1.0001,\n",
      "        1.0034, 1.0008, 1.0057, 1.0006, 1.0020, 1.0019, 1.0003, 1.0018, 1.0022,\n",
      "        1.0019, 1.0027, 1.0023, 1.0007, 1.0006, 1.0013, 1.0033, 1.0001, 1.0025,\n",
      "        1.0027, 0.9994, 1.0021, 1.0015, 1.0025, 1.0036, 1.0016, 1.0046, 1.0009,\n",
      "        1.0012, 1.0051, 1.0029, 1.0012, 1.0019, 0.9996, 1.0022, 1.0020, 1.0031,\n",
      "        1.0036, 1.0010, 1.0013, 1.0000, 1.0022, 1.0027, 1.0018, 1.0025, 1.0014,\n",
      "        1.0026, 1.0016, 1.0050, 1.0022, 1.0000, 1.0021, 0.9999, 1.0037, 1.0021,\n",
      "        1.0017, 1.0024, 1.0008, 1.0034, 1.0030, 1.0009, 0.9993, 1.0013, 1.0011,\n",
      "        1.0020, 1.0024, 1.0025, 1.0014, 1.0015, 1.0012, 1.0026, 1.0049, 1.0047,\n",
      "        1.0007, 1.0010, 1.0045, 1.0015, 1.0023, 1.0023, 1.0024, 1.0035, 1.0022,\n",
      "        1.0016, 1.0026, 1.0020, 1.0048, 1.0017, 1.0034, 1.0023, 1.0026, 1.0091,\n",
      "        1.0022, 1.0009, 1.0030, 1.0036, 1.0023, 1.0007], device='cuda:0')\n",
      "batchnorm.bias tensor([ 6.8953e-04,  7.5253e-04, -5.7471e-04, -5.4161e-04, -2.0627e-04,\n",
      "         1.3728e-03,  1.5553e-04,  1.9788e-03,  2.0109e-03,  2.0306e-03,\n",
      "         6.0210e-04,  7.5179e-04,  6.9523e-04, -1.6608e-03,  1.0443e-03,\n",
      "         2.4707e-04,  2.8562e-03,  5.5441e-04, -3.8173e-04, -2.3726e-04,\n",
      "         1.2236e-03, -7.0158e-04,  7.1457e-04,  2.0264e-03,  2.1403e-03,\n",
      "         2.2325e-03,  1.1786e-04,  8.4070e-04, -1.4915e-03, -2.6280e-04,\n",
      "        -1.6705e-03,  1.1820e-03,  2.8988e-03,  6.2985e-04,  3.4703e-04,\n",
      "         8.2722e-04,  1.5427e-03,  2.8739e-03,  1.2593e-03,  1.6079e-04,\n",
      "         1.2305e-03, -8.3129e-04,  1.2519e-03, -3.2096e-04,  1.4881e-03,\n",
      "         2.1813e-04,  1.1592e-03, -6.3109e-04, -2.2784e-03,  5.6851e-04,\n",
      "         1.0833e-04,  9.4937e-04,  1.6033e-04,  1.4366e-03, -5.7974e-04,\n",
      "         1.1426e-03,  4.7126e-04,  1.4942e-03,  2.0727e-03,  1.7452e-03,\n",
      "        -3.2750e-04,  2.4837e-03, -2.2376e-04,  1.3970e-03,  8.6431e-04,\n",
      "         5.2819e-05,  1.4959e-05, -1.6537e-03,  4.7691e-04,  4.4433e-04,\n",
      "         1.9291e-03,  1.9479e-03,  1.1633e-03,  2.3560e-03,  1.7306e-03,\n",
      "        -1.4574e-03,  1.2223e-03,  3.7358e-03, -7.6376e-04,  1.5539e-03,\n",
      "         1.3093e-03,  1.0441e-03,  1.9226e-03, -1.9776e-03,  9.5336e-04,\n",
      "        -7.9430e-04,  9.2545e-04,  2.7712e-04,  3.0796e-03,  1.5783e-05,\n",
      "         2.9027e-04,  1.5116e-04,  1.5214e-03, -1.4770e-03, -6.1677e-05,\n",
      "         1.4534e-03,  9.7313e-04, -6.9360e-04,  1.4148e-03,  1.8728e-03,\n",
      "         1.2113e-03,  1.4191e-03,  1.9921e-03, -1.4272e-04,  1.5785e-03,\n",
      "         1.6448e-03,  1.8717e-03,  1.2879e-03,  9.8136e-04,  1.8407e-03,\n",
      "         1.9112e-03,  9.6372e-05,  1.2953e-03,  1.6062e-05,  1.0943e-03,\n",
      "         2.8098e-03, -6.3355e-04,  6.2562e-04,  9.6270e-04,  1.4385e-03,\n",
      "         1.2903e-03, -1.5686e-04, -2.0268e-04,  1.2334e-04, -2.0228e-04,\n",
      "         2.8554e-03,  1.9798e-03,  1.7522e-03, -1.6142e-03,  1.6905e-03,\n",
      "        -4.6008e-04,  1.8610e-03, -1.1530e-04,  6.2898e-04,  1.3178e-03,\n",
      "         2.7191e-04,  7.5300e-04,  9.1689e-04,  9.7879e-04,  1.5003e-03,\n",
      "         2.4284e-04,  4.3687e-04,  1.0136e-03, -8.7086e-05, -3.1365e-04,\n",
      "         1.1573e-03,  2.0364e-03,  9.5878e-04,  2.9923e-04,  5.7814e-04,\n",
      "         6.5159e-04,  7.9241e-04,  1.9903e-03,  7.4064e-04,  5.2366e-04,\n",
      "         1.4581e-03,  2.8495e-03,  3.6816e-05,  2.4565e-03,  6.2749e-04,\n",
      "         4.9870e-04,  1.0942e-03,  1.4381e-04, -1.2570e-03,  2.1733e-03,\n",
      "         1.9173e-04, -1.0057e-03,  2.0862e-03,  1.1446e-03, -7.0053e-04,\n",
      "         1.0961e-04,  1.6846e-03,  6.8846e-04,  9.9961e-04,  1.3050e-03,\n",
      "         1.5582e-03,  1.5274e-04, -9.8624e-05,  1.8238e-03,  2.6436e-04,\n",
      "        -3.9212e-04,  1.3563e-03, -1.7379e-03,  9.0378e-04,  6.3383e-04,\n",
      "         1.1166e-03,  1.2504e-03,  2.3626e-03, -4.0491e-04,  1.0756e-04,\n",
      "        -5.1735e-04,  6.9596e-04,  1.2743e-03,  1.5177e-03,  8.6629e-04,\n",
      "         1.9302e-03, -2.5596e-03,  1.4212e-03,  1.2676e-03, -4.5704e-04,\n",
      "         5.1944e-04,  1.9645e-04,  9.0073e-04,  7.5718e-04,  2.0352e-03,\n",
      "         1.4209e-03,  1.1077e-03,  4.4042e-04,  6.6299e-04,  8.2138e-04,\n",
      "         3.3349e-04,  5.6734e-04,  2.1907e-04,  1.7331e-03,  2.8649e-04,\n",
      "        -1.0170e-03,  5.4084e-04,  1.0973e-03,  1.5134e-03, -5.3972e-04,\n",
      "         3.5813e-04,  1.3366e-03,  1.8888e-03,  1.8966e-04,  7.4408e-04,\n",
      "         5.7297e-04,  7.7058e-04, -9.6425e-04,  8.3546e-04,  5.7534e-04,\n",
      "        -7.7422e-04,  8.4047e-04,  9.0978e-04,  1.1386e-03,  1.7117e-03,\n",
      "         1.0480e-03,  2.9921e-04,  1.7376e-03,  2.2348e-03,  1.4122e-04,\n",
      "         7.2859e-04,  7.8923e-04,  8.8402e-04,  2.8783e-05,  7.7468e-05,\n",
      "         1.7796e-03,  1.7711e-03,  2.2170e-04,  2.7079e-03,  2.6365e-03,\n",
      "         1.0345e-03, -8.8543e-05,  1.7218e-03,  3.3405e-03,  1.6582e-03,\n",
      "         3.9339e-04,  5.8754e-04,  1.6771e-03,  1.3876e-04,  9.2423e-04,\n",
      "         1.0587e-03,  1.3247e-04,  4.7787e-04,  6.5585e-04, -6.8442e-05,\n",
      "        -1.6557e-03,  4.8006e-04, -1.3633e-03,  1.0242e-03,  6.8923e-04,\n",
      "         3.6040e-04, -1.6648e-03,  1.9295e-04,  7.3226e-04,  5.9091e-04,\n",
      "         9.3456e-04, -3.2024e-03,  2.5044e-03,  3.5418e-04,  3.5958e-04,\n",
      "        -6.5017e-05, -5.9224e-04,  1.4988e-04,  4.3336e-04, -9.9114e-05,\n",
      "        -5.2480e-04,  8.8136e-04, -4.0998e-04,  2.8597e-03, -4.0690e-04,\n",
      "         2.9682e-03,  2.8258e-04,  4.5555e-04, -8.0215e-04,  6.5955e-04,\n",
      "         9.1861e-04,  3.0547e-04,  6.4485e-04,  1.4481e-04,  1.0973e-03,\n",
      "         1.0459e-03,  4.0501e-05, -1.4496e-04,  1.4253e-03, -3.1685e-04,\n",
      "         3.8009e-04,  5.1905e-04,  1.3326e-05, -5.8548e-04,  2.0482e-04,\n",
      "         9.5135e-04,  1.7513e-03,  1.0407e-04,  2.2559e-03, -2.7532e-04,\n",
      "         8.5289e-05,  1.7881e-03,  2.5240e-04,  5.8727e-04,  8.7049e-04,\n",
      "         1.2790e-03, -2.3616e-04,  1.4972e-03,  2.7963e-05,  2.3188e-03,\n",
      "         6.8211e-04,  2.6716e-04, -4.1300e-04,  2.0727e-03,  1.3420e-04,\n",
      "         7.7790e-04,  8.9290e-04,  7.3067e-04,  4.8462e-04, -7.2984e-04,\n",
      "         8.9631e-04,  1.0409e-03, -6.6363e-04,  1.4303e-03, -5.3306e-04,\n",
      "         7.6336e-04,  1.1434e-03, -1.6520e-04,  6.1859e-04,  3.3809e-04,\n",
      "         1.2691e-03,  9.2531e-04, -1.3317e-04, -9.7509e-04, -1.7306e-04,\n",
      "         1.0507e-04,  1.7117e-03,  1.9619e-03,  5.6518e-04, -4.3968e-04,\n",
      "         1.4984e-03,  7.2658e-05,  1.4263e-03, -7.2831e-04,  1.0911e-03,\n",
      "        -7.9781e-04, -1.6324e-04,  4.0404e-04,  1.8007e-04,  9.2975e-04,\n",
      "         2.8413e-04,  1.5249e-03,  1.4117e-03,  8.0392e-04,  1.5833e-03,\n",
      "         1.2618e-03,  7.4880e-04,  9.8409e-04,  6.2587e-04, -1.2358e-03,\n",
      "         3.0950e-04,  1.6032e-03,  2.1522e-03,  1.7370e-03,  4.0964e-04,\n",
      "         7.9253e-04,  4.2535e-04,  4.4366e-04, -6.4668e-05], device='cuda:0')\n",
      "lstm.weight_ih_l0 tensor([[-0.0258, -0.0187,  0.0188,  ...,  0.0376,  0.0444,  0.0340],\n",
      "        [ 0.0302,  0.0461,  0.0090,  ...,  0.0002, -0.0177,  0.0163],\n",
      "        [-0.0346, -0.0310, -0.0305,  ..., -0.0296, -0.0204,  0.0183],\n",
      "        ...,\n",
      "        [-0.0140,  0.0460,  0.0088,  ...,  0.0097, -0.0020, -0.0286],\n",
      "        [ 0.0345, -0.0201,  0.0083,  ..., -0.0015,  0.0503,  0.0385],\n",
      "        [-0.0161, -0.0142,  0.0128,  ..., -0.0134, -0.0278, -0.0178]],\n",
      "       device='cuda:0')\n",
      "lstm.weight_hh_l0 tensor([[ 0.0442, -0.0276, -0.0364,  ..., -0.0416, -0.0132, -0.0193],\n",
      "        [ 0.0105,  0.0266, -0.0064,  ...,  0.0124, -0.0371,  0.0428],\n",
      "        [ 0.0240,  0.0194,  0.0301,  ...,  0.0140, -0.0453, -0.0423],\n",
      "        ...,\n",
      "        [ 0.0464, -0.0108, -0.0014,  ...,  0.0337, -0.0323, -0.0003],\n",
      "        [-0.0125, -0.0350,  0.0137,  ...,  0.0204, -0.0120,  0.0437],\n",
      "        [-0.0007,  0.0356,  0.0389,  ...,  0.0208, -0.0021, -0.0298]],\n",
      "       device='cuda:0')\n",
      "lstm.bias_ih_l0 tensor([ 0.0102,  0.0297, -0.0002,  ...,  0.0366,  0.0105, -0.0261],\n",
      "       device='cuda:0')\n",
      "lstm.bias_hh_l0 tensor([ 0.0075, -0.0184, -0.0014,  ..., -0.0083, -0.0404, -0.0078],\n",
      "       device='cuda:0')\n",
      "lstm.weight_ih_l1 tensor([[ 4.3021e-02, -4.2467e-02,  3.5321e-02,  ..., -5.5570e-03,\n",
      "          9.0377e-03,  6.3237e-03],\n",
      "        [ 7.2556e-03, -3.4153e-02, -5.3445e-03,  ..., -2.8115e-02,\n",
      "          2.2176e-02, -1.4873e-02],\n",
      "        [ 2.6047e-02, -2.9596e-02,  2.9684e-02,  ...,  9.5099e-03,\n",
      "          9.5192e-03,  1.4636e-02],\n",
      "        ...,\n",
      "        [-1.2896e-02,  3.0904e-02,  7.1585e-03,  ..., -3.5470e-02,\n",
      "          2.8866e-02,  3.7700e-02],\n",
      "        [-2.8928e-02, -4.9816e-02, -1.3452e-02,  ...,  2.5954e-02,\n",
      "         -1.3901e-02,  4.5500e-02],\n",
      "        [ 1.3458e-02,  3.9459e-02, -1.6126e-02,  ...,  3.0867e-04,\n",
      "          7.2035e-03, -5.4673e-05]], device='cuda:0')\n",
      "lstm.weight_hh_l1 tensor([[-0.0135,  0.0084, -0.0115,  ...,  0.0382, -0.0013,  0.0388],\n",
      "        [-0.0014, -0.0343,  0.0278,  ..., -0.0405, -0.0120,  0.0111],\n",
      "        [ 0.0010, -0.0156,  0.0393,  ..., -0.0457, -0.0380, -0.0428],\n",
      "        ...,\n",
      "        [ 0.0254,  0.0124,  0.0318,  ...,  0.0143,  0.0007, -0.0348],\n",
      "        [-0.0501,  0.0231, -0.0099,  ..., -0.0163, -0.0197, -0.0485],\n",
      "        [ 0.0287, -0.0136,  0.0130,  ...,  0.0291, -0.0203,  0.0152]],\n",
      "       device='cuda:0')\n",
      "lstm.bias_ih_l1 tensor([ 0.0364, -0.0061,  0.0163,  ...,  0.0290, -0.0025,  0.0182],\n",
      "       device='cuda:0')\n",
      "lstm.bias_hh_l1 tensor([-0.0212, -0.0151,  0.0432,  ...,  0.0366, -0.0247,  0.0175],\n",
      "       device='cuda:0')\n",
      "linear.weight tensor([[ 0.0312,  0.0267, -0.0010,  ..., -0.0440, -0.0438,  0.0365],\n",
      "        [ 0.0021,  0.0269, -0.0045,  ..., -0.0052,  0.0441,  0.0306],\n",
      "        [ 0.0079, -0.0269,  0.0240,  ..., -0.0115, -0.0451,  0.0035],\n",
      "        ...,\n",
      "        [ 0.0293,  0.0239,  0.0084,  ...,  0.0431,  0.0201,  0.0203],\n",
      "        [-0.0233,  0.0427,  0.0022,  ...,  0.0228, -0.0049,  0.0030],\n",
      "        [ 0.0207, -0.0285,  0.0181,  ...,  0.0203,  0.0077, -0.0303]],\n",
      "       device='cuda:0')\n",
      "linear.bias tensor([-0.0246,  0.0443,  0.0428,  0.0237, -0.0011,  0.0165,  0.0132],\n",
      "       device='cuda:0')\n"
     ]
    }
   ],
   "source": [
    "for name, param in model.named_parameters():\n",
    "    if param.requires_grad:\n",
    "        print(name, param.data)"
   ]
  },
  {
   "cell_type": "code",
   "execution_count": 320,
   "id": "cc9b6fd0",
   "metadata": {},
   "outputs": [],
   "source": [
    "model_path = f'models/{model_folder}/'\n",
    "\n",
    "os.makedirs(model_path, exist_ok = True) \n",
    "\n",
    "\n",
    "torch.save({'epoch':epochs,\n",
    "            'model_state_dict':model.state_dict(),\n",
    "            'optimizer_state_dict':optimizer.state_dict()},\n",
    "            model_path + f'holdout{holdout}.pth')"
   ]
  },
  {
   "cell_type": "code",
   "execution_count": 321,
   "id": "bb9bbd84",
   "metadata": {},
   "outputs": [],
   "source": [
    "#Let's free memory, else we will overflow our 16GB Memory GPU\n",
    "del testdata\n",
    "del test_dataset\n",
    "del testloader_args\n",
    "del test_dataloader\n",
    "\n",
    "torch.cuda.empty_cache()"
   ]
  }
 ],
 "metadata": {
  "kernelspec": {
   "display_name": "base",
   "language": "python",
   "name": "python3"
  },
  "language_info": {
   "codemirror_mode": {
    "name": "ipython",
    "version": 3
   },
   "file_extension": ".py",
   "mimetype": "text/x-python",
   "name": "python",
   "nbconvert_exporter": "python",
   "pygments_lexer": "ipython3",
   "version": "3.7.12"
  },
  "vscode": {
   "interpreter": {
    "hash": "d4d1e4263499bec80672ea0156c357c1ee493ec2b1c70f0acce89fc37c4a6abe"
   }
  }
 },
 "nbformat": 4,
 "nbformat_minor": 5
}
