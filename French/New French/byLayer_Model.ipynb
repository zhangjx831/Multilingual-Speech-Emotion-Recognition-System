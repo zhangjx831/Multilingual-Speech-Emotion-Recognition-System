{
 "cells": [
  {
   "cell_type": "code",
   "execution_count": 72,
   "id": "d4abbf6c",
   "metadata": {},
   "outputs": [
    {
     "name": "stdout",
     "output_type": "stream",
     "text": [
      "1.12.1\n",
      "0.12.1+cu113\n",
      "cuda\n"
     ]
    }
   ],
   "source": [
    "import torch\n",
    "import os\n",
    "import torchaudio\n",
    "\n",
    "print(torch.__version__)\n",
    "print(torchaudio.__version__)\n",
    "\n",
    "torch.random.manual_seed(0)\n",
    "device = torch.device(\"cuda\" if torch.cuda.is_available() else \"cpu\")\n",
    "\n",
    "print(device)\n",
    "\n",
    "bundle = torchaudio.pipelines.WAV2VEC2_LARGE\n",
    "model_extr = bundle.get_model().to(device)\n",
    "\n",
    "main_path = '/home/wawa_/'\n",
    "\n",
    "emotion_map = {'Neutre': 'neutral', 'Colère': 'angry', 'Joie': 'happy', 'Tristesse': 'sad', 'Peur': 'fear',\n",
    "              'Dégoût': 'disgust', 'Surprise': 'surprise'}\n",
    "\n",
    "model_name = 'Wav2Vec2Large' \n",
    "model_folder = model_name"
   ]
  },
  {
   "attachments": {},
   "cell_type": "markdown",
   "id": "b7e7442b",
   "metadata": {},
   "source": [
    "## Generate features (run once)"
   ]
  },
  {
   "cell_type": "code",
   "execution_count": 74,
   "id": "ac9416a8",
   "metadata": {},
   "outputs": [],
   "source": [
    "# import os\n",
    "\n",
    "# data_path = '/home/wawa_/CaFE/High resolution (192kHz)/'\n",
    "# folders = ['Joie', 'Peur', 'Tristesse', 'Colère', 'Dégoût', 'Neutre', 'Surprise']\n",
    "# audios = []\n",
    "# labels = []\n",
    "# file_paths = []\n",
    "# for folder in folders:\n",
    "#   if folder!='Neutre':\n",
    "#     subfolders = ['Fort/', 'Faible/']\n",
    "#   else:\n",
    "#     subfolders = ['']\n",
    "#   for subfolder in subfolders:\n",
    "#     dir_path = data_path + folder + '/' + subfolder\n",
    "#     for file in os.listdir(dir_path):\n",
    "#         if 'aiff' not in file:\n",
    "#             continue\n",
    "#         name = file.split('.')[0]\n",
    "#         file_path = dir_path + file\n",
    "#         labels.append(folder)\n",
    "#         wave, sr = torchaudio.load(file_path)\n",
    "#         wave = wave.to(device)\n",
    "#         if sr != bundle.sample_rate:\n",
    "#             wave = torchaudio.functional.resample(wave, sr, bundle.sample_rate)\n",
    "  \n",
    "#         with torch.inference_mode():\n",
    "#             feature, _ = model_extr.extract_features(wave)\n",
    "#         feature = [f[0] for f in feature]\n",
    "#         feature = torch.stack(feature)\n",
    "#         save_path_folder = f'/home/wawa_/data/{model_folder}/{folder}/{subfolder}'\n",
    "#         os.makedirs(save_path_folder, exist_ok = True) \n",
    "#         save_path = f'/home/wawa_/data/{model_folder}/{folder}/{subfolder}{name}.pt'\n",
    "#         torch.save(feature, save_path)\n"
   ]
  },
  {
   "cell_type": "markdown",
   "id": "424e119d",
   "metadata": {},
   "source": [
    "## Load Data"
   ]
  },
  {
   "cell_type": "code",
   "execution_count": 75,
   "id": "1d95c9eb",
   "metadata": {},
   "outputs": [
    {
     "data": {
      "text/html": [
       "<div>\n",
       "<style scoped>\n",
       "    .dataframe tbody tr th:only-of-type {\n",
       "        vertical-align: middle;\n",
       "    }\n",
       "\n",
       "    .dataframe tbody tr th {\n",
       "        vertical-align: top;\n",
       "    }\n",
       "\n",
       "    .dataframe thead th {\n",
       "        text-align: right;\n",
       "    }\n",
       "</style>\n",
       "<table border=\"1\" class=\"dataframe\">\n",
       "  <thead>\n",
       "    <tr style=\"text-align: right;\">\n",
       "      <th></th>\n",
       "      <th>path</th>\n",
       "      <th>feat_path</th>\n",
       "      <th>name</th>\n",
       "      <th>emotion</th>\n",
       "      <th>strength</th>\n",
       "      <th>session</th>\n",
       "    </tr>\n",
       "  </thead>\n",
       "  <tbody>\n",
       "    <tr>\n",
       "      <th>0</th>\n",
       "      <td>/home/wawa_/CaFE/High resolution (192kHz)/Dégo...</td>\n",
       "      <td>/home/wawa_/data/Wav2Vec2Large/Dégoût/Fort/03-...</td>\n",
       "      <td>03-D-2-2.aiff</td>\n",
       "      <td>disgust</td>\n",
       "      <td>Fort</td>\n",
       "      <td>1</td>\n",
       "    </tr>\n",
       "    <tr>\n",
       "      <th>1</th>\n",
       "      <td>/home/wawa_/CaFE/High resolution (192kHz)/Neut...</td>\n",
       "      <td>/home/wawa_/data/Wav2Vec2Large/Neutre/01-N-3.pt</td>\n",
       "      <td>01-N-3.aiff</td>\n",
       "      <td>neutral</td>\n",
       "      <td>Fort</td>\n",
       "      <td>1</td>\n",
       "    </tr>\n",
       "    <tr>\n",
       "      <th>2</th>\n",
       "      <td>/home/wawa_/CaFE/High resolution (192kHz)/Tris...</td>\n",
       "      <td>/home/wawa_/data/Wav2Vec2Large/Tristesse/Fort/...</td>\n",
       "      <td>02-T-2-6.aiff</td>\n",
       "      <td>sad</td>\n",
       "      <td>Fort</td>\n",
       "      <td>1</td>\n",
       "    </tr>\n",
       "    <tr>\n",
       "      <th>4</th>\n",
       "      <td>/home/wawa_/CaFE/High resolution (192kHz)/Surp...</td>\n",
       "      <td>/home/wawa_/data/Wav2Vec2Large/Surprise/Fort/0...</td>\n",
       "      <td>08-S-2-6.aiff</td>\n",
       "      <td>surprise</td>\n",
       "      <td>Fort</td>\n",
       "      <td>1</td>\n",
       "    </tr>\n",
       "    <tr>\n",
       "      <th>5</th>\n",
       "      <td>/home/wawa_/CaFE/High resolution (192kHz)/Tris...</td>\n",
       "      <td>/home/wawa_/data/Wav2Vec2Large/Tristesse/Fort/...</td>\n",
       "      <td>09-T-2-5.aiff</td>\n",
       "      <td>sad</td>\n",
       "      <td>Fort</td>\n",
       "      <td>1</td>\n",
       "    </tr>\n",
       "  </tbody>\n",
       "</table>\n",
       "</div>"
      ],
      "text/plain": [
       "                                                path  \\\n",
       "0  /home/wawa_/CaFE/High resolution (192kHz)/Dégo...   \n",
       "1  /home/wawa_/CaFE/High resolution (192kHz)/Neut...   \n",
       "2  /home/wawa_/CaFE/High resolution (192kHz)/Tris...   \n",
       "4  /home/wawa_/CaFE/High resolution (192kHz)/Surp...   \n",
       "5  /home/wawa_/CaFE/High resolution (192kHz)/Tris...   \n",
       "\n",
       "                                           feat_path           name   emotion  \\\n",
       "0  /home/wawa_/data/Wav2Vec2Large/Dégoût/Fort/03-...  03-D-2-2.aiff   disgust   \n",
       "1    /home/wawa_/data/Wav2Vec2Large/Neutre/01-N-3.pt    01-N-3.aiff   neutral   \n",
       "2  /home/wawa_/data/Wav2Vec2Large/Tristesse/Fort/...  02-T-2-6.aiff       sad   \n",
       "4  /home/wawa_/data/Wav2Vec2Large/Surprise/Fort/0...  08-S-2-6.aiff  surprise   \n",
       "5  /home/wawa_/data/Wav2Vec2Large/Tristesse/Fort/...  09-T-2-5.aiff       sad   \n",
       "\n",
       "  strength  session  \n",
       "0     Fort        1  \n",
       "1     Fort        1  \n",
       "2     Fort        1  \n",
       "4     Fort        1  \n",
       "5     Fort        1  "
      ]
     },
     "execution_count": 75,
     "metadata": {},
     "output_type": "execute_result"
    }
   ],
   "source": [
    "import pandas as pd\n",
    "\n",
    "# Get the entries with assigned session\n",
    "dataframe_path = main_path + 'session_entries.csv'\n",
    "file = pd.read_csv(dataframe_path)[['path', 'feat_path', 'name', 'emotion', 'strength', 'session']]\n",
    "file = file[file['strength'] == 'Fort']\n",
    "\n",
    "# #### If on low_res data:\n",
    "# def fix_path(path):\n",
    "#     path2 = path.split('/')\n",
    "#     if path2[-1][3]=='N':\n",
    "#         path2[-1] = path2[-1][:5] + '1-' + path2[-1][5:]\n",
    "#     return '/'.join(path2)\n",
    "\n",
    "# def fix_name(name):\n",
    "#     if name[3]=='N':\n",
    "#         return name[:5] + '1-' + name[5:]\n",
    "#     else:\n",
    "#         return name\n",
    "\n",
    "# file['path'] = file['path'].map(fix_path)\n",
    "# file['feat_path'] = file['feat_path'].map(fix_path)\n",
    "# file['name'] = file['name'].map(fix_name)\n",
    "\n",
    "#### Corrects path of data:\n",
    "def fix_path(path):\n",
    "    global model_folder\n",
    "    path2 = path.split('/')\n",
    "    path2[4] = model_folder\n",
    "    return '/'.join(path2)\n",
    "\n",
    "file['feat_path'] = file['feat_path'].map(fix_path)\n",
    "\n",
    "file.head()"
   ]
  },
  {
   "cell_type": "code",
   "execution_count": 84,
   "id": "448d8dae",
   "metadata": {},
   "outputs": [
    {
     "name": "stderr",
     "output_type": "stream",
     "text": [
      "504it [00:05, 85.24it/s]\n"
     ]
    }
   ],
   "source": [
    "from tqdm import tqdm\n",
    "\n",
    "holdout = 2\n",
    "train_audios = []\n",
    "test_audios = []\n",
    "train_emotions = []\n",
    "test_emotions = []\n",
    "\n",
    "for _, row in tqdm(file.iterrows()):\n",
    "    audio = torch.load(row['feat_path'])\n",
    "    audio = torch.mean(audio, dim=1, keepdim=False)\n",
    "    emotion = row['emotion']\n",
    "    if row['session'] != holdout:\n",
    "        train_audios.append(audio)\n",
    "        train_emotions.append(emotion)\n",
    "    else:\n",
    "        test_audios.append(audio)\n",
    "        test_emotions.append(emotion)\n",
    "    "
   ]
  },
  {
   "cell_type": "code",
   "execution_count": 85,
   "id": "7595ac6c",
   "metadata": {},
   "outputs": [],
   "source": [
    "class MyDataSet(torch.utils.data.Dataset):\n",
    "    def __init__(self, datas, labels, label_transform):\n",
    "        super(MyDataSet).__init__()\n",
    "        self.datas = datas\n",
    "        self.labels = labels\n",
    "        self.label_transform = label_transform\n",
    "        \n",
    "    def __getitem__(self, idx):\n",
    "        audio = self.datas[idx]\n",
    "        label = self.label_transform[self.labels[idx]]\n",
    "        return audio, label\n",
    "    \n",
    "    def __len__(self):\n",
    "        return len(self.labels)"
   ]
  },
  {
   "cell_type": "code",
   "execution_count": 86,
   "id": "07d41dfa",
   "metadata": {},
   "outputs": [
    {
     "data": {
      "text/plain": [
       "{'neutral': 0,\n",
       " 'angry': 1,\n",
       " 'happy': 2,\n",
       " 'sad': 3,\n",
       " 'fear': 4,\n",
       " 'disgust': 5,\n",
       " 'surprise': 6}"
      ]
     },
     "execution_count": 86,
     "metadata": {},
     "output_type": "execute_result"
    }
   ],
   "source": [
    "categories = ['neutral', 'angry', 'happy', 'sad', 'fear', 'disgust', 'surprise']\n",
    "cate_dic = {}\n",
    "for i, cate in enumerate(categories):\n",
    "    cate_dic[cate] = i\n",
    "cate_dic"
   ]
  },
  {
   "cell_type": "markdown",
   "id": "4a340aee",
   "metadata": {},
   "source": [
    "## Model"
   ]
  },
  {
   "cell_type": "code",
   "execution_count": 87,
   "id": "397d67e7",
   "metadata": {},
   "outputs": [],
   "source": [
    "import torch.nn as nn\n",
    "import torch.nn.functional as F\n",
    "\n",
    "class NN(nn.Module):\n",
    "    def __init__(self, vocab_size, hidden_size=128, label_size=7):\n",
    "        super().__init__()\n",
    "        self.nn = nn.Linear(in_features = vocab_size, out_features = hidden_size)\n",
    "        self.linear = nn.Linear(in_features = hidden_size, out_features = label_size)\n",
    "\n",
    "    def forward(self, x):\n",
    "        x = self.nn(x)\n",
    "        logits = self.linear(x)\n",
    "        return logits"
   ]
  },
  {
   "cell_type": "code",
   "execution_count": 88,
   "id": "a056ff2d",
   "metadata": {},
   "outputs": [
    {
     "name": "stderr",
     "output_type": "stream",
     "text": [
      "100%|██████████| 50/50 [00:01<00:00, 44.94it/s]\n"
     ]
    },
    {
     "name": "stdout",
     "output_type": "stream",
     "text": [
      "layer: 0, test accuracy: 0.8172043010752689\n"
     ]
    },
    {
     "name": "stderr",
     "output_type": "stream",
     "text": [
      "100%|██████████| 50/50 [00:01<00:00, 45.89it/s]\n"
     ]
    },
    {
     "name": "stdout",
     "output_type": "stream",
     "text": [
      "layer: 1, test accuracy: 0.8387096774193549\n"
     ]
    },
    {
     "name": "stderr",
     "output_type": "stream",
     "text": [
      "100%|██████████| 50/50 [00:01<00:00, 45.73it/s]\n"
     ]
    },
    {
     "name": "stdout",
     "output_type": "stream",
     "text": [
      "layer: 2, test accuracy: 0.8924731182795699\n"
     ]
    },
    {
     "name": "stderr",
     "output_type": "stream",
     "text": [
      "100%|██████████| 50/50 [00:01<00:00, 45.54it/s]\n"
     ]
    },
    {
     "name": "stdout",
     "output_type": "stream",
     "text": [
      "layer: 3, test accuracy: 0.8494623655913979\n"
     ]
    },
    {
     "name": "stderr",
     "output_type": "stream",
     "text": [
      "100%|██████████| 50/50 [00:01<00:00, 46.47it/s]\n"
     ]
    },
    {
     "name": "stdout",
     "output_type": "stream",
     "text": [
      "layer: 4, test accuracy: 0.8494623655913979\n"
     ]
    },
    {
     "name": "stderr",
     "output_type": "stream",
     "text": [
      "100%|██████████| 50/50 [00:01<00:00, 46.12it/s]\n"
     ]
    },
    {
     "name": "stdout",
     "output_type": "stream",
     "text": [
      "layer: 5, test accuracy: 0.8924731182795699\n"
     ]
    },
    {
     "name": "stderr",
     "output_type": "stream",
     "text": [
      "100%|██████████| 50/50 [00:01<00:00, 46.38it/s]\n"
     ]
    },
    {
     "name": "stdout",
     "output_type": "stream",
     "text": [
      "layer: 6, test accuracy: 0.9354838709677419\n"
     ]
    },
    {
     "name": "stderr",
     "output_type": "stream",
     "text": [
      "100%|██████████| 50/50 [00:01<00:00, 46.19it/s]\n"
     ]
    },
    {
     "name": "stdout",
     "output_type": "stream",
     "text": [
      "layer: 7, test accuracy: 0.9139784946236559\n"
     ]
    },
    {
     "name": "stderr",
     "output_type": "stream",
     "text": [
      "100%|██████████| 50/50 [00:01<00:00, 45.71it/s]\n"
     ]
    },
    {
     "name": "stdout",
     "output_type": "stream",
     "text": [
      "layer: 8, test accuracy: 0.9032258064516129\n"
     ]
    },
    {
     "name": "stderr",
     "output_type": "stream",
     "text": [
      "100%|██████████| 50/50 [00:01<00:00, 46.20it/s]\n"
     ]
    },
    {
     "name": "stdout",
     "output_type": "stream",
     "text": [
      "layer: 9, test accuracy: 0.9139784946236559\n"
     ]
    },
    {
     "name": "stderr",
     "output_type": "stream",
     "text": [
      "100%|██████████| 50/50 [00:01<00:00, 46.89it/s]\n"
     ]
    },
    {
     "name": "stdout",
     "output_type": "stream",
     "text": [
      "layer: 10, test accuracy: 0.9139784946236559\n"
     ]
    },
    {
     "name": "stderr",
     "output_type": "stream",
     "text": [
      "100%|██████████| 50/50 [00:01<00:00, 46.08it/s]\n"
     ]
    },
    {
     "name": "stdout",
     "output_type": "stream",
     "text": [
      "layer: 11, test accuracy: 0.8817204301075269\n"
     ]
    },
    {
     "name": "stderr",
     "output_type": "stream",
     "text": [
      "100%|██████████| 50/50 [00:01<00:00, 45.98it/s]\n"
     ]
    },
    {
     "name": "stdout",
     "output_type": "stream",
     "text": [
      "layer: 12, test accuracy: 0.9032258064516129\n"
     ]
    },
    {
     "name": "stderr",
     "output_type": "stream",
     "text": [
      "100%|██████████| 50/50 [00:01<00:00, 46.87it/s]\n"
     ]
    },
    {
     "name": "stdout",
     "output_type": "stream",
     "text": [
      "layer: 13, test accuracy: 0.8817204301075269\n"
     ]
    },
    {
     "name": "stderr",
     "output_type": "stream",
     "text": [
      "100%|██████████| 50/50 [00:01<00:00, 46.72it/s]\n"
     ]
    },
    {
     "name": "stdout",
     "output_type": "stream",
     "text": [
      "layer: 14, test accuracy: 0.946236559139785\n"
     ]
    },
    {
     "name": "stderr",
     "output_type": "stream",
     "text": [
      "100%|██████████| 50/50 [00:01<00:00, 47.03it/s]\n"
     ]
    },
    {
     "name": "stdout",
     "output_type": "stream",
     "text": [
      "layer: 15, test accuracy: 0.9247311827956989\n"
     ]
    },
    {
     "name": "stderr",
     "output_type": "stream",
     "text": [
      "100%|██████████| 50/50 [00:01<00:00, 48.17it/s]\n"
     ]
    },
    {
     "name": "stdout",
     "output_type": "stream",
     "text": [
      "layer: 16, test accuracy: 0.9247311827956989\n"
     ]
    },
    {
     "name": "stderr",
     "output_type": "stream",
     "text": [
      "100%|██████████| 50/50 [00:01<00:00, 46.05it/s]\n"
     ]
    },
    {
     "name": "stdout",
     "output_type": "stream",
     "text": [
      "layer: 17, test accuracy: 0.946236559139785\n"
     ]
    },
    {
     "name": "stderr",
     "output_type": "stream",
     "text": [
      "100%|██████████| 50/50 [00:01<00:00, 45.30it/s]\n"
     ]
    },
    {
     "name": "stdout",
     "output_type": "stream",
     "text": [
      "layer: 18, test accuracy: 0.9139784946236559\n"
     ]
    },
    {
     "name": "stderr",
     "output_type": "stream",
     "text": [
      "100%|██████████| 50/50 [00:01<00:00, 46.39it/s]\n"
     ]
    },
    {
     "name": "stdout",
     "output_type": "stream",
     "text": [
      "layer: 19, test accuracy: 0.9139784946236559\n"
     ]
    },
    {
     "name": "stderr",
     "output_type": "stream",
     "text": [
      "100%|██████████| 50/50 [00:01<00:00, 45.98it/s]\n"
     ]
    },
    {
     "name": "stdout",
     "output_type": "stream",
     "text": [
      "layer: 20, test accuracy: 0.8279569892473119\n"
     ]
    },
    {
     "name": "stderr",
     "output_type": "stream",
     "text": [
      "100%|██████████| 50/50 [00:01<00:00, 46.52it/s]\n"
     ]
    },
    {
     "name": "stdout",
     "output_type": "stream",
     "text": [
      "layer: 21, test accuracy: 0.7419354838709677\n"
     ]
    },
    {
     "name": "stderr",
     "output_type": "stream",
     "text": [
      "100%|██████████| 50/50 [00:01<00:00, 47.57it/s]\n"
     ]
    },
    {
     "name": "stdout",
     "output_type": "stream",
     "text": [
      "layer: 22, test accuracy: 0.3763440860215054\n"
     ]
    },
    {
     "name": "stderr",
     "output_type": "stream",
     "text": [
      "100%|██████████| 50/50 [00:01<00:00, 46.51it/s]"
     ]
    },
    {
     "name": "stdout",
     "output_type": "stream",
     "text": [
      "layer: 23, test accuracy: 0.3118279569892473\n"
     ]
    },
    {
     "name": "stderr",
     "output_type": "stream",
     "text": [
      "\n"
     ]
    }
   ],
   "source": [
    "from torch.utils.data import DataLoader\n",
    "import torch.optim as optim\n",
    "\n",
    "layers = len(train_audios[0]) #12 for Base models, 24 for Large models\n",
    "test_accuracies = []\n",
    "for layer in range(layers):\n",
    "    train = torch.stack([x[layer] for x in train_audios])\n",
    "    test = torch.stack([x[layer] for x in test_audios])\n",
    "    train_dataset = MyDataSet(train, train_emotions, cate_dic)\n",
    "    trainloader_args = dict(batch_size=64, shuffle=True)\n",
    "    train_dataloader = DataLoader(train_dataset, **trainloader_args)\n",
    "    \n",
    "    if layers == 12:\n",
    "        model = NN(768, 128, 7)\n",
    "    elif layers == 24:\n",
    "        model = NN(1024, 128, 7)\n",
    "    model = model.to(device)\n",
    "    criterion = nn.CrossEntropyLoss()\n",
    "    optimizer = optim.Adam(model.parameters(), lr=0.001)\n",
    "    \n",
    "    epochs = 50\n",
    "    \n",
    "    train_losses = []\n",
    "    train_accuracies = []\n",
    "    valid_losses = []\n",
    "    valid_accuracies = []\n",
    "    for epoch in tqdm(range(epochs)):\n",
    "        train_loss = 0\n",
    "        acc_cnt = 0\n",
    "        err_cnt = 0\n",
    "        batch_cnt = 0\n",
    "        model.train()\n",
    "        for batch, (x, y) in enumerate(train_dataloader):\n",
    "            x = x.to(device)\n",
    "            y = y.to(device)\n",
    "            optimizer.zero_grad()\n",
    "            logits = model(x)\n",
    "            loss = criterion(logits, y)\n",
    "            loss.backward()\n",
    "            optimizer.step()\n",
    "            train_loss += loss.cpu().item()\n",
    "\n",
    "            #model outputs\n",
    "            out_val, out_indices = torch.max(logits, dim=1)\n",
    "            tar_indices = y\n",
    "\n",
    "            for i in range(len(out_indices)):\n",
    "                if out_indices[i] == tar_indices[i]:\n",
    "                    acc_cnt += 1\n",
    "                else:\n",
    "                    err_cnt += 1\n",
    "            batch_cnt += 1\n",
    "\n",
    "        train_loss = train_loss/batch_cnt\n",
    "        train_accuracy = acc_cnt/(acc_cnt+err_cnt)\n",
    "        train_accuracies.append(train_accuracy)\n",
    "        train_losses.append(train_loss)\n",
    "        \n",
    "    test_dataset = MyDataSet(test, test_emotions, cate_dic)\n",
    "    testloader_args = dict(batch_size=1, shuffle=True)\n",
    "    test_dataloader = DataLoader(test_dataset, **testloader_args)\n",
    "\n",
    "    test_loss = 0\n",
    "    acc_cnt = 0\n",
    "    err_cnt = 0\n",
    "    batch_cnt = 0\n",
    "    model.eval()\n",
    "\n",
    "    for x, y in test_dataloader:\n",
    "\n",
    "        x = x.to(device)\n",
    "        y = y.to(device)\n",
    "\n",
    "        logits = model(x)\n",
    "        loss = criterion(logits, y)\n",
    "        test_loss += loss.cpu().item()\n",
    "\n",
    "        out_val, out_indices = torch.max(logits, dim=1)\n",
    "        tar_indices = y\n",
    "\n",
    "        for i in range(len(out_indices)):\n",
    "            if out_indices[i] == tar_indices[i]:\n",
    "                acc_cnt += 1\n",
    "            else:\n",
    "                err_cnt += 1\n",
    "        batch_cnt += 1\n",
    "\n",
    "    test_loss = test_loss/batch_cnt\n",
    "    test_accuracy = acc_cnt/(acc_cnt+err_cnt)\n",
    "    print(f'layer: {layer}, test accuracy: {test_accuracy}')\n",
    "    test_accuracies.append(test_accuracy)"
   ]
  },
  {
   "cell_type": "code",
   "execution_count": 93,
   "id": "22b5132a",
   "metadata": {},
   "outputs": [
    {
     "data": {
      "image/png": "[encoded data removed]",
      "text/plain": [
       "<Figure size 640x480 with 1 Axes>"
      ]
     },
     "metadata": {},
     "output_type": "display_data"
    }
   ],
   "source": [
    "import matplotlib.pyplot as plt\n",
    "import numpy as np\n",
    "\n",
    "plt.plot(range(layers), test_accuracies)\n",
    "plt.xlabel(\"Layer\")\n",
    "plt.ylabel(\"Accuracy\")\n",
    "plt.axis([0, layers-1, 0, 1])\n",
    "plt.xticks(np.arange(0, layers, 1))\n",
    "plt.title(f\"{model_name} per Layer Performance\")\n",
    "plt.show()"
   ]
  },
  {
   "cell_type": "code",
   "execution_count": 90,
   "id": "0256288e",
   "metadata": {},
   "outputs": [],
   "source": [
    "res = pd.DataFrame({'layer': range(layers), 'accuracy': test_accuracies})"
   ]
  },
  {
   "cell_type": "code",
   "execution_count": 91,
   "id": "8e49e5f1",
   "metadata": {},
   "outputs": [
    {
     "data": {
      "text/html": [
       "<div>\n",
       "<style scoped>\n",
       "    .dataframe tbody tr th:only-of-type {\n",
       "        vertical-align: middle;\n",
       "    }\n",
       "\n",
       "    .dataframe tbody tr th {\n",
       "        vertical-align: top;\n",
       "    }\n",
       "\n",
       "    .dataframe thead th {\n",
       "        text-align: right;\n",
       "    }\n",
       "</style>\n",
       "<table border=\"1\" class=\"dataframe\">\n",
       "  <thead>\n",
       "    <tr style=\"text-align: right;\">\n",
       "      <th></th>\n",
       "      <th>layer</th>\n",
       "      <th>accuracy</th>\n",
       "    </tr>\n",
       "  </thead>\n",
       "  <tbody>\n",
       "    <tr>\n",
       "      <th>0</th>\n",
       "      <td>0</td>\n",
       "      <td>0.817204</td>\n",
       "    </tr>\n",
       "    <tr>\n",
       "      <th>1</th>\n",
       "      <td>1</td>\n",
       "      <td>0.838710</td>\n",
       "    </tr>\n",
       "    <tr>\n",
       "      <th>2</th>\n",
       "      <td>2</td>\n",
       "      <td>0.892473</td>\n",
       "    </tr>\n",
       "    <tr>\n",
       "      <th>3</th>\n",
       "      <td>3</td>\n",
       "      <td>0.849462</td>\n",
       "    </tr>\n",
       "    <tr>\n",
       "      <th>4</th>\n",
       "      <td>4</td>\n",
       "      <td>0.849462</td>\n",
       "    </tr>\n",
       "    <tr>\n",
       "      <th>5</th>\n",
       "      <td>5</td>\n",
       "      <td>0.892473</td>\n",
       "    </tr>\n",
       "    <tr>\n",
       "      <th>6</th>\n",
       "      <td>6</td>\n",
       "      <td>0.935484</td>\n",
       "    </tr>\n",
       "    <tr>\n",
       "      <th>7</th>\n",
       "      <td>7</td>\n",
       "      <td>0.913978</td>\n",
       "    </tr>\n",
       "    <tr>\n",
       "      <th>8</th>\n",
       "      <td>8</td>\n",
       "      <td>0.903226</td>\n",
       "    </tr>\n",
       "    <tr>\n",
       "      <th>9</th>\n",
       "      <td>9</td>\n",
       "      <td>0.913978</td>\n",
       "    </tr>\n",
       "    <tr>\n",
       "      <th>10</th>\n",
       "      <td>10</td>\n",
       "      <td>0.913978</td>\n",
       "    </tr>\n",
       "    <tr>\n",
       "      <th>11</th>\n",
       "      <td>11</td>\n",
       "      <td>0.881720</td>\n",
       "    </tr>\n",
       "    <tr>\n",
       "      <th>12</th>\n",
       "      <td>12</td>\n",
       "      <td>0.903226</td>\n",
       "    </tr>\n",
       "    <tr>\n",
       "      <th>13</th>\n",
       "      <td>13</td>\n",
       "      <td>0.881720</td>\n",
       "    </tr>\n",
       "    <tr>\n",
       "      <th>14</th>\n",
       "      <td>14</td>\n",
       "      <td>0.946237</td>\n",
       "    </tr>\n",
       "    <tr>\n",
       "      <th>15</th>\n",
       "      <td>15</td>\n",
       "      <td>0.924731</td>\n",
       "    </tr>\n",
       "    <tr>\n",
       "      <th>16</th>\n",
       "      <td>16</td>\n",
       "      <td>0.924731</td>\n",
       "    </tr>\n",
       "    <tr>\n",
       "      <th>17</th>\n",
       "      <td>17</td>\n",
       "      <td>0.946237</td>\n",
       "    </tr>\n",
       "    <tr>\n",
       "      <th>18</th>\n",
       "      <td>18</td>\n",
       "      <td>0.913978</td>\n",
       "    </tr>\n",
       "    <tr>\n",
       "      <th>19</th>\n",
       "      <td>19</td>\n",
       "      <td>0.913978</td>\n",
       "    </tr>\n",
       "    <tr>\n",
       "      <th>20</th>\n",
       "      <td>20</td>\n",
       "      <td>0.827957</td>\n",
       "    </tr>\n",
       "    <tr>\n",
       "      <th>21</th>\n",
       "      <td>21</td>\n",
       "      <td>0.741935</td>\n",
       "    </tr>\n",
       "    <tr>\n",
       "      <th>22</th>\n",
       "      <td>22</td>\n",
       "      <td>0.376344</td>\n",
       "    </tr>\n",
       "    <tr>\n",
       "      <th>23</th>\n",
       "      <td>23</td>\n",
       "      <td>0.311828</td>\n",
       "    </tr>\n",
       "  </tbody>\n",
       "</table>\n",
       "</div>"
      ],
      "text/plain": [
       "    layer  accuracy\n",
       "0       0  0.817204\n",
       "1       1  0.838710\n",
       "2       2  0.892473\n",
       "3       3  0.849462\n",
       "4       4  0.849462\n",
       "5       5  0.892473\n",
       "6       6  0.935484\n",
       "7       7  0.913978\n",
       "8       8  0.903226\n",
       "9       9  0.913978\n",
       "10     10  0.913978\n",
       "11     11  0.881720\n",
       "12     12  0.903226\n",
       "13     13  0.881720\n",
       "14     14  0.946237\n",
       "15     15  0.924731\n",
       "16     16  0.924731\n",
       "17     17  0.946237\n",
       "18     18  0.913978\n",
       "19     19  0.913978\n",
       "20     20  0.827957\n",
       "21     21  0.741935\n",
       "22     22  0.376344\n",
       "23     23  0.311828"
      ]
     },
     "execution_count": 91,
     "metadata": {},
     "output_type": "execute_result"
    }
   ],
   "source": [
    "os.makedirs(f'csv_results/', exist_ok = True) \n",
    "\n",
    "res.to_csv(f'csv_results/{model_name}_perlayer.csv', index=False)\n",
    "res"
   ]
  }
 ],
 "metadata": {
  "kernelspec": {
   "display_name": "Python 3",
   "language": "python",
   "name": "python3"
  },
  "language_info": {
   "codemirror_mode": {
    "name": "ipython",
    "version": 3
   },
   "file_extension": ".py",
   "mimetype": "text/x-python",
   "name": "python",
   "nbconvert_exporter": "python",
   "pygments_lexer": "ipython3",
   "version": "3.7.12"
  }
 },
 "nbformat": 4,
 "nbformat_minor": 5
}
