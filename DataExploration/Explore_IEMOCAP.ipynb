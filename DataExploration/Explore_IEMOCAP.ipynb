{
  "nbformat": 4,
  "nbformat_minor": 0,
  "metadata": {
    "colab": {
      "provenance": [],
      "collapsed_sections": [],
      "toc_visible": true
    },
    "kernelspec": {
      "name": "python3",
      "display_name": "Python 3"
    },
    "language_info": {
      "name": "python"
    }
  },
  "cells": [
    {
      "cell_type": "markdown",
      "source": [
        "# IEMOCAP Dataset\n",
        "\n",
        "reference: https://github.com/Aditya3107/IEMOCAP_EMOTION_Recognition"
      ],
      "metadata": {
        "id": "oYXMEyslHUyT"
      }
    },
    {
      "cell_type": "markdown",
      "source": [
        "## Mount the drive folder"
      ],
      "metadata": {
        "id": "BnPNeifXHQdf"
      }
    },
    {
      "cell_type": "code",
      "execution_count": 2,
      "metadata": {
        "colab": {
          "base_uri": "https://localhost:8080/"
        },
        "id": "cmhw-wOo9_Vy",
        "outputId": "d2be307d-3ea2-493d-8189-ccfd300f6d0a"
      },
      "outputs": [
        {
          "output_type": "stream",
          "name": "stdout",
          "text": [
            "Mounted at /content/drive/\n"
          ]
        }
      ],
      "source": [
        "from google.colab import drive\n",
        "drive.mount('/content/drive/')"
      ]
    },
    {
      "cell_type": "code",
      "source": [
        "#%cd /content/drive/My Drive/MSER/data/IEMOCAP_full_release\n",
        "%cd /content/drive/My Drive/JPMC_capstone/data/IEMOCAP_full_release\n",
        "!ls"
      ],
      "metadata": {
        "colab": {
          "base_uri": "https://localhost:8080/"
        },
        "id": "KQGkA-JH-fb6",
        "outputId": "49f83301-7a66-47e4-fbee-fa4dfb09675a"
      },
      "execution_count": 3,
      "outputs": [
        {
          "output_type": "stream",
          "name": "stdout",
          "text": [
            "/content/drive/.shortcut-targets-by-id/1o_8PjrQSV2_XG-IYBPNFwY0h7jALADQJ/data/IEMOCAP_full_release\n",
            "Documentation  README.txt~  Session2  Session4\n",
            "README.txt     Session1     Session3  Session5\n"
          ]
        }
      ]
    },
    {
      "cell_type": "markdown",
      "source": [
        "## Load the label"
      ],
      "metadata": {
        "id": "75j0R5qmG_eR"
      }
    },
    {
      "cell_type": "code",
      "source": [
        "import re\n",
        "import os\n",
        "\n",
        "regex = re.compile(r'\\[.+\\]\\n', re.IGNORECASE)\n",
        "start_times, end_times, wav_file_names, emotions, vals, acts, doms = [], [], [], [], [], [], []\n",
        "\n",
        "for session in range(1, 6):\n",
        "    emo_evaluation_dir = f'Session{session}/dialog/EmoEvaluation/'\n",
        "    evaluation_files = [l for l in os.listdir(emo_evaluation_dir) if 'Ses' in l]\n",
        "    for file in evaluation_files:\n",
        "        with open(emo_evaluation_dir + file) as f:\n",
        "            content = f.read()\n",
        "        lines = re.findall(regex, content)\n",
        "        for line in lines[1:]:  # the first line is a header\n",
        "            start_end_time, wav_file_name, emotion, val_act_dom = line.strip().split('\\t')\n",
        "            start_time, end_time = start_end_time[1:-1].split('-')\n",
        "            val, act, dom = val_act_dom[1:-1].split(',')\n",
        "            val, act, dom = float(val), float(act), float(dom)\n",
        "            start_time, end_time = float(start_time), float(end_time)\n",
        "            start_times.append(start_time)\n",
        "            end_times.append(end_time)\n",
        "            wav_file_names.append(wav_file_name)\n",
        "            emotions.append(emotion)\n",
        "            vals.append(val)\n",
        "            acts.append(act)\n",
        "            doms.append(dom)\n"
      ],
      "metadata": {
        "id": "ucF9O3iIDbCl"
      },
      "execution_count": 4,
      "outputs": []
    },
    {
      "cell_type": "code",
      "source": [
        "import pandas as pd\n",
        "\n",
        "dic = {\n",
        "    'start_time': start_times,\n",
        "    'end_time': end_times,\n",
        "    'wav_file': wav_file_names,\n",
        "    'emotion': emotions,\n",
        "    'val': vals,\n",
        "    'act': acts,\n",
        "    'dom': doms\n",
        "}\n",
        "labels = pd.DataFrame(data=dic)\n",
        "labels.head()"
      ],
      "metadata": {
        "colab": {
          "base_uri": "https://localhost:8080/",
          "height": 206
        },
        "id": "UEcKSDrTGBpl",
        "outputId": "35ec242d-99d1-449b-a5c0-5583ed16e710"
      },
      "execution_count": 5,
      "outputs": [
        {
          "output_type": "execute_result",
          "data": {
            "text/plain": [
              "   start_time  end_time                wav_file emotion  val  act  dom\n",
              "0       15.14   17.2100  Ses01F_script02_1_F000     neu  2.5  2.0  2.0\n",
              "1       25.91   27.4125  Ses01F_script02_1_F001     fru  2.5  2.0  2.5\n",
              "2       38.99   40.0500  Ses01F_script02_1_F002     xxx  2.0  2.0  2.5\n",
              "3       45.06   47.0300  Ses01F_script02_1_F003     sur  2.5  3.0  3.0\n",
              "4       49.22   51.4000  Ses01F_script02_1_F004     neu  2.0  3.0  3.0"
            ],
            "text/html": [
              "\n",
              "  <div id=\"df-80112f2a-743e-4bb1-b778-b11462b89c44\">\n",
              "    <div class=\"colab-df-container\">\n",
              "      <div>\n",
              "<style scoped>\n",
              "    .dataframe tbody tr th:only-of-type {\n",
              "        vertical-align: middle;\n",
              "    }\n",
              "\n",
              "    .dataframe tbody tr th {\n",
              "        vertical-align: top;\n",
              "    }\n",
              "\n",
              "    .dataframe thead th {\n",
              "        text-align: right;\n",
              "    }\n",
              "</style>\n",
              "<table border=\"1\" class=\"dataframe\">\n",
              "  <thead>\n",
              "    <tr style=\"text-align: right;\">\n",
              "      <th></th>\n",
              "      <th>start_time</th>\n",
              "      <th>end_time</th>\n",
              "      <th>wav_file</th>\n",
              "      <th>emotion</th>\n",
              "      <th>val</th>\n",
              "      <th>act</th>\n",
              "      <th>dom</th>\n",
              "    </tr>\n",
              "  </thead>\n",
              "  <tbody>\n",
              "    <tr>\n",
              "      <th>0</th>\n",
              "      <td>15.14</td>\n",
              "      <td>17.2100</td>\n",
              "      <td>Ses01F_script02_1_F000</td>\n",
              "      <td>neu</td>\n",
              "      <td>2.5</td>\n",
              "      <td>2.0</td>\n",
              "      <td>2.0</td>\n",
              "    </tr>\n",
              "    <tr>\n",
              "      <th>1</th>\n",
              "      <td>25.91</td>\n",
              "      <td>27.4125</td>\n",
              "      <td>Ses01F_script02_1_F001</td>\n",
              "      <td>fru</td>\n",
              "      <td>2.5</td>\n",
              "      <td>2.0</td>\n",
              "      <td>2.5</td>\n",
              "    </tr>\n",
              "    <tr>\n",
              "      <th>2</th>\n",
              "      <td>38.99</td>\n",
              "      <td>40.0500</td>\n",
              "      <td>Ses01F_script02_1_F002</td>\n",
              "      <td>xxx</td>\n",
              "      <td>2.0</td>\n",
              "      <td>2.0</td>\n",
              "      <td>2.5</td>\n",
              "    </tr>\n",
              "    <tr>\n",
              "      <th>3</th>\n",
              "      <td>45.06</td>\n",
              "      <td>47.0300</td>\n",
              "      <td>Ses01F_script02_1_F003</td>\n",
              "      <td>sur</td>\n",
              "      <td>2.5</td>\n",
              "      <td>3.0</td>\n",
              "      <td>3.0</td>\n",
              "    </tr>\n",
              "    <tr>\n",
              "      <th>4</th>\n",
              "      <td>49.22</td>\n",
              "      <td>51.4000</td>\n",
              "      <td>Ses01F_script02_1_F004</td>\n",
              "      <td>neu</td>\n",
              "      <td>2.0</td>\n",
              "      <td>3.0</td>\n",
              "      <td>3.0</td>\n",
              "    </tr>\n",
              "  </tbody>\n",
              "</table>\n",
              "</div>\n",
              "      <button class=\"colab-df-convert\" onclick=\"convertToInteractive('df-80112f2a-743e-4bb1-b778-b11462b89c44')\"\n",
              "              title=\"Convert this dataframe to an interactive table.\"\n",
              "              style=\"display:none;\">\n",
              "        \n",
              "  <svg xmlns=\"http://www.w3.org/2000/svg\" height=\"24px\"viewBox=\"0 0 24 24\"\n",
              "       width=\"24px\">\n",
              "    <path d=\"M0 0h24v24H0V0z\" fill=\"none\"/>\n",
              "    <path d=\"M18.56 5.44l.94 2.06.94-2.06 2.06-.94-2.06-.94-.94-2.06-.94 2.06-2.06.94zm-11 1L8.5 8.5l.94-2.06 2.06-.94-2.06-.94L8.5 2.5l-.94 2.06-2.06.94zm10 10l.94 2.06.94-2.06 2.06-.94-2.06-.94-.94-2.06-.94 2.06-2.06.94z\"/><path d=\"M17.41 7.96l-1.37-1.37c-.4-.4-.92-.59-1.43-.59-.52 0-1.04.2-1.43.59L10.3 9.45l-7.72 7.72c-.78.78-.78 2.05 0 2.83L4 21.41c.39.39.9.59 1.41.59.51 0 1.02-.2 1.41-.59l7.78-7.78 2.81-2.81c.8-.78.8-2.07 0-2.86zM5.41 20L4 18.59l7.72-7.72 1.47 1.35L5.41 20z\"/>\n",
              "  </svg>\n",
              "      </button>\n",
              "      \n",
              "  <style>\n",
              "    .colab-df-container {\n",
              "      display:flex;\n",
              "      flex-wrap:wrap;\n",
              "      gap: 12px;\n",
              "    }\n",
              "\n",
              "    .colab-df-convert {\n",
              "      background-color: #E8F0FE;\n",
              "      border: none;\n",
              "      border-radius: 50%;\n",
              "      cursor: pointer;\n",
              "      display: none;\n",
              "      fill: #1967D2;\n",
              "      height: 32px;\n",
              "      padding: 0 0 0 0;\n",
              "      width: 32px;\n",
              "    }\n",
              "\n",
              "    .colab-df-convert:hover {\n",
              "      background-color: #E2EBFA;\n",
              "      box-shadow: 0px 1px 2px rgba(60, 64, 67, 0.3), 0px 1px 3px 1px rgba(60, 64, 67, 0.15);\n",
              "      fill: #174EA6;\n",
              "    }\n",
              "\n",
              "    [theme=dark] .colab-df-convert {\n",
              "      background-color: #3B4455;\n",
              "      fill: #D2E3FC;\n",
              "    }\n",
              "\n",
              "    [theme=dark] .colab-df-convert:hover {\n",
              "      background-color: #434B5C;\n",
              "      box-shadow: 0px 1px 3px 1px rgba(0, 0, 0, 0.15);\n",
              "      filter: drop-shadow(0px 1px 2px rgba(0, 0, 0, 0.3));\n",
              "      fill: #FFFFFF;\n",
              "    }\n",
              "  </style>\n",
              "\n",
              "      <script>\n",
              "        const buttonEl =\n",
              "          document.querySelector('#df-80112f2a-743e-4bb1-b778-b11462b89c44 button.colab-df-convert');\n",
              "        buttonEl.style.display =\n",
              "          google.colab.kernel.accessAllowed ? 'block' : 'none';\n",
              "\n",
              "        async function convertToInteractive(key) {\n",
              "          const element = document.querySelector('#df-80112f2a-743e-4bb1-b778-b11462b89c44');\n",
              "          const dataTable =\n",
              "            await google.colab.kernel.invokeFunction('convertToInteractive',\n",
              "                                                     [key], {});\n",
              "          if (!dataTable) return;\n",
              "\n",
              "          const docLinkHtml = 'Like what you see? Visit the ' +\n",
              "            '<a target=\"_blank\" href=https://colab.research.google.com/notebooks/data_table.ipynb>data table notebook</a>'\n",
              "            + ' to learn more about interactive tables.';\n",
              "          element.innerHTML = '';\n",
              "          dataTable['output_type'] = 'display_data';\n",
              "          await google.colab.output.renderOutput(dataTable, element);\n",
              "          const docLink = document.createElement('div');\n",
              "          docLink.innerHTML = docLinkHtml;\n",
              "          element.appendChild(docLink);\n",
              "        }\n",
              "      </script>\n",
              "    </div>\n",
              "  </div>\n",
              "  "
            ]
          },
          "metadata": {},
          "execution_count": 5
        }
      ]
    },
    {
      "cell_type": "markdown",
      "source": [
        "Note:\n",
        "- emotions: angry, happy, sad, neutral, frustrated, excited, fearful, surprised, disgusted, other \n",
        "- dimensions: valence (positive vs. negative); activation (calm vs. excited); and dominance (passive vs. aggressive) "
      ],
      "metadata": {
        "id": "z3nkZwvX6CNU"
      }
    },
    {
      "cell_type": "markdown",
      "source": [
        "## Load the audio"
      ],
      "metadata": {
        "id": "8OFaNSjG90UO"
      }
    },
    {
      "cell_type": "code",
      "source": [
        "import sys\n",
        "import librosa\n",
        "from tqdm import tqdm\n",
        "\n",
        "sr = 44100\n",
        "audio_vectors = {}\n",
        "for sess in [1]:  # using one session due to memory constraint, can replace [5] with range(1, 6)\n",
        "    wav_dir_path = f'Session{session}/sentences/wav/'\n",
        "    for dir in os.listdir(wav_dir_path):\n",
        "        orig_wav_files = wav_dir_path + dir + '/'\n",
        "        for orig_wav_file in tqdm(os.listdir(orig_wav_files)):\n",
        "            orig_wav_vector, _sr = librosa.load(orig_wav_files + orig_wav_file, sr=sr)\n",
        "            file_name, file_format = orig_wav_file.split('.')\n",
        "            audio_vectors[file_name] = orig_wav_vector"
      ],
      "metadata": {
        "colab": {
          "base_uri": "https://localhost:8080/"
        },
        "id": "17aGUVSzHb8H",
        "outputId": "682c2f88-69a3-450c-e08d-6c42754f5ce2"
      },
      "execution_count": 6,
      "outputs": [
        {
          "output_type": "stream",
          "name": "stderr",
          "text": [
            "100%|██████████| 81/81 [00:40<00:00,  2.00it/s]\n",
            "100%|██████████| 100/100 [00:20<00:00,  4.84it/s]\n",
            "100%|██████████| 68/68 [00:35<00:00,  1.92it/s]\n",
            "100%|██████████| 55/55 [00:28<00:00,  1.90it/s]\n",
            "100%|██████████| 130/130 [00:16<00:00,  7.84it/s]\n",
            "100%|██████████| 91/91 [00:41<00:00,  2.19it/s]\n",
            "100%|██████████| 68/68 [00:28<00:00,  2.38it/s]\n",
            "100%|██████████| 66/66 [00:28<00:00,  2.29it/s]\n",
            "100%|██████████| 81/81 [00:34<00:00,  2.32it/s]\n",
            "100%|██████████| 36/36 [00:14<00:00,  2.40it/s]\n",
            "100%|██████████| 81/81 [00:38<00:00,  2.10it/s]\n",
            "100%|██████████| 58/58 [00:25<00:00,  2.32it/s]\n",
            "100%|██████████| 45/45 [00:19<00:00,  2.35it/s]\n",
            "100%|██████████| 91/91 [00:35<00:00,  2.59it/s]\n",
            "100%|██████████| 81/81 [00:36<00:00,  2.23it/s]\n",
            "100%|██████████| 56/56 [00:22<00:00,  2.52it/s]\n",
            "100%|██████████| 80/80 [00:34<00:00,  2.32it/s]\n",
            "100%|██████████| 83/83 [00:36<00:00,  2.29it/s]\n",
            "100%|██████████| 67/67 [00:27<00:00,  2.45it/s]\n",
            "100%|██████████| 49/49 [00:21<00:00,  2.28it/s]\n",
            "100%|██████████| 95/95 [00:35<00:00,  2.65it/s]\n",
            "100%|██████████| 86/86 [00:33<00:00,  2.58it/s]\n",
            "100%|██████████| 80/80 [00:38<00:00,  2.09it/s]\n",
            "100%|██████████| 77/77 [00:29<00:00,  2.58it/s]\n",
            "100%|██████████| 58/58 [00:25<00:00,  2.30it/s]\n",
            "100%|██████████| 47/47 [00:20<00:00,  2.34it/s]\n",
            "100%|██████████| 32/32 [00:16<00:00,  2.00it/s]\n",
            "100%|██████████| 35/35 [00:14<00:00,  2.39it/s]\n",
            "100%|██████████| 67/67 [00:27<00:00,  2.43it/s]\n",
            "100%|██████████| 71/71 [00:32<00:00,  2.17it/s]\n",
            "100%|██████████| 55/55 [00:26<00:00,  2.09it/s]\n"
          ]
        }
      ]
    },
    {
      "cell_type": "code",
      "source": [
        "len(audio_vectors['Ses05F_impro01_F003'])"
      ],
      "metadata": {
        "colab": {
          "base_uri": "https://localhost:8080/"
        },
        "id": "z4TRRq7xQn-H",
        "outputId": "6df0eba7-8815-47b0-a5b0-9c7cdb0e7ad0"
      },
      "execution_count": null,
      "outputs": [
        {
          "output_type": "execute_result",
          "data": {
            "text/plain": [
              "197566"
            ]
          },
          "metadata": {},
          "execution_count": 23
        }
      ]
    },
    {
      "cell_type": "markdown",
      "source": [
        "# Data exploration"
      ],
      "metadata": {
        "id": "gDzYXARw8UTW"
      }
    },
    {
      "cell_type": "code",
      "source": [
        "len(labels)"
      ],
      "metadata": {
        "colab": {
          "base_uri": "https://localhost:8080/"
        },
        "id": "gjTwUavD8e-Q",
        "outputId": "8d651016-6119-4b11-dc13-fe2bd80e6c3c"
      },
      "execution_count": null,
      "outputs": [
        {
          "output_type": "execute_result",
          "data": {
            "text/plain": [
              "10039"
            ]
          },
          "metadata": {},
          "execution_count": 8
        }
      ]
    },
    {
      "cell_type": "code",
      "source": [
        "labels.groupby('emotion')['val'].count().sort_values(ascending = False)"
      ],
      "metadata": {
        "colab": {
          "base_uri": "https://localhost:8080/"
        },
        "id": "lJIWd3V78kx0",
        "outputId": "b376f161-21ed-4c88-e40f-dc92ab988adf"
      },
      "execution_count": null,
      "outputs": [
        {
          "output_type": "execute_result",
          "data": {
            "text/plain": [
              "emotion\n",
              "xxx    2507\n",
              "fru    1849\n",
              "neu    1708\n",
              "ang    1103\n",
              "sad    1084\n",
              "exc    1041\n",
              "hap     595\n",
              "sur     107\n",
              "fea      40\n",
              "oth       3\n",
              "dis       2\n",
              "Name: val, dtype: int64"
            ]
          },
          "metadata": {},
          "execution_count": 34
        }
      ]
    },
    {
      "cell_type": "code",
      "source": [
        "labels.groupby(['emotion'])['val'].mean().sort_values(ascending = False).round(2)"
      ],
      "metadata": {
        "colab": {
          "base_uri": "https://localhost:8080/"
        },
        "id": "5bHuL1sN6saX",
        "outputId": "aa424c69-0bd0-413b-895a-fbeb8e558740"
      },
      "execution_count": null,
      "outputs": [
        {
          "output_type": "execute_result",
          "data": {
            "text/plain": [
              "emotion\n",
              "hap    3.95\n",
              "exc    3.95\n",
              "oth    3.28\n",
              "neu    2.97\n",
              "xxx    2.88\n",
              "sur    2.85\n",
              "dis    2.75\n",
              "fea    2.50\n",
              "fru    2.26\n",
              "sad    2.25\n",
              "ang    1.91\n",
              "Name: val, dtype: float64"
            ]
          },
          "metadata": {},
          "execution_count": 10
        }
      ]
    },
    {
      "cell_type": "code",
      "source": [
        "labels.groupby(['emotion'])['act'].mean().sort_values(ascending = False).round(2)"
      ],
      "metadata": {
        "colab": {
          "base_uri": "https://localhost:8080/"
        },
        "id": "aalqJpSsSe8n",
        "outputId": "3045b79c-1b02-4630-ec82-38837cda4f71"
      },
      "execution_count": null,
      "outputs": [
        {
          "output_type": "execute_result",
          "data": {
            "text/plain": [
              "emotion\n",
              "ang    3.64\n",
              "exc    3.58\n",
              "fea    3.24\n",
              "sur    3.22\n",
              "fru    3.18\n",
              "hap    3.12\n",
              "xxx    3.04\n",
              "neu    2.73\n",
              "oth    2.61\n",
              "sad    2.56\n",
              "dis    2.00\n",
              "Name: act, dtype: float64"
            ]
          },
          "metadata": {},
          "execution_count": 11
        }
      ]
    },
    {
      "cell_type": "code",
      "source": [
        "labels.groupby(['emotion'])['dom'].mean().sort_values(ascending = False).round(2)"
      ],
      "metadata": {
        "colab": {
          "base_uri": "https://localhost:8080/"
        },
        "id": "2RCF40QuVanK",
        "outputId": "652bda05-ec2f-42e4-cbfb-c22d063b7ef0"
      },
      "execution_count": 7,
      "outputs": [
        {
          "output_type": "execute_result",
          "data": {
            "text/plain": [
              "emotion\n",
              "ang    3.95\n",
              "exc    3.40\n",
              "fru    3.32\n",
              "xxx    3.18\n",
              "hap    2.92\n",
              "sur    2.85\n",
              "neu    2.83\n",
              "sad    2.83\n",
              "fea    2.37\n",
              "oth    2.17\n",
              "dis    1.75\n",
              "Name: dom, dtype: float64"
            ]
          },
          "metadata": {},
          "execution_count": 7
        }
      ]
    },
    {
      "cell_type": "markdown",
      "source": [
        "## Visualize the audio"
      ],
      "metadata": {
        "id": "kx5WSa6eHmIS"
      }
    },
    {
      "cell_type": "code",
      "source": [
        "import librosa.display\n",
        "import numpy as np\n",
        "import matplotlib.pyplot as plt\n",
        "\n",
        "first_sample = list(audio_vectors.values())[0]\n",
        "sgram = librosa.stft(first_sample)\n",
        "librosa.display.specshow(sgram)"
      ],
      "metadata": {
        "colab": {
          "base_uri": "https://localhost:8080/",
          "height": 327
        },
        "id": "gzxTsCGhGLoT",
        "outputId": "ddd303b9-2949-4b09-a316-9b7dacaf9d8a"
      },
      "execution_count": 39,
      "outputs": [
        {
          "output_type": "stream",
          "name": "stderr",
          "text": [
            "/usr/local/lib/python3.7/dist-packages/librosa/display.py:955: UserWarning: Trying to display complex-valued input. Showing magnitude instead.\n",
            "  \"Trying to display complex-valued input. \" \"Showing magnitude instead.\"\n"
          ]
        },
        {
          "output_type": "execute_result",
          "data": {
            "text/plain": [
              "<matplotlib.collections.QuadMesh at 0x7fce9d2f55d0>"
            ]
          },
          "metadata": {},
          "execution_count": 39
        },
        {
          "output_type": "display_data",
          "data": {
            "text/plain": [
              "<Figure size 432x288 with 1 Axes>"
            ],
            "image/png": "[encoded data removed]"
          },
          "metadata": {}
        }
      ]
    },
    {
      "cell_type": "code",
      "source": [
        "# use the mel-scale instead of raw frequency\n",
        "sgram_mag, _ = librosa.magphase(sgram)\n",
        "mel_scale_sgram = librosa.feature.melspectrogram(S=sgram_mag, sr=sr)\n",
        "librosa.display.specshow(mel_scale_sgram)"
      ],
      "metadata": {
        "colab": {
          "base_uri": "https://localhost:8080/",
          "height": 270
        },
        "id": "e7ERaXNyGRkJ",
        "outputId": "ff3cf7d6-da2b-47b8-e2e6-5214014c6190"
      },
      "execution_count": 32,
      "outputs": [
        {
          "output_type": "execute_result",
          "data": {
            "text/plain": [
              "<matplotlib.collections.QuadMesh at 0x7fcea24d7410>"
            ]
          },
          "metadata": {},
          "execution_count": 32
        },
        {
          "output_type": "display_data",
          "data": {
            "text/plain": [
              "<Figure size 432x288 with 1 Axes>"
            ],
            "image/png": "[encoded data removed]"
          },
          "metadata": {}
        }
      ]
    },
    {
      "cell_type": "code",
      "source": [
        "# use the decibel scale to get the final Mel Spectrogram\n",
        "mel_sgram = librosa.amplitude_to_db(mel_scale_sgram, ref=np.min)\n",
        "librosa.display.specshow(mel_sgram, sr=sr, x_axis='time', y_axis='mel')\n",
        "plt.colorbar(format='%+2.0f dB')"
      ],
      "metadata": {
        "colab": {
          "base_uri": "https://localhost:8080/",
          "height": 297
        },
        "id": "MHmWKSM1GzMG",
        "outputId": "c5a2ba19-6183-4582-c0e1-7dea958c3a1e"
      },
      "execution_count": 38,
      "outputs": [
        {
          "output_type": "execute_result",
          "data": {
            "text/plain": [
              "<matplotlib.colorbar.Colorbar at 0x7fce9d370150>"
            ]
          },
          "metadata": {},
          "execution_count": 38
        },
        {
          "output_type": "display_data",
          "data": {
            "text/plain": [
              "<Figure size 432x288 with 2 Axes>"
            ],
            "image/png": "[encoded data removed]"
          },
          "metadata": {
            "needs_background": "light"
          }
        }
      ]
    }
  ]
}