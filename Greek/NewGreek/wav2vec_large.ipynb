{
 "cells": [
  {
   "cell_type": "code",
   "execution_count": 1,
   "id": "7cf63137",
   "metadata": {},
   "outputs": [],
   "source": [
    "import re\n",
    "import os\n",
    "import pandas as pd\n",
    "\n",
    "file_paths, file_names, emotions, audios = [], [], [], []\n",
    "emotion_map = {'anger': 'angry', 'happiness': 'happy', 'sadness': 'sad', 'fear': 'fear',\n",
    "              'disgust': 'disgust'}"
   ]
  },
  {
   "cell_type": "code",
   "execution_count": 2,
   "id": "2348eeac",
   "metadata": {},
   "outputs": [
    {
     "name": "stdout",
     "output_type": "stream",
     "text": [
      "1.12.1+cu113\n",
      "0.12.1+cu113\n",
      "cuda\n"
     ]
    }
   ],
   "source": [
    "import torch\n",
    "import torchaudio\n",
    "\n",
    "print(torch.__version__)\n",
    "print(torchaudio.__version__)\n",
    "\n",
    "torch.random.manual_seed(0)\n",
    "device = torch.device(\"cuda\" if torch.cuda.is_available() else \"cpu\")\n",
    "\n",
    "print(device)"
   ]
  },
  {
   "cell_type": "code",
   "execution_count": 3,
   "id": "d52db6bc",
   "metadata": {},
   "outputs": [
    {
     "name": "stdout",
     "output_type": "stream",
     "text": [
      "<class 'torchaudio.models.wav2vec2.model.Wav2Vec2Model'>\n",
      "16000\n"
     ]
    }
   ],
   "source": [
    "bundle = torchaudio.pipelines.WAV2VEC2_LARGE\n",
    "extractor = bundle.get_model()\n",
    "print(extractor.__class__)\n",
    "print(bundle.sample_rate)"
   ]
  },
  {
   "cell_type": "code",
   "execution_count": 4,
   "id": "aeab751f",
   "metadata": {},
   "outputs": [],
   "source": [
    "# import os\n",
    "# os.listdir('../emotiondata/emotion_data')"
   ]
  },
  {
   "cell_type": "code",
   "execution_count": 5,
   "id": "d6af5a8a",
   "metadata": {},
   "outputs": [],
   "source": [
    "# folder_list = ['anger', 'disgust', 'fear', 'happiness', 'sadness']\n",
    "# entries = []\n",
    "# for folder in folder_list:\n",
    "#     cur_file_list = os.listdir(f'../emotiondata/emotion_data/{folder}')\n",
    "#     for i in cur_file_list:\n",
    "#         if i == 's05 (3).wav':\n",
    "#             print(\"found\")\n",
    "#             continue\n",
    "#         entries.append(i)"
   ]
  },
  {
   "cell_type": "code",
   "execution_count": 6,
   "id": "f1af534c",
   "metadata": {},
   "outputs": [],
   "source": [
    "# import random\n",
    "# random.shuffle(entries)\n",
    "# session = []\n",
    "# equal_parts = (len(entries)-1)//5 # for equally split the entries into 5 parts\n",
    "# count = 0\n",
    "# main_data_path = '../emotiondata/emotion_data'"
   ]
  },
  {
   "cell_type": "code",
   "execution_count": 7,
   "id": "1a10f712",
   "metadata": {},
   "outputs": [],
   "source": [
    "# ### Only Run once\n",
    "# from tqdm import tqdm \n",
    "# folder_map = {'a':'anger', 'd':'disgust', 'f':'fear', 'h':'happiness', 's':'sadness'}\n",
    "\n",
    "# file_paths = []\n",
    "# file_names = []\n",
    "# emotions = []\n",
    "# # audios = []\n",
    "# # labels = []\n",
    "\n",
    "\n",
    "# for i in tqdm(range(len(entries))):\n",
    "#     entry = entries[i]\n",
    "#     if \"wav\" not in entry:\n",
    "#         continue\n",
    "#     folder = folder_map[entry[0]]\n",
    "#     file_path = f'../emotiondata/emotion_data/{folder}/{entry}'\n",
    "#     emotion = emotion_map[folder]\n",
    "#     file_paths.append(file_path)\n",
    "#     file_names.append(entry)\n",
    "#     emotions.append(emotion)\n",
    "\n",
    "#     # assign session to it\n",
    "#     part = (count//equal_parts)%6 + 1\n",
    "#     if part == 6:\n",
    "#         part = 5\n",
    "#     session.append(part)\n",
    "#     count += 1\n",
    "\n",
    "\n",
    "# file = pd.DataFrame({'path':file_paths, 'name': file_names, 'emotion': emotions, 'session': session})\n",
    "# dataframe_path = main_data_path + '/session_entries.csv'\n",
    "# file.to_csv(dataframe_path)\n"
   ]
  },
  {
   "cell_type": "code",
   "execution_count": 8,
   "id": "acfe9b5b",
   "metadata": {},
   "outputs": [],
   "source": [
    "# os.listdir('../emotiondata/emotion_data')"
   ]
  },
  {
   "cell_type": "markdown",
   "id": "a8dcd016",
   "metadata": {},
   "source": [
    "# Extract Features using Models"
   ]
  },
  {
   "cell_type": "code",
   "execution_count": 9,
   "id": "791551f3",
   "metadata": {},
   "outputs": [
    {
     "data": {
      "text/html": [
       "<div>\n",
       "<style scoped>\n",
       "    .dataframe tbody tr th:only-of-type {\n",
       "        vertical-align: middle;\n",
       "    }\n",
       "\n",
       "    .dataframe tbody tr th {\n",
       "        vertical-align: top;\n",
       "    }\n",
       "\n",
       "    .dataframe thead th {\n",
       "        text-align: right;\n",
       "    }\n",
       "</style>\n",
       "<table border=\"1\" class=\"dataframe\">\n",
       "  <thead>\n",
       "    <tr style=\"text-align: right;\">\n",
       "      <th></th>\n",
       "      <th>path</th>\n",
       "      <th>name</th>\n",
       "      <th>emotion</th>\n",
       "      <th>session</th>\n",
       "    </tr>\n",
       "  </thead>\n",
       "  <tbody>\n",
       "    <tr>\n",
       "      <th>0</th>\n",
       "      <td>../emotiondata/emotion_data/happiness/h17 (5).wav</td>\n",
       "      <td>h17 (5).wav</td>\n",
       "      <td>happy</td>\n",
       "      <td>1</td>\n",
       "    </tr>\n",
       "    <tr>\n",
       "      <th>1</th>\n",
       "      <td>../emotiondata/emotion_data/happiness/h20 (2).wav</td>\n",
       "      <td>h20 (2).wav</td>\n",
       "      <td>happy</td>\n",
       "      <td>1</td>\n",
       "    </tr>\n",
       "    <tr>\n",
       "      <th>2</th>\n",
       "      <td>../emotiondata/emotion_data/disgust/d19 (4).wav</td>\n",
       "      <td>d19 (4).wav</td>\n",
       "      <td>disgust</td>\n",
       "      <td>1</td>\n",
       "    </tr>\n",
       "    <tr>\n",
       "      <th>3</th>\n",
       "      <td>../emotiondata/emotion_data/sadness/s12 (4).wav</td>\n",
       "      <td>s12 (4).wav</td>\n",
       "      <td>sad</td>\n",
       "      <td>1</td>\n",
       "    </tr>\n",
       "    <tr>\n",
       "      <th>4</th>\n",
       "      <td>../emotiondata/emotion_data/sadness/s01 (4).wav</td>\n",
       "      <td>s01 (4).wav</td>\n",
       "      <td>sad</td>\n",
       "      <td>1</td>\n",
       "    </tr>\n",
       "  </tbody>\n",
       "</table>\n",
       "</div>"
      ],
      "text/plain": [
       "                                                path         name  emotion  \\\n",
       "0  ../emotiondata/emotion_data/happiness/h17 (5).wav  h17 (5).wav    happy   \n",
       "1  ../emotiondata/emotion_data/happiness/h20 (2).wav  h20 (2).wav    happy   \n",
       "2    ../emotiondata/emotion_data/disgust/d19 (4).wav  d19 (4).wav  disgust   \n",
       "3    ../emotiondata/emotion_data/sadness/s12 (4).wav  s12 (4).wav      sad   \n",
       "4    ../emotiondata/emotion_data/sadness/s01 (4).wav  s01 (4).wav      sad   \n",
       "\n",
       "   session  \n",
       "0        1  \n",
       "1        1  \n",
       "2        1  \n",
       "3        1  \n",
       "4        1  "
      ]
     },
     "execution_count": 9,
     "metadata": {},
     "output_type": "execute_result"
    }
   ],
   "source": [
    "import re\n",
    "import os\n",
    "import pandas as pd\n",
    "main_data_path = '../emotiondata/emotion_data'\n",
    "dataframe_path = main_data_path + '/session_entries.csv'\n",
    "file = pd.read_csv(dataframe_path)[['path', 'name', 'emotion', 'session']]\n",
    "file.head()"
   ]
  },
  {
   "cell_type": "code",
   "execution_count": 10,
   "id": "69d998f2",
   "metadata": {},
   "outputs": [
    {
     "name": "stderr",
     "output_type": "stream",
     "text": [
      "100%|████████████████████████████████████████████████████████████████████████████████████████████████████████████████████████████████████████████████████████████████████████████████████████████████████████████████████████████████████████████████████████████████████████████████████████████| 604/604 [08:24<00:00,  1.20it/s]\n"
     ]
    }
   ],
   "source": [
    "from tqdm import tqdm\n",
    "import math\n",
    "audios = []\n",
    "ct = 0\n",
    "for i in tqdm(range(math.floor(len(file['path'])))):\n",
    "    path = file['path'][i]\n",
    "    wave, sr = torchaudio.load(path)\n",
    "    if sr != bundle.sample_rate:\n",
    "        wave = torchaudio.functional.resample(wave, sr, bundle.sample_rate)\n",
    "    with torch.inference_mode():\n",
    "        feature, _ = extractor.extract_features(wave)\n",
    "    \n",
    "    feature = [f[0] for f in feature]\n",
    "    audio = torch.stack(feature)\n",
    "    audios.append(audio)\n",
    "    ct += 1"
   ]
  },
  {
   "cell_type": "markdown",
   "id": "39e731f6",
   "metadata": {},
   "source": [
    "# Load Data"
   ]
  },
  {
   "cell_type": "code",
   "execution_count": 49,
   "id": "32a63229",
   "metadata": {},
   "outputs": [],
   "source": [
    "holdout = 5\n",
    "train = file[file['session'] != holdout]\n",
    "train_audios = [audios[i] for i in range(len(audios)) if file['session'][i] != holdout]\n",
    "test = file[file['session'] == holdout]\n",
    "test_audios = [audios[i] for i in range(len(audios)) if file['session'][i] == holdout]"
   ]
  },
  {
   "cell_type": "code",
   "execution_count": 50,
   "id": "477cc674",
   "metadata": {},
   "outputs": [],
   "source": [
    "class MyDataSet(torch.utils.data.Dataset):\n",
    "    def __init__(self, audios, labels, label_transform):\n",
    "        super(MyDataSet).__init__()\n",
    "        self.audios = audios\n",
    "        self.labels = labels\n",
    "        self.label_transform = label_transform\n",
    "        \n",
    "    def __getitem__(self, idx):\n",
    "        label = self.label_transform[self.labels[idx]]\n",
    "        audio = self.audios[idx]\n",
    "        length = audio.size(1)\n",
    "        return audio, length, label\n",
    "    \n",
    "    def __len__(self):\n",
    "        return len(self.labels)"
   ]
  },
  {
   "cell_type": "code",
   "execution_count": 51,
   "id": "2899ed73",
   "metadata": {},
   "outputs": [],
   "source": [
    "def collate_indic(data):\n",
    "    audios, lengths, labels = zip(*data)\n",
    "    max_len = max(lengths)\n",
    "    n_ftrs = audios[0].size(2)\n",
    "    n_dims = audios[0].size(0)\n",
    "    features = torch.zeros((len(audios), n_dims, max_len, n_ftrs))\n",
    "    labels = torch.tensor(labels)\n",
    "    lengths = torch.tensor(lengths)\n",
    "\n",
    "    for i in range(len(data)):\n",
    "        j, k = audios[i].size(1), audios[i].size(2)\n",
    "        features[i] = torch.cat([audios[i], torch.zeros((n_dims, max_len - j, k))], dim=1)\n",
    "\n",
    "    return features, lengths, labels"
   ]
  },
  {
   "cell_type": "code",
   "execution_count": 52,
   "id": "23eaf7af",
   "metadata": {},
   "outputs": [
    {
     "data": {
      "text/plain": [
       "{'angry': 0, 'happy': 1, 'sad': 2, 'fear': 3, 'disgust': 4}"
      ]
     },
     "execution_count": 52,
     "metadata": {},
     "output_type": "execute_result"
    }
   ],
   "source": [
    "categories = ['angry', 'happy', 'sad', 'fear', 'disgust']\n",
    "cate_dic = {}\n",
    "for i, cate in enumerate(categories):\n",
    "    cate_dic[cate] = i\n",
    "cate_dic"
   ]
  },
  {
   "cell_type": "code",
   "execution_count": 53,
   "id": "6c5f0163",
   "metadata": {},
   "outputs": [],
   "source": [
    "from torch.utils.data import DataLoader\n",
    "\n",
    "train_dataset = MyDataSet(train_audios, train['emotion'].tolist(), cate_dic)\n",
    "trainloader_args = dict(batch_size=16, shuffle=True)\n",
    "train_dataloader = DataLoader(train_dataset, **trainloader_args, \n",
    "                              collate_fn=collate_indic)\n",
    "\n",
    "test_dataset = MyDataSet(test_audios, test['emotion'].tolist(), cate_dic)\n",
    "testloader_args = dict(batch_size=16, shuffle=True)\n",
    "test_dataloader = DataLoader(test_dataset, **testloader_args, \n",
    "                             collate_fn=collate_indic)"
   ]
  },
  {
   "cell_type": "markdown",
   "id": "978123ac",
   "metadata": {},
   "source": [
    "# 3CNN+LSTM"
   ]
  },
  {
   "cell_type": "code",
   "execution_count": 54,
   "id": "406d6642",
   "metadata": {},
   "outputs": [],
   "source": [
    "import torch.nn as nn\n",
    "import torch.nn.functional as F\n",
    "\n",
    "class ICASSP3CNN(nn.Module):\n",
    "    def __init__(self, vocab_size, dims = 12, embed_size=128, hidden_size=512, num_lstm_layers = 2, \n",
    "                 bidirectional = False, label_size = 5):\n",
    "        super().__init__()\n",
    "        self.n_layers = num_lstm_layers \n",
    "        self.hidden = hidden_size\n",
    "        self.bidirectional = bidirectional\n",
    "        \n",
    "        self.aggr = nn.Conv1d(in_channels=dims, out_channels=1, kernel_size=1)\n",
    "        \n",
    "        self.embed = nn.Linear(in_features = vocab_size, out_features = embed_size)\n",
    "\n",
    "        self.cnn  = nn.Conv1d(embed_size, embed_size, kernel_size=3, padding=1)\n",
    "        self.cnn2 = nn.Conv1d(embed_size, embed_size, kernel_size=5, padding=2)\n",
    "        self.cnn3 = nn.Conv1d(embed_size, embed_size, kernel_size=7, padding=3)\n",
    "\n",
    "        self.batchnorm = nn.BatchNorm1d(3 * embed_size)\n",
    "\n",
    "        self.lstm = nn.LSTM(input_size = 3 * embed_size, \n",
    "                            hidden_size = hidden_size, \n",
    "                            num_layers = num_lstm_layers, \n",
    "                            bidirectional = bidirectional)\n",
    "\n",
    "        self.linear = nn.Linear(in_features = 2 * hidden_size if bidirectional else hidden_size, \n",
    "                                out_features = label_size)\n",
    "\n",
    "\n",
    "    def forward(self, x, lengths):\n",
    "        \"\"\"\n",
    "        padded_x: (B,T) padded LongTensor\n",
    "        \"\"\"\n",
    "        n, d, b, t = x.size(0), x.size(1), x.size(2), x.size(3)\n",
    "        x = torch.flatten(x, start_dim=2)\n",
    "        input = self.aggr(x)\n",
    "        input = torch.reshape(input, (n, b, t))\n",
    "        input = self.embed(input)\n",
    "\n",
    "        batch_size = input.size(0)\n",
    "        input = input.transpose(1,2)    # (B,T,H) -> (B,H,T)\n",
    "\n",
    "        cnn_output = torch.cat([self.cnn(input), self.cnn2(input), self.cnn3(input)], dim=1)\n",
    "\n",
    "        input = F.relu(self.batchnorm(cnn_output))\n",
    "\n",
    "        input = input.transpose(1,2)\n",
    "\n",
    "        pack_tensor = nn.utils.rnn.pack_padded_sequence(input, lengths, batch_first=True, enforce_sorted=False)\n",
    "        _, (hn, cn) = self.lstm(pack_tensor)\n",
    "\n",
    "        if self.bidirectional:\n",
    "            h_n = hn.view(self.n_layers, 2, batch_size, self.hidden)\n",
    "            h_n = torch.cat([ h_n[-1, 0,:], h_n[-1,1,:] ], dim = 1)\n",
    "        else:\n",
    "            h_n = hn[-1]\n",
    "\n",
    "        logits = self.linear(h_n)\n",
    "\n",
    "        return logits\n"
   ]
  },
  {
   "cell_type": "code",
   "execution_count": 55,
   "id": "bf260032",
   "metadata": {},
   "outputs": [
    {
     "name": "stderr",
     "output_type": "stream",
     "text": [
      "  2%|█████▋                                                                                                                                                                                                                                                                                         | 1/50 [00:11<09:11, 11.26s/it]"
     ]
    },
    {
     "name": "stdout",
     "output_type": "stream",
     "text": [
      "epoch:1, train accu:0.4604, train loss:1.25\n"
     ]
    },
    {
     "name": "stderr",
     "output_type": "stream",
     "text": [
      "\r",
      "  4%|███████████▍                                                                                                                                                                                                                                                                                   | 2/50 [00:21<08:42, 10.88s/it]"
     ]
    },
    {
     "name": "stdout",
     "output_type": "stream",
     "text": [
      "epoch:2, train accu:0.6896, train loss:0.76\n"
     ]
    },
    {
     "name": "stderr",
     "output_type": "stream",
     "text": [
      "\r",
      "  6%|█████████████████▏                                                                                                                                                                                                                                                                             | 3/50 [00:31<08:14, 10.52s/it]"
     ]
    },
    {
     "name": "stdout",
     "output_type": "stream",
     "text": [
      "epoch:3, train accu:0.7646, train loss:0.53\n"
     ]
    },
    {
     "name": "stderr",
     "output_type": "stream",
     "text": [
      "\r",
      "  8%|██████████████████████▉                                                                                                                                                                                                                                                                        | 4/50 [00:41<07:52, 10.28s/it]"
     ]
    },
    {
     "name": "stdout",
     "output_type": "stream",
     "text": [
      "epoch:4, train accu:0.8375, train loss:0.47\n"
     ]
    },
    {
     "name": "stderr",
     "output_type": "stream",
     "text": [
      "\r",
      " 10%|████████████████████████████▋                                                                                                                                                                                                                                                                  | 5/50 [00:52<07:41, 10.26s/it]"
     ]
    },
    {
     "name": "stdout",
     "output_type": "stream",
     "text": [
      "epoch:5, train accu:0.8333, train loss:0.46\n"
     ]
    },
    {
     "name": "stderr",
     "output_type": "stream",
     "text": [
      "\r",
      " 12%|██████████████████████████████████▍                                                                                                                                                                                                                                                            | 6/50 [01:02<07:38, 10.43s/it]"
     ]
    },
    {
     "name": "stdout",
     "output_type": "stream",
     "text": [
      "epoch:6, train accu:0.9125, train loss:0.27\n"
     ]
    },
    {
     "name": "stderr",
     "output_type": "stream",
     "text": [
      "\r",
      " 14%|████████████████████████████████████████▏                                                                                                                                                                                                                                                      | 7/50 [01:13<07:33, 10.55s/it]"
     ]
    },
    {
     "name": "stdout",
     "output_type": "stream",
     "text": [
      "epoch:7, train accu:0.9417, train loss:0.16\n"
     ]
    },
    {
     "name": "stderr",
     "output_type": "stream",
     "text": [
      "\r",
      " 16%|█████████████████████████████████████████████▉                                                                                                                                                                                                                                                 | 8/50 [01:23<07:17, 10.42s/it]"
     ]
    },
    {
     "name": "stdout",
     "output_type": "stream",
     "text": [
      "epoch:8, train accu:0.9292, train loss:0.23\n"
     ]
    },
    {
     "name": "stderr",
     "output_type": "stream",
     "text": [
      "\r",
      " 18%|███████████████████████████████████████████████████▋                                                                                                                                                                                                                                           | 9/50 [01:34<07:05, 10.38s/it]"
     ]
    },
    {
     "name": "stdout",
     "output_type": "stream",
     "text": [
      "epoch:9, train accu:0.9583, train loss:0.14\n"
     ]
    },
    {
     "name": "stderr",
     "output_type": "stream",
     "text": [
      "\r",
      " 20%|█████████████████████████████████████████████████████████▏                                                                                                                                                                                                                                    | 10/50 [01:44<06:54, 10.35s/it]"
     ]
    },
    {
     "name": "stdout",
     "output_type": "stream",
     "text": [
      "epoch:10, train accu:0.9458, train loss:0.18\n"
     ]
    },
    {
     "name": "stderr",
     "output_type": "stream",
     "text": [
      "\r",
      " 22%|██████████████████████████████████████████████████████████████▉                                                                                                                                                                                                                               | 11/50 [01:54<06:40, 10.28s/it]"
     ]
    },
    {
     "name": "stdout",
     "output_type": "stream",
     "text": [
      "epoch:11, train accu:0.9792, train loss:0.09\n"
     ]
    },
    {
     "name": "stderr",
     "output_type": "stream",
     "text": [
      "\r",
      " 24%|████████████████████████████████████████████████████████████████████▋                                                                                                                                                                                                                         | 12/50 [02:05<06:42, 10.60s/it]"
     ]
    },
    {
     "name": "stdout",
     "output_type": "stream",
     "text": [
      "epoch:12, train accu:0.9625, train loss:0.12\n"
     ]
    },
    {
     "name": "stderr",
     "output_type": "stream",
     "text": [
      "\r",
      " 26%|██████████████████████████████████████████████████████████████████████████▎                                                                                                                                                                                                                   | 13/50 [02:16<06:29, 10.53s/it]"
     ]
    },
    {
     "name": "stdout",
     "output_type": "stream",
     "text": [
      "epoch:13, train accu:0.9812, train loss:0.06\n"
     ]
    },
    {
     "name": "stderr",
     "output_type": "stream",
     "text": [
      "\r",
      " 28%|████████████████████████████████████████████████████████████████████████████████                                                                                                                                                                                                              | 14/50 [02:26<06:14, 10.41s/it]"
     ]
    },
    {
     "name": "stdout",
     "output_type": "stream",
     "text": [
      "epoch:14, train accu:0.9917, train loss:0.05\n"
     ]
    },
    {
     "name": "stderr",
     "output_type": "stream",
     "text": [
      "\r",
      " 30%|█████████████████████████████████████████████████████████████████████████████████████▊                                                                                                                                                                                                        | 15/50 [02:36<06:02, 10.35s/it]"
     ]
    },
    {
     "name": "stdout",
     "output_type": "stream",
     "text": [
      "epoch:15, train accu:0.9854, train loss:0.06\n"
     ]
    },
    {
     "name": "stderr",
     "output_type": "stream",
     "text": [
      "\r",
      " 32%|███████████████████████████████████████████████████████████████████████████████████████████▌                                                                                                                                                                                                  | 16/50 [02:48<06:07, 10.81s/it]"
     ]
    },
    {
     "name": "stdout",
     "output_type": "stream",
     "text": [
      "epoch:16, train accu:0.9938, train loss:0.02\n"
     ]
    },
    {
     "name": "stderr",
     "output_type": "stream",
     "text": [
      "\r",
      " 34%|█████████████████████████████████████████████████████████████████████████████████████████████████▏                                                                                                                                                                                            | 17/50 [03:04<06:46, 12.32s/it]"
     ]
    },
    {
     "name": "stdout",
     "output_type": "stream",
     "text": [
      "epoch:17, train accu:0.9708, train loss:0.10\n"
     ]
    },
    {
     "name": "stderr",
     "output_type": "stream",
     "text": [
      "\r",
      " 36%|██████████████████████████████████████████████████████████████████████████████████████████████████████▉                                                                                                                                                                                       | 18/50 [03:19<07:03, 13.22s/it]"
     ]
    },
    {
     "name": "stdout",
     "output_type": "stream",
     "text": [
      "epoch:18, train accu:0.9479, train loss:0.17\n"
     ]
    },
    {
     "name": "stderr",
     "output_type": "stream",
     "text": [
      "\r",
      " 38%|████████████████████████████████████████████████████████████████████████████████████████████████████████████▋                                                                                                                                                                                 | 19/50 [03:33<06:59, 13.54s/it]"
     ]
    },
    {
     "name": "stdout",
     "output_type": "stream",
     "text": [
      "epoch:19, train accu:0.9688, train loss:0.12\n"
     ]
    },
    {
     "name": "stderr",
     "output_type": "stream",
     "text": [
      "\r",
      " 40%|██████████████████████████████████████████████████████████████████████████████████████████████████████████████████▍                                                                                                                                                                           | 20/50 [03:48<06:54, 13.83s/it]"
     ]
    },
    {
     "name": "stdout",
     "output_type": "stream",
     "text": [
      "epoch:20, train accu:0.9563, train loss:0.13\n"
     ]
    },
    {
     "name": "stderr",
     "output_type": "stream",
     "text": [
      "\r",
      " 42%|████████████████████████████████████████████████████████████████████████████████████████████████████████████████████████                                                                                                                                                                      | 21/50 [04:04<06:58, 14.43s/it]"
     ]
    },
    {
     "name": "stdout",
     "output_type": "stream",
     "text": [
      "epoch:21, train accu:0.9667, train loss:0.09\n"
     ]
    },
    {
     "name": "stderr",
     "output_type": "stream",
     "text": [
      "\r",
      " 44%|█████████████████████████████████████████████████████████████████████████████████████████████████████████████████████████████▊                                                                                                                                                                | 22/50 [04:18<06:46, 14.50s/it]"
     ]
    },
    {
     "name": "stdout",
     "output_type": "stream",
     "text": [
      "epoch:22, train accu:0.9688, train loss:0.08\n"
     ]
    },
    {
     "name": "stderr",
     "output_type": "stream",
     "text": [
      "\r",
      " 46%|███████████████████████████████████████████████████████████████████████████████████████████████████████████████████████████████████▌                                                                                                                                                          | 23/50 [04:32<06:27, 14.37s/it]"
     ]
    },
    {
     "name": "stdout",
     "output_type": "stream",
     "text": [
      "epoch:23, train accu:0.9812, train loss:0.10\n"
     ]
    },
    {
     "name": "stderr",
     "output_type": "stream",
     "text": [
      "\r",
      " 48%|█████████████████████████████████████████████████████████████████████████████████████████████████████████████████████████████████████████▎                                                                                                                                                    | 24/50 [04:47<06:16, 14.47s/it]"
     ]
    },
    {
     "name": "stdout",
     "output_type": "stream",
     "text": [
      "epoch:24, train accu:1.0000, train loss:0.01\n"
     ]
    },
    {
     "name": "stderr",
     "output_type": "stream",
     "text": [
      "\r",
      " 50%|███████████████████████████████████████████████████████████████████████████████████████████████████████████████████████████████████████████████                                                                                                                                               | 25/50 [05:03<06:11, 14.84s/it]"
     ]
    },
    {
     "name": "stdout",
     "output_type": "stream",
     "text": [
      "epoch:25, train accu:0.9938, train loss:0.02\n"
     ]
    },
    {
     "name": "stderr",
     "output_type": "stream",
     "text": [
      "\r",
      " 52%|████████████████████████████████████████████████████████████████████████████████████████████████████████████████████████████████████████████████████▋                                                                                                                                         | 26/50 [05:19<06:05, 15.24s/it]"
     ]
    },
    {
     "name": "stdout",
     "output_type": "stream",
     "text": [
      "epoch:26, train accu:0.9896, train loss:0.04\n"
     ]
    },
    {
     "name": "stderr",
     "output_type": "stream",
     "text": [
      "\r",
      " 54%|██████████████████████████████████████████████████████████████████████████████████████████████████████████████████████████████████████████████████████████▍                                                                                                                                   | 27/50 [05:33<05:44, 14.99s/it]"
     ]
    },
    {
     "name": "stdout",
     "output_type": "stream",
     "text": [
      "epoch:27, train accu:1.0000, train loss:0.01\n"
     ]
    },
    {
     "name": "stderr",
     "output_type": "stream",
     "text": [
      "\r",
      " 56%|████████████████████████████████████████████████████████████████████████████████████████████████████████████████████████████████████████████████████████████████▏                                                                                                                             | 28/50 [05:49<05:31, 15.06s/it]"
     ]
    },
    {
     "name": "stdout",
     "output_type": "stream",
     "text": [
      "epoch:28, train accu:0.9979, train loss:0.00\n"
     ]
    },
    {
     "name": "stderr",
     "output_type": "stream",
     "text": [
      "\r",
      " 58%|█████████████████████████████████████████████████████████████████████████████████████████████████████████████████████████████████████████████████████████████████████▉                                                                                                                        | 29/50 [06:05<05:25, 15.51s/it]"
     ]
    },
    {
     "name": "stdout",
     "output_type": "stream",
     "text": [
      "epoch:29, train accu:1.0000, train loss:0.00\n"
     ]
    },
    {
     "name": "stderr",
     "output_type": "stream",
     "text": [
      "\r",
      " 60%|███████████████████████████████████████████████████████████████████████████████████████████████████████████████████████████████████████████████████████████████████████████▌                                                                                                                  | 30/50 [06:20<05:07, 15.37s/it]"
     ]
    },
    {
     "name": "stdout",
     "output_type": "stream",
     "text": [
      "epoch:30, train accu:1.0000, train loss:0.00\n"
     ]
    },
    {
     "name": "stderr",
     "output_type": "stream",
     "text": [
      "\r",
      " 62%|█████████████████████████████████████████████████████████████████████████████████████████████████████████████████████████████████████████████████████████████████████████████████▎                                                                                                            | 31/50 [06:35<04:46, 15.07s/it]"
     ]
    },
    {
     "name": "stdout",
     "output_type": "stream",
     "text": [
      "epoch:31, train accu:1.0000, train loss:0.00\n"
     ]
    },
    {
     "name": "stderr",
     "output_type": "stream",
     "text": [
      "\r",
      " 64%|███████████████████████████████████████████████████████████████████████████████████████████████████████████████████████████████████████████████████████████████████████████████████████                                                                                                       | 32/50 [06:49<04:27, 14.87s/it]"
     ]
    },
    {
     "name": "stdout",
     "output_type": "stream",
     "text": [
      "epoch:32, train accu:1.0000, train loss:0.00\n"
     ]
    },
    {
     "name": "stderr",
     "output_type": "stream",
     "text": [
      "\r",
      " 66%|████████████████████████████████████████████████████████████████████████████████████████████████████████████████████████████████████████████████████████████████████████████████████████████▊                                                                                                 | 33/50 [07:06<04:22, 15.46s/it]"
     ]
    },
    {
     "name": "stdout",
     "output_type": "stream",
     "text": [
      "epoch:33, train accu:1.0000, train loss:0.00\n"
     ]
    },
    {
     "name": "stderr",
     "output_type": "stream",
     "text": [
      "\r",
      " 68%|██████████████████████████████████████████████████████████████████████████████████████████████████████████████████████████████████████████████████████████████████████████████████████████████████▍                                                                                           | 34/50 [07:20<04:01, 15.07s/it]"
     ]
    },
    {
     "name": "stdout",
     "output_type": "stream",
     "text": [
      "epoch:34, train accu:1.0000, train loss:0.00\n"
     ]
    },
    {
     "name": "stderr",
     "output_type": "stream",
     "text": [
      "\r",
      " 70%|████████████████████████████████████████████████████████████████████████████████████████████████████████████████████████████████████████████████████████████████████████████████████████████████████████▏                                                                                     | 35/50 [07:35<03:44, 14.99s/it]"
     ]
    },
    {
     "name": "stdout",
     "output_type": "stream",
     "text": [
      "epoch:35, train accu:1.0000, train loss:0.00\n"
     ]
    },
    {
     "name": "stderr",
     "output_type": "stream",
     "text": [
      "\r",
      " 72%|█████████████████████████████████████████████████████████████████████████████████████████████████████████████████████████████████████████████████████████████████████████████████████████████████████████████▉                                                                                | 36/50 [07:49<03:27, 14.83s/it]"
     ]
    },
    {
     "name": "stdout",
     "output_type": "stream",
     "text": [
      "epoch:36, train accu:1.0000, train loss:0.00\n"
     ]
    },
    {
     "name": "stderr",
     "output_type": "stream",
     "text": [
      "\r",
      " 74%|███████████████████████████████████████████████████████████████████████████████████████████████████████████████████████████████████████████████████████████████████████████████████████████████████████████████████▋                                                                          | 37/50 [08:06<03:19, 15.33s/it]"
     ]
    },
    {
     "name": "stdout",
     "output_type": "stream",
     "text": [
      "epoch:37, train accu:1.0000, train loss:0.00\n"
     ]
    },
    {
     "name": "stderr",
     "output_type": "stream",
     "text": [
      "\r",
      " 76%|█████████████████████████████████████████████████████████████████████████████████████████████████████████████████████████████████████████████████████████████████████████████████████████████████████████████████████████▎                                                                    | 38/50 [08:20<03:01, 15.13s/it]"
     ]
    },
    {
     "name": "stdout",
     "output_type": "stream",
     "text": [
      "epoch:38, train accu:1.0000, train loss:0.00\n"
     ]
    },
    {
     "name": "stderr",
     "output_type": "stream",
     "text": [
      "\r",
      " 78%|███████████████████████████████████████████████████████████████████████████████████████████████████████████████████████████████████████████████████████████████████████████████████████████████████████████████████████████████                                                               | 39/50 [08:34<02:41, 14.72s/it]"
     ]
    },
    {
     "name": "stdout",
     "output_type": "stream",
     "text": [
      "epoch:39, train accu:1.0000, train loss:0.00\n"
     ]
    },
    {
     "name": "stderr",
     "output_type": "stream",
     "text": [
      "\r",
      " 80%|████████████████████████████████████████████████████████████████████████████████████████████████████████████████████████████████████████████████████████████████████████████████████████████████████████████████████████████████████▊                                                         | 40/50 [08:47<02:22, 14.23s/it]"
     ]
    },
    {
     "name": "stdout",
     "output_type": "stream",
     "text": [
      "epoch:40, train accu:1.0000, train loss:0.00\n"
     ]
    },
    {
     "name": "stderr",
     "output_type": "stream",
     "text": [
      "\r",
      " 82%|██████████████████████████████████████████████████████████████████████████████████████████████████████████████████████████████████████████████████████████████████████████████████████████████████████████████████████████████████████████▌                                                   | 41/50 [08:58<01:57, 13.09s/it]"
     ]
    },
    {
     "name": "stdout",
     "output_type": "stream",
     "text": [
      "epoch:41, train accu:1.0000, train loss:0.00\n"
     ]
    },
    {
     "name": "stderr",
     "output_type": "stream",
     "text": [
      "\r",
      " 84%|████████████████████████████████████████████████████████████████████████████████████████████████████████████████████████████████████████████████████████████████████████████████████████████████████████████████████████████████████████████████▏                                             | 42/50 [09:09<01:40, 12.55s/it]"
     ]
    },
    {
     "name": "stdout",
     "output_type": "stream",
     "text": [
      "epoch:42, train accu:1.0000, train loss:0.00\n"
     ]
    },
    {
     "name": "stderr",
     "output_type": "stream",
     "text": [
      "\r",
      " 86%|█████████████████████████████████████████████████████████████████████████████████████████████████████████████████████████████████████████████████████████████████████████████████████████████████████████████████████████████████████████████████████▉                                        | 43/50 [09:19<01:22, 11.84s/it]"
     ]
    },
    {
     "name": "stdout",
     "output_type": "stream",
     "text": [
      "epoch:43, train accu:1.0000, train loss:0.00\n"
     ]
    },
    {
     "name": "stderr",
     "output_type": "stream",
     "text": [
      "\r",
      " 88%|███████████████████████████████████████████████████████████████████████████████████████████████████████████████████████████████████████████████████████████████████████████████████████████████████████████████████████████████████████████████████████████▋                                  | 44/50 [09:29<01:07, 11.27s/it]"
     ]
    },
    {
     "name": "stdout",
     "output_type": "stream",
     "text": [
      "epoch:44, train accu:1.0000, train loss:0.00\n"
     ]
    },
    {
     "name": "stderr",
     "output_type": "stream",
     "text": [
      "\r",
      " 90%|█████████████████████████████████████████████████████████████████████████████████████████████████████████████████████████████████████████████████████████████████████████████████████████████████████████████████████████████████████████████████████████████████▍                            | 45/50 [09:39<00:54, 10.87s/it]"
     ]
    },
    {
     "name": "stdout",
     "output_type": "stream",
     "text": [
      "epoch:45, train accu:1.0000, train loss:0.00\n"
     ]
    },
    {
     "name": "stderr",
     "output_type": "stream",
     "text": [
      "\r",
      " 92%|███████████████████████████████████████████████████████████████████████████████████████████████████████████████████████████████████████████████████████████████████████████████████████████████████████████████████████████████████████████████████████████████████████                       | 46/50 [09:49<00:42, 10.63s/it]"
     ]
    },
    {
     "name": "stdout",
     "output_type": "stream",
     "text": [
      "epoch:46, train accu:1.0000, train loss:0.00\n"
     ]
    },
    {
     "name": "stderr",
     "output_type": "stream",
     "text": [
      "\r",
      " 94%|████████████████████████████████████████████████████████████████████████████████████████████████████████████████████████████████████████████████████████████████████████████████████████████████████████████████████████████████████████████████████████████████████████████▊                 | 47/50 [09:59<00:31, 10.42s/it]"
     ]
    },
    {
     "name": "stdout",
     "output_type": "stream",
     "text": [
      "epoch:47, train accu:1.0000, train loss:0.00\n"
     ]
    },
    {
     "name": "stderr",
     "output_type": "stream",
     "text": [
      "\r",
      " 96%|██████████████████████████████████████████████████████████████████████████████████████████████████████████████████████████████████████████████████████████████████████████████████████████████████████████████████████████████████████████████████████████████████████████████████▌           | 48/50 [10:10<00:21, 10.72s/it]"
     ]
    },
    {
     "name": "stdout",
     "output_type": "stream",
     "text": [
      "epoch:48, train accu:1.0000, train loss:0.00\n"
     ]
    },
    {
     "name": "stderr",
     "output_type": "stream",
     "text": [
      "\r",
      " 98%|████████████████████████████████████████████████████████████████████████████████████████████████████████████████████████████████████████████████████████████████████████████████████████████████████████████████████████████████████████████████████████████████████████████████████████▎     | 49/50 [10:20<00:10, 10.48s/it]"
     ]
    },
    {
     "name": "stdout",
     "output_type": "stream",
     "text": [
      "epoch:49, train accu:1.0000, train loss:0.00\n"
     ]
    },
    {
     "name": "stderr",
     "output_type": "stream",
     "text": [
      "100%|██████████████████████████████████████████████████████████████████████████████████████████████████████████████████████████████████████████████████████████████████████████████████████████████████████████████████████████████████████████████████████████████████████████████████████████████| 50/50 [10:30<00:00, 12.62s/it]"
     ]
    },
    {
     "name": "stdout",
     "output_type": "stream",
     "text": [
      "epoch:50, train accu:1.0000, train loss:0.00\n"
     ]
    },
    {
     "name": "stderr",
     "output_type": "stream",
     "text": [
      "\n"
     ]
    }
   ],
   "source": [
    "from tqdm import tqdm\n",
    "from torchsummary import summary\n",
    "import torch.optim as optim\n",
    "\n",
    "model = ICASSP3CNN(1024, 24)\n",
    "model = model.to(device)\n",
    "criterion = nn.CrossEntropyLoss()\n",
    "optimizer = optim.Adam(model.parameters(), lr=0.001)\n",
    "\n",
    "\n",
    "epochs = 50\n",
    "train_losses = []\n",
    "train_accuracies = []\n",
    "valid_losses = []\n",
    "valid_accuracies = []\n",
    "\n",
    "for epoch in tqdm(range(epochs)):\n",
    "    train_loss = 0\n",
    "    acc_cnt = 0\n",
    "    err_cnt = 0\n",
    "    batch_cnt = 0\n",
    "    model.train()\n",
    "    for batch, (x, length, y) in enumerate(train_dataloader):\n",
    "        x = x.to(device)\n",
    "        y = y.to(device)\n",
    "        optimizer.zero_grad()\n",
    "        logits = model(x, length)\n",
    "        loss = criterion(logits, y)\n",
    "        loss.backward()\n",
    "        optimizer.step()\n",
    "        train_loss += loss.cpu().item()\n",
    "\n",
    "        #model outputs\n",
    "        out_val, out_indices = torch.max(logits, dim=1)\n",
    "        tar_indices = y\n",
    "\n",
    "        for i in range(len(out_indices)):\n",
    "            if out_indices[i] == tar_indices[i]:\n",
    "                acc_cnt += 1\n",
    "            else:\n",
    "                err_cnt += 1\n",
    "        batch_cnt += 1\n",
    "    \n",
    "    train_loss = train_loss/batch_cnt\n",
    "    train_accuracy = acc_cnt/(acc_cnt+err_cnt)\n",
    "    train_accuracies.append(train_accuracy)\n",
    "    train_losses.append(train_loss)\n",
    "    \n",
    "    print(f\"epoch:{epoch+1}, train accu:{train_accuracy:.4f},\", f\"train loss:{train_loss:.2f}\")"
   ]
  },
  {
   "cell_type": "markdown",
   "id": "af357930",
   "metadata": {},
   "source": [
    "# Model Test"
   ]
  },
  {
   "cell_type": "code",
   "execution_count": 56,
   "id": "ab8fc9d3",
   "metadata": {},
   "outputs": [
    {
     "name": "stdout",
     "output_type": "stream",
     "text": [
      "test accuracy: 0.8870967741935484\n"
     ]
    }
   ],
   "source": [
    "test_loss = 0\n",
    "acc_cnt = 0\n",
    "err_cnt = 0\n",
    "batch_cnt = 0\n",
    "model.eval()\n",
    "\n",
    "for x, lengths, y in test_dataloader:\n",
    "\n",
    "    x = x.to(device)\n",
    "    y = y.to(device)\n",
    "\n",
    "    logits = model(x, lengths)\n",
    "    loss = criterion(logits, y)\n",
    "    test_loss += loss.cpu().item()\n",
    "\n",
    "    out_val, out_indices = torch.max(logits, dim=1)\n",
    "    tar_indices = y\n",
    "\n",
    "    for i in range(len(out_indices)):\n",
    "        if out_indices[i] == tar_indices[i]:\n",
    "            acc_cnt += 1\n",
    "        else:\n",
    "            err_cnt += 1\n",
    "    batch_cnt += 1\n",
    "\n",
    "test_loss = test_loss/batch_cnt\n",
    "test_accuracy = acc_cnt/(acc_cnt+err_cnt)\n",
    "print(f'test accuracy: {test_accuracy}')"
   ]
  },
  {
   "cell_type": "code",
   "execution_count": 57,
   "id": "586c96b1",
   "metadata": {},
   "outputs": [
    {
     "name": "stdout",
     "output_type": "stream",
     "text": [
      "aggr.weight tensor([[[ 0.1121],\n",
      "         [-0.0618],\n",
      "         [-0.0135],\n",
      "         [-0.1137],\n",
      "         [ 0.2014],\n",
      "         [ 0.0477],\n",
      "         [-0.1968],\n",
      "         [-0.0321],\n",
      "         [-0.2502],\n",
      "         [ 0.0935],\n",
      "         [ 0.1387],\n",
      "         [ 0.1686],\n",
      "         [-0.0087],\n",
      "         [-0.0973],\n",
      "         [-0.0934],\n",
      "         [ 0.1011],\n",
      "         [-0.0434],\n",
      "         [ 0.1706],\n",
      "         [ 0.0207],\n",
      "         [ 0.1378],\n",
      "         [-0.2227],\n",
      "         [ 0.1070],\n",
      "         [-0.1443],\n",
      "         [ 0.0210]]], device='cuda:0')\n",
      "aggr.bias tensor([0.0927], device='cuda:0')\n",
      "embed.weight tensor([[-0.0019, -0.0293, -0.0095,  ..., -0.0395, -0.0133,  0.0065],\n",
      "        [-0.0036, -0.0075,  0.0286,  ..., -0.0105,  0.0036,  0.0491],\n",
      "        [-0.0498, -0.0146, -0.0213,  ...,  0.0379,  0.0543,  0.0445],\n",
      "        ...,\n",
      "        [ 0.0093,  0.0468, -0.0403,  ...,  0.0255,  0.0395, -0.0153],\n",
      "        [-0.0047,  0.0399, -0.0018,  ...,  0.0185, -0.0548, -0.0220],\n",
      "        [ 0.0728, -0.0321, -0.0253,  ..., -0.0189, -0.0214, -0.0564]],\n",
      "       device='cuda:0')\n",
      "embed.bias tensor([-3.6315e-02,  3.8853e-03, -1.2009e-02,  3.2581e-03,  5.8696e-03,\n",
      "         4.2837e-03,  2.9199e-02,  1.3529e-02,  2.4097e-02, -7.9043e-04,\n",
      "        -1.0005e-02, -1.1636e-02, -1.0248e-02, -7.2295e-03,  2.4261e-02,\n",
      "         1.1405e-03, -2.7333e-02,  3.6751e-02, -1.3682e-02,  6.2988e-02,\n",
      "         1.1948e-02, -3.4023e-02,  1.6115e-03, -3.5240e-02, -2.2995e-02,\n",
      "         2.2051e-02,  2.3493e-02,  1.6802e-02,  5.3185e-03,  4.8976e-02,\n",
      "         1.4307e-02, -1.6671e-02,  4.5733e-04, -3.5013e-02, -3.2433e-02,\n",
      "        -3.4364e-02,  9.7628e-03,  2.6697e-02,  3.0195e-02,  3.0626e-02,\n",
      "         1.2790e-02,  5.2178e-03, -4.4121e-02,  4.0139e-02,  2.3136e-02,\n",
      "        -2.5867e-02,  4.9620e-02, -2.9235e-02, -9.8427e-03,  2.8258e-02,\n",
      "        -3.1605e-03, -1.9055e-02, -3.6740e-02,  2.9358e-02,  2.2976e-03,\n",
      "        -2.1279e-02, -1.1091e-02,  3.0502e-02,  1.2273e-02,  5.5339e-04,\n",
      "        -2.0310e-02, -1.2708e-02, -2.4043e-02,  2.2592e-02,  2.0908e-02,\n",
      "        -1.1824e-03,  1.7264e-02, -4.7864e-02, -1.8800e-02,  1.1932e-02,\n",
      "         3.6698e-02, -3.0675e-02, -1.6956e-02, -5.0433e-03,  7.1964e-03,\n",
      "        -7.3527e-02,  3.5073e-02,  3.3011e-02,  1.6394e-02, -2.3103e-02,\n",
      "        -3.2431e-02,  2.9044e-02,  3.7374e-02,  2.8245e-02, -5.9769e-03,\n",
      "        -3.0170e-02,  3.2507e-03, -3.0392e-02,  1.6665e-02,  2.7780e-02,\n",
      "         6.9212e-04,  2.4804e-02, -1.0115e-02,  1.4071e-02,  1.2776e-02,\n",
      "        -1.2257e-02, -2.6080e-02,  9.8855e-03,  1.1709e-02, -9.0558e-05,\n",
      "        -1.3889e-02, -3.9607e-02, -4.1511e-02,  2.7076e-02,  3.8900e-02,\n",
      "         8.4985e-03,  1.5260e-04, -3.8379e-02,  4.3060e-02,  3.1056e-03,\n",
      "         8.4448e-03, -1.4802e-02,  2.3032e-02, -1.4594e-02,  2.0194e-02,\n",
      "        -4.4288e-02, -1.4791e-02, -2.4697e-02,  6.9818e-03,  4.2350e-02,\n",
      "        -2.1042e-02, -9.6388e-03, -4.7107e-02,  3.7967e-02,  3.0165e-02,\n",
      "         1.3189e-02, -4.0642e-02, -4.9726e-04], device='cuda:0')\n",
      "cnn.weight tensor([[[-0.0039, -0.0538,  0.0025],\n",
      "         [ 0.0650, -0.0045,  0.0375],\n",
      "         [ 0.0165, -0.0093,  0.0212],\n",
      "         ...,\n",
      "         [ 0.0098,  0.0681,  0.0503],\n",
      "         [-0.0139, -0.0131, -0.0083],\n",
      "         [-0.0169, -0.0452,  0.0055]],\n",
      "\n",
      "        [[ 0.0487, -0.0059, -0.0148],\n",
      "         [ 0.0146, -0.0012,  0.0165],\n",
      "         [ 0.0439, -0.0153,  0.0218],\n",
      "         ...,\n",
      "         [ 0.0429,  0.0507,  0.0215],\n",
      "         [-0.0064, -0.0043, -0.0414],\n",
      "         [-0.0002,  0.0192,  0.0154]],\n",
      "\n",
      "        [[ 0.0597,  0.0339, -0.0106],\n",
      "         [-0.0045, -0.0294,  0.0078],\n",
      "         [-0.0539,  0.0164,  0.0120],\n",
      "         ...,\n",
      "         [ 0.0269,  0.0133, -0.0442],\n",
      "         [-0.0513,  0.0352,  0.0187],\n",
      "         [-0.0270,  0.0373, -0.0248]],\n",
      "\n",
      "        ...,\n",
      "\n",
      "        [[ 0.0227, -0.0261,  0.0353],\n",
      "         [-0.0319,  0.0508,  0.0672],\n",
      "         [-0.0450, -0.0317,  0.0375],\n",
      "         ...,\n",
      "         [ 0.0269,  0.0359, -0.0427],\n",
      "         [ 0.0722,  0.0004,  0.0589],\n",
      "         [-0.0071, -0.0424, -0.0859]],\n",
      "\n",
      "        [[-0.0522, -0.0056, -0.0145],\n",
      "         [-0.0602, -0.0257, -0.0326],\n",
      "         [-0.0056, -0.0081, -0.0063],\n",
      "         ...,\n",
      "         [ 0.0571,  0.0449,  0.0562],\n",
      "         [ 0.0367,  0.0164, -0.0123],\n",
      "         [ 0.0442,  0.0076, -0.0206]],\n",
      "\n",
      "        [[-0.0245, -0.0148,  0.0560],\n",
      "         [-0.0512,  0.0399,  0.0774],\n",
      "         [ 0.0177,  0.0704,  0.0839],\n",
      "         ...,\n",
      "         [ 0.0597,  0.0625,  0.0455],\n",
      "         [ 0.0150, -0.0434, -0.0069],\n",
      "         [-0.0405, -0.0600, -0.0270]]], device='cuda:0')\n",
      "cnn.bias tensor([-4.8996e-02,  1.0127e-03,  4.3995e-02,  5.1450e-05, -4.0724e-02,\n",
      "        -6.3834e-02,  1.4454e-03, -5.4428e-03,  7.5777e-03, -2.5158e-02,\n",
      "         2.0876e-02,  4.3531e-02,  3.1882e-02, -1.0356e-02,  2.5482e-02,\n",
      "         4.4425e-02,  2.7503e-02, -2.1034e-02, -5.0061e-02,  4.5216e-02,\n",
      "         3.6388e-02, -4.6214e-02, -2.1977e-02, -3.6247e-04,  4.4068e-02,\n",
      "         2.8064e-02,  1.2208e-02, -4.0539e-02, -4.3849e-03, -2.2484e-02,\n",
      "        -2.7736e-02, -3.7009e-02,  1.2061e-02, -4.7818e-02, -1.0027e-02,\n",
      "         2.9558e-02, -1.7350e-02, -1.0630e-02,  1.4732e-02,  7.3467e-03,\n",
      "        -1.7218e-02,  2.1375e-02,  7.8585e-04, -1.6632e-02,  1.2142e-02,\n",
      "         3.3407e-03,  3.2524e-02, -2.7718e-02,  2.3078e-02, -2.8071e-02,\n",
      "         2.5293e-03,  3.0276e-02,  3.5087e-02, -2.7436e-02, -4.7300e-02,\n",
      "         3.3022e-02,  2.6214e-02,  1.5063e-02, -3.0347e-02,  1.6430e-02,\n",
      "        -5.2483e-02,  5.4988e-02, -2.9272e-02, -1.9956e-03,  1.6333e-02,\n",
      "         2.9418e-02,  4.3032e-02,  5.1735e-03,  1.4452e-02, -4.1526e-02,\n",
      "        -5.8283e-03,  5.6476e-02,  4.1212e-02, -8.8883e-04, -6.0068e-03,\n",
      "        -3.2802e-02, -1.0185e-02, -2.0993e-02, -3.6755e-02, -1.6071e-02,\n",
      "        -4.7816e-02, -7.8983e-03, -5.5301e-02, -2.9537e-03,  4.9075e-02,\n",
      "         1.7013e-02, -3.9543e-03, -1.8802e-02,  3.1865e-02, -3.3361e-02,\n",
      "        -9.0461e-04,  4.1299e-02,  5.2736e-02,  3.9714e-02,  2.3193e-02,\n",
      "         6.3030e-03, -2.8878e-02,  8.8200e-03, -2.4830e-02,  5.4106e-03,\n",
      "         1.4424e-02,  2.2608e-02, -5.1332e-02,  5.2989e-02,  4.8111e-02,\n",
      "         3.1426e-02,  6.7061e-03,  3.4185e-02, -1.8018e-02, -6.6395e-03,\n",
      "        -1.8115e-03,  4.0743e-02, -4.0920e-02,  3.1203e-02,  1.3021e-02,\n",
      "        -1.8742e-02,  1.2273e-02, -4.4378e-02,  2.9093e-02, -2.8128e-02,\n",
      "         1.9928e-02, -4.6559e-02, -4.1351e-02,  8.0263e-03,  3.9118e-03,\n",
      "        -1.5821e-02,  2.9861e-02,  8.5087e-03], device='cuda:0')\n",
      "cnn2.weight tensor([[[-1.2222e-03, -1.8220e-02, -2.9639e-02,  2.4210e-02, -1.6751e-02],\n",
      "         [ 1.5230e-02, -2.4439e-02, -3.5742e-02,  3.2306e-03, -1.0109e-02],\n",
      "         [ 2.8436e-02,  3.3668e-02, -4.3429e-03,  3.5408e-02,  4.5010e-02],\n",
      "         ...,\n",
      "         [-2.3310e-02,  1.2770e-02, -7.3054e-03, -4.0028e-02,  7.3751e-03],\n",
      "         [ 9.1552e-03,  1.6227e-02, -4.1365e-02, -1.2702e-03, -1.8685e-02],\n",
      "         [ 5.0827e-02, -1.5968e-02,  4.6067e-03,  5.6710e-03, -5.5541e-02]],\n",
      "\n",
      "        [[ 2.5070e-02, -2.5302e-02, -9.4921e-03, -1.3423e-02,  3.1790e-02],\n",
      "         [-4.7864e-02, -3.0241e-02, -6.7162e-02, -2.4072e-02, -2.9275e-02],\n",
      "         [-3.2818e-03, -4.0155e-02,  3.5667e-02,  3.3319e-02, -8.9954e-03],\n",
      "         ...,\n",
      "         [ 1.4301e-03,  6.4637e-02,  2.0773e-02,  1.3350e-02, -3.1118e-02],\n",
      "         [-3.2729e-02,  1.2451e-02, -2.4240e-02,  1.1886e-02, -2.7469e-02],\n",
      "         [ 1.2016e-02,  6.5517e-02,  3.7067e-03,  2.9225e-02,  4.5289e-02]],\n",
      "\n",
      "        [[ 2.2936e-02,  2.1662e-02, -9.6322e-04,  1.8146e-02, -1.6490e-02],\n",
      "         [ 5.5415e-02,  4.0885e-02,  7.9567e-02,  2.5393e-02,  4.0027e-03],\n",
      "         [ 3.5311e-02, -1.7782e-03,  3.4801e-02,  6.7491e-03,  3.2017e-02],\n",
      "         ...,\n",
      "         [ 2.6299e-02, -3.5988e-03, -7.8239e-03,  1.4538e-02,  3.6116e-02],\n",
      "         [-1.2546e-02,  2.2407e-03, -1.1838e-02, -2.7986e-02, -4.3381e-02],\n",
      "         [-6.4486e-03, -2.5834e-02,  4.5442e-03, -1.9567e-03, -1.5458e-02]],\n",
      "\n",
      "        ...,\n",
      "\n",
      "        [[ 4.6452e-02,  3.2485e-03,  5.6478e-02,  5.0209e-02,  5.2248e-02],\n",
      "         [-3.6458e-02,  2.6197e-02,  6.0214e-03,  1.3894e-02, -3.1184e-02],\n",
      "         [-6.4472e-02, -2.3583e-03, -4.6332e-02, -2.1785e-02, -2.6498e-02],\n",
      "         ...,\n",
      "         [-5.0147e-02,  9.8201e-04,  7.0774e-03, -1.7790e-02,  8.6816e-03],\n",
      "         [-1.6825e-02,  5.0697e-03, -8.7704e-03,  3.2340e-02,  4.1441e-02],\n",
      "         [ 5.4201e-02,  6.8795e-03,  3.0933e-02,  3.5261e-03,  6.0534e-02]],\n",
      "\n",
      "        [[-2.7129e-02,  2.1790e-02, -3.4027e-02, -2.6341e-02,  1.7755e-03],\n",
      "         [-1.5777e-02, -1.9074e-02, -5.4909e-02, -1.7415e-02,  1.2440e-02],\n",
      "         [ 1.4472e-02, -1.5061e-02, -1.1506e-02, -3.5137e-02,  5.8847e-03],\n",
      "         ...,\n",
      "         [ 2.5154e-02,  8.2610e-03,  2.8844e-02,  2.1408e-02,  2.9279e-03],\n",
      "         [ 4.6776e-02,  2.0389e-02,  1.8443e-03,  4.3014e-02, -1.3683e-05],\n",
      "         [ 3.8412e-02, -1.8294e-03, -2.4949e-02, -1.2477e-02,  2.0288e-02]],\n",
      "\n",
      "        [[ 4.9489e-02, -4.3358e-03,  3.5033e-02,  3.4708e-02,  3.5929e-02],\n",
      "         [ 2.4036e-02,  5.3139e-02,  3.5347e-02,  3.8441e-02,  3.6929e-02],\n",
      "         [ 2.8637e-02,  5.2852e-02, -1.7528e-02,  3.1693e-03,  1.1730e-02],\n",
      "         ...,\n",
      "         [ 4.5976e-02, -6.7156e-03,  3.8805e-03,  2.9077e-02, -3.7462e-03],\n",
      "         [-6.8024e-03, -1.1086e-02, -3.5959e-03,  1.0672e-02,  1.8039e-02],\n",
      "         [-2.9793e-02,  8.3855e-03,  2.2320e-02, -2.3282e-02, -5.5868e-03]]],\n",
      "       device='cuda:0')\n",
      "cnn2.bias tensor([ 2.4384e-02, -4.0812e-02,  3.9870e-02, -7.2938e-03,  2.0010e-02,\n",
      "        -3.5759e-02, -2.4184e-02, -4.0140e-02,  1.2527e-02,  3.6959e-02,\n",
      "        -1.1866e-03, -2.5492e-02, -1.4345e-02, -3.8829e-03,  2.0815e-02,\n",
      "         4.3074e-02,  3.6209e-03,  1.1746e-02, -3.4691e-02,  2.5449e-02,\n",
      "         4.0494e-03, -5.1358e-03,  2.9242e-02, -7.8622e-03,  3.0933e-02,\n",
      "        -7.4011e-03, -9.7765e-03,  2.1595e-03,  4.9188e-03,  6.2004e-03,\n",
      "         1.0257e-02, -4.4940e-03, -3.4223e-02,  2.8968e-02,  2.1212e-02,\n",
      "         5.2263e-02, -4.8466e-03,  1.0608e-02, -2.4218e-02, -6.5882e-03,\n",
      "        -5.0894e-02, -4.2571e-03, -6.8967e-03,  1.9705e-02,  2.6484e-02,\n",
      "        -2.6928e-02, -3.6888e-02, -2.7377e-02, -1.7286e-02, -1.5506e-03,\n",
      "        -2.8563e-02,  2.7172e-02,  3.2974e-02,  2.8589e-02,  2.7519e-04,\n",
      "         1.5370e-02,  4.1079e-03, -2.5505e-03, -9.4391e-03, -5.4492e-03,\n",
      "        -1.9161e-02, -2.2328e-02,  1.4000e-02,  1.1517e-05, -3.8321e-02,\n",
      "         9.9533e-03, -5.2324e-03, -3.4921e-02,  3.0770e-02,  2.6613e-02,\n",
      "        -6.2275e-03,  3.5677e-02, -2.0499e-02, -3.3762e-02, -2.0195e-02,\n",
      "        -4.0067e-04,  1.7293e-02,  4.2782e-02, -4.8406e-03, -4.9675e-02,\n",
      "         1.9582e-02, -5.6529e-03, -3.5257e-03,  3.4448e-02, -1.7248e-02,\n",
      "        -2.0192e-02,  5.5899e-03,  8.2236e-03,  1.2993e-02,  1.2061e-02,\n",
      "        -3.1259e-02,  3.9318e-02,  2.0933e-02,  1.8750e-02,  5.2706e-03,\n",
      "         3.7995e-02, -3.5298e-02,  1.0323e-02,  1.3133e-02, -2.4305e-02,\n",
      "        -2.3878e-02,  2.9480e-02,  1.6712e-02,  3.6775e-02, -7.9491e-03,\n",
      "        -2.0434e-02,  1.0390e-02,  1.8643e-02, -1.2166e-02,  3.3108e-02,\n",
      "        -1.7435e-03,  8.7257e-03, -1.4442e-02,  2.8436e-03, -2.9474e-02,\n",
      "        -3.7144e-03,  6.9474e-04,  2.1139e-02, -2.4043e-02, -2.9151e-02,\n",
      "         2.7111e-02,  1.6313e-02, -2.2380e-02, -1.6265e-02,  7.3146e-03,\n",
      "        -4.3535e-02, -3.1277e-02,  3.1307e-02], device='cuda:0')\n",
      "cnn3.weight tensor([[[ 1.7361e-03, -1.0362e-03, -4.9182e-02,  ..., -3.0977e-02,\n",
      "           2.8622e-02, -7.3642e-03],\n",
      "         [ 1.7399e-02,  2.6868e-02,  6.6695e-04,  ...,  4.8344e-02,\n",
      "           4.9140e-02, -1.6394e-02],\n",
      "         [ 6.0337e-03,  1.7559e-02, -6.4509e-03,  ...,  2.4337e-02,\n",
      "           4.4088e-02,  1.3074e-02],\n",
      "         ...,\n",
      "         [ 1.4939e-02,  3.0358e-03,  1.7467e-03,  ...,  1.4314e-02,\n",
      "           2.4119e-02, -1.3587e-02],\n",
      "         [ 5.9126e-02,  4.6580e-02,  4.0001e-02,  ...,  7.2138e-03,\n",
      "          -9.1439e-03, -8.0850e-03],\n",
      "         [-5.8126e-03, -2.6696e-02,  1.9269e-02,  ..., -7.3479e-03,\n",
      "          -6.0034e-02, -4.0191e-02]],\n",
      "\n",
      "        [[-2.7651e-02,  3.0194e-02, -2.3630e-03,  ..., -5.6447e-03,\n",
      "          -2.3987e-02,  5.8326e-04],\n",
      "         [ 7.9260e-03,  7.6570e-03,  2.2905e-02,  ...,  5.0315e-02,\n",
      "           4.5488e-02,  6.5458e-02],\n",
      "         [-1.7567e-02,  1.8212e-02,  2.6495e-02,  ...,  2.8866e-02,\n",
      "          -2.0835e-02,  3.3902e-02],\n",
      "         ...,\n",
      "         [ 3.3789e-02,  6.7437e-04, -8.2937e-03,  ..., -4.4251e-02,\n",
      "           1.4337e-02, -1.6778e-02],\n",
      "         [ 1.8619e-02,  3.2327e-02,  2.7489e-02,  ..., -5.3058e-03,\n",
      "           1.4183e-02, -4.0624e-02],\n",
      "         [ 1.2379e-02,  3.6780e-03, -7.1414e-03,  ..., -2.5124e-02,\n",
      "          -4.1500e-02, -4.8947e-02]],\n",
      "\n",
      "        [[ 2.8816e-02,  3.1415e-02,  2.7540e-02,  ...,  5.0058e-03,\n",
      "           3.3717e-02, -4.7124e-03],\n",
      "         [ 2.8817e-02,  5.6706e-02,  2.7562e-02,  ...,  5.1088e-04,\n",
      "          -1.9221e-02,  3.5831e-02],\n",
      "         [ 8.3340e-03,  3.4216e-02,  2.7272e-02,  ...,  8.5341e-03,\n",
      "          -7.2754e-05, -2.9240e-02],\n",
      "         ...,\n",
      "         [ 2.4069e-02,  2.7791e-02, -9.9949e-03,  ...,  3.6660e-02,\n",
      "           4.3565e-02,  4.0713e-02],\n",
      "         [-1.8007e-02, -6.3479e-03, -3.6129e-02,  ...,  1.3134e-02,\n",
      "          -1.3544e-03, -3.1057e-02],\n",
      "         [-2.7473e-02, -2.1102e-02, -1.3098e-02,  ...,  3.4266e-02,\n",
      "          -1.4168e-02, -3.4541e-02]],\n",
      "\n",
      "        ...,\n",
      "\n",
      "        [[-2.6329e-02, -1.5831e-04,  1.3678e-02,  ..., -3.0788e-02,\n",
      "           1.2195e-02, -3.2264e-02],\n",
      "         [ 2.7746e-03, -1.3164e-02,  8.9626e-03,  ..., -2.7772e-02,\n",
      "           1.9713e-02, -6.5276e-04],\n",
      "         [ 2.2664e-02, -4.0253e-03, -3.7244e-02,  ...,  4.1965e-03,\n",
      "          -2.9618e-02,  1.6336e-02],\n",
      "         ...,\n",
      "         [ 1.9771e-02,  2.2016e-02, -1.9785e-02,  ..., -5.6435e-03,\n",
      "           1.5240e-02,  4.4349e-02],\n",
      "         [-3.2356e-02,  6.4594e-03, -3.8263e-02,  ...,  5.8582e-03,\n",
      "           2.2104e-02,  4.7337e-03],\n",
      "         [ 1.4221e-02,  3.1217e-02,  1.4113e-02,  ..., -7.9476e-03,\n",
      "          -2.2818e-02,  1.8146e-02]],\n",
      "\n",
      "        [[-2.0533e-02, -2.1640e-02,  2.4317e-02,  ...,  2.9595e-02,\n",
      "          -2.0427e-02,  2.4790e-02],\n",
      "         [ 3.6388e-02, -1.4254e-02,  1.6214e-02,  ..., -2.4876e-02,\n",
      "          -2.5622e-02,  2.3150e-03],\n",
      "         [-3.1517e-02,  1.5996e-02, -3.0073e-02,  ...,  8.8451e-03,\n",
      "           3.1988e-02, -3.1952e-03],\n",
      "         ...,\n",
      "         [ 7.2348e-03, -1.1877e-02,  1.5766e-02,  ...,  1.5262e-02,\n",
      "           2.4614e-02,  3.4001e-02],\n",
      "         [-4.5281e-02,  1.3895e-03,  6.8806e-03,  ...,  1.1856e-02,\n",
      "          -2.2481e-02, -3.2398e-02],\n",
      "         [ 2.6149e-02, -3.0276e-03,  3.0928e-03,  ..., -1.4637e-02,\n",
      "          -1.3954e-02, -1.0022e-02]],\n",
      "\n",
      "        [[ 1.8158e-02,  3.9400e-03,  2.7303e-02,  ...,  2.0044e-02,\n",
      "           2.3817e-04, -2.3868e-02],\n",
      "         [ 1.2652e-02, -2.7387e-02,  6.3357e-04,  ..., -2.9589e-02,\n",
      "           2.9931e-03, -2.5927e-02],\n",
      "         [-4.7351e-02, -4.9657e-02,  4.2728e-03,  ..., -2.9646e-02,\n",
      "          -3.1324e-03, -3.7777e-02],\n",
      "         ...,\n",
      "         [-3.0203e-02, -2.2491e-02, -4.1734e-02,  ..., -2.2426e-02,\n",
      "          -4.7897e-02, -4.1396e-02],\n",
      "         [-1.3814e-02,  7.0717e-03,  1.7236e-02,  ...,  3.1818e-02,\n",
      "           3.4130e-02, -2.1131e-03],\n",
      "         [ 1.0056e-02,  6.6123e-02,  6.4480e-02,  ...,  7.6981e-03,\n",
      "          -4.3573e-03,  1.7272e-03]]], device='cuda:0')\n",
      "cnn3.bias tensor([ 4.0272e-03, -2.5004e-03, -9.0602e-05, -4.3051e-02,  4.3715e-03,\n",
      "        -2.9828e-02, -1.5494e-03,  1.3129e-03,  1.3549e-03, -1.9299e-02,\n",
      "        -8.4411e-03,  4.0381e-03, -3.8340e-02, -2.8052e-02,  7.1174e-03,\n",
      "        -8.5953e-03,  2.8171e-02, -1.9015e-02,  4.1235e-02, -2.3461e-02,\n",
      "         2.7109e-02, -1.6995e-02,  2.1763e-03, -3.2197e-02,  2.4979e-02,\n",
      "         1.3444e-02,  1.2663e-02, -2.7320e-02, -3.7177e-02, -1.1414e-02,\n",
      "         2.0873e-02, -2.6028e-02,  1.8875e-02,  2.3158e-02,  2.2189e-03,\n",
      "         7.6037e-03, -2.0340e-02, -3.6155e-02, -3.6708e-02,  4.4402e-03,\n",
      "         3.7516e-02,  1.6855e-02,  1.9136e-02, -1.5920e-02,  3.6454e-02,\n",
      "        -2.7666e-02, -2.6361e-02, -1.2844e-02, -2.1808e-02, -2.0603e-02,\n",
      "        -3.7414e-02,  1.9415e-02,  3.5177e-02, -2.3328e-02,  9.6711e-03,\n",
      "        -1.8925e-02,  2.0882e-03,  2.1411e-02,  2.7712e-02, -1.7839e-02,\n",
      "         2.1808e-03, -3.7865e-03,  1.1252e-02,  2.7278e-02,  2.5381e-02,\n",
      "        -2.6428e-02, -2.6221e-02,  2.4401e-02,  2.5470e-03,  2.0163e-02,\n",
      "        -3.2195e-02,  6.9771e-03, -4.0908e-02,  1.8534e-02,  3.8661e-02,\n",
      "         4.3072e-03,  9.4388e-03,  2.0318e-02, -7.5674e-03,  2.8868e-02,\n",
      "         1.8541e-02, -3.2247e-02,  1.4570e-02,  2.6911e-02,  2.0812e-02,\n",
      "        -2.2437e-02, -7.2334e-04,  2.7702e-02,  1.5536e-02,  1.9485e-02,\n",
      "        -1.3162e-02, -2.3640e-02, -1.1341e-02, -1.1091e-02, -2.5977e-02,\n",
      "        -1.6454e-02, -2.2373e-02, -6.4204e-03, -2.6265e-02, -3.3176e-02,\n",
      "        -1.5330e-02, -5.0017e-03, -1.9532e-02, -3.2351e-02,  8.1245e-03,\n",
      "        -2.0163e-02, -1.3086e-02,  5.2394e-03, -2.6199e-02,  1.6211e-03,\n",
      "        -2.2672e-02, -2.3797e-02, -2.4544e-02, -1.7114e-02, -1.3844e-02,\n",
      "         2.0597e-03,  3.0538e-03, -2.0535e-03, -5.4519e-03, -3.6586e-02,\n",
      "         1.8667e-02,  2.2364e-02, -2.9946e-02, -2.2222e-02, -7.7017e-04,\n",
      "        -3.5526e-03,  2.2930e-02, -3.8751e-02], device='cuda:0')\n",
      "batchnorm.weight tensor([1.0125, 1.0192, 0.9965, 1.0110, 0.9798, 0.9965, 1.0068, 0.9988, 0.9996,\n",
      "        1.0165, 1.0162, 1.0099, 0.9889, 0.9942, 1.0187, 0.9526, 1.0001, 1.0089,\n",
      "        0.9871, 1.0139, 0.9925, 1.0031, 1.0131, 0.9948, 1.0197, 0.9728, 1.0325,\n",
      "        1.0168, 1.0059, 1.0093, 1.0104, 1.0223, 0.9890, 1.0047, 0.9926, 1.0255,\n",
      "        0.9907, 1.0071, 1.0409, 1.0106, 1.0103, 1.0078, 1.0000, 0.9818, 1.0170,\n",
      "        1.0074, 0.9971, 0.9912, 1.0163, 0.9916, 0.9613, 0.9605, 1.0065, 1.0025,\n",
      "        0.9096, 1.0016, 0.9661, 1.0118, 0.9944, 1.0218, 1.0232, 1.0221, 0.9811,\n",
      "        0.9817, 1.0092, 0.9973, 1.0226, 0.9915, 1.0067, 1.0148, 0.9945, 1.0099,\n",
      "        0.9764, 0.9889, 0.9948, 1.0177, 1.0198, 0.9924, 0.9838, 1.0251, 0.9799,\n",
      "        1.0285, 0.9895, 0.9645, 1.0011, 0.9843, 1.0273, 0.9994, 1.0189, 0.9970,\n",
      "        0.9633, 0.9891, 0.9849, 1.0083, 0.9955, 1.0017, 1.0149, 0.9236, 0.9990,\n",
      "        0.9905, 1.0108, 1.0105, 0.9876, 0.9953, 0.9921, 0.9903, 0.9983, 1.0105,\n",
      "        0.9941, 0.9995, 0.9918, 1.0141, 1.0178, 0.9867, 1.0225, 1.0213, 1.0374,\n",
      "        1.0077, 0.9645, 0.9908, 0.9844, 0.9658, 0.9728, 1.0385, 0.9677, 1.0083,\n",
      "        1.0188, 0.9772, 0.9829, 0.9661, 1.0204, 1.0029, 0.9662, 0.9969, 0.9515,\n",
      "        1.0209, 1.0175, 1.0022, 1.0263, 1.0233, 0.9998, 0.9940, 1.0101, 0.9779,\n",
      "        0.9997, 1.0124, 1.0177, 0.9342, 0.9790, 1.0218, 1.0106, 0.9595, 1.0166,\n",
      "        1.0195, 1.0065, 1.0079, 0.9646, 0.9874, 0.9767, 0.9982, 1.0295, 0.9517,\n",
      "        1.0040, 1.0152, 0.9801, 1.0130, 1.0159, 0.9885, 1.0178, 1.0101, 1.0101,\n",
      "        1.0186, 1.0230, 0.9933, 1.0168, 1.0298, 0.9684, 1.0246, 0.9854, 1.0232,\n",
      "        1.0066, 1.0189, 1.0144, 1.0173, 0.9907, 1.0024, 1.0081, 0.9883, 1.0081,\n",
      "        1.0219, 0.9887, 0.9984, 0.9677, 1.0205, 0.9320, 0.9837, 0.9982, 1.0118,\n",
      "        0.9751, 1.0048, 1.0209, 0.9509, 1.0134, 1.0008, 1.0117, 1.0193, 1.0109,\n",
      "        1.0106, 1.0417, 1.0098, 1.0220, 1.0073, 1.0051, 0.9727, 0.9940, 0.9998,\n",
      "        0.9972, 0.9774, 1.0121, 1.0071, 0.9691, 0.9701, 1.0041, 1.0202, 0.9910,\n",
      "        1.0106, 0.9972, 1.0110, 0.9999, 1.0051, 1.0216, 0.9958, 1.0183, 1.0041,\n",
      "        1.0097, 1.0074, 0.9886, 1.0145, 0.9983, 0.9509, 0.9490, 0.9920, 0.9885,\n",
      "        1.0053, 0.9968, 0.9938, 1.0013, 1.0173, 0.9961, 1.0141, 1.0284, 1.0105,\n",
      "        1.0080, 1.0054, 1.0243, 0.9941, 0.9655, 1.0037, 0.9845, 1.0000, 1.0232,\n",
      "        1.0136, 0.9612, 0.9909, 0.9664, 1.0111, 1.0017, 1.0363, 1.0219, 0.9993,\n",
      "        0.9568, 0.9900, 1.0077, 0.9395, 1.0128, 0.9980, 1.0053, 1.0248, 1.0205,\n",
      "        1.0042, 0.9970, 1.0099, 1.0408, 1.0053, 1.0063, 1.0180, 1.0015, 0.9728,\n",
      "        1.0246, 1.0162, 0.9925, 1.0051, 0.9783, 1.0170, 1.0020, 1.0060, 1.0164,\n",
      "        0.9990, 0.9963, 0.9580, 0.9783, 0.9880, 0.9568, 0.9789, 0.9977, 0.9952,\n",
      "        1.0284, 0.9895, 1.0096, 1.0051, 0.9927, 1.0025, 1.0041, 1.0157, 0.9477,\n",
      "        0.9755, 1.0300, 1.0014, 0.9731, 0.9834, 1.0278, 0.9871, 1.0198, 1.0288,\n",
      "        1.0094, 1.0157, 1.0204, 1.0020, 0.9931, 0.9560, 1.0107, 0.9815, 0.9765,\n",
      "        0.9998, 0.9970, 0.9954, 0.9977, 0.9460, 0.9996, 0.9945, 1.0245, 1.0119,\n",
      "        0.9904, 1.0300, 0.9917, 1.0100, 1.0190, 1.0035, 1.0183, 0.9865, 0.9891,\n",
      "        1.0236, 1.0040, 0.9764, 1.0217, 1.0055, 0.9919, 0.9870, 1.0109, 0.9803,\n",
      "        1.0179, 0.9715, 1.0128, 0.9996, 0.9856, 1.0401, 1.0254, 0.9702, 1.0092,\n",
      "        1.0087, 1.0233, 0.9986, 1.0153, 1.0190, 0.9870, 1.0063, 1.0056, 1.0253,\n",
      "        1.0275, 1.0122, 1.0038, 1.0155, 1.0235, 1.0168], device='cuda:0')\n",
      "batchnorm.bias tensor([-1.4474e-02, -2.8524e-03, -1.8466e-02, -5.5569e-04, -1.8199e-02,\n",
      "        -1.2111e-02, -4.5651e-03, -1.1718e-02,  1.8439e-03,  6.9252e-03,\n",
      "         1.5197e-03, -1.1608e-02, -2.4562e-02, -1.3362e-02, -7.8021e-03,\n",
      "        -4.9430e-02, -1.9069e-02, -1.5123e-02, -2.0858e-02, -2.5138e-03,\n",
      "        -1.1475e-02, -9.8366e-03,  9.5299e-03, -1.6965e-02,  1.5573e-03,\n",
      "        -2.5925e-02,  2.2485e-02, -7.3323e-04, -2.4193e-02,  1.7920e-02,\n",
      "        -3.6824e-03, -2.1184e-02, -1.4516e-02, -2.3209e-02, -3.7535e-02,\n",
      "         8.3924e-03, -1.6939e-02, -1.5996e-02, -8.7105e-03,  4.8119e-03,\n",
      "        -1.6087e-02,  2.5532e-04, -2.2972e-02, -2.6803e-02, -2.7914e-04,\n",
      "        -1.3842e-02, -8.2550e-03, -2.9509e-02,  2.2312e-03, -1.4028e-02,\n",
      "        -3.1027e-02, -4.2787e-02, -6.9875e-03, -1.9883e-03, -9.1920e-02,\n",
      "        -2.2270e-02, -4.3427e-02, -2.4576e-02, -6.7061e-03,  5.5244e-04,\n",
      "        -1.1178e-03,  4.2651e-03, -3.7783e-02, -3.1375e-02, -1.9827e-02,\n",
      "         2.2039e-05,  1.3382e-02, -3.2371e-02, -1.0506e-02,  6.9979e-03,\n",
      "        -1.2418e-02, -8.5601e-03, -2.7818e-02, -1.6822e-02, -2.4634e-02,\n",
      "        -3.4850e-03, -2.1257e-02, -2.5898e-02, -5.0773e-02,  1.6558e-02,\n",
      "        -9.3643e-03, -1.7792e-02,  1.0331e-02, -2.3578e-02, -3.2518e-02,\n",
      "        -6.0431e-03,  7.6638e-03,  5.4314e-03,  1.2075e-02, -1.5972e-02,\n",
      "        -3.0522e-02, -2.0026e-02, -1.1565e-02, -3.1718e-02, -1.7367e-02,\n",
      "         5.6080e-03,  8.5356e-03, -6.9019e-02, -1.2399e-02, -9.6327e-03,\n",
      "        -1.5811e-02,  6.5370e-03, -1.8988e-02,  2.2296e-03, -1.9100e-02,\n",
      "        -2.7897e-02, -9.2781e-03, -5.0651e-04, -1.4963e-02, -1.2839e-02,\n",
      "        -2.0363e-02, -2.1165e-02,  1.3373e-02, -2.6794e-02,  7.9197e-04,\n",
      "         5.7341e-03, -7.7197e-03, -3.9876e-03, -3.7082e-02,  1.2012e-02,\n",
      "        -2.0888e-02, -2.9396e-02, -2.3783e-02,  9.2370e-03, -3.5756e-02,\n",
      "        -1.8780e-02, -1.0053e-02, -1.2546e-02, -3.5812e-02, -4.1155e-02,\n",
      "        -9.5296e-03, -6.4977e-03, -3.8748e-02, -2.1954e-02, -4.2239e-02,\n",
      "        -2.5983e-02, -5.7116e-03, -1.8234e-02, -1.6998e-02, -5.2977e-03,\n",
      "        -2.1110e-02, -2.1317e-02,  4.9987e-03, -1.9509e-02, -3.0120e-02,\n",
      "        -1.8771e-02, -2.0245e-02, -6.7176e-02, -1.0927e-02,  6.3065e-03,\n",
      "        -1.0743e-02, -3.7529e-02,  9.6974e-04,  9.4848e-03, -1.9613e-02,\n",
      "        -1.7321e-02, -5.3284e-02, -1.8129e-02, -1.9140e-02, -4.7727e-03,\n",
      "         5.2795e-03, -4.0426e-02, -1.9831e-03, -3.2699e-02, -2.2140e-02,\n",
      "        -8.9961e-03,  6.8644e-03, -7.3864e-03, -1.5702e-02, -2.7641e-03,\n",
      "        -1.2361e-02,  6.8593e-04, -9.9537e-04, -1.8567e-03, -1.4419e-02,\n",
      "        -3.0707e-03, -4.1915e-02, -6.3875e-03, -3.4687e-02, -2.0673e-02,\n",
      "         1.0677e-03, -1.3172e-02,  1.1873e-03, -2.7245e-02, -2.0579e-03,\n",
      "        -1.1926e-02, -1.2275e-02, -3.7112e-02, -2.1058e-02,  6.4265e-03,\n",
      "        -2.1106e-02, -2.2127e-02, -2.9319e-02,  3.0507e-03, -5.1298e-02,\n",
      "        -2.8655e-02, -1.2596e-02, -5.0383e-03, -1.6507e-02, -2.0691e-02,\n",
      "         4.4697e-03, -5.1204e-02, -2.3233e-03,  2.7138e-03,  2.0246e-03,\n",
      "        -2.7813e-03, -1.8263e-02, -2.1932e-04, -3.1414e-03, -2.9475e-02,\n",
      "         7.4839e-03, -1.1784e-03, -1.0572e-02, -3.4494e-02, -1.4105e-02,\n",
      "        -2.3478e-02, -1.5620e-02, -2.5835e-02, -6.8088e-03, -2.6743e-03,\n",
      "        -5.7166e-02, -4.1896e-02, -7.6153e-03,  1.5543e-02, -1.9719e-02,\n",
      "         6.0414e-04,  6.1601e-03, -1.5400e-02, -1.6817e-02, -1.4297e-02,\n",
      "        -6.0716e-03,  1.2657e-02,  2.2334e-02, -1.3974e-02, -1.1069e-02,\n",
      "        -1.4560e-03, -1.7874e-02,  9.8609e-03, -1.4294e-02, -6.0030e-02,\n",
      "        -4.2398e-02, -1.0029e-02, -1.1757e-02, -2.9561e-02, -1.2360e-02,\n",
      "        -1.8448e-02, -7.4323e-03,  5.7242e-03, -3.0550e-04, -1.8150e-02,\n",
      "         3.8896e-03, -2.1430e-02, -1.0976e-02, -1.6312e-02, -1.3969e-02,\n",
      "        -3.3725e-03, -1.5493e-02, -1.4519e-03, -2.6774e-02,  1.8796e-03,\n",
      "         4.8513e-03, -2.1510e-02, -5.4650e-02, -1.0845e-02, -3.1112e-02,\n",
      "        -1.0980e-03, -1.6751e-02, -9.8242e-03, -6.5498e-03, -2.5314e-03,\n",
      "        -7.6536e-02,  2.5240e-03, -1.3602e-02, -6.8751e-02, -2.5838e-02,\n",
      "         4.1104e-03, -5.7656e-03,  1.6947e-02, -1.0075e-02, -2.5827e-03,\n",
      "        -1.5482e-02, -1.9835e-02, -1.3316e-02, -8.0562e-03, -1.5597e-02,\n",
      "        -8.3397e-03, -3.4033e-02, -1.6100e-02,  1.0218e-02, -1.1583e-02,\n",
      "        -2.1359e-02, -2.3567e-02, -2.7252e-02,  3.6513e-03, -1.2762e-02,\n",
      "        -1.6656e-02,  3.5351e-03, -2.8796e-02, -3.3238e-02, -2.8540e-02,\n",
      "        -2.9141e-02, -2.8415e-02, -6.2628e-02, -3.4722e-02,  1.7665e-02,\n",
      "        -1.2752e-02, -4.1138e-03, -4.7609e-02, -1.4401e-02, -1.8223e-02,\n",
      "        -2.7227e-02, -2.0141e-02, -1.1856e-02, -4.9468e-03, -5.9703e-02,\n",
      "        -4.2902e-02, -1.1882e-02, -9.8934e-03, -2.9710e-02, -2.1424e-02,\n",
      "         1.1332e-02, -4.0662e-03, -1.0338e-02,  6.4580e-03, -1.9704e-02,\n",
      "        -1.6972e-02, -3.8651e-03, -3.6552e-03, -1.7662e-02, -3.9528e-02,\n",
      "         7.3362e-03, -3.2863e-02, -2.7075e-02, -1.0547e-02, -3.0911e-02,\n",
      "        -1.9155e-02, -1.8248e-03, -3.0427e-02, -5.2812e-03, -1.9764e-02,\n",
      "        -7.7116e-03, -1.7329e-02, -7.1601e-03,  9.9192e-03, -3.2193e-02,\n",
      "         1.6298e-02, -1.3112e-02, -1.2758e-02, -2.4618e-02, -3.9192e-02,\n",
      "        -1.1421e-02, -1.4607e-03, -8.7299e-03, -1.0964e-02, -1.0644e-02,\n",
      "        -1.8891e-02, -3.3925e-02, -3.1576e-03, -7.3087e-03, -2.3390e-02,\n",
      "        -1.6511e-02, -2.6607e-02, -2.1452e-02, -1.5076e-02, -1.8167e-02,\n",
      "        -1.3241e-02,  1.1614e-03, -6.4451e-03, -1.1088e-02, -3.1296e-02,\n",
      "        -1.2479e-02, -9.9133e-03, -8.0282e-03, -7.8926e-03, -2.3271e-02,\n",
      "        -1.3637e-02, -2.1324e-02, -1.4939e-02, -4.3458e-03, -9.9699e-03,\n",
      "         2.9223e-03, -1.3249e-02,  1.9269e-02, -5.7659e-03], device='cuda:0')\n",
      "lstm.weight_ih_l0 tensor([[-0.0175, -0.0292,  0.0247,  ..., -0.0344,  0.0374, -0.0142],\n",
      "        [-0.0320,  0.0199, -0.0253,  ..., -0.0459, -0.0397,  0.0277],\n",
      "        [ 0.0012, -0.0797, -0.0272,  ...,  0.0314,  0.0285, -0.0021],\n",
      "        ...,\n",
      "        [-0.0448,  0.0453, -0.0796,  ...,  0.0205, -0.0417, -0.0820],\n",
      "        [-0.0705, -0.0274,  0.0141,  ..., -0.0730, -0.0350,  0.0216],\n",
      "        [ 0.0019,  0.0179, -0.0374,  ...,  0.0054, -0.0167,  0.0218]],\n",
      "       device='cuda:0')\n",
      "lstm.weight_hh_l0 tensor([[-0.0337, -0.0062,  0.0042,  ..., -0.0485, -0.0481, -0.0228],\n",
      "        [ 0.0543,  0.0625, -0.0365,  ..., -0.0037, -0.0024,  0.0491],\n",
      "        [-0.0042, -0.0060,  0.0233,  ...,  0.0258, -0.0281,  0.0187],\n",
      "        ...,\n",
      "        [-0.0264, -0.0413,  0.0166,  ...,  0.0337,  0.0072, -0.0044],\n",
      "        [ 0.0609,  0.0277,  0.0045,  ...,  0.0130,  0.0176, -0.0152],\n",
      "        [-0.0158, -0.0290,  0.0029,  ..., -0.0744, -0.0585, -0.0342]],\n",
      "       device='cuda:0')\n",
      "lstm.bias_ih_l0 tensor([-0.0084,  0.0298,  0.0064,  ..., -0.0109, -0.0561,  0.0036],\n",
      "       device='cuda:0')\n",
      "lstm.bias_hh_l0 tensor([-0.0312,  0.0505,  0.0063,  ..., -0.0219,  0.0017, -0.0387],\n",
      "       device='cuda:0')\n",
      "lstm.weight_ih_l1 tensor([[ 0.0250, -0.0801,  0.0192,  ..., -0.0178, -0.0268,  0.0093],\n",
      "        [ 0.0215, -0.0087, -0.0226,  ..., -0.0344, -0.0486, -0.0151],\n",
      "        [ 0.0097, -0.0310, -0.0630,  ...,  0.0225,  0.0264, -0.0152],\n",
      "        ...,\n",
      "        [ 0.0035,  0.0212, -0.0391,  ..., -0.0125,  0.0033,  0.0081],\n",
      "        [ 0.0062,  0.0273, -0.0054,  ...,  0.0312,  0.0132, -0.0260],\n",
      "        [-0.0319,  0.0200,  0.0377,  ...,  0.0367,  0.0256,  0.0330]],\n",
      "       device='cuda:0')\n",
      "lstm.weight_hh_l1 tensor([[-0.0109,  0.0040,  0.0052,  ...,  0.0235, -0.0002,  0.0264],\n",
      "        [ 0.0013, -0.0113,  0.0273,  ..., -0.0049,  0.0428, -0.0328],\n",
      "        [ 0.0104,  0.0200,  0.0372,  ...,  0.0158, -0.0067, -0.0500],\n",
      "        ...,\n",
      "        [ 0.0480,  0.0529,  0.0330,  ..., -0.0380, -0.0026,  0.0034],\n",
      "        [-0.0007, -0.0234,  0.0413,  ..., -0.0171, -0.0570, -0.0254],\n",
      "        [-0.0271, -0.0237,  0.0135,  ..., -0.0195, -0.0163, -0.0007]],\n",
      "       device='cuda:0')\n",
      "lstm.bias_ih_l1 tensor([-0.0031, -0.0347, -0.0261,  ..., -0.0478, -0.0364, -0.0645],\n",
      "       device='cuda:0')\n",
      "lstm.bias_hh_l1 tensor([ 0.0133, -0.0336, -0.0534,  ..., -0.0582, -0.0437, -0.0589],\n",
      "       device='cuda:0')\n",
      "linear.weight tensor([[ 0.0946,  0.0061, -0.0848,  ...,  0.0024,  0.0024, -0.0063],\n",
      "        [-0.0291, -0.0403,  0.0579,  ...,  0.0161,  0.0013,  0.0146],\n",
      "        [ 0.0606, -0.0529, -0.0366,  ..., -0.0350,  0.0396,  0.0136],\n",
      "        [-0.0474,  0.0162, -0.0092,  ...,  0.0473,  0.0251,  0.0071],\n",
      "        [ 0.0287, -0.0203,  0.0209,  ..., -0.0006, -0.0159, -0.0314]],\n",
      "       device='cuda:0')\n",
      "linear.bias tensor([-0.0296, -0.0267,  0.0148, -0.0271,  0.0189], device='cuda:0')\n"
     ]
    }
   ],
   "source": [
    "for name, param in model.named_parameters():\n",
    "    if param.requires_grad:\n",
    "        print(name, param.data)"
   ]
  },
  {
   "cell_type": "code",
   "execution_count": null,
   "id": "3f3fdadd",
   "metadata": {},
   "outputs": [],
   "source": [
    "# model_path = main_path + f'/models/wav2veclarge/holdout_{holdout}.pth'\n",
    "\n",
    "# torch.save({'epoch':epochs,\n",
    "#             'model_state_dict':model.state_dict(),\n",
    "#             'optimizer_state_dict':optimizer.state_dict()},\n",
    "#             model_path)"
   ]
  }
 ],
 "metadata": {
  "kernelspec": {
   "display_name": "Python 3",
   "language": "python",
   "name": "python3"
  },
  "language_info": {
   "codemirror_mode": {
    "name": "ipython",
    "version": 3
   },
   "file_extension": ".py",
   "mimetype": "text/x-python",
   "name": "python",
   "nbconvert_exporter": "python",
   "pygments_lexer": "ipython3",
   "version": "3.7.12"
  }
 },
 "nbformat": 4,
 "nbformat_minor": 5
}
