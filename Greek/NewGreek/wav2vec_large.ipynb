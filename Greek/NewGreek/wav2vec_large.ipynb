{
 "cells": [
  {
   "cell_type": "code",
   "execution_count": 1,
   "id": "7cf63137",
   "metadata": {},
   "outputs": [],
   "source": [
    "import re\n",
    "import os\n",
    "import pandas as pd\n",
    "\n",
    "file_paths, file_names, emotions, audios = [], [], [], []\n",
    "emotion_map = {'anger': 'angry', 'happiness': 'happy', 'sadness': 'sad', 'fear': 'fear',\n",
    "              'disgust': 'disgust'}"
   ]
  },
  {
   "cell_type": "code",
   "execution_count": 2,
   "id": "2348eeac",
   "metadata": {},
   "outputs": [
    {
     "name": "stdout",
     "output_type": "stream",
     "text": [
      "1.12.1+cu113\n",
      "0.12.1+cu113\n",
      "cuda\n"
     ]
    }
   ],
   "source": [
    "import torch\n",
    "import torchaudio\n",
    "\n",
    "print(torch.__version__)\n",
    "print(torchaudio.__version__)\n",
    "\n",
    "torch.random.manual_seed(0)\n",
    "device = torch.device(\"cuda\" if torch.cuda.is_available() else \"cpu\")\n",
    "\n",
    "print(device)"
   ]
  },
  {
   "cell_type": "code",
   "execution_count": 3,
   "id": "d52db6bc",
   "metadata": {},
   "outputs": [
    {
     "name": "stdout",
     "output_type": "stream",
     "text": [
      "<class 'torchaudio.models.wav2vec2.model.Wav2Vec2Model'>\n",
      "16000\n"
     ]
    }
   ],
   "source": [
    "bundle = torchaudio.pipelines.WAV2VEC2_LARGE\n",
    "extractor = bundle.get_model()\n",
    "print(extractor.__class__)\n",
    "print(bundle.sample_rate)"
   ]
  },
  {
   "cell_type": "code",
   "execution_count": 4,
   "id": "aeab751f",
   "metadata": {},
   "outputs": [
    {
     "data": {
      "text/plain": [
       "['anger',\n",
       " 'session_entries.csv',\n",
       " 'fear',\n",
       " 'Tools and Documentation',\n",
       " 'disgust',\n",
       " 'sadness',\n",
       " 'happiness']"
      ]
     },
     "execution_count": 4,
     "metadata": {},
     "output_type": "execute_result"
    }
   ],
   "source": [
    "import os\n",
    "os.listdir('../emotiondata/emotion_data')"
   ]
  },
  {
   "cell_type": "code",
   "execution_count": 5,
   "id": "d6af5a8a",
   "metadata": {},
   "outputs": [
    {
     "name": "stdout",
     "output_type": "stream",
     "text": [
      "found\n"
     ]
    }
   ],
   "source": [
    "folder_list = ['anger', 'disgust', 'fear', 'happiness', 'sadness']\n",
    "entries = []\n",
    "for folder in folder_list:\n",
    "    cur_file_list = os.listdir(f'../emotiondata/emotion_data/{folder}')\n",
    "    for i in cur_file_list:\n",
    "        if i == 's05 (3).wav':\n",
    "            print(\"found\")\n",
    "            continue\n",
    "        entries.append(i)\n"
   ]
  },
  {
   "cell_type": "code",
   "execution_count": 6,
   "id": "f1af534c",
   "metadata": {},
   "outputs": [],
   "source": [
    "import random\n",
    "random.shuffle(entries)\n",
    "session = []\n",
    "equal_parts = (len(entries)-1)//5 # for equally split the entries into 5 parts\n",
    "count = 0\n",
    "main_data_path = '../emotiondata/emotion_data'"
   ]
  },
  {
   "cell_type": "code",
   "execution_count": 7,
   "id": "1a10f712",
   "metadata": {},
   "outputs": [
    {
     "name": "stderr",
     "output_type": "stream",
     "text": [
      "100%|██████████████████████████████████████████████████████████████████████████████████████████████████████████████████████████████████████████████████| 604/604 [00:00<00:00, 429528.59it/s]\n"
     ]
    }
   ],
   "source": [
    "### Only Run once\n",
    "from tqdm import tqdm \n",
    "folder_map = {'a':'anger', 'd':'disgust', 'f':'fear', 'h':'happiness', 's':'sadness'}\n",
    "\n",
    "file_paths = []\n",
    "file_names = []\n",
    "emotions = []\n",
    "# audios = []\n",
    "# labels = []\n",
    "\n",
    "\n",
    "for i in tqdm(range(len(entries))):\n",
    "    entry = entries[i]\n",
    "    if \"wav\" not in entry:\n",
    "        continue\n",
    "    folder = folder_map[entry[0]]\n",
    "    file_path = f'../emotiondata/emotion_data/{folder}/{entry}'\n",
    "    emotion = emotion_map[folder]\n",
    "    file_paths.append(file_path)\n",
    "    file_names.append(entry)\n",
    "    emotions.append(emotion)\n",
    "\n",
    "    # assign session to it\n",
    "    part = (count//equal_parts)%6 + 1\n",
    "    if part == 6:\n",
    "        part = 5\n",
    "    session.append(part)\n",
    "    count += 1\n",
    "\n",
    "\n",
    "file = pd.DataFrame({'path':file_paths, 'name': file_names, 'emotion': emotions, 'session': session})\n",
    "dataframe_path = main_data_path + '/session_entries.csv'\n",
    "file.to_csv(dataframe_path)\n"
   ]
  },
  {
   "cell_type": "code",
   "execution_count": 8,
   "id": "acfe9b5b",
   "metadata": {},
   "outputs": [
    {
     "data": {
      "text/plain": [
       "['anger',\n",
       " 'session_entries.csv',\n",
       " 'fear',\n",
       " 'Tools and Documentation',\n",
       " 'disgust',\n",
       " 'sadness',\n",
       " 'happiness']"
      ]
     },
     "execution_count": 8,
     "metadata": {},
     "output_type": "execute_result"
    }
   ],
   "source": [
    "os.listdir('../emotiondata/emotion_data')"
   ]
  },
  {
   "cell_type": "markdown",
   "id": "a8dcd016",
   "metadata": {},
   "source": [
    "# Extract Features using Models"
   ]
  },
  {
   "cell_type": "code",
   "execution_count": 9,
   "id": "791551f3",
   "metadata": {},
   "outputs": [
    {
     "data": {
      "text/html": [
       "<div>\n",
       "<style scoped>\n",
       "    .dataframe tbody tr th:only-of-type {\n",
       "        vertical-align: middle;\n",
       "    }\n",
       "\n",
       "    .dataframe tbody tr th {\n",
       "        vertical-align: top;\n",
       "    }\n",
       "\n",
       "    .dataframe thead th {\n",
       "        text-align: right;\n",
       "    }\n",
       "</style>\n",
       "<table border=\"1\" class=\"dataframe\">\n",
       "  <thead>\n",
       "    <tr style=\"text-align: right;\">\n",
       "      <th></th>\n",
       "      <th>path</th>\n",
       "      <th>name</th>\n",
       "      <th>emotion</th>\n",
       "      <th>session</th>\n",
       "    </tr>\n",
       "  </thead>\n",
       "  <tbody>\n",
       "    <tr>\n",
       "      <th>0</th>\n",
       "      <td>../emotiondata/emotion_data/disgust/d07 (5).wav</td>\n",
       "      <td>d07 (5).wav</td>\n",
       "      <td>disgust</td>\n",
       "      <td>1</td>\n",
       "    </tr>\n",
       "    <tr>\n",
       "      <th>1</th>\n",
       "      <td>../emotiondata/emotion_data/happiness/h18 (1).wav</td>\n",
       "      <td>h18 (1).wav</td>\n",
       "      <td>happy</td>\n",
       "      <td>1</td>\n",
       "    </tr>\n",
       "    <tr>\n",
       "      <th>2</th>\n",
       "      <td>../emotiondata/emotion_data/disgust/d19 (3).wav</td>\n",
       "      <td>d19 (3).wav</td>\n",
       "      <td>disgust</td>\n",
       "      <td>1</td>\n",
       "    </tr>\n",
       "    <tr>\n",
       "      <th>3</th>\n",
       "      <td>../emotiondata/emotion_data/disgust/d04 (2).wav</td>\n",
       "      <td>d04 (2).wav</td>\n",
       "      <td>disgust</td>\n",
       "      <td>1</td>\n",
       "    </tr>\n",
       "    <tr>\n",
       "      <th>4</th>\n",
       "      <td>../emotiondata/emotion_data/sadness/s12 (5).wav</td>\n",
       "      <td>s12 (5).wav</td>\n",
       "      <td>sad</td>\n",
       "      <td>1</td>\n",
       "    </tr>\n",
       "  </tbody>\n",
       "</table>\n",
       "</div>"
      ],
      "text/plain": [
       "                                                path         name  emotion  \\\n",
       "0    ../emotiondata/emotion_data/disgust/d07 (5).wav  d07 (5).wav  disgust   \n",
       "1  ../emotiondata/emotion_data/happiness/h18 (1).wav  h18 (1).wav    happy   \n",
       "2    ../emotiondata/emotion_data/disgust/d19 (3).wav  d19 (3).wav  disgust   \n",
       "3    ../emotiondata/emotion_data/disgust/d04 (2).wav  d04 (2).wav  disgust   \n",
       "4    ../emotiondata/emotion_data/sadness/s12 (5).wav  s12 (5).wav      sad   \n",
       "\n",
       "   session  \n",
       "0        1  \n",
       "1        1  \n",
       "2        1  \n",
       "3        1  \n",
       "4        1  "
      ]
     },
     "execution_count": 9,
     "metadata": {},
     "output_type": "execute_result"
    }
   ],
   "source": [
    "import re\n",
    "import os\n",
    "import pandas as pd\n",
    "main_data_path = '../emotiondata/emotion_data'\n",
    "dataframe_path = main_data_path + '/session_entries.csv'\n",
    "file = pd.read_csv(dataframe_path)[['path', 'name', 'emotion', 'session']]\n",
    "file.head()"
   ]
  },
  {
   "cell_type": "code",
   "execution_count": 11,
   "id": "69d998f2",
   "metadata": {},
   "outputs": [
    {
     "name": "stderr",
     "output_type": "stream",
     "text": [
      "100%|██████████████████████████████████████████████████████████████████████████████████████████████████████████████████████████████████████████████████████| 604/604 [05:47<00:00,  1.74it/s]\n"
     ]
    }
   ],
   "source": [
    "from tqdm import tqdm\n",
    "import math\n",
    "audios = []\n",
    "ct = 0\n",
    "for i in tqdm(range(math.floor(len(file['path'])))):\n",
    "    path = file['path'][i]\n",
    "    wave, sr = torchaudio.load(path)\n",
    "    if sr != bundle.sample_rate:\n",
    "        wave = torchaudio.functional.resample(wave, sr, bundle.sample_rate)\n",
    "    with torch.inference_mode():\n",
    "        feature, _ = extractor.extract_features(wave)\n",
    "    \n",
    "    feature = [f[0] for f in feature]\n",
    "    audio = torch.stack(feature)\n",
    "    audios.append(audio)\n",
    "    ct += 1"
   ]
  },
  {
   "cell_type": "markdown",
   "id": "39e731f6",
   "metadata": {},
   "source": [
    "# Load Data"
   ]
  },
  {
   "cell_type": "code",
   "execution_count": 51,
   "id": "32a63229",
   "metadata": {},
   "outputs": [],
   "source": [
    "holdout = 5\n",
    "train = file[file['session'] != holdout]\n",
    "train_audios = [audios[i] for i in range(len(audios)) if file['session'][i] != holdout]\n",
    "test = file[file['session'] == holdout]\n",
    "test_audios = [audios[i] for i in range(len(audios)) if file['session'][i] == holdout]"
   ]
  },
  {
   "cell_type": "code",
   "execution_count": 52,
   "id": "477cc674",
   "metadata": {},
   "outputs": [],
   "source": [
    "class MyDataSet(torch.utils.data.Dataset):\n",
    "    def __init__(self, audios, labels, label_transform):\n",
    "        super(MyDataSet).__init__()\n",
    "        self.audios = audios\n",
    "        self.labels = labels\n",
    "        self.label_transform = label_transform\n",
    "        \n",
    "    def __getitem__(self, idx):\n",
    "        label = self.label_transform[self.labels[idx]]\n",
    "        audio = self.audios[idx]\n",
    "        length = audio.size(1)\n",
    "        return audio, length, label\n",
    "    \n",
    "    def __len__(self):\n",
    "        return len(self.labels)"
   ]
  },
  {
   "cell_type": "code",
   "execution_count": 53,
   "id": "2899ed73",
   "metadata": {},
   "outputs": [],
   "source": [
    "def collate_indic(data):\n",
    "    audios, lengths, labels = zip(*data)\n",
    "    max_len = max(lengths)\n",
    "    n_ftrs = audios[0].size(2)\n",
    "    n_dims = audios[0].size(0)\n",
    "    features = torch.zeros((len(audios), n_dims, max_len, n_ftrs))\n",
    "    labels = torch.tensor(labels)\n",
    "    lengths = torch.tensor(lengths)\n",
    "\n",
    "    for i in range(len(data)):\n",
    "        j, k = audios[i].size(1), audios[i].size(2)\n",
    "        features[i] = torch.cat([audios[i], torch.zeros((n_dims, max_len - j, k))], dim=1)\n",
    "\n",
    "    return features, lengths, labels"
   ]
  },
  {
   "cell_type": "code",
   "execution_count": 54,
   "id": "23eaf7af",
   "metadata": {},
   "outputs": [
    {
     "data": {
      "text/plain": [
       "{'neutral': 0, 'angry': 1, 'happy': 2, 'sad': 3, 'fear': 4, 'disgust': 5}"
      ]
     },
     "execution_count": 54,
     "metadata": {},
     "output_type": "execute_result"
    }
   ],
   "source": [
    "categories = ['neutral', 'angry', 'happy', 'sad', 'fear', 'disgust']\n",
    "cate_dic = {}\n",
    "for i, cate in enumerate(categories):\n",
    "    cate_dic[cate] = i\n",
    "cate_dic"
   ]
  },
  {
   "cell_type": "code",
   "execution_count": 55,
   "id": "6c5f0163",
   "metadata": {},
   "outputs": [],
   "source": [
    "from torch.utils.data import DataLoader\n",
    "\n",
    "train_dataset = MyDataSet(train_audios, train['emotion'].tolist(), cate_dic)\n",
    "trainloader_args = dict(batch_size=16, shuffle=True)\n",
    "train_dataloader = DataLoader(train_dataset, **trainloader_args, \n",
    "                              collate_fn=collate_indic)\n",
    "\n",
    "test_dataset = MyDataSet(test_audios, test['emotion'].tolist(), cate_dic)\n",
    "testloader_args = dict(batch_size=16, shuffle=True)\n",
    "test_dataloader = DataLoader(test_dataset, **testloader_args, \n",
    "                             collate_fn=collate_indic)"
   ]
  },
  {
   "cell_type": "markdown",
   "id": "978123ac",
   "metadata": {},
   "source": [
    "# 3CNN+LSTM"
   ]
  },
  {
   "cell_type": "code",
   "execution_count": 56,
   "id": "406d6642",
   "metadata": {},
   "outputs": [],
   "source": [
    "import torch.nn as nn\n",
    "import torch.nn.functional as F\n",
    "\n",
    "class ICASSP3CNN(nn.Module):\n",
    "    def __init__(self, vocab_size, dims = 12, embed_size=128, hidden_size=512, num_lstm_layers = 2, bidirectional = False, label_size=7):\n",
    "        super().__init__()\n",
    "        self.n_layers = num_lstm_layers \n",
    "        self.hidden = hidden_size\n",
    "        self.bidirectional = bidirectional\n",
    "        \n",
    "        self.aggr = nn.Conv1d(in_channels=dims, out_channels=1, kernel_size=1)\n",
    "        \n",
    "        self.embed = nn.Linear(in_features = vocab_size, out_features = embed_size)\n",
    "\n",
    "        self.cnn  = nn.Conv1d(embed_size, embed_size, kernel_size=3, padding=1)\n",
    "        self.cnn2 = nn.Conv1d(embed_size, embed_size, kernel_size=5, padding=2)\n",
    "        self.cnn3 = nn.Conv1d(embed_size, embed_size, kernel_size=7, padding=3)\n",
    "\n",
    "        self.batchnorm = nn.BatchNorm1d(3 * embed_size)\n",
    "\n",
    "        self.lstm = nn.LSTM(input_size = 3 * embed_size, \n",
    "                            hidden_size = hidden_size, \n",
    "                            num_layers = num_lstm_layers, \n",
    "                            bidirectional = bidirectional)\n",
    "\n",
    "        self.linear = nn.Linear(in_features = 2 * hidden_size if bidirectional else hidden_size, \n",
    "                                out_features = label_size)\n",
    "\n",
    "\n",
    "    def forward(self, x, lengths):\n",
    "        \"\"\"\n",
    "        padded_x: (B,T) padded LongTensor\n",
    "        \"\"\"\n",
    "        n, d, b, t = x.size(0), x.size(1), x.size(2), x.size(3)\n",
    "        x = torch.flatten(x, start_dim=2)\n",
    "        input = self.aggr(x)\n",
    "        input = torch.reshape(input, (n, b, t))\n",
    "        input = self.embed(input)\n",
    "\n",
    "        batch_size = input.size(0)\n",
    "        input = input.transpose(1,2)    # (B,T,H) -> (B,H,T)\n",
    "\n",
    "        cnn_output = torch.cat([self.cnn(input), self.cnn2(input), self.cnn3(input)], dim=1)\n",
    "\n",
    "        input = F.relu(self.batchnorm(cnn_output))\n",
    "\n",
    "        input = input.transpose(1,2)\n",
    "\n",
    "        pack_tensor = nn.utils.rnn.pack_padded_sequence(input, lengths, batch_first=True, enforce_sorted=False)\n",
    "        _, (hn, cn) = self.lstm(pack_tensor)\n",
    "\n",
    "        if self.bidirectional:\n",
    "            h_n = hn.view(self.n_layers, 2, batch_size, self.hidden)\n",
    "            h_n = torch.cat([ h_n[-1, 0,:], h_n[-1,1,:] ], dim = 1)\n",
    "        else:\n",
    "            h_n = hn[-1]\n",
    "\n",
    "        logits = self.linear(h_n)\n",
    "\n",
    "        return logits\n"
   ]
  },
  {
   "cell_type": "code",
   "execution_count": 57,
   "id": "bf260032",
   "metadata": {},
   "outputs": [
    {
     "name": "stderr",
     "output_type": "stream",
     "text": [
      "  2%|█████▊                                                                                                                                                                                                                                                                                          | 1/50 [00:09<07:51,  9.63s/it]"
     ]
    },
    {
     "name": "stdout",
     "output_type": "stream",
     "text": [
      "epoch:1, train accu:0.4396, train loss:1.38\n"
     ]
    },
    {
     "name": "stderr",
     "output_type": "stream",
     "text": [
      "\r",
      "  4%|███████████▌                                                                                                                                                                                                                                                                                    | 2/50 [00:19<07:42,  9.64s/it]"
     ]
    },
    {
     "name": "stdout",
     "output_type": "stream",
     "text": [
      "epoch:2, train accu:0.6354, train loss:0.96\n"
     ]
    },
    {
     "name": "stderr",
     "output_type": "stream",
     "text": [
      "\r",
      "  6%|█████████████████▎                                                                                                                                                                                                                                                                              | 3/50 [00:28<07:31,  9.60s/it]"
     ]
    },
    {
     "name": "stdout",
     "output_type": "stream",
     "text": [
      "epoch:3, train accu:0.7000, train loss:0.80\n"
     ]
    },
    {
     "name": "stderr",
     "output_type": "stream",
     "text": [
      "\r",
      "  8%|███████████████████████                                                                                                                                                                                                                                                                         | 4/50 [00:38<07:18,  9.53s/it]"
     ]
    },
    {
     "name": "stdout",
     "output_type": "stream",
     "text": [
      "epoch:4, train accu:0.7875, train loss:0.62\n"
     ]
    },
    {
     "name": "stderr",
     "output_type": "stream",
     "text": [
      "\r",
      " 10%|████████████████████████████▊                                                                                                                                                                                                                                                                   | 5/50 [00:48<07:22,  9.84s/it]"
     ]
    },
    {
     "name": "stdout",
     "output_type": "stream",
     "text": [
      "epoch:5, train accu:0.8542, train loss:0.39\n"
     ]
    },
    {
     "name": "stderr",
     "output_type": "stream",
     "text": [
      "\r",
      " 12%|██████████████████████████████████▌                                                                                                                                                                                                                                                             | 6/50 [00:58<07:05,  9.68s/it]"
     ]
    },
    {
     "name": "stdout",
     "output_type": "stream",
     "text": [
      "epoch:6, train accu:0.8958, train loss:0.31\n"
     ]
    },
    {
     "name": "stderr",
     "output_type": "stream",
     "text": [
      "\r",
      " 14%|████████████████████████████████████████▎                                                                                                                                                                                                                                                       | 7/50 [01:07<06:54,  9.63s/it]"
     ]
    },
    {
     "name": "stdout",
     "output_type": "stream",
     "text": [
      "epoch:7, train accu:0.9000, train loss:0.30\n"
     ]
    },
    {
     "name": "stderr",
     "output_type": "stream",
     "text": [
      "\r",
      " 16%|██████████████████████████████████████████████                                                                                                                                                                                                                                                  | 8/50 [01:17<06:43,  9.60s/it]"
     ]
    },
    {
     "name": "stdout",
     "output_type": "stream",
     "text": [
      "epoch:8, train accu:0.9542, train loss:0.19\n"
     ]
    },
    {
     "name": "stderr",
     "output_type": "stream",
     "text": [
      "\r",
      " 18%|███████████████████████████████████████████████████▊                                                                                                                                                                                                                                            | 9/50 [01:26<06:31,  9.55s/it]"
     ]
    },
    {
     "name": "stdout",
     "output_type": "stream",
     "text": [
      "epoch:9, train accu:0.9437, train loss:0.18\n"
     ]
    },
    {
     "name": "stderr",
     "output_type": "stream",
     "text": [
      "\r",
      " 20%|█████████████████████████████████████████████████████████▍                                                                                                                                                                                                                                     | 10/50 [01:36<06:23,  9.59s/it]"
     ]
    },
    {
     "name": "stdout",
     "output_type": "stream",
     "text": [
      "epoch:10, train accu:0.9771, train loss:0.11\n"
     ]
    },
    {
     "name": "stderr",
     "output_type": "stream",
     "text": [
      "\r",
      " 22%|███████████████████████████████████████████████████████████████▏                                                                                                                                                                                                                               | 11/50 [01:46<06:16,  9.66s/it]"
     ]
    },
    {
     "name": "stdout",
     "output_type": "stream",
     "text": [
      "epoch:11, train accu:0.9458, train loss:0.17\n"
     ]
    },
    {
     "name": "stderr",
     "output_type": "stream",
     "text": [
      "\r",
      " 24%|████████████████████████████████████████████████████████████████████▉                                                                                                                                                                                                                          | 12/50 [01:55<06:07,  9.67s/it]"
     ]
    },
    {
     "name": "stdout",
     "output_type": "stream",
     "text": [
      "epoch:12, train accu:0.9542, train loss:0.15\n"
     ]
    },
    {
     "name": "stderr",
     "output_type": "stream",
     "text": [
      "\r",
      " 26%|██████████████████████████████████████████████████████████████████████████▌                                                                                                                                                                                                                    | 13/50 [02:05<05:53,  9.56s/it]"
     ]
    },
    {
     "name": "stdout",
     "output_type": "stream",
     "text": [
      "epoch:13, train accu:0.9604, train loss:0.12\n"
     ]
    },
    {
     "name": "stderr",
     "output_type": "stream",
     "text": [
      "\r",
      " 28%|████████████████████████████████████████████████████████████████████████████████▎                                                                                                                                                                                                              | 14/50 [02:14<05:42,  9.52s/it]"
     ]
    },
    {
     "name": "stdout",
     "output_type": "stream",
     "text": [
      "epoch:14, train accu:0.9729, train loss:0.11\n"
     ]
    },
    {
     "name": "stderr",
     "output_type": "stream",
     "text": [
      "\r",
      " 30%|██████████████████████████████████████████████████████████████████████████████████████                                                                                                                                                                                                         | 15/50 [02:24<05:34,  9.55s/it]"
     ]
    },
    {
     "name": "stdout",
     "output_type": "stream",
     "text": [
      "epoch:15, train accu:0.9292, train loss:0.25\n"
     ]
    },
    {
     "name": "stderr",
     "output_type": "stream",
     "text": [
      "\r",
      " 32%|███████████████████████████████████████████████████████████████████████████████████████████▊                                                                                                                                                                                                   | 16/50 [02:33<05:25,  9.57s/it]"
     ]
    },
    {
     "name": "stdout",
     "output_type": "stream",
     "text": [
      "epoch:16, train accu:0.9563, train loss:0.14\n"
     ]
    },
    {
     "name": "stderr",
     "output_type": "stream",
     "text": [
      "\r",
      " 34%|█████████████████████████████████████████████████████████████████████████████████████████████████▌                                                                                                                                                                                             | 17/50 [02:42<05:12,  9.48s/it]"
     ]
    },
    {
     "name": "stdout",
     "output_type": "stream",
     "text": [
      "epoch:17, train accu:0.9812, train loss:0.06\n"
     ]
    },
    {
     "name": "stderr",
     "output_type": "stream",
     "text": [
      "\r",
      " 36%|███████████████████████████████████████████████████████████████████████████████████████████████████████▎                                                                                                                                                                                       | 18/50 [02:52<05:08,  9.65s/it]"
     ]
    },
    {
     "name": "stdout",
     "output_type": "stream",
     "text": [
      "epoch:18, train accu:0.9708, train loss:0.11\n"
     ]
    },
    {
     "name": "stderr",
     "output_type": "stream",
     "text": [
      "\r",
      " 38%|█████████████████████████████████████████████████████████████████████████████████████████████████████████████                                                                                                                                                                                  | 19/50 [03:02<04:58,  9.64s/it]"
     ]
    },
    {
     "name": "stdout",
     "output_type": "stream",
     "text": [
      "epoch:19, train accu:0.9688, train loss:0.11\n"
     ]
    },
    {
     "name": "stderr",
     "output_type": "stream",
     "text": [
      "\r",
      " 40%|██████████████████████████████████████████████████████████████████████████████████████████████████████████████████▊                                                                                                                                                                            | 20/50 [03:12<04:48,  9.62s/it]"
     ]
    },
    {
     "name": "stdout",
     "output_type": "stream",
     "text": [
      "epoch:20, train accu:0.9833, train loss:0.06\n"
     ]
    },
    {
     "name": "stderr",
     "output_type": "stream",
     "text": [
      "\r",
      " 42%|████████████████████████████████████████████████████████████████████████████████████████████████████████████████████████▌                                                                                                                                                                      | 21/50 [03:21<04:36,  9.54s/it]"
     ]
    },
    {
     "name": "stdout",
     "output_type": "stream",
     "text": [
      "epoch:21, train accu:0.9958, train loss:0.03\n"
     ]
    },
    {
     "name": "stderr",
     "output_type": "stream",
     "text": [
      "\r",
      " 44%|██████████████████████████████████████████████████████████████████████████████████████████████████████████████████████████████▎                                                                                                                                                                | 22/50 [03:31<04:28,  9.58s/it]"
     ]
    },
    {
     "name": "stdout",
     "output_type": "stream",
     "text": [
      "epoch:22, train accu:0.9792, train loss:0.06\n"
     ]
    },
    {
     "name": "stderr",
     "output_type": "stream",
     "text": [
      "\r",
      " 46%|████████████████████████████████████████████████████████████████████████████████████████████████████████████████████████████████████                                                                                                                                                           | 23/50 [03:40<04:17,  9.55s/it]"
     ]
    },
    {
     "name": "stdout",
     "output_type": "stream",
     "text": [
      "epoch:23, train accu:0.9938, train loss:0.02\n"
     ]
    },
    {
     "name": "stderr",
     "output_type": "stream",
     "text": [
      "\r",
      " 48%|█████████████████████████████████████████████████████████████████████████████████████████████████████████████████████████████████████████▊                                                                                                                                                     | 24/50 [03:51<04:15,  9.82s/it]"
     ]
    },
    {
     "name": "stdout",
     "output_type": "stream",
     "text": [
      "epoch:24, train accu:0.9875, train loss:0.04\n"
     ]
    },
    {
     "name": "stderr",
     "output_type": "stream",
     "text": [
      "\r",
      " 50%|███████████████████████████████████████████████████████████████████████████████████████████████████████████████████████████████████████████████▌                                                                                                                                               | 25/50 [04:00<04:01,  9.68s/it]"
     ]
    },
    {
     "name": "stdout",
     "output_type": "stream",
     "text": [
      "epoch:25, train accu:0.9958, train loss:0.02\n"
     ]
    },
    {
     "name": "stderr",
     "output_type": "stream",
     "text": [
      "\r",
      " 52%|█████████████████████████████████████████████████████████████████████████████████████████████████████████████████████████████████████████████████████▏                                                                                                                                         | 26/50 [04:09<03:50,  9.61s/it]"
     ]
    },
    {
     "name": "stdout",
     "output_type": "stream",
     "text": [
      "epoch:26, train accu:0.9938, train loss:0.02\n"
     ]
    },
    {
     "name": "stderr",
     "output_type": "stream",
     "text": [
      "\r",
      " 54%|██████████████████████████████████████████████████████████████████████████████████████████████████████████████████████████████████████████████████████████▉                                                                                                                                    | 27/50 [04:19<03:41,  9.63s/it]"
     ]
    },
    {
     "name": "stdout",
     "output_type": "stream",
     "text": [
      "epoch:27, train accu:0.9958, train loss:0.01\n"
     ]
    },
    {
     "name": "stderr",
     "output_type": "stream",
     "text": [
      "\r",
      " 56%|████████████████████████████████████████████████████████████████████████████████████████████████████████████████████████████████████████████████████████████████▋                                                                                                                              | 28/50 [04:29<03:30,  9.58s/it]"
     ]
    },
    {
     "name": "stdout",
     "output_type": "stream",
     "text": [
      "epoch:28, train accu:0.9958, train loss:0.02\n"
     ]
    },
    {
     "name": "stderr",
     "output_type": "stream",
     "text": [
      "\r",
      " 58%|██████████████████████████████████████████████████████████████████████████████████████████████████████████████████████████████████████████████████████████████████████▍                                                                                                                        | 29/50 [04:38<03:22,  9.63s/it]"
     ]
    },
    {
     "name": "stdout",
     "output_type": "stream",
     "text": [
      "epoch:29, train accu:0.9938, train loss:0.02\n"
     ]
    },
    {
     "name": "stderr",
     "output_type": "stream",
     "text": [
      "\r",
      " 60%|████████████████████████████████████████████████████████████████████████████████████████████████████████████████████████████████████████████████████████████████████████████▏                                                                                                                  | 30/50 [04:49<03:17,  9.87s/it]"
     ]
    },
    {
     "name": "stdout",
     "output_type": "stream",
     "text": [
      "epoch:30, train accu:1.0000, train loss:0.01\n"
     ]
    },
    {
     "name": "stderr",
     "output_type": "stream",
     "text": [
      "\r",
      " 62%|█████████████████████████████████████████████████████████████████████████████████████████████████████████████████████████████████████████████████████████████████████████████████▉                                                                                                             | 31/50 [04:58<03:05,  9.75s/it]"
     ]
    },
    {
     "name": "stdout",
     "output_type": "stream",
     "text": [
      "epoch:31, train accu:1.0000, train loss:0.00\n"
     ]
    },
    {
     "name": "stderr",
     "output_type": "stream",
     "text": [
      "\r",
      " 64%|███████████████████████████████████████████████████████████████████████████████████████████████████████████████████████████████████████████████████████████████████████████████████████▋                                                                                                       | 32/50 [05:08<02:53,  9.65s/it]"
     ]
    },
    {
     "name": "stdout",
     "output_type": "stream",
     "text": [
      "epoch:32, train accu:1.0000, train loss:0.00\n"
     ]
    },
    {
     "name": "stderr",
     "output_type": "stream",
     "text": [
      "\r",
      " 66%|█████████████████████████████████████████████████████████████████████████████████████████████████████████████████████████████████████████████████████████████████████████████████████████████▍                                                                                                 | 33/50 [05:17<02:42,  9.54s/it]"
     ]
    },
    {
     "name": "stdout",
     "output_type": "stream",
     "text": [
      "epoch:33, train accu:1.0000, train loss:0.00\n"
     ]
    },
    {
     "name": "stderr",
     "output_type": "stream",
     "text": [
      "\r",
      " 68%|███████████████████████████████████████████████████████████████████████████████████████████████████████████████████████████████████████████████████████████████████████████████████████████████████▏                                                                                           | 34/50 [05:26<02:31,  9.50s/it]"
     ]
    },
    {
     "name": "stdout",
     "output_type": "stream",
     "text": [
      "epoch:34, train accu:1.0000, train loss:0.00\n"
     ]
    },
    {
     "name": "stderr",
     "output_type": "stream",
     "text": [
      "\r",
      " 70%|████████████████████████████████████████████████████████████████████████████████████████████████████████████████████████████████████████████████████████████████████████████████████████████████████████▉                                                                                      | 35/50 [05:36<02:21,  9.45s/it]"
     ]
    },
    {
     "name": "stdout",
     "output_type": "stream",
     "text": [
      "epoch:35, train accu:1.0000, train loss:0.00\n"
     ]
    },
    {
     "name": "stderr",
     "output_type": "stream",
     "text": [
      "\r",
      " 72%|██████████████████████████████████████████████████████████████████████████████████████████████████████████████████████████████████████████████████████████████████████████████████████████████████████████████▋                                                                                | 36/50 [05:46<02:13,  9.57s/it]"
     ]
    },
    {
     "name": "stdout",
     "output_type": "stream",
     "text": [
      "epoch:36, train accu:1.0000, train loss:0.00\n"
     ]
    },
    {
     "name": "stderr",
     "output_type": "stream",
     "text": [
      "\r",
      " 74%|████████████████████████████████████████████████████████████████████████████████████████████████████████████████████████████████████████████████████████████████████████████████████████████████████████████████████▍                                                                          | 37/50 [05:56<02:06,  9.75s/it]"
     ]
    },
    {
     "name": "stdout",
     "output_type": "stream",
     "text": [
      "epoch:37, train accu:1.0000, train loss:0.00\n"
     ]
    },
    {
     "name": "stderr",
     "output_type": "stream",
     "text": [
      "\r",
      " 76%|██████████████████████████████████████████████████████████████████████████████████████████████████████████████████████████████████████████████████████████████████████████████████████████████████████████████████████████                                                                     | 38/50 [06:05<01:55,  9.66s/it]"
     ]
    },
    {
     "name": "stdout",
     "output_type": "stream",
     "text": [
      "epoch:38, train accu:1.0000, train loss:0.00\n"
     ]
    },
    {
     "name": "stderr",
     "output_type": "stream",
     "text": [
      "\r",
      " 78%|███████████████████████████████████████████████████████████████████████████████████████████████████████████████████████████████████████████████████████████████████████████████████████████████████████████████████████████████▊                                                               | 39/50 [06:14<01:44,  9.53s/it]"
     ]
    },
    {
     "name": "stdout",
     "output_type": "stream",
     "text": [
      "epoch:39, train accu:1.0000, train loss:0.00\n"
     ]
    },
    {
     "name": "stderr",
     "output_type": "stream",
     "text": [
      "\r",
      " 80%|█████████████████████████████████████████████████████████████████████████████████████████████████████████████████████████████████████████████████████████████████████████████████████████████████████████████████████████████████████▌                                                         | 40/50 [06:24<01:35,  9.51s/it]"
     ]
    },
    {
     "name": "stdout",
     "output_type": "stream",
     "text": [
      "epoch:40, train accu:1.0000, train loss:0.00\n"
     ]
    },
    {
     "name": "stderr",
     "output_type": "stream",
     "text": [
      "\r",
      " 82%|███████████████████████████████████████████████████████████████████████████████████████████████████████████████████████████████████████████████████████████████████████████████████████████████████████████████████████████████████████████▎                                                   | 41/50 [06:33<01:25,  9.51s/it]"
     ]
    },
    {
     "name": "stdout",
     "output_type": "stream",
     "text": [
      "epoch:41, train accu:1.0000, train loss:0.00\n"
     ]
    },
    {
     "name": "stderr",
     "output_type": "stream",
     "text": [
      "\r",
      " 84%|█████████████████████████████████████████████████████████████████████████████████████████████████████████████████████████████████████████████████████████████████████████████████████████████████████████████████████████████████████████████████                                              | 42/50 [06:43<01:15,  9.47s/it]"
     ]
    },
    {
     "name": "stdout",
     "output_type": "stream",
     "text": [
      "epoch:42, train accu:1.0000, train loss:0.00\n"
     ]
    },
    {
     "name": "stderr",
     "output_type": "stream",
     "text": [
      "\r",
      " 86%|██████████████████████████████████████████████████████████████████████████████████████████████████████████████████████████████████████████████████████████████████████████████████████████████████████████████████████████████████████████████████████▊                                        | 43/50 [06:53<01:07,  9.67s/it]"
     ]
    },
    {
     "name": "stdout",
     "output_type": "stream",
     "text": [
      "epoch:43, train accu:1.0000, train loss:0.00\n"
     ]
    },
    {
     "name": "stderr",
     "output_type": "stream",
     "text": [
      "\r",
      " 88%|████████████████████████████████████████████████████████████████████████████████████████████████████████████████████████████████████████████████████████████████████████████████████████████████████████████████████████████████████████████████████████████▌                                  | 44/50 [07:02<00:57,  9.63s/it]"
     ]
    },
    {
     "name": "stdout",
     "output_type": "stream",
     "text": [
      "epoch:44, train accu:1.0000, train loss:0.00\n"
     ]
    },
    {
     "name": "stderr",
     "output_type": "stream",
     "text": [
      "\r",
      " 90%|██████████████████████████████████████████████████████████████████████████████████████████████████████████████████████████████████████████████████████████████████████████████████████████████████████████████████████████████████████████████████████████████████▎                            | 45/50 [07:12<00:47,  9.58s/it]"
     ]
    },
    {
     "name": "stdout",
     "output_type": "stream",
     "text": [
      "epoch:45, train accu:1.0000, train loss:0.00\n"
     ]
    },
    {
     "name": "stderr",
     "output_type": "stream",
     "text": [
      "\r",
      " 92%|████████████████████████████████████████████████████████████████████████████████████████████████████████████████████████████████████████████████████████████████████████████████████████████████████████████████████████████████████████████████████████████████████████                       | 46/50 [07:21<00:38,  9.52s/it]"
     ]
    },
    {
     "name": "stdout",
     "output_type": "stream",
     "text": [
      "epoch:46, train accu:1.0000, train loss:0.00\n"
     ]
    },
    {
     "name": "stderr",
     "output_type": "stream",
     "text": [
      "\r",
      " 94%|█████████████████████████████████████████████████████████████████████████████████████████████████████████████████████████████████████████████████████████████████████████████████████████████████████████████████████████████████████████████████████████████████████████████▊                 | 47/50 [07:31<00:28,  9.49s/it]"
     ]
    },
    {
     "name": "stdout",
     "output_type": "stream",
     "text": [
      "epoch:47, train accu:1.0000, train loss:0.00\n"
     ]
    },
    {
     "name": "stderr",
     "output_type": "stream",
     "text": [
      "\r",
      " 96%|███████████████████████████████████████████████████████████████████████████████████████████████████████████████████████████████████████████████████████████████████████████████████████████████████████████████████████████████████████████████████████████████████████████████████▌           | 48/50 [07:40<00:18,  9.48s/it]"
     ]
    },
    {
     "name": "stdout",
     "output_type": "stream",
     "text": [
      "epoch:48, train accu:1.0000, train loss:0.00\n"
     ]
    },
    {
     "name": "stderr",
     "output_type": "stream",
     "text": [
      "\r",
      " 98%|█████████████████████████████████████████████████████████████████████████████████████████████████████████████████████████████████████████████████████████████████████████████████████████████████████████████████████████████████████████████████████████████████████████████████████████▎     | 49/50 [07:50<00:09,  9.73s/it]"
     ]
    },
    {
     "name": "stdout",
     "output_type": "stream",
     "text": [
      "epoch:49, train accu:1.0000, train loss:0.00\n"
     ]
    },
    {
     "name": "stderr",
     "output_type": "stream",
     "text": [
      "100%|███████████████████████████████████████████████████████████████████████████████████████████████████████████████████████████████████████████████████████████████████████████████████████████████████████████████████████████████████████████████████████████████████████████████████████████████| 50/50 [08:00<00:00,  9.61s/it]"
     ]
    },
    {
     "name": "stdout",
     "output_type": "stream",
     "text": [
      "epoch:50, train accu:1.0000, train loss:0.00\n"
     ]
    },
    {
     "name": "stderr",
     "output_type": "stream",
     "text": [
      "\n"
     ]
    }
   ],
   "source": [
    "from tqdm import tqdm\n",
    "from torchsummary import summary\n",
    "import torch.optim as optim\n",
    "\n",
    "model = ICASSP3CNN(1024, 24)\n",
    "model = model.to(device)\n",
    "criterion = nn.CrossEntropyLoss()\n",
    "optimizer = optim.Adam(model.parameters(), lr=0.001)\n",
    "\n",
    "\n",
    "epochs = 50\n",
    "train_losses = []\n",
    "train_accuracies = []\n",
    "valid_losses = []\n",
    "valid_accuracies = []\n",
    "\n",
    "for epoch in tqdm(range(epochs)):\n",
    "    train_loss = 0\n",
    "    acc_cnt = 0\n",
    "    err_cnt = 0\n",
    "    batch_cnt = 0\n",
    "    model.train()\n",
    "    for batch, (x, length, y) in enumerate(train_dataloader):\n",
    "        x = x.to(device)\n",
    "        y = y.to(device)\n",
    "        optimizer.zero_grad()\n",
    "        logits = model(x, length)\n",
    "        loss = criterion(logits, y)\n",
    "        loss.backward()\n",
    "        optimizer.step()\n",
    "        train_loss += loss.cpu().item()\n",
    "\n",
    "        #model outputs\n",
    "        out_val, out_indices = torch.max(logits, dim=1)\n",
    "        tar_indices = y\n",
    "\n",
    "        for i in range(len(out_indices)):\n",
    "            if out_indices[i] == tar_indices[i]:\n",
    "                acc_cnt += 1\n",
    "            else:\n",
    "                err_cnt += 1\n",
    "        batch_cnt += 1\n",
    "    \n",
    "    train_loss = train_loss/batch_cnt\n",
    "    train_accuracy = acc_cnt/(acc_cnt+err_cnt)\n",
    "    train_accuracies.append(train_accuracy)\n",
    "    train_losses.append(train_loss)\n",
    "    \n",
    "    print(f\"epoch:{epoch+1}, train accu:{train_accuracy:.4f},\", f\"train loss:{train_loss:.2f}\")"
   ]
  },
  {
   "cell_type": "markdown",
   "id": "af357930",
   "metadata": {},
   "source": [
    "# Model Test"
   ]
  },
  {
   "cell_type": "code",
   "execution_count": 60,
   "id": "ab8fc9d3",
   "metadata": {},
   "outputs": [
    {
     "name": "stdout",
     "output_type": "stream",
     "text": [
      "test accuracy: 0.8225806451612904\n"
     ]
    }
   ],
   "source": [
    "test_loss = 0\n",
    "acc_cnt = 0\n",
    "err_cnt = 0\n",
    "batch_cnt = 0\n",
    "model.eval()\n",
    "\n",
    "for x, lengths, y in test_dataloader:\n",
    "\n",
    "    x = x.to(device)\n",
    "    y = y.to(device)\n",
    "\n",
    "    logits = model(x, lengths)\n",
    "    loss = criterion(logits, y)\n",
    "    test_loss += loss.cpu().item()\n",
    "\n",
    "    out_val, out_indices = torch.max(logits, dim=1)\n",
    "    tar_indices = y\n",
    "\n",
    "    for i in range(len(out_indices)):\n",
    "        if out_indices[i] == tar_indices[i]:\n",
    "            acc_cnt += 1\n",
    "        else:\n",
    "            err_cnt += 1\n",
    "    batch_cnt += 1\n",
    "\n",
    "test_loss = test_loss/batch_cnt\n",
    "test_accuracy = acc_cnt/(acc_cnt+err_cnt)\n",
    "print(f'test accuracy: {test_accuracy}')"
   ]
  },
  {
   "cell_type": "code",
   "execution_count": 61,
   "id": "586c96b1",
   "metadata": {},
   "outputs": [
    {
     "name": "stdout",
     "output_type": "stream",
     "text": [
      "aggr.weight tensor([[[-0.1147],\n",
      "         [ 0.1879],\n",
      "         [-0.0512],\n",
      "         [ 0.2427],\n",
      "         [-0.0038],\n",
      "         [-0.1734],\n",
      "         [-0.0730],\n",
      "         [-0.1916],\n",
      "         [-0.0427],\n",
      "         [-0.1285],\n",
      "         [-0.0452],\n",
      "         [-0.0993],\n",
      "         [-0.1508],\n",
      "         [-0.0767],\n",
      "         [ 0.2435],\n",
      "         [-0.0790],\n",
      "         [ 0.1657],\n",
      "         [ 0.1471],\n",
      "         [ 0.1379],\n",
      "         [ 0.1488],\n",
      "         [-0.0263],\n",
      "         [-0.0581],\n",
      "         [ 0.0352],\n",
      "         [ 0.0007]]], device='cuda:0')\n",
      "aggr.bias tensor([0.0769], device='cuda:0')\n",
      "embed.weight tensor([[-0.0040, -0.0042, -0.0108,  ..., -0.0627,  0.0202, -0.0113],\n",
      "        [-0.0039, -0.0204, -0.0024,  ...,  0.0384,  0.0085, -0.0265],\n",
      "        [-0.0347,  0.0233,  0.0070,  ..., -0.0017,  0.0414,  0.0030],\n",
      "        ...,\n",
      "        [ 0.0176,  0.0192,  0.0035,  ...,  0.0200, -0.0043, -0.0257],\n",
      "        [ 0.0402, -0.0169, -0.0363,  ...,  0.0167,  0.0171,  0.0696],\n",
      "        [-0.0239,  0.0164, -0.0272,  ..., -0.0093,  0.0338,  0.0271]],\n",
      "       device='cuda:0')\n",
      "embed.bias tensor([-4.3676e-02, -4.7505e-04,  1.0650e-02, -4.5049e-03, -1.7347e-02,\n",
      "        -9.8553e-03,  1.2992e-02, -3.7517e-02, -1.7400e-02, -3.6001e-02,\n",
      "         1.6596e-02, -2.7358e-02, -5.3925e-02, -2.3239e-02,  4.2172e-02,\n",
      "        -3.3027e-02,  2.5467e-02, -1.9711e-02,  2.0891e-02,  6.2695e-03,\n",
      "        -1.2556e-02, -1.5997e-02,  3.2259e-02,  7.6710e-03,  2.1991e-02,\n",
      "        -3.7712e-02, -2.5547e-02, -4.0490e-02, -1.0369e-03, -2.8284e-02,\n",
      "         1.2602e-05, -3.5750e-02, -4.3290e-02,  3.7995e-02,  2.2278e-02,\n",
      "        -9.2050e-04,  9.2253e-03,  2.7625e-02,  9.6150e-03, -3.0322e-02,\n",
      "         3.4939e-02, -3.3264e-02,  2.6450e-02,  2.0886e-03, -5.3984e-03,\n",
      "        -2.2988e-02,  3.7491e-02, -2.8124e-03, -1.3385e-02,  3.8851e-03,\n",
      "        -4.6494e-02, -3.5808e-02,  2.3765e-02, -4.4028e-03, -8.3011e-03,\n",
      "         3.0811e-02,  1.7594e-02, -8.6180e-03, -5.0839e-02, -4.7977e-02,\n",
      "        -5.8361e-03,  1.7456e-02, -1.2043e-02, -2.4330e-02, -8.7768e-03,\n",
      "         1.7007e-02, -1.3656e-03,  1.2959e-03, -2.8018e-02,  3.0839e-02,\n",
      "         2.2423e-02, -2.0609e-02, -7.5355e-03,  4.4667e-02, -1.4789e-02,\n",
      "         1.1892e-02, -1.8240e-02, -1.3803e-02, -1.3596e-02,  3.3789e-02,\n",
      "        -8.2655e-03,  3.6961e-03,  5.4793e-02,  2.8785e-02, -8.0363e-04,\n",
      "        -6.2062e-02,  1.7510e-03, -2.3599e-02, -7.0062e-03, -2.4004e-02,\n",
      "        -1.8476e-02, -5.4549e-02, -2.5976e-02,  7.0797e-03,  3.3659e-02,\n",
      "        -2.5865e-02, -7.9053e-03,  1.4802e-02,  7.1941e-02,  2.7269e-03,\n",
      "        -3.3015e-02, -1.5214e-02,  6.2765e-02, -2.7163e-02,  2.6745e-02,\n",
      "        -2.6765e-02,  1.2537e-02, -2.5237e-02, -3.1967e-02, -4.7484e-03,\n",
      "        -4.8240e-02,  1.1888e-02, -3.7576e-02,  9.8798e-04,  1.9249e-02,\n",
      "         2.4930e-03, -1.7459e-02, -2.0717e-02, -2.4563e-03, -5.6266e-03,\n",
      "        -5.9745e-02, -9.6522e-03, -7.2953e-02, -8.7655e-03,  1.8330e-02,\n",
      "         2.0019e-02,  2.2737e-02,  2.3055e-02], device='cuda:0')\n",
      "cnn.weight tensor([[[-0.0198, -0.0160, -0.0245],\n",
      "         [-0.0317, -0.0206,  0.0181],\n",
      "         [ 0.0713, -0.0018,  0.0385],\n",
      "         ...,\n",
      "         [-0.0206, -0.0108,  0.0481],\n",
      "         [ 0.0358,  0.0630, -0.0112],\n",
      "         [ 0.0520,  0.0471,  0.0588]],\n",
      "\n",
      "        [[ 0.0576,  0.0414,  0.0564],\n",
      "         [ 0.0073, -0.0120, -0.0089],\n",
      "         [ 0.0392, -0.0241,  0.0362],\n",
      "         ...,\n",
      "         [ 0.0177, -0.0335,  0.0385],\n",
      "         [-0.0097, -0.0091,  0.0088],\n",
      "         [-0.0418, -0.0459,  0.0275]],\n",
      "\n",
      "        [[-0.0140, -0.0089, -0.0393],\n",
      "         [ 0.0268,  0.0643, -0.0024],\n",
      "         [-0.0005, -0.0313,  0.0059],\n",
      "         ...,\n",
      "         [-0.0865, -0.0630, -0.0319],\n",
      "         [ 0.0249,  0.0220,  0.0472],\n",
      "         [-0.0176,  0.0001,  0.0154]],\n",
      "\n",
      "        ...,\n",
      "\n",
      "        [[-0.0010, -0.0047, -0.0130],\n",
      "         [-0.0344,  0.0423, -0.0042],\n",
      "         [-0.0209,  0.0175,  0.0315],\n",
      "         ...,\n",
      "         [-0.0041, -0.0216, -0.0219],\n",
      "         [-0.0595, -0.0539, -0.0152],\n",
      "         [-0.0837, -0.0324,  0.0072]],\n",
      "\n",
      "        [[ 0.0225, -0.0074, -0.0251],\n",
      "         [-0.0101, -0.0289, -0.0272],\n",
      "         [ 0.0304,  0.0700,  0.0623],\n",
      "         ...,\n",
      "         [-0.0413,  0.0339,  0.0503],\n",
      "         [ 0.0066,  0.0478,  0.0319],\n",
      "         [ 0.0805, -0.0309,  0.0186]],\n",
      "\n",
      "        [[ 0.0574,  0.0314,  0.0131],\n",
      "         [ 0.0590,  0.0049,  0.0200],\n",
      "         [ 0.0349, -0.0345, -0.0377],\n",
      "         ...,\n",
      "         [-0.0591, -0.0147, -0.0012],\n",
      "         [-0.0327, -0.0275,  0.0477],\n",
      "         [-0.0276,  0.0233,  0.0204]]], device='cuda:0')\n",
      "cnn.bias tensor([-0.0497,  0.0425,  0.0270,  0.0340,  0.0133, -0.0369,  0.0372,  0.0541,\n",
      "         0.0422, -0.0055, -0.0267, -0.0336,  0.0312,  0.0045,  0.0256,  0.0093,\n",
      "        -0.0080, -0.0186, -0.0519, -0.0030, -0.0308, -0.0361, -0.0261,  0.0421,\n",
      "        -0.0197,  0.0139, -0.0417,  0.0129, -0.0425,  0.0509, -0.0103,  0.0221,\n",
      "        -0.0409, -0.0033,  0.0237, -0.0167, -0.0198, -0.0385,  0.0216,  0.0173,\n",
      "        -0.0299, -0.0179,  0.0281,  0.0290,  0.0445,  0.0458,  0.0357, -0.0058,\n",
      "         0.0012, -0.0279,  0.0270,  0.0478,  0.0286, -0.0170, -0.0157, -0.0172,\n",
      "        -0.0166,  0.0031,  0.0305,  0.0110, -0.0362, -0.0330,  0.0315, -0.0092,\n",
      "         0.0224, -0.0131, -0.0202,  0.0164, -0.0197,  0.0236, -0.0111,  0.0142,\n",
      "         0.0033, -0.0241, -0.0087,  0.0085,  0.0157, -0.0221,  0.0419,  0.0261,\n",
      "         0.0084,  0.0411,  0.0440,  0.0337, -0.0216, -0.0264, -0.0437, -0.0330,\n",
      "         0.0314, -0.0297,  0.0106,  0.0304,  0.0072,  0.0265, -0.0234,  0.0063,\n",
      "        -0.0158, -0.0134,  0.0382,  0.0216,  0.0483,  0.0406,  0.0202,  0.0231,\n",
      "         0.0486, -0.0474, -0.0367, -0.0190, -0.0390,  0.0372,  0.0243,  0.0352,\n",
      "        -0.0051, -0.0176,  0.0309,  0.0173,  0.0101,  0.0391, -0.0039,  0.0380,\n",
      "         0.0404, -0.0094,  0.0471, -0.0453, -0.0107, -0.0342, -0.0182, -0.0079],\n",
      "       device='cuda:0')\n",
      "cnn2.weight tensor([[[-0.0183, -0.0128, -0.0126,  0.0337,  0.0105],\n",
      "         [ 0.0117,  0.0008,  0.0345,  0.0416, -0.0019],\n",
      "         [-0.0504, -0.0055,  0.0238,  0.0375, -0.0083],\n",
      "         ...,\n",
      "         [-0.0634, -0.0507, -0.0564, -0.0311, -0.0051],\n",
      "         [ 0.0395,  0.0429,  0.0511,  0.0269,  0.0091],\n",
      "         [ 0.0352, -0.0105,  0.0518,  0.0484,  0.0666]],\n",
      "\n",
      "        [[-0.0080,  0.0313,  0.0234, -0.0448,  0.0251],\n",
      "         [ 0.0318, -0.0110,  0.0566,  0.0585,  0.0381],\n",
      "         [-0.0466, -0.0357,  0.0302, -0.0331, -0.0385],\n",
      "         ...,\n",
      "         [ 0.0368, -0.0050,  0.0354,  0.0495,  0.0288],\n",
      "         [ 0.0080, -0.0289,  0.0503, -0.0255,  0.0144],\n",
      "         [-0.0339, -0.0418, -0.0039, -0.0160, -0.0504]],\n",
      "\n",
      "        [[ 0.0357,  0.0271,  0.0339, -0.0386, -0.0216],\n",
      "         [-0.0108,  0.0150,  0.0172, -0.0129, -0.0123],\n",
      "         [ 0.0104,  0.0280, -0.0152,  0.0420,  0.0398],\n",
      "         ...,\n",
      "         [-0.0483, -0.0617, -0.0492, -0.0323,  0.0068],\n",
      "         [-0.0026,  0.0277, -0.0116,  0.0441,  0.0033],\n",
      "         [-0.0074, -0.0282, -0.0047,  0.0483,  0.0407]],\n",
      "\n",
      "        ...,\n",
      "\n",
      "        [[ 0.0848,  0.0821,  0.0666,  0.0242,  0.0663],\n",
      "         [ 0.0274,  0.0299,  0.0117, -0.0222, -0.0191],\n",
      "         [-0.0337,  0.0047,  0.0202,  0.0382,  0.0317],\n",
      "         ...,\n",
      "         [-0.0427,  0.0136,  0.0353,  0.0059,  0.0026],\n",
      "         [-0.0176,  0.0068, -0.0156, -0.0335, -0.0119],\n",
      "         [-0.0005, -0.0390, -0.0395,  0.0252,  0.0091]],\n",
      "\n",
      "        [[ 0.0685,  0.0040,  0.0390,  0.0603,  0.0605],\n",
      "         [ 0.0136,  0.0029, -0.0082, -0.0045,  0.0130],\n",
      "         [ 0.0372, -0.0291,  0.0209,  0.0077, -0.0055],\n",
      "         ...,\n",
      "         [-0.0725,  0.0128,  0.0132,  0.0035, -0.0457],\n",
      "         [-0.0026, -0.0143,  0.0016, -0.0198,  0.0470],\n",
      "         [-0.0275, -0.0407,  0.0052,  0.0111,  0.0417]],\n",
      "\n",
      "        [[ 0.0279,  0.0409, -0.0022,  0.0073,  0.0083],\n",
      "         [ 0.0108, -0.0353,  0.0165, -0.0096,  0.0063],\n",
      "         [-0.0099,  0.0060,  0.0034, -0.0416,  0.0395],\n",
      "         ...,\n",
      "         [-0.0585, -0.0121, -0.0382, -0.0371, -0.0047],\n",
      "         [ 0.0110,  0.0359, -0.0557,  0.0211,  0.0093],\n",
      "         [-0.0291, -0.0031, -0.0326, -0.0322,  0.0048]]], device='cuda:0')\n",
      "cnn2.bias tensor([-2.0937e-02,  1.7517e-02, -1.6475e-02,  3.2300e-02,  2.8476e-02,\n",
      "        -2.3598e-02, -2.7771e-02, -2.2600e-02,  1.7970e-02, -9.0645e-03,\n",
      "        -1.5515e-02, -9.4859e-03, -3.5437e-02,  9.8965e-03, -5.4305e-03,\n",
      "        -3.9693e-02, -1.7057e-02,  8.0858e-03,  1.8131e-02,  1.6841e-02,\n",
      "        -3.9669e-02, -1.1290e-02, -4.9341e-03, -3.2728e-02, -3.8268e-03,\n",
      "         2.5420e-02, -3.7234e-02, -1.3006e-02,  2.7880e-02, -3.5624e-02,\n",
      "         1.1697e-02, -3.7845e-02,  2.2894e-02,  1.4050e-02, -2.9593e-02,\n",
      "         3.9127e-05,  2.2714e-03, -8.1350e-04, -1.1523e-02,  1.8566e-02,\n",
      "        -9.1267e-03,  7.7818e-03,  3.2937e-02,  2.0111e-02,  1.4437e-02,\n",
      "         1.5812e-02,  8.2958e-03,  4.1954e-02,  4.0678e-02,  3.5739e-02,\n",
      "         2.0539e-02, -3.6120e-03,  3.8453e-02, -1.9465e-02, -8.8375e-03,\n",
      "         1.3494e-02,  4.9364e-03,  4.7920e-03,  1.2235e-03, -1.2602e-02,\n",
      "        -1.6511e-02,  2.1224e-02,  3.1619e-02,  9.3377e-03, -3.0271e-02,\n",
      "         2.7513e-02, -2.8866e-03,  3.4252e-04, -2.8666e-02, -1.2590e-02,\n",
      "         3.7774e-02, -3.6563e-02, -2.4888e-02, -7.3270e-03, -1.0566e-02,\n",
      "         3.3784e-02, -1.1229e-03,  3.2579e-02, -3.7241e-02,  2.8237e-02,\n",
      "         1.0305e-02,  3.0317e-02, -1.4996e-02, -1.8793e-02,  4.4297e-03,\n",
      "        -2.6943e-02,  2.3591e-02, -3.2764e-02,  3.1556e-03, -3.9170e-02,\n",
      "         1.7640e-02,  1.7403e-02, -2.5738e-02,  4.2764e-03,  2.9474e-02,\n",
      "        -3.6817e-02, -2.3662e-02,  2.7793e-02, -3.9584e-02,  3.2873e-04,\n",
      "         1.2613e-02,  2.0799e-02,  2.5666e-02, -3.1628e-02, -9.3387e-03,\n",
      "        -1.0104e-03,  2.0491e-02,  2.7135e-02, -3.4435e-04,  7.1395e-05,\n",
      "         3.1851e-03,  1.2268e-02, -1.1294e-02,  8.1566e-03, -3.7552e-03,\n",
      "         3.8181e-02,  6.7468e-03, -6.6000e-03,  3.3825e-02,  2.0356e-02,\n",
      "        -3.2197e-02, -3.3008e-03,  1.9447e-03,  4.6171e-03,  1.8235e-02,\n",
      "        -1.9654e-03, -7.1576e-03, -3.5982e-02], device='cuda:0')\n",
      "cnn3.weight tensor([[[ 0.0021,  0.0075,  0.0059,  ...,  0.0126,  0.0308,  0.0188],\n",
      "         [-0.0241,  0.0110, -0.0060,  ...,  0.0204,  0.0178, -0.0088],\n",
      "         [-0.0066, -0.0121,  0.0026,  ...,  0.0131,  0.0011, -0.0435],\n",
      "         ...,\n",
      "         [-0.0688, -0.0101, -0.0497,  ..., -0.0430, -0.0451,  0.0242],\n",
      "         [ 0.0327,  0.0028,  0.0132,  ...,  0.0324,  0.0264, -0.0026],\n",
      "         [ 0.0077,  0.0281,  0.0186,  ..., -0.0122,  0.0021, -0.0115]],\n",
      "\n",
      "        [[ 0.0400,  0.0147,  0.0433,  ...,  0.0317,  0.0207,  0.0670],\n",
      "         [ 0.0065,  0.0024, -0.0365,  ..., -0.0038, -0.0036,  0.0184],\n",
      "         [-0.0166,  0.0595,  0.0190,  ...,  0.0313, -0.0071,  0.0018],\n",
      "         ...,\n",
      "         [ 0.0189,  0.0215,  0.0126,  ...,  0.0266,  0.0592,  0.0561],\n",
      "         [-0.0375, -0.0260, -0.0399,  ..., -0.0089, -0.0393,  0.0136],\n",
      "         [ 0.0514,  0.0317,  0.0263,  ..., -0.0109, -0.0135,  0.0478]],\n",
      "\n",
      "        [[-0.0564, -0.0397, -0.0409,  ..., -0.0398, -0.0223,  0.0087],\n",
      "         [ 0.0122,  0.0151,  0.0137,  ..., -0.0003, -0.0063,  0.0475],\n",
      "         [-0.0261, -0.0277,  0.0065,  ..., -0.0056, -0.0144, -0.0258],\n",
      "         ...,\n",
      "         [ 0.0275, -0.0133,  0.0501,  ...,  0.0017,  0.0167, -0.0107],\n",
      "         [-0.0332,  0.0115, -0.0237,  ...,  0.0344, -0.0069, -0.0177],\n",
      "         [ 0.0137, -0.0053, -0.0020,  ..., -0.0234,  0.0059, -0.0300]],\n",
      "\n",
      "        ...,\n",
      "\n",
      "        [[-0.0443, -0.0367, -0.0418,  ..., -0.0548, -0.0154, -0.0463],\n",
      "         [ 0.0419,  0.0511,  0.0372,  ...,  0.0289, -0.0024,  0.0320],\n",
      "         [-0.0246, -0.0479, -0.0503,  ..., -0.0318,  0.0015, -0.0466],\n",
      "         ...,\n",
      "         [ 0.0319,  0.0178,  0.0178,  ...,  0.0168, -0.0014,  0.0217],\n",
      "         [-0.0047,  0.0234,  0.0109,  ...,  0.0376,  0.0286,  0.0270],\n",
      "         [-0.0033,  0.0302,  0.0058,  ..., -0.0407, -0.0263,  0.0150]],\n",
      "\n",
      "        [[-0.0217,  0.0169, -0.0318,  ..., -0.0129, -0.0051, -0.0394],\n",
      "         [ 0.0334,  0.0329,  0.0080,  ...,  0.0637,  0.0215,  0.0230],\n",
      "         [ 0.0330,  0.0260,  0.0164,  ...,  0.0225, -0.0070, -0.0387],\n",
      "         ...,\n",
      "         [-0.0069, -0.0285, -0.0450,  ...,  0.0324,  0.0465,  0.0614],\n",
      "         [ 0.0306, -0.0183, -0.0173,  ..., -0.0392, -0.0442, -0.0023],\n",
      "         [-0.0017, -0.0413,  0.0220,  ...,  0.0144,  0.0140, -0.0305]],\n",
      "\n",
      "        [[-0.0260, -0.0056,  0.0170,  ..., -0.0375, -0.0321,  0.0201],\n",
      "         [ 0.0727,  0.0097,  0.0029,  ...,  0.0280,  0.0197,  0.0305],\n",
      "         [-0.0407,  0.0212, -0.0272,  ..., -0.0004, -0.0333, -0.0090],\n",
      "         ...,\n",
      "         [ 0.0319, -0.0077,  0.0191,  ...,  0.0049,  0.0085,  0.0131],\n",
      "         [-0.0304, -0.0098, -0.0135,  ...,  0.0377, -0.0031, -0.0128],\n",
      "         [ 0.0283,  0.0475,  0.0272,  ..., -0.0402, -0.0242, -0.0323]]],\n",
      "       device='cuda:0')\n",
      "cnn3.bias tensor([ 0.0298,  0.0225,  0.0086,  0.0215, -0.0300,  0.0160, -0.0003, -0.0253,\n",
      "         0.0127,  0.0073, -0.0072, -0.0155, -0.0093,  0.0102, -0.0199, -0.0068,\n",
      "        -0.0015,  0.0233, -0.0096, -0.0141,  0.0199,  0.0196,  0.0077, -0.0177,\n",
      "        -0.0252,  0.0097, -0.0080,  0.0209, -0.0129,  0.0289, -0.0181, -0.0136,\n",
      "         0.0038,  0.0208, -0.0009,  0.0271,  0.0027,  0.0126, -0.0148,  0.0061,\n",
      "        -0.0134, -0.0069,  0.0002,  0.0250,  0.0169, -0.0110,  0.0132,  0.0163,\n",
      "         0.0089, -0.0348,  0.0269, -0.0138, -0.0001, -0.0242,  0.0033,  0.0093,\n",
      "         0.0122, -0.0205,  0.0281,  0.0121, -0.0075,  0.0095,  0.0213,  0.0237,\n",
      "        -0.0247,  0.0084,  0.0075,  0.0224, -0.0345,  0.0126,  0.0275,  0.0191,\n",
      "        -0.0313, -0.0081, -0.0259,  0.0047,  0.0012, -0.0241,  0.0171,  0.0243,\n",
      "         0.0106,  0.0293, -0.0056, -0.0196,  0.0200,  0.0280,  0.0239,  0.0299,\n",
      "         0.0267,  0.0137, -0.0084, -0.0142,  0.0136,  0.0103,  0.0121,  0.0331,\n",
      "        -0.0211, -0.0312, -0.0050, -0.0072,  0.0308,  0.0176,  0.0163,  0.0218,\n",
      "        -0.0319,  0.0370,  0.0201, -0.0099,  0.0232,  0.0096,  0.0146, -0.0013,\n",
      "        -0.0024,  0.0257, -0.0234, -0.0255, -0.0225,  0.0071, -0.0075, -0.0309,\n",
      "        -0.0302,  0.0307,  0.0065, -0.0240, -0.0190, -0.0259,  0.0059, -0.0112],\n",
      "       device='cuda:0')\n",
      "batchnorm.weight tensor([1.0466, 1.0117, 1.0229, 1.0102, 1.0243, 0.9921, 0.9958, 1.0275, 0.9662,\n",
      "        1.0021, 1.0422, 0.9674, 1.0047, 0.9950, 1.0211, 0.9822, 1.0051, 1.0266,\n",
      "        1.0499, 1.0068, 1.0209, 1.0145, 1.0070, 0.9955, 0.9801, 1.0425, 1.0248,\n",
      "        0.9608, 1.0015, 1.0048, 1.0160, 0.9973, 1.0221, 1.0216, 0.9943, 1.0128,\n",
      "        1.0023, 1.0272, 1.0152, 0.9930, 1.0132, 1.0099, 1.0001, 1.0078, 1.0291,\n",
      "        0.9732, 1.0269, 0.9937, 1.0255, 1.0314, 1.0126, 0.9926, 1.0053, 1.0176,\n",
      "        1.0280, 0.9993, 0.9929, 1.0265, 1.0097, 1.0216, 1.0020, 1.0290, 1.0362,\n",
      "        1.0274, 1.0234, 0.9803, 0.9881, 0.9985, 1.0175, 0.9990, 1.0084, 1.0101,\n",
      "        1.0273, 0.9742, 1.0236, 0.9234, 0.9561, 1.0098, 0.9947, 1.0264, 1.0054,\n",
      "        1.0173, 0.9655, 0.9369, 1.0349, 1.0205, 0.9601, 1.0140, 1.0111, 1.0116,\n",
      "        0.9942, 0.9510, 1.0269, 0.9820, 0.9989, 1.0134, 0.9707, 0.9984, 0.9689,\n",
      "        1.0365, 1.0166, 0.9941, 0.9492, 1.0239, 1.0071, 0.9895, 1.0093, 1.0321,\n",
      "        1.0169, 1.0150, 1.0103, 1.0070, 0.9567, 1.0318, 1.0216, 0.9811, 0.9637,\n",
      "        1.0229, 1.0080, 0.9716, 1.0384, 0.9813, 0.9529, 1.0046, 1.0389, 1.0212,\n",
      "        1.0193, 0.9902, 1.0119, 0.9876, 1.0246, 0.9749, 1.0339, 0.9934, 1.0324,\n",
      "        1.0160, 0.9780, 0.9896, 0.9964, 1.0131, 1.0105, 0.9899, 1.0237, 1.0408,\n",
      "        1.0005, 1.0228, 1.0427, 1.0027, 1.0233, 1.0124, 1.0235, 1.0106, 1.0139,\n",
      "        0.9802, 0.9783, 0.9985, 1.0037, 0.9874, 1.0204, 0.9949, 0.9783, 1.0167,\n",
      "        1.0213, 0.9680, 1.0326, 0.9883, 0.9841, 0.9987, 0.9748, 1.0033, 0.9902,\n",
      "        1.0126, 0.9839, 1.0060, 1.0399, 1.0158, 0.9858, 1.0238, 1.0360, 1.0024,\n",
      "        0.9911, 1.0362, 1.0005, 1.0257, 1.0018, 0.9813, 1.0254, 0.9686, 1.0315,\n",
      "        0.9945, 1.0084, 0.9797, 0.9434, 1.0143, 0.9900, 1.0228, 1.0314, 0.9982,\n",
      "        0.9726, 0.9692, 1.0456, 0.9811, 0.9112, 1.0134, 1.0126, 0.9789, 1.0289,\n",
      "        1.0121, 0.9923, 1.0164, 0.9984, 1.0099, 1.0284, 1.0080, 0.9786, 1.0344,\n",
      "        0.9978, 0.9864, 1.0052, 0.9572, 1.0094, 1.0290, 1.0230, 0.9989, 1.0145,\n",
      "        1.0183, 1.0217, 0.9869, 0.9970, 1.0205, 1.0073, 0.9779, 1.0314, 1.0096,\n",
      "        1.0167, 1.0438, 1.0001, 0.9937, 1.0350, 0.9768, 0.9598, 0.9379, 0.9793,\n",
      "        1.0244, 0.9807, 1.0302, 0.9958, 1.0186, 1.0174, 1.0183, 0.9989, 1.0152,\n",
      "        1.0038, 1.0129, 1.0010, 0.9930, 1.0467, 0.9312, 0.9953, 0.9941, 0.9888,\n",
      "        1.0254, 1.0028, 1.0167, 1.0605, 1.0455, 1.0188, 1.0498, 1.0058, 1.0157,\n",
      "        1.0052, 1.0231, 1.0087, 1.0041, 1.0453, 1.0401, 1.0356, 0.9831, 1.0265,\n",
      "        1.0147, 1.0041, 1.0084, 1.0304, 1.0211, 1.0236, 0.9789, 0.9990, 1.0278,\n",
      "        1.0181, 1.0224, 1.0236, 1.0177, 1.0267, 0.9980, 0.9972, 1.0226, 0.9826,\n",
      "        1.0127, 0.9623, 1.0359, 1.0060, 1.0291, 0.9425, 1.0056, 1.0060, 1.0124,\n",
      "        0.9894, 0.9621, 0.9948, 0.9694, 1.0227, 1.0062, 1.0223, 0.9938, 1.0304,\n",
      "        1.0352, 1.0126, 1.0152, 0.9973, 1.0015, 1.0199, 0.9888, 1.0172, 1.0011,\n",
      "        1.0049, 0.9801, 1.0037, 1.0227, 1.0485, 0.9913, 0.9546, 1.0207, 1.0162,\n",
      "        0.9833, 0.9870, 0.9916, 1.0365, 1.0098, 0.9993, 1.0091, 0.9900, 0.9706,\n",
      "        1.0010, 0.9861, 1.0089, 0.9991, 1.0115, 0.9957, 1.0158, 0.9953, 1.0275,\n",
      "        0.9857, 1.0326, 1.0367, 1.0246, 1.0105, 1.0208, 1.0111, 1.0333, 1.0327,\n",
      "        0.9962, 0.9994, 1.0093, 1.0043, 1.0183, 1.0059, 1.0406, 0.9695, 1.0083,\n",
      "        0.9765, 1.0235, 1.0123, 1.0167, 0.9834, 1.0455, 1.0013, 1.0027, 1.0027,\n",
      "        1.0451, 1.0012, 1.0327, 0.9888, 0.9779, 1.0139], device='cuda:0')\n",
      "batchnorm.bias tensor([ 1.8355e-02, -1.6419e-02, -4.3777e-03, -1.2443e-02,  4.9671e-03,\n",
      "        -1.5081e-03, -2.8799e-02,  1.0996e-02, -4.2188e-02, -8.8885e-04,\n",
      "        -1.0602e-02, -2.6418e-02, -8.5475e-03, -1.2575e-02, -9.0448e-03,\n",
      "        -2.6054e-02,  2.9806e-03, -7.9642e-03,  1.5890e-02, -9.8098e-03,\n",
      "        -1.0999e-02,  5.7500e-03, -3.7106e-03, -2.1604e-02, -2.3255e-02,\n",
      "         2.0516e-02, -1.1042e-02, -5.3001e-02, -1.1606e-02, -4.8072e-03,\n",
      "        -9.5872e-03, -2.7345e-02,  1.5877e-02, -5.8869e-03, -6.1748e-03,\n",
      "         1.1845e-02,  1.4778e-02,  5.5446e-03,  1.3573e-02, -1.6039e-02,\n",
      "         8.1223e-03, -1.1777e-02, -7.6950e-03, -2.3408e-03, -3.7781e-04,\n",
      "        -2.9931e-02, -5.6770e-04, -2.1170e-03,  8.0857e-03, -3.6256e-03,\n",
      "        -1.1500e-02,  6.5162e-03, -4.0381e-03, -1.3369e-03,  5.9207e-03,\n",
      "        -4.4774e-03, -3.7590e-02, -1.0257e-02,  5.4154e-03, -2.2273e-03,\n",
      "        -1.6161e-02,  3.7528e-03,  7.3687e-03,  1.6060e-03, -5.0412e-03,\n",
      "        -3.4630e-02, -2.2243e-02, -2.0984e-03,  4.1146e-03, -4.2812e-03,\n",
      "        -1.7090e-02, -1.6259e-02, -7.1368e-03, -4.9896e-02,  3.6849e-03,\n",
      "        -5.3553e-02, -6.1809e-02, -1.7803e-03, -1.0551e-02,  4.9098e-03,\n",
      "        -2.3298e-02, -3.6451e-03, -4.3795e-02, -6.4782e-02,  9.7163e-03,\n",
      "        -1.0458e-02, -6.0412e-02,  4.0705e-03, -8.4342e-03, -1.1894e-03,\n",
      "        -1.4216e-02, -6.4734e-02,  1.4505e-02, -4.4791e-02, -2.3445e-02,\n",
      "        -1.6167e-02, -9.3680e-03, -8.4688e-03, -4.2614e-02,  2.1675e-02,\n",
      "        -6.2366e-03,  6.1593e-03, -5.5187e-02, -8.7181e-03, -1.3323e-02,\n",
      "        -5.2628e-03, -5.0281e-03, -6.7666e-03, -2.2617e-04,  6.1274e-03,\n",
      "        -3.1847e-02, -2.7473e-02, -3.1574e-02, -2.7561e-03, -7.2302e-03,\n",
      "        -2.9165e-02, -2.8507e-02, -5.0983e-03,  6.0569e-03, -6.7732e-03,\n",
      "         1.1978e-02, -1.2974e-02, -5.1848e-02, -1.0385e-02, -3.1664e-04,\n",
      "         2.7848e-03, -1.3735e-02, -6.3242e-04,  7.2375e-03, -1.7835e-02,\n",
      "         1.2560e-02, -4.3754e-02,  5.2061e-03, -2.5139e-02,  1.1057e-02,\n",
      "         2.6871e-03, -1.9661e-02, -2.3562e-02, -2.5224e-02, -1.0597e-02,\n",
      "        -8.8927e-04, -1.9780e-02,  1.2609e-02,  6.8030e-03, -3.4237e-02,\n",
      "         4.3306e-03, -2.6797e-03, -5.9152e-04, -1.5246e-02, -1.0770e-02,\n",
      "         5.2902e-03, -1.7887e-02,  3.2669e-03, -6.3064e-03, -4.6416e-02,\n",
      "        -2.2426e-02, -3.2634e-02, -1.9382e-03,  5.0467e-03, -8.5127e-03,\n",
      "        -2.4911e-02, -1.9827e-03,  6.2987e-03, -1.2439e-02, -6.0683e-03,\n",
      "        -2.6581e-03, -2.4148e-02, -1.9744e-02, -2.5496e-02, -2.2103e-02,\n",
      "         2.4261e-03, -3.2363e-03, -2.3825e-02, -1.4891e-02, -4.1476e-03,\n",
      "        -7.1473e-03, -3.4505e-02, -2.0743e-03,  2.0445e-02, -1.2950e-02,\n",
      "        -9.6447e-03, -1.4942e-02, -1.9661e-02,  7.3970e-03, -1.2565e-02,\n",
      "        -2.5521e-02, -1.0902e-02, -1.9247e-02,  1.1274e-02,  7.2017e-04,\n",
      "        -2.1214e-02, -2.7916e-02, -6.5317e-02, -2.0777e-02, -2.0963e-02,\n",
      "         3.9704e-03,  1.1769e-02, -1.0719e-02, -1.4495e-02, -1.8051e-02,\n",
      "         1.1257e-02, -1.5582e-02, -7.7176e-02,  1.1128e-02,  1.1034e-02,\n",
      "        -2.1429e-02,  1.5575e-02, -6.2996e-03, -2.1693e-02, -1.2501e-02,\n",
      "        -3.3076e-03, -1.7843e-02,  4.5782e-03, -2.2240e-02, -1.9243e-02,\n",
      "        -2.2398e-05, -2.0843e-02, -4.9110e-03, -1.1317e-02, -4.0390e-02,\n",
      "        -1.0561e-02, -4.3206e-03,  6.3094e-03,  2.4185e-04,  1.0960e-03,\n",
      "        -1.2955e-02,  3.6736e-03, -2.0909e-02, -1.4317e-02, -1.8781e-05,\n",
      "        -5.8250e-03, -2.2432e-02, -7.7468e-03,  1.4674e-02, -2.2994e-03,\n",
      "        -3.4111e-03, -8.9896e-03, -2.2635e-02,  1.2475e-02, -2.1519e-02,\n",
      "        -2.1354e-02, -6.0496e-02, -1.6651e-02,  4.9786e-03, -2.6957e-02,\n",
      "         1.3751e-03, -6.5539e-03, -1.0775e-02, -8.2785e-03,  1.6094e-02,\n",
      "        -3.0034e-02,  7.1361e-03, -1.0781e-02, -1.1707e-02, -2.8875e-02,\n",
      "        -1.5463e-02,  5.0501e-03, -7.2338e-02,  7.4427e-03, -1.0680e-02,\n",
      "        -1.0018e-02,  6.7828e-03, -3.7976e-02, -8.5132e-03, -1.1144e-02,\n",
      "        -1.2112e-02,  1.3897e-02,  1.0090e-02, -1.2808e-02, -1.1564e-02,\n",
      "         1.1640e-02, -9.4045e-03, -1.3444e-02, -2.2644e-02,  1.3375e-02,\n",
      "        -5.8606e-03, -3.0837e-03, -2.7702e-02,  9.0809e-03, -2.2009e-02,\n",
      "        -3.7359e-02, -8.1154e-03, -8.2309e-03, -6.5832e-03, -1.3418e-02,\n",
      "        -1.9050e-02, -2.5880e-02, -8.6575e-03, -7.7639e-03, -1.3627e-02,\n",
      "         6.8424e-03,  3.0764e-03,  1.2643e-02, -1.0715e-02, -5.2665e-03,\n",
      "         2.1862e-02, -2.9121e-03, -1.2945e-02, -2.1575e-02,  1.0229e-02,\n",
      "        -1.7425e-03,  1.2351e-03, -4.4503e-02,  1.2762e-02, -2.3011e-03,\n",
      "         1.2973e-02, -8.9534e-03, -3.0269e-02, -9.4424e-03, -1.2714e-02,\n",
      "         7.5643e-03, -7.9121e-03, -5.1159e-03, -4.2028e-02,  3.2133e-03,\n",
      "         2.1691e-03,  2.7559e-03, -6.0192e-03, -5.1867e-03, -1.5255e-02,\n",
      "        -1.7353e-02, -1.8677e-02, -1.7882e-02, -5.7443e-03, -1.0753e-02,\n",
      "        -2.2407e-02, -1.1266e-02, -1.4973e-02, -5.6344e-03, -1.7631e-02,\n",
      "        -4.0816e-02, -1.1089e-02, -1.0871e-02, -2.4147e-02, -1.6361e-03,\n",
      "        -1.4175e-02,  5.9760e-03, -2.1301e-02, -2.1243e-02, -1.5460e-02,\n",
      "        -2.7304e-02, -4.5966e-02, -1.6245e-02, -2.6591e-02, -9.1132e-03,\n",
      "        -1.4436e-02, -1.6664e-02, -5.7261e-03,  8.1012e-03, -2.1299e-02,\n",
      "        -1.9274e-04, -1.5348e-02,  8.8908e-03,  2.3874e-04, -2.6627e-03,\n",
      "        -5.2255e-03, -8.4152e-03, -3.3469e-02, -3.7218e-03,  1.8499e-04,\n",
      "        -3.2812e-02, -6.7498e-03, -1.7025e-02, -1.6161e-02, -2.3835e-03,\n",
      "        -2.1691e-02,  2.5070e-03, -2.1806e-02, -5.6809e-03, -1.3439e-02,\n",
      "        -7.9098e-03, -6.3084e-03, -2.5379e-02, -3.4231e-02,  8.3870e-03,\n",
      "        -2.7963e-02, -1.4112e-02, -1.2672e-02, -2.6811e-03, -1.1627e-02,\n",
      "         1.7659e-03, -1.9933e-02, -9.8021e-03,  8.2030e-04], device='cuda:0')\n",
      "lstm.weight_ih_l0 tensor([[-0.0535,  0.0246, -0.0562,  ..., -0.0493, -0.0597, -0.0492],\n",
      "        [-0.0959,  0.0054, -0.0677,  ..., -0.0247, -0.0748, -0.0087],\n",
      "        [ 0.0208, -0.0252, -0.0169,  ..., -0.0381, -0.0009, -0.0397],\n",
      "        ...,\n",
      "        [-0.0322, -0.0089, -0.0236,  ...,  0.0114, -0.0071, -0.0346],\n",
      "        [ 0.0097,  0.0015, -0.0367,  ..., -0.0174,  0.0316, -0.0195],\n",
      "        [-0.0485, -0.0057, -0.0573,  ...,  0.0458,  0.0269,  0.0454]],\n",
      "       device='cuda:0')\n",
      "lstm.weight_hh_l0 tensor([[-3.2640e-03,  4.5717e-02, -1.7565e-02,  ...,  4.8984e-03,\n",
      "         -3.1529e-02, -5.9873e-02],\n",
      "        [-3.4899e-02,  1.4179e-02,  1.8751e-02,  ...,  1.3123e-02,\n",
      "         -2.4616e-02, -1.4171e-02],\n",
      "        [-1.7586e-02, -3.1174e-02,  2.4162e-02,  ...,  1.6784e-03,\n",
      "         -9.5389e-05,  1.3014e-02],\n",
      "        ...,\n",
      "        [-2.0593e-02, -1.1948e-02, -1.3684e-02,  ...,  1.6732e-02,\n",
      "         -1.0539e-02, -2.3008e-02],\n",
      "        [-3.4943e-02,  1.7970e-03,  3.7498e-02,  ...,  1.7676e-02,\n",
      "          1.9332e-02, -5.4272e-02],\n",
      "        [-1.4157e-02, -8.0360e-03, -2.9304e-02,  ...,  4.2106e-02,\n",
      "         -4.2580e-02, -1.1357e-02]], device='cuda:0')\n",
      "lstm.bias_ih_l0 tensor([ 0.0071, -0.0615,  0.0050,  ...,  0.0242, -0.0315, -0.0410],\n",
      "       device='cuda:0')\n",
      "lstm.bias_hh_l0 tensor([-0.0296, -0.0343,  0.0024,  ..., -0.0347, -0.0173, -0.0208],\n",
      "       device='cuda:0')\n",
      "lstm.weight_ih_l1 tensor([[ 0.0249,  0.0378, -0.0179,  ...,  0.0137,  0.0033, -0.0664],\n",
      "        [-0.0087, -0.0329, -0.0233,  ...,  0.0171,  0.0181, -0.0283],\n",
      "        [ 0.0020,  0.0603, -0.0366,  ..., -0.0508, -0.0157, -0.0095],\n",
      "        ...,\n",
      "        [ 0.0009,  0.0022,  0.0063,  ..., -0.0615, -0.0361, -0.0037],\n",
      "        [-0.0129, -0.0460, -0.0174,  ...,  0.0100, -0.0024,  0.0153],\n",
      "        [ 0.0393,  0.0215,  0.0145,  ..., -0.0488,  0.0156,  0.0534]],\n",
      "       device='cuda:0')\n",
      "lstm.weight_hh_l1 tensor([[-0.0396,  0.0040,  0.0386,  ..., -0.0140, -0.0117, -0.0199],\n",
      "        [-0.0346, -0.0233,  0.0216,  ...,  0.0401, -0.0319,  0.0538],\n",
      "        [-0.0411,  0.0146,  0.0126,  ..., -0.0217,  0.0444,  0.0119],\n",
      "        ...,\n",
      "        [-0.0251, -0.0042,  0.0060,  ..., -0.0023, -0.0130,  0.0406],\n",
      "        [-0.0544, -0.0230, -0.0298,  ...,  0.0255,  0.0410,  0.0480],\n",
      "        [ 0.0303, -0.0243, -0.0357,  ...,  0.0310, -0.0237,  0.0013]],\n",
      "       device='cuda:0')\n",
      "lstm.bias_ih_l1 tensor([ 0.0064,  0.0086, -0.0045,  ...,  0.0290,  0.0155,  0.0537],\n",
      "       device='cuda:0')\n",
      "lstm.bias_hh_l1 tensor([-0.0048, -0.0591, -0.0321,  ...,  0.0153,  0.0106, -0.0316],\n",
      "       device='cuda:0')\n",
      "linear.weight tensor([[ 0.0096,  0.0230,  0.0540,  ...,  0.0654, -0.0491,  0.0206],\n",
      "        [-0.0830,  0.0254,  0.0259,  ...,  0.0330, -0.0462, -0.0269],\n",
      "        [ 0.0607, -0.0113, -0.0793,  ..., -0.0250,  0.0308, -0.0332],\n",
      "        ...,\n",
      "        [-0.0011, -0.0151, -0.0063,  ..., -0.0414, -0.0347,  0.0635],\n",
      "        [-0.0456,  0.0090, -0.0182,  ...,  0.0038,  0.0685, -0.0578],\n",
      "        [ 0.0623,  0.0370,  0.0412,  ...,  0.0986,  0.0035,  0.0582]],\n",
      "       device='cuda:0')\n",
      "linear.bias tensor([-0.0115,  0.0200,  0.0243,  0.0088, -0.0145,  0.0043, -0.0436],\n",
      "       device='cuda:0')\n"
     ]
    }
   ],
   "source": [
    "for name, param in model.named_parameters():\n",
    "    if param.requires_grad:\n",
    "        print(name, param.data)"
   ]
  },
  {
   "cell_type": "code",
   "execution_count": null,
   "id": "3f3fdadd",
   "metadata": {},
   "outputs": [],
   "source": [
    "model_path = main_path + f'/models/wav2veclarge/holdout_{holdout}.pth'\n",
    "\n",
    "torch.save({'epoch':epochs,\n",
    "            'model_state_dict':model.state_dict(),\n",
    "            'optimizer_state_dict':optimizer.state_dict()},\n",
    "            model_path)"
   ]
  }
 ],
 "metadata": {
  "kernelspec": {
   "display_name": "Python 3",
   "language": "python",
   "name": "python3"
  },
  "language_info": {
   "codemirror_mode": {
    "name": "ipython",
    "version": 3
   },
   "file_extension": ".py",
   "mimetype": "text/x-python",
   "name": "python",
   "nbconvert_exporter": "python",
   "pygments_lexer": "ipython3",
   "version": "3.7.12"
  }
 },
 "nbformat": 4,
 "nbformat_minor": 5
}
