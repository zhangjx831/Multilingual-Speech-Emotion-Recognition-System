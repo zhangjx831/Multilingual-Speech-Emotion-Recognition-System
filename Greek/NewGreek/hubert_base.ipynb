{
 "cells": [
  {
   "cell_type": "code",
   "execution_count": 1,
   "id": "71f5535a",
   "metadata": {},
   "outputs": [],
   "source": [
    "import re\n",
    "import os\n",
    "import pandas as pd\n",
    "\n",
    "regex = re.compile(r'\\[.+\\]\\n', re.IGNORECASE)\n",
    "file_paths, file_names, emotions, audios = [], [], [], []\n",
    "emotion_map = {'anger': 'angry', 'happiness': 'happy', 'sadness': 'sad', 'fear': 'fear',\n",
    "              'disgust': 'disgust'}"
   ]
  },
  {
   "cell_type": "code",
   "execution_count": 2,
   "id": "cbaa6ae6",
   "metadata": {},
   "outputs": [
    {
     "name": "stdout",
     "output_type": "stream",
     "text": [
      "1.12.1+cu113\n",
      "0.12.1+cu113\n",
      "cuda\n"
     ]
    }
   ],
   "source": [
    "import torch\n",
    "import torchaudio\n",
    "\n",
    "print(torch.__version__)\n",
    "print(torchaudio.__version__)\n",
    "\n",
    "torch.random.manual_seed(0)\n",
    "device = torch.device(\"cuda\" if torch.cuda.is_available() else \"cpu\")\n",
    "\n",
    "print(device)"
   ]
  },
  {
   "cell_type": "code",
   "execution_count": 3,
   "id": "423059cb",
   "metadata": {},
   "outputs": [
    {
     "name": "stdout",
     "output_type": "stream",
     "text": [
      "<class 'torchaudio.models.wav2vec2.model.Wav2Vec2Model'>\n",
      "16000\n"
     ]
    }
   ],
   "source": [
    "bundle = torchaudio.pipelines.HUBERT_BASE\n",
    "extractor = bundle.get_model()\n",
    "print(extractor.__class__)\n",
    "print(bundle.sample_rate)"
   ]
  },
  {
   "cell_type": "code",
   "execution_count": 4,
   "id": "aea12cf4",
   "metadata": {},
   "outputs": [
    {
     "data": {
      "text/plain": [
       "['anger',\n",
       " 'session_entries.csv',\n",
       " 'fear',\n",
       " 'Tools and Documentation',\n",
       " 'disgust',\n",
       " 'sadness',\n",
       " 'happiness']"
      ]
     },
     "execution_count": 4,
     "metadata": {},
     "output_type": "execute_result"
    }
   ],
   "source": [
    "import os\n",
    "os.listdir('../emotiondata/emotion_data')"
   ]
  },
  {
   "cell_type": "code",
   "execution_count": 5,
   "id": "59bd4a59",
   "metadata": {},
   "outputs": [
    {
     "name": "stdout",
     "output_type": "stream",
     "text": [
      "found\n"
     ]
    }
   ],
   "source": [
    "folder_list = ['anger', 'disgust', 'fear', 'happiness', 'sadness']\n",
    "entries = []\n",
    "for folder in folder_list:\n",
    "    cur_file_list = os.listdir(f'../emotiondata/emotion_data/{folder}')\n",
    "    for i in cur_file_list:\n",
    "        if i == 's05 (3).wav':\n",
    "            print(\"found\")\n",
    "            continue\n",
    "        entries.append(i)\n"
   ]
  },
  {
   "cell_type": "code",
   "execution_count": 6,
   "id": "21e0d473",
   "metadata": {},
   "outputs": [],
   "source": [
    "import random\n",
    "random.shuffle(entries)\n",
    "session = []\n",
    "equal_parts = (len(entries)-1)//5 # for equally split the entries into 5 parts\n",
    "count = 0\n",
    "main_data_path = '../emotiondata/emotion_data'"
   ]
  },
  {
   "cell_type": "code",
   "execution_count": 7,
   "id": "e5c3c0db",
   "metadata": {},
   "outputs": [
    {
     "name": "stderr",
     "output_type": "stream",
     "text": [
      "100%|█████████████████████████████████████████████████████████████████████████████████████████████████████████████████████████████████████████████████████████████████████████████████████████████████████████████████████████████████████████████████████████████████████████████████████████| 604/604 [00:00<00:00, 811714.07it/s]\n"
     ]
    }
   ],
   "source": [
    "#### Only Run once\n",
    "from tqdm import tqdm \n",
    "folder_map = {'a':'anger', 'd':'disgust', 'f':'fear', 'h':'happiness', 's':'sadness'}\n",
    "\n",
    "file_paths = []\n",
    "file_names = []\n",
    "emotions = []\n",
    "# audios = []\n",
    "# labels = []\n",
    "\n",
    "\n",
    "for i in tqdm(range(len(entries))):\n",
    "    entry = entries[i]\n",
    "    if \"wav\" not in entry:\n",
    "        continue\n",
    "    folder = folder_map[entry[0]]\n",
    "    file_path = f'../emotiondata/emotion_data/{folder}/{entry}'\n",
    "    emotion = emotion_map[folder]\n",
    "    file_paths.append(file_path)\n",
    "    file_names.append(entry)\n",
    "    emotions.append(emotion)\n",
    "\n",
    "    # assign session to it\n",
    "    part = (count//equal_parts)%6 + 1\n",
    "    if part == 6:\n",
    "        part = 5\n",
    "    session.append(part)\n",
    "    count += 1\n",
    "\n",
    "\n",
    "file = pd.DataFrame({'path':file_paths, 'name': file_names, 'emotion': emotions, 'session': session})\n",
    "dataframe_path = main_data_path + '/session_entries_hubert.csv'\n",
    "file.to_csv(dataframe_path)\n"
   ]
  },
  {
   "cell_type": "code",
   "execution_count": 8,
   "id": "2c791adf",
   "metadata": {},
   "outputs": [
    {
     "data": {
      "text/plain": [
       "['anger',\n",
       " 'session_entries.csv',\n",
       " 'session_entries_hubert.csv',\n",
       " 'fear',\n",
       " 'Tools and Documentation',\n",
       " 'disgust',\n",
       " 'sadness',\n",
       " 'happiness']"
      ]
     },
     "execution_count": 8,
     "metadata": {},
     "output_type": "execute_result"
    }
   ],
   "source": [
    "os.listdir('../emotiondata/emotion_data')"
   ]
  },
  {
   "cell_type": "markdown",
   "id": "29c3c00d",
   "metadata": {},
   "source": [
    "# Extract Features using Models"
   ]
  },
  {
   "cell_type": "code",
   "execution_count": 9,
   "id": "0c9a5904",
   "metadata": {},
   "outputs": [
    {
     "data": {
      "text/html": [
       "<div>\n",
       "<style scoped>\n",
       "    .dataframe tbody tr th:only-of-type {\n",
       "        vertical-align: middle;\n",
       "    }\n",
       "\n",
       "    .dataframe tbody tr th {\n",
       "        vertical-align: top;\n",
       "    }\n",
       "\n",
       "    .dataframe thead th {\n",
       "        text-align: right;\n",
       "    }\n",
       "</style>\n",
       "<table border=\"1\" class=\"dataframe\">\n",
       "  <thead>\n",
       "    <tr style=\"text-align: right;\">\n",
       "      <th></th>\n",
       "      <th>path</th>\n",
       "      <th>name</th>\n",
       "      <th>emotion</th>\n",
       "      <th>session</th>\n",
       "    </tr>\n",
       "  </thead>\n",
       "  <tbody>\n",
       "    <tr>\n",
       "      <th>0</th>\n",
       "      <td>../emotiondata/emotion_data/anger/a01 (1).wav</td>\n",
       "      <td>a01 (1).wav</td>\n",
       "      <td>angry</td>\n",
       "      <td>1</td>\n",
       "    </tr>\n",
       "    <tr>\n",
       "      <th>1</th>\n",
       "      <td>../emotiondata/emotion_data/sadness/s16 (4).wav</td>\n",
       "      <td>s16 (4).wav</td>\n",
       "      <td>sad</td>\n",
       "      <td>1</td>\n",
       "    </tr>\n",
       "    <tr>\n",
       "      <th>2</th>\n",
       "      <td>../emotiondata/emotion_data/happiness/h08 (3).wav</td>\n",
       "      <td>h08 (3).wav</td>\n",
       "      <td>happy</td>\n",
       "      <td>1</td>\n",
       "    </tr>\n",
       "    <tr>\n",
       "      <th>3</th>\n",
       "      <td>../emotiondata/emotion_data/happiness/h17 (1).wav</td>\n",
       "      <td>h17 (1).wav</td>\n",
       "      <td>happy</td>\n",
       "      <td>1</td>\n",
       "    </tr>\n",
       "    <tr>\n",
       "      <th>4</th>\n",
       "      <td>../emotiondata/emotion_data/sadness/s02 (5)b.wav</td>\n",
       "      <td>s02 (5)b.wav</td>\n",
       "      <td>sad</td>\n",
       "      <td>1</td>\n",
       "    </tr>\n",
       "  </tbody>\n",
       "</table>\n",
       "</div>"
      ],
      "text/plain": [
       "                                                path          name emotion  \\\n",
       "0      ../emotiondata/emotion_data/anger/a01 (1).wav   a01 (1).wav   angry   \n",
       "1    ../emotiondata/emotion_data/sadness/s16 (4).wav   s16 (4).wav     sad   \n",
       "2  ../emotiondata/emotion_data/happiness/h08 (3).wav   h08 (3).wav   happy   \n",
       "3  ../emotiondata/emotion_data/happiness/h17 (1).wav   h17 (1).wav   happy   \n",
       "4   ../emotiondata/emotion_data/sadness/s02 (5)b.wav  s02 (5)b.wav     sad   \n",
       "\n",
       "   session  \n",
       "0        1  \n",
       "1        1  \n",
       "2        1  \n",
       "3        1  \n",
       "4        1  "
      ]
     },
     "execution_count": 9,
     "metadata": {},
     "output_type": "execute_result"
    }
   ],
   "source": [
    "dataframe_path = main_data_path + '/session_entries_hubert.csv'\n",
    "file = pd.read_csv(dataframe_path)[['path', 'name', 'emotion', 'session']]\n",
    "file.head()"
   ]
  },
  {
   "cell_type": "code",
   "execution_count": 10,
   "id": "6978cd05",
   "metadata": {},
   "outputs": [
    {
     "name": "stderr",
     "output_type": "stream",
     "text": [
      "100%|█████████████████████████████████████████████████████████████████████████████████████████████████████████████████████████████████████████████████████████████████████████████████████████████████████████████████████████████████████████████████████████████████████████████████████████████| 604/604 [02:26<00:00,  4.13it/s]\n"
     ]
    }
   ],
   "source": [
    "from tqdm import tqdm\n",
    "audios = []\n",
    "to_be_discarded = []\n",
    "discarded_name = []\n",
    "for i in tqdm(range(len(file['path']))):\n",
    "    path = file['path'][i]\n",
    "    wave, sr = torchaudio.load(path)\n",
    "    if sr != bundle.sample_rate:\n",
    "        wave = torchaudio.functional.resample(wave, sr, bundle.sample_rate)\n",
    "    with torch.inference_mode():\n",
    "        feature, _ = extractor.extract_features(wave)\n",
    "    \n",
    "    feature = [f[0] for f in feature]\n",
    "    audio = torch.stack(feature)\n",
    "    audios.append(audio)"
   ]
  },
  {
   "cell_type": "markdown",
   "id": "dbdb8425",
   "metadata": {},
   "source": [
    "# Load Data"
   ]
  },
  {
   "cell_type": "code",
   "execution_count": 50,
   "id": "f4f591b3",
   "metadata": {},
   "outputs": [],
   "source": [
    "holdout = 5\n",
    "train = file[file['session'] != holdout]\n",
    "train_audios = [audios[i] for i in range(len(audios)) if file['session'][i] != holdout]\n",
    "test = file[file['session'] == holdout]\n",
    "test_audios = [audios[i] for i in range(len(audios)) if file['session'][i] == holdout]"
   ]
  },
  {
   "cell_type": "code",
   "execution_count": 51,
   "id": "9af2cf15",
   "metadata": {},
   "outputs": [],
   "source": [
    "class MyDataSet(torch.utils.data.Dataset):\n",
    "    def __init__(self, audios, labels, label_transform):\n",
    "        super(MyDataSet).__init__()\n",
    "        self.audios = audios\n",
    "        self.labels = labels\n",
    "        self.label_transform = label_transform\n",
    "        \n",
    "    def __getitem__(self, idx):\n",
    "        label = self.label_transform[self.labels[idx]]\n",
    "        audio = self.audios[idx]\n",
    "        length = audio.size(1)\n",
    "        return audio, length, label\n",
    "    \n",
    "    def __len__(self):\n",
    "        return len(self.labels)"
   ]
  },
  {
   "cell_type": "code",
   "execution_count": 52,
   "id": "9aea3ed4",
   "metadata": {},
   "outputs": [],
   "source": [
    "def collate_indic(data):\n",
    "    audios, lengths, labels = zip(*data)\n",
    "    max_len = max(lengths)\n",
    "    n_ftrs = audios[0].size(2)\n",
    "    n_dims = audios[0].size(0)\n",
    "    features = torch.zeros((len(audios), n_dims, max_len, n_ftrs))\n",
    "    labels = torch.tensor(labels)\n",
    "    lengths = torch.tensor(lengths)\n",
    "\n",
    "    for i in range(len(data)):\n",
    "        j, k = audios[i].size(1), audios[i].size(2)\n",
    "        features[i] = torch.cat([audios[i], torch.zeros((n_dims, max_len - j, k))], dim=1)\n",
    "\n",
    "    return features, lengths, labels"
   ]
  },
  {
   "cell_type": "code",
   "execution_count": 53,
   "id": "545e7590",
   "metadata": {},
   "outputs": [
    {
     "data": {
      "text/plain": [
       "{'neutral': 0, 'angry': 1, 'happy': 2, 'sad': 3, 'fear': 4, 'disgust': 5}"
      ]
     },
     "execution_count": 53,
     "metadata": {},
     "output_type": "execute_result"
    }
   ],
   "source": [
    "categories = ['neutral', 'angry', 'happy', 'sad', 'fear', 'disgust']\n",
    "cate_dic = {}\n",
    "for i, cate in enumerate(categories):\n",
    "    cate_dic[cate] = i\n",
    "cate_dic"
   ]
  },
  {
   "cell_type": "code",
   "execution_count": 54,
   "id": "87e785c6",
   "metadata": {},
   "outputs": [],
   "source": [
    "from torch.utils.data import DataLoader\n",
    "\n",
    "train_dataset = MyDataSet(train_audios, train['emotion'].tolist(), cate_dic)\n",
    "trainloader_args = dict(batch_size=16, shuffle=True)\n",
    "train_dataloader = DataLoader(train_dataset, **trainloader_args, \n",
    "                              collate_fn=collate_indic)\n",
    "\n",
    "test_dataset = MyDataSet(test_audios, test['emotion'].tolist(), cate_dic)\n",
    "testloader_args = dict(batch_size=16, shuffle=True)\n",
    "test_dataloader = DataLoader(test_dataset, **testloader_args, \n",
    "                             collate_fn=collate_indic)"
   ]
  },
  {
   "cell_type": "markdown",
   "id": "9b0ac40d",
   "metadata": {},
   "source": [
    "# 3CNN+LSTM"
   ]
  },
  {
   "cell_type": "code",
   "execution_count": 55,
   "id": "27f5313d",
   "metadata": {},
   "outputs": [],
   "source": [
    "import torch.nn as nn\n",
    "import torch.nn.functional as F\n",
    "\n",
    "class ICASSP3CNN(nn.Module):\n",
    "    def __init__(self, vocab_size, dims = 12, embed_size=128, hidden_size=512, num_lstm_layers = 2, bidirectional = False, label_size=7):\n",
    "        super().__init__()\n",
    "        self.n_layers = num_lstm_layers \n",
    "        self.hidden = hidden_size\n",
    "        self.bidirectional = bidirectional\n",
    "        \n",
    "        self.aggr = nn.Conv1d(in_channels=dims, out_channels=1, kernel_size=1)\n",
    "        \n",
    "        self.embed = nn.Linear(in_features = vocab_size, out_features = embed_size)\n",
    "\n",
    "        self.cnn  = nn.Conv1d(embed_size, embed_size, kernel_size=3, padding=1)\n",
    "        self.cnn2 = nn.Conv1d(embed_size, embed_size, kernel_size=5, padding=2)\n",
    "        self.cnn3 = nn.Conv1d(embed_size, embed_size, kernel_size=7, padding=3)\n",
    "\n",
    "        self.batchnorm = nn.BatchNorm1d(3 * embed_size)\n",
    "\n",
    "        self.lstm = nn.LSTM(input_size = 3 * embed_size, \n",
    "                            hidden_size = hidden_size, \n",
    "                            num_layers = num_lstm_layers, \n",
    "                            bidirectional = bidirectional)\n",
    "\n",
    "        self.linear = nn.Linear(in_features = 2 * hidden_size if bidirectional else hidden_size, \n",
    "                                out_features = label_size)\n",
    "\n",
    "\n",
    "    def forward(self, x, lengths):\n",
    "        \"\"\"\n",
    "        padded_x: (B,T) padded LongTensor\n",
    "        \"\"\"\n",
    "        n, d, b, t = x.size(0), x.size(1), x.size(2), x.size(3)\n",
    "        x = torch.flatten(x, start_dim=2)\n",
    "        input = self.aggr(x)\n",
    "        input = torch.reshape(input, (n, b, t))\n",
    "        input = self.embed(input)\n",
    "\n",
    "        batch_size = input.size(0)\n",
    "        input = input.transpose(1,2)    # (B,T,H) -> (B,H,T)\n",
    "\n",
    "        cnn_output = torch.cat([self.cnn(input), self.cnn2(input), self.cnn3(input)], dim=1)\n",
    "\n",
    "        input = F.relu(self.batchnorm(cnn_output))\n",
    "\n",
    "        input = input.transpose(1,2)\n",
    "\n",
    "        pack_tensor = nn.utils.rnn.pack_padded_sequence(input, lengths, batch_first=True, enforce_sorted=False)\n",
    "        _, (hn, cn) = self.lstm(pack_tensor)\n",
    "\n",
    "        if self.bidirectional:\n",
    "            h_n = hn.view(self.n_layers, 2, batch_size, self.hidden)\n",
    "            h_n = torch.cat([ h_n[-1, 0,:], h_n[-1,1,:] ], dim = 1)\n",
    "        else:\n",
    "            h_n = hn[-1]\n",
    "\n",
    "        logits = self.linear(h_n)\n",
    "\n",
    "        return logits\n"
   ]
  },
  {
   "cell_type": "markdown",
   "id": "37923d98",
   "metadata": {},
   "source": [
    "# Train Each Layer"
   ]
  },
  {
   "cell_type": "code",
   "execution_count": 56,
   "id": "328040c5",
   "metadata": {},
   "outputs": [
    {
     "name": "stderr",
     "output_type": "stream",
     "text": [
      "  2%|█████▊                                                                                                                                                                                                                                                                                          | 1/50 [00:04<03:53,  4.76s/it]"
     ]
    },
    {
     "name": "stdout",
     "output_type": "stream",
     "text": [
      "epoch:1, train accu:0.3833, train loss:1.44\n"
     ]
    },
    {
     "name": "stderr",
     "output_type": "stream",
     "text": [
      "\r",
      "  4%|███████████▌                                                                                                                                                                                                                                                                                    | 2/50 [00:09<03:50,  4.79s/it]"
     ]
    },
    {
     "name": "stdout",
     "output_type": "stream",
     "text": [
      "epoch:2, train accu:0.6438, train loss:0.92\n"
     ]
    },
    {
     "name": "stderr",
     "output_type": "stream",
     "text": [
      "\r",
      "  6%|█████████████████▎                                                                                                                                                                                                                                                                              | 3/50 [00:14<03:44,  4.79s/it]"
     ]
    },
    {
     "name": "stdout",
     "output_type": "stream",
     "text": [
      "epoch:3, train accu:0.7250, train loss:0.72\n"
     ]
    },
    {
     "name": "stderr",
     "output_type": "stream",
     "text": [
      "\r",
      "  8%|███████████████████████                                                                                                                                                                                                                                                                         | 4/50 [00:19<03:42,  4.83s/it]"
     ]
    },
    {
     "name": "stdout",
     "output_type": "stream",
     "text": [
      "epoch:4, train accu:0.7396, train loss:0.63\n"
     ]
    },
    {
     "name": "stderr",
     "output_type": "stream",
     "text": [
      "\r",
      " 10%|████████████████████████████▊                                                                                                                                                                                                                                                                   | 5/50 [00:25<03:55,  5.23s/it]"
     ]
    },
    {
     "name": "stdout",
     "output_type": "stream",
     "text": [
      "epoch:5, train accu:0.8146, train loss:0.51\n"
     ]
    },
    {
     "name": "stderr",
     "output_type": "stream",
     "text": [
      "\r",
      " 12%|██████████████████████████████████▌                                                                                                                                                                                                                                                             | 6/50 [00:30<03:45,  5.11s/it]"
     ]
    },
    {
     "name": "stdout",
     "output_type": "stream",
     "text": [
      "epoch:6, train accu:0.8792, train loss:0.36\n"
     ]
    },
    {
     "name": "stderr",
     "output_type": "stream",
     "text": [
      "\r",
      " 14%|████████████████████████████████████████▎                                                                                                                                                                                                                                                       | 7/50 [00:34<03:34,  4.99s/it]"
     ]
    },
    {
     "name": "stdout",
     "output_type": "stream",
     "text": [
      "epoch:7, train accu:0.8396, train loss:0.45\n"
     ]
    },
    {
     "name": "stderr",
     "output_type": "stream",
     "text": [
      "\r",
      " 16%|██████████████████████████████████████████████                                                                                                                                                                                                                                                  | 8/50 [00:39<03:27,  4.94s/it]"
     ]
    },
    {
     "name": "stdout",
     "output_type": "stream",
     "text": [
      "epoch:8, train accu:0.8750, train loss:0.42\n"
     ]
    },
    {
     "name": "stderr",
     "output_type": "stream",
     "text": [
      "\r",
      " 18%|███████████████████████████████████████████████████▊                                                                                                                                                                                                                                            | 9/50 [00:44<03:20,  4.90s/it]"
     ]
    },
    {
     "name": "stdout",
     "output_type": "stream",
     "text": [
      "epoch:9, train accu:0.8812, train loss:0.34\n"
     ]
    },
    {
     "name": "stderr",
     "output_type": "stream",
     "text": [
      "\r",
      " 20%|█████████████████████████████████████████████████████████▍                                                                                                                                                                                                                                     | 10/50 [00:49<03:13,  4.84s/it]"
     ]
    },
    {
     "name": "stdout",
     "output_type": "stream",
     "text": [
      "epoch:10, train accu:0.9042, train loss:0.28\n"
     ]
    },
    {
     "name": "stderr",
     "output_type": "stream",
     "text": [
      "\r",
      " 22%|███████████████████████████████████████████████████████████████▏                                                                                                                                                                                                                               | 11/50 [00:53<03:07,  4.81s/it]"
     ]
    },
    {
     "name": "stdout",
     "output_type": "stream",
     "text": [
      "epoch:11, train accu:0.9354, train loss:0.20\n"
     ]
    },
    {
     "name": "stderr",
     "output_type": "stream",
     "text": [
      "\r",
      " 24%|████████████████████████████████████████████████████████████████████▉                                                                                                                                                                                                                          | 12/50 [00:58<03:01,  4.78s/it]"
     ]
    },
    {
     "name": "stdout",
     "output_type": "stream",
     "text": [
      "epoch:12, train accu:0.9396, train loss:0.17\n"
     ]
    },
    {
     "name": "stderr",
     "output_type": "stream",
     "text": [
      "\r",
      " 26%|██████████████████████████████████████████████████████████████████████████▌                                                                                                                                                                                                                    | 13/50 [01:03<02:56,  4.77s/it]"
     ]
    },
    {
     "name": "stdout",
     "output_type": "stream",
     "text": [
      "epoch:13, train accu:0.9812, train loss:0.08\n"
     ]
    },
    {
     "name": "stderr",
     "output_type": "stream",
     "text": [
      "\r",
      " 28%|████████████████████████████████████████████████████████████████████████████████▎                                                                                                                                                                                                              | 14/50 [01:08<02:52,  4.78s/it]"
     ]
    },
    {
     "name": "stdout",
     "output_type": "stream",
     "text": [
      "epoch:14, train accu:0.9729, train loss:0.10\n"
     ]
    },
    {
     "name": "stderr",
     "output_type": "stream",
     "text": [
      "\r",
      " 30%|██████████████████████████████████████████████████████████████████████████████████████                                                                                                                                                                                                         | 15/50 [01:13<02:47,  4.80s/it]"
     ]
    },
    {
     "name": "stdout",
     "output_type": "stream",
     "text": [
      "epoch:15, train accu:0.9396, train loss:0.19\n"
     ]
    },
    {
     "name": "stderr",
     "output_type": "stream",
     "text": [
      "\r",
      " 32%|███████████████████████████████████████████████████████████████████████████████████████████▊                                                                                                                                                                                                   | 16/50 [01:17<02:42,  4.78s/it]"
     ]
    },
    {
     "name": "stdout",
     "output_type": "stream",
     "text": [
      "epoch:16, train accu:0.9542, train loss:0.13\n"
     ]
    },
    {
     "name": "stderr",
     "output_type": "stream",
     "text": [
      "\r",
      " 34%|█████████████████████████████████████████████████████████████████████████████████████████████████▌                                                                                                                                                                                             | 17/50 [01:23<02:47,  5.07s/it]"
     ]
    },
    {
     "name": "stdout",
     "output_type": "stream",
     "text": [
      "epoch:17, train accu:0.9792, train loss:0.10\n"
     ]
    },
    {
     "name": "stderr",
     "output_type": "stream",
     "text": [
      "\r",
      " 36%|███████████████████████████████████████████████████████████████████████████████████████████████████████▎                                                                                                                                                                                       | 18/50 [01:28<02:38,  4.97s/it]"
     ]
    },
    {
     "name": "stdout",
     "output_type": "stream",
     "text": [
      "epoch:18, train accu:0.9938, train loss:0.03\n"
     ]
    },
    {
     "name": "stderr",
     "output_type": "stream",
     "text": [
      "\r",
      " 38%|█████████████████████████████████████████████████████████████████████████████████████████████████████████████                                                                                                                                                                                  | 19/50 [01:32<02:31,  4.89s/it]"
     ]
    },
    {
     "name": "stdout",
     "output_type": "stream",
     "text": [
      "epoch:19, train accu:0.9792, train loss:0.08\n"
     ]
    },
    {
     "name": "stderr",
     "output_type": "stream",
     "text": [
      "\r",
      " 40%|██████████████████████████████████████████████████████████████████████████████████████████████████████████████████▊                                                                                                                                                                            | 20/50 [01:37<02:25,  4.85s/it]"
     ]
    },
    {
     "name": "stdout",
     "output_type": "stream",
     "text": [
      "epoch:20, train accu:0.9938, train loss:0.04\n"
     ]
    },
    {
     "name": "stderr",
     "output_type": "stream",
     "text": [
      "\r",
      " 42%|████████████████████████████████████████████████████████████████████████████████████████████████████████████████████████▌                                                                                                                                                                      | 21/50 [01:42<02:18,  4.78s/it]"
     ]
    },
    {
     "name": "stdout",
     "output_type": "stream",
     "text": [
      "epoch:21, train accu:0.9979, train loss:0.02\n"
     ]
    },
    {
     "name": "stderr",
     "output_type": "stream",
     "text": [
      "\r",
      " 44%|██████████████████████████████████████████████████████████████████████████████████████████████████████████████████████████████▎                                                                                                                                                                | 22/50 [01:47<02:13,  4.76s/it]"
     ]
    },
    {
     "name": "stdout",
     "output_type": "stream",
     "text": [
      "epoch:22, train accu:0.9938, train loss:0.02\n"
     ]
    },
    {
     "name": "stderr",
     "output_type": "stream",
     "text": [
      "\r",
      " 46%|████████████████████████████████████████████████████████████████████████████████████████████████████████████████████████████████████                                                                                                                                                           | 23/50 [01:51<02:08,  4.78s/it]"
     ]
    },
    {
     "name": "stdout",
     "output_type": "stream",
     "text": [
      "epoch:23, train accu:0.9750, train loss:0.09\n"
     ]
    },
    {
     "name": "stderr",
     "output_type": "stream",
     "text": [
      "\r",
      " 48%|█████████████████████████████████████████████████████████████████████████████████████████████████████████████████████████████████████████▊                                                                                                                                                     | 24/50 [01:56<02:03,  4.76s/it]"
     ]
    },
    {
     "name": "stdout",
     "output_type": "stream",
     "text": [
      "epoch:24, train accu:0.9646, train loss:0.10\n"
     ]
    },
    {
     "name": "stderr",
     "output_type": "stream",
     "text": [
      "\r",
      " 50%|███████████████████████████████████████████████████████████████████████████████████████████████████████████████████████████████████████████████▌                                                                                                                                               | 25/50 [02:01<01:58,  4.75s/it]"
     ]
    },
    {
     "name": "stdout",
     "output_type": "stream",
     "text": [
      "epoch:25, train accu:0.9521, train loss:0.19\n"
     ]
    },
    {
     "name": "stderr",
     "output_type": "stream",
     "text": [
      "\r",
      " 52%|█████████████████████████████████████████████████████████████████████████████████████████████████████████████████████████████████████████████████████▏                                                                                                                                         | 26/50 [02:06<01:54,  4.78s/it]"
     ]
    },
    {
     "name": "stdout",
     "output_type": "stream",
     "text": [
      "epoch:26, train accu:0.9375, train loss:0.21\n"
     ]
    },
    {
     "name": "stderr",
     "output_type": "stream",
     "text": [
      "\r",
      " 54%|██████████████████████████████████████████████████████████████████████████████████████████████████████████████████████████████████████████████████████████▉                                                                                                                                    | 27/50 [02:10<01:50,  4.79s/it]"
     ]
    },
    {
     "name": "stdout",
     "output_type": "stream",
     "text": [
      "epoch:27, train accu:0.9604, train loss:0.14\n"
     ]
    },
    {
     "name": "stderr",
     "output_type": "stream",
     "text": [
      "\r",
      " 56%|████████████████████████████████████████████████████████████████████████████████████████████████████████████████████████████████████████████████████████████████▋                                                                                                                              | 28/50 [02:15<01:45,  4.78s/it]"
     ]
    },
    {
     "name": "stdout",
     "output_type": "stream",
     "text": [
      "epoch:28, train accu:0.9792, train loss:0.08\n"
     ]
    },
    {
     "name": "stderr",
     "output_type": "stream",
     "text": [
      "\r",
      " 58%|██████████████████████████████████████████████████████████████████████████████████████████████████████████████████████████████████████████████████████████████████████▍                                                                                                                        | 29/50 [02:20<01:42,  4.86s/it]"
     ]
    },
    {
     "name": "stdout",
     "output_type": "stream",
     "text": [
      "epoch:29, train accu:0.9958, train loss:0.02\n"
     ]
    },
    {
     "name": "stderr",
     "output_type": "stream",
     "text": [
      "\r",
      " 60%|████████████████████████████████████████████████████████████████████████████████████████████████████████████████████████████████████████████████████████████████████████████▏                                                                                                                  | 30/50 [02:26<01:41,  5.07s/it]"
     ]
    },
    {
     "name": "stdout",
     "output_type": "stream",
     "text": [
      "epoch:30, train accu:0.9667, train loss:0.14\n"
     ]
    },
    {
     "name": "stderr",
     "output_type": "stream",
     "text": [
      "\r",
      " 62%|█████████████████████████████████████████████████████████████████████████████████████████████████████████████████████████████████████████████████████████████████████████████████▉                                                                                                             | 31/50 [02:31<01:35,  5.01s/it]"
     ]
    },
    {
     "name": "stdout",
     "output_type": "stream",
     "text": [
      "epoch:31, train accu:0.9771, train loss:0.08\n"
     ]
    },
    {
     "name": "stderr",
     "output_type": "stream",
     "text": [
      "\r",
      " 64%|███████████████████████████████████████████████████████████████████████████████████████████████████████████████████████████████████████████████████████████████████████████████████████▋                                                                                                       | 32/50 [02:36<01:29,  4.95s/it]"
     ]
    },
    {
     "name": "stdout",
     "output_type": "stream",
     "text": [
      "epoch:32, train accu:0.9958, train loss:0.03\n"
     ]
    },
    {
     "name": "stderr",
     "output_type": "stream",
     "text": [
      "\r",
      " 66%|█████████████████████████████████████████████████████████████████████████████████████████████████████████████████████████████████████████████████████████████████████████████████████████████▍                                                                                                 | 33/50 [02:40<01:23,  4.93s/it]"
     ]
    },
    {
     "name": "stdout",
     "output_type": "stream",
     "text": [
      "epoch:33, train accu:0.9854, train loss:0.06\n"
     ]
    },
    {
     "name": "stderr",
     "output_type": "stream",
     "text": [
      "\r",
      " 68%|███████████████████████████████████████████████████████████████████████████████████████████████████████████████████████████████████████████████████████████████████████████████████████████████████▏                                                                                           | 34/50 [02:45<01:17,  4.87s/it]"
     ]
    },
    {
     "name": "stdout",
     "output_type": "stream",
     "text": [
      "epoch:34, train accu:0.9708, train loss:0.09\n"
     ]
    },
    {
     "name": "stderr",
     "output_type": "stream",
     "text": [
      "\r",
      " 70%|████████████████████████████████████████████████████████████████████████████████████████████████████████████████████████████████████████████████████████████████████████████████████████████████████████▉                                                                                      | 35/50 [02:50<01:12,  4.81s/it]"
     ]
    },
    {
     "name": "stdout",
     "output_type": "stream",
     "text": [
      "epoch:35, train accu:0.9854, train loss:0.06\n"
     ]
    },
    {
     "name": "stderr",
     "output_type": "stream",
     "text": [
      "\r",
      " 72%|██████████████████████████████████████████████████████████████████████████████████████████████████████████████████████████████████████████████████████████████████████████████████████████████████████████████▋                                                                                | 36/50 [02:55<01:07,  4.81s/it]"
     ]
    },
    {
     "name": "stdout",
     "output_type": "stream",
     "text": [
      "epoch:36, train accu:0.9854, train loss:0.04\n"
     ]
    },
    {
     "name": "stderr",
     "output_type": "stream",
     "text": [
      "\r",
      " 74%|████████████████████████████████████████████████████████████████████████████████████████████████████████████████████████████████████████████████████████████████████████████████████████████████████████████████████▍                                                                          | 37/50 [02:59<01:02,  4.78s/it]"
     ]
    },
    {
     "name": "stdout",
     "output_type": "stream",
     "text": [
      "epoch:37, train accu:0.9771, train loss:0.10\n"
     ]
    },
    {
     "name": "stderr",
     "output_type": "stream",
     "text": [
      "\r",
      " 76%|██████████████████████████████████████████████████████████████████████████████████████████████████████████████████████████████████████████████████████████████████████████████████████████████████████████████████████████                                                                     | 38/50 [03:04<00:57,  4.76s/it]"
     ]
    },
    {
     "name": "stdout",
     "output_type": "stream",
     "text": [
      "epoch:38, train accu:0.9750, train loss:0.10\n"
     ]
    },
    {
     "name": "stderr",
     "output_type": "stream",
     "text": [
      "\r",
      " 78%|███████████████████████████████████████████████████████████████████████████████████████████████████████████████████████████████████████████████████████████████████████████████████████████████████████████████████████████████▊                                                               | 39/50 [03:09<00:52,  4.74s/it]"
     ]
    },
    {
     "name": "stdout",
     "output_type": "stream",
     "text": [
      "epoch:39, train accu:0.9812, train loss:0.08\n"
     ]
    },
    {
     "name": "stderr",
     "output_type": "stream",
     "text": [
      "\r",
      " 80%|█████████████████████████████████████████████████████████████████████████████████████████████████████████████████████████████████████████████████████████████████████████████████████████████████████████████████████████████████████▌                                                         | 40/50 [03:14<00:47,  4.76s/it]"
     ]
    },
    {
     "name": "stdout",
     "output_type": "stream",
     "text": [
      "epoch:40, train accu:0.9875, train loss:0.05\n"
     ]
    },
    {
     "name": "stderr",
     "output_type": "stream",
     "text": [
      "\r",
      " 82%|███████████████████████████████████████████████████████████████████████████████████████████████████████████████████████████████████████████████████████████████████████████████████████████████████████████████████████████████████████████▎                                                   | 41/50 [03:18<00:42,  4.72s/it]"
     ]
    },
    {
     "name": "stdout",
     "output_type": "stream",
     "text": [
      "epoch:41, train accu:0.9958, train loss:0.01\n"
     ]
    },
    {
     "name": "stderr",
     "output_type": "stream",
     "text": [
      "\r",
      " 84%|█████████████████████████████████████████████████████████████████████████████████████████████████████████████████████████████████████████████████████████████████████████████████████████████████████████████████████████████████████████████████                                              | 42/50 [03:24<00:40,  5.09s/it]"
     ]
    },
    {
     "name": "stdout",
     "output_type": "stream",
     "text": [
      "epoch:42, train accu:1.0000, train loss:0.00\n"
     ]
    },
    {
     "name": "stderr",
     "output_type": "stream",
     "text": [
      "\r",
      " 86%|██████████████████████████████████████████████████████████████████████████████████████████████████████████████████████████████████████████████████████████████████████████████████████████████████████████████████████████████████████████████████████▊                                        | 43/50 [03:29<00:34,  4.99s/it]"
     ]
    },
    {
     "name": "stdout",
     "output_type": "stream",
     "text": [
      "epoch:43, train accu:1.0000, train loss:0.00\n"
     ]
    },
    {
     "name": "stderr",
     "output_type": "stream",
     "text": [
      "\r",
      " 88%|████████████████████████████████████████████████████████████████████████████████████████████████████████████████████████████████████████████████████████████████████████████████████████████████████████████████████████████████████████████████████████████▌                                  | 44/50 [03:34<00:29,  4.91s/it]"
     ]
    },
    {
     "name": "stdout",
     "output_type": "stream",
     "text": [
      "epoch:44, train accu:1.0000, train loss:0.00\n"
     ]
    },
    {
     "name": "stderr",
     "output_type": "stream",
     "text": [
      "\r",
      " 90%|██████████████████████████████████████████████████████████████████████████████████████████████████████████████████████████████████████████████████████████████████████████████████████████████████████████████████████████████████████████████████████████████████▎                            | 45/50 [03:38<00:24,  4.82s/it]"
     ]
    },
    {
     "name": "stdout",
     "output_type": "stream",
     "text": [
      "epoch:45, train accu:0.9875, train loss:0.07\n"
     ]
    },
    {
     "name": "stderr",
     "output_type": "stream",
     "text": [
      "\r",
      " 92%|████████████████████████████████████████████████████████████████████████████████████████████████████████████████████████████████████████████████████████████████████████████████████████████████████████████████████████████████████████████████████████████████████████                       | 46/50 [03:43<00:19,  4.81s/it]"
     ]
    },
    {
     "name": "stdout",
     "output_type": "stream",
     "text": [
      "epoch:46, train accu:0.9833, train loss:0.05\n"
     ]
    },
    {
     "name": "stderr",
     "output_type": "stream",
     "text": [
      "\r",
      " 94%|█████████████████████████████████████████████████████████████████████████████████████████████████████████████████████████████████████████████████████████████████████████████████████████████████████████████████████████████████████████████████████████████████████████████▊                 | 47/50 [03:48<00:14,  4.81s/it]"
     ]
    },
    {
     "name": "stdout",
     "output_type": "stream",
     "text": [
      "epoch:47, train accu:0.9917, train loss:0.03\n"
     ]
    },
    {
     "name": "stderr",
     "output_type": "stream",
     "text": [
      "\r",
      " 96%|███████████████████████████████████████████████████████████████████████████████████████████████████████████████████████████████████████████████████████████████████████████████████████████████████████████████████████████████████████████████████████████████████████████████████▌           | 48/50 [03:52<00:09,  4.77s/it]"
     ]
    },
    {
     "name": "stdout",
     "output_type": "stream",
     "text": [
      "epoch:48, train accu:1.0000, train loss:0.01\n"
     ]
    },
    {
     "name": "stderr",
     "output_type": "stream",
     "text": [
      "\r",
      " 98%|█████████████████████████████████████████████████████████████████████████████████████████████████████████████████████████████████████████████████████████████████████████████████████████████████████████████████████████████████████████████████████████████████████████████████████████▎     | 49/50 [03:57<00:04,  4.78s/it]"
     ]
    },
    {
     "name": "stdout",
     "output_type": "stream",
     "text": [
      "epoch:49, train accu:1.0000, train loss:0.00\n"
     ]
    },
    {
     "name": "stderr",
     "output_type": "stream",
     "text": [
      "100%|███████████████████████████████████████████████████████████████████████████████████████████████████████████████████████████████████████████████████████████████████████████████████████████████████████████████████████████████████████████████████████████████████████████████████████████████| 50/50 [04:02<00:00,  4.85s/it]"
     ]
    },
    {
     "name": "stdout",
     "output_type": "stream",
     "text": [
      "epoch:50, train accu:1.0000, train loss:0.00\n"
     ]
    },
    {
     "name": "stderr",
     "output_type": "stream",
     "text": [
      "\n"
     ]
    }
   ],
   "source": [
    "from tqdm import tqdm\n",
    "from torchsummary import summary\n",
    "import torch.optim as optim\n",
    "\n",
    "model = ICASSP3CNN(768)\n",
    "model = model.to(device)\n",
    "criterion = nn.CrossEntropyLoss()\n",
    "optimizer = optim.Adam(model.parameters(), lr=0.001)\n",
    "\n",
    "epochs = 50\n",
    "train_losses = []\n",
    "train_accuracies = []\n",
    "valid_losses = []\n",
    "valid_accuracies = []\n",
    "\n",
    "for epoch in tqdm(range(epochs)):\n",
    "    train_loss = 0\n",
    "    acc_cnt = 0\n",
    "    err_cnt = 0\n",
    "    batch_cnt = 0\n",
    "    model.train()\n",
    "    for batch, (x, length, y) in enumerate(train_dataloader):\n",
    "        x = x.to(device)\n",
    "        y = y.to(device)\n",
    "        optimizer.zero_grad()\n",
    "        logits = model(x, length)\n",
    "        loss = criterion(logits, y)\n",
    "        loss.backward()\n",
    "        optimizer.step()\n",
    "        train_loss += loss.cpu().item()\n",
    "\n",
    "        #model outputs\n",
    "        out_val, out_indices = torch.max(logits, dim=1)\n",
    "        tar_indices = y\n",
    "\n",
    "        for i in range(len(out_indices)):\n",
    "            if out_indices[i] == tar_indices[i]:\n",
    "                acc_cnt += 1\n",
    "            else:\n",
    "                err_cnt += 1\n",
    "        batch_cnt += 1\n",
    "    \n",
    "    train_loss = train_loss/batch_cnt\n",
    "    train_accuracy = acc_cnt/(acc_cnt+err_cnt)\n",
    "    train_accuracies.append(train_accuracy)\n",
    "    train_losses.append(train_loss)\n",
    "    \n",
    "    print(f\"epoch:{epoch+1}, train accu:{train_accuracy:.4f},\", f\"train loss:{train_loss:.2f}\")"
   ]
  },
  {
   "cell_type": "markdown",
   "id": "cee1562d",
   "metadata": {},
   "source": [
    "# Model Test"
   ]
  },
  {
   "cell_type": "code",
   "execution_count": 57,
   "id": "07ef2587",
   "metadata": {},
   "outputs": [
    {
     "name": "stdout",
     "output_type": "stream",
     "text": [
      "test accuracy: 0.7983870967741935\n"
     ]
    }
   ],
   "source": [
    "test_loss = 0\n",
    "acc_cnt = 0\n",
    "err_cnt = 0\n",
    "batch_cnt = 0\n",
    "model.eval()\n",
    "\n",
    "for x, lengths, y in test_dataloader:\n",
    "\n",
    "    x = x.to(device)\n",
    "    y = y.to(device)\n",
    "\n",
    "    logits = model(x, lengths)\n",
    "    loss = criterion(logits, y)\n",
    "    test_loss += loss.cpu().item()\n",
    "\n",
    "    out_val, out_indices = torch.max(logits, dim=1)\n",
    "    tar_indices = y\n",
    "\n",
    "    for i in range(len(out_indices)):\n",
    "        if out_indices[i] == tar_indices[i]:\n",
    "            acc_cnt += 1\n",
    "        else:\n",
    "            err_cnt += 1\n",
    "    batch_cnt += 1\n",
    "\n",
    "test_loss = test_loss/batch_cnt\n",
    "test_accuracy = acc_cnt/(acc_cnt+err_cnt)\n",
    "print(f'test accuracy: {test_accuracy}')"
   ]
  },
  {
   "cell_type": "code",
   "execution_count": 58,
   "id": "eb40d4e5",
   "metadata": {},
   "outputs": [
    {
     "name": "stdout",
     "output_type": "stream",
     "text": [
      "aggr.weight tensor([[[ 0.0753],\n",
      "         [ 0.2551],\n",
      "         [ 0.1802],\n",
      "         [-0.2935],\n",
      "         [-0.2755],\n",
      "         [ 0.2087],\n",
      "         [ 0.0563],\n",
      "         [ 0.1467],\n",
      "         [-0.0244],\n",
      "         [-0.2291],\n",
      "         [ 0.2658],\n",
      "         [-0.1543]]], device='cuda:0')\n",
      "aggr.bias tensor([0.1089], device='cuda:0')\n",
      "embed.weight tensor([[ 3.2320e-03,  1.0965e-02, -2.3358e-04,  ..., -1.3281e-02,\n",
      "         -3.1011e-02,  1.6737e-02],\n",
      "        [ 1.1983e-02, -1.1725e-02, -3.3963e-02,  ...,  2.8910e-02,\n",
      "         -1.2704e-02,  6.3700e-02],\n",
      "        [ 2.1200e-02,  2.2522e-02,  1.1867e-02,  ..., -1.0812e-02,\n",
      "         -6.4397e-03,  2.9728e-05],\n",
      "        ...,\n",
      "        [-6.4769e-02, -2.6768e-02, -1.7272e-02,  ..., -1.8479e-02,\n",
      "          5.4517e-02,  9.3301e-04],\n",
      "        [ 3.7812e-02, -3.9618e-02, -1.8583e-02,  ...,  5.4425e-02,\n",
      "         -3.8337e-02,  1.0364e-02],\n",
      "        [-2.0452e-02, -1.7647e-02, -2.9176e-02,  ..., -4.6143e-02,\n",
      "          1.5949e-02,  5.5211e-02]], device='cuda:0')\n",
      "embed.bias tensor([-0.0507,  0.0465,  0.0115,  0.0240,  0.0264, -0.0460,  0.0097,  0.0309,\n",
      "        -0.0094,  0.0199,  0.0203,  0.0397, -0.0227,  0.0538, -0.0024,  0.0408,\n",
      "        -0.0108,  0.0127, -0.0063,  0.0438, -0.0032,  0.0447,  0.0329, -0.0323,\n",
      "        -0.0141, -0.0248,  0.0383, -0.0527,  0.0454,  0.0064, -0.0236, -0.0198,\n",
      "         0.0121,  0.0185, -0.0237, -0.0208,  0.0556, -0.0304,  0.0229, -0.0046,\n",
      "        -0.0310,  0.0309,  0.0246,  0.0289, -0.0199, -0.0364,  0.0042, -0.0053,\n",
      "         0.0279, -0.0018,  0.0079, -0.0465, -0.0254,  0.0236,  0.0056, -0.0167,\n",
      "        -0.0092,  0.0468,  0.0269, -0.0178, -0.0273, -0.0157, -0.0015,  0.0035,\n",
      "        -0.0253,  0.0131,  0.0274, -0.0241,  0.0186, -0.0090,  0.0257,  0.0256,\n",
      "        -0.0026,  0.0228, -0.0284, -0.0285, -0.0200, -0.0464,  0.0219,  0.0423,\n",
      "         0.0176, -0.0516,  0.0358, -0.0039,  0.0257,  0.0114, -0.0099,  0.0102,\n",
      "         0.0146, -0.0110, -0.0032, -0.0241,  0.0197,  0.0439, -0.0091, -0.0334,\n",
      "         0.0391, -0.0081, -0.0173, -0.0296, -0.0151, -0.0272, -0.0182, -0.0454,\n",
      "        -0.0183,  0.0107, -0.0072, -0.0023, -0.0468, -0.0361,  0.0071, -0.0073,\n",
      "         0.0136, -0.0105,  0.0195,  0.0308, -0.0276, -0.0029,  0.0083, -0.0300,\n",
      "        -0.0148,  0.0102,  0.0051,  0.0024,  0.0237, -0.0147,  0.0249,  0.0103],\n",
      "       device='cuda:0')\n",
      "cnn.weight tensor([[[-5.3593e-02, -4.8764e-02, -3.8059e-02],\n",
      "         [ 7.8583e-02,  1.0603e-01,  6.0405e-02],\n",
      "         [-4.2029e-02, -9.4954e-03,  2.4727e-03],\n",
      "         ...,\n",
      "         [ 4.1851e-02,  3.1736e-02, -3.8982e-02],\n",
      "         [ 1.0560e-01,  4.2472e-02,  1.4237e-02],\n",
      "         [-5.1806e-02,  1.3979e-02,  9.0593e-03]],\n",
      "\n",
      "        [[-7.3005e-02, -2.8420e-02,  9.2407e-03],\n",
      "         [-2.6043e-03,  1.7323e-02, -2.1057e-02],\n",
      "         [-5.1030e-02, -2.0300e-03, -5.7921e-02],\n",
      "         ...,\n",
      "         [-1.4620e-02, -4.5737e-02,  1.9085e-02],\n",
      "         [ 5.8846e-02,  2.3952e-02,  2.9169e-02],\n",
      "         [ 3.3591e-02,  5.6200e-02, -4.0225e-02]],\n",
      "\n",
      "        [[-7.1722e-02, -3.7938e-02, -3.4340e-02],\n",
      "         [ 8.4951e-02,  4.2125e-02,  1.4991e-02],\n",
      "         [-5.2408e-02, -7.5336e-03,  2.2736e-02],\n",
      "         ...,\n",
      "         [-1.4993e-02, -3.8112e-03, -1.2959e-02],\n",
      "         [ 6.4889e-02,  3.7962e-02,  5.0375e-02],\n",
      "         [ 1.2546e-02,  2.6027e-02,  3.1219e-02]],\n",
      "\n",
      "        ...,\n",
      "\n",
      "        [[ 7.6710e-03, -1.5999e-02,  3.1738e-02],\n",
      "         [-3.5620e-03,  1.8863e-02,  9.2133e-03],\n",
      "         [-1.5763e-02,  3.3523e-02, -3.1413e-03],\n",
      "         ...,\n",
      "         [-5.1585e-02,  1.1754e-03, -4.0854e-02],\n",
      "         [-3.3314e-03,  5.1935e-02, -2.8329e-02],\n",
      "         [-4.9236e-02, -4.8706e-03, -5.1164e-02]],\n",
      "\n",
      "        [[-5.3936e-02, -1.1745e-02, -4.8902e-02],\n",
      "         [-7.1910e-02,  1.1860e-02,  1.1640e-02],\n",
      "         [-3.0083e-02, -5.7413e-02, -9.4818e-05],\n",
      "         ...,\n",
      "         [-5.5101e-04, -1.7439e-02,  7.0689e-02],\n",
      "         [ 9.5052e-03,  3.8212e-02,  2.2336e-02],\n",
      "         [ 6.4960e-02,  4.5228e-02,  2.4570e-02]],\n",
      "\n",
      "        [[-6.3602e-02,  5.7853e-03, -2.6508e-02],\n",
      "         [ 2.6802e-02,  2.4010e-02,  5.1656e-02],\n",
      "         [-6.2957e-02, -1.5284e-02,  3.3253e-03],\n",
      "         ...,\n",
      "         [ 5.4290e-02,  6.4685e-02,  6.1515e-02],\n",
      "         [ 3.3159e-02,  2.2970e-02,  3.9876e-02],\n",
      "         [ 4.1033e-03, -4.6142e-02,  3.6313e-02]]], device='cuda:0')\n",
      "cnn.bias tensor([ 0.0373, -0.0398, -0.0445, -0.0503, -0.0387, -0.0128, -0.0281, -0.0554,\n",
      "        -0.0471, -0.0095, -0.0112,  0.0502,  0.0088,  0.0535, -0.0301,  0.0682,\n",
      "        -0.0277, -0.0014,  0.0483,  0.0451, -0.0274,  0.0643,  0.0031,  0.0176,\n",
      "         0.0146,  0.0240, -0.0410, -0.0526, -0.0126, -0.0296, -0.0120,  0.0436,\n",
      "         0.0257,  0.0552, -0.0051, -0.0119, -0.0427,  0.0199,  0.0171, -0.0151,\n",
      "         0.0078,  0.0307, -0.0327,  0.0189, -0.0113,  0.0043, -0.0528,  0.0172,\n",
      "        -0.0278,  0.0040,  0.0013, -0.0273, -0.0233, -0.0515,  0.0155, -0.0516,\n",
      "         0.0195,  0.0455,  0.0176,  0.0102,  0.0482,  0.0175, -0.0277, -0.0142,\n",
      "        -0.0202,  0.0397,  0.0421,  0.0378, -0.0663,  0.0256, -0.0151, -0.0300,\n",
      "        -0.0208, -0.0372, -0.0522, -0.0140, -0.0205,  0.0577, -0.0579, -0.0355,\n",
      "         0.0031, -0.0454, -0.0136,  0.0419,  0.0354, -0.0377,  0.0070,  0.0177,\n",
      "        -0.0426, -0.0349, -0.0089, -0.0223,  0.0425, -0.0142,  0.0449, -0.0418,\n",
      "        -0.0322,  0.0270,  0.0184,  0.0241, -0.0049, -0.0386,  0.0457, -0.0354,\n",
      "         0.0461,  0.0290, -0.0077,  0.0265, -0.0420,  0.0313, -0.0181,  0.0137,\n",
      "         0.0062, -0.0189,  0.0213,  0.0465, -0.0542, -0.0184, -0.0622, -0.0022,\n",
      "        -0.0349,  0.0435, -0.0288, -0.0213,  0.0544,  0.0395, -0.0291, -0.0061],\n",
      "       device='cuda:0')\n",
      "cnn2.weight tensor([[[ 7.2025e-03,  2.1048e-02, -1.4004e-02,  1.4898e-02,  3.8520e-02],\n",
      "         [-4.6636e-02, -6.3539e-03,  9.6171e-03, -4.6868e-02, -4.4330e-02],\n",
      "         [ 7.0558e-03, -2.9889e-02,  2.7491e-02,  5.5042e-02,  2.4653e-02],\n",
      "         ...,\n",
      "         [-3.9926e-02, -1.9073e-02, -3.1968e-02, -1.9545e-02,  2.1143e-02],\n",
      "         [ 1.2788e-02, -1.5205e-02,  5.7420e-03, -4.7435e-02,  1.1221e-02],\n",
      "         [-4.8636e-03, -5.7720e-02, -1.9406e-02, -3.2285e-02, -3.6806e-02]],\n",
      "\n",
      "        [[-3.4380e-03,  8.0554e-04, -3.2502e-02,  2.6506e-02,  7.4305e-03],\n",
      "         [ 1.1926e-02,  3.5305e-03,  3.3550e-02,  8.9479e-03,  1.2621e-02],\n",
      "         [ 2.9770e-02,  1.8224e-02,  2.6938e-02,  1.7249e-02, -5.0226e-02],\n",
      "         ...,\n",
      "         [ 1.8196e-02,  2.1494e-02,  7.9512e-03, -2.1722e-02, -1.4847e-02],\n",
      "         [ 1.7032e-02, -3.2809e-02,  3.2265e-03,  4.0059e-02, -1.3022e-02],\n",
      "         [-1.6828e-03, -4.1411e-03, -2.9587e-02,  1.2609e-03,  2.3980e-02]],\n",
      "\n",
      "        [[-2.2028e-02,  5.7848e-03,  1.7288e-02, -2.4735e-02,  6.4386e-05],\n",
      "         [-1.5542e-02, -7.2006e-03,  1.7500e-02,  3.8144e-02, -3.0326e-02],\n",
      "         [ 5.7155e-03,  2.7110e-02,  2.8934e-02,  5.9264e-03,  8.9546e-03],\n",
      "         ...,\n",
      "         [-5.6502e-02, -1.2459e-02,  2.4167e-02, -1.4014e-02, -1.1475e-02],\n",
      "         [-6.2821e-03, -7.3463e-03, -2.0361e-02,  2.2585e-02, -1.5079e-02],\n",
      "         [-2.1522e-03, -1.4628e-02, -1.9622e-02, -1.1842e-02, -2.0429e-02]],\n",
      "\n",
      "        ...,\n",
      "\n",
      "        [[ 1.5491e-03,  2.8334e-02,  2.9701e-02,  3.7400e-02, -3.9822e-02],\n",
      "         [-1.9598e-02, -9.4020e-04, -1.2146e-02, -1.5262e-02, -2.4166e-02],\n",
      "         [-4.0795e-02, -1.1576e-02, -4.1954e-02, -2.9056e-02,  2.2194e-03],\n",
      "         ...,\n",
      "         [-4.6093e-02, -2.4410e-02, -1.2827e-02,  2.9413e-02,  4.6131e-02],\n",
      "         [ 2.9149e-02,  2.7783e-02,  1.7046e-02,  3.1231e-02,  2.1086e-02],\n",
      "         [-7.5405e-02, -4.2794e-02,  8.9403e-03, -1.2203e-02,  1.1495e-03]],\n",
      "\n",
      "        [[-5.5477e-03, -4.0092e-02, -9.4060e-03, -2.3788e-02,  1.4245e-02],\n",
      "         [-8.1288e-03, -1.5845e-02,  4.2509e-02,  5.5504e-02,  1.4285e-02],\n",
      "         [-1.0224e-02,  3.4247e-03,  2.1398e-03, -6.4607e-03,  1.3966e-02],\n",
      "         ...,\n",
      "         [ 6.1434e-02,  4.1868e-02,  2.3803e-02,  5.0865e-02,  2.2518e-02],\n",
      "         [ 1.2711e-02,  8.5737e-03,  1.9264e-02,  9.6188e-03,  1.2032e-02],\n",
      "         [-1.1393e-02,  2.2123e-02,  2.9168e-02,  2.4580e-02, -1.8422e-02]],\n",
      "\n",
      "        [[-3.8246e-02, -4.5728e-02, -2.5396e-02, -2.7734e-02,  4.2000e-03],\n",
      "         [-3.6022e-02, -2.4608e-02, -3.9883e-02, -4.7035e-03, -1.1950e-02],\n",
      "         [-1.6076e-02, -3.2135e-02, -4.4598e-02, -1.3388e-02, -1.1634e-02],\n",
      "         ...,\n",
      "         [-5.3922e-02, -4.7893e-02,  1.6844e-02, -3.3442e-02, -2.7379e-02],\n",
      "         [ 2.1891e-02,  1.4517e-02, -9.5226e-03,  1.5397e-02,  2.3295e-02],\n",
      "         [-2.8876e-02, -2.9636e-02,  3.2917e-02,  1.0551e-02,  1.9116e-02]]],\n",
      "       device='cuda:0')\n",
      "cnn2.bias tensor([-0.0184,  0.0507, -0.0187, -0.0048, -0.0363, -0.0228,  0.0312,  0.0385,\n",
      "         0.0057,  0.0208, -0.0328, -0.0333,  0.0006,  0.0161,  0.0275,  0.0323,\n",
      "        -0.0365,  0.0320,  0.0062,  0.0191, -0.0124,  0.0235,  0.0134, -0.0498,\n",
      "        -0.0379,  0.0114,  0.0148, -0.0040,  0.0063, -0.0031,  0.0342, -0.0299,\n",
      "         0.0255,  0.0453, -0.0151,  0.0140, -0.0032, -0.0217,  0.0072, -0.0396,\n",
      "        -0.0479, -0.0287, -0.0361,  0.0044,  0.0328,  0.0278, -0.0260,  0.0336,\n",
      "         0.0290, -0.0008, -0.0035, -0.0260,  0.0054,  0.0043, -0.0344, -0.0149,\n",
      "        -0.0033,  0.0271, -0.0053,  0.0053, -0.0289,  0.0159,  0.0128, -0.0302,\n",
      "         0.0118, -0.0373, -0.0176,  0.0187, -0.0339, -0.0005, -0.0236, -0.0281,\n",
      "        -0.0017, -0.0258, -0.0066,  0.0070,  0.0315,  0.0212, -0.0167, -0.0065,\n",
      "         0.0250,  0.0041, -0.0285, -0.0114, -0.0462,  0.0013, -0.0131, -0.0102,\n",
      "         0.0180,  0.0101, -0.0273, -0.0022, -0.0032, -0.0148,  0.0075,  0.0029,\n",
      "         0.0157,  0.0321, -0.0040,  0.0084,  0.0199, -0.0190, -0.0293,  0.0078,\n",
      "        -0.0058,  0.0199,  0.0362, -0.0349,  0.0134, -0.0314,  0.0407, -0.0144,\n",
      "        -0.0178,  0.0289,  0.0449,  0.0011, -0.0017, -0.0100, -0.0178, -0.0004,\n",
      "        -0.0019,  0.0296, -0.0528, -0.0303,  0.0304,  0.0072, -0.0363,  0.0211],\n",
      "       device='cuda:0')\n",
      "cnn3.weight tensor([[[-3.4158e-02, -2.9960e-02, -2.3975e-02,  ...,  5.1889e-02,\n",
      "           6.3139e-02,  1.9987e-02],\n",
      "         [-2.2438e-02, -2.6879e-02, -4.2150e-02,  ..., -4.8724e-02,\n",
      "          -1.1846e-02, -6.1417e-02],\n",
      "         [ 1.3166e-02,  7.3527e-03,  3.8947e-02,  ...,  8.4643e-03,\n",
      "           7.5177e-02,  2.1010e-02],\n",
      "         ...,\n",
      "         [-2.5037e-02, -2.5402e-02,  2.2667e-03,  ...,  2.4140e-02,\n",
      "           3.6873e-02,  3.4318e-02],\n",
      "         [ 5.9103e-04,  4.5695e-03,  2.4233e-03,  ...,  1.4943e-02,\n",
      "           9.7584e-03, -2.8191e-02],\n",
      "         [ 2.0213e-02, -2.9494e-02, -1.7882e-02,  ...,  1.2905e-02,\n",
      "           1.5772e-02,  3.4531e-02]],\n",
      "\n",
      "        [[-6.1206e-02, -1.6231e-02, -3.1878e-02,  ...,  2.3067e-02,\n",
      "           2.6344e-02, -1.5468e-02],\n",
      "         [ 3.4764e-02,  1.2073e-02,  2.3650e-02,  ..., -2.5131e-02,\n",
      "          -2.5163e-02, -4.1948e-02],\n",
      "         [ 4.1287e-02,  2.8055e-02,  2.8741e-02,  ..., -6.8615e-03,\n",
      "           8.1965e-03,  4.3820e-02],\n",
      "         ...,\n",
      "         [ 1.7226e-02, -1.6327e-02, -1.8401e-02,  ...,  2.0281e-02,\n",
      "          -1.5291e-02,  1.4624e-02],\n",
      "         [ 6.4090e-02,  2.0036e-02,  6.4522e-03,  ..., -2.9063e-02,\n",
      "          -1.4095e-03, -1.2462e-02],\n",
      "         [ 2.5361e-02,  4.9379e-03,  2.1918e-02,  ...,  3.9643e-02,\n",
      "          -1.7423e-02,  2.5351e-02]],\n",
      "\n",
      "        [[ 4.6833e-02,  2.3242e-02, -4.6655e-03,  ..., -2.4820e-02,\n",
      "          -3.6378e-02,  9.2994e-03],\n",
      "         [-1.7714e-02,  1.7879e-02,  1.9710e-02,  ..., -1.7371e-02,\n",
      "          -3.2404e-02, -2.8720e-02],\n",
      "         [ 5.1276e-02,  1.9009e-02,  4.6027e-02,  ..., -1.5179e-02,\n",
      "          -9.0407e-03, -1.8496e-02],\n",
      "         ...,\n",
      "         [-3.7861e-02,  1.7029e-02, -9.4358e-03,  ...,  1.4108e-02,\n",
      "           5.9463e-02,  4.0762e-02],\n",
      "         [-2.8745e-02, -1.6072e-02, -3.6225e-02,  ...,  1.7673e-02,\n",
      "          -2.4860e-02,  6.4377e-03],\n",
      "         [-1.3713e-02,  1.3920e-02, -1.1382e-02,  ..., -4.1647e-03,\n",
      "           3.0998e-02,  3.8186e-02]],\n",
      "\n",
      "        ...,\n",
      "\n",
      "        [[ 9.5245e-03, -3.2119e-03, -1.1291e-02,  ...,  1.9917e-02,\n",
      "           2.2122e-02, -3.7169e-03],\n",
      "         [ 1.5619e-03,  2.8057e-03, -1.0726e-02,  ...,  4.3810e-02,\n",
      "           3.6606e-03,  1.3189e-02],\n",
      "         [ 5.0661e-02,  1.0383e-02, -2.8461e-02,  ...,  1.4229e-02,\n",
      "           2.7734e-02, -2.4743e-02],\n",
      "         ...,\n",
      "         [ 2.3561e-03, -2.7086e-02, -3.2723e-02,  ...,  3.3210e-03,\n",
      "          -1.8458e-02, -1.6857e-02],\n",
      "         [ 3.1958e-02, -1.6337e-02, -6.1683e-03,  ...,  4.7554e-02,\n",
      "           4.7409e-02, -1.0497e-02],\n",
      "         [ 5.0533e-02, -4.3501e-02, -6.6520e-03,  ..., -2.3895e-02,\n",
      "           7.1582e-04,  1.2387e-02]],\n",
      "\n",
      "        [[-1.7922e-02, -4.7204e-02, -1.9443e-02,  ..., -3.8891e-02,\n",
      "          -5.2083e-02, -3.3787e-02],\n",
      "         [-3.0155e-02, -3.0659e-02,  8.1230e-04,  ...,  1.8765e-02,\n",
      "          -4.0464e-03, -8.7857e-03],\n",
      "         [ 3.3008e-02,  4.2680e-03,  2.9533e-02,  ...,  2.4346e-03,\n",
      "           4.2308e-02,  7.1133e-03],\n",
      "         ...,\n",
      "         [-1.5829e-02, -1.8865e-02,  2.0571e-02,  ...,  2.7339e-02,\n",
      "           1.5389e-03,  1.5880e-02],\n",
      "         [ 1.9295e-04, -2.0387e-02,  6.0396e-03,  ..., -4.6645e-03,\n",
      "           1.6006e-02,  6.8242e-03],\n",
      "         [ 7.9954e-02,  1.4225e-02, -3.5123e-05,  ..., -2.5211e-03,\n",
      "           3.4829e-02,  2.8937e-02]],\n",
      "\n",
      "        [[-3.2118e-02, -2.5935e-02,  1.5694e-03,  ...,  2.4331e-03,\n",
      "           1.2104e-02, -1.8355e-02],\n",
      "         [ 2.4093e-02,  4.8744e-02,  1.7472e-02,  ..., -1.7188e-02,\n",
      "           1.6997e-02,  1.4365e-02],\n",
      "         [-2.1499e-02,  1.1147e-02, -1.3249e-02,  ...,  8.8282e-03,\n",
      "           9.4961e-03, -2.3202e-02],\n",
      "         ...,\n",
      "         [ 2.0395e-02, -2.0230e-02, -1.1832e-02,  ..., -1.2177e-02,\n",
      "          -5.1972e-02, -4.4063e-02],\n",
      "         [ 1.8594e-02,  2.6052e-02, -1.5005e-03,  ...,  5.8434e-04,\n",
      "          -7.2524e-04, -2.6811e-02],\n",
      "         [ 4.5966e-02,  1.8128e-02,  1.1600e-03,  ...,  4.9799e-03,\n",
      "          -4.6618e-02, -1.4936e-02]]], device='cuda:0')\n",
      "cnn3.bias tensor([ 0.0329,  0.0218,  0.0391, -0.0084,  0.0198, -0.0250, -0.0065,  0.0270,\n",
      "        -0.0204, -0.0274, -0.0064, -0.0124,  0.0329,  0.0321, -0.0056,  0.0264,\n",
      "         0.0087,  0.0278,  0.0252, -0.0106,  0.0196,  0.0269, -0.0128, -0.0050,\n",
      "        -0.0353, -0.0304, -0.0050,  0.0149, -0.0056, -0.0299, -0.0175, -0.0094,\n",
      "        -0.0171, -0.0204, -0.0204,  0.0113,  0.0100, -0.0316, -0.0272,  0.0279,\n",
      "         0.0195, -0.0082, -0.0187,  0.0324,  0.0098,  0.0043,  0.0196, -0.0218,\n",
      "         0.0127,  0.0022, -0.0070, -0.0084, -0.0241,  0.0095,  0.0169,  0.0197,\n",
      "         0.0149, -0.0025,  0.0396,  0.0048, -0.0076,  0.0099, -0.0211,  0.0043,\n",
      "        -0.0256,  0.0211, -0.0326,  0.0282, -0.0309, -0.0103, -0.0096, -0.0146,\n",
      "         0.0049,  0.0030, -0.0216, -0.0274,  0.0166,  0.0266, -0.0121, -0.0155,\n",
      "        -0.0282, -0.0164,  0.0173,  0.0226,  0.0220, -0.0234, -0.0108,  0.0139,\n",
      "         0.0159,  0.0294,  0.0135,  0.0174,  0.0096, -0.0150,  0.0236,  0.0082,\n",
      "        -0.0214, -0.0168,  0.0445,  0.0032, -0.0263, -0.0110,  0.0091,  0.0124,\n",
      "         0.0234,  0.0193,  0.0354, -0.0206, -0.0209,  0.0366,  0.0268,  0.0025,\n",
      "         0.0203, -0.0288,  0.0366, -0.0146,  0.0374,  0.0186, -0.0022, -0.0042,\n",
      "         0.0220,  0.0160,  0.0006, -0.0064, -0.0116,  0.0147,  0.0100, -0.0038],\n",
      "       device='cuda:0')\n",
      "batchnorm.weight tensor([0.9887, 0.9860, 1.0352, 1.0044, 1.0035, 1.0181, 1.0046, 1.0015, 0.9541,\n",
      "        0.9869, 1.0257, 0.9925, 1.0045, 1.0192, 1.0122, 1.0135, 0.9650, 1.0210,\n",
      "        0.9849, 0.9985, 1.0044, 0.9936, 1.0357, 1.0364, 0.9628, 1.0508, 0.9968,\n",
      "        1.0042, 1.0051, 0.9917, 1.0124, 0.9710, 1.0255, 1.0390, 0.9811, 1.0327,\n",
      "        0.9673, 1.0410, 0.9611, 1.0039, 0.9401, 1.0140, 1.0238, 0.9264, 0.9981,\n",
      "        1.0109, 1.0176, 0.9965, 0.9954, 1.0110, 1.0392, 1.0325, 0.9801, 1.0105,\n",
      "        1.0067, 1.0088, 1.0044, 1.0060, 1.0263, 1.0118, 0.9999, 1.0565, 0.9398,\n",
      "        0.9812, 1.0193, 0.9988, 1.0116, 1.0226, 1.0420, 1.0170, 0.9719, 0.9727,\n",
      "        1.0114, 1.0147, 1.0100, 1.0311, 1.0260, 1.0168, 0.9956, 1.0457, 1.0004,\n",
      "        0.9932, 1.0105, 0.9901, 1.0023, 1.0413, 0.9776, 0.9309, 1.0028, 1.0304,\n",
      "        1.0288, 1.0273, 0.9806, 1.0187, 1.0130, 1.0398, 0.9798, 1.0219, 1.0376,\n",
      "        1.0253, 0.9891, 1.0054, 1.0254, 0.9568, 1.0352, 1.0364, 1.0258, 0.9948,\n",
      "        1.0164, 1.0249, 1.0587, 1.0236, 1.0052, 1.0340, 1.0388, 0.9727, 0.9830,\n",
      "        1.0203, 1.0128, 1.0067, 0.9852, 1.0087, 1.0056, 1.0194, 1.0414, 0.9962,\n",
      "        0.9618, 0.9893, 1.0049, 0.9900, 1.0165, 0.9607, 1.0220, 1.0371, 1.0270,\n",
      "        0.9995, 0.9900, 1.0090, 1.0101, 1.0552, 1.0113, 0.9699, 1.0039, 1.0142,\n",
      "        1.0090, 0.9947, 1.0112, 0.9472, 1.0333, 1.0371, 1.0025, 1.0236, 0.9548,\n",
      "        1.0132, 1.0056, 1.0201, 1.0341, 0.9867, 1.0011, 1.0216, 1.0359, 1.0319,\n",
      "        0.9470, 1.0249, 1.0155, 0.9799, 0.9677, 1.0074, 1.0215, 1.0337, 0.9469,\n",
      "        1.0118, 1.0260, 0.9992, 1.0352, 1.0154, 1.0018, 1.0213, 1.0314, 1.0021,\n",
      "        1.0071, 1.0042, 0.9969, 0.9942, 1.0064, 1.0202, 1.0242, 1.0360, 1.0279,\n",
      "        1.0270, 1.0285, 1.0483, 1.0089, 1.0012, 0.9684, 0.9756, 1.0211, 1.0081,\n",
      "        1.0309, 1.0582, 1.0302, 1.0136, 1.0006, 1.0096, 1.0252, 1.0198, 1.0183,\n",
      "        1.0349, 0.9842, 0.9778, 1.0375, 1.0197, 0.9834, 1.0298, 0.9675, 1.0324,\n",
      "        1.0201, 0.9942, 0.9946, 0.9871, 0.9823, 0.9836, 1.0183, 1.0369, 1.0408,\n",
      "        0.9782, 1.0350, 1.0349, 1.0306, 1.0143, 0.9943, 1.0250, 1.0315, 1.0009,\n",
      "        0.9911, 1.0133, 1.0271, 1.0157, 1.0164, 1.0204, 1.0374, 1.0021, 1.0234,\n",
      "        1.0241, 1.0330, 1.0067, 1.0291, 1.0307, 0.9980, 0.9940, 1.0168, 1.0308,\n",
      "        1.0240, 1.0250, 0.9879, 1.0222, 1.0145, 1.0226, 1.0312, 1.0181, 1.0224,\n",
      "        1.0367, 1.0321, 1.0584, 1.0179, 1.0259, 1.0150, 1.0490, 1.0486, 1.0137,\n",
      "        1.0965, 1.0347, 1.0215, 0.9952, 1.0001, 1.0052, 0.9905, 1.0266, 1.0386,\n",
      "        0.9445, 1.0232, 1.0443, 1.0275, 0.9838, 1.0540, 1.0402, 1.0081, 0.9648,\n",
      "        0.9781, 1.0018, 0.9593, 1.0130, 1.0129, 1.0666, 1.0255, 1.0117, 0.9988,\n",
      "        1.0262, 0.9889, 1.0523, 1.0050, 1.0159, 1.0242, 0.9993, 1.0134, 1.0147,\n",
      "        1.0340, 1.0268, 1.0079, 1.0126, 1.0062, 1.0587, 1.0346, 1.0048, 1.0217,\n",
      "        1.0260, 1.0015, 1.0317, 1.0318, 0.9649, 1.0325, 1.0276, 1.0258, 1.0441,\n",
      "        1.0407, 1.0146, 1.0072, 1.0259, 1.0349, 1.0465, 1.0323, 1.0244, 1.0387,\n",
      "        0.9976, 1.0288, 0.9801, 0.9859, 0.9966, 1.0257, 0.9796, 1.0172, 1.0197,\n",
      "        1.0110, 1.0293, 1.0045, 1.0227, 1.0260, 0.9939, 0.9744, 1.0089, 1.0314,\n",
      "        1.0198, 1.0403, 1.0159, 1.0477, 1.0230, 1.0203, 0.9797, 0.9968, 1.0246,\n",
      "        1.0156, 1.0234, 1.0542, 1.0294, 1.0231, 1.0386, 0.9791, 1.0212, 1.0491,\n",
      "        1.0256, 1.0358, 1.0032, 1.0088, 1.0296, 1.0150, 0.9962, 1.0051, 1.0530,\n",
      "        1.0505, 1.0141, 1.0050, 1.0330, 1.0210, 1.0461], device='cuda:0')\n",
      "batchnorm.bias tensor([-0.0319, -0.0394, -0.0009, -0.0168, -0.0117, -0.0105,  0.0018, -0.0276,\n",
      "        -0.0481, -0.0537,  0.0018, -0.0190, -0.0279,  0.0023, -0.0187, -0.0209,\n",
      "        -0.0372, -0.0209, -0.0201, -0.0101, -0.0038, -0.0204,  0.0167,  0.0111,\n",
      "        -0.0345,  0.0160, -0.0208, -0.0266, -0.0297, -0.0057, -0.0046, -0.0620,\n",
      "         0.0094, -0.0051, -0.0361,  0.0191, -0.0379, -0.0023, -0.0545, -0.0147,\n",
      "        -0.0912, -0.0133, -0.0122, -0.0780, -0.0012,  0.0142, -0.0164, -0.0235,\n",
      "        -0.0076, -0.0305,  0.0253, -0.0118, -0.0369, -0.0077, -0.0238, -0.0203,\n",
      "        -0.0231, -0.0192, -0.0026,  0.0054, -0.0107,  0.0401, -0.0690, -0.0394,\n",
      "        -0.0127, -0.0152,  0.0113, -0.0214,  0.0170,  0.0111, -0.0539, -0.0628,\n",
      "        -0.0039, -0.0150, -0.0112,  0.0047,  0.0292, -0.0080, -0.0168,  0.0026,\n",
      "        -0.0276, -0.0403, -0.0079, -0.0322, -0.0207,  0.0153, -0.0337, -0.0659,\n",
      "        -0.0255,  0.0096,  0.0089,  0.0030, -0.0453,  0.0071, -0.0162, -0.0030,\n",
      "        -0.0365, -0.0036,  0.0138, -0.0014, -0.0110, -0.0309, -0.0031, -0.0605,\n",
      "         0.0018,  0.0090,  0.0092, -0.0144, -0.0274,  0.0060,  0.0192,  0.0082,\n",
      "        -0.0195,  0.0074,  0.0076, -0.0522, -0.0238,  0.0067, -0.0204, -0.0263,\n",
      "        -0.0206, -0.0016, -0.0103, -0.0025,  0.0193, -0.0133, -0.0450, -0.0357,\n",
      "         0.0140, -0.0225,  0.0007, -0.0498, -0.0017,  0.0143,  0.0200, -0.0297,\n",
      "        -0.0511, -0.0169,  0.0045,  0.0163, -0.0201, -0.0379, -0.0144,  0.0023,\n",
      "        -0.0248, -0.0255, -0.0118, -0.0650, -0.0052,  0.0077, -0.0385, -0.0032,\n",
      "        -0.0883, -0.0212, -0.0271, -0.0137,  0.0025, -0.0521,  0.0014, -0.0032,\n",
      "         0.0106,  0.0194, -0.0774, -0.0161, -0.0131, -0.0398, -0.0473, -0.0007,\n",
      "        -0.0049,  0.0348, -0.0590,  0.0025, -0.0074, -0.0136,  0.0006, -0.0159,\n",
      "        -0.0234, -0.0010, -0.0081, -0.0212, -0.0357, -0.0103, -0.0339, -0.0274,\n",
      "        -0.0225, -0.0213,  0.0004,  0.0132,  0.0199, -0.0045, -0.0166,  0.0014,\n",
      "        -0.0044, -0.0338, -0.0388, -0.0453,  0.0059, -0.0103,  0.0009, -0.0074,\n",
      "         0.0360, -0.0187, -0.0314, -0.0083, -0.0140, -0.0285, -0.0009,  0.0010,\n",
      "        -0.0345, -0.0138, -0.0030, -0.0067, -0.0406,  0.0077, -0.0417,  0.0012,\n",
      "        -0.0045, -0.0446, -0.0229, -0.0280, -0.0330, -0.0175, -0.0098,  0.0253,\n",
      "         0.0073, -0.0339,  0.0011,  0.0104, -0.0172, -0.0121, -0.0050, -0.0158,\n",
      "        -0.0051,  0.0045, -0.0211, -0.0460,  0.0136,  0.0037, -0.0206, -0.0105,\n",
      "        -0.0083, -0.0214, -0.0201, -0.0093,  0.0109, -0.0227, -0.0129,  0.0168,\n",
      "        -0.0381, -0.0287, -0.0102,  0.0008, -0.0109,  0.0051, -0.0466, -0.0102,\n",
      "         0.0280, -0.0123,  0.0084,  0.0192, -0.0108,  0.0263,  0.0013,  0.0040,\n",
      "        -0.0155,  0.0084, -0.0216,  0.0150,  0.0032, -0.0214,  0.0191,  0.0061,\n",
      "        -0.0128, -0.0003, -0.0479, -0.0292, -0.0521, -0.0022,  0.0011, -0.0787,\n",
      "        -0.0076, -0.0012, -0.0049, -0.0088,  0.0038,  0.0146, -0.0261, -0.0475,\n",
      "        -0.0472, -0.0485, -0.0489,  0.0038, -0.0030,  0.0104,  0.0227, -0.0051,\n",
      "        -0.0176,  0.0238, -0.0228,  0.0116, -0.0313, -0.0206, -0.0026, -0.0393,\n",
      "        -0.0118, -0.0203, -0.0084, -0.0007, -0.0391,  0.0079, -0.0230,  0.0132,\n",
      "         0.0286, -0.0014,  0.0110, -0.0050, -0.0141, -0.0057, -0.0105, -0.0475,\n",
      "        -0.0187, -0.0289, -0.0378, -0.0021,  0.0015, -0.0013, -0.0053, -0.0069,\n",
      "         0.0191, -0.0118,  0.0045, -0.0084, -0.0162, -0.0194, -0.0327, -0.0311,\n",
      "        -0.0467, -0.0011, -0.0094, -0.0411,  0.0034, -0.0073, -0.0111,  0.0106,\n",
      "        -0.0153, -0.0126, -0.0036, -0.0252, -0.0192, -0.0186,  0.0076, -0.0060,\n",
      "         0.0096, -0.0135, -0.0030, -0.0143, -0.0097, -0.0584, -0.0284, -0.0194,\n",
      "         0.0245, -0.0041,  0.0080,  0.0019, -0.0067, -0.0121, -0.0259,  0.0004,\n",
      "        -0.0041, -0.0172,  0.0240, -0.0092, -0.0074,  0.0206, -0.0082, -0.0219,\n",
      "         0.0098,  0.0077,  0.0252,  0.0135, -0.0063,  0.0072, -0.0002,  0.0025],\n",
      "       device='cuda:0')\n",
      "lstm.weight_ih_l0 tensor([[-0.0149,  0.0210, -0.0025,  ...,  0.0059, -0.0211,  0.0461],\n",
      "        [ 0.0093, -0.0492, -0.0581,  ..., -0.0389, -0.0622, -0.0771],\n",
      "        [-0.0456, -0.0435, -0.0524,  ..., -0.0161, -0.0184, -0.0234],\n",
      "        ...,\n",
      "        [ 0.0320, -0.0136, -0.0875,  ...,  0.0453,  0.0852,  0.0189],\n",
      "        [-0.0138,  0.0465, -0.0228,  ..., -0.0020,  0.0259,  0.0329],\n",
      "        [-0.0247, -0.1001, -0.0448,  ...,  0.0178,  0.0233,  0.0785]],\n",
      "       device='cuda:0')\n",
      "lstm.weight_hh_l0 tensor([[-0.0056,  0.0070,  0.0332,  ..., -0.0567,  0.0150,  0.0321],\n",
      "        [-0.0143, -0.0345,  0.0378,  ..., -0.0052,  0.0503, -0.0305],\n",
      "        [-0.0251, -0.0329, -0.0144,  ...,  0.0120, -0.0183, -0.0108],\n",
      "        ...,\n",
      "        [ 0.0608, -0.0403,  0.0277,  ...,  0.0022,  0.0151, -0.0967],\n",
      "        [-0.0320,  0.0014, -0.0209,  ..., -0.0604,  0.0627,  0.0149],\n",
      "        [-0.0179, -0.0103,  0.0051,  ..., -0.0725,  0.0344,  0.0601]],\n",
      "       device='cuda:0')\n",
      "lstm.bias_ih_l0 tensor([-0.0028,  0.0047, -0.0164,  ..., -0.0453, -0.0527,  0.0207],\n",
      "       device='cuda:0')\n",
      "lstm.bias_hh_l0 tensor([-0.0434, -0.0444, -0.0621,  ..., -0.0261, -0.0500,  0.0287],\n",
      "       device='cuda:0')\n",
      "lstm.weight_ih_l1 tensor([[ 0.0451, -0.0076,  0.0020,  ...,  0.0877, -0.0004, -0.0700],\n",
      "        [ 0.0277, -0.0062,  0.0055,  ..., -0.0314, -0.0310,  0.0959],\n",
      "        [-0.0081,  0.0279, -0.0183,  ...,  0.0197, -0.0083, -0.1146],\n",
      "        ...,\n",
      "        [-0.0011, -0.0102,  0.0193,  ...,  0.0738, -0.0083, -0.0104],\n",
      "        [-0.0402,  0.0362,  0.0085,  ..., -0.0053,  0.0205, -0.0196],\n",
      "        [-0.0216, -0.0269, -0.0143,  ..., -0.0397, -0.0011,  0.0372]],\n",
      "       device='cuda:0')\n",
      "lstm.weight_hh_l1 tensor([[-0.0043,  0.0480,  0.0434,  ..., -0.0555,  0.0044,  0.0178],\n",
      "        [-0.0526, -0.0380,  0.0203,  ...,  0.0199,  0.0430, -0.0311],\n",
      "        [ 0.0533,  0.0402,  0.0233,  ...,  0.0248, -0.0175,  0.0296],\n",
      "        ...,\n",
      "        [-0.0242,  0.0162, -0.0098,  ...,  0.0248,  0.0469,  0.0140],\n",
      "        [-0.0096, -0.0530, -0.0528,  ..., -0.0163, -0.0023, -0.0037],\n",
      "        [ 0.0193, -0.0135, -0.0300,  ..., -0.0054, -0.0648,  0.0144]],\n",
      "       device='cuda:0')\n",
      "lstm.bias_ih_l1 tensor([-0.0109, -0.0366, -0.0583,  ..., -0.0638, -0.0017, -0.0360],\n",
      "       device='cuda:0')\n",
      "lstm.bias_hh_l1 tensor([-0.0032,  0.0090, -0.0172,  ..., -0.0401,  0.0419,  0.0149],\n",
      "       device='cuda:0')\n",
      "linear.weight tensor([[-0.0835,  0.0162, -0.1024,  ...,  0.0996,  0.0975,  0.0821],\n",
      "        [ 0.0495,  0.0427,  0.0082,  ..., -0.0678,  0.0180, -0.0067],\n",
      "        [ 0.0565,  0.0293,  0.0726,  ...,  0.0059,  0.0070,  0.0418],\n",
      "        ...,\n",
      "        [-0.0691,  0.0069, -0.0151,  ..., -0.0429,  0.0763,  0.0520],\n",
      "        [ 0.0121, -0.0769,  0.0339,  ...,  0.0551, -0.0378, -0.0278],\n",
      "        [-0.0936,  0.0845, -0.0778,  ...,  0.0411,  0.0619,  0.0795]],\n",
      "       device='cuda:0')\n",
      "linear.bias tensor([-0.0655,  0.0324,  0.0521, -0.0215,  0.0352, -0.0425, -0.0719],\n",
      "       device='cuda:0')\n"
     ]
    }
   ],
   "source": [
    "for name, param in model.named_parameters():\n",
    "    if param.requires_grad:\n",
    "        print(name, param.data)"
   ]
  },
  {
   "cell_type": "code",
   "execution_count": null,
   "id": "59146b4e",
   "metadata": {},
   "outputs": [],
   "source": []
  }
 ],
 "metadata": {
  "kernelspec": {
   "display_name": "Python 3",
   "language": "python",
   "name": "python3"
  },
  "language_info": {
   "codemirror_mode": {
    "name": "ipython",
    "version": 3
   },
   "file_extension": ".py",
   "mimetype": "text/x-python",
   "name": "python",
   "nbconvert_exporter": "python",
   "pygments_lexer": "ipython3",
   "version": "3.7.12"
  }
 },
 "nbformat": 4,
 "nbformat_minor": 5
}
