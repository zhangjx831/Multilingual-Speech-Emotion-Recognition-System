{
 "cells": [
  {
   "cell_type": "code",
   "execution_count": 3,
   "id": "71f5535a",
   "metadata": {},
   "outputs": [],
   "source": [
    "import re\n",
    "import os\n",
    "import pandas as pd\n",
    "\n",
    "regex = re.compile(r'\\[.+\\]\\n', re.IGNORECASE)\n",
    "file_paths, file_names, emotions, audios = [], [], [], []\n",
    "emotion_map = {'anger': 'angry', 'happiness': 'happy', 'sadness': 'sad', 'fear': 'fear',\n",
    "              'disgust': 'disgust'}"
   ]
  },
  {
   "cell_type": "code",
   "execution_count": 4,
   "id": "cbaa6ae6",
   "metadata": {},
   "outputs": [
    {
     "name": "stdout",
     "output_type": "stream",
     "text": [
      "1.12.1\n",
      "0.12.1+cu113\n",
      "cuda\n"
     ]
    }
   ],
   "source": [
    "import torch\n",
    "import torchaudio\n",
    "\n",
    "print(torch.__version__)\n",
    "print(torchaudio.__version__)\n",
    "\n",
    "torch.random.manual_seed(0)\n",
    "device = torch.device(\"cuda\" if torch.cuda.is_available() else \"cpu\")\n",
    "\n",
    "print(device)"
   ]
  },
  {
   "cell_type": "code",
   "execution_count": 5,
   "id": "423059cb",
   "metadata": {},
   "outputs": [
    {
     "name": "stderr",
     "output_type": "stream",
     "text": [
      "Downloading: \"https://download.pytorch.org/torchaudio/models/hubert_fairseq_base_ls960.pth\" to /home/yc4007/.cache/torch/hub/checkpoints/hubert_fairseq_base_ls960.pth\n"
     ]
    },
    {
     "data": {
      "application/vnd.jupyter.widget-view+json": {
       "model_id": "34b719d777424b4a91099a409e034575",
       "version_major": 2,
       "version_minor": 0
      },
      "text/plain": [
       "  0%|          | 0.00/360M [00:00<?, ?B/s]"
      ]
     },
     "metadata": {},
     "output_type": "display_data"
    },
    {
     "name": "stdout",
     "output_type": "stream",
     "text": [
      "<class 'torchaudio.models.wav2vec2.model.Wav2Vec2Model'>\n",
      "16000\n"
     ]
    }
   ],
   "source": [
    "bundle = torchaudio.pipelines.HUBERT_BASE\n",
    "extractor = bundle.get_model()\n",
    "print(extractor.__class__)\n",
    "print(bundle.sample_rate)"
   ]
  },
  {
   "cell_type": "code",
   "execution_count": 6,
   "id": "aea12cf4",
   "metadata": {},
   "outputs": [
    {
     "data": {
      "text/plain": [
       "['anger',\n",
       " 'session_entries.csv',\n",
       " 'fear',\n",
       " 'Tools and Documentation',\n",
       " 'disgust',\n",
       " 'sadness',\n",
       " 'happiness']"
      ]
     },
     "execution_count": 6,
     "metadata": {},
     "output_type": "execute_result"
    }
   ],
   "source": [
    "import os\n",
    "os.listdir('../emotiondata/emotion_data')"
   ]
  },
  {
   "cell_type": "code",
   "execution_count": 7,
   "id": "59bd4a59",
   "metadata": {},
   "outputs": [],
   "source": [
    "# folder_list = ['anger', 'disgust', 'fear', 'happiness', 'sadness']\n",
    "# entries = []\n",
    "# for folder in folder_list:\n",
    "#     cur_file_list = os.listdir(f'../emotiondata/emotion_data/{folder}')\n",
    "#     for i in cur_file_list:\n",
    "#         if i == 's05 (3).wav':\n",
    "#             print(\"found\")\n",
    "#             continue\n",
    "#         entries.append(i)\n"
   ]
  },
  {
   "cell_type": "code",
   "execution_count": 8,
   "id": "21e0d473",
   "metadata": {},
   "outputs": [],
   "source": [
    "# import random\n",
    "# random.shuffle(entries)\n",
    "# session = []\n",
    "# equal_parts = (len(entries)-1)//5 # for equally split the entries into 5 parts\n",
    "# count = 0\n",
    "main_data_path = '../emotiondata/emotion_data'"
   ]
  },
  {
   "cell_type": "code",
   "execution_count": 9,
   "id": "e5c3c0db",
   "metadata": {},
   "outputs": [],
   "source": [
    "# #### Only Run once\n",
    "# from tqdm import tqdm \n",
    "# folder_map = {'a':'anger', 'd':'disgust', 'f':'fear', 'h':'happiness', 's':'sadness'}\n",
    "\n",
    "# file_paths = []\n",
    "# file_names = []\n",
    "# emotions = []\n",
    "# # audios = []\n",
    "# # labels = []\n",
    "\n",
    "\n",
    "# for i in tqdm(range(len(entries))):\n",
    "#     entry = entries[i]\n",
    "#     if \"wav\" not in entry:\n",
    "#         continue\n",
    "#     folder = folder_map[entry[0]]\n",
    "#     file_path = f'../emotiondata/emotion_data/{folder}/{entry}'\n",
    "#     emotion = emotion_map[folder]\n",
    "#     file_paths.append(file_path)\n",
    "#     file_names.append(entry)\n",
    "#     emotions.append(emotion)\n",
    "\n",
    "#     # assign session to it\n",
    "#     part = (count//equal_parts)%6 + 1\n",
    "#     if part == 6:\n",
    "#         part = 5\n",
    "#     session.append(part)\n",
    "#     count += 1\n",
    "\n",
    "\n",
    "# file = pd.DataFrame({'path':file_paths, 'name': file_names, 'emotion': emotions, 'session': session})\n",
    "# dataframe_path = main_data_path + '/session_entries_hubert.csv'\n",
    "# file.to_csv(dataframe_path)\n"
   ]
  },
  {
   "cell_type": "code",
   "execution_count": 10,
   "id": "2c791adf",
   "metadata": {},
   "outputs": [],
   "source": [
    "# os.listdir('../emotiondata/emotion_data')"
   ]
  },
  {
   "cell_type": "markdown",
   "id": "29c3c00d",
   "metadata": {},
   "source": [
    "# Extract Features using Models"
   ]
  },
  {
   "cell_type": "code",
   "execution_count": 11,
   "id": "0c9a5904",
   "metadata": {},
   "outputs": [
    {
     "data": {
      "text/html": [
       "<div>\n",
       "<style scoped>\n",
       "    .dataframe tbody tr th:only-of-type {\n",
       "        vertical-align: middle;\n",
       "    }\n",
       "\n",
       "    .dataframe tbody tr th {\n",
       "        vertical-align: top;\n",
       "    }\n",
       "\n",
       "    .dataframe thead th {\n",
       "        text-align: right;\n",
       "    }\n",
       "</style>\n",
       "<table border=\"1\" class=\"dataframe\">\n",
       "  <thead>\n",
       "    <tr style=\"text-align: right;\">\n",
       "      <th></th>\n",
       "      <th>path</th>\n",
       "      <th>name</th>\n",
       "      <th>emotion</th>\n",
       "      <th>session</th>\n",
       "    </tr>\n",
       "  </thead>\n",
       "  <tbody>\n",
       "    <tr>\n",
       "      <th>0</th>\n",
       "      <td>../emotiondata/emotion_data/happiness/h17 (5).wav</td>\n",
       "      <td>h17 (5).wav</td>\n",
       "      <td>happy</td>\n",
       "      <td>1</td>\n",
       "    </tr>\n",
       "    <tr>\n",
       "      <th>1</th>\n",
       "      <td>../emotiondata/emotion_data/happiness/h20 (2).wav</td>\n",
       "      <td>h20 (2).wav</td>\n",
       "      <td>happy</td>\n",
       "      <td>1</td>\n",
       "    </tr>\n",
       "    <tr>\n",
       "      <th>2</th>\n",
       "      <td>../emotiondata/emotion_data/disgust/d19 (4).wav</td>\n",
       "      <td>d19 (4).wav</td>\n",
       "      <td>disgust</td>\n",
       "      <td>1</td>\n",
       "    </tr>\n",
       "    <tr>\n",
       "      <th>3</th>\n",
       "      <td>../emotiondata/emotion_data/sadness/s12 (4).wav</td>\n",
       "      <td>s12 (4).wav</td>\n",
       "      <td>sad</td>\n",
       "      <td>1</td>\n",
       "    </tr>\n",
       "    <tr>\n",
       "      <th>4</th>\n",
       "      <td>../emotiondata/emotion_data/sadness/s01 (4).wav</td>\n",
       "      <td>s01 (4).wav</td>\n",
       "      <td>sad</td>\n",
       "      <td>1</td>\n",
       "    </tr>\n",
       "  </tbody>\n",
       "</table>\n",
       "</div>"
      ],
      "text/plain": [
       "                                                path         name  emotion  \\\n",
       "0  ../emotiondata/emotion_data/happiness/h17 (5).wav  h17 (5).wav    happy   \n",
       "1  ../emotiondata/emotion_data/happiness/h20 (2).wav  h20 (2).wav    happy   \n",
       "2    ../emotiondata/emotion_data/disgust/d19 (4).wav  d19 (4).wav  disgust   \n",
       "3    ../emotiondata/emotion_data/sadness/s12 (4).wav  s12 (4).wav      sad   \n",
       "4    ../emotiondata/emotion_data/sadness/s01 (4).wav  s01 (4).wav      sad   \n",
       "\n",
       "   session  \n",
       "0        1  \n",
       "1        1  \n",
       "2        1  \n",
       "3        1  \n",
       "4        1  "
      ]
     },
     "execution_count": 11,
     "metadata": {},
     "output_type": "execute_result"
    }
   ],
   "source": [
    "dataframe_path = main_data_path + '/session_entries.csv'\n",
    "file = pd.read_csv(dataframe_path)[['path', 'name', 'emotion', 'session']]\n",
    "file.head()"
   ]
  },
  {
   "cell_type": "code",
   "execution_count": 12,
   "id": "6978cd05",
   "metadata": {},
   "outputs": [
    {
     "name": "stderr",
     "output_type": "stream",
     "text": [
      "100%|████████████████████████████████████████████████████████████████████████████████████████████████████████████████████████████████████████████████████████████████████████████████████████████████████████████████████████████████████████████████████████████████████████████████████████████| 604/604 [04:55<00:00,  2.05it/s]\n"
     ]
    }
   ],
   "source": [
    "from tqdm import tqdm\n",
    "audios = []\n",
    "to_be_discarded = []\n",
    "discarded_name = []\n",
    "for i in tqdm(range(len(file['path']))):\n",
    "    path = file['path'][i]\n",
    "    wave, sr = torchaudio.load(path)\n",
    "    if sr != bundle.sample_rate:\n",
    "        wave = torchaudio.functional.resample(wave, sr, bundle.sample_rate)\n",
    "    with torch.inference_mode():\n",
    "        feature, _ = extractor.extract_features(wave)\n",
    "    \n",
    "    feature = [f[0] for f in feature]\n",
    "    audio = torch.stack(feature)\n",
    "    audios.append(audio)"
   ]
  },
  {
   "cell_type": "markdown",
   "id": "dbdb8425",
   "metadata": {},
   "source": [
    "# Load Data"
   ]
  },
  {
   "cell_type": "code",
   "execution_count": 13,
   "id": "ffbf03f9",
   "metadata": {},
   "outputs": [],
   "source": [
    "holdout = 5\n",
    "train = file[file['session'] != holdout]\n",
    "train_audios = [audios[i] for i in range(len(audios)) if file['session'][i] != holdout]\n",
    "test = file[file['session'] == holdout]\n",
    "test_audios = [audios[i] for i in range(len(audios)) if file['session'][i] == holdout]"
   ]
  },
  {
   "cell_type": "code",
   "execution_count": 14,
   "id": "9af2cf15",
   "metadata": {},
   "outputs": [],
   "source": [
    "class MyDataSet(torch.utils.data.Dataset):\n",
    "    def __init__(self, audios, labels, label_transform):\n",
    "        super(MyDataSet).__init__()\n",
    "        self.audios = audios\n",
    "        self.labels = labels\n",
    "        self.label_transform = label_transform\n",
    "        \n",
    "    def __getitem__(self, idx):\n",
    "        label = self.label_transform[self.labels[idx]]\n",
    "        audio = self.audios[idx]\n",
    "        length = audio.size(1)\n",
    "        return audio, length, label\n",
    "    \n",
    "    def __len__(self):\n",
    "        return len(self.labels)"
   ]
  },
  {
   "cell_type": "code",
   "execution_count": 15,
   "id": "9aea3ed4",
   "metadata": {},
   "outputs": [],
   "source": [
    "def collate_indic(data):\n",
    "    audios, lengths, labels = zip(*data)\n",
    "    max_len = max(lengths)\n",
    "    n_ftrs = audios[0].size(2)\n",
    "    n_dims = audios[0].size(0)\n",
    "    features = torch.zeros((len(audios), n_dims, max_len, n_ftrs))\n",
    "    labels = torch.tensor(labels)\n",
    "    lengths = torch.tensor(lengths)\n",
    "\n",
    "    for i in range(len(data)):\n",
    "        j, k = audios[i].size(1), audios[i].size(2)\n",
    "        features[i] = torch.cat([audios[i], torch.zeros((n_dims, max_len - j, k))], dim=1)\n",
    "\n",
    "    return features, lengths, labels"
   ]
  },
  {
   "cell_type": "code",
   "execution_count": 16,
   "id": "545e7590",
   "metadata": {},
   "outputs": [
    {
     "data": {
      "text/plain": [
       "{'angry': 0, 'happy': 1, 'sad': 2, 'fear': 3, 'disgust': 4}"
      ]
     },
     "execution_count": 16,
     "metadata": {},
     "output_type": "execute_result"
    }
   ],
   "source": [
    "categories = ['angry', 'happy', 'sad', 'fear', 'disgust']\n",
    "cate_dic = {}\n",
    "for i, cate in enumerate(categories):\n",
    "    cate_dic[cate] = i\n",
    "cate_dic"
   ]
  },
  {
   "cell_type": "code",
   "execution_count": 17,
   "id": "87e785c6",
   "metadata": {},
   "outputs": [],
   "source": [
    "from torch.utils.data import DataLoader\n",
    "\n",
    "train_dataset = MyDataSet(train_audios, train['emotion'].tolist(), cate_dic)\n",
    "trainloader_args = dict(batch_size=16, shuffle=True)\n",
    "train_dataloader = DataLoader(train_dataset, **trainloader_args, \n",
    "                              collate_fn=collate_indic)\n",
    "\n",
    "test_dataset = MyDataSet(test_audios, test['emotion'].tolist(), cate_dic)\n",
    "testloader_args = dict(batch_size=16, shuffle=True)\n",
    "test_dataloader = DataLoader(test_dataset, **testloader_args, \n",
    "                             collate_fn=collate_indic)"
   ]
  },
  {
   "cell_type": "markdown",
   "id": "9b0ac40d",
   "metadata": {},
   "source": [
    "# 3CNN+LSTM"
   ]
  },
  {
   "cell_type": "code",
   "execution_count": 18,
   "id": "27f5313d",
   "metadata": {},
   "outputs": [],
   "source": [
    "import torch.nn as nn\n",
    "import torch.nn.functional as F\n",
    "\n",
    "class ICASSP3CNN(nn.Module):\n",
    "    def __init__(self, vocab_size, dims = 12, embed_size=128, hidden_size=512, num_lstm_layers = 2, \n",
    "                 bidirectional = False, label_size = 5):\n",
    "        super().__init__()\n",
    "        self.n_layers = num_lstm_layers \n",
    "        self.hidden = hidden_size\n",
    "        self.bidirectional = bidirectional\n",
    "        \n",
    "        self.aggr = nn.Conv1d(in_channels=dims, out_channels=1, kernel_size=1)\n",
    "        \n",
    "        self.embed = nn.Linear(in_features = vocab_size, out_features = embed_size)\n",
    "\n",
    "        self.cnn  = nn.Conv1d(embed_size, embed_size, kernel_size=3, padding=1)\n",
    "        self.cnn2 = nn.Conv1d(embed_size, embed_size, kernel_size=5, padding=2)\n",
    "        self.cnn3 = nn.Conv1d(embed_size, embed_size, kernel_size=7, padding=3)\n",
    "\n",
    "        self.batchnorm = nn.BatchNorm1d(3 * embed_size)\n",
    "\n",
    "        self.lstm = nn.LSTM(input_size = 3 * embed_size, \n",
    "                            hidden_size = hidden_size, \n",
    "                            num_layers = num_lstm_layers, \n",
    "                            bidirectional = bidirectional)\n",
    "\n",
    "        self.linear = nn.Linear(in_features = 2 * hidden_size if bidirectional else hidden_size, \n",
    "                                out_features = label_size)\n",
    "\n",
    "\n",
    "    def forward(self, x, lengths):\n",
    "        \"\"\"\n",
    "        padded_x: (B,T) padded LongTensor\n",
    "        \"\"\"\n",
    "        n, d, b, t = x.size(0), x.size(1), x.size(2), x.size(3)\n",
    "        x = torch.flatten(x, start_dim=2)\n",
    "        input = self.aggr(x)\n",
    "        input = torch.reshape(input, (n, b, t))\n",
    "        input = self.embed(input)\n",
    "\n",
    "        batch_size = input.size(0)\n",
    "        input = input.transpose(1,2)    # (B,T,H) -> (B,H,T)\n",
    "\n",
    "        cnn_output = torch.cat([self.cnn(input), self.cnn2(input), self.cnn3(input)], dim=1)\n",
    "\n",
    "        input = F.relu(self.batchnorm(cnn_output))\n",
    "\n",
    "        input = input.transpose(1,2)\n",
    "\n",
    "        pack_tensor = nn.utils.rnn.pack_padded_sequence(input, lengths, batch_first=True, enforce_sorted=False)\n",
    "        _, (hn, cn) = self.lstm(pack_tensor)\n",
    "\n",
    "        if self.bidirectional:\n",
    "            h_n = hn.view(self.n_layers, 2, batch_size, self.hidden)\n",
    "            h_n = torch.cat([ h_n[-1, 0,:], h_n[-1,1,:] ], dim = 1)\n",
    "        else:\n",
    "            h_n = hn[-1]\n",
    "\n",
    "        logits = self.linear(h_n)\n",
    "\n",
    "        return logits\n"
   ]
  },
  {
   "cell_type": "markdown",
   "id": "37923d98",
   "metadata": {},
   "source": [
    "# Train Each Layer"
   ]
  },
  {
   "cell_type": "code",
   "execution_count": 19,
   "id": "328040c5",
   "metadata": {},
   "outputs": [
    {
     "name": "stderr",
     "output_type": "stream",
     "text": [
      "  2%|█████▋                                                                                                                                                                                                                                                                                         | 1/50 [00:12<10:22, 12.70s/it]"
     ]
    },
    {
     "name": "stdout",
     "output_type": "stream",
     "text": [
      "epoch:1, train accu:0.3583, train loss:1.46\n"
     ]
    },
    {
     "name": "stderr",
     "output_type": "stream",
     "text": [
      "\r",
      "  4%|███████████▍                                                                                                                                                                                                                                                                                   | 2/50 [00:17<06:34,  8.22s/it]"
     ]
    },
    {
     "name": "stdout",
     "output_type": "stream",
     "text": [
      "epoch:2, train accu:0.5938, train loss:1.00\n"
     ]
    },
    {
     "name": "stderr",
     "output_type": "stream",
     "text": [
      "\r",
      "  6%|█████████████████▏                                                                                                                                                                                                                                                                             | 3/50 [00:22<05:21,  6.85s/it]"
     ]
    },
    {
     "name": "stdout",
     "output_type": "stream",
     "text": [
      "epoch:3, train accu:0.7188, train loss:0.76\n"
     ]
    },
    {
     "name": "stderr",
     "output_type": "stream",
     "text": [
      "\r",
      "  8%|██████████████████████▉                                                                                                                                                                                                                                                                        | 4/50 [00:27<04:40,  6.10s/it]"
     ]
    },
    {
     "name": "stdout",
     "output_type": "stream",
     "text": [
      "epoch:4, train accu:0.8125, train loss:0.56\n"
     ]
    },
    {
     "name": "stderr",
     "output_type": "stream",
     "text": [
      "\r",
      " 10%|████████████████████████████▋                                                                                                                                                                                                                                                                  | 5/50 [00:32<04:16,  5.71s/it]"
     ]
    },
    {
     "name": "stdout",
     "output_type": "stream",
     "text": [
      "epoch:5, train accu:0.8542, train loss:0.42\n"
     ]
    },
    {
     "name": "stderr",
     "output_type": "stream",
     "text": [
      "\r",
      " 12%|██████████████████████████████████▍                                                                                                                                                                                                                                                            | 6/50 [00:38<04:03,  5.53s/it]"
     ]
    },
    {
     "name": "stdout",
     "output_type": "stream",
     "text": [
      "epoch:6, train accu:0.9104, train loss:0.29\n"
     ]
    },
    {
     "name": "stderr",
     "output_type": "stream",
     "text": [
      "\r",
      " 14%|████████████████████████████████████████▏                                                                                                                                                                                                                                                      | 7/50 [00:45<04:23,  6.13s/it]"
     ]
    },
    {
     "name": "stdout",
     "output_type": "stream",
     "text": [
      "epoch:7, train accu:0.9229, train loss:0.28\n"
     ]
    },
    {
     "name": "stderr",
     "output_type": "stream",
     "text": [
      "\r",
      " 16%|█████████████████████████████████████████████▉                                                                                                                                                                                                                                                 | 8/50 [00:50<04:01,  5.74s/it]"
     ]
    },
    {
     "name": "stdout",
     "output_type": "stream",
     "text": [
      "epoch:8, train accu:0.9417, train loss:0.21\n"
     ]
    },
    {
     "name": "stderr",
     "output_type": "stream",
     "text": [
      "\r",
      " 18%|███████████████████████████████████████████████████▋                                                                                                                                                                                                                                           | 9/50 [00:55<03:51,  5.64s/it]"
     ]
    },
    {
     "name": "stdout",
     "output_type": "stream",
     "text": [
      "epoch:9, train accu:0.9333, train loss:0.20\n"
     ]
    },
    {
     "name": "stderr",
     "output_type": "stream",
     "text": [
      "\r",
      " 20%|█████████████████████████████████████████████████████████▏                                                                                                                                                                                                                                    | 10/50 [01:01<03:51,  5.78s/it]"
     ]
    },
    {
     "name": "stdout",
     "output_type": "stream",
     "text": [
      "epoch:10, train accu:0.9375, train loss:0.19\n"
     ]
    },
    {
     "name": "stderr",
     "output_type": "stream",
     "text": [
      "\r",
      " 22%|██████████████████████████████████████████████████████████████▉                                                                                                                                                                                                                               | 11/50 [01:07<03:44,  5.76s/it]"
     ]
    },
    {
     "name": "stdout",
     "output_type": "stream",
     "text": [
      "epoch:11, train accu:0.9708, train loss:0.11\n"
     ]
    },
    {
     "name": "stderr",
     "output_type": "stream",
     "text": [
      "\r",
      " 24%|████████████████████████████████████████████████████████████████████▋                                                                                                                                                                                                                         | 12/50 [01:13<03:37,  5.73s/it]"
     ]
    },
    {
     "name": "stdout",
     "output_type": "stream",
     "text": [
      "epoch:12, train accu:0.9688, train loss:0.09\n"
     ]
    },
    {
     "name": "stderr",
     "output_type": "stream",
     "text": [
      "\r",
      " 26%|██████████████████████████████████████████████████████████████████████████▎                                                                                                                                                                                                                   | 13/50 [01:18<03:29,  5.67s/it]"
     ]
    },
    {
     "name": "stdout",
     "output_type": "stream",
     "text": [
      "epoch:13, train accu:0.9604, train loss:0.13\n"
     ]
    },
    {
     "name": "stderr",
     "output_type": "stream",
     "text": [
      "\r",
      " 28%|████████████████████████████████████████████████████████████████████████████████                                                                                                                                                                                                              | 14/50 [01:24<03:23,  5.64s/it]"
     ]
    },
    {
     "name": "stdout",
     "output_type": "stream",
     "text": [
      "epoch:14, train accu:0.9812, train loss:0.08\n"
     ]
    },
    {
     "name": "stderr",
     "output_type": "stream",
     "text": [
      "\r",
      " 30%|█████████████████████████████████████████████████████████████████████████████████████▊                                                                                                                                                                                                        | 15/50 [01:29<03:16,  5.62s/it]"
     ]
    },
    {
     "name": "stdout",
     "output_type": "stream",
     "text": [
      "epoch:15, train accu:0.9938, train loss:0.03\n"
     ]
    },
    {
     "name": "stderr",
     "output_type": "stream",
     "text": [
      "\r",
      " 32%|███████████████████████████████████████████████████████████████████████████████████████████▌                                                                                                                                                                                                  | 16/50 [01:35<03:09,  5.57s/it]"
     ]
    },
    {
     "name": "stdout",
     "output_type": "stream",
     "text": [
      "epoch:16, train accu:0.9896, train loss:0.04\n"
     ]
    },
    {
     "name": "stderr",
     "output_type": "stream",
     "text": [
      "\r",
      " 34%|█████████████████████████████████████████████████████████████████████████████████████████████████▏                                                                                                                                                                                            | 17/50 [01:41<03:09,  5.74s/it]"
     ]
    },
    {
     "name": "stdout",
     "output_type": "stream",
     "text": [
      "epoch:17, train accu:0.9938, train loss:0.02\n"
     ]
    },
    {
     "name": "stderr",
     "output_type": "stream",
     "text": [
      "\r",
      " 36%|██████████████████████████████████████████████████████████████████████████████████████████████████████▉                                                                                                                                                                                       | 18/50 [01:48<03:19,  6.24s/it]"
     ]
    },
    {
     "name": "stdout",
     "output_type": "stream",
     "text": [
      "epoch:18, train accu:0.9792, train loss:0.05\n"
     ]
    },
    {
     "name": "stderr",
     "output_type": "stream",
     "text": [
      "\r",
      " 38%|████████████████████████████████████████████████████████████████████████████████████████████████████████████▋                                                                                                                                                                                 | 19/50 [01:54<03:08,  6.06s/it]"
     ]
    },
    {
     "name": "stdout",
     "output_type": "stream",
     "text": [
      "epoch:19, train accu:0.9771, train loss:0.08\n"
     ]
    },
    {
     "name": "stderr",
     "output_type": "stream",
     "text": [
      "\r",
      " 40%|██████████████████████████████████████████████████████████████████████████████████████████████████████████████████▍                                                                                                                                                                           | 20/50 [02:00<02:58,  5.95s/it]"
     ]
    },
    {
     "name": "stdout",
     "output_type": "stream",
     "text": [
      "epoch:20, train accu:0.9792, train loss:0.07\n"
     ]
    },
    {
     "name": "stderr",
     "output_type": "stream",
     "text": [
      "\r",
      " 42%|████████████████████████████████████████████████████████████████████████████████████████████████████████████████████████                                                                                                                                                                      | 21/50 [02:05<02:50,  5.86s/it]"
     ]
    },
    {
     "name": "stdout",
     "output_type": "stream",
     "text": [
      "epoch:21, train accu:0.9604, train loss:0.14\n"
     ]
    },
    {
     "name": "stderr",
     "output_type": "stream",
     "text": [
      "\r",
      " 44%|█████████████████████████████████████████████████████████████████████████████████████████████████████████████████████████████▊                                                                                                                                                                | 22/50 [02:11<02:42,  5.82s/it]"
     ]
    },
    {
     "name": "stdout",
     "output_type": "stream",
     "text": [
      "epoch:22, train accu:0.9708, train loss:0.07\n"
     ]
    },
    {
     "name": "stderr",
     "output_type": "stream",
     "text": [
      "\r",
      " 46%|███████████████████████████████████████████████████████████████████████████████████████████████████████████████████████████████████▌                                                                                                                                                          | 23/50 [02:17<02:38,  5.88s/it]"
     ]
    },
    {
     "name": "stdout",
     "output_type": "stream",
     "text": [
      "epoch:23, train accu:0.9771, train loss:0.11\n"
     ]
    },
    {
     "name": "stderr",
     "output_type": "stream",
     "text": [
      "\r",
      " 48%|█████████████████████████████████████████████████████████████████████████████████████████████████████████████████████████████████████████▎                                                                                                                                                    | 24/50 [02:23<02:32,  5.86s/it]"
     ]
    },
    {
     "name": "stdout",
     "output_type": "stream",
     "text": [
      "epoch:24, train accu:0.9708, train loss:0.12\n"
     ]
    },
    {
     "name": "stderr",
     "output_type": "stream",
     "text": [
      "\r",
      " 50%|███████████████████████████████████████████████████████████████████████████████████████████████████████████████████████████████████████████████                                                                                                                                               | 25/50 [02:28<02:22,  5.71s/it]"
     ]
    },
    {
     "name": "stdout",
     "output_type": "stream",
     "text": [
      "epoch:25, train accu:0.9792, train loss:0.07\n"
     ]
    },
    {
     "name": "stderr",
     "output_type": "stream",
     "text": [
      "\r",
      " 52%|████████████████████████████████████████████████████████████████████████████████████████████████████████████████████████████████████████████████████▋                                                                                                                                         | 26/50 [02:34<02:15,  5.64s/it]"
     ]
    },
    {
     "name": "stdout",
     "output_type": "stream",
     "text": [
      "epoch:26, train accu:0.9958, train loss:0.03\n"
     ]
    },
    {
     "name": "stderr",
     "output_type": "stream",
     "text": [
      "\r",
      " 54%|██████████████████████████████████████████████████████████████████████████████████████████████████████████████████████████████████████████████████████████▍                                                                                                                                   | 27/50 [02:39<02:08,  5.60s/it]"
     ]
    },
    {
     "name": "stdout",
     "output_type": "stream",
     "text": [
      "epoch:27, train accu:0.9667, train loss:0.17\n"
     ]
    },
    {
     "name": "stderr",
     "output_type": "stream",
     "text": [
      "\r",
      " 56%|████████████████████████████████████████████████████████████████████████████████████████████████████████████████████████████████████████████████████████████████▏                                                                                                                             | 28/50 [02:47<02:15,  6.18s/it]"
     ]
    },
    {
     "name": "stdout",
     "output_type": "stream",
     "text": [
      "epoch:28, train accu:0.9688, train loss:0.10\n"
     ]
    },
    {
     "name": "stderr",
     "output_type": "stream",
     "text": [
      "\r",
      " 58%|█████████████████████████████████████████████████████████████████████████████████████████████████████████████████████████████████████████████████████████████████████▉                                                                                                                        | 29/50 [02:53<02:06,  6.01s/it]"
     ]
    },
    {
     "name": "stdout",
     "output_type": "stream",
     "text": [
      "epoch:29, train accu:0.9792, train loss:0.09\n"
     ]
    },
    {
     "name": "stderr",
     "output_type": "stream",
     "text": [
      "\r",
      " 60%|███████████████████████████████████████████████████████████████████████████████████████████████████████████████████████████████████████████████████████████████████████████▌                                                                                                                  | 30/50 [02:58<01:56,  5.81s/it]"
     ]
    },
    {
     "name": "stdout",
     "output_type": "stream",
     "text": [
      "epoch:30, train accu:0.9688, train loss:0.11\n"
     ]
    },
    {
     "name": "stderr",
     "output_type": "stream",
     "text": [
      "\r",
      " 62%|█████████████████████████████████████████████████████████████████████████████████████████████████████████████████████████████████████████████████████████████████████████████████▎                                                                                                            | 31/50 [03:03<01:47,  5.68s/it]"
     ]
    },
    {
     "name": "stdout",
     "output_type": "stream",
     "text": [
      "epoch:31, train accu:0.9896, train loss:0.04\n"
     ]
    },
    {
     "name": "stderr",
     "output_type": "stream",
     "text": [
      "\r",
      " 64%|███████████████████████████████████████████████████████████████████████████████████████████████████████████████████████████████████████████████████████████████████████████████████████                                                                                                       | 32/50 [03:09<01:40,  5.59s/it]"
     ]
    },
    {
     "name": "stdout",
     "output_type": "stream",
     "text": [
      "epoch:32, train accu:0.9979, train loss:0.02\n"
     ]
    },
    {
     "name": "stderr",
     "output_type": "stream",
     "text": [
      "\r",
      " 66%|████████████████████████████████████████████████████████████████████████████████████████████████████████████████████████████████████████████████████████████████████████████████████████████▊                                                                                                 | 33/50 [03:14<01:33,  5.52s/it]"
     ]
    },
    {
     "name": "stdout",
     "output_type": "stream",
     "text": [
      "epoch:33, train accu:0.9958, train loss:0.01\n"
     ]
    },
    {
     "name": "stderr",
     "output_type": "stream",
     "text": [
      "\r",
      " 68%|██████████████████████████████████████████████████████████████████████████████████████████████████████████████████████████████████████████████████████████████████████████████████████████████████▍                                                                                           | 34/50 [03:20<01:28,  5.54s/it]"
     ]
    },
    {
     "name": "stdout",
     "output_type": "stream",
     "text": [
      "epoch:34, train accu:0.9896, train loss:0.04\n"
     ]
    },
    {
     "name": "stderr",
     "output_type": "stream",
     "text": [
      "\r",
      " 70%|████████████████████████████████████████████████████████████████████████████████████████████████████████████████████████████████████████████████████████████████████████████████████████████████████████▏                                                                                     | 35/50 [03:25<01:22,  5.51s/it]"
     ]
    },
    {
     "name": "stdout",
     "output_type": "stream",
     "text": [
      "epoch:35, train accu:0.9938, train loss:0.03\n"
     ]
    },
    {
     "name": "stderr",
     "output_type": "stream",
     "text": [
      "\r",
      " 72%|█████████████████████████████████████████████████████████████████████████████████████████████████████████████████████████████████████████████████████████████████████████████████████████████████████████████▉                                                                                | 36/50 [03:31<01:17,  5.53s/it]"
     ]
    },
    {
     "name": "stdout",
     "output_type": "stream",
     "text": [
      "epoch:36, train accu:0.9688, train loss:0.12\n"
     ]
    },
    {
     "name": "stderr",
     "output_type": "stream",
     "text": [
      "\r",
      " 74%|███████████████████████████████████████████████████████████████████████████████████████████████████████████████████████████████████████████████████████████████████████████████████████████████████████████████████▋                                                                          | 37/50 [03:36<01:12,  5.57s/it]"
     ]
    },
    {
     "name": "stdout",
     "output_type": "stream",
     "text": [
      "epoch:37, train accu:0.9854, train loss:0.09\n"
     ]
    },
    {
     "name": "stderr",
     "output_type": "stream",
     "text": [
      "\r",
      " 76%|█████████████████████████████████████████████████████████████████████████████████████████████████████████████████████████████████████████████████████████████████████████████████████████████████████████████████████████▎                                                                    | 38/50 [03:44<01:13,  6.15s/it]"
     ]
    },
    {
     "name": "stdout",
     "output_type": "stream",
     "text": [
      "epoch:38, train accu:1.0000, train loss:0.01\n"
     ]
    },
    {
     "name": "stderr",
     "output_type": "stream",
     "text": [
      "\r",
      " 78%|███████████████████████████████████████████████████████████████████████████████████████████████████████████████████████████████████████████████████████████████████████████████████████████████████████████████████████████████                                                               | 39/50 [03:50<01:07,  6.10s/it]"
     ]
    },
    {
     "name": "stdout",
     "output_type": "stream",
     "text": [
      "epoch:39, train accu:1.0000, train loss:0.00\n"
     ]
    },
    {
     "name": "stderr",
     "output_type": "stream",
     "text": [
      "\r",
      " 80%|████████████████████████████████████████████████████████████████████████████████████████████████████████████████████████████████████████████████████████████████████████████████████████████████████████████████████████████████████▊                                                         | 40/50 [03:55<00:59,  5.97s/it]"
     ]
    },
    {
     "name": "stdout",
     "output_type": "stream",
     "text": [
      "epoch:40, train accu:1.0000, train loss:0.00\n"
     ]
    },
    {
     "name": "stderr",
     "output_type": "stream",
     "text": [
      "\r",
      " 82%|██████████████████████████████████████████████████████████████████████████████████████████████████████████████████████████████████████████████████████████████████████████████████████████████████████████████████████████████████████████▌                                                   | 41/50 [04:01<00:52,  5.87s/it]"
     ]
    },
    {
     "name": "stdout",
     "output_type": "stream",
     "text": [
      "epoch:41, train accu:1.0000, train loss:0.00\n"
     ]
    },
    {
     "name": "stderr",
     "output_type": "stream",
     "text": [
      "\r",
      " 84%|████████████████████████████████████████████████████████████████████████████████████████████████████████████████████████████████████████████████████████████████████████████████████████████████████████████████████████████████████████████████▏                                             | 42/50 [04:07<00:46,  5.80s/it]"
     ]
    },
    {
     "name": "stdout",
     "output_type": "stream",
     "text": [
      "epoch:42, train accu:1.0000, train loss:0.00\n"
     ]
    },
    {
     "name": "stderr",
     "output_type": "stream",
     "text": [
      "\r",
      " 86%|█████████████████████████████████████████████████████████████████████████████████████████████████████████████████████████████████████████████████████████████████████████████████████████████████████████████████████████████████████████████████████▉                                        | 43/50 [04:13<00:40,  5.82s/it]"
     ]
    },
    {
     "name": "stdout",
     "output_type": "stream",
     "text": [
      "epoch:43, train accu:1.0000, train loss:0.00\n"
     ]
    },
    {
     "name": "stderr",
     "output_type": "stream",
     "text": [
      "\r",
      " 88%|███████████████████████████████████████████████████████████████████████████████████████████████████████████████████████████████████████████████████████████████████████████████████████████████████████████████████████████████████████████████████████████▋                                  | 44/50 [04:18<00:33,  5.63s/it]"
     ]
    },
    {
     "name": "stdout",
     "output_type": "stream",
     "text": [
      "epoch:44, train accu:1.0000, train loss:0.00\n"
     ]
    },
    {
     "name": "stderr",
     "output_type": "stream",
     "text": [
      "\r",
      " 90%|█████████████████████████████████████████████████████████████████████████████████████████████████████████████████████████████████████████████████████████████████████████████████████████████████████████████████████████████████████████████████████████████████▍                            | 45/50 [04:23<00:28,  5.66s/it]"
     ]
    },
    {
     "name": "stdout",
     "output_type": "stream",
     "text": [
      "epoch:45, train accu:1.0000, train loss:0.00\n"
     ]
    },
    {
     "name": "stderr",
     "output_type": "stream",
     "text": [
      "\r",
      " 92%|███████████████████████████████████████████████████████████████████████████████████████████████████████████████████████████████████████████████████████████████████████████████████████████████████████████████████████████████████████████████████████████████████████                       | 46/50 [04:29<00:22,  5.66s/it]"
     ]
    },
    {
     "name": "stdout",
     "output_type": "stream",
     "text": [
      "epoch:46, train accu:1.0000, train loss:0.00\n"
     ]
    },
    {
     "name": "stderr",
     "output_type": "stream",
     "text": [
      "\r",
      " 94%|████████████████████████████████████████████████████████████████████████████████████████████████████████████████████████████████████████████████████████████████████████████████████████████████████████████████████████████████████████████████████████████████████████████▊                 | 47/50 [04:35<00:16,  5.67s/it]"
     ]
    },
    {
     "name": "stdout",
     "output_type": "stream",
     "text": [
      "epoch:47, train accu:1.0000, train loss:0.00\n"
     ]
    },
    {
     "name": "stderr",
     "output_type": "stream",
     "text": [
      "\r",
      " 96%|██████████████████████████████████████████████████████████████████████████████████████████████████████████████████████████████████████████████████████████████████████████████████████████████████████████████████████████████████████████████████████████████████████████████████▌           | 48/50 [04:41<00:11,  5.79s/it]"
     ]
    },
    {
     "name": "stdout",
     "output_type": "stream",
     "text": [
      "epoch:48, train accu:1.0000, train loss:0.00\n"
     ]
    },
    {
     "name": "stderr",
     "output_type": "stream",
     "text": [
      "\r",
      " 98%|████████████████████████████████████████████████████████████████████████████████████████████████████████████████████████████████████████████████████████████████████████████████████████████████████████████████████████████████████████████████████████████████████████████████████████▎     | 49/50 [04:48<00:06,  6.29s/it]"
     ]
    },
    {
     "name": "stdout",
     "output_type": "stream",
     "text": [
      "epoch:49, train accu:1.0000, train loss:0.00\n"
     ]
    },
    {
     "name": "stderr",
     "output_type": "stream",
     "text": [
      "100%|██████████████████████████████████████████████████████████████████████████████████████████████████████████████████████████████████████████████████████████████████████████████████████████████████████████████████████████████████████████████████████████████████████████████████████████████| 50/50 [04:54<00:00,  5.89s/it]"
     ]
    },
    {
     "name": "stdout",
     "output_type": "stream",
     "text": [
      "epoch:50, train accu:1.0000, train loss:0.00\n"
     ]
    },
    {
     "name": "stderr",
     "output_type": "stream",
     "text": [
      "\n"
     ]
    }
   ],
   "source": [
    "from tqdm import tqdm\n",
    "from torchsummary import summary\n",
    "import torch.optim as optim\n",
    "\n",
    "model = ICASSP3CNN(768)\n",
    "model = model.to(device)\n",
    "criterion = nn.CrossEntropyLoss()\n",
    "optimizer = optim.Adam(model.parameters(), lr=0.001)\n",
    "\n",
    "epochs = 50\n",
    "train_losses = []\n",
    "train_accuracies = []\n",
    "valid_losses = []\n",
    "valid_accuracies = []\n",
    "\n",
    "for epoch in tqdm(range(epochs)):\n",
    "    train_loss = 0\n",
    "    acc_cnt = 0\n",
    "    err_cnt = 0\n",
    "    batch_cnt = 0\n",
    "    model.train()\n",
    "    for batch, (x, length, y) in enumerate(train_dataloader):\n",
    "        x = x.to(device)\n",
    "        y = y.to(device)\n",
    "        optimizer.zero_grad()\n",
    "        logits = model(x, length)\n",
    "        loss = criterion(logits, y)\n",
    "        loss.backward()\n",
    "        optimizer.step()\n",
    "        train_loss += loss.cpu().item()\n",
    "\n",
    "        #model outputs\n",
    "        out_val, out_indices = torch.max(logits, dim=1)\n",
    "        tar_indices = y\n",
    "\n",
    "        for i in range(len(out_indices)):\n",
    "            if out_indices[i] == tar_indices[i]:\n",
    "                acc_cnt += 1\n",
    "            else:\n",
    "                err_cnt += 1\n",
    "        batch_cnt += 1\n",
    "    \n",
    "    train_loss = train_loss/batch_cnt\n",
    "    train_accuracy = acc_cnt/(acc_cnt+err_cnt)\n",
    "    train_accuracies.append(train_accuracy)\n",
    "    train_losses.append(train_loss)\n",
    "    \n",
    "    print(f\"epoch:{epoch+1}, train accu:{train_accuracy:.4f},\", f\"train loss:{train_loss:.2f}\")"
   ]
  },
  {
   "cell_type": "markdown",
   "id": "cee1562d",
   "metadata": {},
   "source": [
    "# Model Test"
   ]
  },
  {
   "cell_type": "code",
   "execution_count": 20,
   "id": "2034ea2c",
   "metadata": {},
   "outputs": [
    {
     "name": "stdout",
     "output_type": "stream",
     "text": [
      "test accuracy: 0.8467741935483871\n"
     ]
    }
   ],
   "source": [
    "test_loss = 0\n",
    "acc_cnt = 0\n",
    "err_cnt = 0\n",
    "batch_cnt = 0\n",
    "model.eval()\n",
    "\n",
    "for x, lengths, y in test_dataloader:\n",
    "\n",
    "    x = x.to(device)\n",
    "    y = y.to(device)\n",
    "\n",
    "    logits = model(x, lengths)\n",
    "    loss = criterion(logits, y)\n",
    "    test_loss += loss.cpu().item()\n",
    "\n",
    "    out_val, out_indices = torch.max(logits, dim=1)\n",
    "    tar_indices = y\n",
    "\n",
    "    for i in range(len(out_indices)):\n",
    "        if out_indices[i] == tar_indices[i]:\n",
    "            acc_cnt += 1\n",
    "        else:\n",
    "            err_cnt += 1\n",
    "    batch_cnt += 1\n",
    "\n",
    "test_loss = test_loss/batch_cnt\n",
    "test_accuracy = acc_cnt/(acc_cnt+err_cnt)\n",
    "print(f'test accuracy: {test_accuracy}')"
   ]
  },
  {
   "cell_type": "code",
   "execution_count": 21,
   "id": "eb40d4e5",
   "metadata": {},
   "outputs": [
    {
     "name": "stdout",
     "output_type": "stream",
     "text": [
      "aggr.weight tensor([[[-0.2017],\n",
      "         [ 0.1639],\n",
      "         [-0.1440],\n",
      "         [ 0.2669],\n",
      "         [ 0.1116],\n",
      "         [-0.3410],\n",
      "         [ 0.2156],\n",
      "         [-0.0521],\n",
      "         [ 0.1787],\n",
      "         [-0.1099],\n",
      "         [ 0.2330],\n",
      "         [-0.1974]]], device='cuda:0')\n",
      "aggr.bias tensor([-0.0102], device='cuda:0')\n",
      "embed.weight tensor([[-0.0323, -0.0028,  0.0051,  ..., -0.0662, -0.0037,  0.0004],\n",
      "        [ 0.0357, -0.0280, -0.0132,  ...,  0.0537,  0.0591, -0.0588],\n",
      "        [-0.0209,  0.0611,  0.0423,  ...,  0.0119,  0.0109,  0.0039],\n",
      "        ...,\n",
      "        [-0.0515, -0.0034,  0.0352,  ...,  0.0067, -0.0227, -0.0165],\n",
      "        [ 0.0049,  0.0440,  0.0427,  ...,  0.0003,  0.0366,  0.0533],\n",
      "        [-0.0389,  0.0339,  0.0314,  ...,  0.0182, -0.0562, -0.0675]],\n",
      "       device='cuda:0')\n",
      "embed.bias tensor([-0.0323,  0.0079,  0.0226,  0.0363,  0.0180, -0.0425, -0.0078, -0.0412,\n",
      "        -0.0063, -0.0073, -0.0014,  0.0259, -0.0067,  0.0449,  0.0110,  0.0350,\n",
      "        -0.0317,  0.0234,  0.0525,  0.0053,  0.0232,  0.0546,  0.0329,  0.0081,\n",
      "         0.0169,  0.0235, -0.0019, -0.0141, -0.0213,  0.0082,  0.0181, -0.0438,\n",
      "        -0.0112, -0.0159,  0.0782, -0.0726,  0.0396, -0.0095,  0.0177, -0.0537,\n",
      "         0.0082,  0.0337, -0.0126,  0.0093, -0.0007,  0.0648, -0.0254,  0.0259,\n",
      "        -0.0390,  0.0098,  0.0401,  0.0426,  0.0205, -0.0072, -0.0117,  0.0096,\n",
      "         0.0484,  0.0391,  0.0228, -0.0366, -0.0559, -0.0486,  0.0886,  0.0162,\n",
      "         0.0137,  0.0217, -0.0709,  0.0107,  0.0091, -0.0295, -0.0172,  0.0107,\n",
      "        -0.0290, -0.0361, -0.0260, -0.0320,  0.0283,  0.0394,  0.0259, -0.0049,\n",
      "         0.0134, -0.0013,  0.0487, -0.0171,  0.0340, -0.0171,  0.0398,  0.0071,\n",
      "         0.0170,  0.0116, -0.0139,  0.0160,  0.0034, -0.0362,  0.0317,  0.0225,\n",
      "         0.0136, -0.0072,  0.0107, -0.0266, -0.0309,  0.0078,  0.0343, -0.0471,\n",
      "        -0.0152,  0.0020, -0.0307,  0.0211, -0.0131,  0.0159, -0.0412,  0.0009,\n",
      "        -0.0502,  0.0124, -0.0128, -0.0314, -0.0057,  0.0487,  0.0227, -0.0281,\n",
      "        -0.0447,  0.0112,  0.0269,  0.0001,  0.0141, -0.0402,  0.0780, -0.0699],\n",
      "       device='cuda:0')\n",
      "cnn.weight tensor([[[ 0.0249,  0.0347, -0.0462],\n",
      "         [-0.0295, -0.0138, -0.0138],\n",
      "         [-0.0121, -0.0013,  0.0368],\n",
      "         ...,\n",
      "         [ 0.0026, -0.0012, -0.0060],\n",
      "         [-0.0020, -0.0195, -0.0059],\n",
      "         [-0.0184,  0.0347, -0.0326]],\n",
      "\n",
      "        [[ 0.0067, -0.0172,  0.0159],\n",
      "         [-0.0005, -0.0354, -0.0015],\n",
      "         [ 0.1013,  0.0980, -0.0135],\n",
      "         ...,\n",
      "         [ 0.0586,  0.0510, -0.0312],\n",
      "         [ 0.0136,  0.0391,  0.0560],\n",
      "         [-0.0102, -0.0193,  0.0249]],\n",
      "\n",
      "        [[-0.0029,  0.0468,  0.0184],\n",
      "         [ 0.0432, -0.0084, -0.0229],\n",
      "         [ 0.0011,  0.0097, -0.0067],\n",
      "         ...,\n",
      "         [-0.0221,  0.0365, -0.0303],\n",
      "         [-0.0442, -0.0247,  0.0142],\n",
      "         [-0.0402, -0.0304, -0.0464]],\n",
      "\n",
      "        ...,\n",
      "\n",
      "        [[-0.0022,  0.0302, -0.0084],\n",
      "         [-0.0111,  0.0227, -0.0688],\n",
      "         [-0.0024, -0.0514,  0.0224],\n",
      "         ...,\n",
      "         [-0.0177, -0.0177, -0.0640],\n",
      "         [ 0.0442, -0.0352,  0.0399],\n",
      "         [-0.0350, -0.0448, -0.0854]],\n",
      "\n",
      "        [[-0.0097,  0.0591,  0.0508],\n",
      "         [-0.0059,  0.0092,  0.0178],\n",
      "         [-0.0508, -0.0082, -0.0237],\n",
      "         ...,\n",
      "         [ 0.0325,  0.0522,  0.0645],\n",
      "         [-0.0852, -0.0285, -0.0782],\n",
      "         [ 0.0057,  0.0497,  0.0518]],\n",
      "\n",
      "        [[-0.0504, -0.0560, -0.0619],\n",
      "         [ 0.0135,  0.0349, -0.0155],\n",
      "         [-0.0233, -0.0113, -0.0368],\n",
      "         ...,\n",
      "         [-0.0015, -0.0278,  0.0444],\n",
      "         [-0.0087, -0.0297, -0.0375],\n",
      "         [ 0.0052, -0.0028, -0.0151]]], device='cuda:0')\n",
      "cnn.bias tensor([ 0.0015,  0.0406,  0.0341, -0.0285,  0.0475,  0.0114,  0.0330, -0.0233,\n",
      "        -0.0375, -0.0041,  0.0321, -0.0075, -0.0313,  0.0262,  0.0055,  0.0282,\n",
      "         0.0311,  0.0319, -0.0443, -0.0489,  0.0396, -0.0081, -0.0106,  0.0188,\n",
      "         0.0208, -0.0379, -0.0283, -0.0239,  0.0589, -0.0658,  0.0322,  0.0037,\n",
      "         0.0177, -0.0242,  0.0053, -0.0608,  0.0224, -0.0119, -0.0022,  0.0423,\n",
      "         0.0026, -0.0308, -0.0508, -0.0311,  0.0621,  0.0101, -0.0474, -0.0600,\n",
      "        -0.0019,  0.0304, -0.0434, -0.0485, -0.0044, -0.0218,  0.0077,  0.0201,\n",
      "         0.0637,  0.0145, -0.0059, -0.0366,  0.0228,  0.0476, -0.0275, -0.0453,\n",
      "        -0.0169,  0.0010,  0.0088, -0.0713,  0.0297,  0.0419, -0.0413, -0.0137,\n",
      "         0.0316, -0.0090,  0.0202, -0.0238, -0.0384,  0.0479,  0.0220,  0.0244,\n",
      "        -0.0221,  0.0345, -0.0297,  0.0326,  0.0281,  0.0192, -0.0188,  0.0311,\n",
      "        -0.0075,  0.0157, -0.0359, -0.0048,  0.0304,  0.0091, -0.0246,  0.0038,\n",
      "         0.0216, -0.0156,  0.0285, -0.0356, -0.0524, -0.0353, -0.0326,  0.0050,\n",
      "         0.0080, -0.0305, -0.0245, -0.0375, -0.0439, -0.0330, -0.0167,  0.0442,\n",
      "        -0.0355,  0.0156, -0.0209,  0.0211,  0.0323, -0.0115,  0.0343, -0.0046,\n",
      "        -0.0150, -0.0605,  0.0150, -0.0422,  0.0199,  0.0251,  0.0298, -0.0434],\n",
      "       device='cuda:0')\n",
      "cnn2.weight tensor([[[-4.5464e-02, -1.3939e-02, -3.8579e-02, -4.0413e-02,  2.4789e-02],\n",
      "         [ 5.7996e-02,  5.7145e-05,  2.9604e-02,  2.1587e-02, -4.3001e-02],\n",
      "         [-1.1629e-02,  2.2651e-02,  9.7388e-03, -5.8554e-02, -2.2094e-02],\n",
      "         ...,\n",
      "         [-1.1421e-02, -1.4910e-03, -3.8620e-02, -2.3112e-02,  4.3499e-03],\n",
      "         [ 6.2059e-03,  4.0766e-02,  3.4515e-02,  3.4105e-02,  2.0467e-02],\n",
      "         [-8.9215e-02, -7.4654e-02, -3.1111e-02, -3.0614e-02,  1.2472e-02]],\n",
      "\n",
      "        [[ 1.0442e-02,  3.8665e-02,  7.2596e-02,  1.1242e-02,  3.0741e-02],\n",
      "         [ 1.3190e-03,  1.3569e-02, -2.3340e-02,  6.3820e-03, -1.8556e-02],\n",
      "         [-9.9034e-03, -2.1701e-02, -3.2035e-02, -1.4893e-02,  2.9647e-02],\n",
      "         ...,\n",
      "         [ 3.5617e-02,  2.4526e-03,  4.1351e-02,  3.2564e-02, -2.7462e-02],\n",
      "         [-2.9665e-02, -1.7679e-02, -3.0432e-02,  1.8396e-02,  2.2424e-02],\n",
      "         [-2.7547e-02, -1.2264e-02,  6.1024e-02, -1.4563e-02,  5.8409e-02]],\n",
      "\n",
      "        [[ 1.1778e-02, -4.9690e-02,  2.4551e-03,  3.5345e-02,  1.1339e-02],\n",
      "         [-2.6636e-02,  3.0233e-03, -2.4280e-02,  7.7885e-03,  1.2699e-02],\n",
      "         [ 7.0479e-02,  4.3777e-02,  3.6082e-02,  2.0508e-02,  1.7397e-02],\n",
      "         ...,\n",
      "         [-4.5718e-02,  1.9067e-02,  1.8188e-02,  4.2636e-02,  2.1474e-03],\n",
      "         [ 2.8180e-03,  4.6194e-02, -2.9802e-02, -3.4755e-02, -2.7229e-02],\n",
      "         [ 1.6771e-02, -3.3603e-03,  4.7378e-02,  4.9430e-02, -7.4923e-04]],\n",
      "\n",
      "        ...,\n",
      "\n",
      "        [[ 5.6182e-02,  8.0776e-02,  5.2407e-02,  7.5191e-02,  1.7306e-02],\n",
      "         [-3.6952e-03,  3.5228e-02, -7.1121e-05, -2.6464e-02, -3.4329e-02],\n",
      "         [-2.4464e-02,  2.3177e-02, -1.7993e-02,  1.3472e-02,  1.6014e-02],\n",
      "         ...,\n",
      "         [ 5.7124e-02,  8.4390e-02,  9.5311e-02,  1.3043e-02,  5.5693e-02],\n",
      "         [-2.2505e-02, -2.4980e-02, -1.5540e-02,  2.5222e-02, -2.0200e-02],\n",
      "         [ 8.5893e-03,  1.3354e-02,  4.3513e-02,  2.8459e-02,  6.7726e-02]],\n",
      "\n",
      "        [[-1.2654e-02, -4.5435e-03,  2.7809e-02, -1.2255e-02,  1.1416e-02],\n",
      "         [-1.9286e-02,  6.2438e-03,  1.1864e-02,  3.2189e-02,  3.7126e-03],\n",
      "         [-4.3292e-02, -3.3140e-02, -5.4046e-03, -3.5883e-02, -1.9825e-02],\n",
      "         ...,\n",
      "         [-5.2860e-02, -4.3618e-02, -5.1523e-04,  1.2232e-03, -1.7322e-02],\n",
      "         [-1.2651e-02,  4.5431e-02,  3.2175e-02,  1.1857e-02,  2.0208e-02],\n",
      "         [-2.2415e-02, -4.5328e-02,  1.2231e-02, -4.5873e-02, -5.0488e-02]],\n",
      "\n",
      "        [[-4.8443e-02, -5.0450e-02,  5.0164e-03, -4.4685e-02, -6.8800e-04],\n",
      "         [ 2.9620e-02,  3.5975e-04,  1.6364e-02,  4.3062e-02,  3.4254e-05],\n",
      "         [-5.9852e-03,  5.4776e-03, -1.1398e-02,  1.2172e-02, -2.2221e-04],\n",
      "         ...,\n",
      "         [ 1.6001e-03, -8.2988e-04, -5.0017e-02,  2.5795e-03,  2.2810e-02],\n",
      "         [ 5.7377e-03, -3.3030e-02,  2.9064e-02, -1.9935e-03, -3.1553e-02],\n",
      "         [-4.2471e-02, -4.9839e-02,  2.0732e-02, -9.5015e-03,  2.3077e-03]]],\n",
      "       device='cuda:0')\n",
      "cnn2.bias tensor([ 0.0415,  0.0105,  0.0250, -0.0417,  0.0114,  0.0229,  0.0149, -0.0103,\n",
      "        -0.0316, -0.0340, -0.0102, -0.0317,  0.0093, -0.0067,  0.0148, -0.0312,\n",
      "         0.0054,  0.0210, -0.0467, -0.0160,  0.0150, -0.0056,  0.0218,  0.0359,\n",
      "        -0.0294, -0.0228,  0.0123, -0.0363,  0.0003,  0.0295,  0.0027,  0.0171,\n",
      "         0.0199,  0.0357, -0.0364, -0.0007,  0.0037,  0.0245,  0.0220,  0.0123,\n",
      "        -0.0241,  0.0216, -0.0232,  0.0010, -0.0228, -0.0099,  0.0061, -0.0315,\n",
      "        -0.0028, -0.0489, -0.0055,  0.0019,  0.0374,  0.0074, -0.0052,  0.0266,\n",
      "        -0.0085,  0.0310,  0.0284, -0.0219, -0.0241,  0.0149, -0.0276, -0.0091,\n",
      "         0.0362, -0.0320,  0.0314,  0.0034,  0.0281,  0.0188,  0.0247,  0.0033,\n",
      "         0.0279,  0.0164, -0.0194, -0.0095, -0.0344,  0.0174, -0.0119,  0.0046,\n",
      "        -0.0237,  0.0187,  0.0232, -0.0177,  0.0281,  0.0253, -0.0194,  0.0091,\n",
      "         0.0359,  0.0108,  0.0212, -0.0067, -0.0173, -0.0156, -0.0143,  0.0266,\n",
      "        -0.0289,  0.0276, -0.0193, -0.0126,  0.0160,  0.0094,  0.0106,  0.0180,\n",
      "        -0.0170,  0.0092,  0.0513,  0.0222, -0.0003,  0.0251, -0.0131,  0.0008,\n",
      "         0.0323,  0.0318, -0.0310,  0.0023, -0.0389,  0.0261, -0.0422, -0.0030,\n",
      "         0.0240, -0.0238,  0.0102, -0.0171, -0.0201,  0.0099,  0.0250,  0.0413],\n",
      "       device='cuda:0')\n",
      "cnn3.weight tensor([[[-2.9134e-02, -5.3726e-03, -2.1689e-02,  ..., -1.8477e-02,\n",
      "           2.5707e-02,  3.2318e-02],\n",
      "         [ 1.9564e-02,  1.6155e-02,  2.4797e-02,  ..., -5.8889e-03,\n",
      "          -3.1397e-02, -2.3677e-02],\n",
      "         [ 1.0816e-02,  1.2132e-02,  1.7449e-03,  ..., -1.1825e-02,\n",
      "          -3.2862e-03, -2.5874e-02],\n",
      "         ...,\n",
      "         [-3.3610e-02, -2.6833e-02, -1.5969e-03,  ..., -6.8868e-03,\n",
      "           2.1134e-02,  3.2814e-02],\n",
      "         [ 5.3126e-02,  6.9514e-03,  3.6870e-03,  ...,  2.2532e-04,\n",
      "          -2.2486e-02, -2.2192e-02],\n",
      "         [-1.4924e-02, -1.5495e-02, -3.6255e-02,  ...,  2.0817e-03,\n",
      "          -8.6898e-03,  4.8094e-03]],\n",
      "\n",
      "        [[-4.4944e-02, -5.2644e-02, -4.8220e-03,  ..., -8.1110e-03,\n",
      "          -2.9451e-02,  2.3446e-02],\n",
      "         [ 1.0843e-02,  1.7861e-02,  2.5156e-02,  ...,  1.9899e-02,\n",
      "          -2.5235e-03,  8.3958e-03],\n",
      "         [-8.2507e-03,  1.5413e-02, -2.1300e-02,  ...,  1.7031e-02,\n",
      "          -3.2325e-02,  1.4423e-02],\n",
      "         ...,\n",
      "         [ 5.9209e-02, -7.7629e-03, -1.3575e-02,  ...,  3.8445e-03,\n",
      "          -1.8286e-02,  3.1708e-02],\n",
      "         [-1.3112e-02, -5.1025e-03, -1.9936e-02,  ...,  4.2076e-03,\n",
      "           9.6171e-03,  3.0515e-02],\n",
      "         [-4.5224e-02, -5.6227e-02, -6.1872e-02,  ..., -2.4188e-02,\n",
      "           1.1781e-02,  1.7358e-02]],\n",
      "\n",
      "        [[-4.7650e-02, -6.4254e-02, -2.4764e-02,  ...,  3.0689e-03,\n",
      "          -4.3874e-03,  3.1056e-03],\n",
      "         [ 4.1270e-02,  3.1027e-02,  3.9067e-02,  ...,  2.1898e-02,\n",
      "           4.4017e-02, -1.5873e-03],\n",
      "         [-3.5394e-02, -2.5533e-02, -5.1093e-02,  ..., -3.7158e-02,\n",
      "           2.3756e-03, -2.6917e-02],\n",
      "         ...,\n",
      "         [-7.1941e-02, -5.4854e-02, -3.9385e-02,  ...,  2.1325e-02,\n",
      "          -2.2195e-02, -8.1601e-03],\n",
      "         [ 3.5770e-02,  4.7761e-02,  2.9969e-02,  ...,  2.9273e-02,\n",
      "          -6.8041e-03,  3.1939e-02],\n",
      "         [-9.2417e-02, -9.0743e-02, -1.5726e-02,  ..., -3.7597e-02,\n",
      "          -1.8371e-02, -2.7595e-02]],\n",
      "\n",
      "        ...,\n",
      "\n",
      "        [[ 9.6691e-03, -2.1743e-02, -4.0638e-03,  ..., -2.7883e-03,\n",
      "           1.3879e-02, -1.0934e-02],\n",
      "         [-7.8524e-02, -4.8066e-02, -8.7428e-02,  ..., -1.1739e-02,\n",
      "          -2.4288e-02, -2.5941e-02],\n",
      "         [ 1.2105e-01,  8.1382e-02,  1.0509e-01,  ...,  3.8290e-02,\n",
      "           4.9362e-02,  5.1427e-02],\n",
      "         ...,\n",
      "         [-1.6789e-02, -1.0838e-02,  3.1880e-02,  ...,  3.4302e-02,\n",
      "           2.6759e-02,  9.6912e-03],\n",
      "         [ 3.9134e-02,  5.3481e-02,  4.5848e-02,  ..., -1.4221e-03,\n",
      "          -3.6862e-03, -1.0730e-02],\n",
      "         [ 9.0097e-03,  4.4305e-03, -3.5254e-03,  ...,  2.6007e-02,\n",
      "           3.9416e-02,  1.7299e-02]],\n",
      "\n",
      "        [[-1.7938e-02,  1.4116e-02,  2.2602e-02,  ...,  2.2407e-02,\n",
      "           2.1779e-02, -5.8028e-03],\n",
      "         [ 3.6956e-03,  1.5053e-02,  7.9925e-03,  ..., -1.4416e-02,\n",
      "          -4.8708e-02, -1.0044e-02],\n",
      "         [-3.0881e-02,  3.4528e-02, -2.6035e-02,  ...,  6.3033e-03,\n",
      "           3.5247e-02,  1.0076e-02],\n",
      "         ...,\n",
      "         [ 2.7373e-02,  5.2049e-02,  3.0084e-02,  ..., -1.5383e-02,\n",
      "           2.4046e-02,  1.8308e-02],\n",
      "         [ 8.9771e-03, -1.0844e-02, -5.5312e-03,  ..., -5.3837e-02,\n",
      "           2.6559e-05,  4.0541e-03],\n",
      "         [-6.7364e-02,  1.8123e-03, -7.9886e-03,  ..., -4.5851e-02,\n",
      "          -7.1488e-03, -4.7273e-02]],\n",
      "\n",
      "        [[ 2.9562e-02,  3.2296e-02, -2.6969e-02,  ...,  5.0009e-02,\n",
      "          -9.8196e-03,  2.4499e-02],\n",
      "         [-6.9935e-03, -3.3256e-02, -1.5351e-02,  ..., -5.7459e-02,\n",
      "           6.5917e-03, -5.1695e-02],\n",
      "         [-5.3357e-02, -8.7168e-02, -2.2758e-02,  ..., -1.9841e-02,\n",
      "          -2.9732e-02, -7.2628e-03],\n",
      "         ...,\n",
      "         [-7.3359e-03,  9.7754e-03,  2.7850e-03,  ...,  6.1718e-03,\n",
      "           3.1692e-03,  6.4064e-02],\n",
      "         [-9.6114e-02, -3.9762e-02, -1.4929e-02,  ...,  2.4664e-02,\n",
      "           1.3705e-03, -4.2604e-02],\n",
      "         [-3.1874e-02,  2.9045e-02,  2.5760e-02,  ...,  4.7202e-02,\n",
      "          -7.7727e-04,  2.6572e-02]]], device='cuda:0')\n",
      "cnn3.bias tensor([ 0.0324,  0.0173, -0.0468, -0.0285,  0.0214,  0.0189,  0.0162,  0.0226,\n",
      "         0.0032, -0.0161,  0.0342, -0.0098,  0.0046,  0.0089, -0.0209, -0.0081,\n",
      "        -0.0003,  0.0217, -0.0304, -0.0121,  0.0273, -0.0173,  0.0099, -0.0057,\n",
      "        -0.0129,  0.0164, -0.0262, -0.0246, -0.0329,  0.0144,  0.0017, -0.0197,\n",
      "         0.0233, -0.0125,  0.0147, -0.0386, -0.0230, -0.0355, -0.0234,  0.0139,\n",
      "        -0.0069,  0.0403,  0.0017,  0.0137,  0.0027,  0.0039, -0.0131, -0.0411,\n",
      "        -0.0010,  0.0109, -0.0073,  0.0023,  0.0248, -0.0157, -0.0114, -0.0069,\n",
      "         0.0312,  0.0231,  0.0393,  0.0015, -0.0235,  0.0294, -0.0152, -0.0055,\n",
      "         0.0248,  0.0259, -0.0162, -0.0303,  0.0063, -0.0321,  0.0062,  0.0154,\n",
      "         0.0103,  0.0134, -0.0042, -0.0260,  0.0142, -0.0003,  0.0176,  0.0245,\n",
      "         0.0079,  0.0228, -0.0315,  0.0076,  0.0120, -0.0127, -0.0235, -0.0174,\n",
      "        -0.0458, -0.0185,  0.0221,  0.0003,  0.0043,  0.0265, -0.0094, -0.0091,\n",
      "        -0.0050, -0.0086,  0.0321, -0.0257, -0.0008,  0.0029,  0.0239,  0.0120,\n",
      "        -0.0196, -0.0132,  0.0085,  0.0276,  0.0208, -0.0137,  0.0228, -0.0142,\n",
      "         0.0291,  0.0345,  0.0086,  0.0105, -0.0148, -0.0394, -0.0252, -0.0176,\n",
      "         0.0104, -0.0232, -0.0273, -0.0200,  0.0052,  0.0288, -0.0090, -0.0224],\n",
      "       device='cuda:0')\n",
      "batchnorm.weight tensor([0.9783, 1.0101, 1.0063, 0.9915, 1.0237, 0.9964, 1.0304, 0.9805, 0.9856,\n",
      "        0.9876, 0.9986, 1.0160, 1.0051, 1.0104, 1.0205, 1.0435, 0.9860, 1.0155,\n",
      "        1.0217, 0.9837, 0.9862, 1.0341, 1.0034, 1.0211, 1.0007, 1.0063, 1.0262,\n",
      "        0.9950, 1.0145, 0.9877, 0.9650, 1.0250, 0.9932, 0.9146, 1.0151, 1.0045,\n",
      "        1.0025, 1.0027, 1.0140, 0.9840, 1.0146, 0.9762, 1.0151, 0.9784, 0.9809,\n",
      "        1.0233, 0.9874, 0.9249, 1.0056, 0.9630, 0.9961, 0.9770, 1.0238, 1.0017,\n",
      "        0.9881, 0.9496, 1.0050, 0.9803, 1.0398, 1.0108, 1.0130, 0.9943, 1.0047,\n",
      "        0.9885, 0.9825, 0.9885, 1.0087, 1.0117, 0.9879, 1.0010, 1.0045, 1.0048,\n",
      "        1.0404, 0.9634, 1.0051, 0.9984, 0.9979, 1.0342, 0.9715, 0.9912, 0.9984,\n",
      "        0.9798, 1.0062, 1.0056, 1.0145, 1.0129, 0.9916, 1.0137, 0.9856, 0.9766,\n",
      "        1.0170, 0.9966, 1.0265, 0.9246, 0.9833, 0.9582, 0.9490, 1.0277, 0.9834,\n",
      "        0.9555, 0.9958, 1.0154, 0.9743, 1.0097, 1.0271, 1.0031, 1.0094, 0.9888,\n",
      "        0.9839, 1.0137, 1.0011, 0.9922, 1.0262, 0.9996, 0.9772, 1.0306, 0.9996,\n",
      "        1.0145, 0.9928, 0.9634, 0.9940, 0.9999, 0.9874, 0.9903, 1.0151, 1.0114,\n",
      "        1.0030, 1.0130, 1.0083, 1.0340, 0.9834, 0.9458, 0.9866, 0.9734, 0.9421,\n",
      "        1.0059, 0.9852, 1.0087, 0.9535, 1.0238, 0.9762, 1.0137, 1.0080, 1.0154,\n",
      "        1.0002, 0.9610, 1.0050, 1.0065, 1.0262, 0.9770, 0.9901, 1.0218, 0.9984,\n",
      "        1.0245, 0.9747, 0.9860, 0.9621, 1.0191, 0.9793, 1.0123, 0.9975, 1.0262,\n",
      "        1.0236, 1.0037, 0.9825, 0.9945, 0.9833, 1.0050, 0.9547, 1.0128, 0.9823,\n",
      "        1.0204, 0.9985, 1.0176, 1.0129, 1.0108, 1.0006, 1.0078, 0.9782, 1.0135,\n",
      "        1.0063, 0.9955, 0.9724, 1.0055, 1.0267, 0.9651, 1.0196, 0.9914, 0.9854,\n",
      "        1.0102, 1.0096, 1.0193, 1.0090, 1.0117, 0.9935, 1.0112, 0.9756, 1.0056,\n",
      "        1.0035, 0.9768, 0.9978, 1.0368, 0.9784, 1.0192, 0.9940, 0.9284, 0.9984,\n",
      "        0.9944, 0.9443, 0.9887, 0.9376, 1.0207, 1.0173, 1.0143, 1.0150, 0.9709,\n",
      "        1.0185, 1.0011, 1.0032, 1.0070, 1.0015, 1.0029, 0.9769, 1.0177, 1.0146,\n",
      "        1.0046, 1.0252, 1.0146, 0.9653, 1.0026, 0.9978, 0.9993, 0.9934, 1.0205,\n",
      "        1.0105, 1.0100, 1.0131, 0.9948, 0.9708, 1.0027, 0.9962, 0.9857, 0.9896,\n",
      "        0.9901, 0.9882, 0.9998, 0.9828, 1.0061, 1.0051, 1.0028, 1.0125, 0.9763,\n",
      "        1.0098, 0.9948, 1.0046, 1.0094, 0.9826, 1.0232, 1.0111, 0.9829, 1.0150,\n",
      "        1.0540, 1.0105, 1.0319, 0.9979, 0.9897, 1.0220, 1.0552, 0.9709, 0.9852,\n",
      "        0.9360, 1.0106, 1.0281, 0.9785, 1.0202, 1.0036, 0.9843, 0.9884, 1.0112,\n",
      "        1.0163, 1.0392, 1.0120, 1.0158, 0.9997, 0.9978, 0.9758, 0.9037, 1.0267,\n",
      "        1.0263, 1.0107, 0.9642, 1.0034, 1.0172, 0.9813, 1.0347, 1.0381, 1.0066,\n",
      "        1.0232, 1.0134, 0.9643, 0.9688, 1.0199, 1.0058, 0.9503, 1.0036, 1.0195,\n",
      "        1.0295, 1.0156, 1.0328, 1.0292, 1.0023, 0.9815, 1.0326, 1.0026, 1.0520,\n",
      "        1.0149, 1.0210, 1.0081, 1.0217, 1.0144, 1.0218, 1.0348, 0.9971, 0.9990,\n",
      "        1.0125, 0.9968, 1.0149, 1.0294, 1.0004, 0.9827, 0.9898, 1.0045, 1.0028,\n",
      "        1.0132, 1.0043, 1.0018, 1.0054, 1.0155, 1.0201, 0.9976, 1.0138, 1.0117,\n",
      "        1.0082, 1.0026, 0.9793, 1.0134, 1.0102, 1.0439, 1.0078, 1.0123, 0.9712,\n",
      "        1.0344, 1.0128, 1.0057, 1.0262, 1.0041, 0.9894, 1.0328, 0.9852, 1.0009,\n",
      "        1.0260, 0.9717, 1.0300, 1.0215, 1.0020, 1.0287, 0.9861, 0.9933, 1.0284,\n",
      "        1.0150, 1.0048, 0.9959, 1.0240, 0.9970, 1.0182, 0.9873, 0.9948, 1.0123,\n",
      "        0.9650, 1.0118, 0.9987, 1.0167, 0.9830, 1.0013], device='cuda:0')\n",
      "batchnorm.bias tensor([-1.7199e-02, -7.4629e-04, -1.1972e-02, -3.4344e-02,  6.3581e-03,\n",
      "        -4.4340e-02, -1.4097e-02, -3.8574e-02, -2.9344e-02, -8.5402e-03,\n",
      "        -1.6952e-02,  1.0829e-04,  5.3110e-03, -9.4952e-03, -1.3276e-02,\n",
      "         2.1953e-03, -3.3166e-02, -5.4384e-03, -5.7833e-03, -3.2338e-02,\n",
      "        -2.4628e-02,  5.6084e-03, -1.2070e-02,  1.1230e-02, -6.6839e-04,\n",
      "         5.7497e-03, -9.5539e-03, -2.5411e-02, -8.0005e-03, -2.4591e-02,\n",
      "        -3.0259e-02, -1.3171e-02, -9.9673e-03, -9.3164e-02, -1.6002e-02,\n",
      "        -2.2064e-02, -1.6491e-02, -4.5949e-03, -1.1722e-02, -3.8251e-02,\n",
      "         2.1951e-04, -2.8416e-02, -2.0295e-03, -2.1441e-02, -2.8239e-02,\n",
      "        -1.7112e-02, -1.3353e-02, -5.4070e-02, -1.4408e-02, -4.1079e-02,\n",
      "        -4.1592e-02, -3.9963e-02,  1.0126e-02, -3.7152e-02, -2.1987e-02,\n",
      "        -5.3609e-02,  2.0341e-03, -1.5908e-02,  2.4631e-02, -1.5575e-02,\n",
      "        -2.0288e-02, -3.3140e-02, -4.1367e-03, -2.5631e-02, -3.1234e-02,\n",
      "        -2.5771e-02, -2.6291e-02, -9.8313e-03, -1.7982e-02, -2.0633e-02,\n",
      "        -8.4970e-03, -1.8913e-02, -1.4383e-02, -1.9275e-02,  2.3311e-03,\n",
      "        -1.0036e-02, -3.0269e-03,  3.8265e-04, -2.7450e-02, -3.3119e-02,\n",
      "        -1.6076e-02, -1.2373e-02,  3.2111e-03, -3.2206e-03, -1.7607e-02,\n",
      "        -7.7099e-03, -3.8610e-03, -1.5321e-02, -3.2473e-02, -2.3950e-02,\n",
      "        -1.7106e-02, -5.9698e-04, -1.3447e-02, -6.8875e-02, -4.4105e-02,\n",
      "        -2.3692e-02, -3.7198e-02,  3.7035e-03, -2.0074e-02, -7.2408e-02,\n",
      "        -3.9126e-02, -3.5740e-03, -4.4607e-02,  1.4980e-02,  7.9590e-03,\n",
      "        -3.3275e-02, -2.6296e-02, -1.5691e-02, -3.1857e-02,  2.5450e-03,\n",
      "        -1.3869e-02, -3.5623e-02, -1.9718e-02, -4.3803e-02, -4.3702e-02,\n",
      "        -7.8288e-03, -2.0833e-02, -3.0369e-02, -2.1362e-02, -3.5338e-02,\n",
      "        -1.9918e-02, -2.7142e-04, -5.8177e-03, -2.4946e-02, -1.1384e-02,\n",
      "        -1.0130e-02, -3.1150e-02,  2.2005e-03, -1.1307e-02, -5.9846e-03,\n",
      "        -9.7061e-03, -3.9423e-02, -2.5143e-02, -2.0903e-02, -5.5087e-02,\n",
      "        -3.1519e-02, -3.9692e-02, -1.5086e-02, -5.6397e-02,  8.4515e-03,\n",
      "        -4.6093e-02, -1.4436e-02, -2.4862e-03, -2.1595e-02, -2.7391e-02,\n",
      "        -4.0097e-02, -7.9043e-03, -1.9025e-02,  1.5301e-02, -3.2333e-02,\n",
      "        -3.3796e-02, -7.8281e-03, -2.8959e-02, -1.0794e-02, -3.2650e-02,\n",
      "        -3.5759e-02, -4.0892e-02, -2.6286e-02, -1.8768e-02, -4.1821e-03,\n",
      "        -2.1881e-02,  1.4694e-03, -3.0711e-03, -9.0770e-03, -3.4585e-02,\n",
      "        -3.5859e-02, -3.3900e-02, -3.7901e-03, -4.7346e-02, -2.6456e-02,\n",
      "        -2.8461e-02, -8.5805e-03, -2.0318e-02, -4.6516e-04, -1.7550e-02,\n",
      "        -1.0837e-02, -1.8115e-02, -2.2927e-02, -3.2409e-02, -1.0741e-02,\n",
      "         7.0573e-04, -2.2186e-02, -1.4647e-02, -7.3271e-03,  1.6885e-03,\n",
      "        -4.1556e-02,  8.6313e-03, -3.0029e-02, -4.7484e-02, -2.0545e-02,\n",
      "        -1.2996e-02, -2.3372e-02, -2.9385e-02, -1.4826e-02, -2.1831e-02,\n",
      "         8.5043e-03, -4.2008e-02, -4.4134e-03, -2.9843e-02, -2.5098e-02,\n",
      "        -6.3340e-03, -1.3469e-02, -2.6754e-02, -2.5665e-02, -3.1281e-02,\n",
      "        -7.2643e-02, -1.0154e-02, -3.2047e-02, -6.2753e-02, -2.3999e-03,\n",
      "        -6.3198e-02,  1.8295e-03, -2.0407e-02, -1.7776e-02,  7.9340e-04,\n",
      "        -3.1470e-02, -2.7985e-02, -2.9022e-02, -3.0292e-02, -3.5825e-04,\n",
      "        -3.7841e-03,  2.1327e-03, -4.8440e-02, -2.2546e-02, -9.5596e-03,\n",
      "        -2.5332e-02,  8.1487e-03, -3.5079e-03, -3.5883e-02, -1.1065e-02,\n",
      "        -4.4510e-02, -2.3961e-02, -1.8912e-02, -1.3838e-02, -3.3606e-03,\n",
      "        -3.0344e-02, -5.7291e-03, -1.7997e-02, -3.9141e-02, -1.9879e-02,\n",
      "        -1.3172e-02, -8.8981e-03, -1.7763e-02, -2.0144e-02, -1.7418e-02,\n",
      "        -1.8409e-02, -1.8321e-02, -1.8287e-02, -2.9773e-02, -1.6733e-02,\n",
      "         4.9306e-03, -2.6083e-02, -5.6949e-03, -5.0932e-02, -1.9650e-02,\n",
      "        -5.9474e-03, -3.9599e-02,  1.3306e-02, -2.7578e-02, -3.4701e-02,\n",
      "        -1.9204e-02, -7.6197e-03, -1.7967e-02, -1.0886e-02, -1.5442e-02,\n",
      "        -2.0997e-02, -7.1935e-03, -2.9509e-03, -4.7458e-02, -3.1789e-02,\n",
      "        -6.0843e-02, -1.9051e-03,  1.7342e-02, -2.7807e-02,  5.1723e-05,\n",
      "        -1.7657e-02, -2.8514e-02, -2.3841e-02, -2.2957e-02, -7.5354e-03,\n",
      "         1.6441e-02, -5.3826e-03, -1.9436e-02, -4.6067e-02, -5.4280e-03,\n",
      "        -4.7690e-02, -1.0781e-01,  3.7051e-03, -1.9724e-02, -2.9762e-02,\n",
      "        -4.5331e-02, -1.2607e-02, -2.7757e-02, -4.0042e-02,  1.7225e-02,\n",
      "        -1.3897e-02, -3.3180e-02,  8.7749e-03, -2.4488e-02, -4.1671e-02,\n",
      "        -2.9093e-02,  5.6586e-03, -1.1302e-02, -6.0282e-02, -5.0877e-02,\n",
      "        -1.9524e-02, -1.9193e-02, -1.9010e-02, -3.2062e-02, -2.6192e-02,\n",
      "        -1.6107e-02, -1.8822e-02, -8.3554e-03, -1.3450e-02, -6.0994e-04,\n",
      "        -2.7386e-02, -2.2615e-02, -2.4410e-03,  1.3582e-03,  1.3658e-02,\n",
      "         8.5752e-03, -1.4195e-02, -1.7477e-02, -3.3876e-02, -2.6397e-02,\n",
      "        -8.6820e-03, -1.2289e-02, -2.2060e-02, -1.5321e-02, -1.5324e-02,\n",
      "        -8.7573e-03, -3.9430e-02, -5.7711e-03, -5.3019e-03, -2.1815e-02,\n",
      "        -8.7221e-03, -5.9790e-03, -4.8948e-03, -6.5696e-03, -2.5708e-02,\n",
      "         4.1476e-03, -2.7556e-03, -2.6695e-02, -2.6697e-02, -4.2543e-02,\n",
      "         7.3193e-03, -2.6169e-02, -2.2135e-02, -2.9819e-03, -5.9529e-03,\n",
      "        -4.2901e-02, -6.8074e-03, -1.8298e-02, -2.3796e-02,  1.7151e-02,\n",
      "        -2.0579e-02, -4.6318e-02, -7.0786e-03, -4.2195e-02, -1.5362e-02,\n",
      "         5.6148e-03, -5.0820e-02, -1.6042e-02, -1.0846e-02,  1.2261e-03,\n",
      "        -1.3248e-02, -3.4047e-02, -2.7321e-02, -7.8247e-03, -2.4198e-02,\n",
      "         1.0335e-02, -3.6396e-02,  1.2854e-02, -1.5075e-02, -3.5112e-02,\n",
      "        -3.0846e-02, -5.1626e-02, -1.1387e-02, -4.2200e-02, -2.3774e-02,\n",
      "        -2.2393e-02,  1.6726e-04, -3.6584e-02, -4.9561e-02], device='cuda:0')\n",
      "lstm.weight_ih_l0 tensor([[-0.0330,  0.0051,  0.0320,  ..., -0.0084,  0.0213, -0.0219],\n",
      "        [-0.0419, -0.0591, -0.0142,  ...,  0.0174, -0.0517, -0.0354],\n",
      "        [ 0.0246, -0.0135,  0.0228,  ...,  0.0302, -0.0076,  0.0014],\n",
      "        ...,\n",
      "        [-0.0316,  0.0146, -0.0628,  ...,  0.0152,  0.0200, -0.0046],\n",
      "        [-0.0413,  0.0431, -0.0019,  ...,  0.0440, -0.0418,  0.0055],\n",
      "        [ 0.0200, -0.0175,  0.0034,  ...,  0.0210, -0.0552, -0.0478]],\n",
      "       device='cuda:0')\n",
      "lstm.weight_hh_l0 tensor([[-0.0124, -0.0223, -0.0207,  ...,  0.0754, -0.0336, -0.0256],\n",
      "        [-0.0308,  0.0616,  0.0649,  ..., -0.0333, -0.0564, -0.0263],\n",
      "        [ 0.0065,  0.0022,  0.0613,  ..., -0.0166,  0.0071, -0.0242],\n",
      "        ...,\n",
      "        [ 0.0074, -0.0520,  0.0712,  ..., -0.0100, -0.0404,  0.0040],\n",
      "        [-0.0027, -0.0187,  0.0331,  ...,  0.0456, -0.0401, -0.0092],\n",
      "        [ 0.0601,  0.0142,  0.0542,  ..., -0.0047,  0.0534,  0.0524]],\n",
      "       device='cuda:0')\n",
      "lstm.bias_ih_l0 tensor([-0.0206, -0.0051, -0.0024,  ..., -0.0101,  0.0233, -0.0536],\n",
      "       device='cuda:0')\n",
      "lstm.bias_hh_l0 tensor([ 0.0364, -0.0328,  0.0023,  ...,  0.0213, -0.0163, -0.0316],\n",
      "       device='cuda:0')\n",
      "lstm.weight_ih_l1 tensor([[ 0.0390,  0.0118, -0.0275,  ..., -0.0352, -0.0267, -0.0292],\n",
      "        [-0.0289,  0.0249,  0.0071,  ...,  0.0411,  0.0324,  0.0017],\n",
      "        [-0.0388, -0.0397,  0.0481,  ..., -0.0149,  0.0290, -0.0122],\n",
      "        ...,\n",
      "        [ 0.0029, -0.0133,  0.0265,  ..., -0.0570,  0.0084,  0.0335],\n",
      "        [ 0.0022, -0.0137,  0.0627,  ..., -0.0027,  0.0132, -0.0232],\n",
      "        [ 0.0016, -0.0627, -0.0130,  ...,  0.0405, -0.0044,  0.0175]],\n",
      "       device='cuda:0')\n",
      "lstm.weight_hh_l1 tensor([[ 0.0110, -0.0529, -0.0414,  ..., -0.0455, -0.0384, -0.0283],\n",
      "        [ 0.0310,  0.0127, -0.0137,  ..., -0.0071,  0.0091, -0.0148],\n",
      "        [ 0.0016,  0.0067,  0.0034,  ...,  0.0381,  0.0684,  0.0241],\n",
      "        ...,\n",
      "        [ 0.0020, -0.0419, -0.0289,  ...,  0.0329,  0.0124,  0.0420],\n",
      "        [ 0.0009, -0.0123, -0.0701,  ..., -0.0508, -0.0394, -0.0154],\n",
      "        [ 0.0644, -0.0472, -0.0248,  ...,  0.0215,  0.0245, -0.0148]],\n",
      "       device='cuda:0')\n",
      "lstm.bias_ih_l1 tensor([-0.0638, -0.0591, -0.0601,  ..., -0.0638, -0.0074, -0.0093],\n",
      "       device='cuda:0')\n",
      "lstm.bias_hh_l1 tensor([-0.0113, -0.0761, -0.0678,  ..., -0.0823, -0.0590, -0.0002],\n",
      "       device='cuda:0')\n",
      "linear.weight tensor([[-0.0014,  0.0498,  0.0641,  ...,  0.0193, -0.0275,  0.0715],\n",
      "        [-0.0215, -0.0351,  0.0533,  ...,  0.0212, -0.0107,  0.0450],\n",
      "        [-0.0137,  0.0240, -0.0657,  ..., -0.0516,  0.0350, -0.0196],\n",
      "        [ 0.0238,  0.0263, -0.0273,  ...,  0.0082, -0.0373, -0.0790],\n",
      "        [ 0.0242,  0.0054, -0.0516,  ..., -0.0136,  0.0509, -0.0367]],\n",
      "       device='cuda:0')\n",
      "linear.bias tensor([-0.0088,  0.0118, -0.0177, -0.0340,  0.0002], device='cuda:0')\n"
     ]
    }
   ],
   "source": [
    "for name, param in model.named_parameters():\n",
    "    if param.requires_grad:\n",
    "        print(name, param.data)"
   ]
  },
  {
   "cell_type": "code",
   "execution_count": null,
   "id": "59146b4e",
   "metadata": {},
   "outputs": [],
   "source": []
  }
 ],
 "metadata": {
  "kernelspec": {
   "display_name": "Python 3",
   "language": "python",
   "name": "python3"
  },
  "language_info": {
   "codemirror_mode": {
    "name": "ipython",
    "version": 3
   },
   "file_extension": ".py",
   "mimetype": "text/x-python",
   "name": "python",
   "nbconvert_exporter": "python",
   "pygments_lexer": "ipython3",
   "version": "3.7.12"
  }
 },
 "nbformat": 4,
 "nbformat_minor": 5
}
