{
 "cells": [
  {
   "cell_type": "code",
   "execution_count": 1,
   "id": "030c0415",
   "metadata": {},
   "outputs": [],
   "source": [
    "import re\n",
    "import os\n",
    "import pandas as pd\n",
    "\n",
    "regex = re.compile(r'\\[.+\\]\\n', re.IGNORECASE)\n",
    "file_paths, file_names, emotions, audios = [], [], [], []\n",
    "emotion_map = {'anger': 'angry', 'happiness': 'happy', 'sadness': 'sad', 'fear': 'fear',\n",
    "              'disgust': 'disgust'}"
   ]
  },
  {
   "cell_type": "code",
   "execution_count": 2,
   "id": "4b8c917b",
   "metadata": {},
   "outputs": [
    {
     "name": "stdout",
     "output_type": "stream",
     "text": [
      "1.12.1+cu113\n",
      "0.12.1+cu113\n",
      "cuda\n"
     ]
    }
   ],
   "source": [
    "import torch\n",
    "import torchaudio\n",
    "\n",
    "print(torch.__version__)\n",
    "print(torchaudio.__version__)\n",
    "\n",
    "torch.random.manual_seed(0)\n",
    "device = torch.device(\"cuda\" if torch.cuda.is_available() else \"cpu\")\n",
    "\n",
    "print(device)"
   ]
  },
  {
   "cell_type": "code",
   "execution_count": 3,
   "id": "5c90c3b9",
   "metadata": {},
   "outputs": [
    {
     "name": "stdout",
     "output_type": "stream",
     "text": [
      "<class 'torchaudio.models.wav2vec2.model.Wav2Vec2Model'>\n",
      "16000\n"
     ]
    }
   ],
   "source": [
    "bundle = torchaudio.pipelines.HUBERT_LARGE\n",
    "extractor = bundle.get_model()\n",
    "print(extractor.__class__)\n",
    "print(bundle.sample_rate)"
   ]
  },
  {
   "cell_type": "code",
   "execution_count": 11,
   "id": "2b25269f",
   "metadata": {},
   "outputs": [
    {
     "data": {
      "text/plain": [
       "['anger',\n",
       " 'session_entries.csv',\n",
       " 'session_entries_hubert.csv',\n",
       " 'fear',\n",
       " 'Tools and Documentation',\n",
       " 'disgust',\n",
       " 'sadness',\n",
       " 'happiness']"
      ]
     },
     "execution_count": 11,
     "metadata": {},
     "output_type": "execute_result"
    }
   ],
   "source": [
    "import os\n",
    "os.listdir('../emotiondata/emotion_data')"
   ]
  },
  {
   "cell_type": "code",
   "execution_count": 12,
   "id": "d35d3153",
   "metadata": {},
   "outputs": [
    {
     "name": "stdout",
     "output_type": "stream",
     "text": [
      "found\n"
     ]
    }
   ],
   "source": [
    "folder_list = ['anger', 'disgust', 'fear', 'happiness', 'sadness']\n",
    "entries = []\n",
    "for folder in folder_list:\n",
    "    cur_file_list = os.listdir(f'../emotiondata/emotion_data/{folder}')\n",
    "    for i in cur_file_list:\n",
    "        if i == 's05 (3).wav':\n",
    "            print(\"found\")\n",
    "            continue\n",
    "        entries.append(i)\n"
   ]
  },
  {
   "cell_type": "code",
   "execution_count": 13,
   "id": "17286204",
   "metadata": {},
   "outputs": [],
   "source": [
    "import random\n",
    "random.shuffle(entries)\n",
    "session = []\n",
    "equal_parts = (len(entries)-1)//5 # for equally split the entries into 5 parts\n",
    "count = 0\n",
    "main_data_path = '../emotiondata/emotion_data'"
   ]
  },
  {
   "cell_type": "code",
   "execution_count": 14,
   "id": "d520c454",
   "metadata": {},
   "outputs": [
    {
     "name": "stderr",
     "output_type": "stream",
     "text": [
      "100%|█████████████████████████████████████████████████████████████████████████████████████████████████████████████████████████████████████████████████████████████████████████████████████████████████████████████████████████████████████████████████████████████████████████████████████████| 604/604 [00:00<00:00, 856443.41it/s]\n"
     ]
    }
   ],
   "source": [
    "#### Only Run once\n",
    "from tqdm import tqdm \n",
    "folder_map = {'a':'anger', 'd':'disgust', 'f':'fear', 'h':'happiness', 's':'sadness'}\n",
    "\n",
    "file_paths = []\n",
    "file_names = []\n",
    "emotions = []\n",
    "# audios = []\n",
    "# labels = []\n",
    "\n",
    "\n",
    "for i in tqdm(range(len(entries))):\n",
    "    entry = entries[i]\n",
    "    if \"wav\" not in entry:\n",
    "        continue\n",
    "    folder = folder_map[entry[0]]\n",
    "    file_path = f'../emotiondata/emotion_data/{folder}/{entry}'\n",
    "    emotion = emotion_map[folder]\n",
    "    file_paths.append(file_path)\n",
    "    file_names.append(entry)\n",
    "    emotions.append(emotion)\n",
    "\n",
    "    # assign session to it\n",
    "    part = (count//equal_parts)%6 + 1\n",
    "    if part == 6:\n",
    "        part = 5\n",
    "    session.append(part)\n",
    "    count += 1\n",
    "\n",
    "\n",
    "file = pd.DataFrame({'path':file_paths, 'name': file_names, 'emotion': emotions, 'session': session})\n",
    "dataframe_path = main_data_path + '/session_entries_hubert.csv'\n",
    "file.to_csv(dataframe_path)"
   ]
  },
  {
   "cell_type": "code",
   "execution_count": 15,
   "id": "a72a3cb3",
   "metadata": {},
   "outputs": [
    {
     "data": {
      "text/plain": [
       "['anger',\n",
       " 'session_entries.csv',\n",
       " 'session_entries_hubert.csv',\n",
       " 'fear',\n",
       " 'Tools and Documentation',\n",
       " 'disgust',\n",
       " 'sadness',\n",
       " 'happiness']"
      ]
     },
     "execution_count": 15,
     "metadata": {},
     "output_type": "execute_result"
    }
   ],
   "source": [
    "os.listdir('../emotiondata/emotion_data')"
   ]
  },
  {
   "cell_type": "markdown",
   "id": "5eb31bb0",
   "metadata": {},
   "source": [
    "# Extract Features using Models"
   ]
  },
  {
   "cell_type": "code",
   "execution_count": 18,
   "id": "52a7f6ce",
   "metadata": {},
   "outputs": [
    {
     "data": {
      "text/html": [
       "<div>\n",
       "<style scoped>\n",
       "    .dataframe tbody tr th:only-of-type {\n",
       "        vertical-align: middle;\n",
       "    }\n",
       "\n",
       "    .dataframe tbody tr th {\n",
       "        vertical-align: top;\n",
       "    }\n",
       "\n",
       "    .dataframe thead th {\n",
       "        text-align: right;\n",
       "    }\n",
       "</style>\n",
       "<table border=\"1\" class=\"dataframe\">\n",
       "  <thead>\n",
       "    <tr style=\"text-align: right;\">\n",
       "      <th></th>\n",
       "      <th>path</th>\n",
       "      <th>name</th>\n",
       "      <th>emotion</th>\n",
       "      <th>session</th>\n",
       "    </tr>\n",
       "  </thead>\n",
       "  <tbody>\n",
       "    <tr>\n",
       "      <th>0</th>\n",
       "      <td>../emotiondata/emotion_data/anger/a17 (6).wav</td>\n",
       "      <td>a17 (6).wav</td>\n",
       "      <td>angry</td>\n",
       "      <td>1</td>\n",
       "    </tr>\n",
       "    <tr>\n",
       "      <th>1</th>\n",
       "      <td>../emotiondata/emotion_data/disgust/d03 (4).wav</td>\n",
       "      <td>d03 (4).wav</td>\n",
       "      <td>disgust</td>\n",
       "      <td>1</td>\n",
       "    </tr>\n",
       "    <tr>\n",
       "      <th>2</th>\n",
       "      <td>../emotiondata/emotion_data/sadness/s11 (1).wav</td>\n",
       "      <td>s11 (1).wav</td>\n",
       "      <td>sad</td>\n",
       "      <td>1</td>\n",
       "    </tr>\n",
       "    <tr>\n",
       "      <th>3</th>\n",
       "      <td>../emotiondata/emotion_data/fear/f07 (1).wav</td>\n",
       "      <td>f07 (1).wav</td>\n",
       "      <td>fear</td>\n",
       "      <td>1</td>\n",
       "    </tr>\n",
       "    <tr>\n",
       "      <th>4</th>\n",
       "      <td>../emotiondata/emotion_data/disgust/d14 (5).wav</td>\n",
       "      <td>d14 (5).wav</td>\n",
       "      <td>disgust</td>\n",
       "      <td>1</td>\n",
       "    </tr>\n",
       "  </tbody>\n",
       "</table>\n",
       "</div>"
      ],
      "text/plain": [
       "                                              path         name  emotion  \\\n",
       "0    ../emotiondata/emotion_data/anger/a17 (6).wav  a17 (6).wav    angry   \n",
       "1  ../emotiondata/emotion_data/disgust/d03 (4).wav  d03 (4).wav  disgust   \n",
       "2  ../emotiondata/emotion_data/sadness/s11 (1).wav  s11 (1).wav      sad   \n",
       "3     ../emotiondata/emotion_data/fear/f07 (1).wav  f07 (1).wav     fear   \n",
       "4  ../emotiondata/emotion_data/disgust/d14 (5).wav  d14 (5).wav  disgust   \n",
       "\n",
       "   session  \n",
       "0        1  \n",
       "1        1  \n",
       "2        1  \n",
       "3        1  \n",
       "4        1  "
      ]
     },
     "execution_count": 18,
     "metadata": {},
     "output_type": "execute_result"
    }
   ],
   "source": [
    "dataframe_path = main_data_path + '/session_entries_hubert.csv'\n",
    "file = pd.read_csv(dataframe_path)[['path', 'name', 'emotion', 'session']]\n",
    "file.head()"
   ]
  },
  {
   "cell_type": "code",
   "execution_count": 19,
   "id": "72092bcd",
   "metadata": {},
   "outputs": [
    {
     "name": "stderr",
     "output_type": "stream",
     "text": [
      "100%|█████████████████████████████████████████████████████████████████████████████████████████████████████████████████████████████████████████████████████████████████████████████████████████████████████████████████████████████████████████████████████████████████████████████████████████████| 604/604 [05:59<00:00,  1.68it/s]\n"
     ]
    }
   ],
   "source": [
    "from tqdm import tqdm\n",
    "audios = []\n",
    "to_be_discarded = []\n",
    "discarded_name = []\n",
    "for i in tqdm(range(len(file['path']))):\n",
    "    path = file['path'][i]\n",
    "    wave, sr = torchaudio.load(path)\n",
    "    if sr != bundle.sample_rate:\n",
    "        wave = torchaudio.functional.resample(wave, sr, bundle.sample_rate)\n",
    "    with torch.inference_mode():\n",
    "        feature, _ = extractor.extract_features(wave)\n",
    "    \n",
    "    feature = [f[0] for f in feature]\n",
    "    audio = torch.stack(feature)\n",
    "    audios.append(audio)"
   ]
  },
  {
   "cell_type": "markdown",
   "id": "d0747cba",
   "metadata": {},
   "source": [
    "# Load Data"
   ]
  },
  {
   "cell_type": "code",
   "execution_count": 59,
   "id": "34a3d789",
   "metadata": {},
   "outputs": [],
   "source": [
    "holdout = 5\n",
    "train = file[file['session'] != holdout]\n",
    "train_audios = [audios[i] for i in range(len(audios)) if file['session'][i] != holdout]\n",
    "test = file[file['session'] == holdout]\n",
    "test_audios = [audios[i] for i in range(len(audios)) if file['session'][i] == holdout]"
   ]
  },
  {
   "cell_type": "code",
   "execution_count": 60,
   "id": "be9eaebc",
   "metadata": {},
   "outputs": [],
   "source": [
    "class MyDataSet(torch.utils.data.Dataset):\n",
    "    def __init__(self, audios, labels, label_transform):\n",
    "        super(MyDataSet).__init__()\n",
    "        self.audios = audios\n",
    "        self.labels = labels\n",
    "        self.label_transform = label_transform\n",
    "        \n",
    "    def __getitem__(self, idx):\n",
    "        label = self.label_transform[self.labels[idx]]\n",
    "        audio = self.audios[idx]\n",
    "        length = audio.size(1)\n",
    "        return audio, length, label\n",
    "    \n",
    "    def __len__(self):\n",
    "        return len(self.labels)"
   ]
  },
  {
   "cell_type": "code",
   "execution_count": 61,
   "id": "e9898089",
   "metadata": {},
   "outputs": [],
   "source": [
    "def collate_indic(data):\n",
    "    audios, lengths, labels = zip(*data)\n",
    "    max_len = max(lengths)\n",
    "    n_ftrs = audios[0].size(2)\n",
    "    n_dims = audios[0].size(0)\n",
    "    features = torch.zeros((len(audios), n_dims, max_len, n_ftrs))\n",
    "    labels = torch.tensor(labels)\n",
    "    lengths = torch.tensor(lengths)\n",
    "\n",
    "    for i in range(len(data)):\n",
    "        j, k = audios[i].size(1), audios[i].size(2)\n",
    "        features[i] = torch.cat([audios[i], torch.zeros((n_dims, max_len - j, k))], dim=1)\n",
    "\n",
    "    return features, lengths, labels"
   ]
  },
  {
   "cell_type": "code",
   "execution_count": 62,
   "id": "592688a1",
   "metadata": {},
   "outputs": [
    {
     "data": {
      "text/plain": [
       "{'neutral': 0, 'angry': 1, 'happy': 2, 'sad': 3, 'fear': 4, 'disgust': 5}"
      ]
     },
     "execution_count": 62,
     "metadata": {},
     "output_type": "execute_result"
    }
   ],
   "source": [
    "categories = ['neutral', 'angry', 'happy', 'sad', 'fear', 'disgust']\n",
    "cate_dic = {}\n",
    "for i, cate in enumerate(categories):\n",
    "    cate_dic[cate] = i\n",
    "cate_dic"
   ]
  },
  {
   "cell_type": "code",
   "execution_count": 63,
   "id": "79856942",
   "metadata": {},
   "outputs": [],
   "source": [
    "from torch.utils.data import DataLoader\n",
    "\n",
    "train_dataset = MyDataSet(train_audios, train['emotion'].tolist(), cate_dic)\n",
    "trainloader_args = dict(batch_size=16, shuffle=True)\n",
    "train_dataloader = DataLoader(train_dataset, **trainloader_args, \n",
    "                              collate_fn=collate_indic)\n",
    "\n",
    "test_dataset = MyDataSet(test_audios, test['emotion'].tolist(), cate_dic)\n",
    "testloader_args = dict(batch_size=16, shuffle=True)\n",
    "test_dataloader = DataLoader(test_dataset, **testloader_args, \n",
    "                             collate_fn=collate_indic)"
   ]
  },
  {
   "cell_type": "markdown",
   "id": "fb9917a3",
   "metadata": {},
   "source": [
    "# 3CNN+LSTM"
   ]
  },
  {
   "cell_type": "code",
   "execution_count": 64,
   "id": "69345d91",
   "metadata": {},
   "outputs": [],
   "source": [
    "import torch.nn as nn\n",
    "import torch.nn.functional as F\n",
    "\n",
    "class ICASSP3CNN(nn.Module):\n",
    "    def __init__(self, vocab_size, dims = 12, embed_size=128, hidden_size=512, num_lstm_layers = 2, bidirectional = False, label_size=7):\n",
    "        super().__init__()\n",
    "        self.n_layers = num_lstm_layers \n",
    "        self.hidden = hidden_size\n",
    "        self.bidirectional = bidirectional\n",
    "        \n",
    "        self.aggr = nn.Conv1d(in_channels=dims, out_channels=1, kernel_size=1)\n",
    "        \n",
    "        self.embed = nn.Linear(in_features = vocab_size, out_features = embed_size)\n",
    "\n",
    "        self.cnn  = nn.Conv1d(embed_size, embed_size, kernel_size=3, padding=1)\n",
    "        self.cnn2 = nn.Conv1d(embed_size, embed_size, kernel_size=5, padding=2)\n",
    "        self.cnn3 = nn.Conv1d(embed_size, embed_size, kernel_size=7, padding=3)\n",
    "\n",
    "        self.batchnorm = nn.BatchNorm1d(3 * embed_size)\n",
    "\n",
    "        self.lstm = nn.LSTM(input_size = 3 * embed_size, \n",
    "                            hidden_size = hidden_size, \n",
    "                            num_layers = num_lstm_layers, \n",
    "                            bidirectional = bidirectional)\n",
    "\n",
    "        self.linear = nn.Linear(in_features = 2 * hidden_size if bidirectional else hidden_size, \n",
    "                                out_features = label_size)\n",
    "\n",
    "\n",
    "    def forward(self, x, lengths):\n",
    "        \"\"\"\n",
    "        padded_x: (B,T) padded LongTensor\n",
    "        \"\"\"\n",
    "        n, d, b, t = x.size(0), x.size(1), x.size(2), x.size(3)\n",
    "        x = torch.flatten(x, start_dim=2)\n",
    "        input = self.aggr(x)\n",
    "        input = torch.reshape(input, (n, b, t))\n",
    "        input = self.embed(input)\n",
    "\n",
    "        batch_size = input.size(0)\n",
    "        input = input.transpose(1,2)    # (B,T,H) -> (B,H,T)\n",
    "\n",
    "        cnn_output = torch.cat([self.cnn(input), self.cnn2(input), self.cnn3(input)], dim=1)\n",
    "\n",
    "        input = F.relu(self.batchnorm(cnn_output))\n",
    "\n",
    "        input = input.transpose(1,2)\n",
    "\n",
    "        pack_tensor = nn.utils.rnn.pack_padded_sequence(input, lengths, batch_first=True, enforce_sorted=False)\n",
    "        _, (hn, cn) = self.lstm(pack_tensor)\n",
    "\n",
    "        if self.bidirectional:\n",
    "            h_n = hn.view(self.n_layers, 2, batch_size, self.hidden)\n",
    "            h_n = torch.cat([ h_n[-1, 0,:], h_n[-1,1,:] ], dim = 1)\n",
    "        else:\n",
    "            h_n = hn[-1]\n",
    "\n",
    "        logits = self.linear(h_n)\n",
    "\n",
    "        return logits"
   ]
  },
  {
   "cell_type": "markdown",
   "id": "3b44bf04",
   "metadata": {},
   "source": [
    "# Train Each Layer¶"
   ]
  },
  {
   "cell_type": "code",
   "execution_count": 65,
   "id": "5ddfbd01",
   "metadata": {},
   "outputs": [
    {
     "name": "stderr",
     "output_type": "stream",
     "text": [
      "  2%|█████▊                                                                                                                                                                                                                                                                                          | 1/50 [00:10<08:17, 10.16s/it]"
     ]
    },
    {
     "name": "stdout",
     "output_type": "stream",
     "text": [
      "epoch:1, train accu:0.2354, train loss:1.65\n"
     ]
    },
    {
     "name": "stderr",
     "output_type": "stream",
     "text": [
      "\r",
      "  4%|███████████▌                                                                                                                                                                                                                                                                                    | 2/50 [00:19<07:48,  9.76s/it]"
     ]
    },
    {
     "name": "stdout",
     "output_type": "stream",
     "text": [
      "epoch:2, train accu:0.4396, train loss:1.29\n"
     ]
    },
    {
     "name": "stderr",
     "output_type": "stream",
     "text": [
      "\r",
      "  6%|█████████████████▎                                                                                                                                                                                                                                                                              | 3/50 [00:29<07:44,  9.89s/it]"
     ]
    },
    {
     "name": "stdout",
     "output_type": "stream",
     "text": [
      "epoch:3, train accu:0.5042, train loss:1.15\n"
     ]
    },
    {
     "name": "stderr",
     "output_type": "stream",
     "text": [
      "\r",
      "  8%|███████████████████████                                                                                                                                                                                                                                                                         | 4/50 [00:39<07:42, 10.05s/it]"
     ]
    },
    {
     "name": "stdout",
     "output_type": "stream",
     "text": [
      "epoch:4, train accu:0.5458, train loss:1.03\n"
     ]
    },
    {
     "name": "stderr",
     "output_type": "stream",
     "text": [
      "\r",
      " 10%|████████████████████████████▊                                                                                                                                                                                                                                                                   | 5/50 [00:49<07:27,  9.94s/it]"
     ]
    },
    {
     "name": "stdout",
     "output_type": "stream",
     "text": [
      "epoch:5, train accu:0.6458, train loss:0.87\n"
     ]
    },
    {
     "name": "stderr",
     "output_type": "stream",
     "text": [
      "\r",
      " 12%|██████████████████████████████████▌                                                                                                                                                                                                                                                             | 6/50 [00:59<07:19,  9.99s/it]"
     ]
    },
    {
     "name": "stdout",
     "output_type": "stream",
     "text": [
      "epoch:6, train accu:0.7021, train loss:0.76\n"
     ]
    },
    {
     "name": "stderr",
     "output_type": "stream",
     "text": [
      "\r",
      " 14%|████████████████████████████████████████▎                                                                                                                                                                                                                                                       | 7/50 [01:09<07:02,  9.83s/it]"
     ]
    },
    {
     "name": "stdout",
     "output_type": "stream",
     "text": [
      "epoch:7, train accu:0.7000, train loss:0.72\n"
     ]
    },
    {
     "name": "stderr",
     "output_type": "stream",
     "text": [
      "\r",
      " 16%|██████████████████████████████████████████████                                                                                                                                                                                                                                                  | 8/50 [01:19<06:51,  9.79s/it]"
     ]
    },
    {
     "name": "stdout",
     "output_type": "stream",
     "text": [
      "epoch:8, train accu:0.6917, train loss:0.75\n"
     ]
    },
    {
     "name": "stderr",
     "output_type": "stream",
     "text": [
      "\r",
      " 18%|███████████████████████████████████████████████████▊                                                                                                                                                                                                                                            | 9/50 [01:28<06:38,  9.71s/it]"
     ]
    },
    {
     "name": "stdout",
     "output_type": "stream",
     "text": [
      "epoch:9, train accu:0.7583, train loss:0.64\n"
     ]
    },
    {
     "name": "stderr",
     "output_type": "stream",
     "text": [
      "\r",
      " 20%|█████████████████████████████████████████████████████████▍                                                                                                                                                                                                                                     | 10/50 [01:38<06:32,  9.82s/it]"
     ]
    },
    {
     "name": "stdout",
     "output_type": "stream",
     "text": [
      "epoch:10, train accu:0.7729, train loss:0.61\n"
     ]
    },
    {
     "name": "stderr",
     "output_type": "stream",
     "text": [
      "\r",
      " 22%|███████████████████████████████████████████████████████████████▏                                                                                                                                                                                                                               | 11/50 [01:48<06:27,  9.93s/it]"
     ]
    },
    {
     "name": "stdout",
     "output_type": "stream",
     "text": [
      "epoch:11, train accu:0.8313, train loss:0.50\n"
     ]
    },
    {
     "name": "stderr",
     "output_type": "stream",
     "text": [
      "\r",
      " 24%|████████████████████████████████████████████████████████████████████▉                                                                                                                                                                                                                          | 12/50 [01:58<06:19,  9.98s/it]"
     ]
    },
    {
     "name": "stdout",
     "output_type": "stream",
     "text": [
      "epoch:12, train accu:0.8271, train loss:0.46\n"
     ]
    },
    {
     "name": "stderr",
     "output_type": "stream",
     "text": [
      "\r",
      " 26%|██████████████████████████████████████████████████████████████████████████▌                                                                                                                                                                                                                    | 13/50 [02:08<06:05,  9.88s/it]"
     ]
    },
    {
     "name": "stdout",
     "output_type": "stream",
     "text": [
      "epoch:13, train accu:0.8583, train loss:0.44\n"
     ]
    },
    {
     "name": "stderr",
     "output_type": "stream",
     "text": [
      "\r",
      " 28%|████████████████████████████████████████████████████████████████████████████████▎                                                                                                                                                                                                              | 14/50 [02:18<05:51,  9.77s/it]"
     ]
    },
    {
     "name": "stdout",
     "output_type": "stream",
     "text": [
      "epoch:14, train accu:0.8375, train loss:0.47\n"
     ]
    },
    {
     "name": "stderr",
     "output_type": "stream",
     "text": [
      "\r",
      " 30%|██████████████████████████████████████████████████████████████████████████████████████                                                                                                                                                                                                         | 15/50 [02:28<05:43,  9.83s/it]"
     ]
    },
    {
     "name": "stdout",
     "output_type": "stream",
     "text": [
      "epoch:15, train accu:0.8396, train loss:0.43\n"
     ]
    },
    {
     "name": "stderr",
     "output_type": "stream",
     "text": [
      "\r",
      " 32%|███████████████████████████████████████████████████████████████████████████████████████████▊                                                                                                                                                                                                   | 16/50 [02:37<05:33,  9.80s/it]"
     ]
    },
    {
     "name": "stdout",
     "output_type": "stream",
     "text": [
      "epoch:16, train accu:0.8812, train loss:0.38\n"
     ]
    },
    {
     "name": "stderr",
     "output_type": "stream",
     "text": [
      "\r",
      " 34%|█████████████████████████████████████████████████████████████████████████████████████████████████▌                                                                                                                                                                                             | 17/50 [02:48<05:31, 10.06s/it]"
     ]
    },
    {
     "name": "stdout",
     "output_type": "stream",
     "text": [
      "epoch:17, train accu:0.8771, train loss:0.34\n"
     ]
    },
    {
     "name": "stderr",
     "output_type": "stream",
     "text": [
      "\r",
      " 36%|███████████████████████████████████████████████████████████████████████████████████████████████████████▎                                                                                                                                                                                       | 18/50 [02:58<05:22, 10.09s/it]"
     ]
    },
    {
     "name": "stdout",
     "output_type": "stream",
     "text": [
      "epoch:18, train accu:0.9313, train loss:0.22\n"
     ]
    },
    {
     "name": "stderr",
     "output_type": "stream",
     "text": [
      "\r",
      " 38%|█████████████████████████████████████████████████████████████████████████████████████████████████████████████                                                                                                                                                                                  | 19/50 [03:08<05:08,  9.96s/it]"
     ]
    },
    {
     "name": "stdout",
     "output_type": "stream",
     "text": [
      "epoch:19, train accu:0.9375, train loss:0.20\n"
     ]
    },
    {
     "name": "stderr",
     "output_type": "stream",
     "text": [
      "\r",
      " 40%|██████████████████████████████████████████████████████████████████████████████████████████████████████████████████▊                                                                                                                                                                            | 20/50 [03:18<04:58,  9.93s/it]"
     ]
    },
    {
     "name": "stdout",
     "output_type": "stream",
     "text": [
      "epoch:20, train accu:0.9292, train loss:0.19\n"
     ]
    },
    {
     "name": "stderr",
     "output_type": "stream",
     "text": [
      "\r",
      " 42%|████████████████████████████████████████████████████████████████████████████████████████████████████████████████████████▌                                                                                                                                                                      | 21/50 [03:28<04:48,  9.95s/it]"
     ]
    },
    {
     "name": "stdout",
     "output_type": "stream",
     "text": [
      "epoch:21, train accu:0.9062, train loss:0.27\n"
     ]
    },
    {
     "name": "stderr",
     "output_type": "stream",
     "text": [
      "\r",
      " 44%|██████████████████████████████████████████████████████████████████████████████████████████████████████████████████████████████▎                                                                                                                                                                | 22/50 [03:38<04:45, 10.18s/it]"
     ]
    },
    {
     "name": "stdout",
     "output_type": "stream",
     "text": [
      "epoch:22, train accu:0.9437, train loss:0.20\n"
     ]
    },
    {
     "name": "stderr",
     "output_type": "stream",
     "text": [
      "\r",
      " 46%|████████████████████████████████████████████████████████████████████████████████████████████████████████████████████████████████████                                                                                                                                                           | 23/50 [03:48<04:33, 10.11s/it]"
     ]
    },
    {
     "name": "stdout",
     "output_type": "stream",
     "text": [
      "epoch:23, train accu:0.8667, train loss:0.37\n"
     ]
    },
    {
     "name": "stderr",
     "output_type": "stream",
     "text": [
      "\r",
      " 48%|█████████████████████████████████████████████████████████████████████████████████████████████████████████████████████████████████████████▊                                                                                                                                                     | 24/50 [03:58<04:21, 10.08s/it]"
     ]
    },
    {
     "name": "stdout",
     "output_type": "stream",
     "text": [
      "epoch:24, train accu:0.9146, train loss:0.21\n"
     ]
    },
    {
     "name": "stderr",
     "output_type": "stream",
     "text": [
      "\r",
      " 50%|███████████████████████████████████████████████████████████████████████████████████████████████████████████████████████████████████████████████▌                                                                                                                                               | 25/50 [04:08<04:10, 10.03s/it]"
     ]
    },
    {
     "name": "stdout",
     "output_type": "stream",
     "text": [
      "epoch:25, train accu:0.9667, train loss:0.13\n"
     ]
    },
    {
     "name": "stderr",
     "output_type": "stream",
     "text": [
      "\r",
      " 52%|█████████████████████████████████████████████████████████████████████████████████████████████████████████████████████████████████████████████████████▏                                                                                                                                         | 26/50 [04:18<03:59,  9.98s/it]"
     ]
    },
    {
     "name": "stdout",
     "output_type": "stream",
     "text": [
      "epoch:26, train accu:0.9542, train loss:0.12\n"
     ]
    },
    {
     "name": "stderr",
     "output_type": "stream",
     "text": [
      "\r",
      " 54%|██████████████████████████████████████████████████████████████████████████████████████████████████████████████████████████████████████████████████████████▉                                                                                                                                    | 27/50 [04:28<03:49, 10.00s/it]"
     ]
    },
    {
     "name": "stdout",
     "output_type": "stream",
     "text": [
      "epoch:27, train accu:0.9271, train loss:0.22\n"
     ]
    },
    {
     "name": "stderr",
     "output_type": "stream",
     "text": [
      "\r",
      " 56%|████████████████████████████████████████████████████████████████████████████████████████████████████████████████████████████████████████████████████████████████▋                                                                                                                              | 28/50 [04:39<03:44, 10.19s/it]"
     ]
    },
    {
     "name": "stdout",
     "output_type": "stream",
     "text": [
      "epoch:28, train accu:0.9500, train loss:0.16\n"
     ]
    },
    {
     "name": "stderr",
     "output_type": "stream",
     "text": [
      "\r",
      " 58%|██████████████████████████████████████████████████████████████████████████████████████████████████████████████████████████████████████████████████████████████████████▍                                                                                                                        | 29/50 [04:49<03:33, 10.15s/it]"
     ]
    },
    {
     "name": "stdout",
     "output_type": "stream",
     "text": [
      "epoch:29, train accu:0.9750, train loss:0.07\n"
     ]
    },
    {
     "name": "stderr",
     "output_type": "stream",
     "text": [
      "\r",
      " 60%|████████████████████████████████████████████████████████████████████████████████████████████████████████████████████████████████████████████████████████████████████████████▏                                                                                                                  | 30/50 [04:59<03:21, 10.09s/it]"
     ]
    },
    {
     "name": "stdout",
     "output_type": "stream",
     "text": [
      "epoch:30, train accu:0.9437, train loss:0.16\n"
     ]
    },
    {
     "name": "stderr",
     "output_type": "stream",
     "text": [
      "\r",
      " 62%|█████████████████████████████████████████████████████████████████████████████████████████████████████████████████████████████████████████████████████████████████████████████████▉                                                                                                             | 31/50 [05:08<03:09, 10.00s/it]"
     ]
    },
    {
     "name": "stdout",
     "output_type": "stream",
     "text": [
      "epoch:31, train accu:0.9750, train loss:0.07\n"
     ]
    },
    {
     "name": "stderr",
     "output_type": "stream",
     "text": [
      "\r",
      " 64%|███████████████████████████████████████████████████████████████████████████████████████████████████████████████████████████████████████████████████████████████████████████████████████▋                                                                                                       | 32/50 [05:18<02:59,  9.96s/it]"
     ]
    },
    {
     "name": "stdout",
     "output_type": "stream",
     "text": [
      "epoch:32, train accu:0.9417, train loss:0.15\n"
     ]
    },
    {
     "name": "stderr",
     "output_type": "stream",
     "text": [
      "\r",
      " 66%|█████████████████████████████████████████████████████████████████████████████████████████████████████████████████████████████████████████████████████████████████████████████████████████████▍                                                                                                 | 33/50 [05:28<02:48,  9.90s/it]"
     ]
    },
    {
     "name": "stdout",
     "output_type": "stream",
     "text": [
      "epoch:33, train accu:0.9437, train loss:0.17\n"
     ]
    },
    {
     "name": "stderr",
     "output_type": "stream",
     "text": [
      "\r",
      " 68%|███████████████████████████████████████████████████████████████████████████████████████████████████████████████████████████████████████████████████████████████████████████████████████████████████▏                                                                                           | 34/50 [05:38<02:40, 10.03s/it]"
     ]
    },
    {
     "name": "stdout",
     "output_type": "stream",
     "text": [
      "epoch:34, train accu:0.9396, train loss:0.20\n"
     ]
    },
    {
     "name": "stderr",
     "output_type": "stream",
     "text": [
      "\r",
      " 70%|████████████████████████████████████████████████████████████████████████████████████████████████████████████████████████████████████████████████████████████████████████████████████████████████████████▉                                                                                      | 35/50 [05:49<02:32, 10.14s/it]"
     ]
    },
    {
     "name": "stdout",
     "output_type": "stream",
     "text": [
      "epoch:35, train accu:0.9938, train loss:0.05\n"
     ]
    },
    {
     "name": "stderr",
     "output_type": "stream",
     "text": [
      "\r",
      " 72%|██████████████████████████████████████████████████████████████████████████████████████████████████████████████████████████████████████████████████████████████████████████████████████████████████████████████▋                                                                                | 36/50 [05:59<02:21, 10.11s/it]"
     ]
    },
    {
     "name": "stdout",
     "output_type": "stream",
     "text": [
      "epoch:36, train accu:0.9604, train loss:0.13\n"
     ]
    },
    {
     "name": "stderr",
     "output_type": "stream",
     "text": [
      "\r",
      " 74%|████████████████████████████████████████████████████████████████████████████████████████████████████████████████████████████████████████████████████████████████████████████████████████████████████████████████████▍                                                                          | 37/50 [06:08<02:08,  9.92s/it]"
     ]
    },
    {
     "name": "stdout",
     "output_type": "stream",
     "text": [
      "epoch:37, train accu:0.9750, train loss:0.08\n"
     ]
    },
    {
     "name": "stderr",
     "output_type": "stream",
     "text": [
      "\r",
      " 76%|██████████████████████████████████████████████████████████████████████████████████████████████████████████████████████████████████████████████████████████████████████████████████████████████████████████████████████████                                                                     | 38/50 [06:18<01:58,  9.86s/it]"
     ]
    },
    {
     "name": "stdout",
     "output_type": "stream",
     "text": [
      "epoch:38, train accu:0.9833, train loss:0.07\n"
     ]
    },
    {
     "name": "stderr",
     "output_type": "stream",
     "text": [
      "\r",
      " 78%|███████████████████████████████████████████████████████████████████████████████████████████████████████████████████████████████████████████████████████████████████████████████████████████████████████████████████████████████▊                                                               | 39/50 [06:28<01:48,  9.91s/it]"
     ]
    },
    {
     "name": "stdout",
     "output_type": "stream",
     "text": [
      "epoch:39, train accu:0.9938, train loss:0.04\n"
     ]
    },
    {
     "name": "stderr",
     "output_type": "stream",
     "text": [
      "\r",
      " 80%|█████████████████████████████████████████████████████████████████████████████████████████████████████████████████████████████████████████████████████████████████████████████████████████████████████████████████████████████████████▌                                                         | 40/50 [06:39<01:41, 10.12s/it]"
     ]
    },
    {
     "name": "stdout",
     "output_type": "stream",
     "text": [
      "epoch:40, train accu:0.9958, train loss:0.01\n"
     ]
    },
    {
     "name": "stderr",
     "output_type": "stream",
     "text": [
      "\r",
      " 82%|███████████████████████████████████████████████████████████████████████████████████████████████████████████████████████████████████████████████████████████████████████████████████████████████████████████████████████████████████████████▎                                                   | 41/50 [06:49<01:31, 10.14s/it]"
     ]
    },
    {
     "name": "stdout",
     "output_type": "stream",
     "text": [
      "epoch:41, train accu:0.9979, train loss:0.02\n"
     ]
    },
    {
     "name": "stderr",
     "output_type": "stream",
     "text": [
      "\r",
      " 84%|█████████████████████████████████████████████████████████████████████████████████████████████████████████████████████████████████████████████████████████████████████████████████████████████████████████████████████████████████████████████████                                              | 42/50 [06:58<01:19,  9.96s/it]"
     ]
    },
    {
     "name": "stdout",
     "output_type": "stream",
     "text": [
      "epoch:42, train accu:1.0000, train loss:0.01\n"
     ]
    },
    {
     "name": "stderr",
     "output_type": "stream",
     "text": [
      "\r",
      " 86%|██████████████████████████████████████████████████████████████████████████████████████████████████████████████████████████████████████████████████████████████████████████████████████████████████████████████████████████████████████████████████████▊                                        | 43/50 [07:08<01:09,  9.98s/it]"
     ]
    },
    {
     "name": "stdout",
     "output_type": "stream",
     "text": [
      "epoch:43, train accu:0.9917, train loss:0.02\n"
     ]
    },
    {
     "name": "stderr",
     "output_type": "stream",
     "text": [
      "\r",
      " 88%|████████████████████████████████████████████████████████████████████████████████████████████████████████████████████████████████████████████████████████████████████████████████████████████████████████████████████████████████████████████████████████████▌                                  | 44/50 [07:18<00:59,  9.93s/it]"
     ]
    },
    {
     "name": "stdout",
     "output_type": "stream",
     "text": [
      "epoch:44, train accu:0.9896, train loss:0.04\n"
     ]
    },
    {
     "name": "stderr",
     "output_type": "stream",
     "text": [
      "\r",
      " 90%|██████████████████████████████████████████████████████████████████████████████████████████████████████████████████████████████████████████████████████████████████████████████████████████████████████████████████████████████████████████████████████████████████▎                            | 45/50 [07:28<00:49,  9.92s/it]"
     ]
    },
    {
     "name": "stdout",
     "output_type": "stream",
     "text": [
      "epoch:45, train accu:1.0000, train loss:0.01\n"
     ]
    },
    {
     "name": "stderr",
     "output_type": "stream",
     "text": [
      "\r",
      " 92%|████████████████████████████████████████████████████████████████████████████████████████████████████████████████████████████████████████████████████████████████████████████████████████████████████████████████████████████████████████████████████████████████████████                       | 46/50 [07:39<00:41, 10.25s/it]"
     ]
    },
    {
     "name": "stdout",
     "output_type": "stream",
     "text": [
      "epoch:46, train accu:1.0000, train loss:0.00\n"
     ]
    },
    {
     "name": "stderr",
     "output_type": "stream",
     "text": [
      "\r",
      " 94%|█████████████████████████████████████████████████████████████████████████████████████████████████████████████████████████████████████████████████████████████████████████████████████████████████████████████████████████████████████████████████████████████████████████████▊                 | 47/50 [07:49<00:30, 10.16s/it]"
     ]
    },
    {
     "name": "stdout",
     "output_type": "stream",
     "text": [
      "epoch:47, train accu:1.0000, train loss:0.00\n"
     ]
    },
    {
     "name": "stderr",
     "output_type": "stream",
     "text": [
      "\r",
      " 96%|███████████████████████████████████████████████████████████████████████████████████████████████████████████████████████████████████████████████████████████████████████████████████████████████████████████████████████████████████████████████████████████████████████████████████▌           | 48/50 [07:59<00:20, 10.09s/it]"
     ]
    },
    {
     "name": "stdout",
     "output_type": "stream",
     "text": [
      "epoch:48, train accu:1.0000, train loss:0.00\n"
     ]
    },
    {
     "name": "stderr",
     "output_type": "stream",
     "text": [
      "\r",
      " 98%|█████████████████████████████████████████████████████████████████████████████████████████████████████████████████████████████████████████████████████████████████████████████████████████████████████████████████████████████████████████████████████████████████████████████████████████▎     | 49/50 [08:09<00:09,  9.97s/it]"
     ]
    },
    {
     "name": "stdout",
     "output_type": "stream",
     "text": [
      "epoch:49, train accu:0.9979, train loss:0.00\n"
     ]
    },
    {
     "name": "stderr",
     "output_type": "stream",
     "text": [
      "100%|███████████████████████████████████████████████████████████████████████████████████████████████████████████████████████████████████████████████████████████████████████████████████████████████████████████████████████████████████████████████████████████████████████████████████████████████| 50/50 [08:18<00:00,  9.98s/it]"
     ]
    },
    {
     "name": "stdout",
     "output_type": "stream",
     "text": [
      "epoch:50, train accu:0.9833, train loss:0.05\n"
     ]
    },
    {
     "name": "stderr",
     "output_type": "stream",
     "text": [
      "\n"
     ]
    }
   ],
   "source": [
    "from tqdm import tqdm\n",
    "from torchsummary import summary\n",
    "import torch.optim as optim\n",
    "\n",
    "model = ICASSP3CNN(1024, 24)\n",
    "model = model.to(device)\n",
    "criterion = nn.CrossEntropyLoss()\n",
    "optimizer = optim.Adam(model.parameters(), lr=0.001)\n",
    "\n",
    "epochs = 50\n",
    "train_losses = []\n",
    "train_accuracies = []\n",
    "valid_losses = []\n",
    "valid_accuracies = []\n",
    "\n",
    "for epoch in tqdm(range(epochs)):\n",
    "    train_loss = 0\n",
    "    acc_cnt = 0\n",
    "    err_cnt = 0\n",
    "    batch_cnt = 0\n",
    "    model.train()\n",
    "    for batch, (x, length, y) in enumerate(train_dataloader):\n",
    "        x = x.to(device)\n",
    "        y = y.to(device)\n",
    "        optimizer.zero_grad()\n",
    "        logits = model(x, length)\n",
    "        loss = criterion(logits, y)\n",
    "        loss.backward()\n",
    "        optimizer.step()\n",
    "        train_loss += loss.cpu().item()\n",
    "\n",
    "        #model outputs\n",
    "        out_val, out_indices = torch.max(logits, dim=1)\n",
    "        tar_indices = y\n",
    "\n",
    "        for i in range(len(out_indices)):\n",
    "            if out_indices[i] == tar_indices[i]:\n",
    "                acc_cnt += 1\n",
    "            else:\n",
    "                err_cnt += 1\n",
    "        batch_cnt += 1\n",
    "    \n",
    "    train_loss = train_loss/batch_cnt\n",
    "    train_accuracy = acc_cnt/(acc_cnt+err_cnt)\n",
    "    train_accuracies.append(train_accuracy)\n",
    "    train_losses.append(train_loss)\n",
    "    \n",
    "    print(f\"epoch:{epoch+1}, train accu:{train_accuracy:.4f},\", f\"train loss:{train_loss:.2f}\")"
   ]
  },
  {
   "cell_type": "markdown",
   "id": "c3bd3832",
   "metadata": {},
   "source": [
    "# Model Test"
   ]
  },
  {
   "cell_type": "code",
   "execution_count": 66,
   "id": "9bbd0e57",
   "metadata": {},
   "outputs": [
    {
     "name": "stdout",
     "output_type": "stream",
     "text": [
      "test accuracy: 0.8306451612903226\n"
     ]
    }
   ],
   "source": [
    "test_loss = 0\n",
    "acc_cnt = 0\n",
    "err_cnt = 0\n",
    "batch_cnt = 0\n",
    "model.eval()\n",
    "\n",
    "for x, lengths, y in test_dataloader:\n",
    "\n",
    "    x = x.to(device)\n",
    "    y = y.to(device)\n",
    "\n",
    "    logits = model(x, lengths)\n",
    "    loss = criterion(logits, y)\n",
    "    test_loss += loss.cpu().item()\n",
    "\n",
    "    out_val, out_indices = torch.max(logits, dim=1)\n",
    "    tar_indices = y\n",
    "\n",
    "    for i in range(len(out_indices)):\n",
    "        if out_indices[i] == tar_indices[i]:\n",
    "            acc_cnt += 1\n",
    "        else:\n",
    "            err_cnt += 1\n",
    "    batch_cnt += 1\n",
    "\n",
    "test_loss = test_loss/batch_cnt\n",
    "test_accuracy = acc_cnt/(acc_cnt+err_cnt)\n",
    "print(f'test accuracy: {test_accuracy}')"
   ]
  },
  {
   "cell_type": "code",
   "execution_count": 67,
   "id": "f8dab204",
   "metadata": {},
   "outputs": [
    {
     "name": "stdout",
     "output_type": "stream",
     "text": [
      "aggr.weight tensor([[[-0.0715],\n",
      "         [-0.1513],\n",
      "         [-0.1244],\n",
      "         [ 0.0009],\n",
      "         [-0.1495],\n",
      "         [ 0.1174],\n",
      "         [-0.0910],\n",
      "         [ 0.1727],\n",
      "         [-0.0774],\n",
      "         [-0.2002],\n",
      "         [-0.1193],\n",
      "         [-0.2768],\n",
      "         [-0.0977],\n",
      "         [-0.2126],\n",
      "         [-0.1227],\n",
      "         [-0.1636],\n",
      "         [-0.1816],\n",
      "         [-0.0980],\n",
      "         [ 0.2413],\n",
      "         [-0.0140],\n",
      "         [ 0.1693],\n",
      "         [ 0.0887],\n",
      "         [ 0.1284],\n",
      "         [ 0.0576]]], device='cuda:0')\n",
      "aggr.bias tensor([0.1047], device='cuda:0')\n",
      "embed.weight tensor([[-0.0092, -0.0043,  0.0102,  ...,  0.0477,  0.0339,  0.0338],\n",
      "        [ 0.0024, -0.0199,  0.0011,  ...,  0.0010, -0.0134,  0.0235],\n",
      "        [ 0.0082,  0.0275, -0.0148,  ..., -0.0541,  0.0334, -0.0461],\n",
      "        ...,\n",
      "        [-0.0379, -0.0358,  0.0006,  ..., -0.0202, -0.0360,  0.0033],\n",
      "        [-0.0489,  0.0024,  0.0336,  ...,  0.0101, -0.0155,  0.0109],\n",
      "        [ 0.0393,  0.0383, -0.0125,  ..., -0.0115,  0.0185, -0.0330]],\n",
      "       device='cuda:0')\n",
      "embed.bias tensor([-2.2306e-02,  5.9676e-02,  4.4638e-02,  8.6708e-02, -1.0863e-02,\n",
      "         3.8158e-02, -7.1711e-03, -2.0271e-02,  4.5785e-02,  3.7156e-02,\n",
      "         1.5424e-02,  3.1012e-03,  3.4651e-03, -4.6988e-02, -2.7830e-02,\n",
      "        -1.1919e-02,  1.1327e-02, -7.3838e-02, -1.4772e-02, -1.3748e-02,\n",
      "         2.3377e-02, -4.0881e-02,  6.3463e-02,  3.2215e-02, -2.8614e-02,\n",
      "        -1.4735e-02,  5.2207e-02,  7.1004e-02, -3.3821e-02, -4.0564e-02,\n",
      "         8.0161e-02,  2.2614e-02, -2.1133e-02, -5.2950e-02,  9.6227e-03,\n",
      "        -4.8583e-02, -1.1037e-02,  5.8332e-02, -2.0430e-02, -5.7154e-02,\n",
      "        -5.3689e-02, -4.1474e-02, -2.0818e-02, -7.6144e-03,  1.6602e-02,\n",
      "        -3.0726e-02, -3.0390e-02,  3.0951e-02,  2.4090e-02, -3.6938e-02,\n",
      "         8.3495e-02,  5.6472e-02,  5.8276e-02,  3.6677e-03, -6.0269e-02,\n",
      "         5.6038e-03, -2.1655e-02,  5.6519e-02, -2.5635e-02, -2.6254e-02,\n",
      "        -2.8712e-02,  5.2320e-02, -4.5254e-02, -1.0005e-02,  7.5916e-02,\n",
      "         3.8361e-02,  4.5802e-02,  1.1130e-02,  3.9903e-02,  3.5046e-02,\n",
      "        -5.5908e-02,  4.5614e-02,  1.4609e-02, -5.7664e-02, -1.7726e-02,\n",
      "         3.0698e-02,  9.2362e-03,  5.9279e-02, -8.6246e-02, -8.4823e-02,\n",
      "         2.7012e-02, -2.3943e-02, -1.0359e-02,  2.2101e-02, -6.0526e-02,\n",
      "        -2.5478e-02,  8.1046e-02, -3.0040e-02, -5.4524e-02, -1.9036e-02,\n",
      "         2.6309e-02, -1.1268e-02,  2.9082e-03,  3.2791e-03,  8.3292e-03,\n",
      "        -4.5521e-02, -1.1517e-02, -9.5277e-03, -4.5806e-02,  3.1578e-02,\n",
      "        -6.8877e-02,  8.8251e-02,  5.1973e-02,  4.4387e-02,  6.3127e-02,\n",
      "        -4.4283e-03, -1.1201e-02, -5.4767e-02, -3.8249e-02,  1.1048e-02,\n",
      "        -2.8126e-02,  1.3899e-02, -1.3078e-02,  5.6725e-03, -1.5115e-02,\n",
      "         7.9880e-03, -6.9411e-02, -2.8956e-02, -1.2471e-02,  4.4377e-02,\n",
      "         3.5380e-02, -7.2977e-02, -5.3408e-03,  2.1492e-02, -6.5522e-02,\n",
      "         3.2612e-03,  9.6179e-05,  2.1348e-02], device='cuda:0')\n",
      "cnn.weight tensor([[[ 0.0333,  0.0272,  0.0313],\n",
      "         [-0.0245, -0.0154,  0.0179],\n",
      "         [-0.0629, -0.0606, -0.0098],\n",
      "         ...,\n",
      "         [-0.0131,  0.0236,  0.0212],\n",
      "         [ 0.1028,  0.1150,  0.0827],\n",
      "         [ 0.1110,  0.0600,  0.1154]],\n",
      "\n",
      "        [[ 0.0011,  0.0480,  0.0540],\n",
      "         [ 0.0143,  0.0423,  0.0523],\n",
      "         [ 0.0111,  0.0093,  0.0140],\n",
      "         ...,\n",
      "         [-0.0208,  0.0084,  0.0023],\n",
      "         [ 0.0468,  0.0496, -0.0260],\n",
      "         [ 0.0635,  0.0227,  0.0598]],\n",
      "\n",
      "        [[ 0.0542, -0.0103, -0.0163],\n",
      "         [ 0.0847,  0.0552,  0.0448],\n",
      "         [-0.0507, -0.0090,  0.0477],\n",
      "         ...,\n",
      "         [-0.0381,  0.0011, -0.0334],\n",
      "         [-0.0264, -0.0643, -0.0666],\n",
      "         [-0.0320,  0.0099, -0.0024]],\n",
      "\n",
      "        ...,\n",
      "\n",
      "        [[-0.0257, -0.0361,  0.0281],\n",
      "         [ 0.0559,  0.0612,  0.0511],\n",
      "         [-0.0231, -0.0671,  0.0131],\n",
      "         ...,\n",
      "         [ 0.0456,  0.0445, -0.0019],\n",
      "         [ 0.0574, -0.0086, -0.0426],\n",
      "         [-0.0329, -0.0424, -0.0269]],\n",
      "\n",
      "        [[ 0.0387, -0.0289,  0.0081],\n",
      "         [ 0.0498,  0.0504,  0.0295],\n",
      "         [ 0.0069, -0.0024,  0.0012],\n",
      "         ...,\n",
      "         [ 0.0397, -0.0289, -0.0412],\n",
      "         [-0.0127, -0.0353,  0.0112],\n",
      "         [ 0.0143, -0.0259,  0.0611]],\n",
      "\n",
      "        [[ 0.0155,  0.0372, -0.0477],\n",
      "         [ 0.0442,  0.0730,  0.0299],\n",
      "         [ 0.0204,  0.0647,  0.0143],\n",
      "         ...,\n",
      "         [-0.0483, -0.0469, -0.0530],\n",
      "         [ 0.0714, -0.0160,  0.0191],\n",
      "         [ 0.0609, -0.0018, -0.0101]]], device='cuda:0')\n",
      "cnn.bias tensor([ 0.0404, -0.0239,  0.0228,  0.0076, -0.0477,  0.0434,  0.0306,  0.0346,\n",
      "         0.0145, -0.0432,  0.0439,  0.0458,  0.0426, -0.0031, -0.0308, -0.0322,\n",
      "         0.0260,  0.0037,  0.0237,  0.0088, -0.0071, -0.0136, -0.0426,  0.0049,\n",
      "        -0.0272, -0.0396, -0.0225,  0.0436, -0.0152,  0.0152, -0.0407,  0.0087,\n",
      "        -0.0438,  0.0448, -0.0152,  0.0251, -0.0371, -0.0056,  0.0247, -0.0193,\n",
      "        -0.0255, -0.0381,  0.0226,  0.0122, -0.0251, -0.0102,  0.0264,  0.0299,\n",
      "         0.0459,  0.0498,  0.0340, -0.0067, -0.0035, -0.0214,  0.0316,  0.0489,\n",
      "         0.0272, -0.0171, -0.0215, -0.0170, -0.0138, -0.0009,  0.0275,  0.0085,\n",
      "        -0.0382, -0.0335,  0.0348, -0.0077,  0.0210, -0.0124, -0.0141,  0.0207,\n",
      "        -0.0155,  0.0232, -0.0108,  0.0156,  0.0075, -0.0231, -0.0076,  0.0069,\n",
      "         0.0217, -0.0196,  0.0397,  0.0333,  0.0030,  0.0438,  0.0489,  0.0333,\n",
      "        -0.0197, -0.0257, -0.0431, -0.0345,  0.0300, -0.0298,  0.0151,  0.0342,\n",
      "        -0.0028,  0.0268, -0.0275,  0.0173, -0.0199, -0.0123,  0.0376,  0.0245,\n",
      "         0.0511,  0.0452,  0.0184,  0.0210,  0.0437, -0.0470, -0.0382, -0.0169,\n",
      "        -0.0402,  0.0365,  0.0280,  0.0361, -0.0015, -0.0196,  0.0320,  0.0210,\n",
      "         0.0119,  0.0415, -0.0004,  0.0390,  0.0409, -0.0113,  0.0493, -0.0457],\n",
      "       device='cuda:0')\n",
      "cnn2.weight tensor([[[ 0.0610,  0.0013, -0.0100,  0.0126,  0.0197],\n",
      "         [-0.0032, -0.0092,  0.0288,  0.0014, -0.0182],\n",
      "         [ 0.0007,  0.0570,  0.0531, -0.0013, -0.0358],\n",
      "         ...,\n",
      "         [-0.0207, -0.0495,  0.0203,  0.0254, -0.0135],\n",
      "         [-0.0485, -0.0621, -0.0353,  0.0144,  0.0202],\n",
      "         [-0.0291, -0.0004, -0.0036, -0.0278, -0.0161]],\n",
      "\n",
      "        [[-0.0433,  0.0009, -0.0099,  0.0025, -0.0360],\n",
      "         [ 0.0143,  0.0275, -0.0290,  0.0355, -0.0117],\n",
      "         [ 0.0112,  0.0669,  0.0665,  0.0443, -0.0143],\n",
      "         ...,\n",
      "         [ 0.0288, -0.0289,  0.0314,  0.0229,  0.0594],\n",
      "         [-0.0840, -0.0202,  0.0020, -0.0457, -0.0408],\n",
      "         [-0.0440,  0.0127, -0.0503, -0.0239, -0.0501]],\n",
      "\n",
      "        [[ 0.0119,  0.0379,  0.0122, -0.0324,  0.0423],\n",
      "         [ 0.0729,  0.0826,  0.0144,  0.0200,  0.0110],\n",
      "         [-0.0114,  0.0128, -0.0238, -0.0119,  0.0140],\n",
      "         ...,\n",
      "         [ 0.0463,  0.0236,  0.0414, -0.0065, -0.0174],\n",
      "         [-0.0906, -0.0597, -0.0473, -0.0188, -0.0429],\n",
      "         [-0.0495, -0.0861, -0.0314, -0.0497, -0.0370]],\n",
      "\n",
      "        ...,\n",
      "\n",
      "        [[ 0.0846,  0.0903,  0.0704,  0.0387,  0.0555],\n",
      "         [ 0.0499,  0.0362,  0.0157,  0.0441,  0.0553],\n",
      "         [-0.0205, -0.0186, -0.0477, -0.0528, -0.0615],\n",
      "         ...,\n",
      "         [ 0.0165,  0.0486, -0.0076,  0.0061, -0.0532],\n",
      "         [-0.0169, -0.0087,  0.0072,  0.0172,  0.0100],\n",
      "         [ 0.0189,  0.0187,  0.0135,  0.0385,  0.0569]],\n",
      "\n",
      "        [[ 0.0034, -0.0041,  0.0378,  0.0135,  0.0288],\n",
      "         [-0.0423,  0.0078,  0.0454,  0.0275, -0.0184],\n",
      "         [-0.0559, -0.0781, -0.0954, -0.0813, -0.0369],\n",
      "         ...,\n",
      "         [-0.0221, -0.0008,  0.0251, -0.0276, -0.0630],\n",
      "         [ 0.0448,  0.0485,  0.0713,  0.0321,  0.0379],\n",
      "         [-0.0450, -0.0098, -0.0664, -0.0170, -0.0605]],\n",
      "\n",
      "        [[-0.0205,  0.0281,  0.0203,  0.0327, -0.0189],\n",
      "         [-0.0136, -0.0465, -0.0214, -0.0018,  0.0297],\n",
      "         [-0.0176,  0.0393,  0.0104,  0.0293, -0.0248],\n",
      "         ...,\n",
      "         [-0.0444, -0.0200, -0.0045, -0.0175, -0.0158],\n",
      "         [ 0.0476,  0.0253,  0.0509,  0.1026,  0.0851],\n",
      "         [ 0.0760,  0.0135,  0.0650,  0.0393, -0.0208]]], device='cuda:0')\n",
      "cnn2.bias tensor([-0.0012, -0.0082, -0.0312,  0.0046, -0.0247,  0.0172, -0.0214,  0.0331,\n",
      "         0.0286, -0.0212, -0.0310, -0.0218,  0.0148, -0.0132, -0.0129, -0.0104,\n",
      "        -0.0363,  0.0073, -0.0136, -0.0382, -0.0123,  0.0071,  0.0190,  0.0180,\n",
      "        -0.0387, -0.0142, -0.0021, -0.0306,  0.0013,  0.0241, -0.0354, -0.0141,\n",
      "         0.0262, -0.0375,  0.0159, -0.0364,  0.0223,  0.0124, -0.0332,  0.0031,\n",
      "         0.0053, -0.0026, -0.0091,  0.0220, -0.0039,  0.0088,  0.0315,  0.0223,\n",
      "         0.0135,  0.0137,  0.0046,  0.0383,  0.0394,  0.0361,  0.0252, -0.0030,\n",
      "         0.0317, -0.0212, -0.0117,  0.0151,  0.0051,  0.0038,  0.0002, -0.0124,\n",
      "        -0.0164,  0.0147,  0.0367,  0.0084, -0.0297,  0.0319, -0.0069,  0.0011,\n",
      "        -0.0261, -0.0151,  0.0383, -0.0389, -0.0246, -0.0075, -0.0062,  0.0347,\n",
      "         0.0007,  0.0331, -0.0386,  0.0269,  0.0084,  0.0291, -0.0179, -0.0177,\n",
      "         0.0090, -0.0226,  0.0239, -0.0290,  0.0055, -0.0390,  0.0180,  0.0150,\n",
      "        -0.0281,  0.0014,  0.0295, -0.0371, -0.0166,  0.0226, -0.0383, -0.0014,\n",
      "         0.0030,  0.0205,  0.0291, -0.0327, -0.0089, -0.0024,  0.0149,  0.0259,\n",
      "        -0.0054, -0.0003, -0.0026,  0.0164, -0.0142,  0.0076, -0.0062,  0.0365,\n",
      "         0.0070, -0.0044,  0.0316,  0.0226, -0.0332,  0.0021,  0.0038,  0.0049],\n",
      "       device='cuda:0')\n",
      "cnn3.weight tensor([[[-0.0248, -0.0248, -0.0153,  ...,  0.0004,  0.0095,  0.0085],\n",
      "         [ 0.0857,  0.0485,  0.0643,  ...,  0.0150,  0.0356,  0.0025],\n",
      "         [ 0.0415,  0.0354,  0.0486,  ..., -0.0018,  0.0099,  0.0283],\n",
      "         ...,\n",
      "         [-0.0092, -0.0034,  0.0116,  ..., -0.0068,  0.0405,  0.0219],\n",
      "         [ 0.0238, -0.0095, -0.0292,  ...,  0.0293,  0.0045, -0.0186],\n",
      "         [ 0.0359,  0.0373,  0.0346,  ...,  0.0058,  0.0102, -0.0133]],\n",
      "\n",
      "        [[-0.0141, -0.0321, -0.0283,  ...,  0.0110, -0.0065,  0.0161],\n",
      "         [-0.0152, -0.0147, -0.0106,  ...,  0.0286,  0.0270, -0.0100],\n",
      "         [ 0.0365,  0.0630,  0.0664,  ..., -0.0009,  0.0390, -0.0267],\n",
      "         ...,\n",
      "         [-0.0572, -0.0542, -0.0950,  ...,  0.0155,  0.0473,  0.0318],\n",
      "         [-0.0522,  0.0302,  0.0569,  ..., -0.0313, -0.0361, -0.0268],\n",
      "         [-0.0010,  0.0262,  0.0508,  ...,  0.0446, -0.0028, -0.0077]],\n",
      "\n",
      "        [[ 0.0435,  0.0016,  0.0019,  ..., -0.0047,  0.0103,  0.0034],\n",
      "         [ 0.0079, -0.0096, -0.0192,  ..., -0.0232,  0.0030,  0.0111],\n",
      "         [-0.0567, -0.0905, -0.1160,  ..., -0.0718, -0.0823, -0.0449],\n",
      "         ...,\n",
      "         [ 0.0670, -0.0104,  0.0532,  ...,  0.0090, -0.0075,  0.0401],\n",
      "         [ 0.0074, -0.0132,  0.0106,  ..., -0.0250,  0.0105, -0.0195],\n",
      "         [-0.0519, -0.0342, -0.0744,  ..., -0.0191, -0.0523, -0.0442]],\n",
      "\n",
      "        ...,\n",
      "\n",
      "        [[ 0.0036, -0.0484,  0.0273,  ..., -0.0216, -0.0318, -0.0377],\n",
      "         [ 0.0119,  0.0083,  0.0618,  ...,  0.0693,  0.0777,  0.0471],\n",
      "         [ 0.0143,  0.0052, -0.0169,  ...,  0.0229, -0.0047, -0.0129],\n",
      "         ...,\n",
      "         [ 0.0150,  0.0336,  0.0325,  ..., -0.0042, -0.0134, -0.0010],\n",
      "         [-0.0432, -0.0044, -0.0282,  ...,  0.0348,  0.0451,  0.0075],\n",
      "         [-0.0082,  0.0400,  0.0329,  ...,  0.0242,  0.0598,  0.0282]],\n",
      "\n",
      "        [[ 0.0843,  0.0020, -0.0125,  ..., -0.0289,  0.0246, -0.0078],\n",
      "         [ 0.0064,  0.0009,  0.0203,  ..., -0.0078, -0.0132, -0.0423],\n",
      "         [ 0.0208,  0.0732,  0.0428,  ...,  0.0435,  0.0358,  0.0151],\n",
      "         ...,\n",
      "         [ 0.0251,  0.0305, -0.0116,  ...,  0.0187, -0.0125, -0.0190],\n",
      "         [-0.1073, -0.0981, -0.1106,  ..., -0.0345, -0.0565, -0.0727],\n",
      "         [-0.0698, -0.0947, -0.0738,  ...,  0.0092, -0.0361,  0.0104]],\n",
      "\n",
      "        [[ 0.0749,  0.0773,  0.0665,  ...,  0.0038,  0.0155,  0.0384],\n",
      "         [ 0.0401,  0.0125,  0.0145,  ...,  0.0547,  0.0057,  0.0113],\n",
      "         [ 0.0277,  0.0487,  0.0417,  ..., -0.0151,  0.0345, -0.0149],\n",
      "         ...,\n",
      "         [-0.0005,  0.0267,  0.0184,  ...,  0.0395,  0.0161,  0.0442],\n",
      "         [-0.0268,  0.0017,  0.0015,  ...,  0.0032, -0.0116, -0.0309],\n",
      "         [-0.0333, -0.0191, -0.0341,  ...,  0.0339,  0.0203, -0.0065]]],\n",
      "       device='cuda:0')\n",
      "cnn3.bias tensor([-3.2605e-02, -2.1957e-02, -1.1615e-02, -2.0826e-02,  3.0501e-02,\n",
      "         2.2026e-02,  1.3640e-02,  2.2092e-02, -2.8491e-02,  2.0072e-02,\n",
      "        -7.0663e-04, -2.3728e-02,  7.1808e-03,  9.3290e-03, -7.7104e-03,\n",
      "        -1.5529e-02, -7.5460e-03,  1.2984e-02, -1.4672e-02, -8.7201e-03,\n",
      "        -4.1947e-03,  2.5848e-02, -9.9589e-03, -1.3324e-02,  1.7033e-02,\n",
      "         1.9548e-02,  5.3376e-03, -1.7089e-02, -2.7922e-02,  9.2641e-03,\n",
      "        -1.6929e-02,  1.7490e-02, -1.1308e-02,  2.7465e-02, -2.1132e-02,\n",
      "        -9.4973e-03,  1.0820e-03,  3.1598e-02, -9.4925e-05,  2.2827e-02,\n",
      "         4.3451e-03,  1.2000e-02, -1.0090e-02,  9.2222e-03, -1.0555e-02,\n",
      "        -5.7728e-03,  2.6936e-03,  2.5981e-02,  1.7437e-02, -6.8556e-03,\n",
      "         1.0422e-02,  1.9282e-02,  7.7928e-03, -3.2495e-02,  2.4282e-02,\n",
      "        -1.6912e-02,  3.0001e-03, -2.5113e-02,  4.3034e-03,  8.8378e-03,\n",
      "         1.2435e-02, -2.0808e-02,  3.1510e-02,  6.5867e-03, -8.0327e-03,\n",
      "         6.8722e-03,  2.4946e-02,  2.3917e-02, -2.0881e-02,  6.3078e-03,\n",
      "         9.8964e-03,  2.4977e-02, -3.2208e-02,  1.0840e-02,  2.8198e-02,\n",
      "         2.2725e-02, -3.2641e-02, -8.7535e-03, -2.4353e-02,  3.3193e-03,\n",
      "         1.9837e-04, -2.3249e-02,  1.4466e-02,  2.9037e-02,  7.4815e-03,\n",
      "         2.7238e-02, -2.5498e-03, -2.3011e-02,  2.0863e-02,  2.7977e-02,\n",
      "         2.6448e-02,  2.9929e-02,  2.3887e-02,  1.5198e-02, -6.8240e-03,\n",
      "        -1.6509e-02,  1.5008e-02,  4.3014e-03,  1.1733e-02,  3.1630e-02,\n",
      "        -1.3808e-02, -2.8350e-02, -7.3117e-03, -8.2052e-03,  2.9833e-02,\n",
      "         1.5713e-02,  1.7773e-02,  1.8146e-02, -2.7929e-02,  3.2233e-02,\n",
      "         1.5727e-02, -1.0061e-02,  2.4595e-02,  1.0706e-02,  1.6819e-02,\n",
      "        -7.2899e-04, -5.1192e-03,  2.4070e-02, -2.8919e-02, -1.8615e-02,\n",
      "        -2.5142e-02,  6.6834e-03, -6.0180e-03, -3.0001e-02, -2.9079e-02,\n",
      "         3.0115e-02,  2.6428e-03, -2.4073e-02], device='cuda:0')\n",
      "batchnorm.weight tensor([0.9653, 0.9891, 0.9660, 0.9978, 0.9744, 0.9884, 1.0111, 1.0016, 1.0029,\n",
      "        1.0024, 0.9830, 0.9890, 0.9752, 1.0063, 0.9726, 0.9320, 1.0089, 1.0044,\n",
      "        0.9755, 0.9511, 1.0054, 0.9305, 1.0058, 1.0297, 0.9933, 0.9847, 1.0029,\n",
      "        1.0363, 1.0137, 0.9871, 0.9996, 1.0088, 1.0065, 0.9678, 0.9951, 0.9850,\n",
      "        0.9208, 1.0035, 1.0244, 1.0060, 1.0369, 0.9886, 1.0164, 0.9903, 1.0341,\n",
      "        1.0289, 1.0094, 0.9562, 0.9752, 1.0021, 0.9828, 1.0101, 0.9835, 1.0210,\n",
      "        0.9143, 1.0268, 0.9888, 0.9827, 1.0388, 1.0309, 1.0193, 0.9955, 1.0026,\n",
      "        0.9404, 0.9695, 1.0404, 0.9833, 0.9583, 1.0415, 0.9757, 1.0268, 0.9998,\n",
      "        0.9389, 1.0027, 0.9816, 1.0010, 1.0389, 0.9862, 0.9853, 0.8981, 1.0120,\n",
      "        1.0073, 0.9843, 0.9595, 0.9802, 1.0094, 0.9153, 0.9880, 0.9737, 1.0085,\n",
      "        1.0194, 0.9717, 1.0253, 0.9725, 1.0165, 0.9614, 1.0106, 1.0004, 1.0139,\n",
      "        1.0215, 0.9319, 1.0230, 0.9746, 1.0223, 0.9814, 0.9915, 1.0194, 0.9911,\n",
      "        0.9896, 0.9683, 0.9647, 1.0057, 0.9165, 0.9906, 0.9506, 0.9545, 1.0404,\n",
      "        0.9555, 1.0234, 1.0108, 0.9789, 0.9758, 1.0069, 1.0311, 0.9604, 0.9949,\n",
      "        0.9913, 1.0077, 1.0175, 1.0320, 0.9692, 0.9960, 1.0014, 1.0347, 1.0103,\n",
      "        0.9891, 0.9631, 0.9872, 1.0051, 1.0374, 0.9919, 1.0322, 1.0245, 0.9779,\n",
      "        1.0240, 1.0280, 1.0003, 0.9916, 1.0032, 0.9761, 1.0060, 1.0039, 1.0060,\n",
      "        0.9618, 0.9767, 1.0228, 0.9939, 0.9907, 1.0179, 0.9505, 1.0296, 0.9964,\n",
      "        1.0168, 1.0210, 1.0068, 0.8977, 1.0201, 0.9566, 1.0041, 1.0267, 1.0105,\n",
      "        1.0281, 0.9803, 1.0059, 1.0214, 1.0086, 1.0318, 1.0246, 1.0181, 1.0100,\n",
      "        1.0052, 0.9652, 1.0369, 0.9899, 1.0208, 1.0240, 1.0217, 1.0019, 1.0439,\n",
      "        1.0152, 1.0479, 0.9533, 0.9740, 1.0152, 1.0496, 1.0067, 0.9539, 1.0289,\n",
      "        0.9584, 0.9878, 0.9920, 1.0000, 1.0198, 0.9959, 0.9861, 0.9803, 1.0346,\n",
      "        1.0177, 0.9928, 1.0115, 0.9765, 1.0409, 0.9573, 1.0292, 1.0216, 1.0201,\n",
      "        1.0058, 1.0227, 0.9906, 0.9766, 1.0087, 0.9746, 1.0039, 1.0442, 1.0220,\n",
      "        0.9710, 1.0081, 1.0399, 0.9421, 1.0389, 1.0525, 1.0222, 1.0243, 1.0245,\n",
      "        0.9469, 1.0025, 1.0286, 0.9801, 1.0123, 1.0262, 0.9925, 0.9761, 0.9912,\n",
      "        0.9358, 1.0255, 0.9709, 0.9449, 1.0019, 1.0126, 1.0327, 1.0420, 0.9846,\n",
      "        1.0368, 1.0064, 0.9552, 0.9752, 1.0128, 1.0345, 1.0236, 1.0113, 1.0369,\n",
      "        0.9756, 0.9993, 1.0166, 1.0063, 1.0355, 1.0174, 0.9965, 1.0058, 1.0022,\n",
      "        1.0449, 1.0186, 1.0294, 1.0126, 1.0113, 0.9801, 1.0123, 1.0064, 1.0467,\n",
      "        1.0242, 1.0017, 1.0364, 1.0384, 0.9863, 1.0302, 0.9548, 0.9963, 0.9990,\n",
      "        1.0165, 1.0346, 0.9252, 1.0355, 0.9973, 0.9932, 1.0442, 1.0157, 1.0321,\n",
      "        0.9909, 0.9905, 0.9938, 0.8620, 1.0107, 0.9954, 0.9295, 1.0238, 1.0271,\n",
      "        1.0401, 1.0227, 1.0078, 0.9800, 1.0351, 1.0389, 0.9545, 1.0569, 0.9949,\n",
      "        1.0359, 1.0134, 0.9995, 1.0127, 1.0435, 1.0204, 1.0147, 1.0012, 0.9975,\n",
      "        0.9859, 1.0268, 1.0096, 1.0215, 1.0401, 0.9813, 1.0310, 0.9713, 1.0150,\n",
      "        1.0221, 1.0066, 1.0466, 0.9827, 1.0312, 1.0224, 1.0403, 1.0006, 0.9665,\n",
      "        0.9900, 1.0384, 1.0337, 1.0352, 1.0132, 1.0306, 0.9875, 0.9859, 1.0330,\n",
      "        0.9978, 1.0349, 0.9678, 1.0334, 1.0236, 1.0324, 1.0524, 1.0225, 1.0077,\n",
      "        1.0077, 1.0029, 0.9789, 1.0149, 0.9936, 0.9891, 0.9942, 0.9605, 1.0118,\n",
      "        1.0064, 0.9779, 1.0404, 1.0395, 0.9361, 1.0112, 0.9940, 0.9852, 1.0389,\n",
      "        0.9971, 1.0312, 0.9963, 0.9738, 1.0213, 0.9655], device='cuda:0')\n",
      "batchnorm.bias tensor([-0.0678, -0.0489, -0.0404, -0.0217, -0.0122, -0.0233, -0.0332, -0.0113,\n",
      "        -0.0120, -0.0034, -0.0297, -0.0363, -0.0616, -0.0154, -0.0401, -0.0766,\n",
      "        -0.0309, -0.0325, -0.0231, -0.0492, -0.0237, -0.0652, -0.0146,  0.0207,\n",
      "        -0.0122, -0.0556, -0.0142,  0.0061,  0.0110, -0.0542, -0.0021, -0.0191,\n",
      "        -0.0396, -0.0457, -0.0081, -0.0229, -0.1027, -0.0041, -0.0004, -0.0157,\n",
      "         0.0110, -0.0325, -0.0370, -0.0102,  0.0237,  0.0248, -0.0433, -0.0846,\n",
      "        -0.0191, -0.0383, -0.0607, -0.0086, -0.0172, -0.0141, -0.0807, -0.0008,\n",
      "        -0.0152, -0.0269,  0.0215,  0.0045, -0.0032, -0.0087, -0.0061, -0.0398,\n",
      "        -0.0396,  0.0200, -0.0162, -0.0567,  0.0071, -0.0507, -0.0173, -0.0030,\n",
      "        -0.0596, -0.0050, -0.0687, -0.0271,  0.0127, -0.0528, -0.0389, -0.0546,\n",
      "        -0.0113, -0.0055, -0.0079, -0.0867, -0.0072,  0.0070, -0.0911, -0.0278,\n",
      "        -0.0274,  0.0153, -0.0296, -0.0403, -0.0469, -0.0229,  0.0081, -0.0143,\n",
      "         0.0065,  0.0031, -0.0065, -0.0161, -0.0542, -0.0063, -0.0296,  0.0047,\n",
      "        -0.0132, -0.0448,  0.0079, -0.0323, -0.0088, -0.0297, -0.0460, -0.0084,\n",
      "        -0.0817, -0.0317, -0.0532, -0.0498, -0.0036, -0.0399,  0.0026, -0.0281,\n",
      "        -0.0195, -0.0296, -0.0097, -0.0104, -0.0633, -0.0124, -0.0475, -0.0166,\n",
      "        -0.0311,  0.0048, -0.0574, -0.0209, -0.0237, -0.0296, -0.0007, -0.0288,\n",
      "        -0.0466, -0.0209,  0.0021,  0.0092, -0.0450,  0.0155,  0.0017, -0.0188,\n",
      "        -0.0350, -0.0006,  0.0115, -0.0284, -0.0079, -0.0121, -0.0227,  0.0095,\n",
      "        -0.0150, -0.0562, -0.0116, -0.0175,  0.0057, -0.0389,  0.0065, -0.0800,\n",
      "         0.0059, -0.0141,  0.0036, -0.0174, -0.0026, -0.1246, -0.0230, -0.0845,\n",
      "        -0.0365, -0.0250,  0.0067, -0.0003, -0.0255, -0.0130,  0.0246, -0.0365,\n",
      "         0.0122,  0.0035,  0.0092, -0.0292, -0.0206, -0.0498,  0.0219, -0.0437,\n",
      "         0.0175,  0.0016,  0.0004,  0.0033, -0.0060,  0.0108,  0.0004, -0.0552,\n",
      "        -0.0460, -0.0370, -0.0165, -0.0014, -0.0669, -0.0240, -0.0424, -0.0052,\n",
      "        -0.0446,  0.0117, -0.0181, -0.0021, -0.0789, -0.0056,  0.0112, -0.0067,\n",
      "        -0.0291, -0.0183, -0.0523,  0.0075, -0.0438,  0.0076, -0.0180,  0.0099,\n",
      "        -0.0198, -0.0282, -0.0155, -0.0549, -0.0157, -0.0089, -0.0243, -0.0147,\n",
      "        -0.0045, -0.0196, -0.0138,  0.0078, -0.0499, -0.0191, -0.0157,  0.0124,\n",
      "         0.0159, -0.0227, -0.0518, -0.0112, -0.0157, -0.0035, -0.0098,  0.0149,\n",
      "        -0.0455, -0.0089, -0.0415, -0.0505,  0.0169,  0.0111, -0.0410, -0.0306,\n",
      "        -0.0154,  0.0260,  0.0236, -0.0400,  0.0123, -0.0425, -0.0598, -0.0472,\n",
      "        -0.0251, -0.0067,  0.0048, -0.0189, -0.0125, -0.0313, -0.0204, -0.0120,\n",
      "        -0.0082,  0.0095, -0.0285, -0.0029, -0.0180,  0.0163,  0.0200,  0.0012,\n",
      "        -0.0231, -0.0266, -0.0080, -0.0457, -0.0217, -0.0324,  0.0194,  0.0104,\n",
      "        -0.0098,  0.0115, -0.0119, -0.0406,  0.0041, -0.0364, -0.0088, -0.0150,\n",
      "        -0.0083,  0.0239, -0.0616, -0.0068, -0.0053, -0.0588, -0.0102, -0.0132,\n",
      "         0.0052, -0.0182, -0.0435, -0.0499, -0.1326, -0.0032, -0.0041, -0.0875,\n",
      "        -0.0128, -0.0222, -0.0118,  0.0118, -0.0234, -0.0311,  0.0035, -0.0039,\n",
      "        -0.0403, -0.0240, -0.0215, -0.0105, -0.0071, -0.0545, -0.0413, -0.0117,\n",
      "         0.0154,  0.0011, -0.0407, -0.0550, -0.0538,  0.0100, -0.0012, -0.0310,\n",
      "        -0.0105, -0.0632, -0.0063, -0.0504, -0.0269,  0.0079, -0.0140,  0.0090,\n",
      "        -0.0079,  0.0022, -0.0202, -0.0267, -0.0335, -0.0864, -0.0488,  0.0139,\n",
      "         0.0112,  0.0123, -0.0168, -0.0151, -0.0205, -0.0684, -0.0043, -0.0359,\n",
      "         0.0127, -0.0461,  0.0115,  0.0126,  0.0048, -0.0198,  0.0105, -0.0041,\n",
      "        -0.0084, -0.0424, -0.0224, -0.0041,  0.0123, -0.0400, -0.0523, -0.0557,\n",
      "        -0.0058, -0.0371, -0.0395, -0.0258, -0.0207, -0.0539, -0.0326, -0.0072,\n",
      "        -0.0521,  0.0095, -0.0258, -0.0237, -0.0250, -0.0341, -0.0025, -0.0628],\n",
      "       device='cuda:0')\n",
      "lstm.weight_ih_l0 tensor([[-0.0491, -0.0489,  0.0020,  ..., -0.0196,  0.0152,  0.0101],\n",
      "        [-0.0359, -0.0543, -0.0770,  ..., -0.0882, -0.0899, -0.0537],\n",
      "        [-0.0501,  0.0201, -0.0662,  ..., -0.0599,  0.0287, -0.0807],\n",
      "        ...,\n",
      "        [ 0.0012, -0.0596, -0.0271,  ..., -0.0235, -0.0094, -0.0217],\n",
      "        [-0.0634, -0.0045, -0.0193,  ..., -0.0063, -0.0415, -0.0088],\n",
      "        [ 0.0702,  0.0443,  0.0226,  ...,  0.0499,  0.0183,  0.0344]],\n",
      "       device='cuda:0')\n",
      "lstm.weight_hh_l0 tensor([[ 0.0154, -0.0024,  0.0067,  ..., -0.0045,  0.0248, -0.0105],\n",
      "        [-0.0083,  0.0026,  0.0132,  ..., -0.0649, -0.0606,  0.0439],\n",
      "        [ 0.0404, -0.0123, -0.0202,  ..., -0.0299, -0.0035,  0.0124],\n",
      "        ...,\n",
      "        [-0.0391, -0.0670,  0.0390,  ..., -0.0243,  0.0551, -0.0036],\n",
      "        [ 0.0043, -0.0068,  0.0233,  ..., -0.0406, -0.0700, -0.0193],\n",
      "        [-0.0065,  0.0480,  0.0052,  ...,  0.0147, -0.0122,  0.0210]],\n",
      "       device='cuda:0')\n",
      "lstm.bias_ih_l0 tensor([-0.0394,  0.0025, -0.0494,  ..., -0.0177, -0.0558,  0.0312],\n",
      "       device='cuda:0')\n",
      "lstm.bias_hh_l0 tensor([ 0.0053,  0.0059, -0.0131,  ..., -0.0011,  0.0117, -0.0011],\n",
      "       device='cuda:0')\n",
      "lstm.weight_ih_l1 tensor([[ 0.0067, -0.0240,  0.0205,  ...,  0.0151,  0.0235,  0.0110],\n",
      "        [-0.0258, -0.0104,  0.0032,  ...,  0.0237,  0.0391, -0.0119],\n",
      "        [ 0.0203, -0.0773, -0.0075,  ..., -0.0523,  0.0241,  0.0165],\n",
      "        ...,\n",
      "        [ 0.0337, -0.0714, -0.0039,  ...,  0.0055,  0.0616, -0.0263],\n",
      "        [ 0.0205,  0.0042,  0.0096,  ..., -0.0212, -0.0263, -0.0099],\n",
      "        [-0.0464, -0.0630, -0.0459,  ..., -0.0251,  0.0602, -0.0016]],\n",
      "       device='cuda:0')\n",
      "lstm.weight_hh_l1 tensor([[-0.0282, -0.0275,  0.0134,  ...,  0.0457, -0.0238, -0.0301],\n",
      "        [-0.0193, -0.0367, -0.0179,  ..., -0.0365, -0.0478, -0.0450],\n",
      "        [-0.0190,  0.0184, -0.0021,  ...,  0.0413,  0.0033, -0.0106],\n",
      "        ...,\n",
      "        [-0.0208,  0.0205,  0.0231,  ...,  0.0127,  0.0203,  0.0018],\n",
      "        [ 0.0627, -0.0247,  0.0367,  ...,  0.0170, -0.0057, -0.0003],\n",
      "        [ 0.0020,  0.0415, -0.0064,  ..., -0.0508,  0.0263,  0.0047]],\n",
      "       device='cuda:0')\n",
      "lstm.bias_ih_l1 tensor([-0.0355,  0.0201, -0.0228,  ...,  0.0374, -0.0071,  0.0505],\n",
      "       device='cuda:0')\n",
      "lstm.bias_hh_l1 tensor([-0.0645, -0.0018, -0.0009,  ...,  0.0287, -0.0238,  0.0008],\n",
      "       device='cuda:0')\n",
      "linear.weight tensor([[ 0.0640, -0.0052,  0.0791,  ...,  0.0933,  0.0241,  0.0695],\n",
      "        [-0.0857,  0.0279, -0.0414,  ...,  0.0744, -0.0127, -0.0569],\n",
      "        [ 0.0045,  0.0262, -0.0648,  ..., -0.0332, -0.0081, -0.0645],\n",
      "        ...,\n",
      "        [ 0.0244,  0.0032,  0.0481,  ...,  0.1018, -0.0309,  0.0460],\n",
      "        [ 0.0339, -0.0264,  0.0247,  ..., -0.0349, -0.0165,  0.0182],\n",
      "        [ 0.0908, -0.0114,  0.1018,  ...,  0.0828,  0.0480,  0.1101]],\n",
      "       device='cuda:0')\n",
      "linear.bias tensor([-0.0251,  0.0325,  0.0550,  0.0323,  0.0247,  0.0173, -0.0316],\n",
      "       device='cuda:0')\n"
     ]
    }
   ],
   "source": [
    "for name, param in model.named_parameters():\n",
    "    if param.requires_grad:\n",
    "        print(name, param.data)"
   ]
  },
  {
   "cell_type": "code",
   "execution_count": null,
   "id": "93712bd8",
   "metadata": {},
   "outputs": [],
   "source": []
  },
  {
   "cell_type": "code",
   "execution_count": null,
   "id": "35e8cea4",
   "metadata": {},
   "outputs": [],
   "source": []
  }
 ],
 "metadata": {
  "kernelspec": {
   "display_name": "Python 3",
   "language": "python",
   "name": "python3"
  },
  "language_info": {
   "codemirror_mode": {
    "name": "ipython",
    "version": 3
   },
   "file_extension": ".py",
   "mimetype": "text/x-python",
   "name": "python",
   "nbconvert_exporter": "python",
   "pygments_lexer": "ipython3",
   "version": "3.7.12"
  }
 },
 "nbformat": 4,
 "nbformat_minor": 5
}
