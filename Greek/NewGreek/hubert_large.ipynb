{
 "cells": [
  {
   "cell_type": "code",
   "execution_count": 2,
   "id": "030c0415",
   "metadata": {},
   "outputs": [],
   "source": [
    "import re\n",
    "import os\n",
    "import pandas as pd\n",
    "\n",
    "regex = re.compile(r'\\[.+\\]\\n', re.IGNORECASE)\n",
    "file_paths, file_names, emotions, audios = [], [], [], []\n",
    "emotion_map = {'anger': 'angry', 'happiness': 'happy', 'sadness': 'sad', 'fear': 'fear',\n",
    "              'disgust': 'disgust'}"
   ]
  },
  {
   "cell_type": "code",
   "execution_count": 3,
   "id": "4b8c917b",
   "metadata": {},
   "outputs": [
    {
     "name": "stdout",
     "output_type": "stream",
     "text": [
      "1.12.1\n",
      "0.12.1+cu113\n",
      "cuda\n"
     ]
    }
   ],
   "source": [
    "import torch\n",
    "import torchaudio\n",
    "\n",
    "print(torch.__version__)\n",
    "print(torchaudio.__version__)\n",
    "\n",
    "torch.random.manual_seed(0)\n",
    "device = torch.device(\"cuda\" if torch.cuda.is_available() else \"cpu\")\n",
    "\n",
    "print(device)"
   ]
  },
  {
   "cell_type": "code",
   "execution_count": 4,
   "id": "5c90c3b9",
   "metadata": {},
   "outputs": [
    {
     "name": "stdout",
     "output_type": "stream",
     "text": [
      "<class 'torchaudio.models.wav2vec2.model.Wav2Vec2Model'>\n",
      "16000\n"
     ]
    }
   ],
   "source": [
    "bundle = torchaudio.pipelines.HUBERT_LARGE\n",
    "extractor = bundle.get_model()\n",
    "print(extractor.__class__)\n",
    "print(bundle.sample_rate)"
   ]
  },
  {
   "cell_type": "code",
   "execution_count": 5,
   "id": "2b25269f",
   "metadata": {},
   "outputs": [
    {
     "data": {
      "text/plain": [
       "['anger',\n",
       " 'session_entries.csv',\n",
       " 'fear',\n",
       " 'Tools and Documentation',\n",
       " 'disgust',\n",
       " 'sadness',\n",
       " 'happiness']"
      ]
     },
     "execution_count": 5,
     "metadata": {},
     "output_type": "execute_result"
    }
   ],
   "source": [
    "import os\n",
    "os.listdir('../emotiondata/emotion_data')"
   ]
  },
  {
   "cell_type": "code",
   "execution_count": 6,
   "id": "d35d3153",
   "metadata": {},
   "outputs": [],
   "source": [
    "# folder_list = ['anger', 'disgust', 'fear', 'happiness', 'sadness']\n",
    "# entries = []\n",
    "# for folder in folder_list:\n",
    "#     cur_file_list = os.listdir(f'../emotiondata/emotion_data/{folder}')\n",
    "#     for i in cur_file_list:\n",
    "#         if i == 's05 (3).wav':\n",
    "#             print(\"found\")\n",
    "#             continue\n",
    "#         entries.append(i)\n"
   ]
  },
  {
   "cell_type": "code",
   "execution_count": 7,
   "id": "17286204",
   "metadata": {},
   "outputs": [],
   "source": [
    "# import random\n",
    "# random.shuffle(entries)\n",
    "# session = []\n",
    "# equal_parts = (len(entries)-1)//5 # for equally split the entries into 5 parts\n",
    "# count = 0\n",
    "main_data_path = '../emotiondata/emotion_data'"
   ]
  },
  {
   "cell_type": "code",
   "execution_count": 8,
   "id": "d520c454",
   "metadata": {},
   "outputs": [],
   "source": [
    "# #### Only Run once\n",
    "# from tqdm import tqdm \n",
    "# folder_map = {'a':'anger', 'd':'disgust', 'f':'fear', 'h':'happiness', 's':'sadness'}\n",
    "\n",
    "# file_paths = []\n",
    "# file_names = []\n",
    "# emotions = []\n",
    "# # audios = []\n",
    "# # labels = []\n",
    "\n",
    "\n",
    "# for i in tqdm(range(len(entries))):\n",
    "#     entry = entries[i]\n",
    "#     if \"wav\" not in entry:\n",
    "#         continue\n",
    "#     folder = folder_map[entry[0]]\n",
    "#     file_path = f'../emotiondata/emotion_data/{folder}/{entry}'\n",
    "#     emotion = emotion_map[folder]\n",
    "#     file_paths.append(file_path)\n",
    "#     file_names.append(entry)\n",
    "#     emotions.append(emotion)\n",
    "\n",
    "#     # assign session to it\n",
    "#     part = (count//equal_parts)%6 + 1\n",
    "#     if part == 6:\n",
    "#         part = 5\n",
    "#     session.append(part)\n",
    "#     count += 1\n",
    "\n",
    "\n",
    "# file = pd.DataFrame({'path':file_paths, 'name': file_names, 'emotion': emotions, 'session': session})\n",
    "# dataframe_path = main_data_path + '/session_entries_hubert.csv'\n",
    "# file.to_csv(dataframe_path)"
   ]
  },
  {
   "cell_type": "code",
   "execution_count": 9,
   "id": "a72a3cb3",
   "metadata": {},
   "outputs": [],
   "source": [
    "# os.listdir('../emotiondata/emotion_data')"
   ]
  },
  {
   "cell_type": "markdown",
   "id": "5eb31bb0",
   "metadata": {},
   "source": [
    "# Extract Features using Models"
   ]
  },
  {
   "cell_type": "code",
   "execution_count": 10,
   "id": "52a7f6ce",
   "metadata": {},
   "outputs": [
    {
     "data": {
      "text/html": [
       "<div>\n",
       "<style scoped>\n",
       "    .dataframe tbody tr th:only-of-type {\n",
       "        vertical-align: middle;\n",
       "    }\n",
       "\n",
       "    .dataframe tbody tr th {\n",
       "        vertical-align: top;\n",
       "    }\n",
       "\n",
       "    .dataframe thead th {\n",
       "        text-align: right;\n",
       "    }\n",
       "</style>\n",
       "<table border=\"1\" class=\"dataframe\">\n",
       "  <thead>\n",
       "    <tr style=\"text-align: right;\">\n",
       "      <th></th>\n",
       "      <th>path</th>\n",
       "      <th>name</th>\n",
       "      <th>emotion</th>\n",
       "      <th>session</th>\n",
       "    </tr>\n",
       "  </thead>\n",
       "  <tbody>\n",
       "    <tr>\n",
       "      <th>0</th>\n",
       "      <td>../emotiondata/emotion_data/happiness/h17 (5).wav</td>\n",
       "      <td>h17 (5).wav</td>\n",
       "      <td>happy</td>\n",
       "      <td>1</td>\n",
       "    </tr>\n",
       "    <tr>\n",
       "      <th>1</th>\n",
       "      <td>../emotiondata/emotion_data/happiness/h20 (2).wav</td>\n",
       "      <td>h20 (2).wav</td>\n",
       "      <td>happy</td>\n",
       "      <td>1</td>\n",
       "    </tr>\n",
       "    <tr>\n",
       "      <th>2</th>\n",
       "      <td>../emotiondata/emotion_data/disgust/d19 (4).wav</td>\n",
       "      <td>d19 (4).wav</td>\n",
       "      <td>disgust</td>\n",
       "      <td>1</td>\n",
       "    </tr>\n",
       "    <tr>\n",
       "      <th>3</th>\n",
       "      <td>../emotiondata/emotion_data/sadness/s12 (4).wav</td>\n",
       "      <td>s12 (4).wav</td>\n",
       "      <td>sad</td>\n",
       "      <td>1</td>\n",
       "    </tr>\n",
       "    <tr>\n",
       "      <th>4</th>\n",
       "      <td>../emotiondata/emotion_data/sadness/s01 (4).wav</td>\n",
       "      <td>s01 (4).wav</td>\n",
       "      <td>sad</td>\n",
       "      <td>1</td>\n",
       "    </tr>\n",
       "  </tbody>\n",
       "</table>\n",
       "</div>"
      ],
      "text/plain": [
       "                                                path         name  emotion  \\\n",
       "0  ../emotiondata/emotion_data/happiness/h17 (5).wav  h17 (5).wav    happy   \n",
       "1  ../emotiondata/emotion_data/happiness/h20 (2).wav  h20 (2).wav    happy   \n",
       "2    ../emotiondata/emotion_data/disgust/d19 (4).wav  d19 (4).wav  disgust   \n",
       "3    ../emotiondata/emotion_data/sadness/s12 (4).wav  s12 (4).wav      sad   \n",
       "4    ../emotiondata/emotion_data/sadness/s01 (4).wav  s01 (4).wav      sad   \n",
       "\n",
       "   session  \n",
       "0        1  \n",
       "1        1  \n",
       "2        1  \n",
       "3        1  \n",
       "4        1  "
      ]
     },
     "execution_count": 10,
     "metadata": {},
     "output_type": "execute_result"
    }
   ],
   "source": [
    "dataframe_path = main_data_path + '/session_entries.csv'\n",
    "file = pd.read_csv(dataframe_path)[['path', 'name', 'emotion', 'session']]\n",
    "file.head()"
   ]
  },
  {
   "cell_type": "code",
   "execution_count": 11,
   "id": "72092bcd",
   "metadata": {},
   "outputs": [
    {
     "name": "stderr",
     "output_type": "stream",
     "text": [
      "100%|█████████████████████████████████████████████████████████████████████████████████████████████████████████████████████████████████████████████████████████████████████████████████████████████████████████████████████████████████████████████████████████████████████████████████████████████| 604/604 [15:28<00:00,  1.54s/it]\n"
     ]
    }
   ],
   "source": [
    "from tqdm import tqdm\n",
    "audios = []\n",
    "to_be_discarded = []\n",
    "discarded_name = []\n",
    "for i in tqdm(range(len(file['path']))):\n",
    "    path = file['path'][i]\n",
    "    wave, sr = torchaudio.load(path)\n",
    "    if sr != bundle.sample_rate:\n",
    "        wave = torchaudio.functional.resample(wave, sr, bundle.sample_rate)\n",
    "    with torch.inference_mode():\n",
    "        feature, _ = extractor.extract_features(wave)\n",
    "    \n",
    "    feature = [f[0] for f in feature]\n",
    "    audio = torch.stack(feature)\n",
    "    audios.append(audio)"
   ]
  },
  {
   "cell_type": "markdown",
   "id": "d0747cba",
   "metadata": {},
   "source": [
    "# Load Data"
   ]
  },
  {
   "cell_type": "code",
   "execution_count": 21,
   "id": "34a3d789",
   "metadata": {},
   "outputs": [],
   "source": [
    "holdout = 5\n",
    "train = file[file['session'] != holdout]\n",
    "train_audios = [audios[i] for i in range(len(audios)) if file['session'][i] != holdout]\n",
    "test = file[file['session'] == holdout]\n",
    "test_audios = [audios[i] for i in range(len(audios)) if file['session'][i] == holdout]"
   ]
  },
  {
   "cell_type": "code",
   "execution_count": 22,
   "id": "be9eaebc",
   "metadata": {},
   "outputs": [],
   "source": [
    "class MyDataSet(torch.utils.data.Dataset):\n",
    "    def __init__(self, audios, labels, label_transform):\n",
    "        super(MyDataSet).__init__()\n",
    "        self.audios = audios\n",
    "        self.labels = labels\n",
    "        self.label_transform = label_transform\n",
    "        \n",
    "    def __getitem__(self, idx):\n",
    "        label = self.label_transform[self.labels[idx]]\n",
    "        audio = self.audios[idx]\n",
    "        length = audio.size(1)\n",
    "        return audio, length, label\n",
    "    \n",
    "    def __len__(self):\n",
    "        return len(self.labels)"
   ]
  },
  {
   "cell_type": "code",
   "execution_count": 23,
   "id": "e9898089",
   "metadata": {},
   "outputs": [],
   "source": [
    "def collate_indic(data):\n",
    "    audios, lengths, labels = zip(*data)\n",
    "    max_len = max(lengths)\n",
    "    n_ftrs = audios[0].size(2)\n",
    "    n_dims = audios[0].size(0)\n",
    "    features = torch.zeros((len(audios), n_dims, max_len, n_ftrs))\n",
    "    labels = torch.tensor(labels)\n",
    "    lengths = torch.tensor(lengths)\n",
    "\n",
    "    for i in range(len(data)):\n",
    "        j, k = audios[i].size(1), audios[i].size(2)\n",
    "        features[i] = torch.cat([audios[i], torch.zeros((n_dims, max_len - j, k))], dim=1)\n",
    "\n",
    "    return features, lengths, labels"
   ]
  },
  {
   "cell_type": "code",
   "execution_count": 24,
   "id": "592688a1",
   "metadata": {},
   "outputs": [
    {
     "data": {
      "text/plain": [
       "{'angry': 0, 'happy': 1, 'sad': 2, 'fear': 3, 'disgust': 4}"
      ]
     },
     "execution_count": 24,
     "metadata": {},
     "output_type": "execute_result"
    }
   ],
   "source": [
    "categories = ['angry', 'happy', 'sad', 'fear', 'disgust']\n",
    "cate_dic = {}\n",
    "for i, cate in enumerate(categories):\n",
    "    cate_dic[cate] = i\n",
    "cate_dic"
   ]
  },
  {
   "cell_type": "code",
   "execution_count": 25,
   "id": "79856942",
   "metadata": {},
   "outputs": [],
   "source": [
    "from torch.utils.data import DataLoader\n",
    "\n",
    "train_dataset = MyDataSet(train_audios, train['emotion'].tolist(), cate_dic)\n",
    "trainloader_args = dict(batch_size=16, shuffle=True)\n",
    "train_dataloader = DataLoader(train_dataset, **trainloader_args, \n",
    "                              collate_fn=collate_indic)\n",
    "\n",
    "test_dataset = MyDataSet(test_audios, test['emotion'].tolist(), cate_dic)\n",
    "testloader_args = dict(batch_size=16, shuffle=True)\n",
    "test_dataloader = DataLoader(test_dataset, **testloader_args, \n",
    "                             collate_fn=collate_indic)"
   ]
  },
  {
   "cell_type": "markdown",
   "id": "fb9917a3",
   "metadata": {},
   "source": [
    "# 3CNN+LSTM"
   ]
  },
  {
   "cell_type": "code",
   "execution_count": 26,
   "id": "69345d91",
   "metadata": {},
   "outputs": [],
   "source": [
    "import torch.nn as nn\n",
    "import torch.nn.functional as F\n",
    "\n",
    "class ICASSP3CNN(nn.Module):\n",
    "    def __init__(self, vocab_size, dims = 12, embed_size=128, hidden_size=512, num_lstm_layers = 2, \n",
    "                 bidirectional = False, label_size = 5):\n",
    "        super().__init__()\n",
    "        self.n_layers = num_lstm_layers \n",
    "        self.hidden = hidden_size\n",
    "        self.bidirectional = bidirectional\n",
    "        \n",
    "        self.aggr = nn.Conv1d(in_channels=dims, out_channels=1, kernel_size=1)\n",
    "        \n",
    "        self.embed = nn.Linear(in_features = vocab_size, out_features = embed_size)\n",
    "\n",
    "        self.cnn  = nn.Conv1d(embed_size, embed_size, kernel_size=3, padding=1)\n",
    "        self.cnn2 = nn.Conv1d(embed_size, embed_size, kernel_size=5, padding=2)\n",
    "        self.cnn3 = nn.Conv1d(embed_size, embed_size, kernel_size=7, padding=3)\n",
    "\n",
    "        self.batchnorm = nn.BatchNorm1d(3 * embed_size)\n",
    "\n",
    "        self.lstm = nn.LSTM(input_size = 3 * embed_size, \n",
    "                            hidden_size = hidden_size, \n",
    "                            num_layers = num_lstm_layers, \n",
    "                            bidirectional = bidirectional)\n",
    "\n",
    "        self.linear = nn.Linear(in_features = 2 * hidden_size if bidirectional else hidden_size, \n",
    "                                out_features = label_size)\n",
    "\n",
    "\n",
    "    def forward(self, x, lengths):\n",
    "        \"\"\"\n",
    "        padded_x: (B,T) padded LongTensor\n",
    "        \"\"\"\n",
    "        n, d, b, t = x.size(0), x.size(1), x.size(2), x.size(3)\n",
    "        x = torch.flatten(x, start_dim=2)\n",
    "        input = self.aggr(x)\n",
    "        input = torch.reshape(input, (n, b, t))\n",
    "        input = self.embed(input)\n",
    "\n",
    "        batch_size = input.size(0)\n",
    "        input = input.transpose(1,2)    # (B,T,H) -> (B,H,T)\n",
    "\n",
    "        cnn_output = torch.cat([self.cnn(input), self.cnn2(input), self.cnn3(input)], dim=1)\n",
    "\n",
    "        input = F.relu(self.batchnorm(cnn_output))\n",
    "\n",
    "        input = input.transpose(1,2)\n",
    "\n",
    "        pack_tensor = nn.utils.rnn.pack_padded_sequence(input, lengths, batch_first=True, enforce_sorted=False)\n",
    "        _, (hn, cn) = self.lstm(pack_tensor)\n",
    "\n",
    "        if self.bidirectional:\n",
    "            h_n = hn.view(self.n_layers, 2, batch_size, self.hidden)\n",
    "            h_n = torch.cat([ h_n[-1, 0,:], h_n[-1,1,:] ], dim = 1)\n",
    "        else:\n",
    "            h_n = hn[-1]\n",
    "\n",
    "        logits = self.linear(h_n)\n",
    "\n",
    "        return logits"
   ]
  },
  {
   "cell_type": "markdown",
   "id": "3b44bf04",
   "metadata": {},
   "source": [
    "# Train Each Layer¶"
   ]
  },
  {
   "cell_type": "code",
   "execution_count": 27,
   "id": "5ddfbd01",
   "metadata": {},
   "outputs": [
    {
     "name": "stderr",
     "output_type": "stream",
     "text": [
      "  2%|█████▊                                                                                                                                                                                                                                                                                          | 1/50 [00:11<09:12, 11.27s/it]"
     ]
    },
    {
     "name": "stdout",
     "output_type": "stream",
     "text": [
      "epoch:1, train accu:0.2896, train loss:1.60\n"
     ]
    },
    {
     "name": "stderr",
     "output_type": "stream",
     "text": [
      "\r",
      "  4%|███████████▌                                                                                                                                                                                                                                                                                    | 2/50 [00:22<09:07, 11.40s/it]"
     ]
    },
    {
     "name": "stdout",
     "output_type": "stream",
     "text": [
      "epoch:2, train accu:0.3958, train loss:1.41\n"
     ]
    },
    {
     "name": "stderr",
     "output_type": "stream",
     "text": [
      "\r",
      "  6%|█████████████████▎                                                                                                                                                                                                                                                                              | 3/50 [00:36<09:47, 12.50s/it]"
     ]
    },
    {
     "name": "stdout",
     "output_type": "stream",
     "text": [
      "epoch:3, train accu:0.5104, train loss:1.19\n"
     ]
    },
    {
     "name": "stderr",
     "output_type": "stream",
     "text": [
      "\r",
      "  8%|███████████████████████                                                                                                                                                                                                                                                                         | 4/50 [00:48<09:29, 12.39s/it]"
     ]
    },
    {
     "name": "stdout",
     "output_type": "stream",
     "text": [
      "epoch:4, train accu:0.5625, train loss:1.06\n"
     ]
    },
    {
     "name": "stderr",
     "output_type": "stream",
     "text": [
      "\r",
      " 10%|████████████████████████████▊                                                                                                                                                                                                                                                                   | 5/50 [01:00<09:06, 12.15s/it]"
     ]
    },
    {
     "name": "stdout",
     "output_type": "stream",
     "text": [
      "epoch:5, train accu:0.6188, train loss:0.96\n"
     ]
    },
    {
     "name": "stderr",
     "output_type": "stream",
     "text": [
      "\r",
      " 12%|██████████████████████████████████▌                                                                                                                                                                                                                                                             | 6/50 [01:11<08:36, 11.74s/it]"
     ]
    },
    {
     "name": "stdout",
     "output_type": "stream",
     "text": [
      "epoch:6, train accu:0.6646, train loss:0.84\n"
     ]
    },
    {
     "name": "stderr",
     "output_type": "stream",
     "text": [
      "\r",
      " 14%|████████████████████████████████████████▎                                                                                                                                                                                                                                                       | 7/50 [01:22<08:16, 11.56s/it]"
     ]
    },
    {
     "name": "stdout",
     "output_type": "stream",
     "text": [
      "epoch:7, train accu:0.7833, train loss:0.63\n"
     ]
    },
    {
     "name": "stderr",
     "output_type": "stream",
     "text": [
      "\r",
      " 16%|██████████████████████████████████████████████                                                                                                                                                                                                                                                  | 8/50 [01:35<08:28, 12.10s/it]"
     ]
    },
    {
     "name": "stdout",
     "output_type": "stream",
     "text": [
      "epoch:8, train accu:0.7625, train loss:0.58\n"
     ]
    },
    {
     "name": "stderr",
     "output_type": "stream",
     "text": [
      "\r",
      " 18%|███████████████████████████████████████████████████▊                                                                                                                                                                                                                                            | 9/50 [01:46<08:03, 11.79s/it]"
     ]
    },
    {
     "name": "stdout",
     "output_type": "stream",
     "text": [
      "epoch:9, train accu:0.8083, train loss:0.54\n"
     ]
    },
    {
     "name": "stderr",
     "output_type": "stream",
     "text": [
      "\r",
      " 20%|█████████████████████████████████████████████████████████▍                                                                                                                                                                                                                                     | 10/50 [01:58<07:42, 11.56s/it]"
     ]
    },
    {
     "name": "stdout",
     "output_type": "stream",
     "text": [
      "epoch:10, train accu:0.8313, train loss:0.51\n"
     ]
    },
    {
     "name": "stderr",
     "output_type": "stream",
     "text": [
      "\r",
      " 22%|███████████████████████████████████████████████████████████████▏                                                                                                                                                                                                                               | 11/50 [02:09<07:25, 11.43s/it]"
     ]
    },
    {
     "name": "stdout",
     "output_type": "stream",
     "text": [
      "epoch:11, train accu:0.8438, train loss:0.44\n"
     ]
    },
    {
     "name": "stderr",
     "output_type": "stream",
     "text": [
      "\r",
      " 24%|████████████████████████████████████████████████████████████████████▉                                                                                                                                                                                                                          | 12/50 [02:20<07:11, 11.34s/it]"
     ]
    },
    {
     "name": "stdout",
     "output_type": "stream",
     "text": [
      "epoch:12, train accu:0.8042, train loss:0.57\n"
     ]
    },
    {
     "name": "stderr",
     "output_type": "stream",
     "text": [
      "\r",
      " 26%|██████████████████████████████████████████████████████████████████████████▌                                                                                                                                                                                                                    | 13/50 [02:33<07:25, 12.03s/it]"
     ]
    },
    {
     "name": "stdout",
     "output_type": "stream",
     "text": [
      "epoch:13, train accu:0.8396, train loss:0.44\n"
     ]
    },
    {
     "name": "stderr",
     "output_type": "stream",
     "text": [
      "\r",
      " 28%|████████████████████████████████████████████████████████████████████████████████▎                                                                                                                                                                                                              | 14/50 [02:45<07:03, 11.78s/it]"
     ]
    },
    {
     "name": "stdout",
     "output_type": "stream",
     "text": [
      "epoch:14, train accu:0.8667, train loss:0.43\n"
     ]
    },
    {
     "name": "stderr",
     "output_type": "stream",
     "text": [
      "\r",
      " 30%|██████████████████████████████████████████████████████████████████████████████████████                                                                                                                                                                                                         | 15/50 [02:56<06:43, 11.53s/it]"
     ]
    },
    {
     "name": "stdout",
     "output_type": "stream",
     "text": [
      "epoch:15, train accu:0.8583, train loss:0.40\n"
     ]
    },
    {
     "name": "stderr",
     "output_type": "stream",
     "text": [
      "\r",
      " 32%|███████████████████████████████████████████████████████████████████████████████████████████▊                                                                                                                                                                                                   | 16/50 [03:07<06:25, 11.35s/it]"
     ]
    },
    {
     "name": "stdout",
     "output_type": "stream",
     "text": [
      "epoch:16, train accu:0.9000, train loss:0.28\n"
     ]
    },
    {
     "name": "stderr",
     "output_type": "stream",
     "text": [
      "\r",
      " 34%|█████████████████████████████████████████████████████████████████████████████████████████████████▌                                                                                                                                                                                             | 17/50 [03:17<06:10, 11.23s/it]"
     ]
    },
    {
     "name": "stdout",
     "output_type": "stream",
     "text": [
      "epoch:17, train accu:0.8938, train loss:0.35\n"
     ]
    },
    {
     "name": "stderr",
     "output_type": "stream",
     "text": [
      "\r",
      " 36%|███████████████████████████████████████████████████████████████████████████████████████████████████████▎                                                                                                                                                                                       | 18/50 [03:31<06:16, 11.77s/it]"
     ]
    },
    {
     "name": "stdout",
     "output_type": "stream",
     "text": [
      "epoch:18, train accu:0.8646, train loss:0.38\n"
     ]
    },
    {
     "name": "stderr",
     "output_type": "stream",
     "text": [
      "\r",
      " 38%|█████████████████████████████████████████████████████████████████████████████████████████████████████████████                                                                                                                                                                                  | 19/50 [03:42<06:02, 11.69s/it]"
     ]
    },
    {
     "name": "stdout",
     "output_type": "stream",
     "text": [
      "epoch:19, train accu:0.9146, train loss:0.26\n"
     ]
    },
    {
     "name": "stderr",
     "output_type": "stream",
     "text": [
      "\r",
      " 40%|██████████████████████████████████████████████████████████████████████████████████████████████████████████████████▊                                                                                                                                                                            | 20/50 [03:54<05:49, 11.65s/it]"
     ]
    },
    {
     "name": "stdout",
     "output_type": "stream",
     "text": [
      "epoch:20, train accu:0.9104, train loss:0.28\n"
     ]
    },
    {
     "name": "stderr",
     "output_type": "stream",
     "text": [
      "\r",
      " 42%|████████████████████████████████████████████████████████████████████████████████████████████████████████████████████████▌                                                                                                                                                                      | 21/50 [04:05<05:36, 11.61s/it]"
     ]
    },
    {
     "name": "stdout",
     "output_type": "stream",
     "text": [
      "epoch:21, train accu:0.9062, train loss:0.27\n"
     ]
    },
    {
     "name": "stderr",
     "output_type": "stream",
     "text": [
      "\r",
      " 44%|██████████████████████████████████████████████████████████████████████████████████████████████████████████████████████████████▎                                                                                                                                                                | 22/50 [04:15<05:09, 11.05s/it]"
     ]
    },
    {
     "name": "stdout",
     "output_type": "stream",
     "text": [
      "epoch:22, train accu:0.9583, train loss:0.16\n"
     ]
    },
    {
     "name": "stderr",
     "output_type": "stream",
     "text": [
      "\r",
      " 46%|████████████████████████████████████████████████████████████████████████████████████████████████████████████████████████████████████                                                                                                                                                           | 23/50 [04:25<04:51, 10.78s/it]"
     ]
    },
    {
     "name": "stdout",
     "output_type": "stream",
     "text": [
      "epoch:23, train accu:0.9417, train loss:0.19\n"
     ]
    },
    {
     "name": "stderr",
     "output_type": "stream",
     "text": [
      "\r",
      " 48%|█████████████████████████████████████████████████████████████████████████████████████████████████████████████████████████████████████████▊                                                                                                                                                     | 24/50 [04:36<04:38, 10.73s/it]"
     ]
    },
    {
     "name": "stdout",
     "output_type": "stream",
     "text": [
      "epoch:24, train accu:0.8896, train loss:0.35\n"
     ]
    },
    {
     "name": "stderr",
     "output_type": "stream",
     "text": [
      "\r",
      " 50%|███████████████████████████████████████████████████████████████████████████████████████████████████████████████████████████████████████████████▌                                                                                                                                               | 25/50 [04:45<04:20, 10.43s/it]"
     ]
    },
    {
     "name": "stdout",
     "output_type": "stream",
     "text": [
      "epoch:25, train accu:0.9417, train loss:0.17\n"
     ]
    },
    {
     "name": "stderr",
     "output_type": "stream",
     "text": [
      "\r",
      " 52%|█████████████████████████████████████████████████████████████████████████████████████████████████████████████████████████████████████████████████████▏                                                                                                                                         | 26/50 [04:55<04:06, 10.27s/it]"
     ]
    },
    {
     "name": "stdout",
     "output_type": "stream",
     "text": [
      "epoch:26, train accu:0.9062, train loss:0.30\n"
     ]
    },
    {
     "name": "stderr",
     "output_type": "stream",
     "text": [
      "\r",
      " 54%|██████████████████████████████████████████████████████████████████████████████████████████████████████████████████████████████████████████████████████████▉                                                                                                                                    | 27/50 [05:05<03:54, 10.19s/it]"
     ]
    },
    {
     "name": "stdout",
     "output_type": "stream",
     "text": [
      "epoch:27, train accu:0.9542, train loss:0.15\n"
     ]
    },
    {
     "name": "stderr",
     "output_type": "stream",
     "text": [
      "\r",
      " 56%|████████████████████████████████████████████████████████████████████████████████████████████████████████████████████████████████████████████████████████████████▋                                                                                                                              | 28/50 [05:15<03:42, 10.09s/it]"
     ]
    },
    {
     "name": "stdout",
     "output_type": "stream",
     "text": [
      "epoch:28, train accu:0.9646, train loss:0.11\n"
     ]
    },
    {
     "name": "stderr",
     "output_type": "stream",
     "text": [
      "\r",
      " 58%|██████████████████████████████████████████████████████████████████████████████████████████████████████████████████████████████████████████████████████████████████████▍                                                                                                                        | 29/50 [05:25<03:32, 10.11s/it]"
     ]
    },
    {
     "name": "stdout",
     "output_type": "stream",
     "text": [
      "epoch:29, train accu:0.9833, train loss:0.07\n"
     ]
    },
    {
     "name": "stderr",
     "output_type": "stream",
     "text": [
      "\r",
      " 60%|████████████████████████████████████████████████████████████████████████████████████████████████████████████████████████████████████████████████████████████████████████████▏                                                                                                                  | 30/50 [05:36<03:24, 10.23s/it]"
     ]
    },
    {
     "name": "stdout",
     "output_type": "stream",
     "text": [
      "epoch:30, train accu:0.9458, train loss:0.16\n"
     ]
    },
    {
     "name": "stderr",
     "output_type": "stream",
     "text": [
      "\r",
      " 62%|█████████████████████████████████████████████████████████████████████████████████████████████████████████████████████████████████████████████████████████████████████████████████▉                                                                                                             | 31/50 [05:45<03:11, 10.08s/it]"
     ]
    },
    {
     "name": "stdout",
     "output_type": "stream",
     "text": [
      "epoch:31, train accu:0.8896, train loss:0.31\n"
     ]
    },
    {
     "name": "stderr",
     "output_type": "stream",
     "text": [
      "\r",
      " 64%|███████████████████████████████████████████████████████████████████████████████████████████████████████████████████████████████████████████████████████████████████████████████████████▋                                                                                                       | 32/50 [05:55<03:00, 10.03s/it]"
     ]
    },
    {
     "name": "stdout",
     "output_type": "stream",
     "text": [
      "epoch:32, train accu:0.9479, train loss:0.21\n"
     ]
    },
    {
     "name": "stderr",
     "output_type": "stream",
     "text": [
      "\r",
      " 66%|█████████████████████████████████████████████████████████████████████████████████████████████████████████████████████████████████████████████████████████████████████████████████████████████▍                                                                                                 | 33/50 [06:05<02:50, 10.04s/it]"
     ]
    },
    {
     "name": "stdout",
     "output_type": "stream",
     "text": [
      "epoch:33, train accu:0.9708, train loss:0.12\n"
     ]
    },
    {
     "name": "stderr",
     "output_type": "stream",
     "text": [
      "\r",
      " 68%|███████████████████████████████████████████████████████████████████████████████████████████████████████████████████████████████████████████████████████████████████████████████████████████████████▏                                                                                           | 34/50 [06:15<02:40, 10.01s/it]"
     ]
    },
    {
     "name": "stdout",
     "output_type": "stream",
     "text": [
      "epoch:34, train accu:0.9750, train loss:0.09\n"
     ]
    },
    {
     "name": "stderr",
     "output_type": "stream",
     "text": [
      "\r",
      " 70%|████████████████████████████████████████████████████████████████████████████████████████████████████████████████████████████████████████████████████████████████████████████████████████████████████████▉                                                                                      | 35/50 [06:25<02:29, 10.00s/it]"
     ]
    },
    {
     "name": "stdout",
     "output_type": "stream",
     "text": [
      "epoch:35, train accu:0.9688, train loss:0.08\n"
     ]
    },
    {
     "name": "stderr",
     "output_type": "stream",
     "text": [
      "\r",
      " 72%|██████████████████████████████████████████████████████████████████████████████████████████████████████████████████████████████████████████████████████████████████████████████████████████████████████████████▋                                                                                | 36/50 [06:36<02:22, 10.19s/it]"
     ]
    },
    {
     "name": "stdout",
     "output_type": "stream",
     "text": [
      "epoch:36, train accu:0.9187, train loss:0.25\n"
     ]
    },
    {
     "name": "stderr",
     "output_type": "stream",
     "text": [
      "\r",
      " 74%|████████████████████████████████████████████████████████████████████████████████████████████████████████████████████████████████████████████████████████████████████████████████████████████████████████████████████▍                                                                          | 37/50 [06:46<02:10, 10.06s/it]"
     ]
    },
    {
     "name": "stdout",
     "output_type": "stream",
     "text": [
      "epoch:37, train accu:0.9354, train loss:0.22\n"
     ]
    },
    {
     "name": "stderr",
     "output_type": "stream",
     "text": [
      "\r",
      " 76%|██████████████████████████████████████████████████████████████████████████████████████████████████████████████████████████████████████████████████████████████████████████████████████████████████████████████████████████                                                                     | 38/50 [06:56<01:59,  9.98s/it]"
     ]
    },
    {
     "name": "stdout",
     "output_type": "stream",
     "text": [
      "epoch:38, train accu:0.9833, train loss:0.07\n"
     ]
    },
    {
     "name": "stderr",
     "output_type": "stream",
     "text": [
      "\r",
      " 78%|███████████████████████████████████████████████████████████████████████████████████████████████████████████████████████████████████████████████████████████████████████████████████████████████████████████████████████████████▊                                                               | 39/50 [07:05<01:48,  9.83s/it]"
     ]
    },
    {
     "name": "stdout",
     "output_type": "stream",
     "text": [
      "epoch:39, train accu:0.9771, train loss:0.06\n"
     ]
    },
    {
     "name": "stderr",
     "output_type": "stream",
     "text": [
      "\r",
      " 80%|█████████████████████████████████████████████████████████████████████████████████████████████████████████████████████████████████████████████████████████████████████████████████████████████████████████████████████████████████████▌                                                         | 40/50 [07:15<01:38,  9.83s/it]"
     ]
    },
    {
     "name": "stdout",
     "output_type": "stream",
     "text": [
      "epoch:40, train accu:0.9771, train loss:0.07\n"
     ]
    },
    {
     "name": "stderr",
     "output_type": "stream",
     "text": [
      "\r",
      " 82%|███████████████████████████████████████████████████████████████████████████████████████████████████████████████████████████████████████████████████████████████████████████████████████████████████████████████████████████████████████████▎                                                   | 41/50 [07:24<01:27,  9.75s/it]"
     ]
    },
    {
     "name": "stdout",
     "output_type": "stream",
     "text": [
      "epoch:41, train accu:0.9896, train loss:0.03\n"
     ]
    },
    {
     "name": "stderr",
     "output_type": "stream",
     "text": [
      "\r",
      " 84%|█████████████████████████████████████████████████████████████████████████████████████████████████████████████████████████████████████████████████████████████████████████████████████████████████████████████████████████████████████████████████                                              | 42/50 [07:35<01:20, 10.06s/it]"
     ]
    },
    {
     "name": "stdout",
     "output_type": "stream",
     "text": [
      "epoch:42, train accu:0.9812, train loss:0.04\n"
     ]
    },
    {
     "name": "stderr",
     "output_type": "stream",
     "text": [
      "\r",
      " 86%|██████████████████████████████████████████████████████████████████████████████████████████████████████████████████████████████████████████████████████████████████████████████████████████████████████████████████████████████████████████████████████▊                                        | 43/50 [07:45<01:09,  9.97s/it]"
     ]
    },
    {
     "name": "stdout",
     "output_type": "stream",
     "text": [
      "epoch:43, train accu:0.9479, train loss:0.16\n"
     ]
    },
    {
     "name": "stderr",
     "output_type": "stream",
     "text": [
      "\r",
      " 88%|████████████████████████████████████████████████████████████████████████████████████████████████████████████████████████████████████████████████████████████████████████████████████████████████████████████████████████████████████████████████████████████▌                                  | 44/50 [07:55<00:59,  9.92s/it]"
     ]
    },
    {
     "name": "stdout",
     "output_type": "stream",
     "text": [
      "epoch:44, train accu:0.9792, train loss:0.07\n"
     ]
    },
    {
     "name": "stderr",
     "output_type": "stream",
     "text": [
      "\r",
      " 90%|██████████████████████████████████████████████████████████████████████████████████████████████████████████████████████████████████████████████████████████████████████████████████████████████████████████████████████████████████████████████████████████████████▎                            | 45/50 [08:05<00:49,  9.91s/it]"
     ]
    },
    {
     "name": "stdout",
     "output_type": "stream",
     "text": [
      "epoch:45, train accu:0.9708, train loss:0.09\n"
     ]
    },
    {
     "name": "stderr",
     "output_type": "stream",
     "text": [
      "\r",
      " 92%|████████████████████████████████████████████████████████████████████████████████████████████████████████████████████████████████████████████████████████████████████████████████████████████████████████████████████████████████████████████████████████████████████████                       | 46/50 [08:14<00:39,  9.83s/it]"
     ]
    },
    {
     "name": "stdout",
     "output_type": "stream",
     "text": [
      "epoch:46, train accu:0.9875, train loss:0.05\n"
     ]
    },
    {
     "name": "stderr",
     "output_type": "stream",
     "text": [
      "\r",
      " 94%|█████████████████████████████████████████████████████████████████████████████████████████████████████████████████████████████████████████████████████████████████████████████████████████████████████████████████████████████████████████████████████████████████████████████▊                 | 47/50 [08:24<00:29,  9.81s/it]"
     ]
    },
    {
     "name": "stdout",
     "output_type": "stream",
     "text": [
      "epoch:47, train accu:0.9875, train loss:0.03\n"
     ]
    },
    {
     "name": "stderr",
     "output_type": "stream",
     "text": [
      "\r",
      " 96%|███████████████████████████████████████████████████████████████████████████████████████████████████████████████████████████████████████████████████████████████████████████████████████████████████████████████████████████████████████████████████████████████████████████████████▌           | 48/50 [08:35<00:20, 10.17s/it]"
     ]
    },
    {
     "name": "stdout",
     "output_type": "stream",
     "text": [
      "epoch:48, train accu:0.9958, train loss:0.02\n"
     ]
    },
    {
     "name": "stderr",
     "output_type": "stream",
     "text": [
      "\r",
      " 98%|█████████████████████████████████████████████████████████████████████████████████████████████████████████████████████████████████████████████████████████████████████████████████████████████████████████████████████████████████████████████████████████████████████████████████████████▎     | 49/50 [08:47<00:10, 10.64s/it]"
     ]
    },
    {
     "name": "stdout",
     "output_type": "stream",
     "text": [
      "epoch:49, train accu:0.9896, train loss:0.03\n"
     ]
    },
    {
     "name": "stderr",
     "output_type": "stream",
     "text": [
      "100%|███████████████████████████████████████████████████████████████████████████████████████████████████████████████████████████████████████████████████████████████████████████████████████████████████████████████████████████████████████████████████████████████████████████████████████████████| 50/50 [08:59<00:00, 10.78s/it]"
     ]
    },
    {
     "name": "stdout",
     "output_type": "stream",
     "text": [
      "epoch:50, train accu:0.9938, train loss:0.02\n"
     ]
    },
    {
     "name": "stderr",
     "output_type": "stream",
     "text": [
      "\n"
     ]
    }
   ],
   "source": [
    "from tqdm import tqdm\n",
    "from torchsummary import summary\n",
    "import torch.optim as optim\n",
    "\n",
    "model = ICASSP3CNN(1024, 24)\n",
    "model = model.to(device)\n",
    "criterion = nn.CrossEntropyLoss()\n",
    "optimizer = optim.Adam(model.parameters(), lr=0.001)\n",
    "\n",
    "epochs = 50\n",
    "train_losses = []\n",
    "train_accuracies = []\n",
    "valid_losses = []\n",
    "valid_accuracies = []\n",
    "\n",
    "for epoch in tqdm(range(epochs)):\n",
    "    train_loss = 0\n",
    "    acc_cnt = 0\n",
    "    err_cnt = 0\n",
    "    batch_cnt = 0\n",
    "    model.train()\n",
    "    for batch, (x, length, y) in enumerate(train_dataloader):\n",
    "        x = x.to(device)\n",
    "        y = y.to(device)\n",
    "        optimizer.zero_grad()\n",
    "        logits = model(x, length)\n",
    "        loss = criterion(logits, y)\n",
    "        loss.backward()\n",
    "        optimizer.step()\n",
    "        train_loss += loss.cpu().item()\n",
    "\n",
    "        #model outputs\n",
    "        out_val, out_indices = torch.max(logits, dim=1)\n",
    "        tar_indices = y\n",
    "\n",
    "        for i in range(len(out_indices)):\n",
    "            if out_indices[i] == tar_indices[i]:\n",
    "                acc_cnt += 1\n",
    "            else:\n",
    "                err_cnt += 1\n",
    "        batch_cnt += 1\n",
    "    \n",
    "    train_loss = train_loss/batch_cnt\n",
    "    train_accuracy = acc_cnt/(acc_cnt+err_cnt)\n",
    "    train_accuracies.append(train_accuracy)\n",
    "    train_losses.append(train_loss)\n",
    "    \n",
    "    print(f\"epoch:{epoch+1}, train accu:{train_accuracy:.4f},\", f\"train loss:{train_loss:.2f}\")"
   ]
  },
  {
   "cell_type": "markdown",
   "id": "c3bd3832",
   "metadata": {},
   "source": [
    "# Model Test"
   ]
  },
  {
   "cell_type": "code",
   "execution_count": 28,
   "id": "9bbd0e57",
   "metadata": {},
   "outputs": [
    {
     "name": "stdout",
     "output_type": "stream",
     "text": [
      "test accuracy: 0.8064516129032258\n"
     ]
    }
   ],
   "source": [
    "test_loss = 0\n",
    "acc_cnt = 0\n",
    "err_cnt = 0\n",
    "batch_cnt = 0\n",
    "model.eval()\n",
    "\n",
    "for x, lengths, y in test_dataloader:\n",
    "\n",
    "    x = x.to(device)\n",
    "    y = y.to(device)\n",
    "\n",
    "    logits = model(x, lengths)\n",
    "    loss = criterion(logits, y)\n",
    "    test_loss += loss.cpu().item()\n",
    "\n",
    "    out_val, out_indices = torch.max(logits, dim=1)\n",
    "    tar_indices = y\n",
    "\n",
    "    for i in range(len(out_indices)):\n",
    "        if out_indices[i] == tar_indices[i]:\n",
    "            acc_cnt += 1\n",
    "        else:\n",
    "            err_cnt += 1\n",
    "    batch_cnt += 1\n",
    "\n",
    "test_loss = test_loss/batch_cnt\n",
    "test_accuracy = acc_cnt/(acc_cnt+err_cnt)\n",
    "print(f'test accuracy: {test_accuracy}')"
   ]
  },
  {
   "cell_type": "code",
   "execution_count": 29,
   "id": "f8dab204",
   "metadata": {},
   "outputs": [
    {
     "name": "stdout",
     "output_type": "stream",
     "text": [
      "aggr.weight tensor([[[-0.1136],\n",
      "         [-0.1377],\n",
      "         [ 0.2336],\n",
      "         [ 0.1521],\n",
      "         [-0.0580],\n",
      "         [ 0.1245],\n",
      "         [ 0.3368],\n",
      "         [ 0.1190],\n",
      "         [ 0.0806],\n",
      "         [ 0.3183],\n",
      "         [ 0.0618],\n",
      "         [ 0.1622],\n",
      "         [-0.1653],\n",
      "         [-0.0029],\n",
      "         [ 0.2236],\n",
      "         [-0.0461],\n",
      "         [-0.1202],\n",
      "         [-0.1715],\n",
      "         [-0.1519],\n",
      "         [ 0.1115],\n",
      "         [-0.1562],\n",
      "         [ 0.0833],\n",
      "         [-0.2008],\n",
      "         [-0.0882]]], device='cuda:0')\n",
      "aggr.bias tensor([0.2713], device='cuda:0')\n",
      "embed.weight tensor([[ 0.0295,  0.0009, -0.0314,  ...,  0.0254,  0.0174,  0.0109],\n",
      "        [-0.0311, -0.0350, -0.0229,  ...,  0.0069, -0.0010,  0.0074],\n",
      "        [ 0.0321, -0.0233,  0.0276,  ...,  0.0576,  0.0289,  0.0159],\n",
      "        ...,\n",
      "        [ 0.0374,  0.0004, -0.0099,  ...,  0.0310,  0.0493, -0.0354],\n",
      "        [-0.0326,  0.0067, -0.0528,  ..., -0.0141,  0.0112,  0.0254],\n",
      "        [ 0.0496,  0.0211, -0.0059,  ...,  0.0120,  0.0160, -0.0134]],\n",
      "       device='cuda:0')\n",
      "embed.bias tensor([ 0.0813,  0.0020,  0.0587, -0.0297,  0.0895,  0.0972,  0.0610, -0.0593,\n",
      "        -0.0772,  0.0836,  0.0922, -0.1216,  0.0345,  0.0022,  0.0801, -0.0414,\n",
      "        -0.0610, -0.0671, -0.1007, -0.0342, -0.0395, -0.0044, -0.0237,  0.0039,\n",
      "         0.0098,  0.0882, -0.0267, -0.0487,  0.0689,  0.0139,  0.0037, -0.0018,\n",
      "         0.0975,  0.0767,  0.0966, -0.0195,  0.0082, -0.0501, -0.0161,  0.0641,\n",
      "         0.0550,  0.0344,  0.0380,  0.0078,  0.0526, -0.0214, -0.1096, -0.0649,\n",
      "         0.0280, -0.0511,  0.0160, -0.1167, -0.0597,  0.0167,  0.0681,  0.0092,\n",
      "        -0.0727,  0.0788,  0.0831, -0.1309,  0.0457, -0.0891, -0.0214, -0.0110,\n",
      "         0.0611, -0.0564, -0.1034, -0.1127,  0.0912,  0.0290, -0.1083, -0.0674,\n",
      "        -0.1061,  0.0226, -0.0434,  0.0654,  0.0028,  0.0445,  0.0820, -0.0886,\n",
      "        -0.0792, -0.0416,  0.0308, -0.1224,  0.0597, -0.0505, -0.0665,  0.0486,\n",
      "        -0.0558,  0.0290,  0.0533, -0.0754,  0.0191, -0.0842,  0.1325, -0.0118,\n",
      "         0.0176,  0.1227, -0.0423,  0.0886, -0.1166, -0.0574, -0.0105, -0.1191,\n",
      "        -0.0800, -0.0183,  0.1275, -0.0096, -0.0824, -0.0353, -0.0595, -0.0299,\n",
      "        -0.0466,  0.0316,  0.0324,  0.0846,  0.0951,  0.0494, -0.0128,  0.0245,\n",
      "        -0.1208,  0.0387,  0.0513, -0.0824, -0.0099,  0.0780,  0.0861,  0.0413],\n",
      "       device='cuda:0')\n",
      "cnn.weight tensor([[[-0.0306, -0.0019, -0.0003],\n",
      "         [-0.0233, -0.0176,  0.0409],\n",
      "         [-0.0271, -0.0703,  0.0377],\n",
      "         ...,\n",
      "         [ 0.0026,  0.0045, -0.0317],\n",
      "         [ 0.0156, -0.0225, -0.0387],\n",
      "         [ 0.0240,  0.0011, -0.0104]],\n",
      "\n",
      "        [[ 0.0390,  0.0210,  0.0588],\n",
      "         [-0.0096, -0.0348,  0.0045],\n",
      "         [ 0.0369, -0.0031, -0.0588],\n",
      "         ...,\n",
      "         [ 0.0295,  0.0262,  0.0269],\n",
      "         [ 0.0805, -0.0061, -0.0083],\n",
      "         [ 0.0234,  0.0036, -0.0591]],\n",
      "\n",
      "        [[ 0.0163, -0.0236, -0.0386],\n",
      "         [ 0.0465,  0.0305,  0.0303],\n",
      "         [-0.0534, -0.0053, -0.0316],\n",
      "         ...,\n",
      "         [-0.0763,  0.0147, -0.0176],\n",
      "         [-0.0362, -0.0786, -0.0743],\n",
      "         [-0.0581, -0.0634, -0.0654]],\n",
      "\n",
      "        ...,\n",
      "\n",
      "        [[-0.0535,  0.0042, -0.0220],\n",
      "         [ 0.0222,  0.0126,  0.0101],\n",
      "         [-0.0048, -0.0575,  0.0223],\n",
      "         ...,\n",
      "         [-0.0545,  0.0441, -0.0406],\n",
      "         [-0.0657, -0.0632, -0.0531],\n",
      "         [-0.0634, -0.0018, -0.0175]],\n",
      "\n",
      "        [[-0.0553, -0.0156, -0.0571],\n",
      "         [ 0.0052, -0.0130, -0.0051],\n",
      "         [ 0.0024, -0.0259, -0.0746],\n",
      "         ...,\n",
      "         [-0.0125, -0.0705, -0.0659],\n",
      "         [ 0.0283, -0.0168,  0.0604],\n",
      "         [-0.0277, -0.0105, -0.0294]],\n",
      "\n",
      "        [[-0.0227, -0.0322, -0.0323],\n",
      "         [ 0.0044,  0.0330, -0.0231],\n",
      "         [ 0.0335, -0.0590, -0.0599],\n",
      "         ...,\n",
      "         [ 0.0186,  0.0212, -0.0588],\n",
      "         [-0.0584, -0.0209, -0.0116],\n",
      "         [ 0.0218, -0.0150,  0.0080]]], device='cuda:0')\n",
      "cnn.bias tensor([-0.0158,  0.0424,  0.0444, -0.0127,  0.0367,  0.0192, -0.0014,  0.0114,\n",
      "        -0.0333,  0.0328, -0.0272, -0.0079,  0.0262, -0.0226,  0.0128,  0.0030,\n",
      "        -0.0374, -0.0385, -0.0033, -0.0361,  0.0479, -0.0389,  0.0076, -0.0137,\n",
      "         0.0053, -0.0249, -0.0045,  0.0154,  0.0417,  0.0223, -0.0185,  0.0431,\n",
      "        -0.0048,  0.0067,  0.0057,  0.0483,  0.0297,  0.0492, -0.0307, -0.0164,\n",
      "        -0.0461,  0.0261, -0.0058,  0.0390,  0.0258, -0.0404,  0.0273, -0.0051,\n",
      "        -0.0128, -0.0465,  0.0341, -0.0108,  0.0245, -0.0033, -0.0011,  0.0346,\n",
      "        -0.0156, -0.0123,  0.0235, -0.0494, -0.0015,  0.0477, -0.0155, -0.0050,\n",
      "         0.0067,  0.0461,  0.0421,  0.0221, -0.0068,  0.0115,  0.0164,  0.0373,\n",
      "         0.0105, -0.0326, -0.0134,  0.0300,  0.0437, -0.0099,  0.0214, -0.0012,\n",
      "        -0.0183, -0.0235,  0.0475,  0.0061, -0.0508, -0.0208, -0.0056,  0.0013,\n",
      "         0.0346, -0.0242,  0.0321,  0.0468, -0.0376,  0.0471, -0.0226,  0.0275,\n",
      "        -0.0479,  0.0342,  0.0088, -0.0257, -0.0131,  0.0254, -0.0452, -0.0475,\n",
      "         0.0031, -0.0429, -0.0474, -0.0220,  0.0338,  0.0288, -0.0207,  0.0393,\n",
      "         0.0158, -0.0044, -0.0190, -0.0154,  0.0378, -0.0270, -0.0049, -0.0093,\n",
      "        -0.0338,  0.0215,  0.0041,  0.0411,  0.0304,  0.0187, -0.0020,  0.0086],\n",
      "       device='cuda:0')\n",
      "cnn2.weight tensor([[[ 0.0632, -0.0371,  0.0195, -0.0179, -0.0167],\n",
      "         [-0.0028,  0.0532,  0.0549,  0.0418,  0.0012],\n",
      "         [ 0.0446,  0.0126,  0.0142, -0.0460, -0.0084],\n",
      "         ...,\n",
      "         [ 0.0674, -0.0157, -0.0252, -0.0004, -0.0206],\n",
      "         [-0.0308, -0.0223,  0.0018, -0.0038, -0.0138],\n",
      "         [ 0.0178, -0.0297, -0.0094,  0.0027, -0.0051]],\n",
      "\n",
      "        [[-0.0117, -0.0580,  0.0019,  0.0050,  0.0366],\n",
      "         [ 0.0340,  0.0387,  0.0307, -0.0064,  0.0298],\n",
      "         [-0.0107,  0.0187,  0.0497,  0.0342, -0.0329],\n",
      "         ...,\n",
      "         [-0.0494,  0.0039,  0.0362, -0.0026, -0.0299],\n",
      "         [-0.0297, -0.0063,  0.0114,  0.0046,  0.0347],\n",
      "         [ 0.0305,  0.0006, -0.0350, -0.0317,  0.0247]],\n",
      "\n",
      "        [[ 0.0146, -0.0275, -0.0051,  0.0186,  0.0607],\n",
      "         [-0.0012,  0.0011, -0.0506, -0.0311, -0.0297],\n",
      "         [-0.0060, -0.0566, -0.0752, -0.0490,  0.0054],\n",
      "         ...,\n",
      "         [ 0.0430,  0.0039,  0.0216,  0.0186,  0.0235],\n",
      "         [ 0.0622,  0.0394,  0.0321, -0.0170,  0.0054],\n",
      "         [ 0.0389, -0.0269,  0.0004, -0.0137,  0.0475]],\n",
      "\n",
      "        ...,\n",
      "\n",
      "        [[ 0.0071, -0.0056,  0.0020,  0.0207, -0.0063],\n",
      "         [ 0.0109,  0.0088, -0.0163, -0.0174, -0.0310],\n",
      "         [-0.0282,  0.0241,  0.0302, -0.0127,  0.0328],\n",
      "         ...,\n",
      "         [-0.0457, -0.0430, -0.0397, -0.0475, -0.0121],\n",
      "         [ 0.0161,  0.0499,  0.0452,  0.0099,  0.0117],\n",
      "         [ 0.0100,  0.0200, -0.0350,  0.0005,  0.0030]],\n",
      "\n",
      "        [[ 0.0709, -0.0156,  0.0278, -0.0097,  0.0458],\n",
      "         [ 0.0053,  0.0449, -0.0061,  0.0473,  0.0160],\n",
      "         [-0.0177,  0.0350, -0.0010, -0.0086,  0.0379],\n",
      "         ...,\n",
      "         [ 0.0329,  0.0133,  0.0048, -0.0252,  0.0011],\n",
      "         [-0.0277,  0.0048, -0.0454,  0.0171,  0.0305],\n",
      "         [ 0.0300, -0.0268, -0.0195, -0.0307, -0.0230]],\n",
      "\n",
      "        [[-0.0205, -0.0802, -0.0398, -0.0309,  0.0161],\n",
      "         [-0.0095,  0.0095,  0.0451,  0.0317,  0.0154],\n",
      "         [ 0.0245, -0.0546, -0.0310,  0.0214, -0.0523],\n",
      "         ...,\n",
      "         [-0.0726, -0.0822, -0.0020,  0.0263,  0.0054],\n",
      "         [-0.0252, -0.0485, -0.0382, -0.0072,  0.0196],\n",
      "         [-0.0120, -0.0376, -0.0138,  0.0241,  0.0268]]], device='cuda:0')\n",
      "cnn2.bias tensor([ 2.4450e-02,  2.1315e-02, -3.3051e-02, -2.9550e-02, -1.4230e-02,\n",
      "        -1.7958e-02,  3.8964e-02, -3.6276e-03, -3.5507e-02, -2.8178e-02,\n",
      "        -2.2060e-02,  5.8300e-03, -2.3650e-02, -2.0839e-02,  2.0573e-02,\n",
      "         1.8463e-02, -3.8816e-02, -3.2870e-03,  2.6523e-02, -1.9122e-02,\n",
      "         3.4344e-03,  2.6292e-02, -4.3757e-03, -1.7133e-02,  5.9351e-05,\n",
      "        -9.5502e-03,  2.4615e-02, -3.6823e-02, -1.1459e-02, -2.7996e-02,\n",
      "         1.3959e-02, -3.7472e-02,  4.2310e-03, -2.0754e-02,  2.2069e-03,\n",
      "         2.4018e-02, -1.0720e-02,  3.8789e-03,  1.8407e-02,  2.5954e-02,\n",
      "         6.8669e-03,  1.9811e-03, -2.8724e-02,  2.1501e-02,  1.7982e-02,\n",
      "         1.9969e-02,  1.9361e-02, -1.8734e-02,  1.1736e-02,  3.6676e-02,\n",
      "         1.6683e-02, -3.4478e-02,  1.5902e-02,  8.1078e-03,  1.0424e-02,\n",
      "         5.2874e-03,  3.1583e-02, -3.6954e-02,  2.5892e-02,  1.5409e-02,\n",
      "        -2.9109e-03, -3.8136e-02, -2.2996e-02,  2.9665e-02,  3.2135e-02,\n",
      "         3.3374e-02, -1.5038e-02, -2.3023e-02,  3.9476e-02, -1.3021e-03,\n",
      "        -2.9714e-02, -9.1617e-03,  1.7297e-02, -1.3231e-02, -2.0162e-02,\n",
      "         1.8231e-02,  8.0203e-03,  2.3679e-02,  2.3282e-02, -1.5105e-02,\n",
      "         1.4546e-02, -3.5089e-02, -2.0882e-02,  1.7286e-02,  2.7606e-02,\n",
      "        -2.3927e-02,  7.9372e-03,  3.0190e-03, -2.9940e-02, -7.1796e-03,\n",
      "         1.2352e-02, -2.3924e-02, -2.7625e-02, -3.5130e-02,  2.0152e-02,\n",
      "        -1.5467e-02, -1.3318e-02,  2.0521e-02,  1.3510e-02,  1.9134e-02,\n",
      "         1.5828e-02,  2.1541e-03, -2.8495e-02, -1.1537e-02,  3.0608e-03,\n",
      "         2.2136e-02, -3.0168e-02,  9.5715e-03, -6.1730e-03,  3.6117e-02,\n",
      "        -2.2327e-03, -2.8712e-02,  8.5330e-04,  3.7166e-02, -5.3604e-03,\n",
      "        -1.8192e-02, -2.9765e-02, -2.3930e-02, -1.4892e-02,  1.9367e-02,\n",
      "        -2.8809e-02, -3.2247e-03, -3.2464e-03,  2.2102e-03, -3.3791e-02,\n",
      "        -6.7161e-03, -2.8490e-02,  8.7013e-03], device='cuda:0')\n",
      "cnn3.weight tensor([[[-6.5137e-03, -5.6232e-02,  4.6155e-03,  ..., -2.4741e-02,\n",
      "          -6.0463e-02, -1.0418e-03],\n",
      "         [ 8.5335e-02,  1.9659e-02,  5.8234e-02,  ...,  4.5440e-02,\n",
      "           5.3524e-02,  1.9622e-02],\n",
      "         [ 1.4404e-02, -2.5339e-02, -3.6906e-02,  ..., -2.8263e-02,\n",
      "          -1.1900e-02, -2.8418e-02],\n",
      "         ...,\n",
      "         [ 2.3035e-02, -2.2931e-02, -3.4534e-02,  ..., -6.5063e-02,\n",
      "          -4.3730e-02, -8.8686e-02],\n",
      "         [ 1.6047e-02, -1.3585e-03,  5.0202e-02,  ...,  2.2640e-02,\n",
      "          -1.8074e-02,  2.4539e-02],\n",
      "         [ 1.2864e-02,  1.4733e-02,  4.9958e-02,  ...,  4.8446e-04,\n",
      "          -1.7202e-02, -1.4074e-02]],\n",
      "\n",
      "        [[ 1.7761e-02,  4.5018e-02,  1.4357e-02,  ..., -1.4578e-02,\n",
      "           2.1237e-02,  3.2964e-02],\n",
      "         [ 3.8041e-02,  1.4295e-02,  1.2543e-02,  ...,  2.8876e-02,\n",
      "           2.2322e-02,  1.4309e-02],\n",
      "         [-1.0047e-02, -3.3697e-02, -2.0751e-02,  ..., -3.1814e-02,\n",
      "          -3.1981e-02,  3.1130e-02],\n",
      "         ...,\n",
      "         [ 4.6668e-02,  2.3085e-02,  3.3222e-02,  ...,  4.5825e-02,\n",
      "          -1.3317e-02, -2.0632e-02],\n",
      "         [-1.4213e-02, -4.2733e-02, -3.0409e-02,  ..., -4.4834e-02,\n",
      "           9.5668e-05,  3.7330e-02],\n",
      "         [-1.4743e-02, -1.2601e-02,  1.4862e-02,  ..., -5.2302e-02,\n",
      "           7.2342e-03, -5.9878e-03]],\n",
      "\n",
      "        [[-2.0858e-02, -4.3518e-02,  2.7724e-02,  ..., -2.8772e-02,\n",
      "           5.5610e-03,  4.2292e-03],\n",
      "         [-4.5215e-04,  1.9885e-02,  2.0724e-02,  ..., -3.7819e-03,\n",
      "           5.1947e-02,  3.1119e-02],\n",
      "         [ 1.1041e-02,  3.3286e-02, -1.5273e-03,  ..., -1.5535e-02,\n",
      "           1.0472e-02, -3.5211e-02],\n",
      "         ...,\n",
      "         [ 4.9974e-02, -2.9702e-03, -9.1087e-03,  ...,  6.3292e-03,\n",
      "           1.8705e-02, -5.3349e-03],\n",
      "         [ 6.8313e-02,  7.9584e-02,  5.8399e-02,  ...,  1.9580e-03,\n",
      "          -1.0736e-02,  3.0017e-02],\n",
      "         [ 7.8509e-02,  6.0091e-02,  6.8965e-02,  ..., -3.9483e-04,\n",
      "          -3.1379e-02, -4.7117e-03]],\n",
      "\n",
      "        ...,\n",
      "\n",
      "        [[ 6.1395e-03, -1.8867e-02,  2.0607e-02,  ..., -5.6032e-02,\n",
      "          -4.4594e-02, -6.3698e-02],\n",
      "         [-1.0019e-02,  2.1089e-02,  2.7600e-02,  ...,  4.9398e-02,\n",
      "           4.2895e-02,  2.1964e-02],\n",
      "         [ 2.7647e-02, -3.6602e-02,  2.0567e-02,  ..., -3.0970e-02,\n",
      "          -1.5882e-02,  2.2435e-02],\n",
      "         ...,\n",
      "         [-5.6525e-03, -4.2661e-03, -2.4430e-02,  ..., -3.4442e-02,\n",
      "          -3.4238e-02,  1.3488e-02],\n",
      "         [-1.1493e-02, -4.9516e-02,  7.0055e-03,  ..., -5.8353e-02,\n",
      "          -6.4042e-02, -7.8042e-02],\n",
      "         [ 1.8414e-03, -8.2652e-05,  4.5371e-02,  ..., -1.8954e-02,\n",
      "          -1.8651e-02, -6.0385e-03]],\n",
      "\n",
      "        [[-2.8881e-02, -4.3172e-02, -2.7475e-02,  ...,  3.9459e-02,\n",
      "           2.7411e-02,  4.7649e-02],\n",
      "         [-2.9172e-02,  3.4200e-02,  1.5890e-02,  ...,  7.8240e-03,\n",
      "           3.6283e-04,  3.2255e-02],\n",
      "         [ 2.8807e-03, -7.2792e-03,  4.6890e-02,  ...,  6.3699e-02,\n",
      "           4.7335e-02,  1.2696e-02],\n",
      "         ...,\n",
      "         [-1.3866e-03,  5.4205e-03,  2.8803e-02,  ...,  2.9082e-02,\n",
      "           7.5820e-03,  6.0811e-02],\n",
      "         [ 2.4704e-02,  1.3765e-02,  3.4010e-02,  ...,  4.5855e-02,\n",
      "           3.5240e-02, -3.4946e-02],\n",
      "         [ 8.5879e-03, -4.2989e-02,  2.3721e-02,  ...,  4.2423e-02,\n",
      "           7.2361e-02, -6.3237e-03]],\n",
      "\n",
      "        [[-2.9348e-02, -1.9683e-02, -1.6484e-02,  ..., -1.7827e-02,\n",
      "          -6.8977e-03,  5.6619e-02],\n",
      "         [ 1.5793e-02, -3.3451e-02, -2.8716e-02,  ...,  9.0803e-03,\n",
      "          -5.2236e-02, -3.5830e-02],\n",
      "         [-5.8818e-02, -6.5470e-02, -4.5151e-02,  ..., -2.8025e-02,\n",
      "          -4.2702e-02, -4.2265e-02],\n",
      "         ...,\n",
      "         [ 1.0607e-02, -1.6458e-02, -1.4728e-02,  ..., -1.9048e-02,\n",
      "          -2.0721e-02, -4.4337e-02],\n",
      "         [ 3.3142e-03,  4.3090e-02,  6.8930e-03,  ...,  3.7278e-02,\n",
      "           1.1663e-02,  6.2751e-03],\n",
      "         [-2.1402e-02, -6.8203e-04, -3.3092e-02,  ..., -3.5915e-02,\n",
      "          -7.1538e-03,  3.0186e-02]]], device='cuda:0')\n",
      "cnn3.bias tensor([-0.0041,  0.0077, -0.0024, -0.0204,  0.0223, -0.0251,  0.0197, -0.0063,\n",
      "        -0.0224,  0.0290,  0.0087, -0.0114,  0.0202, -0.0205,  0.0112, -0.0275,\n",
      "         0.0183, -0.0084, -0.0314,  0.0086, -0.0064, -0.0310, -0.0109, -0.0087,\n",
      "         0.0187, -0.0326,  0.0043, -0.0158, -0.0173,  0.0081,  0.0283,  0.0159,\n",
      "         0.0295, -0.0271, -0.0172, -0.0112,  0.0161, -0.0178,  0.0017, -0.0018,\n",
      "        -0.0257, -0.0178,  0.0206, -0.0318, -0.0123,  0.0007,  0.0146, -0.0090,\n",
      "         0.0279,  0.0326, -0.0013, -0.0153, -0.0043,  0.0145, -0.0230,  0.0161,\n",
      "        -0.0319, -0.0289,  0.0302,  0.0155, -0.0025, -0.0091,  0.0071,  0.0206,\n",
      "         0.0080,  0.0098, -0.0292,  0.0211,  0.0331, -0.0221,  0.0206,  0.0159,\n",
      "         0.0204,  0.0322, -0.0284,  0.0140, -0.0291,  0.0075, -0.0124, -0.0073,\n",
      "         0.0173,  0.0239,  0.0089,  0.0310, -0.0222,  0.0311,  0.0132, -0.0193,\n",
      "         0.0311, -0.0141,  0.0247, -0.0046, -0.0224, -0.0270, -0.0093, -0.0302,\n",
      "         0.0091,  0.0092,  0.0308, -0.0099,  0.0273,  0.0072,  0.0196, -0.0252,\n",
      "         0.0181,  0.0299, -0.0032, -0.0131,  0.0245, -0.0315, -0.0302, -0.0083,\n",
      "         0.0123,  0.0315,  0.0258, -0.0250, -0.0200, -0.0033,  0.0079, -0.0203,\n",
      "         0.0026,  0.0156, -0.0319, -0.0243, -0.0131,  0.0334, -0.0120,  0.0300],\n",
      "       device='cuda:0')\n",
      "batchnorm.weight tensor([0.9808, 1.0098, 1.0057, 1.0008, 0.9945, 1.0068, 0.9817, 1.0061, 0.9436,\n",
      "        0.9932, 0.9963, 0.9409, 0.9653, 0.9946, 0.9750, 0.9851, 0.9830, 1.0010,\n",
      "        0.9746, 0.9649, 0.9916, 1.0004, 1.0140, 0.9566, 0.9831, 1.0010, 0.9951,\n",
      "        1.0075, 0.9891, 1.0291, 1.0197, 1.0026, 1.0290, 1.0073, 0.9676, 1.0169,\n",
      "        0.9734, 0.9273, 0.9842, 1.0155, 0.9810, 0.9910, 0.9590, 0.9932, 0.9178,\n",
      "        0.9825, 0.9855, 1.0071, 1.0207, 0.9844, 0.9818, 0.9577, 0.9796, 0.9892,\n",
      "        0.9840, 1.0438, 0.9959, 1.0012, 0.9088, 0.9803, 0.9443, 0.9749, 0.9777,\n",
      "        0.9978, 1.0018, 0.9299, 0.9980, 1.0050, 0.9681, 1.0314, 1.0032, 1.0079,\n",
      "        0.9961, 1.0322, 0.9564, 1.0256, 1.0116, 1.0061, 0.9365, 0.9856, 1.0302,\n",
      "        0.9061, 1.0093, 0.9579, 1.0408, 0.9691, 0.9730, 1.0333, 0.9898, 0.9944,\n",
      "        1.0104, 0.9727, 0.9955, 1.0205, 0.9811, 1.0003, 1.0141, 0.9704, 1.0066,\n",
      "        1.0022, 0.9912, 1.0306, 0.9628, 1.0102, 0.9868, 1.0183, 1.0138, 1.0063,\n",
      "        1.0373, 0.9684, 0.9931, 0.9937, 1.0269, 0.9474, 1.0104, 0.9847, 0.9670,\n",
      "        0.9975, 1.0122, 0.9959, 1.0015, 1.0189, 0.9815, 1.0143, 1.0136, 1.0119,\n",
      "        1.0284, 1.0283, 1.0376, 0.9907, 0.9267, 1.0218, 1.0314, 1.0354, 1.0009,\n",
      "        1.0229, 0.9352, 1.0358, 1.0118, 1.0001, 0.9585, 1.0132, 1.0254, 0.9620,\n",
      "        0.9979, 1.0010, 0.9662, 1.0247, 1.0365, 1.0244, 0.9628, 1.0030, 0.9995,\n",
      "        0.9470, 0.9986, 0.9548, 0.9903, 0.9815, 0.9640, 0.9961, 0.9792, 1.0001,\n",
      "        0.9837, 0.9752, 1.0018, 0.8934, 1.0149, 0.9947, 1.0570, 1.0274, 1.0107,\n",
      "        0.9589, 1.0082, 1.0180, 0.9969, 1.0476, 0.9716, 0.9849, 1.0064, 1.0214,\n",
      "        1.0298, 1.0075, 1.0034, 0.9380, 0.9440, 1.0187, 0.9525, 0.9767, 0.9470,\n",
      "        1.0102, 1.0014, 1.0219, 0.9562, 1.0399, 0.9419, 0.9891, 0.9739, 1.0279,\n",
      "        0.9895, 1.0145, 0.9901, 0.9028, 0.9828, 0.9719, 0.9797, 1.0132, 1.0087,\n",
      "        0.9574, 0.9923, 0.9873, 0.9901, 0.9892, 0.9762, 0.9777, 0.9875, 1.0084,\n",
      "        1.0157, 0.9813, 0.9720, 0.9869, 0.9549, 0.9234, 0.8904, 1.0181, 1.0070,\n",
      "        1.0231, 1.0090, 1.0120, 1.0292, 0.9917, 0.9627, 1.0308, 0.9679, 0.9757,\n",
      "        1.0024, 1.0071, 1.0151, 0.9833, 1.0394, 1.0235, 0.9635, 1.0091, 0.9874,\n",
      "        0.9973, 1.0096, 1.0141, 0.9719, 1.0197, 1.0338, 0.9856, 0.9841, 1.0016,\n",
      "        1.0157, 1.0026, 1.0254, 1.0220, 1.0197, 1.0270, 1.0275, 1.0435, 1.0246,\n",
      "        1.0277, 0.9810, 1.0167, 0.9838, 1.0514, 0.9613, 1.0428, 1.0086, 1.0607,\n",
      "        1.0038, 1.0310, 1.0042, 1.0302, 0.9991, 1.0260, 1.0602, 1.0220, 0.9837,\n",
      "        0.9803, 1.0323, 0.9423, 1.0412, 1.0482, 1.0315, 0.9357, 1.0075, 0.9722,\n",
      "        0.9865, 1.0248, 0.9818, 1.0214, 1.0317, 1.0201, 0.9402, 1.0190, 0.9816,\n",
      "        0.9297, 0.9866, 0.9910, 1.0341, 1.0180, 1.0384, 1.0047, 1.0544, 0.9869,\n",
      "        1.0094, 0.9899, 0.9248, 0.9918, 1.0312, 0.9948, 1.0299, 1.0479, 1.0150,\n",
      "        1.0214, 1.0184, 0.9851, 0.9408, 0.9828, 1.0414, 0.9567, 0.9958, 1.0217,\n",
      "        0.9659, 0.9832, 1.0251, 1.0374, 1.0166, 1.0100, 1.0318, 1.0346, 0.9830,\n",
      "        1.0256, 0.9845, 0.9838, 0.9543, 1.0314, 1.0321, 1.0114, 1.0022, 0.9759,\n",
      "        1.0018, 1.0109, 1.0378, 1.0050, 1.0129, 1.0443, 1.0368, 1.0408, 1.0189,\n",
      "        1.0299, 1.0526, 1.0305, 1.0431, 1.0291, 1.0189, 1.0388, 0.9867, 1.0206,\n",
      "        0.9980, 1.0071, 1.0394, 1.0281, 1.0215, 1.0065, 0.9946, 0.9810, 1.0375,\n",
      "        1.0271, 1.0580, 0.9597, 1.0328, 1.0224, 1.0169, 1.0280, 1.0152, 0.9832,\n",
      "        0.9738, 1.0201, 1.0218, 0.9833, 1.0420, 0.9762], device='cuda:0')\n",
      "batchnorm.bias tensor([-2.3173e-02,  8.4709e-03, -1.8423e-02, -1.9822e-02, -2.9751e-02,\n",
      "         1.3432e-02, -2.7577e-02, -1.5048e-02, -5.3705e-02,  4.3362e-03,\n",
      "        -4.3245e-02, -2.5635e-02, -4.9765e-02,  9.7387e-03, -3.5931e-02,\n",
      "        -1.8069e-02, -2.1358e-02, -2.7632e-04, -2.2756e-02, -3.0372e-02,\n",
      "        -2.4701e-03, -1.8753e-02, -2.4038e-02, -3.0127e-02,  4.8066e-03,\n",
      "        -1.0442e-02,  2.9136e-03,  1.2211e-02, -1.8483e-02,  5.9337e-04,\n",
      "        -1.5624e-03, -1.6020e-02,  8.1235e-03,  2.5759e-03, -3.5863e-02,\n",
      "        -1.0094e-02, -2.2617e-02, -8.4659e-02, -2.8179e-02, -3.3301e-02,\n",
      "        -2.9868e-02, -1.3995e-02, -4.9171e-02, -1.6811e-02, -8.2563e-02,\n",
      "        -6.3333e-02, -3.2840e-02, -4.0460e-02,  7.3550e-03, -1.2267e-02,\n",
      "        -2.7780e-02, -2.9157e-02, -2.5269e-02, -3.7232e-02, -2.2696e-02,\n",
      "        -1.4277e-02, -6.1630e-02, -5.3858e-03, -1.0317e-01, -1.3828e-02,\n",
      "        -1.4947e-02, -4.1650e-02, -9.5197e-03, -5.3504e-03, -3.4838e-02,\n",
      "        -7.3816e-02, -6.7759e-03, -1.9105e-02, -4.6079e-02, -8.5472e-03,\n",
      "        -1.4371e-02, -2.5246e-03, -2.4571e-02, -2.0453e-02, -5.9601e-02,\n",
      "         1.1902e-02, -3.2685e-02, -1.9117e-02, -1.7377e-02, -2.4523e-02,\n",
      "         2.4298e-03, -8.1196e-02, -1.5077e-02, -5.6232e-02,  1.5254e-02,\n",
      "        -1.4478e-02, -4.7907e-02,  4.7087e-03, -2.7730e-02, -5.9335e-02,\n",
      "         1.2550e-02, -4.5456e-02, -3.4053e-02, -1.5265e-02, -3.4960e-02,\n",
      "        -5.5636e-03, -6.5930e-03, -3.2172e-02, -1.2343e-02, -3.3711e-02,\n",
      "        -2.2258e-02, -3.5806e-03, -2.9423e-02, -4.7746e-03, -4.2683e-02,\n",
      "        -6.8682e-03, -2.4703e-02, -7.3636e-03, -2.5876e-03, -4.5961e-02,\n",
      "        -2.0571e-02, -3.6634e-02, -1.6879e-03, -2.9667e-02, -8.5147e-03,\n",
      "        -3.8470e-02, -5.0577e-02, -1.3015e-02, -1.3766e-02, -2.5680e-02,\n",
      "        -3.6603e-02, -1.4288e-02, -1.9380e-02, -9.5207e-03, -2.7415e-02,\n",
      "        -1.0352e-02, -1.7584e-02, -2.6696e-02, -1.9795e-02, -7.7713e-03,\n",
      "        -2.6804e-02, -1.7461e-03,  1.6225e-02, -2.6740e-02, -2.0543e-02,\n",
      "        -2.4604e-02, -9.0699e-02, -8.8596e-03, -2.8083e-02, -2.0102e-02,\n",
      "        -2.6785e-02, -2.4611e-02,  1.1603e-03, -3.9700e-02, -2.6369e-02,\n",
      "        -1.2132e-02, -3.0803e-02, -6.7342e-03,  1.7189e-02,  1.5812e-02,\n",
      "        -4.1395e-02, -4.6337e-02,  7.0704e-04, -4.1582e-02, -2.3150e-02,\n",
      "        -2.8494e-03, -7.1917e-03, -3.4289e-02, -5.4053e-02, -1.4048e-02,\n",
      "        -3.4964e-02, -3.7601e-02, -2.3978e-02, -6.0274e-02, -3.0080e-02,\n",
      "        -8.5780e-02,  5.5421e-03, -2.8582e-02,  1.9578e-02, -3.0687e-02,\n",
      "         5.9337e-03, -3.2547e-02,  8.9692e-03, -4.6849e-02, -1.8833e-02,\n",
      "         8.3885e-03, -4.6196e-02, -2.9737e-02, -1.7040e-03, -2.2563e-02,\n",
      "        -1.5411e-02, -1.9287e-02, -3.5720e-02, -6.6757e-02, -4.5759e-02,\n",
      "        -6.7442e-03, -4.0738e-02, -3.2133e-02, -5.6093e-02, -5.2617e-03,\n",
      "        -2.3451e-02, -3.6902e-03, -4.2269e-02,  1.2777e-02, -6.5352e-02,\n",
      "        -2.3693e-02, -5.7980e-02, -3.3131e-02, -4.6883e-02, -1.0054e-02,\n",
      "        -2.5027e-02, -7.8546e-02, -2.8947e-02, -2.5964e-02, -2.2625e-03,\n",
      "        -1.9364e-02, -2.6991e-02, -6.2458e-02, -3.5876e-02, -4.6711e-02,\n",
      "        -3.1905e-02, -1.9016e-02, -3.2541e-02, -4.2151e-02, -1.0203e-02,\n",
      "        -1.8502e-03, -1.2306e-02, -4.2170e-02, -2.3632e-02, -3.1169e-02,\n",
      "        -2.8149e-02, -8.8104e-02, -8.1144e-02, -4.3536e-03,  4.9766e-04,\n",
      "        -4.0163e-02, -3.4762e-02, -9.2466e-03,  5.9540e-03, -2.9132e-03,\n",
      "        -2.9576e-02, -5.5404e-03, -5.1285e-02, -4.5080e-02, -1.3336e-02,\n",
      "        -3.5770e-02, -5.0811e-02, -2.6189e-02, -2.0937e-02, -1.2112e-04,\n",
      "        -2.9717e-02, -1.4129e-02, -1.2805e-02, -6.3913e-03, -4.0510e-02,\n",
      "        -3.1472e-02, -5.5099e-02,  8.1228e-04, -1.4855e-02, -4.3374e-02,\n",
      "        -4.0584e-02, -2.0676e-02, -1.4188e-02, -2.4051e-02, -2.7268e-02,\n",
      "        -2.0053e-02, -1.3402e-02, -2.7881e-02, -6.1116e-03,  1.5301e-02,\n",
      "        -4.9914e-03,  2.5173e-03, -1.4117e-02, -5.7974e-02, -2.2539e-02,\n",
      "        -1.8418e-03, -4.6590e-02, -2.9458e-03, -1.5955e-02,  3.2596e-04,\n",
      "         1.1802e-02,  9.2098e-03, -3.0350e-02,  1.0007e-02, -1.7500e-02,\n",
      "        -1.7464e-02, -1.2260e-03, -3.4364e-02, -5.9383e-02, -2.4445e-02,\n",
      "        -4.4766e-02, -3.1896e-02,  2.7794e-04, -3.2053e-02, -6.5949e-02,\n",
      "        -9.0126e-02, -2.1740e-02, -3.7946e-02, -2.3296e-02, -5.0383e-02,\n",
      "        -5.4321e-02, -4.1776e-02,  1.9078e-02,  6.3916e-03, -8.6311e-02,\n",
      "        -4.9964e-02, -4.9954e-02, -7.6959e-02, -3.1313e-02, -4.1590e-02,\n",
      "         1.1847e-02, -5.1990e-03, -3.6937e-03, -1.1988e-02, -1.7631e-02,\n",
      "        -2.4240e-02, -5.8769e-03, -3.0186e-02, -6.3343e-02, -3.3144e-02,\n",
      "         1.0052e-02, -2.7815e-02,  4.7487e-03,  1.9717e-02, -4.0450e-02,\n",
      "         8.8556e-03,  8.5212e-03, -1.7603e-02, -6.0875e-02, -9.6078e-03,\n",
      "         1.5680e-02, -3.3572e-02, -3.6533e-02, -4.5285e-02, -5.5079e-02,\n",
      "        -1.4257e-02, -3.7749e-02,  2.2420e-02,  2.0165e-02,  6.4891e-03,\n",
      "         2.2467e-03,  6.4735e-03, -8.0676e-02,  8.2279e-04, -7.5683e-03,\n",
      "        -3.8620e-02, -5.2085e-02, -1.9719e-02, -1.6719e-02, -1.1501e-02,\n",
      "        -2.0350e-02, -2.8406e-02, -1.2580e-02, -6.3827e-02,  8.2708e-03,\n",
      "        -1.5859e-02, -9.6091e-03,  4.5668e-03, -3.5793e-03,  1.8862e-02,\n",
      "        -1.2140e-02, -8.7625e-07, -1.8733e-02, -1.1816e-02,  2.5402e-03,\n",
      "        -3.7424e-02,  3.9954e-03,  1.1509e-02, -1.9504e-02, -1.9889e-03,\n",
      "        -1.6296e-02,  1.0218e-02,  1.4282e-02, -1.2021e-03, -5.2443e-03,\n",
      "        -2.8883e-02, -2.0506e-02, -5.6498e-02, -4.1629e-02,  1.4234e-02,\n",
      "        -3.8361e-03, -4.5925e-02, -8.0573e-03, -2.0275e-02, -2.9880e-02,\n",
      "        -1.0669e-02, -1.2588e-02, -3.1663e-02, -4.4381e-02, -2.1500e-02,\n",
      "        -1.5766e-02, -2.0254e-02,  3.1232e-02, -3.4341e-02], device='cuda:0')\n",
      "lstm.weight_ih_l0 tensor([[-0.0226, -0.0637, -0.0434,  ...,  0.0224, -0.0195, -0.0478],\n",
      "        [-0.0310,  0.0127, -0.0253,  ..., -0.0190, -0.0442, -0.0205],\n",
      "        [ 0.0282,  0.0166,  0.0201,  ...,  0.0446, -0.0004,  0.0296],\n",
      "        ...,\n",
      "        [-0.0990, -0.0091, -0.0369,  ..., -0.0587,  0.0129,  0.0475],\n",
      "        [-0.0445,  0.0003, -0.0425,  ..., -0.0234, -0.0495,  0.0806],\n",
      "        [-0.0170, -0.0303,  0.0019,  ..., -0.0574, -0.0797,  0.0094]],\n",
      "       device='cuda:0')\n",
      "lstm.weight_hh_l0 tensor([[ 0.0478,  0.0105,  0.0635,  ...,  0.0187,  0.0556, -0.0212],\n",
      "        [ 0.0668,  0.0445, -0.0637,  ..., -0.0149,  0.0090, -0.0441],\n",
      "        [-0.0416, -0.0004,  0.0211,  ..., -0.0387, -0.0365, -0.0359],\n",
      "        ...,\n",
      "        [-0.0006,  0.0326, -0.0073,  ..., -0.0520,  0.0611,  0.0387],\n",
      "        [-0.0202,  0.0218,  0.0244,  ..., -0.0015,  0.0767,  0.0143],\n",
      "        [ 0.0625, -0.0020,  0.0061,  ..., -0.0280,  0.0019, -0.0164]],\n",
      "       device='cuda:0')\n",
      "lstm.bias_ih_l0 tensor([ 0.0179, -0.0645,  0.0338,  ...,  0.0214, -0.0250, -0.0378],\n",
      "       device='cuda:0')\n",
      "lstm.bias_hh_l0 tensor([-0.0138, -0.0499,  0.0240,  ...,  0.0088, -0.0714, -0.0511],\n",
      "       device='cuda:0')\n",
      "lstm.weight_ih_l1 tensor([[ 0.0396,  0.0279, -0.0408,  ..., -0.0189, -0.0342, -0.0222],\n",
      "        [ 0.0322, -0.0474, -0.0152,  ..., -0.0107, -0.0499, -0.0385],\n",
      "        [ 0.0617,  0.0284,  0.0154,  ...,  0.0304,  0.0016, -0.0367],\n",
      "        ...,\n",
      "        [-0.0061,  0.0088, -0.0016,  ..., -0.0192, -0.0289,  0.0395],\n",
      "        [ 0.0091,  0.0499,  0.0379,  ...,  0.0302, -0.0985,  0.0074],\n",
      "        [-0.0201,  0.0381, -0.0317,  ...,  0.0346,  0.0439, -0.0477]],\n",
      "       device='cuda:0')\n",
      "lstm.weight_hh_l1 tensor([[ 0.0098,  0.0127, -0.0212,  ...,  0.0209, -0.0068, -0.0064],\n",
      "        [-0.0113, -0.0515, -0.0341,  ..., -0.0296, -0.0127,  0.0074],\n",
      "        [ 0.0038, -0.0386,  0.0115,  ...,  0.0028, -0.0231, -0.0007],\n",
      "        ...,\n",
      "        [ 0.0205, -0.0045,  0.0203,  ...,  0.0635, -0.0398,  0.0452],\n",
      "        [ 0.0528, -0.0112, -0.0095,  ..., -0.0303,  0.0668,  0.0349],\n",
      "        [-0.0139,  0.0341,  0.0407,  ...,  0.0604, -0.0504,  0.0369]],\n",
      "       device='cuda:0')\n",
      "lstm.bias_ih_l1 tensor([-0.0222, -0.0197, -0.0650,  ..., -0.0409,  0.0199, -0.0349],\n",
      "       device='cuda:0')\n",
      "lstm.bias_hh_l1 tensor([ 0.0078,  0.0081, -0.0735,  ..., -0.0227,  0.0008, -0.0233],\n",
      "       device='cuda:0')\n",
      "linear.weight tensor([[ 0.0318, -0.0548, -0.0208,  ...,  0.0919, -0.0693,  0.0835],\n",
      "        [-0.0108,  0.0908, -0.0349,  ..., -0.0300, -0.0471, -0.0466],\n",
      "        [ 0.0376,  0.0650, -0.0042,  ..., -0.0090,  0.0482, -0.0527],\n",
      "        [-0.0605, -0.0352, -0.0453,  ..., -0.0530,  0.0808, -0.0001],\n",
      "        [ 0.0138, -0.0618, -0.0453,  ...,  0.0050, -0.0095, -0.0041]],\n",
      "       device='cuda:0')\n",
      "linear.bias tensor([-0.0028,  0.0181, -0.0395, -0.0331, -0.0403], device='cuda:0')\n"
     ]
    }
   ],
   "source": [
    "for name, param in model.named_parameters():\n",
    "    if param.requires_grad:\n",
    "        print(name, param.data)"
   ]
  },
  {
   "cell_type": "code",
   "execution_count": null,
   "id": "93712bd8",
   "metadata": {},
   "outputs": [],
   "source": []
  },
  {
   "cell_type": "code",
   "execution_count": null,
   "id": "35e8cea4",
   "metadata": {},
   "outputs": [],
   "source": []
  }
 ],
 "metadata": {
  "kernelspec": {
   "display_name": "Python 3",
   "language": "python",
   "name": "python3"
  },
  "language_info": {
   "codemirror_mode": {
    "name": "ipython",
    "version": 3
   },
   "file_extension": ".py",
   "mimetype": "text/x-python",
   "name": "python",
   "nbconvert_exporter": "python",
   "pygments_lexer": "ipython3",
   "version": "3.7.12"
  }
 },
 "nbformat": 4,
 "nbformat_minor": 5
}
