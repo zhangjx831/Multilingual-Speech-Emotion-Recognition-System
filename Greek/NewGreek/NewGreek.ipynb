{
 "cells": [
  {
   "cell_type": "code",
   "execution_count": 1,
   "id": "dafae421",
   "metadata": {},
   "outputs": [],
   "source": [
    "import re\n",
    "import os\n",
    "import pandas as pd\n",
    "\n",
    "regex = re.compile(r'\\[.+\\]\\n', re.IGNORECASE)\n",
    "file_paths, file_names, emotions, audios = [], [], [], []\n",
    "emotion_map = {'anger': 'angry', 'happiness': 'happy', 'sadness': 'sad', 'fear': 'fear',\n",
    "              'disgust': 'disgust'}"
   ]
  },
  {
   "cell_type": "code",
   "execution_count": 2,
   "id": "5455a0c8",
   "metadata": {},
   "outputs": [
    {
     "name": "stdout",
     "output_type": "stream",
     "text": [
      "1.12.1+cu113\n",
      "0.12.1+cu113\n",
      "cuda\n"
     ]
    }
   ],
   "source": [
    "import torch\n",
    "import torchaudio\n",
    "\n",
    "print(torch.__version__)\n",
    "print(torchaudio.__version__)\n",
    "\n",
    "torch.random.manual_seed(0)\n",
    "device = torch.device(\"cuda\" if torch.cuda.is_available() else \"cpu\")\n",
    "\n",
    "print(device)"
   ]
  },
  {
   "cell_type": "code",
   "execution_count": 3,
   "id": "84dd4e21",
   "metadata": {},
   "outputs": [
    {
     "name": "stdout",
     "output_type": "stream",
     "text": [
      "<class 'torchaudio.models.wav2vec2.model.Wav2Vec2Model'>\n",
      "16000\n"
     ]
    }
   ],
   "source": [
    "bundle = torchaudio.pipelines.WAV2VEC2_BASE\n",
    "extractor = bundle.get_model()\n",
    "print(extractor.__class__)\n",
    "print(bundle.sample_rate)"
   ]
  },
  {
   "cell_type": "code",
   "execution_count": 4,
   "id": "16271443",
   "metadata": {},
   "outputs": [
    {
     "data": {
      "text/plain": [
       "['anger',\n",
       " 'session_entries.csv',\n",
       " 'fear',\n",
       " 'Tools and Documentation',\n",
       " '.ipynb_checkpoints',\n",
       " 'disgust',\n",
       " 'sadness',\n",
       " 'happiness']"
      ]
     },
     "execution_count": 4,
     "metadata": {},
     "output_type": "execute_result"
    }
   ],
   "source": [
    "import os\n",
    "os.listdir('../emotiondata/emotion_data')"
   ]
  },
  {
   "cell_type": "code",
   "execution_count": 5,
   "id": "40442d5f",
   "metadata": {},
   "outputs": [
    {
     "name": "stdout",
     "output_type": "stream",
     "text": [
      "found\n"
     ]
    }
   ],
   "source": [
    "folder_list = ['anger', 'disgust', 'fear', 'happiness', 'sadness']\n",
    "entries = []\n",
    "for folder in folder_list:\n",
    "    cur_file_list = os.listdir(f'../emotiondata/emotion_data/{folder}')\n",
    "    for i in cur_file_list:\n",
    "        if i == 's05 (3).wav':\n",
    "            print(\"found\")\n",
    "            continue\n",
    "        entries.append(i)\n"
   ]
  },
  {
   "cell_type": "code",
   "execution_count": 6,
   "id": "460703c1",
   "metadata": {
    "scrolled": true
   },
   "outputs": [
    {
     "data": {
      "text/plain": [
       "604"
      ]
     },
     "execution_count": 6,
     "metadata": {},
     "output_type": "execute_result"
    }
   ],
   "source": [
    "len(entries)"
   ]
  },
  {
   "cell_type": "markdown",
   "id": "8967d435",
   "metadata": {},
   "source": [
    "# Assign Sessions (Once)"
   ]
  },
  {
   "cell_type": "code",
   "execution_count": 7,
   "id": "a5500a76",
   "metadata": {},
   "outputs": [],
   "source": [
    "import random\n",
    "random.shuffle(entries)\n",
    "session = []\n",
    "equal_parts = (len(entries)-1)//5 # for equally split the entries into 5 parts\n",
    "count = 0\n",
    "main_data_path = '../emotiondata/emotion_data'"
   ]
  },
  {
   "cell_type": "code",
   "execution_count": 8,
   "id": "91a26601",
   "metadata": {},
   "outputs": [
    {
     "name": "stderr",
     "output_type": "stream",
     "text": [
      "100%|████████████████████████████████████████████████████████████████████████████████████████████████████████████████████████████████████████████████████████████████████████████████████████████████████████████████████████████████████████████████████████████████████████████████████████| 604/604 [00:00<00:00, 625057.89it/s]\n"
     ]
    }
   ],
   "source": [
    "#### Only Run once\n",
    "from tqdm import tqdm \n",
    "folder_map = {'a':'anger', 'd':'disgust', 'f':'fear', 'h':'happiness', 's':'sadness'}\n",
    "\n",
    "file_paths = []\n",
    "file_names = []\n",
    "emotions = []\n",
    "# audios = []\n",
    "# labels = []\n",
    "\n",
    "\n",
    "for i in tqdm(range(len(entries))):\n",
    "    entry = entries[i]\n",
    "    if \"wav\" not in entry:\n",
    "        continue\n",
    "    folder = folder_map[entry[0]]\n",
    "    file_path = f'../emotiondata/emotion_data/{folder}/{entry}'\n",
    "    emotion = emotion_map[folder]\n",
    "    file_paths.append(file_path)\n",
    "    file_names.append(entry)\n",
    "    emotions.append(emotion)\n",
    "\n",
    "    # assign session to it\n",
    "    part = (count//equal_parts)%6 + 1\n",
    "    if part == 6:\n",
    "        part = 5\n",
    "    session.append(part)\n",
    "    count += 1\n",
    "\n",
    "\n",
    "file = pd.DataFrame({'path':file_paths, 'name': file_names, 'emotion': emotions, 'session': session})\n",
    "dataframe_path = main_data_path + '/session_entries.csv'\n",
    "file.to_csv(dataframe_path)\n"
   ]
  },
  {
   "cell_type": "code",
   "execution_count": 9,
   "id": "bf84dc30",
   "metadata": {
    "scrolled": true
   },
   "outputs": [
    {
     "data": {
      "text/plain": [
       "['anger',\n",
       " 'session_entries.csv',\n",
       " 'fear',\n",
       " 'Tools and Documentation',\n",
       " '.ipynb_checkpoints',\n",
       " 'disgust',\n",
       " 'sadness',\n",
       " 'happiness']"
      ]
     },
     "execution_count": 9,
     "metadata": {},
     "output_type": "execute_result"
    }
   ],
   "source": [
    "os.listdir('../emotiondata/emotion_data')"
   ]
  },
  {
   "cell_type": "markdown",
   "id": "e3234f2c",
   "metadata": {},
   "source": [
    "# Extract Features using Models"
   ]
  },
  {
   "cell_type": "code",
   "execution_count": 10,
   "id": "6e1c077f",
   "metadata": {
    "scrolled": false
   },
   "outputs": [
    {
     "data": {
      "text/html": [
       "<div>\n",
       "<style scoped>\n",
       "    .dataframe tbody tr th:only-of-type {\n",
       "        vertical-align: middle;\n",
       "    }\n",
       "\n",
       "    .dataframe tbody tr th {\n",
       "        vertical-align: top;\n",
       "    }\n",
       "\n",
       "    .dataframe thead th {\n",
       "        text-align: right;\n",
       "    }\n",
       "</style>\n",
       "<table border=\"1\" class=\"dataframe\">\n",
       "  <thead>\n",
       "    <tr style=\"text-align: right;\">\n",
       "      <th></th>\n",
       "      <th>path</th>\n",
       "      <th>name</th>\n",
       "      <th>emotion</th>\n",
       "      <th>session</th>\n",
       "    </tr>\n",
       "  </thead>\n",
       "  <tbody>\n",
       "    <tr>\n",
       "      <th>0</th>\n",
       "      <td>../emotiondata/emotion_data/happiness/h17 (5).wav</td>\n",
       "      <td>h17 (5).wav</td>\n",
       "      <td>happy</td>\n",
       "      <td>1</td>\n",
       "    </tr>\n",
       "    <tr>\n",
       "      <th>1</th>\n",
       "      <td>../emotiondata/emotion_data/happiness/h20 (2).wav</td>\n",
       "      <td>h20 (2).wav</td>\n",
       "      <td>happy</td>\n",
       "      <td>1</td>\n",
       "    </tr>\n",
       "    <tr>\n",
       "      <th>2</th>\n",
       "      <td>../emotiondata/emotion_data/disgust/d19 (4).wav</td>\n",
       "      <td>d19 (4).wav</td>\n",
       "      <td>disgust</td>\n",
       "      <td>1</td>\n",
       "    </tr>\n",
       "    <tr>\n",
       "      <th>3</th>\n",
       "      <td>../emotiondata/emotion_data/sadness/s12 (4).wav</td>\n",
       "      <td>s12 (4).wav</td>\n",
       "      <td>sad</td>\n",
       "      <td>1</td>\n",
       "    </tr>\n",
       "    <tr>\n",
       "      <th>4</th>\n",
       "      <td>../emotiondata/emotion_data/sadness/s01 (4).wav</td>\n",
       "      <td>s01 (4).wav</td>\n",
       "      <td>sad</td>\n",
       "      <td>1</td>\n",
       "    </tr>\n",
       "  </tbody>\n",
       "</table>\n",
       "</div>"
      ],
      "text/plain": [
       "                                                path         name  emotion  \\\n",
       "0  ../emotiondata/emotion_data/happiness/h17 (5).wav  h17 (5).wav    happy   \n",
       "1  ../emotiondata/emotion_data/happiness/h20 (2).wav  h20 (2).wav    happy   \n",
       "2    ../emotiondata/emotion_data/disgust/d19 (4).wav  d19 (4).wav  disgust   \n",
       "3    ../emotiondata/emotion_data/sadness/s12 (4).wav  s12 (4).wav      sad   \n",
       "4    ../emotiondata/emotion_data/sadness/s01 (4).wav  s01 (4).wav      sad   \n",
       "\n",
       "   session  \n",
       "0        1  \n",
       "1        1  \n",
       "2        1  \n",
       "3        1  \n",
       "4        1  "
      ]
     },
     "execution_count": 10,
     "metadata": {},
     "output_type": "execute_result"
    }
   ],
   "source": [
    "dataframe_path = main_data_path + '/session_entries.csv'\n",
    "file = pd.read_csv(dataframe_path)[['path', 'name', 'emotion', 'session']]\n",
    "file.head()"
   ]
  },
  {
   "cell_type": "code",
   "execution_count": 11,
   "id": "5eb2803a",
   "metadata": {
    "scrolled": true
   },
   "outputs": [
    {
     "name": "stderr",
     "output_type": "stream",
     "text": [
      "100%|████████████████████████████████████████████████████████████████████████████████████████████████████████████████████████████████████████████████████████████████████████████████████████████████████████████████████████████████████████████████████████████████████████████████████████████| 604/604 [03:25<00:00,  2.93it/s]\n"
     ]
    }
   ],
   "source": [
    "from tqdm import tqdm\n",
    "audios = []\n",
    "to_be_discarded = []\n",
    "discarded_name = []\n",
    "for i in tqdm(range(len(file['path']))):\n",
    "    path = file['path'][i]\n",
    "    wave, sr = torchaudio.load(path)\n",
    "    if sr != bundle.sample_rate:\n",
    "        wave = torchaudio.functional.resample(wave, sr, bundle.sample_rate)\n",
    "    with torch.inference_mode():\n",
    "        feature, _ = extractor.extract_features(wave)\n",
    "    \n",
    "    feature = [f[0] for f in feature]\n",
    "    audio = torch.stack(feature)\n",
    "    audios.append(audio)"
   ]
  },
  {
   "cell_type": "code",
   "execution_count": 12,
   "id": "19c7fa59",
   "metadata": {},
   "outputs": [],
   "source": [
    "# discarded_name"
   ]
  },
  {
   "cell_type": "markdown",
   "id": "b5862445",
   "metadata": {},
   "source": [
    "# Load Data"
   ]
  },
  {
   "cell_type": "code",
   "execution_count": 50,
   "id": "b35d2559",
   "metadata": {},
   "outputs": [],
   "source": [
    "holdout = 5\n",
    "train = file[file['session'] != holdout]\n",
    "train_audios = [audios[i] for i in range(len(audios)) if file['session'][i] != holdout]\n",
    "test = file[file['session'] == holdout]\n",
    "test_audios = [audios[i] for i in range(len(audios)) if file['session'][i] == holdout]"
   ]
  },
  {
   "cell_type": "code",
   "execution_count": 51,
   "id": "00f496ff",
   "metadata": {},
   "outputs": [],
   "source": [
    "class MyDataSet(torch.utils.data.Dataset):\n",
    "    def __init__(self, audios, labels, label_transform):\n",
    "        super(MyDataSet).__init__()\n",
    "        self.audios = audios\n",
    "        self.labels = labels\n",
    "        self.label_transform = label_transform\n",
    "        \n",
    "    def __getitem__(self, idx):\n",
    "        label = self.label_transform[self.labels[idx]]\n",
    "        audio = self.audios[idx]\n",
    "        length = audio.size(1)\n",
    "        return audio, length, label\n",
    "    \n",
    "    def __len__(self):\n",
    "        return len(self.labels)"
   ]
  },
  {
   "cell_type": "code",
   "execution_count": 52,
   "id": "a454606a",
   "metadata": {},
   "outputs": [],
   "source": [
    "def collate_indic(data):\n",
    "    audios, lengths, labels = zip(*data)\n",
    "    max_len = max(lengths)\n",
    "    n_ftrs = audios[0].size(2)\n",
    "    n_dims = audios[0].size(0)\n",
    "    features = torch.zeros((len(audios), n_dims, max_len, n_ftrs))\n",
    "    labels = torch.tensor(labels)\n",
    "    lengths = torch.tensor(lengths)\n",
    "\n",
    "    for i in range(len(data)):\n",
    "        j, k = audios[i].size(1), audios[i].size(2)\n",
    "        features[i] = torch.cat([audios[i], torch.zeros((n_dims, max_len - j, k))], dim=1)\n",
    "\n",
    "    return features, lengths, labels"
   ]
  },
  {
   "cell_type": "code",
   "execution_count": 53,
   "id": "6b35c072",
   "metadata": {},
   "outputs": [
    {
     "data": {
      "text/plain": [
       "{'angry': 0, 'happy': 1, 'sad': 2, 'fear': 3, 'disgust': 4}"
      ]
     },
     "execution_count": 53,
     "metadata": {},
     "output_type": "execute_result"
    }
   ],
   "source": [
    "categories = ['angry', 'happy', 'sad', 'fear', 'disgust']\n",
    "cate_dic = {}\n",
    "for i, cate in enumerate(categories):\n",
    "    cate_dic[cate] = i\n",
    "cate_dic"
   ]
  },
  {
   "cell_type": "code",
   "execution_count": 54,
   "id": "ae6cc4ba",
   "metadata": {},
   "outputs": [],
   "source": [
    "from torch.utils.data import DataLoader\n",
    "\n",
    "train_dataset = MyDataSet(train_audios, train['emotion'].tolist(), cate_dic)\n",
    "trainloader_args = dict(batch_size=16, shuffle=True)\n",
    "train_dataloader = DataLoader(train_dataset, **trainloader_args, \n",
    "                              collate_fn=collate_indic)\n",
    "\n",
    "test_dataset = MyDataSet(test_audios, test['emotion'].tolist(), cate_dic)\n",
    "testloader_args = dict(batch_size=16, shuffle=True)\n",
    "test_dataloader = DataLoader(test_dataset, **testloader_args, \n",
    "                             collate_fn=collate_indic)"
   ]
  },
  {
   "cell_type": "markdown",
   "id": "30207c68",
   "metadata": {},
   "source": [
    "### 3CNN+LSTM"
   ]
  },
  {
   "cell_type": "code",
   "execution_count": 55,
   "id": "142544fb",
   "metadata": {},
   "outputs": [],
   "source": [
    "import torch.nn as nn\n",
    "import torch.nn.functional as F\n",
    "\n",
    "class ICASSP3CNN(nn.Module):\n",
    "    def __init__(self, vocab_size, dims = 12, embed_size=128, hidden_size=512, num_lstm_layers = 2, \n",
    "                 bidirectional = False, label_size=5):\n",
    "        super().__init__()\n",
    "        self.n_layers = num_lstm_layers \n",
    "        self.hidden = hidden_size\n",
    "        self.bidirectional = bidirectional\n",
    "        \n",
    "        self.aggr = nn.Conv1d(in_channels=dims, out_channels=1, kernel_size=1)\n",
    "        \n",
    "        self.embed = nn.Linear(in_features = vocab_size, out_features = embed_size)\n",
    "\n",
    "        self.cnn  = nn.Conv1d(embed_size, embed_size, kernel_size=3, padding=1)\n",
    "        self.cnn2 = nn.Conv1d(embed_size, embed_size, kernel_size=5, padding=2)\n",
    "        self.cnn3 = nn.Conv1d(embed_size, embed_size, kernel_size=7, padding=3)\n",
    "\n",
    "        self.batchnorm = nn.BatchNorm1d(3 * embed_size)\n",
    "\n",
    "        self.lstm = nn.LSTM(input_size = 3 * embed_size, \n",
    "                            hidden_size = hidden_size, \n",
    "                            num_layers = num_lstm_layers, \n",
    "                            bidirectional = bidirectional)\n",
    "\n",
    "        self.linear = nn.Linear(in_features = 2 * hidden_size if bidirectional else hidden_size, \n",
    "                                out_features = label_size)\n",
    "\n",
    "\n",
    "    def forward(self, x, lengths):\n",
    "        \"\"\"\n",
    "        padded_x: (B,T) padded LongTensor\n",
    "        \"\"\"\n",
    "        n, d, b, t = x.size(0), x.size(1), x.size(2), x.size(3)\n",
    "        x = torch.flatten(x, start_dim=2)\n",
    "        input = self.aggr(x)\n",
    "        input = torch.reshape(input, (n, b, t))\n",
    "        input = self.embed(input)\n",
    "\n",
    "        batch_size = input.size(0)\n",
    "        input = input.transpose(1,2)    # (B,T,H) -> (B,H,T)\n",
    "\n",
    "        cnn_output = torch.cat([self.cnn(input), self.cnn2(input), self.cnn3(input)], dim=1)\n",
    "\n",
    "        input = F.relu(self.batchnorm(cnn_output))\n",
    "\n",
    "        input = input.transpose(1,2)\n",
    "\n",
    "        pack_tensor = nn.utils.rnn.pack_padded_sequence(input, lengths, batch_first=True, enforce_sorted=False)\n",
    "        _, (hn, cn) = self.lstm(pack_tensor)\n",
    "\n",
    "        if self.bidirectional:\n",
    "            h_n = hn.view(self.n_layers, 2, batch_size, self.hidden)\n",
    "            h_n = torch.cat([ h_n[-1, 0,:], h_n[-1,1,:] ], dim = 1)\n",
    "        else:\n",
    "            h_n = hn[-1]\n",
    "\n",
    "        logits = self.linear(h_n)\n",
    "\n",
    "        return logits\n"
   ]
  },
  {
   "cell_type": "markdown",
   "id": "ac24d5df",
   "metadata": {},
   "source": [
    "### Train Each Layer"
   ]
  },
  {
   "cell_type": "code",
   "execution_count": 56,
   "id": "6fbeb225",
   "metadata": {},
   "outputs": [
    {
     "name": "stderr",
     "output_type": "stream",
     "text": [
      "  2%|█████▋                                                                                                                                                                                                                                                                                         | 1/50 [00:04<03:59,  4.88s/it]"
     ]
    },
    {
     "name": "stdout",
     "output_type": "stream",
     "text": [
      "epoch:1, train accu:0.4062, train loss:1.35\n"
     ]
    },
    {
     "name": "stderr",
     "output_type": "stream",
     "text": [
      "\r",
      "  4%|███████████▍                                                                                                                                                                                                                                                                                   | 2/50 [00:09<03:54,  4.88s/it]"
     ]
    },
    {
     "name": "stdout",
     "output_type": "stream",
     "text": [
      "epoch:2, train accu:0.6979, train loss:0.92\n"
     ]
    },
    {
     "name": "stderr",
     "output_type": "stream",
     "text": [
      "\r",
      "  6%|█████████████████▏                                                                                                                                                                                                                                                                             | 3/50 [00:14<03:47,  4.85s/it]"
     ]
    },
    {
     "name": "stdout",
     "output_type": "stream",
     "text": [
      "epoch:3, train accu:0.7875, train loss:0.63\n"
     ]
    },
    {
     "name": "stderr",
     "output_type": "stream",
     "text": [
      "\r",
      "  8%|██████████████████████▉                                                                                                                                                                                                                                                                        | 4/50 [00:19<03:44,  4.88s/it]"
     ]
    },
    {
     "name": "stdout",
     "output_type": "stream",
     "text": [
      "epoch:4, train accu:0.8521, train loss:0.45\n"
     ]
    },
    {
     "name": "stderr",
     "output_type": "stream",
     "text": [
      "\r",
      " 10%|████████████████████████████▋                                                                                                                                                                                                                                                                  | 5/50 [00:24<03:37,  4.82s/it]"
     ]
    },
    {
     "name": "stdout",
     "output_type": "stream",
     "text": [
      "epoch:5, train accu:0.8063, train loss:0.55\n"
     ]
    },
    {
     "name": "stderr",
     "output_type": "stream",
     "text": [
      "\r",
      " 12%|██████████████████████████████████▍                                                                                                                                                                                                                                                            | 6/50 [00:29<03:33,  4.86s/it]"
     ]
    },
    {
     "name": "stdout",
     "output_type": "stream",
     "text": [
      "epoch:6, train accu:0.8562, train loss:0.43\n"
     ]
    },
    {
     "name": "stderr",
     "output_type": "stream",
     "text": [
      "\r",
      " 14%|████████████████████████████████████████▏                                                                                                                                                                                                                                                      | 7/50 [00:34<03:29,  4.87s/it]"
     ]
    },
    {
     "name": "stdout",
     "output_type": "stream",
     "text": [
      "epoch:7, train accu:0.9000, train loss:0.34\n"
     ]
    },
    {
     "name": "stderr",
     "output_type": "stream",
     "text": [
      "\r",
      " 16%|█████████████████████████████████████████████▉                                                                                                                                                                                                                                                 | 8/50 [00:38<03:24,  4.86s/it]"
     ]
    },
    {
     "name": "stdout",
     "output_type": "stream",
     "text": [
      "epoch:8, train accu:0.9437, train loss:0.20\n"
     ]
    },
    {
     "name": "stderr",
     "output_type": "stream",
     "text": [
      "\r",
      " 18%|███████████████████████████████████████████████████▋                                                                                                                                                                                                                                           | 9/50 [00:43<03:19,  4.86s/it]"
     ]
    },
    {
     "name": "stdout",
     "output_type": "stream",
     "text": [
      "epoch:9, train accu:0.9479, train loss:0.16\n"
     ]
    },
    {
     "name": "stderr",
     "output_type": "stream",
     "text": [
      "\r",
      " 20%|█████████████████████████████████████████████████████████▏                                                                                                                                                                                                                                    | 10/50 [00:49<03:24,  5.11s/it]"
     ]
    },
    {
     "name": "stdout",
     "output_type": "stream",
     "text": [
      "epoch:10, train accu:0.9437, train loss:0.18\n"
     ]
    },
    {
     "name": "stderr",
     "output_type": "stream",
     "text": [
      "\r",
      " 22%|██████████████████████████████████████████████████████████████▉                                                                                                                                                                                                                               | 11/50 [00:54<03:18,  5.10s/it]"
     ]
    },
    {
     "name": "stdout",
     "output_type": "stream",
     "text": [
      "epoch:11, train accu:0.9542, train loss:0.15\n"
     ]
    },
    {
     "name": "stderr",
     "output_type": "stream",
     "text": [
      "\r",
      " 24%|████████████████████████████████████████████████████████████████████▋                                                                                                                                                                                                                         | 12/50 [00:59<03:11,  5.05s/it]"
     ]
    },
    {
     "name": "stdout",
     "output_type": "stream",
     "text": [
      "epoch:12, train accu:0.9187, train loss:0.26\n"
     ]
    },
    {
     "name": "stderr",
     "output_type": "stream",
     "text": [
      "\r",
      " 26%|██████████████████████████████████████████████████████████████████████████▎                                                                                                                                                                                                                   | 13/50 [01:04<03:05,  5.01s/it]"
     ]
    },
    {
     "name": "stdout",
     "output_type": "stream",
     "text": [
      "epoch:13, train accu:0.9437, train loss:0.21\n"
     ]
    },
    {
     "name": "stderr",
     "output_type": "stream",
     "text": [
      "\r",
      " 28%|████████████████████████████████████████████████████████████████████████████████                                                                                                                                                                                                              | 14/50 [01:09<02:57,  4.93s/it]"
     ]
    },
    {
     "name": "stdout",
     "output_type": "stream",
     "text": [
      "epoch:14, train accu:0.9625, train loss:0.13\n"
     ]
    },
    {
     "name": "stderr",
     "output_type": "stream",
     "text": [
      "\r",
      " 30%|█████████████████████████████████████████████████████████████████████████████████████▊                                                                                                                                                                                                        | 15/50 [01:13<02:50,  4.88s/it]"
     ]
    },
    {
     "name": "stdout",
     "output_type": "stream",
     "text": [
      "epoch:15, train accu:0.9042, train loss:0.26\n"
     ]
    },
    {
     "name": "stderr",
     "output_type": "stream",
     "text": [
      "\r",
      " 32%|███████████████████████████████████████████████████████████████████████████████████████████▌                                                                                                                                                                                                  | 16/50 [01:20<02:59,  5.29s/it]"
     ]
    },
    {
     "name": "stdout",
     "output_type": "stream",
     "text": [
      "epoch:16, train accu:0.9729, train loss:0.11\n"
     ]
    },
    {
     "name": "stderr",
     "output_type": "stream",
     "text": [
      "\r",
      " 34%|█████████████████████████████████████████████████████████████████████████████████████████████████▏                                                                                                                                                                                            | 17/50 [01:26<03:08,  5.71s/it]"
     ]
    },
    {
     "name": "stdout",
     "output_type": "stream",
     "text": [
      "epoch:17, train accu:0.9854, train loss:0.04\n"
     ]
    },
    {
     "name": "stderr",
     "output_type": "stream",
     "text": [
      "\r",
      " 36%|██████████████████████████████████████████████████████████████████████████████████████████████████████▉                                                                                                                                                                                       | 18/50 [01:33<03:11,  6.00s/it]"
     ]
    },
    {
     "name": "stdout",
     "output_type": "stream",
     "text": [
      "epoch:18, train accu:0.9542, train loss:0.16\n"
     ]
    },
    {
     "name": "stderr",
     "output_type": "stream",
     "text": [
      "\r",
      " 38%|████████████████████████████████████████████████████████████████████████████████████████████████████████████▋                                                                                                                                                                                 | 19/50 [01:40<03:16,  6.33s/it]"
     ]
    },
    {
     "name": "stdout",
     "output_type": "stream",
     "text": [
      "epoch:19, train accu:0.9500, train loss:0.16\n"
     ]
    },
    {
     "name": "stderr",
     "output_type": "stream",
     "text": [
      "\r",
      " 40%|██████████████████████████████████████████████████████████████████████████████████████████████████████████████████▍                                                                                                                                                                           | 20/50 [01:48<03:28,  6.96s/it]"
     ]
    },
    {
     "name": "stdout",
     "output_type": "stream",
     "text": [
      "epoch:20, train accu:0.9771, train loss:0.09\n"
     ]
    },
    {
     "name": "stderr",
     "output_type": "stream",
     "text": [
      "\r",
      " 42%|████████████████████████████████████████████████████████████████████████████████████████████████████████████████████████                                                                                                                                                                      | 21/50 [01:56<03:24,  7.05s/it]"
     ]
    },
    {
     "name": "stdout",
     "output_type": "stream",
     "text": [
      "epoch:21, train accu:0.9896, train loss:0.03\n"
     ]
    },
    {
     "name": "stderr",
     "output_type": "stream",
     "text": [
      "\r",
      " 44%|█████████████████████████████████████████████████████████████████████████████████████████████████████████████████████████████▊                                                                                                                                                                | 22/50 [02:02<03:14,  6.96s/it]"
     ]
    },
    {
     "name": "stdout",
     "output_type": "stream",
     "text": [
      "epoch:22, train accu:0.9833, train loss:0.08\n"
     ]
    },
    {
     "name": "stderr",
     "output_type": "stream",
     "text": [
      "\r",
      " 46%|███████████████████████████████████████████████████████████████████████████████████████████████████████████████████████████████████▌                                                                                                                                                          | 23/50 [02:09<03:05,  6.88s/it]"
     ]
    },
    {
     "name": "stdout",
     "output_type": "stream",
     "text": [
      "epoch:23, train accu:0.9875, train loss:0.04\n"
     ]
    },
    {
     "name": "stderr",
     "output_type": "stream",
     "text": [
      "\r",
      " 48%|█████████████████████████████████████████████████████████████████████████████████████████████████████████████████████████████████████████▎                                                                                                                                                    | 24/50 [02:16<02:58,  6.86s/it]"
     ]
    },
    {
     "name": "stdout",
     "output_type": "stream",
     "text": [
      "epoch:24, train accu:0.9729, train loss:0.09\n"
     ]
    },
    {
     "name": "stderr",
     "output_type": "stream",
     "text": [
      "\r",
      " 50%|███████████████████████████████████████████████████████████████████████████████████████████████████████████████████████████████████████████████                                                                                                                                               | 25/50 [02:23<02:52,  6.89s/it]"
     ]
    },
    {
     "name": "stdout",
     "output_type": "stream",
     "text": [
      "epoch:25, train accu:0.9917, train loss:0.03\n"
     ]
    },
    {
     "name": "stderr",
     "output_type": "stream",
     "text": [
      "\r",
      " 52%|████████████████████████████████████████████████████████████████████████████████████████████████████████████████████████████████████████████████████▋                                                                                                                                         | 26/50 [02:30<02:45,  6.89s/it]"
     ]
    },
    {
     "name": "stdout",
     "output_type": "stream",
     "text": [
      "epoch:26, train accu:1.0000, train loss:0.00\n"
     ]
    },
    {
     "name": "stderr",
     "output_type": "stream",
     "text": [
      "\r",
      " 54%|██████████████████████████████████████████████████████████████████████████████████████████████████████████████████████████████████████████████████████████▍                                                                                                                                   | 27/50 [02:37<02:37,  6.85s/it]"
     ]
    },
    {
     "name": "stdout",
     "output_type": "stream",
     "text": [
      "epoch:27, train accu:1.0000, train loss:0.00\n"
     ]
    },
    {
     "name": "stderr",
     "output_type": "stream",
     "text": [
      "\r",
      " 56%|████████████████████████████████████████████████████████████████████████████████████████████████████████████████████████████████████████████████████████████████▏                                                                                                                             | 28/50 [02:44<02:31,  6.90s/it]"
     ]
    },
    {
     "name": "stdout",
     "output_type": "stream",
     "text": [
      "epoch:28, train accu:1.0000, train loss:0.00\n"
     ]
    },
    {
     "name": "stderr",
     "output_type": "stream",
     "text": [
      "\r",
      " 58%|█████████████████████████████████████████████████████████████████████████████████████████████████████████████████████████████████████████████████████████████████████▉                                                                                                                        | 29/50 [02:53<02:38,  7.55s/it]"
     ]
    },
    {
     "name": "stdout",
     "output_type": "stream",
     "text": [
      "epoch:29, train accu:1.0000, train loss:0.00\n"
     ]
    },
    {
     "name": "stderr",
     "output_type": "stream",
     "text": [
      "\r",
      " 60%|███████████████████████████████████████████████████████████████████████████████████████████████████████████████████████████████████████████████████████████████████████████▌                                                                                                                  | 30/50 [03:00<02:26,  7.35s/it]"
     ]
    },
    {
     "name": "stdout",
     "output_type": "stream",
     "text": [
      "epoch:30, train accu:1.0000, train loss:0.00\n"
     ]
    },
    {
     "name": "stderr",
     "output_type": "stream",
     "text": [
      "\r",
      " 62%|█████████████████████████████████████████████████████████████████████████████████████████████████████████████████████████████████████████████████████████████████████████████████▎                                                                                                            | 31/50 [03:06<02:16,  7.17s/it]"
     ]
    },
    {
     "name": "stdout",
     "output_type": "stream",
     "text": [
      "epoch:31, train accu:1.0000, train loss:0.00\n"
     ]
    },
    {
     "name": "stderr",
     "output_type": "stream",
     "text": [
      "\r",
      " 64%|███████████████████████████████████████████████████████████████████████████████████████████████████████████████████████████████████████████████████████████████████████████████████████                                                                                                       | 32/50 [03:13<02:07,  7.07s/it]"
     ]
    },
    {
     "name": "stdout",
     "output_type": "stream",
     "text": [
      "epoch:32, train accu:1.0000, train loss:0.00\n"
     ]
    },
    {
     "name": "stderr",
     "output_type": "stream",
     "text": [
      "\r",
      " 66%|████████████████████████████████████████████████████████████████████████████████████████████████████████████████████████████████████████████████████████████████████████████████████████████▊                                                                                                 | 33/50 [03:20<01:58,  6.96s/it]"
     ]
    },
    {
     "name": "stdout",
     "output_type": "stream",
     "text": [
      "epoch:33, train accu:1.0000, train loss:0.00\n"
     ]
    },
    {
     "name": "stderr",
     "output_type": "stream",
     "text": [
      "\r",
      " 68%|██████████████████████████████████████████████████████████████████████████████████████████████████████████████████████████████████████████████████████████████████████████████████████████████████▍                                                                                           | 34/50 [03:27<01:50,  6.92s/it]"
     ]
    },
    {
     "name": "stdout",
     "output_type": "stream",
     "text": [
      "epoch:34, train accu:1.0000, train loss:0.00\n"
     ]
    },
    {
     "name": "stderr",
     "output_type": "stream",
     "text": [
      "\r",
      " 70%|████████████████████████████████████████████████████████████████████████████████████████████████████████████████████████████████████████████████████████████████████████████████████████████████████████▏                                                                                     | 35/50 [03:34<01:43,  6.93s/it]"
     ]
    },
    {
     "name": "stdout",
     "output_type": "stream",
     "text": [
      "epoch:35, train accu:1.0000, train loss:0.00\n"
     ]
    },
    {
     "name": "stderr",
     "output_type": "stream",
     "text": [
      "\r",
      " 72%|█████████████████████████████████████████████████████████████████████████████████████████████████████████████████████████████████████████████████████████████████████████████████████████████████████████████▉                                                                                | 36/50 [03:41<01:38,  7.02s/it]"
     ]
    },
    {
     "name": "stdout",
     "output_type": "stream",
     "text": [
      "epoch:36, train accu:1.0000, train loss:0.00\n"
     ]
    },
    {
     "name": "stderr",
     "output_type": "stream",
     "text": [
      "\r",
      " 74%|███████████████████████████████████████████████████████████████████████████████████████████████████████████████████████████████████████████████████████████████████████████████████████████████████████████████████▋                                                                          | 37/50 [03:50<01:38,  7.61s/it]"
     ]
    },
    {
     "name": "stdout",
     "output_type": "stream",
     "text": [
      "epoch:37, train accu:1.0000, train loss:0.00\n"
     ]
    },
    {
     "name": "stderr",
     "output_type": "stream",
     "text": [
      "\r",
      " 76%|█████████████████████████████████████████████████████████████████████████████████████████████████████████████████████████████████████████████████████████████████████████████████████████████████████████████████████████▎                                                                    | 38/50 [03:57<01:28,  7.38s/it]"
     ]
    },
    {
     "name": "stdout",
     "output_type": "stream",
     "text": [
      "epoch:38, train accu:1.0000, train loss:0.00\n"
     ]
    },
    {
     "name": "stderr",
     "output_type": "stream",
     "text": [
      "\r",
      " 78%|███████████████████████████████████████████████████████████████████████████████████████████████████████████████████████████████████████████████████████████████████████████████████████████████████████████████████████████████                                                               | 39/50 [04:04<01:20,  7.27s/it]"
     ]
    },
    {
     "name": "stdout",
     "output_type": "stream",
     "text": [
      "epoch:39, train accu:1.0000, train loss:0.00\n"
     ]
    },
    {
     "name": "stderr",
     "output_type": "stream",
     "text": [
      "\r",
      " 80%|████████████████████████████████████████████████████████████████████████████████████████████████████████████████████████████████████████████████████████████████████████████████████████████████████████████████████████████████████▊                                                         | 40/50 [04:11<01:11,  7.19s/it]"
     ]
    },
    {
     "name": "stdout",
     "output_type": "stream",
     "text": [
      "epoch:40, train accu:1.0000, train loss:0.00\n"
     ]
    },
    {
     "name": "stderr",
     "output_type": "stream",
     "text": [
      "\r",
      " 82%|██████████████████████████████████████████████████████████████████████████████████████████████████████████████████████████████████████████████████████████████████████████████████████████████████████████████████████████████████████████▌                                                   | 41/50 [04:18<01:04,  7.12s/it]"
     ]
    },
    {
     "name": "stdout",
     "output_type": "stream",
     "text": [
      "epoch:41, train accu:1.0000, train loss:0.00\n"
     ]
    },
    {
     "name": "stderr",
     "output_type": "stream",
     "text": [
      "\r",
      " 84%|████████████████████████████████████████████████████████████████████████████████████████████████████████████████████████████████████████████████████████████████████████████████████████████████████████████████████████████████████████████████▏                                             | 42/50 [04:25<00:56,  7.07s/it]"
     ]
    },
    {
     "name": "stdout",
     "output_type": "stream",
     "text": [
      "epoch:42, train accu:1.0000, train loss:0.00\n"
     ]
    },
    {
     "name": "stderr",
     "output_type": "stream",
     "text": [
      "\r",
      " 86%|█████████████████████████████████████████████████████████████████████████████████████████████████████████████████████████████████████████████████████████████████████████████████████████████████████████████████████████████████████████████████████▉                                        | 43/50 [04:31<00:48,  6.87s/it]"
     ]
    },
    {
     "name": "stdout",
     "output_type": "stream",
     "text": [
      "epoch:43, train accu:1.0000, train loss:0.00\n"
     ]
    },
    {
     "name": "stderr",
     "output_type": "stream",
     "text": [
      "\r",
      " 88%|███████████████████████████████████████████████████████████████████████████████████████████████████████████████████████████████████████████████████████████████████████████████████████████████████████████████████████████████████████████████████████████▋                                  | 44/50 [04:37<00:40,  6.73s/it]"
     ]
    },
    {
     "name": "stdout",
     "output_type": "stream",
     "text": [
      "epoch:44, train accu:1.0000, train loss:0.00\n"
     ]
    },
    {
     "name": "stderr",
     "output_type": "stream",
     "text": [
      "\r",
      " 90%|█████████████████████████████████████████████████████████████████████████████████████████████████████████████████████████████████████████████████████████████████████████████████████████████████████████████████████████████████████████████████████████████████▍                            | 45/50 [04:45<00:34,  6.98s/it]"
     ]
    },
    {
     "name": "stdout",
     "output_type": "stream",
     "text": [
      "epoch:45, train accu:1.0000, train loss:0.00\n"
     ]
    },
    {
     "name": "stderr",
     "output_type": "stream",
     "text": [
      "\r",
      " 92%|███████████████████████████████████████████████████████████████████████████████████████████████████████████████████████████████████████████████████████████████████████████████████████████████████████████████████████████████████████████████████████████████████████                       | 46/50 [04:54<00:30,  7.56s/it]"
     ]
    },
    {
     "name": "stdout",
     "output_type": "stream",
     "text": [
      "epoch:46, train accu:1.0000, train loss:0.00\n"
     ]
    },
    {
     "name": "stderr",
     "output_type": "stream",
     "text": [
      "\r",
      " 94%|████████████████████████████████████████████████████████████████████████████████████████████████████████████████████████████████████████████████████████████████████████████████████████████████████████████████████████████████████████████████████████████████████████████▊                 | 47/50 [05:01<00:22,  7.39s/it]"
     ]
    },
    {
     "name": "stdout",
     "output_type": "stream",
     "text": [
      "epoch:47, train accu:1.0000, train loss:0.00\n"
     ]
    },
    {
     "name": "stderr",
     "output_type": "stream",
     "text": [
      "\r",
      " 96%|██████████████████████████████████████████████████████████████████████████████████████████████████████████████████████████████████████████████████████████████████████████████████████████████████████████████████████████████████████████████████████████████████████████████████▌           | 48/50 [05:08<00:14,  7.30s/it]"
     ]
    },
    {
     "name": "stdout",
     "output_type": "stream",
     "text": [
      "epoch:48, train accu:1.0000, train loss:0.00\n"
     ]
    },
    {
     "name": "stderr",
     "output_type": "stream",
     "text": [
      "\r",
      " 98%|████████████████████████████████████████████████████████████████████████████████████████████████████████████████████████████████████████████████████████████████████████████████████████████████████████████████████████████████████████████████████████████████████████████████████████▎     | 49/50 [05:15<00:07,  7.18s/it]"
     ]
    },
    {
     "name": "stdout",
     "output_type": "stream",
     "text": [
      "epoch:49, train accu:1.0000, train loss:0.00\n"
     ]
    },
    {
     "name": "stderr",
     "output_type": "stream",
     "text": [
      "100%|██████████████████████████████████████████████████████████████████████████████████████████████████████████████████████████████████████████████████████████████████████████████████████████████████████████████████████████████████████████████████████████████████████████████████████████████| 50/50 [05:22<00:00,  6.45s/it]"
     ]
    },
    {
     "name": "stdout",
     "output_type": "stream",
     "text": [
      "epoch:50, train accu:1.0000, train loss:0.00\n"
     ]
    },
    {
     "name": "stderr",
     "output_type": "stream",
     "text": [
      "\n"
     ]
    }
   ],
   "source": [
    "from tqdm import tqdm\n",
    "from torchsummary import summary\n",
    "import torch.optim as optim\n",
    "\n",
    "model = ICASSP3CNN(768)\n",
    "model = model.to(device)\n",
    "criterion = nn.CrossEntropyLoss()\n",
    "optimizer = optim.Adam(model.parameters(), lr=0.001)\n",
    "\n",
    "epochs = 50\n",
    "train_losses = []\n",
    "train_accuracies = []\n",
    "valid_losses = []\n",
    "valid_accuracies = []\n",
    "\n",
    "for epoch in tqdm(range(epochs)):\n",
    "    train_loss = 0\n",
    "    acc_cnt = 0\n",
    "    err_cnt = 0\n",
    "    batch_cnt = 0\n",
    "    model.train()\n",
    "    for batch, (x, length, y) in enumerate(train_dataloader):\n",
    "        x = x.to(device)\n",
    "        y = y.to(device)\n",
    "        optimizer.zero_grad()\n",
    "        logits = model(x, length)\n",
    "        loss = criterion(logits, y)\n",
    "        loss.backward()\n",
    "        optimizer.step()\n",
    "        train_loss += loss.cpu().item()\n",
    "\n",
    "        #model outputs\n",
    "        out_val, out_indices = torch.max(logits, dim=1)\n",
    "        tar_indices = y\n",
    "\n",
    "        for i in range(len(out_indices)):\n",
    "            if out_indices[i] == tar_indices[i]:\n",
    "                acc_cnt += 1\n",
    "            else:\n",
    "                err_cnt += 1\n",
    "        batch_cnt += 1\n",
    "    \n",
    "    train_loss = train_loss/batch_cnt\n",
    "    train_accuracy = acc_cnt/(acc_cnt+err_cnt)\n",
    "    train_accuracies.append(train_accuracy)\n",
    "    train_losses.append(train_loss)\n",
    "    \n",
    "    print(f\"epoch:{epoch+1}, train accu:{train_accuracy:.4f},\", f\"train loss:{train_loss:.2f}\")"
   ]
  },
  {
   "cell_type": "markdown",
   "id": "66e4ae73",
   "metadata": {},
   "source": [
    "# Model Test"
   ]
  },
  {
   "cell_type": "code",
   "execution_count": 57,
   "id": "257a8981",
   "metadata": {},
   "outputs": [
    {
     "name": "stdout",
     "output_type": "stream",
     "text": [
      "test accuracy: 0.7983870967741935\n"
     ]
    }
   ],
   "source": [
    "test_loss = 0\n",
    "acc_cnt = 0\n",
    "err_cnt = 0\n",
    "batch_cnt = 0\n",
    "model.eval()\n",
    "\n",
    "for x, lengths, y in test_dataloader:\n",
    "\n",
    "    x = x.to(device)\n",
    "    y = y.to(device)\n",
    "\n",
    "    logits = model(x, lengths)\n",
    "    loss = criterion(logits, y)\n",
    "    test_loss += loss.cpu().item()\n",
    "\n",
    "    out_val, out_indices = torch.max(logits, dim=1)\n",
    "    tar_indices = y\n",
    "\n",
    "    for i in range(len(out_indices)):\n",
    "        if out_indices[i] == tar_indices[i]:\n",
    "            acc_cnt += 1\n",
    "        else:\n",
    "            err_cnt += 1\n",
    "    batch_cnt += 1\n",
    "\n",
    "test_loss = test_loss/batch_cnt\n",
    "test_accuracy = acc_cnt/(acc_cnt+err_cnt)\n",
    "print(f'test accuracy: {test_accuracy}')"
   ]
  },
  {
   "cell_type": "code",
   "execution_count": 58,
   "id": "f7ceae56",
   "metadata": {},
   "outputs": [
    {
     "name": "stdout",
     "output_type": "stream",
     "text": [
      "aggr.weight tensor([[[-0.2328],\n",
      "         [-0.0010],\n",
      "         [-0.1324],\n",
      "         [ 0.3584],\n",
      "         [-0.1700],\n",
      "         [ 0.2000],\n",
      "         [ 0.1317],\n",
      "         [ 0.1172],\n",
      "         [-0.0024],\n",
      "         [-0.1361],\n",
      "         [-0.1509],\n",
      "         [ 0.1165]]], device='cuda:0')\n",
      "aggr.bias tensor([0.0497], device='cuda:0')\n",
      "embed.weight tensor([[ 0.0582,  0.0027,  0.0191,  ...,  0.0647, -0.0124, -0.0205],\n",
      "        [-0.0640, -0.0354,  0.0301,  ...,  0.0019, -0.0316,  0.0160],\n",
      "        [ 0.0222, -0.0381, -0.0379,  ..., -0.0485, -0.0607,  0.0234],\n",
      "        ...,\n",
      "        [-0.0528,  0.0367,  0.0095,  ..., -0.0105,  0.0575,  0.0273],\n",
      "        [-0.0066, -0.0223,  0.0203,  ...,  0.0595, -0.0011, -0.0072],\n",
      "        [ 0.0561, -0.0107, -0.0276,  ...,  0.0053, -0.0524, -0.0444]],\n",
      "       device='cuda:0')\n",
      "embed.bias tensor([ 0.0149, -0.0535, -0.0499, -0.0189,  0.0271,  0.0476, -0.0184, -0.0128,\n",
      "         0.0350, -0.0177, -0.0281,  0.0207,  0.0144,  0.0179,  0.0313, -0.0419,\n",
      "        -0.0225,  0.0049,  0.0212,  0.0281, -0.0150, -0.0036,  0.0014, -0.0180,\n",
      "         0.0339, -0.0098,  0.0022, -0.0149,  0.0225,  0.0511,  0.0008,  0.0091,\n",
      "         0.0580, -0.0420, -0.0354, -0.0003,  0.0427, -0.0042, -0.0055, -0.0206,\n",
      "        -0.0143, -0.0119,  0.0447, -0.0005,  0.0138,  0.0114,  0.0215,  0.0382,\n",
      "         0.0073, -0.0222, -0.0034,  0.0067,  0.0370,  0.0600, -0.0348,  0.0024,\n",
      "        -0.0243,  0.0282,  0.0219,  0.0295, -0.0420, -0.0175, -0.0530, -0.0081,\n",
      "         0.0085, -0.0202,  0.0387, -0.0298,  0.0171, -0.0549,  0.0053, -0.0010,\n",
      "        -0.0141,  0.0324, -0.0382, -0.0099,  0.0274, -0.0143,  0.0280,  0.0113,\n",
      "        -0.0152,  0.0628,  0.0138, -0.0113,  0.0271,  0.0457, -0.0278, -0.0186,\n",
      "         0.0062, -0.0714, -0.0611,  0.0567,  0.0025,  0.0078,  0.0218,  0.0390,\n",
      "         0.0210,  0.0498,  0.0531, -0.0186, -0.0476, -0.0237,  0.0414, -0.0298,\n",
      "        -0.0008,  0.0189,  0.0062,  0.0059,  0.0167, -0.0487,  0.0289,  0.0215,\n",
      "         0.0089,  0.0053, -0.0326,  0.0195, -0.0340, -0.0011,  0.0009,  0.0032,\n",
      "        -0.0232,  0.0221,  0.0030,  0.0198, -0.0191,  0.0138, -0.0582, -0.0069],\n",
      "       device='cuda:0')\n",
      "cnn.weight tensor([[[ 0.0024, -0.0086,  0.0069],\n",
      "         [ 0.0187, -0.0248, -0.0435],\n",
      "         [ 0.0444,  0.0195,  0.0008],\n",
      "         ...,\n",
      "         [-0.0215,  0.0332,  0.0006],\n",
      "         [-0.0351, -0.0145, -0.0393],\n",
      "         [ 0.0114,  0.0272,  0.0575]],\n",
      "\n",
      "        [[ 0.0015, -0.0320,  0.0159],\n",
      "         [ 0.0325,  0.0458, -0.0205],\n",
      "         [ 0.0128,  0.0392, -0.0242],\n",
      "         ...,\n",
      "         [ 0.0198,  0.0546,  0.0535],\n",
      "         [-0.0286,  0.0442, -0.0486],\n",
      "         [-0.0199, -0.0027, -0.0512]],\n",
      "\n",
      "        [[-0.0880, -0.0420, -0.0550],\n",
      "         [-0.0587, -0.0345, -0.0320],\n",
      "         [ 0.0053,  0.0232,  0.0577],\n",
      "         ...,\n",
      "         [ 0.0273,  0.0263, -0.0141],\n",
      "         [ 0.0321, -0.0514,  0.0127],\n",
      "         [ 0.0014,  0.0122, -0.0406]],\n",
      "\n",
      "        ...,\n",
      "\n",
      "        [[-0.0669, -0.0302, -0.0466],\n",
      "         [-0.0261,  0.0122,  0.0317],\n",
      "         [ 0.0733,  0.0206,  0.0443],\n",
      "         ...,\n",
      "         [ 0.0409,  0.0442,  0.0391],\n",
      "         [-0.0181, -0.0468, -0.0326],\n",
      "         [-0.0206,  0.0206, -0.0321]],\n",
      "\n",
      "        [[-0.0649, -0.0243, -0.0097],\n",
      "         [ 0.0104, -0.0486, -0.0495],\n",
      "         [ 0.0111, -0.0268, -0.0405],\n",
      "         ...,\n",
      "         [-0.0158,  0.0276,  0.0076],\n",
      "         [-0.0139, -0.0390, -0.0024],\n",
      "         [ 0.0151,  0.0447,  0.0362]],\n",
      "\n",
      "        [[-0.0643,  0.0194, -0.0632],\n",
      "         [ 0.0503, -0.0256, -0.0487],\n",
      "         [-0.0118,  0.0157,  0.0435],\n",
      "         ...,\n",
      "         [ 0.0188,  0.0314,  0.0775],\n",
      "         [-0.0442,  0.0015, -0.0479],\n",
      "         [ 0.0112, -0.0536, -0.0273]]], device='cuda:0')\n",
      "cnn.bias tensor([-0.0017,  0.0516,  0.0143, -0.0138, -0.0448, -0.0365,  0.0534, -0.0230,\n",
      "         0.0505,  0.0060,  0.0518, -0.0103, -0.0341,  0.0316, -0.0272, -0.0007,\n",
      "        -0.0375,  0.0274, -0.0627,  0.0250, -0.0395,  0.0237,  0.0152, -0.0328,\n",
      "        -0.0484,  0.0466,  0.0012,  0.0170,  0.0288, -0.0647, -0.0460, -0.0079,\n",
      "        -0.0464,  0.0037, -0.0344,  0.0426,  0.0223, -0.0471,  0.0109, -0.0475,\n",
      "         0.0104,  0.0241,  0.0114, -0.0431,  0.0286,  0.0224,  0.0611,  0.0399,\n",
      "        -0.0206,  0.0177, -0.0377,  0.0280,  0.0458, -0.0001,  0.0203, -0.0644,\n",
      "        -0.0131,  0.0230,  0.0249, -0.0375,  0.0343,  0.0177,  0.0046, -0.0040,\n",
      "         0.0126,  0.0391,  0.0383, -0.0255, -0.0432,  0.0306, -0.0613, -0.0219,\n",
      "         0.0389,  0.0414,  0.0083, -0.0404, -0.0360,  0.0264, -0.0399,  0.0255,\n",
      "        -0.0273, -0.0075,  0.0498, -0.0168,  0.0266, -0.0345, -0.0667,  0.0364,\n",
      "         0.0394, -0.0431, -0.0547, -0.0132,  0.0266,  0.0606,  0.0501, -0.0180,\n",
      "        -0.0319,  0.0507, -0.0003,  0.0199,  0.0397,  0.0357,  0.0368,  0.0531,\n",
      "         0.0045, -0.0521, -0.0503,  0.0225,  0.0060,  0.0278,  0.0248, -0.0363,\n",
      "        -0.0030,  0.0245,  0.0186,  0.0320,  0.0600,  0.0401,  0.0363, -0.0154,\n",
      "         0.0396,  0.0433, -0.0060,  0.0402,  0.0375, -0.0267, -0.0058,  0.0078],\n",
      "       device='cuda:0')\n",
      "cnn2.weight tensor([[[-2.2109e-02,  2.6702e-02,  4.1670e-02,  4.6909e-02, -1.7197e-02],\n",
      "         [ 2.0337e-02, -2.1861e-02, -1.2822e-03, -3.2565e-02, -6.4883e-03],\n",
      "         [-4.9885e-02, -8.7750e-02, -3.2176e-02, -4.4522e-02, -1.9306e-02],\n",
      "         ...,\n",
      "         [-3.9486e-02,  1.1389e-02, -3.3425e-02, -2.7581e-03, -2.6676e-02],\n",
      "         [-8.6851e-03, -7.6179e-03,  2.3673e-02,  6.4425e-03,  8.3567e-03],\n",
      "         [-1.7870e-03, -2.5826e-02,  2.2156e-03,  2.8591e-02,  1.3881e-02]],\n",
      "\n",
      "        [[-3.1950e-02, -3.0746e-02, -2.8641e-02, -1.9587e-02, -5.1943e-02],\n",
      "         [ 1.7060e-02,  1.6001e-02, -2.7235e-02, -1.9973e-02,  1.4515e-02],\n",
      "         [ 5.4379e-02,  2.6668e-02,  4.0837e-02,  1.8553e-02, -1.1909e-03],\n",
      "         ...,\n",
      "         [-1.0629e-02, -9.6422e-03,  9.5905e-03,  2.7380e-02,  7.6565e-03],\n",
      "         [ 1.9786e-02, -2.1804e-02,  3.1527e-03, -2.9571e-02, -6.3672e-02],\n",
      "         [-1.6040e-02,  1.9075e-02, -3.9101e-04, -1.7696e-02, -7.4336e-03]],\n",
      "\n",
      "        [[-2.9239e-02, -2.5767e-03,  4.6574e-02,  1.0422e-02, -2.8124e-03],\n",
      "         [ 1.0611e-02, -3.5061e-02, -5.6776e-03, -4.0335e-02, -3.3633e-02],\n",
      "         [-8.0208e-02, -5.9041e-02, -4.3109e-02, -5.9662e-03, -5.3002e-02],\n",
      "         ...,\n",
      "         [ 6.2551e-02,  5.2025e-02,  3.1861e-02, -8.3543e-03,  2.3710e-02],\n",
      "         [ 2.8893e-03, -1.1710e-02,  1.4891e-02,  3.4324e-03, -3.0354e-02],\n",
      "         [-4.0806e-02,  6.9594e-03, -4.3512e-02, -4.5599e-02, -4.6220e-02]],\n",
      "\n",
      "        ...,\n",
      "\n",
      "        [[-1.5462e-02,  3.3314e-03,  4.3879e-02,  2.9177e-02,  6.0191e-02],\n",
      "         [ 1.9502e-02,  6.9138e-03, -4.0554e-02,  1.6344e-02, -3.7521e-02],\n",
      "         [-9.9412e-03, -3.5022e-02, -4.6560e-02, -2.2363e-02, -4.5759e-02],\n",
      "         ...,\n",
      "         [ 3.4841e-03,  3.0905e-02, -1.6179e-02,  2.3608e-02, -3.9335e-04],\n",
      "         [-2.3223e-02, -2.0676e-02,  2.2019e-02, -3.4974e-02, -4.6317e-02],\n",
      "         [-5.4853e-02,  4.4724e-04, -4.3674e-02, -3.5165e-02,  3.6398e-03]],\n",
      "\n",
      "        [[ 2.9930e-02,  6.6847e-03,  2.5322e-02, -6.0429e-03,  1.0016e-02],\n",
      "         [ 6.5787e-02, -5.7229e-04, -2.8672e-02, -2.3364e-02, -9.1995e-03],\n",
      "         [ 5.2667e-03, -6.0975e-02, -5.3495e-02, -3.5401e-02, -3.1316e-03],\n",
      "         ...,\n",
      "         [ 3.6001e-02,  1.5122e-02,  2.4097e-02,  1.8882e-02, -3.2936e-03],\n",
      "         [-2.7305e-02, -4.0211e-02, -3.6569e-02,  2.0188e-02, -4.1757e-02],\n",
      "         [ 9.3247e-03,  1.4779e-02, -3.4196e-02, -2.7813e-02, -5.8736e-02]],\n",
      "\n",
      "        [[ 6.4932e-02,  2.2892e-02, -1.7709e-02, -3.3332e-02,  3.3007e-02],\n",
      "         [-3.1895e-02, -3.5795e-02, -7.8612e-03,  2.8263e-02,  3.9775e-05],\n",
      "         [-7.0040e-02, -5.8423e-02, -4.2397e-02, -2.8984e-02,  9.5481e-05],\n",
      "         ...,\n",
      "         [-1.7449e-02,  8.6801e-03,  1.1636e-02,  6.7066e-03, -3.4266e-02],\n",
      "         [-1.6443e-02, -5.6995e-03,  2.7073e-02,  4.6449e-02,  4.0399e-02],\n",
      "         [ 2.2727e-02, -2.6870e-02,  3.8448e-02,  5.0131e-02,  3.9563e-02]]],\n",
      "       device='cuda:0')\n",
      "cnn2.bias tensor([-0.0310, -0.0131, -0.0348,  0.0205,  0.0033,  0.0127, -0.0293, -0.0123,\n",
      "        -0.0134, -0.0096, -0.0203, -0.0151, -0.0004, -0.0275,  0.0086, -0.0035,\n",
      "         0.0468,  0.0409,  0.0341,  0.0296, -0.0066, -0.0304,  0.0308,  0.0179,\n",
      "        -0.0203,  0.0372, -0.0384,  0.0007,  0.0072, -0.0208,  0.0425,  0.0202,\n",
      "         0.0312, -0.0374, -0.0044, -0.0231,  0.0166, -0.0345,  0.0107,  0.0224,\n",
      "        -0.0225,  0.0404, -0.0189,  0.0026, -0.0289, -0.0320,  0.0153,  0.0388,\n",
      "        -0.0029,  0.0169,  0.0246, -0.0205,  0.0140,  0.0009, -0.0308, -0.0023,\n",
      "        -0.0337, -0.0217,  0.0200,  0.0065,  0.0177,  0.0419, -0.0084,  0.0007,\n",
      "         0.0149, -0.0336, -0.0253,  0.0137,  0.0318,  0.0136,  0.0072, -0.0377,\n",
      "        -0.0110, -0.0204,  0.0283, -0.0020, -0.0063, -0.0070,  0.0268, -0.0103,\n",
      "         0.0003, -0.0053, -0.0054, -0.0142,  0.0009, -0.0362, -0.0306,  0.0136,\n",
      "         0.0181, -0.0445, -0.0130, -0.0149, -0.0370,  0.0230, -0.0085, -0.0059,\n",
      "         0.0014,  0.0065, -0.0096, -0.0370, -0.0063, -0.0223, -0.0210, -0.0200,\n",
      "        -0.0525, -0.0327, -0.0383, -0.0061,  0.0364, -0.0051,  0.0027,  0.0330,\n",
      "        -0.0168,  0.0255,  0.0280,  0.0298, -0.0167,  0.0365,  0.0082, -0.0296,\n",
      "         0.0205, -0.0024, -0.0412, -0.0567,  0.0009,  0.0106, -0.0320,  0.0395],\n",
      "       device='cuda:0')\n",
      "cnn3.weight tensor([[[ 0.0271,  0.0023,  0.0424,  ...,  0.0577,  0.0218,  0.0284],\n",
      "         [ 0.0089,  0.0049,  0.0131,  ..., -0.0405, -0.0352,  0.0194],\n",
      "         [-0.0210, -0.0256, -0.0585,  ...,  0.0085, -0.0043,  0.0100],\n",
      "         ...,\n",
      "         [ 0.0085, -0.0312, -0.0447,  ..., -0.0012, -0.0460, -0.0647],\n",
      "         [ 0.0294,  0.0011,  0.0591,  ...,  0.0220,  0.0148,  0.0186],\n",
      "         [-0.0315, -0.0227, -0.0042,  ...,  0.0125, -0.0375,  0.0006]],\n",
      "\n",
      "        [[-0.0499, -0.0395,  0.0124,  ..., -0.0016, -0.0476, -0.0002],\n",
      "         [-0.0095, -0.0121, -0.0057,  ..., -0.0274, -0.0223, -0.0218],\n",
      "         [ 0.0351,  0.0095, -0.0053,  ...,  0.0448, -0.0015,  0.0370],\n",
      "         ...,\n",
      "         [ 0.0296, -0.0063,  0.0122,  ...,  0.0255, -0.0103,  0.0054],\n",
      "         [ 0.0489, -0.0201,  0.0214,  ..., -0.0395, -0.0284, -0.0009],\n",
      "         [ 0.0065, -0.0002, -0.0191,  ...,  0.0140,  0.0102, -0.0303]],\n",
      "\n",
      "        [[-0.0327, -0.0297, -0.0264,  ...,  0.0396, -0.0162,  0.0066],\n",
      "         [-0.0134, -0.0032, -0.0155,  ...,  0.0113,  0.0316,  0.0012],\n",
      "         [-0.0810, -0.0358, -0.0156,  ..., -0.0151, -0.0382, -0.0178],\n",
      "         ...,\n",
      "         [ 0.0499,  0.0209, -0.0144,  ...,  0.0079,  0.0197, -0.0343],\n",
      "         [-0.0521, -0.0047, -0.0410,  ..., -0.0275, -0.0119, -0.0103],\n",
      "         [ 0.0154, -0.0235,  0.0129,  ..., -0.0559, -0.0218,  0.0069]],\n",
      "\n",
      "        ...,\n",
      "\n",
      "        [[-0.0338,  0.0209, -0.0296,  ...,  0.0129, -0.0119, -0.0295],\n",
      "         [ 0.0153, -0.0096, -0.0349,  ..., -0.0308,  0.0075,  0.0350],\n",
      "         [-0.0422, -0.0804, -0.0456,  ...,  0.0005, -0.0336, -0.0416],\n",
      "         ...,\n",
      "         [ 0.0700,  0.0625, -0.0015,  ...,  0.0090, -0.0071, -0.0260],\n",
      "         [-0.0185, -0.0004,  0.0037,  ...,  0.0133,  0.0048, -0.0276],\n",
      "         [ 0.0161, -0.0412, -0.0038,  ...,  0.0056, -0.0284, -0.0286]],\n",
      "\n",
      "        [[ 0.0256, -0.0197, -0.0221,  ..., -0.0200,  0.0311,  0.0121],\n",
      "         [-0.0092, -0.0713,  0.0039,  ...,  0.0043,  0.0293,  0.0120],\n",
      "         [-0.0045, -0.0293, -0.0137,  ...,  0.0226, -0.0228, -0.0219],\n",
      "         ...,\n",
      "         [ 0.0251,  0.0191, -0.0093,  ..., -0.0147, -0.0578, -0.0573],\n",
      "         [-0.0408,  0.0007,  0.0066,  ...,  0.0340,  0.0251,  0.0288],\n",
      "         [ 0.0394,  0.0517,  0.0432,  ...,  0.0316,  0.0666,  0.0579]],\n",
      "\n",
      "        [[ 0.0395,  0.0047, -0.0068,  ...,  0.0210, -0.0008,  0.0219],\n",
      "         [-0.0132, -0.0550, -0.0151,  ...,  0.0095, -0.0274,  0.0289],\n",
      "         [-0.0493, -0.0279, -0.0069,  ..., -0.0249,  0.0101,  0.0031],\n",
      "         ...,\n",
      "         [-0.0107,  0.0025,  0.0027,  ..., -0.0598,  0.0164, -0.0384],\n",
      "         [ 0.0239, -0.0123,  0.0022,  ...,  0.0228,  0.0122,  0.0202],\n",
      "         [-0.0115,  0.0146,  0.0362,  ..., -0.0265, -0.0065, -0.0011]]],\n",
      "       device='cuda:0')\n",
      "cnn3.bias tensor([-0.0193, -0.0323,  0.0112, -0.0108,  0.0015,  0.0341, -0.0228, -0.0014,\n",
      "         0.0181,  0.0111,  0.0291,  0.0018,  0.0146,  0.0281, -0.0005,  0.0274,\n",
      "         0.0050, -0.0030,  0.0004,  0.0161,  0.0032, -0.0141, -0.0097, -0.0116,\n",
      "         0.0226,  0.0193,  0.0177, -0.0150,  0.0030,  0.0126, -0.0341, -0.0207,\n",
      "        -0.0038,  0.0191,  0.0039, -0.0123, -0.0286, -0.0281, -0.0188,  0.0202,\n",
      "        -0.0455,  0.0319,  0.0007, -0.0033,  0.0262,  0.0139,  0.0103, -0.0218,\n",
      "        -0.0120, -0.0054,  0.0352,  0.0005,  0.0281,  0.0142, -0.0269, -0.0062,\n",
      "        -0.0216,  0.0183,  0.0188, -0.0097, -0.0155, -0.0020,  0.0411, -0.0206,\n",
      "         0.0275,  0.0324,  0.0040, -0.0018, -0.0025,  0.0356,  0.0145,  0.0097,\n",
      "        -0.0214, -0.0158, -0.0057,  0.0142,  0.0220, -0.0072,  0.0230,  0.0084,\n",
      "         0.0061, -0.0345, -0.0184, -0.0294, -0.0262,  0.0333,  0.0290,  0.0015,\n",
      "         0.0044,  0.0147, -0.0318, -0.0401,  0.0097,  0.0016, -0.0172, -0.0197,\n",
      "        -0.0013, -0.0084,  0.0044,  0.0322, -0.0250,  0.0313, -0.0092,  0.0156,\n",
      "         0.0086,  0.0257, -0.0291, -0.0188,  0.0045,  0.0201,  0.0002,  0.0044,\n",
      "         0.0096, -0.0218,  0.0371,  0.0202, -0.0001,  0.0103, -0.0004,  0.0230,\n",
      "        -0.0017, -0.0086,  0.0007, -0.0309, -0.0068,  0.0027,  0.0193,  0.0303],\n",
      "       device='cuda:0')\n",
      "batchnorm.weight tensor([1.0183, 1.0008, 1.0072, 1.0313, 1.0161, 0.9715, 1.0220, 1.0095, 0.9807,\n",
      "        0.9428, 0.9989, 0.9913, 1.0247, 1.0208, 1.0239, 1.0291, 0.9765, 1.0289,\n",
      "        1.0106, 1.0318, 1.0044, 1.0053, 1.0370, 0.9676, 0.9936, 1.0157, 1.0270,\n",
      "        1.0093, 0.9508, 1.0006, 1.0216, 1.0017, 0.9991, 1.0097, 0.9716, 1.0215,\n",
      "        0.9696, 0.9646, 1.0102, 1.0024, 0.9767, 0.9960, 1.0111, 0.9886, 0.9854,\n",
      "        0.9745, 0.9750, 1.0239, 0.9696, 1.0100, 1.0237, 0.9501, 0.9404, 1.0019,\n",
      "        0.9880, 1.0181, 0.9309, 0.9910, 0.9450, 0.9439, 1.0126, 0.9996, 0.9999,\n",
      "        1.0093, 1.0021, 1.0008, 1.0028, 0.9807, 0.9946, 0.9328, 0.9962, 0.9763,\n",
      "        1.0129, 0.9968, 0.9543, 1.0142, 0.9758, 1.0251, 0.9806, 0.9757, 0.9911,\n",
      "        0.9731, 1.0052, 0.9997, 0.9683, 1.0035, 1.0009, 1.0019, 1.0298, 1.0127,\n",
      "        0.9998, 0.9758, 0.9964, 1.0440, 0.9838, 1.0138, 1.0004, 0.9822, 1.0109,\n",
      "        0.9989, 0.9968, 1.0233, 1.0176, 0.9808, 0.9985, 1.0095, 0.9937, 1.0127,\n",
      "        0.9934, 1.0262, 1.0044, 1.0013, 0.9873, 0.9900, 1.0374, 0.9912, 1.0173,\n",
      "        1.0177, 0.9950, 1.0225, 1.0034, 1.0036, 0.9966, 0.9657, 1.0074, 1.0099,\n",
      "        1.0048, 0.9929, 1.0276, 0.9950, 1.0073, 1.0089, 0.9995, 0.9929, 1.0162,\n",
      "        0.9685, 1.0192, 0.9895, 1.0190, 1.0291, 1.0181, 1.0002, 0.9994, 1.0027,\n",
      "        1.0085, 0.9715, 0.9831, 1.0072, 1.0151, 0.9898, 1.0069, 0.9890, 1.0036,\n",
      "        0.9783, 1.0155, 0.9919, 0.9742, 1.0073, 1.0057, 1.0063, 0.9839, 1.0042,\n",
      "        0.9515, 1.0163, 0.9992, 0.9839, 1.0087, 1.0026, 0.9965, 0.9876, 0.9868,\n",
      "        0.9579, 1.0130, 0.9788, 0.9880, 1.0092, 0.9970, 1.0148, 1.0172, 0.9760,\n",
      "        1.0086, 0.9911, 0.9533, 1.0095, 1.0033, 1.0126, 1.0138, 0.9729, 1.0080,\n",
      "        1.0224, 1.0175, 1.0115, 1.0188, 1.0152, 0.9488, 0.9993, 1.0021, 1.0033,\n",
      "        0.9572, 0.9954, 0.9987, 1.0041, 1.0138, 1.0228, 1.0042, 0.9984, 0.9893,\n",
      "        1.0196, 1.0171, 0.9810, 1.0468, 1.0191, 1.0085, 0.9999, 1.0187, 1.0266,\n",
      "        1.0138, 0.9898, 1.0197, 0.9971, 0.9848, 1.0093, 1.0097, 0.9528, 0.9961,\n",
      "        0.9897, 1.0167, 0.9631, 1.0224, 0.9996, 0.9924, 1.0023, 1.0229, 1.0136,\n",
      "        1.0208, 1.0302, 0.9774, 0.9866, 1.0185, 0.9511, 0.9991, 1.0061, 1.0254,\n",
      "        1.0098, 1.0217, 0.9784, 0.9915, 0.9866, 1.0123, 0.9942, 0.9999, 1.0117,\n",
      "        1.0098, 1.0284, 0.9915, 1.0167, 1.0019, 1.0055, 1.0133, 1.0166, 1.0280,\n",
      "        0.9402, 1.0059, 1.0100, 1.0204, 1.0226, 0.9605, 1.0211, 0.9850, 1.0040,\n",
      "        0.9727, 1.0008, 0.9819, 1.0262, 0.9409, 0.9898, 1.0207, 1.0265, 0.9929,\n",
      "        1.0220, 0.9796, 1.0116, 1.0205, 1.0106, 0.9974, 0.9875, 0.9682, 1.0157,\n",
      "        0.9810, 1.0125, 1.0096, 0.9727, 0.9355, 0.9904, 1.0178, 1.0016, 1.0265,\n",
      "        0.9848, 1.0009, 0.9474, 1.0011, 1.0077, 0.9544, 1.0236, 1.0119, 0.9983,\n",
      "        1.0030, 1.0059, 0.9545, 0.9914, 1.0223, 0.9713, 0.9783, 1.0212, 1.0266,\n",
      "        1.0264, 0.9743, 1.0138, 1.0170, 0.9664, 1.0047, 1.0250, 1.0223, 1.0223,\n",
      "        1.0103, 0.9976, 1.0015, 1.0301, 1.0206, 1.0148, 1.0082, 1.0363, 0.9972,\n",
      "        1.0032, 0.9789, 1.0235, 1.0020, 1.0008, 1.0090, 0.9777, 1.0083, 1.0151,\n",
      "        1.0160, 0.9946, 0.9937, 1.0100, 0.9999, 1.0251, 0.9643, 1.0116, 0.9635,\n",
      "        0.9728, 1.0137, 0.9967, 0.9864, 0.9968, 0.9743, 0.9909, 0.9919, 1.0323,\n",
      "        0.9606, 1.0066, 0.9958, 1.0079, 0.9497, 1.0304, 1.0171, 0.9980, 1.0191,\n",
      "        1.0185, 1.0059, 1.0091, 0.9697, 0.9976, 0.9978, 1.0303, 0.9862, 1.0377,\n",
      "        1.0186, 0.9918, 0.9853, 1.0280, 1.0264, 1.0089], device='cuda:0')\n",
      "batchnorm.bias tensor([-4.1095e-03, -1.5687e-02, -6.0692e-03, -8.3807e-03, -1.6165e-03,\n",
      "        -4.5231e-02,  4.9344e-03, -1.9933e-02, -2.2650e-02, -4.2547e-02,\n",
      "        -1.2678e-02,  2.9697e-03, -6.5084e-03, -8.6532e-03, -8.1037e-03,\n",
      "        -1.3274e-02, -5.4441e-02, -2.1670e-02, -5.1036e-03, -2.5685e-03,\n",
      "        -9.0162e-03, -1.2557e-02, -3.4124e-03, -4.7417e-02, -1.6104e-02,\n",
      "        -2.2605e-03, -8.6562e-05, -6.3513e-03, -4.4489e-02, -1.9391e-02,\n",
      "        -1.4743e-02, -2.0500e-02, -1.6279e-02, -2.4226e-03, -5.3861e-02,\n",
      "        -1.3267e-02, -2.5692e-02, -4.1867e-02, -6.6139e-03, -6.6023e-03,\n",
      "        -4.9495e-02, -4.5024e-02, -8.4027e-03, -1.7750e-02, -8.0330e-03,\n",
      "        -3.1919e-02, -3.9919e-02, -8.7044e-03, -4.4080e-02, -6.8493e-03,\n",
      "        -1.4893e-02, -5.7365e-02, -5.7973e-02,  4.6583e-03, -1.8386e-02,\n",
      "        -4.3991e-03, -7.5072e-02, -9.8372e-03, -5.9130e-02, -5.7488e-02,\n",
      "        -1.8984e-03, -8.1873e-03, -2.3171e-02, -6.8769e-03, -2.9882e-02,\n",
      "        -2.3467e-02, -2.1777e-02, -2.1494e-02, -1.6569e-02, -7.3884e-02,\n",
      "        -1.6012e-02, -2.8668e-02, -1.0379e-02, -2.2097e-02, -3.5547e-02,\n",
      "        -1.1718e-02, -2.6413e-02, -2.1766e-02, -3.6038e-02, -4.4583e-02,\n",
      "        -7.1311e-03, -4.0076e-02, -2.0970e-02, -2.7065e-02, -2.3344e-02,\n",
      "        -1.3006e-02, -1.3047e-02, -2.4118e-03,  1.5366e-03, -4.3714e-04,\n",
      "        -1.0130e-02, -2.8743e-02, -1.9134e-03, -8.7555e-03, -2.9131e-02,\n",
      "        -1.3257e-02, -1.0685e-02, -3.2981e-02, -2.0249e-02, -9.2776e-03,\n",
      "        -2.2245e-02, -1.0993e-02, -2.9775e-03, -1.9017e-02, -8.9474e-03,\n",
      "        -1.0500e-02, -3.6218e-02, -1.0532e-02, -9.5869e-03, -1.0534e-02,\n",
      "        -3.1056e-02, -2.7725e-02, -4.9814e-02, -3.1028e-02, -2.1467e-03,\n",
      "        -1.8749e-02, -1.1419e-02,  1.2863e-03, -2.1594e-02, -4.0214e-03,\n",
      "        -1.2343e-02, -3.3147e-02, -3.1479e-02, -4.0085e-02, -6.1106e-03,\n",
      "        -2.6046e-03, -9.3580e-03, -2.5705e-02, -1.0996e-02, -1.4642e-02,\n",
      "        -1.7977e-02, -4.9180e-03,  5.2060e-03, -1.8336e-02, -1.6350e-02,\n",
      "        -4.0319e-02, -1.3203e-02, -1.5721e-02, -1.3700e-03,  1.1985e-02,\n",
      "        -7.3189e-03, -2.5901e-02, -4.2286e-03, -2.2743e-02, -8.3530e-03,\n",
      "        -2.9112e-02, -2.4973e-02, -3.3283e-03, -2.3354e-02, -2.7871e-02,\n",
      "        -1.1386e-02, -4.1470e-03, -2.2853e-02, -1.8851e-02, -3.4240e-02,\n",
      "        -2.1598e-02, -3.4068e-02, -2.2611e-02, -1.3121e-02, -2.6213e-02,\n",
      "        -3.1708e-02, -2.2141e-02, -4.6922e-02,  6.6573e-03, -2.7917e-02,\n",
      "        -3.3987e-02, -1.1022e-02,  4.1789e-03, -1.3172e-02, -3.3595e-02,\n",
      "        -3.2176e-02, -4.3731e-02, -1.4457e-02, -7.5634e-03, -1.1845e-02,\n",
      "        -6.7461e-03, -4.0646e-02, -2.2257e-02,  5.3987e-03, -2.6863e-02,\n",
      "        -1.2124e-02, -2.1469e-02, -4.9603e-02, -1.4193e-02, -1.1480e-02,\n",
      "         5.4005e-03,  1.4586e-03, -3.8271e-02, -1.7876e-02, -5.2659e-03,\n",
      "        -2.0531e-02, -1.7955e-02, -8.5966e-03, -1.5722e-02, -5.1003e-02,\n",
      "        -3.5326e-02, -2.9229e-02, -2.8569e-02, -2.6507e-02, -1.1674e-02,\n",
      "        -8.8170e-03, -2.4129e-02, -1.4135e-02, -1.4774e-02, -1.6849e-02,\n",
      "        -7.3231e-03, -2.3304e-02, -9.0003e-03, -2.3460e-02, -2.8696e-02,\n",
      "         1.4356e-03,  9.3013e-03, -1.2640e-02, -1.9557e-02, -1.1734e-02,\n",
      "         3.8775e-03, -1.6680e-02, -1.9931e-02, -3.7831e-03, -4.2965e-02,\n",
      "        -1.1367e-02, -1.1006e-02, -1.1547e-02, -3.9825e-02, -2.1510e-02,\n",
      "        -3.2145e-02, -1.3800e-02, -4.9338e-02,  2.1244e-03, -2.3438e-02,\n",
      "        -6.3868e-03, -1.3889e-02, -1.4664e-02, -1.5732e-02, -9.5882e-03,\n",
      "        -1.8498e-02, -1.8750e-02, -2.7857e-02, -2.2273e-02, -4.3903e-02,\n",
      "        -1.8942e-02, -2.0326e-02,  5.5463e-03, -2.1225e-02, -9.5559e-03,\n",
      "        -4.5263e-02, -2.8352e-02, -2.4505e-02,  3.9144e-03, -2.7917e-02,\n",
      "        -1.4704e-02, -2.6771e-02, -1.9103e-02,  9.7251e-03, -1.0668e-02,\n",
      "         1.5462e-03, -1.1936e-02, -1.1042e-02, -2.2317e-02, -2.1869e-03,\n",
      "         3.7704e-04, -4.8516e-02, -1.9954e-02, -1.1164e-02, -2.1174e-02,\n",
      "        -1.5739e-02, -3.7407e-02, -1.6284e-02, -3.1551e-02, -2.9485e-02,\n",
      "        -1.0411e-02, -1.9466e-02, -2.0028e-02, -1.8523e-02, -3.9643e-02,\n",
      "        -1.7658e-02,  2.3179e-03, -3.1755e-03, -1.8107e-02, -1.1730e-02,\n",
      "        -2.2151e-02, -2.7357e-02, -1.5735e-02, -1.4204e-02, -4.4441e-02,\n",
      "        -1.6995e-02, -1.9087e-02,  3.7638e-03, -2.8249e-02,  1.8410e-02,\n",
      "        -1.3733e-02, -1.9520e-02, -6.3840e-02, -2.9996e-02, -5.8515e-03,\n",
      "        -1.1684e-02, -4.1654e-03, -1.2557e-02, -9.9042e-03, -3.7189e-02,\n",
      "        -2.3604e-02, -2.2575e-02, -5.7006e-02, -1.1268e-02, -2.6036e-02,\n",
      "        -2.2731e-02, -2.4569e-02, -2.3712e-02, -4.5769e-02, -3.0356e-02,\n",
      "         4.8677e-03, -2.3411e-02, -2.6917e-02, -1.7864e-02, -1.0051e-02,\n",
      "        -1.5392e-02, -1.5412e-02, -2.4049e-02, -2.2299e-02, -3.6818e-02,\n",
      "        -2.4223e-02, -1.3088e-02, -5.7636e-03, -3.3490e-03, -3.2822e-02,\n",
      "        -2.7114e-02, -8.5446e-03,  1.0942e-02,  1.0242e-02, -1.7246e-02,\n",
      "        -6.5168e-03, -1.9295e-02, -1.6204e-02, -3.7131e-03, -5.2782e-02,\n",
      "        -1.6175e-02, -2.1291e-02, -4.1217e-03, -2.7015e-03, -2.7325e-02,\n",
      "        -2.4572e-02, -2.6857e-02, -1.5127e-02, -3.8593e-02, -5.4731e-03,\n",
      "        -6.5200e-03, -1.5739e-02, -5.4202e-03, -4.0660e-02, -1.9893e-02,\n",
      "        -3.5396e-02, -2.8959e-02, -7.3276e-03, -7.9445e-03, -1.9388e-02,\n",
      "        -2.9189e-02, -1.8516e-02, -1.8789e-02, -3.8799e-02, -1.6196e-02,\n",
      "        -5.3064e-02, -4.7991e-03, -3.4878e-02, -4.3373e-03, -4.5281e-02,\n",
      "        -2.3287e-02,  2.4305e-03, -5.7120e-03, -7.9898e-04, -2.0482e-02,\n",
      "        -3.1568e-02, -1.3331e-02, -4.0364e-02, -3.0618e-02, -2.6272e-02,\n",
      "        -1.4315e-02, -1.6583e-02, -1.1055e-02, -1.7575e-02, -2.8170e-02,\n",
      "        -4.0440e-02, -1.2849e-02, -1.7518e-02, -4.2185e-03], device='cuda:0')\n",
      "lstm.weight_ih_l0 tensor([[-0.0090, -0.0268, -0.0042,  ...,  0.0246,  0.0021, -0.0315],\n",
      "        [-0.0208, -0.0115, -0.0280,  ...,  0.0491, -0.0040,  0.0220],\n",
      "        [-0.0265, -0.0487,  0.0452,  ..., -0.0072, -0.0063, -0.0078],\n",
      "        ...,\n",
      "        [ 0.0617, -0.0007,  0.0243,  ...,  0.0090,  0.0818, -0.0092],\n",
      "        [ 0.0471, -0.0306, -0.0095,  ..., -0.0629,  0.0576,  0.0508],\n",
      "        [ 0.0117, -0.0280, -0.0446,  ..., -0.0263,  0.0178, -0.0265]],\n",
      "       device='cuda:0')\n",
      "lstm.weight_hh_l0 tensor([[ 0.0467, -0.0153,  0.0373,  ..., -0.0366,  0.0172,  0.0213],\n",
      "        [-0.0157, -0.0050, -0.0527,  ...,  0.0055, -0.0085,  0.0425],\n",
      "        [ 0.0559, -0.0376,  0.0267,  ..., -0.0445, -0.0051, -0.0037],\n",
      "        ...,\n",
      "        [-0.0030,  0.0351,  0.0314,  ...,  0.0331,  0.0145,  0.0297],\n",
      "        [ 0.0452, -0.0095,  0.0229,  ..., -0.0116, -0.0045,  0.0294],\n",
      "        [ 0.0338,  0.0236, -0.0067,  ...,  0.0814, -0.0381,  0.0200]],\n",
      "       device='cuda:0')\n",
      "lstm.bias_ih_l0 tensor([-0.0117, -0.0306, -0.0284,  ...,  0.0196, -0.0171, -0.0228],\n",
      "       device='cuda:0')\n",
      "lstm.bias_hh_l0 tensor([-0.0019, -0.0021,  0.0266,  ...,  0.0210,  0.0253, -0.0344],\n",
      "       device='cuda:0')\n",
      "lstm.weight_ih_l1 tensor([[-0.0070, -0.0085,  0.0172,  ..., -0.0088,  0.0135, -0.0394],\n",
      "        [ 0.0339,  0.0332, -0.0282,  ...,  0.0202, -0.0234, -0.0503],\n",
      "        [ 0.0126, -0.0441, -0.0248,  ...,  0.0365, -0.0323, -0.0417],\n",
      "        ...,\n",
      "        [ 0.0036,  0.0253, -0.0385,  ...,  0.0188, -0.0326, -0.0039],\n",
      "        [-0.0106,  0.0220, -0.0169,  ...,  0.0799, -0.0172, -0.0358],\n",
      "        [ 0.0410, -0.0150, -0.0328,  ...,  0.0379,  0.0146, -0.0541]],\n",
      "       device='cuda:0')\n",
      "lstm.weight_hh_l1 tensor([[ 0.0293, -0.0192,  0.0153,  ..., -0.0281,  0.0103, -0.0127],\n",
      "        [ 0.0153,  0.0111, -0.0348,  ...,  0.0107,  0.0313,  0.0484],\n",
      "        [-0.0056,  0.0200, -0.0242,  ...,  0.0072, -0.0079,  0.0240],\n",
      "        ...,\n",
      "        [ 0.0110, -0.0006, -0.0367,  ..., -0.0103, -0.0092,  0.0105],\n",
      "        [ 0.0355, -0.0390, -0.0192,  ...,  0.0027,  0.0408,  0.0182],\n",
      "        [-0.0279, -0.0211,  0.0264,  ..., -0.0210,  0.0109,  0.0124]],\n",
      "       device='cuda:0')\n",
      "lstm.bias_ih_l1 tensor([-0.0233, -0.0108, -0.0225,  ..., -0.0053, -0.0232,  0.0225],\n",
      "       device='cuda:0')\n",
      "lstm.bias_hh_l1 tensor([-0.0251, -0.0271,  0.0278,  ..., -0.0542, -0.0520,  0.0244],\n",
      "       device='cuda:0')\n",
      "linear.weight tensor([[-0.0447, -0.0787,  0.0855,  ..., -0.0345, -0.0644, -0.0421],\n",
      "        [-0.0495, -0.0250, -0.0271,  ...,  0.0322,  0.0107,  0.0100],\n",
      "        [ 0.0631, -0.0059,  0.0365,  ..., -0.0271,  0.0097,  0.0413],\n",
      "        [ 0.0603,  0.0596, -0.0273,  ...,  0.0184,  0.0060,  0.0656],\n",
      "        [ 0.0328, -0.0221,  0.0572,  ..., -0.0023, -0.0006, -0.0211]],\n",
      "       device='cuda:0')\n",
      "linear.bias tensor([-0.0312,  0.0481,  0.0094,  0.0071,  0.0157], device='cuda:0')\n"
     ]
    }
   ],
   "source": [
    "for name, param in model.named_parameters():\n",
    "    if param.requires_grad:\n",
    "        print(name, param.data)"
   ]
  },
  {
   "cell_type": "code",
   "execution_count": 80,
   "id": "9ecec559",
   "metadata": {},
   "outputs": [],
   "source": [
    "# model_path = main_data_path + f'/models/wav2vecbase/holdout_{holdout}.pth'\n",
    "\n",
    "# torch.save({'epoch':epochs,\n",
    "#             'model_state_dict':model.state_dict(),\n",
    "#             'optimizer_state_dict':optimizer.state_dict()},\n",
    "#             model_path)"
   ]
  },
  {
   "cell_type": "code",
   "execution_count": null,
   "id": "bfc54a72",
   "metadata": {},
   "outputs": [],
   "source": []
  }
 ],
 "metadata": {
  "kernelspec": {
   "display_name": "Python 3",
   "language": "python",
   "name": "python3"
  },
  "language_info": {
   "codemirror_mode": {
    "name": "ipython",
    "version": 3
   },
   "file_extension": ".py",
   "mimetype": "text/x-python",
   "name": "python",
   "nbconvert_exporter": "python",
   "pygments_lexer": "ipython3",
   "version": "3.7.12"
  }
 },
 "nbformat": 4,
 "nbformat_minor": 5
}
