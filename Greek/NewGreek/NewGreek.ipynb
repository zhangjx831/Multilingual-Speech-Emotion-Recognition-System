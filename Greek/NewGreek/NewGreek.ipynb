{
 "cells": [
  {
   "cell_type": "code",
   "execution_count": 1,
   "id": "dafae421",
   "metadata": {},
   "outputs": [],
   "source": [
    "import re\n",
    "import os\n",
    "import pandas as pd\n",
    "\n",
    "regex = re.compile(r'\\[.+\\]\\n', re.IGNORECASE)\n",
    "file_paths, file_names, emotions, audios = [], [], [], []\n",
    "emotion_map = {'anger': 'angry', 'happiness': 'happy', 'sadness': 'sad', 'fear': 'fear',\n",
    "              'disgust': 'disgust'}"
   ]
  },
  {
   "cell_type": "code",
   "execution_count": 2,
   "id": "5455a0c8",
   "metadata": {},
   "outputs": [
    {
     "name": "stdout",
     "output_type": "stream",
     "text": [
      "1.12.1\n",
      "0.12.1+cu113\n",
      "cuda\n"
     ]
    }
   ],
   "source": [
    "import torch\n",
    "import torchaudio\n",
    "\n",
    "print(torch.__version__)\n",
    "print(torchaudio.__version__)\n",
    "\n",
    "torch.random.manual_seed(0)\n",
    "device = torch.device(\"cuda\" if torch.cuda.is_available() else \"cpu\")\n",
    "\n",
    "print(device)"
   ]
  },
  {
   "cell_type": "code",
   "execution_count": 3,
   "id": "84dd4e21",
   "metadata": {},
   "outputs": [
    {
     "name": "stdout",
     "output_type": "stream",
     "text": [
      "<class 'torchaudio.models.wav2vec2.model.Wav2Vec2Model'>\n",
      "16000\n"
     ]
    }
   ],
   "source": [
    "bundle = torchaudio.pipelines.WAV2VEC2_BASE\n",
    "extractor = bundle.get_model()\n",
    "print(extractor.__class__)\n",
    "print(bundle.sample_rate)"
   ]
  },
  {
   "cell_type": "code",
   "execution_count": 4,
   "id": "16271443",
   "metadata": {},
   "outputs": [
    {
     "data": {
      "text/plain": [
       "['anger',\n",
       " 'session_entries.csv',\n",
       " 'fear',\n",
       " 'Tools and Documentation',\n",
       " 'disgust',\n",
       " 'sadness',\n",
       " 'happiness']"
      ]
     },
     "execution_count": 4,
     "metadata": {},
     "output_type": "execute_result"
    }
   ],
   "source": [
    "import os\n",
    "os.listdir('../emotiondata/emotion_data')"
   ]
  },
  {
   "cell_type": "code",
   "execution_count": 5,
   "id": "40442d5f",
   "metadata": {},
   "outputs": [
    {
     "name": "stdout",
     "output_type": "stream",
     "text": [
      "found\n"
     ]
    }
   ],
   "source": [
    "folder_list = ['anger', 'disgust', 'fear', 'happiness', 'sadness']\n",
    "entries = []\n",
    "for folder in folder_list:\n",
    "    cur_file_list = os.listdir(f'../emotiondata/emotion_data/{folder}')\n",
    "    for i in cur_file_list:\n",
    "        if i == 's05 (3).wav':\n",
    "            print(\"found\")\n",
    "            continue\n",
    "        entries.append(i)\n"
   ]
  },
  {
   "cell_type": "code",
   "execution_count": 6,
   "id": "460703c1",
   "metadata": {},
   "outputs": [
    {
     "data": {
      "text/plain": [
       "604"
      ]
     },
     "execution_count": 6,
     "metadata": {},
     "output_type": "execute_result"
    }
   ],
   "source": [
    "len(entries)"
   ]
  },
  {
   "cell_type": "code",
   "execution_count": 7,
   "id": "a5500a76",
   "metadata": {},
   "outputs": [],
   "source": [
    "import random\n",
    "random.shuffle(entries)\n",
    "session = []\n",
    "equal_parts = (len(entries)-1)//5 # for equally split the entries into 5 parts\n",
    "count = 0\n",
    "main_data_path = '../emotiondata/emotion_data'"
   ]
  },
  {
   "cell_type": "code",
   "execution_count": 8,
   "id": "91a26601",
   "metadata": {},
   "outputs": [
    {
     "name": "stderr",
     "output_type": "stream",
     "text": [
      "100%|████████████████████████████████████████████████████████████████████████████████████████████████████████████████████████████████████████████████████████████████████████████████████████████████████████████████████████████████████████████████████████████████████████████████████████| 604/604 [00:00<00:00, 672871.08it/s]\n"
     ]
    }
   ],
   "source": [
    "#### Only Run once\n",
    "from tqdm import tqdm \n",
    "folder_map = {'a':'anger', 'd':'disgust', 'f':'fear', 'h':'happiness', 's':'sadness'}\n",
    "\n",
    "file_paths = []\n",
    "file_names = []\n",
    "emotions = []\n",
    "# audios = []\n",
    "# labels = []\n",
    "\n",
    "\n",
    "for i in tqdm(range(len(entries))):\n",
    "    entry = entries[i]\n",
    "    if \"wav\" not in entry:\n",
    "        continue\n",
    "    folder = folder_map[entry[0]]\n",
    "    file_path = f'../emotiondata/emotion_data/{folder}/{entry}'\n",
    "    emotion = emotion_map[folder]\n",
    "    file_paths.append(file_path)\n",
    "    file_names.append(entry)\n",
    "    emotions.append(emotion)\n",
    "\n",
    "    # assign session to it\n",
    "    part = (count//equal_parts)%6 + 1\n",
    "    if part == 6:\n",
    "        part = 5\n",
    "    session.append(part)\n",
    "    count += 1\n",
    "\n",
    "\n",
    "file = pd.DataFrame({'path':file_paths, 'name': file_names, 'emotion': emotions, 'session': session})\n",
    "dataframe_path = main_data_path + '/session_entries.csv'\n",
    "file.to_csv(dataframe_path)\n"
   ]
  },
  {
   "cell_type": "code",
   "execution_count": 9,
   "id": "bf84dc30",
   "metadata": {
    "scrolled": true
   },
   "outputs": [
    {
     "data": {
      "text/plain": [
       "['anger',\n",
       " 'session_entries.csv',\n",
       " 'fear',\n",
       " 'Tools and Documentation',\n",
       " 'disgust',\n",
       " 'sadness',\n",
       " 'happiness']"
      ]
     },
     "execution_count": 9,
     "metadata": {},
     "output_type": "execute_result"
    }
   ],
   "source": [
    "os.listdir('../emotiondata/emotion_data')"
   ]
  },
  {
   "cell_type": "markdown",
   "id": "e3234f2c",
   "metadata": {},
   "source": [
    "# Extract Features using Models"
   ]
  },
  {
   "cell_type": "code",
   "execution_count": 10,
   "id": "6e1c077f",
   "metadata": {
    "scrolled": false
   },
   "outputs": [
    {
     "data": {
      "text/html": [
       "<div>\n",
       "<style scoped>\n",
       "    .dataframe tbody tr th:only-of-type {\n",
       "        vertical-align: middle;\n",
       "    }\n",
       "\n",
       "    .dataframe tbody tr th {\n",
       "        vertical-align: top;\n",
       "    }\n",
       "\n",
       "    .dataframe thead th {\n",
       "        text-align: right;\n",
       "    }\n",
       "</style>\n",
       "<table border=\"1\" class=\"dataframe\">\n",
       "  <thead>\n",
       "    <tr style=\"text-align: right;\">\n",
       "      <th></th>\n",
       "      <th>path</th>\n",
       "      <th>name</th>\n",
       "      <th>emotion</th>\n",
       "      <th>session</th>\n",
       "    </tr>\n",
       "  </thead>\n",
       "  <tbody>\n",
       "    <tr>\n",
       "      <th>0</th>\n",
       "      <td>../emotiondata/emotion_data/anger/a13 (5).wav</td>\n",
       "      <td>a13 (5).wav</td>\n",
       "      <td>angry</td>\n",
       "      <td>1</td>\n",
       "    </tr>\n",
       "    <tr>\n",
       "      <th>1</th>\n",
       "      <td>../emotiondata/emotion_data/happiness/h08 (4).wav</td>\n",
       "      <td>h08 (4).wav</td>\n",
       "      <td>happy</td>\n",
       "      <td>1</td>\n",
       "    </tr>\n",
       "    <tr>\n",
       "      <th>2</th>\n",
       "      <td>../emotiondata/emotion_data/fear/f03 (1).wav</td>\n",
       "      <td>f03 (1).wav</td>\n",
       "      <td>fear</td>\n",
       "      <td>1</td>\n",
       "    </tr>\n",
       "    <tr>\n",
       "      <th>3</th>\n",
       "      <td>../emotiondata/emotion_data/happiness/h09 (5).wav</td>\n",
       "      <td>h09 (5).wav</td>\n",
       "      <td>happy</td>\n",
       "      <td>1</td>\n",
       "    </tr>\n",
       "    <tr>\n",
       "      <th>4</th>\n",
       "      <td>../emotiondata/emotion_data/happiness/h09 (6).wav</td>\n",
       "      <td>h09 (6).wav</td>\n",
       "      <td>happy</td>\n",
       "      <td>1</td>\n",
       "    </tr>\n",
       "  </tbody>\n",
       "</table>\n",
       "</div>"
      ],
      "text/plain": [
       "                                                path         name emotion  \\\n",
       "0      ../emotiondata/emotion_data/anger/a13 (5).wav  a13 (5).wav   angry   \n",
       "1  ../emotiondata/emotion_data/happiness/h08 (4).wav  h08 (4).wav   happy   \n",
       "2       ../emotiondata/emotion_data/fear/f03 (1).wav  f03 (1).wav    fear   \n",
       "3  ../emotiondata/emotion_data/happiness/h09 (5).wav  h09 (5).wav   happy   \n",
       "4  ../emotiondata/emotion_data/happiness/h09 (6).wav  h09 (6).wav   happy   \n",
       "\n",
       "   session  \n",
       "0        1  \n",
       "1        1  \n",
       "2        1  \n",
       "3        1  \n",
       "4        1  "
      ]
     },
     "execution_count": 10,
     "metadata": {},
     "output_type": "execute_result"
    }
   ],
   "source": [
    "dataframe_path = main_data_path + '/session_entries.csv'\n",
    "file = pd.read_csv(dataframe_path)[['path', 'name', 'emotion', 'session']]\n",
    "file.head()"
   ]
  },
  {
   "cell_type": "code",
   "execution_count": 11,
   "id": "5eb2803a",
   "metadata": {
    "scrolled": true
   },
   "outputs": [
    {
     "name": "stderr",
     "output_type": "stream",
     "text": [
      "100%|████████████████████████████████████████████████████████████████████████████████████████████████████████████████████████████████████████████████████████████████████████████████████████████████████████████████████████████████████████████████████████████████████████████████████████████| 604/604 [05:06<00:00,  1.97it/s]\n"
     ]
    }
   ],
   "source": [
    "from tqdm import tqdm\n",
    "audios = []\n",
    "to_be_discarded = []\n",
    "discarded_name = []\n",
    "for i in tqdm(range(len(file['path']))):\n",
    "    path = file['path'][i]\n",
    "    wave, sr = torchaudio.load(path)\n",
    "    if sr != bundle.sample_rate:\n",
    "        wave = torchaudio.functional.resample(wave, sr, bundle.sample_rate)\n",
    "    with torch.inference_mode():\n",
    "        feature, _ = extractor.extract_features(wave)\n",
    "    \n",
    "    feature = [f[0] for f in feature]\n",
    "    audio = torch.stack(feature)\n",
    "    audios.append(audio)"
   ]
  },
  {
   "cell_type": "code",
   "execution_count": 12,
   "id": "19c7fa59",
   "metadata": {},
   "outputs": [
    {
     "data": {
      "text/plain": [
       "['s05 (3).wav']"
      ]
     },
     "execution_count": 12,
     "metadata": {},
     "output_type": "execute_result"
    }
   ],
   "source": [
    "discarded_name"
   ]
  },
  {
   "cell_type": "markdown",
   "id": "b5862445",
   "metadata": {},
   "source": [
    "# Load Data"
   ]
  },
  {
   "cell_type": "code",
   "execution_count": 71,
   "id": "b35d2559",
   "metadata": {},
   "outputs": [],
   "source": [
    "holdout = 1\n",
    "train = file[file['session'] != holdout]\n",
    "train_audios = [audios[i] for i in range(len(audios)) if file['session'][i] != holdout]\n",
    "test = file[file['session'] == holdout]\n",
    "test_audios = [audios[i] for i in range(len(audios)) if file['session'][i] == holdout]"
   ]
  },
  {
   "cell_type": "code",
   "execution_count": 72,
   "id": "00f496ff",
   "metadata": {},
   "outputs": [],
   "source": [
    "class MyDataSet(torch.utils.data.Dataset):\n",
    "    def __init__(self, audios, labels, label_transform):\n",
    "        super(MyDataSet).__init__()\n",
    "        self.audios = audios\n",
    "        self.labels = labels\n",
    "        self.label_transform = label_transform\n",
    "        \n",
    "    def __getitem__(self, idx):\n",
    "        label = self.label_transform[self.labels[idx]]\n",
    "        audio = self.audios[idx]\n",
    "        length = audio.size(1)\n",
    "        return audio, length, label\n",
    "    \n",
    "    def __len__(self):\n",
    "        return len(self.labels)"
   ]
  },
  {
   "cell_type": "code",
   "execution_count": 73,
   "id": "a454606a",
   "metadata": {},
   "outputs": [],
   "source": [
    "def collate_indic(data):\n",
    "    audios, lengths, labels = zip(*data)\n",
    "    max_len = max(lengths)\n",
    "    n_ftrs = audios[0].size(2)\n",
    "    n_dims = audios[0].size(0)\n",
    "    features = torch.zeros((len(audios), n_dims, max_len, n_ftrs))\n",
    "    labels = torch.tensor(labels)\n",
    "    lengths = torch.tensor(lengths)\n",
    "\n",
    "    for i in range(len(data)):\n",
    "        j, k = audios[i].size(1), audios[i].size(2)\n",
    "        features[i] = torch.cat([audios[i], torch.zeros((n_dims, max_len - j, k))], dim=1)\n",
    "\n",
    "    return features, lengths, labels"
   ]
  },
  {
   "cell_type": "code",
   "execution_count": 74,
   "id": "6b35c072",
   "metadata": {},
   "outputs": [
    {
     "data": {
      "text/plain": [
       "{'neutral': 0, 'angry': 1, 'happy': 2, 'sad': 3, 'fear': 4, 'disgust': 5}"
      ]
     },
     "execution_count": 74,
     "metadata": {},
     "output_type": "execute_result"
    }
   ],
   "source": [
    "categories = ['neutral', 'angry', 'happy', 'sad', 'fear', 'disgust']\n",
    "cate_dic = {}\n",
    "for i, cate in enumerate(categories):\n",
    "    cate_dic[cate] = i\n",
    "cate_dic"
   ]
  },
  {
   "cell_type": "code",
   "execution_count": 75,
   "id": "ae6cc4ba",
   "metadata": {},
   "outputs": [],
   "source": [
    "from torch.utils.data import DataLoader\n",
    "\n",
    "train_dataset = MyDataSet(train_audios, train['emotion'].tolist(), cate_dic)\n",
    "trainloader_args = dict(batch_size=16, shuffle=True)\n",
    "train_dataloader = DataLoader(train_dataset, **trainloader_args, \n",
    "                              collate_fn=collate_indic)\n",
    "\n",
    "test_dataset = MyDataSet(test_audios, test['emotion'].tolist(), cate_dic)\n",
    "testloader_args = dict(batch_size=16, shuffle=True)\n",
    "test_dataloader = DataLoader(test_dataset, **testloader_args, \n",
    "                             collate_fn=collate_indic)"
   ]
  },
  {
   "cell_type": "markdown",
   "id": "30207c68",
   "metadata": {},
   "source": [
    "### 3CNN+LSTM"
   ]
  },
  {
   "cell_type": "code",
   "execution_count": 76,
   "id": "142544fb",
   "metadata": {},
   "outputs": [],
   "source": [
    "import torch.nn as nn\n",
    "import torch.nn.functional as F\n",
    "\n",
    "class ICASSP3CNN(nn.Module):\n",
    "    def __init__(self, vocab_size, dims = 12, embed_size=128, hidden_size=512, num_lstm_layers = 2, bidirectional = False, label_size=7):\n",
    "        super().__init__()\n",
    "        self.n_layers = num_lstm_layers \n",
    "        self.hidden = hidden_size\n",
    "        self.bidirectional = bidirectional\n",
    "        \n",
    "        self.aggr = nn.Conv1d(in_channels=dims, out_channels=1, kernel_size=1)\n",
    "        \n",
    "        self.embed = nn.Linear(in_features = vocab_size, out_features = embed_size)\n",
    "\n",
    "        self.cnn  = nn.Conv1d(embed_size, embed_size, kernel_size=3, padding=1)\n",
    "        self.cnn2 = nn.Conv1d(embed_size, embed_size, kernel_size=5, padding=2)\n",
    "        self.cnn3 = nn.Conv1d(embed_size, embed_size, kernel_size=7, padding=3)\n",
    "\n",
    "        self.batchnorm = nn.BatchNorm1d(3 * embed_size)\n",
    "\n",
    "        self.lstm = nn.LSTM(input_size = 3 * embed_size, \n",
    "                            hidden_size = hidden_size, \n",
    "                            num_layers = num_lstm_layers, \n",
    "                            bidirectional = bidirectional)\n",
    "\n",
    "        self.linear = nn.Linear(in_features = 2 * hidden_size if bidirectional else hidden_size, \n",
    "                                out_features = label_size)\n",
    "\n",
    "\n",
    "    def forward(self, x, lengths):\n",
    "        \"\"\"\n",
    "        padded_x: (B,T) padded LongTensor\n",
    "        \"\"\"\n",
    "        n, d, b, t = x.size(0), x.size(1), x.size(2), x.size(3)\n",
    "        x = torch.flatten(x, start_dim=2)\n",
    "        input = self.aggr(x)\n",
    "        input = torch.reshape(input, (n, b, t))\n",
    "        input = self.embed(input)\n",
    "\n",
    "        batch_size = input.size(0)\n",
    "        input = input.transpose(1,2)    # (B,T,H) -> (B,H,T)\n",
    "\n",
    "        cnn_output = torch.cat([self.cnn(input), self.cnn2(input), self.cnn3(input)], dim=1)\n",
    "\n",
    "        input = F.relu(self.batchnorm(cnn_output))\n",
    "\n",
    "        input = input.transpose(1,2)\n",
    "\n",
    "        pack_tensor = nn.utils.rnn.pack_padded_sequence(input, lengths, batch_first=True, enforce_sorted=False)\n",
    "        _, (hn, cn) = self.lstm(pack_tensor)\n",
    "\n",
    "        if self.bidirectional:\n",
    "            h_n = hn.view(self.n_layers, 2, batch_size, self.hidden)\n",
    "            h_n = torch.cat([ h_n[-1, 0,:], h_n[-1,1,:] ], dim = 1)\n",
    "        else:\n",
    "            h_n = hn[-1]\n",
    "\n",
    "        logits = self.linear(h_n)\n",
    "\n",
    "        return logits\n"
   ]
  },
  {
   "cell_type": "markdown",
   "id": "ac24d5df",
   "metadata": {},
   "source": [
    "### Train Each Layer"
   ]
  },
  {
   "cell_type": "code",
   "execution_count": 77,
   "id": "6fbeb225",
   "metadata": {},
   "outputs": [
    {
     "name": "stderr",
     "output_type": "stream",
     "text": [
      "  2%|█████▋                                                                                                                                                                                                                                                                                         | 1/50 [00:05<04:34,  5.61s/it]"
     ]
    },
    {
     "name": "stdout",
     "output_type": "stream",
     "text": [
      "epoch:1, train accu:0.3843, train loss:1.49\n"
     ]
    },
    {
     "name": "stderr",
     "output_type": "stream",
     "text": [
      "\r",
      "  4%|███████████▍                                                                                                                                                                                                                                                                                   | 2/50 [00:11<04:23,  5.49s/it]"
     ]
    },
    {
     "name": "stdout",
     "output_type": "stream",
     "text": [
      "epoch:2, train accu:0.5847, train loss:1.01\n"
     ]
    },
    {
     "name": "stderr",
     "output_type": "stream",
     "text": [
      "\r",
      "  6%|█████████████████▏                                                                                                                                                                                                                                                                             | 3/50 [00:16<04:20,  5.53s/it]"
     ]
    },
    {
     "name": "stdout",
     "output_type": "stream",
     "text": [
      "epoch:3, train accu:0.6550, train loss:0.89\n"
     ]
    },
    {
     "name": "stderr",
     "output_type": "stream",
     "text": [
      "\r",
      "  8%|██████████████████████▉                                                                                                                                                                                                                                                                        | 4/50 [00:22<04:13,  5.50s/it]"
     ]
    },
    {
     "name": "stdout",
     "output_type": "stream",
     "text": [
      "epoch:4, train accu:0.7831, train loss:0.61\n"
     ]
    },
    {
     "name": "stderr",
     "output_type": "stream",
     "text": [
      "\r",
      " 10%|████████████████████████████▋                                                                                                                                                                                                                                                                  | 5/50 [00:27<04:07,  5.49s/it]"
     ]
    },
    {
     "name": "stdout",
     "output_type": "stream",
     "text": [
      "epoch:5, train accu:0.8264, train loss:0.53\n"
     ]
    },
    {
     "name": "stderr",
     "output_type": "stream",
     "text": [
      "\r",
      " 12%|██████████████████████████████████▍                                                                                                                                                                                                                                                            | 6/50 [00:33<04:11,  5.72s/it]"
     ]
    },
    {
     "name": "stdout",
     "output_type": "stream",
     "text": [
      "epoch:6, train accu:0.8450, train loss:0.49\n"
     ]
    },
    {
     "name": "stderr",
     "output_type": "stream",
     "text": [
      "\r",
      " 14%|████████████████████████████████████████▏                                                                                                                                                                                                                                                      | 7/50 [00:39<04:06,  5.74s/it]"
     ]
    },
    {
     "name": "stdout",
     "output_type": "stream",
     "text": [
      "epoch:7, train accu:0.8719, train loss:0.42\n"
     ]
    },
    {
     "name": "stderr",
     "output_type": "stream",
     "text": [
      "\r",
      " 16%|█████████████████████████████████████████████▉                                                                                                                                                                                                                                                 | 8/50 [00:44<03:57,  5.67s/it]"
     ]
    },
    {
     "name": "stdout",
     "output_type": "stream",
     "text": [
      "epoch:8, train accu:0.9215, train loss:0.28\n"
     ]
    },
    {
     "name": "stderr",
     "output_type": "stream",
     "text": [
      "\r",
      " 18%|███████████████████████████████████████████████████▋                                                                                                                                                                                                                                           | 9/50 [00:50<03:51,  5.65s/it]"
     ]
    },
    {
     "name": "stdout",
     "output_type": "stream",
     "text": [
      "epoch:9, train accu:0.9050, train loss:0.35\n"
     ]
    },
    {
     "name": "stderr",
     "output_type": "stream",
     "text": [
      "\r",
      " 20%|█████████████████████████████████████████████████████████▏                                                                                                                                                                                                                                    | 10/50 [00:56<03:45,  5.63s/it]"
     ]
    },
    {
     "name": "stdout",
     "output_type": "stream",
     "text": [
      "epoch:10, train accu:0.8905, train loss:0.36\n"
     ]
    },
    {
     "name": "stderr",
     "output_type": "stream",
     "text": [
      "\r",
      " 22%|██████████████████████████████████████████████████████████████▉                                                                                                                                                                                                                               | 11/50 [01:01<03:37,  5.59s/it]"
     ]
    },
    {
     "name": "stdout",
     "output_type": "stream",
     "text": [
      "epoch:11, train accu:0.9442, train loss:0.19\n"
     ]
    },
    {
     "name": "stderr",
     "output_type": "stream",
     "text": [
      "\r",
      " 24%|████████████████████████████████████████████████████████████████████▋                                                                                                                                                                                                                         | 12/50 [01:07<03:31,  5.56s/it]"
     ]
    },
    {
     "name": "stdout",
     "output_type": "stream",
     "text": [
      "epoch:12, train accu:0.9566, train loss:0.13\n"
     ]
    },
    {
     "name": "stderr",
     "output_type": "stream",
     "text": [
      "\r",
      " 26%|██████████████████████████████████████████████████████████████████████████▎                                                                                                                                                                                                                   | 13/50 [01:12<03:24,  5.53s/it]"
     ]
    },
    {
     "name": "stdout",
     "output_type": "stream",
     "text": [
      "epoch:13, train accu:0.9463, train loss:0.17\n"
     ]
    },
    {
     "name": "stderr",
     "output_type": "stream",
     "text": [
      "\r",
      " 28%|████████████████████████████████████████████████████████████████████████████████                                                                                                                                                                                                              | 14/50 [01:18<03:18,  5.53s/it]"
     ]
    },
    {
     "name": "stdout",
     "output_type": "stream",
     "text": [
      "epoch:14, train accu:0.9545, train loss:0.15\n"
     ]
    },
    {
     "name": "stderr",
     "output_type": "stream",
     "text": [
      "\r",
      " 30%|█████████████████████████████████████████████████████████████████████████████████████▊                                                                                                                                                                                                        | 15/50 [01:23<03:14,  5.55s/it]"
     ]
    },
    {
     "name": "stdout",
     "output_type": "stream",
     "text": [
      "epoch:15, train accu:0.9525, train loss:0.18\n"
     ]
    },
    {
     "name": "stderr",
     "output_type": "stream",
     "text": [
      "\r",
      " 32%|███████████████████████████████████████████████████████████████████████████████████████████▌                                                                                                                                                                                                  | 16/50 [01:29<03:08,  5.55s/it]"
     ]
    },
    {
     "name": "stdout",
     "output_type": "stream",
     "text": [
      "epoch:16, train accu:0.9194, train loss:0.26\n"
     ]
    },
    {
     "name": "stderr",
     "output_type": "stream",
     "text": [
      "\r",
      " 34%|█████████████████████████████████████████████████████████████████████████████████████████████████▏                                                                                                                                                                                            | 17/50 [01:35<03:12,  5.83s/it]"
     ]
    },
    {
     "name": "stdout",
     "output_type": "stream",
     "text": [
      "epoch:17, train accu:0.9442, train loss:0.22\n"
     ]
    },
    {
     "name": "stderr",
     "output_type": "stream",
     "text": [
      "\r",
      " 36%|██████████████████████████████████████████████████████████████████████████████████████████████████████▉                                                                                                                                                                                       | 18/50 [01:41<03:02,  5.69s/it]"
     ]
    },
    {
     "name": "stdout",
     "output_type": "stream",
     "text": [
      "epoch:18, train accu:0.9525, train loss:0.15\n"
     ]
    },
    {
     "name": "stderr",
     "output_type": "stream",
     "text": [
      "\r",
      " 38%|████████████████████████████████████████████████████████████████████████████████████████████████████████████▋                                                                                                                                                                                 | 19/50 [01:46<02:56,  5.68s/it]"
     ]
    },
    {
     "name": "stdout",
     "output_type": "stream",
     "text": [
      "epoch:19, train accu:0.9793, train loss:0.08\n"
     ]
    },
    {
     "name": "stderr",
     "output_type": "stream",
     "text": [
      "\r",
      " 40%|██████████████████████████████████████████████████████████████████████████████████████████████████████████████████▍                                                                                                                                                                           | 20/50 [01:52<02:49,  5.64s/it]"
     ]
    },
    {
     "name": "stdout",
     "output_type": "stream",
     "text": [
      "epoch:20, train accu:0.9876, train loss:0.04\n"
     ]
    },
    {
     "name": "stderr",
     "output_type": "stream",
     "text": [
      "\r",
      " 42%|████████████████████████████████████████████████████████████████████████████████████████████████████████████████████████                                                                                                                                                                      | 21/50 [01:57<02:42,  5.61s/it]"
     ]
    },
    {
     "name": "stdout",
     "output_type": "stream",
     "text": [
      "epoch:21, train accu:0.9876, train loss:0.04\n"
     ]
    },
    {
     "name": "stderr",
     "output_type": "stream",
     "text": [
      "\r",
      " 44%|█████████████████████████████████████████████████████████████████████████████████████████████████████████████████████████████▊                                                                                                                                                                | 22/50 [02:03<02:35,  5.57s/it]"
     ]
    },
    {
     "name": "stdout",
     "output_type": "stream",
     "text": [
      "epoch:22, train accu:0.9855, train loss:0.06\n"
     ]
    },
    {
     "name": "stderr",
     "output_type": "stream",
     "text": [
      "\r",
      " 46%|███████████████████████████████████████████████████████████████████████████████████████████████████████████████████████████████████▌                                                                                                                                                          | 23/50 [02:08<02:30,  5.58s/it]"
     ]
    },
    {
     "name": "stdout",
     "output_type": "stream",
     "text": [
      "epoch:23, train accu:0.9814, train loss:0.07\n"
     ]
    },
    {
     "name": "stderr",
     "output_type": "stream",
     "text": [
      "\r",
      " 48%|█████████████████████████████████████████████████████████████████████████████████████████████████████████████████████████████████████████▎                                                                                                                                                    | 24/50 [02:14<02:25,  5.59s/it]"
     ]
    },
    {
     "name": "stdout",
     "output_type": "stream",
     "text": [
      "epoch:24, train accu:0.9793, train loss:0.07\n"
     ]
    },
    {
     "name": "stderr",
     "output_type": "stream",
     "text": [
      "\r",
      " 50%|███████████████████████████████████████████████████████████████████████████████████████████████████████████████████████████████████████████████                                                                                                                                               | 25/50 [02:20<02:20,  5.61s/it]"
     ]
    },
    {
     "name": "stdout",
     "output_type": "stream",
     "text": [
      "epoch:25, train accu:0.9814, train loss:0.10\n"
     ]
    },
    {
     "name": "stderr",
     "output_type": "stream",
     "text": [
      "\r",
      " 52%|████████████████████████████████████████████████████████████████████████████████████████████████████████████████████████████████████████████████████▋                                                                                                                                         | 26/50 [02:25<02:13,  5.58s/it]"
     ]
    },
    {
     "name": "stdout",
     "output_type": "stream",
     "text": [
      "epoch:26, train accu:0.9525, train loss:0.17\n"
     ]
    },
    {
     "name": "stderr",
     "output_type": "stream",
     "text": [
      "\r",
      " 54%|██████████████████████████████████████████████████████████████████████████████████████████████████████████████████████████████████████████████████████████▍                                                                                                                                   | 27/50 [02:31<02:08,  5.57s/it]"
     ]
    },
    {
     "name": "stdout",
     "output_type": "stream",
     "text": [
      "epoch:27, train accu:0.9483, train loss:0.16\n"
     ]
    },
    {
     "name": "stderr",
     "output_type": "stream",
     "text": [
      "\r",
      " 56%|████████████████████████████████████████████████████████████████████████████████████████████████████████████████████████████████████████████████████████████████▏                                                                                                                             | 28/50 [02:37<02:08,  5.84s/it]"
     ]
    },
    {
     "name": "stdout",
     "output_type": "stream",
     "text": [
      "epoch:28, train accu:0.9091, train loss:0.29\n"
     ]
    },
    {
     "name": "stderr",
     "output_type": "stream",
     "text": [
      "\r",
      " 58%|█████████████████████████████████████████████████████████████████████████████████████████████████████████████████████████████████████████████████████████████████████▉                                                                                                                        | 29/50 [02:43<02:01,  5.77s/it]"
     ]
    },
    {
     "name": "stdout",
     "output_type": "stream",
     "text": [
      "epoch:29, train accu:0.9277, train loss:0.24\n"
     ]
    },
    {
     "name": "stderr",
     "output_type": "stream",
     "text": [
      "\r",
      " 60%|███████████████████████████████████████████████████████████████████████████████████████████████████████████████████████████████████████████████████████████████████████████▌                                                                                                                  | 30/50 [02:48<01:53,  5.69s/it]"
     ]
    },
    {
     "name": "stdout",
     "output_type": "stream",
     "text": [
      "epoch:30, train accu:0.9752, train loss:0.09\n"
     ]
    },
    {
     "name": "stderr",
     "output_type": "stream",
     "text": [
      "\r",
      " 62%|█████████████████████████████████████████████████████████████████████████████████████████████████████████████████████████████████████████████████████████████████████████████████▎                                                                                                            | 31/50 [02:54<01:46,  5.60s/it]"
     ]
    },
    {
     "name": "stdout",
     "output_type": "stream",
     "text": [
      "epoch:31, train accu:0.9876, train loss:0.08\n"
     ]
    },
    {
     "name": "stderr",
     "output_type": "stream",
     "text": [
      "\r",
      " 64%|███████████████████████████████████████████████████████████████████████████████████████████████████████████████████████████████████████████████████████████████████████████████████████                                                                                                       | 32/50 [02:59<01:40,  5.59s/it]"
     ]
    },
    {
     "name": "stdout",
     "output_type": "stream",
     "text": [
      "epoch:32, train accu:0.9855, train loss:0.04\n"
     ]
    },
    {
     "name": "stderr",
     "output_type": "stream",
     "text": [
      "\r",
      " 66%|████████████████████████████████████████████████████████████████████████████████████████████████████████████████████████████████████████████████████████████████████████████████████████████▊                                                                                                 | 33/50 [03:05<01:34,  5.57s/it]"
     ]
    },
    {
     "name": "stdout",
     "output_type": "stream",
     "text": [
      "epoch:33, train accu:0.9979, train loss:0.02\n"
     ]
    },
    {
     "name": "stderr",
     "output_type": "stream",
     "text": [
      "\r",
      " 68%|██████████████████████████████████████████████████████████████████████████████████████████████████████████████████████████████████████████████████████████████████████████████████████████████████▍                                                                                           | 34/50 [03:10<01:28,  5.54s/it]"
     ]
    },
    {
     "name": "stdout",
     "output_type": "stream",
     "text": [
      "epoch:34, train accu:0.9979, train loss:0.01\n"
     ]
    },
    {
     "name": "stderr",
     "output_type": "stream",
     "text": [
      "\r",
      " 70%|████████████████████████████████████████████████████████████████████████████████████████████████████████████████████████████████████████████████████████████████████████████████████████████████████████▏                                                                                     | 35/50 [03:16<01:22,  5.48s/it]"
     ]
    },
    {
     "name": "stdout",
     "output_type": "stream",
     "text": [
      "epoch:35, train accu:0.9814, train loss:0.07\n"
     ]
    },
    {
     "name": "stderr",
     "output_type": "stream",
     "text": [
      "\r",
      " 72%|█████████████████████████████████████████████████████████████████████████████████████████████████████████████████████████████████████████████████████████████████████████████████████████████████████████████▉                                                                                | 36/50 [03:21<01:16,  5.47s/it]"
     ]
    },
    {
     "name": "stdout",
     "output_type": "stream",
     "text": [
      "epoch:36, train accu:0.9463, train loss:0.18\n"
     ]
    },
    {
     "name": "stderr",
     "output_type": "stream",
     "text": [
      "\r",
      " 74%|███████████████████████████████████████████████████████████████████████████████████████████████████████████████████████████████████████████████████████████████████████████████████████████████████████████████████▋                                                                          | 37/50 [03:27<01:11,  5.52s/it]"
     ]
    },
    {
     "name": "stdout",
     "output_type": "stream",
     "text": [
      "epoch:37, train accu:0.9876, train loss:0.06\n"
     ]
    },
    {
     "name": "stderr",
     "output_type": "stream",
     "text": [
      "\r",
      " 76%|█████████████████████████████████████████████████████████████████████████████████████████████████████████████████████████████████████████████████████████████████████████████████████████████████████████████████████████▎                                                                    | 38/50 [03:33<01:07,  5.60s/it]"
     ]
    },
    {
     "name": "stdout",
     "output_type": "stream",
     "text": [
      "epoch:38, train accu:0.9835, train loss:0.05\n"
     ]
    },
    {
     "name": "stderr",
     "output_type": "stream",
     "text": [
      "\r",
      " 78%|███████████████████████████████████████████████████████████████████████████████████████████████████████████████████████████████████████████████████████████████████████████████████████████████████████████████████████████████                                                               | 39/50 [03:39<01:03,  5.76s/it]"
     ]
    },
    {
     "name": "stdout",
     "output_type": "stream",
     "text": [
      "epoch:39, train accu:0.9897, train loss:0.05\n"
     ]
    },
    {
     "name": "stderr",
     "output_type": "stream",
     "text": [
      "\r",
      " 80%|████████████████████████████████████████████████████████████████████████████████████████████████████████████████████████████████████████████████████████████████████████████████████████████████████████████████████████████████████▊                                                         | 40/50 [03:44<00:57,  5.73s/it]"
     ]
    },
    {
     "name": "stdout",
     "output_type": "stream",
     "text": [
      "epoch:40, train accu:0.9938, train loss:0.03\n"
     ]
    },
    {
     "name": "stderr",
     "output_type": "stream",
     "text": [
      "\r",
      " 82%|██████████████████████████████████████████████████████████████████████████████████████████████████████████████████████████████████████████████████████████████████████████████████████████████████████████████████████████████████████████▌                                                   | 41/50 [03:50<00:50,  5.62s/it]"
     ]
    },
    {
     "name": "stdout",
     "output_type": "stream",
     "text": [
      "epoch:41, train accu:0.9979, train loss:0.01\n"
     ]
    },
    {
     "name": "stderr",
     "output_type": "stream",
     "text": [
      "\r",
      " 84%|████████████████████████████████████████████████████████████████████████████████████████████████████████████████████████████████████████████████████████████████████████████████████████████████████████████████████████████████████████████████▏                                             | 42/50 [03:55<00:44,  5.59s/it]"
     ]
    },
    {
     "name": "stdout",
     "output_type": "stream",
     "text": [
      "epoch:42, train accu:0.9979, train loss:0.01\n"
     ]
    },
    {
     "name": "stderr",
     "output_type": "stream",
     "text": [
      "\r",
      " 86%|█████████████████████████████████████████████████████████████████████████████████████████████████████████████████████████████████████████████████████████████████████████████████████████████████████████████████████████████████████████████████████▉                                        | 43/50 [04:01<00:38,  5.55s/it]"
     ]
    },
    {
     "name": "stdout",
     "output_type": "stream",
     "text": [
      "epoch:43, train accu:0.9979, train loss:0.01\n"
     ]
    },
    {
     "name": "stderr",
     "output_type": "stream",
     "text": [
      "\r",
      " 88%|███████████████████████████████████████████████████████████████████████████████████████████████████████████████████████████████████████████████████████████████████████████████████████████████████████████████████████████████████████████████████████████▋                                  | 44/50 [04:06<00:33,  5.53s/it]"
     ]
    },
    {
     "name": "stdout",
     "output_type": "stream",
     "text": [
      "epoch:44, train accu:0.9979, train loss:0.01\n"
     ]
    },
    {
     "name": "stderr",
     "output_type": "stream",
     "text": [
      "\r",
      " 90%|█████████████████████████████████████████████████████████████████████████████████████████████████████████████████████████████████████████████████████████████████████████████████████████████████████████████████████████████████████████████████████████████████▍                            | 45/50 [04:12<00:27,  5.51s/it]"
     ]
    },
    {
     "name": "stdout",
     "output_type": "stream",
     "text": [
      "epoch:45, train accu:0.9979, train loss:0.01\n"
     ]
    },
    {
     "name": "stderr",
     "output_type": "stream",
     "text": [
      "\r",
      " 92%|███████████████████████████████████████████████████████████████████████████████████████████████████████████████████████████████████████████████████████████████████████████████████████████████████████████████████████████████████████████████████████████████████████                       | 46/50 [04:17<00:21,  5.50s/it]"
     ]
    },
    {
     "name": "stdout",
     "output_type": "stream",
     "text": [
      "epoch:46, train accu:0.9979, train loss:0.01\n"
     ]
    },
    {
     "name": "stderr",
     "output_type": "stream",
     "text": [
      "\r",
      " 94%|████████████████████████████████████████████████████████████████████████████████████████████████████████████████████████████████████████████████████████████████████████████████████████████████████████████████████████████████████████████████████████████████████████████▊                 | 47/50 [04:23<00:16,  5.52s/it]"
     ]
    },
    {
     "name": "stdout",
     "output_type": "stream",
     "text": [
      "epoch:47, train accu:0.9979, train loss:0.01\n"
     ]
    },
    {
     "name": "stderr",
     "output_type": "stream",
     "text": [
      "\r",
      " 96%|██████████████████████████████████████████████████████████████████████████████████████████████████████████████████████████████████████████████████████████████████████████████████████████████████████████████████████████████████████████████████████████████████████████████████▌           | 48/50 [04:28<00:11,  5.56s/it]"
     ]
    },
    {
     "name": "stdout",
     "output_type": "stream",
     "text": [
      "epoch:48, train accu:0.9979, train loss:0.01\n"
     ]
    },
    {
     "name": "stderr",
     "output_type": "stream",
     "text": [
      "\r",
      " 98%|████████████████████████████████████████████████████████████████████████████████████████████████████████████████████████████████████████████████████████████████████████████████████████████████████████████████████████████████████████████████████████████████████████████████████████▎     | 49/50 [04:35<00:05,  5.78s/it]"
     ]
    },
    {
     "name": "stdout",
     "output_type": "stream",
     "text": [
      "epoch:49, train accu:0.9979, train loss:0.02\n"
     ]
    },
    {
     "name": "stderr",
     "output_type": "stream",
     "text": [
      "100%|██████████████████████████████████████████████████████████████████████████████████████████████████████████████████████████████████████████████████████████████████████████████████████████████████████████████████████████████████████████████████████████████████████████████████████████████| 50/50 [04:40<00:00,  5.62s/it]"
     ]
    },
    {
     "name": "stdout",
     "output_type": "stream",
     "text": [
      "epoch:50, train accu:0.9959, train loss:0.01\n"
     ]
    },
    {
     "name": "stderr",
     "output_type": "stream",
     "text": [
      "\n"
     ]
    }
   ],
   "source": [
    "from tqdm import tqdm\n",
    "from torchsummary import summary\n",
    "import torch.optim as optim\n",
    "\n",
    "model = ICASSP3CNN(768)\n",
    "model = model.to(device)\n",
    "criterion = nn.CrossEntropyLoss()\n",
    "optimizer = optim.Adam(model.parameters(), lr=0.001)\n",
    "\n",
    "epochs = 50\n",
    "train_losses = []\n",
    "train_accuracies = []\n",
    "valid_losses = []\n",
    "valid_accuracies = []\n",
    "\n",
    "for epoch in tqdm(range(epochs)):\n",
    "    train_loss = 0\n",
    "    acc_cnt = 0\n",
    "    err_cnt = 0\n",
    "    batch_cnt = 0\n",
    "    model.train()\n",
    "    for batch, (x, length, y) in enumerate(train_dataloader):\n",
    "        x = x.to(device)\n",
    "        y = y.to(device)\n",
    "        optimizer.zero_grad()\n",
    "        logits = model(x, length)\n",
    "        loss = criterion(logits, y)\n",
    "        loss.backward()\n",
    "        optimizer.step()\n",
    "        train_loss += loss.cpu().item()\n",
    "\n",
    "        #model outputs\n",
    "        out_val, out_indices = torch.max(logits, dim=1)\n",
    "        tar_indices = y\n",
    "\n",
    "        for i in range(len(out_indices)):\n",
    "            if out_indices[i] == tar_indices[i]:\n",
    "                acc_cnt += 1\n",
    "            else:\n",
    "                err_cnt += 1\n",
    "        batch_cnt += 1\n",
    "    \n",
    "    train_loss = train_loss/batch_cnt\n",
    "    train_accuracy = acc_cnt/(acc_cnt+err_cnt)\n",
    "    train_accuracies.append(train_accuracy)\n",
    "    train_losses.append(train_loss)\n",
    "    \n",
    "    print(f\"epoch:{epoch+1}, train accu:{train_accuracy:.4f},\", f\"train loss:{train_loss:.2f}\")"
   ]
  },
  {
   "cell_type": "markdown",
   "id": "66e4ae73",
   "metadata": {},
   "source": [
    "# Model Test"
   ]
  },
  {
   "cell_type": "code",
   "execution_count": 78,
   "id": "257a8981",
   "metadata": {},
   "outputs": [
    {
     "name": "stdout",
     "output_type": "stream",
     "text": [
      "test accuracy: 0.8166666666666667\n"
     ]
    }
   ],
   "source": [
    "test_loss = 0\n",
    "acc_cnt = 0\n",
    "err_cnt = 0\n",
    "batch_cnt = 0\n",
    "model.eval()\n",
    "\n",
    "for x, lengths, y in test_dataloader:\n",
    "\n",
    "    x = x.to(device)\n",
    "    y = y.to(device)\n",
    "\n",
    "    logits = model(x, lengths)\n",
    "    loss = criterion(logits, y)\n",
    "    test_loss += loss.cpu().item()\n",
    "\n",
    "    out_val, out_indices = torch.max(logits, dim=1)\n",
    "    tar_indices = y\n",
    "\n",
    "    for i in range(len(out_indices)):\n",
    "        if out_indices[i] == tar_indices[i]:\n",
    "            acc_cnt += 1\n",
    "        else:\n",
    "            err_cnt += 1\n",
    "    batch_cnt += 1\n",
    "\n",
    "test_loss = test_loss/batch_cnt\n",
    "test_accuracy = acc_cnt/(acc_cnt+err_cnt)\n",
    "print(f'test accuracy: {test_accuracy}')"
   ]
  },
  {
   "cell_type": "code",
   "execution_count": 79,
   "id": "f7ceae56",
   "metadata": {},
   "outputs": [
    {
     "name": "stdout",
     "output_type": "stream",
     "text": [
      "aggr.weight tensor([[[-0.1835],\n",
      "         [-0.2055],\n",
      "         [ 0.2876],\n",
      "         [ 0.2081],\n",
      "         [-0.2110],\n",
      "         [ 0.1997],\n",
      "         [ 0.1125],\n",
      "         [-0.0916],\n",
      "         [ 0.2042],\n",
      "         [-0.1924],\n",
      "         [ 0.0703],\n",
      "         [ 0.0231]]], device='cuda:0')\n",
      "aggr.bias tensor([0.1112], device='cuda:0')\n",
      "embed.weight tensor([[ 0.0191,  0.0402, -0.0123,  ..., -0.0115, -0.0002, -0.0255],\n",
      "        [-0.0016,  0.0003,  0.0347,  ..., -0.0235,  0.0418,  0.0004],\n",
      "        [ 0.0134,  0.0024, -0.0140,  ..., -0.0100, -0.0289, -0.0208],\n",
      "        ...,\n",
      "        [ 0.0054,  0.0339, -0.0689,  ..., -0.0012, -0.0655, -0.0624],\n",
      "        [ 0.0038,  0.0184, -0.0049,  ...,  0.0820,  0.0478, -0.0516],\n",
      "        [-0.0163, -0.0074,  0.0666,  ...,  0.0598,  0.0736,  0.0531]],\n",
      "       device='cuda:0')\n",
      "embed.bias tensor([ 4.0138e-03,  2.2923e-02,  3.4718e-02,  1.4097e-02,  3.4143e-02,\n",
      "        -1.0701e-02,  4.5405e-02,  2.2495e-02,  2.8483e-02,  2.4252e-02,\n",
      "        -2.2845e-03,  1.2186e-02, -1.9269e-02,  1.7037e-02, -8.8765e-05,\n",
      "         2.4903e-02, -6.7920e-03,  2.0638e-02, -1.5235e-02,  4.7392e-02,\n",
      "        -1.5858e-02,  1.3998e-02, -8.0327e-03, -8.7812e-03, -3.7590e-02,\n",
      "         3.5068e-02, -1.2071e-02, -9.5274e-03, -5.1567e-03, -9.9839e-03,\n",
      "         4.7028e-02, -7.0918e-03,  1.4971e-02,  3.1886e-02,  2.9202e-02,\n",
      "         1.3196e-02, -8.5968e-03, -2.5549e-03, -2.2247e-02, -9.1023e-03,\n",
      "        -3.8735e-02, -5.8463e-02, -1.5927e-02, -2.8214e-02, -2.8394e-03,\n",
      "        -7.2588e-03, -5.1401e-02,  6.0253e-03,  2.0161e-02, -3.7184e-02,\n",
      "        -1.8895e-02, -2.7926e-03,  2.0968e-02, -3.3501e-02,  1.6178e-02,\n",
      "         2.1269e-02, -5.3511e-03, -1.4398e-02,  2.7962e-02, -2.1171e-02,\n",
      "        -3.4705e-02, -3.4378e-02,  4.6341e-02, -3.4202e-02,  2.6277e-02,\n",
      "         1.0273e-03,  3.1510e-02,  3.7781e-02, -5.4607e-02, -9.8017e-03,\n",
      "        -1.4540e-02,  3.4232e-02, -1.7579e-02,  2.1391e-02,  8.4135e-04,\n",
      "        -2.0228e-02, -2.1300e-02, -9.1443e-04, -3.1558e-02,  3.4529e-02,\n",
      "        -3.2107e-02, -2.5510e-02,  2.1686e-02, -1.6661e-02, -3.5448e-02,\n",
      "         1.5043e-02,  2.8671e-02,  4.8173e-02, -3.7262e-02, -3.0505e-02,\n",
      "         3.1407e-02, -2.4788e-02,  3.3732e-02, -1.9909e-02,  1.5240e-02,\n",
      "         1.3250e-02,  1.5838e-02, -3.8382e-02, -1.1772e-02,  4.4949e-02,\n",
      "         3.4191e-02,  3.4355e-02,  4.5786e-02,  2.0930e-03, -3.2938e-02,\n",
      "        -5.9501e-03, -4.0630e-02,  3.3139e-02, -1.1935e-02,  2.2964e-02,\n",
      "        -3.1149e-04,  5.5596e-03, -1.7360e-02, -3.5662e-02, -5.1069e-02,\n",
      "         1.0388e-02,  1.5529e-02, -1.9132e-02, -5.8900e-02,  3.3681e-02,\n",
      "        -2.0829e-03, -7.6922e-03, -3.7153e-03,  3.1395e-02, -4.6513e-02,\n",
      "         2.2154e-02,  7.0765e-02,  1.0597e-02], device='cuda:0')\n",
      "cnn.weight tensor([[[-0.0432, -0.0617, -0.0619],\n",
      "         [-0.0170, -0.0473, -0.0106],\n",
      "         [ 0.0174, -0.0519, -0.0063],\n",
      "         ...,\n",
      "         [-0.0136, -0.0322, -0.0500],\n",
      "         [-0.0227, -0.0384, -0.0249],\n",
      "         [ 0.0018, -0.0067,  0.0356]],\n",
      "\n",
      "        [[ 0.0323,  0.0325, -0.0091],\n",
      "         [ 0.0232,  0.0375,  0.0065],\n",
      "         [ 0.0398,  0.0005,  0.0217],\n",
      "         ...,\n",
      "         [-0.0356,  0.0499,  0.0133],\n",
      "         [-0.0116, -0.0280, -0.0038],\n",
      "         [ 0.0511,  0.0348, -0.0438]],\n",
      "\n",
      "        [[-0.0132, -0.0325, -0.0280],\n",
      "         [-0.0445,  0.0344,  0.0103],\n",
      "         [-0.0287, -0.0746, -0.0604],\n",
      "         ...,\n",
      "         [-0.0580, -0.0116, -0.0178],\n",
      "         [-0.0539,  0.0033,  0.0087],\n",
      "         [ 0.0202,  0.0016,  0.0153]],\n",
      "\n",
      "        ...,\n",
      "\n",
      "        [[ 0.0302,  0.0307,  0.0383],\n",
      "         [ 0.0629, -0.0020, -0.0087],\n",
      "         [ 0.0527, -0.0103, -0.0090],\n",
      "         ...,\n",
      "         [-0.0183,  0.0684,  0.0304],\n",
      "         [ 0.0442, -0.0062,  0.0618],\n",
      "         [ 0.0321,  0.0042, -0.0245]],\n",
      "\n",
      "        [[ 0.0179, -0.0313,  0.0384],\n",
      "         [-0.0257,  0.0303, -0.0096],\n",
      "         [-0.0179, -0.0392, -0.0439],\n",
      "         ...,\n",
      "         [-0.0442, -0.0702, -0.0282],\n",
      "         [-0.0528, -0.0592, -0.0804],\n",
      "         [ 0.0101, -0.0085,  0.0263]],\n",
      "\n",
      "        [[ 0.0387, -0.0051, -0.0126],\n",
      "         [-0.0212,  0.0061,  0.0010],\n",
      "         [-0.0050,  0.0644,  0.0412],\n",
      "         ...,\n",
      "         [-0.0450,  0.0569, -0.0327],\n",
      "         [ 0.0024, -0.0111,  0.0521],\n",
      "         [ 0.0256,  0.0075,  0.0291]]], device='cuda:0')\n",
      "cnn.bias tensor([ 0.0503, -0.0049,  0.0413,  0.0048, -0.0089, -0.0018, -0.0269, -0.0349,\n",
      "         0.0484,  0.0361, -0.0184,  0.0329, -0.0312,  0.0142,  0.0054, -0.0081,\n",
      "         0.0247,  0.0385, -0.0497, -0.0279,  0.0542,  0.0107,  0.0266, -0.0513,\n",
      "         0.0245, -0.0466, -0.0004,  0.0370,  0.0187,  0.0391, -0.0219, -0.0059,\n",
      "        -0.0492, -0.0048,  0.0029,  0.0134, -0.0362,  0.0146,  0.0039,  0.0382,\n",
      "        -0.0076, -0.0084, -0.0284,  0.0233, -0.0053, -0.0411, -0.0530, -0.0095,\n",
      "         0.0357, -0.0647,  0.0187,  0.0587,  0.0044,  0.0408,  0.0026,  0.0099,\n",
      "         0.0348, -0.0131,  0.0194,  0.0364,  0.0245,  0.0019,  0.0294,  0.0252,\n",
      "         0.0421,  0.0239, -0.0350,  0.0105,  0.0396, -0.0351, -0.0317,  0.0479,\n",
      "        -0.0059,  0.0205,  0.0192, -0.0011,  0.0316,  0.0358,  0.0054,  0.0117,\n",
      "         0.0016,  0.0207,  0.0084,  0.0067, -0.0121, -0.0417,  0.0068, -0.0121,\n",
      "         0.0036,  0.0039, -0.0011, -0.0064, -0.0180,  0.0098, -0.0259,  0.0146,\n",
      "        -0.0356, -0.0206,  0.0325,  0.0252, -0.0457,  0.0614, -0.0197, -0.0182,\n",
      "        -0.0069, -0.0425, -0.0417, -0.0289, -0.0233,  0.0259, -0.0014,  0.0285,\n",
      "         0.0570, -0.0435, -0.0586, -0.0215,  0.0542,  0.0047, -0.0201,  0.0042,\n",
      "         0.0390,  0.0434, -0.0060,  0.0203,  0.0311,  0.0026,  0.0132,  0.0199],\n",
      "       device='cuda:0')\n",
      "cnn2.weight tensor([[[ 0.0309, -0.0085, -0.0133,  0.0169,  0.0086],\n",
      "         [-0.0338, -0.0088, -0.0063, -0.0349,  0.0172],\n",
      "         [-0.0088,  0.0292, -0.0286, -0.0386, -0.0488],\n",
      "         ...,\n",
      "         [ 0.0567, -0.0012,  0.0044,  0.0156,  0.0199],\n",
      "         [-0.0441, -0.0314, -0.0445,  0.0036, -0.0378],\n",
      "         [-0.0481, -0.0064, -0.0521, -0.0125, -0.0005]],\n",
      "\n",
      "        [[-0.0404, -0.0071, -0.0589, -0.0077, -0.0198],\n",
      "         [-0.0329, -0.0538,  0.0063, -0.0483, -0.0206],\n",
      "         [ 0.0376, -0.0279, -0.0668,  0.0023, -0.0143],\n",
      "         ...,\n",
      "         [ 0.0261,  0.0430,  0.0058, -0.0439,  0.0025],\n",
      "         [-0.0269,  0.0085,  0.0063, -0.0410, -0.0261],\n",
      "         [-0.0425, -0.0135, -0.0282,  0.0317,  0.0223]],\n",
      "\n",
      "        [[-0.0113, -0.0227, -0.0059, -0.0355,  0.0201],\n",
      "         [-0.0105, -0.0260,  0.0240,  0.0132, -0.0033],\n",
      "         [ 0.0199,  0.0011, -0.0628,  0.0062,  0.0148],\n",
      "         ...,\n",
      "         [ 0.0278,  0.0298, -0.0158,  0.0395,  0.0053],\n",
      "         [ 0.0206,  0.0057,  0.0326, -0.0015,  0.0276],\n",
      "         [ 0.0120, -0.0513, -0.0142,  0.0050, -0.0078]],\n",
      "\n",
      "        ...,\n",
      "\n",
      "        [[-0.0091,  0.0284,  0.0348, -0.0148, -0.0375],\n",
      "         [-0.0301,  0.0100, -0.0372,  0.0006,  0.0551],\n",
      "         [-0.0033,  0.0155,  0.0176, -0.0439, -0.0443],\n",
      "         ...,\n",
      "         [ 0.0178,  0.0269, -0.0332, -0.0368,  0.0188],\n",
      "         [ 0.0299,  0.0353,  0.0400,  0.0314, -0.0141],\n",
      "         [-0.0255,  0.0082, -0.0132,  0.0113, -0.0167]],\n",
      "\n",
      "        [[-0.0345,  0.0212,  0.0520,  0.0393, -0.0215],\n",
      "         [ 0.0622,  0.0765,  0.0829, -0.0113,  0.0428],\n",
      "         [ 0.0575,  0.0231, -0.0145, -0.0405, -0.0597],\n",
      "         ...,\n",
      "         [-0.0126,  0.0370, -0.0230, -0.0009,  0.0079],\n",
      "         [ 0.0415,  0.0324, -0.0186,  0.0409,  0.0587],\n",
      "         [-0.0047, -0.0220,  0.0405,  0.0018, -0.0152]],\n",
      "\n",
      "        [[-0.0319, -0.0457, -0.0024,  0.0229,  0.0221],\n",
      "         [-0.0395, -0.0158, -0.0421, -0.0345, -0.0252],\n",
      "         [-0.0170,  0.0399, -0.0212, -0.0388, -0.0190],\n",
      "         ...,\n",
      "         [-0.0715,  0.0029,  0.0110, -0.0396, -0.0417],\n",
      "         [-0.0329, -0.0046,  0.0068,  0.0223,  0.0250],\n",
      "         [ 0.0587,  0.0049,  0.0098,  0.0133,  0.0253]]], device='cuda:0')\n",
      "cnn2.bias tensor([-0.0243, -0.0002, -0.0216, -0.0116,  0.0004,  0.0222,  0.0210,  0.0096,\n",
      "        -0.0142, -0.0055, -0.0137,  0.0035,  0.0072,  0.0323,  0.0397,  0.0187,\n",
      "        -0.0357, -0.0053, -0.0220,  0.0202,  0.0283, -0.0127, -0.0133,  0.0048,\n",
      "         0.0473, -0.0312,  0.0059, -0.0047,  0.0442, -0.0063,  0.0112, -0.0251,\n",
      "         0.0056,  0.0241,  0.0076, -0.0148,  0.0028, -0.0129, -0.0075,  0.0397,\n",
      "         0.0324, -0.0262,  0.0188,  0.0237,  0.0355, -0.0246, -0.0252,  0.0429,\n",
      "        -0.0529, -0.0049,  0.0167,  0.0198,  0.0185,  0.0121,  0.0443,  0.0232,\n",
      "        -0.0196, -0.0432, -0.0063,  0.0087, -0.0289,  0.0232,  0.0002, -0.0397,\n",
      "        -0.0340,  0.0047, -0.0396, -0.0420, -0.0021, -0.0232, -0.0233, -0.0229,\n",
      "        -0.0023, -0.0047,  0.0194,  0.0364, -0.0234,  0.0139,  0.0101, -0.0104,\n",
      "        -0.0176,  0.0428,  0.0280,  0.0136, -0.0179, -0.0373, -0.0107,  0.0336,\n",
      "        -0.0335,  0.0098,  0.0064, -0.0288,  0.0047,  0.0064, -0.0007, -0.0333,\n",
      "         0.0422, -0.0160,  0.0120,  0.0391, -0.0280, -0.0178,  0.0083,  0.0147,\n",
      "         0.0395,  0.0298,  0.0008, -0.0275,  0.0255,  0.0233, -0.0216,  0.0247,\n",
      "        -0.0359, -0.0028,  0.0076,  0.0176,  0.0151, -0.0058,  0.0310, -0.0159,\n",
      "        -0.0247,  0.0252, -0.0270, -0.0293,  0.0163,  0.0087, -0.0099,  0.0234],\n",
      "       device='cuda:0')\n",
      "cnn3.weight tensor([[[ 0.0155,  0.0289,  0.0544,  ...,  0.0019,  0.0138, -0.0156],\n",
      "         [ 0.0715,  0.0643,  0.0587,  ...,  0.0478,  0.0170, -0.0160],\n",
      "         [ 0.0252,  0.0217,  0.0282,  ..., -0.0346, -0.0386, -0.0343],\n",
      "         ...,\n",
      "         [ 0.0494,  0.0249,  0.0006,  ...,  0.0205,  0.0167, -0.0199],\n",
      "         [ 0.0561,  0.0031,  0.0296,  ...,  0.0029,  0.0346,  0.0220],\n",
      "         [-0.0035,  0.0136, -0.0086,  ..., -0.0079, -0.0333, -0.0066]],\n",
      "\n",
      "        [[ 0.0003,  0.0201,  0.0317,  ...,  0.0048,  0.0297,  0.0334],\n",
      "         [-0.0243, -0.0329, -0.0330,  ...,  0.0032,  0.0086,  0.0618],\n",
      "         [ 0.0607,  0.0361, -0.0151,  ...,  0.0442, -0.0047,  0.0273],\n",
      "         ...,\n",
      "         [ 0.0674,  0.0465,  0.0263,  ..., -0.0292,  0.0148, -0.0135],\n",
      "         [-0.0240,  0.0347,  0.0649,  ...,  0.0171, -0.0186,  0.0467],\n",
      "         [-0.0354, -0.0075, -0.0130,  ..., -0.0378, -0.0116,  0.0266]],\n",
      "\n",
      "        [[ 0.0391,  0.0386,  0.0429,  ...,  0.0346,  0.0137,  0.0520],\n",
      "         [-0.0018, -0.0560,  0.0090,  ..., -0.0085, -0.0330,  0.0102],\n",
      "         [ 0.0142,  0.0354,  0.0665,  ...,  0.0147,  0.0006, -0.0101],\n",
      "         ...,\n",
      "         [-0.0262, -0.0047, -0.0233,  ..., -0.0355, -0.0006, -0.0070],\n",
      "         [ 0.0066, -0.0417,  0.0160,  ...,  0.0114,  0.0300,  0.0066],\n",
      "         [-0.0135,  0.0136,  0.0185,  ...,  0.0374,  0.0236,  0.0072]],\n",
      "\n",
      "        ...,\n",
      "\n",
      "        [[-0.0295, -0.0028,  0.0058,  ...,  0.0292,  0.0237, -0.0277],\n",
      "         [ 0.0150,  0.0370,  0.0671,  ...,  0.0583,  0.0343, -0.0100],\n",
      "         [-0.0037,  0.0103, -0.0115,  ..., -0.0414, -0.0084,  0.0014],\n",
      "         ...,\n",
      "         [-0.0247, -0.0312,  0.0259,  ...,  0.0579,  0.0369,  0.0007],\n",
      "         [ 0.0131,  0.0224,  0.0593,  ...,  0.0768,  0.0320,  0.0706],\n",
      "         [ 0.0481,  0.0070,  0.0346,  ..., -0.0042, -0.0317,  0.0176]],\n",
      "\n",
      "        [[-0.0252, -0.0166, -0.0056,  ..., -0.0296, -0.0206, -0.0210],\n",
      "         [ 0.0584,  0.0337,  0.0500,  ...,  0.0522,  0.0290, -0.0327],\n",
      "         [-0.0020,  0.0137, -0.0033,  ..., -0.0266, -0.0053,  0.0031],\n",
      "         ...,\n",
      "         [-0.0425, -0.0263, -0.0191,  ...,  0.0039, -0.0078,  0.0171],\n",
      "         [ 0.0341,  0.0493,  0.0312,  ...,  0.0080, -0.0343,  0.0243],\n",
      "         [ 0.0715,  0.0138, -0.0144,  ..., -0.0237,  0.0009, -0.0201]],\n",
      "\n",
      "        [[-0.0367, -0.0178, -0.0237,  ...,  0.0053,  0.0295,  0.0305],\n",
      "         [ 0.0181, -0.0270, -0.0337,  ...,  0.0069, -0.0107, -0.0441],\n",
      "         [-0.0289,  0.0034,  0.0080,  ..., -0.0257, -0.0497,  0.0101],\n",
      "         ...,\n",
      "         [-0.0295, -0.0346, -0.0188,  ..., -0.0315, -0.0119, -0.0212],\n",
      "         [ 0.0162, -0.0219, -0.0035,  ..., -0.0049, -0.0063,  0.0008],\n",
      "         [ 0.0308,  0.0456,  0.0311,  ...,  0.0186,  0.0026,  0.0069]]],\n",
      "       device='cuda:0')\n",
      "cnn3.bias tensor([-0.0122, -0.0431,  0.0072,  0.0215, -0.0033, -0.0101, -0.0144, -0.0264,\n",
      "        -0.0375,  0.0111, -0.0233, -0.0332,  0.0219,  0.0185, -0.0077, -0.0321,\n",
      "         0.0183, -0.0171,  0.0104,  0.0189,  0.0301,  0.0128, -0.0259, -0.0120,\n",
      "         0.0133,  0.0244,  0.0005,  0.0234, -0.0327, -0.0011,  0.0043, -0.0144,\n",
      "        -0.0201, -0.0038,  0.0167, -0.0379,  0.0065, -0.0092, -0.0209,  0.0155,\n",
      "        -0.0199, -0.0074,  0.0211, -0.0214, -0.0065,  0.0080, -0.0106, -0.0270,\n",
      "         0.0237,  0.0233,  0.0045,  0.0096, -0.0054,  0.0327, -0.0023,  0.0143,\n",
      "         0.0210, -0.0336,  0.0215,  0.0089, -0.0221, -0.0312, -0.0200,  0.0138,\n",
      "        -0.0404, -0.0095,  0.0183, -0.0401,  0.0043,  0.0208, -0.0080,  0.0238,\n",
      "        -0.0243, -0.0284, -0.0106, -0.0241, -0.0098,  0.0017,  0.0040, -0.0248,\n",
      "         0.0312, -0.0050, -0.0064,  0.0225,  0.0196, -0.0053,  0.0161, -0.0311,\n",
      "        -0.0068,  0.0257, -0.0204,  0.0079, -0.0027, -0.0188,  0.0033, -0.0060,\n",
      "        -0.0155, -0.0181, -0.0317, -0.0134, -0.0181, -0.0254,  0.0194,  0.0020,\n",
      "         0.0011, -0.0180, -0.0144,  0.0316, -0.0254,  0.0067, -0.0229,  0.0352,\n",
      "         0.0122, -0.0300,  0.0007, -0.0061, -0.0148,  0.0080, -0.0371,  0.0096,\n",
      "         0.0037, -0.0011,  0.0378,  0.0016,  0.0333,  0.0158,  0.0262, -0.0177],\n",
      "       device='cuda:0')\n",
      "batchnorm.weight tensor([1.0239, 1.0035, 0.9807, 1.0028, 1.0253, 1.0210, 1.0367, 0.9737, 0.9576,\n",
      "        0.9778, 0.9784, 1.0361, 0.9919, 1.0373, 1.0176, 1.0232, 0.9811, 1.0104,\n",
      "        1.0117, 0.9651, 1.0465, 1.0027, 1.0012, 0.9882, 0.9705, 1.0485, 0.9590,\n",
      "        1.0032, 1.0269, 0.9989, 0.9839, 1.0058, 0.9687, 0.9607, 0.9916, 1.0004,\n",
      "        0.9739, 0.9810, 0.9980, 0.9952, 1.0102, 1.0301, 1.0139, 0.9950, 1.0207,\n",
      "        0.9884, 1.0231, 0.9783, 1.0312, 1.0200, 1.0182, 1.0247, 1.0136, 1.0273,\n",
      "        1.0077, 1.0141, 1.0034, 1.0390, 0.9968, 0.9920, 1.0154, 1.0168, 0.9992,\n",
      "        1.0403, 1.0033, 1.0287, 1.0020, 1.0263, 0.9803, 1.0039, 0.9860, 1.0251,\n",
      "        1.0110, 1.0100, 1.0122, 1.0336, 1.0150, 0.9674, 0.9564, 1.0211, 1.0292,\n",
      "        1.0048, 0.9621, 0.9943, 1.0061, 1.0105, 1.0028, 1.0309, 0.9982, 0.9749,\n",
      "        1.0296, 1.0333, 0.9885, 1.0038, 0.9809, 0.9954, 1.0206, 0.9825, 1.0188,\n",
      "        0.9874, 0.9710, 1.0439, 1.0152, 1.0187, 1.0245, 0.9826, 0.9767, 0.9995,\n",
      "        1.0177, 0.9705, 0.9995, 1.0234, 0.9625, 0.9491, 1.0034, 0.9907, 0.9987,\n",
      "        0.9732, 0.9836, 1.0287, 1.0364, 1.0063, 0.9975, 1.0206, 1.0305, 1.0249,\n",
      "        1.0048, 0.9978, 1.0213, 1.0244, 1.0056, 1.0033, 1.0110, 1.0297, 0.9904,\n",
      "        1.0246, 1.0300, 0.9750, 1.0112, 1.0024, 1.0037, 1.0212, 1.0150, 1.0441,\n",
      "        0.9674, 0.9826, 0.9957, 1.0103, 1.0135, 1.0149, 1.0245, 1.0191, 0.9912,\n",
      "        1.0127, 0.9787, 0.9937, 1.0143, 1.0139, 0.9581, 1.0079, 1.0226, 0.9548,\n",
      "        1.0030, 0.9784, 1.0414, 1.0149, 1.0084, 1.0166, 1.0391, 0.9917, 1.0299,\n",
      "        0.9910, 0.9985, 1.0405, 1.0103, 1.0210, 0.9937, 1.0232, 0.9945, 1.0357,\n",
      "        1.0075, 0.9998, 1.0208, 1.0009, 0.9856, 1.0075, 1.0271, 0.9689, 0.9659,\n",
      "        1.0083, 0.9592, 1.0273, 1.0249, 1.0195, 0.9735, 1.0136, 1.0410, 0.9946,\n",
      "        0.9966, 1.0238, 1.0154, 1.0259, 1.0330, 1.0297, 1.0157, 1.0234, 1.0102,\n",
      "        1.0050, 1.0330, 1.0146, 1.0087, 0.9752, 1.0002, 1.0072, 1.0057, 0.9289,\n",
      "        1.0162, 1.0310, 0.9992, 0.9856, 0.9946, 1.0034, 1.0097, 1.0123, 1.0031,\n",
      "        1.0129, 1.0037, 1.0245, 1.0084, 1.0171, 0.9997, 1.0041, 1.0192, 0.9801,\n",
      "        1.0297, 0.9735, 1.0199, 1.0292, 1.0069, 1.0118, 1.0061, 1.0077, 1.0486,\n",
      "        1.0165, 0.9983, 1.0331, 1.0187, 0.9955, 1.0063, 1.0205, 0.9999, 1.0345,\n",
      "        0.9886, 1.0373, 1.0257, 1.0105, 1.0240, 0.9820, 0.9674, 0.9686, 0.9876,\n",
      "        1.0316, 1.0070, 0.9894, 1.0242, 1.0418, 1.0084, 1.0276, 1.0231, 0.9983,\n",
      "        1.0383, 1.0221, 1.0210, 0.9826, 1.0089, 0.9908, 1.0349, 1.0089, 1.0249,\n",
      "        0.9961, 1.0297, 1.0301, 1.0148, 0.9853, 1.0259, 1.0422, 0.9999, 1.0218,\n",
      "        0.9961, 1.0205, 1.0075, 1.0254, 0.9954, 0.9799, 1.0201, 0.9138, 1.0211,\n",
      "        1.0184, 1.0420, 0.9547, 1.0400, 1.0309, 0.9988, 1.0280, 1.0431, 1.0274,\n",
      "        0.9856, 1.0092, 0.9876, 1.0362, 1.0649, 0.9945, 1.0073, 1.0656, 1.0006,\n",
      "        1.0089, 1.0176, 0.9983, 0.9785, 1.0359, 1.0325, 1.0299, 0.9897, 0.9828,\n",
      "        1.0239, 1.0118, 1.0165, 1.0038, 1.0375, 1.0207, 1.0133, 1.0391, 1.0144,\n",
      "        1.0237, 1.0146, 0.9652, 1.0045, 1.0140, 1.0231, 1.0301, 0.9858, 0.9871,\n",
      "        1.0449, 1.0260, 1.0284, 1.0328, 1.0230, 1.0216, 1.0350, 1.0141, 1.0131,\n",
      "        1.0433, 0.9941, 1.0488, 0.9792, 1.0384, 1.0158, 1.0398, 0.9809, 1.0217,\n",
      "        1.0118, 1.0031, 1.0115, 1.0269, 1.0190, 0.9632, 0.9925, 1.0419, 1.0320,\n",
      "        1.0106, 1.0123, 0.9670, 1.0098, 0.9941, 0.9871, 1.0068, 1.0060, 1.0193,\n",
      "        1.0087, 1.0123, 1.0160, 1.0269, 1.0149, 1.0312], device='cuda:0')\n",
      "batchnorm.bias tensor([-1.8340e-02, -1.9798e-02, -3.4376e-02, -1.9687e-02, -2.1379e-02,\n",
      "        -2.8023e-02,  6.7133e-04, -2.4343e-02, -6.8181e-02, -3.6783e-02,\n",
      "        -3.7354e-02, -9.0965e-03, -1.6902e-02, -1.3938e-02,  4.8879e-03,\n",
      "        -4.0357e-03, -5.5779e-02, -1.5107e-02, -6.8338e-03, -5.5871e-02,\n",
      "         1.4336e-02, -3.2827e-02, -1.7643e-02, -6.1670e-02, -6.2018e-02,\n",
      "         1.8435e-02, -4.9199e-02, -5.2706e-02,  2.8793e-03,  7.4701e-04,\n",
      "        -4.6619e-02, -1.1585e-02, -3.4337e-02, -4.1889e-02, -1.2627e-02,\n",
      "        -3.8912e-02, -4.5182e-02, -5.9208e-02,  4.2975e-03, -1.7947e-02,\n",
      "        -2.3521e-02,  2.2821e-03, -6.3873e-03, -2.9109e-02,  4.1446e-03,\n",
      "        -1.1532e-02, -1.5379e-02, -5.5025e-03,  5.2131e-03, -2.3865e-02,\n",
      "        -3.9762e-02, -3.6749e-02, -3.5185e-02, -4.5936e-02, -3.7950e-02,\n",
      "        -4.8435e-03, -1.1771e-02, -2.0013e-02, -1.0711e-02, -9.6347e-03,\n",
      "         9.9580e-04, -1.0210e-02, -1.1131e-02,  1.6625e-03, -2.8907e-02,\n",
      "         1.3319e-02, -1.8665e-02, -7.7330e-03, -3.2498e-02, -2.7269e-02,\n",
      "        -2.8367e-02, -3.4005e-03, -3.4080e-02, -1.3410e-02,  9.2882e-04,\n",
      "        -9.2549e-03, -2.2248e-02, -4.5754e-02, -7.9634e-02, -1.1050e-02,\n",
      "        -1.1058e-02,  1.1752e-03, -1.6715e-02, -4.1310e-03, -2.5217e-02,\n",
      "        -5.2458e-03, -1.9076e-03, -1.8142e-02, -2.4657e-02, -1.9328e-02,\n",
      "         1.0890e-02,  7.5231e-03, -3.6752e-02, -1.9636e-02, -3.6795e-02,\n",
      "        -2.5188e-02, -3.3893e-02, -2.9414e-02,  5.2290e-03, -4.6997e-03,\n",
      "        -1.7300e-02, -2.0112e-03, -2.4326e-02,  1.8690e-03, -4.4319e-03,\n",
      "        -2.9275e-02, -5.7255e-02, -1.1230e-02, -2.9061e-03, -3.8667e-02,\n",
      "        -4.9467e-02, -2.4693e-02, -5.4697e-02, -6.7179e-02,  3.1175e-05,\n",
      "        -4.5637e-02, -2.5383e-02, -4.0534e-02, -3.9033e-02, -2.8381e-02,\n",
      "        -1.7031e-02, -3.8087e-02, -4.4734e-02, -1.0214e-02, -1.6757e-02,\n",
      "        -1.3421e-02, -7.4556e-03, -4.5869e-03,  6.5215e-03,  1.0408e-02,\n",
      "        -4.7016e-03, -5.2161e-02, -3.0185e-02, -1.5198e-02, -3.9555e-02,\n",
      "        -2.7819e-02, -3.1690e-02, -4.4742e-02, -3.6293e-02, -3.8094e-02,\n",
      "        -3.3532e-02, -5.7792e-03, -1.9800e-02, -2.1749e-02, -5.6301e-02,\n",
      "        -2.5244e-02, -1.2844e-02, -6.1859e-03, -3.6139e-03,  2.7965e-03,\n",
      "         1.8938e-02, -1.7135e-02, -2.7905e-02, -2.5891e-02, -3.1877e-02,\n",
      "        -1.9835e-02, -3.7619e-02, -2.8021e-02, -7.3043e-02, -2.1174e-02,\n",
      "        -1.9550e-02, -3.7813e-02, -1.1677e-02, -9.7682e-03, -7.4166e-03,\n",
      "        -2.1593e-02, -1.8217e-02, -1.7404e-02, -2.6781e-02, -3.2133e-02,\n",
      "        -3.8471e-03, -7.9348e-02, -9.6208e-03,  1.4481e-02, -1.1095e-02,\n",
      "        -1.0128e-02,  6.4405e-03, -1.8048e-02, -1.9860e-02, -8.8022e-03,\n",
      "        -2.9806e-02, -4.1788e-03, -2.2223e-02, -3.2660e-03, -1.2991e-02,\n",
      "        -1.7734e-02, -3.2073e-02, -5.9642e-02, -8.0433e-03, -1.4195e-02,\n",
      "        -3.2370e-02,  7.3784e-04, -2.4302e-02, -1.5799e-02, -2.9207e-02,\n",
      "         3.1317e-03,  1.6056e-02, -4.2497e-02, -2.1296e-02,  6.3525e-03,\n",
      "        -1.6223e-02, -1.2368e-02, -1.0714e-02,  2.7909e-02, -1.2567e-02,\n",
      "        -2.5048e-02, -1.1552e-02, -3.3946e-04, -1.4568e-02, -1.0221e-03,\n",
      "         4.5060e-03, -2.9600e-02, -8.5637e-03, -4.3191e-04, -1.2391e-03,\n",
      "        -5.9279e-02, -2.1442e-02,  6.7841e-03, -1.1759e-02, -5.2309e-02,\n",
      "        -3.3172e-02, -2.5145e-02, -2.2878e-02, -2.4913e-02, -3.2435e-02,\n",
      "        -1.5701e-02, -1.3020e-02, -6.7123e-03,  1.7396e-03, -1.1591e-02,\n",
      "        -5.1320e-03, -7.0983e-03, -3.1807e-02, -1.7390e-02, -1.9924e-02,\n",
      "        -2.2194e-02, -2.3312e-02, -2.0187e-02, -2.7083e-02, -2.5301e-02,\n",
      "         3.0605e-03, -3.3699e-02, -5.2537e-03, -2.1188e-02, -1.1435e-02,\n",
      "        -2.0007e-02, -3.7098e-02, -1.5080e-02, -2.6473e-02, -6.6288e-03,\n",
      "        -1.4896e-02,  1.0445e-02, -1.7562e-02, -1.9932e-02, -3.0620e-02,\n",
      "        -1.7948e-03, -3.4483e-02, -4.6805e-02, -3.7563e-02, -3.0769e-02,\n",
      "        -2.9964e-02, -3.0455e-02, -9.2613e-03, -2.1382e-02,  1.2383e-02,\n",
      "        -1.6272e-02, -2.0911e-03, -4.8203e-04, -1.0690e-02, -6.9614e-03,\n",
      "        -2.0654e-02, -2.5439e-02, -2.4438e-02, -1.2610e-02, -2.3771e-02,\n",
      "        -5.5220e-02, -2.1195e-02, -7.4254e-03, -6.4008e-03, -1.3703e-02,\n",
      "        -3.3424e-02,  1.4661e-02,  6.6973e-03, -2.1398e-02, -3.0792e-02,\n",
      "        -7.0989e-03, -3.6375e-02,  2.0228e-02, -2.5114e-02, -1.2244e-02,\n",
      "        -9.4478e-03, -3.9097e-02,  3.5527e-03, -4.4600e-02, -3.5020e-02,\n",
      "        -9.3252e-02, -1.2467e-02, -1.3274e-02, -9.4263e-03, -2.3343e-02,\n",
      "        -2.9709e-02, -3.2936e-02, -1.5370e-02, -1.7810e-02, -3.7193e-02,\n",
      "        -7.7717e-03, -2.8532e-02, -2.6897e-02, -3.8462e-02, -1.6994e-02,\n",
      "        -1.1917e-03, -1.1797e-02,  2.7805e-03,  3.7183e-02, -3.5028e-02,\n",
      "        -7.5715e-03, -3.2129e-02, -1.8690e-02, -3.4211e-02, -2.3199e-02,\n",
      "         8.4714e-03, -3.1553e-03, -6.8420e-03, -6.0355e-02, -3.1125e-02,\n",
      "         7.4953e-03, -1.9851e-02,  4.8816e-03,  2.4956e-02,  1.1804e-02,\n",
      "        -2.8740e-02, -9.7010e-03, -1.5668e-02, -2.4612e-02,  7.1731e-04,\n",
      "        -5.6318e-02, -7.8992e-03, -4.9890e-03, -1.5133e-02, -2.4491e-02,\n",
      "        -1.4681e-02, -4.9740e-02, -1.0474e-02,  1.3805e-02,  2.4944e-02,\n",
      "         4.0666e-03, -3.1858e-02, -2.1617e-03,  1.3938e-02, -1.7086e-02,\n",
      "        -2.0692e-02, -3.1306e-02, -4.5891e-02, -2.9934e-02, -1.3233e-02,\n",
      "        -2.8729e-04, -3.5884e-02, -4.2168e-03, -4.5409e-02, -1.9723e-02,\n",
      "        -1.4790e-02, -1.8240e-02, -1.1209e-02,  7.8735e-03, -3.1865e-02,\n",
      "        -4.8046e-02, -1.3099e-02,  1.7108e-02, -2.0855e-02, -1.5150e-03,\n",
      "        -9.6679e-03, -2.5796e-02, -3.1882e-02, -4.0684e-02,  3.8831e-03,\n",
      "        -4.6051e-02, -1.7092e-02, -2.1469e-02, -1.9583e-02, -2.2053e-02,\n",
      "         7.8667e-03, -2.5513e-02, -1.8748e-03,  1.7777e-02], device='cuda:0')\n",
      "lstm.weight_ih_l0 tensor([[-5.9282e-02,  2.5558e-03, -7.5450e-02,  ...,  3.8493e-02,\n",
      "         -7.4662e-02, -5.2585e-02],\n",
      "        [-7.2733e-03, -4.2342e-02, -1.3311e-02,  ...,  1.0192e-03,\n",
      "         -2.3153e-02, -1.4904e-02],\n",
      "        [-5.6439e-02, -2.0622e-02, -8.5941e-02,  ..., -8.4922e-03,\n",
      "         -3.7744e-02, -4.0236e-02],\n",
      "        ...,\n",
      "        [ 4.9517e-03, -6.6761e-03, -3.9516e-03,  ...,  8.5633e-03,\n",
      "         -3.9821e-02, -1.4941e-02],\n",
      "        [-8.8554e-02, -5.7701e-05,  3.1890e-02,  ..., -4.5896e-02,\n",
      "          4.1445e-02,  2.1761e-02],\n",
      "        [-1.6689e-02,  2.8732e-02, -9.9843e-04,  ..., -3.8601e-02,\n",
      "          1.1997e-02, -6.8203e-02]], device='cuda:0')\n",
      "lstm.weight_hh_l0 tensor([[-0.0029,  0.0086,  0.0030,  ..., -0.0116,  0.0293,  0.0289],\n",
      "        [-0.0172,  0.0072,  0.0428,  ..., -0.0128, -0.0076,  0.0222],\n",
      "        [-0.1448,  0.0296, -0.0532,  ..., -0.0084,  0.0996,  0.0843],\n",
      "        ...,\n",
      "        [-0.0616, -0.0425, -0.0879,  ...,  0.0089,  0.0666,  0.0030],\n",
      "        [-0.0166,  0.0259, -0.0411,  ...,  0.0460,  0.0746,  0.0256],\n",
      "        [ 0.0477, -0.0315, -0.0106,  ..., -0.0344,  0.0005,  0.0287]],\n",
      "       device='cuda:0')\n",
      "lstm.bias_ih_l0 tensor([-0.0535, -0.0768, -0.0668,  ...,  0.0208, -0.0504, -0.0603],\n",
      "       device='cuda:0')\n",
      "lstm.bias_hh_l0 tensor([-0.0819, -0.0756, -0.0902,  ...,  0.0224, -0.0110, -0.0108],\n",
      "       device='cuda:0')\n",
      "lstm.weight_ih_l1 tensor([[-0.0168,  0.0385,  0.0108,  ..., -0.0312,  0.0256,  0.0262],\n",
      "        [-0.0319, -0.0450, -0.0238,  ..., -0.0357,  0.0783,  0.0028],\n",
      "        [ 0.0641,  0.0040, -0.0537,  ..., -0.0038,  0.0126,  0.0309],\n",
      "        ...,\n",
      "        [ 0.0665,  0.0342, -0.0456,  ...,  0.0320,  0.0138,  0.0224],\n",
      "        [-0.0320, -0.0381, -0.0293,  ..., -0.0221,  0.0304, -0.0155],\n",
      "        [ 0.0292, -0.0369, -0.0426,  ..., -0.0599,  0.0597, -0.0451]],\n",
      "       device='cuda:0')\n",
      "lstm.weight_hh_l1 tensor([[-0.0636,  0.0265,  0.0057,  ...,  0.0540, -0.0389,  0.0136],\n",
      "        [-0.0089, -0.0545,  0.0027,  ..., -0.0168,  0.0150,  0.0192],\n",
      "        [-0.0348, -0.0457, -0.0334,  ..., -0.0329, -0.0335, -0.0186],\n",
      "        ...,\n",
      "        [-0.0708, -0.0121,  0.0044,  ..., -0.0029,  0.0325,  0.0369],\n",
      "        [-0.0002,  0.0325, -0.0395,  ..., -0.0238, -0.0161,  0.0373],\n",
      "        [-0.0072, -0.0209,  0.0504,  ...,  0.0063,  0.0569, -0.0353]],\n",
      "       device='cuda:0')\n",
      "lstm.bias_ih_l1 tensor([-0.0359,  0.0241,  0.0146,  ..., -0.0485, -0.0149, -0.0433],\n",
      "       device='cuda:0')\n",
      "lstm.bias_hh_l1 tensor([-0.0347, -0.0201,  0.0378,  ..., -0.0607, -0.0713, -0.0061],\n",
      "       device='cuda:0')\n",
      "linear.weight tensor([[-0.0242,  0.0163,  0.0523,  ...,  0.0178,  0.0343,  0.0397],\n",
      "        [ 0.0402,  0.0195,  0.0402,  ..., -0.0381, -0.0473, -0.0280],\n",
      "        [ 0.0073,  0.0430, -0.0835,  ...,  0.0357,  0.0269,  0.0213],\n",
      "        ...,\n",
      "        [-0.0445, -0.0043, -0.0233,  ..., -0.0260, -0.0225,  0.0299],\n",
      "        [-0.0206, -0.0692,  0.0574,  ...,  0.0191, -0.0336, -0.0526],\n",
      "        [-0.0430,  0.0202,  0.0800,  ..., -0.0025,  0.0701,  0.0280]],\n",
      "       device='cuda:0')\n",
      "linear.bias tensor([-0.0176,  0.0438, -0.0208,  0.0102, -0.0111, -0.0171, -0.0791],\n",
      "       device='cuda:0')\n"
     ]
    }
   ],
   "source": [
    "for name, param in model.named_parameters():\n",
    "    if param.requires_grad:\n",
    "        print(name, param.data)"
   ]
  },
  {
   "cell_type": "code",
   "execution_count": 80,
   "id": "9ecec559",
   "metadata": {},
   "outputs": [],
   "source": [
    "model_path = main_data_path + f'/models/wav2vecbase/holdout_{holdout}.pth'\n",
    "\n",
    "torch.save({'epoch':epochs,\n",
    "            'model_state_dict':model.state_dict(),\n",
    "            'optimizer_state_dict':optimizer.state_dict()},\n",
    "            model_path)"
   ]
  },
  {
   "cell_type": "code",
   "execution_count": null,
   "id": "bfc54a72",
   "metadata": {},
   "outputs": [],
   "source": []
  }
 ],
 "metadata": {
  "kernelspec": {
   "display_name": "Python 3",
   "language": "python",
   "name": "python3"
  },
  "language_info": {
   "codemirror_mode": {
    "name": "ipython",
    "version": 3
   },
   "file_extension": ".py",
   "mimetype": "text/x-python",
   "name": "python",
   "nbconvert_exporter": "python",
   "pygments_lexer": "ipython3",
   "version": "3.7.12"
  }
 },
 "nbformat": 4,
 "nbformat_minor": 5
}
