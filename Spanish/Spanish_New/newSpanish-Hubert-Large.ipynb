{
 "cells": [
  {
   "cell_type": "code",
   "execution_count": 1,
   "id": "fcff203e",
   "metadata": {},
   "outputs": [],
   "source": [
    "import re\n",
    "import os\n",
    "import pandas as pd\n",
    "import random\n",
    "from tqdm import tqdm \n",
    "\n",
    "file_paths, file_names, emotions, audios = [], [], [], []\n",
    "emotion_map = {'Neutral': 'neutral', 'Anger': 'angry', 'Happiness': 'happy', 'Sadness': 'sad', 'Fear': 'fear',\n",
    "              'Disgust': 'disgust'}\n",
    "\n",
    "main_path = '/home/rl3155/Multilingual-Speech-Emotion-Recognition-System/Spanish/Spanish_New'\n",
    "DATA_NATURAL = \"/home/rl3155/MESD_All\""
   ]
  },
  {
   "cell_type": "code",
   "execution_count": 2,
   "id": "371d6085",
   "metadata": {},
   "outputs": [
    {
     "name": "stdout",
     "output_type": "stream",
     "text": [
      "1.12.1\n",
      "0.12.1+cu113\n",
      "cuda\n"
     ]
    }
   ],
   "source": [
    "import torch\n",
    "import torchaudio\n",
    "\n",
    "print(torch.__version__)\n",
    "print(torchaudio.__version__)\n",
    "\n",
    "torch.random.manual_seed(0)\n",
    "device = torch.device(\"cuda\" if torch.cuda.is_available() else \"cpu\")\n",
    "\n",
    "print(device)"
   ]
  },
  {
   "cell_type": "code",
   "execution_count": 3,
   "id": "4675fdb9",
   "metadata": {},
   "outputs": [
    {
     "name": "stdout",
     "output_type": "stream",
     "text": [
      "<class 'torchaudio.models.wav2vec2.model.Wav2Vec2Model'>\n",
      "16000\n"
     ]
    }
   ],
   "source": [
    "bundle = torchaudio.pipelines.HUBERT_LARGE\n",
    "extractor = bundle.get_model()\n",
    "print(extractor.__class__)\n",
    "print(bundle.sample_rate)"
   ]
  },
  {
   "cell_type": "markdown",
   "id": "682ce5bd",
   "metadata": {},
   "source": [
    "### Random get 5 parts of the entries -- only run code below 1 time"
   ]
  },
  {
   "cell_type": "code",
   "execution_count": 4,
   "id": "af158f24",
   "metadata": {},
   "outputs": [],
   "source": [
    "# Define path to datasets; create a random chunked 5 parts of entries\n",
    "# entries = os.listdir(DATA_NATURAL)\n",
    "# random.shuffle(entries)\n",
    "# session = []\n",
    "# equal_parts = (len(entries)-1)//5 # for equally split the entries into 5 parts\n",
    "# count = 0\n",
    "# for i in tqdm(range(len(entries))):\n",
    "#     entry = entries[i]\n",
    "#     if \"wav\" not in entry:\n",
    "#         continue\n",
    "#     path = DATA_NATURAL + \"/\" + entry\n",
    "#     emotion = emotion_map[entry.split(\"_\")[0]]\n",
    "#     file_paths.append(path)\n",
    "#     file_names.append(entry)\n",
    "#     emotions.append(emotion)\n",
    "    \n",
    "#     # assign session to it\n",
    "#     part = (count//equal_parts)%6 + 1\n",
    "#     if part == 6:\n",
    "#         part = 5\n",
    "#     session.append(part)\n",
    "#     count += 1\n",
    "\n",
    "# file = pd.DataFrame({'path':file_paths, 'name': file_names, 'emotion': emotions, 'session': session})\n",
    "# dataframe_path = main_path + '/session_entries.csv'\n",
    "# file.to_csv(dataframe_path)"
   ]
  },
  {
   "cell_type": "markdown",
   "id": "45ea79eb",
   "metadata": {},
   "source": [
    "### Extract Features using Models"
   ]
  },
  {
   "cell_type": "code",
   "execution_count": 4,
   "id": "b89c352b",
   "metadata": {},
   "outputs": [
    {
     "data": {
      "text/html": [
       "<div>\n",
       "<style scoped>\n",
       "    .dataframe tbody tr th:only-of-type {\n",
       "        vertical-align: middle;\n",
       "    }\n",
       "\n",
       "    .dataframe tbody tr th {\n",
       "        vertical-align: top;\n",
       "    }\n",
       "\n",
       "    .dataframe thead th {\n",
       "        text-align: right;\n",
       "    }\n",
       "</style>\n",
       "<table border=\"1\" class=\"dataframe\">\n",
       "  <thead>\n",
       "    <tr style=\"text-align: right;\">\n",
       "      <th></th>\n",
       "      <th>path</th>\n",
       "      <th>name</th>\n",
       "      <th>emotion</th>\n",
       "      <th>session</th>\n",
       "    </tr>\n",
       "  </thead>\n",
       "  <tbody>\n",
       "    <tr>\n",
       "      <th>0</th>\n",
       "      <td>/home/rl3155/MESD_All/Fear_F_A_basta_ya.wav</td>\n",
       "      <td>Fear_F_A_basta_ya.wav</td>\n",
       "      <td>fear</td>\n",
       "      <td>1</td>\n",
       "    </tr>\n",
       "    <tr>\n",
       "      <th>1</th>\n",
       "      <td>/home/rl3155/MESD_All/Happiness_M_A_arriba.wav</td>\n",
       "      <td>Happiness_M_A_arriba.wav</td>\n",
       "      <td>happy</td>\n",
       "      <td>1</td>\n",
       "    </tr>\n",
       "    <tr>\n",
       "      <th>2</th>\n",
       "      <td>/home/rl3155/MESD_All/Fear_F_B_arana.wav</td>\n",
       "      <td>Fear_F_B_arana.wav</td>\n",
       "      <td>fear</td>\n",
       "      <td>1</td>\n",
       "    </tr>\n",
       "    <tr>\n",
       "      <th>3</th>\n",
       "      <td>/home/rl3155/MESD_All/Neutral_M_B_articulo.wav</td>\n",
       "      <td>Neutral_M_B_articulo.wav</td>\n",
       "      <td>neutral</td>\n",
       "      <td>1</td>\n",
       "    </tr>\n",
       "    <tr>\n",
       "      <th>4</th>\n",
       "      <td>/home/rl3155/MESD_All/Disgust_F_A_antes.wav</td>\n",
       "      <td>Disgust_F_A_antes.wav</td>\n",
       "      <td>disgust</td>\n",
       "      <td>1</td>\n",
       "    </tr>\n",
       "  </tbody>\n",
       "</table>\n",
       "</div>"
      ],
      "text/plain": [
       "                                             path                      name  \\\n",
       "0     /home/rl3155/MESD_All/Fear_F_A_basta_ya.wav     Fear_F_A_basta_ya.wav   \n",
       "1  /home/rl3155/MESD_All/Happiness_M_A_arriba.wav  Happiness_M_A_arriba.wav   \n",
       "2        /home/rl3155/MESD_All/Fear_F_B_arana.wav        Fear_F_B_arana.wav   \n",
       "3  /home/rl3155/MESD_All/Neutral_M_B_articulo.wav  Neutral_M_B_articulo.wav   \n",
       "4     /home/rl3155/MESD_All/Disgust_F_A_antes.wav     Disgust_F_A_antes.wav   \n",
       "\n",
       "   emotion  session  \n",
       "0     fear        1  \n",
       "1    happy        1  \n",
       "2     fear        1  \n",
       "3  neutral        1  \n",
       "4  disgust        1  "
      ]
     },
     "execution_count": 4,
     "metadata": {},
     "output_type": "execute_result"
    }
   ],
   "source": [
    "# Get the entries with assigned session\n",
    "\n",
    "dataframe_path = '/home/rl3155/Multilingual-Speech-Emotion-Recognition-System/Spanish/session_entries.csv'\n",
    "file = pd.read_csv(dataframe_path)[['path', 'name', 'emotion', 'session']]\n",
    "file.head()"
   ]
  },
  {
   "cell_type": "code",
   "execution_count": 5,
   "id": "9dcc58f6",
   "metadata": {},
   "outputs": [
    {
     "name": "stderr",
     "output_type": "stream",
     "text": [
      "100%|██████████████████████████████████████████████████████████████████████████████████████████████████████████████████████████████████████████████████████████████████████████████████████████████████████████| 862/862 [05:55<00:00,  2.43it/s]\n"
     ]
    }
   ],
   "source": [
    "from tqdm import tqdm\n",
    "\n",
    "for i in tqdm(range(len(file['path']))):\n",
    "    path = file['path'][i]\n",
    "    wave, sr = torchaudio.load(path)\n",
    "    if sr != bundle.sample_rate:\n",
    "        wave = torchaudio.functional.resample(wave, sr, bundle.sample_rate)\n",
    "    with torch.inference_mode():\n",
    "        feature, _ = extractor.extract_features(wave)\n",
    "    feature = [f[0] for f in feature]\n",
    "    audio = torch.stack(feature)\n",
    "    audios.append(audio)"
   ]
  },
  {
   "cell_type": "code",
   "execution_count": 6,
   "id": "75a75bd9",
   "metadata": {},
   "outputs": [],
   "source": [
    "class MyDataSet(torch.utils.data.Dataset):\n",
    "    def __init__(self, audios, labels, label_transform):\n",
    "        super(MyDataSet).__init__()\n",
    "        self.audios = audios\n",
    "        self.labels = labels\n",
    "        self.label_transform = label_transform\n",
    "        \n",
    "    def __getitem__(self, idx):\n",
    "        label = self.label_transform[self.labels[idx]]\n",
    "        audio = self.audios[idx]\n",
    "        length = audio.size(1)\n",
    "        return audio, length, label\n",
    "    \n",
    "    def __len__(self):\n",
    "        return len(self.labels)"
   ]
  },
  {
   "cell_type": "code",
   "execution_count": 7,
   "id": "141ec40a",
   "metadata": {},
   "outputs": [],
   "source": [
    "def collate_indic(data):\n",
    "    audios, lengths, labels = zip(*data)\n",
    "    max_len = max(lengths)\n",
    "    n_ftrs = audios[0].size(2)\n",
    "    n_dims = audios[0].size(0)\n",
    "    features = torch.zeros((len(audios), n_dims, max_len, n_ftrs))\n",
    "    labels = torch.tensor(labels)\n",
    "    lengths = torch.tensor(lengths)\n",
    "\n",
    "    for i in range(len(data)):\n",
    "        j, k = audios[i].size(1), audios[i].size(2)\n",
    "        features[i] = torch.cat([audios[i], torch.zeros((n_dims, max_len - j, k))], dim=1)\n",
    "\n",
    "    return features, lengths, labels"
   ]
  },
  {
   "cell_type": "code",
   "execution_count": 8,
   "id": "0738ead4",
   "metadata": {},
   "outputs": [
    {
     "data": {
      "text/plain": [
       "{'neutral': 0, 'angry': 1, 'happy': 2, 'sad': 3, 'fear': 4, 'disgust': 5}"
      ]
     },
     "execution_count": 8,
     "metadata": {},
     "output_type": "execute_result"
    }
   ],
   "source": [
    "categories = ['neutral', 'angry', 'happy', 'sad', 'fear', 'disgust']\n",
    "cate_dic = {}\n",
    "for i, cate in enumerate(categories):\n",
    "    cate_dic[cate] = i\n",
    "cate_dic"
   ]
  },
  {
   "cell_type": "markdown",
   "id": "adf4848c",
   "metadata": {},
   "source": [
    "## Train with 3CNN+LSTM"
   ]
  },
  {
   "cell_type": "code",
   "execution_count": 9,
   "id": "2ef1a6ec",
   "metadata": {},
   "outputs": [],
   "source": [
    "import torch.nn as nn\n",
    "import torch.nn.functional as F\n",
    "\n",
    "class ICASSP3CNN(nn.Module):\n",
    "    def __init__(self, vocab_size, dims = 12, embed_size=128, hidden_size=512, num_lstm_layers = 2, bidirectional = False, label_size=7):\n",
    "        super().__init__()\n",
    "        self.n_layers = num_lstm_layers \n",
    "        self.hidden = hidden_size\n",
    "        self.bidirectional = bidirectional\n",
    "        \n",
    "        self.aggr = nn.Conv1d(in_channels=dims, out_channels=1, kernel_size=1)\n",
    "        \n",
    "        self.embed = nn.Linear(in_features = vocab_size, out_features = embed_size)\n",
    "\n",
    "        self.cnn  = nn.Conv1d(embed_size, embed_size, kernel_size=3, padding=1)\n",
    "        self.cnn2 = nn.Conv1d(embed_size, embed_size, kernel_size=5, padding=2)\n",
    "        self.cnn3 = nn.Conv1d(embed_size, embed_size, kernel_size=7, padding=3)\n",
    "\n",
    "        self.batchnorm = nn.BatchNorm1d(3 * embed_size)\n",
    "\n",
    "        self.lstm = nn.LSTM(input_size = 3 * embed_size, \n",
    "                            hidden_size = hidden_size, \n",
    "                            num_layers = num_lstm_layers, \n",
    "                            bidirectional = bidirectional)\n",
    "\n",
    "        self.linear = nn.Linear(in_features = 2 * hidden_size if bidirectional else hidden_size, \n",
    "                                out_features = label_size)\n",
    "\n",
    "\n",
    "    def forward(self, x, lengths):\n",
    "        \"\"\"\n",
    "        padded_x: (B,T) padded LongTensor\n",
    "        \"\"\"\n",
    "        n, d, b, t = x.size(0), x.size(1), x.size(2), x.size(3)\n",
    "        x = torch.flatten(x, start_dim=2)\n",
    "        input = self.aggr(x)\n",
    "        input = torch.reshape(input, (n, b, t))\n",
    "        input = self.embed(input)\n",
    "\n",
    "        batch_size = input.size(0)\n",
    "        input = input.transpose(1,2)    # (B,T,H) -> (B,H,T)\n",
    "\n",
    "        cnn_output = torch.cat([self.cnn(input), self.cnn2(input), self.cnn3(input)], dim=1)\n",
    "\n",
    "        input = F.relu(self.batchnorm(cnn_output))\n",
    "\n",
    "        input = input.transpose(1,2)\n",
    "\n",
    "        pack_tensor = nn.utils.rnn.pack_padded_sequence(input, lengths, batch_first=True, enforce_sorted=False)\n",
    "        _, (hn, cn) = self.lstm(pack_tensor)\n",
    "\n",
    "        if self.bidirectional:\n",
    "            h_n = hn.view(self.n_layers, 2, batch_size, self.hidden)\n",
    "            h_n = torch.cat([ h_n[-1, 0,:], h_n[-1,1,:] ], dim = 1)\n",
    "        else:\n",
    "            h_n = hn[-1]\n",
    "\n",
    "        logits = self.linear(h_n)\n",
    "\n",
    "        return logits"
   ]
  },
  {
   "cell_type": "markdown",
   "id": "21a7d392",
   "metadata": {},
   "source": [
    "### Model Traning on each layer "
   ]
  },
  {
   "cell_type": "code",
   "execution_count": 34,
   "id": "71a55670",
   "metadata": {},
   "outputs": [],
   "source": [
    "holdout = 5\n",
    "train = file[file['session'] != holdout]\n",
    "train_audios = [audios[i] for i in range(len(audios)) if file['session'][i] != holdout]\n",
    "test = file[file['session'] == holdout]\n",
    "test_audios = [audios[i] for i in range(len(audios)) if file['session'][i] == holdout]"
   ]
  },
  {
   "cell_type": "code",
   "execution_count": 35,
   "id": "9aa549a4",
   "metadata": {},
   "outputs": [],
   "source": [
    "from torch.utils.data import DataLoader\n",
    "\n",
    "train_dataset = MyDataSet(train_audios, train['emotion'].tolist(), cate_dic)\n",
    "trainloader_args = dict(batch_size=16, shuffle=True)\n",
    "train_dataloader = DataLoader(train_dataset, **trainloader_args, \n",
    "                              collate_fn=collate_indic)\n",
    "\n",
    "test_dataset = MyDataSet(test_audios, test['emotion'].tolist(), cate_dic)\n",
    "testloader_args = dict(batch_size=16, shuffle=True)\n",
    "test_dataloader = DataLoader(test_dataset, **testloader_args, \n",
    "                             collate_fn=collate_indic)"
   ]
  },
  {
   "cell_type": "code",
   "execution_count": 36,
   "id": "75762bdc",
   "metadata": {},
   "outputs": [
    {
     "name": "stderr",
     "output_type": "stream",
     "text": [
      "  2%|████                                                                                                                                                                                                         | 1/50 [00:03<02:42,  3.32s/it]"
     ]
    },
    {
     "name": "stdout",
     "output_type": "stream",
     "text": [
      "epoch:1, train accu:0.2282, train loss:1.79\n"
     ]
    },
    {
     "name": "stderr",
     "output_type": "stream",
     "text": [
      "\r",
      "  4%|████████▏                                                                                                                                                                                                    | 2/50 [00:06<02:34,  3.21s/it]"
     ]
    },
    {
     "name": "stdout",
     "output_type": "stream",
     "text": [
      "epoch:2, train accu:0.2936, train loss:1.66\n"
     ]
    },
    {
     "name": "stderr",
     "output_type": "stream",
     "text": [
      "\r",
      "  6%|████████████▎                                                                                                                                                                                                | 3/50 [00:09<02:29,  3.18s/it]"
     ]
    },
    {
     "name": "stdout",
     "output_type": "stream",
     "text": [
      "epoch:3, train accu:0.3823, train loss:1.52\n"
     ]
    },
    {
     "name": "stderr",
     "output_type": "stream",
     "text": [
      "\r",
      "  8%|████████████████▍                                                                                                                                                                                            | 4/50 [00:12<02:27,  3.20s/it]"
     ]
    },
    {
     "name": "stdout",
     "output_type": "stream",
     "text": [
      "epoch:4, train accu:0.4535, train loss:1.33\n"
     ]
    },
    {
     "name": "stderr",
     "output_type": "stream",
     "text": [
      "\r",
      " 10%|████████████████████▌                                                                                                                                                                                        | 5/50 [00:15<02:22,  3.16s/it]"
     ]
    },
    {
     "name": "stdout",
     "output_type": "stream",
     "text": [
      "epoch:5, train accu:0.4709, train loss:1.25\n"
     ]
    },
    {
     "name": "stderr",
     "output_type": "stream",
     "text": [
      "\r",
      " 12%|████████████████████████▌                                                                                                                                                                                    | 6/50 [00:18<02:16,  3.11s/it]"
     ]
    },
    {
     "name": "stdout",
     "output_type": "stream",
     "text": [
      "epoch:6, train accu:0.5363, train loss:1.11\n"
     ]
    },
    {
     "name": "stderr",
     "output_type": "stream",
     "text": [
      "\r",
      " 14%|████████████████████████████▋                                                                                                                                                                                | 7/50 [00:21<02:13,  3.10s/it]"
     ]
    },
    {
     "name": "stdout",
     "output_type": "stream",
     "text": [
      "epoch:7, train accu:0.5814, train loss:0.97\n"
     ]
    },
    {
     "name": "stderr",
     "output_type": "stream",
     "text": [
      "\r",
      " 16%|████████████████████████████████▊                                                                                                                                                                            | 8/50 [00:25<02:10,  3.11s/it]"
     ]
    },
    {
     "name": "stdout",
     "output_type": "stream",
     "text": [
      "epoch:8, train accu:0.6105, train loss:0.92\n"
     ]
    },
    {
     "name": "stderr",
     "output_type": "stream",
     "text": [
      "\r",
      " 18%|████████████████████████████████████▉                                                                                                                                                                        | 9/50 [00:28<02:07,  3.12s/it]"
     ]
    },
    {
     "name": "stdout",
     "output_type": "stream",
     "text": [
      "epoch:9, train accu:0.6366, train loss:0.88\n"
     ]
    },
    {
     "name": "stderr",
     "output_type": "stream",
     "text": [
      "\r",
      " 20%|████████████████████████████████████████▊                                                                                                                                                                   | 10/50 [00:31<02:06,  3.16s/it]"
     ]
    },
    {
     "name": "stdout",
     "output_type": "stream",
     "text": [
      "epoch:10, train accu:0.6642, train loss:0.74\n"
     ]
    },
    {
     "name": "stderr",
     "output_type": "stream",
     "text": [
      "\r",
      " 22%|████████████████████████████████████████████▉                                                                                                                                                               | 11/50 [00:34<02:03,  3.18s/it]"
     ]
    },
    {
     "name": "stdout",
     "output_type": "stream",
     "text": [
      "epoch:11, train accu:0.6541, train loss:0.77\n"
     ]
    },
    {
     "name": "stderr",
     "output_type": "stream",
     "text": [
      "\r",
      " 24%|████████████████████████████████████████████████▉                                                                                                                                                           | 12/50 [00:37<02:00,  3.16s/it]"
     ]
    },
    {
     "name": "stdout",
     "output_type": "stream",
     "text": [
      "epoch:12, train accu:0.7166, train loss:0.66\n"
     ]
    },
    {
     "name": "stderr",
     "output_type": "stream",
     "text": [
      "\r",
      " 26%|█████████████████████████████████████████████████████                                                                                                                                                       | 13/50 [00:41<01:57,  3.17s/it]"
     ]
    },
    {
     "name": "stdout",
     "output_type": "stream",
     "text": [
      "epoch:13, train accu:0.7355, train loss:0.61\n"
     ]
    },
    {
     "name": "stderr",
     "output_type": "stream",
     "text": [
      "\r",
      " 28%|█████████████████████████████████████████████████████████                                                                                                                                                   | 14/50 [00:44<01:55,  3.20s/it]"
     ]
    },
    {
     "name": "stdout",
     "output_type": "stream",
     "text": [
      "epoch:14, train accu:0.7413, train loss:0.63\n"
     ]
    },
    {
     "name": "stderr",
     "output_type": "stream",
     "text": [
      "\r",
      " 30%|█████████████████████████████████████████████████████████████▏                                                                                                                                              | 15/50 [00:48<01:58,  3.40s/it]"
     ]
    },
    {
     "name": "stdout",
     "output_type": "stream",
     "text": [
      "epoch:15, train accu:0.8052, train loss:0.53\n"
     ]
    },
    {
     "name": "stderr",
     "output_type": "stream",
     "text": [
      "\r",
      " 32%|█████████████████████████████████████████████████████████████████▎                                                                                                                                          | 16/50 [00:51<01:56,  3.43s/it]"
     ]
    },
    {
     "name": "stdout",
     "output_type": "stream",
     "text": [
      "epoch:16, train accu:0.7863, train loss:0.54\n"
     ]
    },
    {
     "name": "stderr",
     "output_type": "stream",
     "text": [
      "\r",
      " 34%|█████████████████████████████████████████████████████████████████████▎                                                                                                                                      | 17/50 [00:54<01:51,  3.38s/it]"
     ]
    },
    {
     "name": "stdout",
     "output_type": "stream",
     "text": [
      "epoch:17, train accu:0.7689, train loss:0.57\n"
     ]
    },
    {
     "name": "stderr",
     "output_type": "stream",
     "text": [
      "\r",
      " 36%|█████████████████████████████████████████████████████████████████████████▍                                                                                                                                  | 18/50 [00:58<01:46,  3.34s/it]"
     ]
    },
    {
     "name": "stdout",
     "output_type": "stream",
     "text": [
      "epoch:18, train accu:0.8009, train loss:0.54\n"
     ]
    },
    {
     "name": "stderr",
     "output_type": "stream",
     "text": [
      "\r",
      " 38%|█████████████████████████████████████████████████████████████████████████████▌                                                                                                                              | 19/50 [01:01<01:42,  3.30s/it]"
     ]
    },
    {
     "name": "stdout",
     "output_type": "stream",
     "text": [
      "epoch:19, train accu:0.8009, train loss:0.51\n"
     ]
    },
    {
     "name": "stderr",
     "output_type": "stream",
     "text": [
      "\r",
      " 40%|█████████████████████████████████████████████████████████████████████████████████▌                                                                                                                          | 20/50 [01:04<01:37,  3.25s/it]"
     ]
    },
    {
     "name": "stdout",
     "output_type": "stream",
     "text": [
      "epoch:20, train accu:0.7965, train loss:0.50\n"
     ]
    },
    {
     "name": "stderr",
     "output_type": "stream",
     "text": [
      "\r",
      " 42%|█████████████████████████████████████████████████████████████████████████████████████▋                                                                                                                      | 21/50 [01:07<01:33,  3.22s/it]"
     ]
    },
    {
     "name": "stdout",
     "output_type": "stream",
     "text": [
      "epoch:21, train accu:0.8619, train loss:0.34\n"
     ]
    },
    {
     "name": "stderr",
     "output_type": "stream",
     "text": [
      "\r",
      " 44%|█████████████████████████████████████████████████████████████████████████████████████████▊                                                                                                                  | 22/50 [01:10<01:29,  3.19s/it]"
     ]
    },
    {
     "name": "stdout",
     "output_type": "stream",
     "text": [
      "epoch:22, train accu:0.8387, train loss:0.39\n"
     ]
    },
    {
     "name": "stderr",
     "output_type": "stream",
     "text": [
      "\r",
      " 46%|█████████████████████████████████████████████████████████████████████████████████████████████▊                                                                                                              | 23/50 [01:13<01:25,  3.18s/it]"
     ]
    },
    {
     "name": "stdout",
     "output_type": "stream",
     "text": [
      "epoch:23, train accu:0.8299, train loss:0.41\n"
     ]
    },
    {
     "name": "stderr",
     "output_type": "stream",
     "text": [
      "\r",
      " 48%|█████████████████████████████████████████████████████████████████████████████████████████████████▉                                                                                                          | 24/50 [01:17<01:22,  3.19s/it]"
     ]
    },
    {
     "name": "stdout",
     "output_type": "stream",
     "text": [
      "epoch:24, train accu:0.8663, train loss:0.35\n"
     ]
    },
    {
     "name": "stderr",
     "output_type": "stream",
     "text": [
      "\r",
      " 50%|██████████████████████████████████████████████████████████████████████████████████████████████████████                                                                                                      | 25/50 [01:20<01:20,  3.21s/it]"
     ]
    },
    {
     "name": "stdout",
     "output_type": "stream",
     "text": [
      "epoch:25, train accu:0.8532, train loss:0.36\n"
     ]
    },
    {
     "name": "stderr",
     "output_type": "stream",
     "text": [
      "\r",
      " 52%|██████████████████████████████████████████████████████████████████████████████████████████████████████████                                                                                                  | 26/50 [01:23<01:18,  3.26s/it]"
     ]
    },
    {
     "name": "stdout",
     "output_type": "stream",
     "text": [
      "epoch:26, train accu:0.8416, train loss:0.43\n"
     ]
    },
    {
     "name": "stderr",
     "output_type": "stream",
     "text": [
      "\r",
      " 54%|██████████████████████████████████████████████████████████████████████████████████████████████████████████████▏                                                                                             | 27/50 [01:27<01:14,  3.25s/it]"
     ]
    },
    {
     "name": "stdout",
     "output_type": "stream",
     "text": [
      "epoch:27, train accu:0.9157, train loss:0.24\n"
     ]
    },
    {
     "name": "stderr",
     "output_type": "stream",
     "text": [
      "\r",
      " 56%|██████████████████████████████████████████████████████████████████████████████████████████████████████████████████▏                                                                                         | 28/50 [01:30<01:11,  3.24s/it]"
     ]
    },
    {
     "name": "stdout",
     "output_type": "stream",
     "text": [
      "epoch:28, train accu:0.8648, train loss:0.34\n"
     ]
    },
    {
     "name": "stderr",
     "output_type": "stream",
     "text": [
      "\r",
      " 58%|██████████████████████████████████████████████████████████████████████████████████████████████████████████████████████▎                                                                                     | 29/50 [01:33<01:07,  3.19s/it]"
     ]
    },
    {
     "name": "stdout",
     "output_type": "stream",
     "text": [
      "epoch:29, train accu:0.8895, train loss:0.24\n"
     ]
    },
    {
     "name": "stderr",
     "output_type": "stream",
     "text": [
      "\r",
      " 60%|██████████████████████████████████████████████████████████████████████████████████████████████████████████████████████████▍                                                                                 | 30/50 [01:36<01:03,  3.20s/it]"
     ]
    },
    {
     "name": "stdout",
     "output_type": "stream",
     "text": [
      "epoch:30, train accu:0.9273, train loss:0.21\n"
     ]
    },
    {
     "name": "stderr",
     "output_type": "stream",
     "text": [
      "\r",
      " 62%|██████████████████████████████████████████████████████████████████████████████████████████████████████████████████████████████▍                                                                             | 31/50 [01:39<01:00,  3.19s/it]"
     ]
    },
    {
     "name": "stdout",
     "output_type": "stream",
     "text": [
      "epoch:31, train accu:0.8968, train loss:0.28\n"
     ]
    },
    {
     "name": "stderr",
     "output_type": "stream",
     "text": [
      "\r",
      " 64%|██████████████████████████████████████████████████████████████████████████████████████████████████████████████████████████████████▌                                                                         | 32/50 [01:42<00:57,  3.17s/it]"
     ]
    },
    {
     "name": "stdout",
     "output_type": "stream",
     "text": [
      "epoch:32, train accu:0.9331, train loss:0.18\n"
     ]
    },
    {
     "name": "stderr",
     "output_type": "stream",
     "text": [
      "\r",
      " 66%|██████████████████████████████████████████████████████████████████████████████████████████████████████████████████████████████████████▋                                                                     | 33/50 [01:46<00:56,  3.33s/it]"
     ]
    },
    {
     "name": "stdout",
     "output_type": "stream",
     "text": [
      "epoch:33, train accu:0.8808, train loss:0.36\n"
     ]
    },
    {
     "name": "stderr",
     "output_type": "stream",
     "text": [
      "\r",
      " 68%|██████████████████████████████████████████████████████████████████████████████████████████████████████████████████████████████████████████▋                                                                 | 34/50 [01:50<00:54,  3.43s/it]"
     ]
    },
    {
     "name": "stdout",
     "output_type": "stream",
     "text": [
      "epoch:34, train accu:0.9099, train loss:0.27\n"
     ]
    },
    {
     "name": "stderr",
     "output_type": "stream",
     "text": [
      "\r",
      " 70%|██████████████████████████████████████████████████████████████████████████████████████████████████████████████████████████████████████████████▊                                                             | 35/50 [01:53<00:50,  3.37s/it]"
     ]
    },
    {
     "name": "stdout",
     "output_type": "stream",
     "text": [
      "epoch:35, train accu:0.9215, train loss:0.23\n"
     ]
    },
    {
     "name": "stderr",
     "output_type": "stream",
     "text": [
      "\r",
      " 72%|██████████████████████████████████████████████████████████████████████████████████████████████████████████████████████████████████████████████████▉                                                         | 36/50 [01:56<00:46,  3.32s/it]"
     ]
    },
    {
     "name": "stdout",
     "output_type": "stream",
     "text": [
      "epoch:36, train accu:0.9360, train loss:0.20\n"
     ]
    },
    {
     "name": "stderr",
     "output_type": "stream",
     "text": [
      "\r",
      " 74%|██████████████████████████████████████████████████████████████████████████████████████████████████████████████████████████████████████████████████████▉                                                     | 37/50 [01:59<00:43,  3.32s/it]"
     ]
    },
    {
     "name": "stdout",
     "output_type": "stream",
     "text": [
      "epoch:37, train accu:0.9259, train loss:0.21\n"
     ]
    },
    {
     "name": "stderr",
     "output_type": "stream",
     "text": [
      "\r",
      " 76%|███████████████████████████████████████████████████████████████████████████████████████████████████████████████████████████████████████████████████████████                                                 | 38/50 [02:03<00:39,  3.26s/it]"
     ]
    },
    {
     "name": "stdout",
     "output_type": "stream",
     "text": [
      "epoch:38, train accu:0.9680, train loss:0.09\n"
     ]
    },
    {
     "name": "stderr",
     "output_type": "stream",
     "text": [
      "\r",
      " 78%|███████████████████████████████████████████████████████████████████████████████████████████████████████████████████████████████████████████████████████████████                                             | 39/50 [02:06<00:35,  3.21s/it]"
     ]
    },
    {
     "name": "stdout",
     "output_type": "stream",
     "text": [
      "epoch:39, train accu:0.9419, train loss:0.16\n"
     ]
    },
    {
     "name": "stderr",
     "output_type": "stream",
     "text": [
      "\r",
      " 80%|███████████████████████████████████████████████████████████████████████████████████████████████████████████████████████████████████████████████████████████████████▏                                        | 40/50 [02:09<00:32,  3.22s/it]"
     ]
    },
    {
     "name": "stdout",
     "output_type": "stream",
     "text": [
      "epoch:40, train accu:0.9331, train loss:0.18\n"
     ]
    },
    {
     "name": "stderr",
     "output_type": "stream",
     "text": [
      "\r",
      " 82%|███████████████████████████████████████████████████████████████████████████████████████████████████████████████████████████████████████████████████████████████████████▎                                    | 41/50 [02:12<00:29,  3.23s/it]"
     ]
    },
    {
     "name": "stdout",
     "output_type": "stream",
     "text": [
      "epoch:41, train accu:0.9840, train loss:0.08\n"
     ]
    },
    {
     "name": "stderr",
     "output_type": "stream",
     "text": [
      "\r",
      " 84%|███████████████████████████████████████████████████████████████████████████████████████████████████████████████████████████████████████████████████████████████████████████▎                                | 42/50 [02:15<00:25,  3.25s/it]"
     ]
    },
    {
     "name": "stdout",
     "output_type": "stream",
     "text": [
      "epoch:42, train accu:0.9840, train loss:0.04\n"
     ]
    },
    {
     "name": "stderr",
     "output_type": "stream",
     "text": [
      "\r",
      " 86%|███████████████████████████████████████████████████████████████████████████████████████████████████████████████████████████████████████████████████████████████████████████████▍                            | 43/50 [02:19<00:22,  3.23s/it]"
     ]
    },
    {
     "name": "stdout",
     "output_type": "stream",
     "text": [
      "epoch:43, train accu:0.9622, train loss:0.10\n"
     ]
    },
    {
     "name": "stderr",
     "output_type": "stream",
     "text": [
      "\r",
      " 88%|███████████████████████████████████████████████████████████████████████████████████████████████████████████████████████████████████████████████████████████████████████████████████▌                        | 44/50 [02:22<00:19,  3.20s/it]"
     ]
    },
    {
     "name": "stdout",
     "output_type": "stream",
     "text": [
      "epoch:44, train accu:0.9491, train loss:0.15\n"
     ]
    },
    {
     "name": "stderr",
     "output_type": "stream",
     "text": [
      "\r",
      " 90%|███████████████████████████████████████████████████████████████████████████████████████████████████████████████████████████████████████████████████████████████████████████████████████▌                    | 45/50 [02:25<00:15,  3.18s/it]"
     ]
    },
    {
     "name": "stdout",
     "output_type": "stream",
     "text": [
      "epoch:45, train accu:0.9549, train loss:0.11\n"
     ]
    },
    {
     "name": "stderr",
     "output_type": "stream",
     "text": [
      "\r",
      " 92%|███████████████████████████████████████████████████████████████████████████████████████████████████████████████████████████████████████████████████████████████████████████████████████████▋                | 46/50 [02:28<00:12,  3.21s/it]"
     ]
    },
    {
     "name": "stdout",
     "output_type": "stream",
     "text": [
      "epoch:46, train accu:0.9695, train loss:0.08\n"
     ]
    },
    {
     "name": "stderr",
     "output_type": "stream",
     "text": [
      "\r",
      " 94%|███████████████████████████████████████████████████████████████████████████████████████████████████████████████████████████████████████████████████████████████████████████████████████████████▊            | 47/50 [02:32<00:09,  3.25s/it]"
     ]
    },
    {
     "name": "stdout",
     "output_type": "stream",
     "text": [
      "epoch:47, train accu:0.9535, train loss:0.14\n"
     ]
    },
    {
     "name": "stderr",
     "output_type": "stream",
     "text": [
      "\r",
      " 96%|███████████████████████████████████████████████████████████████████████████████████████████████████████████████████████████████████████████████████████████████████████████████████████████████████▊        | 48/50 [02:35<00:06,  3.25s/it]"
     ]
    },
    {
     "name": "stdout",
     "output_type": "stream",
     "text": [
      "epoch:48, train accu:0.9535, train loss:0.14\n"
     ]
    },
    {
     "name": "stderr",
     "output_type": "stream",
     "text": [
      "\r",
      " 98%|███████████████████████████████████████████████████████████████████████████████████████████████████████████████████████████████████████████████████████████████████████████████████████████████████████▉    | 49/50 [02:38<00:03,  3.19s/it]"
     ]
    },
    {
     "name": "stdout",
     "output_type": "stream",
     "text": [
      "epoch:49, train accu:0.9709, train loss:0.11\n"
     ]
    },
    {
     "name": "stderr",
     "output_type": "stream",
     "text": [
      "100%|████████████████████████████████████████████████████████████████████████████████████████████████████████████████████████████████████████████████████████████████████████████████████████████████████████████| 50/50 [02:41<00:00,  3.23s/it]"
     ]
    },
    {
     "name": "stdout",
     "output_type": "stream",
     "text": [
      "epoch:50, train accu:0.9826, train loss:0.06\n"
     ]
    },
    {
     "name": "stderr",
     "output_type": "stream",
     "text": [
      "\n"
     ]
    }
   ],
   "source": [
    "from tqdm import tqdm\n",
    "from torchsummary import summary\n",
    "import torch.optim as optim\n",
    "\n",
    "model = ICASSP3CNN(1024, 24)\n",
    "model = model.to(device)\n",
    "criterion = nn.CrossEntropyLoss()\n",
    "optimizer = optim.Adam(model.parameters(), lr=0.001)\n",
    "\n",
    "epochs = 50\n",
    "train_losses = []\n",
    "train_accuracies = []\n",
    "valid_losses = []\n",
    "valid_accuracies = []\n",
    "\n",
    "for epoch in tqdm(range(epochs)):\n",
    "    train_loss = 0\n",
    "    acc_cnt = 0\n",
    "    err_cnt = 0\n",
    "    batch_cnt = 0\n",
    "    model.train()\n",
    "    for batch, (x, length, y) in enumerate(train_dataloader):\n",
    "        x = x.to(device)\n",
    "        y = y.to(device)\n",
    "        optimizer.zero_grad()\n",
    "        logits = model(x, length)\n",
    "        loss = criterion(logits, y)\n",
    "        loss.backward()\n",
    "        optimizer.step()\n",
    "        train_loss += loss.cpu().item()\n",
    "\n",
    "        #model outputs\n",
    "        out_val, out_indices = torch.max(logits, dim=1)\n",
    "        tar_indices = y\n",
    "\n",
    "        for i in range(len(out_indices)):\n",
    "            if out_indices[i] == tar_indices[i]:\n",
    "                acc_cnt += 1\n",
    "            else:\n",
    "                err_cnt += 1\n",
    "        batch_cnt += 1\n",
    "    \n",
    "    train_loss = train_loss/batch_cnt\n",
    "    train_accuracy = acc_cnt/(acc_cnt+err_cnt)\n",
    "    train_accuracies.append(train_accuracy)\n",
    "    train_losses.append(train_loss)\n",
    "    \n",
    "    print(f\"epoch:{epoch+1}, train accu:{train_accuracy:.4f},\", f\"train loss:{train_loss:.2f}\")"
   ]
  },
  {
   "cell_type": "markdown",
   "id": "b6f39dc8",
   "metadata": {},
   "source": [
    "### Model Test"
   ]
  },
  {
   "cell_type": "code",
   "execution_count": 37,
   "id": "461a176a",
   "metadata": {},
   "outputs": [
    {
     "name": "stdout",
     "output_type": "stream",
     "text": [
      "test accuracy: 0.7413793103448276\n"
     ]
    }
   ],
   "source": [
    "test_loss = 0\n",
    "acc_cnt = 0\n",
    "err_cnt = 0\n",
    "batch_cnt = 0\n",
    "model.eval()\n",
    "\n",
    "for x, lengths, y in test_dataloader:\n",
    "\n",
    "    x = x.to(device)\n",
    "    y = y.to(device)\n",
    "\n",
    "    logits = model(x, lengths)\n",
    "    loss = criterion(logits, y)\n",
    "    test_loss += loss.cpu().item()\n",
    "\n",
    "    out_val, out_indices = torch.max(logits, dim=1)\n",
    "    tar_indices = y\n",
    "\n",
    "    for i in range(len(out_indices)):\n",
    "        if out_indices[i] == tar_indices[i]:\n",
    "            acc_cnt += 1\n",
    "        else:\n",
    "            err_cnt += 1\n",
    "    batch_cnt += 1\n",
    "\n",
    "test_loss = test_loss/batch_cnt\n",
    "test_accuracy = acc_cnt/(acc_cnt+err_cnt)\n",
    "print(f'test accuracy: {test_accuracy}')"
   ]
  },
  {
   "cell_type": "code",
   "execution_count": 38,
   "id": "1b6c5224",
   "metadata": {},
   "outputs": [
    {
     "name": "stdout",
     "output_type": "stream",
     "text": [
      "aggr.weight tensor([[[ 0.1156],\n",
      "         [ 0.0656],\n",
      "         [ 0.0633],\n",
      "         [-0.2668],\n",
      "         [-0.4016],\n",
      "         [-0.2134],\n",
      "         [-0.3325],\n",
      "         [-0.2353],\n",
      "         [ 0.0787],\n",
      "         [-0.1615],\n",
      "         [ 0.1373],\n",
      "         [ 0.2209],\n",
      "         [ 0.1435],\n",
      "         [-0.0522],\n",
      "         [ 0.1635],\n",
      "         [-0.0688],\n",
      "         [-0.0029],\n",
      "         [ 0.0599],\n",
      "         [-0.1646],\n",
      "         [-0.0916],\n",
      "         [ 0.0985],\n",
      "         [ 0.0864],\n",
      "         [ 0.0154],\n",
      "         [-0.0357]]], device='cuda:0')\n",
      "aggr.bias tensor([0.0273], device='cuda:0')\n",
      "embed.weight tensor([[-0.0095, -0.0095,  0.0412,  ...,  0.0129, -0.0263, -0.1223],\n",
      "        [-0.0056, -0.0213, -0.0185,  ..., -0.0636, -0.0060,  0.0211],\n",
      "        [ 0.0030,  0.0115,  0.0145,  ...,  0.0168,  0.0214, -0.0301],\n",
      "        ...,\n",
      "        [ 0.0117,  0.0160, -0.0048,  ..., -0.0592, -0.0623,  0.0354],\n",
      "        [-0.0134, -0.0210,  0.0207,  ..., -0.0141, -0.0122, -0.0183],\n",
      "        [-0.0784, -0.0109, -0.0090,  ..., -0.0176,  0.0402, -0.0975]],\n",
      "       device='cuda:0')\n",
      "embed.bias tensor([ 0.0470,  0.0659,  0.0737,  0.1196, -0.0063,  0.1068,  0.0615, -0.0037,\n",
      "        -0.0190, -0.0574, -0.0045, -0.0161, -0.0232, -0.0340,  0.0073,  0.0428,\n",
      "         0.0953,  0.1214, -0.1054,  0.0051,  0.0260, -0.0514, -0.0505, -0.0405,\n",
      "         0.0836,  0.0104,  0.0462, -0.0122,  0.0440,  0.0201,  0.0159,  0.0154,\n",
      "        -0.0427, -0.0585,  0.0635, -0.0507,  0.0612, -0.0311,  0.0763,  0.0155,\n",
      "        -0.0848, -0.1082,  0.0530, -0.0040,  0.0571, -0.0912,  0.0418, -0.0430,\n",
      "        -0.0034, -0.0513,  0.1163,  0.0737, -0.0396, -0.1474,  0.0829,  0.0239,\n",
      "        -0.0828, -0.0463, -0.0680, -0.0638,  0.0305, -0.0169, -0.0017, -0.0542,\n",
      "        -0.0241, -0.0515,  0.0740,  0.0019,  0.0156,  0.0792,  0.0954,  0.0550,\n",
      "         0.1260, -0.0305, -0.0802, -0.0577,  0.0169, -0.0748,  0.0397,  0.0192,\n",
      "         0.0615, -0.1443,  0.0476, -0.1829, -0.0028, -0.0392,  0.0065, -0.0148,\n",
      "         0.1494, -0.0135,  0.0220,  0.1454, -0.0801,  0.0455,  0.0840, -0.0841,\n",
      "        -0.0218, -0.0678,  0.0553,  0.0393, -0.0562,  0.0922,  0.0241, -0.1190,\n",
      "         0.0496,  0.0170,  0.1218, -0.0013, -0.0210, -0.0217,  0.0469,  0.0043,\n",
      "        -0.0728, -0.0016,  0.0120,  0.0999, -0.0438,  0.0834,  0.0520,  0.0082,\n",
      "        -0.0680, -0.1139, -0.0074, -0.0262, -0.0339,  0.0151,  0.0301, -0.1093],\n",
      "       device='cuda:0')\n",
      "cnn.weight tensor([[[ 0.0140,  0.0026,  0.0458],\n",
      "         [ 0.1364, -0.0220,  0.1049],\n",
      "         [ 0.0420,  0.0358,  0.0593],\n",
      "         ...,\n",
      "         [ 0.0116, -0.0152,  0.0230],\n",
      "         [-0.0713, -0.0589, -0.0062],\n",
      "         [-0.0317,  0.0046, -0.0617]],\n",
      "\n",
      "        [[ 0.0187, -0.0115, -0.0499],\n",
      "         [-0.0608, -0.0756,  0.0228],\n",
      "         [ 0.0677,  0.0377,  0.0234],\n",
      "         ...,\n",
      "         [ 0.0541,  0.0470,  0.0470],\n",
      "         [-0.0284,  0.0333, -0.0824],\n",
      "         [ 0.0099, -0.0171,  0.0772]],\n",
      "\n",
      "        [[ 0.0798,  0.0644,  0.0220],\n",
      "         [-0.0939, -0.0939, -0.0440],\n",
      "         [ 0.0798, -0.0260,  0.0033],\n",
      "         ...,\n",
      "         [-0.0150, -0.0557, -0.0360],\n",
      "         [-0.0005, -0.0136, -0.0108],\n",
      "         [ 0.0010, -0.0008, -0.0327]],\n",
      "\n",
      "        ...,\n",
      "\n",
      "        [[-0.0127, -0.0459, -0.0541],\n",
      "         [ 0.0197, -0.0278,  0.0007],\n",
      "         [ 0.0031, -0.0229,  0.0244],\n",
      "         ...,\n",
      "         [-0.0239, -0.0073, -0.0334],\n",
      "         [ 0.0282,  0.0332, -0.0204],\n",
      "         [-0.1227, -0.0915, -0.1359]],\n",
      "\n",
      "        [[ 0.0234, -0.0118,  0.0577],\n",
      "         [ 0.0118,  0.0417,  0.0276],\n",
      "         [ 0.0346,  0.0814,  0.0302],\n",
      "         ...,\n",
      "         [ 0.0221,  0.0374, -0.0067],\n",
      "         [-0.0604, -0.0194,  0.0481],\n",
      "         [-0.0228,  0.0293, -0.0211]],\n",
      "\n",
      "        [[ 0.1207,  0.1543,  0.0862],\n",
      "         [-0.0367, -0.0519,  0.0191],\n",
      "         [ 0.1267,  0.0031,  0.0141],\n",
      "         ...,\n",
      "         [-0.1133, -0.0758, -0.0539],\n",
      "         [ 0.0217,  0.0134,  0.0204],\n",
      "         [ 0.0601,  0.0706,  0.0807]]], device='cuda:0')\n",
      "cnn.bias tensor([-0.0208,  0.0043,  0.0364,  0.0415, -0.0352,  0.0381,  0.0366,  0.0478,\n",
      "        -0.0185,  0.0209, -0.0279,  0.0329,  0.0354,  0.0134, -0.0241,  0.0005,\n",
      "        -0.0093, -0.0121, -0.0498,  0.0181,  0.0140, -0.0127, -0.0285, -0.0111,\n",
      "        -0.0208,  0.0299,  0.0279,  0.0162,  0.0393, -0.0187,  0.0495,  0.0068,\n",
      "         0.0300,  0.0463,  0.0112, -0.0128,  0.0362,  0.0103,  0.0103,  0.0292,\n",
      "        -0.0498,  0.0427, -0.0379,  0.0009, -0.0368,  0.0360, -0.0280,  0.0488,\n",
      "         0.0491,  0.0098, -0.0041, -0.0350, -0.0229, -0.0322,  0.0442, -0.0126,\n",
      "        -0.0337, -0.0186,  0.0418,  0.0206, -0.0312, -0.0107,  0.0017,  0.0181,\n",
      "        -0.0132,  0.0410, -0.0335, -0.0497,  0.0112,  0.0454, -0.0059,  0.0395,\n",
      "        -0.0238, -0.0439,  0.0250, -0.0140,  0.0344,  0.0073, -0.0047, -0.0429,\n",
      "        -0.0357, -0.0030, -0.0288,  0.0463,  0.0304, -0.0502,  0.0193,  0.0267,\n",
      "        -0.0410, -0.0001, -0.0268, -0.0179,  0.0451,  0.0435,  0.0364,  0.0498,\n",
      "         0.0356, -0.0485, -0.0465,  0.0387,  0.0291,  0.0154, -0.0336,  0.0351,\n",
      "         0.0393, -0.0499, -0.0018,  0.0024,  0.0173,  0.0142, -0.0109,  0.0476,\n",
      "        -0.0152, -0.0499,  0.0485, -0.0361,  0.0199,  0.0369,  0.0357,  0.0286,\n",
      "         0.0217,  0.0272, -0.0274,  0.0461,  0.0005, -0.0124, -0.0017,  0.0451],\n",
      "       device='cuda:0')\n",
      "cnn2.weight tensor([[[ 0.0069, -0.0565, -0.0267, -0.0195, -0.0235],\n",
      "         [-0.0227, -0.0266, -0.0366, -0.0301, -0.0362],\n",
      "         [-0.0487, -0.0224,  0.0212,  0.0775, -0.0116],\n",
      "         ...,\n",
      "         [-0.0203,  0.0372,  0.0438, -0.0288,  0.0098],\n",
      "         [ 0.0243,  0.0183,  0.0660,  0.1207,  0.0350],\n",
      "         [ 0.0742,  0.0163, -0.0342, -0.0386, -0.0119]],\n",
      "\n",
      "        [[-0.0299, -0.0074, -0.0365, -0.0273, -0.0388],\n",
      "         [ 0.0007, -0.0549,  0.0120, -0.0342,  0.0178],\n",
      "         [-0.0792, -0.0631, -0.0101, -0.0408, -0.0540],\n",
      "         ...,\n",
      "         [-0.0030, -0.0072,  0.0424,  0.0161,  0.0325],\n",
      "         [-0.0587, -0.0785, -0.0722, -0.0222, -0.0456],\n",
      "         [ 0.0289,  0.0220, -0.0181,  0.0428,  0.0164]],\n",
      "\n",
      "        [[-0.0043,  0.0248,  0.0241,  0.0535,  0.0536],\n",
      "         [ 0.1299,  0.1390,  0.0084,  0.0458,  0.0231],\n",
      "         [ 0.1014,  0.0839,  0.0330,  0.0196, -0.0009],\n",
      "         ...,\n",
      "         [-0.0672, -0.0107,  0.0454, -0.0338,  0.0119],\n",
      "         [-0.0238, -0.0011, -0.0054,  0.0260, -0.0105],\n",
      "         [-0.0193, -0.0289,  0.0046, -0.0436, -0.0522]],\n",
      "\n",
      "        ...,\n",
      "\n",
      "        [[-0.0564, -0.0258, -0.0082, -0.0657, -0.0128],\n",
      "         [ 0.0491, -0.0116,  0.0391,  0.0479,  0.0527],\n",
      "         [ 0.0390, -0.0222, -0.0353, -0.0821, -0.0253],\n",
      "         ...,\n",
      "         [-0.0332,  0.0126, -0.0261,  0.0224, -0.0565],\n",
      "         [-0.0602, -0.0520, -0.0333, -0.0096, -0.0243],\n",
      "         [-0.0803, -0.0496, -0.0217, -0.0440, -0.1070]],\n",
      "\n",
      "        [[ 0.0779,  0.0352, -0.0161,  0.0162,  0.0559],\n",
      "         [-0.0066,  0.0363,  0.0061,  0.0270,  0.0129],\n",
      "         [-0.0039, -0.0046, -0.0299,  0.0281,  0.0552],\n",
      "         ...,\n",
      "         [-0.0302,  0.0164, -0.0088, -0.0002,  0.0493],\n",
      "         [ 0.0298, -0.0411, -0.0601, -0.0506, -0.0122],\n",
      "         [-0.0257, -0.0452,  0.0010,  0.0052, -0.0431]],\n",
      "\n",
      "        [[ 0.0206,  0.0531,  0.1351,  0.0537, -0.0196],\n",
      "         [-0.0340, -0.0383, -0.0525, -0.0230, -0.0306],\n",
      "         [ 0.0025,  0.0344, -0.0038,  0.0050,  0.0116],\n",
      "         ...,\n",
      "         [-0.0349, -0.0582, -0.0789, -0.0080, -0.0053],\n",
      "         [-0.0029, -0.0036, -0.0255, -0.0118,  0.0552],\n",
      "         [-0.0448, -0.0147, -0.0140,  0.0036, -0.0296]]], device='cuda:0')\n",
      "cnn2.bias tensor([-0.0232, -0.0203,  0.0075,  0.0171,  0.0318, -0.0006, -0.0065,  0.0119,\n",
      "        -0.0311,  0.0207,  0.0377,  0.0293,  0.0334,  0.0188, -0.0178,  0.0134,\n",
      "        -0.0241,  0.0167, -0.0071,  0.0297, -0.0099, -0.0133, -0.0185, -0.0376,\n",
      "        -0.0231,  0.0020,  0.0187, -0.0228, -0.0133, -0.0236,  0.0324, -0.0344,\n",
      "        -0.0210, -0.0372,  0.0350, -0.0115, -0.0072, -0.0293,  0.0028,  0.0230,\n",
      "        -0.0344, -0.0122, -0.0314,  0.0048,  0.0394,  0.0074,  0.0279,  0.0378,\n",
      "        -0.0336, -0.0223, -0.0162, -0.0202, -0.0380, -0.0034, -0.0294,  0.0374,\n",
      "         0.0329, -0.0194,  0.0226, -0.0041, -0.0155, -0.0011,  0.0380,  0.0056,\n",
      "        -0.0353,  0.0066, -0.0371, -0.0388, -0.0173,  0.0005, -0.0080,  0.0287,\n",
      "        -0.0097,  0.0044, -0.0247, -0.0118,  0.0378, -0.0247, -0.0288, -0.0246,\n",
      "         0.0380, -0.0138, -0.0279,  0.0390, -0.0304,  0.0293,  0.0006,  0.0132,\n",
      "         0.0279, -0.0092, -0.0069,  0.0304,  0.0358, -0.0038,  0.0356,  0.0281,\n",
      "        -0.0353,  0.0259,  0.0330,  0.0297,  0.0149, -0.0131, -0.0060, -0.0233,\n",
      "        -0.0048, -0.0234, -0.0130,  0.0343, -0.0101, -0.0253, -0.0302,  0.0208,\n",
      "        -0.0343,  0.0043, -0.0213,  0.0027, -0.0068, -0.0208, -0.0236, -0.0268,\n",
      "        -0.0157,  0.0349,  0.0273,  0.0078,  0.0054,  0.0006, -0.0192, -0.0329],\n",
      "       device='cuda:0')\n",
      "cnn3.weight tensor([[[-5.1045e-02, -8.2565e-02, -7.2670e-02,  ..., -1.7922e-02,\n",
      "          -2.1216e-02, -2.1780e-02],\n",
      "         [-5.0423e-02, -8.1822e-03,  5.1358e-03,  ...,  5.9059e-03,\n",
      "           1.7651e-02,  1.4683e-02],\n",
      "         [-4.3839e-02, -8.7276e-02, -4.3597e-02,  ..., -3.4802e-03,\n",
      "           2.9092e-02, -1.4888e-03],\n",
      "         ...,\n",
      "         [ 1.0233e-01,  6.5098e-02,  7.6334e-02,  ..., -5.1045e-02,\n",
      "          -6.5644e-02, -6.7929e-02],\n",
      "         [-1.5501e-02, -7.7149e-02, -4.3585e-02,  ..., -2.4855e-02,\n",
      "           3.4713e-02,  7.2861e-02],\n",
      "         [ 1.9809e-02,  1.0431e-02, -6.4826e-03,  ...,  4.0500e-02,\n",
      "           2.5564e-02,  3.6345e-02]],\n",
      "\n",
      "        [[ 8.1198e-02,  9.6619e-02,  5.5873e-03,  ...,  2.6785e-02,\n",
      "          -8.3939e-04, -1.0676e-02],\n",
      "         [-1.6400e-02,  3.8917e-02,  6.5876e-02,  ...,  1.9318e-04,\n",
      "          -1.0040e-02,  1.5776e-03],\n",
      "         [-1.1985e-02,  5.8077e-02,  7.7272e-02,  ...,  2.5035e-02,\n",
      "           2.6036e-02,  3.4294e-02],\n",
      "         ...,\n",
      "         [ 3.7007e-02,  5.8076e-02,  6.3130e-02,  ...,  8.0295e-02,\n",
      "           3.4731e-02,  4.1417e-02],\n",
      "         [-4.5740e-02,  7.1197e-03, -2.2237e-02,  ..., -4.3725e-02,\n",
      "          -2.6864e-02, -2.0883e-02],\n",
      "         [-5.2843e-02, -2.5909e-02, -2.4620e-02,  ..., -7.4420e-04,\n",
      "          -4.3004e-02, -2.1715e-02]],\n",
      "\n",
      "        [[-2.4391e-02,  1.8355e-02,  3.2627e-02,  ..., -1.0296e-03,\n",
      "          -1.8176e-03, -2.9786e-02],\n",
      "         [-6.9594e-02, -4.0677e-02, -6.0050e-02,  ..., -4.8112e-02,\n",
      "          -1.6969e-02,  1.5443e-02],\n",
      "         [ 2.9627e-02,  6.5903e-03, -2.0294e-02,  ..., -4.7840e-02,\n",
      "          -2.9020e-02, -2.4732e-02],\n",
      "         ...,\n",
      "         [-1.4735e-02, -1.6573e-02, -6.5245e-02,  ..., -1.1906e-01,\n",
      "          -5.4848e-02, -4.0897e-02],\n",
      "         [-4.1779e-02, -3.3424e-02, -9.0530e-03,  ...,  3.3473e-02,\n",
      "           4.6079e-02,  1.0259e-02],\n",
      "         [ 1.3787e-01,  9.4232e-02,  7.8043e-02,  ...,  1.2110e-02,\n",
      "          -8.0786e-03, -6.4121e-02]],\n",
      "\n",
      "        ...,\n",
      "\n",
      "        [[-1.0181e-01, -8.3803e-02, -2.6191e-02,  ..., -4.8057e-03,\n",
      "           3.5321e-03,  3.4617e-03],\n",
      "         [ 8.8941e-02,  7.2964e-02,  2.6574e-03,  ..., -7.3114e-03,\n",
      "           5.1120e-02,  1.5470e-02],\n",
      "         [ 9.0074e-02,  4.4446e-02,  3.0362e-02,  ...,  5.6353e-02,\n",
      "           3.0784e-02,  1.5035e-02],\n",
      "         ...,\n",
      "         [-1.7381e-02, -5.0312e-02, -2.9105e-03,  ..., -1.5173e-02,\n",
      "          -3.6788e-02,  2.1769e-02],\n",
      "         [ 2.3002e-02,  1.4610e-02, -3.9602e-03,  ...,  7.3205e-02,\n",
      "           7.7597e-03,  9.8548e-03],\n",
      "         [-3.2018e-02, -7.3446e-02,  5.6340e-03,  ...,  5.8710e-02,\n",
      "           4.6408e-02,  1.6361e-02]],\n",
      "\n",
      "        [[-2.3425e-02,  1.4528e-02,  4.2496e-02,  ..., -2.0184e-02,\n",
      "           1.2901e-02, -2.6138e-02],\n",
      "         [-2.9921e-02, -2.4862e-02, -5.2574e-02,  ..., -4.6581e-03,\n",
      "          -2.0669e-02,  6.0735e-03],\n",
      "         [-9.1965e-02, -1.1616e-01, -5.4366e-02,  ..., -2.3509e-02,\n",
      "          -5.1216e-05,  3.3237e-02],\n",
      "         ...,\n",
      "         [ 7.6048e-02,  6.6180e-02,  2.2721e-02,  ..., -2.5218e-02,\n",
      "          -9.9941e-03, -1.6855e-02],\n",
      "         [-8.9801e-02, -6.9463e-02, -7.4475e-02,  ...,  5.2124e-03,\n",
      "          -3.9789e-02,  6.6231e-03],\n",
      "         [ 6.6643e-02,  6.7455e-02,  5.0684e-02,  ..., -8.7245e-03,\n",
      "          -4.5489e-03,  5.1177e-03]],\n",
      "\n",
      "        [[-1.6442e-01, -1.0652e-01, -6.3779e-02,  ..., -6.3355e-03,\n",
      "          -4.3987e-03, -4.6506e-02],\n",
      "         [ 3.3041e-02, -2.2713e-02, -3.6027e-02,  ..., -6.8714e-03,\n",
      "          -3.0099e-02, -2.0825e-02],\n",
      "         [-1.7589e-03,  5.3734e-03, -1.8444e-03,  ...,  3.6767e-02,\n",
      "           3.7172e-03, -1.4093e-02],\n",
      "         ...,\n",
      "         [-3.0925e-02, -1.1541e-01, -6.7189e-02,  ..., -3.0969e-02,\n",
      "          -4.3425e-02, -2.6804e-02],\n",
      "         [ 6.6826e-02,  6.3291e-02,  1.0619e-01,  ...,  5.8240e-02,\n",
      "           3.7275e-02,  3.3958e-02],\n",
      "         [-2.4149e-02, -1.9081e-02,  2.2099e-02,  ...,  2.8985e-02,\n",
      "           2.9966e-02,  2.8292e-04]]], device='cuda:0')\n",
      "cnn3.bias tensor([ 6.8686e-03,  9.7271e-03, -2.9911e-02,  2.8849e-02, -2.0071e-02,\n",
      "        -2.7983e-02, -2.8622e-02,  1.6252e-02, -1.2260e-02, -1.8343e-02,\n",
      "         1.0198e-02,  7.6900e-03, -2.5613e-03,  3.0850e-02, -1.8141e-02,\n",
      "        -7.5667e-03, -4.3825e-03, -1.5686e-02,  1.0401e-02,  1.4079e-02,\n",
      "         2.6101e-02,  1.5419e-02, -6.7367e-04, -5.2046e-03, -2.7509e-02,\n",
      "        -1.9477e-02,  3.2858e-02, -1.4777e-02,  8.1159e-03, -2.9827e-02,\n",
      "         9.5002e-03,  8.4498e-03,  2.4975e-02,  1.9680e-02, -2.8282e-02,\n",
      "        -2.3873e-02,  2.8245e-02,  2.5032e-02,  5.3256e-04, -1.1691e-02,\n",
      "         4.0948e-03,  2.9920e-02, -1.3803e-02,  2.9377e-02,  2.0711e-02,\n",
      "        -5.9867e-05,  2.2897e-02,  8.1858e-03, -2.7584e-04,  4.1058e-03,\n",
      "        -3.9033e-03,  1.4805e-02,  3.2704e-02, -3.3240e-02,  5.4080e-03,\n",
      "         1.4560e-03,  1.7421e-03,  1.4854e-02, -1.3667e-02, -1.2052e-02,\n",
      "         2.0618e-02, -3.0990e-02,  3.1584e-02,  5.7064e-04,  6.4944e-03,\n",
      "        -3.0734e-02,  2.9740e-03, -5.2753e-03,  3.1087e-02, -3.1968e-02,\n",
      "        -2.1038e-02, -1.4031e-02,  1.4687e-02,  2.8638e-02, -5.4380e-05,\n",
      "        -1.4519e-02, -2.8622e-02,  2.3634e-02, -2.1280e-02,  4.7787e-03,\n",
      "        -1.3017e-02,  1.1657e-02, -3.1840e-02,  6.4760e-03, -3.2966e-02,\n",
      "         2.4925e-02,  8.5696e-03, -2.1935e-02,  2.7913e-02,  3.2309e-02,\n",
      "         3.0394e-02,  2.4288e-02,  2.9705e-02,  4.4038e-03,  9.0284e-03,\n",
      "         2.6262e-02,  2.8259e-02, -1.3543e-02, -1.7483e-02, -2.8756e-02,\n",
      "        -3.2660e-02, -1.3580e-02,  1.5816e-02,  2.4301e-02,  3.0294e-02,\n",
      "        -2.8958e-02,  1.1019e-02, -9.4452e-03, -2.7584e-02,  8.3861e-03,\n",
      "         7.9956e-03, -2.0355e-02,  3.2110e-02,  2.9838e-02,  3.1516e-02,\n",
      "         2.9767e-02, -9.1079e-03,  2.8079e-02, -1.2343e-03, -5.3158e-03,\n",
      "        -7.0776e-04,  2.9681e-02, -2.2795e-02, -2.0796e-02,  2.9877e-02,\n",
      "        -3.2968e-02, -2.0008e-02,  2.5561e-02], device='cuda:0')\n",
      "batchnorm.weight tensor([0.9952, 0.9643, 0.9828, 0.9648, 1.0577, 1.0500, 1.0076, 0.9455, 0.9519,\n",
      "        0.9727, 0.9153, 0.9720, 1.0236, 1.0344, 0.9691, 1.0243, 0.9742, 1.0589,\n",
      "        0.9225, 0.9693, 0.9893, 0.9536, 0.9905, 0.9823, 1.0153, 1.0177, 0.9335,\n",
      "        0.9806, 0.9767, 1.0233, 1.0072, 1.0284, 1.0637, 0.9992, 1.0358, 0.9975,\n",
      "        0.9654, 0.9515, 0.9057, 0.9749, 1.0308, 0.9864, 0.9345, 1.0443, 0.9871,\n",
      "        0.9463, 0.9660, 0.9373, 1.0138, 0.9136, 0.9862, 1.0448, 1.0096, 1.0608,\n",
      "        1.0668, 1.0489, 1.0618, 1.0343, 1.0402, 0.9601, 1.0577, 1.0248, 1.0322,\n",
      "        1.0185, 0.9711, 1.0411, 1.0408, 1.0339, 0.9609, 1.0332, 1.0144, 0.9964,\n",
      "        0.9968, 0.9615, 1.0300, 1.0136, 0.9890, 1.0384, 0.9919, 0.9624, 0.9793,\n",
      "        0.9841, 1.0163, 0.9633, 0.9517, 0.9266, 0.9960, 0.9159, 1.0313, 1.0381,\n",
      "        1.0434, 0.9831, 0.9335, 0.9652, 0.9989, 1.0023, 0.9623, 1.0191, 1.0313,\n",
      "        1.0305, 1.0519, 1.0319, 0.9624, 1.0220, 1.0657, 0.9514, 0.9822, 0.9694,\n",
      "        0.9831, 0.9623, 1.0003, 1.0121, 0.9570, 1.0532, 1.0444, 0.9919, 0.9831,\n",
      "        0.9870, 1.0056, 0.9948, 0.9947, 1.0148, 1.0093, 1.0296, 0.9977, 1.0262,\n",
      "        0.9880, 1.0294, 1.0318, 0.9062, 1.0150, 1.0181, 1.0237, 1.0274, 0.9558,\n",
      "        1.0409, 1.0670, 0.9382, 0.9624, 1.0191, 1.0269, 0.9352, 1.0135, 1.0516,\n",
      "        1.0146, 0.9623, 0.9613, 1.0128, 0.9943, 0.9803, 0.9898, 1.0317, 0.9962,\n",
      "        0.9482, 0.9471, 0.9943, 0.9607, 1.0335, 0.9540, 1.0307, 1.0119, 1.0380,\n",
      "        0.9110, 1.0160, 1.0628, 0.9436, 1.0234, 0.9586, 0.9164, 0.9462, 1.0120,\n",
      "        1.0043, 0.9722, 0.9640, 0.9336, 0.9497, 1.0487, 1.0519, 0.9620, 1.0148,\n",
      "        1.0169, 0.9684, 1.0255, 1.0395, 1.0094, 1.0092, 0.9299, 0.9992, 0.9864,\n",
      "        1.0052, 0.9945, 0.8870, 0.9985, 0.9627, 0.9566, 1.0697, 1.0151, 1.0222,\n",
      "        1.0459, 0.9351, 1.0067, 0.9125, 1.0132, 0.9886, 1.0293, 1.0191, 1.0338,\n",
      "        0.9896, 0.9688, 1.0246, 0.9974, 1.0216, 0.8853, 1.0083, 0.9714, 0.9367,\n",
      "        1.0011, 0.9904, 1.0601, 1.0043, 0.9980, 0.9869, 0.9362, 1.0102, 0.9235,\n",
      "        1.0368, 1.0241, 0.9313, 0.9861, 1.0214, 1.0255, 1.0023, 1.0104, 0.9063,\n",
      "        1.0475, 1.0178, 1.0520, 0.9718, 0.9400, 0.9968, 1.0234, 1.0401, 0.9928,\n",
      "        1.0329, 1.0393, 0.9812, 0.9623, 0.9658, 1.0211, 1.0542, 0.9898, 1.0383,\n",
      "        1.0338, 1.0263, 0.9814, 0.9936, 0.9432, 1.0313, 0.9585, 1.0358, 0.9660,\n",
      "        0.9764, 0.9769, 1.1187, 0.9407, 0.9738, 0.9758, 0.8961, 0.9698, 0.9708,\n",
      "        1.0275, 1.0161, 1.0065, 1.0466, 1.0116, 1.0325, 1.0095, 0.9919, 0.9821,\n",
      "        0.9335, 1.0473, 1.0080, 1.0098, 1.0019, 0.9814, 1.0079, 1.0246, 0.9600,\n",
      "        0.9799, 1.0029, 0.9434, 1.0583, 0.9846, 1.0492, 1.0296, 1.0208, 1.0109,\n",
      "        1.0167, 1.0316, 0.9928, 1.0216, 0.9426, 0.9741, 1.0022, 1.0277, 1.0329,\n",
      "        1.0284, 0.9619, 0.9802, 0.9966, 0.9921, 0.9767, 0.9983, 0.9148, 1.0168,\n",
      "        0.8973, 0.9575, 1.0387, 1.0383, 1.0116, 1.0340, 1.0106, 0.9987, 0.9949,\n",
      "        0.9826, 0.9741, 1.0243, 1.0195, 0.9202, 0.9696, 1.0586, 0.9971, 0.9231,\n",
      "        0.9804, 0.9529, 1.0290, 0.9620, 1.0035, 1.0249, 0.9735, 0.9744, 0.9570,\n",
      "        1.0368, 1.0486, 0.9693, 1.0190, 0.9633, 1.0442, 1.0270, 1.0053, 0.9493,\n",
      "        0.8906, 0.9607, 0.9290, 0.9690, 1.0171, 0.9766, 1.0068, 1.0033, 0.9857,\n",
      "        1.0182, 0.9553, 1.0006, 1.0181, 0.9947, 0.8166, 0.9680, 1.0240, 0.9032,\n",
      "        0.9753, 1.0424, 0.9655, 1.0268, 0.9886, 0.9181, 0.9687, 0.9717, 0.9736,\n",
      "        0.9794, 0.9973, 0.9726, 1.0331, 0.9827, 1.0433], device='cuda:0')\n",
      "batchnorm.bias tensor([-8.2524e-02, -3.3250e-02, -6.6626e-03, -5.4863e-02, -2.0197e-02,\n",
      "        -3.4523e-02, -2.4634e-02, -8.5392e-02, -1.1890e-01, -2.5035e-02,\n",
      "        -5.2573e-02, -7.3120e-02, -5.8002e-02, -6.5264e-02, -2.6256e-02,\n",
      "        -5.3478e-02,  1.2967e-02, -4.3020e-02, -5.1658e-02, -9.2695e-02,\n",
      "        -2.0596e-02, -3.7936e-02, -8.0182e-03, -1.0019e-01, -5.9279e-02,\n",
      "        -2.7382e-02, -8.6626e-02, -3.9508e-02, -2.0712e-02, -3.4528e-02,\n",
      "        -7.9180e-02, -4.9009e-02, -1.5641e-02, -1.2296e-01, -2.9299e-02,\n",
      "        -7.2954e-02, -2.7765e-02, -5.3592e-02, -7.0929e-02, -1.3476e-01,\n",
      "        -6.4385e-02, -9.9433e-02, -1.1254e-01, -6.4152e-02, -1.3494e-01,\n",
      "        -1.1087e-01, -3.3022e-02, -8.8717e-02, -4.9694e-02, -1.9528e-01,\n",
      "        -7.7677e-02, -5.2258e-02, -6.8848e-02, -4.4886e-02, -2.5541e-02,\n",
      "        -4.7515e-02, -2.4278e-02, -6.9343e-02, -6.6489e-02,  1.6596e-03,\n",
      "        -2.1705e-02, -4.9954e-02,  2.5951e-02, -8.8074e-02, -8.7383e-02,\n",
      "        -3.4810e-02, -2.5203e-02, -4.2414e-02, -4.5863e-02, -3.3963e-02,\n",
      "        -2.7428e-02, -2.0373e-02, -1.0202e-01, -9.5538e-02, -7.4049e-02,\n",
      "        -3.4192e-02, -1.0038e-01, -1.3438e-02, -3.3884e-02, -7.7973e-03,\n",
      "        -7.2544e-02, -2.5478e-02, -4.2975e-02, -9.4400e-03, -3.2955e-03,\n",
      "        -9.6416e-02, -8.3038e-02, -5.3601e-02, -5.8443e-02, -2.2800e-02,\n",
      "        -5.1706e-02, -5.4841e-02, -1.0239e-01, -4.0440e-02, -5.4669e-02,\n",
      "        -3.5503e-02, -6.0280e-02, -5.7260e-02, -4.0372e-02, -4.6376e-02,\n",
      "         1.6671e-02, -6.6015e-02, -4.3006e-02, -2.0230e-02,  1.9440e-02,\n",
      "        -4.9832e-02, -1.5745e-02, -9.4889e-03, -5.8395e-02, -2.7532e-02,\n",
      "        -9.1805e-02, -4.0717e-02, -4.7433e-02, -8.3922e-02, -7.1202e-03,\n",
      "        -8.2518e-02, -7.1717e-02, -7.2494e-03, -5.2032e-02, -1.6351e-02,\n",
      "        -7.7103e-02, -5.3944e-02, -7.8315e-02, -9.9270e-03, -3.5741e-02,\n",
      "        -7.5804e-02, -9.3699e-02, -5.1157e-03, -2.3332e-02, -7.0354e-02,\n",
      "        -6.0589e-02, -6.1567e-02, -3.1155e-02, -5.0754e-02, -6.6226e-03,\n",
      "        -8.2602e-02, -5.5890e-02, -1.8857e-02, -1.4877e-02, -5.8610e-02,\n",
      "        -5.9268e-02, -1.1822e-01, -5.7041e-02, -7.5417e-02, -8.1376e-02,\n",
      "        -1.7070e-02, -3.8388e-02, -3.9399e-02, -7.7225e-02, -1.0240e-01,\n",
      "        -8.8803e-02, -5.0454e-02, -1.0953e-01, -1.4377e-01, -8.3086e-02,\n",
      "        -8.1366e-02, -6.0347e-02, -6.3523e-02, -5.9050e-02,  9.8472e-03,\n",
      "        -5.6239e-02, -1.6900e-02, -4.1352e-02, -8.0746e-02, -3.1399e-02,\n",
      "        -1.2721e-01, -3.3547e-02,  2.9584e-03, -4.7773e-02, -4.3434e-02,\n",
      "        -8.6937e-02, -4.2583e-02, -6.3286e-02, -3.6256e-02, -4.8449e-03,\n",
      "        -1.1774e-01,  7.0582e-03, -7.7389e-02, -6.1257e-02, -6.1517e-02,\n",
      "        -7.9748e-02,  2.4275e-02, -5.3627e-02, -5.5718e-02, -3.1088e-02,\n",
      "        -2.6707e-02, -4.8443e-02, -4.7206e-02, -6.8853e-02, -4.0274e-02,\n",
      "        -8.2112e-02, -1.5153e-01, -4.3898e-02, -4.1883e-02, -2.4779e-02,\n",
      "        -9.1949e-02, -4.0178e-02, -6.0836e-02, -2.4416e-02, -2.8378e-02,\n",
      "        -8.1231e-02, -7.5761e-02, -8.9667e-02, -6.1858e-03, -5.7527e-02,\n",
      "        -3.5775e-02, -4.3796e-02, -5.3465e-02, -8.5421e-02, -7.8451e-02,\n",
      "        -8.4992e-02, -6.0361e-02, -4.5879e-02, -2.4868e-02, -4.6764e-02,\n",
      "        -4.3664e-02, -6.1691e-03,  7.2659e-03, -8.7519e-03, -7.4359e-02,\n",
      "        -7.8783e-02, -2.2440e-02, -2.9349e-02, -5.8592e-02, -4.9904e-02,\n",
      "        -1.1373e-02, -2.2213e-02, -7.7650e-02, -4.8776e-02,  7.4116e-04,\n",
      "        -4.0198e-02, -2.9222e-02, -4.5627e-02, -3.3269e-02, -1.8291e-02,\n",
      "        -5.8990e-02, -7.8433e-02, -1.2850e-02, -4.6085e-02, -8.4000e-02,\n",
      "        -4.4174e-02, -7.6577e-02, -1.9438e-02, -2.4958e-02, -1.3953e-02,\n",
      "        -5.0124e-02, -2.2792e-02, -6.3393e-02, -9.0728e-02, -2.1270e-02,\n",
      "        -5.6750e-02, -1.4110e-02, -3.3463e-02, -6.2120e-02, -4.6121e-02,\n",
      "        -5.6216e-02, -4.7077e-02, -5.0707e-02, -4.5970e-02, -2.3008e-02,\n",
      "        -2.8877e-02, -2.9471e-02, -4.9084e-02,  3.8793e-02, -2.7476e-02,\n",
      "        -9.2556e-02, -2.4511e-02, -4.0983e-02,  4.5401e-04, -7.8753e-02,\n",
      "        -1.0481e-01, -7.7778e-02, -8.1668e-02, -3.3123e-02, -9.2154e-02,\n",
      "        -7.1430e-02, -4.6237e-02, -4.7089e-02, -9.2333e-02, -7.1277e-02,\n",
      "        -2.7530e-02, -4.7070e-02, -6.3213e-02, -6.5609e-02, -9.9246e-02,\n",
      "        -3.8923e-02, -5.9918e-02, -4.9986e-02, -4.4058e-02, -6.9529e-02,\n",
      "        -1.1915e-01,  1.1084e-02, -1.1751e-01, -4.7444e-02, -9.5737e-02,\n",
      "        -7.2118e-02, -5.6094e-02, -7.3424e-02, -5.4963e-02,  8.3209e-03,\n",
      "        -4.5928e-02, -3.8471e-02, -7.3582e-02, -3.2541e-02, -5.9039e-02,\n",
      "        -4.9600e-02, -6.9686e-02, -4.0170e-02,  1.1347e-03, -1.0232e-01,\n",
      "        -8.0955e-02, -1.8583e-02, -6.8303e-03, -1.0437e-01, -9.2984e-02,\n",
      "        -7.9599e-02, -7.5828e-02, -3.6515e-02, -3.2475e-02, -1.0382e-01,\n",
      "        -1.5498e-02, -4.0121e-02, -5.0491e-02, -3.8553e-02, -4.3978e-02,\n",
      "        -2.6675e-02, -3.0866e-02, -6.3085e-02, -8.9912e-02, -4.4122e-02,\n",
      "        -5.8035e-02, -3.2790e-02, -5.6019e-02, -1.5877e-02, -4.1981e-02,\n",
      "        -6.3866e-02, -1.3687e-02,  6.8792e-03, -3.1482e-02, -9.5008e-02,\n",
      "        -6.2403e-02, -8.0484e-02, -7.2423e-02, -3.9934e-02, -3.7807e-03,\n",
      "        -1.7985e-03, -1.0343e-01, -2.2128e-02, -2.8556e-02, -8.7179e-02,\n",
      "        -2.2970e-02, -1.2130e-01, -1.1739e-01, -1.4207e-01, -8.6313e-02,\n",
      "        -2.9166e-02, -2.4143e-02, -6.0300e-02, -4.1083e-02, -2.2305e-02,\n",
      "        -6.1051e-02, -2.8288e-02, -1.2045e-02, -5.2004e-02, -4.9921e-02,\n",
      "        -2.1158e-01, -1.1285e-01, -3.2750e-02, -1.3257e-01, -8.7493e-02,\n",
      "        -1.6037e-04, -4.0705e-02, -1.0918e-01, -6.0430e-02, -6.3419e-02,\n",
      "        -6.3528e-02, -7.6871e-02, -8.4019e-02, -3.4491e-02, -6.9826e-02,\n",
      "        -7.5746e-02, -4.8732e-02, -9.4343e-03, -5.5547e-02], device='cuda:0')\n",
      "lstm.weight_ih_l0 tensor([[ 0.0838,  0.0335, -0.0136,  ..., -0.0674,  0.0413,  0.0242],\n",
      "        [-0.0329, -0.0871, -0.0352,  ...,  0.0193,  0.0398,  0.0435],\n",
      "        [ 0.0230, -0.0279,  0.0034,  ...,  0.0652,  0.0051,  0.0531],\n",
      "        ...,\n",
      "        [-0.0636,  0.0030,  0.0580,  ...,  0.0006,  0.0072,  0.0658],\n",
      "        [-0.0276,  0.0334,  0.1321,  ..., -0.0030,  0.0030,  0.0379],\n",
      "        [-0.0558,  0.0584,  0.0506,  ..., -0.0273,  0.0074,  0.0675]],\n",
      "       device='cuda:0')\n",
      "lstm.weight_hh_l0 tensor([[ 0.0111,  0.0941,  0.0033,  ..., -0.0195,  0.0102,  0.1006],\n",
      "        [-0.0078,  0.0367, -0.0159,  ...,  0.0528,  0.0132, -0.0508],\n",
      "        [ 0.0671, -0.0306, -0.0223,  ...,  0.0383,  0.0198, -0.0280],\n",
      "        ...,\n",
      "        [ 0.1085,  0.0254,  0.0015,  ..., -0.0306,  0.0028,  0.0656],\n",
      "        [ 0.0185,  0.0222,  0.0002,  ..., -0.0270,  0.0887, -0.0145],\n",
      "        [-0.0198, -0.0376, -0.0217,  ...,  0.0446,  0.1350, -0.0662]],\n",
      "       device='cuda:0')\n",
      "lstm.bias_ih_l0 tensor([-0.0079,  0.0171, -0.0253,  ...,  0.0104, -0.0085, -0.0136],\n",
      "       device='cuda:0')\n",
      "lstm.bias_hh_l0 tensor([-3.5946e-02,  1.3517e-02, -3.6118e-02,  ...,  7.8218e-05,\n",
      "         4.9669e-02, -2.9682e-02], device='cuda:0')\n",
      "lstm.weight_ih_l1 tensor([[ 7.4146e-02,  7.9224e-02, -4.8903e-02,  ..., -8.0707e-02,\n",
      "          2.1801e-02, -6.5995e-02],\n",
      "        [-6.0882e-02,  5.1746e-02, -6.7384e-02,  ..., -1.1345e-02,\n",
      "         -1.0161e-02, -9.2349e-03],\n",
      "        [ 1.9741e-02, -7.6062e-02, -1.7652e-02,  ..., -1.4499e-02,\n",
      "          6.0569e-03, -1.6940e-02],\n",
      "        ...,\n",
      "        [-7.4103e-03,  2.0373e-05, -2.1006e-02,  ...,  1.2903e-02,\n",
      "          5.9151e-02,  2.0791e-02],\n",
      "        [-2.6050e-02, -1.7861e-03,  8.7410e-03,  ..., -1.0729e-02,\n",
      "         -8.3031e-02, -8.9553e-02],\n",
      "        [-1.2325e-02,  5.8128e-03, -5.1141e-02,  ...,  3.4484e-02,\n",
      "         -5.6070e-02, -2.0297e-02]], device='cuda:0')\n",
      "lstm.weight_hh_l1 tensor([[-0.0195,  0.0217,  0.0085,  ..., -0.0261, -0.0843, -0.0845],\n",
      "        [ 0.0416, -0.0050,  0.0083,  ..., -0.0173, -0.0097, -0.0421],\n",
      "        [-0.0499,  0.0595,  0.0159,  ...,  0.0018,  0.0489, -0.0487],\n",
      "        ...,\n",
      "        [-0.0086,  0.0893,  0.0259,  ...,  0.0252,  0.0148, -0.0862],\n",
      "        [-0.0519,  0.0128, -0.0123,  ...,  0.0088, -0.0033, -0.0322],\n",
      "        [-0.0728, -0.0111,  0.0170,  ...,  0.0481, -0.0269, -0.0538]],\n",
      "       device='cuda:0')\n",
      "lstm.bias_ih_l1 tensor([-0.0578, -0.0143, -0.0820,  ..., -0.0862,  0.0011, -0.0099],\n",
      "       device='cuda:0')\n",
      "lstm.bias_hh_l1 tensor([-0.0265, -0.0303, -0.0623,  ..., -0.1009, -0.0464, -0.0473],\n",
      "       device='cuda:0')\n",
      "linear.weight tensor([[-1.0191e-01, -2.1674e-02, -6.0150e-03,  ...,  3.1902e-05,\n",
      "         -6.1002e-02, -3.9068e-02],\n",
      "        [ 9.3173e-02, -1.7881e-02,  2.7719e-02,  ..., -3.2900e-02,\n",
      "          3.5267e-02, -1.0938e-01],\n",
      "        [-3.8379e-02,  3.6641e-02,  5.2998e-03,  ...,  1.5987e-02,\n",
      "          5.2846e-02, -1.9750e-02],\n",
      "        ...,\n",
      "        [ 3.4862e-02,  1.2829e-01, -9.6723e-03,  ...,  1.7841e-02,\n",
      "         -1.9374e-02,  7.2752e-03],\n",
      "        [-3.8495e-02, -6.0765e-02,  1.2378e-02,  ..., -4.0113e-02,\n",
      "         -7.1603e-02, -6.3973e-02],\n",
      "        [-8.1528e-02,  7.1572e-02,  3.1016e-02,  ...,  1.9982e-02,\n",
      "          1.3907e-01, -1.2590e-01]], device='cuda:0')\n",
      "linear.bias tensor([-0.0097,  0.0218,  0.0220,  0.0421,  0.0282, -0.0129, -0.0990],\n",
      "       device='cuda:0')\n"
     ]
    }
   ],
   "source": [
    "for name, param in model.named_parameters():\n",
    "    if param.requires_grad:\n",
    "        print(name, param.data)"
   ]
  },
  {
   "cell_type": "code",
   "execution_count": 39,
   "id": "cc9b6fd0",
   "metadata": {},
   "outputs": [],
   "source": [
    "model_path = main_path + f'/models/hubertlarge/holdout_{holdout}.pth'\n",
    "\n",
    "torch.save({'epoch':epochs,\n",
    "            'model_state_dict':model.state_dict(),\n",
    "            'optimizer_state_dict':optimizer.state_dict()},\n",
    "            model_path)"
   ]
  },
  {
   "cell_type": "code",
   "execution_count": null,
   "id": "d0aac69d",
   "metadata": {},
   "outputs": [],
   "source": []
  }
 ],
 "metadata": {
  "kernelspec": {
   "display_name": "Python 3",
   "language": "python",
   "name": "python3"
  },
  "language_info": {
   "codemirror_mode": {
    "name": "ipython",
    "version": 3
   },
   "file_extension": ".py",
   "mimetype": "text/x-python",
   "name": "python",
   "nbconvert_exporter": "python",
   "pygments_lexer": "ipython3",
   "version": "3.7.12"
  }
 },
 "nbformat": 4,
 "nbformat_minor": 5
}
