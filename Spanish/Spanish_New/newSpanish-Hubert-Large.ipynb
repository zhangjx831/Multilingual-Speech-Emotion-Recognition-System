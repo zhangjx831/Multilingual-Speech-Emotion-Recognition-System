{
 "cells": [
  {
   "cell_type": "code",
   "execution_count": 1,
   "id": "fcff203e",
   "metadata": {},
   "outputs": [],
   "source": [
    "import re\n",
    "import os\n",
    "import pandas as pd\n",
    "import random\n",
    "from tqdm import tqdm \n",
    "\n",
    "file_paths, file_names, emotions, audios = [], [], [], []\n",
    "emotion_map = {'Neutral': 'neutral', 'Anger': 'angry', 'Happiness': 'happy', 'Sadness': 'sad', 'Fear': 'fear',\n",
    "              'Disgust': 'disgust'}\n",
    "\n",
    "main_path = '/home/rl3155/Multilingual-Speech-Emotion-Recognition-System/Spanish/Spanish_New'\n",
    "DATA_NATURAL = \"/home/rl3155/MESD_All\""
   ]
  },
  {
   "cell_type": "code",
   "execution_count": 2,
   "id": "371d6085",
   "metadata": {},
   "outputs": [
    {
     "name": "stdout",
     "output_type": "stream",
     "text": [
      "1.12.1\n",
      "0.12.1+cu113\n",
      "cuda\n"
     ]
    }
   ],
   "source": [
    "import torch\n",
    "import torchaudio\n",
    "\n",
    "print(torch.__version__)\n",
    "print(torchaudio.__version__)\n",
    "\n",
    "torch.random.manual_seed(0)\n",
    "device = torch.device(\"cuda\" if torch.cuda.is_available() else \"cpu\")\n",
    "\n",
    "print(device)"
   ]
  },
  {
   "cell_type": "code",
   "execution_count": 3,
   "id": "4675fdb9",
   "metadata": {},
   "outputs": [
    {
     "name": "stdout",
     "output_type": "stream",
     "text": [
      "<class 'torchaudio.models.wav2vec2.model.Wav2Vec2Model'>\n",
      "16000\n"
     ]
    }
   ],
   "source": [
    "bundle = torchaudio.pipelines.HUBERT_LARGE\n",
    "extractor = bundle.get_model()\n",
    "print(extractor.__class__)\n",
    "print(bundle.sample_rate)"
   ]
  },
  {
   "cell_type": "markdown",
   "id": "682ce5bd",
   "metadata": {},
   "source": [
    "### Random get 5 parts of the entries -- only run code below 1 time"
   ]
  },
  {
   "cell_type": "code",
   "execution_count": 4,
   "id": "af158f24",
   "metadata": {},
   "outputs": [],
   "source": [
    "# Define path to datasets; create a random chunked 5 parts of entries\n",
    "# entries = os.listdir(DATA_NATURAL)\n",
    "# random.shuffle(entries)\n",
    "# session = []\n",
    "# equal_parts = (len(entries)-1)//5 # for equally split the entries into 5 parts\n",
    "# count = 0\n",
    "# for i in tqdm(range(len(entries))):\n",
    "#     entry = entries[i]\n",
    "#     if \"wav\" not in entry:\n",
    "#         continue\n",
    "#     path = DATA_NATURAL + \"/\" + entry\n",
    "#     emotion = emotion_map[entry.split(\"_\")[0]]\n",
    "#     file_paths.append(path)\n",
    "#     file_names.append(entry)\n",
    "#     emotions.append(emotion)\n",
    "    \n",
    "#     # assign session to it\n",
    "#     part = (count//equal_parts)%6 + 1\n",
    "#     if part == 6:\n",
    "#         part = 5\n",
    "#     session.append(part)\n",
    "#     count += 1\n",
    "\n",
    "# file = pd.DataFrame({'path':file_paths, 'name': file_names, 'emotion': emotions, 'session': session})\n",
    "# dataframe_path = main_path + '/session_entries.csv'\n",
    "# file.to_csv(dataframe_path)"
   ]
  },
  {
   "cell_type": "markdown",
   "id": "45ea79eb",
   "metadata": {},
   "source": [
    "### Extract Features using Models"
   ]
  },
  {
   "cell_type": "code",
   "execution_count": 4,
   "id": "b89c352b",
   "metadata": {},
   "outputs": [
    {
     "data": {
      "text/html": [
       "<div>\n",
       "<style scoped>\n",
       "    .dataframe tbody tr th:only-of-type {\n",
       "        vertical-align: middle;\n",
       "    }\n",
       "\n",
       "    .dataframe tbody tr th {\n",
       "        vertical-align: top;\n",
       "    }\n",
       "\n",
       "    .dataframe thead th {\n",
       "        text-align: right;\n",
       "    }\n",
       "</style>\n",
       "<table border=\"1\" class=\"dataframe\">\n",
       "  <thead>\n",
       "    <tr style=\"text-align: right;\">\n",
       "      <th></th>\n",
       "      <th>path</th>\n",
       "      <th>name</th>\n",
       "      <th>emotion</th>\n",
       "      <th>session</th>\n",
       "    </tr>\n",
       "  </thead>\n",
       "  <tbody>\n",
       "    <tr>\n",
       "      <th>0</th>\n",
       "      <td>/home/rl3155/MESD_All/Fear_F_A_basta_ya.wav</td>\n",
       "      <td>Fear_F_A_basta_ya.wav</td>\n",
       "      <td>fear</td>\n",
       "      <td>1</td>\n",
       "    </tr>\n",
       "    <tr>\n",
       "      <th>1</th>\n",
       "      <td>/home/rl3155/MESD_All/Happiness_M_A_arriba.wav</td>\n",
       "      <td>Happiness_M_A_arriba.wav</td>\n",
       "      <td>happy</td>\n",
       "      <td>1</td>\n",
       "    </tr>\n",
       "    <tr>\n",
       "      <th>2</th>\n",
       "      <td>/home/rl3155/MESD_All/Fear_F_B_arana.wav</td>\n",
       "      <td>Fear_F_B_arana.wav</td>\n",
       "      <td>fear</td>\n",
       "      <td>1</td>\n",
       "    </tr>\n",
       "    <tr>\n",
       "      <th>3</th>\n",
       "      <td>/home/rl3155/MESD_All/Neutral_M_B_articulo.wav</td>\n",
       "      <td>Neutral_M_B_articulo.wav</td>\n",
       "      <td>neutral</td>\n",
       "      <td>1</td>\n",
       "    </tr>\n",
       "    <tr>\n",
       "      <th>4</th>\n",
       "      <td>/home/rl3155/MESD_All/Disgust_F_A_antes.wav</td>\n",
       "      <td>Disgust_F_A_antes.wav</td>\n",
       "      <td>disgust</td>\n",
       "      <td>1</td>\n",
       "    </tr>\n",
       "  </tbody>\n",
       "</table>\n",
       "</div>"
      ],
      "text/plain": [
       "                                             path                      name  \\\n",
       "0     /home/rl3155/MESD_All/Fear_F_A_basta_ya.wav     Fear_F_A_basta_ya.wav   \n",
       "1  /home/rl3155/MESD_All/Happiness_M_A_arriba.wav  Happiness_M_A_arriba.wav   \n",
       "2        /home/rl3155/MESD_All/Fear_F_B_arana.wav        Fear_F_B_arana.wav   \n",
       "3  /home/rl3155/MESD_All/Neutral_M_B_articulo.wav  Neutral_M_B_articulo.wav   \n",
       "4     /home/rl3155/MESD_All/Disgust_F_A_antes.wav     Disgust_F_A_antes.wav   \n",
       "\n",
       "   emotion  session  \n",
       "0     fear        1  \n",
       "1    happy        1  \n",
       "2     fear        1  \n",
       "3  neutral        1  \n",
       "4  disgust        1  "
      ]
     },
     "execution_count": 4,
     "metadata": {},
     "output_type": "execute_result"
    }
   ],
   "source": [
    "# Get the entries with assigned session\n",
    "\n",
    "dataframe_path = '/home/rl3155/Multilingual-Speech-Emotion-Recognition-System/Spanish/session_entries.csv'\n",
    "file = pd.read_csv(dataframe_path)[['path', 'name', 'emotion', 'session']]\n",
    "file.head()"
   ]
  },
  {
   "cell_type": "code",
   "execution_count": 5,
   "id": "9dcc58f6",
   "metadata": {},
   "outputs": [
    {
     "name": "stderr",
     "output_type": "stream",
     "text": [
      "100%|███████████████████████████████████████████████████████████████████████████████████████████████████████████████████████████████████████████████████████████████████████████████████████████████████████████| 862/862 [04:22<00:00,  3.28it/s]\n"
     ]
    }
   ],
   "source": [
    "from tqdm import tqdm\n",
    "\n",
    "for i in tqdm(range(len(file['path']))):\n",
    "    path = file['path'][i]\n",
    "    wave, sr = torchaudio.load(path)\n",
    "    if sr != bundle.sample_rate:\n",
    "        wave = torchaudio.functional.resample(wave, sr, bundle.sample_rate)\n",
    "    with torch.inference_mode():\n",
    "        feature, _ = extractor.extract_features(wave)\n",
    "    feature = [f[0] for f in feature]\n",
    "    audio = torch.stack(feature)\n",
    "    audios.append(audio)"
   ]
  },
  {
   "cell_type": "code",
   "execution_count": 6,
   "id": "75a75bd9",
   "metadata": {},
   "outputs": [],
   "source": [
    "class MyDataSet(torch.utils.data.Dataset):\n",
    "    def __init__(self, audios, labels, label_transform):\n",
    "        super(MyDataSet).__init__()\n",
    "        self.audios = audios\n",
    "        self.labels = labels\n",
    "        self.label_transform = label_transform\n",
    "        \n",
    "    def __getitem__(self, idx):\n",
    "        label = self.label_transform[self.labels[idx]]\n",
    "        audio = self.audios[idx]\n",
    "        length = audio.size(1)\n",
    "        return audio, length, label\n",
    "    \n",
    "    def __len__(self):\n",
    "        return len(self.labels)"
   ]
  },
  {
   "cell_type": "code",
   "execution_count": 7,
   "id": "141ec40a",
   "metadata": {},
   "outputs": [],
   "source": [
    "def collate_indic(data):\n",
    "    audios, lengths, labels = zip(*data)\n",
    "    max_len = max(lengths)\n",
    "    n_ftrs = audios[0].size(2)\n",
    "    n_dims = audios[0].size(0)\n",
    "    features = torch.zeros((len(audios), n_dims, max_len, n_ftrs))\n",
    "    labels = torch.tensor(labels)\n",
    "    lengths = torch.tensor(lengths)\n",
    "\n",
    "    for i in range(len(data)):\n",
    "        j, k = audios[i].size(1), audios[i].size(2)\n",
    "        features[i] = torch.cat([audios[i], torch.zeros((n_dims, max_len - j, k))], dim=1)\n",
    "\n",
    "    return features, lengths, labels"
   ]
  },
  {
   "cell_type": "code",
   "execution_count": 8,
   "id": "0738ead4",
   "metadata": {},
   "outputs": [
    {
     "data": {
      "text/plain": [
       "{'neutral': 0, 'angry': 1, 'happy': 2, 'sad': 3, 'fear': 4, 'disgust': 5}"
      ]
     },
     "execution_count": 8,
     "metadata": {},
     "output_type": "execute_result"
    }
   ],
   "source": [
    "categories = ['neutral', 'angry', 'happy', 'sad', 'fear', 'disgust']\n",
    "cate_dic = {}\n",
    "for i, cate in enumerate(categories):\n",
    "    cate_dic[cate] = i\n",
    "cate_dic"
   ]
  },
  {
   "cell_type": "markdown",
   "id": "adf4848c",
   "metadata": {},
   "source": [
    "## Train with 3CNN+LSTM"
   ]
  },
  {
   "cell_type": "code",
   "execution_count": 9,
   "id": "2ef1a6ec",
   "metadata": {},
   "outputs": [],
   "source": [
    "import torch.nn as nn\n",
    "import torch.nn.functional as F\n",
    "\n",
    "class ICASSP3CNN(nn.Module):\n",
    "    def __init__(self, vocab_size, dims = 12, embed_size=128, hidden_size=512, num_lstm_layers = 2,\\\n",
    "                 bidirectional = False, label_size=6):\n",
    "        super().__init__()\n",
    "        self.n_layers = num_lstm_layers \n",
    "        self.hidden = hidden_size\n",
    "        self.bidirectional = bidirectional\n",
    "        \n",
    "        self.aggr = nn.Conv1d(in_channels=dims, out_channels=1, kernel_size=1)\n",
    "        \n",
    "        self.embed = nn.Linear(in_features = vocab_size, out_features = embed_size)\n",
    "\n",
    "        self.cnn  = nn.Conv1d(embed_size, embed_size, kernel_size=3, padding=1)\n",
    "        self.cnn2 = nn.Conv1d(embed_size, embed_size, kernel_size=5, padding=2)\n",
    "        self.cnn3 = nn.Conv1d(embed_size, embed_size, kernel_size=7, padding=3)\n",
    "\n",
    "        self.batchnorm = nn.BatchNorm1d(3 * embed_size)\n",
    "\n",
    "        self.lstm = nn.LSTM(input_size = 3 * embed_size, \n",
    "                            hidden_size = hidden_size, \n",
    "                            num_layers = num_lstm_layers, \n",
    "                            bidirectional = bidirectional)\n",
    "\n",
    "        self.linear = nn.Linear(in_features = 2 * hidden_size if bidirectional else hidden_size, \n",
    "                                out_features = label_size)\n",
    "\n",
    "\n",
    "    def forward(self, x, lengths):\n",
    "        \"\"\"\n",
    "        padded_x: (B,T) padded LongTensor\n",
    "        \"\"\"\n",
    "        n, d, b, t = x.size(0), x.size(1), x.size(2), x.size(3)\n",
    "        x = torch.flatten(x, start_dim=2)\n",
    "        input = self.aggr(x)\n",
    "        input = torch.reshape(input, (n, b, t))\n",
    "        input = self.embed(input)\n",
    "\n",
    "        batch_size = input.size(0)\n",
    "        input = input.transpose(1,2)    # (B,T,H) -> (B,H,T)\n",
    "\n",
    "        cnn_output = torch.cat([self.cnn(input), self.cnn2(input), self.cnn3(input)], dim=1)\n",
    "\n",
    "        input = F.relu(self.batchnorm(cnn_output))\n",
    "\n",
    "        input = input.transpose(1,2)\n",
    "\n",
    "        pack_tensor = nn.utils.rnn.pack_padded_sequence(input, lengths, batch_first=True, enforce_sorted=False)\n",
    "        _, (hn, cn) = self.lstm(pack_tensor)\n",
    "\n",
    "        if self.bidirectional:\n",
    "            h_n = hn.view(self.n_layers, 2, batch_size, self.hidden)\n",
    "            h_n = torch.cat([ h_n[-1, 0,:], h_n[-1,1,:] ], dim = 1)\n",
    "        else:\n",
    "            h_n = hn[-1]\n",
    "\n",
    "        logits = self.linear(h_n)\n",
    "\n",
    "        return logits"
   ]
  },
  {
   "cell_type": "markdown",
   "id": "21a7d392",
   "metadata": {},
   "source": [
    "### Model Traning on each layer "
   ]
  },
  {
   "cell_type": "code",
   "execution_count": 31,
   "id": "71a55670",
   "metadata": {},
   "outputs": [],
   "source": [
    "holdout = 5\n",
    "train = file[file['session'] != holdout]\n",
    "train_audios = [audios[i] for i in range(len(audios)) if file['session'][i] != holdout]\n",
    "test = file[file['session'] == holdout]\n",
    "test_audios = [audios[i] for i in range(len(audios)) if file['session'][i] == holdout]"
   ]
  },
  {
   "cell_type": "code",
   "execution_count": 32,
   "id": "9aa549a4",
   "metadata": {},
   "outputs": [],
   "source": [
    "from torch.utils.data import DataLoader\n",
    "\n",
    "train_dataset = MyDataSet(train_audios, train['emotion'].tolist(), cate_dic)\n",
    "trainloader_args = dict(batch_size=16, shuffle=True)\n",
    "train_dataloader = DataLoader(train_dataset, **trainloader_args, \n",
    "                              collate_fn=collate_indic)\n",
    "\n",
    "test_dataset = MyDataSet(test_audios, test['emotion'].tolist(), cate_dic)\n",
    "testloader_args = dict(batch_size=16, shuffle=True)\n",
    "test_dataloader = DataLoader(test_dataset, **testloader_args, \n",
    "                             collate_fn=collate_indic)"
   ]
  },
  {
   "cell_type": "code",
   "execution_count": 33,
   "id": "75762bdc",
   "metadata": {},
   "outputs": [
    {
     "name": "stderr",
     "output_type": "stream",
     "text": [
      "  2%|████                                                                                                                                                                                                          | 1/50 [00:03<02:58,  3.64s/it]"
     ]
    },
    {
     "name": "stdout",
     "output_type": "stream",
     "text": [
      "epoch:1, train accu:0.2602, train loss:1.73\n"
     ]
    },
    {
     "name": "stderr",
     "output_type": "stream",
     "text": [
      "\r",
      "  4%|████████▏                                                                                                                                                                                                     | 2/50 [00:07<02:51,  3.56s/it]"
     ]
    },
    {
     "name": "stdout",
     "output_type": "stream",
     "text": [
      "epoch:2, train accu:0.4360, train loss:1.45\n"
     ]
    },
    {
     "name": "stderr",
     "output_type": "stream",
     "text": [
      "\r",
      "  6%|████████████▎                                                                                                                                                                                                 | 3/50 [00:10<02:46,  3.55s/it]"
     ]
    },
    {
     "name": "stdout",
     "output_type": "stream",
     "text": [
      "epoch:3, train accu:0.5494, train loss:1.21\n"
     ]
    },
    {
     "name": "stderr",
     "output_type": "stream",
     "text": [
      "\r",
      "  8%|████████████████▍                                                                                                                                                                                             | 4/50 [00:14<02:43,  3.56s/it]"
     ]
    },
    {
     "name": "stdout",
     "output_type": "stream",
     "text": [
      "epoch:4, train accu:0.5712, train loss:1.08\n"
     ]
    },
    {
     "name": "stderr",
     "output_type": "stream",
     "text": [
      "\r",
      " 10%|████████████████████▌                                                                                                                                                                                         | 5/50 [00:17<02:39,  3.55s/it]"
     ]
    },
    {
     "name": "stdout",
     "output_type": "stream",
     "text": [
      "epoch:5, train accu:0.6235, train loss:0.87\n"
     ]
    },
    {
     "name": "stderr",
     "output_type": "stream",
     "text": [
      "\r",
      " 12%|████████████████████████▋                                                                                                                                                                                     | 6/50 [00:21<02:38,  3.60s/it]"
     ]
    },
    {
     "name": "stdout",
     "output_type": "stream",
     "text": [
      "epoch:6, train accu:0.6759, train loss:0.80\n"
     ]
    },
    {
     "name": "stderr",
     "output_type": "stream",
     "text": [
      "\r",
      " 14%|████████████████████████████▊                                                                                                                                                                                 | 7/50 [00:25<02:36,  3.63s/it]"
     ]
    },
    {
     "name": "stdout",
     "output_type": "stream",
     "text": [
      "epoch:7, train accu:0.6526, train loss:0.87\n"
     ]
    },
    {
     "name": "stderr",
     "output_type": "stream",
     "text": [
      "\r",
      " 16%|████████████████████████████████▉                                                                                                                                                                             | 8/50 [00:28<02:32,  3.63s/it]"
     ]
    },
    {
     "name": "stdout",
     "output_type": "stream",
     "text": [
      "epoch:8, train accu:0.7166, train loss:0.67\n"
     ]
    },
    {
     "name": "stderr",
     "output_type": "stream",
     "text": [
      "\r",
      " 18%|█████████████████████████████████████                                                                                                                                                                         | 9/50 [00:32<02:29,  3.64s/it]"
     ]
    },
    {
     "name": "stdout",
     "output_type": "stream",
     "text": [
      "epoch:9, train accu:0.7151, train loss:0.71\n"
     ]
    },
    {
     "name": "stderr",
     "output_type": "stream",
     "text": [
      "\r",
      " 20%|█████████████████████████████████████████                                                                                                                                                                    | 10/50 [00:36<02:26,  3.66s/it]"
     ]
    },
    {
     "name": "stdout",
     "output_type": "stream",
     "text": [
      "epoch:10, train accu:0.7267, train loss:0.69\n"
     ]
    },
    {
     "name": "stderr",
     "output_type": "stream",
     "text": [
      "\r",
      " 22%|█████████████████████████████████████████████                                                                                                                                                                | 11/50 [00:39<02:21,  3.62s/it]"
     ]
    },
    {
     "name": "stdout",
     "output_type": "stream",
     "text": [
      "epoch:11, train accu:0.7602, train loss:0.62\n"
     ]
    },
    {
     "name": "stderr",
     "output_type": "stream",
     "text": [
      "\r",
      " 24%|█████████████████████████████████████████████████▏                                                                                                                                                           | 12/50 [00:43<02:18,  3.64s/it]"
     ]
    },
    {
     "name": "stdout",
     "output_type": "stream",
     "text": [
      "epoch:12, train accu:0.7936, train loss:0.49\n"
     ]
    },
    {
     "name": "stderr",
     "output_type": "stream",
     "text": [
      "\r",
      " 26%|█████████████████████████████████████████████████████▎                                                                                                                                                       | 13/50 [00:46<02:13,  3.60s/it]"
     ]
    },
    {
     "name": "stdout",
     "output_type": "stream",
     "text": [
      "epoch:13, train accu:0.7805, train loss:0.51\n"
     ]
    },
    {
     "name": "stderr",
     "output_type": "stream",
     "text": [
      "\r",
      " 28%|█████████████████████████████████████████████████████████▍                                                                                                                                                   | 14/50 [00:50<02:11,  3.65s/it]"
     ]
    },
    {
     "name": "stdout",
     "output_type": "stream",
     "text": [
      "epoch:14, train accu:0.8067, train loss:0.50\n"
     ]
    },
    {
     "name": "stderr",
     "output_type": "stream",
     "text": [
      "\r",
      " 30%|█████████████████████████████████████████████████████████████▌                                                                                                                                               | 15/50 [00:54<02:07,  3.66s/it]"
     ]
    },
    {
     "name": "stdout",
     "output_type": "stream",
     "text": [
      "epoch:15, train accu:0.8009, train loss:0.50\n"
     ]
    },
    {
     "name": "stderr",
     "output_type": "stream",
     "text": [
      "\r",
      " 32%|█████████████████████████████████████████████████████████████████▌                                                                                                                                           | 16/50 [01:00<02:25,  4.29s/it]"
     ]
    },
    {
     "name": "stdout",
     "output_type": "stream",
     "text": [
      "epoch:16, train accu:0.7733, train loss:0.61\n"
     ]
    },
    {
     "name": "stderr",
     "output_type": "stream",
     "text": [
      "\r",
      " 34%|█████████████████████████████████████████████████████████████████████▋                                                                                                                                       | 17/50 [01:03<02:15,  4.11s/it]"
     ]
    },
    {
     "name": "stdout",
     "output_type": "stream",
     "text": [
      "epoch:17, train accu:0.8212, train loss:0.42\n"
     ]
    },
    {
     "name": "stderr",
     "output_type": "stream",
     "text": [
      "\r",
      " 36%|█████████████████████████████████████████████████████████████████████████▊                                                                                                                                   | 18/50 [01:07<02:03,  3.85s/it]"
     ]
    },
    {
     "name": "stdout",
     "output_type": "stream",
     "text": [
      "epoch:18, train accu:0.8096, train loss:0.44\n"
     ]
    },
    {
     "name": "stderr",
     "output_type": "stream",
     "text": [
      "\r",
      " 38%|█████████████████████████████████████████████████████████████████████████████▉                                                                                                                               | 19/50 [01:09<01:46,  3.42s/it]"
     ]
    },
    {
     "name": "stdout",
     "output_type": "stream",
     "text": [
      "epoch:19, train accu:0.8517, train loss:0.37\n"
     ]
    },
    {
     "name": "stderr",
     "output_type": "stream",
     "text": [
      "\r",
      " 40%|██████████████████████████████████████████████████████████████████████████████████                                                                                                                           | 20/50 [01:11<01:33,  3.13s/it]"
     ]
    },
    {
     "name": "stdout",
     "output_type": "stream",
     "text": [
      "epoch:20, train accu:0.8677, train loss:0.33\n"
     ]
    },
    {
     "name": "stderr",
     "output_type": "stream",
     "text": [
      "\r",
      " 42%|██████████████████████████████████████████████████████████████████████████████████████                                                                                                                       | 21/50 [01:14<01:24,  2.93s/it]"
     ]
    },
    {
     "name": "stdout",
     "output_type": "stream",
     "text": [
      "epoch:21, train accu:0.8430, train loss:0.38\n"
     ]
    },
    {
     "name": "stderr",
     "output_type": "stream",
     "text": [
      "\r",
      " 44%|██████████████████████████████████████████████████████████████████████████████████████████▏                                                                                                                  | 22/50 [01:16<01:18,  2.82s/it]"
     ]
    },
    {
     "name": "stdout",
     "output_type": "stream",
     "text": [
      "epoch:22, train accu:0.8968, train loss:0.30\n"
     ]
    },
    {
     "name": "stderr",
     "output_type": "stream",
     "text": [
      "\r",
      " 46%|██████████████████████████████████████████████████████████████████████████████████████████████▎                                                                                                              | 23/50 [01:19<01:13,  2.73s/it]"
     ]
    },
    {
     "name": "stdout",
     "output_type": "stream",
     "text": [
      "epoch:23, train accu:0.9026, train loss:0.28\n"
     ]
    },
    {
     "name": "stderr",
     "output_type": "stream",
     "text": [
      "\r",
      " 48%|██████████████████████████████████████████████████████████████████████████████████████████████████▍                                                                                                          | 24/50 [01:21<01:09,  2.65s/it]"
     ]
    },
    {
     "name": "stdout",
     "output_type": "stream",
     "text": [
      "epoch:24, train accu:0.8953, train loss:0.27\n"
     ]
    },
    {
     "name": "stderr",
     "output_type": "stream",
     "text": [
      "\r",
      " 50%|██████████████████████████████████████████████████████████████████████████████████████████████████████▌                                                                                                      | 25/50 [01:24<01:05,  2.62s/it]"
     ]
    },
    {
     "name": "stdout",
     "output_type": "stream",
     "text": [
      "epoch:25, train accu:0.8765, train loss:0.33\n"
     ]
    },
    {
     "name": "stderr",
     "output_type": "stream",
     "text": [
      "\r",
      " 52%|██████████████████████████████████████████████████████████████████████████████████████████████████████████▌                                                                                                  | 26/50 [01:26<01:01,  2.57s/it]"
     ]
    },
    {
     "name": "stdout",
     "output_type": "stream",
     "text": [
      "epoch:26, train accu:0.8823, train loss:0.35\n"
     ]
    },
    {
     "name": "stderr",
     "output_type": "stream",
     "text": [
      "\r",
      " 54%|██████████████████████████████████████████████████████████████████████████████████████████████████████████████▋                                                                                              | 27/50 [01:29<00:58,  2.56s/it]"
     ]
    },
    {
     "name": "stdout",
     "output_type": "stream",
     "text": [
      "epoch:27, train accu:0.8953, train loss:0.30\n"
     ]
    },
    {
     "name": "stderr",
     "output_type": "stream",
     "text": [
      "\r",
      " 56%|██████████████████████████████████████████████████████████████████████████████████████████████████████████████████▊                                                                                          | 28/50 [01:31<00:55,  2.54s/it]"
     ]
    },
    {
     "name": "stdout",
     "output_type": "stream",
     "text": [
      "epoch:28, train accu:0.8924, train loss:0.29\n"
     ]
    },
    {
     "name": "stderr",
     "output_type": "stream",
     "text": [
      "\r",
      " 58%|██████████████████████████████████████████████████████████████████████████████████████████████████████████████████████▉                                                                                      | 29/50 [01:34<00:52,  2.52s/it]"
     ]
    },
    {
     "name": "stdout",
     "output_type": "stream",
     "text": [
      "epoch:29, train accu:0.9041, train loss:0.27\n"
     ]
    },
    {
     "name": "stderr",
     "output_type": "stream",
     "text": [
      "\r",
      " 60%|███████████████████████████████████████████████████████████████████████████████████████████████████████████████████████████                                                                                  | 30/50 [01:36<00:50,  2.52s/it]"
     ]
    },
    {
     "name": "stdout",
     "output_type": "stream",
     "text": [
      "epoch:30, train accu:0.9201, train loss:0.19\n"
     ]
    },
    {
     "name": "stderr",
     "output_type": "stream",
     "text": [
      "\r",
      " 62%|███████████████████████████████████████████████████████████████████████████████████████████████████████████████████████████████                                                                              | 31/50 [01:39<00:47,  2.52s/it]"
     ]
    },
    {
     "name": "stdout",
     "output_type": "stream",
     "text": [
      "epoch:31, train accu:0.9360, train loss:0.22\n"
     ]
    },
    {
     "name": "stderr",
     "output_type": "stream",
     "text": [
      "\r",
      " 64%|███████████████████████████████████████████████████████████████████████████████████████████████████████████████████████████████████▏                                                                         | 32/50 [01:42<00:45,  2.54s/it]"
     ]
    },
    {
     "name": "stdout",
     "output_type": "stream",
     "text": [
      "epoch:32, train accu:0.9215, train loss:0.21\n"
     ]
    },
    {
     "name": "stderr",
     "output_type": "stream",
     "text": [
      "\r",
      " 66%|███████████████████████████████████████████████████████████████████████████████████████████████████████████████████████████████████████▎                                                                     | 33/50 [01:44<00:42,  2.51s/it]"
     ]
    },
    {
     "name": "stdout",
     "output_type": "stream",
     "text": [
      "epoch:33, train accu:0.9215, train loss:0.21\n"
     ]
    },
    {
     "name": "stderr",
     "output_type": "stream",
     "text": [
      "\r",
      " 68%|███████████████████████████████████████████████████████████████████████████████████████████████████████████████████████████████████████████▍                                                                 | 34/50 [01:47<00:40,  2.51s/it]"
     ]
    },
    {
     "name": "stdout",
     "output_type": "stream",
     "text": [
      "epoch:34, train accu:0.9331, train loss:0.19\n"
     ]
    },
    {
     "name": "stderr",
     "output_type": "stream",
     "text": [
      "\r",
      " 70%|███████████████████████████████████████████████████████████████████████████████████████████████████████████████████████████████████████████████▌                                                             | 35/50 [01:49<00:37,  2.51s/it]"
     ]
    },
    {
     "name": "stdout",
     "output_type": "stream",
     "text": [
      "epoch:35, train accu:0.9142, train loss:0.24\n"
     ]
    },
    {
     "name": "stderr",
     "output_type": "stream",
     "text": [
      "\r",
      " 72%|███████████████████████████████████████████████████████████████████████████████████████████████████████████████████████████████████████████████████▌                                                         | 36/50 [01:51<00:34,  2.46s/it]"
     ]
    },
    {
     "name": "stdout",
     "output_type": "stream",
     "text": [
      "epoch:36, train accu:0.9375, train loss:0.16\n"
     ]
    },
    {
     "name": "stderr",
     "output_type": "stream",
     "text": [
      "\r",
      " 74%|███████████████████████████████████████████████████████████████████████████████████████████████████████████████████████████████████████████████████████▋                                                     | 37/50 [01:54<00:32,  2.50s/it]"
     ]
    },
    {
     "name": "stdout",
     "output_type": "stream",
     "text": [
      "epoch:37, train accu:0.9084, train loss:0.24\n"
     ]
    },
    {
     "name": "stderr",
     "output_type": "stream",
     "text": [
      "\r",
      " 76%|███████████████████████████████████████████████████████████████████████████████████████████████████████████████████████████████████████████████████████████▊                                                 | 38/50 [01:57<00:32,  2.69s/it]"
     ]
    },
    {
     "name": "stdout",
     "output_type": "stream",
     "text": [
      "epoch:38, train accu:0.9549, train loss:0.14\n"
     ]
    },
    {
     "name": "stderr",
     "output_type": "stream",
     "text": [
      "\r",
      " 78%|███████████████████████████████████████████████████████████████████████████████████████████████████████████████████████████████████████████████████████████████▉                                             | 39/50 [02:00<00:28,  2.63s/it]"
     ]
    },
    {
     "name": "stdout",
     "output_type": "stream",
     "text": [
      "epoch:39, train accu:0.9404, train loss:0.16\n"
     ]
    },
    {
     "name": "stderr",
     "output_type": "stream",
     "text": [
      "\r",
      " 80%|████████████████████████████████████████████████████████████████████████████████████████████████████████████████████████████████████████████████████████████████████                                         | 40/50 [02:02<00:25,  2.59s/it]"
     ]
    },
    {
     "name": "stdout",
     "output_type": "stream",
     "text": [
      "epoch:40, train accu:0.9491, train loss:0.15\n"
     ]
    },
    {
     "name": "stderr",
     "output_type": "stream",
     "text": [
      "\r",
      " 82%|████████████████████████████████████████████████████████████████████████████████████████████████████████████████████████████████████████████████████████████████████████                                     | 41/50 [02:05<00:23,  2.57s/it]"
     ]
    },
    {
     "name": "stdout",
     "output_type": "stream",
     "text": [
      "epoch:41, train accu:0.9302, train loss:0.21\n"
     ]
    },
    {
     "name": "stderr",
     "output_type": "stream",
     "text": [
      "\r",
      " 84%|████████████████████████████████████████████████████████████████████████████████████████████████████████████████████████████████████████████████████████████████████████████▏                                | 42/50 [02:07<00:20,  2.54s/it]"
     ]
    },
    {
     "name": "stdout",
     "output_type": "stream",
     "text": [
      "epoch:42, train accu:0.9564, train loss:0.12\n"
     ]
    },
    {
     "name": "stderr",
     "output_type": "stream",
     "text": [
      "\r",
      " 86%|████████████████████████████████████████████████████████████████████████████████████████████████████████████████████████████████████████████████████████████████████████████████▎                            | 43/50 [02:10<00:17,  2.52s/it]"
     ]
    },
    {
     "name": "stdout",
     "output_type": "stream",
     "text": [
      "epoch:43, train accu:0.9433, train loss:0.16\n"
     ]
    },
    {
     "name": "stderr",
     "output_type": "stream",
     "text": [
      "\r",
      " 88%|████████████████████████████████████████████████████████████████████████████████████████████████████████████████████████████████████████████████████████████████████████████████████▍                        | 44/50 [02:12<00:14,  2.50s/it]"
     ]
    },
    {
     "name": "stdout",
     "output_type": "stream",
     "text": [
      "epoch:44, train accu:0.9593, train loss:0.11\n"
     ]
    },
    {
     "name": "stderr",
     "output_type": "stream",
     "text": [
      "\r",
      " 90%|████████████████████████████████████████████████████████████████████████████████████████████████████████████████████████████████████████████████████████████████████████████████████████▌                    | 45/50 [02:14<00:12,  2.48s/it]"
     ]
    },
    {
     "name": "stdout",
     "output_type": "stream",
     "text": [
      "epoch:45, train accu:0.9535, train loss:0.14\n"
     ]
    },
    {
     "name": "stderr",
     "output_type": "stream",
     "text": [
      "\r",
      " 92%|████████████████████████████████████████████████████████████████████████████████████████████████████████████████████████████████████████████████████████████████████████████████████████████▌                | 46/50 [02:17<00:09,  2.49s/it]"
     ]
    },
    {
     "name": "stdout",
     "output_type": "stream",
     "text": [
      "epoch:46, train accu:0.9738, train loss:0.08\n"
     ]
    },
    {
     "name": "stderr",
     "output_type": "stream",
     "text": [
      "\r",
      " 94%|████████████████████████████████████████████████████████████████████████████████████████████████████████████████████████████████████████████████████████████████████████████████████████████████▋            | 47/50 [02:19<00:07,  2.51s/it]"
     ]
    },
    {
     "name": "stdout",
     "output_type": "stream",
     "text": [
      "epoch:47, train accu:0.9855, train loss:0.05\n"
     ]
    },
    {
     "name": "stderr",
     "output_type": "stream",
     "text": [
      "\r",
      " 96%|████████████████████████████████████████████████████████████████████████████████████████████████████████████████████████████████████████████████████████████████████████████████████████████████████▊        | 48/50 [02:22<00:04,  2.47s/it]"
     ]
    },
    {
     "name": "stdout",
     "output_type": "stream",
     "text": [
      "epoch:48, train accu:0.9724, train loss:0.09\n"
     ]
    },
    {
     "name": "stderr",
     "output_type": "stream",
     "text": [
      "\r",
      " 98%|████████████████████████████████████████████████████████████████████████████████████████████████████████████████████████████████████████████████████████████████████████████████████████████████████████▉    | 49/50 [02:24<00:02,  2.50s/it]"
     ]
    },
    {
     "name": "stdout",
     "output_type": "stream",
     "text": [
      "epoch:49, train accu:0.8721, train loss:0.41\n"
     ]
    },
    {
     "name": "stderr",
     "output_type": "stream",
     "text": [
      "100%|█████████████████████████████████████████████████████████████████████████████████████████████████████████████████████████████████████████████████████████████████████████████████████████████████████████████| 50/50 [02:27<00:00,  2.95s/it]"
     ]
    },
    {
     "name": "stdout",
     "output_type": "stream",
     "text": [
      "epoch:50, train accu:0.9390, train loss:0.19\n"
     ]
    },
    {
     "name": "stderr",
     "output_type": "stream",
     "text": [
      "\n"
     ]
    }
   ],
   "source": [
    "from tqdm import tqdm\n",
    "from torchsummary import summary\n",
    "import torch.optim as optim\n",
    "\n",
    "model = ICASSP3CNN(1024, 24)\n",
    "model = model.to(device)\n",
    "criterion = nn.CrossEntropyLoss()\n",
    "optimizer = optim.Adam(model.parameters(), lr=0.001)\n",
    "\n",
    "epochs = 50\n",
    "train_losses = []\n",
    "train_accuracies = []\n",
    "valid_losses = []\n",
    "valid_accuracies = []\n",
    "\n",
    "for epoch in tqdm(range(epochs)):\n",
    "    train_loss = 0\n",
    "    acc_cnt = 0\n",
    "    err_cnt = 0\n",
    "    batch_cnt = 0\n",
    "    model.train()\n",
    "    for batch, (x, length, y) in enumerate(train_dataloader):\n",
    "        x = x.to(device)\n",
    "        y = y.to(device)\n",
    "        optimizer.zero_grad()\n",
    "        logits = model(x, length)\n",
    "        loss = criterion(logits, y)\n",
    "        loss.backward()\n",
    "        optimizer.step()\n",
    "        train_loss += loss.cpu().item()\n",
    "\n",
    "        #model outputs\n",
    "        out_val, out_indices = torch.max(logits, dim=1)\n",
    "        tar_indices = y\n",
    "\n",
    "        for i in range(len(out_indices)):\n",
    "            if out_indices[i] == tar_indices[i]:\n",
    "                acc_cnt += 1\n",
    "            else:\n",
    "                err_cnt += 1\n",
    "        batch_cnt += 1\n",
    "    \n",
    "    train_loss = train_loss/batch_cnt\n",
    "    train_accuracy = acc_cnt/(acc_cnt+err_cnt)\n",
    "    train_accuracies.append(train_accuracy)\n",
    "    train_losses.append(train_loss)\n",
    "    \n",
    "    print(f\"epoch:{epoch+1}, train accu:{train_accuracy:.4f},\", f\"train loss:{train_loss:.2f}\")"
   ]
  },
  {
   "cell_type": "markdown",
   "id": "b6f39dc8",
   "metadata": {},
   "source": [
    "### Model Test"
   ]
  },
  {
   "cell_type": "code",
   "execution_count": 34,
   "id": "461a176a",
   "metadata": {},
   "outputs": [
    {
     "name": "stdout",
     "output_type": "stream",
     "text": [
      "test accuracy: 0.5287356321839081\n"
     ]
    }
   ],
   "source": [
    "test_loss = 0\n",
    "acc_cnt = 0\n",
    "err_cnt = 0\n",
    "batch_cnt = 0\n",
    "model.eval()\n",
    "\n",
    "for x, lengths, y in test_dataloader:\n",
    "\n",
    "    x = x.to(device)\n",
    "    y = y.to(device)\n",
    "\n",
    "    logits = model(x, lengths)\n",
    "    loss = criterion(logits, y)\n",
    "    test_loss += loss.cpu().item()\n",
    "\n",
    "    out_val, out_indices = torch.max(logits, dim=1)\n",
    "    tar_indices = y\n",
    "\n",
    "    for i in range(len(out_indices)):\n",
    "        if out_indices[i] == tar_indices[i]:\n",
    "            acc_cnt += 1\n",
    "        else:\n",
    "            err_cnt += 1\n",
    "    batch_cnt += 1\n",
    "\n",
    "test_loss = test_loss/batch_cnt\n",
    "test_accuracy = acc_cnt/(acc_cnt+err_cnt)\n",
    "print(f'test accuracy: {test_accuracy}')"
   ]
  },
  {
   "cell_type": "code",
   "execution_count": 35,
   "id": "1b6c5224",
   "metadata": {},
   "outputs": [
    {
     "name": "stdout",
     "output_type": "stream",
     "text": [
      "aggr.weight tensor([[[ 0.1500],\n",
      "         [ 0.2260],\n",
      "         [-0.0191],\n",
      "         [ 0.2773],\n",
      "         [ 0.2997],\n",
      "         [ 0.2369],\n",
      "         [ 0.2869],\n",
      "         [ 0.2918],\n",
      "         [-0.0749],\n",
      "         [ 0.0859],\n",
      "         [ 0.0209],\n",
      "         [-0.1545],\n",
      "         [-0.0922],\n",
      "         [ 0.1081],\n",
      "         [ 0.1022],\n",
      "         [-0.1527],\n",
      "         [ 0.1565],\n",
      "         [ 0.1826],\n",
      "         [-0.1496],\n",
      "         [-0.1928],\n",
      "         [-0.0779],\n",
      "         [-0.1146],\n",
      "         [-0.0082],\n",
      "         [ 0.0374]]], device='cuda:0')\n",
      "aggr.bias tensor([-0.1927], device='cuda:0')\n",
      "embed.weight tensor([[ 0.0494, -0.0120,  0.0242,  ..., -0.0619, -0.0218,  0.0438],\n",
      "        [ 0.0078, -0.0064, -0.0006,  ..., -0.0797, -0.1039,  0.0328],\n",
      "        [ 0.0970,  0.0013, -0.0052,  ..., -0.0490,  0.0162,  0.0501],\n",
      "        ...,\n",
      "        [ 0.0338,  0.0048,  0.0180,  ...,  0.0874,  0.0187,  0.0016],\n",
      "        [-0.0543,  0.0269,  0.0260,  ..., -0.0602, -0.0778, -0.0377],\n",
      "        [-0.0186,  0.0341,  0.0055,  ...,  0.1248,  0.0238, -0.0315]],\n",
      "       device='cuda:0')\n",
      "embed.bias tensor([-0.0641, -0.0014, -0.0558, -0.0075, -0.0070,  0.1187,  0.0417,  0.0653,\n",
      "        -0.0274, -0.0632,  0.0474, -0.0152, -0.0556, -0.0307,  0.1179,  0.0150,\n",
      "         0.1117, -0.0480,  0.0172, -0.0318, -0.1385, -0.0079,  0.0315,  0.0801,\n",
      "         0.0585,  0.0730, -0.0607, -0.1702, -0.0276,  0.0549, -0.0383,  0.1345,\n",
      "        -0.0020,  0.0475,  0.0789, -0.0498,  0.0620, -0.0288,  0.0347,  0.0005,\n",
      "        -0.0043,  0.0101, -0.1150, -0.1593, -0.0020, -0.0596, -0.0971,  0.1491,\n",
      "        -0.0604,  0.0032, -0.0081, -0.0623, -0.0358, -0.0357, -0.1088,  0.0071,\n",
      "         0.0442,  0.0048,  0.0457,  0.0374, -0.0030,  0.0027, -0.0945, -0.1422,\n",
      "        -0.0272, -0.0609, -0.0311,  0.1295, -0.0336,  0.0249,  0.0075,  0.0153,\n",
      "         0.0356,  0.0267, -0.0273, -0.0677,  0.0542, -0.0375, -0.0524,  0.1534,\n",
      "         0.0019, -0.0560,  0.0923,  0.0860, -0.0195, -0.1144, -0.0284,  0.0092,\n",
      "        -0.0072,  0.0242, -0.1097,  0.0539, -0.0551,  0.0259, -0.0002,  0.0679,\n",
      "         0.0177, -0.0680, -0.0686, -0.0064,  0.0227,  0.0507, -0.0431, -0.0644,\n",
      "        -0.0095,  0.1408,  0.1470, -0.1465, -0.0436, -0.0155, -0.0653, -0.0949,\n",
      "        -0.0171, -0.0408,  0.0293,  0.1017,  0.0865, -0.0750, -0.0691,  0.0252,\n",
      "         0.0005, -0.1060, -0.0702, -0.1356, -0.0588, -0.0333, -0.0214,  0.1055],\n",
      "       device='cuda:0')\n",
      "cnn.weight tensor([[[ 0.0207,  0.0059,  0.0056],\n",
      "         [ 0.0506,  0.0297,  0.1341],\n",
      "         [ 0.0277,  0.0385,  0.0049],\n",
      "         ...,\n",
      "         [ 0.0378,  0.0138,  0.0616],\n",
      "         [-0.0518, -0.0014, -0.0719],\n",
      "         [-0.0566, -0.0600, -0.0393]],\n",
      "\n",
      "        [[ 0.0823,  0.0288,  0.0372],\n",
      "         [ 0.1476,  0.0858,  0.1272],\n",
      "         [ 0.0253,  0.0696, -0.0250],\n",
      "         ...,\n",
      "         [-0.0438,  0.0199, -0.0382],\n",
      "         [ 0.0232,  0.0018, -0.0305],\n",
      "         [-0.0096, -0.0677, -0.0438]],\n",
      "\n",
      "        [[ 0.0200,  0.0617,  0.0116],\n",
      "         [ 0.0740,  0.0979,  0.0732],\n",
      "         [ 0.0137,  0.0045, -0.0188],\n",
      "         ...,\n",
      "         [-0.0475, -0.0299,  0.0355],\n",
      "         [ 0.0401,  0.0116,  0.0203],\n",
      "         [-0.0912, -0.0444, -0.0750]],\n",
      "\n",
      "        ...,\n",
      "\n",
      "        [[-0.0435, -0.0428, -0.0117],\n",
      "         [-0.0547, -0.0548, -0.0793],\n",
      "         [-0.0028, -0.0533, -0.0285],\n",
      "         ...,\n",
      "         [-0.0114, -0.0679, -0.0583],\n",
      "         [-0.0181,  0.0021,  0.0511],\n",
      "         [-0.0020,  0.0474,  0.0308]],\n",
      "\n",
      "        [[-0.0338, -0.0148, -0.0428],\n",
      "         [-0.0317, -0.0550, -0.0007],\n",
      "         [-0.0147,  0.0413, -0.0252],\n",
      "         ...,\n",
      "         [-0.0509, -0.0084, -0.0133],\n",
      "         [-0.0155, -0.0052,  0.0289],\n",
      "         [ 0.0175,  0.0088, -0.0205]],\n",
      "\n",
      "        [[ 0.0244, -0.0041, -0.0148],\n",
      "         [-0.1021, -0.1206, -0.1251],\n",
      "         [ 0.1659,  0.0874,  0.1259],\n",
      "         ...,\n",
      "         [-0.0946,  0.0113, -0.0169],\n",
      "         [-0.0494, -0.0859, -0.0080],\n",
      "         [-0.0380,  0.0497,  0.0033]]], device='cuda:0')\n",
      "cnn.bias tensor([-0.0388,  0.0353, -0.0097,  0.0447,  0.0358,  0.0190, -0.0088,  0.0386,\n",
      "         0.0169, -0.0409,  0.0081,  0.0234, -0.0157,  0.0447, -0.0030, -0.0027,\n",
      "        -0.0232,  0.0440, -0.0347,  0.0306,  0.0312, -0.0002,  0.0448,  0.0235,\n",
      "         0.0232, -0.0139, -0.0424,  0.0245,  0.0344,  0.0010, -0.0418,  0.0044,\n",
      "         0.0378, -0.0212, -0.0493,  0.0100, -0.0432, -0.0412,  0.0359,  0.0505,\n",
      "         0.0252, -0.0225,  0.0377, -0.0169,  0.0366, -0.0151,  0.0098, -0.0261,\n",
      "        -0.0437, -0.0488,  0.0444, -0.0161, -0.0236,  0.0271,  0.0454, -0.0105,\n",
      "        -0.0122, -0.0503, -0.0473,  0.0498,  0.0041, -0.0260,  0.0490,  0.0199,\n",
      "        -0.0271, -0.0101,  0.0334,  0.0426,  0.0284, -0.0443,  0.0262,  0.0469,\n",
      "        -0.0252,  0.0158, -0.0025, -0.0463, -0.0095,  0.0050, -0.0253,  0.0397,\n",
      "        -0.0456, -0.0391, -0.0090,  0.0020,  0.0114,  0.0164, -0.0212, -0.0268,\n",
      "         0.0186, -0.0092, -0.0053, -0.0272, -0.0121,  0.0449, -0.0439,  0.0378,\n",
      "         0.0208, -0.0061, -0.0032, -0.0293,  0.0002, -0.0234,  0.0050,  0.0018,\n",
      "        -0.0273,  0.0186, -0.0195, -0.0497,  0.0217,  0.0059,  0.0422,  0.0038,\n",
      "        -0.0349, -0.0382,  0.0469, -0.0419,  0.0044, -0.0457, -0.0117, -0.0437,\n",
      "         0.0435,  0.0196,  0.0403, -0.0312,  0.0421,  0.0397,  0.0193,  0.0078],\n",
      "       device='cuda:0')\n",
      "cnn2.weight tensor([[[-0.0385, -0.0358,  0.0389, -0.0078,  0.0089],\n",
      "         [-0.0627, -0.0580, -0.0782,  0.0088, -0.0015],\n",
      "         [-0.0202, -0.0205,  0.0503, -0.0210,  0.0257],\n",
      "         ...,\n",
      "         [ 0.0003, -0.0485, -0.0283,  0.0017, -0.0092],\n",
      "         [-0.0058, -0.0285,  0.0255,  0.0386,  0.0469],\n",
      "         [ 0.0292, -0.0425, -0.0173,  0.0306,  0.0225]],\n",
      "\n",
      "        [[-0.0002, -0.0194, -0.0222, -0.0499, -0.0302],\n",
      "         [ 0.0060, -0.0057, -0.0063, -0.0016, -0.0265],\n",
      "         [ 0.0016, -0.0239, -0.0414, -0.0093, -0.0029],\n",
      "         ...,\n",
      "         [-0.0080, -0.0643, -0.0119, -0.0063, -0.0409],\n",
      "         [ 0.0084,  0.0290,  0.0294, -0.0144,  0.0188],\n",
      "         [ 0.0082,  0.0562,  0.0444, -0.0205,  0.0490]],\n",
      "\n",
      "        [[ 0.0270, -0.0079,  0.0421,  0.0844,  0.0808],\n",
      "         [-0.0175, -0.0348, -0.0106,  0.0460, -0.0229],\n",
      "         [ 0.0039,  0.0156, -0.0101, -0.0091, -0.0311],\n",
      "         ...,\n",
      "         [-0.0568, -0.0343, -0.0621, -0.0379, -0.0060],\n",
      "         [-0.0377,  0.0244, -0.0421, -0.0226,  0.0383],\n",
      "         [-0.0479, -0.0485, -0.0394, -0.0594, -0.0421]],\n",
      "\n",
      "        ...,\n",
      "\n",
      "        [[-0.0042, -0.0006, -0.0236, -0.0063,  0.0284],\n",
      "         [-0.0784, -0.0913, -0.1023, -0.0239, -0.0401],\n",
      "         [-0.0292,  0.0228, -0.0440, -0.0137,  0.0229],\n",
      "         ...,\n",
      "         [-0.0478, -0.0754, -0.0277, -0.0123,  0.0295],\n",
      "         [ 0.0183, -0.0023,  0.0161,  0.0047, -0.0230],\n",
      "         [ 0.0233, -0.0118,  0.0508, -0.0180, -0.0301]],\n",
      "\n",
      "        [[-0.0031, -0.0496, -0.0106, -0.0036,  0.0042],\n",
      "         [-0.0169, -0.0636, -0.0229, -0.0153,  0.0066],\n",
      "         [ 0.0480,  0.0300,  0.0215,  0.0282, -0.0221],\n",
      "         ...,\n",
      "         [ 0.0389,  0.0375, -0.0152,  0.0048,  0.0609],\n",
      "         [-0.0247,  0.0144, -0.0107, -0.0341, -0.0122],\n",
      "         [ 0.0116,  0.0319,  0.0577,  0.0519, -0.0336]],\n",
      "\n",
      "        [[-0.0666, -0.0496, -0.0240, -0.0109, -0.0306],\n",
      "         [-0.0530, -0.0379, -0.0143, -0.0297, -0.0488],\n",
      "         [ 0.0148,  0.0724,  0.0061,  0.0760,  0.0129],\n",
      "         ...,\n",
      "         [ 0.0029,  0.0080, -0.0584,  0.0257,  0.0168],\n",
      "         [-0.0165,  0.0279,  0.0394,  0.0280, -0.0078],\n",
      "         [-0.1336, -0.1141, -0.1067, -0.1285, -0.1065]]], device='cuda:0')\n",
      "cnn2.bias tensor([ 1.5983e-04,  3.2851e-02, -4.2430e-04, -2.1421e-02,  9.0352e-03,\n",
      "        -1.7600e-02,  5.3316e-03, -1.4248e-02,  1.1728e-02,  3.3708e-02,\n",
      "        -6.1605e-03,  2.7580e-02,  3.0880e-02,  9.5517e-03,  3.0655e-02,\n",
      "         3.8349e-02, -2.5053e-02, -1.0057e-02, -1.4971e-02, -2.5842e-02,\n",
      "         1.5211e-02,  2.6473e-02, -5.3295e-03, -2.9926e-02,  1.9445e-02,\n",
      "        -2.6848e-02,  1.6182e-02,  3.7870e-03,  2.0711e-02,  1.2833e-02,\n",
      "        -2.8601e-03,  3.0762e-02,  3.9051e-02, -2.3538e-02,  1.5262e-02,\n",
      "         2.0980e-02,  2.3640e-02, -8.9203e-03, -9.9648e-03, -2.6746e-02,\n",
      "        -2.0808e-02, -4.0755e-04,  2.0662e-02,  3.2265e-02, -2.4809e-02,\n",
      "        -3.9517e-02, -3.5011e-02, -2.4718e-02, -3.6888e-02, -6.0919e-03,\n",
      "        -1.2542e-02, -2.2101e-03,  6.8175e-03,  2.3524e-02,  1.6174e-02,\n",
      "         2.3310e-02, -3.8243e-02, -2.5924e-02,  3.9044e-02,  2.1277e-02,\n",
      "        -3.0787e-02, -3.1092e-02, -3.1775e-02,  5.0043e-03, -1.6489e-02,\n",
      "        -3.6009e-02,  2.4735e-02, -2.8419e-02,  2.6551e-03,  4.2403e-04,\n",
      "         3.6563e-02, -2.6393e-03, -1.2884e-04, -2.6487e-03, -3.7544e-02,\n",
      "         2.1215e-02, -2.6262e-03, -1.6020e-02,  2.0007e-02,  2.8052e-02,\n",
      "         3.3995e-02, -3.8767e-02, -2.8623e-02, -3.6824e-02,  8.1946e-03,\n",
      "        -1.8321e-02,  1.5520e-02,  2.0338e-02, -2.9508e-02, -3.1818e-02,\n",
      "         2.6508e-02, -1.6856e-02, -2.9904e-02, -2.3979e-02, -1.4460e-02,\n",
      "         1.0276e-02,  1.1983e-02, -2.9010e-02, -5.2487e-03, -1.9016e-02,\n",
      "        -1.0240e-02,  6.8284e-03,  9.4037e-03,  1.5560e-02, -1.8447e-02,\n",
      "         2.1091e-02, -2.6791e-02, -2.2292e-02,  1.5222e-02,  9.0063e-03,\n",
      "         2.3537e-02, -2.3597e-02,  2.5949e-02,  5.0139e-03,  1.9331e-02,\n",
      "         1.7003e-02, -6.6800e-03, -2.8352e-02, -6.0858e-03,  2.6210e-05,\n",
      "        -1.6025e-02, -2.9710e-02, -3.2928e-02,  2.0862e-02,  2.4514e-02,\n",
      "        -1.7517e-02, -1.4622e-02,  1.0270e-02], device='cuda:0')\n",
      "cnn3.weight tensor([[[ 0.0143, -0.0044,  0.0504,  ...,  0.0665,  0.0902,  0.1169],\n",
      "         [ 0.0998,  0.0963,  0.0350,  ...,  0.0499,  0.0953,  0.0966],\n",
      "         [ 0.0623,  0.0351,  0.0509,  ...,  0.0180, -0.0007,  0.0074],\n",
      "         ...,\n",
      "         [-0.0379, -0.0083,  0.0131,  ..., -0.0087, -0.0081,  0.0190],\n",
      "         [ 0.0692, -0.0288, -0.0575,  ..., -0.0469, -0.0453, -0.0243],\n",
      "         [ 0.0347,  0.0179,  0.0710,  ...,  0.0353,  0.0477,  0.0202]],\n",
      "\n",
      "        [[ 0.0310,  0.0580,  0.0984,  ...,  0.0570,  0.0464,  0.0361],\n",
      "         [ 0.0055,  0.0650,  0.1248,  ...,  0.1146,  0.0608,  0.0401],\n",
      "         [ 0.0454,  0.0067,  0.0123,  ..., -0.0098, -0.0181,  0.0250],\n",
      "         ...,\n",
      "         [-0.0005, -0.0464, -0.0374,  ..., -0.0216,  0.0005, -0.0101],\n",
      "         [ 0.0169,  0.0044,  0.0612,  ..., -0.0186, -0.0021,  0.0241],\n",
      "         [-0.0761, -0.0651, -0.0716,  ..., -0.0043, -0.0090, -0.0037]],\n",
      "\n",
      "        [[-0.0033,  0.0303,  0.0334,  ..., -0.0135, -0.0018, -0.0443],\n",
      "         [-0.0045,  0.0171, -0.0214,  ..., -0.0282, -0.0370,  0.0036],\n",
      "         [-0.0061,  0.0413,  0.0247,  ...,  0.0345,  0.0478,  0.0390],\n",
      "         ...,\n",
      "         [ 0.0412, -0.0002,  0.0337,  ...,  0.0458,  0.1087,  0.0787],\n",
      "         [ 0.0006,  0.0041, -0.0463,  ..., -0.0031, -0.0112, -0.0374],\n",
      "         [-0.0003, -0.0095,  0.0176,  ...,  0.0123, -0.0131,  0.0316]],\n",
      "\n",
      "        ...,\n",
      "\n",
      "        [[-0.0165, -0.0127, -0.0225,  ..., -0.0519, -0.0124, -0.0794],\n",
      "         [-0.0633, -0.0062,  0.0340,  ...,  0.0308,  0.0559,  0.0361],\n",
      "         [-0.1059, -0.0764, -0.0404,  ...,  0.0177, -0.0365, -0.0689],\n",
      "         ...,\n",
      "         [ 0.0115,  0.0322,  0.0223,  ...,  0.0577,  0.0608,  0.0220],\n",
      "         [-0.0108,  0.0101,  0.0022,  ..., -0.0160, -0.0213, -0.0129],\n",
      "         [ 0.0631,  0.0424,  0.0370,  ...,  0.0307,  0.0622,  0.0822]],\n",
      "\n",
      "        [[-0.0498, -0.0057, -0.0355,  ..., -0.0032,  0.0219,  0.0109],\n",
      "         [ 0.0153,  0.0021,  0.0184,  ..., -0.0191,  0.0603,  0.0507],\n",
      "         [ 0.0085,  0.0169, -0.0191,  ..., -0.0432, -0.0157, -0.0366],\n",
      "         ...,\n",
      "         [ 0.0507,  0.0126,  0.0089,  ..., -0.0123, -0.0133,  0.0598],\n",
      "         [ 0.0492, -0.0148, -0.0510,  ..., -0.0358,  0.0445, -0.0039],\n",
      "         [-0.1040, -0.0740, -0.0199,  ...,  0.0187, -0.0252, -0.0785]],\n",
      "\n",
      "        [[ 0.0101,  0.0096, -0.0746,  ..., -0.0808, -0.0735, -0.0613],\n",
      "         [ 0.0078,  0.0578,  0.0334,  ...,  0.0162, -0.0007,  0.0357],\n",
      "         [-0.0925, -0.0801, -0.0654,  ..., -0.0949, -0.0758, -0.0431],\n",
      "         ...,\n",
      "         [ 0.0645,  0.0627,  0.0555,  ...,  0.0667,  0.0394, -0.0159],\n",
      "         [-0.0235, -0.0244,  0.0083,  ..., -0.0103, -0.0330, -0.0047],\n",
      "         [ 0.0517,  0.0637,  0.0149,  ...,  0.0293,  0.0579,  0.0368]]],\n",
      "       device='cuda:0')\n",
      "cnn3.bias tensor([-3.3426e-02,  5.9841e-03,  2.0519e-02, -1.5737e-02, -3.1809e-02,\n",
      "        -7.7136e-03, -9.2867e-04,  3.3296e-02, -8.3439e-03,  2.4614e-02,\n",
      "        -4.2161e-03,  1.0265e-02, -7.6806e-04, -3.2747e-02,  3.0510e-02,\n",
      "        -2.0244e-02,  2.5120e-04, -1.5026e-03, -3.2466e-02, -2.1638e-03,\n",
      "         2.0138e-02,  2.5493e-02,  5.4138e-03, -8.6018e-03,  1.3124e-02,\n",
      "         1.4367e-02,  2.9839e-02,  2.3115e-02,  2.2635e-02, -1.2127e-02,\n",
      "        -1.4211e-02, -1.8329e-02, -8.5281e-03,  1.3337e-02, -6.0422e-03,\n",
      "        -6.1033e-03,  2.1949e-02,  4.7199e-03,  1.4168e-02, -3.2567e-02,\n",
      "         3.1943e-02, -4.5128e-03, -2.3586e-02, -2.4587e-02,  2.1187e-02,\n",
      "        -5.5958e-03,  8.7020e-03,  4.1979e-03,  4.6213e-04, -2.7558e-02,\n",
      "         1.8013e-02,  6.2045e-03,  5.6180e-03, -3.2406e-02, -3.3154e-02,\n",
      "         7.4389e-03,  8.6575e-03, -3.1562e-03,  8.6574e-04,  9.0759e-03,\n",
      "         1.4818e-02, -1.8107e-02, -1.2290e-07,  2.0721e-02,  2.0079e-02,\n",
      "         8.6864e-03,  1.0649e-02, -1.5876e-02, -5.9960e-03, -1.1088e-02,\n",
      "        -2.5253e-03,  3.0685e-02, -3.1357e-02, -1.8591e-02, -2.6024e-02,\n",
      "         3.1782e-02,  1.1414e-02, -1.0098e-02, -3.2184e-02, -3.1343e-02,\n",
      "         2.5256e-02,  1.9023e-02, -1.8254e-02,  5.0990e-03,  2.4532e-02,\n",
      "         3.0291e-02,  9.4854e-03,  2.3495e-02, -1.3429e-02, -3.3153e-02,\n",
      "         2.1836e-02, -1.4773e-02, -1.7804e-02, -4.9715e-03,  1.6663e-02,\n",
      "        -9.2472e-03,  1.0186e-02,  3.1661e-02, -2.2314e-02,  2.9684e-03,\n",
      "         1.1715e-02, -6.5421e-03, -2.5489e-02,  7.0861e-03, -8.2083e-04,\n",
      "        -2.5109e-02,  4.6645e-03, -1.0711e-02, -1.1091e-03, -1.1708e-02,\n",
      "         1.6098e-02, -4.0859e-03, -2.0049e-02, -7.9591e-03, -8.6469e-03,\n",
      "         8.8260e-03, -1.6964e-02,  3.2578e-02,  2.5320e-02,  1.1851e-02,\n",
      "        -1.6766e-02, -2.8076e-02, -8.2708e-03, -2.4219e-02, -5.1398e-04,\n",
      "        -2.8866e-02,  2.8651e-02,  1.1773e-02], device='cuda:0')\n",
      "batchnorm.weight tensor([0.9291, 1.0034, 1.0396, 0.9960, 1.0399, 0.9698, 0.9540, 1.0210, 0.9801,\n",
      "        1.0106, 1.0002, 0.9894, 0.9225, 0.9552, 1.0202, 1.0091, 0.9892, 0.9749,\n",
      "        0.9842, 1.0256, 0.9925, 0.9867, 0.9941, 0.9252, 1.0377, 1.0140, 0.9943,\n",
      "        0.9871, 1.0144, 0.9434, 0.8878, 1.0035, 1.0185, 1.0314, 0.9837, 0.9595,\n",
      "        0.9940, 1.0240, 0.9735, 0.9593, 1.0826, 0.9601, 1.0002, 0.9960, 1.0240,\n",
      "        0.9304, 1.0362, 0.9527, 0.9220, 1.0029, 0.9804, 0.9762, 0.9584, 1.0344,\n",
      "        0.9487, 0.9999, 0.9487, 0.9811, 1.0223, 1.0351, 0.9380, 0.9490, 1.0174,\n",
      "        1.0031, 1.0238, 1.0184, 0.9808, 0.9625, 1.0011, 1.0216, 1.0216, 0.9581,\n",
      "        1.0346, 1.0216, 0.9659, 0.9644, 0.8879, 0.9734, 1.0177, 0.9714, 0.9680,\n",
      "        1.0260, 0.9647, 1.0305, 1.0303, 1.0019, 0.9457, 1.0100, 1.0444, 0.9651,\n",
      "        0.9651, 1.0140, 1.0039, 0.9958, 0.9786, 0.9767, 0.9708, 0.8832, 0.8898,\n",
      "        0.9412, 0.9717, 1.0357, 0.9534, 1.0267, 1.0203, 1.0195, 1.0148, 0.9800,\n",
      "        0.9010, 0.9833, 1.0389, 0.9183, 0.9275, 0.9592, 1.0068, 1.0337, 1.0087,\n",
      "        1.0394, 1.0664, 1.0255, 1.0209, 0.9821, 0.9573, 0.9897, 0.9693, 0.9497,\n",
      "        0.9379, 0.9783, 0.9235, 0.9600, 0.9633, 0.9835, 0.9266, 1.0031, 1.0374,\n",
      "        0.9780, 0.9989, 0.9384, 1.0476, 0.9698, 1.0104, 0.9666, 0.9020, 0.9436,\n",
      "        0.9221, 0.9088, 0.9550, 1.0176, 0.9785, 1.0218, 0.9457, 0.9994, 0.9501,\n",
      "        1.0268, 1.0245, 0.9538, 0.9712, 1.0448, 1.0020, 0.8504, 0.9204, 0.8579,\n",
      "        0.9593, 1.0131, 0.9689, 1.0038, 0.9651, 1.0326, 1.0035, 0.9325, 0.9791,\n",
      "        0.9270, 1.0453, 0.9790, 1.0259, 1.0084, 0.9838, 0.9715, 0.9807, 0.9384,\n",
      "        0.9325, 1.0367, 0.9582, 0.9595, 0.9634, 0.9392, 0.9252, 0.9126, 1.0212,\n",
      "        0.9881, 0.8973, 1.0055, 0.9235, 0.9878, 0.9348, 1.0137, 1.0012, 1.0074,\n",
      "        0.9363, 0.9594, 0.9396, 0.9249, 1.0157, 1.0239, 0.9799, 0.9643, 0.9937,\n",
      "        1.0409, 0.9508, 0.9033, 1.0082, 0.9670, 0.9644, 1.0072, 0.9802, 1.0291,\n",
      "        0.9614, 0.9605, 0.9729, 0.9543, 0.9765, 0.9835, 0.9289, 0.9567, 1.0283,\n",
      "        0.9643, 0.9636, 0.9396, 0.9750, 0.9865, 0.9905, 0.9505, 1.0337, 0.9676,\n",
      "        0.9815, 0.9397, 0.9999, 0.9069, 1.0182, 0.9616, 0.9232, 1.0144, 0.9723,\n",
      "        1.0038, 1.0099, 0.9649, 0.9501, 0.9204, 1.0365, 0.9645, 0.8927, 1.0250,\n",
      "        0.9613, 0.9361, 1.0284, 1.0241, 1.0014, 0.9608, 1.0227, 1.0298, 0.9844,\n",
      "        0.9181, 0.9869, 0.9747, 0.9925, 0.9809, 0.9506, 0.9081, 0.9650, 1.0094,\n",
      "        0.9608, 0.9215, 1.0331, 0.9313, 0.9262, 0.9528, 1.0184, 0.9955, 0.9953,\n",
      "        1.0409, 1.0224, 0.9525, 0.9133, 0.9196, 0.9708, 0.9141, 1.0207, 1.0133,\n",
      "        0.9995, 1.0001, 0.9731, 1.0082, 0.8587, 0.9614, 0.9379, 0.9344, 0.9175,\n",
      "        0.9368, 0.9624, 0.9636, 0.9099, 0.9582, 0.8926, 0.9836, 0.9822, 1.0225,\n",
      "        0.9572, 0.9759, 0.9875, 0.9651, 0.9553, 0.8458, 0.9597, 0.9533, 0.9692,\n",
      "        0.9781, 0.9372, 0.9400, 1.0011, 0.9428, 1.0079, 0.9809, 0.8432, 0.8769,\n",
      "        0.9316, 0.8953, 1.0259, 0.9703, 0.9863, 1.0258, 0.9635, 0.9271, 0.9863,\n",
      "        0.9886, 0.8577, 0.9866, 1.0236, 0.9714, 0.9619, 0.9646, 0.9554, 0.9716,\n",
      "        1.0058, 0.9957, 0.9185, 0.9053, 1.0376, 0.9452, 0.9224, 0.9387, 0.9613,\n",
      "        0.9844, 0.9835, 0.9127, 0.9877, 1.0109, 0.9436, 0.9593, 0.9828, 0.9232,\n",
      "        0.9857, 0.9301, 1.0153, 0.9697, 0.9742, 0.9728, 1.0475, 0.9644, 0.9660,\n",
      "        0.9622, 1.0422, 0.9020, 0.9423, 0.9775, 0.9644, 0.9836, 1.0295, 1.0148,\n",
      "        0.9815, 0.9995, 1.0073, 0.9993, 0.9680, 1.0288], device='cuda:0')\n",
      "batchnorm.bias tensor([-0.1436, -0.0791, -0.0802, -0.0546, -0.0645, -0.1020, -0.0305, -0.0783,\n",
      "        -0.0298, -0.0676, -0.0568, -0.0011, -0.0575, -0.0617, -0.0573, -0.0132,\n",
      "        -0.0200, -0.0332, -0.0227, -0.0669, -0.0184, -0.1023, -0.0170, -0.0194,\n",
      "        -0.0548,  0.0061, -0.0023, -0.0946, -0.0576, -0.0576, -0.1307, -0.0996,\n",
      "        -0.0771, -0.0476, -0.0478, -0.0140, -0.0705, -0.0679, -0.0577, -0.0311,\n",
      "        -0.0762, -0.0043, -0.0840, -0.0876, -0.0778, -0.0750, -0.0571, -0.0420,\n",
      "        -0.0874, -0.1139, -0.0136, -0.0275, -0.0241, -0.0441, -0.0427, -0.0767,\n",
      "        -0.0357, -0.0459, -0.0495, -0.0290, -0.0188, -0.0414, -0.0861, -0.0986,\n",
      "        -0.0480, -0.0437, -0.0870, -0.0176,  0.0402, -0.0493, -0.0504, -0.0253,\n",
      "        -0.0742, -0.0374,  0.0045, -0.0368, -0.1074, -0.0359, -0.0643, -0.0902,\n",
      "        -0.0259, -0.0492, -0.0484, -0.0635, -0.0472, -0.0538, -0.1330, -0.0579,\n",
      "        -0.0721, -0.0150, -0.0119, -0.0423, -0.0738, -0.0757, -0.0137, -0.1014,\n",
      "        -0.0412, -0.1014, -0.1270, -0.1186, -0.0229, -0.0477, -0.0061, -0.0692,\n",
      "        -0.0425, -0.0854, -0.0600, -0.1218, -0.1062, -0.0880, -0.0804, -0.0494,\n",
      "        -0.0314, -0.0605, -0.0695, -0.0509, -0.0319, -0.0506, -0.0392, -0.0583,\n",
      "        -0.0544, -0.0224, -0.0400, -0.0022, -0.0674, -0.0276, -0.0679,  0.0082,\n",
      "        -0.0805, -0.0240, -0.0379, -0.0237, -0.0303, -0.0116, -0.0358, -0.0617,\n",
      "        -0.0698, -0.0508, -0.0505, -0.0507, -0.0726, -0.0089, -0.1021, -0.0493,\n",
      "        -0.0452, -0.0997, -0.0084, -0.0732, -0.0212, -0.0565, -0.0730, -0.0678,\n",
      "        -0.0255, -0.0580, -0.0453, -0.0522, -0.1050, -0.0262, -0.0482, -0.1595,\n",
      "        -0.0614, -0.1750, -0.0403, -0.0678, -0.0521, -0.0697, -0.0930, -0.0527,\n",
      "        -0.0814, -0.0581, -0.0271, -0.0602, -0.0317, -0.0914, -0.0545, -0.0410,\n",
      "        -0.0900, -0.1008, -0.1058, -0.0206, -0.0894, -0.0687, -0.0713, -0.0373,\n",
      "        -0.0489, -0.1194, -0.0901, -0.1522, -0.0682, -0.0359, -0.1034, -0.0617,\n",
      "        -0.1514, -0.0866, -0.0918, -0.0045, -0.0253, -0.0002, -0.0410, -0.0232,\n",
      "        -0.0662, -0.0662, -0.0486, -0.0436, -0.0440, -0.1218, -0.0849, -0.0433,\n",
      "        -0.1161, -0.0374, -0.0555, -0.0349, -0.0267, -0.0211, -0.0920, -0.0389,\n",
      "        -0.0433, -0.0110, -0.0262, -0.0547, -0.0193, -0.0146, -0.0688, -0.0292,\n",
      "        -0.0703, -0.0277, -0.0369, -0.0347, -0.0876, -0.0229, -0.0165, -0.0552,\n",
      "        -0.0569, -0.0098, -0.0816, -0.0729, -0.0649, -0.0821, -0.0557, -0.0947,\n",
      "        -0.0380, -0.0395, -0.0495, -0.0752, -0.0810, -0.0332, -0.0941, -0.0361,\n",
      "        -0.0489, -0.0514, -0.0911, -0.0368, -0.0376, -0.0209, -0.0398, -0.0440,\n",
      "        -0.0821, -0.1284, -0.0300, -0.0660, -0.0794, -0.0470, -0.0213, -0.0337,\n",
      "        -0.0570, -0.1051, -0.0104, -0.0459, -0.0550, -0.0423, -0.0341, -0.0692,\n",
      "        -0.0318, -0.1250, -0.0512, -0.0406, -0.0520, -0.0549, -0.0724, -0.0625,\n",
      "        -0.0542, -0.0636, -0.0688, -0.0643, -0.0871, -0.1338, -0.0372, -0.0849,\n",
      "        -0.0700, -0.0767, -0.0643, -0.0435, -0.1356, -0.0740, -0.0535, -0.0701,\n",
      "        -0.0730, -0.0675, -0.0161, -0.0015, -0.0806, -0.0719, -0.0510, -0.0370,\n",
      "        -0.0476, -0.0677, -0.0995, -0.0405, -0.0338, -0.0726, -0.0629, -0.1619,\n",
      "        -0.0893, -0.0089, -0.0768, -0.0175, -0.0484, -0.0296, -0.0762, -0.0466,\n",
      "        -0.0034, -0.0220, -0.1362, -0.1084, -0.1234, -0.1118, -0.0368, -0.0577,\n",
      "        -0.0725, -0.0564, -0.0371, -0.0563, -0.0485, -0.0069, -0.1647, -0.0410,\n",
      "        -0.0705, -0.1049, -0.0893, -0.0320, -0.1263, -0.1147, -0.0074, -0.0792,\n",
      "        -0.1272, -0.1177, -0.0182, -0.0504, -0.0906, -0.0007, -0.0718, -0.0386,\n",
      "        -0.0777, -0.0525, -0.0720, -0.0404, -0.0324, -0.0960, -0.0256, -0.0991,\n",
      "        -0.0296, -0.0222, -0.0918, -0.0181,  0.0186, -0.0004, -0.0179, -0.0346,\n",
      "        -0.0633, -0.0100, -0.0702, -0.0781, -0.0621, -0.0952, -0.0273, -0.0871,\n",
      "        -0.0718, -0.0644, -0.0168, -0.0667, -0.0795, -0.0649, -0.1151, -0.0561],\n",
      "       device='cuda:0')\n",
      "lstm.weight_ih_l0 tensor([[-0.0499, -0.0158, -0.0058,  ..., -0.0755, -0.0224,  0.0057],\n",
      "        [ 0.0675,  0.0250, -0.0437,  ...,  0.0128,  0.0785,  0.0008],\n",
      "        [-0.0634, -0.0230, -0.0057,  ..., -0.0186,  0.0275, -0.0171],\n",
      "        ...,\n",
      "        [-0.0622, -0.0173,  0.0169,  ..., -0.0076, -0.0159, -0.0128],\n",
      "        [-0.0178, -0.0622, -0.0586,  ..., -0.0646, -0.0436,  0.0344],\n",
      "        [-0.0506, -0.0170, -0.0262,  ..., -0.0689, -0.0712, -0.0508]],\n",
      "       device='cuda:0')\n",
      "lstm.weight_hh_l0 tensor([[-0.0377, -0.0090,  0.0621,  ..., -0.0088,  0.0165,  0.0206],\n",
      "        [ 0.0354, -0.0026, -0.0277,  ...,  0.0536,  0.0168, -0.0079],\n",
      "        [-0.0373, -0.0521,  0.0252,  ...,  0.0679, -0.0397, -0.0068],\n",
      "        ...,\n",
      "        [ 0.0133, -0.0579,  0.0207,  ...,  0.0249,  0.0091,  0.0165],\n",
      "        [ 0.0121,  0.0207,  0.0142,  ..., -0.0183, -0.0094, -0.0367],\n",
      "        [ 0.0131, -0.0525,  0.0537,  ..., -0.0090,  0.0129,  0.0609]],\n",
      "       device='cuda:0')\n",
      "lstm.bias_ih_l0 tensor([-0.0820, -0.0216, -0.0682,  ..., -0.0680, -0.0150, -0.0710],\n",
      "       device='cuda:0')\n",
      "lstm.bias_hh_l0 tensor([-0.0893,  0.0287, -0.0253,  ..., -0.0157, -0.0438, -0.0669],\n",
      "       device='cuda:0')\n",
      "lstm.weight_ih_l1 tensor([[-0.0381, -0.0663, -0.0355,  ...,  0.0235,  0.0598, -0.0232],\n",
      "        [-0.0027, -0.0671, -0.0674,  ..., -0.0583, -0.0547, -0.0095],\n",
      "        [-0.0178, -0.0400,  0.0548,  ...,  0.0286,  0.0606, -0.0296],\n",
      "        ...,\n",
      "        [ 0.0098,  0.0604, -0.0247,  ..., -0.0299, -0.0276,  0.0399],\n",
      "        [ 0.0280, -0.0211, -0.0219,  ..., -0.0282,  0.0112,  0.0115],\n",
      "        [ 0.0201,  0.0287, -0.0006,  ...,  0.0216,  0.0454,  0.0676]],\n",
      "       device='cuda:0')\n",
      "lstm.weight_hh_l1 tensor([[ 0.0186, -0.0071, -0.0583,  ...,  0.0263,  0.0363,  0.0369],\n",
      "        [ 0.0098,  0.0134, -0.0505,  ..., -0.0711,  0.0466, -0.0846],\n",
      "        [ 0.0444,  0.0377,  0.0330,  ..., -0.0156,  0.0010, -0.0070],\n",
      "        ...,\n",
      "        [ 0.0451, -0.0075, -0.0102,  ...,  0.0040,  0.0179,  0.0308],\n",
      "        [-0.0485, -0.0247, -0.0062,  ..., -0.0050, -0.0123, -0.0149],\n",
      "        [-0.0046, -0.0176, -0.0521,  ...,  0.0028,  0.0436, -0.0220]],\n",
      "       device='cuda:0')\n",
      "lstm.bias_ih_l1 tensor([-0.0998, -0.1146, -0.0736,  ...,  0.0148, -0.1021, -0.0592],\n",
      "       device='cuda:0')\n",
      "lstm.bias_hh_l1 tensor([-0.1319, -0.0419, -0.0909,  ...,  0.0170, -0.1018, -0.0778],\n",
      "       device='cuda:0')\n",
      "linear.weight tensor([[-0.0296, -0.0488,  0.0650,  ...,  0.0050,  0.0115, -0.0554],\n",
      "        [ 0.0116,  0.0538, -0.0158,  ..., -0.0672, -0.0357, -0.0043],\n",
      "        [-0.0077, -0.0448, -0.0584,  ...,  0.0558,  0.0351,  0.0536],\n",
      "        [ 0.0474,  0.0436, -0.0123,  ..., -0.0618, -0.0275, -0.0958],\n",
      "        [ 0.0393, -0.0534, -0.0254,  ...,  0.0342,  0.0455,  0.0296],\n",
      "        [-0.0328, -0.0549, -0.0461,  ..., -0.0585,  0.0550,  0.0170]],\n",
      "       device='cuda:0')\n",
      "linear.bias tensor([ 0.0162, -0.0291, -0.0131, -0.0467,  0.0261,  0.0028], device='cuda:0')\n"
     ]
    }
   ],
   "source": [
    "for name, param in model.named_parameters():\n",
    "    if param.requires_grad:\n",
    "        print(name, param.data)"
   ]
  }
 ],
 "metadata": {
  "kernelspec": {
   "display_name": "Python 3",
   "language": "python",
   "name": "python3"
  },
  "language_info": {
   "codemirror_mode": {
    "name": "ipython",
    "version": 3
   },
   "file_extension": ".py",
   "mimetype": "text/x-python",
   "name": "python",
   "nbconvert_exporter": "python",
   "pygments_lexer": "ipython3",
   "version": "3.7.12"
  }
 },
 "nbformat": 4,
 "nbformat_minor": 5
}
