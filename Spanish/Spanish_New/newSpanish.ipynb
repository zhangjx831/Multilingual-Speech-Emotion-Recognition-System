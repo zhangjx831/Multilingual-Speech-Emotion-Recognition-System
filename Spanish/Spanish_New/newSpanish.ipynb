{
 "cells": [
  {
   "cell_type": "code",
   "execution_count": 1,
   "id": "fcff203e",
   "metadata": {},
   "outputs": [],
   "source": [
    "import re\n",
    "import os\n",
    "import pandas as pd\n",
    "import random\n",
    "from tqdm import tqdm \n",
    "\n",
    "file_paths, file_names, emotions, audios = [], [], [], []\n",
    "emotion_map = {'Neutral': 'neutral', 'Anger': 'angry', 'Happiness': 'happy', 'Sadness': 'sad', 'Fear': 'fear',\n",
    "              'Disgust': 'disgust'}\n",
    "\n",
    "main_path = '/home/rl3155/Multilingual-Speech-Emotion-Recognition-System/Spanish/Spanish_New'\n",
    "DATA_NATURAL = \"/home/rl3155/MESD_All\""
   ]
  },
  {
   "cell_type": "code",
   "execution_count": 2,
   "id": "371d6085",
   "metadata": {},
   "outputs": [
    {
     "name": "stdout",
     "output_type": "stream",
     "text": [
      "1.12.1\n",
      "0.12.1+cu113\n",
      "cuda\n"
     ]
    }
   ],
   "source": [
    "import torch\n",
    "import torchaudio\n",
    "\n",
    "print(torch.__version__)\n",
    "print(torchaudio.__version__)\n",
    "\n",
    "torch.random.manual_seed(0)\n",
    "device = torch.device(\"cuda\" if torch.cuda.is_available() else \"cpu\")\n",
    "\n",
    "print(device)"
   ]
  },
  {
   "cell_type": "code",
   "execution_count": 3,
   "id": "4675fdb9",
   "metadata": {},
   "outputs": [
    {
     "name": "stdout",
     "output_type": "stream",
     "text": [
      "<class 'torchaudio.models.wav2vec2.model.Wav2Vec2Model'>\n",
      "16000\n"
     ]
    }
   ],
   "source": [
    "bundle = torchaudio.pipelines.WAV2VEC2_BASE\n",
    "extractor = bundle.get_model()\n",
    "print(extractor.__class__)\n",
    "print(bundle.sample_rate)"
   ]
  },
  {
   "cell_type": "markdown",
   "id": "99632c2f",
   "metadata": {},
   "source": [
    "### Random get 5 parts of the entries -- only run code below 1 time"
   ]
  },
  {
   "cell_type": "code",
   "execution_count": 4,
   "id": "f3d788ed",
   "metadata": {},
   "outputs": [
    {
     "name": "stderr",
     "output_type": "stream",
     "text": [
      "100%|██████████████████████████████████████████████████████████████████████████████████████████████████████████████████████████████████████████████████████████████████████████████████████████████████████| 863/863 [00:00<00:00, 523000.20it/s]\n"
     ]
    }
   ],
   "source": [
    "# Define path to datasets; create a random chunked 5 parts of entries\n",
    "# entries = os.listdir(DATA_NATURAL)\n",
    "# random.shuffle(entries)\n",
    "# session = []\n",
    "# equal_parts = (len(entries)-1)//5 # for equally split the entries into 5 parts\n",
    "# count = 0\n",
    "# for i in tqdm(range(len(entries))):\n",
    "#     entry = entries[i]\n",
    "#     if \"wav\" not in entry:\n",
    "#         continue\n",
    "#     path = DATA_NATURAL + \"/\" + entry\n",
    "#     emotion = emotion_map[entry.split(\"_\")[0]]\n",
    "#     file_paths.append(path)\n",
    "#     file_names.append(entry)\n",
    "#     emotions.append(emotion)\n",
    "    \n",
    "#     # assign session to it\n",
    "#     part = (count//equal_parts)%6 + 1\n",
    "#     if part == 6:\n",
    "#         part = 5\n",
    "#     session.append(part)\n",
    "#     count += 1\n",
    "\n",
    "# file = pd.DataFrame({'path':file_paths, 'name': file_names, 'emotion': emotions, 'session': session})\n",
    "# dataframe_path = main_path + 'session_entries.csv'\n",
    "# file.to_csv(dataframe_path)"
   ]
  },
  {
   "cell_type": "markdown",
   "id": "f709ccd0",
   "metadata": {},
   "source": [
    "### Extract Features using Models"
   ]
  },
  {
   "cell_type": "code",
   "execution_count": 7,
   "id": "70a66a65",
   "metadata": {},
   "outputs": [
    {
     "data": {
      "text/html": [
       "<div>\n",
       "<style scoped>\n",
       "    .dataframe tbody tr th:only-of-type {\n",
       "        vertical-align: middle;\n",
       "    }\n",
       "\n",
       "    .dataframe tbody tr th {\n",
       "        vertical-align: top;\n",
       "    }\n",
       "\n",
       "    .dataframe thead th {\n",
       "        text-align: right;\n",
       "    }\n",
       "</style>\n",
       "<table border=\"1\" class=\"dataframe\">\n",
       "  <thead>\n",
       "    <tr style=\"text-align: right;\">\n",
       "      <th></th>\n",
       "      <th>path</th>\n",
       "      <th>name</th>\n",
       "      <th>emotion</th>\n",
       "      <th>session</th>\n",
       "    </tr>\n",
       "  </thead>\n",
       "  <tbody>\n",
       "    <tr>\n",
       "      <th>0</th>\n",
       "      <td>/home/rl3155/MESD_All/Neutral_M_B_despistado.wav</td>\n",
       "      <td>Neutral_M_B_despistado.wav</td>\n",
       "      <td>neutral</td>\n",
       "      <td>1</td>\n",
       "    </tr>\n",
       "    <tr>\n",
       "      <th>1</th>\n",
       "      <td>/home/rl3155/MESD_All/Sadness_F_A_fuera.wav</td>\n",
       "      <td>Sadness_F_A_fuera.wav</td>\n",
       "      <td>sad</td>\n",
       "      <td>1</td>\n",
       "    </tr>\n",
       "    <tr>\n",
       "      <th>2</th>\n",
       "      <td>/home/rl3155/MESD_All/Neutral_F_B_mecanico.wav</td>\n",
       "      <td>Neutral_F_B_mecanico.wav</td>\n",
       "      <td>neutral</td>\n",
       "      <td>1</td>\n",
       "    </tr>\n",
       "    <tr>\n",
       "      <th>3</th>\n",
       "      <td>/home/rl3155/MESD_All/Sadness_M_B_ansiedad.wav</td>\n",
       "      <td>Sadness_M_B_ansiedad.wav</td>\n",
       "      <td>sad</td>\n",
       "      <td>1</td>\n",
       "    </tr>\n",
       "    <tr>\n",
       "      <th>4</th>\n",
       "      <td>/home/rl3155/MESD_All/Happiness_M_A_adios.wav</td>\n",
       "      <td>Happiness_M_A_adios.wav</td>\n",
       "      <td>happy</td>\n",
       "      <td>1</td>\n",
       "    </tr>\n",
       "  </tbody>\n",
       "</table>\n",
       "</div>"
      ],
      "text/plain": [
       "                                               path  \\\n",
       "0  /home/rl3155/MESD_All/Neutral_M_B_despistado.wav   \n",
       "1       /home/rl3155/MESD_All/Sadness_F_A_fuera.wav   \n",
       "2    /home/rl3155/MESD_All/Neutral_F_B_mecanico.wav   \n",
       "3    /home/rl3155/MESD_All/Sadness_M_B_ansiedad.wav   \n",
       "4     /home/rl3155/MESD_All/Happiness_M_A_adios.wav   \n",
       "\n",
       "                         name  emotion  session  \n",
       "0  Neutral_M_B_despistado.wav  neutral        1  \n",
       "1       Sadness_F_A_fuera.wav      sad        1  \n",
       "2    Neutral_F_B_mecanico.wav  neutral        1  \n",
       "3    Sadness_M_B_ansiedad.wav      sad        1  \n",
       "4     Happiness_M_A_adios.wav    happy        1  "
      ]
     },
     "execution_count": 7,
     "metadata": {},
     "output_type": "execute_result"
    }
   ],
   "source": [
    "# Get the entries with assigned session\n",
    "\n",
    "dataframe_path = main_path + 'session_entries.csv'\n",
    "file = pd.read_csv(dataframe_path)[['path', 'name', 'emotion', 'session']]\n",
    "file.head()"
   ]
  },
  {
   "cell_type": "code",
   "execution_count": 8,
   "id": "9dcc58f6",
   "metadata": {},
   "outputs": [
    {
     "name": "stderr",
     "output_type": "stream",
     "text": [
      "100%|██████████████████████████████████████████████████████████████████████████████████████████████████████████████████████████████████████████████████████████████████████████████████████████████████████████| 862/862 [02:11<00:00,  6.55it/s]\n"
     ]
    }
   ],
   "source": [
    "from tqdm import tqdm\n",
    "\n",
    "for i in tqdm(range(len(file['path']))):\n",
    "    path = file['path'][i]\n",
    "    wave, sr = torchaudio.load(path)\n",
    "    if sr != bundle.sample_rate:\n",
    "        wave = torchaudio.functional.resample(wave, sr, bundle.sample_rate)\n",
    "    with torch.inference_mode():\n",
    "        feature, _ = extractor.extract_features(wave)\n",
    "    feature = [f[0] for f in feature]\n",
    "    audio = torch.stack(feature)\n",
    "    audios.append(audio)"
   ]
  },
  {
   "cell_type": "code",
   "execution_count": 9,
   "id": "003ffd6c",
   "metadata": {},
   "outputs": [],
   "source": [
    "file['audio'] = audios"
   ]
  },
  {
   "cell_type": "code",
   "execution_count": 7,
   "id": "c4153e22",
   "metadata": {},
   "outputs": [],
   "source": [
    "# from sklearn.utils import shuffle\n",
    "# from sklearn.model_selection import train_test_split\n",
    "\n",
    "# saudios, semotions = shuffle(audios, emotions, random_state=42)\n",
    "# X_train, X_val, y_train, y_val = train_test_split(saudios, semotions, test_size=0.2, random_state=1)"
   ]
  },
  {
   "cell_type": "markdown",
   "id": "0570d3e2",
   "metadata": {},
   "source": [
    "### Load Data"
   ]
  },
  {
   "cell_type": "code",
   "execution_count": 10,
   "id": "71a55670",
   "metadata": {},
   "outputs": [],
   "source": [
    "holdout = 1\n",
    "train = file[file['session'] != holdout]\n",
    "test = file[file['session'] == holdout]"
   ]
  },
  {
   "cell_type": "code",
   "execution_count": 11,
   "id": "75a75bd9",
   "metadata": {},
   "outputs": [],
   "source": [
    "class MyDataSet(torch.utils.data.Dataset):\n",
    "    def __init__(self, audios, labels, label_transform):\n",
    "        super(MyDataSet).__init__()\n",
    "        self.audios = audios\n",
    "        self.labels = labels\n",
    "        self.label_transform = label_transform\n",
    "        \n",
    "    def __getitem__(self, idx):\n",
    "        label = self.label_transform[self.labels[idx]]\n",
    "        audio = self.audios[idx]\n",
    "        length = audio.size(1)\n",
    "        return audio, length, label\n",
    "    \n",
    "    def __len__(self):\n",
    "        return len(self.labels)"
   ]
  },
  {
   "cell_type": "code",
   "execution_count": 12,
   "id": "141ec40a",
   "metadata": {},
   "outputs": [],
   "source": [
    "def collate_indic(data):\n",
    "    audios, lengths, labels = zip(*data)\n",
    "    max_len = max(lengths)\n",
    "    n_ftrs = audios[0].size(2)\n",
    "    n_dims = audios[0].size(0)\n",
    "    features = torch.zeros((len(audios), n_dims, max_len, n_ftrs))\n",
    "    labels = torch.tensor(labels)\n",
    "    lengths = torch.tensor(lengths)\n",
    "\n",
    "    for i in range(len(data)):\n",
    "        j, k = audios[i].size(1), audios[i].size(2)\n",
    "        features[i] = torch.cat([audios[i], torch.zeros((n_dims, max_len - j, k))], dim=1)\n",
    "\n",
    "    return features, lengths, labels"
   ]
  },
  {
   "cell_type": "code",
   "execution_count": 13,
   "id": "0738ead4",
   "metadata": {},
   "outputs": [
    {
     "data": {
      "text/plain": [
       "{'neutral': 0, 'angry': 1, 'happy': 2, 'sad': 3, 'fear': 4, 'disgust': 5}"
      ]
     },
     "execution_count": 13,
     "metadata": {},
     "output_type": "execute_result"
    }
   ],
   "source": [
    "categories = ['neutral', 'angry', 'happy', 'sad', 'fear', 'disgust']\n",
    "cate_dic = {}\n",
    "for i, cate in enumerate(categories):\n",
    "    cate_dic[cate] = i\n",
    "cate_dic"
   ]
  },
  {
   "cell_type": "code",
   "execution_count": 14,
   "id": "9aa549a4",
   "metadata": {},
   "outputs": [],
   "source": [
    "from torch.utils.data import DataLoader\n",
    "\n",
    "train_dataset = MyDataSet(train['audio'].tolist(), train['emotion'].tolist(), cate_dic)\n",
    "trainloader_args = dict(batch_size=16, shuffle=True)\n",
    "train_dataloader = DataLoader(train_dataset, **trainloader_args, \n",
    "                              collate_fn=collate_indic)\n",
    "\n",
    "test_dataset = MyDataSet(test['audio'].tolist(), test['emotion'].tolist(), cate_dic)\n",
    "testloader_args = dict(batch_size=16, shuffle=True)\n",
    "test_dataloader = DataLoader(test_dataset, **testloader_args, \n",
    "                             collate_fn=collate_indic)"
   ]
  },
  {
   "cell_type": "markdown",
   "id": "adf4848c",
   "metadata": {},
   "source": [
    "## Train with 3CNN+LSTM"
   ]
  },
  {
   "cell_type": "code",
   "execution_count": 15,
   "id": "2ef1a6ec",
   "metadata": {},
   "outputs": [],
   "source": [
    "import torch.nn as nn\n",
    "import torch.nn.functional as F\n",
    "\n",
    "class ICASSP3CNN(nn.Module):\n",
    "    def __init__(self, vocab_size, dims = 12, embed_size=128, hidden_size=512, num_lstm_layers = 2, bidirectional = False, label_size=7):\n",
    "        super().__init__()\n",
    "        self.n_layers = num_lstm_layers \n",
    "        self.hidden = hidden_size\n",
    "        self.bidirectional = bidirectional\n",
    "        \n",
    "        self.aggr = nn.Conv1d(in_channels=dims, out_channels=1, kernel_size=1)\n",
    "        \n",
    "        self.embed = nn.Linear(in_features = vocab_size, out_features = embed_size)\n",
    "\n",
    "        self.cnn  = nn.Conv1d(embed_size, embed_size, kernel_size=3, padding=1)\n",
    "        self.cnn2 = nn.Conv1d(embed_size, embed_size, kernel_size=5, padding=2)\n",
    "        self.cnn3 = nn.Conv1d(embed_size, embed_size, kernel_size=7, padding=3)\n",
    "\n",
    "        self.batchnorm = nn.BatchNorm1d(3 * embed_size)\n",
    "\n",
    "        self.lstm = nn.LSTM(input_size = 3 * embed_size, \n",
    "                            hidden_size = hidden_size, \n",
    "                            num_layers = num_lstm_layers, \n",
    "                            bidirectional = bidirectional)\n",
    "\n",
    "        self.linear = nn.Linear(in_features = 2 * hidden_size if bidirectional else hidden_size, \n",
    "                                out_features = label_size)\n",
    "\n",
    "\n",
    "    def forward(self, x, lengths):\n",
    "        \"\"\"\n",
    "        padded_x: (B,T) padded LongTensor\n",
    "        \"\"\"\n",
    "        n, d, b, t = x.size(0), x.size(1), x.size(2), x.size(3)\n",
    "        x = torch.flatten(x, start_dim=2)\n",
    "        input = self.aggr(x)\n",
    "        input = torch.reshape(input, (n, b, t))\n",
    "        input = self.embed(input)\n",
    "\n",
    "        batch_size = input.size(0)\n",
    "        input = input.transpose(1,2)    # (B,T,H) -> (B,H,T)\n",
    "\n",
    "        cnn_output = torch.cat([self.cnn(input), self.cnn2(input), self.cnn3(input)], dim=1)\n",
    "\n",
    "        input = F.relu(self.batchnorm(cnn_output))\n",
    "\n",
    "        input = input.transpose(1,2)\n",
    "\n",
    "        pack_tensor = nn.utils.rnn.pack_padded_sequence(input, lengths, batch_first=True, enforce_sorted=False)\n",
    "        _, (hn, cn) = self.lstm(pack_tensor)\n",
    "\n",
    "        if self.bidirectional:\n",
    "            h_n = hn.view(self.n_layers, 2, batch_size, self.hidden)\n",
    "            h_n = torch.cat([ h_n[-1, 0,:], h_n[-1,1,:] ], dim = 1)\n",
    "        else:\n",
    "            h_n = hn[-1]\n",
    "\n",
    "        logits = self.linear(h_n)\n",
    "\n",
    "        return logits"
   ]
  },
  {
   "cell_type": "markdown",
   "id": "21a7d392",
   "metadata": {},
   "source": [
    "### Model Traning on each layer "
   ]
  },
  {
   "cell_type": "code",
   "execution_count": 16,
   "id": "75762bdc",
   "metadata": {},
   "outputs": [
    {
     "name": "stderr",
     "output_type": "stream",
     "text": [
      "  2%|████                                                                                                                                                                                                         | 1/50 [00:09<07:36,  9.32s/it]"
     ]
    },
    {
     "name": "stdout",
     "output_type": "stream",
     "text": [
      "epoch:1, train accu:0.3754, train loss:1.51\n"
     ]
    },
    {
     "name": "stderr",
     "output_type": "stream",
     "text": [
      "\r",
      "  4%|████████▏                                                                                                                                                                                                    | 2/50 [00:10<03:48,  4.75s/it]"
     ]
    },
    {
     "name": "stdout",
     "output_type": "stream",
     "text": [
      "epoch:2, train accu:0.6203, train loss:1.05\n"
     ]
    },
    {
     "name": "stderr",
     "output_type": "stream",
     "text": [
      "\r",
      "  6%|████████████▎                                                                                                                                                                                                | 3/50 [00:12<02:34,  3.29s/it]"
     ]
    },
    {
     "name": "stdout",
     "output_type": "stream",
     "text": [
      "epoch:3, train accu:0.6681, train loss:0.84\n"
     ]
    },
    {
     "name": "stderr",
     "output_type": "stream",
     "text": [
      "\r",
      "  8%|████████████████▍                                                                                                                                                                                            | 4/50 [00:13<02:00,  2.61s/it]"
     ]
    },
    {
     "name": "stdout",
     "output_type": "stream",
     "text": [
      "epoch:4, train accu:0.7623, train loss:0.65\n"
     ]
    },
    {
     "name": "stderr",
     "output_type": "stream",
     "text": [
      "\r",
      " 10%|████████████████████▌                                                                                                                                                                                        | 5/50 [00:15<01:40,  2.24s/it]"
     ]
    },
    {
     "name": "stdout",
     "output_type": "stream",
     "text": [
      "epoch:5, train accu:0.8188, train loss:0.50\n"
     ]
    },
    {
     "name": "stderr",
     "output_type": "stream",
     "text": [
      "\r",
      " 12%|████████████████████████▌                                                                                                                                                                                    | 6/50 [00:17<01:28,  2.02s/it]"
     ]
    },
    {
     "name": "stdout",
     "output_type": "stream",
     "text": [
      "epoch:6, train accu:0.8580, train loss:0.44\n"
     ]
    },
    {
     "name": "stderr",
     "output_type": "stream",
     "text": [
      "\r",
      " 14%|████████████████████████████▋                                                                                                                                                                                | 7/50 [00:18<01:20,  1.86s/it]"
     ]
    },
    {
     "name": "stdout",
     "output_type": "stream",
     "text": [
      "epoch:7, train accu:0.8884, train loss:0.31\n"
     ]
    },
    {
     "name": "stderr",
     "output_type": "stream",
     "text": [
      "\r",
      " 16%|████████████████████████████████▊                                                                                                                                                                            | 8/50 [00:20<01:13,  1.76s/it]"
     ]
    },
    {
     "name": "stdout",
     "output_type": "stream",
     "text": [
      "epoch:8, train accu:0.8913, train loss:0.34\n"
     ]
    },
    {
     "name": "stderr",
     "output_type": "stream",
     "text": [
      "\r",
      " 18%|████████████████████████████████████▉                                                                                                                                                                        | 9/50 [00:21<01:09,  1.70s/it]"
     ]
    },
    {
     "name": "stdout",
     "output_type": "stream",
     "text": [
      "epoch:9, train accu:0.9478, train loss:0.17\n"
     ]
    },
    {
     "name": "stderr",
     "output_type": "stream",
     "text": [
      "\r",
      " 20%|████████████████████████████████████████▊                                                                                                                                                                   | 10/50 [00:23<01:06,  1.66s/it]"
     ]
    },
    {
     "name": "stdout",
     "output_type": "stream",
     "text": [
      "epoch:10, train accu:0.9362, train loss:0.19\n"
     ]
    },
    {
     "name": "stderr",
     "output_type": "stream",
     "text": [
      "\r",
      " 22%|████████████████████████████████████████████▉                                                                                                                                                               | 11/50 [00:24<01:03,  1.63s/it]"
     ]
    },
    {
     "name": "stdout",
     "output_type": "stream",
     "text": [
      "epoch:11, train accu:0.9377, train loss:0.19\n"
     ]
    },
    {
     "name": "stderr",
     "output_type": "stream",
     "text": [
      "\r",
      " 24%|████████████████████████████████████████████████▉                                                                                                                                                           | 12/50 [00:26<01:00,  1.59s/it]"
     ]
    },
    {
     "name": "stdout",
     "output_type": "stream",
     "text": [
      "epoch:12, train accu:0.9783, train loss:0.06\n"
     ]
    },
    {
     "name": "stderr",
     "output_type": "stream",
     "text": [
      "\r",
      " 26%|█████████████████████████████████████████████████████                                                                                                                                                       | 13/50 [00:27<00:58,  1.58s/it]"
     ]
    },
    {
     "name": "stdout",
     "output_type": "stream",
     "text": [
      "epoch:13, train accu:0.9855, train loss:0.06\n"
     ]
    },
    {
     "name": "stderr",
     "output_type": "stream",
     "text": [
      "\r",
      " 28%|█████████████████████████████████████████████████████████                                                                                                                                                   | 14/50 [00:29<00:56,  1.57s/it]"
     ]
    },
    {
     "name": "stdout",
     "output_type": "stream",
     "text": [
      "epoch:14, train accu:0.9812, train loss:0.07\n"
     ]
    },
    {
     "name": "stderr",
     "output_type": "stream",
     "text": [
      "\r",
      " 30%|█████████████████████████████████████████████████████████████▏                                                                                                                                              | 15/50 [00:31<00:54,  1.56s/it]"
     ]
    },
    {
     "name": "stdout",
     "output_type": "stream",
     "text": [
      "epoch:15, train accu:0.9957, train loss:0.02\n"
     ]
    },
    {
     "name": "stderr",
     "output_type": "stream",
     "text": [
      "\r",
      " 32%|█████████████████████████████████████████████████████████████████▎                                                                                                                                          | 16/50 [00:32<00:53,  1.56s/it]"
     ]
    },
    {
     "name": "stdout",
     "output_type": "stream",
     "text": [
      "epoch:16, train accu:0.9942, train loss:0.03\n"
     ]
    },
    {
     "name": "stderr",
     "output_type": "stream",
     "text": [
      "\r",
      " 34%|█████████████████████████████████████████████████████████████████████▎                                                                                                                                      | 17/50 [00:34<00:51,  1.56s/it]"
     ]
    },
    {
     "name": "stdout",
     "output_type": "stream",
     "text": [
      "epoch:17, train accu:0.9522, train loss:0.18\n"
     ]
    },
    {
     "name": "stderr",
     "output_type": "stream",
     "text": [
      "\r",
      " 36%|█████████████████████████████████████████████████████████████████████████▍                                                                                                                                  | 18/50 [00:35<00:49,  1.56s/it]"
     ]
    },
    {
     "name": "stdout",
     "output_type": "stream",
     "text": [
      "epoch:18, train accu:0.8739, train loss:0.38\n"
     ]
    },
    {
     "name": "stderr",
     "output_type": "stream",
     "text": [
      "\r",
      " 38%|█████████████████████████████████████████████████████████████████████████████▌                                                                                                                              | 19/50 [00:37<00:48,  1.55s/it]"
     ]
    },
    {
     "name": "stdout",
     "output_type": "stream",
     "text": [
      "epoch:19, train accu:0.9493, train loss:0.16\n"
     ]
    },
    {
     "name": "stderr",
     "output_type": "stream",
     "text": [
      "\r",
      " 40%|█████████████████████████████████████████████████████████████████████████████████▌                                                                                                                          | 20/50 [00:38<00:46,  1.55s/it]"
     ]
    },
    {
     "name": "stdout",
     "output_type": "stream",
     "text": [
      "epoch:20, train accu:0.9812, train loss:0.08\n"
     ]
    },
    {
     "name": "stderr",
     "output_type": "stream",
     "text": [
      "\r",
      " 42%|█████████████████████████████████████████████████████████████████████████████████████▋                                                                                                                      | 21/50 [00:40<00:45,  1.55s/it]"
     ]
    },
    {
     "name": "stdout",
     "output_type": "stream",
     "text": [
      "epoch:21, train accu:0.9841, train loss:0.05\n"
     ]
    },
    {
     "name": "stderr",
     "output_type": "stream",
     "text": [
      "\r",
      " 44%|█████████████████████████████████████████████████████████████████████████████████████████▊                                                                                                                  | 22/50 [00:41<00:43,  1.56s/it]"
     ]
    },
    {
     "name": "stdout",
     "output_type": "stream",
     "text": [
      "epoch:22, train accu:0.9826, train loss:0.04\n"
     ]
    },
    {
     "name": "stderr",
     "output_type": "stream",
     "text": [
      "\r",
      " 46%|█████████████████████████████████████████████████████████████████████████████████████████████▊                                                                                                              | 23/50 [00:43<00:41,  1.55s/it]"
     ]
    },
    {
     "name": "stdout",
     "output_type": "stream",
     "text": [
      "epoch:23, train accu:0.9841, train loss:0.14\n"
     ]
    },
    {
     "name": "stderr",
     "output_type": "stream",
     "text": [
      "\r",
      " 48%|█████████████████████████████████████████████████████████████████████████████████████████████████▉                                                                                                          | 24/50 [00:45<00:40,  1.54s/it]"
     ]
    },
    {
     "name": "stdout",
     "output_type": "stream",
     "text": [
      "epoch:24, train accu:0.9130, train loss:0.31\n"
     ]
    },
    {
     "name": "stderr",
     "output_type": "stream",
     "text": [
      "\r",
      " 50%|██████████████████████████████████████████████████████████████████████████████████████████████████████                                                                                                      | 25/50 [00:46<00:38,  1.53s/it]"
     ]
    },
    {
     "name": "stdout",
     "output_type": "stream",
     "text": [
      "epoch:25, train accu:0.9681, train loss:0.11\n"
     ]
    },
    {
     "name": "stderr",
     "output_type": "stream",
     "text": [
      "\r",
      " 52%|██████████████████████████████████████████████████████████████████████████████████████████████████████████                                                                                                  | 26/50 [00:48<00:36,  1.54s/it]"
     ]
    },
    {
     "name": "stdout",
     "output_type": "stream",
     "text": [
      "epoch:26, train accu:0.9768, train loss:0.12\n"
     ]
    },
    {
     "name": "stderr",
     "output_type": "stream",
     "text": [
      "\r",
      " 54%|██████████████████████████████████████████████████████████████████████████████████████████████████████████████▏                                                                                             | 27/50 [00:49<00:35,  1.54s/it]"
     ]
    },
    {
     "name": "stdout",
     "output_type": "stream",
     "text": [
      "epoch:27, train accu:0.9725, train loss:0.08\n"
     ]
    },
    {
     "name": "stderr",
     "output_type": "stream",
     "text": [
      "\r",
      " 56%|██████████████████████████████████████████████████████████████████████████████████████████████████████████████████▏                                                                                         | 28/50 [00:51<00:33,  1.53s/it]"
     ]
    },
    {
     "name": "stdout",
     "output_type": "stream",
     "text": [
      "epoch:28, train accu:0.9957, train loss:0.01\n"
     ]
    },
    {
     "name": "stderr",
     "output_type": "stream",
     "text": [
      "\r",
      " 58%|██████████████████████████████████████████████████████████████████████████████████████████████████████████████████████▎                                                                                     | 29/50 [00:53<00:35,  1.70s/it]"
     ]
    },
    {
     "name": "stdout",
     "output_type": "stream",
     "text": [
      "epoch:29, train accu:0.9986, train loss:0.01\n"
     ]
    },
    {
     "name": "stderr",
     "output_type": "stream",
     "text": [
      "\r",
      " 60%|██████████████████████████████████████████████████████████████████████████████████████████████████████████████████████████▍                                                                                 | 30/50 [00:55<00:35,  1.77s/it]"
     ]
    },
    {
     "name": "stdout",
     "output_type": "stream",
     "text": [
      "epoch:30, train accu:0.9884, train loss:0.04\n"
     ]
    },
    {
     "name": "stderr",
     "output_type": "stream",
     "text": [
      "\r",
      " 62%|██████████████████████████████████████████████████████████████████████████████████████████████████████████████████████████████▍                                                                             | 31/50 [00:56<00:32,  1.70s/it]"
     ]
    },
    {
     "name": "stdout",
     "output_type": "stream",
     "text": [
      "epoch:31, train accu:0.9928, train loss:0.03\n"
     ]
    },
    {
     "name": "stderr",
     "output_type": "stream",
     "text": [
      "\r",
      " 64%|██████████████████████████████████████████████████████████████████████████████████████████████████████████████████████████████████▌                                                                         | 32/50 [00:58<00:29,  1.66s/it]"
     ]
    },
    {
     "name": "stdout",
     "output_type": "stream",
     "text": [
      "epoch:32, train accu:0.9899, train loss:0.03\n"
     ]
    },
    {
     "name": "stderr",
     "output_type": "stream",
     "text": [
      "\r",
      " 66%|██████████████████████████████████████████████████████████████████████████████████████████████████████████████████████████████████████▋                                                                     | 33/50 [00:59<00:27,  1.63s/it]"
     ]
    },
    {
     "name": "stdout",
     "output_type": "stream",
     "text": [
      "epoch:33, train accu:0.9884, train loss:0.02\n"
     ]
    },
    {
     "name": "stderr",
     "output_type": "stream",
     "text": [
      "\r",
      " 68%|██████████████████████████████████████████████████████████████████████████████████████████████████████████████████████████████████████████▋                                                                 | 34/50 [01:01<00:25,  1.60s/it]"
     ]
    },
    {
     "name": "stdout",
     "output_type": "stream",
     "text": [
      "epoch:34, train accu:0.9957, train loss:0.02\n"
     ]
    },
    {
     "name": "stderr",
     "output_type": "stream",
     "text": [
      "\r",
      " 70%|██████████████████████████████████████████████████████████████████████████████████████████████████████████████████████████████████████████████▊                                                             | 35/50 [01:02<00:23,  1.57s/it]"
     ]
    },
    {
     "name": "stdout",
     "output_type": "stream",
     "text": [
      "epoch:35, train accu:0.9957, train loss:0.02\n"
     ]
    },
    {
     "name": "stderr",
     "output_type": "stream",
     "text": [
      "\r",
      " 72%|██████████████████████████████████████████████████████████████████████████████████████████████████████████████████████████████████████████████████▉                                                         | 36/50 [01:04<00:21,  1.57s/it]"
     ]
    },
    {
     "name": "stdout",
     "output_type": "stream",
     "text": [
      "epoch:36, train accu:0.9986, train loss:0.01\n"
     ]
    },
    {
     "name": "stderr",
     "output_type": "stream",
     "text": [
      "\r",
      " 74%|██████████████████████████████████████████████████████████████████████████████████████████████████████████████████████████████████████████████████████▉                                                     | 37/50 [01:05<00:20,  1.56s/it]"
     ]
    },
    {
     "name": "stdout",
     "output_type": "stream",
     "text": [
      "epoch:37, train accu:0.9870, train loss:0.04\n"
     ]
    },
    {
     "name": "stderr",
     "output_type": "stream",
     "text": [
      "\r",
      " 76%|███████████████████████████████████████████████████████████████████████████████████████████████████████████████████████████████████████████████████████████                                                 | 38/50 [01:07<00:18,  1.55s/it]"
     ]
    },
    {
     "name": "stdout",
     "output_type": "stream",
     "text": [
      "epoch:38, train accu:0.9754, train loss:0.08\n"
     ]
    },
    {
     "name": "stderr",
     "output_type": "stream",
     "text": [
      "\r",
      " 78%|███████████████████████████████████████████████████████████████████████████████████████████████████████████████████████████████████████████████████████████████                                             | 39/50 [01:09<00:17,  1.56s/it]"
     ]
    },
    {
     "name": "stdout",
     "output_type": "stream",
     "text": [
      "epoch:39, train accu:0.9826, train loss:0.06\n"
     ]
    },
    {
     "name": "stderr",
     "output_type": "stream",
     "text": [
      "\r",
      " 80%|███████████████████████████████████████████████████████████████████████████████████████████████████████████████████████████████████████████████████████████████████▏                                        | 40/50 [01:10<00:15,  1.56s/it]"
     ]
    },
    {
     "name": "stdout",
     "output_type": "stream",
     "text": [
      "epoch:40, train accu:0.9870, train loss:0.05\n"
     ]
    },
    {
     "name": "stderr",
     "output_type": "stream",
     "text": [
      "\r",
      " 82%|███████████████████████████████████████████████████████████████████████████████████████████████████████████████████████████████████████████████████████████████████████▎                                    | 41/50 [01:12<00:13,  1.55s/it]"
     ]
    },
    {
     "name": "stdout",
     "output_type": "stream",
     "text": [
      "epoch:41, train accu:0.9971, train loss:0.02\n"
     ]
    },
    {
     "name": "stderr",
     "output_type": "stream",
     "text": [
      "\r",
      " 84%|███████████████████████████████████████████████████████████████████████████████████████████████████████████████████████████████████████████████████████████████████████████▎                                | 42/50 [01:13<00:12,  1.56s/it]"
     ]
    },
    {
     "name": "stdout",
     "output_type": "stream",
     "text": [
      "epoch:42, train accu:0.9681, train loss:0.12\n"
     ]
    },
    {
     "name": "stderr",
     "output_type": "stream",
     "text": [
      "\r",
      " 86%|███████████████████████████████████████████████████████████████████████████████████████████████████████████████████████████████████████████████████████████████████████████████▍                            | 43/50 [01:15<00:10,  1.56s/it]"
     ]
    },
    {
     "name": "stdout",
     "output_type": "stream",
     "text": [
      "epoch:43, train accu:0.9783, train loss:0.09\n"
     ]
    },
    {
     "name": "stderr",
     "output_type": "stream",
     "text": [
      "\r",
      " 88%|███████████████████████████████████████████████████████████████████████████████████████████████████████████████████████████████████████████████████████████████████████████████████▌                        | 44/50 [01:16<00:09,  1.57s/it]"
     ]
    },
    {
     "name": "stdout",
     "output_type": "stream",
     "text": [
      "epoch:44, train accu:0.9725, train loss:0.10\n"
     ]
    },
    {
     "name": "stderr",
     "output_type": "stream",
     "text": [
      "\r",
      " 90%|███████████████████████████████████████████████████████████████████████████████████████████████████████████████████████████████████████████████████████████████████████████████████████▌                    | 45/50 [01:18<00:07,  1.57s/it]"
     ]
    },
    {
     "name": "stdout",
     "output_type": "stream",
     "text": [
      "epoch:45, train accu:0.9826, train loss:0.20\n"
     ]
    },
    {
     "name": "stderr",
     "output_type": "stream",
     "text": [
      "\r",
      " 92%|███████████████████████████████████████████████████████████████████████████████████████████████████████████████████████████████████████████████████████████████████████████████████████████▋                | 46/50 [01:19<00:06,  1.55s/it]"
     ]
    },
    {
     "name": "stdout",
     "output_type": "stream",
     "text": [
      "epoch:46, train accu:0.9739, train loss:0.09\n"
     ]
    },
    {
     "name": "stderr",
     "output_type": "stream",
     "text": [
      "\r",
      " 94%|███████████████████████████████████████████████████████████████████████████████████████████████████████████████████████████████████████████████████████████████████████████████████████████████▊            | 47/50 [01:21<00:04,  1.55s/it]"
     ]
    },
    {
     "name": "stdout",
     "output_type": "stream",
     "text": [
      "epoch:47, train accu:0.9942, train loss:0.02\n"
     ]
    },
    {
     "name": "stderr",
     "output_type": "stream",
     "text": [
      "\r",
      " 96%|███████████████████████████████████████████████████████████████████████████████████████████████████████████████████████████████████████████████████████████████████████████████████████████████████▊        | 48/50 [01:23<00:03,  1.55s/it]"
     ]
    },
    {
     "name": "stdout",
     "output_type": "stream",
     "text": [
      "epoch:48, train accu:0.9928, train loss:0.02\n"
     ]
    },
    {
     "name": "stderr",
     "output_type": "stream",
     "text": [
      "\r",
      " 98%|███████████████████████████████████████████████████████████████████████████████████████████████████████████████████████████████████████████████████████████████████████████████████████████████████████▉    | 49/50 [01:24<00:01,  1.55s/it]"
     ]
    },
    {
     "name": "stdout",
     "output_type": "stream",
     "text": [
      "epoch:49, train accu:0.9928, train loss:0.04\n"
     ]
    },
    {
     "name": "stderr",
     "output_type": "stream",
     "text": [
      "100%|████████████████████████████████████████████████████████████████████████████████████████████████████████████████████████████████████████████████████████████████████████████████████████████████████████████| 50/50 [01:26<00:00,  1.72s/it]"
     ]
    },
    {
     "name": "stdout",
     "output_type": "stream",
     "text": [
      "epoch:50, train accu:0.9957, train loss:0.02\n"
     ]
    },
    {
     "name": "stderr",
     "output_type": "stream",
     "text": [
      "\n"
     ]
    }
   ],
   "source": [
    "from tqdm import tqdm\n",
    "from torchsummary import summary\n",
    "import torch.optim as optim\n",
    "\n",
    "model = ICASSP3CNN(768)\n",
    "model = model.to(device)\n",
    "criterion = nn.CrossEntropyLoss()\n",
    "optimizer = optim.Adam(model.parameters(), lr=0.001)\n",
    "\n",
    "epochs = 50\n",
    "train_losses = []\n",
    "train_accuracies = []\n",
    "valid_losses = []\n",
    "valid_accuracies = []\n",
    "\n",
    "for epoch in tqdm(range(epochs)):\n",
    "    train_loss = 0\n",
    "    acc_cnt = 0\n",
    "    err_cnt = 0\n",
    "    batch_cnt = 0\n",
    "    model.train()\n",
    "    for batch, (x, length, y) in enumerate(train_dataloader):\n",
    "        x = x.to(device)\n",
    "        y = y.to(device)\n",
    "        optimizer.zero_grad()\n",
    "        logits = model(x, length)\n",
    "        loss = criterion(logits, y)\n",
    "        loss.backward()\n",
    "        optimizer.step()\n",
    "        train_loss += loss.cpu().item()\n",
    "\n",
    "        #model outputs\n",
    "        out_val, out_indices = torch.max(logits, dim=1)\n",
    "        tar_indices = y\n",
    "\n",
    "        for i in range(len(out_indices)):\n",
    "            if out_indices[i] == tar_indices[i]:\n",
    "                acc_cnt += 1\n",
    "            else:\n",
    "                err_cnt += 1\n",
    "        batch_cnt += 1\n",
    "    \n",
    "    train_loss = train_loss/batch_cnt\n",
    "    train_accuracy = acc_cnt/(acc_cnt+err_cnt)\n",
    "    train_accuracies.append(train_accuracy)\n",
    "    train_losses.append(train_loss)\n",
    "    \n",
    "    print(f\"epoch:{epoch+1}, train accu:{train_accuracy:.4f},\", f\"train loss:{train_loss:.2f}\")"
   ]
  },
  {
   "cell_type": "markdown",
   "id": "93e18c81",
   "metadata": {},
   "source": [
    "### Model Test"
   ]
  },
  {
   "cell_type": "code",
   "execution_count": 17,
   "id": "330f52f7",
   "metadata": {},
   "outputs": [
    {
     "name": "stdout",
     "output_type": "stream",
     "text": [
      "test accuracy: 0.7151162790697675\n"
     ]
    }
   ],
   "source": [
    "test_loss = 0\n",
    "acc_cnt = 0\n",
    "err_cnt = 0\n",
    "batch_cnt = 0\n",
    "model.eval()\n",
    "\n",
    "for x, lengths, y in test_dataloader:\n",
    "\n",
    "    x = x.to(device)\n",
    "    y = y.to(device)\n",
    "\n",
    "    logits = model(x, lengths)\n",
    "    loss = criterion(logits, y)\n",
    "    test_loss += loss.cpu().item()\n",
    "\n",
    "    out_val, out_indices = torch.max(logits, dim=1)\n",
    "    tar_indices = y\n",
    "\n",
    "    for i in range(len(out_indices)):\n",
    "        if out_indices[i] == tar_indices[i]:\n",
    "            acc_cnt += 1\n",
    "        else:\n",
    "            err_cnt += 1\n",
    "    batch_cnt += 1\n",
    "\n",
    "test_loss = test_loss/batch_cnt\n",
    "test_accuracy = acc_cnt/(acc_cnt+err_cnt)\n",
    "print(f'test accuracy: {test_accuracy}')"
   ]
  },
  {
   "cell_type": "code",
   "execution_count": 18,
   "id": "b732ed41",
   "metadata": {},
   "outputs": [
    {
     "name": "stdout",
     "output_type": "stream",
     "text": [
      "aggr.weight tensor([[[-0.2461],\n",
      "         [ 0.2176],\n",
      "         [-0.0452],\n",
      "         [ 0.3976],\n",
      "         [ 0.1373],\n",
      "         [-0.3085],\n",
      "         [ 0.2151],\n",
      "         [-0.0530],\n",
      "         [ 0.1724],\n",
      "         [-0.0728],\n",
      "         [ 0.1408],\n",
      "         [-0.0998]]], device='cuda:0')\n",
      "aggr.bias tensor([-0.0228], device='cuda:0')\n",
      "embed.weight tensor([[-0.0262, -0.0265, -0.0064,  ..., -0.0646, -0.0497, -0.0407],\n",
      "        [-0.0437, -0.0173,  0.0274,  ..., -0.0191, -0.0150, -0.0152],\n",
      "        [-0.0275, -0.0545, -0.0766,  ...,  0.0755,  0.0539,  0.0184],\n",
      "        ...,\n",
      "        [-0.0384, -0.0004, -0.0197,  ...,  0.1312,  0.0157,  0.0449],\n",
      "        [-0.0247, -0.0253,  0.0301,  ..., -0.0743,  0.0090, -0.0550],\n",
      "        [ 0.0170,  0.0591,  0.0600,  ...,  0.0964, -0.0006, -0.0434]],\n",
      "       device='cuda:0')\n",
      "embed.bias tensor([-0.0232,  0.0207, -0.0527,  0.0243,  0.0835,  0.0295, -0.0048, -0.0149,\n",
      "         0.0479,  0.0293, -0.0093, -0.0331,  0.0187,  0.0233, -0.0037,  0.0203,\n",
      "         0.0581,  0.0939, -0.0446, -0.0519,  0.0392, -0.0316,  0.0507, -0.0688,\n",
      "         0.0285,  0.0344, -0.0007, -0.0032,  0.0425, -0.0012,  0.0089, -0.0432,\n",
      "        -0.0251, -0.0719,  0.0125, -0.0367,  0.0068, -0.0158, -0.0347, -0.0209,\n",
      "         0.0087,  0.0506,  0.0105, -0.0520,  0.0001,  0.0121, -0.0477, -0.0261,\n",
      "        -0.0004,  0.0195,  0.0405,  0.0345, -0.0161,  0.0194, -0.0354,  0.0522,\n",
      "         0.0706, -0.0003, -0.0432,  0.0195, -0.0513, -0.0309,  0.0277,  0.0718,\n",
      "        -0.0513,  0.0242, -0.0946,  0.0185, -0.0563,  0.0051,  0.0179,  0.0204,\n",
      "        -0.0259, -0.0520, -0.0306,  0.0408,  0.0145, -0.0113, -0.0085, -0.0253,\n",
      "        -0.0050, -0.0416,  0.0143,  0.0186,  0.0004,  0.0375,  0.0099, -0.0161,\n",
      "        -0.0247, -0.0476,  0.0231, -0.0471,  0.0587,  0.0082, -0.0480,  0.0004,\n",
      "        -0.0124, -0.0248,  0.0195,  0.0058,  0.0009,  0.0619,  0.0384, -0.0511,\n",
      "        -0.0238,  0.0344, -0.0637,  0.0325, -0.0195,  0.0626, -0.0123,  0.0375,\n",
      "         0.0180,  0.0017,  0.0368, -0.0123, -0.0321, -0.0388,  0.0218, -0.0430,\n",
      "        -0.0292, -0.0638, -0.0058, -0.0276, -0.0432, -0.0582,  0.0073,  0.0258],\n",
      "       device='cuda:0')\n",
      "cnn.weight tensor([[[ 0.0057,  0.0448, -0.0536],\n",
      "         [-0.1029, -0.0331, -0.0189],\n",
      "         [ 0.0175,  0.0364,  0.0400],\n",
      "         ...,\n",
      "         [-0.0242,  0.0080, -0.0201],\n",
      "         [-0.0036,  0.0282,  0.0631],\n",
      "         [-0.0670, -0.0034, -0.0710]],\n",
      "\n",
      "        [[ 0.0326,  0.0207,  0.0657],\n",
      "         [ 0.0942,  0.0400,  0.0538],\n",
      "         [ 0.0290,  0.0601, -0.0215],\n",
      "         ...,\n",
      "         [ 0.0306,  0.0568, -0.0468],\n",
      "         [-0.0008,  0.0163,  0.0342],\n",
      "         [-0.0574, -0.0259,  0.0106]],\n",
      "\n",
      "        [[ 0.0509,  0.0628,  0.0027],\n",
      "         [ 0.0278, -0.0087,  0.0128],\n",
      "         [-0.0103, -0.0055, -0.0466],\n",
      "         ...,\n",
      "         [-0.0249,  0.0085, -0.0639],\n",
      "         [-0.0120,  0.0321,  0.0824],\n",
      "         [-0.0765, -0.0119, -0.0238]],\n",
      "\n",
      "        ...,\n",
      "\n",
      "        [[-0.0540, -0.0333, -0.0284],\n",
      "         [-0.0436, -0.0151, -0.0511],\n",
      "         [-0.0064, -0.0881,  0.0378],\n",
      "         ...,\n",
      "         [-0.0197, -0.0907, -0.0534],\n",
      "         [ 0.0394, -0.0658, -0.0086],\n",
      "         [ 0.0498, -0.0428, -0.0668]],\n",
      "\n",
      "        [[-0.0230,  0.0383,  0.0090],\n",
      "         [ 0.0155,  0.0532,  0.0800],\n",
      "         [-0.0684,  0.0295, -0.0041],\n",
      "         ...,\n",
      "         [ 0.0116,  0.0546,  0.0538],\n",
      "         [-0.0729, -0.0364, -0.0844],\n",
      "         [-0.0123,  0.0620,  0.0750]],\n",
      "\n",
      "        [[-0.0214,  0.0076, -0.0362],\n",
      "         [ 0.0578,  0.0472, -0.0242],\n",
      "         [-0.0076, -0.0266, -0.0459],\n",
      "         ...,\n",
      "         [ 0.0324, -0.0120,  0.0340],\n",
      "         [-0.0040, -0.0581, -0.0748],\n",
      "         [ 0.0595,  0.0270, -0.0396]]], device='cuda:0')\n",
      "cnn.bias tensor([ 0.0072,  0.0301,  0.0260, -0.0315,  0.0555,  0.0187,  0.0436, -0.0508,\n",
      "        -0.0241, -0.0017,  0.0124, -0.0083, -0.0377,  0.0276,  0.0239,  0.0318,\n",
      "         0.0126,  0.0498, -0.0431, -0.0327,  0.0354, -0.0210,  0.0163,  0.0285,\n",
      "         0.0195, -0.0382, -0.0247, -0.0288,  0.0435, -0.0552,  0.0299, -0.0028,\n",
      "        -0.0019, -0.0248,  0.0010, -0.0480,  0.0149, -0.0054,  0.0070,  0.0585,\n",
      "         0.0187, -0.0218, -0.0386, -0.0484,  0.0489,  0.0140, -0.0404, -0.0443,\n",
      "        -0.0064,  0.0249, -0.0495, -0.0413,  0.0234, -0.0411,  0.0054,  0.0154,\n",
      "         0.0329,  0.0271, -0.0066, -0.0282,  0.0234,  0.0446, -0.0322, -0.0424,\n",
      "        -0.0147, -0.0072,  0.0053, -0.0566,  0.0322,  0.0292, -0.0542,  0.0003,\n",
      "         0.0134,  0.0119,  0.0143, -0.0427, -0.0286,  0.0235,  0.0218,  0.0343,\n",
      "        -0.0276,  0.0161, -0.0390,  0.0380,  0.0236,  0.0098, -0.0250,  0.0321,\n",
      "        -0.0036,  0.0003, -0.0309,  0.0055,  0.0278,  0.0101, -0.0098, -0.0033,\n",
      "         0.0263, -0.0379,  0.0218, -0.0306, -0.0280, -0.0259, -0.0222,  0.0136,\n",
      "        -0.0016, -0.0207, -0.0262, -0.0186, -0.0337, -0.0512, -0.0266,  0.0439,\n",
      "        -0.0370,  0.0211, -0.0305,  0.0321,  0.0541,  0.0097,  0.0220, -0.0028,\n",
      "        -0.0092, -0.0495,  0.0229, -0.0421,  0.0186,  0.0128,  0.0340, -0.0571],\n",
      "       device='cuda:0')\n",
      "cnn2.weight tensor([[[ 0.0220,  0.0256, -0.0221, -0.0196,  0.0257],\n",
      "         [ 0.0201, -0.0310, -0.0088, -0.0205, -0.0501],\n",
      "         [-0.0379, -0.0160, -0.0070, -0.0471, -0.0062],\n",
      "         ...,\n",
      "         [-0.0322, -0.0273, -0.0507, -0.0212,  0.0141],\n",
      "         [-0.0045,  0.0541,  0.0593,  0.0430,  0.0297],\n",
      "         [-0.0643, -0.0860, -0.0816, -0.0780, -0.0341]],\n",
      "\n",
      "        [[-0.0384, -0.0396, -0.0041, -0.0544,  0.0031],\n",
      "         [ 0.0035,  0.0370, -0.0116, -0.0002, -0.0544],\n",
      "         [-0.0151, -0.0058,  0.0176,  0.0397,  0.0428],\n",
      "         ...,\n",
      "         [ 0.0244,  0.0096,  0.0416,  0.0185, -0.0707],\n",
      "         [ 0.0056, -0.0070, -0.0590, -0.0221, -0.0128],\n",
      "         [-0.0221, -0.0134,  0.0492, -0.0307,  0.0124]],\n",
      "\n",
      "        [[ 0.0402, -0.0349, -0.0133,  0.0114,  0.0025],\n",
      "         [ 0.0094,  0.0328, -0.0186, -0.0079, -0.0116],\n",
      "         [-0.0149, -0.0294, -0.0239, -0.0105, -0.0077],\n",
      "         ...,\n",
      "         [-0.0600,  0.0011, -0.0041,  0.0169, -0.0206],\n",
      "         [-0.0232,  0.0396, -0.0306, -0.0371, -0.0374],\n",
      "         [-0.0112, -0.0162,  0.0377,  0.0502,  0.0017]],\n",
      "\n",
      "        ...,\n",
      "\n",
      "        [[ 0.0581,  0.0542, -0.0147,  0.0067, -0.0494],\n",
      "         [-0.0332, -0.0074, -0.0351, -0.0708, -0.0734],\n",
      "         [-0.0404,  0.0183, -0.0350,  0.0088,  0.0113],\n",
      "         ...,\n",
      "         [ 0.0264,  0.0276,  0.0217, -0.0392,  0.0080],\n",
      "         [ 0.0529,  0.0137, -0.0241, -0.0104, -0.0553],\n",
      "         [-0.0061, -0.0125, -0.0168, -0.0207,  0.0226]],\n",
      "\n",
      "        [[-0.0479, -0.0573, -0.0430, -0.0784, -0.0432],\n",
      "         [-0.0409, -0.0230, -0.0165,  0.0453,  0.0377],\n",
      "         [-0.0123, -0.0318,  0.0075, -0.0391, -0.0007],\n",
      "         ...,\n",
      "         [-0.0269, -0.0484, -0.0013, -0.0216, -0.0232],\n",
      "         [-0.0300,  0.0540,  0.0662,  0.0623,  0.0582],\n",
      "         [-0.0736, -0.1076, -0.0344, -0.0599, -0.0026]],\n",
      "\n",
      "        [[ 0.0250, -0.0077,  0.0483, -0.0171, -0.0097],\n",
      "         [-0.0133, -0.0170,  0.0342,  0.0721,  0.0411],\n",
      "         [ 0.0021, -0.0070, -0.0349, -0.0171, -0.0339],\n",
      "         ...,\n",
      "         [ 0.0070, -0.0257, -0.1006, -0.0289, -0.0159],\n",
      "         [-0.0045, -0.0223,  0.0897,  0.0409,  0.0352],\n",
      "         [-0.0225, -0.0465,  0.0310,  0.0104,  0.0216]]], device='cuda:0')\n",
      "cnn2.bias tensor([ 0.0262,  0.0128,  0.0141, -0.0298,  0.0128,  0.0141,  0.0144, -0.0010,\n",
      "        -0.0437, -0.0366, -0.0229, -0.0384,  0.0171,  0.0074,  0.0135, -0.0286,\n",
      "         0.0290,  0.0214, -0.0308, -0.0189,  0.0220, -0.0067,  0.0303,  0.0457,\n",
      "        -0.0263, -0.0315,  0.0151, -0.0362,  0.0006,  0.0074,  0.0315,  0.0286,\n",
      "         0.0343,  0.0320, -0.0353, -0.0024,  0.0158,  0.0327,  0.0301,  0.0172,\n",
      "        -0.0187,  0.0275, -0.0208,  0.0040, -0.0259, -0.0194,  0.0299, -0.0394,\n",
      "        -0.0032, -0.0404, -0.0119,  0.0071,  0.0265, -0.0057, -0.0054,  0.0310,\n",
      "        -0.0195,  0.0286,  0.0423, -0.0304, -0.0180,  0.0293,  0.0019,  0.0009,\n",
      "         0.0400, -0.0300,  0.0320,  0.0079,  0.0326,  0.0270,  0.0312, -0.0017,\n",
      "         0.0259,  0.0052, -0.0195, -0.0339, -0.0288,  0.0213, -0.0331, -0.0017,\n",
      "        -0.0264,  0.0191,  0.0285, -0.0317,  0.0287,  0.0292, -0.0122,  0.0174,\n",
      "         0.0446,  0.0118,  0.0240,  0.0168, -0.0113, -0.0240, -0.0268,  0.0254,\n",
      "        -0.0297,  0.0228, -0.0078, -0.0212,  0.0144,  0.0212, -0.0121,  0.0087,\n",
      "        -0.0253,  0.0156,  0.0290,  0.0285, -0.0068,  0.0155, -0.0153,  0.0106,\n",
      "         0.0243,  0.0449, -0.0437, -0.0084, -0.0362,  0.0231, -0.0222,  0.0014,\n",
      "         0.0322, -0.0125, -0.0046, -0.0158, -0.0223,  0.0108,  0.0219,  0.0360],\n",
      "       device='cuda:0')\n",
      "cnn3.weight tensor([[[-5.7225e-02,  7.9582e-03,  1.5366e-02,  ..., -2.1036e-02,\n",
      "           1.6304e-02,  2.2621e-02],\n",
      "         [-4.6056e-02, -4.3461e-02,  1.3423e-03,  ..., -2.9922e-03,\n",
      "          -6.8468e-03,  1.5110e-02],\n",
      "         [ 1.9639e-02,  2.0847e-02,  3.3799e-02,  ...,  4.5033e-02,\n",
      "           3.9153e-02, -2.5866e-02],\n",
      "         ...,\n",
      "         [-4.6241e-02, -2.2287e-02,  2.3935e-02,  ...,  5.2079e-02,\n",
      "           5.5782e-02,  6.9519e-02],\n",
      "         [-8.0056e-03, -3.3350e-02, -1.6302e-02,  ..., -1.8573e-02,\n",
      "          -4.0426e-02, -4.7634e-02],\n",
      "         [-1.9862e-02,  4.5193e-03, -9.0724e-03,  ...,  2.9410e-02,\n",
      "           9.9853e-03,  7.9752e-03]],\n",
      "\n",
      "        [[ 2.9461e-02, -8.4970e-03, -1.4595e-02,  ..., -3.7101e-02,\n",
      "          -6.2234e-02, -9.7384e-03],\n",
      "         [ 1.3602e-02, -2.4109e-02,  1.6809e-03,  ...,  2.1359e-02,\n",
      "           3.4732e-02,  6.5691e-02],\n",
      "         [-4.2143e-02,  1.4383e-02, -2.5807e-02,  ...,  3.0596e-03,\n",
      "          -4.3545e-02,  1.0518e-02],\n",
      "         ...,\n",
      "         [ 4.4621e-03, -5.5795e-02, -8.5920e-02,  ..., -3.5956e-02,\n",
      "          -5.0172e-02,  4.9601e-02],\n",
      "         [-1.9261e-02, -2.1324e-02, -1.0576e-02,  ...,  4.7018e-02,\n",
      "           4.7875e-02,  4.8118e-02],\n",
      "         [-6.6889e-02, -7.3019e-02, -7.5134e-02,  ..., -2.0372e-02,\n",
      "           1.1150e-02,  3.0672e-02]],\n",
      "\n",
      "        [[ 2.5854e-02, -9.5371e-03,  1.4860e-02,  ...,  5.6841e-02,\n",
      "           3.3612e-02,  3.4581e-02],\n",
      "         [ 4.5342e-02,  1.7184e-02,  8.0612e-03,  ...,  3.2025e-03,\n",
      "           3.6687e-02, -4.5747e-03],\n",
      "         [-2.5625e-02, -1.8083e-02, -3.9418e-02,  ..., -4.6726e-02,\n",
      "           9.3628e-03, -1.6177e-02],\n",
      "         ...,\n",
      "         [-1.4438e-02, -1.1415e-02, -4.3473e-04,  ...,  1.6481e-02,\n",
      "          -4.4696e-02, -3.7818e-02],\n",
      "         [-8.7887e-03,  8.0000e-03, -1.5192e-02,  ..., -2.9175e-03,\n",
      "          -1.5719e-02,  3.5415e-02],\n",
      "         [-5.2702e-02, -6.3893e-02, -1.5073e-02,  ..., -5.3699e-02,\n",
      "          -5.8078e-02, -7.6176e-02]],\n",
      "\n",
      "        ...,\n",
      "\n",
      "        [[ 1.2220e-01,  7.4461e-02,  5.3584e-02,  ..., -1.5237e-03,\n",
      "           1.3039e-03, -9.8470e-03],\n",
      "         [ 3.5015e-02,  1.2528e-02, -6.4673e-02,  ...,  1.6974e-02,\n",
      "          -1.7013e-02, -2.5150e-02],\n",
      "         [ 2.5857e-02, -8.7035e-03,  1.5004e-02,  ..., -2.8481e-02,\n",
      "           1.7034e-02,  4.5885e-02],\n",
      "         ...,\n",
      "         [ 5.8615e-04, -3.8065e-02, -2.6512e-02,  ..., -4.4429e-02,\n",
      "          -2.4686e-02, -1.9709e-02],\n",
      "         [ 2.1683e-02,  4.5273e-02,  2.3540e-02,  ...,  1.7609e-02,\n",
      "           1.0864e-02, -2.4459e-03],\n",
      "         [ 6.3889e-03, -1.2477e-02, -3.9102e-02,  ..., -2.6045e-02,\n",
      "           1.0824e-03, -3.7338e-02]],\n",
      "\n",
      "        [[ 6.9071e-02,  1.0421e-01,  5.5303e-02,  ...,  4.6100e-02,\n",
      "           3.3689e-02,  2.1894e-03],\n",
      "         [ 3.3450e-02,  4.0942e-02,  5.3079e-02,  ...,  4.6035e-02,\n",
      "          -4.7019e-05,  1.6770e-02],\n",
      "         [ 2.2166e-02,  5.6273e-02, -1.7004e-02,  ...,  1.3997e-04,\n",
      "           7.0367e-02,  6.8077e-02],\n",
      "         ...,\n",
      "         [ 1.3362e-02,  8.2178e-03, -1.3934e-02,  ..., -5.6739e-02,\n",
      "           6.5163e-03,  1.3760e-02],\n",
      "         [ 5.7237e-02,  4.7901e-02,  4.9792e-02,  ..., -3.8851e-02,\n",
      "           1.4751e-02,  3.9698e-02],\n",
      "         [-1.7419e-02,  2.2258e-02, -1.0730e-02,  ..., -5.2050e-02,\n",
      "           4.9004e-03, -2.5304e-02]],\n",
      "\n",
      "        [[-1.4141e-03, -1.5133e-02, -7.7192e-02,  ..., -1.0685e-02,\n",
      "          -2.9938e-02,  2.8518e-02],\n",
      "         [-4.0160e-02, -3.9824e-02,  5.8333e-03,  ..., -3.5589e-03,\n",
      "           4.6951e-02, -2.9889e-02],\n",
      "         [ 2.3830e-02, -4.3239e-03,  1.4565e-02,  ...,  1.0728e-03,\n",
      "          -5.4766e-03,  7.6254e-03],\n",
      "         ...,\n",
      "         [-2.0167e-02,  1.9490e-02, -6.7993e-03,  ..., -4.3575e-03,\n",
      "          -4.2277e-02,  7.6203e-03],\n",
      "         [ 6.3518e-02,  6.5280e-02,  1.2305e-03,  ..., -1.7196e-02,\n",
      "           2.0744e-02,  1.6776e-03],\n",
      "         [-1.0339e-02,  2.6770e-02,  2.1609e-02,  ...,  7.9294e-03,\n",
      "          -4.6984e-02, -9.2336e-03]]], device='cuda:0')\n",
      "cnn3.bias tensor([ 0.0217,  0.0231, -0.0382, -0.0263,  0.0356,  0.0220,  0.0036,  0.0225,\n",
      "         0.0042, -0.0123,  0.0237, -0.0162,  0.0040,  0.0056, -0.0155, -0.0038,\n",
      "        -0.0088,  0.0303, -0.0174, -0.0147,  0.0168, -0.0184,  0.0159, -0.0228,\n",
      "        -0.0132,  0.0166, -0.0150, -0.0263, -0.0397,  0.0125, -0.0006, -0.0212,\n",
      "         0.0093, -0.0017,  0.0125, -0.0338, -0.0161, -0.0300, -0.0089,  0.0157,\n",
      "        -0.0173,  0.0116, -0.0066,  0.0211,  0.0009,  0.0036, -0.0166, -0.0364,\n",
      "         0.0041,  0.0179,  0.0097, -0.0041,  0.0262,  0.0001, -0.0078,  0.0031,\n",
      "         0.0118,  0.0389,  0.0300,  0.0036, -0.0188,  0.0251, -0.0142, -0.0017,\n",
      "        -0.0077,  0.0205, -0.0167, -0.0337,  0.0032, -0.0299, -0.0092,  0.0062,\n",
      "         0.0182,  0.0242, -0.0017, -0.0194,  0.0133, -0.0042,  0.0008,  0.0147,\n",
      "         0.0067,  0.0227, -0.0357,  0.0117,  0.0221, -0.0116, -0.0267, -0.0078,\n",
      "        -0.0314, -0.0113,  0.0115, -0.0038,  0.0084,  0.0066, -0.0097, -0.0122,\n",
      "        -0.0197, -0.0038,  0.0353, -0.0167,  0.0028,  0.0239,  0.0222,  0.0321,\n",
      "        -0.0266, -0.0176,  0.0156,  0.0261,  0.0285, -0.0111,  0.0478, -0.0052,\n",
      "         0.0308,  0.0303,  0.0220,  0.0021, -0.0126, -0.0304, -0.0142, -0.0215,\n",
      "         0.0107, -0.0201, -0.0233, -0.0288,  0.0178,  0.0174,  0.0049, -0.0227],\n",
      "       device='cuda:0')\n",
      "batchnorm.weight tensor([0.9620, 0.9918, 1.0026, 1.0308, 1.0063, 1.0228, 1.0022, 0.9716, 1.0281,\n",
      "        0.9694, 0.9927, 1.0131, 0.9578, 1.0316, 0.9969, 0.9913, 0.9958, 1.0188,\n",
      "        0.9847, 1.0433, 1.0136, 1.0694, 0.9797, 0.9902, 0.9974, 1.0087, 1.0005,\n",
      "        1.0348, 1.0189, 1.0183, 0.9648, 0.9641, 0.9868, 0.9681, 1.0117, 1.0106,\n",
      "        0.9756, 0.9956, 0.9899, 1.0241, 1.0008, 0.9616, 0.9773, 1.0138, 1.0099,\n",
      "        1.0161, 0.9841, 1.0198, 0.9799, 1.0471, 0.9929, 1.0111, 1.0471, 1.0109,\n",
      "        1.0309, 1.0138, 1.0159, 1.0229, 0.9917, 1.0051, 1.0242, 0.9400, 1.0312,\n",
      "        1.0029, 1.0424, 1.0002, 1.0340, 1.0175, 1.0374, 0.9813, 1.0000, 1.0280,\n",
      "        1.0017, 1.0236, 1.0453, 1.0131, 1.0199, 1.0256, 1.0261, 1.0323, 1.0458,\n",
      "        0.9822, 0.9914, 1.0328, 1.0192, 0.9656, 0.9514, 1.0216, 0.9837, 1.0473,\n",
      "        0.9700, 0.9911, 1.0016, 0.9595, 1.0449, 1.0312, 0.9979, 1.0383, 0.9951,\n",
      "        1.0066, 1.0086, 0.9971, 1.0296, 1.0298, 1.0430, 1.0388, 0.9866, 0.9678,\n",
      "        0.9835, 1.0277, 0.9829, 1.0030, 0.9529, 1.0589, 1.0185, 0.9830, 0.9940,\n",
      "        0.9946, 0.9769, 0.9987, 1.0192, 1.0925, 1.0165, 1.0443, 0.9676, 1.0507,\n",
      "        0.9820, 0.9979, 0.9877, 1.0468, 1.0493, 0.9974, 1.0290, 1.0189, 1.0135,\n",
      "        1.0142, 1.0200, 1.0261, 0.9937, 1.0092, 1.0773, 1.0188, 1.0055, 0.9941,\n",
      "        1.0367, 0.9822, 1.0284, 1.0114, 0.9928, 0.9890, 1.0317, 1.0210, 1.0403,\n",
      "        1.0000, 1.0122, 1.0097, 1.0473, 0.9857, 1.0675, 1.0531, 0.9504, 0.9924,\n",
      "        0.9245, 0.9928, 1.0801, 0.9914, 0.9691, 1.0693, 0.9693, 1.0205, 0.9927,\n",
      "        0.9888, 1.0388, 0.9904, 0.9904, 1.0208, 1.0117, 0.9908, 1.0335, 1.0493,\n",
      "        1.0184, 1.0136, 1.0299, 1.0478, 1.0301, 1.0192, 1.0220, 0.9734, 1.0174,\n",
      "        0.9853, 1.0049, 0.9874, 1.0532, 0.9931, 1.0379, 0.9954, 0.9898, 0.9532,\n",
      "        1.0124, 0.9957, 1.0198, 1.0119, 0.9694, 1.0251, 1.0027, 1.0199, 1.0150,\n",
      "        1.0231, 0.9850, 0.9817, 1.0704, 1.0106, 1.0230, 1.0019, 0.9711, 1.0224,\n",
      "        1.0058, 0.9944, 1.0110, 1.0173, 1.0728, 0.9877, 1.0631, 1.0248, 1.0202,\n",
      "        0.9863, 0.9940, 1.0587, 1.0058, 1.0447, 1.0572, 1.0172, 1.0146, 1.0200,\n",
      "        0.9889, 1.0097, 1.0342, 1.0220, 1.0337, 1.0069, 0.9646, 1.0175, 1.0281,\n",
      "        1.0074, 1.0209, 1.0064, 1.0232, 0.9684, 1.0189, 1.0168, 1.0406, 1.0296,\n",
      "        0.9955, 1.0250, 0.9827, 1.0603, 1.0402, 1.0041, 1.0258, 1.0200, 1.0027,\n",
      "        1.0398, 1.0361, 0.9631, 0.9848, 1.0482, 1.0021, 1.0137, 1.0359, 1.0371,\n",
      "        0.9984, 1.0273, 0.9885, 0.9806, 1.0457, 1.0239, 1.0264, 1.0395, 1.0205,\n",
      "        1.0681, 1.0122, 1.0187, 1.0417, 1.0212, 1.0111, 1.0300, 0.9939, 1.0110,\n",
      "        1.0058, 1.0499, 1.0144, 1.0126, 1.0317, 1.0737, 0.9964, 0.9776, 1.0183,\n",
      "        1.0054, 1.0313, 1.0466, 1.0441, 1.0098, 1.0025, 1.0200, 0.9988, 1.0257,\n",
      "        1.0462, 1.0250, 0.9964, 1.0175, 1.0183, 1.0545, 1.0405, 1.0258, 1.0126,\n",
      "        1.0474, 0.9927, 1.0363, 1.0281, 1.0073, 1.0445, 1.0059, 1.0879, 1.0316,\n",
      "        1.0447, 1.0026, 1.0530, 1.0234, 1.0197, 1.0356, 1.0400, 0.9976, 1.0124,\n",
      "        0.9804, 0.9862, 1.0422, 1.0184, 1.0397, 0.9982, 1.0690, 1.0487, 1.0053,\n",
      "        1.0548, 1.0007, 1.0310, 1.0303, 1.0655, 1.0180, 1.0092, 1.0737, 1.0238,\n",
      "        1.0074, 1.0698, 0.9695, 1.0339, 0.9995, 0.9953, 1.0417, 0.9905, 1.0754,\n",
      "        0.9779, 1.0320, 1.0039, 1.0244, 1.0053, 0.9959, 1.0259, 1.0086, 0.9990,\n",
      "        1.0245, 0.9875, 1.0476, 1.0008, 1.0009, 0.9904, 1.0462, 1.0055, 0.9955,\n",
      "        0.9874, 1.0173, 1.0419, 1.0307, 1.0272, 0.9993], device='cuda:0')\n",
      "batchnorm.bias tensor([-7.1843e-02, -3.2517e-03, -3.1514e-02, -2.3763e-02, -3.4993e-02,\n",
      "        -4.0470e-02, -1.6761e-02, -5.9413e-02, -4.7151e-02, -7.5869e-02,\n",
      "        -6.2585e-02, -1.6670e-02, -8.7559e-02, -3.1160e-02, -1.7928e-02,\n",
      "        -8.2812e-03, -3.8973e-02, -3.2330e-02, -5.5333e-02, -4.7074e-02,\n",
      "        -3.0779e-02,  2.4277e-03, -4.2617e-02, -5.3050e-02, -2.3209e-02,\n",
      "        -2.5745e-02, -5.2949e-02, -7.5131e-03, -2.4030e-02, -2.5337e-02,\n",
      "        -5.2020e-02, -4.0278e-02, -4.8579e-02, -2.2183e-02, -3.4790e-02,\n",
      "        -4.1563e-02, -2.6886e-02, -2.3904e-02, -4.5350e-02, -2.5779e-02,\n",
      "        -6.8030e-02, -5.0469e-02, -3.7106e-02, -7.8130e-02, -3.5373e-02,\n",
      "        -4.9481e-02, -3.4727e-02, -2.1859e-02, -3.1315e-02, -6.8478e-03,\n",
      "        -6.6045e-02,  2.8171e-03, -1.4353e-02, -8.1083e-03, -4.7854e-02,\n",
      "         2.4479e-03, -1.2761e-02, -4.9732e-03, -3.5451e-02, -2.5251e-02,\n",
      "        -1.3059e-02, -7.2488e-02, -2.7002e-02, -3.4533e-02, -3.5568e-03,\n",
      "        -4.8714e-02, -4.0701e-02, -4.7292e-02, -1.6876e-02, -1.0626e-02,\n",
      "        -2.0675e-02, -2.1638e-03, -4.1242e-02, -1.5840e-02,  1.1611e-03,\n",
      "        -1.2338e-02,  2.6651e-03, -5.3106e-02, -8.3464e-04, -2.2896e-02,\n",
      "        -2.0453e-02, -1.1633e-02, -4.9419e-02, -1.0947e-02, -2.6413e-03,\n",
      "        -7.0843e-02, -8.0434e-02, -9.8177e-03, -5.8486e-02, -2.1800e-02,\n",
      "        -2.4791e-02, -5.8510e-02, -4.6013e-02, -5.2671e-02,  6.8332e-03,\n",
      "        -2.4320e-02, -4.8856e-02,  3.8935e-03, -6.7391e-02, -5.9286e-02,\n",
      "        -5.1880e-02, -6.6052e-02, -7.3748e-03, -2.9818e-02, -6.2782e-03,\n",
      "        -4.0800e-02, -7.7844e-02, -4.4631e-02, -5.7763e-02, -4.3986e-02,\n",
      "        -4.9648e-02, -4.5022e-02, -4.7925e-02, -1.9788e-02, -1.9171e-03,\n",
      "        -3.1309e-02, -5.5665e-02, -6.0884e-02, -4.9246e-02, -3.5225e-02,\n",
      "         4.6458e-03, -1.4757e-02, -3.8141e-02, -4.9643e-02, -2.1873e-02,\n",
      "        -2.7965e-02, -3.8216e-02, -1.9657e-02, -2.2531e-02, -4.1562e-03,\n",
      "        -2.7429e-02, -5.1742e-02,  1.1000e-02, -1.5203e-02, -1.1365e-02,\n",
      "        -1.9506e-02, -1.5200e-02, -5.6364e-02, -5.7243e-02, -5.5638e-02,\n",
      "         1.5244e-02, -2.1806e-02, -4.8332e-02, -5.2415e-02, -3.1976e-02,\n",
      "        -8.1834e-02, -1.4196e-02, -2.1816e-03, -1.4673e-02, -3.0046e-02,\n",
      "        -5.3836e-02, -1.0785e-02, -2.1607e-02, -6.9151e-03, -2.3582e-02,\n",
      "        -7.9899e-03,  9.9128e-04, -6.8390e-02, -7.6786e-03,  9.7844e-03,\n",
      "        -4.9718e-02, -3.3256e-02, -7.2699e-02, -2.2578e-02,  3.8588e-04,\n",
      "        -1.2909e-03, -2.4923e-02, -1.6607e-03, -5.0143e-02, -4.1615e-02,\n",
      "        -4.1654e-02, -2.5946e-02, -4.1361e-02, -4.5083e-02, -3.9409e-02,\n",
      "        -1.3476e-02, -2.3065e-02, -6.9900e-02,  1.5035e-02, -2.6838e-02,\n",
      "        -8.0178e-03, -7.9174e-03, -2.1561e-02, -2.3563e-02, -3.6636e-02,\n",
      "        -1.9721e-02, -7.4715e-03, -3.7522e-02, -2.1314e-02, -4.7536e-02,\n",
      "        -1.3403e-02, -4.0469e-02, -3.2645e-02, -2.9824e-02, -3.2367e-02,\n",
      "        -1.3416e-02, -2.6729e-02, -8.7840e-02, -5.9395e-02, -4.0033e-02,\n",
      "        -5.9522e-02, -4.9180e-02, -6.6888e-02, -1.0874e-02, -4.7034e-02,\n",
      "         3.6832e-03, -1.3782e-02, -4.5939e-02, -6.8702e-02, -2.5493e-02,\n",
      "        -4.2528e-02, -3.0161e-02, -6.1055e-02, -5.6280e-02, -3.7341e-02,\n",
      "        -1.5147e-02, -4.3175e-02, -1.3429e-02, -3.9789e-02, -4.0641e-02,\n",
      "        -2.4485e-02, -4.8551e-02, -1.9526e-03, -1.2112e-02, -4.0799e-02,\n",
      "        -7.3042e-02, -2.1836e-02,  1.3930e-02, -4.6364e-02, -1.5208e-02,\n",
      "        -4.3234e-02, -3.9344e-02, -3.2637e-02, -2.0323e-02, -6.2896e-02,\n",
      "        -1.4299e-02, -1.5213e-02, -1.3440e-02, -9.0049e-03, -3.6557e-02,\n",
      "        -5.9867e-02,  1.0269e-02, -1.6034e-02, -1.0682e-02, -4.7208e-02,\n",
      "        -2.0426e-02, -8.9127e-03, -2.4939e-02, -6.4318e-03, -4.3241e-02,\n",
      "        -5.4431e-02, -4.5094e-02, -8.4184e-02, -4.3173e-02, -4.4222e-02,\n",
      "        -2.2092e-02,  3.7221e-03, -7.0969e-02, -1.5116e-02, -5.1879e-02,\n",
      "        -3.6455e-02, -3.2663e-02, -2.3575e-02, -9.7059e-02, -5.2799e-02,\n",
      "        -1.8954e-02, -5.2426e-02, -1.1429e-02, -4.2811e-02,  2.1592e-03,\n",
      "        -9.0370e-03, -1.1452e-02,  4.6227e-03, -4.2028e-02, -1.2406e-02,\n",
      "        -2.2518e-02, -9.3424e-04,  2.3405e-05, -4.7736e-02, -3.1157e-02,\n",
      "         4.6721e-03, -1.8566e-02, -1.7414e-02, -1.8916e-02, -3.2642e-02,\n",
      "        -2.5056e-02, -7.0519e-02, -3.9325e-02, -3.7119e-02, -4.3031e-02,\n",
      "        -1.6518e-02, -6.8028e-02, -4.5589e-03, -3.2609e-02,  1.3476e-02,\n",
      "        -2.2648e-02,  1.4185e-03, -2.7106e-02,  2.8557e-03, -1.4810e-03,\n",
      "        -2.8896e-02, -4.2535e-03, -1.9889e-03, -3.1637e-02, -5.9587e-02,\n",
      "        -6.7466e-03, -2.3492e-02, -3.8450e-02,  1.4490e-03, -3.1159e-03,\n",
      "        -5.2090e-02, -1.2636e-02, -5.1306e-03,  2.1110e-03, -6.2338e-02,\n",
      "        -1.5552e-02, -3.1429e-02, -1.8977e-02, -5.6350e-02, -6.8041e-02,\n",
      "        -2.3280e-02, -1.0658e-02, -1.6176e-03, -1.4382e-02, -5.4078e-02,\n",
      "        -6.2529e-02, -5.7109e-03, -1.5875e-02, -1.5897e-02, -1.7686e-02,\n",
      "         6.1874e-03, -9.1193e-03, -1.7386e-02, -6.2389e-02, -9.7164e-02,\n",
      "        -8.0316e-03,  2.4193e-02, -3.5780e-02, -2.5235e-02, -7.0203e-03,\n",
      "        -2.1582e-02, -3.8302e-02,  1.6826e-02, -7.6753e-02, -4.3057e-03,\n",
      "         1.5288e-02, -5.4078e-02, -3.3759e-02, -2.3318e-02,  4.9197e-03,\n",
      "        -2.1818e-02, -4.1863e-02,  4.6473e-03, -5.8713e-02, -2.5674e-02,\n",
      "        -5.0563e-02, -4.0832e-02, -4.4295e-02, -5.5656e-02, -3.0604e-02,\n",
      "        -5.7088e-02, -4.1031e-02, -1.4591e-02, -4.6852e-02, -5.5038e-03,\n",
      "        -7.3251e-02, -3.5426e-02, -8.8239e-03, -2.5337e-02,  9.2651e-04,\n",
      "        -3.0385e-02, -3.2148e-03, -2.2496e-02, -9.2387e-03, -3.6021e-02,\n",
      "        -3.0475e-02, -7.1073e-04, -1.8412e-02, -2.1637e-02, -2.8146e-02,\n",
      "        -3.1329e-02, -1.3779e-02, -1.3712e-02, -6.1508e-02], device='cuda:0')\n",
      "lstm.weight_ih_l0 tensor([[-4.1561e-02, -8.3356e-02,  5.2208e-02,  ..., -3.6132e-02,\n",
      "         -5.1934e-02, -1.1373e-01],\n",
      "        [-9.1001e-03, -4.8212e-02, -1.0612e-02,  ...,  1.2983e-02,\n",
      "         -6.7669e-02, -6.9728e-02],\n",
      "        [ 4.2466e-06, -4.1090e-02,  5.4221e-02,  ..., -2.7519e-03,\n",
      "         -4.0835e-02,  3.8471e-02],\n",
      "        ...,\n",
      "        [-2.7694e-03, -2.5156e-02,  2.6792e-02,  ..., -2.4609e-02,\n",
      "          1.8501e-02,  2.9788e-02],\n",
      "        [-5.4156e-02, -5.0189e-02,  1.0559e-02,  ...,  2.1077e-03,\n",
      "         -7.3445e-04,  2.4126e-02],\n",
      "        [ 1.5986e-02, -1.0759e-02, -1.2958e-02,  ...,  7.9824e-03,\n",
      "         -6.2978e-02, -5.2040e-02]], device='cuda:0')\n",
      "lstm.weight_hh_l0 tensor([[-0.0463,  0.0368, -0.0049,  ...,  0.0269, -0.0169, -0.0331],\n",
      "        [-0.0372,  0.0582,  0.0479,  ..., -0.0379, -0.0450, -0.0257],\n",
      "        [ 0.0158, -0.0017,  0.0397,  ..., -0.1041, -0.0078, -0.0495],\n",
      "        ...,\n",
      "        [-0.0052, -0.0434,  0.0354,  ...,  0.0022, -0.0321, -0.0033],\n",
      "        [-0.0401,  0.0111,  0.0347,  ...,  0.0230, -0.0260, -0.0088],\n",
      "        [ 0.0723,  0.0162,  0.0487,  ...,  0.0314,  0.0495,  0.0518]],\n",
      "       device='cuda:0')\n",
      "lstm.bias_ih_l0 tensor([-0.0671,  0.0298, -0.0032,  ..., -0.0213,  0.0156, -0.0588],\n",
      "       device='cuda:0')\n",
      "lstm.bias_hh_l0 tensor([-0.0101,  0.0021,  0.0015,  ...,  0.0101, -0.0240, -0.0368],\n",
      "       device='cuda:0')\n",
      "lstm.weight_ih_l1 tensor([[ 0.0455, -0.0180, -0.0400,  ..., -0.0746, -0.0660, -0.0173],\n",
      "        [-0.0914, -0.0077,  0.0021,  ...,  0.0109,  0.0410,  0.0072],\n",
      "        [-0.0692, -0.0370,  0.0156,  ..., -0.0157, -0.0394,  0.0076],\n",
      "        ...,\n",
      "        [ 0.0866, -0.0065,  0.0481,  ..., -0.0105, -0.0001,  0.0502],\n",
      "        [ 0.0901, -0.0505,  0.0165,  ...,  0.0338, -0.0457, -0.0191],\n",
      "        [ 0.0728, -0.0360,  0.0717,  ...,  0.0686,  0.0968,  0.0559]],\n",
      "       device='cuda:0')\n",
      "lstm.weight_hh_l1 tensor([[ 0.0546,  0.0235,  0.0106,  ..., -0.0293, -0.0602, -0.0029],\n",
      "        [ 0.0686,  0.0333,  0.0043,  ...,  0.0163, -0.0011,  0.0020],\n",
      "        [-0.0352,  0.0210,  0.0039,  ...,  0.0457,  0.0197, -0.0195],\n",
      "        ...,\n",
      "        [-0.0559, -0.0733, -0.0582,  ..., -0.0150, -0.0221,  0.0131],\n",
      "        [ 0.0207, -0.0396, -0.0669,  ..., -0.0570, -0.0363,  0.0220],\n",
      "        [-0.0065,  0.0026,  0.0175,  ..., -0.0251, -0.0090, -0.0484]],\n",
      "       device='cuda:0')\n",
      "lstm.bias_ih_l1 tensor([-0.0024, -0.0044, -0.0537,  ..., -0.0893,  0.0014, -0.0816],\n",
      "       device='cuda:0')\n",
      "lstm.bias_hh_l1 tensor([ 0.0500, -0.0214, -0.0614,  ..., -0.1078, -0.0502, -0.0725],\n",
      "       device='cuda:0')\n",
      "linear.weight tensor([[ 0.0525,  0.0795,  0.0631,  ...,  0.0226, -0.0053, -0.0106],\n",
      "        [-0.0919, -0.0759,  0.0788,  ..., -0.0004, -0.0187, -0.0292],\n",
      "        [ 0.0067,  0.0386, -0.0353,  ..., -0.0417,  0.0522, -0.0497],\n",
      "        ...,\n",
      "        [ 0.0534,  0.0316, -0.0606,  ..., -0.0040,  0.0540,  0.0012],\n",
      "        [-0.0493, -0.0345, -0.0490,  ..., -0.0026, -0.0256,  0.0669],\n",
      "        [-0.1766, -0.0240, -0.0770,  ...,  0.0439,  0.0473, -0.0828]],\n",
      "       device='cuda:0')\n",
      "linear.bias tensor([ 0.0413, -0.0217, -0.0422, -0.0305, -0.0098,  0.0003, -0.0707],\n",
      "       device='cuda:0')\n"
     ]
    }
   ],
   "source": [
    "for name, param in model.named_parameters():\n",
    "    if param.requires_grad:\n",
    "        print(name, param.data)"
   ]
  },
  {
   "cell_type": "code",
   "execution_count": 20,
   "id": "cc9b6fd0",
   "metadata": {},
   "outputs": [],
   "source": [
    "model_path = main_path + f'/models/wav2vecbase/holdout_{holdout}.pth'\n",
    "\n",
    "torch.save({'epoch':epochs,\n",
    "            'model_state_dict':model.state_dict(),\n",
    "            'optimizer_state_dict':optimizer.state_dict()},\n",
    "            model_path)"
   ]
  },
  {
   "cell_type": "code",
   "execution_count": null,
   "id": "8d451f36",
   "metadata": {},
   "outputs": [],
   "source": []
  }
 ],
 "metadata": {
  "kernelspec": {
   "display_name": "Python 3",
   "language": "python",
   "name": "python3"
  },
  "language_info": {
   "codemirror_mode": {
    "name": "ipython",
    "version": 3
   },
   "file_extension": ".py",
   "mimetype": "text/x-python",
   "name": "python",
   "nbconvert_exporter": "python",
   "pygments_lexer": "ipython3",
   "version": "3.7.12"
  }
 },
 "nbformat": 4,
 "nbformat_minor": 5
}
