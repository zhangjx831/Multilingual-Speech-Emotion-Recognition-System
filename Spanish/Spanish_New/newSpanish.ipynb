{
 "cells": [
  {
   "cell_type": "code",
   "execution_count": 1,
   "id": "fcff203e",
   "metadata": {},
   "outputs": [],
   "source": [
    "import re\n",
    "import os\n",
    "import pandas as pd\n",
    "import random\n",
    "from tqdm import tqdm \n",
    "\n",
    "file_paths, file_names, emotions, audios = [], [], [], []\n",
    "emotion_map = {'Neutral': 'neutral', 'Anger': 'angry', 'Happiness': 'happy', 'Sadness': 'sad', 'Fear': 'fear',\n",
    "              'Disgust': 'disgust'}\n",
    "\n",
    "main_path = '/home/rl3155/Multilingual-Speech-Emotion-Recognition-System/Spanish/Spanish_New'\n",
    "DATA_NATURAL = \"/home/rl3155/MESD_All\""
   ]
  },
  {
   "cell_type": "code",
   "execution_count": 2,
   "id": "371d6085",
   "metadata": {},
   "outputs": [
    {
     "name": "stdout",
     "output_type": "stream",
     "text": [
      "1.12.1\n",
      "0.12.1+cu113\n",
      "cuda\n"
     ]
    }
   ],
   "source": [
    "import torch\n",
    "import torchaudio\n",
    "\n",
    "print(torch.__version__)\n",
    "print(torchaudio.__version__)\n",
    "\n",
    "torch.random.manual_seed(0)\n",
    "device = torch.device(\"cuda\" if torch.cuda.is_available() else \"cpu\")\n",
    "\n",
    "print(device)"
   ]
  },
  {
   "cell_type": "code",
   "execution_count": 3,
   "id": "4675fdb9",
   "metadata": {},
   "outputs": [
    {
     "name": "stdout",
     "output_type": "stream",
     "text": [
      "<class 'torchaudio.models.wav2vec2.model.Wav2Vec2Model'>\n",
      "16000\n"
     ]
    }
   ],
   "source": [
    "bundle = torchaudio.pipelines.WAV2VEC2_BASE\n",
    "extractor = bundle.get_model()\n",
    "print(extractor.__class__)\n",
    "print(bundle.sample_rate)"
   ]
  },
  {
   "cell_type": "markdown",
   "id": "479df5b3",
   "metadata": {},
   "source": [
    "### Random get 5 parts of the entries -- only run code below 1 time"
   ]
  },
  {
   "cell_type": "code",
   "execution_count": 4,
   "id": "176d192c",
   "metadata": {},
   "outputs": [
    {
     "name": "stderr",
     "output_type": "stream",
     "text": [
      "100%|███████████████████████████████████████████████████████████████████████████████████████████████████████████████████████████████████████████████████████████████████████████████████████████████████████| 863/863 [00:00<00:00, 518134.03it/s]\n"
     ]
    }
   ],
   "source": [
    "# Define path to datasets; create a random chunked 5 parts of entries\n",
    "# entries = os.listdir(DATA_NATURAL)\n",
    "# random.shuffle(entries)\n",
    "# session = []\n",
    "# equal_parts = (len(entries)-1)//5 # for equally split the entries into 5 parts\n",
    "# count = 0\n",
    "# for i in tqdm(range(len(entries))):\n",
    "#     entry = entries[i]\n",
    "#     if \"wav\" not in entry:\n",
    "#         continue\n",
    "#     path = DATA_NATURAL + \"/\" + entry\n",
    "#     emotion = emotion_map[entry.split(\"_\")[0]]\n",
    "#     file_paths.append(path)\n",
    "#     file_names.append(entry)\n",
    "#     emotions.append(emotion)\n",
    "    \n",
    "#     # assign session to it\n",
    "#     part = (count//equal_parts)%6 + 1\n",
    "#     if part == 6:\n",
    "#         part = 5\n",
    "#     session.append(part)\n",
    "#     count += 1\n",
    "\n",
    "# file = pd.DataFrame({'path':file_paths, 'name': file_names, 'emotion': emotions, 'session': session})\n",
    "# dataframe_path = main_path + '/session_entries.csv'\n",
    "# file.to_csv(dataframe_path)"
   ]
  },
  {
   "cell_type": "markdown",
   "id": "823d4970",
   "metadata": {},
   "source": [
    "### Extract Features using Models"
   ]
  },
  {
   "cell_type": "code",
   "execution_count": 5,
   "id": "605b05c8",
   "metadata": {},
   "outputs": [
    {
     "data": {
      "text/html": [
       "<div>\n",
       "<style scoped>\n",
       "    .dataframe tbody tr th:only-of-type {\n",
       "        vertical-align: middle;\n",
       "    }\n",
       "\n",
       "    .dataframe tbody tr th {\n",
       "        vertical-align: top;\n",
       "    }\n",
       "\n",
       "    .dataframe thead th {\n",
       "        text-align: right;\n",
       "    }\n",
       "</style>\n",
       "<table border=\"1\" class=\"dataframe\">\n",
       "  <thead>\n",
       "    <tr style=\"text-align: right;\">\n",
       "      <th></th>\n",
       "      <th>path</th>\n",
       "      <th>name</th>\n",
       "      <th>emotion</th>\n",
       "      <th>session</th>\n",
       "    </tr>\n",
       "  </thead>\n",
       "  <tbody>\n",
       "    <tr>\n",
       "      <th>0</th>\n",
       "      <td>/home/rl3155/MESD_All/Fear_F_A_basta_ya.wav</td>\n",
       "      <td>Fear_F_A_basta_ya.wav</td>\n",
       "      <td>fear</td>\n",
       "      <td>1</td>\n",
       "    </tr>\n",
       "    <tr>\n",
       "      <th>1</th>\n",
       "      <td>/home/rl3155/MESD_All/Happiness_M_A_arriba.wav</td>\n",
       "      <td>Happiness_M_A_arriba.wav</td>\n",
       "      <td>happy</td>\n",
       "      <td>1</td>\n",
       "    </tr>\n",
       "    <tr>\n",
       "      <th>2</th>\n",
       "      <td>/home/rl3155/MESD_All/Fear_F_B_arana.wav</td>\n",
       "      <td>Fear_F_B_arana.wav</td>\n",
       "      <td>fear</td>\n",
       "      <td>1</td>\n",
       "    </tr>\n",
       "    <tr>\n",
       "      <th>3</th>\n",
       "      <td>/home/rl3155/MESD_All/Neutral_M_B_articulo.wav</td>\n",
       "      <td>Neutral_M_B_articulo.wav</td>\n",
       "      <td>neutral</td>\n",
       "      <td>1</td>\n",
       "    </tr>\n",
       "    <tr>\n",
       "      <th>4</th>\n",
       "      <td>/home/rl3155/MESD_All/Disgust_F_A_antes.wav</td>\n",
       "      <td>Disgust_F_A_antes.wav</td>\n",
       "      <td>disgust</td>\n",
       "      <td>1</td>\n",
       "    </tr>\n",
       "  </tbody>\n",
       "</table>\n",
       "</div>"
      ],
      "text/plain": [
       "                                             path                      name  \\\n",
       "0     /home/rl3155/MESD_All/Fear_F_A_basta_ya.wav     Fear_F_A_basta_ya.wav   \n",
       "1  /home/rl3155/MESD_All/Happiness_M_A_arriba.wav  Happiness_M_A_arriba.wav   \n",
       "2        /home/rl3155/MESD_All/Fear_F_B_arana.wav        Fear_F_B_arana.wav   \n",
       "3  /home/rl3155/MESD_All/Neutral_M_B_articulo.wav  Neutral_M_B_articulo.wav   \n",
       "4     /home/rl3155/MESD_All/Disgust_F_A_antes.wav     Disgust_F_A_antes.wav   \n",
       "\n",
       "   emotion  session  \n",
       "0     fear        1  \n",
       "1    happy        1  \n",
       "2     fear        1  \n",
       "3  neutral        1  \n",
       "4  disgust        1  "
      ]
     },
     "execution_count": 5,
     "metadata": {},
     "output_type": "execute_result"
    }
   ],
   "source": [
    "# Get the entries with assigned session\n",
    "\n",
    "dataframe_path = main_path + '/session_entries.csv'\n",
    "file = pd.read_csv(dataframe_path)[['path', 'name', 'emotion', 'session']]\n",
    "file.head()"
   ]
  },
  {
   "cell_type": "code",
   "execution_count": 6,
   "id": "9dcc58f6",
   "metadata": {},
   "outputs": [
    {
     "name": "stderr",
     "output_type": "stream",
     "text": [
      "100%|███████████████████████████████████████████████████████████████████████████████████████████████████████████████████████████████████████████████████████████████████████████████████████████████████████████| 862/862 [01:47<00:00,  8.01it/s]\n"
     ]
    }
   ],
   "source": [
    "from tqdm import tqdm\n",
    "\n",
    "for i in tqdm(range(len(file['path']))):\n",
    "    path = file['path'][i]\n",
    "    wave, sr = torchaudio.load(path)\n",
    "    if sr != bundle.sample_rate:\n",
    "        wave = torchaudio.functional.resample(wave, sr, bundle.sample_rate)\n",
    "    with torch.inference_mode():\n",
    "        feature, _ = extractor.extract_features(wave)\n",
    "    feature = [f[0] for f in feature]\n",
    "    audio = torch.stack(feature)\n",
    "    audios.append(audio)"
   ]
  },
  {
   "cell_type": "code",
   "execution_count": 7,
   "id": "2b3b8ac2",
   "metadata": {},
   "outputs": [],
   "source": [
    "file['audio'] = audios"
   ]
  },
  {
   "cell_type": "markdown",
   "id": "643b7bc9",
   "metadata": {},
   "source": [
    "### Load Data"
   ]
  },
  {
   "cell_type": "code",
   "execution_count": 8,
   "id": "71a55670",
   "metadata": {},
   "outputs": [],
   "source": [
    "holdout = 1\n",
    "train = file[file['session'] != holdout]\n",
    "test = file[file['session'] == holdout]"
   ]
  },
  {
   "cell_type": "code",
   "execution_count": 9,
   "id": "75a75bd9",
   "metadata": {},
   "outputs": [],
   "source": [
    "class MyDataSet(torch.utils.data.Dataset):\n",
    "    def __init__(self, audios, labels, label_transform):\n",
    "        super(MyDataSet).__init__()\n",
    "        self.audios = audios\n",
    "        self.labels = labels\n",
    "        self.label_transform = label_transform\n",
    "        \n",
    "    def __getitem__(self, idx):\n",
    "        label = self.label_transform[self.labels[idx]]\n",
    "        audio = self.audios[idx]\n",
    "        length = audio.size(1)\n",
    "        return audio, length, label\n",
    "    \n",
    "    def __len__(self):\n",
    "        return len(self.labels)"
   ]
  },
  {
   "cell_type": "code",
   "execution_count": 10,
   "id": "141ec40a",
   "metadata": {},
   "outputs": [],
   "source": [
    "def collate_indic(data):\n",
    "    audios, lengths, labels = zip(*data)\n",
    "    max_len = max(lengths)\n",
    "    n_ftrs = audios[0].size(2)\n",
    "    n_dims = audios[0].size(0)\n",
    "    features = torch.zeros((len(audios), n_dims, max_len, n_ftrs))\n",
    "    labels = torch.tensor(labels)\n",
    "    lengths = torch.tensor(lengths)\n",
    "\n",
    "    for i in range(len(data)):\n",
    "        j, k = audios[i].size(1), audios[i].size(2)\n",
    "        features[i] = torch.cat([audios[i], torch.zeros((n_dims, max_len - j, k))], dim=1)\n",
    "\n",
    "    return features, lengths, labels"
   ]
  },
  {
   "cell_type": "code",
   "execution_count": 11,
   "id": "0738ead4",
   "metadata": {},
   "outputs": [
    {
     "data": {
      "text/plain": [
       "{'neutral': 0, 'angry': 1, 'happy': 2, 'sad': 3, 'fear': 4, 'disgust': 5}"
      ]
     },
     "execution_count": 11,
     "metadata": {},
     "output_type": "execute_result"
    }
   ],
   "source": [
    "categories = ['neutral', 'angry', 'happy', 'sad', 'fear', 'disgust']\n",
    "cate_dic = {}\n",
    "for i, cate in enumerate(categories):\n",
    "    cate_dic[cate] = i\n",
    "cate_dic"
   ]
  },
  {
   "cell_type": "code",
   "execution_count": 12,
   "id": "9aa549a4",
   "metadata": {},
   "outputs": [],
   "source": [
    "from torch.utils.data import DataLoader\n",
    "\n",
    "train_dataset = MyDataSet(train['audio'].tolist(), train['emotion'].tolist(), cate_dic)\n",
    "trainloader_args = dict(batch_size=16, shuffle=True)\n",
    "train_dataloader = DataLoader(train_dataset, **trainloader_args, \n",
    "                              collate_fn=collate_indic)\n",
    "\n",
    "test_dataset = MyDataSet(test['audio'].tolist(), test['emotion'].tolist(), cate_dic)\n",
    "testloader_args = dict(batch_size=16, shuffle=True)\n",
    "test_dataloader = DataLoader(test_dataset, **testloader_args, \n",
    "                             collate_fn=collate_indic)"
   ]
  },
  {
   "cell_type": "markdown",
   "id": "adf4848c",
   "metadata": {},
   "source": [
    "## Train with 3CNN+LSTM"
   ]
  },
  {
   "cell_type": "code",
   "execution_count": 13,
   "id": "2ef1a6ec",
   "metadata": {},
   "outputs": [],
   "source": [
    "import torch.nn as nn\n",
    "import torch.nn.functional as F\n",
    "\n",
    "class ICASSP3CNN(nn.Module):\n",
    "    def __init__(self, vocab_size, dims = 12, embed_size=128, hidden_size=512, num_lstm_layers = 2, bidirectional = False, label_size=7):\n",
    "        super().__init__()\n",
    "        self.n_layers = num_lstm_layers \n",
    "        self.hidden = hidden_size\n",
    "        self.bidirectional = bidirectional\n",
    "        \n",
    "        self.aggr = nn.Conv1d(in_channels=dims, out_channels=1, kernel_size=1)\n",
    "        \n",
    "        self.embed = nn.Linear(in_features = vocab_size, out_features = embed_size)\n",
    "\n",
    "        self.cnn  = nn.Conv1d(embed_size, embed_size, kernel_size=3, padding=1)\n",
    "        self.cnn2 = nn.Conv1d(embed_size, embed_size, kernel_size=5, padding=2)\n",
    "        self.cnn3 = nn.Conv1d(embed_size, embed_size, kernel_size=7, padding=3)\n",
    "\n",
    "        self.batchnorm = nn.BatchNorm1d(3 * embed_size)\n",
    "\n",
    "        self.lstm = nn.LSTM(input_size = 3 * embed_size, \n",
    "                            hidden_size = hidden_size, \n",
    "                            num_layers = num_lstm_layers, \n",
    "                            bidirectional = bidirectional)\n",
    "\n",
    "        self.linear = nn.Linear(in_features = 2 * hidden_size if bidirectional else hidden_size, \n",
    "                                out_features = label_size)\n",
    "\n",
    "\n",
    "    def forward(self, x, lengths):\n",
    "        \"\"\"\n",
    "        padded_x: (B,T) padded LongTensor\n",
    "        \"\"\"\n",
    "        n, d, b, t = x.size(0), x.size(1), x.size(2), x.size(3)\n",
    "        x = torch.flatten(x, start_dim=2)\n",
    "        input = self.aggr(x)\n",
    "        input = torch.reshape(input, (n, b, t))\n",
    "        input = self.embed(input)\n",
    "\n",
    "        batch_size = input.size(0)\n",
    "        input = input.transpose(1,2)    # (B,T,H) -> (B,H,T)\n",
    "\n",
    "        cnn_output = torch.cat([self.cnn(input), self.cnn2(input), self.cnn3(input)], dim=1)\n",
    "\n",
    "        input = F.relu(self.batchnorm(cnn_output))\n",
    "\n",
    "        input = input.transpose(1,2)\n",
    "\n",
    "        pack_tensor = nn.utils.rnn.pack_padded_sequence(input, lengths, batch_first=True, enforce_sorted=False)\n",
    "        _, (hn, cn) = self.lstm(pack_tensor)\n",
    "\n",
    "        if self.bidirectional:\n",
    "            h_n = hn.view(self.n_layers, 2, batch_size, self.hidden)\n",
    "            h_n = torch.cat([ h_n[-1, 0,:], h_n[-1,1,:] ], dim = 1)\n",
    "        else:\n",
    "            h_n = hn[-1]\n",
    "\n",
    "        logits = self.linear(h_n)\n",
    "\n",
    "        return logits"
   ]
  },
  {
   "cell_type": "markdown",
   "id": "21a7d392",
   "metadata": {},
   "source": [
    "### Model Traning on each layer "
   ]
  },
  {
   "cell_type": "code",
   "execution_count": 14,
   "id": "75762bdc",
   "metadata": {},
   "outputs": [
    {
     "name": "stderr",
     "output_type": "stream",
     "text": [
      "  2%|████                                                                                                                                                                                                          | 1/50 [00:09<07:22,  9.04s/it]"
     ]
    },
    {
     "name": "stdout",
     "output_type": "stream",
     "text": [
      "epoch:1, train accu:0.3623, train loss:1.51\n"
     ]
    },
    {
     "name": "stderr",
     "output_type": "stream",
     "text": [
      "\r",
      "  4%|████████▏                                                                                                                                                                                                     | 2/50 [00:10<03:43,  4.66s/it]"
     ]
    },
    {
     "name": "stdout",
     "output_type": "stream",
     "text": [
      "epoch:2, train accu:0.5580, train loss:1.07\n"
     ]
    },
    {
     "name": "stderr",
     "output_type": "stream",
     "text": [
      "\r",
      "  6%|████████████▎                                                                                                                                                                                                 | 3/50 [00:12<02:31,  3.22s/it]"
     ]
    },
    {
     "name": "stdout",
     "output_type": "stream",
     "text": [
      "epoch:3, train accu:0.7072, train loss:0.81\n"
     ]
    },
    {
     "name": "stderr",
     "output_type": "stream",
     "text": [
      "\r",
      "  8%|████████████████▍                                                                                                                                                                                             | 4/50 [00:13<01:57,  2.57s/it]"
     ]
    },
    {
     "name": "stdout",
     "output_type": "stream",
     "text": [
      "epoch:4, train accu:0.7522, train loss:0.69\n"
     ]
    },
    {
     "name": "stderr",
     "output_type": "stream",
     "text": [
      "\r",
      " 10%|████████████████████▌                                                                                                                                                                                         | 5/50 [00:15<01:38,  2.19s/it]"
     ]
    },
    {
     "name": "stdout",
     "output_type": "stream",
     "text": [
      "epoch:5, train accu:0.8246, train loss:0.54\n"
     ]
    },
    {
     "name": "stderr",
     "output_type": "stream",
     "text": [
      "\r",
      " 12%|████████████████████████▋                                                                                                                                                                                     | 6/50 [00:16<01:26,  1.98s/it]"
     ]
    },
    {
     "name": "stdout",
     "output_type": "stream",
     "text": [
      "epoch:6, train accu:0.8333, train loss:0.47\n"
     ]
    },
    {
     "name": "stderr",
     "output_type": "stream",
     "text": [
      "\r",
      " 14%|████████████████████████████▊                                                                                                                                                                                 | 7/50 [00:18<01:20,  1.88s/it]"
     ]
    },
    {
     "name": "stdout",
     "output_type": "stream",
     "text": [
      "epoch:7, train accu:0.8652, train loss:0.39\n"
     ]
    },
    {
     "name": "stderr",
     "output_type": "stream",
     "text": [
      "\r",
      " 16%|████████████████████████████████▉                                                                                                                                                                             | 8/50 [00:20<01:15,  1.79s/it]"
     ]
    },
    {
     "name": "stdout",
     "output_type": "stream",
     "text": [
      "epoch:8, train accu:0.9000, train loss:0.31\n"
     ]
    },
    {
     "name": "stderr",
     "output_type": "stream",
     "text": [
      "\r",
      " 18%|█████████████████████████████████████                                                                                                                                                                         | 9/50 [00:21<01:11,  1.74s/it]"
     ]
    },
    {
     "name": "stdout",
     "output_type": "stream",
     "text": [
      "epoch:9, train accu:0.9130, train loss:0.31\n"
     ]
    },
    {
     "name": "stderr",
     "output_type": "stream",
     "text": [
      "\r",
      " 20%|█████████████████████████████████████████                                                                                                                                                                    | 10/50 [00:23<01:07,  1.70s/it]"
     ]
    },
    {
     "name": "stdout",
     "output_type": "stream",
     "text": [
      "epoch:10, train accu:0.8667, train loss:0.40\n"
     ]
    },
    {
     "name": "stderr",
     "output_type": "stream",
     "text": [
      "\r",
      " 22%|█████████████████████████████████████████████                                                                                                                                                                | 11/50 [00:24<01:05,  1.69s/it]"
     ]
    },
    {
     "name": "stdout",
     "output_type": "stream",
     "text": [
      "epoch:11, train accu:0.9116, train loss:0.25\n"
     ]
    },
    {
     "name": "stderr",
     "output_type": "stream",
     "text": [
      "\r",
      " 24%|█████████████████████████████████████████████████▏                                                                                                                                                           | 12/50 [00:26<01:03,  1.68s/it]"
     ]
    },
    {
     "name": "stdout",
     "output_type": "stream",
     "text": [
      "epoch:12, train accu:0.9652, train loss:0.13\n"
     ]
    },
    {
     "name": "stderr",
     "output_type": "stream",
     "text": [
      "\r",
      " 26%|█████████████████████████████████████████████████████▎                                                                                                                                                       | 13/50 [00:28<01:00,  1.64s/it]"
     ]
    },
    {
     "name": "stdout",
     "output_type": "stream",
     "text": [
      "epoch:13, train accu:0.9609, train loss:0.14\n"
     ]
    },
    {
     "name": "stderr",
     "output_type": "stream",
     "text": [
      "\r",
      " 28%|█████████████████████████████████████████████████████████▍                                                                                                                                                   | 14/50 [00:29<00:58,  1.63s/it]"
     ]
    },
    {
     "name": "stdout",
     "output_type": "stream",
     "text": [
      "epoch:14, train accu:0.9681, train loss:0.11\n"
     ]
    },
    {
     "name": "stderr",
     "output_type": "stream",
     "text": [
      "\r",
      " 30%|█████████████████████████████████████████████████████████████▌                                                                                                                                               | 15/50 [00:31<00:56,  1.62s/it]"
     ]
    },
    {
     "name": "stdout",
     "output_type": "stream",
     "text": [
      "epoch:15, train accu:0.9319, train loss:0.20\n"
     ]
    },
    {
     "name": "stderr",
     "output_type": "stream",
     "text": [
      "\r",
      " 32%|█████████████████████████████████████████████████████████████████▌                                                                                                                                           | 16/50 [00:32<00:54,  1.60s/it]"
     ]
    },
    {
     "name": "stdout",
     "output_type": "stream",
     "text": [
      "epoch:16, train accu:0.9420, train loss:0.17\n"
     ]
    },
    {
     "name": "stderr",
     "output_type": "stream",
     "text": [
      "\r",
      " 34%|█████████████████████████████████████████████████████████████████████▋                                                                                                                                       | 17/50 [00:34<00:52,  1.60s/it]"
     ]
    },
    {
     "name": "stdout",
     "output_type": "stream",
     "text": [
      "epoch:17, train accu:0.9623, train loss:0.12\n"
     ]
    },
    {
     "name": "stderr",
     "output_type": "stream",
     "text": [
      "\r",
      " 36%|█████████████████████████████████████████████████████████████████████████▊                                                                                                                                   | 18/50 [00:36<00:51,  1.60s/it]"
     ]
    },
    {
     "name": "stdout",
     "output_type": "stream",
     "text": [
      "epoch:18, train accu:0.9899, train loss:0.06\n"
     ]
    },
    {
     "name": "stderr",
     "output_type": "stream",
     "text": [
      "\r",
      " 38%|█████████████████████████████████████████████████████████████████████████████▉                                                                                                                               | 19/50 [00:37<00:49,  1.59s/it]"
     ]
    },
    {
     "name": "stdout",
     "output_type": "stream",
     "text": [
      "epoch:19, train accu:0.8884, train loss:0.44\n"
     ]
    },
    {
     "name": "stderr",
     "output_type": "stream",
     "text": [
      "\r",
      " 40%|██████████████████████████████████████████████████████████████████████████████████                                                                                                                           | 20/50 [00:39<00:47,  1.58s/it]"
     ]
    },
    {
     "name": "stdout",
     "output_type": "stream",
     "text": [
      "epoch:20, train accu:0.9087, train loss:0.29\n"
     ]
    },
    {
     "name": "stderr",
     "output_type": "stream",
     "text": [
      "\r",
      " 42%|██████████████████████████████████████████████████████████████████████████████████████                                                                                                                       | 21/50 [00:40<00:45,  1.57s/it]"
     ]
    },
    {
     "name": "stdout",
     "output_type": "stream",
     "text": [
      "epoch:21, train accu:0.9696, train loss:0.13\n"
     ]
    },
    {
     "name": "stderr",
     "output_type": "stream",
     "text": [
      "\r",
      " 44%|██████████████████████████████████████████████████████████████████████████████████████████▏                                                                                                                  | 22/50 [00:42<00:44,  1.57s/it]"
     ]
    },
    {
     "name": "stdout",
     "output_type": "stream",
     "text": [
      "epoch:22, train accu:0.9884, train loss:0.06\n"
     ]
    },
    {
     "name": "stderr",
     "output_type": "stream",
     "text": [
      "\r",
      " 46%|██████████████████████████████████████████████████████████████████████████████████████████████▎                                                                                                              | 23/50 [00:43<00:42,  1.57s/it]"
     ]
    },
    {
     "name": "stdout",
     "output_type": "stream",
     "text": [
      "epoch:23, train accu:0.9855, train loss:0.06\n"
     ]
    },
    {
     "name": "stderr",
     "output_type": "stream",
     "text": [
      "\r",
      " 48%|██████████████████████████████████████████████████████████████████████████████████████████████████▍                                                                                                          | 24/50 [00:45<00:40,  1.57s/it]"
     ]
    },
    {
     "name": "stdout",
     "output_type": "stream",
     "text": [
      "epoch:24, train accu:0.9739, train loss:0.10\n"
     ]
    },
    {
     "name": "stderr",
     "output_type": "stream",
     "text": [
      "\r",
      " 50%|██████████████████████████████████████████████████████████████████████████████████████████████████████▌                                                                                                      | 25/50 [00:47<00:39,  1.56s/it]"
     ]
    },
    {
     "name": "stdout",
     "output_type": "stream",
     "text": [
      "epoch:25, train accu:0.9623, train loss:0.23\n"
     ]
    },
    {
     "name": "stderr",
     "output_type": "stream",
     "text": [
      "\r",
      " 52%|██████████████████████████████████████████████████████████████████████████████████████████████████████████▌                                                                                                  | 26/50 [00:48<00:37,  1.57s/it]"
     ]
    },
    {
     "name": "stdout",
     "output_type": "stream",
     "text": [
      "epoch:26, train accu:0.8652, train loss:0.46\n"
     ]
    },
    {
     "name": "stderr",
     "output_type": "stream",
     "text": [
      "\r",
      " 54%|██████████████████████████████████████████████████████████████████████████████████████████████████████████████▋                                                                                              | 27/50 [00:50<00:36,  1.57s/it]"
     ]
    },
    {
     "name": "stdout",
     "output_type": "stream",
     "text": [
      "epoch:27, train accu:0.9377, train loss:0.24\n"
     ]
    },
    {
     "name": "stderr",
     "output_type": "stream",
     "text": [
      "\r",
      " 56%|██████████████████████████████████████████████████████████████████████████████████████████████████████████████████▊                                                                                          | 28/50 [00:51<00:34,  1.56s/it]"
     ]
    },
    {
     "name": "stdout",
     "output_type": "stream",
     "text": [
      "epoch:28, train accu:0.9710, train loss:0.10\n"
     ]
    },
    {
     "name": "stderr",
     "output_type": "stream",
     "text": [
      "\r",
      " 58%|██████████████████████████████████████████████████████████████████████████████████████████████████████████████████████▉                                                                                      | 29/50 [00:53<00:35,  1.68s/it]"
     ]
    },
    {
     "name": "stdout",
     "output_type": "stream",
     "text": [
      "epoch:29, train accu:0.9870, train loss:0.06\n"
     ]
    },
    {
     "name": "stderr",
     "output_type": "stream",
     "text": [
      "\r",
      " 60%|███████████████████████████████████████████████████████████████████████████████████████████████████████████████████████████                                                                                  | 30/50 [00:56<00:37,  1.87s/it]"
     ]
    },
    {
     "name": "stdout",
     "output_type": "stream",
     "text": [
      "epoch:30, train accu:0.9812, train loss:0.06\n"
     ]
    },
    {
     "name": "stderr",
     "output_type": "stream",
     "text": [
      "\r",
      " 62%|███████████████████████████████████████████████████████████████████████████████████████████████████████████████████████████████                                                                              | 31/50 [00:57<00:34,  1.80s/it]"
     ]
    },
    {
     "name": "stdout",
     "output_type": "stream",
     "text": [
      "epoch:31, train accu:0.9710, train loss:0.08\n"
     ]
    },
    {
     "name": "stderr",
     "output_type": "stream",
     "text": [
      "\r",
      " 64%|███████████████████████████████████████████████████████████████████████████████████████████████████████████████████████████████████▏                                                                         | 32/50 [00:59<00:31,  1.74s/it]"
     ]
    },
    {
     "name": "stdout",
     "output_type": "stream",
     "text": [
      "epoch:32, train accu:0.9826, train loss:0.06\n"
     ]
    },
    {
     "name": "stderr",
     "output_type": "stream",
     "text": [
      "\r",
      " 66%|███████████████████████████████████████████████████████████████████████████████████████████████████████████████████████████████████████▎                                                                     | 33/50 [01:00<00:29,  1.72s/it]"
     ]
    },
    {
     "name": "stdout",
     "output_type": "stream",
     "text": [
      "epoch:33, train accu:0.9768, train loss:0.08\n"
     ]
    },
    {
     "name": "stderr",
     "output_type": "stream",
     "text": [
      "\r",
      " 68%|███████████████████████████████████████████████████████████████████████████████████████████████████████████████████████████████████████████▍                                                                 | 34/50 [01:02<00:27,  1.71s/it]"
     ]
    },
    {
     "name": "stdout",
     "output_type": "stream",
     "text": [
      "epoch:34, train accu:0.9348, train loss:0.20\n"
     ]
    },
    {
     "name": "stderr",
     "output_type": "stream",
     "text": [
      "\r",
      " 70%|███████████████████████████████████████████████████████████████████████████████████████████████████████████████████████████████████████████████▌                                                             | 35/50 [01:04<00:25,  1.70s/it]"
     ]
    },
    {
     "name": "stdout",
     "output_type": "stream",
     "text": [
      "epoch:35, train accu:0.9913, train loss:0.04\n"
     ]
    },
    {
     "name": "stderr",
     "output_type": "stream",
     "text": [
      "\r",
      " 72%|███████████████████████████████████████████████████████████████████████████████████████████████████████████████████████████████████████████████████▌                                                         | 36/50 [01:05<00:23,  1.69s/it]"
     ]
    },
    {
     "name": "stdout",
     "output_type": "stream",
     "text": [
      "epoch:36, train accu:0.9899, train loss:0.06\n"
     ]
    },
    {
     "name": "stderr",
     "output_type": "stream",
     "text": [
      "\r",
      " 74%|███████████████████████████████████████████████████████████████████████████████████████████████████████████████████████████████████████████████████████▋                                                     | 37/50 [01:07<00:21,  1.67s/it]"
     ]
    },
    {
     "name": "stdout",
     "output_type": "stream",
     "text": [
      "epoch:37, train accu:0.9754, train loss:0.16\n"
     ]
    },
    {
     "name": "stderr",
     "output_type": "stream",
     "text": [
      "\r",
      " 76%|███████████████████████████████████████████████████████████████████████████████████████████████████████████████████████████████████████████████████████████▊                                                 | 38/50 [01:09<00:19,  1.66s/it]"
     ]
    },
    {
     "name": "stdout",
     "output_type": "stream",
     "text": [
      "epoch:38, train accu:0.9884, train loss:0.05\n"
     ]
    },
    {
     "name": "stderr",
     "output_type": "stream",
     "text": [
      "\r",
      " 78%|███████████████████████████████████████████████████████████████████████████████████████████████████████████████████████████████████████████████████████████████▉                                             | 39/50 [01:10<00:18,  1.65s/it]"
     ]
    },
    {
     "name": "stdout",
     "output_type": "stream",
     "text": [
      "epoch:39, train accu:0.9957, train loss:0.01\n"
     ]
    },
    {
     "name": "stderr",
     "output_type": "stream",
     "text": [
      "\r",
      " 80%|████████████████████████████████████████████████████████████████████████████████████████████████████████████████████████████████████████████████████████████████████                                         | 40/50 [01:12<00:16,  1.65s/it]"
     ]
    },
    {
     "name": "stdout",
     "output_type": "stream",
     "text": [
      "epoch:40, train accu:0.9986, train loss:0.01\n"
     ]
    },
    {
     "name": "stderr",
     "output_type": "stream",
     "text": [
      "\r",
      " 82%|████████████████████████████████████████████████████████████████████████████████████████████████████████████████████████████████████████████████████████████████████████                                     | 41/50 [01:14<00:14,  1.64s/it]"
     ]
    },
    {
     "name": "stdout",
     "output_type": "stream",
     "text": [
      "epoch:41, train accu:0.9986, train loss:0.01\n"
     ]
    },
    {
     "name": "stderr",
     "output_type": "stream",
     "text": [
      "\r",
      " 84%|████████████████████████████████████████████████████████████████████████████████████████████████████████████████████████████████████████████████████████████████████████████▏                                | 42/50 [01:15<00:13,  1.64s/it]"
     ]
    },
    {
     "name": "stdout",
     "output_type": "stream",
     "text": [
      "epoch:42, train accu:0.9957, train loss:0.08\n"
     ]
    },
    {
     "name": "stderr",
     "output_type": "stream",
     "text": [
      "\r",
      " 86%|████████████████████████████████████████████████████████████████████████████████████████████████████████████████████████████████████████████████████████████████████████████████▎                            | 43/50 [01:17<00:11,  1.63s/it]"
     ]
    },
    {
     "name": "stdout",
     "output_type": "stream",
     "text": [
      "epoch:43, train accu:0.9710, train loss:0.09\n"
     ]
    },
    {
     "name": "stderr",
     "output_type": "stream",
     "text": [
      "\r",
      " 88%|████████████████████████████████████████████████████████████████████████████████████████████████████████████████████████████████████████████████████████████████████████████████████▍                        | 44/50 [01:18<00:09,  1.62s/it]"
     ]
    },
    {
     "name": "stdout",
     "output_type": "stream",
     "text": [
      "epoch:44, train accu:0.9841, train loss:0.07\n"
     ]
    },
    {
     "name": "stderr",
     "output_type": "stream",
     "text": [
      "\r",
      " 90%|████████████████████████████████████████████████████████████████████████████████████████████████████████████████████████████████████████████████████████████████████████████████████████▌                    | 45/50 [01:20<00:07,  1.59s/it]"
     ]
    },
    {
     "name": "stdout",
     "output_type": "stream",
     "text": [
      "epoch:45, train accu:0.9797, train loss:0.06\n"
     ]
    },
    {
     "name": "stderr",
     "output_type": "stream",
     "text": [
      "\r",
      " 92%|████████████████████████████████████████████████████████████████████████████████████████████████████████████████████████████████████████████████████████████████████████████████████████████▌                | 46/50 [01:22<00:06,  1.59s/it]"
     ]
    },
    {
     "name": "stdout",
     "output_type": "stream",
     "text": [
      "epoch:46, train accu:0.9696, train loss:0.13\n"
     ]
    },
    {
     "name": "stderr",
     "output_type": "stream",
     "text": [
      "\r",
      " 94%|████████████████████████████████████████████████████████████████████████████████████████████████████████████████████████████████████████████████████████████████████████████████████████████████▋            | 47/50 [01:23<00:04,  1.57s/it]"
     ]
    },
    {
     "name": "stdout",
     "output_type": "stream",
     "text": [
      "epoch:47, train accu:0.9580, train loss:0.20\n"
     ]
    },
    {
     "name": "stderr",
     "output_type": "stream",
     "text": [
      "\r",
      " 96%|████████████████████████████████████████████████████████████████████████████████████████████████████████████████████████████████████████████████████████████████████████████████████████████████████▊        | 48/50 [01:25<00:03,  1.57s/it]"
     ]
    },
    {
     "name": "stdout",
     "output_type": "stream",
     "text": [
      "epoch:48, train accu:0.9623, train loss:0.14\n"
     ]
    },
    {
     "name": "stderr",
     "output_type": "stream",
     "text": [
      "\r",
      " 98%|████████████████████████████████████████████████████████████████████████████████████████████████████████████████████████████████████████████████████████████████████████████████████████████████████████▉    | 49/50 [01:26<00:01,  1.57s/it]"
     ]
    },
    {
     "name": "stdout",
     "output_type": "stream",
     "text": [
      "epoch:49, train accu:0.9870, train loss:0.05\n"
     ]
    },
    {
     "name": "stderr",
     "output_type": "stream",
     "text": [
      "100%|█████████████████████████████████████████████████████████████████████████████████████████████████████████████████████████████████████████████████████████████████████████████████████████████████████████████| 50/50 [01:28<00:00,  1.77s/it]"
     ]
    },
    {
     "name": "stdout",
     "output_type": "stream",
     "text": [
      "epoch:50, train accu:0.9971, train loss:0.01\n"
     ]
    },
    {
     "name": "stderr",
     "output_type": "stream",
     "text": [
      "\n"
     ]
    }
   ],
   "source": [
    "from tqdm import tqdm\n",
    "from torchsummary import summary\n",
    "import torch.optim as optim\n",
    "\n",
    "model = ICASSP3CNN(768)\n",
    "model = model.to(device)\n",
    "criterion = nn.CrossEntropyLoss()\n",
    "optimizer = optim.Adam(model.parameters(), lr=0.001)\n",
    "\n",
    "epochs = 50\n",
    "train_losses = []\n",
    "train_accuracies = []\n",
    "valid_losses = []\n",
    "valid_accuracies = []\n",
    "\n",
    "for epoch in tqdm(range(epochs)):\n",
    "    train_loss = 0\n",
    "    acc_cnt = 0\n",
    "    err_cnt = 0\n",
    "    batch_cnt = 0\n",
    "    model.train()\n",
    "    for batch, (x, length, y) in enumerate(train_dataloader):\n",
    "        x = x.to(device)\n",
    "        y = y.to(device)\n",
    "        optimizer.zero_grad()\n",
    "        logits = model(x, length)\n",
    "        loss = criterion(logits, y)\n",
    "        loss.backward()\n",
    "        optimizer.step()\n",
    "        train_loss += loss.cpu().item()\n",
    "\n",
    "        #model outputs\n",
    "        out_val, out_indices = torch.max(logits, dim=1)\n",
    "        tar_indices = y\n",
    "\n",
    "        for i in range(len(out_indices)):\n",
    "            if out_indices[i] == tar_indices[i]:\n",
    "                acc_cnt += 1\n",
    "            else:\n",
    "                err_cnt += 1\n",
    "        batch_cnt += 1\n",
    "    \n",
    "    train_loss = train_loss/batch_cnt\n",
    "    train_accuracy = acc_cnt/(acc_cnt+err_cnt)\n",
    "    train_accuracies.append(train_accuracy)\n",
    "    train_losses.append(train_loss)\n",
    "    \n",
    "    print(f\"epoch:{epoch+1}, train accu:{train_accuracy:.4f},\", f\"train loss:{train_loss:.2f}\")"
   ]
  },
  {
   "cell_type": "markdown",
   "id": "0202fe2e",
   "metadata": {},
   "source": [
    "### Model Test"
   ]
  },
  {
   "cell_type": "code",
   "execution_count": 15,
   "id": "aca8509d",
   "metadata": {},
   "outputs": [
    {
     "name": "stdout",
     "output_type": "stream",
     "text": [
      "test accuracy: 0.7209302325581395\n"
     ]
    }
   ],
   "source": [
    "test_loss = 0\n",
    "acc_cnt = 0\n",
    "err_cnt = 0\n",
    "batch_cnt = 0\n",
    "model.eval()\n",
    "\n",
    "for x, lengths, y in test_dataloader:\n",
    "\n",
    "    x = x.to(device)\n",
    "    y = y.to(device)\n",
    "\n",
    "    logits = model(x, lengths)\n",
    "    loss = criterion(logits, y)\n",
    "    test_loss += loss.cpu().item()\n",
    "\n",
    "    out_val, out_indices = torch.max(logits, dim=1)\n",
    "    tar_indices = y\n",
    "\n",
    "    for i in range(len(out_indices)):\n",
    "        if out_indices[i] == tar_indices[i]:\n",
    "            acc_cnt += 1\n",
    "        else:\n",
    "            err_cnt += 1\n",
    "    batch_cnt += 1\n",
    "\n",
    "test_loss = test_loss/batch_cnt\n",
    "test_accuracy = acc_cnt/(acc_cnt+err_cnt)\n",
    "print(f'test accuracy: {test_accuracy}')"
   ]
  },
  {
   "cell_type": "code",
   "execution_count": 20,
   "id": "a17d3eeb",
   "metadata": {},
   "outputs": [
    {
     "name": "stdout",
     "output_type": "stream",
     "text": [
      "aggr.weight tensor([[[-0.2024],\n",
      "         [ 0.1881],\n",
      "         [-0.0351],\n",
      "         [ 0.4042],\n",
      "         [ 0.1117],\n",
      "         [-0.3371],\n",
      "         [ 0.2271],\n",
      "         [-0.0561],\n",
      "         [ 0.1625],\n",
      "         [-0.1301],\n",
      "         [ 0.1556],\n",
      "         [-0.0900]]], device='cuda:0')\n",
      "aggr.bias tensor([-0.0110], device='cuda:0')\n",
      "embed.weight tensor([[ 0.0376,  0.0644,  0.0856,  ..., -0.0121,  0.0105, -0.0068],\n",
      "        [-0.0283,  0.0653,  0.0589,  ..., -0.0185,  0.0946, -0.0177],\n",
      "        [-0.0109, -0.0716, -0.0182,  ..., -0.0108,  0.0438, -0.0595],\n",
      "        ...,\n",
      "        [-0.0514, -0.0065,  0.0516,  ...,  0.1335,  0.0067,  0.0621],\n",
      "        [ 0.1037,  0.0747, -0.0231,  ...,  0.0288,  0.0495, -0.0277],\n",
      "        [-0.0480,  0.0637,  0.0327,  ..., -0.0051, -0.0166, -0.0398]],\n",
      "       device='cuda:0')\n",
      "embed.bias tensor([ 5.7617e-02, -5.1215e-02, -7.9658e-02,  7.5803e-05,  8.5177e-02,\n",
      "        -1.9281e-02,  4.9735e-02, -4.1881e-03,  8.0920e-02, -1.5292e-02,\n",
      "         7.4103e-02, -1.5457e-02, -1.2343e-02, -1.7293e-02, -9.9637e-03,\n",
      "         1.2350e-02, -1.0645e-02,  4.9713e-02,  8.6440e-03, -1.8691e-02,\n",
      "         4.6686e-02, -6.6326e-02,  4.8057e-02, -9.1637e-02,  3.2077e-02,\n",
      "        -3.1734e-02, -2.2424e-02,  2.2179e-02,  2.2160e-02, -7.9051e-02,\n",
      "         1.1513e-01, -9.6104e-02, -5.9691e-02, -3.5042e-02,  3.1674e-02,\n",
      "        -1.7967e-02, -2.0502e-02, -6.2130e-02,  4.5247e-02, -7.8754e-02,\n",
      "        -1.3998e-02, -3.5318e-02, -3.4712e-02, -7.0538e-02, -4.1433e-02,\n",
      "         1.0141e-01, -7.3173e-03, -4.5289e-02, -6.3860e-02, -5.5068e-02,\n",
      "         5.7526e-02,  2.3012e-02, -6.3400e-02,  5.3704e-02, -3.0915e-02,\n",
      "         1.9097e-02,  7.9948e-02, -2.9196e-02, -8.6816e-02, -1.8382e-02,\n",
      "        -5.7003e-03,  2.8957e-02, -3.7031e-02, -3.8053e-02, -1.4430e-02,\n",
      "        -5.6564e-02,  2.6887e-02,  7.1482e-02, -1.0043e-01, -3.0344e-02,\n",
      "         5.2851e-02,  1.0372e-04, -9.0735e-02, -4.6305e-02,  6.1496e-02,\n",
      "        -4.2134e-02, -6.3612e-02, -9.2242e-02,  3.2700e-03,  4.3124e-02,\n",
      "        -2.1509e-02, -3.4818e-02, -7.0211e-04,  3.0152e-02,  9.4729e-02,\n",
      "         5.3074e-03,  1.7038e-02, -4.1375e-02, -6.7780e-02, -3.2979e-02,\n",
      "         8.8432e-02,  3.7994e-02,  1.1081e-01,  2.1760e-02, -4.1868e-02,\n",
      "        -4.0495e-02,  6.2317e-03, -2.1384e-04,  3.8969e-02,  1.1700e-01,\n",
      "        -5.3753e-02,  4.3299e-02, -1.7360e-02,  4.4094e-02, -6.4396e-02,\n",
      "        -4.8257e-02, -7.9523e-02,  3.4694e-02,  3.9439e-02,  1.0774e-01,\n",
      "         5.1643e-02,  5.5503e-02, -2.9943e-02, -7.2922e-02, -4.3434e-02,\n",
      "        -5.2952e-02, -7.0258e-02,  3.0060e-02,  8.7835e-02, -6.9026e-02,\n",
      "        -1.3045e-01, -1.0618e-01, -6.0591e-02, -2.3556e-02, -3.1344e-02,\n",
      "         5.4638e-02,  3.0556e-02, -4.5762e-02], device='cuda:0')\n",
      "cnn.weight tensor([[[ 3.3314e-02,  3.2430e-02, -3.5753e-02],\n",
      "         [-1.3372e-02, -1.5325e-02,  5.6438e-02],\n",
      "         [ 6.7405e-02,  6.8721e-02,  4.9889e-02],\n",
      "         ...,\n",
      "         [-1.0926e-01, -1.4468e-01, -1.1546e-01],\n",
      "         [-3.9311e-02,  4.0519e-03,  1.5116e-02],\n",
      "         [-1.5918e-02,  2.6900e-02, -2.8796e-02]],\n",
      "\n",
      "        [[ 9.8640e-04, -1.0996e-02,  2.5627e-02],\n",
      "         [ 9.0809e-02,  5.7780e-02,  4.6310e-02],\n",
      "         [-3.2929e-03, -2.6992e-04, -6.9929e-02],\n",
      "         ...,\n",
      "         [ 5.8865e-02,  6.3934e-02, -1.9532e-02],\n",
      "         [ 6.2752e-02,  7.6093e-02,  1.1743e-01],\n",
      "         [-4.2036e-02, -4.2318e-02, -7.7309e-03]],\n",
      "\n",
      "        [[ 1.2779e-02,  4.6226e-02,  4.4833e-03],\n",
      "         [ 6.8021e-02,  2.7987e-02,  5.1804e-02],\n",
      "         [ 1.3349e-02,  3.8099e-02, -7.3005e-03],\n",
      "         ...,\n",
      "         [-4.7490e-02, -1.3377e-02, -1.0359e-01],\n",
      "         [-5.5846e-02, -3.6210e-02, -1.0831e-02],\n",
      "         [-6.7853e-02, -3.2270e-02, -3.5922e-02]],\n",
      "\n",
      "        ...,\n",
      "\n",
      "        [[-1.1542e-02, -4.6617e-03, -2.7325e-02],\n",
      "         [-2.2157e-02,  2.4117e-02, -7.3226e-02],\n",
      "         [-2.9764e-02, -8.4943e-02,  3.6914e-02],\n",
      "         ...,\n",
      "         [-1.2284e-01, -1.0795e-01, -1.0239e-01],\n",
      "         [ 6.5301e-02, -1.7572e-02, -7.5812e-03],\n",
      "         [ 2.2807e-03, -9.5004e-03, -5.5912e-02]],\n",
      "\n",
      "        [[ 6.7882e-03,  4.4974e-02,  1.7961e-02],\n",
      "         [ 4.5524e-03,  3.1493e-02,  2.6016e-02],\n",
      "         [-5.3697e-02, -3.1619e-02, -4.8501e-02],\n",
      "         ...,\n",
      "         [ 2.6806e-02,  3.6142e-02,  3.4456e-02],\n",
      "         [-1.2235e-01, -5.1963e-02, -1.0549e-01],\n",
      "         [ 4.4760e-03,  5.3723e-02,  8.3569e-02]],\n",
      "\n",
      "        [[ 1.5223e-02,  3.8527e-03, -2.3032e-02],\n",
      "         [ 7.4131e-02,  5.4602e-02,  3.1384e-02],\n",
      "         [-6.7251e-02, -4.1241e-02, -5.6662e-02],\n",
      "         ...,\n",
      "         [ 4.8370e-02,  1.5035e-02,  1.5651e-02],\n",
      "         [-1.1594e-04, -3.1965e-02, -6.1037e-02],\n",
      "         [ 1.8546e-02,  8.2936e-03, -1.3027e-02]]], device='cuda:0')\n",
      "cnn.bias tensor([-0.0023,  0.0373,  0.0236, -0.0267,  0.0486,  0.0072,  0.0458, -0.0371,\n",
      "        -0.0386,  0.0123,  0.0211, -0.0074, -0.0413,  0.0299,  0.0172,  0.0316,\n",
      "         0.0264,  0.0599, -0.0455, -0.0348,  0.0435, -0.0187,  0.0185,  0.0276,\n",
      "         0.0127, -0.0414, -0.0224, -0.0279,  0.0455, -0.0480,  0.0250,  0.0060,\n",
      "         0.0005, -0.0271, -0.0027, -0.0513,  0.0124, -0.0115,  0.0153,  0.0587,\n",
      "         0.0108, -0.0193, -0.0410, -0.0471,  0.0458,  0.0161, -0.0444, -0.0441,\n",
      "         0.0117,  0.0132, -0.0529, -0.0452,  0.0259, -0.0383,  0.0096,  0.0250,\n",
      "         0.0453,  0.0215,  0.0040, -0.0214,  0.0258,  0.0487, -0.0395, -0.0477,\n",
      "        -0.0134, -0.0174,  0.0148, -0.0507,  0.0311,  0.0189, -0.0451, -0.0058,\n",
      "         0.0190,  0.0197,  0.0077, -0.0521, -0.0587,  0.0351,  0.0222,  0.0262,\n",
      "        -0.0127,  0.0154, -0.0434,  0.0282,  0.0148,  0.0121, -0.0241,  0.0343,\n",
      "        -0.0126,  0.0033, -0.0327, -0.0055,  0.0195,  0.0149, -0.0120, -0.0127,\n",
      "         0.0312, -0.0350,  0.0171, -0.0336, -0.0464, -0.0357, -0.0380,  0.0238,\n",
      "         0.0105, -0.0148, -0.0256, -0.0246, -0.0318, -0.0544, -0.0267,  0.0359,\n",
      "        -0.0381,  0.0191, -0.0134,  0.0315,  0.0499, -0.0013,  0.0328, -0.0092,\n",
      "        -0.0004, -0.0630,  0.0085, -0.0409,  0.0334, -0.0076,  0.0436, -0.0549],\n",
      "       device='cuda:0')\n",
      "cnn2.weight tensor([[[-6.0857e-03,  2.8943e-03, -3.5047e-02, -7.6509e-02, -3.4109e-02],\n",
      "         [ 1.8180e-02,  2.0947e-02,  5.9959e-02,  1.4744e-02, -3.0662e-02],\n",
      "         [ 2.7583e-03,  3.2403e-02,  8.7969e-03, -2.4309e-02,  1.9529e-02],\n",
      "         ...,\n",
      "         [-4.3196e-02, -4.4956e-02, -4.5878e-02, -1.9660e-02,  4.5267e-03],\n",
      "         [ 1.0017e-01,  1.3622e-01,  1.2563e-01,  8.5229e-02,  3.6565e-02],\n",
      "         [-3.0783e-02, -3.9981e-02, -3.7526e-02, -3.6728e-02,  1.3767e-02]],\n",
      "\n",
      "        [[ 2.2655e-02, -1.1334e-02, -2.3461e-02, -8.2608e-02, -6.0491e-02],\n",
      "         [ 4.5080e-02,  2.9412e-02, -1.8369e-02, -5.8023e-04, -2.1119e-02],\n",
      "         [ 2.8912e-02,  2.8619e-02,  3.0836e-02,  2.7703e-02,  6.4313e-02],\n",
      "         ...,\n",
      "         [ 8.1412e-02,  3.0571e-02,  3.3128e-02, -4.8258e-02, -1.2465e-01],\n",
      "         [-1.1709e-02, -2.4380e-02, -7.6457e-02,  2.4497e-02,  4.3247e-02],\n",
      "         [-1.2502e-02, -1.5800e-02,  6.7118e-02, -1.1173e-02,  3.9174e-02]],\n",
      "\n",
      "        [[ 9.8411e-02, -1.0265e-04,  3.8130e-02,  8.3687e-02,  4.3072e-02],\n",
      "         [ 6.6709e-02,  7.9610e-02,  2.1234e-02,  8.3311e-03,  7.3198e-04],\n",
      "         [-2.4787e-02, -6.4335e-03, -5.9549e-03,  5.2460e-03, -3.2560e-02],\n",
      "         ...,\n",
      "         [-3.2206e-02,  6.2924e-02,  6.9266e-02,  5.9016e-02, -1.9964e-02],\n",
      "         [-5.9603e-03,  2.3976e-02, -3.7899e-02, -2.5417e-02,  2.0410e-02],\n",
      "         [-1.7770e-02, -2.7742e-02,  5.4126e-02,  4.2502e-02, -1.3475e-02]],\n",
      "\n",
      "        ...,\n",
      "\n",
      "        [[ 9.1207e-02,  8.6483e-02,  2.4891e-02,  5.0814e-02, -5.9942e-02],\n",
      "         [-1.7574e-02,  6.6644e-02,  6.5008e-02,  4.8853e-02, -1.2214e-03],\n",
      "         [-9.6485e-02, -3.1838e-03, -5.4454e-02,  3.1881e-03,  3.4548e-03],\n",
      "         ...,\n",
      "         [ 2.2102e-02,  4.8891e-02,  4.7919e-02, -1.5736e-02,  2.9355e-02],\n",
      "         [ 4.7007e-02,  9.0909e-03, -5.0799e-03, -8.9917e-04, -5.2308e-02],\n",
      "         [-3.7685e-02, -3.9032e-02,  8.8797e-03, -2.0153e-02,  2.1249e-02]],\n",
      "\n",
      "        [[ 2.1162e-02,  6.6282e-03, -1.5477e-02, -3.3083e-02,  7.5931e-03],\n",
      "         [ 2.7979e-02,  7.0131e-02,  5.9619e-02,  1.0993e-01,  6.8047e-02],\n",
      "         [ 5.1494e-02,  3.1715e-02,  3.8079e-02, -3.1142e-02, -1.4079e-02],\n",
      "         ...,\n",
      "         [-3.5960e-02, -6.8262e-02, -1.2046e-01, -1.1152e-01, -7.7356e-02],\n",
      "         [-1.5349e-01, -5.2003e-02,  2.0298e-02,  1.4957e-02,  1.7156e-02],\n",
      "         [ 3.8607e-04, -7.5799e-02,  5.4177e-03, -3.3840e-02, -3.3139e-02]],\n",
      "\n",
      "        [[-8.4315e-03, -2.1450e-02,  5.5417e-02,  1.1136e-03,  7.1873e-03],\n",
      "         [-7.6581e-03, -1.9496e-02, -1.2437e-02,  4.1653e-02,  1.1989e-02],\n",
      "         [ 8.3140e-03,  1.0386e-02, -1.0340e-03,  7.2440e-03, -2.7494e-02],\n",
      "         ...,\n",
      "         [-6.6499e-02, -1.2258e-01, -1.6439e-01, -7.4258e-02, -8.0219e-02],\n",
      "         [-3.8890e-02, -3.3052e-02,  6.4803e-02,  3.6191e-02,  2.2159e-02],\n",
      "         [ 1.3897e-02, -2.5380e-02,  1.6570e-02, -1.0651e-02,  1.9603e-02]]],\n",
      "       device='cuda:0')\n",
      "cnn2.bias tensor([ 0.0375,  0.0038,  0.0171, -0.0178,  0.0274,  0.0122,  0.0135, -0.0135,\n",
      "        -0.0443, -0.0395, -0.0117, -0.0351,  0.0202,  0.0090,  0.0041, -0.0294,\n",
      "         0.0324,  0.0216, -0.0330, -0.0062,  0.0095,  0.0019,  0.0380,  0.0434,\n",
      "        -0.0134, -0.0262,  0.0163, -0.0240, -0.0019,  0.0012,  0.0193,  0.0350,\n",
      "         0.0374,  0.0263, -0.0388, -0.0106,  0.0071,  0.0478,  0.0359,  0.0135,\n",
      "        -0.0314,  0.0232, -0.0204,  0.0116, -0.0271, -0.0117,  0.0270, -0.0329,\n",
      "         0.0041, -0.0349, -0.0042,  0.0025,  0.0352, -0.0110, -0.0026,  0.0446,\n",
      "        -0.0107,  0.0422,  0.0369, -0.0294, -0.0193,  0.0448, -0.0076, -0.0051,\n",
      "         0.0405, -0.0295,  0.0221,  0.0169,  0.0309,  0.0316,  0.0260, -0.0060,\n",
      "         0.0364,  0.0052, -0.0144, -0.0140, -0.0284,  0.0279, -0.0235,  0.0033,\n",
      "        -0.0276,  0.0147,  0.0322, -0.0226,  0.0243,  0.0524, -0.0084,  0.0109,\n",
      "         0.0344,  0.0199,  0.0095,  0.0121, -0.0242, -0.0221, -0.0290,  0.0343,\n",
      "        -0.0259,  0.0276,  0.0114, -0.0066,  0.0087,  0.0240, -0.0078,  0.0203,\n",
      "        -0.0223,  0.0099,  0.0390,  0.0224, -0.0100,  0.0269, -0.0184,  0.0091,\n",
      "         0.0321,  0.0373, -0.0331, -0.0149, -0.0247,  0.0217, -0.0324,  0.0141,\n",
      "         0.0247, -0.0241,  0.0169, -0.0006, -0.0321,  0.0179,  0.0266,  0.0389],\n",
      "       device='cuda:0')\n",
      "cnn3.weight tensor([[[ 0.0105,  0.0457,  0.0396,  ...,  0.0187,  0.0344,  0.0109],\n",
      "         [-0.0633, -0.0751, -0.0787,  ...,  0.0070,  0.0144,  0.0346],\n",
      "         [ 0.0168,  0.0263,  0.0526,  ...,  0.0570,  0.0264, -0.0057],\n",
      "         ...,\n",
      "         [-0.0103,  0.0187,  0.0359,  ..., -0.0105,  0.0256,  0.0400],\n",
      "         [-0.0132, -0.0376,  0.0002,  ..., -0.0376, -0.0760, -0.0876],\n",
      "         [-0.0214, -0.0074, -0.0474,  ..., -0.0440, -0.0385, -0.0084]],\n",
      "\n",
      "        [[ 0.0505,  0.0172,  0.0144,  ..., -0.0084, -0.0663, -0.0298],\n",
      "         [ 0.0349,  0.0363,  0.0350,  ..., -0.0060, -0.0205,  0.0154],\n",
      "         [-0.0135,  0.0269, -0.0304,  ..., -0.0239, -0.0491, -0.0168],\n",
      "         ...,\n",
      "         [-0.0149, -0.0947, -0.0747,  ..., -0.0382, -0.0560, -0.0430],\n",
      "         [-0.1050, -0.0921, -0.0927,  ..., -0.0172, -0.0044,  0.0348],\n",
      "         [-0.0309, -0.0434, -0.0519,  ..., -0.0349,  0.0072,  0.0100]],\n",
      "\n",
      "        [[ 0.0595,  0.0775,  0.1006,  ...,  0.0703,  0.0288,  0.0195],\n",
      "         [ 0.0458,  0.0357,  0.0605,  ...,  0.0246,  0.0368, -0.0048],\n",
      "         [-0.0202, -0.0086, -0.0564,  ..., -0.0785, -0.0035, -0.0253],\n",
      "         ...,\n",
      "         [ 0.0283,  0.0263,  0.0249,  ...,  0.0995,  0.0463,  0.0204],\n",
      "         [ 0.0545,  0.0539,  0.0229,  ...,  0.0213, -0.0047,  0.0414],\n",
      "         [ 0.0019, -0.0370,  0.0123,  ..., -0.0265, -0.0008,  0.0157]],\n",
      "\n",
      "        ...,\n",
      "\n",
      "        [[ 0.0058, -0.0214, -0.0242,  ..., -0.0294, -0.0232, -0.0635],\n",
      "         [-0.0047,  0.0143, -0.0482,  ..., -0.0072, -0.0173,  0.0016],\n",
      "         [ 0.0151, -0.0099,  0.0304,  ...,  0.0033,  0.0391,  0.0664],\n",
      "         ...,\n",
      "         [ 0.0036,  0.0155,  0.0496,  ...,  0.0820,  0.0778,  0.0490],\n",
      "         [-0.0629, -0.0295, -0.0368,  ..., -0.0179,  0.0023, -0.0130],\n",
      "         [-0.0770, -0.0767, -0.0580,  ...,  0.0062,  0.0350,  0.0181]],\n",
      "\n",
      "        [[ 0.0175,  0.0453,  0.0413,  ...,  0.0309,  0.0043, -0.0375],\n",
      "         [-0.0015,  0.0057,  0.0116,  ...,  0.0265, -0.0589, -0.0561],\n",
      "         [-0.0537, -0.0231, -0.0530,  ...,  0.0039,  0.0348,  0.0082],\n",
      "         ...,\n",
      "         [ 0.0174,  0.0481,  0.0335,  ..., -0.0084,  0.0142, -0.0025],\n",
      "         [ 0.0548,  0.0607,  0.0598,  ..., -0.0144,  0.0527,  0.0596],\n",
      "         [-0.0571,  0.0157, -0.0068,  ..., -0.0077,  0.0314, -0.0261]],\n",
      "\n",
      "        [[ 0.0386,  0.0501,  0.0379,  ...,  0.0753, -0.0154,  0.0073],\n",
      "         [ 0.0152, -0.0060,  0.0217,  ...,  0.0087,  0.0584, -0.0103],\n",
      "         [-0.0693, -0.1103, -0.0364,  ..., -0.0201, -0.0382, -0.0275],\n",
      "         ...,\n",
      "         [ 0.0082,  0.0249,  0.0017,  ..., -0.0477, -0.0740, -0.0243],\n",
      "         [ 0.0404,  0.0470, -0.0075,  ...,  0.0009, -0.0024, -0.0363],\n",
      "         [-0.0669, -0.0092, -0.0094,  ...,  0.0053, -0.0511, -0.0209]]],\n",
      "       device='cuda:0')\n",
      "cnn3.bias tensor([ 0.0134,  0.0348, -0.0342, -0.0305,  0.0286,  0.0101,  0.0106,  0.0282,\n",
      "         0.0100, -0.0243,  0.0219, -0.0081,  0.0085,  0.0163, -0.0156, -0.0058,\n",
      "        -0.0087,  0.0280, -0.0143, -0.0143,  0.0332, -0.0207,  0.0136, -0.0182,\n",
      "        -0.0109,  0.0114, -0.0100, -0.0241, -0.0321,  0.0136,  0.0024, -0.0210,\n",
      "         0.0120, -0.0085,  0.0126, -0.0259, -0.0089, -0.0181,  0.0003,  0.0139,\n",
      "        -0.0036, -0.0004, -0.0120,  0.0172,  0.0052,  0.0032, -0.0187, -0.0409,\n",
      "         0.0074,  0.0078, -0.0010, -0.0030,  0.0282,  0.0076, -0.0025, -0.0025,\n",
      "         0.0140,  0.0315,  0.0318,  0.0045, -0.0191,  0.0274, -0.0082, -0.0063,\n",
      "         0.0052,  0.0327, -0.0077, -0.0288,  0.0146, -0.0333,  0.0065,  0.0042,\n",
      "         0.0158,  0.0188,  0.0068, -0.0164,  0.0122, -0.0122, -0.0076,  0.0228,\n",
      "         0.0210,  0.0255, -0.0338,  0.0024,  0.0253, -0.0154, -0.0267, -0.0169,\n",
      "        -0.0400, -0.0217,  0.0203, -0.0058,  0.0041,  0.0068, -0.0126, -0.0217,\n",
      "        -0.0117,  0.0008,  0.0242, -0.0203, -0.0027,  0.0165,  0.0338,  0.0151,\n",
      "        -0.0379, -0.0177,  0.0151,  0.0298,  0.0252, -0.0309,  0.0421, -0.0107,\n",
      "         0.0189,  0.0339,  0.0323,  0.0157, -0.0058, -0.0255, -0.0288, -0.0179,\n",
      "         0.0243, -0.0121, -0.0247, -0.0202,  0.0093,  0.0315,  0.0080, -0.0272],\n",
      "       device='cuda:0')\n",
      "batchnorm.weight tensor([1.0315, 0.9763, 1.0422, 0.9940, 1.0332, 1.0211, 1.0165, 1.0097, 1.0379,\n",
      "        1.0650, 1.0483, 1.0352, 0.9620, 1.0142, 1.0201, 1.0262, 0.9690, 1.0185,\n",
      "        1.0386, 1.0926, 0.9954, 0.9939, 1.0304, 1.0266, 1.0547, 0.9623, 1.0177,\n",
      "        1.0226, 0.9775, 0.9500, 1.0077, 1.0088, 1.0255, 1.0392, 0.9937, 0.9741,\n",
      "        1.0308, 0.9914, 1.0552, 0.9637, 0.9994, 0.9981, 0.9958, 1.0140, 0.9731,\n",
      "        1.0333, 1.0528, 1.0114, 1.0598, 1.0357, 1.0582, 1.0422, 1.0143, 1.0554,\n",
      "        1.0312, 1.0387, 1.0481, 1.0033, 0.9783, 0.9988, 0.9800, 1.0202, 0.9910,\n",
      "        1.0680, 1.0174, 1.0032, 0.9974, 1.0136, 1.0102, 1.0215, 0.9639, 1.0150,\n",
      "        1.0394, 1.0249, 1.0216, 1.0220, 1.0311, 1.0698, 1.0399, 1.0179, 1.0578,\n",
      "        0.9692, 1.0434, 1.0369, 1.0119, 1.0430, 0.9881, 1.0667, 1.0200, 1.0835,\n",
      "        1.0400, 1.0339, 1.0203, 1.0495, 1.0326, 1.0018, 0.9917, 1.0032, 1.0376,\n",
      "        0.9957, 1.0177, 1.0282, 1.0338, 1.0348, 1.0783, 0.9780, 1.0451, 1.0572,\n",
      "        1.0022, 1.0702, 1.0236, 1.0669, 1.0205, 1.0382, 1.0554, 1.0467, 1.0100,\n",
      "        1.0498, 0.9901, 1.0244, 1.0328, 1.0622, 1.0689, 1.0204, 1.0246, 1.0144,\n",
      "        1.0453, 1.0037, 0.9869, 1.0121, 1.0743, 1.0539, 1.0272, 1.0010, 1.0757,\n",
      "        1.0678, 1.0017, 0.9959, 0.9948, 1.0137, 1.0010, 1.0341, 1.0149, 1.0019,\n",
      "        1.0332, 1.0053, 0.9909, 1.0225, 1.0573, 1.0489, 1.0154, 1.0004, 1.0132,\n",
      "        1.0656, 1.0042, 1.0344, 1.0275, 0.9959, 0.9439, 1.0201, 1.0064, 1.0018,\n",
      "        1.0145, 1.0435, 0.9802, 1.0343, 1.0015, 1.0034, 0.9973, 1.0163, 0.9724,\n",
      "        1.0420, 0.9987, 0.9769, 0.9859, 1.0024, 0.9808, 0.9898, 1.0217, 1.0199,\n",
      "        1.0722, 1.0245, 1.0539, 1.0338, 1.0099, 1.0291, 1.0025, 1.0027, 0.9709,\n",
      "        1.0293, 0.9778, 1.0444, 1.0330, 0.9815, 1.0406, 1.0348, 0.9711, 0.9977,\n",
      "        1.0264, 1.0566, 1.0472, 1.0587, 0.9772, 1.0430, 1.0676, 1.0759, 1.0214,\n",
      "        1.0092, 0.9994, 0.9516, 1.0076, 1.0283, 0.9795, 1.0559, 0.9774, 0.9528,\n",
      "        1.0271, 1.0119, 1.0158, 1.0712, 0.9594, 0.9646, 0.9878, 1.0427, 1.0254,\n",
      "        0.9438, 1.0181, 1.0004, 1.0327, 1.0030, 1.0278, 1.0185, 1.0064, 0.9182,\n",
      "        1.0071, 1.0382, 1.0862, 0.9982, 1.0645, 0.9856, 1.0656, 1.0185, 0.9591,\n",
      "        1.0396, 1.0237, 0.9636, 1.0242, 0.9959, 1.0787, 1.0432, 0.9982, 1.0522,\n",
      "        1.0267, 0.9776, 1.0385, 1.0060, 1.0849, 1.0245, 0.9805, 0.9500, 1.0048,\n",
      "        1.0333, 1.0628, 1.0248, 0.9040, 1.0345, 0.9730, 0.9965, 1.0816, 0.9404,\n",
      "        1.0431, 1.0307, 1.0051, 0.9491, 1.0373, 1.0324, 1.0133, 1.0240, 1.0876,\n",
      "        1.0447, 1.0384, 1.0208, 0.9975, 1.0461, 0.9914, 0.9776, 1.0307, 1.0848,\n",
      "        1.0218, 1.0113, 0.9873, 0.9882, 0.9862, 1.0097, 1.0513, 1.0082, 1.0572,\n",
      "        1.0023, 1.0161, 1.0174, 1.0006, 1.0295, 0.9967, 1.0866, 0.9988, 1.0166,\n",
      "        0.9929, 1.0189, 0.9815, 1.0034, 0.9973, 0.9970, 1.0333, 1.0291, 0.9924,\n",
      "        0.9982, 1.0024, 1.0188, 1.0387, 1.0203, 1.0122, 1.0006, 1.0325, 1.0170,\n",
      "        1.0350, 1.0124, 1.0449, 1.0544, 0.9913, 1.0402, 0.9834, 1.0152, 0.9909,\n",
      "        1.0358, 1.0246, 1.0601, 0.9860, 0.9830, 0.9676, 0.9876, 1.0124, 0.9540,\n",
      "        0.9845, 0.9983, 1.0250, 1.0478, 1.0461, 0.9636, 1.0335, 1.0231, 1.0469,\n",
      "        1.0450, 1.0491, 1.0463, 1.0231, 1.0643, 1.0432, 0.9974, 0.9780, 1.0504,\n",
      "        0.9984, 0.9965, 1.0328, 0.9978, 1.0257, 1.0198, 1.0423, 1.0030, 1.0525,\n",
      "        0.9383, 1.0211, 1.0085, 1.0491, 0.9581, 1.0009, 0.9795, 0.9934, 1.0639,\n",
      "        0.9849, 1.0214, 0.9762, 1.0192, 1.0437, 1.0382], device='cuda:0')\n",
      "batchnorm.bias tensor([-0.0240, -0.0341, -0.0095, -0.0522, -0.0393, -0.0058,  0.0111, -0.0248,\n",
      "        -0.0245, -0.0202,  0.0091,  0.0028, -0.0562, -0.0295, -0.0160, -0.0137,\n",
      "        -0.0532, -0.0301, -0.0090,  0.0164, -0.0592, -0.0106,  0.0098, -0.0167,\n",
      "        -0.0052, -0.0476,  0.0009, -0.0349, -0.0522, -0.0732, -0.0088, -0.0408,\n",
      "        -0.0145,  0.0054, -0.0297, -0.0476,  0.0068, -0.0291, -0.0102, -0.0720,\n",
      "        -0.0687, -0.0181, -0.0378, -0.0520, -0.0422, -0.0069,  0.0198, -0.0385,\n",
      "         0.0150, -0.0537, -0.0413, -0.0136, -0.0140, -0.0178, -0.0250, -0.0372,\n",
      "         0.0103, -0.0221, -0.0047, -0.0309, -0.0658,  0.0011, -0.0313, -0.0091,\n",
      "        -0.0188,  0.0042, -0.0488, -0.0070, -0.0145,  0.0098, -0.0461, -0.0275,\n",
      "         0.0125, -0.0018, -0.0330,  0.0064, -0.0201,  0.0036,  0.0022, -0.0139,\n",
      "        -0.0220, -0.0311, -0.0047, -0.0217, -0.0104,  0.0014, -0.0486, -0.0301,\n",
      "        -0.0226,  0.0238, -0.0093, -0.0095, -0.0388, -0.0358, -0.0133, -0.0623,\n",
      "        -0.0511, -0.0301, -0.0094, -0.0624, -0.0070, -0.0001, -0.0446, -0.0353,\n",
      "         0.0111, -0.0561, -0.0265,  0.0223, -0.0660, -0.0258, -0.0276,  0.0033,\n",
      "        -0.0405, -0.0405,  0.0122,  0.0177, -0.0004, -0.0202, -0.0629, -0.0460,\n",
      "         0.0176, -0.0206, -0.0219, -0.0254, -0.0227, -0.0224, -0.0265, -0.0557,\n",
      "        -0.0237, -0.0371,  0.0093,  0.0315, -0.0113, -0.0671, -0.0097, -0.0068,\n",
      "        -0.0267, -0.0322, -0.0419, -0.0014, -0.0314, -0.0130, -0.0586, -0.0462,\n",
      "        -0.0309, -0.0008, -0.0227, -0.0271,  0.0081, -0.0462, -0.0097, -0.0064,\n",
      "        -0.0331, -0.0126, -0.0326, -0.0305, -0.0532, -0.0427, -0.0458, -0.0124,\n",
      "        -0.0333,  0.0045, -0.0285, -0.0289, -0.0323, -0.0240, -0.0360, -0.0357,\n",
      "        -0.0344, -0.0054, -0.0290,  0.0030, -0.0389, -0.0219, -0.0812, -0.0363,\n",
      "         0.0015, -0.0519, -0.0162, -0.0169, -0.0327, -0.0259, -0.0324,  0.0120,\n",
      "        -0.0132, -0.0445, -0.0280, -0.0417, -0.0852, -0.0319, -0.0434,  0.0430,\n",
      "        -0.0274, -0.0364, -0.0070, -0.0317, -0.0549, -0.0482, -0.0236, -0.0408,\n",
      "         0.0216,  0.0056, -0.0662, -0.0049,  0.0496, -0.0142, -0.0531, -0.0531,\n",
      "        -0.0215, -0.0692,  0.0150, -0.0221, -0.0618, -0.0173, -0.0224, -0.0535,\n",
      "        -0.0310, -0.0098,  0.0087,  0.0070, -0.0804, -0.0237, -0.0413, -0.0370,\n",
      "        -0.0202, -0.0530, -0.0022, -0.0495, -0.0075, -0.0266, -0.0324, -0.0169,\n",
      "        -0.0303, -0.0903,  0.0327, -0.0329,  0.0155, -0.0270,  0.0056, -0.0421,\n",
      "        -0.0195, -0.0025, -0.0529,  0.0006, -0.0424, -0.0597, -0.0386, -0.0307,\n",
      "         0.0179, -0.0023, -0.0144, -0.0297, -0.0276, -0.0409,  0.0119, -0.0316,\n",
      "         0.0271, -0.0153, -0.0305, -0.0552, -0.0299, -0.0061,  0.0122, -0.0207,\n",
      "        -0.0953, -0.0278, -0.0229, -0.0553,  0.0280, -0.0371, -0.0566, -0.0110,\n",
      "        -0.0213, -0.1028, -0.0026, -0.0313, -0.0458, -0.0103,  0.0151, -0.0226,\n",
      "        -0.0066, -0.0116, -0.0387, -0.0473, -0.0413, -0.0601, -0.0105, -0.0020,\n",
      "        -0.0165, -0.0501, -0.0075,  0.0063, -0.0416, -0.0643,  0.0065, -0.0181,\n",
      "        -0.0400, -0.0545, -0.0179, -0.0217, -0.0252, -0.0384, -0.0331,  0.0210,\n",
      "        -0.0438, -0.0491, -0.0429, -0.0328, -0.0330,  0.0095, -0.0452, -0.0412,\n",
      "         0.0147, -0.0390, -0.0397, -0.0531, -0.0359, -0.0590,  0.0176, -0.0426,\n",
      "        -0.0264, -0.0419, -0.0014, -0.0106, -0.0409, -0.0378, -0.0314, -0.0377,\n",
      "        -0.0528, -0.0352, -0.0194, -0.0488, -0.0538, -0.0248, -0.0144, -0.0269,\n",
      "        -0.0201, -0.0517, -0.0527, -0.0388, -0.0094, -0.0481, -0.0397, -0.0204,\n",
      "        -0.0107, -0.0096, -0.0001, -0.0600,  0.0011, -0.0345,  0.0435, -0.0557,\n",
      "        -0.0213, -0.0287, -0.0127,  0.0143, -0.0341, -0.0567, -0.0804,  0.0162,\n",
      "        -0.0449, -0.0655, -0.0070, -0.0405, -0.0229, -0.0024, -0.0092,  0.0007,\n",
      "        -0.0119, -0.0938, -0.0249, -0.0557, -0.0236, -0.0504, -0.0470, -0.0413,\n",
      "        -0.0354,  0.0150, -0.0333, -0.0301, -0.0493, -0.0452, -0.0497, -0.0344],\n",
      "       device='cuda:0')\n",
      "lstm.weight_ih_l0 tensor([[-0.0322, -0.0690, -0.0130,  ..., -0.0416, -0.0026, -0.0617],\n",
      "        [-0.0484, -0.0584, -0.0129,  ..., -0.0290, -0.0166, -0.0055],\n",
      "        [ 0.0044, -0.0903,  0.0192,  ..., -0.0215, -0.0116, -0.0423],\n",
      "        ...,\n",
      "        [ 0.0375, -0.0187, -0.0341,  ..., -0.0032, -0.0112, -0.0517],\n",
      "        [ 0.0426,  0.0165,  0.0561,  ...,  0.0433,  0.0548,  0.0342],\n",
      "        [-0.0028,  0.0061, -0.0238,  ...,  0.0317, -0.0330, -0.0093]],\n",
      "       device='cuda:0')\n",
      "lstm.weight_hh_l0 tensor([[ 0.0444,  0.0266, -0.0058,  ...,  0.0502,  0.0341,  0.0147],\n",
      "        [-0.0466,  0.0971,  0.0013,  ...,  0.0268,  0.0517,  0.0192],\n",
      "        [-0.0090, -0.0408, -0.0224,  ..., -0.0123,  0.0708, -0.0465],\n",
      "        ...,\n",
      "        [-0.0029, -0.0263, -0.0039,  ...,  0.0132, -0.0903,  0.0069],\n",
      "        [-0.0924,  0.0249,  0.0173,  ..., -0.0091, -0.0177,  0.0399],\n",
      "        [ 0.0316,  0.0227,  0.0148,  ...,  0.0424,  0.0318,  0.1239]],\n",
      "       device='cuda:0')\n",
      "lstm.bias_ih_l0 tensor([-0.0840,  0.0063, -0.0504,  ..., -0.0267,  0.0465, -0.0739],\n",
      "       device='cuda:0')\n",
      "lstm.bias_hh_l0 tensor([-0.0270, -0.0214, -0.0456,  ...,  0.0047,  0.0069, -0.0519],\n",
      "       device='cuda:0')\n",
      "lstm.weight_ih_l1 tensor([[ 0.0367,  0.0219, -0.0680,  ..., -0.0150, -0.0311, -0.0456],\n",
      "        [-0.0518, -0.1513,  0.0664,  ...,  0.0096, -0.0064,  0.0109],\n",
      "        [-0.0184, -0.1938,  0.0196,  ...,  0.0912, -0.0415,  0.0432],\n",
      "        ...,\n",
      "        [-0.0283,  0.0632, -0.0027,  ..., -0.0672, -0.0579, -0.0016],\n",
      "        [ 0.0425, -0.0919,  0.0508,  ...,  0.0834, -0.0731,  0.0278],\n",
      "        [-0.0349,  0.1749, -0.0065,  ...,  0.0404, -0.0299,  0.0702]],\n",
      "       device='cuda:0')\n",
      "lstm.weight_hh_l1 tensor([[ 0.0063, -0.0465,  0.0359,  ...,  0.0185, -0.0566, -0.0113],\n",
      "        [ 0.0368,  0.0843, -0.0044,  ..., -0.0247,  0.0061, -0.0035],\n",
      "        [-0.0418,  0.0388,  0.0369,  ...,  0.0345,  0.0871,  0.1106],\n",
      "        ...,\n",
      "        [-0.0213, -0.0084, -0.0082,  ...,  0.0650, -0.0053,  0.0039],\n",
      "        [-0.0137,  0.0304, -0.0710,  ..., -0.0273, -0.1190, -0.0219],\n",
      "        [ 0.0067, -0.0806, -0.0946,  ...,  0.0066, -0.0338,  0.0204]],\n",
      "       device='cuda:0')\n",
      "lstm.bias_ih_l1 tensor([-0.0486, -0.0305, -0.0500,  ..., -0.0928, -0.0588, -0.0858],\n",
      "       device='cuda:0')\n",
      "lstm.bias_hh_l1 tensor([ 0.0039, -0.0475, -0.0577,  ..., -0.1114, -0.1104, -0.0768],\n",
      "       device='cuda:0')\n",
      "linear.weight tensor([[ 0.0299,  0.0755,  0.0728,  ...,  0.0374,  0.0482,  0.0472],\n",
      "        [-0.0879, -0.1210,  0.0477,  ..., -0.0175,  0.0548,  0.0010],\n",
      "        [ 0.0033, -0.0098, -0.0506,  ..., -0.0298,  0.0010, -0.0032],\n",
      "        ...,\n",
      "        [ 0.0413,  0.0012, -0.0499,  ...,  0.0108,  0.0117, -0.0186],\n",
      "        [ 0.0024, -0.0682, -0.0297,  ..., -0.0080, -0.0852,  0.0341],\n",
      "        [-0.1531, -0.0504, -0.1068,  ...,  0.0928, -0.0484, -0.0231]],\n",
      "       device='cuda:0')\n",
      "linear.bias tensor([ 0.0146, -0.0311, -0.0376, -0.0222, -0.0105,  0.0250, -0.0819],\n",
      "       device='cuda:0')\n"
     ]
    }
   ],
   "source": [
    "for name, param in model.named_parameters():\n",
    "    if param.requires_grad:\n",
    "        print(name, param.data)"
   ]
  },
  {
   "cell_type": "code",
   "execution_count": 17,
   "id": "cc9b6fd0",
   "metadata": {},
   "outputs": [],
   "source": [
    "model_path = main_path + f'/models/wav2vecbase/holdout_{holdout}.pth'\n",
    "\n",
    "torch.save({'epoch':epochs,\n",
    "            'model_state_dict':model.state_dict(),\n",
    "            'optimizer_state_dict':optimizer.state_dict()},\n",
    "            model_path)"
   ]
  },
  {
   "cell_type": "code",
   "execution_count": null,
   "id": "e3170eda",
   "metadata": {},
   "outputs": [],
   "source": []
  }
 ],
 "metadata": {
  "kernelspec": {
   "display_name": "Python 3",
   "language": "python",
   "name": "python3"
  },
  "language_info": {
   "codemirror_mode": {
    "name": "ipython",
    "version": 3
   },
   "file_extension": ".py",
   "mimetype": "text/x-python",
   "name": "python",
   "nbconvert_exporter": "python",
   "pygments_lexer": "ipython3",
   "version": "3.7.12"
  }
 },
 "nbformat": 4,
 "nbformat_minor": 5
}
