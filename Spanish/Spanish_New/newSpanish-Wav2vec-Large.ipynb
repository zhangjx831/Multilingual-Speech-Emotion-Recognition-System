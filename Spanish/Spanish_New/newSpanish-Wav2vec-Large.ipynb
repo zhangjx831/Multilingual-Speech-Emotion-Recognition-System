{
 "cells": [
  {
   "cell_type": "code",
   "execution_count": 1,
   "id": "fcff203e",
   "metadata": {},
   "outputs": [],
   "source": [
    "import re\n",
    "import os\n",
    "import pandas as pd\n",
    "import random\n",
    "from tqdm import tqdm \n",
    "\n",
    "file_paths, file_names, emotions, audios = [], [], [], []\n",
    "emotion_map = {'Neutral': 'neutral', 'Anger': 'angry', 'Happiness': 'happy', 'Sadness': 'sad', 'Fear': 'fear',\n",
    "              'Disgust': 'disgust'}\n",
    "\n",
    "main_path = '/home/rl3155/Multilingual-Speech-Emotion-Recognition-System/Spanish/Spanish_New'\n",
    "DATA_NATURAL = \"/home/rl3155/MESD_All\""
   ]
  },
  {
   "cell_type": "code",
   "execution_count": 2,
   "id": "371d6085",
   "metadata": {},
   "outputs": [
    {
     "name": "stdout",
     "output_type": "stream",
     "text": [
      "1.12.1\n",
      "0.12.1+cu113\n",
      "cuda\n"
     ]
    }
   ],
   "source": [
    "import torch\n",
    "import torchaudio\n",
    "\n",
    "print(torch.__version__)\n",
    "print(torchaudio.__version__)\n",
    "\n",
    "torch.random.manual_seed(0)\n",
    "device = torch.device(\"cuda\" if torch.cuda.is_available() else \"cpu\")\n",
    "\n",
    "print(device)"
   ]
  },
  {
   "cell_type": "code",
   "execution_count": 3,
   "id": "4675fdb9",
   "metadata": {},
   "outputs": [
    {
     "name": "stdout",
     "output_type": "stream",
     "text": [
      "<class 'torchaudio.models.wav2vec2.model.Wav2Vec2Model'>\n",
      "16000\n"
     ]
    }
   ],
   "source": [
    "bundle = torchaudio.pipelines.WAV2VEC2_LARGE\n",
    "extractor = bundle.get_model()\n",
    "print(extractor.__class__)\n",
    "print(bundle.sample_rate)"
   ]
  },
  {
   "cell_type": "markdown",
   "id": "682ce5bd",
   "metadata": {},
   "source": [
    "### Random get 5 parts of the entries -- only run code below 1 time"
   ]
  },
  {
   "cell_type": "code",
   "execution_count": 4,
   "id": "af158f24",
   "metadata": {},
   "outputs": [
    {
     "name": "stderr",
     "output_type": "stream",
     "text": [
      "100%|███████████████████████████████████████████████████████████████████████████████████████████████████████████████████████████████████████████████████████████████████████████████████████████████████████| 863/863 [00:00<00:00, 518134.03it/s]\n"
     ]
    }
   ],
   "source": [
    "# Define path to datasets; create a random chunked 5 parts of entries\n",
    "# entries = os.listdir(DATA_NATURAL)\n",
    "# random.shuffle(entries)\n",
    "# session = []\n",
    "# equal_parts = (len(entries)-1)//5 # for equally split the entries into 5 parts\n",
    "# count = 0\n",
    "# for i in tqdm(range(len(entries))):\n",
    "#     entry = entries[i]\n",
    "#     if \"wav\" not in entry:\n",
    "#         continue\n",
    "#     path = DATA_NATURAL + \"/\" + entry\n",
    "#     emotion = emotion_map[entry.split(\"_\")[0]]\n",
    "#     file_paths.append(path)\n",
    "#     file_names.append(entry)\n",
    "#     emotions.append(emotion)\n",
    "    \n",
    "#     # assign session to it\n",
    "#     part = (count//equal_parts)%6 + 1\n",
    "#     if part == 6:\n",
    "#         part = 5\n",
    "#     session.append(part)\n",
    "#     count += 1\n",
    "\n",
    "# file = pd.DataFrame({'path':file_paths, 'name': file_names, 'emotion': emotions, 'session': session})\n",
    "# dataframe_path = main_path + '/session_entries.csv'\n",
    "# file.to_csv(dataframe_path)"
   ]
  },
  {
   "cell_type": "markdown",
   "id": "45ea79eb",
   "metadata": {},
   "source": [
    "### Extract Features using Models"
   ]
  },
  {
   "cell_type": "code",
   "execution_count": 4,
   "id": "b89c352b",
   "metadata": {},
   "outputs": [
    {
     "data": {
      "text/html": [
       "<div>\n",
       "<style scoped>\n",
       "    .dataframe tbody tr th:only-of-type {\n",
       "        vertical-align: middle;\n",
       "    }\n",
       "\n",
       "    .dataframe tbody tr th {\n",
       "        vertical-align: top;\n",
       "    }\n",
       "\n",
       "    .dataframe thead th {\n",
       "        text-align: right;\n",
       "    }\n",
       "</style>\n",
       "<table border=\"1\" class=\"dataframe\">\n",
       "  <thead>\n",
       "    <tr style=\"text-align: right;\">\n",
       "      <th></th>\n",
       "      <th>path</th>\n",
       "      <th>name</th>\n",
       "      <th>emotion</th>\n",
       "      <th>session</th>\n",
       "    </tr>\n",
       "  </thead>\n",
       "  <tbody>\n",
       "    <tr>\n",
       "      <th>0</th>\n",
       "      <td>/home/rl3155/MESD_All/Fear_F_A_basta_ya.wav</td>\n",
       "      <td>Fear_F_A_basta_ya.wav</td>\n",
       "      <td>fear</td>\n",
       "      <td>1</td>\n",
       "    </tr>\n",
       "    <tr>\n",
       "      <th>1</th>\n",
       "      <td>/home/rl3155/MESD_All/Happiness_M_A_arriba.wav</td>\n",
       "      <td>Happiness_M_A_arriba.wav</td>\n",
       "      <td>happy</td>\n",
       "      <td>1</td>\n",
       "    </tr>\n",
       "    <tr>\n",
       "      <th>2</th>\n",
       "      <td>/home/rl3155/MESD_All/Fear_F_B_arana.wav</td>\n",
       "      <td>Fear_F_B_arana.wav</td>\n",
       "      <td>fear</td>\n",
       "      <td>1</td>\n",
       "    </tr>\n",
       "    <tr>\n",
       "      <th>3</th>\n",
       "      <td>/home/rl3155/MESD_All/Neutral_M_B_articulo.wav</td>\n",
       "      <td>Neutral_M_B_articulo.wav</td>\n",
       "      <td>neutral</td>\n",
       "      <td>1</td>\n",
       "    </tr>\n",
       "    <tr>\n",
       "      <th>4</th>\n",
       "      <td>/home/rl3155/MESD_All/Disgust_F_A_antes.wav</td>\n",
       "      <td>Disgust_F_A_antes.wav</td>\n",
       "      <td>disgust</td>\n",
       "      <td>1</td>\n",
       "    </tr>\n",
       "  </tbody>\n",
       "</table>\n",
       "</div>"
      ],
      "text/plain": [
       "                                             path                      name  \\\n",
       "0     /home/rl3155/MESD_All/Fear_F_A_basta_ya.wav     Fear_F_A_basta_ya.wav   \n",
       "1  /home/rl3155/MESD_All/Happiness_M_A_arriba.wav  Happiness_M_A_arriba.wav   \n",
       "2        /home/rl3155/MESD_All/Fear_F_B_arana.wav        Fear_F_B_arana.wav   \n",
       "3  /home/rl3155/MESD_All/Neutral_M_B_articulo.wav  Neutral_M_B_articulo.wav   \n",
       "4     /home/rl3155/MESD_All/Disgust_F_A_antes.wav     Disgust_F_A_antes.wav   \n",
       "\n",
       "   emotion  session  \n",
       "0     fear        1  \n",
       "1    happy        1  \n",
       "2     fear        1  \n",
       "3  neutral        1  \n",
       "4  disgust        1  "
      ]
     },
     "execution_count": 4,
     "metadata": {},
     "output_type": "execute_result"
    }
   ],
   "source": [
    "# Get the entries with assigned session\n",
    "\n",
    "dataframe_path = '/home/rl3155/Multilingual-Speech-Emotion-Recognition-System/Spanish/session_entries.csv'\n",
    "file = pd.read_csv(dataframe_path)[['path', 'name', 'emotion', 'session']]\n",
    "file.head()"
   ]
  },
  {
   "cell_type": "code",
   "execution_count": 5,
   "id": "9dcc58f6",
   "metadata": {},
   "outputs": [
    {
     "name": "stderr",
     "output_type": "stream",
     "text": [
      "100%|███████████████████████████████████████████████████████████████████████████████████████████████████████████████████████████████████████████████████████████████████████████████████████████████████████████| 862/862 [03:26<00:00,  4.17it/s]\n"
     ]
    }
   ],
   "source": [
    "from tqdm import tqdm\n",
    "\n",
    "for i in tqdm(range(len(file['path']))):\n",
    "    path = file['path'][i]\n",
    "    wave, sr = torchaudio.load(path)\n",
    "    if sr != bundle.sample_rate:\n",
    "        wave = torchaudio.functional.resample(wave, sr, bundle.sample_rate)\n",
    "    with torch.inference_mode():\n",
    "        feature, _ = extractor.extract_features(wave)\n",
    "    feature = [f[0] for f in feature]\n",
    "    audio = torch.stack(feature)\n",
    "    audios.append(audio)"
   ]
  },
  {
   "cell_type": "markdown",
   "id": "9558abec",
   "metadata": {},
   "source": [
    "### Load Data"
   ]
  },
  {
   "cell_type": "code",
   "execution_count": 6,
   "id": "75a75bd9",
   "metadata": {},
   "outputs": [],
   "source": [
    "class MyDataSet(torch.utils.data.Dataset):\n",
    "    def __init__(self, audios, labels, label_transform):\n",
    "        super(MyDataSet).__init__()\n",
    "        self.audios = audios\n",
    "        self.labels = labels\n",
    "        self.label_transform = label_transform\n",
    "        \n",
    "    def __getitem__(self, idx):\n",
    "        label = self.label_transform[self.labels[idx]]\n",
    "        audio = self.audios[idx]\n",
    "        length = audio.size(1)\n",
    "        return audio, length, label\n",
    "    \n",
    "    def __len__(self):\n",
    "        return len(self.labels)"
   ]
  },
  {
   "cell_type": "code",
   "execution_count": 7,
   "id": "141ec40a",
   "metadata": {},
   "outputs": [],
   "source": [
    "def collate_indic(data):\n",
    "    audios, lengths, labels = zip(*data)\n",
    "    max_len = max(lengths)\n",
    "    n_ftrs = audios[0].size(2)\n",
    "    n_dims = audios[0].size(0)\n",
    "    features = torch.zeros((len(audios), n_dims, max_len, n_ftrs))\n",
    "    labels = torch.tensor(labels)\n",
    "    lengths = torch.tensor(lengths)\n",
    "\n",
    "    for i in range(len(data)):\n",
    "        j, k = audios[i].size(1), audios[i].size(2)\n",
    "        features[i] = torch.cat([audios[i], torch.zeros((n_dims, max_len - j, k))], dim=1)\n",
    "\n",
    "    return features, lengths, labels"
   ]
  },
  {
   "cell_type": "code",
   "execution_count": 8,
   "id": "0738ead4",
   "metadata": {},
   "outputs": [
    {
     "data": {
      "text/plain": [
       "{'neutral': 0, 'angry': 1, 'happy': 2, 'sad': 3, 'fear': 4, 'disgust': 5}"
      ]
     },
     "execution_count": 8,
     "metadata": {},
     "output_type": "execute_result"
    }
   ],
   "source": [
    "categories = ['neutral', 'angry', 'happy', 'sad', 'fear', 'disgust']\n",
    "cate_dic = {}\n",
    "for i, cate in enumerate(categories):\n",
    "    cate_dic[cate] = i\n",
    "cate_dic"
   ]
  },
  {
   "cell_type": "markdown",
   "id": "adf4848c",
   "metadata": {},
   "source": [
    "## Train with 3CNN+LSTM"
   ]
  },
  {
   "cell_type": "code",
   "execution_count": 9,
   "id": "2ef1a6ec",
   "metadata": {},
   "outputs": [],
   "source": [
    "import torch.nn as nn\n",
    "import torch.nn.functional as F\n",
    "\n",
    "class ICASSP3CNN(nn.Module):\n",
    "    def __init__(self, vocab_size, dims = 12, embed_size=128, hidden_size=512, num_lstm_layers = 2,\\\n",
    "                 bidirectional = False, label_size=6):\n",
    "        super().__init__()\n",
    "        self.n_layers = num_lstm_layers \n",
    "        self.hidden = hidden_size\n",
    "        self.bidirectional = bidirectional\n",
    "        \n",
    "        self.aggr = nn.Conv1d(in_channels=dims, out_channels=1, kernel_size=1)\n",
    "        \n",
    "        self.embed = nn.Linear(in_features = vocab_size, out_features = embed_size)\n",
    "\n",
    "        self.cnn  = nn.Conv1d(embed_size, embed_size, kernel_size=3, padding=1)\n",
    "        self.cnn2 = nn.Conv1d(embed_size, embed_size, kernel_size=5, padding=2)\n",
    "        self.cnn3 = nn.Conv1d(embed_size, embed_size, kernel_size=7, padding=3)\n",
    "\n",
    "        self.batchnorm = nn.BatchNorm1d(3 * embed_size)\n",
    "\n",
    "        self.lstm = nn.LSTM(input_size = 3 * embed_size, \n",
    "                            hidden_size = hidden_size, \n",
    "                            num_layers = num_lstm_layers, \n",
    "                            bidirectional = bidirectional)\n",
    "\n",
    "        self.linear = nn.Linear(in_features = 2 * hidden_size if bidirectional else hidden_size, \n",
    "                                out_features = label_size)\n",
    "\n",
    "\n",
    "    def forward(self, x, lengths):\n",
    "        \"\"\"\n",
    "        padded_x: (B,T) padded LongTensor\n",
    "        \"\"\"\n",
    "        n, d, b, t = x.size(0), x.size(1), x.size(2), x.size(3)\n",
    "        x = torch.flatten(x, start_dim=2)\n",
    "        input = self.aggr(x)\n",
    "        input = torch.reshape(input, (n, b, t))\n",
    "        input = self.embed(input)\n",
    "\n",
    "        batch_size = input.size(0)\n",
    "        input = input.transpose(1,2)    # (B,T,H) -> (B,H,T)\n",
    "\n",
    "        cnn_output = torch.cat([self.cnn(input), self.cnn2(input), self.cnn3(input)], dim=1)\n",
    "\n",
    "        input = F.relu(self.batchnorm(cnn_output))\n",
    "\n",
    "        input = input.transpose(1,2)\n",
    "\n",
    "        pack_tensor = nn.utils.rnn.pack_padded_sequence(input, lengths, batch_first=True, enforce_sorted=False)\n",
    "        _, (hn, cn) = self.lstm(pack_tensor)\n",
    "\n",
    "        if self.bidirectional:\n",
    "            h_n = hn.view(self.n_layers, 2, batch_size, self.hidden)\n",
    "            h_n = torch.cat([ h_n[-1, 0,:], h_n[-1,1,:] ], dim = 1)\n",
    "        else:\n",
    "            h_n = hn[-1]\n",
    "\n",
    "        logits = self.linear(h_n)\n",
    "\n",
    "        return logits"
   ]
  },
  {
   "cell_type": "markdown",
   "id": "21a7d392",
   "metadata": {},
   "source": [
    "### Model Traning on each layer "
   ]
  },
  {
   "cell_type": "code",
   "execution_count": 31,
   "id": "71a55670",
   "metadata": {},
   "outputs": [],
   "source": [
    "holdout = 5\n",
    "train = file[file['session'] != holdout]\n",
    "train_audios = [audios[i] for i in range(len(audios)) if file['session'][i] != holdout]\n",
    "test = file[file['session'] == holdout]\n",
    "test_audios = [audios[i] for i in range(len(audios)) if file['session'][i] == holdout]"
   ]
  },
  {
   "cell_type": "code",
   "execution_count": 32,
   "id": "9aa549a4",
   "metadata": {},
   "outputs": [],
   "source": [
    "from torch.utils.data import DataLoader\n",
    "\n",
    "train_dataset = MyDataSet(train_audios, train['emotion'].tolist(), cate_dic)\n",
    "trainloader_args = dict(batch_size=16, shuffle=True)\n",
    "train_dataloader = DataLoader(train_dataset, **trainloader_args, \n",
    "                              collate_fn=collate_indic)\n",
    "\n",
    "test_dataset = MyDataSet(test_audios, test['emotion'].tolist(), cate_dic)\n",
    "testloader_args = dict(batch_size=16, shuffle=True)\n",
    "test_dataloader = DataLoader(test_dataset, **testloader_args, \n",
    "                             collate_fn=collate_indic)"
   ]
  },
  {
   "cell_type": "code",
   "execution_count": 33,
   "id": "75762bdc",
   "metadata": {},
   "outputs": [
    {
     "name": "stderr",
     "output_type": "stream",
     "text": [
      "  2%|████                                                                                                                                                                                                          | 1/50 [00:03<02:57,  3.63s/it]"
     ]
    },
    {
     "name": "stdout",
     "output_type": "stream",
     "text": [
      "epoch:1, train accu:0.4709, train loss:1.29\n"
     ]
    },
    {
     "name": "stderr",
     "output_type": "stream",
     "text": [
      "\r",
      "  4%|████████▏                                                                                                                                                                                                     | 2/50 [00:07<02:52,  3.60s/it]"
     ]
    },
    {
     "name": "stdout",
     "output_type": "stream",
     "text": [
      "epoch:2, train accu:0.7180, train loss:0.75\n"
     ]
    },
    {
     "name": "stderr",
     "output_type": "stream",
     "text": [
      "\r",
      "  6%|████████████▎                                                                                                                                                                                                 | 3/50 [00:10<02:49,  3.61s/it]"
     ]
    },
    {
     "name": "stdout",
     "output_type": "stream",
     "text": [
      "epoch:3, train accu:0.7892, train loss:0.58\n"
     ]
    },
    {
     "name": "stderr",
     "output_type": "stream",
     "text": [
      "\r",
      "  8%|████████████████▍                                                                                                                                                                                             | 4/50 [00:14<02:42,  3.54s/it]"
     ]
    },
    {
     "name": "stdout",
     "output_type": "stream",
     "text": [
      "epoch:4, train accu:0.8532, train loss:0.43\n"
     ]
    },
    {
     "name": "stderr",
     "output_type": "stream",
     "text": [
      "\r",
      " 10%|████████████████████▌                                                                                                                                                                                         | 5/50 [00:17<02:41,  3.59s/it]"
     ]
    },
    {
     "name": "stdout",
     "output_type": "stream",
     "text": [
      "epoch:5, train accu:0.8910, train loss:0.32\n"
     ]
    },
    {
     "name": "stderr",
     "output_type": "stream",
     "text": [
      "\r",
      " 12%|████████████████████████▋                                                                                                                                                                                     | 6/50 [00:21<02:36,  3.57s/it]"
     ]
    },
    {
     "name": "stdout",
     "output_type": "stream",
     "text": [
      "epoch:6, train accu:0.9288, train loss:0.25\n"
     ]
    },
    {
     "name": "stderr",
     "output_type": "stream",
     "text": [
      "\r",
      " 14%|████████████████████████████▊                                                                                                                                                                                 | 7/50 [00:25<02:35,  3.61s/it]"
     ]
    },
    {
     "name": "stdout",
     "output_type": "stream",
     "text": [
      "epoch:7, train accu:0.9360, train loss:0.20\n"
     ]
    },
    {
     "name": "stderr",
     "output_type": "stream",
     "text": [
      "\r",
      " 16%|████████████████████████████████▉                                                                                                                                                                             | 8/50 [00:28<02:31,  3.61s/it]"
     ]
    },
    {
     "name": "stdout",
     "output_type": "stream",
     "text": [
      "epoch:8, train accu:0.9448, train loss:0.17\n"
     ]
    },
    {
     "name": "stderr",
     "output_type": "stream",
     "text": [
      "\r",
      " 18%|█████████████████████████████████████                                                                                                                                                                         | 9/50 [00:32<02:27,  3.59s/it]"
     ]
    },
    {
     "name": "stdout",
     "output_type": "stream",
     "text": [
      "epoch:9, train accu:0.9593, train loss:0.13\n"
     ]
    },
    {
     "name": "stderr",
     "output_type": "stream",
     "text": [
      "\r",
      " 20%|█████████████████████████████████████████                                                                                                                                                                    | 10/50 [00:36<02:25,  3.63s/it]"
     ]
    },
    {
     "name": "stdout",
     "output_type": "stream",
     "text": [
      "epoch:10, train accu:0.9651, train loss:0.09\n"
     ]
    },
    {
     "name": "stderr",
     "output_type": "stream",
     "text": [
      "\r",
      " 22%|█████████████████████████████████████████████                                                                                                                                                                | 11/50 [00:39<02:20,  3.60s/it]"
     ]
    },
    {
     "name": "stdout",
     "output_type": "stream",
     "text": [
      "epoch:11, train accu:0.9637, train loss:0.09\n"
     ]
    },
    {
     "name": "stderr",
     "output_type": "stream",
     "text": [
      "\r",
      " 24%|█████████████████████████████████████████████████▏                                                                                                                                                           | 12/50 [00:43<02:16,  3.60s/it]"
     ]
    },
    {
     "name": "stdout",
     "output_type": "stream",
     "text": [
      "epoch:12, train accu:0.9608, train loss:0.12\n"
     ]
    },
    {
     "name": "stderr",
     "output_type": "stream",
     "text": [
      "\r",
      " 26%|█████████████████████████████████████████████████████▎                                                                                                                                                       | 13/50 [00:48<02:33,  4.16s/it]"
     ]
    },
    {
     "name": "stdout",
     "output_type": "stream",
     "text": [
      "epoch:13, train accu:0.9767, train loss:0.09\n"
     ]
    },
    {
     "name": "stderr",
     "output_type": "stream",
     "text": [
      "\r",
      " 28%|█████████████████████████████████████████████████████████▍                                                                                                                                                   | 14/50 [00:52<02:23,  3.99s/it]"
     ]
    },
    {
     "name": "stdout",
     "output_type": "stream",
     "text": [
      "epoch:14, train accu:0.9927, train loss:0.03\n"
     ]
    },
    {
     "name": "stderr",
     "output_type": "stream",
     "text": [
      "\r",
      " 30%|█████████████████████████████████████████████████████████████▌                                                                                                                                               | 15/50 [00:55<02:15,  3.87s/it]"
     ]
    },
    {
     "name": "stdout",
     "output_type": "stream",
     "text": [
      "epoch:15, train accu:0.9985, train loss:0.01\n"
     ]
    },
    {
     "name": "stderr",
     "output_type": "stream",
     "text": [
      "\r",
      " 32%|█████████████████████████████████████████████████████████████████▌                                                                                                                                           | 16/50 [00:59<02:08,  3.78s/it]"
     ]
    },
    {
     "name": "stdout",
     "output_type": "stream",
     "text": [
      "epoch:16, train accu:1.0000, train loss:0.00\n"
     ]
    },
    {
     "name": "stderr",
     "output_type": "stream",
     "text": [
      "\r",
      " 34%|█████████████████████████████████████████████████████████████████████▋                                                                                                                                       | 17/50 [01:02<02:01,  3.69s/it]"
     ]
    },
    {
     "name": "stdout",
     "output_type": "stream",
     "text": [
      "epoch:17, train accu:0.9985, train loss:0.00\n"
     ]
    },
    {
     "name": "stderr",
     "output_type": "stream",
     "text": [
      "\r",
      " 36%|█████████████████████████████████████████████████████████████████████████▊                                                                                                                                   | 18/50 [01:06<01:56,  3.64s/it]"
     ]
    },
    {
     "name": "stdout",
     "output_type": "stream",
     "text": [
      "epoch:18, train accu:0.9985, train loss:0.01\n"
     ]
    },
    {
     "name": "stderr",
     "output_type": "stream",
     "text": [
      "\r",
      " 38%|█████████████████████████████████████████████████████████████████████████████▉                                                                                                                               | 19/50 [01:09<01:51,  3.61s/it]"
     ]
    },
    {
     "name": "stdout",
     "output_type": "stream",
     "text": [
      "epoch:19, train accu:0.9942, train loss:0.02\n"
     ]
    },
    {
     "name": "stderr",
     "output_type": "stream",
     "text": [
      "\r",
      " 40%|██████████████████████████████████████████████████████████████████████████████████                                                                                                                           | 20/50 [01:13<01:46,  3.54s/it]"
     ]
    },
    {
     "name": "stdout",
     "output_type": "stream",
     "text": [
      "epoch:20, train accu:0.9535, train loss:0.14\n"
     ]
    },
    {
     "name": "stderr",
     "output_type": "stream",
     "text": [
      "\r",
      " 42%|██████████████████████████████████████████████████████████████████████████████████████                                                                                                                       | 21/50 [01:16<01:42,  3.53s/it]"
     ]
    },
    {
     "name": "stdout",
     "output_type": "stream",
     "text": [
      "epoch:21, train accu:0.9608, train loss:0.10\n"
     ]
    },
    {
     "name": "stderr",
     "output_type": "stream",
     "text": [
      "\r",
      " 44%|██████████████████████████████████████████████████████████████████████████████████████████▏                                                                                                                  | 22/50 [01:20<01:39,  3.55s/it]"
     ]
    },
    {
     "name": "stdout",
     "output_type": "stream",
     "text": [
      "epoch:22, train accu:0.9869, train loss:0.06\n"
     ]
    },
    {
     "name": "stderr",
     "output_type": "stream",
     "text": [
      "\r",
      " 46%|██████████████████████████████████████████████████████████████████████████████████████████████▎                                                                                                              | 23/50 [01:23<01:35,  3.53s/it]"
     ]
    },
    {
     "name": "stdout",
     "output_type": "stream",
     "text": [
      "epoch:23, train accu:0.9782, train loss:0.07\n"
     ]
    },
    {
     "name": "stderr",
     "output_type": "stream",
     "text": [
      "\r",
      " 48%|██████████████████████████████████████████████████████████████████████████████████████████████████▍                                                                                                          | 24/50 [01:27<01:31,  3.53s/it]"
     ]
    },
    {
     "name": "stdout",
     "output_type": "stream",
     "text": [
      "epoch:24, train accu:0.9738, train loss:0.09\n"
     ]
    },
    {
     "name": "stderr",
     "output_type": "stream",
     "text": [
      "\r",
      " 50%|██████████████████████████████████████████████████████████████████████████████████████████████████████▌                                                                                                      | 25/50 [01:31<01:28,  3.56s/it]"
     ]
    },
    {
     "name": "stdout",
     "output_type": "stream",
     "text": [
      "epoch:25, train accu:0.9840, train loss:0.06\n"
     ]
    },
    {
     "name": "stderr",
     "output_type": "stream",
     "text": [
      "\r",
      " 52%|██████████████████████████████████████████████████████████████████████████████████████████████████████████▌                                                                                                  | 26/50 [01:34<01:23,  3.49s/it]"
     ]
    },
    {
     "name": "stdout",
     "output_type": "stream",
     "text": [
      "epoch:26, train accu:0.9913, train loss:0.05\n"
     ]
    },
    {
     "name": "stderr",
     "output_type": "stream",
     "text": [
      "\r",
      " 54%|██████████████████████████████████████████████████████████████████████████████████████████████████████████████▋                                                                                              | 27/50 [01:36<01:13,  3.19s/it]"
     ]
    },
    {
     "name": "stdout",
     "output_type": "stream",
     "text": [
      "epoch:27, train accu:0.9927, train loss:0.02\n"
     ]
    },
    {
     "name": "stderr",
     "output_type": "stream",
     "text": [
      "\r",
      " 56%|██████████████████████████████████████████████████████████████████████████████████████████████████████████████████▊                                                                                          | 28/50 [01:39<01:05,  2.99s/it]"
     ]
    },
    {
     "name": "stdout",
     "output_type": "stream",
     "text": [
      "epoch:28, train accu:0.9855, train loss:0.05\n"
     ]
    },
    {
     "name": "stderr",
     "output_type": "stream",
     "text": [
      "\r",
      " 58%|██████████████████████████████████████████████████████████████████████████████████████████████████████████████████████▉                                                                                      | 29/50 [01:41<00:59,  2.83s/it]"
     ]
    },
    {
     "name": "stdout",
     "output_type": "stream",
     "text": [
      "epoch:29, train accu:0.9855, train loss:0.06\n"
     ]
    },
    {
     "name": "stderr",
     "output_type": "stream",
     "text": [
      "\r",
      " 60%|███████████████████████████████████████████████████████████████████████████████████████████████████████████████████████████                                                                                  | 30/50 [01:44<00:54,  2.73s/it]"
     ]
    },
    {
     "name": "stdout",
     "output_type": "stream",
     "text": [
      "epoch:30, train accu:0.9927, train loss:0.02\n"
     ]
    },
    {
     "name": "stderr",
     "output_type": "stream",
     "text": [
      "\r",
      " 62%|███████████████████████████████████████████████████████████████████████████████████████████████████████████████████████████████                                                                              | 31/50 [01:47<00:55,  2.91s/it]"
     ]
    },
    {
     "name": "stdout",
     "output_type": "stream",
     "text": [
      "epoch:31, train accu:0.9913, train loss:0.03\n"
     ]
    },
    {
     "name": "stderr",
     "output_type": "stream",
     "text": [
      "\r",
      " 64%|███████████████████████████████████████████████████████████████████████████████████████████████████████████████████████████████████▏                                                                         | 32/50 [01:50<00:51,  2.84s/it]"
     ]
    },
    {
     "name": "stdout",
     "output_type": "stream",
     "text": [
      "epoch:32, train accu:0.9738, train loss:0.07\n"
     ]
    },
    {
     "name": "stderr",
     "output_type": "stream",
     "text": [
      "\r",
      " 66%|███████████████████████████████████████████████████████████████████████████████████████████████████████████████████████████████████████▎                                                                     | 33/50 [01:53<00:51,  3.01s/it]"
     ]
    },
    {
     "name": "stdout",
     "output_type": "stream",
     "text": [
      "epoch:33, train accu:0.9709, train loss:0.10\n"
     ]
    },
    {
     "name": "stderr",
     "output_type": "stream",
     "text": [
      "\r",
      " 68%|███████████████████████████████████████████████████████████████████████████████████████████████████████████████████████████████████████████▍                                                                 | 34/50 [01:57<00:51,  3.21s/it]"
     ]
    },
    {
     "name": "stdout",
     "output_type": "stream",
     "text": [
      "epoch:34, train accu:0.9869, train loss:0.03\n"
     ]
    },
    {
     "name": "stderr",
     "output_type": "stream",
     "text": [
      "\r",
      " 70%|███████████████████████████████████████████████████████████████████████████████████████████████████████████████████████████████████████████████▌                                                             | 35/50 [02:00<00:49,  3.32s/it]"
     ]
    },
    {
     "name": "stdout",
     "output_type": "stream",
     "text": [
      "epoch:35, train accu:0.9942, train loss:0.03\n"
     ]
    },
    {
     "name": "stderr",
     "output_type": "stream",
     "text": [
      "\r",
      " 72%|███████████████████████████████████████████████████████████████████████████████████████████████████████████████████████████████████████████████████▌                                                         | 36/50 [02:04<00:46,  3.32s/it]"
     ]
    },
    {
     "name": "stdout",
     "output_type": "stream",
     "text": [
      "epoch:36, train accu:0.9971, train loss:0.01\n"
     ]
    },
    {
     "name": "stderr",
     "output_type": "stream",
     "text": [
      "\r",
      " 74%|███████████████████████████████████████████████████████████████████████████████████████████████████████████████████████████████████████████████████████▋                                                     | 37/50 [02:07<00:44,  3.39s/it]"
     ]
    },
    {
     "name": "stdout",
     "output_type": "stream",
     "text": [
      "epoch:37, train accu:0.9971, train loss:0.02\n"
     ]
    },
    {
     "name": "stderr",
     "output_type": "stream",
     "text": [
      "\r",
      " 76%|███████████████████████████████████████████████████████████████████████████████████████████████████████████████████████████████████████████████████████████▊                                                 | 38/50 [02:11<00:41,  3.43s/it]"
     ]
    },
    {
     "name": "stdout",
     "output_type": "stream",
     "text": [
      "epoch:38, train accu:0.9985, train loss:0.00\n"
     ]
    },
    {
     "name": "stderr",
     "output_type": "stream",
     "text": [
      "\r",
      " 78%|███████████████████████████████████████████████████████████████████████████████████████████████████████████████████████████████████████████████████████████████▉                                             | 39/50 [02:14<00:38,  3.47s/it]"
     ]
    },
    {
     "name": "stdout",
     "output_type": "stream",
     "text": [
      "epoch:39, train accu:0.9985, train loss:0.00\n"
     ]
    },
    {
     "name": "stderr",
     "output_type": "stream",
     "text": [
      "\r",
      " 80%|████████████████████████████████████████████████████████████████████████████████████████████████████████████████████████████████████████████████████████████████████                                         | 40/50 [02:18<00:35,  3.51s/it]"
     ]
    },
    {
     "name": "stdout",
     "output_type": "stream",
     "text": [
      "epoch:40, train accu:0.9927, train loss:0.03\n"
     ]
    },
    {
     "name": "stderr",
     "output_type": "stream",
     "text": [
      "\r",
      " 82%|████████████████████████████████████████████████████████████████████████████████████████████████████████████████████████████████████████████████████████████████████████                                     | 41/50 [02:22<00:32,  3.56s/it]"
     ]
    },
    {
     "name": "stdout",
     "output_type": "stream",
     "text": [
      "epoch:41, train accu:0.9782, train loss:0.08\n"
     ]
    },
    {
     "name": "stderr",
     "output_type": "stream",
     "text": [
      "\r",
      " 84%|████████████████████████████████████████████████████████████████████████████████████████████████████████████████████████████████████████████████████████████████████████████▏                                | 42/50 [02:25<00:28,  3.57s/it]"
     ]
    },
    {
     "name": "stdout",
     "output_type": "stream",
     "text": [
      "epoch:42, train accu:0.9913, train loss:0.04\n"
     ]
    },
    {
     "name": "stderr",
     "output_type": "stream",
     "text": [
      "\r",
      " 86%|████████████████████████████████████████████████████████████████████████████████████████████████████████████████████████████████████████████████████████████████████████████████▎                            | 43/50 [02:29<00:24,  3.53s/it]"
     ]
    },
    {
     "name": "stdout",
     "output_type": "stream",
     "text": [
      "epoch:43, train accu:0.9985, train loss:0.01\n"
     ]
    },
    {
     "name": "stderr",
     "output_type": "stream",
     "text": [
      "\r",
      " 88%|████████████████████████████████████████████████████████████████████████████████████████████████████████████████████████████████████████████████████████████████████████████████████▍                        | 44/50 [02:32<00:21,  3.54s/it]"
     ]
    },
    {
     "name": "stdout",
     "output_type": "stream",
     "text": [
      "epoch:44, train accu:0.9840, train loss:0.06\n"
     ]
    },
    {
     "name": "stderr",
     "output_type": "stream",
     "text": [
      "\r",
      " 90%|████████████████████████████████████████████████████████████████████████████████████████████████████████████████████████████████████████████████████████████████████████████████████████▌                    | 45/50 [02:36<00:17,  3.54s/it]"
     ]
    },
    {
     "name": "stdout",
     "output_type": "stream",
     "text": [
      "epoch:45, train accu:0.9869, train loss:0.06\n"
     ]
    },
    {
     "name": "stderr",
     "output_type": "stream",
     "text": [
      "\r",
      " 92%|████████████████████████████████████████████████████████████████████████████████████████████████████████████████████████████████████████████████████████████████████████████████████████████▌                | 46/50 [02:39<00:14,  3.53s/it]"
     ]
    },
    {
     "name": "stdout",
     "output_type": "stream",
     "text": [
      "epoch:46, train accu:0.9855, train loss:0.06\n"
     ]
    },
    {
     "name": "stderr",
     "output_type": "stream",
     "text": [
      "\r",
      " 94%|████████████████████████████████████████████████████████████████████████████████████████████████████████████████████████████████████████████████████████████████████████████████████████████████▋            | 47/50 [02:43<00:10,  3.55s/it]"
     ]
    },
    {
     "name": "stdout",
     "output_type": "stream",
     "text": [
      "epoch:47, train accu:0.9956, train loss:0.01\n"
     ]
    },
    {
     "name": "stderr",
     "output_type": "stream",
     "text": [
      "\r",
      " 96%|████████████████████████████████████████████████████████████████████████████████████████████████████████████████████████████████████████████████████████████████████████████████████████████████████▊        | 48/50 [02:49<00:08,  4.16s/it]"
     ]
    },
    {
     "name": "stdout",
     "output_type": "stream",
     "text": [
      "epoch:48, train accu:0.9985, train loss:0.00\n"
     ]
    },
    {
     "name": "stderr",
     "output_type": "stream",
     "text": [
      "\r",
      " 98%|████████████████████████████████████████████████████████████████████████████████████████████████████████████████████████████████████████████████████████████████████████████████████████████████████████▉    | 49/50 [02:52<00:03,  3.99s/it]"
     ]
    },
    {
     "name": "stdout",
     "output_type": "stream",
     "text": [
      "epoch:49, train accu:0.9869, train loss:0.04\n"
     ]
    },
    {
     "name": "stderr",
     "output_type": "stream",
     "text": [
      "100%|█████████████████████████████████████████████████████████████████████████████████████████████████████████████████████████████████████████████████████████████████████████████████████████████████████████████| 50/50 [02:55<00:00,  3.52s/it]"
     ]
    },
    {
     "name": "stdout",
     "output_type": "stream",
     "text": [
      "epoch:50, train accu:0.9942, train loss:0.01\n"
     ]
    },
    {
     "name": "stderr",
     "output_type": "stream",
     "text": [
      "\n"
     ]
    }
   ],
   "source": [
    "from tqdm import tqdm\n",
    "from torchsummary import summary\n",
    "import torch.optim as optim\n",
    "\n",
    "model = ICASSP3CNN(1024, 24)\n",
    "model = model.to(device)\n",
    "criterion = nn.CrossEntropyLoss()\n",
    "optimizer = optim.Adam(model.parameters(), lr=0.001)\n",
    "\n",
    "epochs = 50\n",
    "train_losses = []\n",
    "train_accuracies = []\n",
    "valid_losses = []\n",
    "valid_accuracies = []\n",
    "\n",
    "for epoch in tqdm(range(epochs)):\n",
    "    train_loss = 0\n",
    "    acc_cnt = 0\n",
    "    err_cnt = 0\n",
    "    batch_cnt = 0\n",
    "    model.train()\n",
    "    for batch, (x, length, y) in enumerate(train_dataloader):\n",
    "        x = x.to(device)\n",
    "        y = y.to(device)\n",
    "        optimizer.zero_grad()\n",
    "        logits = model(x, length)\n",
    "        loss = criterion(logits, y)\n",
    "        loss.backward()\n",
    "        optimizer.step()\n",
    "        train_loss += loss.cpu().item()\n",
    "\n",
    "        #model outputs\n",
    "        out_val, out_indices = torch.max(logits, dim=1)\n",
    "        tar_indices = y\n",
    "\n",
    "        for i in range(len(out_indices)):\n",
    "            if out_indices[i] == tar_indices[i]:\n",
    "                acc_cnt += 1\n",
    "            else:\n",
    "                err_cnt += 1\n",
    "        batch_cnt += 1\n",
    "    \n",
    "    train_loss = train_loss/batch_cnt\n",
    "    train_accuracy = acc_cnt/(acc_cnt+err_cnt)\n",
    "    train_accuracies.append(train_accuracy)\n",
    "    train_losses.append(train_loss)\n",
    "    \n",
    "    print(f\"epoch:{epoch+1}, train accu:{train_accuracy:.4f},\", f\"train loss:{train_loss:.2f}\")"
   ]
  },
  {
   "cell_type": "markdown",
   "id": "b6f39dc8",
   "metadata": {},
   "source": [
    "### Model Test"
   ]
  },
  {
   "cell_type": "code",
   "execution_count": 34,
   "id": "461a176a",
   "metadata": {},
   "outputs": [
    {
     "name": "stdout",
     "output_type": "stream",
     "text": [
      "test accuracy: 0.7758620689655172\n"
     ]
    }
   ],
   "source": [
    "test_loss = 0\n",
    "acc_cnt = 0\n",
    "err_cnt = 0\n",
    "batch_cnt = 0\n",
    "model.eval()\n",
    "\n",
    "for x, lengths, y in test_dataloader:\n",
    "\n",
    "    x = x.to(device)\n",
    "    y = y.to(device)\n",
    "\n",
    "    logits = model(x, lengths)\n",
    "    loss = criterion(logits, y)\n",
    "    test_loss += loss.cpu().item()\n",
    "\n",
    "    out_val, out_indices = torch.max(logits, dim=1)\n",
    "    tar_indices = y\n",
    "\n",
    "    for i in range(len(out_indices)):\n",
    "        if out_indices[i] == tar_indices[i]:\n",
    "            acc_cnt += 1\n",
    "        else:\n",
    "            err_cnt += 1\n",
    "    batch_cnt += 1\n",
    "\n",
    "test_loss = test_loss/batch_cnt\n",
    "test_accuracy = acc_cnt/(acc_cnt+err_cnt)\n",
    "print(f'test accuracy: {test_accuracy}')"
   ]
  },
  {
   "cell_type": "code",
   "execution_count": 35,
   "id": "1b6c5224",
   "metadata": {},
   "outputs": [
    {
     "name": "stdout",
     "output_type": "stream",
     "text": [
      "aggr.weight tensor([[[ 0.1853],\n",
      "         [ 0.1700],\n",
      "         [-0.2987],\n",
      "         [ 0.1272],\n",
      "         [ 0.0378],\n",
      "         [ 0.1494],\n",
      "         [ 0.1998],\n",
      "         [ 0.1813],\n",
      "         [-0.1428],\n",
      "         [ 0.0274],\n",
      "         [ 0.0150],\n",
      "         [-0.1838],\n",
      "         [-0.0840],\n",
      "         [ 0.1248],\n",
      "         [ 0.0933],\n",
      "         [-0.1215],\n",
      "         [ 0.1407],\n",
      "         [ 0.1621],\n",
      "         [-0.2216],\n",
      "         [-0.1474],\n",
      "         [-0.0096],\n",
      "         [-0.0437],\n",
      "         [ 0.0793],\n",
      "         [ 0.0129]]], device='cuda:0')\n",
      "aggr.bias tensor([-0.0761], device='cuda:0')\n",
      "embed.weight tensor([[ 0.0079, -0.0110,  0.0325,  ..., -0.0374, -0.0165, -0.0765],\n",
      "        [-0.0111, -0.0146,  0.0589,  ...,  0.0037, -0.0636, -0.0021],\n",
      "        [ 0.0061, -0.0016, -0.0219,  ..., -0.0035, -0.0046,  0.0350],\n",
      "        ...,\n",
      "        [ 0.0191,  0.0090, -0.0026,  ...,  0.0267, -0.0291,  0.0932],\n",
      "        [-0.0264,  0.0120, -0.0300,  ..., -0.0263,  0.0100,  0.0666],\n",
      "        [ 0.0686,  0.0719, -0.0277,  ...,  0.0409,  0.0309,  0.0995]],\n",
      "       device='cuda:0')\n",
      "embed.bias tensor([-0.0123, -0.0394, -0.0570, -0.0473,  0.0965, -0.0246, -0.0632,  0.0624,\n",
      "        -0.1170,  0.0102, -0.0406, -0.0153, -0.0182,  0.0025,  0.0429,  0.0269,\n",
      "         0.0083,  0.0167,  0.0043,  0.0233,  0.0630, -0.0156,  0.0773,  0.0113,\n",
      "         0.0246, -0.0355,  0.0160, -0.0539, -0.0009, -0.0101, -0.0602, -0.0505,\n",
      "        -0.0550, -0.0150,  0.0329,  0.0541, -0.0152, -0.0471,  0.0221, -0.0511,\n",
      "         0.0522,  0.0307,  0.0380, -0.0883, -0.0802, -0.0283,  0.0514,  0.0639,\n",
      "         0.0048, -0.0429,  0.0107, -0.0036,  0.0179, -0.0206,  0.0598,  0.0437,\n",
      "        -0.0537,  0.0286, -0.0609, -0.0023, -0.0242,  0.0147,  0.0110,  0.0609,\n",
      "        -0.0533,  0.0517,  0.0047, -0.0232, -0.0097, -0.0326, -0.0152,  0.0074,\n",
      "         0.0100,  0.0221,  0.0561, -0.0529, -0.0094, -0.0096, -0.0488, -0.0136,\n",
      "         0.0590,  0.0016,  0.0015, -0.0528, -0.0133, -0.0538, -0.0174,  0.0002,\n",
      "        -0.0069, -0.0225,  0.0206, -0.0621, -0.0237, -0.0528,  0.0446, -0.0766,\n",
      "        -0.0600,  0.0161, -0.0440, -0.0442,  0.0054, -0.0171, -0.0196,  0.0099,\n",
      "        -0.0192, -0.0460,  0.0487, -0.0541,  0.0061, -0.0357, -0.0314,  0.0102,\n",
      "        -0.0368,  0.0139, -0.0201, -0.0327,  0.0329, -0.0022, -0.0099,  0.0308,\n",
      "        -0.0314,  0.0066, -0.0208,  0.0374,  0.0195, -0.0195,  0.0286,  0.0577],\n",
      "       device='cuda:0')\n",
      "cnn.weight tensor([[[ 3.5489e-02, -1.2906e-02, -2.6678e-02],\n",
      "         [ 2.4055e-02, -1.7315e-02,  3.7237e-02],\n",
      "         [-2.6058e-02,  4.3094e-03, -6.5546e-05],\n",
      "         ...,\n",
      "         [ 3.8224e-02,  3.9709e-02,  8.0517e-02],\n",
      "         [-1.8251e-02,  1.5439e-02, -3.3140e-02],\n",
      "         [-7.1534e-02, -4.2119e-02, -1.8718e-02]],\n",
      "\n",
      "        [[ 7.3013e-03, -2.9463e-02,  4.9095e-03],\n",
      "         [ 3.3228e-02, -4.6493e-02,  1.1001e-02],\n",
      "         [ 2.7830e-02,  7.6378e-02, -9.1048e-03],\n",
      "         ...,\n",
      "         [ 8.8889e-04,  6.0394e-02, -2.2309e-02],\n",
      "         [ 1.8468e-02,  3.1558e-02, -1.1507e-02],\n",
      "         [ 1.4137e-02, -7.5043e-02, -5.0734e-02]],\n",
      "\n",
      "        [[-6.5263e-02, -1.4829e-02, -4.6955e-02],\n",
      "         [ 4.3100e-03,  3.1585e-02,  1.3730e-02],\n",
      "         [ 4.5778e-02, -1.1152e-02, -4.2446e-02],\n",
      "         ...,\n",
      "         [-2.5264e-02, -2.2713e-02,  3.1569e-02],\n",
      "         [ 1.5261e-03,  3.3314e-03,  2.0036e-02],\n",
      "         [ 5.8967e-02,  8.5987e-02,  4.3358e-02]],\n",
      "\n",
      "        ...,\n",
      "\n",
      "        [[-6.4996e-02, -6.8102e-02, -8.9044e-02],\n",
      "         [-5.6370e-02, -8.8337e-03, -5.1486e-03],\n",
      "         [ 4.0600e-03, -5.3021e-02, -3.7283e-02],\n",
      "         ...,\n",
      "         [ 4.6168e-02, -2.4368e-02,  3.1775e-03],\n",
      "         [-1.0126e-02,  6.7680e-04,  6.2109e-02],\n",
      "         [ 8.9314e-02,  1.2511e-01,  9.7281e-02]],\n",
      "\n",
      "        [[-1.1051e-01, -9.4389e-02, -1.2183e-01],\n",
      "         [ 3.1820e-03, -9.7699e-03, -1.1686e-02],\n",
      "         [-1.7456e-03,  4.4875e-02, -4.6768e-02],\n",
      "         ...,\n",
      "         [ 2.2176e-02,  5.2623e-02,  8.8300e-03],\n",
      "         [ 8.0632e-04,  2.0410e-02,  2.1867e-02],\n",
      "         [ 1.2693e-01,  8.0233e-02,  6.8839e-02]],\n",
      "\n",
      "        [[-6.0907e-03, -3.1640e-02, -4.5636e-02],\n",
      "         [ 1.0734e-05,  1.0594e-02, -1.4480e-02],\n",
      "         [ 3.8092e-02, -3.2626e-02,  3.7048e-02],\n",
      "         ...,\n",
      "         [-7.2261e-03,  6.2100e-02,  2.0949e-02],\n",
      "         [-1.9515e-02, -5.8447e-02,  9.5033e-03],\n",
      "         [-3.4333e-03,  2.8297e-02, -2.3757e-02]]], device='cuda:0')\n",
      "cnn.bias tensor([-0.0357,  0.0319, -0.0101,  0.0451,  0.0333,  0.0165, -0.0078,  0.0366,\n",
      "         0.0143, -0.0355,  0.0063,  0.0254, -0.0203,  0.0487, -0.0032,  0.0012,\n",
      "        -0.0276,  0.0461, -0.0336,  0.0316,  0.0238,  0.0001,  0.0468,  0.0227,\n",
      "         0.0226, -0.0192, -0.0400,  0.0228,  0.0305,  0.0004, -0.0433,  0.0077,\n",
      "         0.0382, -0.0196, -0.0480,  0.0149, -0.0401, -0.0439,  0.0385,  0.0530,\n",
      "         0.0248, -0.0265,  0.0366, -0.0196,  0.0342, -0.0069,  0.0136, -0.0260,\n",
      "        -0.0395, -0.0484,  0.0490, -0.0128, -0.0228,  0.0261,  0.0458, -0.0083,\n",
      "        -0.0095, -0.0512, -0.0556,  0.0493,  0.0033, -0.0276,  0.0539,  0.0210,\n",
      "        -0.0256, -0.0141,  0.0334,  0.0464,  0.0277, -0.0449,  0.0226,  0.0455,\n",
      "        -0.0244,  0.0123, -0.0018, -0.0510, -0.0130,  0.0054, -0.0254,  0.0336,\n",
      "        -0.0521, -0.0385, -0.0101,  0.0065,  0.0116,  0.0185, -0.0210, -0.0215,\n",
      "         0.0213, -0.0071, -0.0031, -0.0288, -0.0073,  0.0429, -0.0439,  0.0433,\n",
      "         0.0220, -0.0072, -0.0077, -0.0327, -0.0003, -0.0248,  0.0029,  0.0033,\n",
      "        -0.0261,  0.0183, -0.0169, -0.0485,  0.0220,  0.0041,  0.0448,  0.0058,\n",
      "        -0.0313, -0.0454,  0.0487, -0.0428,  0.0061, -0.0431, -0.0108, -0.0433,\n",
      "         0.0431,  0.0212,  0.0396, -0.0273,  0.0424,  0.0363,  0.0216,  0.0085],\n",
      "       device='cuda:0')\n",
      "cnn2.weight tensor([[[-9.0038e-02, -7.6311e-02, -3.4019e-02, -4.4770e-02, -2.1183e-02],\n",
      "         [-1.4199e-02, -1.0598e-03, -2.1236e-02,  1.9751e-03, -2.6196e-02],\n",
      "         [-4.9209e-02, -3.8561e-02,  2.1544e-02, -2.1460e-02,  2.1769e-02],\n",
      "         ...,\n",
      "         [ 1.0436e-01,  3.1246e-02,  4.0660e-02, -6.7282e-03, -3.2347e-05],\n",
      "         [ 3.6028e-03, -4.0288e-02, -9.4640e-03, -6.7154e-03, -1.5533e-03],\n",
      "         [ 9.6998e-02,  1.4212e-02,  1.6913e-02,  1.1037e-02, -7.1868e-05]],\n",
      "\n",
      "        [[-3.7795e-02, -4.6576e-02, -5.2881e-02, -9.6292e-02, -7.4412e-02],\n",
      "         [-9.6355e-03, -2.2515e-02, -1.5012e-02, -1.1992e-02, -2.9893e-02],\n",
      "         [-1.0432e-02, -2.6269e-02, -3.3006e-02,  6.4584e-03,  1.8764e-02],\n",
      "         ...,\n",
      "         [ 9.6001e-02,  2.6490e-02,  7.6033e-02,  6.4041e-02,  3.3196e-03],\n",
      "         [ 2.6611e-02,  4.0368e-02,  2.8418e-02, -4.6479e-03,  4.8952e-02],\n",
      "         [ 3.2064e-02,  8.7913e-02,  7.1186e-02,  6.8947e-03,  5.9160e-02]],\n",
      "\n",
      "        [[ 5.5496e-02, -1.4302e-02,  4.0872e-03,  3.8495e-02,  4.9365e-02],\n",
      "         [ 2.8497e-02, -1.0723e-02, -1.0778e-02,  4.7851e-02, -6.0863e-03],\n",
      "         [-2.7347e-02,  5.9917e-03, -8.1658e-03,  1.3412e-02, -2.2080e-03],\n",
      "         ...,\n",
      "         [-3.8789e-02,  2.9488e-03, -6.3356e-03,  7.0550e-03,  1.3931e-03],\n",
      "         [-8.5125e-02, -1.3379e-02, -5.9171e-02, -6.2107e-02, -1.1686e-02],\n",
      "         [-6.5515e-02, -3.3362e-02, -8.7311e-03, -3.1910e-02, -4.6343e-02]],\n",
      "\n",
      "        ...,\n",
      "\n",
      "        [[-7.6657e-03,  2.2228e-02, -2.0807e-02, -3.2628e-02, -6.0072e-03],\n",
      "         [-3.9677e-02, -7.8871e-04,  3.1420e-03,  2.7464e-02, -1.6098e-02],\n",
      "         [-2.2491e-02,  2.6826e-03, -4.9028e-02, -4.0141e-02,  8.9950e-03],\n",
      "         ...,\n",
      "         [ 2.5459e-03, -3.1092e-02,  1.1154e-02, -1.4168e-03,  1.3412e-02],\n",
      "         [ 2.3328e-02,  4.1284e-03,  2.2136e-02,  1.5380e-02, -1.3531e-02],\n",
      "         [ 3.8794e-02, -3.1211e-02,  1.3227e-03, -5.3488e-02, -4.3644e-02]],\n",
      "\n",
      "        [[-1.6881e-02, -6.6057e-02, -5.0050e-02, -9.0987e-03, -2.3275e-02],\n",
      "         [ 2.9820e-03, -2.5037e-02, -1.3265e-02, -3.5146e-02, -1.9397e-02],\n",
      "         [ 1.6940e-02,  2.2146e-02,  6.4173e-03,  3.5801e-02, -2.4195e-02],\n",
      "         ...,\n",
      "         [ 3.1039e-02,  2.1024e-02, -3.9767e-02, -4.9701e-02,  3.0165e-02],\n",
      "         [-7.2673e-03,  4.7609e-02,  1.6833e-02, -1.7494e-02, -1.0883e-02],\n",
      "         [ 3.7654e-03,  7.7698e-03,  5.9003e-02,  3.8209e-02, -1.4187e-02]],\n",
      "\n",
      "        [[-3.3063e-02, -5.1025e-02, -3.3969e-02, -2.6145e-02, -4.0443e-02],\n",
      "         [-3.1528e-02, -1.0834e-02,  4.5663e-02,  4.5841e-02,  5.2133e-02],\n",
      "         [-5.0397e-03, -4.5323e-03, -7.6369e-02, -7.6843e-03, -6.5374e-02],\n",
      "         ...,\n",
      "         [ 1.9791e-02,  1.5032e-02, -6.3930e-02,  8.7076e-03, -3.4681e-02],\n",
      "         [-9.9036e-03,  2.7029e-02,  1.3558e-02, -5.1590e-03, -4.5710e-02],\n",
      "         [-1.1171e-02,  6.2399e-03,  1.2798e-02, -3.1093e-03, -4.7722e-02]]],\n",
      "       device='cuda:0')\n",
      "cnn2.bias tensor([-0.0017,  0.0358, -0.0048, -0.0210,  0.0052, -0.0150,  0.0044, -0.0130,\n",
      "         0.0111,  0.0331, -0.0084,  0.0308,  0.0294,  0.0116,  0.0308,  0.0400,\n",
      "        -0.0280, -0.0110, -0.0178, -0.0226,  0.0185,  0.0228, -0.0065, -0.0280,\n",
      "         0.0208, -0.0226,  0.0175,  0.0068,  0.0233,  0.0146, -0.0032,  0.0284,\n",
      "         0.0377, -0.0238,  0.0129,  0.0270,  0.0217, -0.0073, -0.0129, -0.0251,\n",
      "        -0.0180, -0.0021,  0.0188,  0.0312, -0.0254, -0.0392, -0.0419, -0.0239,\n",
      "        -0.0337, -0.0076, -0.0127,  0.0021,  0.0050,  0.0256,  0.0145,  0.0201,\n",
      "        -0.0425, -0.0240,  0.0406,  0.0216, -0.0251, -0.0360, -0.0321,  0.0040,\n",
      "        -0.0166, -0.0349,  0.0237, -0.0322,  0.0030,  0.0002,  0.0361, -0.0034,\n",
      "        -0.0010,  0.0007, -0.0365,  0.0216, -0.0064, -0.0105,  0.0209,  0.0289,\n",
      "         0.0360, -0.0398, -0.0298, -0.0384,  0.0063, -0.0181,  0.0149,  0.0246,\n",
      "        -0.0287, -0.0319,  0.0248, -0.0123, -0.0282, -0.0225, -0.0154,  0.0104,\n",
      "         0.0124, -0.0279, -0.0046, -0.0188, -0.0096,  0.0056,  0.0085,  0.0123,\n",
      "        -0.0173,  0.0244, -0.0242, -0.0223,  0.0168,  0.0106,  0.0242, -0.0234,\n",
      "         0.0243,  0.0033,  0.0182,  0.0158, -0.0053, -0.0270, -0.0088,  0.0046,\n",
      "        -0.0147, -0.0312, -0.0312,  0.0207,  0.0252, -0.0171, -0.0158,  0.0102],\n",
      "       device='cuda:0')\n",
      "cnn3.weight tensor([[[ 6.7475e-03, -2.1559e-02,  1.4516e-02,  ...,  2.8798e-02,\n",
      "           2.4809e-02,  9.3467e-03],\n",
      "         [-2.0681e-02,  2.8408e-02,  5.5712e-03,  ..., -3.8195e-03,\n",
      "          -1.3748e-02, -1.7238e-02],\n",
      "         [ 8.3319e-03, -2.3281e-02,  1.9010e-03,  ...,  8.8357e-03,\n",
      "           6.6578e-03,  2.1558e-02],\n",
      "         ...,\n",
      "         [-2.3841e-02,  1.5437e-02,  4.5130e-02,  ...,  1.1265e-02,\n",
      "           2.1147e-02,  5.5252e-02],\n",
      "         [ 6.1165e-02, -1.4481e-02, -1.4475e-04,  ...,  5.7733e-02,\n",
      "           3.7035e-02,  8.1784e-02],\n",
      "         [-3.3231e-02, -5.6603e-02, -7.9480e-03,  ..., -5.0905e-02,\n",
      "           2.5821e-02,  8.9816e-03]],\n",
      "\n",
      "        [[-1.2748e-02,  2.7265e-03,  1.4166e-02,  ...,  3.9991e-03,\n",
      "           3.4165e-03, -1.0139e-02],\n",
      "         [-2.6990e-02, -1.5879e-02,  1.8869e-02,  ...,  6.1182e-03,\n",
      "           4.6873e-04,  1.4562e-03],\n",
      "         [ 2.9540e-02, -9.5470e-03, -3.4619e-02,  ..., -1.2534e-02,\n",
      "          -3.9895e-04,  3.5464e-02],\n",
      "         ...,\n",
      "         [ 5.8458e-02,  2.1206e-02,  3.0099e-02,  ...,  3.4770e-02,\n",
      "           2.7075e-02, -1.2497e-02],\n",
      "         [ 8.1072e-02,  5.5878e-02,  8.8515e-02,  ...,  3.3120e-02,\n",
      "           3.5712e-02,  5.7001e-02],\n",
      "         [-3.6334e-02,  1.4159e-02,  3.1112e-02,  ...,  8.4273e-02,\n",
      "           7.7475e-02,  7.7055e-02]],\n",
      "\n",
      "        [[-3.3139e-02,  3.9844e-03,  1.1684e-02,  ..., -2.2977e-03,\n",
      "           1.9999e-02,  2.4443e-03],\n",
      "         [ 3.4610e-02,  4.9047e-02,  8.7996e-03,  ..., -8.1201e-03,\n",
      "          -3.3561e-02, -3.1109e-02],\n",
      "         [-2.5112e-05,  1.4624e-02, -7.0505e-03,  ..., -1.0403e-03,\n",
      "           2.9697e-02,  3.5747e-02],\n",
      "         ...,\n",
      "         [-1.8232e-02, -5.7754e-02,  6.7034e-03,  ...,  1.1911e-02,\n",
      "           6.2477e-03, -3.2910e-02],\n",
      "         [-7.8652e-03, -8.5294e-03, -3.6365e-02,  ..., -3.6213e-02,\n",
      "          -4.0302e-02, -4.6644e-02],\n",
      "         [-4.4602e-02, -6.0491e-02, -2.0042e-02,  ..., -3.5612e-02,\n",
      "          -8.4046e-02, -4.7995e-02]],\n",
      "\n",
      "        ...,\n",
      "\n",
      "        [[-3.5000e-02, -3.2002e-02, -5.8899e-02,  ..., -5.9592e-02,\n",
      "          -8.2712e-03, -5.4510e-02],\n",
      "         [-2.4191e-02,  9.8587e-03,  2.7183e-02,  ..., -1.6518e-02,\n",
      "          -2.0018e-02, -6.3744e-03],\n",
      "         [-4.1648e-04,  1.6433e-02,  3.1368e-02,  ...,  6.0071e-02,\n",
      "           1.6057e-02, -1.0086e-02],\n",
      "         ...,\n",
      "         [ 3.4565e-02,  5.5872e-02,  5.2995e-02,  ...,  2.9975e-02,\n",
      "           2.2457e-02,  1.2996e-02],\n",
      "         [-1.5142e-02,  3.8346e-03,  5.4116e-03,  ..., -6.2637e-03,\n",
      "           4.5819e-03,  1.0320e-02],\n",
      "         [ 7.8533e-02,  6.1915e-02,  6.7463e-02,  ...,  3.0671e-02,\n",
      "           2.5591e-02,  1.6103e-02]],\n",
      "\n",
      "        [[-1.5173e-02, -9.8898e-04, -2.0522e-02,  ...,  7.8626e-04,\n",
      "           5.2391e-03,  8.4904e-04],\n",
      "         [-8.1313e-03, -1.2794e-02,  3.3312e-02,  ..., -1.8466e-02,\n",
      "           3.1194e-02, -4.5938e-03],\n",
      "         [-8.8438e-03,  2.2685e-02, -6.2552e-03,  ..., -3.7650e-02,\n",
      "          -1.0221e-02, -3.7680e-02],\n",
      "         ...,\n",
      "         [ 4.1735e-02,  1.9791e-03, -1.3063e-02,  ..., -3.0431e-02,\n",
      "          -5.0158e-02,  1.2173e-02],\n",
      "         [ 1.8770e-02,  3.8070e-03, -2.0835e-02,  ..., -3.1676e-02,\n",
      "           3.2893e-02, -1.7356e-02],\n",
      "         [-1.3173e-02, -2.5951e-02, -2.6196e-04,  ...,  3.8112e-02,\n",
      "           4.5125e-02,  1.1922e-02]],\n",
      "\n",
      "        [[ 4.6235e-03, -1.1720e-02, -5.8031e-02,  ..., -6.0011e-02,\n",
      "          -6.2211e-02, -4.6617e-02],\n",
      "         [-2.9643e-02,  2.5415e-02, -7.9001e-03,  ..., -1.6113e-02,\n",
      "          -5.3918e-02, -2.3911e-02],\n",
      "         [ 3.0036e-02,  5.0712e-03,  3.0389e-02,  ..., -1.6401e-02,\n",
      "          -1.3205e-02,  1.6477e-02],\n",
      "         ...,\n",
      "         [ 1.7828e-02,  1.3137e-02,  6.4193e-03,  ...,  2.9043e-02,\n",
      "           2.3903e-02, -1.3524e-02],\n",
      "         [-9.6341e-03,  6.2195e-03,  1.4636e-02,  ..., -2.0907e-02,\n",
      "          -2.6047e-02, -4.4788e-03],\n",
      "         [ 2.8862e-02,  1.8765e-02, -1.0385e-02,  ...,  1.6554e-02,\n",
      "           5.4750e-02,  4.5001e-02]]], device='cuda:0')\n",
      "cnn3.bias tensor([-0.0326,  0.0082,  0.0189, -0.0140, -0.0333, -0.0066,  0.0011,  0.0305,\n",
      "        -0.0099,  0.0246, -0.0014,  0.0095,  0.0008, -0.0325,  0.0318, -0.0240,\n",
      "         0.0012, -0.0007, -0.0347, -0.0008,  0.0208,  0.0198,  0.0099, -0.0071,\n",
      "         0.0125,  0.0171,  0.0264,  0.0240,  0.0218, -0.0078, -0.0120, -0.0193,\n",
      "        -0.0105,  0.0145, -0.0007, -0.0088,  0.0247,  0.0044,  0.0116, -0.0327,\n",
      "         0.0302, -0.0027, -0.0207, -0.0190,  0.0211, -0.0062,  0.0091,  0.0040,\n",
      "         0.0029, -0.0297,  0.0173,  0.0071,  0.0057, -0.0391, -0.0280,  0.0106,\n",
      "         0.0120, -0.0020, -0.0003,  0.0089,  0.0123, -0.0175,  0.0019,  0.0223,\n",
      "         0.0206,  0.0084,  0.0138, -0.0130, -0.0059, -0.0123, -0.0018,  0.0284,\n",
      "        -0.0297, -0.0181, -0.0277,  0.0304,  0.0107, -0.0125, -0.0380, -0.0321,\n",
      "         0.0238,  0.0177, -0.0166, -0.0027,  0.0235,  0.0297,  0.0084,  0.0238,\n",
      "        -0.0137, -0.0340,  0.0203, -0.0138, -0.0186, -0.0047,  0.0207, -0.0080,\n",
      "         0.0086,  0.0321, -0.0220,  0.0032,  0.0133, -0.0090, -0.0280,  0.0065,\n",
      "        -0.0012, -0.0247,  0.0049, -0.0114, -0.0028, -0.0109,  0.0177, -0.0031,\n",
      "        -0.0196, -0.0103, -0.0069,  0.0102, -0.0185,  0.0321,  0.0270,  0.0127,\n",
      "        -0.0155, -0.0296, -0.0063, -0.0207,  0.0006, -0.0275,  0.0316,  0.0086],\n",
      "       device='cuda:0')\n",
      "batchnorm.weight tensor([0.9864, 1.0481, 1.0347, 1.0003, 1.0249, 1.0166, 1.0338, 1.0237, 0.9345,\n",
      "        0.9994, 1.0035, 1.0072, 0.9969, 1.0074, 0.9764, 0.9685, 1.0070, 0.9275,\n",
      "        0.9736, 0.9848, 1.0116, 0.9835, 0.9959, 0.9814, 1.0069, 1.0203, 1.0239,\n",
      "        0.9998, 1.0490, 1.0119, 0.9997, 1.0397, 1.0272, 1.0060, 0.9876, 1.0034,\n",
      "        0.9384, 1.0264, 0.9337, 1.0104, 1.0294, 1.0262, 0.9779, 1.0278, 0.9784,\n",
      "        0.9842, 1.0289, 1.0056, 1.0192, 1.0295, 1.0195, 0.9328, 0.9476, 1.0138,\n",
      "        0.9228, 1.0019, 1.0373, 1.0210, 1.0258, 1.0131, 1.0193, 1.0094, 1.0242,\n",
      "        1.0076, 0.9701, 1.0267, 1.0280, 1.0093, 0.9750, 1.0043, 0.9879, 0.9701,\n",
      "        0.9915, 1.0319, 0.9732, 1.0195, 1.0097, 1.0154, 1.0265, 0.9907, 0.9730,\n",
      "        0.9484, 0.9738, 1.0210, 1.0198, 0.9851, 0.9794, 0.9963, 0.9371, 0.9469,\n",
      "        1.0081, 1.0205, 1.0307, 0.9681, 0.9930, 0.9911, 1.0263, 1.0061, 0.9370,\n",
      "        1.0127, 0.9896, 0.9942, 1.0221, 1.0132, 0.9950, 1.0146, 0.9577, 0.9829,\n",
      "        0.9811, 1.0098, 0.9441, 1.0194, 0.9977, 1.0053, 1.0315, 0.9875, 1.0253,\n",
      "        0.9904, 1.0285, 0.9838, 1.0017, 1.0014, 1.0138, 1.0142, 1.0252, 1.0151,\n",
      "        1.0058, 0.9948, 0.9853, 1.0378, 1.0550, 0.9530, 1.0190, 1.0206, 1.0048,\n",
      "        1.0298, 1.0218, 0.9633, 0.9941, 1.0383, 1.0205, 1.0166, 1.0075, 0.9854,\n",
      "        1.0082, 1.0055, 1.0312, 0.9929, 1.0245, 1.0120, 0.9058, 1.0042, 1.0294,\n",
      "        1.0138, 1.0144, 1.0212, 1.0148, 1.0093, 1.0130, 1.0111, 1.0303, 0.9555,\n",
      "        0.9727, 1.0192, 0.9925, 1.0305, 0.9772, 0.9708, 1.0385, 1.0140, 1.0281,\n",
      "        1.0009, 0.9998, 0.9515, 1.0283, 1.0252, 0.9801, 1.0119, 0.9974, 0.9674,\n",
      "        0.9893, 1.0131, 0.9808, 1.0418, 0.9943, 1.0413, 1.0228, 0.9989, 0.9952,\n",
      "        1.0327, 0.9894, 0.9583, 1.0367, 1.0413, 0.9542, 1.0277, 1.0001, 0.9773,\n",
      "        1.0267, 0.9861, 1.0029, 1.0028, 0.9448, 1.0003, 0.9996, 1.0648, 1.0111,\n",
      "        0.9733, 1.0190, 0.9901, 1.0122, 0.9964, 1.0302, 1.0149, 0.9651, 1.0071,\n",
      "        1.0119, 0.9985, 1.0225, 0.9804, 1.0012, 1.0087, 0.9815, 1.0222, 1.0004,\n",
      "        0.9938, 1.0259, 0.9925, 0.9973, 1.0086, 1.0276, 0.9754, 1.0163, 0.9399,\n",
      "        1.0119, 1.0254, 0.9082, 0.9901, 0.9738, 0.9999, 1.0330, 1.0431, 0.9886,\n",
      "        1.0161, 1.0511, 0.9967, 1.0402, 1.0606, 1.0025, 1.0389, 1.0165, 0.9829,\n",
      "        1.0019, 0.9878, 1.0031, 0.9998, 0.9804, 0.9796, 1.0168, 1.0371, 1.0312,\n",
      "        1.0607, 0.9510, 1.0387, 1.0631, 1.0329, 0.9928, 1.0448, 1.0188, 1.0106,\n",
      "        1.0011, 1.0058, 1.0193, 0.9931, 0.9933, 1.0077, 1.0185, 1.0193, 1.0710,\n",
      "        0.9735, 1.0026, 1.0111, 1.0058, 1.0260, 1.0410, 1.0453, 0.9964, 0.9631,\n",
      "        1.0186, 1.0238, 1.0317, 1.0527, 1.0328, 1.0531, 1.0051, 1.0719, 1.0123,\n",
      "        1.0192, 1.0121, 1.0226, 1.0237, 0.9962, 0.9870, 1.0503, 0.9540, 1.0223,\n",
      "        1.0362, 1.0206, 1.0335, 1.0191, 1.0211, 1.0124, 1.0135, 0.9940, 0.9959,\n",
      "        1.0000, 1.0146, 1.0307, 1.0275, 1.0580, 0.9955, 0.9897, 1.0203, 1.0002,\n",
      "        0.9910, 1.0079, 1.0186, 1.0157, 1.0358, 1.0212, 1.0064, 1.0230, 0.9735,\n",
      "        1.0370, 1.0259, 1.0144, 1.0575, 1.0406, 1.0119, 1.0267, 1.0369, 0.9895,\n",
      "        1.0071, 1.0517, 0.9919, 1.0273, 1.0363, 1.0195, 0.9940, 1.0205, 1.0242,\n",
      "        1.0121, 1.0455, 1.0192, 1.0137, 0.9842, 1.0001, 1.0219, 1.0497, 0.9941,\n",
      "        1.0025, 0.9817, 1.0542, 1.0242, 1.0173, 1.0157, 0.9626, 1.0185, 0.9971,\n",
      "        1.0733, 1.0091, 1.0145, 1.0269, 1.0240, 1.0327, 1.0199, 1.0051, 1.0346,\n",
      "        1.0525, 1.0657, 0.9976, 1.0222, 1.0326, 1.0002], device='cuda:0')\n",
      "batchnorm.bias tensor([-0.0307, -0.0052, -0.0241, -0.0111,  0.0026, -0.0327, -0.0069, -0.0205,\n",
      "        -0.0575, -0.0214, -0.0329, -0.0362, -0.0352, -0.0082, -0.0472, -0.0502,\n",
      "        -0.0020, -0.0598, -0.0521, -0.0171, -0.0033, -0.0554, -0.0460, -0.0392,\n",
      "        -0.0546, -0.0138,  0.0007, -0.0275,  0.0091, -0.0115, -0.0132,  0.0175,\n",
      "        -0.0293, -0.0078, -0.0184, -0.0388, -0.0565,  0.0002, -0.0769, -0.0287,\n",
      "        -0.0029, -0.0201, -0.0541, -0.0308, -0.0508, -0.0338, -0.0024, -0.0459,\n",
      "        -0.0310,  0.0214,  0.0009, -0.0922, -0.0459,  0.0098, -0.0884, -0.0382,\n",
      "         0.0049, -0.0269, -0.0087, -0.0369, -0.0012,  0.0177, -0.0172,  0.0029,\n",
      "        -0.0645, -0.0172,  0.0019, -0.0450, -0.0362, -0.0287, -0.0187, -0.0314,\n",
      "        -0.0413, -0.0111, -0.0539, -0.0042, -0.0364, -0.0396, -0.0330, -0.0435,\n",
      "        -0.0166, -0.0428, -0.0629, -0.0379, -0.0053, -0.0527, -0.0267, -0.0281,\n",
      "        -0.0641, -0.0917,  0.0044, -0.0174, -0.0289, -0.0331, -0.0108,  0.0095,\n",
      "         0.0032, -0.0130, -0.0610, -0.0287, -0.0546, -0.0479, -0.0335,  0.0008,\n",
      "        -0.0066, -0.0465, -0.0494, -0.0319, -0.0319, -0.0164, -0.0697, -0.0139,\n",
      "        -0.0192, -0.0368, -0.0080, -0.0309, -0.0122, -0.0215,  0.0124, -0.0587,\n",
      "        -0.0230, -0.0710, -0.0164, -0.0302, -0.0294, -0.0292, -0.0357, -0.0335,\n",
      "        -0.0347, -0.0259,  0.0011, -0.0164, -0.0135, -0.0287, -0.0345, -0.0196,\n",
      "        -0.0473, -0.0522, -0.0089, -0.0420, -0.0305, -0.0005, -0.0560, -0.0228,\n",
      "        -0.0270, -0.0044,  0.0100, -0.0300, -0.0399,  0.0045, -0.1013, -0.0462,\n",
      "        -0.0222,  0.0123, -0.0305,  0.0023, -0.0589, -0.0328, -0.0140, -0.0099,\n",
      "        -0.0018, -0.0786, -0.0536, -0.0274, -0.0257, -0.0172, -0.0346, -0.0492,\n",
      "        -0.0098, -0.0045, -0.0005, -0.0478, -0.0442, -0.0548, -0.0018, -0.0238,\n",
      "        -0.0181, -0.0251, -0.0397, -0.0684, -0.0244, -0.0076, -0.0295, -0.0129,\n",
      "        -0.0354, -0.0031, -0.0198, -0.0315, -0.0106, -0.0064, -0.0311, -0.0503,\n",
      "        -0.0114, -0.0068, -0.0461,  0.0062, -0.0240, -0.0504, -0.0172, -0.0108,\n",
      "        -0.0227, -0.0031, -0.0396, -0.0389, -0.0542,  0.0162, -0.0247, -0.0514,\n",
      "        -0.0067, -0.0595, -0.0018, -0.0113, -0.0203, -0.0155, -0.0460, -0.0387,\n",
      "         0.0030, -0.0396, -0.0146, -0.0126, -0.0343,  0.0076, -0.0271, -0.0308,\n",
      "        -0.0257, -0.0342, -0.0035, -0.0262, -0.0540,  0.0239,  0.0006, -0.0212,\n",
      "         0.0056, -0.0874, -0.0479, -0.0071, -0.1169, -0.0386, -0.0344,  0.0070,\n",
      "        -0.0270, -0.0233, -0.0532, -0.0347,  0.0126, -0.0512,  0.0140, -0.0204,\n",
      "        -0.0280, -0.0184, -0.0358, -0.0357, -0.0298, -0.0072, -0.0287, -0.0252,\n",
      "        -0.0878, -0.0488, -0.0186, -0.0024,  0.0036,  0.0091, -0.0717, -0.0048,\n",
      "        -0.0402, -0.0189,  0.0030,  0.0254,  0.0075, -0.0187, -0.0103, -0.0130,\n",
      "        -0.0445, -0.0265, -0.0459, -0.0377, -0.0225, -0.0169, -0.0066, -0.0231,\n",
      "        -0.0249, -0.0259, -0.0258, -0.0108,  0.0117, -0.0265, -0.0185, -0.0507,\n",
      "         0.0065, -0.0355, -0.0334, -0.0216, -0.0118,  0.0209, -0.0128, -0.0152,\n",
      "        -0.0234, -0.0068, -0.0242, -0.0324, -0.0064, -0.0222, -0.0118,  0.0082,\n",
      "        -0.0453, -0.0044, -0.0269, -0.0393, -0.0193,  0.0028,  0.0017, -0.0148,\n",
      "        -0.0325, -0.0059, -0.0160, -0.0482, -0.0324, -0.0395, -0.0215, -0.0091,\n",
      "        -0.0080, -0.0094, -0.0390, -0.0330, -0.0303, -0.0445, -0.0092, -0.0277,\n",
      "        -0.0185,  0.0112,  0.0065, -0.0193, -0.0579, -0.0181, -0.0159, -0.0137,\n",
      "        -0.0220,  0.0105, -0.0333, -0.0073, -0.0299, -0.0607, -0.0349,  0.0157,\n",
      "        -0.0367, -0.0302, -0.0132,  0.0029, -0.0398, -0.0142, -0.0219, -0.0094,\n",
      "         0.0026, -0.0083, -0.0109, -0.0255, -0.0178, -0.0231, -0.0247, -0.0214,\n",
      "        -0.0322, -0.0406, -0.0126, -0.0450, -0.0239, -0.0397, -0.0563, -0.0125,\n",
      "        -0.0260, -0.0132, -0.0338, -0.0349, -0.0202, -0.0362, -0.0252, -0.0310,\n",
      "        -0.0248,  0.0064,  0.0004, -0.0278, -0.0335, -0.0177, -0.0073, -0.0315],\n",
      "       device='cuda:0')\n",
      "lstm.weight_ih_l0 tensor([[ 0.0148, -0.0105, -0.0507,  ..., -0.0814, -0.0369, -0.0014],\n",
      "        [ 0.0467, -0.0187,  0.0038,  ..., -0.0230,  0.0681,  0.0122],\n",
      "        [-0.0209, -0.0306,  0.0837,  ...,  0.0346,  0.0854,  0.0212],\n",
      "        ...,\n",
      "        [-0.0567, -0.0406,  0.0078,  ..., -0.0040, -0.0161, -0.0464],\n",
      "        [ 0.0016, -0.0385, -0.0582,  ..., -0.0618, -0.0232,  0.0269],\n",
      "        [ 0.0257, -0.0061,  0.0297,  ..., -0.0217,  0.0056,  0.0036]],\n",
      "       device='cuda:0')\n",
      "lstm.weight_hh_l0 tensor([[-0.0564, -0.0144,  0.0094,  ...,  0.0175, -0.0003, -0.0023],\n",
      "        [-0.0432,  0.0208, -0.0344,  ..., -0.0257,  0.0186,  0.0098],\n",
      "        [ 0.0479, -0.0024,  0.0452,  ..., -0.0028, -0.0215, -0.0098],\n",
      "        ...,\n",
      "        [ 0.0061, -0.0460,  0.0172,  ...,  0.0281, -0.0020,  0.0194],\n",
      "        [-0.0128,  0.0201,  0.0164,  ..., -0.0153, -0.0258, -0.0234],\n",
      "        [-0.0242, -0.0399,  0.0339,  ..., -0.0164, -0.0123,  0.0490]],\n",
      "       device='cuda:0')\n",
      "lstm.bias_ih_l0 tensor([-0.0399, -0.0106, -0.0205,  ..., -0.0656,  0.0013, -0.0223],\n",
      "       device='cuda:0')\n",
      "lstm.bias_hh_l0 tensor([-0.0471,  0.0397,  0.0224,  ..., -0.0133, -0.0275, -0.0182],\n",
      "       device='cuda:0')\n",
      "lstm.weight_ih_l1 tensor([[-0.0542, -0.0207, -0.0521,  ...,  0.0127,  0.0182,  0.0163],\n",
      "        [ 0.0262, -0.0710, -0.0245,  ..., -0.0175, -0.0051,  0.0362],\n",
      "        [-0.0502,  0.0088,  0.0075,  ...,  0.0262,  0.0342, -0.0574],\n",
      "        ...,\n",
      "        [ 0.0480, -0.0041, -0.0293,  ..., -0.0350, -0.0084,  0.0213],\n",
      "        [-0.0192,  0.0184,  0.0845,  ..., -0.0110,  0.0192,  0.0753],\n",
      "        [-0.0274,  0.0265,  0.0051,  ...,  0.0150, -0.0026, -0.0006]],\n",
      "       device='cuda:0')\n",
      "lstm.weight_hh_l1 tensor([[ 0.0398, -0.0110, -0.0224,  ...,  0.0371,  0.0198,  0.0003],\n",
      "        [ 0.0177,  0.0409,  0.0348,  ...,  0.0085,  0.0636, -0.0329],\n",
      "        [ 0.0480,  0.0187,  0.0118,  ...,  0.0497,  0.0004, -0.0174],\n",
      "        ...,\n",
      "        [ 0.0497, -0.0673,  0.0146,  ..., -0.0032,  0.0022,  0.0259],\n",
      "        [-0.0076,  0.0284,  0.0142,  ...,  0.0042, -0.0339, -0.0094],\n",
      "        [-0.0393, -0.0438,  0.0056,  ..., -0.0213,  0.0211, -0.0665]],\n",
      "       device='cuda:0')\n",
      "lstm.bias_ih_l1 tensor([-0.0680, -0.0119, -0.0240,  ...,  0.0265,  0.0092, -0.0506],\n",
      "       device='cuda:0')\n",
      "lstm.bias_hh_l1 tensor([-0.1001,  0.0608, -0.0414,  ...,  0.0287,  0.0094, -0.0692],\n",
      "       device='cuda:0')\n",
      "linear.weight tensor([[ 0.0057, -0.0510,  0.0687,  ...,  0.0558, -0.0186,  0.0007],\n",
      "        [ 0.0056,  0.0395, -0.0003,  ..., -0.0590, -0.1343, -0.0040],\n",
      "        [ 0.0020, -0.0667, -0.0430,  ...,  0.0416,  0.0999,  0.0555],\n",
      "        [ 0.0382,  0.0418,  0.0380,  ..., -0.0190, -0.0010, -0.0754],\n",
      "        [ 0.0218, -0.0741, -0.0482,  ..., -0.0563,  0.0516, -0.0124],\n",
      "        [-0.0341,  0.0223, -0.0603,  ..., -0.0619,  0.0831, -0.0301]],\n",
      "       device='cuda:0')\n",
      "linear.bias tensor([ 0.0319, -0.0343, -0.0098, -0.0580,  0.0189,  0.0106], device='cuda:0')\n"
     ]
    }
   ],
   "source": [
    "for name, param in model.named_parameters():\n",
    "    if param.requires_grad:\n",
    "        print(name, param.data)"
   ]
  }
 ],
 "metadata": {
  "kernelspec": {
   "display_name": "Python 3",
   "language": "python",
   "name": "python3"
  },
  "language_info": {
   "codemirror_mode": {
    "name": "ipython",
    "version": 3
   },
   "file_extension": ".py",
   "mimetype": "text/x-python",
   "name": "python",
   "nbconvert_exporter": "python",
   "pygments_lexer": "ipython3",
   "version": "3.7.12"
  }
 },
 "nbformat": 4,
 "nbformat_minor": 5
}
