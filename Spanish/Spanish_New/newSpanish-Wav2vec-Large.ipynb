{
 "cells": [
  {
   "cell_type": "code",
   "execution_count": 1,
   "id": "fcff203e",
   "metadata": {},
   "outputs": [],
   "source": [
    "import re\n",
    "import os\n",
    "import pandas as pd\n",
    "import random\n",
    "from tqdm import tqdm \n",
    "\n",
    "file_paths, file_names, emotions, audios = [], [], [], []\n",
    "emotion_map = {'Neutral': 'neutral', 'Anger': 'angry', 'Happiness': 'happy', 'Sadness': 'sad', 'Fear': 'fear',\n",
    "              'Disgust': 'disgust'}\n",
    "\n",
    "main_path = '/home/rl3155/Multilingual-Speech-Emotion-Recognition-System/Spanish/Spanish_New'\n",
    "DATA_NATURAL = \"/home/rl3155/MESD_All\""
   ]
  },
  {
   "cell_type": "code",
   "execution_count": 2,
   "id": "371d6085",
   "metadata": {},
   "outputs": [
    {
     "name": "stdout",
     "output_type": "stream",
     "text": [
      "1.12.1\n",
      "0.12.1+cu113\n",
      "cuda\n"
     ]
    }
   ],
   "source": [
    "import torch\n",
    "import torchaudio\n",
    "\n",
    "print(torch.__version__)\n",
    "print(torchaudio.__version__)\n",
    "\n",
    "torch.random.manual_seed(0)\n",
    "device = torch.device(\"cuda\" if torch.cuda.is_available() else \"cpu\")\n",
    "\n",
    "print(device)"
   ]
  },
  {
   "cell_type": "code",
   "execution_count": 3,
   "id": "4675fdb9",
   "metadata": {},
   "outputs": [
    {
     "name": "stdout",
     "output_type": "stream",
     "text": [
      "<class 'torchaudio.models.wav2vec2.model.Wav2Vec2Model'>\n",
      "16000\n"
     ]
    }
   ],
   "source": [
    "bundle = torchaudio.pipelines.WAV2VEC2_LARGE\n",
    "extractor = bundle.get_model()\n",
    "print(extractor.__class__)\n",
    "print(bundle.sample_rate)"
   ]
  },
  {
   "cell_type": "markdown",
   "id": "682ce5bd",
   "metadata": {},
   "source": [
    "### Random get 5 parts of the entries -- only run code below 1 time"
   ]
  },
  {
   "cell_type": "code",
   "execution_count": 4,
   "id": "af158f24",
   "metadata": {},
   "outputs": [
    {
     "name": "stderr",
     "output_type": "stream",
     "text": [
      "100%|███████████████████████████████████████████████████████████████████████████████████████████████████████████████████████████████████████████████████████████████████████████████████████████████████████| 863/863 [00:00<00:00, 518134.03it/s]\n"
     ]
    }
   ],
   "source": [
    "# Define path to datasets; create a random chunked 5 parts of entries\n",
    "# entries = os.listdir(DATA_NATURAL)\n",
    "# random.shuffle(entries)\n",
    "# session = []\n",
    "# equal_parts = (len(entries)-1)//5 # for equally split the entries into 5 parts\n",
    "# count = 0\n",
    "# for i in tqdm(range(len(entries))):\n",
    "#     entry = entries[i]\n",
    "#     if \"wav\" not in entry:\n",
    "#         continue\n",
    "#     path = DATA_NATURAL + \"/\" + entry\n",
    "#     emotion = emotion_map[entry.split(\"_\")[0]]\n",
    "#     file_paths.append(path)\n",
    "#     file_names.append(entry)\n",
    "#     emotions.append(emotion)\n",
    "    \n",
    "#     # assign session to it\n",
    "#     part = (count//equal_parts)%6 + 1\n",
    "#     if part == 6:\n",
    "#         part = 5\n",
    "#     session.append(part)\n",
    "#     count += 1\n",
    "\n",
    "# file = pd.DataFrame({'path':file_paths, 'name': file_names, 'emotion': emotions, 'session': session})\n",
    "# dataframe_path = main_path + '/session_entries.csv'\n",
    "# file.to_csv(dataframe_path)"
   ]
  },
  {
   "cell_type": "markdown",
   "id": "45ea79eb",
   "metadata": {},
   "source": [
    "### Extract Features using Models"
   ]
  },
  {
   "cell_type": "code",
   "execution_count": 4,
   "id": "b89c352b",
   "metadata": {},
   "outputs": [
    {
     "data": {
      "text/html": [
       "<div>\n",
       "<style scoped>\n",
       "    .dataframe tbody tr th:only-of-type {\n",
       "        vertical-align: middle;\n",
       "    }\n",
       "\n",
       "    .dataframe tbody tr th {\n",
       "        vertical-align: top;\n",
       "    }\n",
       "\n",
       "    .dataframe thead th {\n",
       "        text-align: right;\n",
       "    }\n",
       "</style>\n",
       "<table border=\"1\" class=\"dataframe\">\n",
       "  <thead>\n",
       "    <tr style=\"text-align: right;\">\n",
       "      <th></th>\n",
       "      <th>path</th>\n",
       "      <th>name</th>\n",
       "      <th>emotion</th>\n",
       "      <th>session</th>\n",
       "    </tr>\n",
       "  </thead>\n",
       "  <tbody>\n",
       "    <tr>\n",
       "      <th>0</th>\n",
       "      <td>/home/rl3155/MESD_All/Fear_F_A_basta_ya.wav</td>\n",
       "      <td>Fear_F_A_basta_ya.wav</td>\n",
       "      <td>fear</td>\n",
       "      <td>1</td>\n",
       "    </tr>\n",
       "    <tr>\n",
       "      <th>1</th>\n",
       "      <td>/home/rl3155/MESD_All/Happiness_M_A_arriba.wav</td>\n",
       "      <td>Happiness_M_A_arriba.wav</td>\n",
       "      <td>happy</td>\n",
       "      <td>1</td>\n",
       "    </tr>\n",
       "    <tr>\n",
       "      <th>2</th>\n",
       "      <td>/home/rl3155/MESD_All/Fear_F_B_arana.wav</td>\n",
       "      <td>Fear_F_B_arana.wav</td>\n",
       "      <td>fear</td>\n",
       "      <td>1</td>\n",
       "    </tr>\n",
       "    <tr>\n",
       "      <th>3</th>\n",
       "      <td>/home/rl3155/MESD_All/Neutral_M_B_articulo.wav</td>\n",
       "      <td>Neutral_M_B_articulo.wav</td>\n",
       "      <td>neutral</td>\n",
       "      <td>1</td>\n",
       "    </tr>\n",
       "    <tr>\n",
       "      <th>4</th>\n",
       "      <td>/home/rl3155/MESD_All/Disgust_F_A_antes.wav</td>\n",
       "      <td>Disgust_F_A_antes.wav</td>\n",
       "      <td>disgust</td>\n",
       "      <td>1</td>\n",
       "    </tr>\n",
       "  </tbody>\n",
       "</table>\n",
       "</div>"
      ],
      "text/plain": [
       "                                             path                      name  \\\n",
       "0     /home/rl3155/MESD_All/Fear_F_A_basta_ya.wav     Fear_F_A_basta_ya.wav   \n",
       "1  /home/rl3155/MESD_All/Happiness_M_A_arriba.wav  Happiness_M_A_arriba.wav   \n",
       "2        /home/rl3155/MESD_All/Fear_F_B_arana.wav        Fear_F_B_arana.wav   \n",
       "3  /home/rl3155/MESD_All/Neutral_M_B_articulo.wav  Neutral_M_B_articulo.wav   \n",
       "4     /home/rl3155/MESD_All/Disgust_F_A_antes.wav     Disgust_F_A_antes.wav   \n",
       "\n",
       "   emotion  session  \n",
       "0     fear        1  \n",
       "1    happy        1  \n",
       "2     fear        1  \n",
       "3  neutral        1  \n",
       "4  disgust        1  "
      ]
     },
     "execution_count": 4,
     "metadata": {},
     "output_type": "execute_result"
    }
   ],
   "source": [
    "# Get the entries with assigned session\n",
    "\n",
    "dataframe_path = '/home/rl3155/Multilingual-Speech-Emotion-Recognition-System/Spanish/session_entries.csv'\n",
    "file = pd.read_csv(dataframe_path)[['path', 'name', 'emotion', 'session']]\n",
    "file.head()"
   ]
  },
  {
   "cell_type": "code",
   "execution_count": 5,
   "id": "9dcc58f6",
   "metadata": {},
   "outputs": [
    {
     "name": "stderr",
     "output_type": "stream",
     "text": [
      "100%|██████████████████████████████████████████████████████████████████████████████████████████████████████████████████████████████████████████████████████████████████████████████████████████████████████████| 862/862 [05:23<00:00,  2.66it/s]\n"
     ]
    }
   ],
   "source": [
    "from tqdm import tqdm\n",
    "\n",
    "for i in tqdm(range(len(file['path']))):\n",
    "    path = file['path'][i]\n",
    "    wave, sr = torchaudio.load(path)\n",
    "    if sr != bundle.sample_rate:\n",
    "        wave = torchaudio.functional.resample(wave, sr, bundle.sample_rate)\n",
    "    with torch.inference_mode():\n",
    "        feature, _ = extractor.extract_features(wave)\n",
    "    feature = [f[0] for f in feature]\n",
    "    audio = torch.stack(feature)\n",
    "    audios.append(audio)"
   ]
  },
  {
   "cell_type": "code",
   "execution_count": 7,
   "id": "de6642eb",
   "metadata": {},
   "outputs": [],
   "source": [
    "# file['audio'] = audios"
   ]
  },
  {
   "cell_type": "markdown",
   "id": "9558abec",
   "metadata": {},
   "source": [
    "### Load Data"
   ]
  },
  {
   "cell_type": "code",
   "execution_count": 52,
   "id": "71a55670",
   "metadata": {},
   "outputs": [],
   "source": [
    "holdout = 5\n",
    "train = file[file['session'] != holdout]\n",
    "train_audios = [audios[i] for i in range(len(audios)) if file['session'][i] != holdout]\n",
    "test = file[file['session'] == holdout]\n",
    "test_audios = [audios[i] for i in range(len(audios)) if file['session'][i] == holdout]"
   ]
  },
  {
   "cell_type": "code",
   "execution_count": 53,
   "id": "75a75bd9",
   "metadata": {},
   "outputs": [],
   "source": [
    "class MyDataSet(torch.utils.data.Dataset):\n",
    "    def __init__(self, audios, labels, label_transform):\n",
    "        super(MyDataSet).__init__()\n",
    "        self.audios = audios\n",
    "        self.labels = labels\n",
    "        self.label_transform = label_transform\n",
    "        \n",
    "    def __getitem__(self, idx):\n",
    "        label = self.label_transform[self.labels[idx]]\n",
    "        audio = self.audios[idx]\n",
    "        length = audio.size(1)\n",
    "        return audio, length, label\n",
    "    \n",
    "    def __len__(self):\n",
    "        return len(self.labels)"
   ]
  },
  {
   "cell_type": "code",
   "execution_count": 54,
   "id": "141ec40a",
   "metadata": {},
   "outputs": [],
   "source": [
    "def collate_indic(data):\n",
    "    audios, lengths, labels = zip(*data)\n",
    "    max_len = max(lengths)\n",
    "    n_ftrs = audios[0].size(2)\n",
    "    n_dims = audios[0].size(0)\n",
    "    features = torch.zeros((len(audios), n_dims, max_len, n_ftrs))\n",
    "    labels = torch.tensor(labels)\n",
    "    lengths = torch.tensor(lengths)\n",
    "\n",
    "    for i in range(len(data)):\n",
    "        j, k = audios[i].size(1), audios[i].size(2)\n",
    "        features[i] = torch.cat([audios[i], torch.zeros((n_dims, max_len - j, k))], dim=1)\n",
    "\n",
    "    return features, lengths, labels"
   ]
  },
  {
   "cell_type": "code",
   "execution_count": 55,
   "id": "0738ead4",
   "metadata": {},
   "outputs": [
    {
     "data": {
      "text/plain": [
       "{'neutral': 0, 'angry': 1, 'happy': 2, 'sad': 3, 'fear': 4, 'disgust': 5}"
      ]
     },
     "execution_count": 55,
     "metadata": {},
     "output_type": "execute_result"
    }
   ],
   "source": [
    "categories = ['neutral', 'angry', 'happy', 'sad', 'fear', 'disgust']\n",
    "cate_dic = {}\n",
    "for i, cate in enumerate(categories):\n",
    "    cate_dic[cate] = i\n",
    "cate_dic"
   ]
  },
  {
   "cell_type": "code",
   "execution_count": 56,
   "id": "9aa549a4",
   "metadata": {},
   "outputs": [],
   "source": [
    "from torch.utils.data import DataLoader\n",
    "\n",
    "train_dataset = MyDataSet(train_audios, train['emotion'].tolist(), cate_dic)\n",
    "trainloader_args = dict(batch_size=16, shuffle=True)\n",
    "train_dataloader = DataLoader(train_dataset, **trainloader_args, \n",
    "                              collate_fn=collate_indic)\n",
    "\n",
    "test_dataset = MyDataSet(test_audios, test['emotion'].tolist(), cate_dic)\n",
    "testloader_args = dict(batch_size=16, shuffle=True)\n",
    "test_dataloader = DataLoader(test_dataset, **testloader_args, \n",
    "                             collate_fn=collate_indic)"
   ]
  },
  {
   "cell_type": "markdown",
   "id": "adf4848c",
   "metadata": {},
   "source": [
    "## Train with 3CNN+LSTM"
   ]
  },
  {
   "cell_type": "code",
   "execution_count": 57,
   "id": "2ef1a6ec",
   "metadata": {},
   "outputs": [],
   "source": [
    "import torch.nn as nn\n",
    "import torch.nn.functional as F\n",
    "\n",
    "class ICASSP3CNN(nn.Module):\n",
    "    def __init__(self, vocab_size, dims = 12, embed_size=128, hidden_size=512, num_lstm_layers = 2, bidirectional = False, label_size=7):\n",
    "        super().__init__()\n",
    "        self.n_layers = num_lstm_layers \n",
    "        self.hidden = hidden_size\n",
    "        self.bidirectional = bidirectional\n",
    "        \n",
    "        self.aggr = nn.Conv1d(in_channels=dims, out_channels=1, kernel_size=1)\n",
    "        \n",
    "        self.embed = nn.Linear(in_features = vocab_size, out_features = embed_size)\n",
    "\n",
    "        self.cnn  = nn.Conv1d(embed_size, embed_size, kernel_size=3, padding=1)\n",
    "        self.cnn2 = nn.Conv1d(embed_size, embed_size, kernel_size=5, padding=2)\n",
    "        self.cnn3 = nn.Conv1d(embed_size, embed_size, kernel_size=7, padding=3)\n",
    "\n",
    "        self.batchnorm = nn.BatchNorm1d(3 * embed_size)\n",
    "\n",
    "        self.lstm = nn.LSTM(input_size = 3 * embed_size, \n",
    "                            hidden_size = hidden_size, \n",
    "                            num_layers = num_lstm_layers, \n",
    "                            bidirectional = bidirectional)\n",
    "\n",
    "        self.linear = nn.Linear(in_features = 2 * hidden_size if bidirectional else hidden_size, \n",
    "                                out_features = label_size)\n",
    "\n",
    "\n",
    "    def forward(self, x, lengths):\n",
    "        \"\"\"\n",
    "        padded_x: (B,T) padded LongTensor\n",
    "        \"\"\"\n",
    "        n, d, b, t = x.size(0), x.size(1), x.size(2), x.size(3)\n",
    "        x = torch.flatten(x, start_dim=2)\n",
    "        input = self.aggr(x)\n",
    "        input = torch.reshape(input, (n, b, t))\n",
    "        input = self.embed(input)\n",
    "\n",
    "        batch_size = input.size(0)\n",
    "        input = input.transpose(1,2)    # (B,T,H) -> (B,H,T)\n",
    "\n",
    "        cnn_output = torch.cat([self.cnn(input), self.cnn2(input), self.cnn3(input)], dim=1)\n",
    "\n",
    "        input = F.relu(self.batchnorm(cnn_output))\n",
    "\n",
    "        input = input.transpose(1,2)\n",
    "\n",
    "        pack_tensor = nn.utils.rnn.pack_padded_sequence(input, lengths, batch_first=True, enforce_sorted=False)\n",
    "        _, (hn, cn) = self.lstm(pack_tensor)\n",
    "\n",
    "        if self.bidirectional:\n",
    "            h_n = hn.view(self.n_layers, 2, batch_size, self.hidden)\n",
    "            h_n = torch.cat([ h_n[-1, 0,:], h_n[-1,1,:] ], dim = 1)\n",
    "        else:\n",
    "            h_n = hn[-1]\n",
    "\n",
    "        logits = self.linear(h_n)\n",
    "\n",
    "        return logits"
   ]
  },
  {
   "cell_type": "markdown",
   "id": "21a7d392",
   "metadata": {},
   "source": [
    "### Model Traning on each layer "
   ]
  },
  {
   "cell_type": "code",
   "execution_count": 58,
   "id": "75762bdc",
   "metadata": {},
   "outputs": [
    {
     "name": "stderr",
     "output_type": "stream",
     "text": [
      "  2%|████                                                                                                                                                                                                         | 1/50 [00:03<02:41,  3.30s/it]"
     ]
    },
    {
     "name": "stdout",
     "output_type": "stream",
     "text": [
      "epoch:1, train accu:0.4826, train loss:1.32\n"
     ]
    },
    {
     "name": "stderr",
     "output_type": "stream",
     "text": [
      "\r",
      "  4%|████████▏                                                                                                                                                                                                    | 2/50 [00:06<02:30,  3.13s/it]"
     ]
    },
    {
     "name": "stdout",
     "output_type": "stream",
     "text": [
      "epoch:2, train accu:0.7355, train loss:0.64\n"
     ]
    },
    {
     "name": "stderr",
     "output_type": "stream",
     "text": [
      "\r",
      "  6%|████████████▎                                                                                                                                                                                                | 3/50 [00:09<02:24,  3.08s/it]"
     ]
    },
    {
     "name": "stdout",
     "output_type": "stream",
     "text": [
      "epoch:3, train accu:0.8387, train loss:0.44\n"
     ]
    },
    {
     "name": "stderr",
     "output_type": "stream",
     "text": [
      "\r",
      "  8%|████████████████▍                                                                                                                                                                                            | 4/50 [00:12<02:22,  3.09s/it]"
     ]
    },
    {
     "name": "stdout",
     "output_type": "stream",
     "text": [
      "epoch:4, train accu:0.9172, train loss:0.27\n"
     ]
    },
    {
     "name": "stderr",
     "output_type": "stream",
     "text": [
      "\r",
      " 10%|████████████████████▌                                                                                                                                                                                        | 5/50 [00:15<02:19,  3.11s/it]"
     ]
    },
    {
     "name": "stdout",
     "output_type": "stream",
     "text": [
      "epoch:5, train accu:0.9230, train loss:0.28\n"
     ]
    },
    {
     "name": "stderr",
     "output_type": "stream",
     "text": [
      "\r",
      " 12%|████████████████████████▌                                                                                                                                                                                    | 6/50 [00:18<02:17,  3.12s/it]"
     ]
    },
    {
     "name": "stdout",
     "output_type": "stream",
     "text": [
      "epoch:6, train accu:0.9215, train loss:0.24\n"
     ]
    },
    {
     "name": "stderr",
     "output_type": "stream",
     "text": [
      "\r",
      " 14%|████████████████████████████▋                                                                                                                                                                                | 7/50 [00:21<02:15,  3.14s/it]"
     ]
    },
    {
     "name": "stdout",
     "output_type": "stream",
     "text": [
      "epoch:7, train accu:0.9695, train loss:0.12\n"
     ]
    },
    {
     "name": "stderr",
     "output_type": "stream",
     "text": [
      "\r",
      " 16%|████████████████████████████████▊                                                                                                                                                                            | 8/50 [00:24<02:11,  3.12s/it]"
     ]
    },
    {
     "name": "stdout",
     "output_type": "stream",
     "text": [
      "epoch:8, train accu:0.9637, train loss:0.13\n"
     ]
    },
    {
     "name": "stderr",
     "output_type": "stream",
     "text": [
      "\r",
      " 18%|████████████████████████████████████▉                                                                                                                                                                        | 9/50 [00:28<02:17,  3.35s/it]"
     ]
    },
    {
     "name": "stdout",
     "output_type": "stream",
     "text": [
      "epoch:9, train accu:0.9738, train loss:0.11\n"
     ]
    },
    {
     "name": "stderr",
     "output_type": "stream",
     "text": [
      "\r",
      " 20%|████████████████████████████████████████▊                                                                                                                                                                   | 10/50 [00:32<02:12,  3.30s/it]"
     ]
    },
    {
     "name": "stdout",
     "output_type": "stream",
     "text": [
      "epoch:10, train accu:0.9549, train loss:0.16\n"
     ]
    },
    {
     "name": "stderr",
     "output_type": "stream",
     "text": [
      "\r",
      " 22%|████████████████████████████████████████████▉                                                                                                                                                               | 11/50 [00:35<02:07,  3.28s/it]"
     ]
    },
    {
     "name": "stdout",
     "output_type": "stream",
     "text": [
      "epoch:11, train accu:0.9506, train loss:0.17\n"
     ]
    },
    {
     "name": "stderr",
     "output_type": "stream",
     "text": [
      "\r",
      " 24%|████████████████████████████████████████████████▉                                                                                                                                                           | 12/50 [00:38<02:04,  3.27s/it]"
     ]
    },
    {
     "name": "stdout",
     "output_type": "stream",
     "text": [
      "epoch:12, train accu:0.9811, train loss:0.07\n"
     ]
    },
    {
     "name": "stderr",
     "output_type": "stream",
     "text": [
      "\r",
      " 26%|█████████████████████████████████████████████████████                                                                                                                                                       | 13/50 [00:41<01:58,  3.21s/it]"
     ]
    },
    {
     "name": "stdout",
     "output_type": "stream",
     "text": [
      "epoch:13, train accu:0.9680, train loss:0.13\n"
     ]
    },
    {
     "name": "stderr",
     "output_type": "stream",
     "text": [
      "\r",
      " 28%|█████████████████████████████████████████████████████████                                                                                                                                                   | 14/50 [00:44<01:54,  3.19s/it]"
     ]
    },
    {
     "name": "stdout",
     "output_type": "stream",
     "text": [
      "epoch:14, train accu:0.9797, train loss:0.08\n"
     ]
    },
    {
     "name": "stderr",
     "output_type": "stream",
     "text": [
      "\r",
      " 30%|█████████████████████████████████████████████████████████████▏                                                                                                                                              | 15/50 [00:47<01:50,  3.16s/it]"
     ]
    },
    {
     "name": "stdout",
     "output_type": "stream",
     "text": [
      "epoch:15, train accu:0.9797, train loss:0.08\n"
     ]
    },
    {
     "name": "stderr",
     "output_type": "stream",
     "text": [
      "\r",
      " 32%|█████████████████████████████████████████████████████████████████▎                                                                                                                                          | 16/50 [00:50<01:47,  3.16s/it]"
     ]
    },
    {
     "name": "stdout",
     "output_type": "stream",
     "text": [
      "epoch:16, train accu:0.9913, train loss:0.03\n"
     ]
    },
    {
     "name": "stderr",
     "output_type": "stream",
     "text": [
      "\r",
      " 34%|█████████████████████████████████████████████████████████████████████▎                                                                                                                                      | 17/50 [00:54<01:44,  3.17s/it]"
     ]
    },
    {
     "name": "stdout",
     "output_type": "stream",
     "text": [
      "epoch:17, train accu:0.9855, train loss:0.05\n"
     ]
    },
    {
     "name": "stderr",
     "output_type": "stream",
     "text": [
      "\r",
      " 36%|█████████████████████████████████████████████████████████████████████████▍                                                                                                                                  | 18/50 [00:57<01:40,  3.14s/it]"
     ]
    },
    {
     "name": "stdout",
     "output_type": "stream",
     "text": [
      "epoch:18, train accu:0.9898, train loss:0.04\n"
     ]
    },
    {
     "name": "stderr",
     "output_type": "stream",
     "text": [
      "\r",
      " 38%|█████████████████████████████████████████████████████████████████████████████▌                                                                                                                              | 19/50 [01:00<01:36,  3.10s/it]"
     ]
    },
    {
     "name": "stdout",
     "output_type": "stream",
     "text": [
      "epoch:19, train accu:0.9927, train loss:0.03\n"
     ]
    },
    {
     "name": "stderr",
     "output_type": "stream",
     "text": [
      "\r",
      " 40%|█████████████████████████████████████████████████████████████████████████████████▌                                                                                                                          | 20/50 [01:03<01:32,  3.08s/it]"
     ]
    },
    {
     "name": "stdout",
     "output_type": "stream",
     "text": [
      "epoch:20, train accu:0.9782, train loss:0.06\n"
     ]
    },
    {
     "name": "stderr",
     "output_type": "stream",
     "text": [
      "\r",
      " 42%|█████████████████████████████████████████████████████████████████████████████████████▋                                                                                                                      | 21/50 [01:06<01:29,  3.08s/it]"
     ]
    },
    {
     "name": "stdout",
     "output_type": "stream",
     "text": [
      "epoch:21, train accu:0.9753, train loss:0.10\n"
     ]
    },
    {
     "name": "stderr",
     "output_type": "stream",
     "text": [
      "\r",
      " 44%|█████████████████████████████████████████████████████████████████████████████████████████▊                                                                                                                  | 22/50 [01:09<01:25,  3.06s/it]"
     ]
    },
    {
     "name": "stdout",
     "output_type": "stream",
     "text": [
      "epoch:22, train accu:0.9927, train loss:0.03\n"
     ]
    },
    {
     "name": "stderr",
     "output_type": "stream",
     "text": [
      "\r",
      " 46%|█████████████████████████████████████████████████████████████████████████████████████████████▊                                                                                                              | 23/50 [01:12<01:25,  3.18s/it]"
     ]
    },
    {
     "name": "stdout",
     "output_type": "stream",
     "text": [
      "epoch:23, train accu:0.9869, train loss:0.04\n"
     ]
    },
    {
     "name": "stderr",
     "output_type": "stream",
     "text": [
      "\r",
      " 48%|█████████████████████████████████████████████████████████████████████████████████████████████████▉                                                                                                          | 24/50 [01:16<01:26,  3.31s/it]"
     ]
    },
    {
     "name": "stdout",
     "output_type": "stream",
     "text": [
      "epoch:24, train accu:0.9884, train loss:0.03\n"
     ]
    },
    {
     "name": "stderr",
     "output_type": "stream",
     "text": [
      "\r",
      " 50%|██████████████████████████████████████████████████████████████████████████████████████████████████████                                                                                                      | 25/50 [01:19<01:22,  3.31s/it]"
     ]
    },
    {
     "name": "stdout",
     "output_type": "stream",
     "text": [
      "epoch:25, train accu:0.9956, train loss:0.03\n"
     ]
    },
    {
     "name": "stderr",
     "output_type": "stream",
     "text": [
      "\r",
      " 52%|██████████████████████████████████████████████████████████████████████████████████████████████████████████                                                                                                  | 26/50 [01:22<01:18,  3.28s/it]"
     ]
    },
    {
     "name": "stdout",
     "output_type": "stream",
     "text": [
      "epoch:26, train accu:0.9971, train loss:0.01\n"
     ]
    },
    {
     "name": "stderr",
     "output_type": "stream",
     "text": [
      "\r",
      " 54%|██████████████████████████████████████████████████████████████████████████████████████████████████████████████▏                                                                                             | 27/50 [01:26<01:18,  3.40s/it]"
     ]
    },
    {
     "name": "stdout",
     "output_type": "stream",
     "text": [
      "epoch:27, train accu:0.9898, train loss:0.04\n"
     ]
    },
    {
     "name": "stderr",
     "output_type": "stream",
     "text": [
      "\r",
      " 56%|██████████████████████████████████████████████████████████████████████████████████████████████████████████████████▏                                                                                         | 28/50 [01:30<01:17,  3.52s/it]"
     ]
    },
    {
     "name": "stdout",
     "output_type": "stream",
     "text": [
      "epoch:28, train accu:0.9884, train loss:0.04\n"
     ]
    },
    {
     "name": "stderr",
     "output_type": "stream",
     "text": [
      "\r",
      " 58%|██████████████████████████████████████████████████████████████████████████████████████████████████████████████████████▎                                                                                     | 29/50 [01:33<01:11,  3.43s/it]"
     ]
    },
    {
     "name": "stdout",
     "output_type": "stream",
     "text": [
      "epoch:29, train accu:0.9782, train loss:0.07\n"
     ]
    },
    {
     "name": "stderr",
     "output_type": "stream",
     "text": [
      "\r",
      " 60%|██████████████████████████████████████████████████████████████████████████████████████████████████████████████████████████▍                                                                                 | 30/50 [01:37<01:11,  3.56s/it]"
     ]
    },
    {
     "name": "stdout",
     "output_type": "stream",
     "text": [
      "epoch:30, train accu:0.9753, train loss:0.10\n"
     ]
    },
    {
     "name": "stderr",
     "output_type": "stream",
     "text": [
      "\r",
      " 62%|██████████████████████████████████████████████████████████████████████████████████████████████████████████████████████████████▍                                                                             | 31/50 [01:41<01:10,  3.72s/it]"
     ]
    },
    {
     "name": "stdout",
     "output_type": "stream",
     "text": [
      "epoch:31, train accu:0.9869, train loss:0.04\n"
     ]
    },
    {
     "name": "stderr",
     "output_type": "stream",
     "text": [
      "\r",
      " 64%|██████████████████████████████████████████████████████████████████████████████████████████████████████████████████████████████████▌                                                                         | 32/50 [01:45<01:08,  3.81s/it]"
     ]
    },
    {
     "name": "stdout",
     "output_type": "stream",
     "text": [
      "epoch:32, train accu:0.9956, train loss:0.02\n"
     ]
    },
    {
     "name": "stderr",
     "output_type": "stream",
     "text": [
      "\r",
      " 66%|██████████████████████████████████████████████████████████████████████████████████████████████████████████████████████████████████████▋                                                                     | 33/50 [01:49<01:06,  3.89s/it]"
     ]
    },
    {
     "name": "stdout",
     "output_type": "stream",
     "text": [
      "epoch:33, train accu:0.9927, train loss:0.02\n"
     ]
    },
    {
     "name": "stderr",
     "output_type": "stream",
     "text": [
      "\r",
      " 68%|██████████████████████████████████████████████████████████████████████████████████████████████████████████████████████████████████████████▋                                                                 | 34/50 [01:53<01:03,  3.94s/it]"
     ]
    },
    {
     "name": "stdout",
     "output_type": "stream",
     "text": [
      "epoch:34, train accu:1.0000, train loss:0.00\n"
     ]
    },
    {
     "name": "stderr",
     "output_type": "stream",
     "text": [
      "\r",
      " 70%|██████████████████████████████████████████████████████████████████████████████████████████████████████████████████████████████████████████████▊                                                             | 35/50 [01:57<01:00,  4.03s/it]"
     ]
    },
    {
     "name": "stdout",
     "output_type": "stream",
     "text": [
      "epoch:35, train accu:0.9898, train loss:0.06\n"
     ]
    },
    {
     "name": "stderr",
     "output_type": "stream",
     "text": [
      "\r",
      " 72%|██████████████████████████████████████████████████████████████████████████████████████████████████████████████████████████████████████████████████▉                                                         | 36/50 [02:02<00:56,  4.05s/it]"
     ]
    },
    {
     "name": "stdout",
     "output_type": "stream",
     "text": [
      "epoch:36, train accu:0.9884, train loss:0.05\n"
     ]
    },
    {
     "name": "stderr",
     "output_type": "stream",
     "text": [
      "\r",
      " 74%|██████████████████████████████████████████████████████████████████████████████████████████████████████████████████████████████████████████████████████▉                                                     | 37/50 [02:06<00:52,  4.04s/it]"
     ]
    },
    {
     "name": "stdout",
     "output_type": "stream",
     "text": [
      "epoch:37, train accu:1.0000, train loss:0.01\n"
     ]
    },
    {
     "name": "stderr",
     "output_type": "stream",
     "text": [
      "\r",
      " 76%|███████████████████████████████████████████████████████████████████████████████████████████████████████████████████████████████████████████████████████████                                                 | 38/50 [02:10<00:48,  4.06s/it]"
     ]
    },
    {
     "name": "stdout",
     "output_type": "stream",
     "text": [
      "epoch:38, train accu:1.0000, train loss:0.00\n"
     ]
    },
    {
     "name": "stderr",
     "output_type": "stream",
     "text": [
      "\r",
      " 78%|███████████████████████████████████████████████████████████████████████████████████████████████████████████████████████████████████████████████████████████████                                             | 39/50 [02:14<00:45,  4.10s/it]"
     ]
    },
    {
     "name": "stdout",
     "output_type": "stream",
     "text": [
      "epoch:39, train accu:1.0000, train loss:0.00\n"
     ]
    },
    {
     "name": "stderr",
     "output_type": "stream",
     "text": [
      "\r",
      " 80%|███████████████████████████████████████████████████████████████████████████████████████████████████████████████████████████████████████████████████████████████████▏                                        | 40/50 [02:18<00:40,  4.07s/it]"
     ]
    },
    {
     "name": "stdout",
     "output_type": "stream",
     "text": [
      "epoch:40, train accu:1.0000, train loss:0.00\n"
     ]
    },
    {
     "name": "stderr",
     "output_type": "stream",
     "text": [
      "\r",
      " 82%|███████████████████████████████████████████████████████████████████████████████████████████████████████████████████████████████████████████████████████████████████████▎                                    | 41/50 [02:22<00:36,  4.07s/it]"
     ]
    },
    {
     "name": "stdout",
     "output_type": "stream",
     "text": [
      "epoch:41, train accu:1.0000, train loss:0.00\n"
     ]
    },
    {
     "name": "stderr",
     "output_type": "stream",
     "text": [
      "\r",
      " 84%|███████████████████████████████████████████████████████████████████████████████████████████████████████████████████████████████████████████████████████████████████████████▎                                | 42/50 [02:27<00:34,  4.34s/it]"
     ]
    },
    {
     "name": "stdout",
     "output_type": "stream",
     "text": [
      "epoch:42, train accu:1.0000, train loss:0.00\n"
     ]
    },
    {
     "name": "stderr",
     "output_type": "stream",
     "text": [
      "\r",
      " 86%|███████████████████████████████████████████████████████████████████████████████████████████████████████████████████████████████████████████████████████████████████████████████▍                            | 43/50 [02:32<00:31,  4.47s/it]"
     ]
    },
    {
     "name": "stdout",
     "output_type": "stream",
     "text": [
      "epoch:43, train accu:1.0000, train loss:0.00\n"
     ]
    },
    {
     "name": "stderr",
     "output_type": "stream",
     "text": [
      "\r",
      " 88%|███████████████████████████████████████████████████████████████████████████████████████████████████████████████████████████████████████████████████████████████████████████████████▌                        | 44/50 [02:36<00:25,  4.30s/it]"
     ]
    },
    {
     "name": "stdout",
     "output_type": "stream",
     "text": [
      "epoch:44, train accu:1.0000, train loss:0.00\n"
     ]
    },
    {
     "name": "stderr",
     "output_type": "stream",
     "text": [
      "\r",
      " 90%|███████████████████████████████████████████████████████████████████████████████████████████████████████████████████████████████████████████████████████████████████████████████████████▌                    | 45/50 [02:40<00:21,  4.22s/it]"
     ]
    },
    {
     "name": "stdout",
     "output_type": "stream",
     "text": [
      "epoch:45, train accu:1.0000, train loss:0.00\n"
     ]
    },
    {
     "name": "stderr",
     "output_type": "stream",
     "text": [
      "\r",
      " 92%|███████████████████████████████████████████████████████████████████████████████████████████████████████████████████████████████████████████████████████████████████████████████████████████▋                | 46/50 [02:44<00:16,  4.15s/it]"
     ]
    },
    {
     "name": "stdout",
     "output_type": "stream",
     "text": [
      "epoch:46, train accu:1.0000, train loss:0.00\n"
     ]
    },
    {
     "name": "stderr",
     "output_type": "stream",
     "text": [
      "\r",
      " 94%|███████████████████████████████████████████████████████████████████████████████████████████████████████████████████████████████████████████████████████████████████████████████████████████████▊            | 47/50 [02:48<00:12,  4.13s/it]"
     ]
    },
    {
     "name": "stdout",
     "output_type": "stream",
     "text": [
      "epoch:47, train accu:1.0000, train loss:0.00\n"
     ]
    },
    {
     "name": "stderr",
     "output_type": "stream",
     "text": [
      "\r",
      " 96%|███████████████████████████████████████████████████████████████████████████████████████████████████████████████████████████████████████████████████████████████████████████████████████████████████▊        | 48/50 [02:52<00:08,  4.07s/it]"
     ]
    },
    {
     "name": "stdout",
     "output_type": "stream",
     "text": [
      "epoch:48, train accu:1.0000, train loss:0.00\n"
     ]
    },
    {
     "name": "stderr",
     "output_type": "stream",
     "text": [
      "\r",
      " 98%|███████████████████████████████████████████████████████████████████████████████████████████████████████████████████████████████████████████████████████████████████████████████████████████████████████▉    | 49/50 [02:56<00:04,  4.07s/it]"
     ]
    },
    {
     "name": "stdout",
     "output_type": "stream",
     "text": [
      "epoch:49, train accu:1.0000, train loss:0.00\n"
     ]
    },
    {
     "name": "stderr",
     "output_type": "stream",
     "text": [
      "100%|████████████████████████████████████████████████████████████████████████████████████████████████████████████████████████████████████████████████████████████████████████████████████████████████████████████| 50/50 [03:00<00:00,  3.60s/it]"
     ]
    },
    {
     "name": "stdout",
     "output_type": "stream",
     "text": [
      "epoch:50, train accu:0.9927, train loss:0.03\n"
     ]
    },
    {
     "name": "stderr",
     "output_type": "stream",
     "text": [
      "\n"
     ]
    }
   ],
   "source": [
    "from tqdm import tqdm\n",
    "from torchsummary import summary\n",
    "import torch.optim as optim\n",
    "\n",
    "model = ICASSP3CNN(1024, 24)\n",
    "model = model.to(device)\n",
    "criterion = nn.CrossEntropyLoss()\n",
    "optimizer = optim.Adam(model.parameters(), lr=0.001)\n",
    "\n",
    "epochs = 50\n",
    "train_losses = []\n",
    "train_accuracies = []\n",
    "valid_losses = []\n",
    "valid_accuracies = []\n",
    "\n",
    "for epoch in tqdm(range(epochs)):\n",
    "    train_loss = 0\n",
    "    acc_cnt = 0\n",
    "    err_cnt = 0\n",
    "    batch_cnt = 0\n",
    "    model.train()\n",
    "    for batch, (x, length, y) in enumerate(train_dataloader):\n",
    "        x = x.to(device)\n",
    "        y = y.to(device)\n",
    "        optimizer.zero_grad()\n",
    "        logits = model(x, length)\n",
    "        loss = criterion(logits, y)\n",
    "        loss.backward()\n",
    "        optimizer.step()\n",
    "        train_loss += loss.cpu().item()\n",
    "\n",
    "        #model outputs\n",
    "        out_val, out_indices = torch.max(logits, dim=1)\n",
    "        tar_indices = y\n",
    "\n",
    "        for i in range(len(out_indices)):\n",
    "            if out_indices[i] == tar_indices[i]:\n",
    "                acc_cnt += 1\n",
    "            else:\n",
    "                err_cnt += 1\n",
    "        batch_cnt += 1\n",
    "    \n",
    "    train_loss = train_loss/batch_cnt\n",
    "    train_accuracy = acc_cnt/(acc_cnt+err_cnt)\n",
    "    train_accuracies.append(train_accuracy)\n",
    "    train_losses.append(train_loss)\n",
    "    \n",
    "    print(f\"epoch:{epoch+1}, train accu:{train_accuracy:.4f},\", f\"train loss:{train_loss:.2f}\")"
   ]
  },
  {
   "cell_type": "markdown",
   "id": "b6f39dc8",
   "metadata": {},
   "source": [
    "### Model Test"
   ]
  },
  {
   "cell_type": "code",
   "execution_count": 59,
   "id": "461a176a",
   "metadata": {},
   "outputs": [
    {
     "name": "stdout",
     "output_type": "stream",
     "text": [
      "test accuracy: 0.7586206896551724\n"
     ]
    }
   ],
   "source": [
    "test_loss = 0\n",
    "acc_cnt = 0\n",
    "err_cnt = 0\n",
    "batch_cnt = 0\n",
    "model.eval()\n",
    "\n",
    "for x, lengths, y in test_dataloader:\n",
    "\n",
    "    x = x.to(device)\n",
    "    y = y.to(device)\n",
    "\n",
    "    logits = model(x, lengths)\n",
    "    loss = criterion(logits, y)\n",
    "    test_loss += loss.cpu().item()\n",
    "\n",
    "    out_val, out_indices = torch.max(logits, dim=1)\n",
    "    tar_indices = y\n",
    "\n",
    "    for i in range(len(out_indices)):\n",
    "        if out_indices[i] == tar_indices[i]:\n",
    "            acc_cnt += 1\n",
    "        else:\n",
    "            err_cnt += 1\n",
    "    batch_cnt += 1\n",
    "\n",
    "test_loss = test_loss/batch_cnt\n",
    "test_accuracy = acc_cnt/(acc_cnt+err_cnt)\n",
    "print(f'test accuracy: {test_accuracy}')"
   ]
  },
  {
   "cell_type": "code",
   "execution_count": 60,
   "id": "1b6c5224",
   "metadata": {},
   "outputs": [
    {
     "name": "stdout",
     "output_type": "stream",
     "text": [
      "aggr.weight tensor([[[-0.1415],\n",
      "         [ 0.2523],\n",
      "         [ 0.0755],\n",
      "         [ 0.1041],\n",
      "         [-0.2400],\n",
      "         [-0.0651],\n",
      "         [ 0.0181],\n",
      "         [ 0.1286],\n",
      "         [-0.1186],\n",
      "         [ 0.1157],\n",
      "         [-0.1562],\n",
      "         [-0.1441],\n",
      "         [ 0.1992],\n",
      "         [-0.0727],\n",
      "         [-0.0929],\n",
      "         [ 0.0700],\n",
      "         [ 0.2085],\n",
      "         [-0.0682],\n",
      "         [-0.2108],\n",
      "         [ 0.0374],\n",
      "         [-0.0475],\n",
      "         [ 0.1062],\n",
      "         [-0.1107],\n",
      "         [ 0.0038]]], device='cuda:0')\n",
      "aggr.bias tensor([0.0976], device='cuda:0')\n",
      "embed.weight tensor([[-0.0305, -0.0110,  0.0566,  ..., -0.0438,  0.0449, -0.0391],\n",
      "        [-0.0164,  0.0506,  0.0321,  ...,  0.0252, -0.0494, -0.0648],\n",
      "        [-0.0228, -0.0004, -0.0241,  ...,  0.0152,  0.0570, -0.0288],\n",
      "        ...,\n",
      "        [-0.0243,  0.0034,  0.0615,  ..., -0.0029, -0.0230,  0.0048],\n",
      "        [ 0.0074, -0.0041, -0.0007,  ...,  0.0524, -0.0316,  0.0065],\n",
      "        [ 0.0015,  0.0190,  0.0238,  ...,  0.0193, -0.0195, -0.0439]],\n",
      "       device='cuda:0')\n",
      "embed.bias tensor([-0.0443, -0.0050, -0.0349, -0.0241, -0.0210,  0.0400, -0.0054, -0.0396,\n",
      "         0.0230,  0.0279,  0.0300, -0.0317, -0.0077,  0.0014,  0.0006, -0.0291,\n",
      "        -0.0061, -0.0230,  0.0074, -0.0348,  0.0263, -0.0123, -0.0253, -0.0277,\n",
      "         0.0188,  0.0002, -0.0330,  0.0094,  0.0067,  0.0031, -0.0034, -0.0042,\n",
      "         0.0200,  0.0083,  0.0286, -0.0269, -0.0221,  0.0431, -0.0036, -0.0367,\n",
      "        -0.0525,  0.0064,  0.0245, -0.0178, -0.0083,  0.0021, -0.0301, -0.0311,\n",
      "        -0.0653, -0.0203,  0.0233,  0.0023, -0.0093, -0.0298,  0.0324, -0.0021,\n",
      "         0.0215, -0.0004,  0.0491,  0.0332,  0.0111, -0.0288, -0.0253, -0.0001,\n",
      "        -0.0407, -0.0437, -0.0090, -0.0291, -0.0467,  0.0101,  0.0298, -0.0031,\n",
      "        -0.0102, -0.0112,  0.0517, -0.0050,  0.0264,  0.0187,  0.0301,  0.0391,\n",
      "        -0.0584, -0.0095, -0.0477,  0.0057, -0.0173, -0.0078,  0.0020, -0.0050,\n",
      "        -0.0084, -0.0289, -0.0282,  0.0111, -0.0468, -0.0198, -0.0457,  0.0178,\n",
      "         0.0689,  0.0287, -0.0055,  0.0370, -0.0117,  0.0080, -0.0035, -0.0571,\n",
      "         0.0034, -0.0133,  0.0687, -0.0114,  0.0469,  0.0487, -0.0053,  0.0467,\n",
      "        -0.0380, -0.0497,  0.0335, -0.0242, -0.0135, -0.0186,  0.0268,  0.0521,\n",
      "        -0.0348, -0.0013, -0.0288,  0.0233,  0.0324,  0.0015,  0.0421, -0.0394],\n",
      "       device='cuda:0')\n",
      "cnn.weight tensor([[[-0.0296, -0.0240, -0.0712],\n",
      "         [-0.0088, -0.0652,  0.0017],\n",
      "         [-0.0330, -0.0155,  0.0564],\n",
      "         ...,\n",
      "         [-0.0605, -0.0125,  0.0248],\n",
      "         [ 0.0389,  0.0486,  0.0283],\n",
      "         [-0.0411, -0.0608, -0.0427]],\n",
      "\n",
      "        [[-0.0279,  0.0304,  0.0424],\n",
      "         [-0.0445,  0.0046,  0.0199],\n",
      "         [-0.0818, -0.0357, -0.0074],\n",
      "         ...,\n",
      "         [ 0.0117, -0.0080,  0.0302],\n",
      "         [ 0.0137, -0.0130, -0.0149],\n",
      "         [-0.0178, -0.0002, -0.0242]],\n",
      "\n",
      "        [[-0.0380, -0.0288,  0.0035],\n",
      "         [-0.0276,  0.0516,  0.0056],\n",
      "         [-0.0119, -0.0196,  0.0043],\n",
      "         ...,\n",
      "         [-0.0549, -0.0022,  0.0556],\n",
      "         [-0.0127,  0.0078, -0.0176],\n",
      "         [-0.0318, -0.0330, -0.0898]],\n",
      "\n",
      "        ...,\n",
      "\n",
      "        [[ 0.0149, -0.0378, -0.0571],\n",
      "         [-0.0143,  0.0697, -0.0349],\n",
      "         [ 0.0663,  0.0134, -0.0051],\n",
      "         ...,\n",
      "         [-0.0155, -0.0223,  0.0468],\n",
      "         [-0.0026, -0.0263, -0.0543],\n",
      "         [ 0.0051,  0.0246,  0.0488]],\n",
      "\n",
      "        [[-0.0627, -0.0857, -0.0660],\n",
      "         [ 0.0046, -0.0664,  0.0201],\n",
      "         [-0.0282, -0.0082,  0.0135],\n",
      "         ...,\n",
      "         [-0.0553, -0.0303, -0.0550],\n",
      "         [-0.0084,  0.0056,  0.0452],\n",
      "         [ 0.0017,  0.0047, -0.0479]],\n",
      "\n",
      "        [[ 0.0231,  0.0739,  0.0776],\n",
      "         [-0.0071,  0.0079, -0.0281],\n",
      "         [-0.0829, -0.0307,  0.0231],\n",
      "         ...,\n",
      "         [ 0.0508,  0.0073, -0.0414],\n",
      "         [-0.0489,  0.0291, -0.0090],\n",
      "         [ 0.0177, -0.0379,  0.0165]]], device='cuda:0')\n",
      "cnn.bias tensor([-0.0505,  0.0492, -0.0197,  0.0327, -0.0363, -0.0037,  0.0205, -0.0113,\n",
      "        -0.0251, -0.0409,  0.0151,  0.0214, -0.0326, -0.0084,  0.0376,  0.0297,\n",
      "         0.0503,  0.0512,  0.0363, -0.0134, -0.0001, -0.0203,  0.0283,  0.0470,\n",
      "         0.0247, -0.0111, -0.0179, -0.0227, -0.0177, -0.0019,  0.0339,  0.0150,\n",
      "        -0.0435, -0.0267,  0.0339, -0.0037,  0.0212, -0.0142, -0.0156,  0.0126,\n",
      "        -0.0154,  0.0174, -0.0138,  0.0177, -0.0016, -0.0215, -0.0030,  0.0061,\n",
      "         0.0208, -0.0130,  0.0445,  0.0330,  0.0108,  0.0445,  0.0452,  0.0253,\n",
      "        -0.0107, -0.0255, -0.0451, -0.0285,  0.0270, -0.0300,  0.0093,  0.0411,\n",
      "        -0.0093,  0.0271, -0.0295,  0.0164, -0.0162, -0.0126,  0.0392,  0.0292,\n",
      "         0.0464,  0.0599,  0.0144,  0.0129,  0.0596, -0.0464, -0.0310, -0.0090,\n",
      "        -0.0419,  0.0412,  0.0186,  0.0456,  0.0007, -0.0332,  0.0287,  0.0101,\n",
      "         0.0154,  0.0369,  0.0026,  0.0334,  0.0412, -0.0111,  0.0551, -0.0467,\n",
      "        -0.0169, -0.0237, -0.0245, -0.0053, -0.0193, -0.0113, -0.0226,  0.0443,\n",
      "         0.0122, -0.0260, -0.0364,  0.0129,  0.0418, -0.0050, -0.0428,  0.0019,\n",
      "         0.0453,  0.0397, -0.0073, -0.0029, -0.0444, -0.0485,  0.0002,  0.0156,\n",
      "         0.0440, -0.0319,  0.0212, -0.0348,  0.0177, -0.0031,  0.0230, -0.0465],\n",
      "       device='cuda:0')\n",
      "cnn2.weight tensor([[[-2.2890e-02,  1.3358e-02, -4.8770e-02, -1.4624e-02, -4.8657e-02],\n",
      "         [-3.3324e-03,  5.4603e-02,  4.9056e-03,  1.1159e-02, -1.8368e-02],\n",
      "         [ 3.8836e-02,  7.9154e-02,  4.3391e-02,  5.9834e-02, -5.1617e-03],\n",
      "         ...,\n",
      "         [-5.1872e-02, -6.0962e-02, -3.4649e-02,  8.2074e-03, -2.9305e-02],\n",
      "         [ 1.1865e-03,  6.0172e-02,  3.8618e-02,  4.3275e-02,  5.2493e-02],\n",
      "         [ 4.9793e-02,  6.6520e-03,  4.5649e-03,  5.7962e-02,  1.6398e-02]],\n",
      "\n",
      "        [[ 1.1328e-03,  2.0408e-02, -3.0692e-02,  1.9818e-02,  8.1005e-03],\n",
      "         [-1.2472e-02,  1.3606e-02,  5.1581e-02,  4.1481e-02,  5.8343e-03],\n",
      "         [ 4.7238e-02,  1.5808e-02,  3.0441e-02,  8.9527e-03,  1.0800e-02],\n",
      "         ...,\n",
      "         [ 3.3088e-02,  3.4828e-02, -1.3256e-02,  2.1918e-02, -1.9978e-02],\n",
      "         [ 4.8207e-02,  2.0799e-02,  2.2417e-02,  3.2767e-03,  2.1338e-02],\n",
      "         [ 4.4078e-02,  6.8495e-02,  2.7474e-02,  1.3405e-02,  1.0866e-02]],\n",
      "\n",
      "        [[-3.9891e-02,  2.3485e-02, -2.6977e-03, -2.4596e-03, -2.6727e-02],\n",
      "         [-1.1502e-02,  4.2379e-02,  9.1890e-03,  2.8430e-02,  1.8188e-02],\n",
      "         [ 3.4218e-02, -1.9792e-02,  4.5365e-03, -6.9224e-03,  5.0567e-02],\n",
      "         ...,\n",
      "         [ 4.6964e-02, -1.5464e-02,  5.7550e-03,  2.1432e-02,  2.2474e-02],\n",
      "         [-3.2071e-02, -5.0798e-02, -2.8569e-02, -4.9470e-02, -8.7949e-03],\n",
      "         [-3.3245e-03,  6.5853e-03,  1.9188e-02,  1.7935e-02,  2.6160e-02]],\n",
      "\n",
      "        ...,\n",
      "\n",
      "        [[-5.1552e-03, -2.8704e-02, -6.4713e-02, -4.4499e-02,  1.2325e-02],\n",
      "         [-6.4041e-02, -1.0596e-01, -6.0350e-02, -7.2691e-02, -5.9290e-03],\n",
      "         [ 1.8870e-02,  3.6218e-02, -4.0772e-02,  5.5440e-02, -6.6468e-03],\n",
      "         ...,\n",
      "         [-3.8515e-02, -4.9999e-02, -5.6454e-02, -5.0192e-02, -5.0940e-02],\n",
      "         [-6.0648e-02, -3.4073e-02, -3.8571e-02,  3.1397e-02,  1.4633e-02],\n",
      "         [-1.5012e-02,  2.5509e-02, -8.6621e-03, -4.1913e-02, -5.9179e-02]],\n",
      "\n",
      "        [[ 1.7836e-02,  1.0867e-02,  9.5850e-02,  9.8185e-02,  3.8605e-02],\n",
      "         [ 5.1055e-02, -4.5241e-02, -2.6092e-02,  1.7414e-02, -2.2074e-02],\n",
      "         [-1.3597e-02, -1.8032e-02, -7.5508e-02, -5.1287e-03,  3.9976e-03],\n",
      "         ...,\n",
      "         [ 1.2117e-03,  8.2351e-02,  7.1017e-02, -2.5783e-03,  3.7711e-02],\n",
      "         [-7.0980e-02, -3.3131e-02, -8.7147e-02, -7.4409e-02, -5.3230e-02],\n",
      "         [ 1.5804e-02,  3.8650e-02,  3.4158e-02,  5.1019e-02,  2.4346e-02]],\n",
      "\n",
      "        [[-3.3967e-02, -2.2541e-02, -4.2328e-02, -3.7367e-02, -3.0471e-02],\n",
      "         [-3.5326e-02, -6.3680e-02,  4.3999e-05,  2.3026e-02, -1.5571e-02],\n",
      "         [ 2.6522e-02,  5.4612e-02,  7.8971e-03,  7.2898e-03,  3.5823e-02],\n",
      "         ...,\n",
      "         [-6.5573e-02, -8.7576e-02, -1.0400e-01, -7.1516e-02, -3.7184e-02],\n",
      "         [ 1.4136e-02,  1.6810e-02, -3.6207e-02,  3.4578e-03,  2.4750e-02],\n",
      "         [-2.9149e-02, -1.0957e-03,  2.2133e-02, -4.3295e-02, -2.7395e-02]]],\n",
      "       device='cuda:0')\n",
      "cnn2.bias tensor([ 0.0200, -0.0422, -0.0008, -0.0306,  0.0341,  0.0063, -0.0293,  0.0089,\n",
      "         0.0012, -0.0067, -0.0022,  0.0244, -0.0044,  0.0113,  0.0374,  0.0212,\n",
      "         0.0139,  0.0097,  0.0038,  0.0554,  0.0428,  0.0379,  0.0214, -0.0034,\n",
      "         0.0338, -0.0209, -0.0050,  0.0163,  0.0107,  0.0006, -0.0028, -0.0108,\n",
      "        -0.0165,  0.0153,  0.0359,  0.0066, -0.0343,  0.0389, -0.0031, -0.0023,\n",
      "        -0.0259, -0.0194,  0.0352, -0.0198, -0.0288, -0.0125, -0.0066,  0.0370,\n",
      "        -0.0015,  0.0328, -0.0471,  0.0269,  0.0067,  0.0283, -0.0141, -0.0255,\n",
      "         0.0087, -0.0191,  0.0275, -0.0265,  0.0060, -0.0431,  0.0148,  0.0152,\n",
      "        -0.0242,  0.0019,  0.0339, -0.0362, -0.0201,  0.0308, -0.0343,  0.0008,\n",
      "         0.0017,  0.0177,  0.0283, -0.0285, -0.0078, -0.0082,  0.0128,  0.0339,\n",
      "        -0.0102, -0.0036, -0.0011,  0.0220, -0.0023,  0.0150,  0.0025,  0.0397,\n",
      "         0.0038, -0.0057,  0.0214,  0.0196, -0.0358,  0.0047,  0.0030,  0.0050,\n",
      "         0.0243, -0.0028, -0.0065, -0.0331, -0.0064,  0.0052,  0.0169,  0.0385,\n",
      "         0.0032,  0.0198,  0.0021, -0.0345,  0.0024, -0.0328,  0.0092,  0.0211,\n",
      "         0.0179,  0.0050, -0.0249, -0.0047,  0.0183, -0.0220,  0.0331,  0.0339,\n",
      "        -0.0249, -0.0026, -0.0216, -0.0081,  0.0143, -0.0318, -0.0355,  0.0254],\n",
      "       device='cuda:0')\n",
      "cnn3.weight tensor([[[ 0.0733,  0.0496,  0.0484,  ...,  0.0542, -0.0121, -0.0270],\n",
      "         [ 0.0574,  0.0178,  0.0017,  ...,  0.0049, -0.0426,  0.0143],\n",
      "         [ 0.0095,  0.0323, -0.0123,  ..., -0.0195,  0.0369,  0.0514],\n",
      "         ...,\n",
      "         [ 0.0639,  0.0509,  0.0130,  ...,  0.0129, -0.0096, -0.0122],\n",
      "         [-0.0152,  0.0311, -0.0112,  ..., -0.0090, -0.0262, -0.0181],\n",
      "         [-0.0206,  0.0630,  0.0562,  ..., -0.0038,  0.0097,  0.0175]],\n",
      "\n",
      "        [[ 0.0024, -0.0167,  0.0025,  ..., -0.0091, -0.0270, -0.0499],\n",
      "         [-0.0693, -0.0083,  0.0015,  ..., -0.0114, -0.0305, -0.0152],\n",
      "         [ 0.0063, -0.0017, -0.0095,  ...,  0.0252,  0.0072, -0.0033],\n",
      "         ...,\n",
      "         [-0.0444, -0.0386, -0.0345,  ..., -0.0279, -0.0358,  0.0163],\n",
      "         [-0.0043, -0.0001,  0.0287,  ...,  0.0080, -0.0059, -0.0201],\n",
      "         [-0.0308, -0.0812, -0.0603,  ..., -0.0448, -0.0142, -0.0531]],\n",
      "\n",
      "        [[ 0.0085, -0.0355, -0.0044,  ..., -0.0286,  0.0032, -0.0237],\n",
      "         [-0.0326, -0.0126, -0.0170,  ...,  0.0191, -0.0207, -0.0575],\n",
      "         [-0.0017,  0.0004,  0.0167,  ..., -0.0152,  0.0239,  0.0339],\n",
      "         ...,\n",
      "         [-0.0014, -0.0137, -0.0013,  ..., -0.0072,  0.0028, -0.0325],\n",
      "         [ 0.0255, -0.0070,  0.0231,  ..., -0.0165,  0.0140,  0.0256],\n",
      "         [-0.0509, -0.0388, -0.0512,  ..., -0.0065, -0.0517, -0.0280]],\n",
      "\n",
      "        ...,\n",
      "\n",
      "        [[ 0.0325,  0.0552,  0.0466,  ...,  0.0224, -0.0053, -0.0112],\n",
      "         [ 0.0480,  0.0028,  0.0030,  ..., -0.0411, -0.0171, -0.0436],\n",
      "         [-0.0398, -0.0432, -0.0478,  ..., -0.0523, -0.0070,  0.0308],\n",
      "         ...,\n",
      "         [ 0.0442,  0.0368,  0.0112,  ...,  0.0367, -0.0105, -0.0129],\n",
      "         [ 0.0223,  0.0203, -0.0098,  ...,  0.0390,  0.0185,  0.0001],\n",
      "         [-0.0381,  0.0046, -0.0244,  ..., -0.0056, -0.0225, -0.0310]],\n",
      "\n",
      "        [[ 0.0389,  0.0508,  0.0695,  ...,  0.0454,  0.0488,  0.0128],\n",
      "         [ 0.0445,  0.0188,  0.0181,  ..., -0.0371, -0.0339, -0.0325],\n",
      "         [-0.0105, -0.0027,  0.0257,  ...,  0.0387,  0.0448,  0.0586],\n",
      "         ...,\n",
      "         [ 0.0657,  0.0086,  0.0031,  ..., -0.0009, -0.0304, -0.0272],\n",
      "         [-0.0223,  0.0231, -0.0171,  ...,  0.0013, -0.0208,  0.0244],\n",
      "         [ 0.0074,  0.0624,  0.0430,  ...,  0.0353,  0.0454,  0.0044]],\n",
      "\n",
      "        [[ 0.0580,  0.0452,  0.0255,  ..., -0.0049,  0.0135,  0.0164],\n",
      "         [ 0.0161,  0.0185,  0.0538,  ...,  0.0459,  0.0219,  0.0314],\n",
      "         [ 0.0481,  0.0634,  0.0436,  ...,  0.0054,  0.0191,  0.0377],\n",
      "         ...,\n",
      "         [-0.0336,  0.0024,  0.0073,  ..., -0.0047, -0.0070,  0.0057],\n",
      "         [-0.0082, -0.0007,  0.0051,  ..., -0.0110, -0.0137,  0.0161],\n",
      "         [ 0.0833,  0.0419,  0.0044,  ...,  0.0256, -0.0047,  0.0281]]],\n",
      "       device='cuda:0')\n",
      "cnn3.bias tensor([-0.0112,  0.0285, -0.0148, -0.0061,  0.0027,  0.0321, -0.0030,  0.0188,\n",
      "         0.0032,  0.0130, -0.0075,  0.0195, -0.0078, -0.0142,  0.0013,  0.0226,\n",
      "         0.0194, -0.0128,  0.0171,  0.0219,  0.0108, -0.0408,  0.0267, -0.0221,\n",
      "         0.0097, -0.0174,  0.0113,  0.0074,  0.0220, -0.0134,  0.0360,  0.0009,\n",
      "        -0.0017,  0.0070,  0.0280,  0.0193, -0.0211, -0.0124,  0.0064,  0.0169,\n",
      "        -0.0347,  0.0062,  0.0317,  0.0194, -0.0310, -0.0074, -0.0188, -0.0041,\n",
      "         0.0011, -0.0232,  0.0170,  0.0273,  0.0093,  0.0218, -0.0005, -0.0229,\n",
      "         0.0158,  0.0328,  0.0217,  0.0359,  0.0231,  0.0146, -0.0070, -0.0181,\n",
      "         0.0157,  0.0020,  0.0102,  0.0280, -0.0208, -0.0312, -0.0056, -0.0142,\n",
      "         0.0270,  0.0082,  0.0162,  0.0222, -0.0298,  0.0239,  0.0140, -0.0114,\n",
      "         0.0252,  0.0145,  0.0105,  0.0104, -0.0079,  0.0235, -0.0296, -0.0142,\n",
      "        -0.0244,  0.0175, -0.0077, -0.0291, -0.0241,  0.0369,  0.0065, -0.0244,\n",
      "        -0.0190, -0.0154,  0.0059, -0.0111, -0.0195,  0.0342, -0.0223,  0.0216,\n",
      "         0.0318, -0.0145, -0.0096,  0.0365, -0.0340,  0.0013,  0.0183, -0.0224,\n",
      "        -0.0259,  0.0171,  0.0299,  0.0095,  0.0216, -0.0230, -0.0334, -0.0081,\n",
      "        -0.0237,  0.0116,  0.0028,  0.0136, -0.0087, -0.0221,  0.0007, -0.0289],\n",
      "       device='cuda:0')\n",
      "batchnorm.weight tensor([1.0255, 1.0244, 1.0206, 1.0294, 1.0301, 1.0474, 1.0206, 1.0236, 0.9935,\n",
      "        1.0202, 1.0117, 1.0035, 1.0213, 1.0041, 1.0479, 0.9692, 1.0129, 1.0288,\n",
      "        0.9737, 1.0165, 0.9753, 1.0127, 1.0115, 1.0219, 1.0112, 1.0055, 0.9964,\n",
      "        1.0175, 0.9875, 1.0129, 0.9819, 1.0385, 0.9827, 0.9314, 1.0182, 1.0130,\n",
      "        1.0091, 1.0493, 1.0143, 1.0337, 0.9940, 1.0167, 1.0183, 1.0269, 1.0077,\n",
      "        0.9963, 1.0503, 1.0276, 1.0302, 0.9985, 0.9847, 0.9814, 1.0068, 0.9814,\n",
      "        0.9967, 1.0305, 1.0289, 0.9430, 0.9815, 0.9851, 1.0117, 0.9779, 0.9949,\n",
      "        1.0249, 0.9657, 0.9890, 0.9926, 1.0397, 1.0200, 1.0057, 1.0191, 1.0211,\n",
      "        1.0108, 1.0492, 0.9879, 1.0153, 1.0062, 1.0332, 1.0312, 0.9725, 1.0023,\n",
      "        0.9631, 1.0206, 1.0060, 1.0366, 1.0142, 0.9979, 0.9885, 0.9610, 1.0089,\n",
      "        1.0178, 0.9048, 0.8762, 0.9813, 0.9889, 1.0172, 1.0129, 0.9618, 1.0328,\n",
      "        1.0357, 1.0308, 1.0034, 1.0217, 1.0089, 1.0370, 1.0211, 0.9753, 1.0225,\n",
      "        0.9754, 0.9658, 0.9575, 1.0213, 1.0177, 1.0058, 1.0346, 1.0337, 1.0087,\n",
      "        0.9369, 1.0354, 1.0116, 1.0159, 0.9707, 1.0021, 1.0052, 0.9660, 0.9737,\n",
      "        0.9939, 1.0386, 1.0145, 1.0411, 0.9775, 1.0098, 1.0411, 1.0037, 1.0124,\n",
      "        1.0547, 1.0030, 1.0110, 0.9782, 1.0003, 0.9920, 0.9667, 1.0079, 1.0097,\n",
      "        1.0053, 1.0202, 1.0310, 1.0381, 1.0228, 0.9758, 1.0382, 0.9872, 1.0251,\n",
      "        0.9925, 0.9818, 0.9980, 1.0020, 1.0040, 0.9807, 1.0020, 1.0260, 1.0293,\n",
      "        0.9365, 1.0317, 0.9907, 1.0176, 0.9651, 0.9490, 1.0270, 0.9852, 1.0097,\n",
      "        1.0127, 1.0245, 1.0385, 1.0274, 1.0095, 0.9358, 0.9342, 0.9964, 1.0230,\n",
      "        1.0359, 1.0120, 0.9937, 0.9959, 1.0121, 1.0330, 1.0108, 1.0278, 1.0030,\n",
      "        1.0240, 0.9828, 1.0158, 1.0034, 1.0375, 1.0075, 0.9836, 1.0357, 1.0153,\n",
      "        0.9733, 0.9614, 1.0149, 1.0259, 1.0055, 1.0185, 1.0230, 1.0091, 0.9869,\n",
      "        1.0007, 0.9695, 1.0058, 1.0051, 0.9771, 1.0022, 1.0634, 1.0244, 1.0423,\n",
      "        1.0207, 1.0120, 1.0089, 0.9980, 1.0306, 1.0025, 1.0126, 1.0188, 1.0222,\n",
      "        1.0124, 0.9847, 0.9958, 1.0096, 0.9900, 1.0160, 1.0043, 1.0174, 0.9830,\n",
      "        1.0002, 1.0274, 1.0320, 1.0142, 0.9788, 0.9993, 1.0068, 0.9987, 1.0057,\n",
      "        0.9754, 0.9731, 1.0045, 1.0041, 1.0161, 1.0183, 0.9800, 1.0008, 0.9749,\n",
      "        0.9961, 0.9802, 0.9831, 1.0001, 0.9856, 1.0381, 1.0307, 0.9786, 1.0061,\n",
      "        1.0526, 0.9281, 1.0307, 1.0257, 1.0091, 1.0078, 1.0451, 1.0126, 1.0221,\n",
      "        1.0451, 1.0359, 0.9852, 1.0240, 1.0173, 1.0314, 1.0450, 1.0186, 0.9844,\n",
      "        0.9922, 1.0199, 1.0055, 0.9755, 1.0459, 1.0464, 1.0453, 1.0363, 1.0436,\n",
      "        1.0377, 1.0228, 1.0100, 1.0260, 1.0103, 1.0291, 1.0275, 1.0214, 1.0122,\n",
      "        1.0257, 1.0077, 0.9902, 0.9915, 1.0384, 1.0178, 1.0430, 1.0164, 1.0356,\n",
      "        1.0175, 1.0588, 0.9739, 0.9835, 1.0196, 0.9350, 1.0071, 1.0177, 1.0123,\n",
      "        1.0154, 1.0037, 1.0408, 1.0268, 0.9548, 0.9877, 1.0437, 1.0493, 0.9972,\n",
      "        1.0317, 1.0110, 1.0099, 1.0242, 1.0306, 1.0127, 0.9690, 1.0230, 0.9810,\n",
      "        1.0236, 1.0089, 1.0082, 1.0089, 1.0093, 1.0212, 1.0261, 1.0328, 1.0291,\n",
      "        1.0349, 1.0161, 1.0202, 1.0258, 1.0475, 0.9987, 0.9977, 1.0281, 0.9827,\n",
      "        1.0114, 1.0184, 1.0216, 1.0043, 1.0097, 1.0183, 0.9992, 0.9988, 1.0071,\n",
      "        1.0225, 0.9907, 0.9576, 1.0580, 1.0023, 0.9840, 0.9807, 1.0110, 0.9912,\n",
      "        0.9989, 0.9621, 0.9991, 1.0195, 1.0226, 1.0147, 1.0231, 1.0309, 1.0493,\n",
      "        1.0298, 1.0203, 0.9285, 1.0356, 0.9985, 0.9477], device='cuda:0')\n",
      "batchnorm.bias tensor([ 1.5118e-02, -1.1097e-02, -4.6414e-04,  1.4858e-04, -9.7011e-03,\n",
      "         6.2906e-03, -1.1928e-02, -2.0470e-02, -2.8415e-02, -2.8118e-03,\n",
      "         1.4908e-02, -2.1225e-02, -8.0193e-03, -3.0619e-02, -4.5661e-03,\n",
      "        -2.9239e-02, -2.8608e-02,  7.6134e-03, -5.1244e-02, -1.8579e-02,\n",
      "        -4.1049e-02, -1.9665e-02, -3.2027e-02, -6.6730e-03, -1.8910e-02,\n",
      "        -3.8367e-02, -3.8384e-02, -1.0494e-02, -2.3161e-02,  7.7726e-04,\n",
      "        -2.8566e-02,  5.6044e-04, -3.3306e-02, -6.6506e-02,  1.7451e-03,\n",
      "        -1.1367e-02,  4.8487e-04,  1.9783e-02, -1.4564e-02, -1.4296e-03,\n",
      "        -1.6075e-02, -1.0353e-02, -1.1693e-02, -2.3588e-04, -1.4432e-02,\n",
      "        -2.4556e-02,  5.5218e-03, -3.6364e-03, -1.9817e-03, -4.4230e-02,\n",
      "        -7.9731e-03, -2.6440e-02, -1.4654e-02, -5.0893e-02, -2.9924e-02,\n",
      "         1.8024e-03, -1.2262e-02, -4.6088e-02, -4.9569e-02, -1.5872e-02,\n",
      "        -2.6558e-02, -3.6577e-02, -3.2329e-02,  9.1720e-04, -4.1217e-02,\n",
      "        -4.8062e-02, -2.6525e-03, -1.4708e-02, -2.1571e-02, -2.7452e-02,\n",
      "         8.2221e-03,  7.4204e-03, -1.0332e-02, -9.4921e-03, -3.3020e-02,\n",
      "        -8.3940e-04, -4.3208e-02,  6.7685e-03, -1.0823e-02, -4.2581e-02,\n",
      "        -3.6655e-02, -2.5508e-02, -7.4891e-03, -5.5575e-03,  1.7930e-02,\n",
      "         1.4156e-02, -1.9832e-02, -2.1505e-02, -2.9162e-02,  5.3251e-03,\n",
      "        -2.5748e-02, -8.4917e-02, -7.9576e-02, -2.3599e-02,  9.5420e-03,\n",
      "         1.9817e-03, -1.3591e-02, -6.0067e-02,  2.7967e-03, -5.7961e-03,\n",
      "        -2.4700e-03, -1.7834e-02, -1.1162e-02, -3.5528e-03, -3.0348e-03,\n",
      "         4.7846e-03, -2.1316e-02, -5.8233e-03, -1.3010e-02, -4.9635e-02,\n",
      "        -3.4250e-02, -9.7042e-03, -6.2157e-03, -2.0182e-02, -8.6395e-03,\n",
      "         1.7095e-02,  1.7828e-03, -2.4140e-02,  7.6995e-03, -4.2593e-04,\n",
      "        -1.4569e-02, -4.7957e-02, -3.1296e-02, -2.1482e-02, -3.3584e-02,\n",
      "        -5.2334e-02, -2.8890e-02, -6.9691e-03, -1.4730e-02, -3.9890e-03,\n",
      "        -1.7982e-02, -1.2198e-02,  2.7906e-04, -1.1984e-02, -5.0627e-02,\n",
      "         5.2690e-03, -5.5003e-03,  8.3625e-03, -5.7870e-02, -2.7305e-02,\n",
      "        -1.0150e-02, -6.0359e-02, -2.8394e-02, -2.5183e-03, -7.6530e-03,\n",
      "        -1.4769e-02,  2.8578e-03,  8.8926e-03, -5.8993e-03, -1.6132e-02,\n",
      "         9.4916e-03, -3.0150e-02,  4.0573e-02, -2.9503e-02, -2.3842e-02,\n",
      "        -2.2353e-02, -1.5870e-02, -2.1477e-02, -1.9020e-02, -2.8983e-02,\n",
      "        -1.2988e-02,  1.4225e-02, -5.4854e-02,  1.2719e-02, -4.1659e-02,\n",
      "        -2.4208e-02, -6.1945e-02, -6.8409e-02, -2.6840e-02, -2.1692e-02,\n",
      "        -2.5326e-03,  1.0125e-02, -9.7003e-03,  8.0220e-03, -9.6845e-03,\n",
      "        -3.2970e-02, -6.3230e-02, -6.3068e-02, -1.7255e-02,  6.1661e-03,\n",
      "         1.2326e-02, -1.5575e-02, -1.9032e-02, -2.5057e-02, -2.5715e-02,\n",
      "         9.0017e-03, -5.0946e-03, -1.8342e-02, -3.1782e-02, -1.2275e-02,\n",
      "        -2.4553e-02, -2.8253e-02, -2.1542e-02, -4.2776e-03, -3.3787e-04,\n",
      "        -3.5225e-02,  1.1847e-02, -1.9536e-02, -3.1330e-02, -2.1240e-02,\n",
      "        -1.5045e-02, -1.3309e-02, -5.0593e-03, -1.0042e-02, -1.9474e-02,\n",
      "        -1.9926e-02, -1.9573e-02, -4.1719e-02, -3.1397e-02, -2.1161e-02,\n",
      "        -2.9810e-02, -2.6103e-02, -3.1664e-02,  2.1205e-02, -3.1667e-02,\n",
      "         1.3515e-04, -1.6871e-02,  5.6826e-03, -9.1097e-03, -2.8297e-02,\n",
      "         8.7363e-03, -2.7152e-02, -1.1632e-02, -3.3604e-03,  1.9360e-03,\n",
      "        -1.8010e-02, -2.4142e-02, -2.6108e-02, -2.5275e-02, -2.5329e-02,\n",
      "         2.7667e-02, -2.9445e-02, -2.1033e-03, -2.9977e-02, -1.9662e-02,\n",
      "        -2.1254e-03, -1.5319e-02, -1.8518e-02, -4.3888e-02, -3.4875e-02,\n",
      "        -1.9177e-02, -3.1642e-02, -3.9773e-02, -3.5462e-02, -3.7909e-02,\n",
      "        -2.3399e-02, -8.8866e-03, -3.0194e-02, -9.7722e-03, -2.7046e-02,\n",
      "        -4.3031e-02, -1.8941e-02, -3.3369e-02, -6.5700e-02, -3.8090e-02,\n",
      "        -1.3369e-02, -3.8233e-02,  2.2751e-02,  1.5432e-02, -3.1993e-02,\n",
      "        -2.1240e-02, -4.5694e-03, -9.3849e-02,  1.5305e-02, -2.3535e-02,\n",
      "        -2.5173e-03, -4.3132e-02,  9.7302e-03, -2.2353e-02,  7.4880e-03,\n",
      "        -2.9588e-02,  1.3878e-02, -2.8504e-02, -7.6752e-03,  6.6161e-03,\n",
      "         1.9773e-02,  2.1877e-02, -2.9761e-02, -1.7057e-02,  1.5646e-02,\n",
      "        -2.6436e-02, -3.2156e-02, -6.6712e-02,  8.4001e-03,  1.8906e-02,\n",
      "         4.1461e-03, -1.6947e-02, -9.9098e-03, -1.3352e-02,  5.5570e-03,\n",
      "        -1.6708e-02, -4.6085e-03, -3.4337e-02, -1.8993e-02, -1.9193e-02,\n",
      "        -1.8633e-02, -1.1783e-02, -1.8460e-02, -9.2065e-03, -1.0410e-02,\n",
      "        -2.9671e-05,  4.8716e-03, -8.3045e-03,  3.1707e-03,  9.7528e-04,\n",
      "         8.2120e-04,  2.6291e-02,  2.7678e-02, -3.2576e-02, -2.4324e-02,\n",
      "        -6.2653e-04, -7.5804e-02, -3.4729e-03, -1.8244e-02, -2.6189e-02,\n",
      "        -1.7086e-02, -1.6201e-02,  3.9967e-03,  9.6304e-03, -5.7558e-02,\n",
      "        -4.2233e-02, -1.2688e-02,  1.7604e-02, -1.1456e-02,  5.9135e-03,\n",
      "        -1.5656e-02,  5.0744e-03, -4.0374e-03, -1.3510e-02, -2.5066e-02,\n",
      "        -4.0824e-02, -6.0044e-03, -2.5719e-02, -2.6508e-02, -1.1703e-02,\n",
      "        -2.4357e-02,  6.3146e-03, -3.6771e-02,  1.6206e-03, -1.7040e-02,\n",
      "         1.1229e-02, -1.5536e-02,  6.6679e-03, -1.0799e-02, -3.7415e-02,\n",
      "         1.0219e-03, -1.5631e-02, -4.6555e-03, -2.5541e-02,  1.1473e-02,\n",
      "        -3.0289e-02, -1.7418e-02, -2.2866e-02,  5.7299e-03, -1.4841e-02,\n",
      "        -4.3739e-02,  4.8051e-03, -2.6951e-02, -2.1911e-02, -4.6963e-02,\n",
      "        -9.7764e-03, -2.9636e-02, -3.4046e-02,  1.8329e-02, -7.3037e-03,\n",
      "        -1.5180e-02, -3.1338e-02,  1.4013e-02, -4.2828e-02, -2.1933e-02,\n",
      "        -3.9904e-02, -2.3126e-02, -2.4931e-02,  1.3143e-02, -2.9872e-02,\n",
      "         9.0934e-03, -1.2664e-02, -2.1804e-02, -1.4321e-02, -4.4001e-03,\n",
      "        -6.6246e-02, -8.7212e-03, -4.8245e-02, -4.6092e-02], device='cuda:0')\n",
      "lstm.weight_ih_l0 tensor([[ 0.0488, -0.0456,  0.0640,  ...,  0.0264, -0.0077,  0.0551],\n",
      "        [ 0.0332, -0.0033, -0.0162,  ...,  0.0101, -0.0298, -0.0170],\n",
      "        [-0.0265, -0.0031, -0.0245,  ...,  0.0041, -0.0390, -0.0467],\n",
      "        ...,\n",
      "        [-0.0309, -0.0478, -0.0597,  ..., -0.0287, -0.0489, -0.0470],\n",
      "        [ 0.0215, -0.0448,  0.0502,  ...,  0.0203, -0.0419,  0.0185],\n",
      "        [-0.0491, -0.0546, -0.0294,  ..., -0.0471, -0.0996, -0.0476]],\n",
      "       device='cuda:0')\n",
      "lstm.weight_hh_l0 tensor([[ 0.0457,  0.0128, -0.0348,  ...,  0.0008,  0.0122, -0.0542],\n",
      "        [ 0.0183,  0.0084,  0.0247,  ...,  0.0206, -0.0417, -0.0084],\n",
      "        [ 0.0720, -0.0648,  0.0091,  ...,  0.0507, -0.0024, -0.0294],\n",
      "        ...,\n",
      "        [ 0.0377, -0.0030,  0.0160,  ..., -0.0009,  0.0345,  0.0090],\n",
      "        [ 0.0623, -0.0260, -0.0518,  ..., -0.0390, -0.0172, -0.0261],\n",
      "        [-0.0161, -0.0203, -0.0074,  ..., -0.0246,  0.0336,  0.0023]],\n",
      "       device='cuda:0')\n",
      "lstm.bias_ih_l0 tensor([ 0.0384, -0.0463, -0.0673,  ..., -0.0139, -0.0240, -0.0309],\n",
      "       device='cuda:0')\n",
      "lstm.bias_hh_l0 tensor([ 0.0104,  0.0264, -0.0021,  ..., -0.0060,  0.0049, -0.0679],\n",
      "       device='cuda:0')\n",
      "lstm.weight_ih_l1 tensor([[ 0.0437,  0.0406, -0.0231,  ..., -0.0275, -0.0525, -0.0200],\n",
      "        [ 0.0029, -0.0430, -0.0201,  ..., -0.0551,  0.0315,  0.0213],\n",
      "        [ 0.0276,  0.0301,  0.0096,  ...,  0.0136, -0.0355, -0.0001],\n",
      "        ...,\n",
      "        [-0.0144, -0.0099,  0.0240,  ..., -0.0157,  0.0576,  0.0445],\n",
      "        [ 0.0217, -0.0207, -0.0544,  ...,  0.0087,  0.0098, -0.0263],\n",
      "        [-0.0192, -0.0330, -0.0315,  ...,  0.0168, -0.0125,  0.0081]],\n",
      "       device='cuda:0')\n",
      "lstm.weight_hh_l1 tensor([[-0.0479, -0.0342,  0.0018,  ...,  0.0133,  0.0277,  0.0097],\n",
      "        [ 0.0120, -0.0204,  0.0134,  ...,  0.0482,  0.0228,  0.0214],\n",
      "        [-0.0195, -0.0431,  0.0092,  ..., -0.0371,  0.0494,  0.0097],\n",
      "        ...,\n",
      "        [ 0.0187, -0.0445, -0.0345,  ...,  0.0246,  0.0289, -0.0052],\n",
      "        [ 0.0144,  0.0651, -0.0200,  ...,  0.0012,  0.0011, -0.0140],\n",
      "        [-0.0037, -0.0031, -0.0135,  ..., -0.0135,  0.0140,  0.0106]],\n",
      "       device='cuda:0')\n",
      "lstm.bias_ih_l1 tensor([ 0.0064, -0.0863,  0.0144,  ...,  0.0213, -0.0648, -0.0651],\n",
      "       device='cuda:0')\n",
      "lstm.bias_hh_l1 tensor([-0.0527, -0.0506,  0.0143,  ..., -0.0480, -0.0470, -0.0179],\n",
      "       device='cuda:0')\n",
      "linear.weight tensor([[-0.0196, -0.0133, -0.0228,  ..., -0.0042,  0.0541, -0.0568],\n",
      "        [-0.0275,  0.0409, -0.0521,  ..., -0.0604, -0.0209,  0.0025],\n",
      "        [-0.0549, -0.0365, -0.0376,  ...,  0.0272, -0.0009, -0.0556],\n",
      "        ...,\n",
      "        [ 0.0292,  0.0007,  0.0697,  ..., -0.0355,  0.0395, -0.0049],\n",
      "        [ 0.0302,  0.0044,  0.0262,  ..., -0.0321, -0.0303,  0.0128],\n",
      "        [-0.1054, -0.0244, -0.1383,  ...,  0.0131,  0.0948,  0.0338]],\n",
      "       device='cuda:0')\n",
      "linear.bias tensor([ 0.0190, -0.0214,  0.0080,  0.0339,  0.0041, -0.0263, -0.0440],\n",
      "       device='cuda:0')\n"
     ]
    }
   ],
   "source": [
    "for name, param in model.named_parameters():\n",
    "    if param.requires_grad:\n",
    "        print(name, param.data)"
   ]
  },
  {
   "cell_type": "code",
   "execution_count": 61,
   "id": "cc9b6fd0",
   "metadata": {},
   "outputs": [],
   "source": [
    "model_path = main_path + f'/models/wav2veclarge/holdout_{holdout}.pth'\n",
    "\n",
    "torch.save({'epoch':epochs,\n",
    "            'model_state_dict':model.state_dict(),\n",
    "            'optimizer_state_dict':optimizer.state_dict()},\n",
    "            model_path)"
   ]
  },
  {
   "cell_type": "code",
   "execution_count": null,
   "id": "d0aac69d",
   "metadata": {},
   "outputs": [],
   "source": []
  }
 ],
 "metadata": {
  "kernelspec": {
   "display_name": "Python 3",
   "language": "python",
   "name": "python3"
  },
  "language_info": {
   "codemirror_mode": {
    "name": "ipython",
    "version": 3
   },
   "file_extension": ".py",
   "mimetype": "text/x-python",
   "name": "python",
   "nbconvert_exporter": "python",
   "pygments_lexer": "ipython3",
   "version": "3.7.12"
  }
 },
 "nbformat": 4,
 "nbformat_minor": 5
}
