{
 "cells": [
  {
   "cell_type": "code",
   "execution_count": 1,
   "id": "fcff203e",
   "metadata": {},
   "outputs": [],
   "source": [
    "import re\n",
    "import os\n",
    "import pandas as pd\n",
    "import random\n",
    "from tqdm import tqdm \n",
    "\n",
    "file_paths, file_names, emotions, audios = [], [], [], []\n",
    "emotion_map = {'Neutral': 'neutral', 'Anger': 'angry', 'Happiness': 'happy', 'Sadness': 'sad', 'Fear': 'fear',\n",
    "              'Disgust': 'disgust'}\n",
    "\n",
    "main_path = '/home/rl3155/Multilingual-Speech-Emotion-Recognition-System/Spanish/Spanish_New'\n",
    "DATA_NATURAL = \"/home/rl3155/MESD_All\""
   ]
  },
  {
   "cell_type": "code",
   "execution_count": 2,
   "id": "371d6085",
   "metadata": {},
   "outputs": [
    {
     "name": "stdout",
     "output_type": "stream",
     "text": [
      "1.12.1\n",
      "0.12.1+cu113\n",
      "cuda\n"
     ]
    }
   ],
   "source": [
    "import torch\n",
    "import torchaudio\n",
    "\n",
    "print(torch.__version__)\n",
    "print(torchaudio.__version__)\n",
    "\n",
    "torch.random.manual_seed(0)\n",
    "device = torch.device(\"cuda\" if torch.cuda.is_available() else \"cpu\")\n",
    "\n",
    "print(device)"
   ]
  },
  {
   "cell_type": "code",
   "execution_count": 3,
   "id": "4675fdb9",
   "metadata": {},
   "outputs": [
    {
     "name": "stdout",
     "output_type": "stream",
     "text": [
      "<class 'torchaudio.models.wav2vec2.model.Wav2Vec2Model'>\n",
      "16000\n"
     ]
    }
   ],
   "source": [
    "bundle = torchaudio.pipelines.HUBERT_BASE\n",
    "extractor = bundle.get_model()\n",
    "print(extractor.__class__)\n",
    "print(bundle.sample_rate)"
   ]
  },
  {
   "cell_type": "markdown",
   "id": "682ce5bd",
   "metadata": {},
   "source": [
    "### Random get 5 parts of the entries -- only run code below 1 time"
   ]
  },
  {
   "cell_type": "code",
   "execution_count": 4,
   "id": "af158f24",
   "metadata": {},
   "outputs": [],
   "source": [
    "# Define path to datasets; create a random chunked 5 parts of entries\n",
    "# entries = os.listdir(DATA_NATURAL)\n",
    "# random.shuffle(entries)\n",
    "# session = []\n",
    "# equal_parts = (len(entries)-1)//5 # for equally split the entries into 5 parts\n",
    "# count = 0\n",
    "# for i in tqdm(range(len(entries))):\n",
    "#     entry = entries[i]\n",
    "#     if \"wav\" not in entry:\n",
    "#         continue\n",
    "#     path = DATA_NATURAL + \"/\" + entry\n",
    "#     emotion = emotion_map[entry.split(\"_\")[0]]\n",
    "#     file_paths.append(path)\n",
    "#     file_names.append(entry)\n",
    "#     emotions.append(emotion)\n",
    "    \n",
    "#     # assign session to it\n",
    "#     part = (count//equal_parts)%6 + 1\n",
    "#     if part == 6:\n",
    "#         part = 5\n",
    "#     session.append(part)\n",
    "#     count += 1\n",
    "\n",
    "# file = pd.DataFrame({'path':file_paths, 'name': file_names, 'emotion': emotions, 'session': session})\n",
    "# dataframe_path = main_path + '/session_entries.csv'\n",
    "# file.to_csv(dataframe_path)"
   ]
  },
  {
   "cell_type": "markdown",
   "id": "45ea79eb",
   "metadata": {},
   "source": [
    "### Extract Features using Models"
   ]
  },
  {
   "cell_type": "code",
   "execution_count": 6,
   "id": "b89c352b",
   "metadata": {},
   "outputs": [
    {
     "data": {
      "text/html": [
       "<div>\n",
       "<style scoped>\n",
       "    .dataframe tbody tr th:only-of-type {\n",
       "        vertical-align: middle;\n",
       "    }\n",
       "\n",
       "    .dataframe tbody tr th {\n",
       "        vertical-align: top;\n",
       "    }\n",
       "\n",
       "    .dataframe thead th {\n",
       "        text-align: right;\n",
       "    }\n",
       "</style>\n",
       "<table border=\"1\" class=\"dataframe\">\n",
       "  <thead>\n",
       "    <tr style=\"text-align: right;\">\n",
       "      <th></th>\n",
       "      <th>path</th>\n",
       "      <th>name</th>\n",
       "      <th>emotion</th>\n",
       "      <th>session</th>\n",
       "    </tr>\n",
       "  </thead>\n",
       "  <tbody>\n",
       "    <tr>\n",
       "      <th>0</th>\n",
       "      <td>/home/rl3155/MESD_All/Fear_F_A_basta_ya.wav</td>\n",
       "      <td>Fear_F_A_basta_ya.wav</td>\n",
       "      <td>fear</td>\n",
       "      <td>1</td>\n",
       "    </tr>\n",
       "    <tr>\n",
       "      <th>1</th>\n",
       "      <td>/home/rl3155/MESD_All/Happiness_M_A_arriba.wav</td>\n",
       "      <td>Happiness_M_A_arriba.wav</td>\n",
       "      <td>happy</td>\n",
       "      <td>1</td>\n",
       "    </tr>\n",
       "    <tr>\n",
       "      <th>2</th>\n",
       "      <td>/home/rl3155/MESD_All/Fear_F_B_arana.wav</td>\n",
       "      <td>Fear_F_B_arana.wav</td>\n",
       "      <td>fear</td>\n",
       "      <td>1</td>\n",
       "    </tr>\n",
       "    <tr>\n",
       "      <th>3</th>\n",
       "      <td>/home/rl3155/MESD_All/Neutral_M_B_articulo.wav</td>\n",
       "      <td>Neutral_M_B_articulo.wav</td>\n",
       "      <td>neutral</td>\n",
       "      <td>1</td>\n",
       "    </tr>\n",
       "    <tr>\n",
       "      <th>4</th>\n",
       "      <td>/home/rl3155/MESD_All/Disgust_F_A_antes.wav</td>\n",
       "      <td>Disgust_F_A_antes.wav</td>\n",
       "      <td>disgust</td>\n",
       "      <td>1</td>\n",
       "    </tr>\n",
       "  </tbody>\n",
       "</table>\n",
       "</div>"
      ],
      "text/plain": [
       "                                             path                      name  \\\n",
       "0     /home/rl3155/MESD_All/Fear_F_A_basta_ya.wav     Fear_F_A_basta_ya.wav   \n",
       "1  /home/rl3155/MESD_All/Happiness_M_A_arriba.wav  Happiness_M_A_arriba.wav   \n",
       "2        /home/rl3155/MESD_All/Fear_F_B_arana.wav        Fear_F_B_arana.wav   \n",
       "3  /home/rl3155/MESD_All/Neutral_M_B_articulo.wav  Neutral_M_B_articulo.wav   \n",
       "4     /home/rl3155/MESD_All/Disgust_F_A_antes.wav     Disgust_F_A_antes.wav   \n",
       "\n",
       "   emotion  session  \n",
       "0     fear        1  \n",
       "1    happy        1  \n",
       "2     fear        1  \n",
       "3  neutral        1  \n",
       "4  disgust        1  "
      ]
     },
     "execution_count": 6,
     "metadata": {},
     "output_type": "execute_result"
    }
   ],
   "source": [
    "# Get the entries with assigned session\n",
    "\n",
    "dataframe_path = '/home/rl3155/Multilingual-Speech-Emotion-Recognition-System/Spanish/session_entries.csv'\n",
    "file = pd.read_csv(dataframe_path)[['path', 'name', 'emotion', 'session']]\n",
    "file.head()"
   ]
  },
  {
   "cell_type": "code",
   "execution_count": 7,
   "id": "9dcc58f6",
   "metadata": {},
   "outputs": [
    {
     "name": "stderr",
     "output_type": "stream",
     "text": [
      "100%|██████████████████████████████████████████████████████████████████████████████████████████████████████████████████████████████████████████████████████████████████████████████████████████████████████████| 862/862 [01:42<00:00,  8.38it/s]\n"
     ]
    }
   ],
   "source": [
    "from tqdm import tqdm\n",
    "\n",
    "for i in tqdm(range(len(file['path']))):\n",
    "    path = file['path'][i]\n",
    "    wave, sr = torchaudio.load(path)\n",
    "    if sr != bundle.sample_rate:\n",
    "        wave = torchaudio.functional.resample(wave, sr, bundle.sample_rate)\n",
    "    with torch.inference_mode():\n",
    "        feature, _ = extractor.extract_features(wave)\n",
    "    feature = [f[0] for f in feature]\n",
    "    audio = torch.stack(feature)\n",
    "    audios.append(audio)"
   ]
  },
  {
   "cell_type": "code",
   "execution_count": 8,
   "id": "de6642eb",
   "metadata": {},
   "outputs": [],
   "source": [
    "file['audio'] = audios"
   ]
  },
  {
   "cell_type": "markdown",
   "id": "9558abec",
   "metadata": {},
   "source": [
    "### Load Data"
   ]
  },
  {
   "cell_type": "code",
   "execution_count": 49,
   "id": "71a55670",
   "metadata": {},
   "outputs": [],
   "source": [
    "holdout = 5\n",
    "train = file[file['session'] != holdout]\n",
    "test = file[file['session'] == holdout]"
   ]
  },
  {
   "cell_type": "code",
   "execution_count": 50,
   "id": "75a75bd9",
   "metadata": {},
   "outputs": [],
   "source": [
    "class MyDataSet(torch.utils.data.Dataset):\n",
    "    def __init__(self, audios, labels, label_transform):\n",
    "        super(MyDataSet).__init__()\n",
    "        self.audios = audios\n",
    "        self.labels = labels\n",
    "        self.label_transform = label_transform\n",
    "        \n",
    "    def __getitem__(self, idx):\n",
    "        label = self.label_transform[self.labels[idx]]\n",
    "        audio = self.audios[idx]\n",
    "        length = audio.size(1)\n",
    "        return audio, length, label\n",
    "    \n",
    "    def __len__(self):\n",
    "        return len(self.labels)"
   ]
  },
  {
   "cell_type": "code",
   "execution_count": 51,
   "id": "141ec40a",
   "metadata": {},
   "outputs": [],
   "source": [
    "def collate_indic(data):\n",
    "    audios, lengths, labels = zip(*data)\n",
    "    max_len = max(lengths)\n",
    "    n_ftrs = audios[0].size(2)\n",
    "    n_dims = audios[0].size(0)\n",
    "    features = torch.zeros((len(audios), n_dims, max_len, n_ftrs))\n",
    "    labels = torch.tensor(labels)\n",
    "    lengths = torch.tensor(lengths)\n",
    "\n",
    "    for i in range(len(data)):\n",
    "        j, k = audios[i].size(1), audios[i].size(2)\n",
    "        features[i] = torch.cat([audios[i], torch.zeros((n_dims, max_len - j, k))], dim=1)\n",
    "\n",
    "    return features, lengths, labels"
   ]
  },
  {
   "cell_type": "code",
   "execution_count": 52,
   "id": "0738ead4",
   "metadata": {},
   "outputs": [
    {
     "data": {
      "text/plain": [
       "{'neutral': 0, 'angry': 1, 'happy': 2, 'sad': 3, 'fear': 4, 'disgust': 5}"
      ]
     },
     "execution_count": 52,
     "metadata": {},
     "output_type": "execute_result"
    }
   ],
   "source": [
    "categories = ['neutral', 'angry', 'happy', 'sad', 'fear', 'disgust']\n",
    "cate_dic = {}\n",
    "for i, cate in enumerate(categories):\n",
    "    cate_dic[cate] = i\n",
    "cate_dic"
   ]
  },
  {
   "cell_type": "code",
   "execution_count": 53,
   "id": "9aa549a4",
   "metadata": {},
   "outputs": [],
   "source": [
    "from torch.utils.data import DataLoader\n",
    "\n",
    "train_dataset = MyDataSet(train['audio'].tolist(), train['emotion'].tolist(), cate_dic)\n",
    "trainloader_args = dict(batch_size=16, shuffle=True)\n",
    "train_dataloader = DataLoader(train_dataset, **trainloader_args, \n",
    "                              collate_fn=collate_indic)\n",
    "\n",
    "test_dataset = MyDataSet(test['audio'].tolist(), test['emotion'].tolist(), cate_dic)\n",
    "testloader_args = dict(batch_size=16, shuffle=True)\n",
    "test_dataloader = DataLoader(test_dataset, **testloader_args, \n",
    "                             collate_fn=collate_indic)"
   ]
  },
  {
   "cell_type": "markdown",
   "id": "adf4848c",
   "metadata": {},
   "source": [
    "## Train with 3CNN+LSTM"
   ]
  },
  {
   "cell_type": "code",
   "execution_count": 54,
   "id": "2ef1a6ec",
   "metadata": {},
   "outputs": [],
   "source": [
    "import torch.nn as nn\n",
    "import torch.nn.functional as F\n",
    "\n",
    "class ICASSP3CNN(nn.Module):\n",
    "    def __init__(self, vocab_size, dims = 12, embed_size=128, hidden_size=512, num_lstm_layers = 2, bidirectional = False, label_size=7):\n",
    "        super().__init__()\n",
    "        self.n_layers = num_lstm_layers \n",
    "        self.hidden = hidden_size\n",
    "        self.bidirectional = bidirectional\n",
    "        \n",
    "        self.aggr = nn.Conv1d(in_channels=dims, out_channels=1, kernel_size=1)\n",
    "        \n",
    "        self.embed = nn.Linear(in_features = vocab_size, out_features = embed_size)\n",
    "\n",
    "        self.cnn  = nn.Conv1d(embed_size, embed_size, kernel_size=3, padding=1)\n",
    "        self.cnn2 = nn.Conv1d(embed_size, embed_size, kernel_size=5, padding=2)\n",
    "        self.cnn3 = nn.Conv1d(embed_size, embed_size, kernel_size=7, padding=3)\n",
    "\n",
    "        self.batchnorm = nn.BatchNorm1d(3 * embed_size)\n",
    "\n",
    "        self.lstm = nn.LSTM(input_size = 3 * embed_size, \n",
    "                            hidden_size = hidden_size, \n",
    "                            num_layers = num_lstm_layers, \n",
    "                            bidirectional = bidirectional)\n",
    "\n",
    "        self.linear = nn.Linear(in_features = 2 * hidden_size if bidirectional else hidden_size, \n",
    "                                out_features = label_size)\n",
    "\n",
    "\n",
    "    def forward(self, x, lengths):\n",
    "        \"\"\"\n",
    "        padded_x: (B,T) padded LongTensor\n",
    "        \"\"\"\n",
    "        n, d, b, t = x.size(0), x.size(1), x.size(2), x.size(3)\n",
    "        x = torch.flatten(x, start_dim=2)\n",
    "        input = self.aggr(x)\n",
    "        input = torch.reshape(input, (n, b, t))\n",
    "        input = self.embed(input)\n",
    "\n",
    "        batch_size = input.size(0)\n",
    "        input = input.transpose(1,2)    # (B,T,H) -> (B,H,T)\n",
    "\n",
    "        cnn_output = torch.cat([self.cnn(input), self.cnn2(input), self.cnn3(input)], dim=1)\n",
    "\n",
    "        input = F.relu(self.batchnorm(cnn_output))\n",
    "\n",
    "        input = input.transpose(1,2)\n",
    "\n",
    "        pack_tensor = nn.utils.rnn.pack_padded_sequence(input, lengths, batch_first=True, enforce_sorted=False)\n",
    "        _, (hn, cn) = self.lstm(pack_tensor)\n",
    "\n",
    "        if self.bidirectional:\n",
    "            h_n = hn.view(self.n_layers, 2, batch_size, self.hidden)\n",
    "            h_n = torch.cat([ h_n[-1, 0,:], h_n[-1,1,:] ], dim = 1)\n",
    "        else:\n",
    "            h_n = hn[-1]\n",
    "\n",
    "        logits = self.linear(h_n)\n",
    "\n",
    "        return logits"
   ]
  },
  {
   "cell_type": "markdown",
   "id": "21a7d392",
   "metadata": {},
   "source": [
    "### Model Traning on each layer "
   ]
  },
  {
   "cell_type": "code",
   "execution_count": 55,
   "id": "75762bdc",
   "metadata": {},
   "outputs": [
    {
     "name": "stderr",
     "output_type": "stream",
     "text": [
      "  2%|████                                                                                                                                                                                                         | 1/50 [00:01<01:21,  1.67s/it]"
     ]
    },
    {
     "name": "stdout",
     "output_type": "stream",
     "text": [
      "epoch:1, train accu:0.3299, train loss:1.65\n"
     ]
    },
    {
     "name": "stderr",
     "output_type": "stream",
     "text": [
      "\r",
      "  4%|████████▏                                                                                                                                                                                                    | 2/50 [00:03<01:17,  1.61s/it]"
     ]
    },
    {
     "name": "stdout",
     "output_type": "stream",
     "text": [
      "epoch:2, train accu:0.5814, train loss:1.11\n"
     ]
    },
    {
     "name": "stderr",
     "output_type": "stream",
     "text": [
      "\r",
      "  6%|████████████▎                                                                                                                                                                                                | 3/50 [00:04<01:14,  1.59s/it]"
     ]
    },
    {
     "name": "stdout",
     "output_type": "stream",
     "text": [
      "epoch:3, train accu:0.7311, train loss:0.80\n"
     ]
    },
    {
     "name": "stderr",
     "output_type": "stream",
     "text": [
      "\r",
      "  8%|████████████████▍                                                                                                                                                                                            | 4/50 [00:06<01:12,  1.58s/it]"
     ]
    },
    {
     "name": "stdout",
     "output_type": "stream",
     "text": [
      "epoch:4, train accu:0.7863, train loss:0.64\n"
     ]
    },
    {
     "name": "stderr",
     "output_type": "stream",
     "text": [
      "\r",
      " 10%|████████████████████▌                                                                                                                                                                                        | 5/50 [00:07<01:10,  1.56s/it]"
     ]
    },
    {
     "name": "stdout",
     "output_type": "stream",
     "text": [
      "epoch:5, train accu:0.8314, train loss:0.54\n"
     ]
    },
    {
     "name": "stderr",
     "output_type": "stream",
     "text": [
      "\r",
      " 12%|████████████████████████▌                                                                                                                                                                                    | 6/50 [00:09<01:08,  1.57s/it]"
     ]
    },
    {
     "name": "stdout",
     "output_type": "stream",
     "text": [
      "epoch:6, train accu:0.8735, train loss:0.37\n"
     ]
    },
    {
     "name": "stderr",
     "output_type": "stream",
     "text": [
      "\r",
      " 14%|████████████████████████████▋                                                                                                                                                                                | 7/50 [00:11<01:07,  1.58s/it]"
     ]
    },
    {
     "name": "stdout",
     "output_type": "stream",
     "text": [
      "epoch:7, train accu:0.9288, train loss:0.25\n"
     ]
    },
    {
     "name": "stderr",
     "output_type": "stream",
     "text": [
      "\r",
      " 16%|████████████████████████████████▊                                                                                                                                                                            | 8/50 [00:12<01:05,  1.56s/it]"
     ]
    },
    {
     "name": "stdout",
     "output_type": "stream",
     "text": [
      "epoch:8, train accu:0.9230, train loss:0.27\n"
     ]
    },
    {
     "name": "stderr",
     "output_type": "stream",
     "text": [
      "\r",
      " 18%|████████████████████████████████████▉                                                                                                                                                                        | 9/50 [00:14<01:03,  1.56s/it]"
     ]
    },
    {
     "name": "stdout",
     "output_type": "stream",
     "text": [
      "epoch:9, train accu:0.9506, train loss:0.15\n"
     ]
    },
    {
     "name": "stderr",
     "output_type": "stream",
     "text": [
      "\r",
      " 20%|████████████████████████████████████████▊                                                                                                                                                                   | 10/50 [00:15<01:02,  1.56s/it]"
     ]
    },
    {
     "name": "stdout",
     "output_type": "stream",
     "text": [
      "epoch:10, train accu:0.9375, train loss:0.19\n"
     ]
    },
    {
     "name": "stderr",
     "output_type": "stream",
     "text": [
      "\r",
      " 22%|████████████████████████████████████████████▉                                                                                                                                                               | 11/50 [00:17<01:01,  1.57s/it]"
     ]
    },
    {
     "name": "stdout",
     "output_type": "stream",
     "text": [
      "epoch:11, train accu:0.9622, train loss:0.14\n"
     ]
    },
    {
     "name": "stderr",
     "output_type": "stream",
     "text": [
      "\r",
      " 24%|████████████████████████████████████████████████▉                                                                                                                                                           | 12/50 [00:18<00:59,  1.55s/it]"
     ]
    },
    {
     "name": "stdout",
     "output_type": "stream",
     "text": [
      "epoch:12, train accu:0.9608, train loss:0.15\n"
     ]
    },
    {
     "name": "stderr",
     "output_type": "stream",
     "text": [
      "\r",
      " 26%|█████████████████████████████████████████████████████                                                                                                                                                       | 13/50 [00:20<00:57,  1.55s/it]"
     ]
    },
    {
     "name": "stdout",
     "output_type": "stream",
     "text": [
      "epoch:13, train accu:0.9724, train loss:0.08\n"
     ]
    },
    {
     "name": "stderr",
     "output_type": "stream",
     "text": [
      "\r",
      " 28%|█████████████████████████████████████████████████████████                                                                                                                                                   | 14/50 [00:21<00:56,  1.57s/it]"
     ]
    },
    {
     "name": "stdout",
     "output_type": "stream",
     "text": [
      "epoch:14, train accu:0.9535, train loss:0.16\n"
     ]
    },
    {
     "name": "stderr",
     "output_type": "stream",
     "text": [
      "\r",
      " 30%|█████████████████████████████████████████████████████████████▏                                                                                                                                              | 15/50 [00:23<00:54,  1.56s/it]"
     ]
    },
    {
     "name": "stdout",
     "output_type": "stream",
     "text": [
      "epoch:15, train accu:0.9782, train loss:0.08\n"
     ]
    },
    {
     "name": "stderr",
     "output_type": "stream",
     "text": [
      "\r",
      " 32%|█████████████████████████████████████████████████████████████████▎                                                                                                                                          | 16/50 [00:25<00:53,  1.57s/it]"
     ]
    },
    {
     "name": "stdout",
     "output_type": "stream",
     "text": [
      "epoch:16, train accu:0.9840, train loss:0.06\n"
     ]
    },
    {
     "name": "stderr",
     "output_type": "stream",
     "text": [
      "\r",
      " 34%|█████████████████████████████████████████████████████████████████████▎                                                                                                                                      | 17/50 [00:27<00:56,  1.73s/it]"
     ]
    },
    {
     "name": "stdout",
     "output_type": "stream",
     "text": [
      "epoch:17, train accu:0.9811, train loss:0.07\n"
     ]
    },
    {
     "name": "stderr",
     "output_type": "stream",
     "text": [
      "\r",
      " 36%|█████████████████████████████████████████████████████████████████████████▍                                                                                                                                  | 18/50 [00:29<00:56,  1.78s/it]"
     ]
    },
    {
     "name": "stdout",
     "output_type": "stream",
     "text": [
      "epoch:18, train accu:0.9767, train loss:0.06\n"
     ]
    },
    {
     "name": "stderr",
     "output_type": "stream",
     "text": [
      "\r",
      " 38%|█████████████████████████████████████████████████████████████████████████████▌                                                                                                                              | 19/50 [00:30<00:53,  1.71s/it]"
     ]
    },
    {
     "name": "stdout",
     "output_type": "stream",
     "text": [
      "epoch:19, train accu:0.9724, train loss:0.11\n"
     ]
    },
    {
     "name": "stderr",
     "output_type": "stream",
     "text": [
      "\r",
      " 40%|█████████████████████████████████████████████████████████████████████████████████▌                                                                                                                          | 20/50 [00:32<00:49,  1.67s/it]"
     ]
    },
    {
     "name": "stdout",
     "output_type": "stream",
     "text": [
      "epoch:20, train accu:0.9666, train loss:0.09\n"
     ]
    },
    {
     "name": "stderr",
     "output_type": "stream",
     "text": [
      "\r",
      " 42%|█████████████████████████████████████████████████████████████████████████████████████▋                                                                                                                      | 21/50 [00:33<00:47,  1.63s/it]"
     ]
    },
    {
     "name": "stdout",
     "output_type": "stream",
     "text": [
      "epoch:21, train accu:0.9782, train loss:0.07\n"
     ]
    },
    {
     "name": "stderr",
     "output_type": "stream",
     "text": [
      "\r",
      " 44%|█████████████████████████████████████████████████████████████████████████████████████████▊                                                                                                                  | 22/50 [00:35<00:45,  1.61s/it]"
     ]
    },
    {
     "name": "stdout",
     "output_type": "stream",
     "text": [
      "epoch:22, train accu:0.9898, train loss:0.03\n"
     ]
    },
    {
     "name": "stderr",
     "output_type": "stream",
     "text": [
      "\r",
      " 46%|█████████████████████████████████████████████████████████████████████████████████████████████▊                                                                                                              | 23/50 [00:36<00:43,  1.61s/it]"
     ]
    },
    {
     "name": "stdout",
     "output_type": "stream",
     "text": [
      "epoch:23, train accu:0.9942, train loss:0.01\n"
     ]
    },
    {
     "name": "stderr",
     "output_type": "stream",
     "text": [
      "\r",
      " 48%|█████████████████████████████████████████████████████████████████████████████████████████████████▉                                                                                                          | 24/50 [00:38<00:41,  1.62s/it]"
     ]
    },
    {
     "name": "stdout",
     "output_type": "stream",
     "text": [
      "epoch:24, train accu:1.0000, train loss:0.00\n"
     ]
    },
    {
     "name": "stderr",
     "output_type": "stream",
     "text": [
      "\r",
      " 50%|██████████████████████████████████████████████████████████████████████████████████████████████████████                                                                                                      | 25/50 [00:40<00:40,  1.62s/it]"
     ]
    },
    {
     "name": "stdout",
     "output_type": "stream",
     "text": [
      "epoch:25, train accu:0.9985, train loss:0.01\n"
     ]
    },
    {
     "name": "stderr",
     "output_type": "stream",
     "text": [
      "\r",
      " 52%|██████████████████████████████████████████████████████████████████████████████████████████████████████████                                                                                                  | 26/50 [00:41<00:39,  1.63s/it]"
     ]
    },
    {
     "name": "stdout",
     "output_type": "stream",
     "text": [
      "epoch:26, train accu:0.9797, train loss:0.08\n"
     ]
    },
    {
     "name": "stderr",
     "output_type": "stream",
     "text": [
      "\r",
      " 54%|██████████████████████████████████████████████████████████████████████████████████████████████████████████████▏                                                                                             | 27/50 [00:43<00:37,  1.63s/it]"
     ]
    },
    {
     "name": "stdout",
     "output_type": "stream",
     "text": [
      "epoch:27, train accu:0.9782, train loss:0.07\n"
     ]
    },
    {
     "name": "stderr",
     "output_type": "stream",
     "text": [
      "\r",
      " 56%|██████████████████████████████████████████████████████████████████████████████████████████████████████████████████▏                                                                                         | 28/50 [00:45<00:35,  1.62s/it]"
     ]
    },
    {
     "name": "stdout",
     "output_type": "stream",
     "text": [
      "epoch:28, train accu:0.9884, train loss:0.04\n"
     ]
    },
    {
     "name": "stderr",
     "output_type": "stream",
     "text": [
      "\r",
      " 58%|██████████████████████████████████████████████████████████████████████████████████████████████████████████████████████▎                                                                                     | 29/50 [00:46<00:33,  1.60s/it]"
     ]
    },
    {
     "name": "stdout",
     "output_type": "stream",
     "text": [
      "epoch:29, train accu:0.9840, train loss:0.07\n"
     ]
    },
    {
     "name": "stderr",
     "output_type": "stream",
     "text": [
      "\r",
      " 60%|██████████████████████████████████████████████████████████████████████████████████████████████████████████████████████████▍                                                                                 | 30/50 [00:48<00:32,  1.60s/it]"
     ]
    },
    {
     "name": "stdout",
     "output_type": "stream",
     "text": [
      "epoch:30, train accu:0.9448, train loss:0.19\n"
     ]
    },
    {
     "name": "stderr",
     "output_type": "stream",
     "text": [
      "\r",
      " 62%|██████████████████████████████████████████████████████████████████████████████████████████████████████████████████████████████▍                                                                             | 31/50 [00:49<00:29,  1.58s/it]"
     ]
    },
    {
     "name": "stdout",
     "output_type": "stream",
     "text": [
      "epoch:31, train accu:0.9753, train loss:0.09\n"
     ]
    },
    {
     "name": "stderr",
     "output_type": "stream",
     "text": [
      "\r",
      " 64%|██████████████████████████████████████████████████████████████████████████████████████████████████████████████████████████████████▌                                                                         | 32/50 [00:51<00:28,  1.57s/it]"
     ]
    },
    {
     "name": "stdout",
     "output_type": "stream",
     "text": [
      "epoch:32, train accu:0.9913, train loss:0.02\n"
     ]
    },
    {
     "name": "stderr",
     "output_type": "stream",
     "text": [
      "\r",
      " 66%|██████████████████████████████████████████████████████████████████████████████████████████████████████████████████████████████████████▋                                                                     | 33/50 [00:52<00:26,  1.55s/it]"
     ]
    },
    {
     "name": "stdout",
     "output_type": "stream",
     "text": [
      "epoch:33, train accu:0.9956, train loss:0.01\n"
     ]
    },
    {
     "name": "stderr",
     "output_type": "stream",
     "text": [
      "\r",
      " 68%|██████████████████████████████████████████████████████████████████████████████████████████████████████████████████████████████████████████▋                                                                 | 34/50 [00:54<00:24,  1.54s/it]"
     ]
    },
    {
     "name": "stdout",
     "output_type": "stream",
     "text": [
      "epoch:34, train accu:0.9985, train loss:0.01\n"
     ]
    },
    {
     "name": "stderr",
     "output_type": "stream",
     "text": [
      "\r",
      " 70%|██████████████████████████████████████████████████████████████████████████████████████████████████████████████████████████████████████████████▊                                                             | 35/50 [00:55<00:23,  1.54s/it]"
     ]
    },
    {
     "name": "stdout",
     "output_type": "stream",
     "text": [
      "epoch:35, train accu:0.9956, train loss:0.02\n"
     ]
    },
    {
     "name": "stderr",
     "output_type": "stream",
     "text": [
      "\r",
      " 72%|██████████████████████████████████████████████████████████████████████████████████████████████████████████████████████████████████████████████████▉                                                         | 36/50 [00:57<00:21,  1.55s/it]"
     ]
    },
    {
     "name": "stdout",
     "output_type": "stream",
     "text": [
      "epoch:36, train accu:0.9956, train loss:0.02\n"
     ]
    },
    {
     "name": "stderr",
     "output_type": "stream",
     "text": [
      "\r",
      " 74%|██████████████████████████████████████████████████████████████████████████████████████████████████████████████████████████████████████████████████████▉                                                     | 37/50 [00:58<00:20,  1.55s/it]"
     ]
    },
    {
     "name": "stdout",
     "output_type": "stream",
     "text": [
      "epoch:37, train accu:0.9942, train loss:0.03\n"
     ]
    },
    {
     "name": "stderr",
     "output_type": "stream",
     "text": [
      "\r",
      " 76%|███████████████████████████████████████████████████████████████████████████████████████████████████████████████████████████████████████████████████████████                                                 | 38/50 [01:00<00:18,  1.55s/it]"
     ]
    },
    {
     "name": "stdout",
     "output_type": "stream",
     "text": [
      "epoch:38, train accu:0.9942, train loss:0.02\n"
     ]
    },
    {
     "name": "stderr",
     "output_type": "stream",
     "text": [
      "\r",
      " 78%|███████████████████████████████████████████████████████████████████████████████████████████████████████████████████████████████████████████████████████████████                                             | 39/50 [01:02<00:17,  1.55s/it]"
     ]
    },
    {
     "name": "stdout",
     "output_type": "stream",
     "text": [
      "epoch:39, train accu:0.9971, train loss:0.01\n"
     ]
    },
    {
     "name": "stderr",
     "output_type": "stream",
     "text": [
      "\r",
      " 80%|███████████████████████████████████████████████████████████████████████████████████████████████████████████████████████████████████████████████████████████████████▏                                        | 40/50 [01:03<00:15,  1.56s/it]"
     ]
    },
    {
     "name": "stdout",
     "output_type": "stream",
     "text": [
      "epoch:40, train accu:0.9985, train loss:0.00\n"
     ]
    },
    {
     "name": "stderr",
     "output_type": "stream",
     "text": [
      "\r",
      " 82%|███████████████████████████████████████████████████████████████████████████████████████████████████████████████████████████████████████████████████████████████████████▎                                    | 41/50 [01:05<00:14,  1.56s/it]"
     ]
    },
    {
     "name": "stdout",
     "output_type": "stream",
     "text": [
      "epoch:41, train accu:1.0000, train loss:0.00\n"
     ]
    },
    {
     "name": "stderr",
     "output_type": "stream",
     "text": [
      "\r",
      " 84%|███████████████████████████████████████████████████████████████████████████████████████████████████████████████████████████████████████████████████████████████████████████▎                                | 42/50 [01:06<00:12,  1.57s/it]"
     ]
    },
    {
     "name": "stdout",
     "output_type": "stream",
     "text": [
      "epoch:42, train accu:1.0000, train loss:0.00\n"
     ]
    },
    {
     "name": "stderr",
     "output_type": "stream",
     "text": [
      "\r",
      " 86%|███████████████████████████████████████████████████████████████████████████████████████████████████████████████████████████████████████████████████████████████████████████████▍                            | 43/50 [01:08<00:11,  1.57s/it]"
     ]
    },
    {
     "name": "stdout",
     "output_type": "stream",
     "text": [
      "epoch:43, train accu:0.9985, train loss:0.01\n"
     ]
    },
    {
     "name": "stderr",
     "output_type": "stream",
     "text": [
      "\r",
      " 88%|███████████████████████████████████████████████████████████████████████████████████████████████████████████████████████████████████████████████████████████████████████████████████▌                        | 44/50 [01:09<00:09,  1.56s/it]"
     ]
    },
    {
     "name": "stdout",
     "output_type": "stream",
     "text": [
      "epoch:44, train accu:0.9985, train loss:0.01\n"
     ]
    },
    {
     "name": "stderr",
     "output_type": "stream",
     "text": [
      "\r",
      " 90%|███████████████████████████████████████████████████████████████████████████████████████████████████████████████████████████████████████████████████████████████████████████████████████▌                    | 45/50 [01:11<00:07,  1.57s/it]"
     ]
    },
    {
     "name": "stdout",
     "output_type": "stream",
     "text": [
      "epoch:45, train accu:0.9956, train loss:0.01\n"
     ]
    },
    {
     "name": "stderr",
     "output_type": "stream",
     "text": [
      "\r",
      " 92%|███████████████████████████████████████████████████████████████████████████████████████████████████████████████████████████████████████████████████████████████████████████████████████████▋                | 46/50 [01:13<00:06,  1.57s/it]"
     ]
    },
    {
     "name": "stdout",
     "output_type": "stream",
     "text": [
      "epoch:46, train accu:1.0000, train loss:0.00\n"
     ]
    },
    {
     "name": "stderr",
     "output_type": "stream",
     "text": [
      "\r",
      " 94%|███████████████████████████████████████████████████████████████████████████████████████████████████████████████████████████████████████████████████████████████████████████████████████████████▊            | 47/50 [01:14<00:04,  1.56s/it]"
     ]
    },
    {
     "name": "stdout",
     "output_type": "stream",
     "text": [
      "epoch:47, train accu:1.0000, train loss:0.00\n"
     ]
    },
    {
     "name": "stderr",
     "output_type": "stream",
     "text": [
      "\r",
      " 96%|███████████████████████████████████████████████████████████████████████████████████████████████████████████████████████████████████████████████████████████████████████████████████████████████████▊        | 48/50 [01:16<00:03,  1.58s/it]"
     ]
    },
    {
     "name": "stdout",
     "output_type": "stream",
     "text": [
      "epoch:48, train accu:0.9753, train loss:0.08\n"
     ]
    },
    {
     "name": "stderr",
     "output_type": "stream",
     "text": [
      "\r",
      " 98%|███████████████████████████████████████████████████████████████████████████████████████████████████████████████████████████████████████████████████████████████████████████████████████████████████████▉    | 49/50 [01:17<00:01,  1.59s/it]"
     ]
    },
    {
     "name": "stdout",
     "output_type": "stream",
     "text": [
      "epoch:49, train accu:0.9753, train loss:0.09\n"
     ]
    },
    {
     "name": "stderr",
     "output_type": "stream",
     "text": [
      "100%|████████████████████████████████████████████████████████████████████████████████████████████████████████████████████████████████████████████████████████████████████████████████████████████████████████████| 50/50 [01:19<00:00,  1.59s/it]"
     ]
    },
    {
     "name": "stdout",
     "output_type": "stream",
     "text": [
      "epoch:50, train accu:0.9869, train loss:0.05\n"
     ]
    },
    {
     "name": "stderr",
     "output_type": "stream",
     "text": [
      "\n"
     ]
    }
   ],
   "source": [
    "from tqdm import tqdm\n",
    "from torchsummary import summary\n",
    "import torch.optim as optim\n",
    "\n",
    "model = ICASSP3CNN(768)\n",
    "model = model.to(device)\n",
    "criterion = nn.CrossEntropyLoss()\n",
    "optimizer = optim.Adam(model.parameters(), lr=0.001)\n",
    "\n",
    "epochs = 50\n",
    "train_losses = []\n",
    "train_accuracies = []\n",
    "valid_losses = []\n",
    "valid_accuracies = []\n",
    "\n",
    "for epoch in tqdm(range(epochs)):\n",
    "    train_loss = 0\n",
    "    acc_cnt = 0\n",
    "    err_cnt = 0\n",
    "    batch_cnt = 0\n",
    "    model.train()\n",
    "    for batch, (x, length, y) in enumerate(train_dataloader):\n",
    "        x = x.to(device)\n",
    "        y = y.to(device)\n",
    "        optimizer.zero_grad()\n",
    "        logits = model(x, length)\n",
    "        loss = criterion(logits, y)\n",
    "        loss.backward()\n",
    "        optimizer.step()\n",
    "        train_loss += loss.cpu().item()\n",
    "\n",
    "        #model outputs\n",
    "        out_val, out_indices = torch.max(logits, dim=1)\n",
    "        tar_indices = y\n",
    "\n",
    "        for i in range(len(out_indices)):\n",
    "            if out_indices[i] == tar_indices[i]:\n",
    "                acc_cnt += 1\n",
    "            else:\n",
    "                err_cnt += 1\n",
    "        batch_cnt += 1\n",
    "    \n",
    "    train_loss = train_loss/batch_cnt\n",
    "    train_accuracy = acc_cnt/(acc_cnt+err_cnt)\n",
    "    train_accuracies.append(train_accuracy)\n",
    "    train_losses.append(train_loss)\n",
    "    \n",
    "    print(f\"epoch:{epoch+1}, train accu:{train_accuracy:.4f},\", f\"train loss:{train_loss:.2f}\")"
   ]
  },
  {
   "cell_type": "markdown",
   "id": "b6f39dc8",
   "metadata": {},
   "source": [
    "### Model Test"
   ]
  },
  {
   "cell_type": "code",
   "execution_count": 56,
   "id": "461a176a",
   "metadata": {},
   "outputs": [
    {
     "name": "stdout",
     "output_type": "stream",
     "text": [
      "test accuracy: 0.6264367816091954\n"
     ]
    }
   ],
   "source": [
    "test_loss = 0\n",
    "acc_cnt = 0\n",
    "err_cnt = 0\n",
    "batch_cnt = 0\n",
    "model.eval()\n",
    "\n",
    "for x, lengths, y in test_dataloader:\n",
    "\n",
    "    x = x.to(device)\n",
    "    y = y.to(device)\n",
    "\n",
    "    logits = model(x, lengths)\n",
    "    loss = criterion(logits, y)\n",
    "    test_loss += loss.cpu().item()\n",
    "\n",
    "    out_val, out_indices = torch.max(logits, dim=1)\n",
    "    tar_indices = y\n",
    "\n",
    "    for i in range(len(out_indices)):\n",
    "        if out_indices[i] == tar_indices[i]:\n",
    "            acc_cnt += 1\n",
    "        else:\n",
    "            err_cnt += 1\n",
    "    batch_cnt += 1\n",
    "\n",
    "test_loss = test_loss/batch_cnt\n",
    "test_accuracy = acc_cnt/(acc_cnt+err_cnt)\n",
    "print(f'test accuracy: {test_accuracy}')"
   ]
  },
  {
   "cell_type": "code",
   "execution_count": 57,
   "id": "1b6c5224",
   "metadata": {},
   "outputs": [
    {
     "name": "stdout",
     "output_type": "stream",
     "text": [
      "aggr.weight tensor([[[-0.2602],\n",
      "         [ 0.0269],\n",
      "         [ 0.2307],\n",
      "         [ 0.1566],\n",
      "         [-0.0873],\n",
      "         [-0.0943],\n",
      "         [ 0.2683],\n",
      "         [-0.2050],\n",
      "         [-0.0028],\n",
      "         [ 0.1118],\n",
      "         [ 0.0836],\n",
      "         [-0.1669]]], device='cuda:0')\n",
      "aggr.bias tensor([0.0430], device='cuda:0')\n",
      "embed.weight tensor([[-0.0193,  0.0071, -0.0486,  ..., -0.0179, -0.0520,  0.0242],\n",
      "        [-0.0582,  0.0360, -0.0582,  ..., -0.0775, -0.0776,  0.0560],\n",
      "        [ 0.0623, -0.0523,  0.0212,  ..., -0.0170, -0.0106, -0.0344],\n",
      "        ...,\n",
      "        [ 0.0680, -0.0495,  0.0363,  ...,  0.0029, -0.0115, -0.0309],\n",
      "        [ 0.0045, -0.0147, -0.0187,  ..., -0.0663,  0.0655, -0.0701],\n",
      "        [ 0.0161, -0.0690,  0.0692,  ...,  0.0273,  0.0722, -0.0096]],\n",
      "       device='cuda:0')\n",
      "embed.bias tensor([-9.2175e-03,  1.5871e-02, -9.7616e-03,  1.1642e-02, -8.6205e-03,\n",
      "        -2.5375e-02, -3.1205e-02, -3.0246e-02, -3.0654e-02,  2.4298e-02,\n",
      "         1.9477e-02,  1.0320e-02, -1.6092e-02,  7.7450e-03, -1.0116e-02,\n",
      "        -5.5808e-03,  3.1564e-02, -2.6517e-02,  3.7556e-03,  2.6248e-02,\n",
      "        -1.0496e-03, -2.7809e-02,  1.4353e-02,  1.1774e-02,  1.3530e-02,\n",
      "         5.2582e-03,  1.3279e-02,  1.8501e-02, -9.0144e-04,  3.2732e-03,\n",
      "        -3.5131e-02, -5.4958e-02, -1.3617e-02, -3.5120e-02, -1.2396e-02,\n",
      "        -1.5761e-02,  2.2417e-02, -3.3100e-02,  1.0056e-03,  4.5748e-03,\n",
      "         2.7542e-02, -4.7158e-03, -2.5395e-02, -4.4232e-02, -3.7632e-02,\n",
      "        -2.4772e-02,  3.7748e-02,  3.4361e-02, -4.9129e-03,  4.9093e-02,\n",
      "         2.2103e-02,  3.9912e-02,  1.4740e-03, -5.3412e-02, -3.3131e-02,\n",
      "         3.5091e-02, -3.6319e-02,  1.4446e-02, -1.8868e-02, -1.0640e-02,\n",
      "         3.7077e-02,  3.2528e-03,  4.1909e-03, -1.5117e-02, -3.6797e-02,\n",
      "        -1.9467e-02, -8.2613e-05,  1.5231e-03, -8.7580e-03, -4.9651e-03,\n",
      "        -1.3690e-02,  7.2687e-03,  5.0801e-03, -5.1954e-02, -2.8384e-02,\n",
      "        -1.9026e-02,  2.2221e-03,  4.9647e-03,  3.5996e-02, -3.3509e-03,\n",
      "         7.1177e-03, -7.0784e-03, -2.4782e-02, -9.2614e-03,  7.3864e-03,\n",
      "         1.7194e-02,  3.3490e-03, -7.2067e-03, -4.3141e-02, -1.6412e-02,\n",
      "        -2.2548e-03, -8.0460e-03, -3.3228e-02,  1.0992e-02, -1.3355e-02,\n",
      "         1.6055e-02, -2.8680e-02,  1.9895e-02, -2.9205e-02,  8.8372e-04,\n",
      "         1.2029e-03,  3.1705e-03,  4.3123e-03, -3.0200e-02, -2.0888e-02,\n",
      "         7.1665e-03,  2.4009e-03, -1.8201e-02,  4.0737e-03, -2.2781e-02,\n",
      "         2.2006e-02,  3.5025e-02, -1.1382e-02,  3.6914e-02,  2.0767e-02,\n",
      "         3.3357e-02,  2.2981e-02,  1.4297e-02,  1.8852e-02, -5.5144e-03,\n",
      "        -1.7514e-02, -2.1738e-02, -3.5515e-02,  2.5722e-02, -2.2150e-02,\n",
      "         3.3921e-04, -4.2821e-02,  2.5786e-03], device='cuda:0')\n",
      "cnn.weight tensor([[[ 0.0353, -0.0190,  0.0253],\n",
      "         [-0.0904,  0.0021, -0.0546],\n",
      "         [ 0.0454, -0.0468,  0.0242],\n",
      "         ...,\n",
      "         [ 0.0205,  0.0484, -0.0539],\n",
      "         [ 0.0689,  0.0306,  0.0556],\n",
      "         [ 0.0284,  0.0589,  0.0269]],\n",
      "\n",
      "        [[ 0.0999,  0.0628,  0.0848],\n",
      "         [ 0.0006,  0.0345,  0.0003],\n",
      "         [ 0.0070,  0.0178,  0.0738],\n",
      "         ...,\n",
      "         [ 0.0122,  0.0313, -0.0073],\n",
      "         [-0.0714, -0.0612,  0.0020],\n",
      "         [-0.0364, -0.0132,  0.0610]],\n",
      "\n",
      "        [[-0.0382, -0.0588, -0.0210],\n",
      "         [-0.0230, -0.0527, -0.0789],\n",
      "         [-0.0032, -0.0367, -0.0274],\n",
      "         ...,\n",
      "         [-0.0854, -0.0213,  0.0104],\n",
      "         [ 0.0696,  0.0575, -0.0004],\n",
      "         [ 0.0771, -0.0475,  0.0173]],\n",
      "\n",
      "        ...,\n",
      "\n",
      "        [[ 0.0426,  0.0289, -0.0176],\n",
      "         [-0.0302,  0.0140, -0.0597],\n",
      "         [ 0.0176, -0.1164, -0.0033],\n",
      "         ...,\n",
      "         [ 0.0296, -0.0374,  0.0148],\n",
      "         [ 0.0464, -0.0119, -0.0383],\n",
      "         [-0.0634,  0.0416, -0.0163]],\n",
      "\n",
      "        [[-0.0059, -0.0050, -0.0489],\n",
      "         [-0.0510, -0.0478,  0.0214],\n",
      "         [ 0.0062,  0.0085,  0.0017],\n",
      "         ...,\n",
      "         [ 0.0011,  0.0310,  0.0020],\n",
      "         [ 0.0373,  0.0324,  0.0417],\n",
      "         [ 0.0003, -0.0641, -0.0462]],\n",
      "\n",
      "        [[-0.0198, -0.0146, -0.0646],\n",
      "         [-0.0363,  0.0232,  0.0379],\n",
      "         [-0.0180, -0.0862, -0.0993],\n",
      "         ...,\n",
      "         [-0.0474, -0.0312, -0.0406],\n",
      "         [ 0.0393, -0.0226,  0.0380],\n",
      "         [-0.0410,  0.0203,  0.0023]]], device='cuda:0')\n",
      "cnn.bias tensor([-3.7464e-02, -8.3965e-03,  3.3595e-02, -2.4393e-02,  8.3601e-03,\n",
      "         4.9850e-02, -6.7177e-03,  3.1592e-02,  1.9839e-02, -1.1858e-02,\n",
      "         3.0098e-02,  5.0884e-02, -5.0531e-02,  1.0849e-02,  3.8621e-02,\n",
      "        -2.0044e-02, -4.8828e-02, -4.7383e-02, -3.5039e-02, -2.8643e-02,\n",
      "        -5.0064e-03, -2.5159e-02, -3.6888e-02, -1.8551e-02,  9.2190e-03,\n",
      "        -4.5399e-02, -3.4846e-02, -1.9909e-02,  1.9026e-02, -5.1342e-02,\n",
      "        -1.4099e-02, -1.2827e-02, -1.9741e-04,  3.8780e-02, -1.8538e-02,\n",
      "        -3.6279e-02, -2.8690e-02, -2.5893e-02,  2.1512e-02,  4.2241e-02,\n",
      "        -5.1172e-02,  1.1444e-02,  1.6398e-02, -1.3974e-03, -3.7271e-02,\n",
      "         2.6838e-02, -2.2868e-02, -4.5680e-03,  4.6590e-02,  8.0322e-03,\n",
      "        -4.5669e-02,  5.4937e-02,  3.6667e-02, -2.9811e-02,  2.7015e-02,\n",
      "        -6.5466e-03,  1.4098e-02,  4.2544e-04, -7.7993e-03,  4.2771e-02,\n",
      "        -4.6110e-02,  3.5321e-02, -4.3285e-02, -4.8096e-02,  1.7601e-02,\n",
      "        -4.3385e-07, -7.4947e-03, -9.8985e-03,  1.7085e-02,  1.2443e-02,\n",
      "        -6.0978e-02,  2.2668e-02, -3.1898e-02, -4.4734e-02,  4.9402e-02,\n",
      "        -3.3058e-02,  1.2542e-02, -4.0985e-03, -4.1000e-02,  1.4184e-02,\n",
      "        -4.6045e-02, -1.2064e-02,  3.7411e-02, -2.0216e-02, -1.1777e-02,\n",
      "         1.3582e-02, -2.9780e-02,  3.5094e-02, -2.2054e-02,  2.1962e-02,\n",
      "         2.0669e-02, -1.0584e-02,  2.0048e-02,  1.4940e-02,  1.1949e-02,\n",
      "         2.8282e-02, -2.2897e-02, -6.0027e-03,  3.4191e-02,  1.7456e-02,\n",
      "         2.5250e-02, -1.6143e-02, -2.3619e-02, -3.9159e-02, -1.0903e-02,\n",
      "        -2.0214e-02, -5.6810e-02,  4.2743e-02,  4.6347e-03, -4.3131e-02,\n",
      "         3.3180e-02, -2.1307e-02,  2.3442e-02,  2.9917e-02,  5.0444e-02,\n",
      "        -3.6359e-02, -3.7797e-02, -3.2052e-02,  2.5430e-02, -3.4697e-02,\n",
      "         2.9058e-04, -3.2434e-02,  5.3450e-02,  5.6742e-03, -1.6533e-02,\n",
      "        -3.3360e-02, -3.5823e-02, -1.7013e-02], device='cuda:0')\n",
      "cnn2.weight tensor([[[ 0.0587,  0.0203,  0.0025, -0.0231, -0.0410],\n",
      "         [-0.0310,  0.0019, -0.0330, -0.0512,  0.0244],\n",
      "         [-0.0622, -0.0259, -0.0481, -0.0220, -0.0296],\n",
      "         ...,\n",
      "         [-0.0548, -0.0051, -0.0161, -0.0229, -0.0075],\n",
      "         [ 0.0568,  0.0206, -0.0080,  0.0127,  0.0164],\n",
      "         [ 0.0303, -0.0262, -0.0111,  0.0407,  0.0168]],\n",
      "\n",
      "        [[ 0.0166, -0.0078, -0.0240, -0.0607, -0.0692],\n",
      "         [-0.0090,  0.0699,  0.0123,  0.0230, -0.0047],\n",
      "         [ 0.0156, -0.0303, -0.0497,  0.0039, -0.0077],\n",
      "         ...,\n",
      "         [ 0.0321,  0.0119, -0.0188,  0.0168, -0.0524],\n",
      "         [-0.0057, -0.0158,  0.0078, -0.0482, -0.0189],\n",
      "         [ 0.0033,  0.0650,  0.1113,  0.0531,  0.0032]],\n",
      "\n",
      "        [[ 0.0266,  0.0212,  0.0132,  0.0128,  0.0027],\n",
      "         [ 0.0563,  0.0235,  0.0424,  0.0529,  0.0469],\n",
      "         [-0.0741, -0.0407, -0.0471,  0.0071, -0.0042],\n",
      "         ...,\n",
      "         [-0.0481, -0.0398, -0.0540, -0.0251, -0.0109],\n",
      "         [ 0.0333,  0.0235,  0.0443,  0.0194,  0.0098],\n",
      "         [-0.0040,  0.0059,  0.0014,  0.0221,  0.0239]],\n",
      "\n",
      "        ...,\n",
      "\n",
      "        [[-0.0286,  0.0130,  0.0274,  0.0453,  0.0415],\n",
      "         [ 0.0165, -0.0069,  0.0111,  0.0142,  0.0083],\n",
      "         [ 0.0568, -0.0578, -0.0629, -0.0502, -0.0231],\n",
      "         ...,\n",
      "         [-0.0185, -0.0240, -0.0054, -0.0285,  0.0014],\n",
      "         [ 0.0135,  0.0051, -0.0200, -0.0432,  0.0075],\n",
      "         [-0.0158,  0.0092,  0.0346,  0.0359,  0.0408]],\n",
      "\n",
      "        [[ 0.1204,  0.0929,  0.0717,  0.0072,  0.0015],\n",
      "         [-0.0215, -0.0128,  0.0073, -0.0314, -0.0033],\n",
      "         [ 0.0605,  0.0464,  0.0333,  0.0108, -0.0435],\n",
      "         ...,\n",
      "         [ 0.0437,  0.0233, -0.0369, -0.0126, -0.0351],\n",
      "         [ 0.0204,  0.0037, -0.0116,  0.0098,  0.0204],\n",
      "         [-0.0101, -0.0417, -0.0103,  0.0181, -0.0017]],\n",
      "\n",
      "        [[-0.0118, -0.0290,  0.0268, -0.0119,  0.0008],\n",
      "         [ 0.0201,  0.0107,  0.0456,  0.0451,  0.0241],\n",
      "         [ 0.0244, -0.0533, -0.0987, -0.0787, -0.0239],\n",
      "         ...,\n",
      "         [ 0.0484,  0.0268, -0.0275, -0.0245,  0.0503],\n",
      "         [-0.0167,  0.0320, -0.0032, -0.0428,  0.0006],\n",
      "         [-0.0364, -0.0419, -0.0143, -0.0341, -0.0374]]], device='cuda:0')\n",
      "cnn2.bias tensor([-3.9382e-02, -4.1480e-02,  1.0469e-02,  1.9271e-02,  2.0438e-03,\n",
      "         3.4771e-02, -2.2471e-02, -3.2664e-02,  1.4049e-02, -1.0561e-03,\n",
      "        -6.4054e-03, -1.9207e-02, -3.3565e-02,  2.5516e-02, -3.0857e-02,\n",
      "         9.6395e-03,  4.3667e-02, -2.5612e-02,  4.5196e-02, -3.2390e-02,\n",
      "         3.9601e-02,  6.7046e-05, -1.4711e-02, -6.0971e-03, -1.3175e-02,\n",
      "        -1.5749e-02, -1.2412e-02, -4.0333e-03, -2.9688e-02, -3.7370e-02,\n",
      "        -1.9398e-02, -1.8482e-02, -2.3496e-02, -2.5335e-02, -8.3836e-03,\n",
      "        -2.6888e-02, -1.2890e-02, -1.2597e-02, -3.1402e-02, -4.1036e-02,\n",
      "        -3.4999e-04, -4.0844e-05, -2.6985e-02, -1.5440e-02, -7.2666e-03,\n",
      "        -7.3782e-03,  9.5208e-03,  1.3177e-02,  5.4629e-02,  7.2367e-03,\n",
      "         2.2064e-02, -6.2769e-03,  2.7571e-02,  7.5111e-03,  2.1334e-02,\n",
      "         3.1216e-02, -3.4718e-02,  2.4925e-02,  5.7727e-02,  6.2084e-02,\n",
      "        -1.0900e-02,  1.2762e-02,  2.0741e-02, -3.4545e-02, -4.8359e-03,\n",
      "        -2.1148e-02, -1.1922e-03,  6.3196e-03, -1.6170e-02,  4.1964e-03,\n",
      "        -2.0132e-02,  1.8495e-02,  3.4388e-02, -3.7642e-02,  1.1603e-02,\n",
      "         7.4454e-03,  6.9620e-03, -3.6708e-02,  1.0084e-02,  2.7916e-02,\n",
      "         2.2987e-02,  1.2751e-02,  1.7782e-02, -2.1273e-02,  2.1736e-03,\n",
      "         3.9300e-03, -4.1724e-02, -1.0343e-02, -3.0545e-03,  3.0989e-02,\n",
      "         1.9128e-02, -3.6364e-02,  3.4854e-02, -1.1497e-02, -1.7643e-02,\n",
      "        -4.0664e-02, -1.3474e-02,  2.8682e-02,  4.2510e-02, -2.1839e-02,\n",
      "         2.4501e-02, -4.2220e-02, -2.9526e-02, -1.0249e-02,  1.6933e-02,\n",
      "         2.0888e-02, -3.6065e-02,  2.9210e-02, -2.8322e-02, -3.1397e-02,\n",
      "         1.6063e-02,  2.4234e-02,  3.1599e-02,  2.5379e-02,  3.9953e-02,\n",
      "        -2.0997e-02,  2.1464e-02,  3.0660e-02,  3.0798e-02, -2.0838e-02,\n",
      "        -3.3490e-02, -1.9366e-02, -1.5849e-02, -9.4184e-03, -1.5532e-02,\n",
      "         5.0787e-03,  1.5520e-03, -1.2813e-02], device='cuda:0')\n",
      "cnn3.weight tensor([[[ 3.1259e-03, -2.3347e-02, -1.8291e-02,  ..., -8.8572e-03,\n",
      "          -6.3463e-02, -1.4677e-02],\n",
      "         [-4.3441e-02, -3.5073e-02, -2.1577e-02,  ..., -4.6586e-02,\n",
      "           3.9200e-03, -1.0403e-02],\n",
      "         [ 1.1540e-02,  3.4254e-03,  2.0446e-02,  ...,  4.9778e-02,\n",
      "           5.8227e-02,  1.6548e-02],\n",
      "         ...,\n",
      "         [-3.4452e-03,  4.4604e-02,  1.6178e-02,  ...,  7.9212e-02,\n",
      "           3.3505e-02,  8.2593e-02],\n",
      "         [-1.6111e-02, -3.1246e-02, -9.0685e-02,  ..., -2.9466e-02,\n",
      "          -2.2227e-02, -6.8127e-02],\n",
      "         [-9.3515e-02, -4.4932e-02, -2.7662e-02,  ..., -2.2952e-02,\n",
      "          -2.5935e-02, -7.2232e-03]],\n",
      "\n",
      "        [[-1.9376e-02, -2.8065e-02, -6.9294e-02,  ..., -1.7603e-02,\n",
      "          -1.9301e-02, -2.1929e-04],\n",
      "         [-5.0588e-02,  2.2053e-02,  1.2512e-02,  ..., -1.0746e-02,\n",
      "           6.9906e-03,  1.8783e-02],\n",
      "         [-1.0244e-02,  1.6040e-02,  1.6368e-02,  ..., -3.5467e-02,\n",
      "          -6.2611e-02, -2.3141e-02],\n",
      "         ...,\n",
      "         [ 6.8786e-03, -2.3912e-02,  5.0838e-02,  ..., -2.4766e-02,\n",
      "           3.7812e-03, -2.6059e-02],\n",
      "         [ 1.8618e-02,  1.5370e-02,  1.9640e-02,  ...,  4.3977e-02,\n",
      "           3.8750e-02, -7.7785e-03],\n",
      "         [ 4.5808e-02,  1.3130e-02,  3.1860e-02,  ..., -5.9738e-03,\n",
      "           3.6599e-02, -1.3610e-02]],\n",
      "\n",
      "        [[ 1.0847e-02, -4.1476e-02, -4.2396e-02,  ...,  8.4630e-03,\n",
      "          -1.0729e-02,  5.2872e-03],\n",
      "         [ 2.0833e-02,  4.9219e-02, -3.9112e-03,  ..., -4.5803e-02,\n",
      "          -2.0436e-02, -2.4482e-02],\n",
      "         [-8.5222e-02, -1.3690e-01, -9.5102e-02,  ..., -2.6429e-02,\n",
      "          -4.8150e-03, -5.1485e-02],\n",
      "         ...,\n",
      "         [-5.6035e-02, -3.3296e-02, -6.0145e-02,  ..., -4.2115e-02,\n",
      "          -6.2538e-02, -1.0157e-03],\n",
      "         [ 5.7036e-02,  8.0093e-02,  5.6454e-02,  ...,  3.8132e-02,\n",
      "          -1.8206e-03, -2.5987e-02],\n",
      "         [ 9.2511e-02,  2.6435e-02,  1.3018e-02,  ...,  4.2150e-02,\n",
      "           3.6441e-02, -2.6982e-02]],\n",
      "\n",
      "        ...,\n",
      "\n",
      "        [[ 4.4202e-02,  6.5342e-02,  5.5684e-02,  ...,  2.2932e-02,\n",
      "          -3.7120e-02, -3.4935e-02],\n",
      "         [-6.5126e-03, -1.4430e-02,  1.1772e-02,  ..., -1.8494e-02,\n",
      "           1.7004e-02,  4.3636e-05],\n",
      "         [-3.7510e-02,  9.4853e-03,  1.2252e-02,  ..., -4.5308e-02,\n",
      "          -8.6360e-03, -2.7834e-02],\n",
      "         ...,\n",
      "         [-2.9943e-03,  7.8168e-02,  6.5291e-02,  ..., -7.1217e-03,\n",
      "           7.2140e-04, -3.1833e-02],\n",
      "         [ 6.2065e-02,  2.5946e-02,  4.8360e-02,  ...,  8.9121e-02,\n",
      "           6.8162e-02,  4.7949e-02],\n",
      "         [ 3.3847e-02,  2.6994e-02, -1.9736e-03,  ...,  1.7473e-02,\n",
      "           5.4287e-02,  3.6658e-02]],\n",
      "\n",
      "        [[ 6.2659e-02,  3.7080e-02,  1.4085e-02,  ...,  2.2433e-02,\n",
      "          -7.2240e-03,  2.2876e-02],\n",
      "         [ 4.8622e-02,  2.1386e-02,  1.2379e-02,  ...,  4.9461e-02,\n",
      "           3.9599e-02,  3.3214e-02],\n",
      "         [-7.8832e-02, -4.5236e-02, -6.1207e-02,  ...,  4.0920e-02,\n",
      "          -2.8569e-02, -1.3679e-02],\n",
      "         ...,\n",
      "         [-1.8768e-02, -8.0591e-02, -8.9697e-02,  ...,  5.1771e-03,\n",
      "          -1.1429e-02, -2.5646e-02],\n",
      "         [ 2.0872e-02,  3.9207e-02,  3.6519e-02,  ..., -2.3424e-02,\n",
      "          -2.3403e-02,  8.3866e-03],\n",
      "         [-4.5109e-02,  2.5178e-02, -3.8926e-04,  ...,  3.7012e-02,\n",
      "          -3.0442e-02,  9.6566e-03]],\n",
      "\n",
      "        [[-1.6152e-02,  3.6209e-03, -2.3138e-02,  ...,  1.4436e-02,\n",
      "           9.0241e-03,  4.4649e-02],\n",
      "         [-3.8901e-02, -2.0373e-02, -2.8010e-03,  ...,  3.7687e-03,\n",
      "           4.3615e-02,  6.0327e-02],\n",
      "         [ 2.7247e-02,  2.6662e-02,  2.2392e-02,  ..., -4.1901e-02,\n",
      "           2.5156e-02,  3.4232e-02],\n",
      "         ...,\n",
      "         [-9.8508e-03, -2.1628e-02,  2.0314e-02,  ..., -7.2070e-02,\n",
      "          -4.6521e-02, -1.6647e-02],\n",
      "         [ 2.7216e-02, -4.1007e-02,  8.4512e-03,  ..., -7.0644e-03,\n",
      "          -3.0737e-02,  2.9617e-02],\n",
      "         [-1.6375e-02, -3.4078e-02,  1.1870e-02,  ..., -9.5044e-03,\n",
      "           3.0853e-03, -4.7563e-02]]], device='cuda:0')\n",
      "cnn3.bias tensor([-0.0270,  0.0154, -0.0016, -0.0228, -0.0130,  0.0293, -0.0090,  0.0086,\n",
      "        -0.0368, -0.0003,  0.0265, -0.0303,  0.0236,  0.0210,  0.0290,  0.0367,\n",
      "         0.0083,  0.0067,  0.0289, -0.0083,  0.0058, -0.0214, -0.0099,  0.0157,\n",
      "        -0.0237, -0.0313, -0.0196, -0.0009,  0.0104, -0.0003, -0.0142,  0.0164,\n",
      "        -0.0061, -0.0261,  0.0074, -0.0164,  0.0135,  0.0065,  0.0186,  0.0048,\n",
      "         0.0187,  0.0231, -0.0128, -0.0239, -0.0160, -0.0175, -0.0253, -0.0019,\n",
      "        -0.0087, -0.0170, -0.0305,  0.0144, -0.0042,  0.0316,  0.0176, -0.0074,\n",
      "        -0.0077, -0.0322, -0.0079, -0.0009,  0.0183,  0.0289, -0.0080, -0.0097,\n",
      "        -0.0387,  0.0256, -0.0322, -0.0319, -0.0340,  0.0352, -0.0137, -0.0358,\n",
      "        -0.0030, -0.0031,  0.0151,  0.0189,  0.0322,  0.0167,  0.0236,  0.0041,\n",
      "        -0.0353, -0.0301,  0.0179,  0.0040,  0.0264,  0.0409, -0.0121, -0.0226,\n",
      "         0.0202, -0.0050, -0.0073,  0.0115, -0.0023,  0.0305, -0.0150,  0.0202,\n",
      "         0.0130,  0.0357, -0.0018,  0.0186, -0.0084, -0.0181,  0.0074,  0.0371,\n",
      "        -0.0121,  0.0091,  0.0198,  0.0362,  0.0120,  0.0247, -0.0038, -0.0123,\n",
      "        -0.0152, -0.0207,  0.0217,  0.0057, -0.0180, -0.0203, -0.0249, -0.0208,\n",
      "        -0.0126,  0.0234, -0.0167, -0.0245, -0.0098,  0.0034,  0.0002,  0.0061],\n",
      "       device='cuda:0')\n",
      "batchnorm.weight tensor([1.0232, 0.9550, 0.9996, 1.0060, 1.0091, 0.9954, 0.9982, 1.0124, 0.9565,\n",
      "        0.9894, 1.0033, 1.0229, 1.0241, 1.0033, 1.0041, 1.0651, 1.0067, 1.0202,\n",
      "        0.9963, 1.0554, 0.9957, 1.0351, 0.9336, 1.0171, 1.0385, 0.9531, 1.0065,\n",
      "        1.0266, 1.0049, 0.9677, 0.9937, 1.0177, 1.0171, 1.0228, 0.9812, 1.0059,\n",
      "        1.0506, 1.0232, 1.0560, 1.0064, 1.0202, 0.9923, 0.9367, 0.9911, 1.0221,\n",
      "        1.0045, 0.9968, 1.0009, 1.0104, 1.0086, 0.9789, 1.0092, 1.0367, 1.0000,\n",
      "        0.9877, 1.0064, 1.0060, 1.0086, 1.0385, 0.9370, 0.9958, 1.0009, 1.0220,\n",
      "        1.0563, 1.0277, 0.9862, 0.9935, 1.0450, 1.0405, 0.9962, 1.0306, 0.9657,\n",
      "        1.0102, 1.0377, 1.0367, 1.0229, 1.0055, 1.0356, 1.0247, 1.0521, 1.0265,\n",
      "        1.0282, 1.0337, 1.0005, 1.0279, 1.0346, 0.9951, 0.9172, 0.9883, 0.9451,\n",
      "        0.9819, 1.0202, 1.0456, 1.0087, 1.0423, 0.9721, 0.9595, 1.0204, 0.9256,\n",
      "        1.0197, 1.0145, 1.0119, 0.9979, 0.9855, 1.0384, 1.0109, 0.9788, 0.9719,\n",
      "        0.9599, 0.9878, 1.0108, 1.0163, 1.0018, 0.9528, 1.0040, 1.0064, 0.9970,\n",
      "        1.0216, 1.0315, 1.0436, 1.0110, 0.9718, 0.9855, 0.9901, 1.0033, 1.0427,\n",
      "        1.0510, 1.0312, 1.0028, 1.0019, 1.0210, 0.9896, 1.0114, 0.9827, 1.0002,\n",
      "        1.0246, 1.0080, 1.0021, 1.0030, 1.0081, 0.9969, 1.0013, 1.0077, 1.0035,\n",
      "        1.0364, 1.0109, 1.0289, 1.0171, 0.9921, 1.0164, 1.0078, 1.0242, 1.0060,\n",
      "        1.0259, 1.0313, 1.0110, 0.9863, 0.9971, 0.9899, 1.0104, 1.0188, 0.9911,\n",
      "        1.0240, 1.0112, 0.9943, 1.0489, 1.0056, 1.0086, 1.0487, 1.0244, 1.0297,\n",
      "        0.9808, 1.0018, 1.0107, 0.9814, 0.9441, 1.0079, 1.0245, 1.0179, 0.9720,\n",
      "        1.0044, 1.0207, 0.9957, 1.0501, 1.0181, 1.0346, 1.0087, 1.0280, 1.0206,\n",
      "        0.9958, 1.0167, 0.9669, 1.0250, 0.9736, 1.0280, 1.0472, 1.0054, 1.0068,\n",
      "        1.0193, 0.9711, 1.0176, 1.0360, 1.0247, 1.0106, 1.0189, 1.0226, 1.0178,\n",
      "        1.0060, 1.0325, 1.0123, 1.0095, 0.9949, 1.0201, 1.0094, 1.0271, 0.9936,\n",
      "        1.0387, 1.0116, 1.0017, 1.0517, 1.0237, 1.0249, 1.0236, 1.0345, 1.0387,\n",
      "        1.0486, 0.9957, 1.0281, 0.9665, 1.0036, 1.0245, 1.0102, 1.0287, 0.9965,\n",
      "        1.0234, 1.0098, 0.9836, 1.0079, 1.0032, 1.0124, 0.9800, 1.0303, 1.0304,\n",
      "        1.0232, 1.0323, 0.9787, 0.9954, 1.0189, 1.0039, 1.0286, 0.9761, 0.9731,\n",
      "        1.0085, 1.0157, 0.9497, 1.0258, 0.9999, 0.9962, 1.0175, 1.0118, 1.0145,\n",
      "        1.0092, 1.0103, 0.9745, 1.0269, 1.0029, 1.0106, 0.9773, 1.0157, 0.9722,\n",
      "        0.9392, 1.0681, 1.0388, 1.0440, 1.0334, 1.0637, 0.9756, 1.0604, 1.0219,\n",
      "        1.0303, 0.9680, 1.0087, 1.0722, 0.9909, 1.0060, 1.0183, 1.0163, 1.0320,\n",
      "        1.0094, 0.9891, 1.0038, 1.0235, 1.0064, 1.0225, 1.0413, 0.9944, 1.0137,\n",
      "        0.9943, 0.9922, 1.0264, 1.0474, 0.9669, 0.9598, 1.0403, 1.0208, 1.0190,\n",
      "        1.0150, 1.0472, 1.0184, 0.9937, 1.0156, 1.0719, 1.0452, 1.0309, 1.0450,\n",
      "        1.0332, 1.0076, 1.0250, 1.0151, 1.0103, 1.0829, 1.0415, 1.0237, 1.0284,\n",
      "        1.0166, 0.9972, 1.0196, 1.0165, 1.0519, 1.0151, 0.9940, 1.0328, 1.0085,\n",
      "        0.9801, 0.9725, 1.0314, 1.0077, 1.0159, 1.0370, 0.9914, 1.0543, 1.0500,\n",
      "        1.0213, 1.0592, 1.0474, 1.0516, 1.0168, 1.0072, 1.0337, 0.9909, 1.0144,\n",
      "        1.0188, 1.0249, 1.0151, 1.0336, 1.0314, 0.9929, 1.0151, 1.0799, 0.9823,\n",
      "        1.0395, 1.0135, 1.0578, 0.9426, 0.9984, 1.0428, 0.9760, 1.0255, 0.9780,\n",
      "        1.0226, 1.0401, 1.0353, 1.0411, 1.0225, 0.9716, 0.9983, 1.0361, 1.0511,\n",
      "        1.0281, 1.0012, 1.0486, 1.0480, 0.9964, 1.0263], device='cuda:0')\n",
      "batchnorm.bias tensor([-0.0370, -0.0756, -0.0194, -0.0234, -0.0146, -0.0463, -0.0358,  0.0012,\n",
      "        -0.0627, -0.0124, -0.0429, -0.0215, -0.0126, -0.0248, -0.0075,  0.0129,\n",
      "        -0.0196, -0.0360, -0.0322, -0.0267, -0.0406, -0.0297, -0.0805, -0.0069,\n",
      "        -0.0235, -0.0990, -0.0378, -0.0132, -0.0436, -0.0747, -0.0487, -0.0144,\n",
      "        -0.0407, -0.0066, -0.0290, -0.0382,  0.0074, -0.0214, -0.0276, -0.0313,\n",
      "        -0.0096, -0.0516, -0.0902, -0.0482,  0.0009, -0.0281, -0.0353, -0.0309,\n",
      "         0.0050, -0.0506, -0.0211, -0.0275, -0.0302, -0.0387, -0.0577, -0.0308,\n",
      "        -0.0336, -0.0369, -0.0339, -0.0777, -0.0294, -0.0352, -0.0071, -0.0001,\n",
      "        -0.0285, -0.0549, -0.0372,  0.0034, -0.0185, -0.0247, -0.0118, -0.0550,\n",
      "        -0.0062, -0.0326, -0.0183, -0.0297, -0.0475, -0.0318, -0.0257, -0.0270,\n",
      "        -0.0358,  0.0062, -0.0308, -0.0484, -0.0249, -0.0307, -0.0204, -0.0700,\n",
      "        -0.0451, -0.0897, -0.0265, -0.0288, -0.0348, -0.0157, -0.0197, -0.0375,\n",
      "        -0.0313, -0.0301, -0.0773, -0.0240, -0.0734, -0.0107, -0.0598, -0.0469,\n",
      "        -0.0288, -0.0460, -0.0532, -0.0381, -0.0862, -0.0558, -0.0316, -0.0324,\n",
      "        -0.0573, -0.0790, -0.0134, -0.0398, -0.0052, -0.0114, -0.0123,  0.0189,\n",
      "        -0.0045, -0.0372, -0.0062, -0.0624, -0.0451, -0.0124, -0.0193,  0.0315,\n",
      "        -0.0358, -0.0157, -0.0366, -0.0567, -0.0495, -0.0661, -0.0314, -0.0070,\n",
      "         0.0057, -0.0300, -0.0151, -0.0019, -0.0177, -0.0386, -0.0438, -0.0102,\n",
      "        -0.0069, -0.0106, -0.0277, -0.0272, -0.0534, -0.0238, -0.0455, -0.0082,\n",
      "        -0.0517, -0.0263, -0.0050, -0.0379, -0.0663, -0.0615, -0.0582, -0.0092,\n",
      "        -0.0404, -0.0264, -0.0577, -0.0478, -0.0568, -0.0187, -0.0528, -0.0203,\n",
      "        -0.0098, -0.0332, -0.0112, -0.0534, -0.0543, -0.0346, -0.0433, -0.0796,\n",
      "        -0.0473, -0.0153, -0.0152, -0.0041, -0.0353, -0.0170, -0.0318,  0.0089,\n",
      "        -0.0191,  0.0105, -0.0513, -0.0218, -0.0288, -0.0393, -0.0091, -0.0355,\n",
      "        -0.0211, -0.0471, -0.0331,  0.0069, -0.0414, -0.0559,  0.0043, -0.0239,\n",
      "        -0.0238, -0.0030, -0.0266, -0.0298, -0.0448, -0.0371, -0.0074, -0.0366,\n",
      "        -0.0141, -0.0056, -0.0512, -0.0667, -0.0124, -0.0332, -0.0045, -0.0487,\n",
      "        -0.0303, -0.0131, -0.0520,  0.0042, -0.0422, -0.0251, -0.0261, -0.0071,\n",
      "         0.0109, -0.0063, -0.0455, -0.0350, -0.0598, -0.0255, -0.0296, -0.0313,\n",
      "        -0.0249, -0.0300, -0.0185,  0.0033, -0.0459, -0.0351, -0.0259, -0.0265,\n",
      "        -0.0448, -0.0458, -0.0125, -0.0193, -0.0281, -0.0416, -0.0394, -0.0538,\n",
      "        -0.0266, -0.0283, -0.0614, -0.0406, -0.0302, -0.0283, -0.0423, -0.0125,\n",
      "        -0.0559,  0.0023,  0.0121,  0.0132, -0.0689, -0.0150, -0.0441, -0.0776,\n",
      "         0.0037, -0.0463, -0.0223, -0.0746,  0.0027, -0.0706, -0.0505, -0.0198,\n",
      "        -0.0274, -0.0075, -0.0352, -0.0087, -0.0472, -0.0160, -0.0276, -0.0040,\n",
      "        -0.0527, -0.0393,  0.0009, -0.0753, -0.0465, -0.0412, -0.0194, -0.0223,\n",
      "        -0.0502, -0.0492, -0.0300, -0.0407, -0.0288, -0.0040, -0.0217, -0.0313,\n",
      "        -0.0337, -0.0429, -0.0318, -0.0091, -0.0484, -0.0841, -0.0308, -0.0363,\n",
      "        -0.0313, -0.0389, -0.0123, -0.0126, -0.0062, -0.0542, -0.0555, -0.0135,\n",
      "        -0.0105, -0.0117, -0.0454, -0.0154, -0.0716, -0.0039, -0.0099, -0.0588,\n",
      "         0.0062, -0.0257, -0.0040, -0.0420, -0.0187, -0.0292, -0.0458, -0.0291,\n",
      "        -0.0058, -0.0431, -0.0422,  0.0003, -0.0620, -0.0699, -0.0415, -0.0520,\n",
      "        -0.0452, -0.0452, -0.0106, -0.0093,  0.0123, -0.0350,  0.0046,  0.0218,\n",
      "        -0.0079, -0.0087, -0.0542, -0.0081, -0.0299, -0.0456, -0.0486, -0.0067,\n",
      "        -0.0475, -0.0276, -0.0475, -0.0317, -0.0415, -0.0333, -0.0176, -0.0491,\n",
      "        -0.0189, -0.0277,  0.0024, -0.0731, -0.0410, -0.0049, -0.0389, -0.0602,\n",
      "        -0.0247, -0.0136,  0.0100,  0.0100,  0.0005, -0.0080, -0.0079, -0.0497,\n",
      "        -0.0138, -0.0163, -0.0381, -0.0297, -0.0362, -0.0423, -0.0494, -0.0122],\n",
      "       device='cuda:0')\n",
      "lstm.weight_ih_l0 tensor([[-0.0195, -0.0326, -0.0321,  ..., -0.0682,  0.0308, -0.0684],\n",
      "        [-0.0567,  0.0127,  0.0070,  ..., -0.0515,  0.0088, -0.0036],\n",
      "        [ 0.0836, -0.0767, -0.0509,  ..., -0.0553, -0.0485,  0.0459],\n",
      "        ...,\n",
      "        [ 0.0899, -0.0754,  0.0300,  ...,  0.0688, -0.0445, -0.0003],\n",
      "        [ 0.0523,  0.0354, -0.0110,  ..., -0.0431,  0.0347,  0.0302],\n",
      "        [-0.0586, -0.0557,  0.0176,  ...,  0.0334, -0.0481, -0.0628]],\n",
      "       device='cuda:0')\n",
      "lstm.weight_hh_l0 tensor([[ 0.0225,  0.0060,  0.0389,  ..., -0.0164, -0.0531, -0.0254],\n",
      "        [ 0.0328,  0.0498,  0.0044,  ...,  0.0090,  0.0280, -0.0584],\n",
      "        [-0.0128,  0.0254, -0.0580,  ...,  0.0229,  0.0238,  0.0293],\n",
      "        ...,\n",
      "        [ 0.0508,  0.0175,  0.0720,  ..., -0.0691, -0.0141,  0.0444],\n",
      "        [-0.0636, -0.0435,  0.0886,  ..., -0.0851,  0.0026, -0.0230],\n",
      "        [-0.0246, -0.0442, -0.0553,  ..., -0.0428,  0.0211,  0.0056]],\n",
      "       device='cuda:0')\n",
      "lstm.bias_ih_l0 tensor([-0.0454, -0.0389,  0.0212,  ..., -0.0791,  0.0073, -0.0713],\n",
      "       device='cuda:0')\n",
      "lstm.bias_hh_l0 tensor([-0.0322, -0.0299, -0.0083,  ..., -0.0833,  0.0333, -0.0191],\n",
      "       device='cuda:0')\n",
      "lstm.weight_ih_l1 tensor([[-0.0347, -0.0523,  0.0023,  ..., -0.0047, -0.0195,  0.0020],\n",
      "        [-0.0374, -0.0669,  0.0410,  ..., -0.0541, -0.0665,  0.0423],\n",
      "        [-0.0161, -0.0744,  0.0225,  ...,  0.0396, -0.0301,  0.0032],\n",
      "        ...,\n",
      "        [-0.0504, -0.0018, -0.0103,  ..., -0.0362, -0.0239, -0.0139],\n",
      "        [-0.0368, -0.0814, -0.0003,  ..., -0.0098, -0.0092,  0.0098],\n",
      "        [ 0.0331,  0.0296, -0.0393,  ...,  0.0079, -0.0145, -0.0221]],\n",
      "       device='cuda:0')\n",
      "lstm.weight_hh_l1 tensor([[-0.0208, -0.0016, -0.0219,  ...,  0.0132,  0.0159,  0.0445],\n",
      "        [-0.0211, -0.0036, -0.0378,  ...,  0.0197, -0.0099,  0.0146],\n",
      "        [-0.0198,  0.0555,  0.0463,  ...,  0.0283,  0.0130, -0.0240],\n",
      "        ...,\n",
      "        [-0.0706,  0.0557,  0.0216,  ..., -0.0016,  0.0493,  0.0079],\n",
      "        [ 0.0140,  0.0184,  0.0018,  ...,  0.0288, -0.0086, -0.0319],\n",
      "        [-0.0275,  0.0178, -0.0037,  ..., -0.0532,  0.0555,  0.0058]],\n",
      "       device='cuda:0')\n",
      "lstm.bias_ih_l1 tensor([-0.0141, -0.0718,  0.0029,  ..., -0.0623, -0.0306, -0.0338],\n",
      "       device='cuda:0')\n",
      "lstm.bias_hh_l1 tensor([ 0.0014, -0.0305,  0.0326,  ..., -0.0450, -0.0359, -0.0362],\n",
      "       device='cuda:0')\n",
      "linear.weight tensor([[-0.0083, -0.0174, -0.0267,  ..., -0.0192,  0.0392,  0.0166],\n",
      "        [ 0.0454,  0.0343, -0.0468,  ...,  0.0097,  0.0670,  0.0704],\n",
      "        [ 0.0209, -0.0383, -0.0410,  ..., -0.0406, -0.0174,  0.0837],\n",
      "        ...,\n",
      "        [ 0.0528, -0.0064,  0.0119,  ..., -0.0446,  0.0442, -0.0268],\n",
      "        [-0.0579,  0.0672,  0.1000,  ..., -0.0101, -0.0542, -0.0440],\n",
      "        [-0.0329, -0.0645,  0.1209,  ...,  0.0270,  0.0965,  0.1246]],\n",
      "       device='cuda:0')\n",
      "linear.bias tensor([ 0.0452, -0.0343, -0.0173,  0.0146,  0.0316, -0.0182, -0.0613],\n",
      "       device='cuda:0')\n"
     ]
    }
   ],
   "source": [
    "for name, param in model.named_parameters():\n",
    "    if param.requires_grad:\n",
    "        print(name, param.data)"
   ]
  },
  {
   "cell_type": "code",
   "execution_count": 58,
   "id": "cc9b6fd0",
   "metadata": {},
   "outputs": [],
   "source": [
    "model_path = main_path + f'/models/hubertbase/holdout_{holdout}.pth'\n",
    "\n",
    "torch.save({'epoch':epochs,\n",
    "            'model_state_dict':model.state_dict(),\n",
    "            'optimizer_state_dict':optimizer.state_dict()},\n",
    "            model_path)"
   ]
  },
  {
   "cell_type": "code",
   "execution_count": null,
   "id": "d0aac69d",
   "metadata": {},
   "outputs": [],
   "source": []
  }
 ],
 "metadata": {
  "kernelspec": {
   "display_name": "Python 3",
   "language": "python",
   "name": "python3"
  },
  "language_info": {
   "codemirror_mode": {
    "name": "ipython",
    "version": 3
   },
   "file_extension": ".py",
   "mimetype": "text/x-python",
   "name": "python",
   "nbconvert_exporter": "python",
   "pygments_lexer": "ipython3",
   "version": "3.7.12"
  }
 },
 "nbformat": 4,
 "nbformat_minor": 5
}
