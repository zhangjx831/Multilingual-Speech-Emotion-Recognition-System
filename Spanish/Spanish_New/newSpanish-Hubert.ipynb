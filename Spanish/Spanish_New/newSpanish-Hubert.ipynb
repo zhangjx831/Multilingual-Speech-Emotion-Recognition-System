{
 "cells": [
  {
   "cell_type": "code",
   "execution_count": 1,
   "id": "fcff203e",
   "metadata": {},
   "outputs": [],
   "source": [
    "import re\n",
    "import os\n",
    "import pandas as pd\n",
    "import random\n",
    "from tqdm import tqdm \n",
    "\n",
    "file_paths, file_names, emotions, audios = [], [], [], []\n",
    "emotion_map = {'Neutral': 'neutral', 'Anger': 'angry', 'Happiness': 'happy', 'Sadness': 'sad', 'Fear': 'fear',\n",
    "              'Disgust': 'disgust'}\n",
    "\n",
    "main_path = '/home/rl3155/Multilingual-Speech-Emotion-Recognition-System/Spanish/Spanish_New'\n",
    "DATA_NATURAL = \"/home/rl3155/MESD_All\""
   ]
  },
  {
   "cell_type": "code",
   "execution_count": 2,
   "id": "371d6085",
   "metadata": {},
   "outputs": [
    {
     "name": "stdout",
     "output_type": "stream",
     "text": [
      "1.12.1\n",
      "0.12.1+cu113\n",
      "cuda\n"
     ]
    }
   ],
   "source": [
    "import torch\n",
    "import torchaudio\n",
    "\n",
    "print(torch.__version__)\n",
    "print(torchaudio.__version__)\n",
    "\n",
    "torch.random.manual_seed(0)\n",
    "device = torch.device(\"cuda\" if torch.cuda.is_available() else \"cpu\")\n",
    "\n",
    "print(device)"
   ]
  },
  {
   "cell_type": "code",
   "execution_count": 3,
   "id": "4675fdb9",
   "metadata": {},
   "outputs": [
    {
     "name": "stdout",
     "output_type": "stream",
     "text": [
      "<class 'torchaudio.models.wav2vec2.model.Wav2Vec2Model'>\n",
      "16000\n"
     ]
    }
   ],
   "source": [
    "bundle = torchaudio.pipelines.HUBERT_BASE\n",
    "extractor = bundle.get_model()\n",
    "print(extractor.__class__)\n",
    "print(bundle.sample_rate)"
   ]
  },
  {
   "cell_type": "markdown",
   "id": "682ce5bd",
   "metadata": {},
   "source": [
    "### Random get 5 parts of the entries -- only run code below 1 time"
   ]
  },
  {
   "cell_type": "code",
   "execution_count": 4,
   "id": "af158f24",
   "metadata": {},
   "outputs": [],
   "source": [
    "# Define path to datasets; create a random chunked 5 parts of entries\n",
    "# entries = os.listdir(DATA_NATURAL)\n",
    "# random.shuffle(entries)\n",
    "# session = []\n",
    "# equal_parts = (len(entries)-1)//5 # for equally split the entries into 5 parts\n",
    "# count = 0\n",
    "# for i in tqdm(range(len(entries))):\n",
    "#     entry = entries[i]\n",
    "#     if \"wav\" not in entry:\n",
    "#         continue\n",
    "#     path = DATA_NATURAL + \"/\" + entry\n",
    "#     emotion = emotion_map[entry.split(\"_\")[0]]\n",
    "#     file_paths.append(path)\n",
    "#     file_names.append(entry)\n",
    "#     emotions.append(emotion)\n",
    "    \n",
    "#     # assign session to it\n",
    "#     part = (count//equal_parts)%6 + 1\n",
    "#     if part == 6:\n",
    "#         part = 5\n",
    "#     session.append(part)\n",
    "#     count += 1\n",
    "\n",
    "# file = pd.DataFrame({'path':file_paths, 'name': file_names, 'emotion': emotions, 'session': session})\n",
    "# dataframe_path = main_path + '/session_entries.csv'\n",
    "# file.to_csv(dataframe_path)"
   ]
  },
  {
   "cell_type": "markdown",
   "id": "45ea79eb",
   "metadata": {},
   "source": [
    "### Extract Features using Models"
   ]
  },
  {
   "cell_type": "code",
   "execution_count": 5,
   "id": "b89c352b",
   "metadata": {},
   "outputs": [
    {
     "data": {
      "text/html": [
       "<div>\n",
       "<style scoped>\n",
       "    .dataframe tbody tr th:only-of-type {\n",
       "        vertical-align: middle;\n",
       "    }\n",
       "\n",
       "    .dataframe tbody tr th {\n",
       "        vertical-align: top;\n",
       "    }\n",
       "\n",
       "    .dataframe thead th {\n",
       "        text-align: right;\n",
       "    }\n",
       "</style>\n",
       "<table border=\"1\" class=\"dataframe\">\n",
       "  <thead>\n",
       "    <tr style=\"text-align: right;\">\n",
       "      <th></th>\n",
       "      <th>path</th>\n",
       "      <th>name</th>\n",
       "      <th>emotion</th>\n",
       "      <th>session</th>\n",
       "    </tr>\n",
       "  </thead>\n",
       "  <tbody>\n",
       "    <tr>\n",
       "      <th>0</th>\n",
       "      <td>/home/rl3155/MESD_All/Fear_F_A_basta_ya.wav</td>\n",
       "      <td>Fear_F_A_basta_ya.wav</td>\n",
       "      <td>fear</td>\n",
       "      <td>1</td>\n",
       "    </tr>\n",
       "    <tr>\n",
       "      <th>1</th>\n",
       "      <td>/home/rl3155/MESD_All/Happiness_M_A_arriba.wav</td>\n",
       "      <td>Happiness_M_A_arriba.wav</td>\n",
       "      <td>happy</td>\n",
       "      <td>1</td>\n",
       "    </tr>\n",
       "    <tr>\n",
       "      <th>2</th>\n",
       "      <td>/home/rl3155/MESD_All/Fear_F_B_arana.wav</td>\n",
       "      <td>Fear_F_B_arana.wav</td>\n",
       "      <td>fear</td>\n",
       "      <td>1</td>\n",
       "    </tr>\n",
       "    <tr>\n",
       "      <th>3</th>\n",
       "      <td>/home/rl3155/MESD_All/Neutral_M_B_articulo.wav</td>\n",
       "      <td>Neutral_M_B_articulo.wav</td>\n",
       "      <td>neutral</td>\n",
       "      <td>1</td>\n",
       "    </tr>\n",
       "    <tr>\n",
       "      <th>4</th>\n",
       "      <td>/home/rl3155/MESD_All/Disgust_F_A_antes.wav</td>\n",
       "      <td>Disgust_F_A_antes.wav</td>\n",
       "      <td>disgust</td>\n",
       "      <td>1</td>\n",
       "    </tr>\n",
       "  </tbody>\n",
       "</table>\n",
       "</div>"
      ],
      "text/plain": [
       "                                             path                      name  \\\n",
       "0     /home/rl3155/MESD_All/Fear_F_A_basta_ya.wav     Fear_F_A_basta_ya.wav   \n",
       "1  /home/rl3155/MESD_All/Happiness_M_A_arriba.wav  Happiness_M_A_arriba.wav   \n",
       "2        /home/rl3155/MESD_All/Fear_F_B_arana.wav        Fear_F_B_arana.wav   \n",
       "3  /home/rl3155/MESD_All/Neutral_M_B_articulo.wav  Neutral_M_B_articulo.wav   \n",
       "4     /home/rl3155/MESD_All/Disgust_F_A_antes.wav     Disgust_F_A_antes.wav   \n",
       "\n",
       "   emotion  session  \n",
       "0     fear        1  \n",
       "1    happy        1  \n",
       "2     fear        1  \n",
       "3  neutral        1  \n",
       "4  disgust        1  "
      ]
     },
     "execution_count": 5,
     "metadata": {},
     "output_type": "execute_result"
    }
   ],
   "source": [
    "# Get the entries with assigned session\n",
    "\n",
    "dataframe_path = '/home/rl3155/Multilingual-Speech-Emotion-Recognition-System/Spanish/session_entries.csv'\n",
    "file = pd.read_csv(dataframe_path)[['path', 'name', 'emotion', 'session']]\n",
    "file.head()"
   ]
  },
  {
   "cell_type": "code",
   "execution_count": 6,
   "id": "9dcc58f6",
   "metadata": {},
   "outputs": [
    {
     "name": "stderr",
     "output_type": "stream",
     "text": [
      "100%|██████████████████████████████████████████████████████████████████████████████████████████████████████████████████████████████████████████████████████████████████████████████████████████████████████████| 862/862 [00:55<00:00, 15.41it/s]\n"
     ]
    }
   ],
   "source": [
    "from tqdm import tqdm\n",
    "\n",
    "for i in tqdm(range(len(file['path']))):\n",
    "    path = file['path'][i]\n",
    "    wave, sr = torchaudio.load(path)\n",
    "    if sr != bundle.sample_rate:\n",
    "        wave = torchaudio.functional.resample(wave, sr, bundle.sample_rate)\n",
    "    with torch.inference_mode():\n",
    "        feature, _ = extractor.extract_features(wave)\n",
    "    feature = [f[0] for f in feature]\n",
    "    audio = torch.stack(feature)\n",
    "    audios.append(audio)"
   ]
  },
  {
   "cell_type": "code",
   "execution_count": 7,
   "id": "de6642eb",
   "metadata": {},
   "outputs": [],
   "source": [
    "file['audio'] = audios"
   ]
  },
  {
   "cell_type": "markdown",
   "id": "9558abec",
   "metadata": {},
   "source": [
    "### Load Data"
   ]
  },
  {
   "cell_type": "code",
   "execution_count": 9,
   "id": "75a75bd9",
   "metadata": {},
   "outputs": [],
   "source": [
    "class MyDataSet(torch.utils.data.Dataset):\n",
    "    def __init__(self, audios, labels, label_transform):\n",
    "        super(MyDataSet).__init__()\n",
    "        self.audios = audios\n",
    "        self.labels = labels\n",
    "        self.label_transform = label_transform\n",
    "        \n",
    "    def __getitem__(self, idx):\n",
    "        label = self.label_transform[self.labels[idx]]\n",
    "        audio = self.audios[idx]\n",
    "        length = audio.size(1)\n",
    "        return audio, length, label\n",
    "    \n",
    "    def __len__(self):\n",
    "        return len(self.labels)"
   ]
  },
  {
   "cell_type": "code",
   "execution_count": 10,
   "id": "141ec40a",
   "metadata": {},
   "outputs": [],
   "source": [
    "def collate_indic(data):\n",
    "    audios, lengths, labels = zip(*data)\n",
    "    max_len = max(lengths)\n",
    "    n_ftrs = audios[0].size(2)\n",
    "    n_dims = audios[0].size(0)\n",
    "    features = torch.zeros((len(audios), n_dims, max_len, n_ftrs))\n",
    "    labels = torch.tensor(labels)\n",
    "    lengths = torch.tensor(lengths)\n",
    "\n",
    "    for i in range(len(data)):\n",
    "        j, k = audios[i].size(1), audios[i].size(2)\n",
    "        features[i] = torch.cat([audios[i], torch.zeros((n_dims, max_len - j, k))], dim=1)\n",
    "\n",
    "    return features, lengths, labels"
   ]
  },
  {
   "cell_type": "code",
   "execution_count": 11,
   "id": "0738ead4",
   "metadata": {},
   "outputs": [
    {
     "data": {
      "text/plain": [
       "{'neutral': 0, 'angry': 1, 'happy': 2, 'sad': 3, 'fear': 4, 'disgust': 5}"
      ]
     },
     "execution_count": 11,
     "metadata": {},
     "output_type": "execute_result"
    }
   ],
   "source": [
    "categories = ['neutral', 'angry', 'happy', 'sad', 'fear', 'disgust']\n",
    "cate_dic = {}\n",
    "for i, cate in enumerate(categories):\n",
    "    cate_dic[cate] = i\n",
    "cate_dic"
   ]
  },
  {
   "cell_type": "markdown",
   "id": "adf4848c",
   "metadata": {},
   "source": [
    "## Train with 3CNN+LSTM"
   ]
  },
  {
   "cell_type": "code",
   "execution_count": 13,
   "id": "2ef1a6ec",
   "metadata": {},
   "outputs": [],
   "source": [
    "import torch.nn as nn\n",
    "import torch.nn.functional as F\n",
    "\n",
    "class ICASSP3CNN(nn.Module):\n",
    "    def __init__(self, vocab_size, dims = 12, embed_size=128, hidden_size=512, num_lstm_layers = 2,\\\n",
    "                 bidirectional = False, label_size=6):\n",
    "        super().__init__()\n",
    "        self.n_layers = num_lstm_layers \n",
    "        self.hidden = hidden_size\n",
    "        self.bidirectional = bidirectional\n",
    "        \n",
    "        self.aggr = nn.Conv1d(in_channels=dims, out_channels=1, kernel_size=1)\n",
    "        \n",
    "        self.embed = nn.Linear(in_features = vocab_size, out_features = embed_size)\n",
    "\n",
    "        self.cnn  = nn.Conv1d(embed_size, embed_size, kernel_size=3, padding=1)\n",
    "        self.cnn2 = nn.Conv1d(embed_size, embed_size, kernel_size=5, padding=2)\n",
    "        self.cnn3 = nn.Conv1d(embed_size, embed_size, kernel_size=7, padding=3)\n",
    "\n",
    "        self.batchnorm = nn.BatchNorm1d(3 * embed_size)\n",
    "\n",
    "        self.lstm = nn.LSTM(input_size = 3 * embed_size, \n",
    "                            hidden_size = hidden_size, \n",
    "                            num_layers = num_lstm_layers, \n",
    "                            bidirectional = bidirectional)\n",
    "\n",
    "        self.linear = nn.Linear(in_features = 2 * hidden_size if bidirectional else hidden_size, \n",
    "                                out_features = label_size)\n",
    "\n",
    "\n",
    "    def forward(self, x, lengths):\n",
    "        \"\"\"\n",
    "        padded_x: (B,T) padded LongTensor\n",
    "        \"\"\"\n",
    "        n, d, b, t = x.size(0), x.size(1), x.size(2), x.size(3)\n",
    "        x = torch.flatten(x, start_dim=2)\n",
    "        input = self.aggr(x)\n",
    "        input = torch.reshape(input, (n, b, t))\n",
    "        input = self.embed(input)\n",
    "\n",
    "        batch_size = input.size(0)\n",
    "        input = input.transpose(1,2)    # (B,T,H) -> (B,H,T)\n",
    "\n",
    "        cnn_output = torch.cat([self.cnn(input), self.cnn2(input), self.cnn3(input)], dim=1)\n",
    "\n",
    "        input = F.relu(self.batchnorm(cnn_output))\n",
    "\n",
    "        input = input.transpose(1,2)\n",
    "\n",
    "        pack_tensor = nn.utils.rnn.pack_padded_sequence(input, lengths, batch_first=True, enforce_sorted=False)\n",
    "        _, (hn, cn) = self.lstm(pack_tensor)\n",
    "\n",
    "        if self.bidirectional:\n",
    "            h_n = hn.view(self.n_layers, 2, batch_size, self.hidden)\n",
    "            h_n = torch.cat([ h_n[-1, 0,:], h_n[-1,1,:] ], dim = 1)\n",
    "        else:\n",
    "            h_n = hn[-1]\n",
    "\n",
    "        logits = self.linear(h_n)\n",
    "\n",
    "        return logits"
   ]
  },
  {
   "cell_type": "markdown",
   "id": "21a7d392",
   "metadata": {},
   "source": [
    "### Model Traning on each layer "
   ]
  },
  {
   "cell_type": "code",
   "execution_count": 36,
   "id": "71a55670",
   "metadata": {},
   "outputs": [],
   "source": [
    "holdout = 5\n",
    "train = file[file['session'] != holdout]\n",
    "test = file[file['session'] == holdout]"
   ]
  },
  {
   "cell_type": "code",
   "execution_count": 37,
   "id": "9aa549a4",
   "metadata": {},
   "outputs": [],
   "source": [
    "from torch.utils.data import DataLoader\n",
    "\n",
    "train_dataset = MyDataSet(train['audio'].tolist(), train['emotion'].tolist(), cate_dic)\n",
    "trainloader_args = dict(batch_size=16, shuffle=True)\n",
    "train_dataloader = DataLoader(train_dataset, **trainloader_args, \n",
    "                              collate_fn=collate_indic)\n",
    "\n",
    "test_dataset = MyDataSet(test['audio'].tolist(), test['emotion'].tolist(), cate_dic)\n",
    "testloader_args = dict(batch_size=16, shuffle=True)\n",
    "test_dataloader = DataLoader(test_dataset, **testloader_args, \n",
    "                             collate_fn=collate_indic)"
   ]
  },
  {
   "cell_type": "code",
   "execution_count": 38,
   "id": "75762bdc",
   "metadata": {},
   "outputs": [
    {
     "name": "stderr",
     "output_type": "stream",
     "text": [
      "  2%|████                                                                                                                                                                                                          | 1/50 [00:01<01:11,  1.45s/it]"
     ]
    },
    {
     "name": "stdout",
     "output_type": "stream",
     "text": [
      "epoch:1, train accu:0.3241, train loss:1.61\n"
     ]
    },
    {
     "name": "stderr",
     "output_type": "stream",
     "text": [
      "\r",
      "  4%|████████▏                                                                                                                                                                                                     | 2/50 [00:02<01:06,  1.38s/it]"
     ]
    },
    {
     "name": "stdout",
     "output_type": "stream",
     "text": [
      "epoch:2, train accu:0.5189, train loss:1.23\n"
     ]
    },
    {
     "name": "stderr",
     "output_type": "stream",
     "text": [
      "\r",
      "  6%|████████████▎                                                                                                                                                                                                 | 3/50 [00:04<01:04,  1.37s/it]"
     ]
    },
    {
     "name": "stdout",
     "output_type": "stream",
     "text": [
      "epoch:3, train accu:0.6134, train loss:0.99\n"
     ]
    },
    {
     "name": "stderr",
     "output_type": "stream",
     "text": [
      "\r",
      "  8%|████████████████▍                                                                                                                                                                                             | 4/50 [00:05<01:02,  1.37s/it]"
     ]
    },
    {
     "name": "stdout",
     "output_type": "stream",
     "text": [
      "epoch:4, train accu:0.7006, train loss:0.80\n"
     ]
    },
    {
     "name": "stderr",
     "output_type": "stream",
     "text": [
      "\r",
      " 10%|████████████████████▌                                                                                                                                                                                         | 5/50 [00:06<01:01,  1.36s/it]"
     ]
    },
    {
     "name": "stdout",
     "output_type": "stream",
     "text": [
      "epoch:5, train accu:0.7849, train loss:0.61\n"
     ]
    },
    {
     "name": "stderr",
     "output_type": "stream",
     "text": [
      "\r",
      " 12%|████████████████████████▋                                                                                                                                                                                     | 6/50 [00:08<00:59,  1.35s/it]"
     ]
    },
    {
     "name": "stdout",
     "output_type": "stream",
     "text": [
      "epoch:6, train accu:0.8619, train loss:0.41\n"
     ]
    },
    {
     "name": "stderr",
     "output_type": "stream",
     "text": [
      "\r",
      " 14%|████████████████████████████▊                                                                                                                                                                                 | 7/50 [00:09<00:58,  1.35s/it]"
     ]
    },
    {
     "name": "stdout",
     "output_type": "stream",
     "text": [
      "epoch:7, train accu:0.9172, train loss:0.26\n"
     ]
    },
    {
     "name": "stderr",
     "output_type": "stream",
     "text": [
      "\r",
      " 16%|████████████████████████████████▉                                                                                                                                                                             | 8/50 [00:10<00:56,  1.35s/it]"
     ]
    },
    {
     "name": "stdout",
     "output_type": "stream",
     "text": [
      "epoch:8, train accu:0.9113, train loss:0.27\n"
     ]
    },
    {
     "name": "stderr",
     "output_type": "stream",
     "text": [
      "\r",
      " 18%|█████████████████████████████████████                                                                                                                                                                         | 9/50 [00:12<00:55,  1.35s/it]"
     ]
    },
    {
     "name": "stdout",
     "output_type": "stream",
     "text": [
      "epoch:9, train accu:0.9128, train loss:0.27\n"
     ]
    },
    {
     "name": "stderr",
     "output_type": "stream",
     "text": [
      "\r",
      " 20%|█████████████████████████████████████████                                                                                                                                                                    | 10/50 [00:13<00:56,  1.42s/it]"
     ]
    },
    {
     "name": "stdout",
     "output_type": "stream",
     "text": [
      "epoch:10, train accu:0.9535, train loss:0.15\n"
     ]
    },
    {
     "name": "stderr",
     "output_type": "stream",
     "text": [
      "\r",
      " 22%|█████████████████████████████████████████████                                                                                                                                                                | 11/50 [00:15<01:03,  1.62s/it]"
     ]
    },
    {
     "name": "stdout",
     "output_type": "stream",
     "text": [
      "epoch:11, train accu:0.9506, train loss:0.16\n"
     ]
    },
    {
     "name": "stderr",
     "output_type": "stream",
     "text": [
      "\r",
      " 24%|█████████████████████████████████████████████████▏                                                                                                                                                           | 12/50 [00:17<01:00,  1.58s/it]"
     ]
    },
    {
     "name": "stdout",
     "output_type": "stream",
     "text": [
      "epoch:12, train accu:0.9578, train loss:0.14\n"
     ]
    },
    {
     "name": "stderr",
     "output_type": "stream",
     "text": [
      "\r",
      " 26%|█████████████████████████████████████████████████████▎                                                                                                                                                       | 13/50 [00:18<00:56,  1.52s/it]"
     ]
    },
    {
     "name": "stdout",
     "output_type": "stream",
     "text": [
      "epoch:13, train accu:0.9578, train loss:0.13\n"
     ]
    },
    {
     "name": "stderr",
     "output_type": "stream",
     "text": [
      "\r",
      " 28%|█████████████████████████████████████████████████████████▍                                                                                                                                                   | 14/50 [00:20<00:52,  1.47s/it]"
     ]
    },
    {
     "name": "stdout",
     "output_type": "stream",
     "text": [
      "epoch:14, train accu:0.9535, train loss:0.15\n"
     ]
    },
    {
     "name": "stderr",
     "output_type": "stream",
     "text": [
      "\r",
      " 30%|█████████████████████████████████████████████████████████████▌                                                                                                                                               | 15/50 [00:21<00:50,  1.43s/it]"
     ]
    },
    {
     "name": "stdout",
     "output_type": "stream",
     "text": [
      "epoch:15, train accu:0.9622, train loss:0.13\n"
     ]
    },
    {
     "name": "stderr",
     "output_type": "stream",
     "text": [
      "\r",
      " 32%|█████████████████████████████████████████████████████████████████▌                                                                                                                                           | 16/50 [00:22<00:47,  1.40s/it]"
     ]
    },
    {
     "name": "stdout",
     "output_type": "stream",
     "text": [
      "epoch:16, train accu:0.9593, train loss:0.16\n"
     ]
    },
    {
     "name": "stderr",
     "output_type": "stream",
     "text": [
      "\r",
      " 34%|█████████████████████████████████████████████████████████████████████▋                                                                                                                                       | 17/50 [00:24<00:45,  1.39s/it]"
     ]
    },
    {
     "name": "stdout",
     "output_type": "stream",
     "text": [
      "epoch:17, train accu:0.9811, train loss:0.06\n"
     ]
    },
    {
     "name": "stderr",
     "output_type": "stream",
     "text": [
      "\r",
      " 36%|█████████████████████████████████████████████████████████████████████████▊                                                                                                                                   | 18/50 [00:25<00:44,  1.38s/it]"
     ]
    },
    {
     "name": "stdout",
     "output_type": "stream",
     "text": [
      "epoch:18, train accu:0.9942, train loss:0.03\n"
     ]
    },
    {
     "name": "stderr",
     "output_type": "stream",
     "text": [
      "\r",
      " 38%|█████████████████████████████████████████████████████████████████████████████▉                                                                                                                               | 19/50 [00:26<00:42,  1.38s/it]"
     ]
    },
    {
     "name": "stdout",
     "output_type": "stream",
     "text": [
      "epoch:19, train accu:0.9971, train loss:0.01\n"
     ]
    },
    {
     "name": "stderr",
     "output_type": "stream",
     "text": [
      "\r",
      " 40%|██████████████████████████████████████████████████████████████████████████████████                                                                                                                           | 20/50 [00:28<00:40,  1.36s/it]"
     ]
    },
    {
     "name": "stdout",
     "output_type": "stream",
     "text": [
      "epoch:20, train accu:0.9927, train loss:0.02\n"
     ]
    },
    {
     "name": "stderr",
     "output_type": "stream",
     "text": [
      "\r",
      " 42%|██████████████████████████████████████████████████████████████████████████████████████                                                                                                                       | 21/50 [00:29<00:39,  1.37s/it]"
     ]
    },
    {
     "name": "stdout",
     "output_type": "stream",
     "text": [
      "epoch:21, train accu:0.9738, train loss:0.08\n"
     ]
    },
    {
     "name": "stderr",
     "output_type": "stream",
     "text": [
      "\r",
      " 44%|██████████████████████████████████████████████████████████████████████████████████████████▏                                                                                                                  | 22/50 [00:30<00:37,  1.35s/it]"
     ]
    },
    {
     "name": "stdout",
     "output_type": "stream",
     "text": [
      "epoch:22, train accu:0.9666, train loss:0.12\n"
     ]
    },
    {
     "name": "stderr",
     "output_type": "stream",
     "text": [
      "\r",
      " 46%|██████████████████████████████████████████████████████████████████████████████████████████████▎                                                                                                              | 23/50 [00:32<00:36,  1.35s/it]"
     ]
    },
    {
     "name": "stdout",
     "output_type": "stream",
     "text": [
      "epoch:23, train accu:0.9782, train loss:0.09\n"
     ]
    },
    {
     "name": "stderr",
     "output_type": "stream",
     "text": [
      "\r",
      " 48%|██████████████████████████████████████████████████████████████████████████████████████████████████▍                                                                                                          | 24/50 [00:33<00:35,  1.35s/it]"
     ]
    },
    {
     "name": "stdout",
     "output_type": "stream",
     "text": [
      "epoch:24, train accu:0.9695, train loss:0.09\n"
     ]
    },
    {
     "name": "stderr",
     "output_type": "stream",
     "text": [
      "\r",
      " 50%|██████████████████████████████████████████████████████████████████████████████████████████████████████▌                                                                                                      | 25/50 [00:34<00:33,  1.35s/it]"
     ]
    },
    {
     "name": "stdout",
     "output_type": "stream",
     "text": [
      "epoch:25, train accu:0.9855, train loss:0.06\n"
     ]
    },
    {
     "name": "stderr",
     "output_type": "stream",
     "text": [
      "\r",
      " 52%|██████████████████████████████████████████████████████████████████████████████████████████████████████████▌                                                                                                  | 26/50 [00:36<00:32,  1.36s/it]"
     ]
    },
    {
     "name": "stdout",
     "output_type": "stream",
     "text": [
      "epoch:26, train accu:0.9884, train loss:0.03\n"
     ]
    },
    {
     "name": "stderr",
     "output_type": "stream",
     "text": [
      "\r",
      " 54%|██████████████████████████████████████████████████████████████████████████████████████████████████████████████▋                                                                                              | 27/50 [00:37<00:30,  1.34s/it]"
     ]
    },
    {
     "name": "stdout",
     "output_type": "stream",
     "text": [
      "epoch:27, train accu:0.9927, train loss:0.03\n"
     ]
    },
    {
     "name": "stderr",
     "output_type": "stream",
     "text": [
      "\r",
      " 56%|██████████████████████████████████████████████████████████████████████████████████████████████████████████████████▊                                                                                          | 28/50 [00:38<00:29,  1.33s/it]"
     ]
    },
    {
     "name": "stdout",
     "output_type": "stream",
     "text": [
      "epoch:28, train accu:0.9942, train loss:0.03\n"
     ]
    },
    {
     "name": "stderr",
     "output_type": "stream",
     "text": [
      "\r",
      " 58%|██████████████████████████████████████████████████████████████████████████████████████████████████████████████████████▉                                                                                      | 29/50 [00:40<00:28,  1.36s/it]"
     ]
    },
    {
     "name": "stdout",
     "output_type": "stream",
     "text": [
      "epoch:29, train accu:0.9913, train loss:0.03\n"
     ]
    },
    {
     "name": "stderr",
     "output_type": "stream",
     "text": [
      "\r",
      " 60%|███████████████████████████████████████████████████████████████████████████████████████████████████████████████████████████                                                                                  | 30/50 [00:41<00:27,  1.36s/it]"
     ]
    },
    {
     "name": "stdout",
     "output_type": "stream",
     "text": [
      "epoch:30, train accu:0.9956, train loss:0.01\n"
     ]
    },
    {
     "name": "stderr",
     "output_type": "stream",
     "text": [
      "\r",
      " 62%|███████████████████████████████████████████████████████████████████████████████████████████████████████████████████████████████                                                                              | 31/50 [00:43<00:26,  1.37s/it]"
     ]
    },
    {
     "name": "stdout",
     "output_type": "stream",
     "text": [
      "epoch:31, train accu:0.9869, train loss:0.05\n"
     ]
    },
    {
     "name": "stderr",
     "output_type": "stream",
     "text": [
      "\r",
      " 64%|███████████████████████████████████████████████████████████████████████████████████████████████████████████████████████████████████▏                                                                         | 32/50 [00:44<00:24,  1.37s/it]"
     ]
    },
    {
     "name": "stdout",
     "output_type": "stream",
     "text": [
      "epoch:32, train accu:0.9738, train loss:0.08\n"
     ]
    },
    {
     "name": "stderr",
     "output_type": "stream",
     "text": [
      "\r",
      " 66%|███████████████████████████████████████████████████████████████████████████████████████████████████████████████████████████████████████▎                                                                     | 33/50 [00:45<00:23,  1.39s/it]"
     ]
    },
    {
     "name": "stdout",
     "output_type": "stream",
     "text": [
      "epoch:33, train accu:0.9448, train loss:0.19\n"
     ]
    },
    {
     "name": "stderr",
     "output_type": "stream",
     "text": [
      "\r",
      " 68%|███████████████████████████████████████████████████████████████████████████████████████████████████████████████████████████████████████████▍                                                                 | 34/50 [00:47<00:22,  1.39s/it]"
     ]
    },
    {
     "name": "stdout",
     "output_type": "stream",
     "text": [
      "epoch:34, train accu:0.9826, train loss:0.06\n"
     ]
    },
    {
     "name": "stderr",
     "output_type": "stream",
     "text": [
      "\r",
      " 70%|███████████████████████████████████████████████████████████████████████████████████████████████████████████████████████████████████████████████▌                                                             | 35/50 [00:48<00:20,  1.40s/it]"
     ]
    },
    {
     "name": "stdout",
     "output_type": "stream",
     "text": [
      "epoch:35, train accu:0.9884, train loss:0.03\n"
     ]
    },
    {
     "name": "stderr",
     "output_type": "stream",
     "text": [
      "\r",
      " 72%|███████████████████████████████████████████████████████████████████████████████████████████████████████████████████████████████████████████████████▌                                                         | 36/50 [00:50<00:19,  1.41s/it]"
     ]
    },
    {
     "name": "stdout",
     "output_type": "stream",
     "text": [
      "epoch:36, train accu:0.9869, train loss:0.04\n"
     ]
    },
    {
     "name": "stderr",
     "output_type": "stream",
     "text": [
      "\r",
      " 74%|███████████████████████████████████████████████████████████████████████████████████████████████████████████████████████████████████████████████████████▋                                                     | 37/50 [00:51<00:18,  1.41s/it]"
     ]
    },
    {
     "name": "stdout",
     "output_type": "stream",
     "text": [
      "epoch:37, train accu:0.9971, train loss:0.01\n"
     ]
    },
    {
     "name": "stderr",
     "output_type": "stream",
     "text": [
      "\r",
      " 76%|███████████████████████████████████████████████████████████████████████████████████████████████████████████████████████████████████████████████████████████▊                                                 | 38/50 [00:52<00:16,  1.40s/it]"
     ]
    },
    {
     "name": "stdout",
     "output_type": "stream",
     "text": [
      "epoch:38, train accu:0.9942, train loss:0.03\n"
     ]
    },
    {
     "name": "stderr",
     "output_type": "stream",
     "text": [
      "\r",
      " 78%|███████████████████████████████████████████████████████████████████████████████████████████████████████████████████████████████████████████████████████████████▉                                             | 39/50 [00:54<00:15,  1.40s/it]"
     ]
    },
    {
     "name": "stdout",
     "output_type": "stream",
     "text": [
      "epoch:39, train accu:0.9971, train loss:0.01\n"
     ]
    },
    {
     "name": "stderr",
     "output_type": "stream",
     "text": [
      "\r",
      " 80%|████████████████████████████████████████████████████████████████████████████████████████████████████████████████████████████████████████████████████████████████████                                         | 40/50 [00:55<00:14,  1.40s/it]"
     ]
    },
    {
     "name": "stdout",
     "output_type": "stream",
     "text": [
      "epoch:40, train accu:0.9985, train loss:0.01\n"
     ]
    },
    {
     "name": "stderr",
     "output_type": "stream",
     "text": [
      "\r",
      " 82%|████████████████████████████████████████████████████████████████████████████████████████████████████████████████████████████████████████████████████████████████████████                                     | 41/50 [00:57<00:12,  1.39s/it]"
     ]
    },
    {
     "name": "stdout",
     "output_type": "stream",
     "text": [
      "epoch:41, train accu:1.0000, train loss:0.00\n"
     ]
    },
    {
     "name": "stderr",
     "output_type": "stream",
     "text": [
      "\r",
      " 84%|████████████████████████████████████████████████████████████████████████████████████████████████████████████████████████████████████████████████████████████████████████████▏                                | 42/50 [00:58<00:11,  1.38s/it]"
     ]
    },
    {
     "name": "stdout",
     "output_type": "stream",
     "text": [
      "epoch:42, train accu:1.0000, train loss:0.00\n"
     ]
    },
    {
     "name": "stderr",
     "output_type": "stream",
     "text": [
      "\r",
      " 86%|████████████████████████████████████████████████████████████████████████████████████████████████████████████████████████████████████████████████████████████████████████████████▎                            | 43/50 [00:59<00:09,  1.37s/it]"
     ]
    },
    {
     "name": "stdout",
     "output_type": "stream",
     "text": [
      "epoch:43, train accu:0.9927, train loss:0.05\n"
     ]
    },
    {
     "name": "stderr",
     "output_type": "stream",
     "text": [
      "\r",
      " 88%|████████████████████████████████████████████████████████████████████████████████████████████████████████████████████████████████████████████████████████████████████████████████████▍                        | 44/50 [01:01<00:08,  1.38s/it]"
     ]
    },
    {
     "name": "stdout",
     "output_type": "stream",
     "text": [
      "epoch:44, train accu:0.9927, train loss:0.02\n"
     ]
    },
    {
     "name": "stderr",
     "output_type": "stream",
     "text": [
      "\r",
      " 90%|████████████████████████████████████████████████████████████████████████████████████████████████████████████████████████████████████████████████████████████████████████████████████████▌                    | 45/50 [01:02<00:06,  1.37s/it]"
     ]
    },
    {
     "name": "stdout",
     "output_type": "stream",
     "text": [
      "epoch:45, train accu:0.9637, train loss:0.13\n"
     ]
    },
    {
     "name": "stderr",
     "output_type": "stream",
     "text": [
      "\r",
      " 92%|████████████████████████████████████████████████████████████████████████████████████████████████████████████████████████████████████████████████████████████████████████████████████████████▌                | 46/50 [01:03<00:05,  1.36s/it]"
     ]
    },
    {
     "name": "stdout",
     "output_type": "stream",
     "text": [
      "epoch:46, train accu:0.9811, train loss:0.06\n"
     ]
    },
    {
     "name": "stderr",
     "output_type": "stream",
     "text": [
      "\r",
      " 94%|████████████████████████████████████████████████████████████████████████████████████████████████████████████████████████████████████████████████████████████████████████████████████████████████▋            | 47/50 [01:05<00:04,  1.35s/it]"
     ]
    },
    {
     "name": "stdout",
     "output_type": "stream",
     "text": [
      "epoch:47, train accu:0.9913, train loss:0.04\n"
     ]
    },
    {
     "name": "stderr",
     "output_type": "stream",
     "text": [
      "\r",
      " 96%|████████████████████████████████████████████████████████████████████████████████████████████████████████████████████████████████████████████████████████████████████████████████████████████████████▊        | 48/50 [01:06<00:02,  1.36s/it]"
     ]
    },
    {
     "name": "stdout",
     "output_type": "stream",
     "text": [
      "epoch:48, train accu:0.9884, train loss:0.03\n"
     ]
    },
    {
     "name": "stderr",
     "output_type": "stream",
     "text": [
      "\r",
      " 98%|████████████████████████████████████████████████████████████████████████████████████████████████████████████████████████████████████████████████████████████████████████████████████████████████████████▉    | 49/50 [01:07<00:01,  1.35s/it]"
     ]
    },
    {
     "name": "stdout",
     "output_type": "stream",
     "text": [
      "epoch:49, train accu:0.9985, train loss:0.00\n"
     ]
    },
    {
     "name": "stderr",
     "output_type": "stream",
     "text": [
      "100%|█████████████████████████████████████████████████████████████████████████████████████████████████████████████████████████████████████████████████████████████████████████████████████████████████████████████| 50/50 [01:09<00:00,  1.39s/it]"
     ]
    },
    {
     "name": "stdout",
     "output_type": "stream",
     "text": [
      "epoch:50, train accu:0.9985, train loss:0.01\n"
     ]
    },
    {
     "name": "stderr",
     "output_type": "stream",
     "text": [
      "\n"
     ]
    }
   ],
   "source": [
    "from tqdm import tqdm\n",
    "from torchsummary import summary\n",
    "import torch.optim as optim\n",
    "\n",
    "model = ICASSP3CNN(768)\n",
    "model = model.to(device)\n",
    "criterion = nn.CrossEntropyLoss()\n",
    "optimizer = optim.Adam(model.parameters(), lr=0.001)\n",
    "\n",
    "epochs = 50\n",
    "train_losses = []\n",
    "train_accuracies = []\n",
    "valid_losses = []\n",
    "valid_accuracies = []\n",
    "\n",
    "for epoch in tqdm(range(epochs)):\n",
    "    train_loss = 0\n",
    "    acc_cnt = 0\n",
    "    err_cnt = 0\n",
    "    batch_cnt = 0\n",
    "    model.train()\n",
    "    for batch, (x, length, y) in enumerate(train_dataloader):\n",
    "        x = x.to(device)\n",
    "        y = y.to(device)\n",
    "        optimizer.zero_grad()\n",
    "        logits = model(x, length)\n",
    "        loss = criterion(logits, y)\n",
    "        loss.backward()\n",
    "        optimizer.step()\n",
    "        train_loss += loss.cpu().item()\n",
    "\n",
    "        #model outputs\n",
    "        out_val, out_indices = torch.max(logits, dim=1)\n",
    "        tar_indices = y\n",
    "\n",
    "        for i in range(len(out_indices)):\n",
    "            if out_indices[i] == tar_indices[i]:\n",
    "                acc_cnt += 1\n",
    "            else:\n",
    "                err_cnt += 1\n",
    "        batch_cnt += 1\n",
    "    \n",
    "    train_loss = train_loss/batch_cnt\n",
    "    train_accuracy = acc_cnt/(acc_cnt+err_cnt)\n",
    "    train_accuracies.append(train_accuracy)\n",
    "    train_losses.append(train_loss)\n",
    "    \n",
    "    print(f\"epoch:{epoch+1}, train accu:{train_accuracy:.4f},\", f\"train loss:{train_loss:.2f}\")"
   ]
  },
  {
   "cell_type": "markdown",
   "id": "b6f39dc8",
   "metadata": {},
   "source": [
    "### Model Test"
   ]
  },
  {
   "cell_type": "code",
   "execution_count": 39,
   "id": "461a176a",
   "metadata": {},
   "outputs": [
    {
     "name": "stdout",
     "output_type": "stream",
     "text": [
      "test accuracy: 0.6379310344827587\n"
     ]
    }
   ],
   "source": [
    "test_loss = 0\n",
    "acc_cnt = 0\n",
    "err_cnt = 0\n",
    "batch_cnt = 0\n",
    "model.eval()\n",
    "\n",
    "for x, lengths, y in test_dataloader:\n",
    "\n",
    "    x = x.to(device)\n",
    "    y = y.to(device)\n",
    "\n",
    "    logits = model(x, lengths)\n",
    "    loss = criterion(logits, y)\n",
    "    test_loss += loss.cpu().item()\n",
    "\n",
    "    out_val, out_indices = torch.max(logits, dim=1)\n",
    "    tar_indices = y\n",
    "\n",
    "    for i in range(len(out_indices)):\n",
    "        if out_indices[i] == tar_indices[i]:\n",
    "            acc_cnt += 1\n",
    "        else:\n",
    "            err_cnt += 1\n",
    "    batch_cnt += 1\n",
    "\n",
    "test_loss = test_loss/batch_cnt\n",
    "test_accuracy = acc_cnt/(acc_cnt+err_cnt)\n",
    "print(f'test accuracy: {test_accuracy}')"
   ]
  },
  {
   "cell_type": "code",
   "execution_count": 40,
   "id": "1b6c5224",
   "metadata": {},
   "outputs": [
    {
     "name": "stdout",
     "output_type": "stream",
     "text": [
      "aggr.weight tensor([[[ 0.0428],\n",
      "         [ 0.2319],\n",
      "         [-0.1557],\n",
      "         [ 0.1939],\n",
      "         [-0.0270],\n",
      "         [-0.3615],\n",
      "         [ 0.0274],\n",
      "         [ 0.2093],\n",
      "         [-0.0405],\n",
      "         [ 0.1570],\n",
      "         [ 0.0601],\n",
      "         [-0.0771]]], device='cuda:0')\n",
      "aggr.bias tensor([0.0225], device='cuda:0')\n",
      "embed.weight tensor([[-0.0013,  0.0141,  0.0028,  ...,  0.0135, -0.0092, -0.0525],\n",
      "        [-0.0290, -0.0151, -0.0379,  ...,  0.0052,  0.0033, -0.0024],\n",
      "        [-0.0141, -0.0316,  0.0140,  ..., -0.0163,  0.0740,  0.0249],\n",
      "        ...,\n",
      "        [ 0.0136, -0.0121, -0.0747,  ...,  0.0461,  0.0094,  0.0075],\n",
      "        [-0.0607, -0.0130, -0.0032,  ...,  0.0531,  0.0428, -0.0490],\n",
      "        [ 0.0555, -0.0080, -0.0444,  ...,  0.0461,  0.0272, -0.0288]],\n",
      "       device='cuda:0')\n",
      "embed.bias tensor([ 0.0342,  0.0228,  0.0449, -0.0293, -0.0496, -0.0017, -0.0109,  0.0100,\n",
      "        -0.0515,  0.0094,  0.0043, -0.0075, -0.0518,  0.0139, -0.0318, -0.0255,\n",
      "         0.0373,  0.0467, -0.0439, -0.0326,  0.0484, -0.0205, -0.0344, -0.0109,\n",
      "        -0.0611,  0.0424, -0.0164,  0.0296, -0.0299,  0.0269, -0.0343, -0.0579,\n",
      "        -0.0030,  0.0762,  0.0355, -0.0522,  0.0549, -0.0329, -0.0223, -0.0403,\n",
      "        -0.0101, -0.0430,  0.0271, -0.0621, -0.0395, -0.0455,  0.0056,  0.0457,\n",
      "         0.0396, -0.0480, -0.0855,  0.0024, -0.0059, -0.0159, -0.0704,  0.0650,\n",
      "         0.0311,  0.0463,  0.0524, -0.0068,  0.0459, -0.0351,  0.0048, -0.0222,\n",
      "        -0.0637, -0.0031, -0.0144, -0.0207, -0.0389, -0.0695, -0.0403,  0.0193,\n",
      "        -0.0173, -0.0340,  0.0580, -0.0062,  0.0182, -0.0018,  0.0002,  0.0091,\n",
      "        -0.0721,  0.0165, -0.0079,  0.0436, -0.0051,  0.0293, -0.0249,  0.0429,\n",
      "         0.0090, -0.0283,  0.0029,  0.0611,  0.0038,  0.0261,  0.0788, -0.0123,\n",
      "         0.0238,  0.0673, -0.0246,  0.0066, -0.0733, -0.0067,  0.0501,  0.0344,\n",
      "        -0.0590,  0.0026,  0.0454,  0.0184, -0.0126, -0.0336, -0.0487,  0.0038,\n",
      "         0.0390,  0.0524, -0.0047,  0.0018,  0.0082, -0.0063,  0.0007, -0.0398,\n",
      "        -0.0177, -0.0073, -0.0234,  0.0299,  0.0570, -0.0067, -0.0010, -0.0386],\n",
      "       device='cuda:0')\n",
      "cnn.weight tensor([[[ 5.4594e-02,  4.5546e-02,  3.0741e-02],\n",
      "         [-1.3811e-02, -6.1398e-02,  2.3579e-02],\n",
      "         [-1.2008e-01, -1.4840e-02, -6.7813e-03],\n",
      "         ...,\n",
      "         [ 2.7921e-03, -4.7091e-02,  5.4716e-02],\n",
      "         [ 4.6686e-02,  2.2948e-02,  1.6683e-02],\n",
      "         [ 3.9714e-02,  5.8986e-02, -5.7141e-02]],\n",
      "\n",
      "        [[-3.7591e-02, -1.0488e-01, -1.7192e-01],\n",
      "         [-4.9958e-02,  2.5378e-02, -2.5921e-02],\n",
      "         [ 1.0792e-01,  4.8740e-02,  1.1570e-01],\n",
      "         ...,\n",
      "         [-2.8777e-02, -3.9905e-03, -4.3080e-02],\n",
      "         [-5.3710e-02,  4.4789e-02,  7.6189e-02],\n",
      "         [-2.9729e-02, -5.0362e-02,  2.0363e-02]],\n",
      "\n",
      "        [[-7.3269e-03,  4.8767e-02,  8.6253e-02],\n",
      "         [ 2.7453e-02, -1.1976e-02,  4.7754e-02],\n",
      "         [-3.6799e-02,  6.6937e-02,  6.3546e-02],\n",
      "         ...,\n",
      "         [-5.5543e-03,  3.5887e-02,  2.9265e-02],\n",
      "         [-1.5805e-03,  1.2557e-02,  3.9071e-02],\n",
      "         [ 4.7934e-02,  8.3190e-02,  5.9521e-02]],\n",
      "\n",
      "        ...,\n",
      "\n",
      "        [[-5.8684e-02, -7.9487e-02, -8.5401e-03],\n",
      "         [-8.9578e-03, -5.7571e-02, -4.2092e-02],\n",
      "         [ 6.4039e-02,  8.8601e-02,  8.7961e-02],\n",
      "         ...,\n",
      "         [-3.0282e-02, -4.6842e-03, -6.7676e-02],\n",
      "         [ 9.0981e-03, -3.6982e-02,  4.5077e-02],\n",
      "         [ 4.6990e-02, -8.4696e-03,  7.0703e-03]],\n",
      "\n",
      "        [[-9.1388e-02,  6.9440e-03, -2.3695e-02],\n",
      "         [ 1.9411e-02,  1.0768e-01,  1.1176e-01],\n",
      "         [ 5.2601e-02,  4.1495e-02, -2.1239e-02],\n",
      "         ...,\n",
      "         [ 2.1459e-02,  8.6081e-02,  5.5768e-02],\n",
      "         [ 2.9097e-02,  9.0544e-02,  8.6395e-02],\n",
      "         [-1.1030e-03, -3.0443e-02, -4.1496e-02]],\n",
      "\n",
      "        [[-4.6082e-02, -1.1297e-04,  3.8223e-02],\n",
      "         [ 9.8438e-02,  6.4055e-02,  5.6625e-02],\n",
      "         [ 4.3481e-02,  7.8481e-04, -2.4633e-02],\n",
      "         ...,\n",
      "         [ 4.7015e-02,  6.2639e-02,  5.7180e-02],\n",
      "         [ 3.4123e-02,  3.8631e-02, -9.0782e-03],\n",
      "         [-8.2140e-02, -6.6749e-02, -1.2075e-02]]], device='cuda:0')\n",
      "cnn.bias tensor([-0.0110,  0.0247,  0.0422, -0.0164,  0.0038, -0.0247,  0.0389,  0.0022,\n",
      "        -0.0099,  0.0117, -0.0217, -0.0044,  0.0447, -0.0266,  0.0080, -0.0009,\n",
      "        -0.0473, -0.0362, -0.0089, -0.0154, -0.0386,  0.0190, -0.0163, -0.0279,\n",
      "        -0.0523, -0.0005,  0.0475,  0.0244, -0.0343,  0.0314,  0.0161,  0.0586,\n",
      "         0.0233,  0.0503, -0.0324,  0.0113,  0.0518, -0.0517,  0.0524,  0.0185,\n",
      "         0.0355, -0.0591,  0.0435,  0.0239, -0.0076,  0.0248, -0.0043, -0.0133,\n",
      "        -0.0303, -0.0013,  0.0254, -0.0050,  0.0044, -0.0193,  0.0225,  0.0037,\n",
      "        -0.0308,  0.0445, -0.0317,  0.0233,  0.0143,  0.0341,  0.0302, -0.0318,\n",
      "        -0.0394, -0.0279,  0.0133,  0.0224, -0.0314,  0.0382,  0.0270, -0.0284,\n",
      "        -0.0464, -0.0349, -0.0019,  0.0229,  0.0222,  0.0240, -0.0539, -0.0291,\n",
      "         0.0488, -0.0040,  0.0019, -0.0206,  0.0048,  0.0089,  0.0021, -0.0358,\n",
      "        -0.0231,  0.0350,  0.0234, -0.0154, -0.0126, -0.0430, -0.0210,  0.0354,\n",
      "        -0.0353, -0.0133,  0.0055, -0.0283,  0.0173, -0.0131,  0.0184, -0.0300,\n",
      "        -0.0295, -0.0485, -0.0229,  0.0280,  0.0354, -0.0108,  0.0361, -0.0132,\n",
      "         0.0423, -0.0465,  0.0168,  0.0467,  0.0305, -0.0165,  0.0346, -0.0270,\n",
      "         0.0141,  0.0080, -0.0667, -0.0186,  0.0472, -0.0268,  0.0429, -0.0337],\n",
      "       device='cuda:0')\n",
      "cnn2.weight tensor([[[ 0.0131,  0.0416,  0.0750,  0.0643,  0.0624],\n",
      "         [ 0.0046, -0.0294, -0.0417, -0.0285,  0.0234],\n",
      "         [-0.0240, -0.0835, -0.0954, -0.0588, -0.0028],\n",
      "         ...,\n",
      "         [ 0.0577,  0.0009,  0.0568, -0.0163,  0.0151],\n",
      "         [ 0.0473,  0.0089,  0.0520,  0.0395,  0.0243],\n",
      "         [ 0.0482,  0.0067, -0.0153,  0.0106, -0.0142]],\n",
      "\n",
      "        [[ 0.0318,  0.0223,  0.0459,  0.0350,  0.0223],\n",
      "         [ 0.0218, -0.0112,  0.0543, -0.0036,  0.0218],\n",
      "         [-0.0626, -0.0193, -0.0322,  0.0011, -0.0206],\n",
      "         ...,\n",
      "         [-0.0399,  0.0081, -0.0127,  0.0324, -0.0406],\n",
      "         [-0.0071,  0.0036,  0.0136,  0.0582,  0.0102],\n",
      "         [ 0.0011, -0.0193, -0.0270, -0.0049,  0.0009]],\n",
      "\n",
      "        [[ 0.0072,  0.0333,  0.0045,  0.0348, -0.0134],\n",
      "         [ 0.0561, -0.0031, -0.0032,  0.0123,  0.0466],\n",
      "         [-0.0766, -0.0506, -0.0573, -0.0393,  0.0320],\n",
      "         ...,\n",
      "         [-0.0609, -0.0328, -0.0438, -0.0467, -0.0367],\n",
      "         [-0.0208,  0.0050, -0.0259,  0.0448, -0.0009],\n",
      "         [ 0.0064,  0.0693,  0.0636,  0.0692,  0.0412]],\n",
      "\n",
      "        ...,\n",
      "\n",
      "        [[ 0.0292,  0.0510,  0.0854,  0.0278,  0.0087],\n",
      "         [ 0.0416, -0.0087,  0.0039, -0.0059,  0.0037],\n",
      "         [-0.0593, -0.0624, -0.0753, -0.0744, -0.0619],\n",
      "         ...,\n",
      "         [-0.0315, -0.0139, -0.0231,  0.0263,  0.0018],\n",
      "         [-0.0593, -0.0699, -0.0205, -0.0457, -0.0361],\n",
      "         [-0.0841,  0.0072, -0.0115, -0.0436, -0.0440]],\n",
      "\n",
      "        [[ 0.0653,  0.0893,  0.0860,  0.0720,  0.0558],\n",
      "         [ 0.0377,  0.0087, -0.0005, -0.0070,  0.0014],\n",
      "         [ 0.0002, -0.0390, -0.0145, -0.0326, -0.0591],\n",
      "         ...,\n",
      "         [-0.0045, -0.0804, -0.0392,  0.0042, -0.0072],\n",
      "         [-0.0577, -0.0648, -0.0674, -0.0425, -0.0230],\n",
      "         [-0.0329, -0.0161, -0.0152, -0.0401, -0.0371]],\n",
      "\n",
      "        [[-0.0823,  0.0057, -0.0547, -0.0117, -0.0394],\n",
      "         [-0.0295, -0.0925, -0.0824, -0.0590, -0.0057],\n",
      "         [-0.0020, -0.0202, -0.0234, -0.0119, -0.0059],\n",
      "         ...,\n",
      "         [-0.0869, -0.0724, -0.0258, -0.0283,  0.0102],\n",
      "         [-0.0447, -0.0746,  0.0080, -0.0437,  0.0341],\n",
      "         [-0.0914, -0.1151, -0.0901, -0.0585,  0.0258]]], device='cuda:0')\n",
      "cnn2.bias tensor([-0.0203,  0.0278, -0.0131, -0.0044,  0.0149,  0.0167, -0.0372, -0.0319,\n",
      "        -0.0091,  0.0306,  0.0353, -0.0300,  0.0087,  0.0232, -0.0265, -0.0207,\n",
      "        -0.0289,  0.0360, -0.0167,  0.0053,  0.0139,  0.0384,  0.0277,  0.0200,\n",
      "        -0.0207,  0.0364,  0.0280, -0.0110, -0.0043,  0.0055,  0.0347,  0.0149,\n",
      "        -0.0193,  0.0354,  0.0309, -0.0010, -0.0141,  0.0215, -0.0285, -0.0162,\n",
      "         0.0302,  0.0128,  0.0344,  0.0250,  0.0302,  0.0112,  0.0147,  0.0168,\n",
      "         0.0449, -0.0136, -0.0094, -0.0095,  0.0191,  0.0260,  0.0081,  0.0173,\n",
      "        -0.0370, -0.0184,  0.0150,  0.0305, -0.0266, -0.0173,  0.0383, -0.0349,\n",
      "        -0.0061, -0.0233,  0.0216,  0.0010, -0.0182,  0.0260,  0.0210,  0.0339,\n",
      "        -0.0304, -0.0088,  0.0247,  0.0293,  0.0047,  0.0122,  0.0069, -0.0138,\n",
      "         0.0162, -0.0075,  0.0319,  0.0248, -0.0125, -0.0332, -0.0244, -0.0200,\n",
      "         0.0084,  0.0011, -0.0296,  0.0120,  0.0055,  0.0249,  0.0277,  0.0297,\n",
      "        -0.0257, -0.0298,  0.0047,  0.0350,  0.0096, -0.0169,  0.0177, -0.0408,\n",
      "        -0.0033,  0.0009,  0.0389,  0.0236,  0.0188,  0.0057,  0.0216, -0.0318,\n",
      "         0.0123, -0.0299,  0.0070, -0.0109, -0.0372, -0.0306,  0.0339, -0.0106,\n",
      "         0.0262, -0.0468, -0.0048, -0.0394, -0.0198, -0.0087,  0.0297,  0.0252],\n",
      "       device='cuda:0')\n",
      "cnn3.weight tensor([[[-0.1053, -0.0624, -0.0479,  ..., -0.0753, -0.0271, -0.0098],\n",
      "         [-0.0133, -0.0060,  0.0340,  ...,  0.0333,  0.0310,  0.0308],\n",
      "         [ 0.0997,  0.0421,  0.0511,  ...,  0.0637,  0.0458,  0.0543],\n",
      "         ...,\n",
      "         [-0.0759, -0.1341, -0.0946,  ..., -0.0171, -0.0523, -0.0570],\n",
      "         [-0.0031, -0.0530, -0.0140,  ...,  0.0371, -0.0034,  0.0355],\n",
      "         [ 0.0724,  0.1036,  0.0280,  ...,  0.0740,  0.0635,  0.0821]],\n",
      "\n",
      "        [[ 0.0144,  0.0141, -0.0142,  ..., -0.0023,  0.0192, -0.0036],\n",
      "         [ 0.0440, -0.0002,  0.0327,  ...,  0.0377,  0.0260,  0.0200],\n",
      "         [ 0.0144, -0.0406, -0.0277,  ..., -0.0911, -0.0751, -0.0656],\n",
      "         ...,\n",
      "         [ 0.0236,  0.0815,  0.0753,  ...,  0.0962,  0.0530,  0.0982],\n",
      "         [-0.0470, -0.0373,  0.0109,  ...,  0.0263,  0.0077, -0.0070],\n",
      "         [-0.0084, -0.0082, -0.0111,  ...,  0.0135,  0.0415, -0.0078]],\n",
      "\n",
      "        [[ 0.0087, -0.0047,  0.0443,  ...,  0.0514,  0.0345,  0.0538],\n",
      "         [-0.0107,  0.0218,  0.0288,  ...,  0.0280,  0.0022,  0.0148],\n",
      "         [ 0.0110, -0.0157, -0.0325,  ..., -0.0168, -0.0006,  0.0038],\n",
      "         ...,\n",
      "         [ 0.0022,  0.0272,  0.0117,  ..., -0.0130, -0.0241, -0.0509],\n",
      "         [ 0.0388, -0.0188,  0.0170,  ..., -0.0501, -0.0387, -0.0509],\n",
      "         [-0.0506, -0.0089, -0.0112,  ..., -0.0010, -0.0242,  0.0124]],\n",
      "\n",
      "        ...,\n",
      "\n",
      "        [[ 0.0894,  0.0567,  0.0195,  ...,  0.0322, -0.0055, -0.0064],\n",
      "         [-0.0069,  0.0126, -0.0152,  ...,  0.0124,  0.0710,  0.0448],\n",
      "         [-0.0550, -0.0776, -0.0863,  ..., -0.0097, -0.0324, -0.0379],\n",
      "         ...,\n",
      "         [-0.0344, -0.0236, -0.0644,  ..., -0.0237, -0.0197, -0.0444],\n",
      "         [ 0.0798,  0.0644,  0.0046,  ..., -0.0139,  0.0086, -0.0365],\n",
      "         [ 0.0463,  0.0389,  0.0468,  ...,  0.1046,  0.1225,  0.0647]],\n",
      "\n",
      "        [[-0.0193, -0.0535, -0.0115,  ..., -0.0927, -0.1097, -0.0972],\n",
      "         [-0.0258, -0.0460, -0.0137,  ...,  0.0073, -0.0040,  0.0053],\n",
      "         [ 0.0243,  0.0534,  0.0880,  ...,  0.1339,  0.1218,  0.1241],\n",
      "         ...,\n",
      "         [-0.1212, -0.0700, -0.0480,  ..., -0.0890, -0.1050, -0.1056],\n",
      "         [ 0.0161, -0.0195,  0.0249,  ...,  0.0054, -0.0143, -0.0080],\n",
      "         [-0.0063, -0.0231, -0.0563,  ..., -0.0070,  0.0427,  0.0509]],\n",
      "\n",
      "        [[-0.0455, -0.0608, -0.0162,  ..., -0.0223,  0.0032, -0.0638],\n",
      "         [ 0.0281,  0.0322,  0.0708,  ...,  0.0890,  0.0806,  0.0486],\n",
      "         [ 0.0529,  0.0517,  0.0464,  ...,  0.0454,  0.0705,  0.0867],\n",
      "         ...,\n",
      "         [-0.0447, -0.0380, -0.0184,  ..., -0.0055,  0.0238,  0.0067],\n",
      "         [ 0.0228, -0.0259, -0.0076,  ...,  0.0682,  0.0580,  0.0151],\n",
      "         [-0.0159,  0.0295, -0.0091,  ...,  0.0524,  0.0859,  0.0377]]],\n",
      "       device='cuda:0')\n",
      "cnn3.bias tensor([-0.0079, -0.0392,  0.0014,  0.0011,  0.0144,  0.0123, -0.0257,  0.0159,\n",
      "         0.0114, -0.0049,  0.0273,  0.0214,  0.0340,  0.0166, -0.0237,  0.0013,\n",
      "        -0.0239,  0.0378,  0.0080,  0.0147,  0.0182, -0.0032, -0.0006,  0.0414,\n",
      "         0.0083,  0.0244,  0.0047,  0.0229,  0.0140, -0.0041,  0.0080, -0.0265,\n",
      "        -0.0276,  0.0061,  0.0073, -0.0126,  0.0218, -0.0232, -0.0071, -0.0096,\n",
      "         0.0304, -0.0324,  0.0227,  0.0234, -0.0344, -0.0266,  0.0268, -0.0414,\n",
      "        -0.0149,  0.0103,  0.0122, -0.0038, -0.0254, -0.0200,  0.0226, -0.0344,\n",
      "        -0.0302, -0.0225,  0.0083, -0.0255,  0.0120,  0.0231,  0.0145, -0.0070,\n",
      "         0.0007, -0.0070,  0.0157, -0.0210,  0.0325, -0.0279,  0.0172, -0.0165,\n",
      "         0.0420, -0.0223, -0.0143, -0.0250, -0.0056,  0.0141,  0.0061,  0.0102,\n",
      "        -0.0092,  0.0053,  0.0146,  0.0052, -0.0139,  0.0184, -0.0049, -0.0178,\n",
      "        -0.0047, -0.0271, -0.0146,  0.0130, -0.0255, -0.0254,  0.0258,  0.0177,\n",
      "        -0.0310, -0.0242, -0.0222, -0.0176, -0.0257, -0.0036, -0.0105,  0.0275,\n",
      "        -0.0070,  0.0296,  0.0248, -0.0148, -0.0129,  0.0002,  0.0412,  0.0235,\n",
      "         0.0228,  0.0197, -0.0067, -0.0159,  0.0320, -0.0072, -0.0311, -0.0079,\n",
      "         0.0298,  0.0033,  0.0012,  0.0022,  0.0362, -0.0065,  0.0146, -0.0153],\n",
      "       device='cuda:0')\n",
      "batchnorm.weight tensor([0.9915, 0.9971, 1.0089, 0.9868, 0.9840, 0.9680, 0.9864, 1.0173, 0.9871,\n",
      "        0.9568, 1.0470, 1.0233, 1.0143, 1.0111, 0.9447, 0.9580, 1.0232, 1.0188,\n",
      "        0.9774, 1.0100, 1.0063, 0.9724, 1.0360, 1.0107, 0.9312, 0.9974, 0.9996,\n",
      "        1.0361, 0.9986, 1.0123, 0.9985, 1.0492, 0.9665, 0.9972, 0.9322, 1.0116,\n",
      "        1.0144, 1.0166, 0.9277, 1.0176, 1.0156, 1.0247, 1.0329, 1.0363, 1.0313,\n",
      "        1.0219, 1.0522, 0.9515, 1.0242, 1.0122, 0.9851, 0.9709, 0.9834, 0.9796,\n",
      "        1.0232, 1.0035, 0.9596, 0.9823, 0.9536, 1.0318, 0.9877, 0.9929, 0.9789,\n",
      "        1.0579, 0.9848, 1.0181, 1.0124, 1.0122, 1.0093, 1.0088, 1.0000, 0.9915,\n",
      "        1.0291, 1.0343, 0.9901, 1.0163, 0.9788, 1.0280, 0.9675, 0.9915, 1.0313,\n",
      "        1.0155, 1.0151, 0.9768, 0.9799, 0.9796, 1.0295, 1.0310, 1.0017, 0.9884,\n",
      "        1.0113, 0.9443, 1.0098, 1.0245, 1.0042, 1.0091, 0.9920, 1.0092, 1.0042,\n",
      "        1.0371, 0.9974, 0.9831, 0.9913, 0.9803, 1.0093, 0.9615, 1.0071, 0.9811,\n",
      "        1.0194, 0.9920, 0.9677, 0.9624, 1.0317, 1.0007, 1.0219, 1.0016, 1.0232,\n",
      "        0.9693, 1.0192, 1.0057, 1.0214, 1.0477, 1.0189, 1.0334, 0.9876, 0.9653,\n",
      "        0.9887, 0.9674, 0.8864, 1.0288, 1.0315, 1.0368, 0.9714, 0.9881, 0.9941,\n",
      "        0.9540, 1.0104, 1.0023, 1.0199, 1.0344, 0.9823, 0.9947, 0.9948, 0.9975,\n",
      "        0.9872, 0.9870, 1.0131, 1.0004, 0.9831, 0.9979, 1.0293, 0.9884, 0.9611,\n",
      "        0.9902, 1.0574, 1.0311, 1.0016, 0.9417, 0.9825, 1.0255, 1.0028, 1.0525,\n",
      "        0.9773, 0.9629, 0.9918, 0.9526, 1.0049, 1.0173, 1.0003, 0.9916, 1.0214,\n",
      "        0.9942, 0.9870, 1.0251, 1.0213, 1.0035, 0.9835, 1.0479, 0.9978, 1.0097,\n",
      "        0.9966, 0.9840, 1.0066, 0.9931, 0.9496, 0.9200, 0.9756, 1.0096, 1.0191,\n",
      "        0.9435, 1.0486, 1.0195, 1.0215, 1.0585, 1.0056, 1.0508, 0.9916, 1.0084,\n",
      "        0.9710, 1.0255, 0.9842, 1.0425, 1.0080, 1.0322, 0.9791, 1.0208, 0.9705,\n",
      "        0.9685, 1.0049, 0.9849, 1.0043, 0.9880, 1.0140, 0.9807, 0.9503, 1.0011,\n",
      "        0.9547, 1.0289, 1.0127, 0.9966, 0.9618, 1.0242, 0.9548, 1.0271, 0.9890,\n",
      "        1.0091, 0.9586, 1.0085, 0.9841, 1.0219, 1.0286, 1.0090, 1.0358, 0.9948,\n",
      "        1.0335, 0.9498, 0.9128, 1.0444, 0.9796, 1.0395, 0.9494, 1.0131, 0.9878,\n",
      "        0.9691, 0.9794, 1.0009, 0.9972, 0.9785, 0.9359, 0.9968, 1.0113, 0.9590,\n",
      "        0.9449, 1.0197, 1.0421, 1.0256, 1.0556, 1.0087, 1.0324, 1.0480, 1.0260,\n",
      "        1.0546, 1.0203, 1.0387, 1.0195, 1.0254, 1.0270, 1.0052, 1.0129, 1.0077,\n",
      "        1.0225, 1.0251, 1.0183, 1.0198, 0.9984, 1.0146, 1.0619, 1.0245, 1.0203,\n",
      "        0.9948, 1.0357, 1.0266, 1.0357, 1.0153, 0.9716, 1.0447, 1.0006, 1.0047,\n",
      "        1.0165, 1.0271, 1.0263, 1.0630, 1.0285, 1.0192, 0.9665, 1.0087, 0.9612,\n",
      "        1.0233, 1.0193, 1.0312, 0.9742, 1.0211, 1.0146, 1.0251, 0.9996, 0.9863,\n",
      "        1.0358, 1.0419, 1.0285, 0.9951, 1.0504, 1.0971, 1.0561, 0.9369, 1.0403,\n",
      "        1.0841, 1.0747, 1.0196, 1.0376, 1.0308, 1.0008, 1.0372, 1.0341, 1.0146,\n",
      "        0.9528, 1.0076, 1.0495, 0.9899, 0.9859, 0.9874, 0.8722, 1.0523, 1.0383,\n",
      "        0.9995, 1.0256, 1.0326, 0.9828, 1.0150, 0.9650, 1.0395, 1.0087, 0.9600,\n",
      "        1.0109, 1.0598, 0.9628, 1.0548, 1.0136, 0.9701, 1.0171, 1.0343, 0.9705,\n",
      "        1.0087, 1.0016, 1.0083, 1.0024, 1.0322, 1.0317, 1.0615, 1.0566, 1.0279,\n",
      "        1.0473, 1.0428, 0.9907, 1.0004, 1.0592, 1.0585, 1.0363, 1.0335, 0.9737,\n",
      "        1.0493, 0.9970, 1.0382, 1.0380, 1.0287, 1.0823, 0.9957, 0.9767, 1.0524,\n",
      "        0.9539, 0.9842, 0.9857, 0.9586, 1.0030, 1.0384], device='cuda:0')\n",
      "batchnorm.bias tensor([-0.0562, -0.0380, -0.0140, -0.0004, -0.0778, -0.0511, -0.0679, -0.0308,\n",
      "        -0.0539, -0.0738, -0.0342, -0.0472, -0.0328, -0.0662, -0.1001, -0.0913,\n",
      "        -0.0164, -0.0198, -0.0802, -0.0417, -0.0084, -0.0128, -0.0053, -0.0267,\n",
      "        -0.0801, -0.0422, -0.0172, -0.0474, -0.0473, -0.0129, -0.0142, -0.0504,\n",
      "        -0.0483, -0.0171, -0.0700, -0.0315, -0.0202, -0.0457, -0.0779, -0.0816,\n",
      "        -0.0629, -0.0154, -0.0243, -0.0255, -0.0137, -0.0145, -0.0469, -0.0835,\n",
      "        -0.0628, -0.0331, -0.0271, -0.0531, -0.0519, -0.0547, -0.0329, -0.0654,\n",
      "        -0.0685, -0.0413, -0.0749, -0.0152, -0.0022, -0.0552, -0.0522, -0.0191,\n",
      "        -0.0474, -0.0221, -0.0397, -0.0323, -0.0476, -0.0235, -0.0401, -0.0275,\n",
      "         0.0178, -0.0090, -0.0719, -0.0336, -0.0819, -0.0105, -0.0448, -0.0443,\n",
      "        -0.0290, -0.0185, -0.0359, -0.0443, -0.0581, -0.0808, -0.0267, -0.0381,\n",
      "        -0.0342, -0.0482, -0.0043, -0.0840, -0.0011, -0.0477, -0.0374, -0.0315,\n",
      "        -0.0340, -0.0360, -0.0693, -0.0310, -0.0668, -0.0480, -0.0331, -0.0537,\n",
      "        -0.0058, -0.0490, -0.0244, -0.0644, -0.0118, -0.0425, -0.0372, -0.0762,\n",
      "        -0.0218, -0.0402, -0.0377, -0.0316, -0.0474, -0.0614, -0.0494, -0.0548,\n",
      "        -0.0190, -0.0279, -0.0596, -0.0041, -0.0438, -0.0067, -0.0453, -0.0646,\n",
      "        -0.1151, -0.0338, -0.0169, -0.0027, -0.0490, -0.0552, -0.0072, -0.0809,\n",
      "        -0.0491,  0.0153, -0.0385, -0.0273, -0.0452, -0.0359, -0.0542, -0.0369,\n",
      "        -0.0688, -0.0051, -0.0321, -0.0510, -0.0385, -0.0597, -0.0458, -0.0404,\n",
      "        -0.0736, -0.0536, -0.0258, -0.0207, -0.0475, -0.0532, -0.0796, -0.0257,\n",
      "        -0.0236, -0.0151, -0.0883, -0.0943, -0.0299, -0.0545, -0.0479, -0.0399,\n",
      "        -0.0290, -0.0329, -0.0253, -0.0581, -0.0400, -0.0153, -0.0338, -0.0517,\n",
      "        -0.0437,  0.0163, -0.0141, -0.0276, -0.0383, -0.0418, -0.0803, -0.0379,\n",
      "        -0.0961, -0.0860, -0.0526, -0.0493, -0.0592, -0.0553, -0.0364, -0.0163,\n",
      "         0.0121, -0.0232, -0.0599, -0.0117, -0.0318, -0.0497, -0.0274, -0.0221,\n",
      "        -0.0644,  0.0022, -0.0338, -0.0257, -0.0264, -0.0143, -0.0686, -0.0596,\n",
      "        -0.0455, -0.0371, -0.0334, -0.0617, -0.0344, -0.0305, -0.0696, -0.0130,\n",
      "        -0.0572, -0.0487, -0.0291, -0.0440, -0.0339, -0.0389, -0.0866, -0.0316,\n",
      "        -0.0410, -0.0184, -0.0360, -0.0753, -0.0697, -0.0282, -0.0204, -0.0463,\n",
      "        -0.0033, -0.0428, -0.0140, -0.0855, -0.0814, -0.0288, -0.0796, -0.0260,\n",
      "        -0.0721, -0.0311, -0.0769, -0.0544, -0.0424, -0.0275, -0.0487, -0.0335,\n",
      "        -0.0975, -0.0514, -0.0361, -0.0605, -0.0933, -0.0380, -0.0262, -0.0342,\n",
      "        -0.0105, -0.0345, -0.0130, -0.0003, -0.0364, -0.0101, -0.0382, -0.0446,\n",
      "        -0.0480, -0.0118, -0.0232,  0.0027, -0.0397, -0.0283, -0.0296, -0.0315,\n",
      "        -0.0567, -0.0249, -0.0534, -0.0210, -0.0309, -0.0410, -0.0404, -0.0320,\n",
      "        -0.0591,  0.0021, -0.0176, -0.0139, -0.0114, -0.0244, -0.0433, -0.0578,\n",
      "        -0.0319, -0.0275, -0.0213, -0.0212,  0.0185, -0.0198, -0.0428, -0.0405,\n",
      "        -0.0445, -0.0413, -0.0295, -0.0298, -0.0153,  0.0118, -0.0636, -0.0328,\n",
      "        -0.0100, -0.0525, -0.0158, -0.0295, -0.0201, -0.0316, -0.0456,  0.0032,\n",
      "        -0.0060, -0.0744, -0.0160, -0.0074,  0.0186, -0.0470, -0.0268, -0.0467,\n",
      "         0.0232, -0.0184, -0.0354, -0.0337, -0.0639, -0.0488, -0.0457, -0.0155,\n",
      "        -0.0314, -0.0527, -0.1330, -0.0167, -0.0440, -0.0446,  0.0260, -0.0246,\n",
      "        -0.0522, -0.0239, -0.0503, -0.0135, -0.0470, -0.0796, -0.0068, -0.0363,\n",
      "        -0.0323,  0.0100,  0.0056, -0.0637, -0.0043, -0.0201, -0.0661, -0.0186,\n",
      "         0.0018, -0.0379, -0.0310, -0.0482, -0.0150, -0.0280, -0.0355, -0.0032,\n",
      "        -0.0274, -0.0492, -0.0515, -0.0586, -0.0192,  0.0048, -0.0059, -0.0433,\n",
      "        -0.0321, -0.0571, -0.0429, -0.0044, -0.0120, -0.0109,  0.0087, -0.0460,\n",
      "        -0.0434, -0.0434, -0.0537, -0.0325, -0.0552, -0.0362, -0.0555, -0.0242],\n",
      "       device='cuda:0')\n",
      "lstm.weight_ih_l0 tensor([[-0.0271, -0.0030,  0.0088,  ..., -0.0521, -0.0825, -0.0142],\n",
      "        [-0.0164, -0.0654,  0.0346,  ..., -0.0828, -0.0641, -0.0390],\n",
      "        [ 0.0448, -0.0095, -0.0033,  ..., -0.0187,  0.0059, -0.0067],\n",
      "        ...,\n",
      "        [-0.0064, -0.0210, -0.0533,  ..., -0.0786, -0.1034, -0.0223],\n",
      "        [-0.0138,  0.0402, -0.0713,  ...,  0.0066,  0.0151, -0.0462],\n",
      "        [ 0.0555, -0.0021,  0.0416,  ...,  0.0063, -0.0494, -0.0176]],\n",
      "       device='cuda:0')\n",
      "lstm.weight_hh_l0 tensor([[ 0.0223,  0.0117,  0.0207,  ...,  0.1012,  0.0472, -0.0665],\n",
      "        [-0.0301,  0.0164, -0.0329,  ..., -0.0203, -0.0146, -0.0359],\n",
      "        [ 0.0218, -0.0525,  0.0703,  ..., -0.0089,  0.0125,  0.0283],\n",
      "        ...,\n",
      "        [ 0.0442,  0.0314, -0.0382,  ...,  0.0459, -0.0333, -0.0528],\n",
      "        [ 0.0260, -0.0163,  0.0333,  ..., -0.0114, -0.0020,  0.0108],\n",
      "        [-0.0215, -0.0475, -0.0019,  ...,  0.0072,  0.0112, -0.0017]],\n",
      "       device='cuda:0')\n",
      "lstm.bias_ih_l0 tensor([ 0.0300, -0.0250, -0.0635,  ...,  0.0149, -0.0131,  0.0070],\n",
      "       device='cuda:0')\n",
      "lstm.bias_hh_l0 tensor([-0.0334, -0.0612, -0.0190,  ..., -0.0591,  0.0053,  0.0066],\n",
      "       device='cuda:0')\n",
      "lstm.weight_ih_l1 tensor([[ 0.0858, -0.0159,  0.0107,  ..., -0.0116,  0.0073, -0.0240],\n",
      "        [ 0.0007, -0.0231,  0.0039,  ...,  0.0239, -0.0313, -0.0043],\n",
      "        [-0.0044,  0.0082, -0.0681,  ...,  0.0405,  0.0327,  0.0074],\n",
      "        ...,\n",
      "        [ 0.0356, -0.0368,  0.0716,  ...,  0.0047, -0.0616, -0.0217],\n",
      "        [-0.0027, -0.0257, -0.0655,  ...,  0.0249, -0.0081,  0.0300],\n",
      "        [ 0.0561, -0.0410, -0.1030,  ...,  0.0048, -0.0183,  0.0039]],\n",
      "       device='cuda:0')\n",
      "lstm.weight_hh_l1 tensor([[-1.6507e-02,  5.0931e-04, -1.8484e-02,  ...,  5.3931e-03,\n",
      "         -3.2330e-02,  6.3237e-02],\n",
      "        [-2.8225e-02, -1.0115e-02, -6.5628e-04,  ...,  8.1567e-02,\n",
      "         -6.9428e-02, -1.4891e-02],\n",
      "        [ 5.7423e-02, -5.6393e-02, -4.6176e-03,  ...,  2.0678e-02,\n",
      "          6.9343e-03, -6.3332e-03],\n",
      "        ...,\n",
      "        [-2.5252e-02, -3.0213e-02,  2.9296e-02,  ...,  3.2373e-02,\n",
      "          8.0759e-06,  1.3061e-02],\n",
      "        [-3.6872e-02, -3.2330e-03, -5.1570e-02,  ..., -1.6978e-02,\n",
      "          2.3240e-02,  2.7929e-02],\n",
      "        [-6.8454e-03,  6.9172e-03,  3.8486e-02,  ...,  1.7005e-02,\n",
      "          4.1114e-02,  5.0874e-03]], device='cuda:0')\n",
      "lstm.bias_ih_l1 tensor([-0.0521,  0.0445, -0.0664,  ..., -0.0591, -0.0196, -0.0316],\n",
      "       device='cuda:0')\n",
      "lstm.bias_hh_l1 tensor([-0.0762, -0.0228, -0.0266,  ..., -0.0656, -0.0786, -0.0139],\n",
      "       device='cuda:0')\n",
      "linear.weight tensor([[ 0.0787, -0.0161, -0.0365,  ..., -0.0628,  0.0062, -0.0172],\n",
      "        [ 0.0214, -0.0665, -0.0528,  ..., -0.0376,  0.0720, -0.0872],\n",
      "        [ 0.0265,  0.0580,  0.0087,  ...,  0.0754,  0.0372,  0.0067],\n",
      "        [-0.0241,  0.0300, -0.0374,  ..., -0.0014, -0.0194,  0.0107],\n",
      "        [-0.0579,  0.0264, -0.0177,  ...,  0.0161, -0.0219,  0.0181],\n",
      "        [-0.0044, -0.0319,  0.0705,  ..., -0.0078,  0.0486,  0.0778]],\n",
      "       device='cuda:0')\n",
      "linear.bias tensor([-0.0622,  0.0120,  0.0540,  0.0012,  0.0457, -0.0134], device='cuda:0')\n"
     ]
    }
   ],
   "source": [
    "for name, param in model.named_parameters():\n",
    "    if param.requires_grad:\n",
    "        print(name, param.data)"
   ]
  },
  {
   "cell_type": "code",
   "execution_count": 41,
   "id": "cc9b6fd0",
   "metadata": {},
   "outputs": [],
   "source": [
    "# model_path = main_path + f'/models/hubertbase/holdout_{holdout}.pth'\n",
    "\n",
    "# torch.save({'epoch':epochs,\n",
    "#             'model_state_dict':model.state_dict(),\n",
    "#             'optimizer_state_dict':optimizer.state_dict()},\n",
    "#             model_path)"
   ]
  },
  {
   "cell_type": "code",
   "execution_count": null,
   "id": "d0aac69d",
   "metadata": {},
   "outputs": [],
   "source": []
  }
 ],
 "metadata": {
  "kernelspec": {
   "display_name": "Python 3",
   "language": "python",
   "name": "python3"
  },
  "language_info": {
   "codemirror_mode": {
    "name": "ipython",
    "version": 3
   },
   "file_extension": ".py",
   "mimetype": "text/x-python",
   "name": "python",
   "nbconvert_exporter": "python",
   "pygments_lexer": "ipython3",
   "version": "3.7.12"
  }
 },
 "nbformat": 4,
 "nbformat_minor": 5
}
