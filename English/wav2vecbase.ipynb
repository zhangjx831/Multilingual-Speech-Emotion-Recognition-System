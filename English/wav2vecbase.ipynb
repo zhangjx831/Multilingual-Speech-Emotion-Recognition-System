{
 "cells": [
  {
   "cell_type": "markdown",
   "id": "83f52390",
   "metadata": {},
   "source": [
    "## Prepare Data"
   ]
  },
  {
   "cell_type": "code",
   "execution_count": 1,
   "id": "fcff203e",
   "metadata": {},
   "outputs": [],
   "source": [
    "import re\n",
    "import os\n",
    "import pandas as pd\n",
    "\n",
    "regex = re.compile(r'\\[.+\\]\\n', re.IGNORECASE)\n",
    "file_paths, file_names, sessions, emotions = [], [], [], []\n",
    "emotion_map = {'neu': 'neutral', 'ang': 'angry', 'hap': 'happy', 'exc': 'happy', 'sad': 'sad'}\n",
    "\n",
    "for session in range(1, 6):\n",
    "    emo_evaluation_dir = f'/home/jz3313/IEMOCAP_full_release/Session{session}/dialog/EmoEvaluation/'\n",
    "    file_dir = f'/home/jz3313/IEMOCAP_full_release/Session{session}/sentences/wav/'\n",
    "    evaluation_files = [l for l in os.listdir(emo_evaluation_dir) if 'Ses' in l]\n",
    "    for file in evaluation_files:\n",
    "        with open(emo_evaluation_dir + file) as f:\n",
    "            content = f.read()\n",
    "        lines = re.findall(regex, content)\n",
    "        for line in lines[1:]:  # the first line is a header\n",
    "            start_end_time, wav_file_name, emotion, val_act_dom = line.strip().split('\\t')\n",
    "            dir_name = '_'.join(wav_file_name.split('_')[:-1])\n",
    "            if emotion in emotion_map:\n",
    "                file_paths.append(file_dir+dir_name+'/'+wav_file_name+'.wav')\n",
    "                file_names.append(wav_file_name)\n",
    "                sessions.append(session)\n",
    "                emotions.append(emotion_map[emotion])"
   ]
  },
  {
   "cell_type": "code",
   "execution_count": 2,
   "id": "08cd075c",
   "metadata": {},
   "outputs": [],
   "source": [
    "file = pd.DataFrame({'path':file_paths, 'name': file_names, 'session': sessions, 'emotion': emotions})"
   ]
  },
  {
   "cell_type": "code",
   "execution_count": 3,
   "id": "277cf819",
   "metadata": {},
   "outputs": [
    {
     "data": {
      "text/html": [
       "<div>\n",
       "<style scoped>\n",
       "    .dataframe tbody tr th:only-of-type {\n",
       "        vertical-align: middle;\n",
       "    }\n",
       "\n",
       "    .dataframe tbody tr th {\n",
       "        vertical-align: top;\n",
       "    }\n",
       "\n",
       "    .dataframe thead th {\n",
       "        text-align: right;\n",
       "    }\n",
       "</style>\n",
       "<table border=\"1\" class=\"dataframe\">\n",
       "  <thead>\n",
       "    <tr style=\"text-align: right;\">\n",
       "      <th></th>\n",
       "      <th>path</th>\n",
       "      <th>name</th>\n",
       "      <th>session</th>\n",
       "      <th>emotion</th>\n",
       "    </tr>\n",
       "  </thead>\n",
       "  <tbody>\n",
       "    <tr>\n",
       "      <th>0</th>\n",
       "      <td>/home/jz3313/IEMOCAP_full_release/Session1/sen...</td>\n",
       "      <td>Ses01F_impro02_F000</td>\n",
       "      <td>1</td>\n",
       "      <td>sad</td>\n",
       "    </tr>\n",
       "    <tr>\n",
       "      <th>1</th>\n",
       "      <td>/home/jz3313/IEMOCAP_full_release/Session1/sen...</td>\n",
       "      <td>Ses01F_impro02_F001</td>\n",
       "      <td>1</td>\n",
       "      <td>sad</td>\n",
       "    </tr>\n",
       "    <tr>\n",
       "      <th>2</th>\n",
       "      <td>/home/jz3313/IEMOCAP_full_release/Session1/sen...</td>\n",
       "      <td>Ses01F_impro02_F002</td>\n",
       "      <td>1</td>\n",
       "      <td>sad</td>\n",
       "    </tr>\n",
       "    <tr>\n",
       "      <th>3</th>\n",
       "      <td>/home/jz3313/IEMOCAP_full_release/Session1/sen...</td>\n",
       "      <td>Ses01F_impro02_F003</td>\n",
       "      <td>1</td>\n",
       "      <td>neutral</td>\n",
       "    </tr>\n",
       "    <tr>\n",
       "      <th>4</th>\n",
       "      <td>/home/jz3313/IEMOCAP_full_release/Session1/sen...</td>\n",
       "      <td>Ses01F_impro02_F004</td>\n",
       "      <td>1</td>\n",
       "      <td>sad</td>\n",
       "    </tr>\n",
       "  </tbody>\n",
       "</table>\n",
       "</div>"
      ],
      "text/plain": [
       "                                                path                 name  \\\n",
       "0  /home/jz3313/IEMOCAP_full_release/Session1/sen...  Ses01F_impro02_F000   \n",
       "1  /home/jz3313/IEMOCAP_full_release/Session1/sen...  Ses01F_impro02_F001   \n",
       "2  /home/jz3313/IEMOCAP_full_release/Session1/sen...  Ses01F_impro02_F002   \n",
       "3  /home/jz3313/IEMOCAP_full_release/Session1/sen...  Ses01F_impro02_F003   \n",
       "4  /home/jz3313/IEMOCAP_full_release/Session1/sen...  Ses01F_impro02_F004   \n",
       "\n",
       "   session  emotion  \n",
       "0        1      sad  \n",
       "1        1      sad  \n",
       "2        1      sad  \n",
       "3        1  neutral  \n",
       "4        1      sad  "
      ]
     },
     "execution_count": 3,
     "metadata": {},
     "output_type": "execute_result"
    }
   ],
   "source": [
    "file.head()"
   ]
  },
  {
   "cell_type": "code",
   "execution_count": 4,
   "id": "42fa07c1",
   "metadata": {},
   "outputs": [
    {
     "name": "stdout",
     "output_type": "stream",
     "text": [
      "1.12.1+cu113\n",
      "0.12.1+cu113\n",
      "cuda\n"
     ]
    }
   ],
   "source": [
    "import torch\n",
    "import torchaudio\n",
    "\n",
    "print(torch.__version__)\n",
    "print(torchaudio.__version__)\n",
    "\n",
    "torch.random.manual_seed(0)\n",
    "device = torch.device(\"cuda\" if torch.cuda.is_available() else \"cpu\")\n",
    "\n",
    "print(device)"
   ]
  },
  {
   "cell_type": "code",
   "execution_count": 5,
   "id": "b67c39ab",
   "metadata": {},
   "outputs": [
    {
     "name": "stdout",
     "output_type": "stream",
     "text": [
      "<class 'torchaudio.models.wav2vec2.model.Wav2Vec2Model'>\n"
     ]
    }
   ],
   "source": [
    "bundle = torchaudio.pipelines.WAV2VEC2_BASE\n",
    "extractor = bundle.get_model()\n",
    "print(extractor.__class__)"
   ]
  },
  {
   "cell_type": "code",
   "execution_count": null,
   "id": "0d91d0a2",
   "metadata": {},
   "outputs": [],
   "source": [
    "from tqdm import tqdm\n",
    "\n",
    "for _, row in tqdm(file.iterrows()):\n",
    "    path, name, session, emotion = row[0], row[1], row[2], row[3]\n",
    "    wave, sr = torchaudio.load(path)\n",
    "    if sr != bundle.sample_rate:\n",
    "        wave = torchaudio.functional.resample(wave, sr, bundle.sample_rate)\n",
    "    with torch.inference_mode():\n",
    "        feature, _ = extractor.extract_features(wave)\n",
    "    feature = [f[0] for f in feature]\n",
    "    feature = torch.stack(feature)\n",
    "    save_path = f'../data/wav2vecbase/Session{session}/{name}.pt'\n",
    "    torch.save(feature, save_path)"
   ]
  },
  {
   "cell_type": "markdown",
   "id": "8a7be560",
   "metadata": {},
   "source": [
    "## Load Data"
   ]
  },
  {
   "cell_type": "code",
   "execution_count": 6,
   "id": "3d955c5e",
   "metadata": {},
   "outputs": [],
   "source": [
    "file['newpath'] = file.apply(lambda x: f'../data/wav2vecbase/Session{x[2]}/{x[1]}.pt', axis=1)"
   ]
  },
  {
   "cell_type": "code",
   "execution_count": 7,
   "id": "0cd4ffa6",
   "metadata": {},
   "outputs": [
    {
     "data": {
      "text/html": [
       "<div>\n",
       "<style scoped>\n",
       "    .dataframe tbody tr th:only-of-type {\n",
       "        vertical-align: middle;\n",
       "    }\n",
       "\n",
       "    .dataframe tbody tr th {\n",
       "        vertical-align: top;\n",
       "    }\n",
       "\n",
       "    .dataframe thead th {\n",
       "        text-align: right;\n",
       "    }\n",
       "</style>\n",
       "<table border=\"1\" class=\"dataframe\">\n",
       "  <thead>\n",
       "    <tr style=\"text-align: right;\">\n",
       "      <th></th>\n",
       "      <th>path</th>\n",
       "      <th>name</th>\n",
       "      <th>session</th>\n",
       "      <th>emotion</th>\n",
       "      <th>newpath</th>\n",
       "    </tr>\n",
       "  </thead>\n",
       "  <tbody>\n",
       "    <tr>\n",
       "      <th>0</th>\n",
       "      <td>/home/jz3313/IEMOCAP_full_release/Session1/sen...</td>\n",
       "      <td>Ses01F_impro02_F000</td>\n",
       "      <td>1</td>\n",
       "      <td>sad</td>\n",
       "      <td>../data/wav2vecbase/Session1/Ses01F_impro02_F0...</td>\n",
       "    </tr>\n",
       "    <tr>\n",
       "      <th>1</th>\n",
       "      <td>/home/jz3313/IEMOCAP_full_release/Session1/sen...</td>\n",
       "      <td>Ses01F_impro02_F001</td>\n",
       "      <td>1</td>\n",
       "      <td>sad</td>\n",
       "      <td>../data/wav2vecbase/Session1/Ses01F_impro02_F0...</td>\n",
       "    </tr>\n",
       "    <tr>\n",
       "      <th>2</th>\n",
       "      <td>/home/jz3313/IEMOCAP_full_release/Session1/sen...</td>\n",
       "      <td>Ses01F_impro02_F002</td>\n",
       "      <td>1</td>\n",
       "      <td>sad</td>\n",
       "      <td>../data/wav2vecbase/Session1/Ses01F_impro02_F0...</td>\n",
       "    </tr>\n",
       "    <tr>\n",
       "      <th>3</th>\n",
       "      <td>/home/jz3313/IEMOCAP_full_release/Session1/sen...</td>\n",
       "      <td>Ses01F_impro02_F003</td>\n",
       "      <td>1</td>\n",
       "      <td>neutral</td>\n",
       "      <td>../data/wav2vecbase/Session1/Ses01F_impro02_F0...</td>\n",
       "    </tr>\n",
       "    <tr>\n",
       "      <th>4</th>\n",
       "      <td>/home/jz3313/IEMOCAP_full_release/Session1/sen...</td>\n",
       "      <td>Ses01F_impro02_F004</td>\n",
       "      <td>1</td>\n",
       "      <td>sad</td>\n",
       "      <td>../data/wav2vecbase/Session1/Ses01F_impro02_F0...</td>\n",
       "    </tr>\n",
       "  </tbody>\n",
       "</table>\n",
       "</div>"
      ],
      "text/plain": [
       "                                                path                 name  \\\n",
       "0  /home/jz3313/IEMOCAP_full_release/Session1/sen...  Ses01F_impro02_F000   \n",
       "1  /home/jz3313/IEMOCAP_full_release/Session1/sen...  Ses01F_impro02_F001   \n",
       "2  /home/jz3313/IEMOCAP_full_release/Session1/sen...  Ses01F_impro02_F002   \n",
       "3  /home/jz3313/IEMOCAP_full_release/Session1/sen...  Ses01F_impro02_F003   \n",
       "4  /home/jz3313/IEMOCAP_full_release/Session1/sen...  Ses01F_impro02_F004   \n",
       "\n",
       "   session  emotion                                            newpath  \n",
       "0        1      sad  ../data/wav2vecbase/Session1/Ses01F_impro02_F0...  \n",
       "1        1      sad  ../data/wav2vecbase/Session1/Ses01F_impro02_F0...  \n",
       "2        1      sad  ../data/wav2vecbase/Session1/Ses01F_impro02_F0...  \n",
       "3        1  neutral  ../data/wav2vecbase/Session1/Ses01F_impro02_F0...  \n",
       "4        1      sad  ../data/wav2vecbase/Session1/Ses01F_impro02_F0...  "
      ]
     },
     "execution_count": 7,
     "metadata": {},
     "output_type": "execute_result"
    }
   ],
   "source": [
    "file.head()"
   ]
  },
  {
   "cell_type": "code",
   "execution_count": 8,
   "id": "eb4cd78e",
   "metadata": {},
   "outputs": [],
   "source": [
    "holdout = 4\n",
    "train = file[file['session'] != holdout]\n",
    "test = file[file['session'] == holdout]"
   ]
  },
  {
   "cell_type": "code",
   "execution_count": 9,
   "id": "75a75bd9",
   "metadata": {},
   "outputs": [],
   "source": [
    "class MyDataSet(torch.utils.data.Dataset):\n",
    "    def __init__(self, datas, labels, label_transform):\n",
    "        super(MyDataSet).__init__()\n",
    "        self.datas = datas\n",
    "        self.labels = labels\n",
    "        self.label_transform = label_transform\n",
    "        \n",
    "    def __getitem__(self, idx):\n",
    "        audio = self.datas[idx]\n",
    "        label = self.label_transform[self.labels[idx]]\n",
    "        length = audio.size(1)\n",
    "        return audio, length, label\n",
    "    \n",
    "    def __len__(self):\n",
    "        return len(self.labels)"
   ]
  },
  {
   "cell_type": "code",
   "execution_count": 10,
   "id": "141ec40a",
   "metadata": {},
   "outputs": [],
   "source": [
    "def collate_indic(data):\n",
    "    audios, lengths, labels = zip(*data)\n",
    "    max_len = max(lengths)\n",
    "    n_ftrs = audios[0].size(2)\n",
    "    n_dims = audios[0].size(0)\n",
    "    features = torch.zeros((len(audios), n_dims, max_len, n_ftrs))\n",
    "    labels = torch.tensor(labels)\n",
    "    lengths = torch.tensor(lengths)\n",
    "\n",
    "    for i in range(len(data)):\n",
    "        j, k = audios[i].size(1), audios[i].size(2)\n",
    "        features[i] = torch.cat([audios[i], torch.zeros((n_dims, max_len - j, k))], dim=1)\n",
    "\n",
    "    return features, lengths, labels"
   ]
  },
  {
   "cell_type": "code",
   "execution_count": 11,
   "id": "0738ead4",
   "metadata": {},
   "outputs": [
    {
     "data": {
      "text/plain": [
       "{'angry': 0, 'happy': 1, 'neutral': 2, 'sad': 3}"
      ]
     },
     "execution_count": 11,
     "metadata": {},
     "output_type": "execute_result"
    }
   ],
   "source": [
    "categories = ['angry', 'happy', 'neutral', 'sad']\n",
    "cate_dic = {}\n",
    "for i, cate in enumerate(categories):\n",
    "    cate_dic[cate] = i\n",
    "cate_dic"
   ]
  },
  {
   "cell_type": "markdown",
   "id": "adf4848c",
   "metadata": {},
   "source": [
    "## Train with 3CNN+LSTM"
   ]
  },
  {
   "cell_type": "code",
   "execution_count": 12,
   "id": "2ef1a6ec",
   "metadata": {},
   "outputs": [],
   "source": [
    "import torch.nn as nn\n",
    "import torch.nn.functional as F\n",
    "\n",
    "class ICASSP3CNN(nn.Module):\n",
    "    def __init__(self, vocab_size, dims = 12, embed_size=128, hidden_size=512, num_lstm_layers = 2, bidirectional = False, label_size=7):\n",
    "        super().__init__()\n",
    "        self.n_layers = num_lstm_layers \n",
    "        self.hidden = hidden_size\n",
    "        self.bidirectional = bidirectional\n",
    "        \n",
    "        self.aggr = nn.Conv1d(in_channels=dims, out_channels=1, kernel_size=1)\n",
    "        \n",
    "        self.embed = nn.Linear(in_features = vocab_size, out_features = embed_size)\n",
    "\n",
    "        self.cnn  = nn.Conv1d(embed_size, embed_size, kernel_size=3, padding=1)\n",
    "        self.cnn2 = nn.Conv1d(embed_size, embed_size, kernel_size=5, padding=2)\n",
    "        self.cnn3 = nn.Conv1d(embed_size, embed_size, kernel_size=7, padding=3)\n",
    "\n",
    "        self.batchnorm = nn.BatchNorm1d(3 * embed_size)\n",
    "\n",
    "        self.lstm = nn.LSTM(input_size = 3 * embed_size, \n",
    "                            hidden_size = hidden_size, \n",
    "                            num_layers = num_lstm_layers, \n",
    "                            bidirectional = bidirectional)\n",
    "\n",
    "        self.linear = nn.Linear(in_features = 2 * hidden_size if bidirectional else hidden_size, \n",
    "                                out_features = label_size)\n",
    "\n",
    "\n",
    "    def forward(self, x, lengths):\n",
    "        \"\"\"\n",
    "        padded_x: (B,T) padded LongTensor\n",
    "        \"\"\"\n",
    "        n, d, b, t = x.size(0), x.size(1), x.size(2), x.size(3)\n",
    "        x = torch.flatten(x, start_dim=2)\n",
    "        input = self.aggr(x)\n",
    "        input = torch.reshape(input, (n, b, t))\n",
    "        input = self.embed(input)\n",
    "\n",
    "        batch_size = input.size(0)\n",
    "        input = input.transpose(1,2)    # (B,T,H) -> (B,H,T)\n",
    "\n",
    "        cnn_output = torch.cat([self.cnn(input), self.cnn2(input), self.cnn3(input)], dim=1)\n",
    "\n",
    "        input = F.relu(self.batchnorm(cnn_output))\n",
    "\n",
    "        input = input.transpose(1,2)\n",
    "\n",
    "        pack_tensor = nn.utils.rnn.pack_padded_sequence(input, lengths, batch_first=True, enforce_sorted=False)\n",
    "        _, (hn, cn) = self.lstm(pack_tensor)\n",
    "\n",
    "        if self.bidirectional:\n",
    "            h_n = hn.view(self.n_layers, 2, batch_size, self.hidden)\n",
    "            h_n = torch.cat([ h_n[-1, 0,:], h_n[-1,1,:] ], dim = 1)\n",
    "        else:\n",
    "            h_n = hn[-1]\n",
    "\n",
    "        logits = self.linear(h_n)\n",
    "\n",
    "        return logits"
   ]
  },
  {
   "cell_type": "markdown",
   "id": "21a7d392",
   "metadata": {},
   "source": [
    "### Model Traning on each layer "
   ]
  },
  {
   "cell_type": "code",
   "execution_count": 13,
   "id": "01d051d0",
   "metadata": {},
   "outputs": [
    {
     "name": "stderr",
     "output_type": "stream",
     "text": [
      "4500it [05:45, 13.03it/s]\n"
     ]
    }
   ],
   "source": [
    "from tqdm import tqdm\n",
    "from torch.utils.data import DataLoader\n",
    "\n",
    "traindata = []\n",
    "for _, row in tqdm(train.iterrows()):\n",
    "    traindata.append(torch.load(row[4]))\n",
    "\n",
    "train_dataset = MyDataSet(traindata, train['emotion'].tolist(), cate_dic)\n",
    "trainloader_args = dict(batch_size=64, shuffle=True)\n",
    "train_dataloader = DataLoader(train_dataset, **trainloader_args, \n",
    "                              collate_fn=collate_indic)"
   ]
  },
  {
   "cell_type": "code",
   "execution_count": 15,
   "id": "57b10d98",
   "metadata": {},
   "outputs": [],
   "source": [
    "train_dataset = MyDataSet(traindata, train['emotion'].tolist(), cate_dic)\n",
    "trainloader_args = dict(batch_size=64, shuffle=True)\n",
    "train_dataloader = DataLoader(train_dataset, **trainloader_args, \n",
    "                              collate_fn=collate_indic)"
   ]
  },
  {
   "cell_type": "code",
   "execution_count": 17,
   "id": "e6942285",
   "metadata": {},
   "outputs": [],
   "source": [
    "from tqdm import tqdm\n",
    "from torchsummary import summary\n",
    "import torch.optim as optim\n",
    "\n",
    "model = ICASSP3CNN(768)\n",
    "model = model.to(device)\n",
    "criterion = nn.CrossEntropyLoss()\n",
    "optimizer = optim.Adam(model.parameters(), lr=0.001)"
   ]
  },
  {
   "cell_type": "code",
   "execution_count": 18,
   "id": "75762bdc",
   "metadata": {},
   "outputs": [
    {
     "name": "stderr",
     "output_type": "stream",
     "text": [
      "  2%|███▎                                                                                                                                                                 | 1/50 [01:49<1:29:07, 109.13s/it]"
     ]
    },
    {
     "name": "stdout",
     "output_type": "stream",
     "text": [
      "epoch:1, train accu:0.4889, train loss:1.12\n"
     ]
    },
    {
     "name": "stderr",
     "output_type": "stream",
     "text": [
      "\r",
      "  4%|██████▌                                                                                                                                                              | 2/50 [03:30<1:23:43, 104.66s/it]"
     ]
    },
    {
     "name": "stdout",
     "output_type": "stream",
     "text": [
      "epoch:2, train accu:0.5831, train loss:0.97\n"
     ]
    },
    {
     "name": "stderr",
     "output_type": "stream",
     "text": [
      "\r",
      "  6%|█████████▉                                                                                                                                                           | 3/50 [05:14<1:21:36, 104.17s/it]"
     ]
    },
    {
     "name": "stdout",
     "output_type": "stream",
     "text": [
      "epoch:3, train accu:0.6427, train loss:0.88\n"
     ]
    },
    {
     "name": "stderr",
     "output_type": "stream",
     "text": [
      "\r",
      "  8%|█████████████▏                                                                                                                                                       | 4/50 [06:56<1:19:25, 103.59s/it]"
     ]
    },
    {
     "name": "stdout",
     "output_type": "stream",
     "text": [
      "epoch:4, train accu:0.6693, train loss:0.83\n"
     ]
    },
    {
     "name": "stderr",
     "output_type": "stream",
     "text": [
      "\r",
      " 10%|████████████████▌                                                                                                                                                    | 5/50 [08:37<1:16:46, 102.37s/it]"
     ]
    },
    {
     "name": "stdout",
     "output_type": "stream",
     "text": [
      "epoch:5, train accu:0.7007, train loss:0.76\n"
     ]
    },
    {
     "name": "stderr",
     "output_type": "stream",
     "text": [
      "\r",
      " 12%|███████████████████▊                                                                                                                                                 | 6/50 [10:20<1:15:17, 102.67s/it]"
     ]
    },
    {
     "name": "stdout",
     "output_type": "stream",
     "text": [
      "epoch:6, train accu:0.7129, train loss:0.73\n"
     ]
    },
    {
     "name": "stderr",
     "output_type": "stream",
     "text": [
      "\r",
      " 14%|███████████████████████                                                                                                                                              | 7/50 [12:02<1:13:30, 102.57s/it]"
     ]
    },
    {
     "name": "stdout",
     "output_type": "stream",
     "text": [
      "epoch:7, train accu:0.7264, train loss:0.70\n"
     ]
    },
    {
     "name": "stderr",
     "output_type": "stream",
     "text": [
      "\r",
      " 16%|██████████████████████████▍                                                                                                                                          | 8/50 [13:42<1:11:10, 101.67s/it]"
     ]
    },
    {
     "name": "stdout",
     "output_type": "stream",
     "text": [
      "epoch:8, train accu:0.7362, train loss:0.67\n"
     ]
    },
    {
     "name": "stderr",
     "output_type": "stream",
     "text": [
      "\r",
      " 18%|█████████████████████████████▋                                                                                                                                       | 9/50 [15:26<1:10:03, 102.53s/it]"
     ]
    },
    {
     "name": "stdout",
     "output_type": "stream",
     "text": [
      "epoch:9, train accu:0.7540, train loss:0.64\n"
     ]
    },
    {
     "name": "stderr",
     "output_type": "stream",
     "text": [
      "\r",
      " 20%|████████████████████████████████▊                                                                                                                                   | 10/50 [17:10<1:08:31, 102.80s/it]"
     ]
    },
    {
     "name": "stdout",
     "output_type": "stream",
     "text": [
      "epoch:10, train accu:0.7600, train loss:0.62\n"
     ]
    },
    {
     "name": "stderr",
     "output_type": "stream",
     "text": [
      "\r",
      " 22%|████████████████████████████████████                                                                                                                                | 11/50 [18:51<1:06:28, 102.26s/it]"
     ]
    },
    {
     "name": "stdout",
     "output_type": "stream",
     "text": [
      "epoch:11, train accu:0.7853, train loss:0.56\n"
     ]
    },
    {
     "name": "stderr",
     "output_type": "stream",
     "text": [
      "\r",
      " 24%|███████████████████████████████████████▎                                                                                                                            | 12/50 [20:31<1:04:22, 101.66s/it]"
     ]
    },
    {
     "name": "stdout",
     "output_type": "stream",
     "text": [
      "epoch:12, train accu:0.7862, train loss:0.55\n"
     ]
    },
    {
     "name": "stderr",
     "output_type": "stream",
     "text": [
      "\r",
      " 26%|██████████████████████████████████████████▋                                                                                                                         | 13/50 [22:13<1:02:39, 101.61s/it]"
     ]
    },
    {
     "name": "stdout",
     "output_type": "stream",
     "text": [
      "epoch:13, train accu:0.8082, train loss:0.51\n"
     ]
    },
    {
     "name": "stderr",
     "output_type": "stream",
     "text": [
      "\r",
      " 28%|█████████████████████████████████████████████▉                                                                                                                      | 14/50 [23:50<1:00:15, 100.43s/it]"
     ]
    },
    {
     "name": "stdout",
     "output_type": "stream",
     "text": [
      "epoch:14, train accu:0.8211, train loss:0.47\n"
     ]
    },
    {
     "name": "stderr",
     "output_type": "stream",
     "text": [
      "\r",
      " 30%|█████████████████████████████████████████████████▊                                                                                                                    | 15/50 [25:33<59:02, 101.23s/it]"
     ]
    },
    {
     "name": "stdout",
     "output_type": "stream",
     "text": [
      "epoch:15, train accu:0.8429, train loss:0.43\n"
     ]
    },
    {
     "name": "stderr",
     "output_type": "stream",
     "text": [
      "\r",
      " 32%|█████████████████████████████████████████████████████                                                                                                                 | 16/50 [27:16<57:32, 101.55s/it]"
     ]
    },
    {
     "name": "stdout",
     "output_type": "stream",
     "text": [
      "epoch:16, train accu:0.8640, train loss:0.38\n"
     ]
    },
    {
     "name": "stderr",
     "output_type": "stream",
     "text": [
      "\r",
      " 34%|████████████████████████████████████████████████████████▍                                                                                                             | 17/50 [28:55<55:25, 100.76s/it]"
     ]
    },
    {
     "name": "stdout",
     "output_type": "stream",
     "text": [
      "epoch:17, train accu:0.8836, train loss:0.32\n"
     ]
    },
    {
     "name": "stderr",
     "output_type": "stream",
     "text": [
      "\r",
      " 36%|███████████████████████████████████████████████████████████▊                                                                                                          | 18/50 [30:36<53:46, 100.83s/it]"
     ]
    },
    {
     "name": "stdout",
     "output_type": "stream",
     "text": [
      "epoch:18, train accu:0.8978, train loss:0.29\n"
     ]
    },
    {
     "name": "stderr",
     "output_type": "stream",
     "text": [
      "\r",
      " 38%|███████████████████████████████████████████████████████████████                                                                                                       | 19/50 [32:19<52:29, 101.60s/it]"
     ]
    },
    {
     "name": "stdout",
     "output_type": "stream",
     "text": [
      "epoch:19, train accu:0.8987, train loss:0.28\n"
     ]
    },
    {
     "name": "stderr",
     "output_type": "stream",
     "text": [
      "\r",
      " 40%|██████████████████████████████████████████████████████████████████▍                                                                                                   | 20/50 [33:58<50:27, 100.91s/it]"
     ]
    },
    {
     "name": "stdout",
     "output_type": "stream",
     "text": [
      "epoch:20, train accu:0.9093, train loss:0.25\n"
     ]
    },
    {
     "name": "stderr",
     "output_type": "stream",
     "text": [
      "\r",
      " 42%|█████████████████████████████████████████████████████████████████████▋                                                                                                | 21/50 [35:41<49:04, 101.54s/it]"
     ]
    },
    {
     "name": "stdout",
     "output_type": "stream",
     "text": [
      "epoch:21, train accu:0.9422, train loss:0.17\n"
     ]
    },
    {
     "name": "stderr",
     "output_type": "stream",
     "text": [
      "\r",
      " 44%|█████████████████████████████████████████████████████████████████████████                                                                                             | 22/50 [37:23<47:20, 101.43s/it]"
     ]
    },
    {
     "name": "stdout",
     "output_type": "stream",
     "text": [
      "epoch:22, train accu:0.9311, train loss:0.20\n"
     ]
    },
    {
     "name": "stderr",
     "output_type": "stream",
     "text": [
      "\r",
      " 46%|████████████████████████████████████████████████████████████████████████████▎                                                                                         | 23/50 [39:05<45:44, 101.64s/it]"
     ]
    },
    {
     "name": "stdout",
     "output_type": "stream",
     "text": [
      "epoch:23, train accu:0.9424, train loss:0.16\n"
     ]
    },
    {
     "name": "stderr",
     "output_type": "stream",
     "text": [
      "\r",
      " 48%|███████████████████████████████████████████████████████████████████████████████▋                                                                                      | 24/50 [40:44<43:48, 101.09s/it]"
     ]
    },
    {
     "name": "stdout",
     "output_type": "stream",
     "text": [
      "epoch:24, train accu:0.9593, train loss:0.13\n"
     ]
    },
    {
     "name": "stderr",
     "output_type": "stream",
     "text": [
      "\r",
      " 50%|███████████████████████████████████████████████████████████████████████████████████                                                                                   | 25/50 [42:27<42:16, 101.46s/it]"
     ]
    },
    {
     "name": "stdout",
     "output_type": "stream",
     "text": [
      "epoch:25, train accu:0.9753, train loss:0.08\n"
     ]
    },
    {
     "name": "stderr",
     "output_type": "stream",
     "text": [
      "\r",
      " 52%|██████████████████████████████████████████████████████████████████████████████████████▎                                                                               | 26/50 [44:04<40:01, 100.08s/it]"
     ]
    },
    {
     "name": "stdout",
     "output_type": "stream",
     "text": [
      "epoch:26, train accu:0.9751, train loss:0.08\n"
     ]
    },
    {
     "name": "stderr",
     "output_type": "stream",
     "text": [
      "\r",
      " 54%|██████████████████████████████████████████████████████████████████████████████████████████▏                                                                            | 27/50 [45:41<38:05, 99.37s/it]"
     ]
    },
    {
     "name": "stdout",
     "output_type": "stream",
     "text": [
      "epoch:27, train accu:0.9756, train loss:0.07\n"
     ]
    },
    {
     "name": "stderr",
     "output_type": "stream",
     "text": [
      "\r",
      " 56%|█████████████████████████████████████████████████████████████████████████████████████████████▌                                                                         | 28/50 [47:20<36:23, 99.27s/it]"
     ]
    },
    {
     "name": "stdout",
     "output_type": "stream",
     "text": [
      "epoch:28, train accu:0.9653, train loss:0.10\n"
     ]
    },
    {
     "name": "stderr",
     "output_type": "stream",
     "text": [
      "\r",
      " 58%|████████████████████████████████████████████████████████████████████████████████████████████████▊                                                                      | 29/50 [48:59<34:40, 99.08s/it]"
     ]
    },
    {
     "name": "stdout",
     "output_type": "stream",
     "text": [
      "epoch:29, train accu:0.9638, train loss:0.10\n"
     ]
    },
    {
     "name": "stderr",
     "output_type": "stream",
     "text": [
      "\r",
      " 60%|████████████████████████████████████████████████████████████████████████████████████████████████████▏                                                                  | 30/50 [50:39<33:06, 99.32s/it]"
     ]
    },
    {
     "name": "stdout",
     "output_type": "stream",
     "text": [
      "epoch:30, train accu:0.9902, train loss:0.03\n"
     ]
    },
    {
     "name": "stderr",
     "output_type": "stream",
     "text": [
      "\r",
      " 62%|███████████████████████████████████████████████████████████████████████████████████████████████████████▌                                                               | 31/50 [52:19<31:31, 99.56s/it]"
     ]
    },
    {
     "name": "stdout",
     "output_type": "stream",
     "text": [
      "epoch:31, train accu:0.9878, train loss:0.03\n"
     ]
    },
    {
     "name": "stderr",
     "output_type": "stream",
     "text": [
      "\r",
      " 64%|██████████████████████████████████████████████████████████████████████████████████████████████████████████▉                                                            | 32/50 [53:56<29:37, 98.74s/it]"
     ]
    },
    {
     "name": "stdout",
     "output_type": "stream",
     "text": [
      "epoch:32, train accu:0.9951, train loss:0.02\n"
     ]
    },
    {
     "name": "stderr",
     "output_type": "stream",
     "text": [
      "\r",
      " 66%|█████████████████████████████████████████████████████████████████████████████████████████████████████████████▌                                                        | 33/50 [55:40<28:25, 100.31s/it]"
     ]
    },
    {
     "name": "stdout",
     "output_type": "stream",
     "text": [
      "epoch:33, train accu:0.9747, train loss:0.07\n"
     ]
    },
    {
     "name": "stderr",
     "output_type": "stream",
     "text": [
      "\r",
      " 68%|█████████████████████████████████████████████████████████████████████████████████████████████████████████████████▌                                                     | 34/50 [57:18<26:32, 99.55s/it]"
     ]
    },
    {
     "name": "stdout",
     "output_type": "stream",
     "text": [
      "epoch:34, train accu:0.9860, train loss:0.04\n"
     ]
    },
    {
     "name": "stderr",
     "output_type": "stream",
     "text": [
      "\r",
      " 70%|████████████████████████████████████████████████████████████████████████████████████████████████████████████████████▉                                                  | 35/50 [58:59<24:59, 99.97s/it]"
     ]
    },
    {
     "name": "stdout",
     "output_type": "stream",
     "text": [
      "epoch:35, train accu:0.9818, train loss:0.05\n"
     ]
    },
    {
     "name": "stderr",
     "output_type": "stream",
     "text": [
      "\r",
      " 72%|██████████████████████████████████████████████████████████████████████████████████████████████████████████████████████▊                                              | 36/50 [1:00:37<23:14, 99.64s/it]"
     ]
    },
    {
     "name": "stdout",
     "output_type": "stream",
     "text": [
      "epoch:36, train accu:0.9876, train loss:0.03\n"
     ]
    },
    {
     "name": "stderr",
     "output_type": "stream",
     "text": [
      "\r",
      " 74%|██████████████████████████████████████████████████████████████████████████████████████████████████████████████████████████                                           | 37/50 [1:02:16<21:30, 99.30s/it]"
     ]
    },
    {
     "name": "stdout",
     "output_type": "stream",
     "text": [
      "epoch:37, train accu:0.9876, train loss:0.03\n"
     ]
    },
    {
     "name": "stderr",
     "output_type": "stream",
     "text": [
      "\r",
      " 76%|█████████████████████████████████████████████████████████████████████████████████████████████████████████████████████████████▍                                       | 38/50 [1:03:52<19:41, 98.45s/it]"
     ]
    },
    {
     "name": "stdout",
     "output_type": "stream",
     "text": [
      "epoch:38, train accu:0.9793, train loss:0.06\n"
     ]
    },
    {
     "name": "stderr",
     "output_type": "stream",
     "text": [
      "\r",
      " 78%|████████████████████████████████████████████████████████████████████████████████████████████████████████████████████████████████▋                                    | 39/50 [1:05:34<18:14, 99.48s/it]"
     ]
    },
    {
     "name": "stdout",
     "output_type": "stream",
     "text": [
      "epoch:39, train accu:0.9702, train loss:0.09\n"
     ]
    },
    {
     "name": "stderr",
     "output_type": "stream",
     "text": [
      "\r",
      " 80%|████████████████████████████████████████████████████████████████████████████████████████████████████████████████████████████████████                                 | 40/50 [1:07:13<16:32, 99.27s/it]"
     ]
    },
    {
     "name": "stdout",
     "output_type": "stream",
     "text": [
      "epoch:40, train accu:0.9838, train loss:0.05\n"
     ]
    },
    {
     "name": "stderr",
     "output_type": "stream",
     "text": [
      "\r",
      " 82%|███████████████████████████████████████████████████████████████████████████████████████████████████████████████████████████████████████▎                             | 41/50 [1:08:51<14:50, 98.89s/it]"
     ]
    },
    {
     "name": "stdout",
     "output_type": "stream",
     "text": [
      "epoch:41, train accu:0.9940, train loss:0.02\n"
     ]
    },
    {
     "name": "stderr",
     "output_type": "stream",
     "text": [
      "\r",
      " 84%|██████████████████████████████████████████████████████████████████████████████████████████████████████████████████████████████████████████▌                          | 42/50 [1:10:32<13:15, 99.39s/it]"
     ]
    },
    {
     "name": "stdout",
     "output_type": "stream",
     "text": [
      "epoch:42, train accu:0.9998, train loss:0.00\n"
     ]
    },
    {
     "name": "stderr",
     "output_type": "stream",
     "text": [
      "\r",
      " 86%|█████████████████████████████████████████████████████████████████████████████████████████████████████████████████████████████████████████████▉                       | 43/50 [1:12:11<11:35, 99.41s/it]"
     ]
    },
    {
     "name": "stdout",
     "output_type": "stream",
     "text": [
      "epoch:43, train accu:0.9978, train loss:0.01\n"
     ]
    },
    {
     "name": "stderr",
     "output_type": "stream",
     "text": [
      "\r",
      " 88%|████████████████████████████████████████████████████████████████████████████████████████████████████████████████████████████████████████████████▎                   | 44/50 [1:13:53<10:00, 100.11s/it]"
     ]
    },
    {
     "name": "stdout",
     "output_type": "stream",
     "text": [
      "epoch:44, train accu:0.9942, train loss:0.02\n"
     ]
    },
    {
     "name": "stderr",
     "output_type": "stream",
     "text": [
      "\r",
      " 90%|████████████████████████████████████████████████████████████████████████████████████████████████████████████████████████████████████████████████████▌                | 45/50 [1:15:32<08:19, 99.91s/it]"
     ]
    },
    {
     "name": "stdout",
     "output_type": "stream",
     "text": [
      "epoch:45, train accu:0.9873, train loss:0.04\n"
     ]
    },
    {
     "name": "stderr",
     "output_type": "stream",
     "text": [
      "\r",
      " 92%|███████████████████████████████████████████████████████████████████████████████████████████████████████████████████████████████████████████████████████▊             | 46/50 [1:17:11<06:37, 99.44s/it]"
     ]
    },
    {
     "name": "stdout",
     "output_type": "stream",
     "text": [
      "epoch:46, train accu:0.9902, train loss:0.03\n"
     ]
    },
    {
     "name": "stderr",
     "output_type": "stream",
     "text": [
      "\r",
      " 94%|███████████████████████████████████████████████████████████████████████████████████████████████████████████████████████████████████████████████████████████          | 47/50 [1:18:43<04:51, 97.21s/it]"
     ]
    },
    {
     "name": "stdout",
     "output_type": "stream",
     "text": [
      "epoch:47, train accu:0.9800, train loss:0.06\n"
     ]
    },
    {
     "name": "stderr",
     "output_type": "stream",
     "text": [
      "\r",
      " 96%|██████████████████████████████████████████████████████████████████████████████████████████████████████████████████████████████████████████████████████████████▍      | 48/50 [1:20:20<03:14, 97.12s/it]"
     ]
    },
    {
     "name": "stdout",
     "output_type": "stream",
     "text": [
      "epoch:48, train accu:0.9960, train loss:0.02\n"
     ]
    },
    {
     "name": "stderr",
     "output_type": "stream",
     "text": [
      "\r",
      " 98%|█████████████████████████████████████████████████████████████████████████████████████████████████████████████████████████████████████████████████████████████████▋   | 49/50 [1:21:59<01:37, 97.96s/it]"
     ]
    },
    {
     "name": "stdout",
     "output_type": "stream",
     "text": [
      "epoch:49, train accu:0.9960, train loss:0.01\n"
     ]
    },
    {
     "name": "stderr",
     "output_type": "stream",
     "text": [
      "100%|████████████████████████████████████████████████████████████████████████████████████████████████████████████████████████████████████████████████████████████████████| 50/50 [1:23:34<00:00, 100.30s/it]"
     ]
    },
    {
     "name": "stdout",
     "output_type": "stream",
     "text": [
      "epoch:50, train accu:0.9962, train loss:0.01\n"
     ]
    },
    {
     "name": "stderr",
     "output_type": "stream",
     "text": [
      "\n"
     ]
    }
   ],
   "source": [
    "epochs = 50\n",
    "train_losses = []\n",
    "train_accuracies = []\n",
    "valid_losses = []\n",
    "valid_accuracies = []\n",
    "\n",
    "for epoch in tqdm(range(epochs)):\n",
    "    train_loss = 0\n",
    "    acc_cnt = 0\n",
    "    err_cnt = 0\n",
    "    batch_cnt = 0\n",
    "    model.train()\n",
    "    for batch, (x, length, y) in enumerate(train_dataloader):\n",
    "        x = x.to(device)\n",
    "        y = y.to(device)\n",
    "        optimizer.zero_grad()\n",
    "        logits = model(x, length)\n",
    "        loss = criterion(logits, y)\n",
    "        loss.backward()\n",
    "        optimizer.step()\n",
    "        train_loss += loss.cpu().item()\n",
    "\n",
    "        #model outputs\n",
    "        out_val, out_indices = torch.max(logits, dim=1)\n",
    "        tar_indices = y\n",
    "\n",
    "        for i in range(len(out_indices)):\n",
    "            if out_indices[i] == tar_indices[i]:\n",
    "                acc_cnt += 1\n",
    "            else:\n",
    "                err_cnt += 1\n",
    "        batch_cnt += 1\n",
    "    \n",
    "    train_loss = train_loss/batch_cnt\n",
    "    train_accuracy = acc_cnt/(acc_cnt+err_cnt)\n",
    "    train_accuracies.append(train_accuracy)\n",
    "    train_losses.append(train_loss)\n",
    "    \n",
    "    print(f\"epoch:{epoch+1}, train accu:{train_accuracy:.4f},\", f\"train loss:{train_loss:.2f}\")"
   ]
  },
  {
   "cell_type": "markdown",
   "id": "42092bf7",
   "metadata": {},
   "source": [
    "## Model Test"
   ]
  },
  {
   "cell_type": "code",
   "execution_count": 19,
   "id": "3c5c9897",
   "metadata": {},
   "outputs": [
    {
     "name": "stderr",
     "output_type": "stream",
     "text": [
      "1031it [01:14, 13.92it/s]\n"
     ]
    }
   ],
   "source": [
    "from tqdm import tqdm\n",
    "\n",
    "testdata = []\n",
    "for _, row in tqdm(test.iterrows()):\n",
    "    testdata.append(torch.load(row[4]))\n",
    "    \n",
    "test_dataset = MyDataSet(testdata, test['emotion'].tolist(), cate_dic)\n",
    "testloader_args = dict(batch_size=1, shuffle=True)\n",
    "test_dataloader = DataLoader(test_dataset, **testloader_args, \n",
    "                             collate_fn=collate_indic)"
   ]
  },
  {
   "cell_type": "code",
   "execution_count": 20,
   "id": "3120f8d4",
   "metadata": {},
   "outputs": [
    {
     "name": "stdout",
     "output_type": "stream",
     "text": [
      "test accuracy: 0.597478176527643\n"
     ]
    }
   ],
   "source": [
    "test_loss = 0\n",
    "acc_cnt = 0\n",
    "err_cnt = 0\n",
    "batch_cnt = 0\n",
    "model.eval()\n",
    "\n",
    "for x, lengths, y in test_dataloader:\n",
    "\n",
    "    x = x.to(device)\n",
    "    y = y.to(device)\n",
    "\n",
    "    logits = model(x, lengths)\n",
    "    loss = criterion(logits, y)\n",
    "    test_loss += loss.cpu().item()\n",
    "\n",
    "    out_val, out_indices = torch.max(logits, dim=1)\n",
    "    tar_indices = y\n",
    "\n",
    "    for i in range(len(out_indices)):\n",
    "        if out_indices[i] == tar_indices[i]:\n",
    "            acc_cnt += 1\n",
    "        else:\n",
    "            err_cnt += 1\n",
    "    batch_cnt += 1\n",
    "\n",
    "test_loss = test_loss/batch_cnt\n",
    "test_accuracy = acc_cnt/(acc_cnt+err_cnt)\n",
    "print(f'test accuracy: {test_accuracy}')"
   ]
  },
  {
   "cell_type": "code",
   "execution_count": 21,
   "id": "997c700b",
   "metadata": {},
   "outputs": [
    {
     "name": "stdout",
     "output_type": "stream",
     "text": [
      "aggr.weight tensor([[[-0.1419],\n",
      "         [ 0.1803],\n",
      "         [ 0.2438],\n",
      "         [ 0.0492],\n",
      "         [ 0.1098],\n",
      "         [-0.1890],\n",
      "         [-0.3274],\n",
      "         [ 0.0142],\n",
      "         [ 0.0680],\n",
      "         [-0.0127],\n",
      "         [-0.0288],\n",
      "         [ 0.0642]]], device='cuda:0')\n",
      "aggr.bias tensor([0.0273], device='cuda:0')\n",
      "embed.weight tensor([[-0.0940, -0.0012, -0.0701,  ..., -0.0345,  0.0468,  0.0314],\n",
      "        [ 0.0636,  0.0790,  0.0462,  ..., -0.0323,  0.0046, -0.0669],\n",
      "        [ 0.0461,  0.0560,  0.0467,  ...,  0.0322,  0.0976,  0.1140],\n",
      "        ...,\n",
      "        [-0.0691, -0.0931, -0.0305,  ..., -0.0112,  0.0366,  0.0109],\n",
      "        [ 0.0146,  0.0125, -0.0390,  ..., -0.0882, -0.0384, -0.1333],\n",
      "        [ 0.0336, -0.0391, -0.0775,  ..., -0.0416, -0.0158,  0.1385]],\n",
      "       device='cuda:0')\n",
      "embed.bias tensor([ 0.0509,  0.0562, -0.0691, -0.0017, -0.0205,  0.0345,  0.0351,  0.0864,\n",
      "         0.0757,  0.1065, -0.0912,  0.0041, -0.0271,  0.1938,  0.0095,  0.0783,\n",
      "         0.0093,  0.0909,  0.0383,  0.1205, -0.0369,  0.0229,  0.0579, -0.0201,\n",
      "         0.0510,  0.0451,  0.0060,  0.0157, -0.0019, -0.0442, -0.1153, -0.0225,\n",
      "        -0.0769,  0.1461, -0.0629, -0.0268, -0.0906,  0.0652,  0.0348, -0.0060,\n",
      "        -0.0050, -0.0162, -0.0435,  0.0178,  0.0863,  0.0181,  0.0245,  0.0456,\n",
      "        -0.0566, -0.0222, -0.0011, -0.0482,  0.0562, -0.0611,  0.0075,  0.0621,\n",
      "        -0.0370, -0.0074, -0.0707,  0.0652,  0.0468,  0.1122,  0.0517,  0.0922,\n",
      "        -0.0085,  0.0668,  0.0409,  0.0809,  0.0055,  0.0175,  0.0575, -0.0157,\n",
      "         0.0389, -0.0838, -0.0138, -0.0271,  0.0207,  0.0593,  0.1323,  0.0542,\n",
      "         0.0748, -0.0841, -0.0514,  0.0545, -0.0453, -0.0102,  0.0180, -0.0417,\n",
      "         0.0515, -0.0548, -0.0855, -0.0247, -0.0177, -0.0222,  0.0162, -0.0156,\n",
      "        -0.0056,  0.0216,  0.0313, -0.0636, -0.1253,  0.0232,  0.0260,  0.0074,\n",
      "        -0.0020,  0.0746, -0.0102, -0.0128, -0.0275,  0.0210,  0.0593,  0.0380,\n",
      "        -0.0467,  0.0381,  0.0279,  0.0113,  0.0512, -0.0667,  0.1245,  0.0690,\n",
      "        -0.0155, -0.1011, -0.1025, -0.0210, -0.0101,  0.0580,  0.0437, -0.0299],\n",
      "       device='cuda:0')\n",
      "cnn.weight tensor([[[-0.0018, -0.0220, -0.0413],\n",
      "         [-0.0369,  0.0120, -0.0195],\n",
      "         [-0.0903,  0.0067,  0.0727],\n",
      "         ...,\n",
      "         [ 0.0270,  0.0332,  0.0334],\n",
      "         [-0.0895, -0.0766, -0.0366],\n",
      "         [-0.0015,  0.1007, -0.0811]],\n",
      "\n",
      "        [[-0.2516, -0.1475, -0.0669],\n",
      "         [ 0.1372, -0.0213,  0.0194],\n",
      "         [-0.0630, -0.0756, -0.1054],\n",
      "         ...,\n",
      "         [-0.1632, -0.1174, -0.1070],\n",
      "         [-0.0284,  0.0037, -0.1287],\n",
      "         [-0.0467, -0.0826,  0.0852]],\n",
      "\n",
      "        [[ 0.0928,  0.0038, -0.0057],\n",
      "         [-0.0584, -0.0199, -0.0649],\n",
      "         [-0.1737, -0.1057, -0.0149],\n",
      "         ...,\n",
      "         [ 0.0037,  0.0533,  0.0202],\n",
      "         [ 0.1158,  0.0493,  0.0391],\n",
      "         [ 0.0308,  0.0430,  0.0066]],\n",
      "\n",
      "        ...,\n",
      "\n",
      "        [[-0.0177,  0.0034, -0.0519],\n",
      "         [ 0.0785,  0.0917,  0.0465],\n",
      "         [-0.0441,  0.0278, -0.0071],\n",
      "         ...,\n",
      "         [ 0.0470,  0.0496,  0.0072],\n",
      "         [-0.0528, -0.1609, -0.0465],\n",
      "         [-0.0111, -0.0201, -0.0792]],\n",
      "\n",
      "        [[-0.0568, -0.0217, -0.0791],\n",
      "         [ 0.0616,  0.1112,  0.0517],\n",
      "         [-0.0457, -0.0007,  0.0027],\n",
      "         ...,\n",
      "         [ 0.0164, -0.0710,  0.0334],\n",
      "         [ 0.0117, -0.0533,  0.0027],\n",
      "         [-0.0040, -0.0667, -0.0956]],\n",
      "\n",
      "        [[-0.0151, -0.0365, -0.0397],\n",
      "         [ 0.0400,  0.0558,  0.0723],\n",
      "         [ 0.0279,  0.1176, -0.0167],\n",
      "         ...,\n",
      "         [ 0.0861,  0.0346, -0.0521],\n",
      "         [ 0.0877, -0.0426, -0.0508],\n",
      "         [-0.0596, -0.1659, -0.0848]]], device='cuda:0')\n",
      "cnn.bias tensor([ 0.0513,  0.0330,  0.0268,  0.0075, -0.0241, -0.0204,  0.0280, -0.0150,\n",
      "         0.0342, -0.0414, -0.0443,  0.0338,  0.0128,  0.0262, -0.0204,  0.0661,\n",
      "        -0.0131, -0.0077,  0.0262, -0.0245, -0.0107,  0.0104, -0.0585,  0.0555,\n",
      "         0.0170,  0.0333, -0.0456,  0.0456, -0.0560, -0.0181,  0.0253, -0.0076,\n",
      "        -0.0204, -0.0581, -0.0484, -0.0355,  0.0158,  0.0608, -0.0076, -0.0022,\n",
      "        -0.0022,  0.0153,  0.0096,  0.0155,  0.0326, -0.0359,  0.0142, -0.0235,\n",
      "        -0.0039,  0.0130,  0.0783, -0.0121, -0.0500,  0.0168, -0.0455,  0.0312,\n",
      "        -0.0407, -0.0516,  0.0187, -0.0231, -0.0370, -0.0191,  0.0324,  0.0516,\n",
      "         0.0494, -0.0463,  0.0494, -0.0189, -0.0510, -0.0414, -0.0054,  0.0397,\n",
      "        -0.0125, -0.0212, -0.0226,  0.0166, -0.0249,  0.0481, -0.0532, -0.0643,\n",
      "         0.0008, -0.0042, -0.0443,  0.0007, -0.0184, -0.0447,  0.0129,  0.0605,\n",
      "         0.0027, -0.0276, -0.0628,  0.0242,  0.0091,  0.0194,  0.0463, -0.0494,\n",
      "         0.0043, -0.0607, -0.0513, -0.0416, -0.0385, -0.0163, -0.0278,  0.0225,\n",
      "        -0.0378,  0.0131,  0.0365,  0.0079,  0.0004, -0.0598, -0.0365, -0.0141,\n",
      "         0.0163, -0.0544,  0.0244, -0.0179,  0.0117, -0.0273, -0.0038, -0.0364,\n",
      "        -0.0044, -0.0059, -0.0086,  0.0294,  0.0470, -0.0009, -0.0049, -0.0037],\n",
      "       device='cuda:0')\n",
      "cnn2.weight tensor([[[-0.0318,  0.0183,  0.0311, -0.0181,  0.0448],\n",
      "         [-0.0070,  0.0378, -0.0183,  0.0031,  0.0448],\n",
      "         [-0.0665, -0.0450, -0.0983, -0.0976, -0.0564],\n",
      "         ...,\n",
      "         [-0.0302, -0.0036,  0.0064,  0.0354, -0.0178],\n",
      "         [ 0.0103, -0.0808, -0.0446, -0.0926, -0.0939],\n",
      "         [ 0.0928,  0.0345,  0.0789,  0.1023,  0.1086]],\n",
      "\n",
      "        [[ 0.0143,  0.0302, -0.0065, -0.0268,  0.0110],\n",
      "         [-0.0394, -0.0194, -0.0117, -0.0702, -0.1027],\n",
      "         [-0.0330, -0.0844, -0.0590,  0.0079, -0.0211],\n",
      "         ...,\n",
      "         [ 0.0872,  0.0339, -0.0694, -0.0285, -0.0083],\n",
      "         [ 0.0526,  0.0355, -0.0978, -0.0242,  0.0369],\n",
      "         [-0.0156, -0.0137,  0.0121,  0.0313, -0.0093]],\n",
      "\n",
      "        [[ 0.0195, -0.0344, -0.0287, -0.0037,  0.0221],\n",
      "         [ 0.0699,  0.0553,  0.0032, -0.0355, -0.0532],\n",
      "         [ 0.0209,  0.0233, -0.0279,  0.0618,  0.0451],\n",
      "         ...,\n",
      "         [-0.0415, -0.0528, -0.0305, -0.0514, -0.0226],\n",
      "         [ 0.0229,  0.0339,  0.0625,  0.0183,  0.0550],\n",
      "         [ 0.0078,  0.0159, -0.0121,  0.0197,  0.0128]],\n",
      "\n",
      "        ...,\n",
      "\n",
      "        [[-0.0243, -0.0166, -0.0119,  0.0224, -0.0229],\n",
      "         [-0.0331,  0.0210, -0.0063,  0.0498,  0.0469],\n",
      "         [ 0.0171, -0.0185,  0.0314, -0.0568,  0.0222],\n",
      "         ...,\n",
      "         [-0.1139,  0.0218, -0.0229,  0.0263,  0.0459],\n",
      "         [-0.1244,  0.0302,  0.0182,  0.0152,  0.0390],\n",
      "         [ 0.0555,  0.0655,  0.0987, -0.0256,  0.0209]],\n",
      "\n",
      "        [[-0.0344,  0.0143,  0.0206,  0.0511,  0.0391],\n",
      "         [ 0.0903, -0.0031,  0.0337,  0.0140, -0.0386],\n",
      "         [-0.0545,  0.0179, -0.0052,  0.0632,  0.0965],\n",
      "         ...,\n",
      "         [-0.0160,  0.0604, -0.0375, -0.0184, -0.0543],\n",
      "         [-0.1118,  0.1156,  0.0394,  0.0711, -0.0019],\n",
      "         [ 0.0220, -0.0408, -0.0434, -0.0038, -0.0071]],\n",
      "\n",
      "        [[ 0.0181, -0.0231, -0.0355, -0.0328,  0.0065],\n",
      "         [ 0.0844,  0.0165,  0.1156, -0.0059,  0.0279],\n",
      "         [ 0.0026, -0.1461, -0.0788, -0.0444, -0.0289],\n",
      "         ...,\n",
      "         [ 0.0458,  0.0294,  0.0319, -0.0023,  0.0164],\n",
      "         [ 0.0936, -0.0214, -0.1071,  0.0579,  0.0471],\n",
      "         [ 0.0101,  0.0010,  0.0390, -0.1052, -0.0208]]], device='cuda:0')\n",
      "cnn2.bias tensor([-1.3244e-02,  2.0777e-03, -2.4382e-02, -2.4366e-02, -1.0868e-02,\n",
      "        -3.2621e-02,  2.3859e-02,  5.6056e-03,  3.4657e-02,  1.0423e-02,\n",
      "        -2.0517e-03, -1.7985e-02, -3.6093e-03, -3.6512e-02,  2.6282e-02,\n",
      "         7.4911e-03,  3.8474e-02, -5.6823e-03, -2.1858e-02, -3.4500e-02,\n",
      "        -2.1342e-02, -3.5365e-02,  1.8373e-02, -3.8769e-03,  5.3279e-05,\n",
      "        -2.5783e-02,  9.1263e-03, -2.8589e-02,  2.8871e-02,  7.4031e-03,\n",
      "         2.2474e-02, -2.4138e-03,  4.3256e-02, -4.4029e-02, -3.4594e-02,\n",
      "         4.0767e-02,  2.9541e-04,  1.7329e-02,  2.9157e-02,  3.5806e-03,\n",
      "         1.0351e-02, -3.5245e-02,  1.0872e-03,  3.7442e-02, -4.2510e-02,\n",
      "         2.0045e-02, -2.4823e-02,  1.3117e-02,  8.8777e-03,  1.6247e-02,\n",
      "         2.7265e-02,  5.4683e-02,  3.4391e-02, -2.0810e-02, -1.9628e-02,\n",
      "         2.0884e-02, -4.5990e-02,  4.3850e-03, -1.9881e-02,  6.9821e-02,\n",
      "         2.5882e-02,  2.8614e-02,  7.2042e-03,  2.6560e-02, -1.4528e-02,\n",
      "         3.8359e-02, -2.2816e-02,  5.1480e-03,  5.4780e-02,  2.0228e-02,\n",
      "        -6.7578e-03,  9.0111e-03,  2.3520e-02,  3.4960e-02, -1.9012e-02,\n",
      "         7.5674e-04,  1.4748e-02,  2.1047e-03, -2.1278e-02,  6.2630e-03,\n",
      "         5.2539e-03, -1.4638e-03, -2.2961e-02, -1.4265e-02, -3.8110e-02,\n",
      "         4.5748e-02,  5.9057e-03, -3.6055e-02,  4.4449e-02, -2.6133e-02,\n",
      "         2.1269e-02, -7.3375e-03, -1.2162e-02, -2.2394e-02,  2.7531e-02,\n",
      "        -3.7515e-02, -3.2182e-02, -1.8002e-03,  3.5833e-02,  1.7999e-02,\n",
      "        -1.0253e-03, -1.9640e-02, -3.0968e-02,  2.1583e-02, -3.5953e-02,\n",
      "         6.9586e-03, -2.4669e-02, -1.3037e-02, -1.5784e-02, -3.6371e-03,\n",
      "        -2.5439e-02, -1.5080e-02,  1.9060e-02,  2.5633e-02,  2.2528e-02,\n",
      "        -8.5455e-03, -2.7312e-03, -3.1902e-02,  2.6956e-02,  4.0113e-03,\n",
      "         7.8707e-03, -2.0360e-02,  2.4531e-02, -1.7958e-02, -9.8884e-03,\n",
      "         6.7280e-04, -1.7091e-02, -2.3909e-02], device='cuda:0')\n",
      "cnn3.weight tensor([[[-3.6989e-02,  4.8790e-02,  9.3874e-02,  ..., -1.7785e-02,\n",
      "           2.1245e-04, -2.1347e-02],\n",
      "         [ 1.2854e-01,  1.2712e-01,  9.1150e-02,  ...,  4.4781e-02,\n",
      "           3.7932e-02, -3.2865e-02],\n",
      "         [-1.2927e-01, -3.5099e-02, -3.7409e-02,  ..., -1.5779e-02,\n",
      "           6.1434e-02,  8.4452e-02],\n",
      "         ...,\n",
      "         [ 8.9729e-02,  6.3439e-04, -1.5958e-02,  ..., -5.5713e-02,\n",
      "          -4.9090e-03, -3.7404e-02],\n",
      "         [ 3.7830e-02, -2.0281e-03, -4.9451e-02,  ...,  9.3560e-03,\n",
      "           4.6818e-02,  4.6029e-02],\n",
      "         [-1.5668e-01, -4.4307e-02, -3.9017e-02,  ...,  2.7210e-02,\n",
      "           4.2227e-02, -4.3567e-02]],\n",
      "\n",
      "        [[-1.7407e-02, -3.0175e-02, -2.4127e-02,  ...,  4.9692e-02,\n",
      "           7.7124e-02,  1.5018e-02],\n",
      "         [-3.3600e-02,  5.8506e-03, -5.6031e-02,  ..., -3.7822e-04,\n",
      "          -3.6005e-02,  4.0839e-02],\n",
      "         [-7.4274e-02, -2.4918e-02, -6.0531e-02,  ..., -3.5317e-03,\n",
      "          -7.3728e-02, -7.6746e-02],\n",
      "         ...,\n",
      "         [ 5.3905e-02, -3.0507e-02,  6.2952e-02,  ...,  7.1469e-02,\n",
      "           3.7952e-02, -5.9351e-03],\n",
      "         [ 2.4081e-01,  7.4934e-02,  9.0108e-03,  ..., -8.5925e-02,\n",
      "          -1.1984e-01, -1.0355e-01],\n",
      "         [ 6.9280e-02,  7.2147e-02,  6.0665e-02,  ...,  2.9839e-02,\n",
      "           4.6020e-02,  1.8223e-02]],\n",
      "\n",
      "        [[ 7.6342e-02,  4.5170e-03,  1.3780e-02,  ..., -2.1339e-02,\n",
      "           1.3260e-02, -1.9278e-02],\n",
      "         [ 2.2006e-02, -4.1206e-02, -2.3034e-02,  ..., -2.4263e-02,\n",
      "          -9.9688e-02, -1.1572e-01],\n",
      "         [-4.0045e-02, -9.2229e-02, -5.0408e-03,  ...,  9.6616e-02,\n",
      "           4.2477e-02,  2.9903e-02],\n",
      "         ...,\n",
      "         [-5.2730e-02,  1.1658e-01, -3.8962e-03,  ..., -8.8480e-03,\n",
      "          -6.1350e-02, -4.3045e-02],\n",
      "         [-2.6720e-02,  9.8614e-02,  1.9297e-02,  ...,  2.2329e-02,\n",
      "           6.0852e-02,  9.3348e-02],\n",
      "         [-6.2518e-02, -3.6124e-03, -4.1088e-02,  ..., -3.7786e-02,\n",
      "          -7.6147e-03,  7.5696e-02]],\n",
      "\n",
      "        ...,\n",
      "\n",
      "        [[-2.5701e-03, -1.1406e-02,  1.1826e-02,  ...,  1.5482e-02,\n",
      "           6.5769e-03, -4.4138e-02],\n",
      "         [ 6.1141e-02,  7.5911e-02,  7.4112e-03,  ...,  1.1288e-02,\n",
      "          -3.6279e-02, -6.7879e-02],\n",
      "         [ 1.2143e-02,  1.3909e-02,  6.1276e-02,  ...,  1.1971e-01,\n",
      "           4.9484e-02,  1.0784e-01],\n",
      "         ...,\n",
      "         [ 5.0695e-02, -1.4902e-02,  6.7345e-02,  ...,  1.3925e-02,\n",
      "          -2.9021e-02, -5.4555e-02],\n",
      "         [ 1.3550e-02, -1.0614e-01, -1.4234e-02,  ...,  2.5302e-02,\n",
      "           1.9526e-03,  8.0860e-03],\n",
      "         [ 8.5012e-02,  1.4103e-02,  5.5747e-02,  ..., -4.1914e-02,\n",
      "          -5.0659e-02, -5.1654e-03]],\n",
      "\n",
      "        [[-7.2731e-02, -3.5352e-02, -3.5510e-02,  ...,  1.3917e-02,\n",
      "           2.4217e-02, -6.1512e-03],\n",
      "         [ 3.9380e-02,  6.3199e-02,  4.6508e-02,  ..., -1.9193e-02,\n",
      "          -2.5775e-02, -6.2563e-03],\n",
      "         [-5.9250e-02,  4.5948e-02,  3.5791e-02,  ...,  2.9343e-03,\n",
      "           6.5668e-02,  6.2203e-02],\n",
      "         ...,\n",
      "         [ 2.1704e-02,  1.5744e-02,  2.7013e-02,  ...,  4.0923e-02,\n",
      "           4.7076e-02,  1.1032e-02],\n",
      "         [ 4.0480e-03, -1.0413e-02, -3.1330e-02,  ...,  7.9623e-02,\n",
      "           5.5747e-02, -1.0462e-03],\n",
      "         [-5.3619e-02,  3.0656e-02,  3.1077e-02,  ..., -1.2423e-02,\n",
      "          -5.3909e-02, -8.5369e-02]],\n",
      "\n",
      "        [[-6.3733e-02, -5.5946e-02,  2.4500e-02,  ...,  4.4722e-03,\n",
      "          -3.9474e-02,  2.6453e-02],\n",
      "         [-4.7801e-02, -2.5949e-02,  6.9760e-03,  ...,  5.7189e-02,\n",
      "           1.4963e-02,  2.0500e-02],\n",
      "         [-7.9749e-02, -4.7929e-02, -1.0676e-01,  ..., -1.8260e-02,\n",
      "           1.2697e-02,  1.7996e-02],\n",
      "         ...,\n",
      "         [-1.0658e-02, -6.8496e-02,  1.4427e-02,  ..., -1.9275e-02,\n",
      "          -6.5921e-02, -1.7384e-02],\n",
      "         [ 1.4341e-01, -4.1880e-02, -5.1750e-02,  ..., -4.1602e-02,\n",
      "          -7.3362e-02, -1.1591e-01],\n",
      "         [ 4.4922e-02,  9.7738e-02, -4.2886e-03,  ...,  8.9829e-02,\n",
      "           7.7987e-02,  1.1021e-01]]], device='cuda:0')\n",
      "cnn3.bias tensor([ 0.0128, -0.0040, -0.0188, -0.0003, -0.0178,  0.0052, -0.0329, -0.0197,\n",
      "         0.0050, -0.0033, -0.0043, -0.0157, -0.0208, -0.0036, -0.0139,  0.0151,\n",
      "         0.0160, -0.0252,  0.0024, -0.0017, -0.0076, -0.0123, -0.0182,  0.0177,\n",
      "         0.0226, -0.0266,  0.0016, -0.0057, -0.0395,  0.0020,  0.0109, -0.0239,\n",
      "         0.0160,  0.0233, -0.0108,  0.0420,  0.0104, -0.0227, -0.0200,  0.0036,\n",
      "        -0.0157,  0.0153,  0.0204,  0.0423, -0.0243, -0.0048, -0.0137,  0.0070,\n",
      "        -0.0013, -0.0242, -0.0236, -0.0061,  0.0027,  0.0044, -0.0254, -0.0180,\n",
      "         0.0158,  0.0236, -0.0293, -0.0454,  0.0420, -0.0114,  0.0005, -0.0022,\n",
      "         0.0114,  0.0093,  0.0412,  0.0027, -0.0203,  0.0254, -0.0129,  0.0327,\n",
      "         0.0276,  0.0193,  0.0006, -0.0117,  0.0207,  0.0388,  0.0383,  0.0041,\n",
      "         0.0240, -0.0221,  0.0076, -0.0273,  0.0277,  0.0082,  0.0215,  0.0308,\n",
      "        -0.0152, -0.0044,  0.0080,  0.0286,  0.0051,  0.0216, -0.0154, -0.0175,\n",
      "         0.0197,  0.0077, -0.0106,  0.0092,  0.0147, -0.0043,  0.0009,  0.0301,\n",
      "        -0.0334,  0.0064,  0.0086, -0.0119, -0.0067,  0.0066, -0.0149, -0.0032,\n",
      "        -0.0283,  0.0362,  0.0284,  0.0266, -0.0040,  0.0219,  0.0154, -0.0038,\n",
      "        -0.0333,  0.0002,  0.0324,  0.0312,  0.0194, -0.0014,  0.0344,  0.0062],\n",
      "       device='cuda:0')\n",
      "batchnorm.weight tensor([1.0657, 0.9978, 0.9747, 1.0886, 1.0153, 1.0530, 0.9813, 1.0508, 1.0212,\n",
      "        1.0437, 0.9247, 0.9602, 1.0120, 0.9991, 0.9410, 1.0668, 1.0187, 1.0457,\n",
      "        1.0050, 1.0056, 0.9537, 1.0650, 0.9947, 0.9591, 0.9812, 1.0535, 1.0624,\n",
      "        0.9760, 1.0200, 1.0366, 0.9969, 1.0531, 0.9290, 1.0014, 0.9669, 0.9206,\n",
      "        1.0034, 1.0651, 1.0540, 1.0254, 0.9798, 1.0321, 1.0197, 0.9839, 1.0765,\n",
      "        0.9966, 1.0445, 1.0252, 0.9419, 1.0389, 1.1064, 1.0244, 0.9955, 1.0920,\n",
      "        1.0132, 1.0481, 0.9919, 1.0968, 1.0625, 1.0044, 1.0711, 1.0757, 1.0108,\n",
      "        0.9056, 0.9420, 1.0190, 0.9794, 0.9930, 1.0000, 0.9480, 0.9984, 1.0056,\n",
      "        1.0970, 1.0050, 1.0123, 1.0172, 1.0546, 0.9584, 1.0390, 1.0059, 0.9791,\n",
      "        1.0394, 1.0025, 1.0748, 1.0313, 0.9842, 0.9876, 0.9711, 1.0816, 1.0115,\n",
      "        1.0828, 1.1012, 1.0047, 1.0212, 1.0405, 1.0103, 1.0164, 1.0276, 1.0750,\n",
      "        0.9745, 1.0224, 1.0823, 0.9980, 1.0513, 1.0207, 1.0532, 1.0799, 0.9778,\n",
      "        1.0660, 0.9816, 0.9971, 1.0773, 0.9978, 0.9932, 0.9929, 1.0445, 1.0147,\n",
      "        1.0431, 0.9804, 1.0089, 0.9953, 1.0692, 1.0186, 1.0898, 1.0494, 1.0503,\n",
      "        0.9887, 0.9847, 1.0242, 1.0522, 1.0609, 1.0273, 1.0582, 1.0435, 1.0011,\n",
      "        1.0810, 0.9923, 1.0444, 0.9953, 1.0156, 1.1443, 0.9981, 1.0521, 1.0219,\n",
      "        1.0500, 1.0702, 1.0302, 1.0771, 1.0474, 1.0122, 1.0925, 1.0950, 1.0520,\n",
      "        1.0721, 1.0116, 0.9612, 1.0298, 1.0203, 1.0058, 1.0507, 1.0030, 1.0640,\n",
      "        1.0561, 1.0379, 1.0680, 0.9655, 1.0287, 1.0581, 1.0453, 1.0997, 0.9854,\n",
      "        1.0156, 1.0779, 1.0383, 0.9780, 1.0588, 0.9560, 1.0399, 0.9841, 1.0507,\n",
      "        1.0827, 1.0227, 0.9871, 1.0931, 1.0960, 1.0587, 1.0331, 1.0942, 1.0496,\n",
      "        1.0194, 0.9633, 1.0331, 1.0512, 0.9566, 1.0448, 1.0175, 0.9709, 1.0064,\n",
      "        0.9955, 0.9853, 1.0605, 1.0112, 1.0449, 1.0227, 1.0623, 1.0667, 0.9740,\n",
      "        1.0664, 1.0969, 0.9656, 1.0412, 1.1012, 1.0520, 1.0586, 1.1007, 1.0989,\n",
      "        1.0761, 1.0496, 1.0432, 1.0283, 1.0351, 1.0810, 0.9951, 1.0040, 0.9936,\n",
      "        1.0355, 1.1161, 0.9960, 1.0990, 1.0475, 1.0166, 1.0352, 1.0921, 1.0560,\n",
      "        1.0143, 1.0576, 1.0343, 1.0461, 1.0106, 0.9877, 1.0413, 0.9960, 1.0405,\n",
      "        1.0614, 1.0226, 1.0109, 1.0502, 1.0348, 1.0091, 1.1198, 1.0249, 1.0233,\n",
      "        1.0851, 1.0675, 1.0645, 1.0221, 1.0399, 1.0525, 1.0589, 1.0460, 1.0455,\n",
      "        1.0517, 1.0821, 1.0817, 1.0909, 1.0966, 1.0007, 1.0081, 1.0792, 1.0566,\n",
      "        1.0943, 1.0167, 1.0554, 1.0412, 1.0298, 1.0912, 1.0747, 1.0050, 1.1375,\n",
      "        0.9805, 1.0685, 1.0796, 1.0628, 1.0621, 1.0607, 1.1045, 1.0669, 1.0652,\n",
      "        1.0108, 1.0179, 1.1389, 1.0684, 0.9914, 1.0528, 1.0380, 1.0419, 1.1037,\n",
      "        1.0121, 1.0763, 1.0386, 1.0689, 1.0837, 0.9955, 1.0358, 1.0263, 1.0334,\n",
      "        1.1200, 1.0776, 1.0613, 1.0050, 1.0479, 1.0582, 1.0760, 1.0242, 1.0735,\n",
      "        1.0577, 1.0503, 1.0286, 1.0494, 1.0508, 1.0825, 1.0880, 1.0574, 1.0467,\n",
      "        1.0323, 1.1011, 1.0974, 1.0632, 1.0525, 1.0301, 1.0327, 1.0541, 1.0218,\n",
      "        1.0152, 1.0391, 1.0741, 1.1607, 1.0244, 1.0301, 1.0409, 1.0623, 1.0621,\n",
      "        1.0922, 1.0761, 1.0304, 1.1139, 1.0080, 1.0496, 0.9933, 1.0003, 1.0369,\n",
      "        1.0377, 1.0678, 1.0789, 1.0204, 1.0214, 1.0473, 1.0732, 1.0866, 0.9948,\n",
      "        1.0173, 1.1149, 1.0504, 1.0332, 1.0184, 1.0427, 1.0238, 1.0498, 0.9576,\n",
      "        1.1056, 0.9817, 1.0328, 1.0540, 1.0741, 0.9831, 1.0432, 0.9967, 1.0656,\n",
      "        1.0152, 1.0617, 1.0832, 1.0235, 0.9984, 1.0420], device='cuda:0')\n",
      "batchnorm.bias tensor([ 1.3981e-03, -5.7244e-02, -3.9748e-02, -1.7717e-02, -3.3357e-02,\n",
      "        -3.6097e-02, -5.6789e-02, -3.0049e-02, -9.2052e-03, -1.4771e-02,\n",
      "        -1.2035e-01, -1.3942e-01, -3.9108e-02, -6.5327e-02, -1.4421e-01,\n",
      "        -4.2486e-02, -6.1662e-02, -5.2967e-02, -5.5027e-02, -1.1402e-01,\n",
      "        -1.3309e-01,  1.5236e-02, -7.4785e-02, -1.2135e-01, -6.9211e-02,\n",
      "        -3.1078e-02, -2.3252e-02, -9.8405e-02, -6.2037e-02, -3.7820e-02,\n",
      "        -9.5344e-02,  1.7053e-02, -1.1764e-01, -3.1487e-02, -4.3656e-02,\n",
      "        -9.5883e-02, -9.1475e-02, -7.4399e-02, -7.8777e-02, -6.6995e-02,\n",
      "        -6.4721e-02, -5.6513e-02, -7.6740e-02, -5.9069e-02, -5.9974e-02,\n",
      "        -5.4304e-02, -3.7699e-02, -5.4137e-02, -7.4692e-02, -3.8921e-02,\n",
      "        -8.1422e-02, -5.3225e-02, -5.4738e-02, -1.7083e-02, -5.8146e-02,\n",
      "         2.2791e-02, -6.5398e-02, -5.9816e-02, -2.1263e-02, -4.3496e-02,\n",
      "         8.4713e-04,  5.1059e-03, -5.1774e-02, -7.7106e-02, -1.5340e-01,\n",
      "        -3.6897e-02, -4.7787e-02, -5.6647e-02, -1.8664e-02, -1.9977e-01,\n",
      "        -4.8322e-02, -3.4685e-02, -1.0800e-03, -8.1804e-02, -5.8265e-02,\n",
      "        -4.4813e-02, -2.9903e-03, -7.4721e-02, -2.0792e-02, -5.9170e-02,\n",
      "        -7.6771e-02, -5.3953e-02, -7.0725e-02, -5.7437e-02, -2.2141e-02,\n",
      "        -1.1674e-01, -6.1966e-02, -7.5047e-02, -2.3036e-02, -3.3385e-02,\n",
      "        -7.0384e-02, -4.6084e-02, -7.0809e-02, -6.9927e-02, -1.7657e-02,\n",
      "        -2.7316e-02, -1.5466e-02, -9.3980e-03, -3.0422e-02, -1.0414e-01,\n",
      "        -5.5665e-02, -5.1950e-02, -6.0135e-02, -6.6759e-02, -4.3446e-02,\n",
      "        -1.7311e-02, -7.9175e-02, -9.5264e-02, -9.3134e-03, -5.7158e-02,\n",
      "        -5.8537e-02, -1.8184e-02, -8.6437e-02, -8.8719e-02, -2.3344e-02,\n",
      "        -5.1834e-02,  9.5525e-03, -4.7495e-02, -9.5922e-02, -3.8629e-02,\n",
      "        -4.1134e-02, -1.0258e-02, -4.3086e-02,  9.5943e-03, -1.0551e-02,\n",
      "        -2.4094e-02, -5.8712e-02, -5.4078e-02, -3.6934e-02, -2.0495e-03,\n",
      "        -5.0394e-02, -3.6521e-02, -8.8841e-02, -6.4939e-02, -7.8288e-02,\n",
      "         4.5627e-03, -2.7090e-02, -3.7271e-02, -5.1118e-02, -4.7455e-02,\n",
      "        -2.7589e-03, -5.1632e-02, -4.0406e-02, -5.1028e-02, -2.9702e-02,\n",
      "        -1.7091e-02, -4.5157e-02, -3.6972e-03, -3.4857e-02, -6.1604e-02,\n",
      "        -4.2435e-02, -9.6190e-02, -6.3504e-02, -1.7456e-02, -2.6675e-02,\n",
      "        -8.6315e-02, -2.6244e-02, -6.8215e-03, -5.1423e-02,  6.2006e-04,\n",
      "        -6.5023e-02,  2.0404e-03, -6.4933e-02, -1.3851e-02, -1.1516e-01,\n",
      "        -1.2458e-01, -2.9018e-02, -3.1828e-02, -3.8264e-05, -3.7120e-02,\n",
      "        -1.7827e-02, -4.3560e-02, -5.1366e-02, -4.3446e-02, -1.3576e-01,\n",
      "        -2.9519e-02, -6.5547e-02, -4.7977e-02, -5.6769e-02, -5.5756e-02,\n",
      "         1.0191e-02, -4.7296e-02, -6.5243e-02, -3.1577e-02, -3.8527e-02,\n",
      "        -1.3665e-02, -6.7140e-03, -4.5021e-02, -2.2916e-02, -4.8413e-02,\n",
      "        -8.0248e-02, -5.7342e-02, -9.5892e-02, -1.0182e-01, -1.5282e-02,\n",
      "        -2.0074e-03, -9.1920e-02, -2.7365e-02, -5.8861e-02, -3.9855e-02,\n",
      "        -4.1000e-02, -7.2331e-02, -2.2141e-02, -2.9003e-02, -6.0902e-02,\n",
      "         2.2320e-02, -4.8714e-02, -3.7506e-02, -8.1691e-02, -6.3155e-02,\n",
      "        -1.6953e-02,  5.3939e-03, -3.1322e-02, -1.3356e-02,  1.1570e-03,\n",
      "         1.8507e-02,  1.5500e-03, -5.7856e-02, -5.5235e-02, -2.8161e-02,\n",
      "        -2.6286e-03, -2.2235e-03, -5.8004e-02, -1.9994e-02, -5.0867e-02,\n",
      "        -6.1695e-02,  1.3528e-02, -4.7215e-02,  7.3788e-03, -5.4784e-02,\n",
      "        -4.3849e-02, -5.8159e-02,  4.2397e-02, -2.5326e-02, -4.6474e-02,\n",
      "         7.2922e-03, -4.4818e-02, -5.2902e-02, -3.8730e-02, -5.5959e-02,\n",
      "        -2.0067e-02, -6.6646e-02, -8.7068e-02, -1.3901e-02, -2.7158e-02,\n",
      "        -5.6590e-02, -3.2537e-02, -2.5861e-02, -6.6838e-02,  1.4766e-02,\n",
      "        -7.3565e-02, -1.0210e-01,  3.7951e-02, -9.0390e-02, -7.2539e-02,\n",
      "        -1.7549e-02, -1.7977e-02, -1.7965e-02,  3.5714e-03,  7.6464e-03,\n",
      "        -2.9362e-02, -2.4993e-02, -1.7093e-02, -7.8498e-02, -2.5591e-02,\n",
      "        -1.4865e-02, -3.1643e-02, -1.3598e-02, -5.9794e-03, -3.6948e-02,\n",
      "         1.5124e-03, -4.2863e-02,  1.3349e-02, -1.4123e-02, -8.4274e-02,\n",
      "        -4.5437e-02, -3.1654e-02, -3.8765e-02, -6.1484e-02, -2.7334e-02,\n",
      "         2.5687e-02,  1.9707e-03, -1.8423e-02, -3.9557e-02, -2.5097e-02,\n",
      "        -6.6802e-03, -8.9879e-02, -1.0478e-02, -3.6478e-02, -4.1792e-02,\n",
      "        -1.3700e-02, -1.0225e-01, -5.4051e-02, -1.6465e-02, -2.5563e-02,\n",
      "        -2.5084e-02, -6.6004e-02, -5.1264e-02, -6.0250e-03, -2.8569e-02,\n",
      "        -5.0280e-02,  6.2301e-03, -9.7347e-02, -6.6970e-02, -8.2798e-02,\n",
      "        -1.7565e-03, -1.4600e-02, -2.6265e-02, -4.2853e-02, -3.3131e-02,\n",
      "        -5.8112e-02, -3.6879e-02, -1.3320e-02, -5.4222e-02, -1.9931e-02,\n",
      "        -2.7591e-03, -2.6678e-03, -2.0297e-02, -5.0562e-02, -6.5727e-03,\n",
      "        -3.8994e-02, -2.6403e-02, -6.4648e-02, -7.6823e-02, -6.5064e-02,\n",
      "        -7.6768e-02, -3.3450e-02,  6.0913e-04, -5.1502e-02, -4.9157e-02,\n",
      "        -4.7469e-02,  1.8788e-02, -3.4416e-02, -4.0555e-02, -5.3233e-02,\n",
      "        -1.9848e-03, -1.2823e-02, -2.2617e-02, -3.8914e-02, -1.4442e-02,\n",
      "        -1.8522e-02,  2.2445e-02,  4.1178e-02, -1.7620e-02, -1.5176e-02,\n",
      "        -1.0581e-02, -6.9363e-02, -9.8484e-03, -4.1369e-02, -7.4880e-02,\n",
      "        -1.9916e-02, -1.4590e-03, -5.2463e-02, -4.2017e-02, -4.1781e-02,\n",
      "        -5.8191e-02, -5.1750e-02,  2.2966e-02,  4.3381e-03, -4.7122e-02,\n",
      "        -2.9267e-02, -3.1040e-02, -4.5585e-02, -4.7774e-02, -3.3944e-02,\n",
      "        -5.1650e-02, -2.9268e-02, -6.0612e-02, -1.4898e-01, -2.2144e-02,\n",
      "        -1.0396e-01, -5.9976e-03, -3.4486e-02, -3.8509e-05, -5.8925e-02,\n",
      "        -4.1871e-02, -5.2906e-02,  8.8654e-03, -2.0771e-02, -5.2982e-02,\n",
      "         1.0679e-02, -4.6871e-02, -2.9345e-02, -5.9589e-02], device='cuda:0')\n",
      "lstm.weight_ih_l0 tensor([[ 0.0396,  0.0499,  0.0391,  ...,  0.0042,  0.0651,  0.0571],\n",
      "        [-0.0580, -0.0611, -0.1119,  ...,  0.0576, -0.0488, -0.0788],\n",
      "        [ 0.0266, -0.0635,  0.0019,  ..., -0.0026,  0.0033, -0.0344],\n",
      "        ...,\n",
      "        [-0.0863, -0.0590, -0.1194,  ..., -0.1150,  0.0211, -0.0471],\n",
      "        [-0.1026,  0.1099, -0.0312,  ...,  0.0645,  0.0334,  0.0727],\n",
      "        [-0.0128,  0.0237,  0.0286,  ..., -0.0381, -0.1029, -0.0186]],\n",
      "       device='cuda:0')\n",
      "lstm.weight_hh_l0 tensor([[ 0.0250, -0.0482, -0.0354,  ..., -0.0074,  0.0135, -0.0359],\n",
      "        [-0.0097, -0.1183, -0.0653,  ..., -0.0250, -0.0648,  0.0554],\n",
      "        [ 0.0096,  0.0752, -0.0470,  ...,  0.0155,  0.0581, -0.0641],\n",
      "        ...,\n",
      "        [ 0.0252,  0.0228, -0.0098,  ..., -0.0216,  0.0618,  0.0371],\n",
      "        [-0.0242, -0.0465,  0.0344,  ...,  0.0294,  0.0251,  0.0348],\n",
      "        [-0.0176,  0.0252,  0.0193,  ..., -0.0931, -0.0055,  0.0078]],\n",
      "       device='cuda:0')\n",
      "lstm.bias_ih_l0 tensor([ 0.0202, -0.0681, -0.0270,  ...,  0.0005,  0.0273, -0.0611],\n",
      "       device='cuda:0')\n",
      "lstm.bias_hh_l0 tensor([ 0.0263, -0.0204, -0.0122,  ..., -0.0767, -0.0456, -0.0038],\n",
      "       device='cuda:0')\n",
      "lstm.weight_ih_l1 tensor([[ 0.0418, -0.0381, -0.0457,  ...,  0.0187,  0.0088,  0.0317],\n",
      "        [-0.0258, -0.0104,  0.0041,  ..., -0.1050, -0.0620, -0.0067],\n",
      "        [-0.0434,  0.0797,  0.0502,  ..., -0.0458,  0.0005,  0.0361],\n",
      "        ...,\n",
      "        [-0.0392,  0.1401, -0.0400,  ..., -0.0142, -0.0321, -0.0065],\n",
      "        [-0.0008, -0.0071, -0.0124,  ..., -0.0179,  0.0097,  0.0576],\n",
      "        [-0.0695, -0.0082,  0.0683,  ..., -0.0280, -0.0114,  0.0747]],\n",
      "       device='cuda:0')\n",
      "lstm.weight_hh_l1 tensor([[-0.0394, -0.0017, -0.0503,  ...,  0.0796,  0.0049,  0.0011],\n",
      "        [-0.0408, -0.0017,  0.0228,  ...,  0.0495,  0.0013, -0.0756],\n",
      "        [ 0.0144,  0.0302, -0.0348,  ...,  0.0122, -0.0493,  0.0063],\n",
      "        ...,\n",
      "        [-0.0261,  0.0125,  0.0024,  ...,  0.0797,  0.0097, -0.0819],\n",
      "        [-0.0026,  0.0310, -0.0090,  ...,  0.0013, -0.0412, -0.0070],\n",
      "        [-0.0008,  0.0518,  0.0471,  ...,  0.0186,  0.0196, -0.0025]],\n",
      "       device='cuda:0')\n",
      "lstm.bias_ih_l1 tensor([-0.0010,  0.0271,  0.0096,  ..., -0.0204, -0.0144, -0.0231],\n",
      "       device='cuda:0')\n",
      "lstm.bias_hh_l1 tensor([ 0.0270, -0.0420, -0.0097,  ..., -0.0210, -0.0719, -0.0024],\n",
      "       device='cuda:0')\n",
      "linear.weight tensor([[-0.1167, -0.0774,  0.0050,  ...,  0.0791,  0.0053, -0.0101],\n",
      "        [ 0.0434,  0.0589, -0.0576,  ..., -0.0854, -0.0335,  0.0778],\n",
      "        [ 0.0238,  0.0382,  0.0569,  ...,  0.0596,  0.0247,  0.0038],\n",
      "        ...,\n",
      "        [ 0.0709,  0.1790, -0.0412,  ...,  0.0503, -0.0162, -0.1196],\n",
      "        [ 0.1206,  0.1690, -0.0607,  ...,  0.0036,  0.0057, -0.1035],\n",
      "        [ 0.0660,  0.1818, -0.0469,  ...,  0.0227, -0.0106, -0.1202]],\n",
      "       device='cuda:0')\n",
      "linear.bias tensor([-0.0041,  0.0403,  0.0417,  0.0573, -0.0157, -0.0712, -0.0762],\n",
      "       device='cuda:0')\n"
     ]
    }
   ],
   "source": [
    "for name, param in model.named_parameters():\n",
    "    if param.requires_grad:\n",
    "        print(name, param.data)"
   ]
  },
  {
   "cell_type": "code",
   "execution_count": 22,
   "id": "cc9b6fd0",
   "metadata": {},
   "outputs": [],
   "source": [
    "model_path = f'../models/wav2vecbase/holdout{holdout}.pth'\n",
    "\n",
    "torch.save({'epoch':epochs,\n",
    "            'model_state_dict':model.state_dict(),\n",
    "            'optimizer_state_dict':optimizer.state_dict()},\n",
    "            model_path)"
   ]
  }
 ],
 "metadata": {
  "kernelspec": {
   "display_name": "Python 3",
   "language": "python",
   "name": "python3"
  },
  "language_info": {
   "codemirror_mode": {
    "name": "ipython",
    "version": 3
   },
   "file_extension": ".py",
   "mimetype": "text/x-python",
   "name": "python",
   "nbconvert_exporter": "python",
   "pygments_lexer": "ipython3",
   "version": "3.7.12"
  }
 },
 "nbformat": 4,
 "nbformat_minor": 5
}
