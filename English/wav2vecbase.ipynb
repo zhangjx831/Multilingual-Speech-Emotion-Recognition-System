{
 "cells": [
  {
   "cell_type": "markdown",
   "id": "83f52390",
   "metadata": {},
   "source": [
    "## Prepare Data"
   ]
  },
  {
   "cell_type": "code",
   "execution_count": 1,
   "id": "fcff203e",
   "metadata": {},
   "outputs": [],
   "source": [
    "import re\n",
    "import os\n",
    "import pandas as pd\n",
    "\n",
    "regex = re.compile(r'\\[.+\\]\\n', re.IGNORECASE)\n",
    "file_paths, file_names, sessions, emotions = [], [], [], []\n",
    "emotion_map = {'neu': 'neutral', 'ang': 'angry', 'hap': 'happy', 'exc': 'happy', 'sad': 'sad'}\n",
    "\n",
    "for session in range(1, 6):\n",
    "    emo_evaluation_dir = f'/home/jz3313/IEMOCAP_full_release/Session{session}/dialog/EmoEvaluation/'\n",
    "    file_dir = f'/home/jz3313/IEMOCAP_full_release/Session{session}/sentences/wav/'\n",
    "    evaluation_files = [l for l in os.listdir(emo_evaluation_dir) if 'Ses' in l]\n",
    "    for file in evaluation_files:\n",
    "        with open(emo_evaluation_dir + file) as f:\n",
    "            content = f.read()\n",
    "        lines = re.findall(regex, content)\n",
    "        for line in lines[1:]:  # the first line is a header\n",
    "            start_end_time, wav_file_name, emotion, val_act_dom = line.strip().split('\\t')\n",
    "            dir_name = '_'.join(wav_file_name.split('_')[:-1])\n",
    "            if emotion in emotion_map:\n",
    "                file_paths.append(file_dir+dir_name+'/'+wav_file_name+'.wav')\n",
    "                file_names.append(wav_file_name)\n",
    "                sessions.append(session)\n",
    "                emotions.append(emotion_map[emotion])"
   ]
  },
  {
   "cell_type": "code",
   "execution_count": 2,
   "id": "08cd075c",
   "metadata": {},
   "outputs": [],
   "source": [
    "file = pd.DataFrame({'path':file_paths, 'name': file_names, 'session': sessions, 'emotion': emotions})"
   ]
  },
  {
   "cell_type": "code",
   "execution_count": 3,
   "id": "277cf819",
   "metadata": {},
   "outputs": [
    {
     "data": {
      "text/html": [
       "<div>\n",
       "<style scoped>\n",
       "    .dataframe tbody tr th:only-of-type {\n",
       "        vertical-align: middle;\n",
       "    }\n",
       "\n",
       "    .dataframe tbody tr th {\n",
       "        vertical-align: top;\n",
       "    }\n",
       "\n",
       "    .dataframe thead th {\n",
       "        text-align: right;\n",
       "    }\n",
       "</style>\n",
       "<table border=\"1\" class=\"dataframe\">\n",
       "  <thead>\n",
       "    <tr style=\"text-align: right;\">\n",
       "      <th></th>\n",
       "      <th>path</th>\n",
       "      <th>name</th>\n",
       "      <th>session</th>\n",
       "      <th>emotion</th>\n",
       "    </tr>\n",
       "  </thead>\n",
       "  <tbody>\n",
       "    <tr>\n",
       "      <th>0</th>\n",
       "      <td>/home/jz3313/IEMOCAP_full_release/Session1/sen...</td>\n",
       "      <td>Ses01F_impro02_F000</td>\n",
       "      <td>1</td>\n",
       "      <td>sad</td>\n",
       "    </tr>\n",
       "    <tr>\n",
       "      <th>1</th>\n",
       "      <td>/home/jz3313/IEMOCAP_full_release/Session1/sen...</td>\n",
       "      <td>Ses01F_impro02_F001</td>\n",
       "      <td>1</td>\n",
       "      <td>sad</td>\n",
       "    </tr>\n",
       "    <tr>\n",
       "      <th>2</th>\n",
       "      <td>/home/jz3313/IEMOCAP_full_release/Session1/sen...</td>\n",
       "      <td>Ses01F_impro02_F002</td>\n",
       "      <td>1</td>\n",
       "      <td>sad</td>\n",
       "    </tr>\n",
       "    <tr>\n",
       "      <th>3</th>\n",
       "      <td>/home/jz3313/IEMOCAP_full_release/Session1/sen...</td>\n",
       "      <td>Ses01F_impro02_F003</td>\n",
       "      <td>1</td>\n",
       "      <td>neutral</td>\n",
       "    </tr>\n",
       "    <tr>\n",
       "      <th>4</th>\n",
       "      <td>/home/jz3313/IEMOCAP_full_release/Session1/sen...</td>\n",
       "      <td>Ses01F_impro02_F004</td>\n",
       "      <td>1</td>\n",
       "      <td>sad</td>\n",
       "    </tr>\n",
       "  </tbody>\n",
       "</table>\n",
       "</div>"
      ],
      "text/plain": [
       "                                                path                 name  \\\n",
       "0  /home/jz3313/IEMOCAP_full_release/Session1/sen...  Ses01F_impro02_F000   \n",
       "1  /home/jz3313/IEMOCAP_full_release/Session1/sen...  Ses01F_impro02_F001   \n",
       "2  /home/jz3313/IEMOCAP_full_release/Session1/sen...  Ses01F_impro02_F002   \n",
       "3  /home/jz3313/IEMOCAP_full_release/Session1/sen...  Ses01F_impro02_F003   \n",
       "4  /home/jz3313/IEMOCAP_full_release/Session1/sen...  Ses01F_impro02_F004   \n",
       "\n",
       "   session  emotion  \n",
       "0        1      sad  \n",
       "1        1      sad  \n",
       "2        1      sad  \n",
       "3        1  neutral  \n",
       "4        1      sad  "
      ]
     },
     "execution_count": 3,
     "metadata": {},
     "output_type": "execute_result"
    }
   ],
   "source": [
    "file.head()"
   ]
  },
  {
   "cell_type": "code",
   "execution_count": 4,
   "id": "42fa07c1",
   "metadata": {},
   "outputs": [
    {
     "name": "stdout",
     "output_type": "stream",
     "text": [
      "1.12.1+cu113\n",
      "0.12.1+cu113\n",
      "cuda\n"
     ]
    }
   ],
   "source": [
    "import torch\n",
    "import torchaudio\n",
    "\n",
    "print(torch.__version__)\n",
    "print(torchaudio.__version__)\n",
    "\n",
    "torch.random.manual_seed(0)\n",
    "device = torch.device(\"cuda\" if torch.cuda.is_available() else \"cpu\")\n",
    "\n",
    "print(device)"
   ]
  },
  {
   "cell_type": "code",
   "execution_count": 5,
   "id": "b67c39ab",
   "metadata": {},
   "outputs": [
    {
     "name": "stdout",
     "output_type": "stream",
     "text": [
      "<class 'torchaudio.models.wav2vec2.model.Wav2Vec2Model'>\n"
     ]
    }
   ],
   "source": [
    "bundle = torchaudio.pipelines.WAV2VEC2_BASE\n",
    "extractor = bundle.get_model()\n",
    "print(extractor.__class__)"
   ]
  },
  {
   "cell_type": "code",
   "execution_count": null,
   "id": "0d91d0a2",
   "metadata": {},
   "outputs": [],
   "source": [
    "from tqdm import tqdm\n",
    "\n",
    "for _, row in tqdm(file.iterrows()):\n",
    "    path, name, session, emotion = row[0], row[1], row[2], row[3]\n",
    "    wave, sr = torchaudio.load(path)\n",
    "    if sr != bundle.sample_rate:\n",
    "        wave = torchaudio.functional.resample(wave, sr, bundle.sample_rate)\n",
    "    with torch.inference_mode():\n",
    "        feature, _ = extractor.extract_features(wave)\n",
    "    feature = [f[0] for f in feature]\n",
    "    feature = torch.stack(feature)\n",
    "    save_path = f'../data/wav2vecbase/Session{session}/{name}.pt'\n",
    "    torch.save(feature, save_path)"
   ]
  },
  {
   "cell_type": "markdown",
   "id": "8a7be560",
   "metadata": {},
   "source": [
    "## Load Data"
   ]
  },
  {
   "cell_type": "code",
   "execution_count": 6,
   "id": "3d955c5e",
   "metadata": {},
   "outputs": [],
   "source": [
    "file['newpath'] = file.apply(lambda x: f'../data/wav2vecbase/Session{x[2]}/{x[1]}.pt', axis=1)"
   ]
  },
  {
   "cell_type": "code",
   "execution_count": 7,
   "id": "0cd4ffa6",
   "metadata": {},
   "outputs": [
    {
     "data": {
      "text/html": [
       "<div>\n",
       "<style scoped>\n",
       "    .dataframe tbody tr th:only-of-type {\n",
       "        vertical-align: middle;\n",
       "    }\n",
       "\n",
       "    .dataframe tbody tr th {\n",
       "        vertical-align: top;\n",
       "    }\n",
       "\n",
       "    .dataframe thead th {\n",
       "        text-align: right;\n",
       "    }\n",
       "</style>\n",
       "<table border=\"1\" class=\"dataframe\">\n",
       "  <thead>\n",
       "    <tr style=\"text-align: right;\">\n",
       "      <th></th>\n",
       "      <th>path</th>\n",
       "      <th>name</th>\n",
       "      <th>session</th>\n",
       "      <th>emotion</th>\n",
       "      <th>newpath</th>\n",
       "    </tr>\n",
       "  </thead>\n",
       "  <tbody>\n",
       "    <tr>\n",
       "      <th>0</th>\n",
       "      <td>/home/jz3313/IEMOCAP_full_release/Session1/sen...</td>\n",
       "      <td>Ses01F_impro02_F000</td>\n",
       "      <td>1</td>\n",
       "      <td>sad</td>\n",
       "      <td>../data/wav2vecbase/Session1/Ses01F_impro02_F0...</td>\n",
       "    </tr>\n",
       "    <tr>\n",
       "      <th>1</th>\n",
       "      <td>/home/jz3313/IEMOCAP_full_release/Session1/sen...</td>\n",
       "      <td>Ses01F_impro02_F001</td>\n",
       "      <td>1</td>\n",
       "      <td>sad</td>\n",
       "      <td>../data/wav2vecbase/Session1/Ses01F_impro02_F0...</td>\n",
       "    </tr>\n",
       "    <tr>\n",
       "      <th>2</th>\n",
       "      <td>/home/jz3313/IEMOCAP_full_release/Session1/sen...</td>\n",
       "      <td>Ses01F_impro02_F002</td>\n",
       "      <td>1</td>\n",
       "      <td>sad</td>\n",
       "      <td>../data/wav2vecbase/Session1/Ses01F_impro02_F0...</td>\n",
       "    </tr>\n",
       "    <tr>\n",
       "      <th>3</th>\n",
       "      <td>/home/jz3313/IEMOCAP_full_release/Session1/sen...</td>\n",
       "      <td>Ses01F_impro02_F003</td>\n",
       "      <td>1</td>\n",
       "      <td>neutral</td>\n",
       "      <td>../data/wav2vecbase/Session1/Ses01F_impro02_F0...</td>\n",
       "    </tr>\n",
       "    <tr>\n",
       "      <th>4</th>\n",
       "      <td>/home/jz3313/IEMOCAP_full_release/Session1/sen...</td>\n",
       "      <td>Ses01F_impro02_F004</td>\n",
       "      <td>1</td>\n",
       "      <td>sad</td>\n",
       "      <td>../data/wav2vecbase/Session1/Ses01F_impro02_F0...</td>\n",
       "    </tr>\n",
       "  </tbody>\n",
       "</table>\n",
       "</div>"
      ],
      "text/plain": [
       "                                                path                 name  \\\n",
       "0  /home/jz3313/IEMOCAP_full_release/Session1/sen...  Ses01F_impro02_F000   \n",
       "1  /home/jz3313/IEMOCAP_full_release/Session1/sen...  Ses01F_impro02_F001   \n",
       "2  /home/jz3313/IEMOCAP_full_release/Session1/sen...  Ses01F_impro02_F002   \n",
       "3  /home/jz3313/IEMOCAP_full_release/Session1/sen...  Ses01F_impro02_F003   \n",
       "4  /home/jz3313/IEMOCAP_full_release/Session1/sen...  Ses01F_impro02_F004   \n",
       "\n",
       "   session  emotion                                            newpath  \n",
       "0        1      sad  ../data/wav2vecbase/Session1/Ses01F_impro02_F0...  \n",
       "1        1      sad  ../data/wav2vecbase/Session1/Ses01F_impro02_F0...  \n",
       "2        1      sad  ../data/wav2vecbase/Session1/Ses01F_impro02_F0...  \n",
       "3        1  neutral  ../data/wav2vecbase/Session1/Ses01F_impro02_F0...  \n",
       "4        1      sad  ../data/wav2vecbase/Session1/Ses01F_impro02_F0...  "
      ]
     },
     "execution_count": 7,
     "metadata": {},
     "output_type": "execute_result"
    }
   ],
   "source": [
    "file.head()"
   ]
  },
  {
   "cell_type": "code",
   "execution_count": 8,
   "id": "eb4cd78e",
   "metadata": {},
   "outputs": [],
   "source": [
    "holdout = 1\n",
    "train = file[file['session'] != holdout]\n",
    "test = file[file['session'] == holdout]"
   ]
  },
  {
   "cell_type": "code",
   "execution_count": 9,
   "id": "75a75bd9",
   "metadata": {},
   "outputs": [],
   "source": [
    "class MyDataSet(torch.utils.data.Dataset):\n",
    "    def __init__(self, datas, labels, label_transform):\n",
    "        super(MyDataSet).__init__()\n",
    "        self.datas = datas\n",
    "        self.labels = labels\n",
    "        self.label_transform = label_transform\n",
    "        \n",
    "    def __getitem__(self, idx):\n",
    "        audio = self.datas[idx]\n",
    "        label = self.label_transform[self.labels[idx]]\n",
    "        length = audio.size(1)\n",
    "        return audio, length, label\n",
    "    \n",
    "    def __len__(self):\n",
    "        return len(self.labels)"
   ]
  },
  {
   "cell_type": "code",
   "execution_count": 10,
   "id": "141ec40a",
   "metadata": {},
   "outputs": [],
   "source": [
    "def collate_indic(data):\n",
    "    audios, lengths, labels = zip(*data)\n",
    "    max_len = max(lengths)\n",
    "    n_ftrs = audios[0].size(2)\n",
    "    n_dims = audios[0].size(0)\n",
    "    features = torch.zeros((len(audios), n_dims, max_len, n_ftrs))\n",
    "    labels = torch.tensor(labels)\n",
    "    lengths = torch.tensor(lengths)\n",
    "\n",
    "    for i in range(len(data)):\n",
    "        j, k = audios[i].size(1), audios[i].size(2)\n",
    "        features[i] = torch.cat([audios[i], torch.zeros((n_dims, max_len - j, k))], dim=1)\n",
    "\n",
    "    return features, lengths, labels"
   ]
  },
  {
   "cell_type": "code",
   "execution_count": 11,
   "id": "0738ead4",
   "metadata": {},
   "outputs": [
    {
     "data": {
      "text/plain": [
       "{'angry': 0, 'happy': 1, 'neutral': 2, 'sad': 3}"
      ]
     },
     "execution_count": 11,
     "metadata": {},
     "output_type": "execute_result"
    }
   ],
   "source": [
    "categories = ['angry', 'happy', 'neutral', 'sad']\n",
    "cate_dic = {}\n",
    "for i, cate in enumerate(categories):\n",
    "    cate_dic[cate] = i\n",
    "cate_dic"
   ]
  },
  {
   "cell_type": "markdown",
   "id": "adf4848c",
   "metadata": {},
   "source": [
    "## Train with 3CNN+LSTM"
   ]
  },
  {
   "cell_type": "code",
   "execution_count": 12,
   "id": "2ef1a6ec",
   "metadata": {},
   "outputs": [],
   "source": [
    "import torch.nn as nn\n",
    "import torch.nn.functional as F\n",
    "\n",
    "class ICASSP3CNN(nn.Module):\n",
    "    def __init__(self, vocab_size, dims = 12, embed_size=128, hidden_size=512, num_lstm_layers = 2, bidirectional = False, label_size=7):\n",
    "        super().__init__()\n",
    "        self.n_layers = num_lstm_layers \n",
    "        self.hidden = hidden_size\n",
    "        self.bidirectional = bidirectional\n",
    "        \n",
    "        self.aggr = nn.Conv1d(in_channels=dims, out_channels=1, kernel_size=1)\n",
    "        \n",
    "        self.embed = nn.Linear(in_features = vocab_size, out_features = embed_size)\n",
    "\n",
    "        self.cnn  = nn.Conv1d(embed_size, embed_size, kernel_size=3, padding=1)\n",
    "        self.cnn2 = nn.Conv1d(embed_size, embed_size, kernel_size=5, padding=2)\n",
    "        self.cnn3 = nn.Conv1d(embed_size, embed_size, kernel_size=7, padding=3)\n",
    "\n",
    "        self.batchnorm = nn.BatchNorm1d(3 * embed_size)\n",
    "\n",
    "        self.lstm = nn.LSTM(input_size = 3 * embed_size, \n",
    "                            hidden_size = hidden_size, \n",
    "                            num_layers = num_lstm_layers, \n",
    "                            bidirectional = bidirectional)\n",
    "\n",
    "        self.linear = nn.Linear(in_features = 2 * hidden_size if bidirectional else hidden_size, \n",
    "                                out_features = label_size)\n",
    "\n",
    "\n",
    "    def forward(self, x, lengths):\n",
    "        \"\"\"\n",
    "        padded_x: (B,T) padded LongTensor\n",
    "        \"\"\"\n",
    "        n, d, b, t = x.size(0), x.size(1), x.size(2), x.size(3)\n",
    "        x = torch.flatten(x, start_dim=2)\n",
    "        input = self.aggr(x)\n",
    "        input = torch.reshape(input, (n, b, t))\n",
    "        input = self.embed(input)\n",
    "\n",
    "        batch_size = input.size(0)\n",
    "        input = input.transpose(1,2)    # (B,T,H) -> (B,H,T)\n",
    "\n",
    "        cnn_output = torch.cat([self.cnn(input), self.cnn2(input), self.cnn3(input)], dim=1)\n",
    "\n",
    "        input = F.relu(self.batchnorm(cnn_output))\n",
    "\n",
    "        input = input.transpose(1,2)\n",
    "\n",
    "        pack_tensor = nn.utils.rnn.pack_padded_sequence(input, lengths, batch_first=True, enforce_sorted=False)\n",
    "        _, (hn, cn) = self.lstm(pack_tensor)\n",
    "\n",
    "        if self.bidirectional:\n",
    "            h_n = hn.view(self.n_layers, 2, batch_size, self.hidden)\n",
    "            h_n = torch.cat([ h_n[-1, 0,:], h_n[-1,1,:] ], dim = 1)\n",
    "        else:\n",
    "            h_n = hn[-1]\n",
    "\n",
    "        logits = self.linear(h_n)\n",
    "\n",
    "        return logits"
   ]
  },
  {
   "cell_type": "markdown",
   "id": "21a7d392",
   "metadata": {},
   "source": [
    "### Model Traning on each layer "
   ]
  },
  {
   "cell_type": "code",
   "execution_count": 13,
   "id": "01d051d0",
   "metadata": {},
   "outputs": [
    {
     "name": "stderr",
     "output_type": "stream",
     "text": [
      "4446it [07:06, 10.43it/s]\n"
     ]
    }
   ],
   "source": [
    "from tqdm import tqdm\n",
    "from torch.utils.data import DataLoader\n",
    "\n",
    "traindata = []\n",
    "for _, row in tqdm(train.iterrows()):\n",
    "    traindata.append(torch.load(row[4]))\n",
    "\n",
    "train_dataset = MyDataSet(traindata, train['emotion'].tolist(), cate_dic)\n",
    "trainloader_args = dict(batch_size=32, shuffle=True)\n",
    "train_dataloader = DataLoader(train_dataset, **trainloader_args, \n",
    "                              collate_fn=collate_indic)"
   ]
  },
  {
   "cell_type": "code",
   "execution_count": 15,
   "id": "e6942285",
   "metadata": {},
   "outputs": [],
   "source": [
    "from tqdm import tqdm\n",
    "from torchsummary import summary\n",
    "import torch.optim as optim\n",
    "\n",
    "model = ICASSP3CNN(768, label_size=4)\n",
    "model = model.to(device)\n",
    "criterion = nn.CrossEntropyLoss()\n",
    "optimizer = optim.Adam(model.parameters(), lr=0.001)"
   ]
  },
  {
   "cell_type": "code",
   "execution_count": 16,
   "id": "75762bdc",
   "metadata": {},
   "outputs": [
    {
     "name": "stderr",
     "output_type": "stream",
     "text": [
      "  2%|███▎                                                                                                                                                                  | 1/50 [01:34<1:17:20, 94.70s/it]"
     ]
    },
    {
     "name": "stdout",
     "output_type": "stream",
     "text": [
      "epoch:1, train accu:0.5016, train loss:1.10\n"
     ]
    },
    {
     "name": "stderr",
     "output_type": "stream",
     "text": [
      "\r",
      "  4%|██████▋                                                                                                                                                               | 2/50 [03:03<1:13:10, 91.47s/it]"
     ]
    },
    {
     "name": "stdout",
     "output_type": "stream",
     "text": [
      "epoch:2, train accu:0.5673, train loss:0.99\n"
     ]
    },
    {
     "name": "stderr",
     "output_type": "stream",
     "text": [
      "\r",
      "  6%|█████████▉                                                                                                                                                            | 3/50 [04:31<1:10:22, 89.85s/it]"
     ]
    },
    {
     "name": "stdout",
     "output_type": "stream",
     "text": [
      "epoch:3, train accu:0.6221, train loss:0.91\n"
     ]
    },
    {
     "name": "stderr",
     "output_type": "stream",
     "text": [
      "\r",
      "  8%|█████████████▎                                                                                                                                                        | 4/50 [05:58<1:07:59, 88.68s/it]"
     ]
    },
    {
     "name": "stdout",
     "output_type": "stream",
     "text": [
      "epoch:4, train accu:0.6442, train loss:0.86\n"
     ]
    },
    {
     "name": "stderr",
     "output_type": "stream",
     "text": [
      "\r",
      " 10%|████████████████▌                                                                                                                                                     | 5/50 [07:27<1:06:30, 88.67s/it]"
     ]
    },
    {
     "name": "stdout",
     "output_type": "stream",
     "text": [
      "epoch:5, train accu:0.6628, train loss:0.82\n"
     ]
    },
    {
     "name": "stderr",
     "output_type": "stream",
     "text": [
      "\r",
      " 12%|███████████████████▉                                                                                                                                                  | 6/50 [08:56<1:05:04, 88.73s/it]"
     ]
    },
    {
     "name": "stdout",
     "output_type": "stream",
     "text": [
      "epoch:6, train accu:0.6637, train loss:0.81\n"
     ]
    },
    {
     "name": "stderr",
     "output_type": "stream",
     "text": [
      "\r",
      " 14%|███████████████████████▏                                                                                                                                              | 7/50 [10:25<1:03:41, 88.88s/it]"
     ]
    },
    {
     "name": "stdout",
     "output_type": "stream",
     "text": [
      "epoch:7, train accu:0.6986, train loss:0.75\n"
     ]
    },
    {
     "name": "stderr",
     "output_type": "stream",
     "text": [
      "\r",
      " 16%|██████████████████████████▌                                                                                                                                           | 8/50 [11:53<1:01:58, 88.54s/it]"
     ]
    },
    {
     "name": "stdout",
     "output_type": "stream",
     "text": [
      "epoch:8, train accu:0.7011, train loss:0.75\n"
     ]
    },
    {
     "name": "stderr",
     "output_type": "stream",
     "text": [
      "\r",
      " 18%|█████████████████████████████▉                                                                                                                                        | 9/50 [13:21<1:00:32, 88.59s/it]"
     ]
    },
    {
     "name": "stdout",
     "output_type": "stream",
     "text": [
      "epoch:9, train accu:0.7155, train loss:0.72\n"
     ]
    },
    {
     "name": "stderr",
     "output_type": "stream",
     "text": [
      "\r",
      " 20%|█████████████████████████████████▍                                                                                                                                     | 10/50 [14:51<59:13, 88.83s/it]"
     ]
    },
    {
     "name": "stdout",
     "output_type": "stream",
     "text": [
      "epoch:10, train accu:0.7296, train loss:0.68\n"
     ]
    },
    {
     "name": "stderr",
     "output_type": "stream",
     "text": [
      "\r",
      " 22%|████████████████████████████████████▋                                                                                                                                  | 11/50 [16:18<57:19, 88.20s/it]"
     ]
    },
    {
     "name": "stdout",
     "output_type": "stream",
     "text": [
      "epoch:11, train accu:0.7420, train loss:0.66\n"
     ]
    },
    {
     "name": "stderr",
     "output_type": "stream",
     "text": [
      "\r",
      " 24%|████████████████████████████████████████                                                                                                                               | 12/50 [17:47<56:08, 88.65s/it]"
     ]
    },
    {
     "name": "stdout",
     "output_type": "stream",
     "text": [
      "epoch:12, train accu:0.7533, train loss:0.62\n"
     ]
    },
    {
     "name": "stderr",
     "output_type": "stream",
     "text": [
      "\r",
      " 26%|███████████████████████████████████████████▍                                                                                                                           | 13/50 [19:15<54:27, 88.31s/it]"
     ]
    },
    {
     "name": "stdout",
     "output_type": "stream",
     "text": [
      "epoch:13, train accu:0.7744, train loss:0.60\n"
     ]
    },
    {
     "name": "stderr",
     "output_type": "stream",
     "text": [
      "\r",
      " 28%|██████████████████████████████████████████████▊                                                                                                                        | 14/50 [20:44<53:11, 88.66s/it]"
     ]
    },
    {
     "name": "stdout",
     "output_type": "stream",
     "text": [
      "epoch:14, train accu:0.7883, train loss:0.54\n"
     ]
    },
    {
     "name": "stderr",
     "output_type": "stream",
     "text": [
      "\r",
      " 30%|██████████████████████████████████████████████████                                                                                                                     | 15/50 [22:09<51:01, 87.46s/it]"
     ]
    },
    {
     "name": "stdout",
     "output_type": "stream",
     "text": [
      "epoch:15, train accu:0.8072, train loss:0.50\n"
     ]
    },
    {
     "name": "stderr",
     "output_type": "stream",
     "text": [
      "\r",
      " 32%|█████████████████████████████████████████████████████▍                                                                                                                 | 16/50 [23:35<49:20, 87.07s/it]"
     ]
    },
    {
     "name": "stdout",
     "output_type": "stream",
     "text": [
      "epoch:16, train accu:0.8187, train loss:0.48\n"
     ]
    },
    {
     "name": "stderr",
     "output_type": "stream",
     "text": [
      "\r",
      " 34%|████████████████████████████████████████████████████████▊                                                                                                              | 17/50 [25:02<47:55, 87.14s/it]"
     ]
    },
    {
     "name": "stdout",
     "output_type": "stream",
     "text": [
      "epoch:17, train accu:0.8286, train loss:0.45\n"
     ]
    },
    {
     "name": "stderr",
     "output_type": "stream",
     "text": [
      "\r",
      " 36%|████████████████████████████████████████████████████████████                                                                                                           | 18/50 [26:28<46:11, 86.62s/it]"
     ]
    },
    {
     "name": "stdout",
     "output_type": "stream",
     "text": [
      "epoch:18, train accu:0.8581, train loss:0.37\n"
     ]
    },
    {
     "name": "stderr",
     "output_type": "stream",
     "text": [
      "\r",
      " 38%|███████████████████████████████████████████████████████████████▍                                                                                                       | 19/50 [27:54<44:45, 86.62s/it]"
     ]
    },
    {
     "name": "stdout",
     "output_type": "stream",
     "text": [
      "epoch:19, train accu:0.8716, train loss:0.34\n"
     ]
    },
    {
     "name": "stderr",
     "output_type": "stream",
     "text": [
      "\r",
      " 40%|██████████████████████████████████████████████████████████████████▊                                                                                                    | 20/50 [29:22<43:29, 86.98s/it]"
     ]
    },
    {
     "name": "stdout",
     "output_type": "stream",
     "text": [
      "epoch:20, train accu:0.8927, train loss:0.29\n"
     ]
    },
    {
     "name": "stderr",
     "output_type": "stream",
     "text": [
      "\r",
      " 42%|██████████████████████████████████████████████████████████████████████▏                                                                                                | 21/50 [30:50<42:08, 87.19s/it]"
     ]
    },
    {
     "name": "stdout",
     "output_type": "stream",
     "text": [
      "epoch:21, train accu:0.8950, train loss:0.28\n"
     ]
    },
    {
     "name": "stderr",
     "output_type": "stream",
     "text": [
      "\r",
      " 44%|█████████████████████████████████████████████████████████████████████████▍                                                                                             | 22/50 [32:16<40:33, 86.91s/it]"
     ]
    },
    {
     "name": "stdout",
     "output_type": "stream",
     "text": [
      "epoch:22, train accu:0.9148, train loss:0.23\n"
     ]
    },
    {
     "name": "stderr",
     "output_type": "stream",
     "text": [
      "\r",
      " 46%|████████████████████████████████████████████████████████████████████████████▊                                                                                          | 23/50 [33:44<39:13, 87.16s/it]"
     ]
    },
    {
     "name": "stdout",
     "output_type": "stream",
     "text": [
      "epoch:23, train accu:0.9226, train loss:0.22\n"
     ]
    },
    {
     "name": "stderr",
     "output_type": "stream",
     "text": [
      "\r",
      " 48%|████████████████████████████████████████████████████████████████████████████████▏                                                                                      | 24/50 [35:09<37:26, 86.41s/it]"
     ]
    },
    {
     "name": "stdout",
     "output_type": "stream",
     "text": [
      "epoch:24, train accu:0.9370, train loss:0.18\n"
     ]
    },
    {
     "name": "stderr",
     "output_type": "stream",
     "text": [
      "\r",
      " 50%|███████████████████████████████████████████████████████████████████████████████████▌                                                                                   | 25/50 [36:35<35:59, 86.37s/it]"
     ]
    },
    {
     "name": "stdout",
     "output_type": "stream",
     "text": [
      "epoch:25, train accu:0.9413, train loss:0.17\n"
     ]
    },
    {
     "name": "stderr",
     "output_type": "stream",
     "text": [
      "\r",
      " 52%|██████████████████████████████████████████████████████████████████████████████████████▊                                                                                | 26/50 [38:01<34:33, 86.38s/it]"
     ]
    },
    {
     "name": "stdout",
     "output_type": "stream",
     "text": [
      "epoch:26, train accu:0.9602, train loss:0.12\n"
     ]
    },
    {
     "name": "stderr",
     "output_type": "stream",
     "text": [
      "\r",
      " 54%|██████████████████████████████████████████████████████████████████████████████████████████▏                                                                            | 27/50 [39:27<33:03, 86.24s/it]"
     ]
    },
    {
     "name": "stdout",
     "output_type": "stream",
     "text": [
      "epoch:27, train accu:0.9624, train loss:0.11\n"
     ]
    },
    {
     "name": "stderr",
     "output_type": "stream",
     "text": [
      "\r",
      " 56%|█████████████████████████████████████████████████████████████████████████████████████████████▌                                                                         | 28/50 [40:53<31:36, 86.20s/it]"
     ]
    },
    {
     "name": "stdout",
     "output_type": "stream",
     "text": [
      "epoch:28, train accu:0.9737, train loss:0.08\n"
     ]
    },
    {
     "name": "stderr",
     "output_type": "stream",
     "text": [
      "\r",
      " 58%|████████████████████████████████████████████████████████████████████████████████████████████████▊                                                                      | 29/50 [42:20<30:12, 86.29s/it]"
     ]
    },
    {
     "name": "stdout",
     "output_type": "stream",
     "text": [
      "epoch:29, train accu:0.9692, train loss:0.09\n"
     ]
    },
    {
     "name": "stderr",
     "output_type": "stream",
     "text": [
      "\r",
      " 60%|████████████████████████████████████████████████████████████████████████████████████████████████████▏                                                                  | 30/50 [43:48<28:54, 86.74s/it]"
     ]
    },
    {
     "name": "stdout",
     "output_type": "stream",
     "text": [
      "epoch:30, train accu:0.9555, train loss:0.12\n"
     ]
    },
    {
     "name": "stderr",
     "output_type": "stream",
     "text": [
      "\r",
      " 62%|███████████████████████████████████████████████████████████████████████████████████████████████████████▌                                                               | 31/50 [45:14<27:27, 86.73s/it]"
     ]
    },
    {
     "name": "stdout",
     "output_type": "stream",
     "text": [
      "epoch:31, train accu:0.9802, train loss:0.07\n"
     ]
    },
    {
     "name": "stderr",
     "output_type": "stream",
     "text": [
      "\r",
      " 64%|██████████████████████████████████████████████████████████████████████████████████████████████████████████▉                                                            | 32/50 [46:43<26:12, 87.35s/it]"
     ]
    },
    {
     "name": "stdout",
     "output_type": "stream",
     "text": [
      "epoch:32, train accu:0.9746, train loss:0.07\n"
     ]
    },
    {
     "name": "stderr",
     "output_type": "stream",
     "text": [
      "\r",
      " 66%|██████████████████████████████████████████████████████████████████████████████████████████████████████████████▏                                                        | 33/50 [48:09<24:38, 86.95s/it]"
     ]
    },
    {
     "name": "stdout",
     "output_type": "stream",
     "text": [
      "epoch:33, train accu:0.9757, train loss:0.07\n"
     ]
    },
    {
     "name": "stderr",
     "output_type": "stream",
     "text": [
      "\r",
      " 68%|█████████████████████████████████████████████████████████████████████████████████████████████████████████████████▌                                                     | 34/50 [49:35<23:05, 86.57s/it]"
     ]
    },
    {
     "name": "stdout",
     "output_type": "stream",
     "text": [
      "epoch:34, train accu:0.9928, train loss:0.02\n"
     ]
    },
    {
     "name": "stderr",
     "output_type": "stream",
     "text": [
      "\r",
      " 70%|████████████████████████████████████████████████████████████████████████████████████████████████████████████████████▉                                                  | 35/50 [51:01<21:39, 86.61s/it]"
     ]
    },
    {
     "name": "stdout",
     "output_type": "stream",
     "text": [
      "epoch:35, train accu:0.9894, train loss:0.03\n"
     ]
    },
    {
     "name": "stderr",
     "output_type": "stream",
     "text": [
      "\r",
      " 72%|████████████████████████████████████████████████████████████████████████████████████████████████████████████████████████▏                                              | 36/50 [52:24<19:56, 85.47s/it]"
     ]
    },
    {
     "name": "stdout",
     "output_type": "stream",
     "text": [
      "epoch:36, train accu:0.9854, train loss:0.04\n"
     ]
    },
    {
     "name": "stderr",
     "output_type": "stream",
     "text": [
      "\r",
      " 74%|███████████████████████████████████████████████████████████████████████████████████████████████████████████████████████████▌                                           | 37/50 [53:51<18:34, 85.72s/it]"
     ]
    },
    {
     "name": "stdout",
     "output_type": "stream",
     "text": [
      "epoch:37, train accu:0.9732, train loss:0.08\n"
     ]
    },
    {
     "name": "stderr",
     "output_type": "stream",
     "text": [
      "\r",
      " 76%|██████████████████████████████████████████████████████████████████████████████████████████████████████████████████████████████▉                                        | 38/50 [55:14<16:59, 84.97s/it]"
     ]
    },
    {
     "name": "stdout",
     "output_type": "stream",
     "text": [
      "epoch:38, train accu:0.9768, train loss:0.06\n"
     ]
    },
    {
     "name": "stderr",
     "output_type": "stream",
     "text": [
      "\r",
      " 78%|██████████████████████████████████████████████████████████████████████████████████████████████████████████████████████████████████▎                                    | 39/50 [56:42<15:45, 85.91s/it]"
     ]
    },
    {
     "name": "stdout",
     "output_type": "stream",
     "text": [
      "epoch:39, train accu:0.9892, train loss:0.03\n"
     ]
    },
    {
     "name": "stderr",
     "output_type": "stream",
     "text": [
      "\r",
      " 80%|█████████████████████████████████████████████████████████████████████████████████████████████████████████████████████████████████████▌                                 | 40/50 [58:08<14:20, 86.03s/it]"
     ]
    },
    {
     "name": "stdout",
     "output_type": "stream",
     "text": [
      "epoch:40, train accu:0.9881, train loss:0.04\n"
     ]
    },
    {
     "name": "stderr",
     "output_type": "stream",
     "text": [
      "\r",
      " 82%|████████████████████████████████████████████████████████████████████████████████████████████████████████████████████████████████████████▉                              | 41/50 [59:36<12:58, 86.48s/it]"
     ]
    },
    {
     "name": "stdout",
     "output_type": "stream",
     "text": [
      "epoch:41, train accu:0.9906, train loss:0.03\n"
     ]
    },
    {
     "name": "stderr",
     "output_type": "stream",
     "text": [
      "\r",
      " 84%|██████████████████████████████████████████████████████████████████████████████████████████████████████████████████████████████████████████▌                          | 42/50 [1:01:03<11:32, 86.57s/it]"
     ]
    },
    {
     "name": "stdout",
     "output_type": "stream",
     "text": [
      "epoch:42, train accu:0.9820, train loss:0.05\n"
     ]
    },
    {
     "name": "stderr",
     "output_type": "stream",
     "text": [
      "\r",
      " 86%|█████████████████████████████████████████████████████████████████████████████████████████████████████████████████████████████████████████████▉                       | 43/50 [1:02:28<10:04, 86.33s/it]"
     ]
    },
    {
     "name": "stdout",
     "output_type": "stream",
     "text": [
      "epoch:43, train accu:0.9894, train loss:0.03\n"
     ]
    },
    {
     "name": "stderr",
     "output_type": "stream",
     "text": [
      "\r",
      " 88%|█████████████████████████████████████████████████████████████████████████████████████████████████████████████████████████████████████████████████▏                   | 44/50 [1:03:52<08:33, 85.63s/it]"
     ]
    },
    {
     "name": "stdout",
     "output_type": "stream",
     "text": [
      "epoch:44, train accu:0.9899, train loss:0.03\n"
     ]
    },
    {
     "name": "stderr",
     "output_type": "stream",
     "text": [
      "\r",
      " 90%|████████████████████████████████████████████████████████████████████████████████████████████████████████████████████████████████████████████████████▌                | 45/50 [1:05:18<07:08, 85.63s/it]"
     ]
    },
    {
     "name": "stdout",
     "output_type": "stream",
     "text": [
      "epoch:45, train accu:0.9919, train loss:0.02\n"
     ]
    },
    {
     "name": "stderr",
     "output_type": "stream",
     "text": [
      "\r",
      " 92%|███████████████████████████████████████████████████████████████████████████████████████████████████████████████████████████████████████████████████████▊             | 46/50 [1:06:44<05:43, 85.89s/it]"
     ]
    },
    {
     "name": "stdout",
     "output_type": "stream",
     "text": [
      "epoch:46, train accu:0.9915, train loss:0.03\n"
     ]
    },
    {
     "name": "stderr",
     "output_type": "stream",
     "text": [
      "\r",
      " 94%|███████████████████████████████████████████████████████████████████████████████████████████████████████████████████████████████████████████████████████████          | 47/50 [1:08:08<04:15, 85.33s/it]"
     ]
    },
    {
     "name": "stdout",
     "output_type": "stream",
     "text": [
      "epoch:47, train accu:0.9757, train loss:0.07\n"
     ]
    },
    {
     "name": "stderr",
     "output_type": "stream",
     "text": [
      "\r",
      " 96%|██████████████████████████████████████████████████████████████████████████████████████████████████████████████████████████████████████████████████████████████▍      | 48/50 [1:09:34<02:50, 85.37s/it]"
     ]
    },
    {
     "name": "stdout",
     "output_type": "stream",
     "text": [
      "epoch:48, train accu:0.9890, train loss:0.03\n"
     ]
    },
    {
     "name": "stderr",
     "output_type": "stream",
     "text": [
      "\r",
      " 98%|█████████████████████████████████████████████████████████████████████████████████████████████████████████████████████████████████████████████████████████████████▋   | 49/50 [1:11:00<01:25, 85.67s/it]"
     ]
    },
    {
     "name": "stdout",
     "output_type": "stream",
     "text": [
      "epoch:49, train accu:0.9917, train loss:0.03\n"
     ]
    },
    {
     "name": "stderr",
     "output_type": "stream",
     "text": [
      "100%|█████████████████████████████████████████████████████████████████████████████████████████████████████████████████████████████████████████████████████████████████████| 50/50 [1:12:26<00:00, 86.94s/it]"
     ]
    },
    {
     "name": "stdout",
     "output_type": "stream",
     "text": [
      "epoch:50, train accu:0.9863, train loss:0.04\n"
     ]
    },
    {
     "name": "stderr",
     "output_type": "stream",
     "text": [
      "\n"
     ]
    }
   ],
   "source": [
    "epochs = 50\n",
    "train_losses = []\n",
    "train_accuracies = []\n",
    "valid_losses = []\n",
    "valid_accuracies = []\n",
    "\n",
    "for epoch in tqdm(range(epochs)):\n",
    "    train_loss = 0\n",
    "    acc_cnt = 0\n",
    "    err_cnt = 0\n",
    "    batch_cnt = 0\n",
    "    model.train()\n",
    "    for batch, (x, length, y) in enumerate(train_dataloader):\n",
    "        x = x.to(device)\n",
    "        y = y.to(device)\n",
    "        optimizer.zero_grad()\n",
    "        logits = model(x, length)\n",
    "        loss = criterion(logits, y)\n",
    "        loss.backward()\n",
    "        optimizer.step()\n",
    "        train_loss += loss.cpu().item()\n",
    "\n",
    "        #model outputs\n",
    "        out_val, out_indices = torch.max(logits, dim=1)\n",
    "        tar_indices = y\n",
    "\n",
    "        for i in range(len(out_indices)):\n",
    "            if out_indices[i] == tar_indices[i]:\n",
    "                acc_cnt += 1\n",
    "            else:\n",
    "                err_cnt += 1\n",
    "        batch_cnt += 1\n",
    "    \n",
    "    train_loss = train_loss/batch_cnt\n",
    "    train_accuracy = acc_cnt/(acc_cnt+err_cnt)\n",
    "    train_accuracies.append(train_accuracy)\n",
    "    train_losses.append(train_loss)\n",
    "    \n",
    "    print(f\"epoch:{epoch+1}, train accu:{train_accuracy:.4f},\", f\"train loss:{train_loss:.2f}\")"
   ]
  },
  {
   "cell_type": "markdown",
   "id": "42092bf7",
   "metadata": {},
   "source": [
    "## Model Test"
   ]
  },
  {
   "cell_type": "code",
   "execution_count": 17,
   "id": "3c5c9897",
   "metadata": {},
   "outputs": [
    {
     "name": "stderr",
     "output_type": "stream",
     "text": [
      "1085it [02:00,  9.00it/s]\n"
     ]
    }
   ],
   "source": [
    "from tqdm import tqdm\n",
    "\n",
    "testdata = []\n",
    "for _, row in tqdm(test.iterrows()):\n",
    "    testdata.append(torch.load(row[4]))\n",
    "    \n",
    "test_dataset = MyDataSet(testdata, test['emotion'].tolist(), cate_dic)\n",
    "testloader_args = dict(batch_size=1, shuffle=True)\n",
    "test_dataloader = DataLoader(test_dataset, **testloader_args, \n",
    "                             collate_fn=collate_indic)"
   ]
  },
  {
   "cell_type": "code",
   "execution_count": 18,
   "id": "3120f8d4",
   "metadata": {},
   "outputs": [
    {
     "name": "stdout",
     "output_type": "stream",
     "text": [
      "test accuracy: 0.5511520737327189\n"
     ]
    }
   ],
   "source": [
    "test_loss = 0\n",
    "acc_cnt = 0\n",
    "err_cnt = 0\n",
    "batch_cnt = 0\n",
    "model.eval()\n",
    "\n",
    "for x, lengths, y in test_dataloader:\n",
    "\n",
    "    x = x.to(device)\n",
    "    y = y.to(device)\n",
    "\n",
    "    logits = model(x, lengths)\n",
    "    loss = criterion(logits, y)\n",
    "    test_loss += loss.cpu().item()\n",
    "\n",
    "    out_val, out_indices = torch.max(logits, dim=1)\n",
    "    tar_indices = y\n",
    "\n",
    "    for i in range(len(out_indices)):\n",
    "        if out_indices[i] == tar_indices[i]:\n",
    "            acc_cnt += 1\n",
    "        else:\n",
    "            err_cnt += 1\n",
    "    batch_cnt += 1\n",
    "\n",
    "test_loss = test_loss/batch_cnt\n",
    "test_accuracy = acc_cnt/(acc_cnt+err_cnt)\n",
    "print(f'test accuracy: {test_accuracy}')"
   ]
  },
  {
   "cell_type": "code",
   "execution_count": 19,
   "id": "997c700b",
   "metadata": {},
   "outputs": [
    {
     "name": "stdout",
     "output_type": "stream",
     "text": [
      "aggr.weight [0.011875879019498825, -0.15931344032287598, -0.31869104504585266, 0.2890198826789856, -0.09695269167423248, -0.30466753244400024, -0.16170388460159302, -0.031308215111494064, 0.035705775022506714, 0.29156818985939026, 0.1457134336233139, -0.0054588280618190765]\n"
     ]
    }
   ],
   "source": [
    "params = None\n",
    "for name, param in model.named_parameters():\n",
    "    if name == 'aggr.weight':\n",
    "        params = param.data.cpu().reshape(-1).tolist()\n",
    "        print(name, params)"
   ]
  },
  {
   "cell_type": "code",
   "execution_count": 20,
   "id": "a1bea9da",
   "metadata": {},
   "outputs": [
    {
     "data": {
      "text/html": [
       "<div>\n",
       "<style scoped>\n",
       "    .dataframe tbody tr th:only-of-type {\n",
       "        vertical-align: middle;\n",
       "    }\n",
       "\n",
       "    .dataframe tbody tr th {\n",
       "        vertical-align: top;\n",
       "    }\n",
       "\n",
       "    .dataframe thead th {\n",
       "        text-align: right;\n",
       "    }\n",
       "</style>\n",
       "<table border=\"1\" class=\"dataframe\">\n",
       "  <thead>\n",
       "    <tr style=\"text-align: right;\">\n",
       "      <th></th>\n",
       "      <th>layer</th>\n",
       "      <th>params</th>\n",
       "    </tr>\n",
       "  </thead>\n",
       "  <tbody>\n",
       "    <tr>\n",
       "      <th>0</th>\n",
       "      <td>0</td>\n",
       "      <td>0.011876</td>\n",
       "    </tr>\n",
       "    <tr>\n",
       "      <th>1</th>\n",
       "      <td>1</td>\n",
       "      <td>-0.159313</td>\n",
       "    </tr>\n",
       "    <tr>\n",
       "      <th>2</th>\n",
       "      <td>2</td>\n",
       "      <td>-0.318691</td>\n",
       "    </tr>\n",
       "    <tr>\n",
       "      <th>3</th>\n",
       "      <td>3</td>\n",
       "      <td>0.289020</td>\n",
       "    </tr>\n",
       "    <tr>\n",
       "      <th>4</th>\n",
       "      <td>4</td>\n",
       "      <td>-0.096953</td>\n",
       "    </tr>\n",
       "    <tr>\n",
       "      <th>5</th>\n",
       "      <td>5</td>\n",
       "      <td>-0.304668</td>\n",
       "    </tr>\n",
       "    <tr>\n",
       "      <th>6</th>\n",
       "      <td>6</td>\n",
       "      <td>-0.161704</td>\n",
       "    </tr>\n",
       "    <tr>\n",
       "      <th>7</th>\n",
       "      <td>7</td>\n",
       "      <td>-0.031308</td>\n",
       "    </tr>\n",
       "    <tr>\n",
       "      <th>8</th>\n",
       "      <td>8</td>\n",
       "      <td>0.035706</td>\n",
       "    </tr>\n",
       "    <tr>\n",
       "      <th>9</th>\n",
       "      <td>9</td>\n",
       "      <td>0.291568</td>\n",
       "    </tr>\n",
       "    <tr>\n",
       "      <th>10</th>\n",
       "      <td>10</td>\n",
       "      <td>0.145713</td>\n",
       "    </tr>\n",
       "    <tr>\n",
       "      <th>11</th>\n",
       "      <td>11</td>\n",
       "      <td>-0.005459</td>\n",
       "    </tr>\n",
       "  </tbody>\n",
       "</table>\n",
       "</div>"
      ],
      "text/plain": [
       "    layer    params\n",
       "0       0  0.011876\n",
       "1       1 -0.159313\n",
       "2       2 -0.318691\n",
       "3       3  0.289020\n",
       "4       4 -0.096953\n",
       "5       5 -0.304668\n",
       "6       6 -0.161704\n",
       "7       7 -0.031308\n",
       "8       8  0.035706\n",
       "9       9  0.291568\n",
       "10     10  0.145713\n",
       "11     11 -0.005459"
      ]
     },
     "execution_count": 20,
     "metadata": {},
     "output_type": "execute_result"
    }
   ],
   "source": [
    "res_path = f'../results/wav2vecbase_params_{holdout}'\n",
    "\n",
    "layers = 12\n",
    "\n",
    "res = pd.DataFrame({'layer': range(layers), 'params': params})\n",
    "res.to_csv(res_path, index=False)\n",
    "res"
   ]
  },
  {
   "cell_type": "code",
   "execution_count": 21,
   "id": "cc9b6fd0",
   "metadata": {},
   "outputs": [],
   "source": [
    "model_path = f'../models/wav2vecbase/holdout{holdout}.pth'\n",
    "\n",
    "torch.save({'epoch':epochs,\n",
    "            'model_state_dict':model.state_dict(),\n",
    "            'optimizer_state_dict':optimizer.state_dict()},\n",
    "            model_path)"
   ]
  }
 ],
 "metadata": {
  "kernelspec": {
   "display_name": "Python 3",
   "language": "python",
   "name": "python3"
  },
  "language_info": {
   "codemirror_mode": {
    "name": "ipython",
    "version": 3
   },
   "file_extension": ".py",
   "mimetype": "text/x-python",
   "name": "python",
   "nbconvert_exporter": "python",
   "pygments_lexer": "ipython3",
   "version": "3.7.12"
  }
 },
 "nbformat": 4,
 "nbformat_minor": 5
}
