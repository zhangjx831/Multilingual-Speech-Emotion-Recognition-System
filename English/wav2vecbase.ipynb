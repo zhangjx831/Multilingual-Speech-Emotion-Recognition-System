{
 "cells": [
  {
   "cell_type": "markdown",
   "id": "83f52390",
   "metadata": {},
   "source": [
    "## Prepare Data"
   ]
  },
  {
   "cell_type": "code",
   "execution_count": 1,
   "id": "fcff203e",
   "metadata": {},
   "outputs": [],
   "source": [
    "import re\n",
    "import os\n",
    "import pandas as pd\n",
    "\n",
    "regex = re.compile(r'\\[.+\\]\\n', re.IGNORECASE)\n",
    "file_paths, file_names, sessions, emotions = [], [], [], []\n",
    "emotion_map = {'neu': 'neutral', 'ang': 'angry', 'hap': 'happy', 'exc': 'happy', 'sad': 'sad'}\n",
    "\n",
    "for session in range(1, 6):\n",
    "    emo_evaluation_dir = f'/home/jz3313/IEMOCAP_full_release/Session{session}/dialog/EmoEvaluation/'\n",
    "    file_dir = f'/home/jz3313/IEMOCAP_full_release/Session{session}/sentences/wav/'\n",
    "    evaluation_files = [l for l in os.listdir(emo_evaluation_dir) if 'Ses' in l]\n",
    "    for file in evaluation_files:\n",
    "        with open(emo_evaluation_dir + file) as f:\n",
    "            content = f.read()\n",
    "        lines = re.findall(regex, content)\n",
    "        for line in lines[1:]:  # the first line is a header\n",
    "            start_end_time, wav_file_name, emotion, val_act_dom = line.strip().split('\\t')\n",
    "            dir_name = '_'.join(wav_file_name.split('_')[:-1])\n",
    "            if emotion in emotion_map:\n",
    "                file_paths.append(file_dir+dir_name+'/'+wav_file_name+'.wav')\n",
    "                file_names.append(wav_file_name)\n",
    "                sessions.append(session)\n",
    "                emotions.append(emotion_map[emotion])"
   ]
  },
  {
   "cell_type": "code",
   "execution_count": 2,
   "id": "08cd075c",
   "metadata": {},
   "outputs": [],
   "source": [
    "file = pd.DataFrame({'path':file_paths, 'name': file_names, 'session': sessions, 'emotion': emotions})"
   ]
  },
  {
   "cell_type": "code",
   "execution_count": 3,
   "id": "277cf819",
   "metadata": {},
   "outputs": [
    {
     "data": {
      "text/html": [
       "<div>\n",
       "<style scoped>\n",
       "    .dataframe tbody tr th:only-of-type {\n",
       "        vertical-align: middle;\n",
       "    }\n",
       "\n",
       "    .dataframe tbody tr th {\n",
       "        vertical-align: top;\n",
       "    }\n",
       "\n",
       "    .dataframe thead th {\n",
       "        text-align: right;\n",
       "    }\n",
       "</style>\n",
       "<table border=\"1\" class=\"dataframe\">\n",
       "  <thead>\n",
       "    <tr style=\"text-align: right;\">\n",
       "      <th></th>\n",
       "      <th>path</th>\n",
       "      <th>name</th>\n",
       "      <th>session</th>\n",
       "      <th>emotion</th>\n",
       "    </tr>\n",
       "  </thead>\n",
       "  <tbody>\n",
       "    <tr>\n",
       "      <th>0</th>\n",
       "      <td>/home/jz3313/IEMOCAP_full_release/Session1/sen...</td>\n",
       "      <td>Ses01F_impro02_F000</td>\n",
       "      <td>1</td>\n",
       "      <td>sad</td>\n",
       "    </tr>\n",
       "    <tr>\n",
       "      <th>1</th>\n",
       "      <td>/home/jz3313/IEMOCAP_full_release/Session1/sen...</td>\n",
       "      <td>Ses01F_impro02_F001</td>\n",
       "      <td>1</td>\n",
       "      <td>sad</td>\n",
       "    </tr>\n",
       "    <tr>\n",
       "      <th>2</th>\n",
       "      <td>/home/jz3313/IEMOCAP_full_release/Session1/sen...</td>\n",
       "      <td>Ses01F_impro02_F002</td>\n",
       "      <td>1</td>\n",
       "      <td>sad</td>\n",
       "    </tr>\n",
       "    <tr>\n",
       "      <th>3</th>\n",
       "      <td>/home/jz3313/IEMOCAP_full_release/Session1/sen...</td>\n",
       "      <td>Ses01F_impro02_F003</td>\n",
       "      <td>1</td>\n",
       "      <td>neutral</td>\n",
       "    </tr>\n",
       "    <tr>\n",
       "      <th>4</th>\n",
       "      <td>/home/jz3313/IEMOCAP_full_release/Session1/sen...</td>\n",
       "      <td>Ses01F_impro02_F004</td>\n",
       "      <td>1</td>\n",
       "      <td>sad</td>\n",
       "    </tr>\n",
       "  </tbody>\n",
       "</table>\n",
       "</div>"
      ],
      "text/plain": [
       "                                                path                 name  \\\n",
       "0  /home/jz3313/IEMOCAP_full_release/Session1/sen...  Ses01F_impro02_F000   \n",
       "1  /home/jz3313/IEMOCAP_full_release/Session1/sen...  Ses01F_impro02_F001   \n",
       "2  /home/jz3313/IEMOCAP_full_release/Session1/sen...  Ses01F_impro02_F002   \n",
       "3  /home/jz3313/IEMOCAP_full_release/Session1/sen...  Ses01F_impro02_F003   \n",
       "4  /home/jz3313/IEMOCAP_full_release/Session1/sen...  Ses01F_impro02_F004   \n",
       "\n",
       "   session  emotion  \n",
       "0        1      sad  \n",
       "1        1      sad  \n",
       "2        1      sad  \n",
       "3        1  neutral  \n",
       "4        1      sad  "
      ]
     },
     "execution_count": 3,
     "metadata": {},
     "output_type": "execute_result"
    }
   ],
   "source": [
    "file.head()"
   ]
  },
  {
   "cell_type": "code",
   "execution_count": 4,
   "id": "42fa07c1",
   "metadata": {},
   "outputs": [
    {
     "name": "stdout",
     "output_type": "stream",
     "text": [
      "1.12.1+cu113\n",
      "0.12.1+cu113\n",
      "cuda\n"
     ]
    }
   ],
   "source": [
    "import torch\n",
    "import torchaudio\n",
    "\n",
    "print(torch.__version__)\n",
    "print(torchaudio.__version__)\n",
    "\n",
    "torch.random.manual_seed(0)\n",
    "device = torch.device(\"cuda\" if torch.cuda.is_available() else \"cpu\")\n",
    "\n",
    "print(device)"
   ]
  },
  {
   "cell_type": "code",
   "execution_count": 5,
   "id": "b67c39ab",
   "metadata": {},
   "outputs": [
    {
     "name": "stdout",
     "output_type": "stream",
     "text": [
      "<class 'torchaudio.models.wav2vec2.model.Wav2Vec2Model'>\n"
     ]
    }
   ],
   "source": [
    "bundle = torchaudio.pipelines.WAV2VEC2_BASE\n",
    "extractor = bundle.get_model()\n",
    "print(extractor.__class__)"
   ]
  },
  {
   "cell_type": "code",
   "execution_count": null,
   "id": "0d91d0a2",
   "metadata": {},
   "outputs": [],
   "source": [
    "from tqdm import tqdm\n",
    "\n",
    "for _, row in tqdm(file.iterrows()):\n",
    "    path, name, session, emotion = row[0], row[1], row[2], row[3]\n",
    "    wave, sr = torchaudio.load(path)\n",
    "    if sr != bundle.sample_rate:\n",
    "        wave = torchaudio.functional.resample(wave, sr, bundle.sample_rate)\n",
    "    with torch.inference_mode():\n",
    "        feature, _ = extractor.extract_features(wave)\n",
    "    feature = [f[0] for f in feature]\n",
    "    feature = torch.stack(feature)\n",
    "    save_path = f'../data/wav2vecbase/Session{session}/{name}.pt'\n",
    "    torch.save(feature, save_path)"
   ]
  },
  {
   "cell_type": "markdown",
   "id": "8a7be560",
   "metadata": {},
   "source": [
    "## Load Data"
   ]
  },
  {
   "cell_type": "code",
   "execution_count": 6,
   "id": "3d955c5e",
   "metadata": {},
   "outputs": [],
   "source": [
    "file['newpath'] = file.apply(lambda x: f'../data/wav2vecbase/Session{x[2]}/{x[1]}.pt', axis=1)"
   ]
  },
  {
   "cell_type": "code",
   "execution_count": 7,
   "id": "0cd4ffa6",
   "metadata": {},
   "outputs": [
    {
     "data": {
      "text/html": [
       "<div>\n",
       "<style scoped>\n",
       "    .dataframe tbody tr th:only-of-type {\n",
       "        vertical-align: middle;\n",
       "    }\n",
       "\n",
       "    .dataframe tbody tr th {\n",
       "        vertical-align: top;\n",
       "    }\n",
       "\n",
       "    .dataframe thead th {\n",
       "        text-align: right;\n",
       "    }\n",
       "</style>\n",
       "<table border=\"1\" class=\"dataframe\">\n",
       "  <thead>\n",
       "    <tr style=\"text-align: right;\">\n",
       "      <th></th>\n",
       "      <th>path</th>\n",
       "      <th>name</th>\n",
       "      <th>session</th>\n",
       "      <th>emotion</th>\n",
       "      <th>newpath</th>\n",
       "    </tr>\n",
       "  </thead>\n",
       "  <tbody>\n",
       "    <tr>\n",
       "      <th>0</th>\n",
       "      <td>/home/jz3313/IEMOCAP_full_release/Session1/sen...</td>\n",
       "      <td>Ses01F_impro02_F000</td>\n",
       "      <td>1</td>\n",
       "      <td>sad</td>\n",
       "      <td>../data/wav2vecbase/Session1/Ses01F_impro02_F0...</td>\n",
       "    </tr>\n",
       "    <tr>\n",
       "      <th>1</th>\n",
       "      <td>/home/jz3313/IEMOCAP_full_release/Session1/sen...</td>\n",
       "      <td>Ses01F_impro02_F001</td>\n",
       "      <td>1</td>\n",
       "      <td>sad</td>\n",
       "      <td>../data/wav2vecbase/Session1/Ses01F_impro02_F0...</td>\n",
       "    </tr>\n",
       "    <tr>\n",
       "      <th>2</th>\n",
       "      <td>/home/jz3313/IEMOCAP_full_release/Session1/sen...</td>\n",
       "      <td>Ses01F_impro02_F002</td>\n",
       "      <td>1</td>\n",
       "      <td>sad</td>\n",
       "      <td>../data/wav2vecbase/Session1/Ses01F_impro02_F0...</td>\n",
       "    </tr>\n",
       "    <tr>\n",
       "      <th>3</th>\n",
       "      <td>/home/jz3313/IEMOCAP_full_release/Session1/sen...</td>\n",
       "      <td>Ses01F_impro02_F003</td>\n",
       "      <td>1</td>\n",
       "      <td>neutral</td>\n",
       "      <td>../data/wav2vecbase/Session1/Ses01F_impro02_F0...</td>\n",
       "    </tr>\n",
       "    <tr>\n",
       "      <th>4</th>\n",
       "      <td>/home/jz3313/IEMOCAP_full_release/Session1/sen...</td>\n",
       "      <td>Ses01F_impro02_F004</td>\n",
       "      <td>1</td>\n",
       "      <td>sad</td>\n",
       "      <td>../data/wav2vecbase/Session1/Ses01F_impro02_F0...</td>\n",
       "    </tr>\n",
       "  </tbody>\n",
       "</table>\n",
       "</div>"
      ],
      "text/plain": [
       "                                                path                 name  \\\n",
       "0  /home/jz3313/IEMOCAP_full_release/Session1/sen...  Ses01F_impro02_F000   \n",
       "1  /home/jz3313/IEMOCAP_full_release/Session1/sen...  Ses01F_impro02_F001   \n",
       "2  /home/jz3313/IEMOCAP_full_release/Session1/sen...  Ses01F_impro02_F002   \n",
       "3  /home/jz3313/IEMOCAP_full_release/Session1/sen...  Ses01F_impro02_F003   \n",
       "4  /home/jz3313/IEMOCAP_full_release/Session1/sen...  Ses01F_impro02_F004   \n",
       "\n",
       "   session  emotion                                            newpath  \n",
       "0        1      sad  ../data/wav2vecbase/Session1/Ses01F_impro02_F0...  \n",
       "1        1      sad  ../data/wav2vecbase/Session1/Ses01F_impro02_F0...  \n",
       "2        1      sad  ../data/wav2vecbase/Session1/Ses01F_impro02_F0...  \n",
       "3        1  neutral  ../data/wav2vecbase/Session1/Ses01F_impro02_F0...  \n",
       "4        1      sad  ../data/wav2vecbase/Session1/Ses01F_impro02_F0...  "
      ]
     },
     "execution_count": 7,
     "metadata": {},
     "output_type": "execute_result"
    }
   ],
   "source": [
    "file.head()"
   ]
  },
  {
   "cell_type": "code",
   "execution_count": 8,
   "id": "eb4cd78e",
   "metadata": {},
   "outputs": [],
   "source": [
    "holdout = 1\n",
    "train = file[file['session'] != holdout]\n",
    "test = file[file['session'] == holdout]"
   ]
  },
  {
   "cell_type": "code",
   "execution_count": 9,
   "id": "75a75bd9",
   "metadata": {},
   "outputs": [],
   "source": [
    "class MyDataSet(torch.utils.data.Dataset):\n",
    "    def __init__(self, datas, labels, label_transform):\n",
    "        super(MyDataSet).__init__()\n",
    "        self.datas = datas\n",
    "        self.labels = labels\n",
    "        self.label_transform = label_transform\n",
    "        \n",
    "    def __getitem__(self, idx):\n",
    "        audio = self.datas[idx]\n",
    "        label = self.label_transform[self.labels[idx]]\n",
    "        length = audio.size(1)\n",
    "        return audio, length, label\n",
    "    \n",
    "    def __len__(self):\n",
    "        return len(self.labels)"
   ]
  },
  {
   "cell_type": "code",
   "execution_count": 10,
   "id": "141ec40a",
   "metadata": {},
   "outputs": [],
   "source": [
    "def collate_indic(data):\n",
    "    audios, lengths, labels = zip(*data)\n",
    "    max_len = max(lengths)\n",
    "    n_ftrs = audios[0].size(2)\n",
    "    n_dims = audios[0].size(0)\n",
    "    features = torch.zeros((len(audios), n_dims, max_len, n_ftrs))\n",
    "    labels = torch.tensor(labels)\n",
    "    lengths = torch.tensor(lengths)\n",
    "\n",
    "    for i in range(len(data)):\n",
    "        j, k = audios[i].size(1), audios[i].size(2)\n",
    "        features[i] = torch.cat([audios[i], torch.zeros((n_dims, max_len - j, k))], dim=1)\n",
    "\n",
    "    return features, lengths, labels"
   ]
  },
  {
   "cell_type": "code",
   "execution_count": 11,
   "id": "0738ead4",
   "metadata": {},
   "outputs": [
    {
     "data": {
      "text/plain": [
       "{'angry': 0, 'happy': 1, 'neutral': 2, 'sad': 3}"
      ]
     },
     "execution_count": 11,
     "metadata": {},
     "output_type": "execute_result"
    }
   ],
   "source": [
    "categories = ['angry', 'happy', 'neutral', 'sad']\n",
    "cate_dic = {}\n",
    "for i, cate in enumerate(categories):\n",
    "    cate_dic[cate] = i\n",
    "cate_dic"
   ]
  },
  {
   "cell_type": "markdown",
   "id": "adf4848c",
   "metadata": {},
   "source": [
    "## Train with 3CNN+LSTM"
   ]
  },
  {
   "cell_type": "code",
   "execution_count": 12,
   "id": "2ef1a6ec",
   "metadata": {},
   "outputs": [],
   "source": [
    "import torch.nn as nn\n",
    "import torch.nn.functional as F\n",
    "\n",
    "class ICASSP3CNN(nn.Module):\n",
    "    def __init__(self, vocab_size, dims = 12, embed_size=128, hidden_size=512, num_lstm_layers = 2, bidirectional = False, label_size=7):\n",
    "        super().__init__()\n",
    "        self.n_layers = num_lstm_layers \n",
    "        self.hidden = hidden_size\n",
    "        self.bidirectional = bidirectional\n",
    "        \n",
    "        self.aggr = nn.Conv1d(in_channels=dims, out_channels=1, kernel_size=1)\n",
    "        \n",
    "        self.embed = nn.Linear(in_features = vocab_size, out_features = embed_size)\n",
    "\n",
    "        self.cnn  = nn.Conv1d(embed_size, embed_size, kernel_size=3, padding=1)\n",
    "        self.cnn2 = nn.Conv1d(embed_size, embed_size, kernel_size=5, padding=2)\n",
    "        self.cnn3 = nn.Conv1d(embed_size, embed_size, kernel_size=7, padding=3)\n",
    "\n",
    "        self.batchnorm = nn.BatchNorm1d(3 * embed_size)\n",
    "\n",
    "        self.lstm = nn.LSTM(input_size = 3 * embed_size, \n",
    "                            hidden_size = hidden_size, \n",
    "                            num_layers = num_lstm_layers, \n",
    "                            bidirectional = bidirectional)\n",
    "\n",
    "        self.linear = nn.Linear(in_features = 2 * hidden_size if bidirectional else hidden_size, \n",
    "                                out_features = label_size)\n",
    "\n",
    "\n",
    "    def forward(self, x, lengths):\n",
    "        \"\"\"\n",
    "        padded_x: (B,T) padded LongTensor\n",
    "        \"\"\"\n",
    "        n, d, b, t = x.size(0), x.size(1), x.size(2), x.size(3)\n",
    "        x = torch.flatten(x, start_dim=2)\n",
    "        input = self.aggr(x)\n",
    "        input = torch.reshape(input, (n, b, t))\n",
    "        input = self.embed(input)\n",
    "\n",
    "        batch_size = input.size(0)\n",
    "        input = input.transpose(1,2)    # (B,T,H) -> (B,H,T)\n",
    "\n",
    "        cnn_output = torch.cat([self.cnn(input), self.cnn2(input), self.cnn3(input)], dim=1)\n",
    "\n",
    "        input = F.relu(self.batchnorm(cnn_output))\n",
    "\n",
    "        input = input.transpose(1,2)\n",
    "\n",
    "        pack_tensor = nn.utils.rnn.pack_padded_sequence(input, lengths, batch_first=True, enforce_sorted=False)\n",
    "        _, (hn, cn) = self.lstm(pack_tensor)\n",
    "\n",
    "        if self.bidirectional:\n",
    "            h_n = hn.view(self.n_layers, 2, batch_size, self.hidden)\n",
    "            h_n = torch.cat([ h_n[-1, 0,:], h_n[-1,1,:] ], dim = 1)\n",
    "        else:\n",
    "            h_n = hn[-1]\n",
    "\n",
    "        logits = self.linear(h_n)\n",
    "\n",
    "        return logits"
   ]
  },
  {
   "cell_type": "markdown",
   "id": "21a7d392",
   "metadata": {},
   "source": [
    "### Model Traning on each layer "
   ]
  },
  {
   "cell_type": "code",
   "execution_count": 13,
   "id": "01d051d0",
   "metadata": {},
   "outputs": [
    {
     "name": "stderr",
     "output_type": "stream",
     "text": [
      "4446it [05:42, 12.99it/s]\n"
     ]
    }
   ],
   "source": [
    "from tqdm import tqdm\n",
    "from torch.utils.data import DataLoader\n",
    "\n",
    "traindata = []\n",
    "for _, row in tqdm(train.iterrows()):\n",
    "    traindata.append(torch.load(row[4]))\n",
    "\n",
    "train_dataset = MyDataSet(traindata, train['emotion'].tolist(), cate_dic)\n",
    "trainloader_args = dict(batch_size=64, shuffle=True)\n",
    "train_dataloader = DataLoader(train_dataset, **trainloader_args, \n",
    "                              collate_fn=collate_indic)"
   ]
  },
  {
   "cell_type": "code",
   "execution_count": 15,
   "id": "57b10d98",
   "metadata": {},
   "outputs": [],
   "source": [
    "train_dataset = MyDataSet(traindata, train['emotion'].tolist(), cate_dic)\n",
    "trainloader_args = dict(batch_size=64, shuffle=True)\n",
    "train_dataloader = DataLoader(train_dataset, **trainloader_args, \n",
    "                              collate_fn=collate_indic)"
   ]
  },
  {
   "cell_type": "code",
   "execution_count": 16,
   "id": "e6942285",
   "metadata": {},
   "outputs": [],
   "source": [
    "from tqdm import tqdm\n",
    "from torchsummary import summary\n",
    "import torch.optim as optim\n",
    "\n",
    "model = ICASSP3CNN(768)\n",
    "model = model.to(device)\n",
    "criterion = nn.CrossEntropyLoss()\n",
    "optimizer = optim.Adam(model.parameters(), lr=0.001)"
   ]
  },
  {
   "cell_type": "code",
   "execution_count": 17,
   "id": "75762bdc",
   "metadata": {},
   "outputs": [
    {
     "name": "stderr",
     "output_type": "stream",
     "text": [
      "  2%|███▎                                                                                                                                                                  | 1/50 [01:35<1:17:35, 95.01s/it]"
     ]
    },
    {
     "name": "stdout",
     "output_type": "stream",
     "text": [
      "epoch:1, train accu:0.4593, train loss:1.15\n"
     ]
    },
    {
     "name": "stderr",
     "output_type": "stream",
     "text": [
      "\r",
      "  4%|██████▋                                                                                                                                                               | 2/50 [03:05<1:13:58, 92.47s/it]"
     ]
    },
    {
     "name": "stdout",
     "output_type": "stream",
     "text": [
      "epoch:2, train accu:0.5493, train loss:1.01\n"
     ]
    },
    {
     "name": "stderr",
     "output_type": "stream",
     "text": [
      "\r",
      "  6%|█████████▉                                                                                                                                                            | 3/50 [04:36<1:11:58, 91.89s/it]"
     ]
    },
    {
     "name": "stdout",
     "output_type": "stream",
     "text": [
      "epoch:3, train accu:0.5744, train loss:0.96\n"
     ]
    },
    {
     "name": "stderr",
     "output_type": "stream",
     "text": [
      "\r",
      "  8%|█████████████▎                                                                                                                                                        | 4/50 [06:07<1:10:00, 91.32s/it]"
     ]
    },
    {
     "name": "stdout",
     "output_type": "stream",
     "text": [
      "epoch:4, train accu:0.6314, train loss:0.89\n"
     ]
    },
    {
     "name": "stderr",
     "output_type": "stream",
     "text": [
      "\r",
      " 10%|████████████████▌                                                                                                                                                     | 5/50 [07:37<1:08:03, 90.74s/it]"
     ]
    },
    {
     "name": "stdout",
     "output_type": "stream",
     "text": [
      "epoch:5, train accu:0.6682, train loss:0.82\n"
     ]
    },
    {
     "name": "stderr",
     "output_type": "stream",
     "text": [
      "\r",
      " 12%|███████████████████▉                                                                                                                                                  | 6/50 [09:08<1:06:49, 91.12s/it]"
     ]
    },
    {
     "name": "stdout",
     "output_type": "stream",
     "text": [
      "epoch:6, train accu:0.6997, train loss:0.76\n"
     ]
    },
    {
     "name": "stderr",
     "output_type": "stream",
     "text": [
      "\r",
      " 14%|███████████████████████▏                                                                                                                                              | 7/50 [10:36<1:04:29, 89.98s/it]"
     ]
    },
    {
     "name": "stdout",
     "output_type": "stream",
     "text": [
      "epoch:7, train accu:0.7211, train loss:0.70\n"
     ]
    },
    {
     "name": "stderr",
     "output_type": "stream",
     "text": [
      "\r",
      " 16%|██████████████████████████▌                                                                                                                                           | 8/50 [12:08<1:03:27, 90.66s/it]"
     ]
    },
    {
     "name": "stdout",
     "output_type": "stream",
     "text": [
      "epoch:8, train accu:0.7407, train loss:0.66\n"
     ]
    },
    {
     "name": "stderr",
     "output_type": "stream",
     "text": [
      "\r",
      " 18%|█████████████████████████████▉                                                                                                                                        | 9/50 [13:37<1:01:37, 90.17s/it]"
     ]
    },
    {
     "name": "stdout",
     "output_type": "stream",
     "text": [
      "epoch:9, train accu:0.7515, train loss:0.64\n"
     ]
    },
    {
     "name": "stderr",
     "output_type": "stream",
     "text": [
      "\r",
      " 20%|█████████████████████████████████                                                                                                                                    | 10/50 [15:09<1:00:24, 90.60s/it]"
     ]
    },
    {
     "name": "stdout",
     "output_type": "stream",
     "text": [
      "epoch:10, train accu:0.7661, train loss:0.61\n"
     ]
    },
    {
     "name": "stderr",
     "output_type": "stream",
     "text": [
      "\r",
      " 22%|████████████████████████████████████▋                                                                                                                                  | 11/50 [16:38<58:38, 90.22s/it]"
     ]
    },
    {
     "name": "stdout",
     "output_type": "stream",
     "text": [
      "epoch:11, train accu:0.7789, train loss:0.57\n"
     ]
    },
    {
     "name": "stderr",
     "output_type": "stream",
     "text": [
      "\r",
      " 24%|████████████████████████████████████████                                                                                                                               | 12/50 [18:09<57:14, 90.37s/it]"
     ]
    },
    {
     "name": "stdout",
     "output_type": "stream",
     "text": [
      "epoch:12, train accu:0.8084, train loss:0.50\n"
     ]
    },
    {
     "name": "stderr",
     "output_type": "stream",
     "text": [
      "\r",
      " 26%|███████████████████████████████████████████▍                                                                                                                           | 13/50 [19:40<55:49, 90.53s/it]"
     ]
    },
    {
     "name": "stdout",
     "output_type": "stream",
     "text": [
      "epoch:13, train accu:0.8365, train loss:0.45\n"
     ]
    },
    {
     "name": "stderr",
     "output_type": "stream",
     "text": [
      "\r",
      " 28%|██████████████████████████████████████████████▊                                                                                                                        | 14/50 [21:10<54:13, 90.37s/it]"
     ]
    },
    {
     "name": "stdout",
     "output_type": "stream",
     "text": [
      "epoch:14, train accu:0.8230, train loss:0.46\n"
     ]
    },
    {
     "name": "stderr",
     "output_type": "stream",
     "text": [
      "\r",
      " 30%|██████████████████████████████████████████████████                                                                                                                     | 15/50 [22:41<52:49, 90.55s/it]"
     ]
    },
    {
     "name": "stdout",
     "output_type": "stream",
     "text": [
      "epoch:15, train accu:0.8527, train loss:0.39\n"
     ]
    },
    {
     "name": "stderr",
     "output_type": "stream",
     "text": [
      "\r",
      " 32%|█████████████████████████████████████████████████████▍                                                                                                                 | 16/50 [24:10<51:06, 90.20s/it]"
     ]
    },
    {
     "name": "stdout",
     "output_type": "stream",
     "text": [
      "epoch:16, train accu:0.8817, train loss:0.32\n"
     ]
    },
    {
     "name": "stderr",
     "output_type": "stream",
     "text": [
      "\r",
      " 34%|████████████████████████████████████████████████████████▊                                                                                                              | 17/50 [25:41<49:43, 90.42s/it]"
     ]
    },
    {
     "name": "stdout",
     "output_type": "stream",
     "text": [
      "epoch:17, train accu:0.8862, train loss:0.31\n"
     ]
    },
    {
     "name": "stderr",
     "output_type": "stream",
     "text": [
      "\r",
      " 36%|████████████████████████████████████████████████████████████                                                                                                           | 18/50 [27:11<48:07, 90.22s/it]"
     ]
    },
    {
     "name": "stdout",
     "output_type": "stream",
     "text": [
      "epoch:18, train accu:0.8959, train loss:0.28\n"
     ]
    },
    {
     "name": "stderr",
     "output_type": "stream",
     "text": [
      "\r",
      " 38%|███████████████████████████████████████████████████████████████▍                                                                                                       | 19/50 [28:41<46:34, 90.15s/it]"
     ]
    },
    {
     "name": "stdout",
     "output_type": "stream",
     "text": [
      "epoch:19, train accu:0.9103, train loss:0.24\n"
     ]
    },
    {
     "name": "stderr",
     "output_type": "stream",
     "text": [
      "\r",
      " 40%|██████████████████████████████████████████████████████████████████▊                                                                                                    | 20/50 [30:10<44:57, 89.91s/it]"
     ]
    },
    {
     "name": "stdout",
     "output_type": "stream",
     "text": [
      "epoch:20, train accu:0.9300, train loss:0.19\n"
     ]
    },
    {
     "name": "stderr",
     "output_type": "stream",
     "text": [
      "\r",
      " 42%|██████████████████████████████████████████████████████████████████████▏                                                                                                | 21/50 [31:41<43:34, 90.15s/it]"
     ]
    },
    {
     "name": "stdout",
     "output_type": "stream",
     "text": [
      "epoch:21, train accu:0.9404, train loss:0.16\n"
     ]
    },
    {
     "name": "stderr",
     "output_type": "stream",
     "text": [
      "\r",
      " 44%|█████████████████████████████████████████████████████████████████████████▍                                                                                             | 22/50 [33:12<42:13, 90.48s/it]"
     ]
    },
    {
     "name": "stdout",
     "output_type": "stream",
     "text": [
      "epoch:22, train accu:0.9539, train loss:0.14\n"
     ]
    },
    {
     "name": "stderr",
     "output_type": "stream",
     "text": [
      "\r",
      " 46%|████████████████████████████████████████████████████████████████████████████▊                                                                                          | 23/50 [34:42<40:36, 90.23s/it]"
     ]
    },
    {
     "name": "stdout",
     "output_type": "stream",
     "text": [
      "epoch:23, train accu:0.9552, train loss:0.13\n"
     ]
    },
    {
     "name": "stderr",
     "output_type": "stream",
     "text": [
      "\r",
      " 48%|████████████████████████████████████████████████████████████████████████████████▏                                                                                      | 24/50 [36:13<39:15, 90.59s/it]"
     ]
    },
    {
     "name": "stdout",
     "output_type": "stream",
     "text": [
      "epoch:24, train accu:0.9692, train loss:0.09\n"
     ]
    },
    {
     "name": "stderr",
     "output_type": "stream",
     "text": [
      "\r",
      " 50%|███████████████████████████████████████████████████████████████████████████████████▌                                                                                   | 25/50 [37:41<37:26, 89.84s/it]"
     ]
    },
    {
     "name": "stdout",
     "output_type": "stream",
     "text": [
      "epoch:25, train accu:0.9683, train loss:0.09\n"
     ]
    },
    {
     "name": "stderr",
     "output_type": "stream",
     "text": [
      "\r",
      " 52%|██████████████████████████████████████████████████████████████████████████████████████▊                                                                                | 26/50 [39:12<35:59, 89.96s/it]"
     ]
    },
    {
     "name": "stdout",
     "output_type": "stream",
     "text": [
      "epoch:26, train accu:0.9636, train loss:0.10\n"
     ]
    },
    {
     "name": "stderr",
     "output_type": "stream",
     "text": [
      "\r",
      " 54%|██████████████████████████████████████████████████████████████████████████████████████████▏                                                                            | 27/50 [40:43<34:38, 90.38s/it]"
     ]
    },
    {
     "name": "stdout",
     "output_type": "stream",
     "text": [
      "epoch:27, train accu:0.9584, train loss:0.12\n"
     ]
    },
    {
     "name": "stderr",
     "output_type": "stream",
     "text": [
      "\r",
      " 56%|█████████████████████████████████████████████████████████████████████████████████████████████▌                                                                         | 28/50 [42:12<33:02, 90.09s/it]"
     ]
    },
    {
     "name": "stdout",
     "output_type": "stream",
     "text": [
      "epoch:28, train accu:0.9836, train loss:0.05\n"
     ]
    },
    {
     "name": "stderr",
     "output_type": "stream",
     "text": [
      "\r",
      " 58%|████████████████████████████████████████████████████████████████████████████████████████████████▊                                                                      | 29/50 [43:38<31:07, 88.91s/it]"
     ]
    },
    {
     "name": "stdout",
     "output_type": "stream",
     "text": [
      "epoch:29, train accu:0.9885, train loss:0.03\n"
     ]
    },
    {
     "name": "stderr",
     "output_type": "stream",
     "text": [
      "\r",
      " 60%|████████████████████████████████████████████████████████████████████████████████████████████████████▏                                                                  | 30/50 [45:06<29:29, 88.49s/it]"
     ]
    },
    {
     "name": "stdout",
     "output_type": "stream",
     "text": [
      "epoch:30, train accu:0.9960, train loss:0.02\n"
     ]
    },
    {
     "name": "stderr",
     "output_type": "stream",
     "text": [
      "\r",
      " 62%|███████████████████████████████████████████████████████████████████████████████████████████████████████▌                                                               | 31/50 [46:37<28:15, 89.24s/it]"
     ]
    },
    {
     "name": "stdout",
     "output_type": "stream",
     "text": [
      "epoch:31, train accu:0.9915, train loss:0.03\n"
     ]
    },
    {
     "name": "stderr",
     "output_type": "stream",
     "text": [
      "\r",
      " 64%|██████████████████████████████████████████████████████████████████████████████████████████████████████████▉                                                            | 32/50 [48:07<26:51, 89.55s/it]"
     ]
    },
    {
     "name": "stdout",
     "output_type": "stream",
     "text": [
      "epoch:32, train accu:0.9771, train loss:0.06\n"
     ]
    },
    {
     "name": "stderr",
     "output_type": "stream",
     "text": [
      "\r",
      " 66%|██████████████████████████████████████████████████████████████████████████████████████████████████████████████▏                                                        | 33/50 [49:36<25:19, 89.40s/it]"
     ]
    },
    {
     "name": "stdout",
     "output_type": "stream",
     "text": [
      "epoch:33, train accu:0.9856, train loss:0.04\n"
     ]
    },
    {
     "name": "stderr",
     "output_type": "stream",
     "text": [
      "\r",
      " 68%|█████████████████████████████████████████████████████████████████████████████████████████████████████████████████▌                                                     | 34/50 [51:04<23:40, 88.77s/it]"
     ]
    },
    {
     "name": "stdout",
     "output_type": "stream",
     "text": [
      "epoch:34, train accu:0.9921, train loss:0.03\n"
     ]
    },
    {
     "name": "stderr",
     "output_type": "stream",
     "text": [
      "\r",
      " 70%|████████████████████████████████████████████████████████████████████████████████████████████████████████████████████▉                                                  | 35/50 [52:32<22:10, 88.69s/it]"
     ]
    },
    {
     "name": "stdout",
     "output_type": "stream",
     "text": [
      "epoch:35, train accu:0.9890, train loss:0.03\n"
     ]
    },
    {
     "name": "stderr",
     "output_type": "stream",
     "text": [
      "\r",
      " 72%|████████████████████████████████████████████████████████████████████████████████████████████████████████████████████████▏                                              | 36/50 [54:01<20:42, 88.75s/it]"
     ]
    },
    {
     "name": "stdout",
     "output_type": "stream",
     "text": [
      "epoch:36, train accu:0.9919, train loss:0.03\n"
     ]
    },
    {
     "name": "stderr",
     "output_type": "stream",
     "text": [
      "\r",
      " 74%|███████████████████████████████████████████████████████████████████████████████████████████████████████████████████████████▌                                           | 37/50 [55:26<18:58, 87.57s/it]"
     ]
    },
    {
     "name": "stdout",
     "output_type": "stream",
     "text": [
      "epoch:37, train accu:0.9840, train loss:0.05\n"
     ]
    },
    {
     "name": "stderr",
     "output_type": "stream",
     "text": [
      "\r",
      " 76%|██████████████████████████████████████████████████████████████████████████████████████████████████████████████████████████████▉                                        | 38/50 [56:55<17:37, 88.13s/it]"
     ]
    },
    {
     "name": "stdout",
     "output_type": "stream",
     "text": [
      "epoch:38, train accu:0.9834, train loss:0.05\n"
     ]
    },
    {
     "name": "stderr",
     "output_type": "stream",
     "text": [
      "\r",
      " 78%|██████████████████████████████████████████████████████████████████████████████████████████████████████████████████████████████████▎                                    | 39/50 [58:25<16:13, 88.47s/it]"
     ]
    },
    {
     "name": "stdout",
     "output_type": "stream",
     "text": [
      "epoch:39, train accu:0.9816, train loss:0.05\n"
     ]
    },
    {
     "name": "stderr",
     "output_type": "stream",
     "text": [
      "\r",
      " 80%|█████████████████████████████████████████████████████████████████████████████████████████████████████████████████████████████████████▌                                 | 40/50 [59:55<14:50, 89.07s/it]"
     ]
    },
    {
     "name": "stdout",
     "output_type": "stream",
     "text": [
      "epoch:40, train accu:0.9926, train loss:0.02\n"
     ]
    },
    {
     "name": "stderr",
     "output_type": "stream",
     "text": [
      "\r",
      " 82%|███████████████████████████████████████████████████████████████████████████████████████████████████████████████████████████████████████▎                             | 41/50 [1:01:26<13:26, 89.57s/it]"
     ]
    },
    {
     "name": "stdout",
     "output_type": "stream",
     "text": [
      "epoch:41, train accu:0.9980, train loss:0.01\n"
     ]
    },
    {
     "name": "stderr",
     "output_type": "stream",
     "text": [
      "\r",
      " 84%|██████████████████████████████████████████████████████████████████████████████████████████████████████████████████████████████████████████▌                          | 42/50 [1:02:55<11:55, 89.45s/it]"
     ]
    },
    {
     "name": "stdout",
     "output_type": "stream",
     "text": [
      "epoch:42, train accu:0.9991, train loss:0.01\n"
     ]
    },
    {
     "name": "stderr",
     "output_type": "stream",
     "text": [
      "\r",
      " 86%|█████████████████████████████████████████████████████████████████████████████████████████████████████████████████████████████████████████████▉                       | 43/50 [1:04:26<10:30, 90.01s/it]"
     ]
    },
    {
     "name": "stdout",
     "output_type": "stream",
     "text": [
      "epoch:43, train accu:0.9948, train loss:0.02\n"
     ]
    },
    {
     "name": "stderr",
     "output_type": "stream",
     "text": [
      "\r",
      " 88%|█████████████████████████████████████████████████████████████████████████████████████████████████████████████████████████████████████████████████▏                   | 44/50 [1:05:56<08:59, 89.92s/it]"
     ]
    },
    {
     "name": "stdout",
     "output_type": "stream",
     "text": [
      "epoch:44, train accu:0.9827, train loss:0.05\n"
     ]
    },
    {
     "name": "stderr",
     "output_type": "stream",
     "text": [
      "\r",
      " 90%|████████████████████████████████████████████████████████████████████████████████████████████████████████████████████████████████████████████████████▌                | 45/50 [1:07:27<07:31, 90.32s/it]"
     ]
    },
    {
     "name": "stdout",
     "output_type": "stream",
     "text": [
      "epoch:45, train accu:0.9843, train loss:0.05\n"
     ]
    },
    {
     "name": "stderr",
     "output_type": "stream",
     "text": [
      "\r",
      " 92%|███████████████████████████████████████████████████████████████████████████████████████████████████████████████████████████████████████████████████████▊             | 46/50 [1:08:56<05:59, 89.97s/it]"
     ]
    },
    {
     "name": "stdout",
     "output_type": "stream",
     "text": [
      "epoch:46, train accu:0.9759, train loss:0.07\n"
     ]
    },
    {
     "name": "stderr",
     "output_type": "stream",
     "text": [
      "\r",
      " 94%|███████████████████████████████████████████████████████████████████████████████████████████████████████████████████████████████████████████████████████████          | 47/50 [1:10:24<04:28, 89.34s/it]"
     ]
    },
    {
     "name": "stdout",
     "output_type": "stream",
     "text": [
      "epoch:47, train accu:0.9955, train loss:0.02\n"
     ]
    },
    {
     "name": "stderr",
     "output_type": "stream",
     "text": [
      "\r",
      " 96%|██████████████████████████████████████████████████████████████████████████████████████████████████████████████████████████████████████████████████████████████▍      | 48/50 [1:11:52<02:58, 89.03s/it]"
     ]
    },
    {
     "name": "stdout",
     "output_type": "stream",
     "text": [
      "epoch:48, train accu:0.9996, train loss:0.00\n"
     ]
    },
    {
     "name": "stderr",
     "output_type": "stream",
     "text": [
      "\r",
      " 98%|█████████████████████████████████████████████████████████████████████████████████████████████████████████████████████████████████████████████████████████████████▋   | 49/50 [1:13:23<01:29, 89.41s/it]"
     ]
    },
    {
     "name": "stdout",
     "output_type": "stream",
     "text": [
      "epoch:49, train accu:1.0000, train loss:0.00\n"
     ]
    },
    {
     "name": "stderr",
     "output_type": "stream",
     "text": [
      "100%|█████████████████████████████████████████████████████████████████████████████████████████████████████████████████████████████████████████████████████████████████████| 50/50 [1:14:51<00:00, 89.83s/it]"
     ]
    },
    {
     "name": "stdout",
     "output_type": "stream",
     "text": [
      "epoch:50, train accu:1.0000, train loss:0.00\n"
     ]
    },
    {
     "name": "stderr",
     "output_type": "stream",
     "text": [
      "\n"
     ]
    }
   ],
   "source": [
    "epochs = 50\n",
    "train_losses = []\n",
    "train_accuracies = []\n",
    "valid_losses = []\n",
    "valid_accuracies = []\n",
    "\n",
    "for epoch in tqdm(range(epochs)):\n",
    "    train_loss = 0\n",
    "    acc_cnt = 0\n",
    "    err_cnt = 0\n",
    "    batch_cnt = 0\n",
    "    model.train()\n",
    "    for batch, (x, length, y) in enumerate(train_dataloader):\n",
    "        x = x.to(device)\n",
    "        y = y.to(device)\n",
    "        optimizer.zero_grad()\n",
    "        logits = model(x, length)\n",
    "        loss = criterion(logits, y)\n",
    "        loss.backward()\n",
    "        optimizer.step()\n",
    "        train_loss += loss.cpu().item()\n",
    "\n",
    "        #model outputs\n",
    "        out_val, out_indices = torch.max(logits, dim=1)\n",
    "        tar_indices = y\n",
    "\n",
    "        for i in range(len(out_indices)):\n",
    "            if out_indices[i] == tar_indices[i]:\n",
    "                acc_cnt += 1\n",
    "            else:\n",
    "                err_cnt += 1\n",
    "        batch_cnt += 1\n",
    "    \n",
    "    train_loss = train_loss/batch_cnt\n",
    "    train_accuracy = acc_cnt/(acc_cnt+err_cnt)\n",
    "    train_accuracies.append(train_accuracy)\n",
    "    train_losses.append(train_loss)\n",
    "    \n",
    "    print(f\"epoch:{epoch+1}, train accu:{train_accuracy:.4f},\", f\"train loss:{train_loss:.2f}\")"
   ]
  },
  {
   "cell_type": "markdown",
   "id": "42092bf7",
   "metadata": {},
   "source": [
    "## Model Test"
   ]
  },
  {
   "cell_type": "code",
   "execution_count": 18,
   "id": "3c5c9897",
   "metadata": {},
   "outputs": [
    {
     "name": "stderr",
     "output_type": "stream",
     "text": [
      "1085it [01:31, 11.84it/s]\n"
     ]
    }
   ],
   "source": [
    "from tqdm import tqdm\n",
    "\n",
    "testdata = []\n",
    "for _, row in tqdm(test.iterrows()):\n",
    "    testdata.append(torch.load(row[4]))\n",
    "    \n",
    "test_dataset = MyDataSet(testdata, test['emotion'].tolist(), cate_dic)\n",
    "testloader_args = dict(batch_size=1, shuffle=True)\n",
    "test_dataloader = DataLoader(test_dataset, **testloader_args, \n",
    "                             collate_fn=collate_indic)"
   ]
  },
  {
   "cell_type": "code",
   "execution_count": 19,
   "id": "3120f8d4",
   "metadata": {},
   "outputs": [
    {
     "name": "stdout",
     "output_type": "stream",
     "text": [
      "test accuracy: 0.6092165898617512\n"
     ]
    }
   ],
   "source": [
    "test_loss = 0\n",
    "acc_cnt = 0\n",
    "err_cnt = 0\n",
    "batch_cnt = 0\n",
    "model.eval()\n",
    "\n",
    "for x, lengths, y in test_dataloader:\n",
    "\n",
    "    x = x.to(device)\n",
    "    y = y.to(device)\n",
    "\n",
    "    logits = model(x, lengths)\n",
    "    loss = criterion(logits, y)\n",
    "    test_loss += loss.cpu().item()\n",
    "\n",
    "    out_val, out_indices = torch.max(logits, dim=1)\n",
    "    tar_indices = y\n",
    "\n",
    "    for i in range(len(out_indices)):\n",
    "        if out_indices[i] == tar_indices[i]:\n",
    "            acc_cnt += 1\n",
    "        else:\n",
    "            err_cnt += 1\n",
    "    batch_cnt += 1\n",
    "\n",
    "test_loss = test_loss/batch_cnt\n",
    "test_accuracy = acc_cnt/(acc_cnt+err_cnt)\n",
    "print(f'test accuracy: {test_accuracy}')"
   ]
  },
  {
   "cell_type": "code",
   "execution_count": 23,
   "id": "997c700b",
   "metadata": {},
   "outputs": [
    {
     "name": "stdout",
     "output_type": "stream",
     "text": [
      "aggr.weight tensor([[[-0.1310],\n",
      "         [ 0.1772],\n",
      "         [ 0.2437],\n",
      "         [ 0.0489],\n",
      "         [ 0.1233],\n",
      "         [-0.2575],\n",
      "         [-0.3244],\n",
      "         [ 0.0229],\n",
      "         [ 0.0835],\n",
      "         [-0.0186],\n",
      "         [-0.0222],\n",
      "         [ 0.0371]]], device='cuda:0')\n",
      "aggr.bias tensor([0.0086], device='cuda:0')\n",
      "embed.weight tensor([[ 0.0075, -0.0759, -0.0275,  ..., -0.0115,  0.1392,  0.1030],\n",
      "        [ 0.0774,  0.0207,  0.0966,  ...,  0.0189,  0.0675,  0.0912],\n",
      "        [ 0.0188,  0.0476, -0.0616,  ...,  0.0615,  0.0772,  0.0852],\n",
      "        ...,\n",
      "        [ 0.0554, -0.1219,  0.0362,  ..., -0.0379,  0.0833,  0.0365],\n",
      "        [ 0.0158,  0.0221, -0.0307,  ..., -0.0336,  0.0295, -0.1591],\n",
      "        [ 0.0599, -0.0022, -0.0519,  ...,  0.0911, -0.0293,  0.0891]],\n",
      "       device='cuda:0')\n",
      "embed.bias tensor([-0.0146,  0.0433, -0.0223, -0.0170, -0.0170,  0.0077, -0.0685,  0.0018,\n",
      "         0.0197, -0.0623, -0.0254, -0.0841,  0.0169,  0.0671,  0.0249, -0.0353,\n",
      "         0.0423,  0.0065, -0.0815,  0.0497, -0.0337,  0.0161,  0.0449,  0.0136,\n",
      "         0.0207, -0.0272,  0.0386, -0.0129, -0.0735, -0.0173, -0.0416, -0.0177,\n",
      "         0.0283, -0.0177, -0.0501,  0.0360, -0.0099, -0.0066,  0.0145,  0.0030,\n",
      "        -0.0204,  0.0095, -0.0522, -0.0158,  0.0211,  0.0223,  0.0421, -0.0175,\n",
      "        -0.0248, -0.0093, -0.0698, -0.0274,  0.0178,  0.0240, -0.0458, -0.0021,\n",
      "         0.0555,  0.0205,  0.0192, -0.0011,  0.0124,  0.0085,  0.0006, -0.0257,\n",
      "        -0.0463, -0.0336,  0.0448,  0.0024,  0.0551,  0.0179, -0.0280,  0.0002,\n",
      "        -0.0136, -0.0932, -0.0076, -0.0829, -0.0425,  0.0460, -0.0027,  0.0006,\n",
      "        -0.0450, -0.0825,  0.0340,  0.0745,  0.0203, -0.0328, -0.0730, -0.0047,\n",
      "        -0.0357,  0.0184, -0.0045, -0.0466, -0.0135, -0.0225, -0.0233, -0.0137,\n",
      "         0.0023, -0.0432,  0.0030, -0.0082, -0.0739,  0.0159, -0.0363, -0.0309,\n",
      "         0.0326,  0.0194, -0.0872, -0.0121, -0.0183,  0.0326, -0.0229, -0.0592,\n",
      "        -0.0070, -0.0258,  0.0187, -0.0314, -0.0062, -0.0400,  0.0378,  0.0416,\n",
      "        -0.0880,  0.0605,  0.0013, -0.1084, -0.0284, -0.0413,  0.0127,  0.0749],\n",
      "       device='cuda:0')\n",
      "cnn.weight tensor([[[-0.0654, -0.0433, -0.0222],\n",
      "         [ 0.0532,  0.0184, -0.0252],\n",
      "         [ 0.1078,  0.0824,  0.1307],\n",
      "         ...,\n",
      "         [ 0.0082, -0.0133, -0.0112],\n",
      "         [-0.0326, -0.0235, -0.0089],\n",
      "         [ 0.0178,  0.1315, -0.0416]],\n",
      "\n",
      "        [[-0.1033, -0.1229, -0.0717],\n",
      "         [ 0.0044, -0.0441, -0.0303],\n",
      "         [ 0.0762,  0.0087, -0.0592],\n",
      "         ...,\n",
      "         [-0.1093, -0.0465, -0.0088],\n",
      "         [ 0.0601,  0.0682, -0.0215],\n",
      "         [ 0.0707, -0.0830,  0.0189]],\n",
      "\n",
      "        [[ 0.0540, -0.0424, -0.0291],\n",
      "         [-0.1354, -0.1055, -0.0937],\n",
      "         [-0.0400, -0.0166,  0.0499],\n",
      "         ...,\n",
      "         [-0.0011,  0.0984,  0.0060],\n",
      "         [ 0.0551,  0.0279, -0.0259],\n",
      "         [ 0.1527,  0.1572,  0.0802]],\n",
      "\n",
      "        ...,\n",
      "\n",
      "        [[-0.0801, -0.0469, -0.0825],\n",
      "         [ 0.0323,  0.0056,  0.0165],\n",
      "         [-0.0664,  0.0472,  0.0244],\n",
      "         ...,\n",
      "         [-0.0083, -0.0117, -0.0584],\n",
      "         [ 0.0272, -0.0905, -0.0551],\n",
      "         [ 0.0195,  0.0071, -0.0382]],\n",
      "\n",
      "        [[ 0.0309, -0.0115, -0.0195],\n",
      "         [-0.0004,  0.0431,  0.1141],\n",
      "         [-0.0600,  0.0896, -0.0616],\n",
      "         ...,\n",
      "         [-0.0004, -0.0818,  0.1002],\n",
      "         [-0.0069, -0.0288,  0.0088],\n",
      "         [-0.0312, -0.0451,  0.0112]],\n",
      "\n",
      "        [[-0.0633, -0.0498, -0.0156],\n",
      "         [ 0.0178, -0.0771,  0.0550],\n",
      "         [ 0.0262,  0.0368,  0.0113],\n",
      "         ...,\n",
      "         [-0.0375, -0.0553, -0.1062],\n",
      "         [ 0.0632,  0.0308, -0.0187],\n",
      "         [ 0.1088,  0.0528,  0.0612]]], device='cuda:0')\n",
      "cnn.bias tensor([ 2.6628e-02,  3.6506e-02,  3.1475e-02, -1.6633e-02, -4.9494e-02,\n",
      "        -7.1200e-03, -2.7550e-03,  9.5473e-05,  2.0612e-02, -3.9284e-03,\n",
      "        -5.3172e-02,  5.0841e-02, -6.5580e-03,  1.5042e-02, -2.0727e-02,\n",
      "         3.6407e-02,  6.2968e-03,  8.9052e-03,  3.3805e-03, -4.4550e-02,\n",
      "        -2.9559e-02,  1.4923e-02, -5.2258e-02,  3.7455e-02,  3.0536e-02,\n",
      "         4.2308e-02, -3.0702e-02,  4.6495e-02, -4.3462e-02, -1.4863e-02,\n",
      "         2.0013e-02,  3.8287e-03, -3.3437e-02, -5.6452e-02, -5.7836e-02,\n",
      "        -2.6553e-02,  1.4620e-02,  4.5643e-02, -1.7525e-02, -4.6181e-03,\n",
      "         1.9488e-02,  2.0328e-02, -1.3107e-02,  8.8440e-03,  2.1804e-02,\n",
      "        -1.7267e-02,  1.1287e-02,  2.8874e-03,  1.1863e-02,  1.8763e-03,\n",
      "         5.8979e-02, -1.6907e-03, -3.9425e-02,  2.7334e-02, -3.0602e-02,\n",
      "         1.9731e-02,  9.0965e-03, -4.0102e-02,  3.0430e-02, -3.5759e-02,\n",
      "        -1.4733e-02, -1.2932e-02,  1.3541e-02,  5.7838e-02,  4.3267e-02,\n",
      "        -4.7906e-02,  5.1655e-02, -1.4928e-02, -4.0361e-02, -4.1327e-02,\n",
      "        -6.0788e-03,  3.6304e-02, -3.3995e-02, -3.7520e-02, -2.0472e-02,\n",
      "         2.7819e-02, -1.4743e-02,  2.7170e-02, -4.9316e-02, -3.4487e-02,\n",
      "        -2.3915e-03, -2.2037e-02, -3.4738e-02,  1.7948e-02, -2.6590e-02,\n",
      "        -5.2270e-02,  3.1826e-03,  5.3811e-02, -4.3073e-03, -2.8961e-02,\n",
      "        -4.7631e-02,  5.2121e-02,  2.1672e-02,  2.1862e-02,  3.1296e-02,\n",
      "        -3.4430e-02, -3.7903e-03, -5.0513e-02, -2.3626e-02, -4.8136e-02,\n",
      "        -4.8347e-02, -4.0459e-02, -2.6557e-02,  1.4042e-02, -3.3396e-02,\n",
      "         2.2055e-02,  1.1349e-02, -4.9364e-03, -1.3927e-03, -5.0433e-02,\n",
      "        -2.9856e-02, -1.8684e-02, -1.9873e-02, -6.3277e-02,  4.1208e-02,\n",
      "         1.4991e-03,  9.0585e-03, -3.1042e-02, -2.8773e-03, -5.2208e-02,\n",
      "        -1.3813e-02, -1.9495e-02,  2.2176e-02,  1.4626e-02,  1.8289e-02,\n",
      "         1.8726e-02, -1.5895e-02, -1.3451e-02], device='cuda:0')\n",
      "cnn2.weight tensor([[[-0.1069, -0.0846, -0.0097, -0.0150,  0.0232],\n",
      "         [ 0.0142,  0.0376, -0.0460,  0.0538,  0.0674],\n",
      "         [ 0.0252,  0.0387,  0.0044, -0.0133,  0.0310],\n",
      "         ...,\n",
      "         [-0.0634, -0.1009, -0.0435, -0.0009, -0.0401],\n",
      "         [-0.0322, -0.0313, -0.0436, -0.0983,  0.0082],\n",
      "         [ 0.1393,  0.0695,  0.0607, -0.0437, -0.0020]],\n",
      "\n",
      "        [[ 0.0194,  0.0635,  0.0923,  0.0645,  0.0821],\n",
      "         [-0.0871, -0.0725, -0.0927, -0.0431, -0.0516],\n",
      "         [ 0.0225, -0.0138, -0.0134,  0.0305,  0.0701],\n",
      "         ...,\n",
      "         [ 0.0651,  0.1037,  0.0589,  0.0874,  0.0637],\n",
      "         [-0.0525, -0.0247, -0.1304, -0.0620, -0.0646],\n",
      "         [ 0.0427,  0.0227,  0.0907, -0.0616, -0.0137]],\n",
      "\n",
      "        [[ 0.0351, -0.0221,  0.0197,  0.0224,  0.0359],\n",
      "         [-0.0141, -0.0279, -0.1121, -0.0669, -0.0383],\n",
      "         [ 0.0713,  0.0710,  0.0377,  0.0454,  0.0777],\n",
      "         ...,\n",
      "         [-0.0367,  0.0060,  0.0270,  0.0190,  0.0169],\n",
      "         [-0.0323,  0.0029, -0.0727, -0.0665, -0.0076],\n",
      "         [ 0.0782,  0.0751,  0.1156,  0.0306,  0.0183]],\n",
      "\n",
      "        ...,\n",
      "\n",
      "        [[-0.0404,  0.0250,  0.0309,  0.0297, -0.0200],\n",
      "         [ 0.0780,  0.0705, -0.0098, -0.0270, -0.0387],\n",
      "         [ 0.1283, -0.0172,  0.0121, -0.0172,  0.0191],\n",
      "         ...,\n",
      "         [-0.0990, -0.0500, -0.0069, -0.0325,  0.0135],\n",
      "         [-0.0136,  0.0565, -0.0122, -0.0376, -0.0549],\n",
      "         [ 0.0645,  0.0679,  0.1135,  0.0318,  0.0904]],\n",
      "\n",
      "        [[ 0.0074, -0.0195,  0.0336, -0.0369, -0.0386],\n",
      "         [ 0.0656, -0.0342, -0.0198,  0.0653,  0.0674],\n",
      "         [ 0.0513,  0.0990,  0.0113,  0.0865,  0.0592],\n",
      "         ...,\n",
      "         [-0.0085,  0.0336, -0.0141, -0.0691, -0.0439],\n",
      "         [ 0.0648,  0.0962,  0.0025,  0.0450,  0.0726],\n",
      "         [-0.0451, -0.0396,  0.0175,  0.0063,  0.0134]],\n",
      "\n",
      "        [[ 0.0810, -0.0015,  0.0191,  0.0298,  0.0422],\n",
      "         [-0.0760, -0.1140,  0.0188, -0.0553,  0.0152],\n",
      "         [ 0.0049,  0.0322,  0.0417,  0.0258,  0.0459],\n",
      "         ...,\n",
      "         [ 0.0313,  0.0749,  0.0771,  0.0396,  0.0173],\n",
      "         [-0.0163, -0.0345, -0.0451,  0.0478,  0.0240],\n",
      "         [ 0.0736, -0.0664,  0.0403, -0.1542, -0.0802]]], device='cuda:0')\n",
      "cnn2.bias tensor([ 0.0026,  0.0104, -0.0249, -0.0392, -0.0066, -0.0266,  0.0308,  0.0038,\n",
      "         0.0303,  0.0167, -0.0032, -0.0307, -0.0073, -0.0403,  0.0346,  0.0070,\n",
      "         0.0382, -0.0007, -0.0123, -0.0190, -0.0286, -0.0474,  0.0079,  0.0153,\n",
      "        -0.0165, -0.0138,  0.0057, -0.0374,  0.0220, -0.0030,  0.0230,  0.0071,\n",
      "         0.0395, -0.0457, -0.0329,  0.0238,  0.0036,  0.0173,  0.0266, -0.0137,\n",
      "         0.0043, -0.0436, -0.0047,  0.0262, -0.0285,  0.0083, -0.0272,  0.0190,\n",
      "         0.0144,  0.0280,  0.0322,  0.0127,  0.0377, -0.0060, -0.0193,  0.0227,\n",
      "        -0.0307, -0.0071, -0.0306,  0.0263,  0.0377,  0.0196,  0.0077, -0.0028,\n",
      "        -0.0089,  0.0320,  0.0091,  0.0071,  0.0181,  0.0109,  0.0013,  0.0111,\n",
      "         0.0165,  0.0265, -0.0121, -0.0022,  0.0118,  0.0310, -0.0077, -0.0138,\n",
      "         0.0105,  0.0004, -0.0108, -0.0076, -0.0244,  0.0444,  0.0166, -0.0325,\n",
      "         0.0241, -0.0171,  0.0081,  0.0154, -0.0349, -0.0399,  0.0256, -0.0298,\n",
      "        -0.0423, -0.0011,  0.0301,  0.0362, -0.0123, -0.0034, -0.0341,  0.0246,\n",
      "        -0.0353,  0.0016, -0.0321, -0.0139, -0.0151,  0.0085, -0.0249, -0.0086,\n",
      "         0.0319,  0.0258,  0.0295, -0.0072, -0.0197, -0.0295,  0.0131,  0.0235,\n",
      "         0.0244, -0.0215,  0.0181, -0.0275, -0.0040, -0.0254, -0.0147, -0.0318],\n",
      "       device='cuda:0')\n",
      "cnn3.weight tensor([[[ 0.0920,  0.0863, -0.0094,  ..., -0.0387, -0.0017,  0.0098],\n",
      "         [-0.0371,  0.0116,  0.0451,  ...,  0.0283,  0.0430, -0.0316],\n",
      "         [ 0.1040,  0.0733,  0.0681,  ..., -0.0720, -0.0259, -0.0200],\n",
      "         ...,\n",
      "         [ 0.0765,  0.0229,  0.0054,  ...,  0.0166,  0.0938,  0.0330],\n",
      "         [-0.0994, -0.1144, -0.0187,  ...,  0.0057,  0.0381, -0.1085],\n",
      "         [ 0.1970,  0.1671,  0.1206,  ...,  0.0714,  0.0830,  0.1129]],\n",
      "\n",
      "        [[ 0.0455, -0.0235, -0.0415,  ..., -0.0039,  0.0444,  0.0190],\n",
      "         [-0.0261,  0.0551, -0.0021,  ...,  0.0206, -0.0120,  0.0015],\n",
      "         [-0.0458,  0.0538,  0.0176,  ..., -0.0394, -0.1445, -0.1302],\n",
      "         ...,\n",
      "         [-0.0208, -0.1070, -0.0475,  ..., -0.0087, -0.0080, -0.0254],\n",
      "         [ 0.0753,  0.1389,  0.0448,  ...,  0.0515,  0.0082, -0.0143],\n",
      "         [ 0.0233,  0.0201,  0.0312,  ...,  0.0181,  0.0407,  0.0210]],\n",
      "\n",
      "        [[ 0.0305, -0.0204,  0.0164,  ..., -0.0711, -0.0266, -0.0548],\n",
      "         [-0.0072, -0.0274, -0.0028,  ...,  0.0009, -0.0271,  0.0016],\n",
      "         [-0.0318,  0.0557,  0.0497,  ...,  0.0351,  0.0008, -0.0102],\n",
      "         ...,\n",
      "         [ 0.0825,  0.0540, -0.0050,  ...,  0.0484,  0.0032,  0.0114],\n",
      "         [ 0.0400,  0.0741,  0.0025,  ..., -0.0185, -0.0337, -0.0013],\n",
      "         [ 0.1341,  0.0232,  0.0586,  ...,  0.0671,  0.0817,  0.0647]],\n",
      "\n",
      "        ...,\n",
      "\n",
      "        [[ 0.1476, -0.0549, -0.1378,  ..., -0.0444, -0.0019, -0.0031],\n",
      "         [ 0.2096,  0.1623,  0.1770,  ...,  0.0046, -0.0250, -0.0347],\n",
      "         [ 0.0545,  0.0170, -0.0605,  ...,  0.0033, -0.0370,  0.0165],\n",
      "         ...,\n",
      "         [ 0.1208,  0.0407, -0.1311,  ..., -0.0109, -0.0149,  0.0361],\n",
      "         [ 0.0828,  0.0654,  0.1414,  ...,  0.0799,  0.0157,  0.0669],\n",
      "         [-0.2359, -0.1901,  0.0034,  ...,  0.0207, -0.0241, -0.0468]],\n",
      "\n",
      "        [[ 0.0103, -0.0377, -0.0535,  ...,  0.0336,  0.0639,  0.0453],\n",
      "         [ 0.0096,  0.0132, -0.0229,  ..., -0.0163, -0.0422, -0.0504],\n",
      "         [-0.0515,  0.0513,  0.0152,  ..., -0.0615, -0.0346, -0.0895],\n",
      "         ...,\n",
      "         [ 0.0053, -0.0175, -0.0037,  ...,  0.0094,  0.0440,  0.0275],\n",
      "         [-0.0113, -0.0120, -0.0947,  ...,  0.0132, -0.0350, -0.0543],\n",
      "         [-0.0154,  0.0864,  0.1460,  ...,  0.0048,  0.0422,  0.0566]],\n",
      "\n",
      "        [[-0.0445, -0.0580, -0.0095,  ...,  0.0234, -0.0172,  0.0344],\n",
      "         [ 0.0362,  0.0845,  0.0796,  ...,  0.0865,  0.0640,  0.0510],\n",
      "         [-0.0087,  0.0923,  0.0220,  ..., -0.0538, -0.0278, -0.0755],\n",
      "         ...,\n",
      "         [-0.0410, -0.1121, -0.0659,  ..., -0.0205, -0.0486,  0.0086],\n",
      "         [ 0.1196,  0.0940,  0.0086,  ...,  0.0338,  0.0268,  0.0386],\n",
      "         [ 0.0304, -0.0116, -0.1014,  ...,  0.0330,  0.0441,  0.0781]]],\n",
      "       device='cuda:0')\n",
      "cnn3.bias tensor([ 0.0027, -0.0031, -0.0014, -0.0020, -0.0289, -0.0008, -0.0117, -0.0248,\n",
      "         0.0177, -0.0085, -0.0090, -0.0044, -0.0358,  0.0003, -0.0138,  0.0086,\n",
      "         0.0183, -0.0142,  0.0039,  0.0277,  0.0074, -0.0097,  0.0087,  0.0164,\n",
      "         0.0202, -0.0250, -0.0020, -0.0285, -0.0336, -0.0237, -0.0058, -0.0204,\n",
      "         0.0086,  0.0273,  0.0012,  0.0109,  0.0162, -0.0350, -0.0130,  0.0047,\n",
      "        -0.0119,  0.0157,  0.0219,  0.0243, -0.0186,  0.0282, -0.0178,  0.0082,\n",
      "        -0.0050, -0.0175, -0.0259,  0.0005,  0.0019,  0.0147, -0.0299, -0.0265,\n",
      "         0.0187,  0.0074, -0.0342, -0.0260,  0.0337,  0.0167, -0.0143, -0.0133,\n",
      "         0.0117,  0.0195,  0.0364,  0.0133, -0.0272, -0.0262, -0.0133,  0.0410,\n",
      "         0.0302,  0.0255,  0.0136, -0.0265,  0.0030,  0.0212,  0.0252, -0.0034,\n",
      "         0.0288, -0.0239,  0.0155, -0.0220,  0.0335,  0.0102,  0.0191,  0.0342,\n",
      "        -0.0192, -0.0153,  0.0036,  0.0177,  0.0098,  0.0259, -0.0328, -0.0284,\n",
      "        -0.0027,  0.0116, -0.0163,  0.0046,  0.0175, -0.0050, -0.0007,  0.0368,\n",
      "        -0.0348,  0.0048,  0.0087,  0.0065, -0.0296,  0.0006, -0.0209,  0.0083,\n",
      "        -0.0276,  0.0162,  0.0405,  0.0355,  0.0032,  0.0275,  0.0364, -0.0075,\n",
      "        -0.0215,  0.0059,  0.0251,  0.0017,  0.0165,  0.0148,  0.0374,  0.0007],\n",
      "       device='cuda:0')\n",
      "batchnorm.weight tensor([1.0014, 1.0328, 1.0846, 1.0105, 1.0539, 1.0047, 0.9801, 1.0191, 1.0538,\n",
      "        1.1029, 1.0062, 1.0205, 1.1482, 1.0498, 0.9549, 1.0407, 1.0425, 1.0992,\n",
      "        0.9073, 0.9722, 1.1194, 1.1102, 1.0128, 1.0515, 1.0519, 1.0448, 1.0875,\n",
      "        1.0909, 1.0122, 1.0100, 1.0497, 1.0991, 1.0400, 1.0093, 1.0134, 1.0164,\n",
      "        1.0948, 1.0806, 1.0261, 1.0587, 1.0413, 1.1066, 1.0025, 1.1184, 1.0348,\n",
      "        1.0652, 1.0527, 1.0249, 0.9618, 0.9964, 1.0412, 1.0288, 1.0399, 1.0504,\n",
      "        1.1616, 1.1151, 0.9942, 0.8792, 1.0313, 1.0594, 1.0379, 1.0313, 1.0820,\n",
      "        0.9937, 0.9688, 1.0939, 1.1241, 1.0198, 1.0936, 1.0243, 1.0016, 1.1035,\n",
      "        1.0933, 1.0910, 1.0627, 0.9693, 0.9950, 1.0335, 1.0322, 1.0044, 1.0515,\n",
      "        1.0815, 1.0725, 1.0879, 0.9931, 1.0990, 1.0028, 1.0069, 1.0316, 1.1438,\n",
      "        0.9937, 1.0328, 1.0100, 0.9555, 0.9937, 1.0676, 0.9394, 1.0156, 1.0406,\n",
      "        0.9860, 1.0857, 1.1233, 1.0632, 1.0375, 1.0032, 1.0440, 0.9869, 0.9970,\n",
      "        1.1436, 0.9749, 1.0494, 1.0892, 1.0128, 1.0902, 0.9877, 0.9725, 1.0680,\n",
      "        1.0621, 1.0556, 1.0213, 1.0158, 0.9992, 1.0155, 1.0540, 0.9614, 1.0161,\n",
      "        1.0508, 1.0492, 0.9765, 1.0218, 1.0074, 1.0955, 1.0344, 1.0621, 1.0963,\n",
      "        1.0217, 1.0382, 0.9924, 1.0772, 1.0446, 1.0935, 1.0519, 1.0791, 1.0233,\n",
      "        1.0175, 1.0711, 0.9888, 0.9824, 1.0016, 1.0266, 1.0294, 1.0686, 1.0569,\n",
      "        1.1629, 1.0544, 1.0056, 1.0426, 1.0414, 0.9955, 1.0463, 1.0212, 1.0615,\n",
      "        1.0163, 1.1804, 1.0241, 1.0849, 1.0704, 1.1099, 1.0003, 1.0933, 1.0158,\n",
      "        1.0302, 1.0280, 0.9972, 1.0179, 1.0400, 0.9985, 0.9908, 1.0350, 1.0813,\n",
      "        1.0286, 1.0960, 1.0442, 1.0943, 0.9999, 1.0073, 1.0773, 1.0362, 1.0799,\n",
      "        1.0745, 1.0657, 1.0708, 1.0436, 1.0419, 0.9750, 1.0366, 1.0299, 1.0223,\n",
      "        1.0517, 1.0661, 1.0528, 1.0818, 1.0226, 1.0577, 1.0667, 1.1431, 1.0277,\n",
      "        1.0514, 1.0047, 1.1086, 1.0757, 0.9917, 1.0050, 1.0813, 1.0585, 1.0423,\n",
      "        1.0741, 1.0482, 1.1131, 1.1179, 1.0205, 1.0196, 1.0041, 1.0095, 1.0081,\n",
      "        1.0449, 0.9808, 1.0530, 1.0623, 1.0742, 1.0795, 1.0187, 1.0845, 1.0066,\n",
      "        0.9963, 1.0219, 1.0741, 1.1110, 1.0649, 0.9932, 1.0988, 0.9899, 0.9609,\n",
      "        1.0093, 1.0671, 1.0554, 1.1296, 1.1043, 1.0526, 1.0017, 1.1019, 1.0877,\n",
      "        0.9364, 1.0066, 1.0536, 1.0258, 0.9942, 1.0072, 0.9958, 1.0812, 1.1447,\n",
      "        1.0367, 1.0676, 0.9836, 0.9968, 1.1130, 1.0174, 1.0926, 1.0490, 1.0578,\n",
      "        0.9827, 1.1138, 1.0463, 1.0941, 1.0327, 1.0404, 1.0389, 0.9710, 1.0663,\n",
      "        1.0746, 1.0159, 1.1227, 1.0569, 1.0934, 1.0501, 1.1020, 1.0976, 1.0992,\n",
      "        1.0130, 1.0062, 1.0648, 0.9745, 1.0181, 1.0861, 1.0817, 1.0511, 1.0346,\n",
      "        1.0323, 1.0856, 0.9835, 1.0866, 1.0888, 1.0539, 1.0633, 1.1173, 1.0781,\n",
      "        1.0244, 1.0402, 1.0374, 1.0733, 1.0463, 1.0254, 1.0755, 0.9918, 1.1042,\n",
      "        0.9952, 1.0555, 1.0132, 1.0141, 1.0692, 1.1257, 1.0407, 1.0110, 1.0693,\n",
      "        1.0111, 1.1357, 1.0580, 1.0525, 0.9758, 1.0751, 1.0230, 1.0422, 1.0388,\n",
      "        1.1575, 1.0902, 1.0449, 1.0756, 1.0476, 1.0551, 1.1101, 1.0092, 1.0546,\n",
      "        1.1401, 1.1420, 1.0259, 1.0502, 1.0680, 1.0387, 0.9930, 1.0509, 1.0126,\n",
      "        1.0657, 1.1355, 1.0690, 1.1031, 1.0484, 1.1937, 1.0907, 1.0110, 1.0639,\n",
      "        1.0064, 1.0604, 1.1591, 1.0941, 1.0917, 1.0885, 1.1059, 1.0439, 1.0834,\n",
      "        1.0310, 1.1045, 1.0468, 1.0802, 1.0638, 1.1119, 1.0195, 1.0485, 1.0246,\n",
      "        1.0340, 1.1412, 1.0089, 1.0928, 1.0187, 1.0084], device='cuda:0')\n",
      "batchnorm.bias tensor([-4.4915e-02, -2.3569e-02, -9.0650e-03, -6.1034e-02,  1.9652e-02,\n",
      "        -5.6001e-02, -1.2388e-01, -4.7692e-03, -2.2513e-02, -2.9922e-02,\n",
      "        -7.0886e-02, -1.9525e-02, -6.1071e-02,  2.6234e-02, -1.0692e-01,\n",
      "         3.9042e-03,  1.4843e-02, -3.0701e-02, -1.2401e-01, -4.3367e-02,\n",
      "        -1.0207e-02, -1.6776e-02, -5.6879e-02, -5.5461e-02, -4.3138e-02,\n",
      "         1.5307e-02,  1.0201e-02, -7.4206e-03, -5.6341e-02, -6.2789e-02,\n",
      "        -1.6803e-02,  1.7806e-02,  2.9795e-02, -1.3389e-03, -9.8370e-03,\n",
      "        -3.2065e-02, -3.3944e-02, -4.3684e-03, -1.9801e-02, -3.0890e-02,\n",
      "         1.6949e-03, -8.6930e-03, -3.9501e-03,  1.3585e-02, -2.7892e-02,\n",
      "         3.2479e-02,  2.4169e-02, -2.9396e-02, -6.2452e-02, -3.2782e-02,\n",
      "        -2.3853e-03, -4.0462e-02, -5.5816e-02, -4.1249e-03,  5.2264e-02,\n",
      "        -2.8049e-02, -6.3653e-02, -1.3846e-01, -7.0209e-04, -4.6102e-02,\n",
      "        -1.9005e-02, -6.5429e-03,  8.6324e-03, -6.0584e-02, -1.0292e-01,\n",
      "         3.8938e-03,  3.8785e-03, -4.9413e-02, -6.6949e-03, -8.3281e-02,\n",
      "        -5.2547e-02,  1.0591e-02,  3.1347e-02,  7.9500e-03, -1.7001e-02,\n",
      "        -6.5033e-02, -1.1576e-02, -3.5759e-03,  1.2387e-02, -9.4832e-02,\n",
      "        -4.5718e-02, -3.5973e-02, -2.7074e-02, -1.3681e-02, -7.0767e-02,\n",
      "        -5.1268e-02, -3.6268e-02, -6.8311e-02,  1.1688e-02, -8.9749e-03,\n",
      "        -2.4604e-02, -8.1124e-03, -5.1718e-02, -4.6506e-02, -8.9852e-02,\n",
      "        -2.6166e-02, -6.0860e-02,  7.5292e-03, -3.3833e-02, -1.1388e-01,\n",
      "        -4.9703e-02,  2.2396e-02, -1.5060e-02, -3.4604e-03, -1.7616e-02,\n",
      "        -3.5230e-02, -4.0209e-02, -3.4443e-02,  5.2109e-02, -2.4734e-02,\n",
      "        -3.4622e-03,  9.3894e-03, -1.0166e-02,  5.2787e-03, -2.2841e-02,\n",
      "        -7.4590e-02,  2.7066e-02,  3.4427e-02, -2.7607e-02, -1.4893e-02,\n",
      "        -9.8522e-02, -6.2589e-02, -9.9115e-03, -1.3097e-02, -1.2449e-01,\n",
      "        -1.4821e-02, -3.5447e-02, -3.1053e-02, -8.0137e-02, -3.8399e-02,\n",
      "        -4.1000e-02,  1.1848e-02, -2.9994e-02, -7.5953e-02,  2.3879e-02,\n",
      "        -2.9516e-02, -4.7330e-03, -9.2031e-04, -8.8487e-03,  7.8603e-03,\n",
      "        -5.3621e-03, -1.3388e-02, -1.0591e-02, -2.6733e-02, -2.9552e-02,\n",
      "         1.8502e-02, -4.5694e-02, -4.0784e-02, -4.0831e-02, -4.2275e-02,\n",
      "        -1.4336e-02,  9.6630e-03, -1.8685e-02,  5.0610e-02,  4.2806e-02,\n",
      "        -5.3579e-02, -1.0792e-02, -7.1390e-04, -3.8185e-02,  1.5071e-02,\n",
      "        -1.4160e-02, -1.3552e-02, -5.2386e-02,  2.7391e-02, -4.3068e-02,\n",
      "         3.8890e-02,  1.4010e-02, -1.9390e-02, -1.2680e-02,  5.8282e-03,\n",
      "        -1.1279e-02, -2.2449e-02, -3.7316e-02, -6.9116e-02, -5.4263e-02,\n",
      "        -5.3387e-02, -2.8786e-02, -8.6724e-02, -6.6525e-02, -1.9635e-02,\n",
      "        -1.3767e-02, -2.3830e-02, -1.7240e-02, -3.2527e-03, -8.5601e-02,\n",
      "        -4.3685e-02, -2.7884e-02, -3.8318e-02,  1.6816e-02,  1.3998e-03,\n",
      "         8.4657e-04, -3.9146e-02, -1.0954e-05, -1.3027e-02, -1.8926e-02,\n",
      "        -2.3525e-02, -2.8067e-02, -6.9529e-02, -2.6452e-02, -5.3834e-02,\n",
      "         1.0031e-02, -1.5411e-02, -6.3871e-02, -1.2515e-02, -4.4366e-02,\n",
      "        -1.3404e-02, -3.3072e-03,  8.0928e-03, -6.1129e-02,  7.7479e-03,\n",
      "        -1.1139e-02, -6.1981e-02, -6.2851e-02, -8.5097e-03,  1.9140e-02,\n",
      "        -5.2009e-02,  2.7087e-02, -3.2413e-02,  1.1333e-02, -7.8195e-04,\n",
      "         3.1983e-03, -4.0735e-02, -7.6688e-02, -3.6697e-02, -8.7445e-02,\n",
      "         1.0214e-02, -5.0499e-02, -2.2981e-03, -3.9872e-03, -8.3336e-03,\n",
      "         3.3838e-02, -1.5582e-02,  2.4113e-02, -1.5747e-02, -3.7489e-02,\n",
      "        -1.5196e-02,  1.8296e-02,  4.1271e-02, -2.1258e-02, -8.3949e-02,\n",
      "         1.8680e-03, -5.7947e-02, -5.6202e-02, -3.3110e-02, -9.5784e-03,\n",
      "        -8.5131e-03,  1.8730e-02,  5.9589e-02, -2.1494e-02, -3.8323e-02,\n",
      "        -1.0373e-02,  4.6875e-03, -1.1553e-01, -8.5245e-02, -2.6348e-02,\n",
      "        -6.4972e-02, -1.0059e-01, -3.9494e-02,  1.6885e-02, -1.3448e-02,\n",
      "         3.2400e-02, -5.4830e-02, -3.3354e-02, -9.8158e-02, -9.9641e-02,\n",
      "        -2.9068e-03, -2.2749e-02,  4.3715e-02, -5.3209e-02, -5.7974e-02,\n",
      "        -7.0530e-02,  5.5270e-03, -2.5322e-02,  1.9430e-03, -4.3544e-02,\n",
      "        -2.1364e-02, -5.6708e-03, -8.8451e-02, -4.0405e-02, -1.4553e-03,\n",
      "        -1.1876e-02,  5.3951e-02, -4.7588e-02, -6.4397e-02,  2.9246e-03,\n",
      "        -1.0974e-03,  1.6927e-02,  2.4870e-02, -2.3395e-02, -8.5400e-02,\n",
      "         9.5954e-03, -1.0348e-01, -3.0288e-02,  1.4223e-02,  2.4601e-02,\n",
      "        -1.7757e-02, -3.6456e-02, -3.8596e-02,  4.1499e-02, -1.0138e-01,\n",
      "        -1.4517e-02, -1.2834e-02, -3.3470e-03,  3.5744e-03,  1.1882e-02,\n",
      "         7.3388e-03,  7.0269e-03, -4.7460e-02, -2.1494e-02, -2.2569e-02,\n",
      "        -1.3381e-02, -3.9701e-02,  2.3384e-02, -7.6424e-02,  1.5402e-02,\n",
      "        -5.0478e-02, -4.2914e-03, -8.1398e-02, -5.7446e-02,  1.5607e-02,\n",
      "        -3.0524e-03, -1.4578e-02, -6.0315e-02, -4.7063e-02, -4.9566e-02,\n",
      "         2.1838e-02, -2.8037e-02, -1.8186e-02, -5.7943e-02, -4.8900e-02,\n",
      "        -6.0427e-03, -4.6589e-02, -5.4681e-02,  3.1668e-02,  3.3970e-02,\n",
      "        -1.8558e-02,  6.0945e-03, -1.8582e-02, -6.0871e-02, -9.6438e-03,\n",
      "        -4.0907e-02, -4.8375e-02, -7.0790e-03,  9.0659e-03, -5.8240e-02,\n",
      "        -7.0230e-02, -5.7177e-02,  3.2937e-03, -8.3583e-02, -6.6471e-02,\n",
      "        -5.7843e-02,  1.6446e-02,  1.1634e-02,  1.2208e-02, -1.2595e-02,\n",
      "        -2.6144e-02,  5.8263e-02, -3.1324e-02, -5.1601e-02, -2.1079e-02,\n",
      "        -6.2941e-02, -2.8863e-02,  3.1418e-02,  1.2292e-02, -2.1423e-02,\n",
      "        -1.0919e-02,  2.1748e-03, -5.9604e-02, -8.4024e-03, -5.0535e-02,\n",
      "         1.7340e-02, -1.2914e-02,  3.7948e-04, -4.4677e-02,  7.2894e-03,\n",
      "        -6.1855e-02, -2.3577e-02, -3.4982e-02, -4.0221e-02, -4.6034e-02,\n",
      "        -2.3167e-02,  1.6698e-02, -2.7707e-03, -6.1830e-02], device='cuda:0')\n",
      "lstm.weight_ih_l0 tensor([[-0.0931, -0.0485, -0.0221,  ..., -0.0287,  0.0391,  0.0401],\n",
      "        [ 0.0024, -0.0149, -0.0664,  ..., -0.0782, -0.0303,  0.0965],\n",
      "        [ 0.0160,  0.0081,  0.0249,  ...,  0.1843, -0.0532, -0.0654],\n",
      "        ...,\n",
      "        [-0.1314, -0.0149, -0.0650,  ..., -0.0084,  0.0249,  0.0038],\n",
      "        [ 0.0222,  0.0657,  0.0797,  ...,  0.0408,  0.0951,  0.0131],\n",
      "        [-0.0103, -0.0096, -0.0179,  ..., -0.1288, -0.1132,  0.0093]],\n",
      "       device='cuda:0')\n",
      "lstm.weight_hh_l0 tensor([[-0.0702, -0.0074, -0.0961,  ...,  0.0856,  0.1305, -0.0085],\n",
      "        [-0.0587, -0.0907, -0.0337,  ...,  0.0446, -0.0254, -0.0033],\n",
      "        [ 0.0420,  0.0010, -0.0622,  ..., -0.0772,  0.0999, -0.1087],\n",
      "        ...,\n",
      "        [-0.1789, -0.0047,  0.0217,  ..., -0.0327,  0.1118,  0.0593],\n",
      "        [-0.0468, -0.0297,  0.1230,  ..., -0.0005, -0.0027,  0.0365],\n",
      "        [-0.0068,  0.0506, -0.0740,  ...,  0.0998, -0.1121, -0.0201]],\n",
      "       device='cuda:0')\n",
      "lstm.bias_ih_l0 tensor([-0.0160, -0.0202,  0.0072,  ...,  0.0451,  0.0868, -0.0687],\n",
      "       device='cuda:0')\n",
      "lstm.bias_hh_l0 tensor([-0.0099,  0.0276,  0.0221,  ..., -0.0321,  0.0139, -0.0114],\n",
      "       device='cuda:0')\n",
      "lstm.weight_ih_l1 tensor([[ 0.2094, -0.1130, -0.0173,  ...,  0.0046,  0.0131,  0.0181],\n",
      "        [ 0.0159, -0.0537,  0.0276,  ...,  0.0035, -0.0261,  0.0514],\n",
      "        [ 0.0984,  0.0609,  0.0015,  ..., -0.0105, -0.0323,  0.0443],\n",
      "        ...,\n",
      "        [-0.0061,  0.1000, -0.0976,  ..., -0.0459, -0.0400, -0.0347],\n",
      "        [ 0.0850,  0.0133, -0.0394,  ..., -0.0658,  0.0718,  0.0441],\n",
      "        [ 0.0171,  0.1309, -0.0346,  ..., -0.0612, -0.0130, -0.0220]],\n",
      "       device='cuda:0')\n",
      "lstm.weight_hh_l1 tensor([[-0.0291,  0.0045, -0.0541,  ..., -0.0071,  0.0027,  0.0065],\n",
      "        [-0.0150, -0.0723, -0.0154,  ...,  0.0326,  0.0237, -0.0523],\n",
      "        [ 0.0281,  0.0155, -0.0315,  ...,  0.0292, -0.0234,  0.0024],\n",
      "        ...,\n",
      "        [ 0.0118,  0.0091,  0.0353,  ...,  0.0482,  0.0066, -0.0550],\n",
      "        [-0.0013,  0.0258, -0.0159,  ..., -0.0005, -0.0145,  0.0006],\n",
      "        [-0.0164,  0.0078,  0.0422,  ..., -0.0425, -0.0036,  0.0059]],\n",
      "       device='cuda:0')\n",
      "lstm.bias_ih_l1 tensor([-0.0217,  0.0521, -0.0384,  ..., -0.0485, -0.0061, -0.0179],\n",
      "       device='cuda:0')\n",
      "lstm.bias_hh_l1 tensor([ 0.0063, -0.0170, -0.0578,  ..., -0.0491, -0.0636,  0.0028],\n",
      "       device='cuda:0')\n",
      "linear.weight tensor([[-0.1084, -0.0311,  0.0024,  ...,  0.0459,  0.0126,  0.0044],\n",
      "        [ 0.0146, -0.0022, -0.0384,  ..., -0.0381, -0.0272,  0.0527],\n",
      "        [ 0.0139,  0.0271,  0.0101,  ..., -0.0070,  0.0047,  0.0235],\n",
      "        ...,\n",
      "        [ 0.0335,  0.0661, -0.0271,  ...,  0.0425, -0.0177, -0.1031],\n",
      "        [ 0.0791,  0.0457, -0.0462,  ..., -0.0021,  0.0041, -0.0898],\n",
      "        [ 0.0239,  0.0632, -0.0330,  ...,  0.0168, -0.0119, -0.1051]],\n",
      "       device='cuda:0')\n",
      "linear.bias tensor([ 0.0103,  0.0574,  0.0267,  0.0370, -0.0079, -0.0666, -0.0705],\n",
      "       device='cuda:0')\n"
     ]
    }
   ],
   "source": [
    "for name, param in model.named_parameters():\n",
    "    if param.requires_grad:\n",
    "        print(name, param.data)"
   ]
  },
  {
   "cell_type": "code",
   "execution_count": 20,
   "id": "cc9b6fd0",
   "metadata": {},
   "outputs": [],
   "source": [
    "model_path = f'../models/wav2vecbase/holdout{holdout}.pth'\n",
    "\n",
    "torch.save({'epoch':epochs,\n",
    "            'model_state_dict':model.state_dict(),\n",
    "            'optimizer_state_dict':optimizer.state_dict()},\n",
    "            model_path)"
   ]
  }
 ],
 "metadata": {
  "kernelspec": {
   "display_name": "Python 3",
   "language": "python",
   "name": "python3"
  },
  "language_info": {
   "codemirror_mode": {
    "name": "ipython",
    "version": 3
   },
   "file_extension": ".py",
   "mimetype": "text/x-python",
   "name": "python",
   "nbconvert_exporter": "python",
   "pygments_lexer": "ipython3",
   "version": "3.7.12"
  }
 },
 "nbformat": 4,
 "nbformat_minor": 5
}
