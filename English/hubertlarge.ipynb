{
 "cells": [
  {
   "cell_type": "markdown",
   "id": "83f52390",
   "metadata": {},
   "source": [
    "## Prepare Data"
   ]
  },
  {
   "cell_type": "code",
   "execution_count": 1,
   "id": "fcff203e",
   "metadata": {},
   "outputs": [],
   "source": [
    "import re\n",
    "import os\n",
    "import pandas as pd\n",
    "\n",
    "regex = re.compile(r'\\[.+\\]\\n', re.IGNORECASE)\n",
    "file_paths, file_names, sessions, emotions = [], [], [], []\n",
    "emotion_map = {'neu': 'neutral', 'ang': 'angry', 'hap': 'happy', 'exc': 'happy', 'sad': 'sad'}\n",
    "\n",
    "for session in range(1, 6):\n",
    "    emo_evaluation_dir = f'/home/jz3313/IEMOCAP_full_release/Session{session}/dialog/EmoEvaluation/'\n",
    "    file_dir = f'/home/jz3313/IEMOCAP_full_release/Session{session}/sentences/wav/'\n",
    "    evaluation_files = [l for l in os.listdir(emo_evaluation_dir) if 'Ses' in l]\n",
    "    for file in evaluation_files:\n",
    "        with open(emo_evaluation_dir + file) as f:\n",
    "            content = f.read()\n",
    "        lines = re.findall(regex, content)\n",
    "        for line in lines[1:]:  # the first line is a header\n",
    "            start_end_time, wav_file_name, emotion, val_act_dom = line.strip().split('\\t')\n",
    "            dir_name = '_'.join(wav_file_name.split('_')[:-1])\n",
    "            if emotion in emotion_map:\n",
    "                file_paths.append(file_dir+dir_name+'/'+wav_file_name+'.wav')\n",
    "                file_names.append(wav_file_name)\n",
    "                sessions.append(session)\n",
    "                emotions.append(emotion_map[emotion])"
   ]
  },
  {
   "cell_type": "code",
   "execution_count": 2,
   "id": "08cd075c",
   "metadata": {},
   "outputs": [],
   "source": [
    "file = pd.DataFrame({'path':file_paths, 'name': file_names, 'session': sessions, 'emotion': emotions})"
   ]
  },
  {
   "cell_type": "code",
   "execution_count": 3,
   "id": "277cf819",
   "metadata": {},
   "outputs": [
    {
     "data": {
      "text/html": [
       "<div>\n",
       "<style scoped>\n",
       "    .dataframe tbody tr th:only-of-type {\n",
       "        vertical-align: middle;\n",
       "    }\n",
       "\n",
       "    .dataframe tbody tr th {\n",
       "        vertical-align: top;\n",
       "    }\n",
       "\n",
       "    .dataframe thead th {\n",
       "        text-align: right;\n",
       "    }\n",
       "</style>\n",
       "<table border=\"1\" class=\"dataframe\">\n",
       "  <thead>\n",
       "    <tr style=\"text-align: right;\">\n",
       "      <th></th>\n",
       "      <th>path</th>\n",
       "      <th>name</th>\n",
       "      <th>session</th>\n",
       "      <th>emotion</th>\n",
       "    </tr>\n",
       "  </thead>\n",
       "  <tbody>\n",
       "    <tr>\n",
       "      <th>0</th>\n",
       "      <td>/home/jz3313/IEMOCAP_full_release/Session1/sen...</td>\n",
       "      <td>Ses01F_impro02_F000</td>\n",
       "      <td>1</td>\n",
       "      <td>sad</td>\n",
       "    </tr>\n",
       "    <tr>\n",
       "      <th>1</th>\n",
       "      <td>/home/jz3313/IEMOCAP_full_release/Session1/sen...</td>\n",
       "      <td>Ses01F_impro02_F001</td>\n",
       "      <td>1</td>\n",
       "      <td>sad</td>\n",
       "    </tr>\n",
       "    <tr>\n",
       "      <th>2</th>\n",
       "      <td>/home/jz3313/IEMOCAP_full_release/Session1/sen...</td>\n",
       "      <td>Ses01F_impro02_F002</td>\n",
       "      <td>1</td>\n",
       "      <td>sad</td>\n",
       "    </tr>\n",
       "    <tr>\n",
       "      <th>3</th>\n",
       "      <td>/home/jz3313/IEMOCAP_full_release/Session1/sen...</td>\n",
       "      <td>Ses01F_impro02_F003</td>\n",
       "      <td>1</td>\n",
       "      <td>neutral</td>\n",
       "    </tr>\n",
       "    <tr>\n",
       "      <th>4</th>\n",
       "      <td>/home/jz3313/IEMOCAP_full_release/Session1/sen...</td>\n",
       "      <td>Ses01F_impro02_F004</td>\n",
       "      <td>1</td>\n",
       "      <td>sad</td>\n",
       "    </tr>\n",
       "  </tbody>\n",
       "</table>\n",
       "</div>"
      ],
      "text/plain": [
       "                                                path                 name  \\\n",
       "0  /home/jz3313/IEMOCAP_full_release/Session1/sen...  Ses01F_impro02_F000   \n",
       "1  /home/jz3313/IEMOCAP_full_release/Session1/sen...  Ses01F_impro02_F001   \n",
       "2  /home/jz3313/IEMOCAP_full_release/Session1/sen...  Ses01F_impro02_F002   \n",
       "3  /home/jz3313/IEMOCAP_full_release/Session1/sen...  Ses01F_impro02_F003   \n",
       "4  /home/jz3313/IEMOCAP_full_release/Session1/sen...  Ses01F_impro02_F004   \n",
       "\n",
       "   session  emotion  \n",
       "0        1      sad  \n",
       "1        1      sad  \n",
       "2        1      sad  \n",
       "3        1  neutral  \n",
       "4        1      sad  "
      ]
     },
     "execution_count": 3,
     "metadata": {},
     "output_type": "execute_result"
    }
   ],
   "source": [
    "file.head()"
   ]
  },
  {
   "cell_type": "code",
   "execution_count": 4,
   "id": "42fa07c1",
   "metadata": {},
   "outputs": [
    {
     "name": "stdout",
     "output_type": "stream",
     "text": [
      "1.12.1+cu113\n",
      "0.12.1+cu113\n",
      "cuda\n"
     ]
    }
   ],
   "source": [
    "import torch\n",
    "import torchaudio\n",
    "\n",
    "print(torch.__version__)\n",
    "print(torchaudio.__version__)\n",
    "\n",
    "torch.random.manual_seed(0)\n",
    "device = torch.device(\"cuda\" if torch.cuda.is_available() else \"cpu\")\n",
    "\n",
    "print(device)"
   ]
  },
  {
   "cell_type": "code",
   "execution_count": 5,
   "id": "b67c39ab",
   "metadata": {},
   "outputs": [
    {
     "name": "stdout",
     "output_type": "stream",
     "text": [
      "<class 'torchaudio.models.wav2vec2.model.Wav2Vec2Model'>\n"
     ]
    }
   ],
   "source": [
    "bundle = torchaudio.pipelines.HUBERT_LARGE\n",
    "extractor = bundle.get_model()\n",
    "print(extractor.__class__)"
   ]
  },
  {
   "cell_type": "code",
   "execution_count": null,
   "id": "0d91d0a2",
   "metadata": {},
   "outputs": [],
   "source": [
    "from tqdm import tqdm\n",
    "\n",
    "for _, row in tqdm(file.iterrows()):\n",
    "    path, name, session, emotion = row[0], row[1], row[2], row[3]\n",
    "    wave, sr = torchaudio.load(path)\n",
    "    if sr != bundle.sample_rate:\n",
    "        wave = torchaudio.functional.resample(wave, sr, bundle.sample_rate)\n",
    "    with torch.inference_mode():\n",
    "        feature, _ = extractor.extract_features(wave)\n",
    "    feature = [f[0] for f in feature]\n",
    "    feature = torch.stack(feature)\n",
    "    save_path = f'../data/hubertlarge/Session{session}/{name}.pt'\n",
    "    torch.save(feature, save_path)"
   ]
  },
  {
   "cell_type": "markdown",
   "id": "8a7be560",
   "metadata": {},
   "source": [
    "## Load Data"
   ]
  },
  {
   "cell_type": "code",
   "execution_count": 6,
   "id": "3d955c5e",
   "metadata": {},
   "outputs": [],
   "source": [
    "file['newpath'] = file.apply(lambda x: f'../data/hubertlarge/Session{x[2]}/{x[1]}.pt', axis=1)"
   ]
  },
  {
   "cell_type": "code",
   "execution_count": 7,
   "id": "0cd4ffa6",
   "metadata": {},
   "outputs": [
    {
     "data": {
      "text/html": [
       "<div>\n",
       "<style scoped>\n",
       "    .dataframe tbody tr th:only-of-type {\n",
       "        vertical-align: middle;\n",
       "    }\n",
       "\n",
       "    .dataframe tbody tr th {\n",
       "        vertical-align: top;\n",
       "    }\n",
       "\n",
       "    .dataframe thead th {\n",
       "        text-align: right;\n",
       "    }\n",
       "</style>\n",
       "<table border=\"1\" class=\"dataframe\">\n",
       "  <thead>\n",
       "    <tr style=\"text-align: right;\">\n",
       "      <th></th>\n",
       "      <th>path</th>\n",
       "      <th>name</th>\n",
       "      <th>session</th>\n",
       "      <th>emotion</th>\n",
       "      <th>newpath</th>\n",
       "    </tr>\n",
       "  </thead>\n",
       "  <tbody>\n",
       "    <tr>\n",
       "      <th>0</th>\n",
       "      <td>/home/jz3313/IEMOCAP_full_release/Session1/sen...</td>\n",
       "      <td>Ses01F_impro02_F000</td>\n",
       "      <td>1</td>\n",
       "      <td>sad</td>\n",
       "      <td>../data/hubertlarge/Session1/Ses01F_impro02_F0...</td>\n",
       "    </tr>\n",
       "    <tr>\n",
       "      <th>1</th>\n",
       "      <td>/home/jz3313/IEMOCAP_full_release/Session1/sen...</td>\n",
       "      <td>Ses01F_impro02_F001</td>\n",
       "      <td>1</td>\n",
       "      <td>sad</td>\n",
       "      <td>../data/hubertlarge/Session1/Ses01F_impro02_F0...</td>\n",
       "    </tr>\n",
       "    <tr>\n",
       "      <th>2</th>\n",
       "      <td>/home/jz3313/IEMOCAP_full_release/Session1/sen...</td>\n",
       "      <td>Ses01F_impro02_F002</td>\n",
       "      <td>1</td>\n",
       "      <td>sad</td>\n",
       "      <td>../data/hubertlarge/Session1/Ses01F_impro02_F0...</td>\n",
       "    </tr>\n",
       "    <tr>\n",
       "      <th>3</th>\n",
       "      <td>/home/jz3313/IEMOCAP_full_release/Session1/sen...</td>\n",
       "      <td>Ses01F_impro02_F003</td>\n",
       "      <td>1</td>\n",
       "      <td>neutral</td>\n",
       "      <td>../data/hubertlarge/Session1/Ses01F_impro02_F0...</td>\n",
       "    </tr>\n",
       "    <tr>\n",
       "      <th>4</th>\n",
       "      <td>/home/jz3313/IEMOCAP_full_release/Session1/sen...</td>\n",
       "      <td>Ses01F_impro02_F004</td>\n",
       "      <td>1</td>\n",
       "      <td>sad</td>\n",
       "      <td>../data/hubertlarge/Session1/Ses01F_impro02_F0...</td>\n",
       "    </tr>\n",
       "  </tbody>\n",
       "</table>\n",
       "</div>"
      ],
      "text/plain": [
       "                                                path                 name  \\\n",
       "0  /home/jz3313/IEMOCAP_full_release/Session1/sen...  Ses01F_impro02_F000   \n",
       "1  /home/jz3313/IEMOCAP_full_release/Session1/sen...  Ses01F_impro02_F001   \n",
       "2  /home/jz3313/IEMOCAP_full_release/Session1/sen...  Ses01F_impro02_F002   \n",
       "3  /home/jz3313/IEMOCAP_full_release/Session1/sen...  Ses01F_impro02_F003   \n",
       "4  /home/jz3313/IEMOCAP_full_release/Session1/sen...  Ses01F_impro02_F004   \n",
       "\n",
       "   session  emotion                                            newpath  \n",
       "0        1      sad  ../data/hubertlarge/Session1/Ses01F_impro02_F0...  \n",
       "1        1      sad  ../data/hubertlarge/Session1/Ses01F_impro02_F0...  \n",
       "2        1      sad  ../data/hubertlarge/Session1/Ses01F_impro02_F0...  \n",
       "3        1  neutral  ../data/hubertlarge/Session1/Ses01F_impro02_F0...  \n",
       "4        1      sad  ../data/hubertlarge/Session1/Ses01F_impro02_F0...  "
      ]
     },
     "execution_count": 7,
     "metadata": {},
     "output_type": "execute_result"
    }
   ],
   "source": [
    "file.head()"
   ]
  },
  {
   "cell_type": "code",
   "execution_count": 8,
   "id": "eb4cd78e",
   "metadata": {},
   "outputs": [],
   "source": [
    "holdout = 5\n",
    "train = file[file['session'] != holdout]\n",
    "test = file[file['session'] == holdout]"
   ]
  },
  {
   "cell_type": "code",
   "execution_count": 9,
   "id": "75a75bd9",
   "metadata": {},
   "outputs": [],
   "source": [
    "class MyDataSet(torch.utils.data.Dataset):\n",
    "    def __init__(self, datas, labels, label_transform):\n",
    "        super(MyDataSet).__init__()\n",
    "        self.datas = datas\n",
    "        self.labels = labels\n",
    "        self.label_transform = label_transform\n",
    "        \n",
    "    def __getitem__(self, idx):\n",
    "        audio = self.datas[idx]\n",
    "        label = self.label_transform[self.labels[idx]]\n",
    "        length = audio.size(1)\n",
    "        return audio, length, label\n",
    "    \n",
    "    def __len__(self):\n",
    "        return len(self.labels)"
   ]
  },
  {
   "cell_type": "code",
   "execution_count": 10,
   "id": "141ec40a",
   "metadata": {},
   "outputs": [],
   "source": [
    "def collate_indic(data):\n",
    "    audios, lengths, labels = zip(*data)\n",
    "    max_len = max(lengths)\n",
    "    n_ftrs = audios[0].size(2)\n",
    "    n_dims = audios[0].size(0)\n",
    "    features = torch.zeros((len(audios), n_dims, max_len, n_ftrs))\n",
    "    labels = torch.tensor(labels)\n",
    "    lengths = torch.tensor(lengths)\n",
    "\n",
    "    for i in range(len(data)):\n",
    "        j, k = audios[i].size(1), audios[i].size(2)\n",
    "        features[i] = torch.cat([audios[i], torch.zeros((n_dims, max_len - j, k))], dim=1)\n",
    "\n",
    "    return features, lengths, labels"
   ]
  },
  {
   "cell_type": "code",
   "execution_count": 11,
   "id": "0738ead4",
   "metadata": {},
   "outputs": [
    {
     "data": {
      "text/plain": [
       "{'angry': 0, 'happy': 1, 'neutral': 2, 'sad': 3}"
      ]
     },
     "execution_count": 11,
     "metadata": {},
     "output_type": "execute_result"
    }
   ],
   "source": [
    "categories = ['angry', 'happy', 'neutral', 'sad']\n",
    "cate_dic = {}\n",
    "for i, cate in enumerate(categories):\n",
    "    cate_dic[cate] = i\n",
    "cate_dic"
   ]
  },
  {
   "cell_type": "markdown",
   "id": "adf4848c",
   "metadata": {},
   "source": [
    "## Train with 3CNN+LSTM"
   ]
  },
  {
   "cell_type": "code",
   "execution_count": 12,
   "id": "2ef1a6ec",
   "metadata": {},
   "outputs": [],
   "source": [
    "import torch.nn as nn\n",
    "import torch.nn.functional as F\n",
    "\n",
    "class ICASSP3CNN(nn.Module):\n",
    "    def __init__(self, vocab_size, dims = 12, embed_size=128, hidden_size=512, num_lstm_layers = 2, bidirectional = False, label_size=7):\n",
    "        super().__init__()\n",
    "        self.n_layers = num_lstm_layers \n",
    "        self.hidden = hidden_size\n",
    "        self.bidirectional = bidirectional\n",
    "        \n",
    "        self.aggr = nn.Conv1d(in_channels=dims, out_channels=1, kernel_size=1)\n",
    "        \n",
    "        self.embed = nn.Linear(in_features = vocab_size, out_features = embed_size)\n",
    "\n",
    "        self.cnn  = nn.Conv1d(embed_size, embed_size, kernel_size=3, padding=1)\n",
    "        self.cnn2 = nn.Conv1d(embed_size, embed_size, kernel_size=5, padding=2)\n",
    "        self.cnn3 = nn.Conv1d(embed_size, embed_size, kernel_size=7, padding=3)\n",
    "\n",
    "        self.batchnorm = nn.BatchNorm1d(3 * embed_size)\n",
    "\n",
    "        self.lstm = nn.LSTM(input_size = 3 * embed_size, \n",
    "                            hidden_size = hidden_size, \n",
    "                            num_layers = num_lstm_layers, \n",
    "                            bidirectional = bidirectional)\n",
    "\n",
    "        self.linear = nn.Linear(in_features = 2 * hidden_size if bidirectional else hidden_size, \n",
    "                                out_features = label_size)\n",
    "\n",
    "\n",
    "    def forward(self, x, lengths):\n",
    "        \"\"\"\n",
    "        padded_x: (B,T) padded LongTensor\n",
    "        \"\"\"\n",
    "        n, d, b, t = x.size(0), x.size(1), x.size(2), x.size(3)\n",
    "        x = torch.flatten(x, start_dim=2)\n",
    "        input = self.aggr(x)\n",
    "        input = torch.reshape(input, (n, b, t))\n",
    "        input = self.embed(input)\n",
    "\n",
    "        batch_size = input.size(0)\n",
    "        input = input.transpose(1,2)    # (B,T,H) -> (B,H,T)\n",
    "\n",
    "        cnn_output = torch.cat([self.cnn(input), self.cnn2(input), self.cnn3(input)], dim=1)\n",
    "\n",
    "        input = F.relu(self.batchnorm(cnn_output))\n",
    "\n",
    "        input = input.transpose(1,2)\n",
    "\n",
    "        pack_tensor = nn.utils.rnn.pack_padded_sequence(input, lengths, batch_first=True, enforce_sorted=False)\n",
    "        _, (hn, cn) = self.lstm(pack_tensor)\n",
    "\n",
    "        if self.bidirectional:\n",
    "            h_n = hn.view(self.n_layers, 2, batch_size, self.hidden)\n",
    "            h_n = torch.cat([ h_n[-1, 0,:], h_n[-1,1,:] ], dim = 1)\n",
    "        else:\n",
    "            h_n = hn[-1]\n",
    "\n",
    "        logits = self.linear(h_n)\n",
    "\n",
    "        return logits"
   ]
  },
  {
   "cell_type": "markdown",
   "id": "21a7d392",
   "metadata": {},
   "source": [
    "### Model Traning on each layer "
   ]
  },
  {
   "cell_type": "code",
   "execution_count": 13,
   "id": "01d051d0",
   "metadata": {},
   "outputs": [
    {
     "name": "stderr",
     "output_type": "stream",
     "text": [
      "4290it [19:20,  3.70it/s]\n"
     ]
    }
   ],
   "source": [
    "from tqdm import tqdm\n",
    "from torch.utils.data import DataLoader\n",
    "\n",
    "traindata = []\n",
    "for _, row in tqdm(train.iterrows()):\n",
    "    traindata.append(torch.load(row[4]))\n",
    "\n",
    "train_dataset = MyDataSet(traindata, train['emotion'].tolist(), cate_dic)\n",
    "trainloader_args = dict(batch_size=16, shuffle=True)\n",
    "train_dataloader = DataLoader(train_dataset, **trainloader_args, \n",
    "                              collate_fn=collate_indic)"
   ]
  },
  {
   "cell_type": "code",
   "execution_count": 15,
   "id": "e6942285",
   "metadata": {},
   "outputs": [],
   "source": [
    "from tqdm import tqdm\n",
    "from torchsummary import summary\n",
    "import torch.optim as optim\n",
    "\n",
    "model = ICASSP3CNN(1024, 24)\n",
    "model = model.to(device)\n",
    "criterion = nn.CrossEntropyLoss()\n",
    "optimizer = optim.Adam(model.parameters(), lr=0.001)"
   ]
  },
  {
   "cell_type": "code",
   "execution_count": 16,
   "id": "75762bdc",
   "metadata": {},
   "outputs": [
    {
     "name": "stderr",
     "output_type": "stream",
     "text": [
      "  2%|███▎                                                                                                                                                                 | 1/50 [02:02<1:40:08, 122.63s/it]"
     ]
    },
    {
     "name": "stdout",
     "output_type": "stream",
     "text": [
      "epoch:1, train accu:0.3562, train loss:1.29\n"
     ]
    },
    {
     "name": "stderr",
     "output_type": "stream",
     "text": [
      "\r",
      "  4%|██████▌                                                                                                                                                              | 2/50 [04:00<1:35:49, 119.78s/it]"
     ]
    },
    {
     "name": "stdout",
     "output_type": "stream",
     "text": [
      "epoch:2, train accu:0.4816, train loss:1.12\n"
     ]
    },
    {
     "name": "stderr",
     "output_type": "stream",
     "text": [
      "\r",
      "  6%|█████████▉                                                                                                                                                           | 3/50 [05:57<1:32:53, 118.59s/it]"
     ]
    },
    {
     "name": "stdout",
     "output_type": "stream",
     "text": [
      "epoch:3, train accu:0.5270, train loss:1.04\n"
     ]
    },
    {
     "name": "stderr",
     "output_type": "stream",
     "text": [
      "\r",
      "  8%|█████████████▏                                                                                                                                                       | 4/50 [07:53<1:30:12, 117.67s/it]"
     ]
    },
    {
     "name": "stdout",
     "output_type": "stream",
     "text": [
      "epoch:4, train accu:0.5559, train loss:1.00\n"
     ]
    },
    {
     "name": "stderr",
     "output_type": "stream",
     "text": [
      "\r",
      " 10%|████████████████▌                                                                                                                                                    | 5/50 [09:52<1:28:25, 117.90s/it]"
     ]
    },
    {
     "name": "stdout",
     "output_type": "stream",
     "text": [
      "epoch:5, train accu:0.5821, train loss:0.97\n"
     ]
    },
    {
     "name": "stderr",
     "output_type": "stream",
     "text": [
      "\r",
      " 12%|███████████████████▊                                                                                                                                                 | 6/50 [11:48<1:26:08, 117.47s/it]"
     ]
    },
    {
     "name": "stdout",
     "output_type": "stream",
     "text": [
      "epoch:6, train accu:0.5944, train loss:0.93\n"
     ]
    },
    {
     "name": "stderr",
     "output_type": "stream",
     "text": [
      "\r",
      " 14%|███████████████████████                                                                                                                                              | 7/50 [13:46<1:24:07, 117.39s/it]"
     ]
    },
    {
     "name": "stdout",
     "output_type": "stream",
     "text": [
      "epoch:7, train accu:0.6198, train loss:0.89\n"
     ]
    },
    {
     "name": "stderr",
     "output_type": "stream",
     "text": [
      "\r",
      " 16%|██████████████████████████▍                                                                                                                                          | 8/50 [15:43<1:22:06, 117.30s/it]"
     ]
    },
    {
     "name": "stdout",
     "output_type": "stream",
     "text": [
      "epoch:8, train accu:0.6371, train loss:0.87\n"
     ]
    },
    {
     "name": "stderr",
     "output_type": "stream",
     "text": [
      "\r",
      " 18%|█████████████████████████████▋                                                                                                                                       | 9/50 [17:38<1:19:50, 116.84s/it]"
     ]
    },
    {
     "name": "stdout",
     "output_type": "stream",
     "text": [
      "epoch:9, train accu:0.6578, train loss:0.83\n"
     ]
    },
    {
     "name": "stderr",
     "output_type": "stream",
     "text": [
      "\r",
      " 20%|████████████████████████████████▊                                                                                                                                   | 10/50 [19:35<1:17:48, 116.71s/it]"
     ]
    },
    {
     "name": "stdout",
     "output_type": "stream",
     "text": [
      "epoch:10, train accu:0.6753, train loss:0.79\n"
     ]
    },
    {
     "name": "stderr",
     "output_type": "stream",
     "text": [
      "\r",
      " 22%|████████████████████████████████████                                                                                                                                | 11/50 [21:32<1:15:57, 116.86s/it]"
     ]
    },
    {
     "name": "stdout",
     "output_type": "stream",
     "text": [
      "epoch:11, train accu:0.6830, train loss:0.78\n"
     ]
    },
    {
     "name": "stderr",
     "output_type": "stream",
     "text": [
      "\r",
      " 24%|███████████████████████████████████████▎                                                                                                                            | 12/50 [23:29<1:14:05, 116.99s/it]"
     ]
    },
    {
     "name": "stdout",
     "output_type": "stream",
     "text": [
      "epoch:12, train accu:0.6865, train loss:0.76\n"
     ]
    },
    {
     "name": "stderr",
     "output_type": "stream",
     "text": [
      "\r",
      " 26%|██████████████████████████████████████████▋                                                                                                                         | 13/50 [25:27<1:12:21, 117.33s/it]"
     ]
    },
    {
     "name": "stdout",
     "output_type": "stream",
     "text": [
      "epoch:13, train accu:0.7016, train loss:0.73\n"
     ]
    },
    {
     "name": "stderr",
     "output_type": "stream",
     "text": [
      "\r",
      " 28%|█████████████████████████████████████████████▉                                                                                                                      | 14/50 [27:25<1:10:24, 117.36s/it]"
     ]
    },
    {
     "name": "stdout",
     "output_type": "stream",
     "text": [
      "epoch:14, train accu:0.7140, train loss:0.71\n"
     ]
    },
    {
     "name": "stderr",
     "output_type": "stream",
     "text": [
      "\r",
      " 30%|█████████████████████████████████████████████████▏                                                                                                                  | 15/50 [29:22<1:08:23, 117.24s/it]"
     ]
    },
    {
     "name": "stdout",
     "output_type": "stream",
     "text": [
      "epoch:15, train accu:0.7219, train loss:0.68\n"
     ]
    },
    {
     "name": "stderr",
     "output_type": "stream",
     "text": [
      "\r",
      " 32%|████████████████████████████████████████████████████▍                                                                                                               | 16/50 [31:19<1:06:23, 117.17s/it]"
     ]
    },
    {
     "name": "stdout",
     "output_type": "stream",
     "text": [
      "epoch:16, train accu:0.7364, train loss:0.65\n"
     ]
    },
    {
     "name": "stderr",
     "output_type": "stream",
     "text": [
      "\r",
      " 34%|███████████████████████████████████████████████████████▊                                                                                                            | 17/50 [33:15<1:04:20, 116.98s/it]"
     ]
    },
    {
     "name": "stdout",
     "output_type": "stream",
     "text": [
      "epoch:17, train accu:0.7548, train loss:0.61\n"
     ]
    },
    {
     "name": "stderr",
     "output_type": "stream",
     "text": [
      "\r",
      " 36%|███████████████████████████████████████████████████████████                                                                                                         | 18/50 [35:13<1:02:24, 117.03s/it]"
     ]
    },
    {
     "name": "stdout",
     "output_type": "stream",
     "text": [
      "epoch:18, train accu:0.7629, train loss:0.59\n"
     ]
    },
    {
     "name": "stderr",
     "output_type": "stream",
     "text": [
      "\r",
      " 38%|██████████████████████████████████████████████████████████████▎                                                                                                     | 19/50 [37:09<1:00:20, 116.78s/it]"
     ]
    },
    {
     "name": "stdout",
     "output_type": "stream",
     "text": [
      "epoch:19, train accu:0.7741, train loss:0.57\n"
     ]
    },
    {
     "name": "stderr",
     "output_type": "stream",
     "text": [
      "\r",
      " 40%|██████████████████████████████████████████████████████████████████▍                                                                                                   | 20/50 [39:05<58:16, 116.55s/it]"
     ]
    },
    {
     "name": "stdout",
     "output_type": "stream",
     "text": [
      "epoch:20, train accu:0.7783, train loss:0.55\n"
     ]
    },
    {
     "name": "stderr",
     "output_type": "stream",
     "text": [
      "\r",
      " 42%|█████████████████████████████████████████████████████████████████████▋                                                                                                | 21/50 [41:02<56:26, 116.77s/it]"
     ]
    },
    {
     "name": "stdout",
     "output_type": "stream",
     "text": [
      "epoch:21, train accu:0.7909, train loss:0.53\n"
     ]
    },
    {
     "name": "stderr",
     "output_type": "stream",
     "text": [
      "\r",
      " 44%|█████████████████████████████████████████████████████████████████████████                                                                                             | 22/50 [43:00<54:39, 117.13s/it]"
     ]
    },
    {
     "name": "stdout",
     "output_type": "stream",
     "text": [
      "epoch:22, train accu:0.8033, train loss:0.50\n"
     ]
    },
    {
     "name": "stderr",
     "output_type": "stream",
     "text": [
      "\r",
      " 46%|████████████████████████████████████████████████████████████████████████████▎                                                                                         | 23/50 [44:58<52:46, 117.29s/it]"
     ]
    },
    {
     "name": "stdout",
     "output_type": "stream",
     "text": [
      "epoch:23, train accu:0.8100, train loss:0.47\n"
     ]
    },
    {
     "name": "stderr",
     "output_type": "stream",
     "text": [
      "\r",
      " 48%|███████████████████████████████████████████████████████████████████████████████▋                                                                                      | 24/50 [46:54<50:42, 117.00s/it]"
     ]
    },
    {
     "name": "stdout",
     "output_type": "stream",
     "text": [
      "epoch:24, train accu:0.8303, train loss:0.45\n"
     ]
    },
    {
     "name": "stderr",
     "output_type": "stream",
     "text": [
      "\r",
      " 50%|███████████████████████████████████████████████████████████████████████████████████                                                                                   | 25/50 [48:49<48:32, 116.52s/it]"
     ]
    },
    {
     "name": "stdout",
     "output_type": "stream",
     "text": [
      "epoch:25, train accu:0.8371, train loss:0.42\n"
     ]
    },
    {
     "name": "stderr",
     "output_type": "stream",
     "text": [
      "\r",
      " 52%|██████████████████████████████████████████████████████████████████████████████████████▎                                                                               | 26/50 [50:49<46:59, 117.49s/it]"
     ]
    },
    {
     "name": "stdout",
     "output_type": "stream",
     "text": [
      "epoch:26, train accu:0.8350, train loss:0.41\n"
     ]
    },
    {
     "name": "stderr",
     "output_type": "stream",
     "text": [
      "\r",
      " 54%|█████████████████████████████████████████████████████████████████████████████████████████▋                                                                            | 27/50 [52:47<45:03, 117.55s/it]"
     ]
    },
    {
     "name": "stdout",
     "output_type": "stream",
     "text": [
      "epoch:27, train accu:0.8462, train loss:0.40\n"
     ]
    },
    {
     "name": "stderr",
     "output_type": "stream",
     "text": [
      "\r",
      " 56%|████████████████████████████████████████████████████████████████████████████████████████████▉                                                                         | 28/50 [54:42<42:51, 116.90s/it]"
     ]
    },
    {
     "name": "stdout",
     "output_type": "stream",
     "text": [
      "epoch:28, train accu:0.8590, train loss:0.38\n"
     ]
    },
    {
     "name": "stderr",
     "output_type": "stream",
     "text": [
      "\r",
      " 58%|████████████████████████████████████████████████████████████████████████████████████████████████▎                                                                     | 29/50 [56:38<40:49, 116.63s/it]"
     ]
    },
    {
     "name": "stdout",
     "output_type": "stream",
     "text": [
      "epoch:29, train accu:0.8664, train loss:0.35\n"
     ]
    },
    {
     "name": "stderr",
     "output_type": "stream",
     "text": [
      "\r",
      " 60%|███████████████████████████████████████████████████████████████████████████████████████████████████▌                                                                  | 30/50 [58:34<38:47, 116.38s/it]"
     ]
    },
    {
     "name": "stdout",
     "output_type": "stream",
     "text": [
      "epoch:30, train accu:0.8681, train loss:0.33\n"
     ]
    },
    {
     "name": "stderr",
     "output_type": "stream",
     "text": [
      "\r",
      " 62%|█████████████████████████████████████████████████████████████████████████████████████████████████████▋                                                              | 31/50 [1:00:31<36:51, 116.41s/it]"
     ]
    },
    {
     "name": "stdout",
     "output_type": "stream",
     "text": [
      "epoch:31, train accu:0.8809, train loss:0.31\n"
     ]
    },
    {
     "name": "stderr",
     "output_type": "stream",
     "text": [
      "\r",
      " 64%|████████████████████████████████████████████████████████████████████████████████████████████████████████▉                                                           | 32/50 [1:02:28<35:01, 116.75s/it]"
     ]
    },
    {
     "name": "stdout",
     "output_type": "stream",
     "text": [
      "epoch:32, train accu:0.8853, train loss:0.29\n"
     ]
    },
    {
     "name": "stderr",
     "output_type": "stream",
     "text": [
      "\r",
      " 66%|████████████████████████████████████████████████████████████████████████████████████████████████████████████▏                                                       | 33/50 [1:04:26<33:09, 117.00s/it]"
     ]
    },
    {
     "name": "stdout",
     "output_type": "stream",
     "text": [
      "epoch:33, train accu:0.8886, train loss:0.29\n"
     ]
    },
    {
     "name": "stderr",
     "output_type": "stream",
     "text": [
      "\r",
      " 68%|███████████████████████████████████████████████████████████████████████████████████████████████████████████████▌                                                    | 34/50 [1:06:23<31:13, 117.12s/it]"
     ]
    },
    {
     "name": "stdout",
     "output_type": "stream",
     "text": [
      "epoch:34, train accu:0.8986, train loss:0.28\n"
     ]
    },
    {
     "name": "stderr",
     "output_type": "stream",
     "text": [
      "\r",
      " 70%|██████████████████████████████████████████████████████████████████████████████████████████████████████████████████▊                                                 | 35/50 [1:08:21<29:19, 117.33s/it]"
     ]
    },
    {
     "name": "stdout",
     "output_type": "stream",
     "text": [
      "epoch:35, train accu:0.9033, train loss:0.24\n"
     ]
    },
    {
     "name": "stderr",
     "output_type": "stream",
     "text": [
      "\r",
      " 72%|██████████████████████████████████████████████████████████████████████████████████████████████████████████████████████                                              | 36/50 [1:10:18<27:23, 117.39s/it]"
     ]
    },
    {
     "name": "stdout",
     "output_type": "stream",
     "text": [
      "epoch:36, train accu:0.9028, train loss:0.25\n"
     ]
    },
    {
     "name": "stderr",
     "output_type": "stream",
     "text": [
      "\r",
      " 74%|█████████████████████████████████████████████████████████████████████████████████████████████████████████████████████████▎                                          | 37/50 [1:12:15<25:23, 117.22s/it]"
     ]
    },
    {
     "name": "stdout",
     "output_type": "stream",
     "text": [
      "epoch:37, train accu:0.9184, train loss:0.21\n"
     ]
    },
    {
     "name": "stderr",
     "output_type": "stream",
     "text": [
      "\r",
      " 76%|████████████████████████████████████████████████████████████████████████████████████████████████████████████████████████████▋                                       | 38/50 [1:14:13<23:28, 117.38s/it]"
     ]
    },
    {
     "name": "stdout",
     "output_type": "stream",
     "text": [
      "epoch:38, train accu:0.9170, train loss:0.22\n"
     ]
    },
    {
     "name": "stderr",
     "output_type": "stream",
     "text": [
      "\r",
      " 78%|███████████████████████████████████████████████████████████████████████████████████████████████████████████████████████████████▉                                    | 39/50 [1:16:09<21:26, 116.96s/it]"
     ]
    },
    {
     "name": "stdout",
     "output_type": "stream",
     "text": [
      "epoch:39, train accu:0.9294, train loss:0.19\n"
     ]
    },
    {
     "name": "stderr",
     "output_type": "stream",
     "text": [
      "\r",
      " 80%|███████████████████████████████████████████████████████████████████████████████████████████████████████████████████████████████████▏                                | 40/50 [1:18:06<19:30, 117.08s/it]"
     ]
    },
    {
     "name": "stdout",
     "output_type": "stream",
     "text": [
      "epoch:40, train accu:0.9361, train loss:0.17\n"
     ]
    },
    {
     "name": "stderr",
     "output_type": "stream",
     "text": [
      "\r",
      " 82%|██████████████████████████████████████████████████████████████████████████████████████████████████████████████████████████████████████▍                             | 41/50 [1:20:03<17:33, 117.03s/it]"
     ]
    },
    {
     "name": "stdout",
     "output_type": "stream",
     "text": [
      "epoch:41, train accu:0.9354, train loss:0.16\n"
     ]
    },
    {
     "name": "stderr",
     "output_type": "stream",
     "text": [
      "\r",
      " 84%|█████████████████████████████████████████████████████████████████████████████████████████████████████████████████████████████████████████▊                          | 42/50 [1:22:00<15:35, 116.93s/it]"
     ]
    },
    {
     "name": "stdout",
     "output_type": "stream",
     "text": [
      "epoch:42, train accu:0.9368, train loss:0.16\n"
     ]
    },
    {
     "name": "stderr",
     "output_type": "stream",
     "text": [
      "\r",
      " 86%|█████████████████████████████████████████████████████████████████████████████████████████████████████████████████████████████████████████████                       | 43/50 [1:23:57<13:38, 116.94s/it]"
     ]
    },
    {
     "name": "stdout",
     "output_type": "stream",
     "text": [
      "epoch:43, train accu:0.9026, train loss:0.25\n"
     ]
    },
    {
     "name": "stderr",
     "output_type": "stream",
     "text": [
      "\r",
      " 88%|████████████████████████████████████████████████████████████████████████████████████████████████████████████████████████████████████████████████▎                   | 44/50 [1:25:55<11:43, 117.18s/it]"
     ]
    },
    {
     "name": "stdout",
     "output_type": "stream",
     "text": [
      "epoch:44, train accu:0.9604, train loss:0.12\n"
     ]
    },
    {
     "name": "stderr",
     "output_type": "stream",
     "text": [
      "\r",
      " 90%|███████████████████████████████████████████████████████████████████████████████████████████████████████████████████████████████████████████████████▌                | 45/50 [1:27:51<09:44, 116.90s/it]"
     ]
    },
    {
     "name": "stdout",
     "output_type": "stream",
     "text": [
      "epoch:45, train accu:0.9520, train loss:0.13\n"
     ]
    },
    {
     "name": "stderr",
     "output_type": "stream",
     "text": [
      "\r",
      " 92%|██████████████████████████████████████████████████████████████████████████████████████████████████████████████████████████████████████████████████████▉             | 46/50 [1:29:48<07:47, 116.90s/it]"
     ]
    },
    {
     "name": "stdout",
     "output_type": "stream",
     "text": [
      "epoch:46, train accu:0.9448, train loss:0.14\n"
     ]
    },
    {
     "name": "stderr",
     "output_type": "stream",
     "text": [
      "\r",
      " 94%|██████████████████████████████████████████████████████████████████████████████████████████████████████████████████████████████████████████████████████████▏         | 47/50 [1:31:44<05:50, 116.72s/it]"
     ]
    },
    {
     "name": "stdout",
     "output_type": "stream",
     "text": [
      "epoch:47, train accu:0.9531, train loss:0.14\n"
     ]
    },
    {
     "name": "stderr",
     "output_type": "stream",
     "text": [
      "\r",
      " 96%|█████████████████████████████████████████████████████████████████████████████████████████████████████████████████████████████████████████████████████████████▍      | 48/50 [1:33:40<03:52, 116.46s/it]"
     ]
    },
    {
     "name": "stdout",
     "output_type": "stream",
     "text": [
      "epoch:48, train accu:0.9459, train loss:0.15\n"
     ]
    },
    {
     "name": "stderr",
     "output_type": "stream",
     "text": [
      "\r",
      " 98%|████████████████████████████████████████████████████████████████████████████████████████████████████████████████████████████████████████████████████████████████▋   | 49/50 [1:35:38<01:56, 116.79s/it]"
     ]
    },
    {
     "name": "stdout",
     "output_type": "stream",
     "text": [
      "epoch:49, train accu:0.9641, train loss:0.09\n"
     ]
    },
    {
     "name": "stderr",
     "output_type": "stream",
     "text": [
      "100%|████████████████████████████████████████████████████████████████████████████████████████████████████████████████████████████████████████████████████████████████████| 50/50 [1:37:35<00:00, 117.12s/it]"
     ]
    },
    {
     "name": "stdout",
     "output_type": "stream",
     "text": [
      "epoch:50, train accu:0.9641, train loss:0.09\n"
     ]
    },
    {
     "name": "stderr",
     "output_type": "stream",
     "text": [
      "\n"
     ]
    }
   ],
   "source": [
    "epochs = 50\n",
    "train_losses = []\n",
    "train_accuracies = []\n",
    "valid_losses = []\n",
    "valid_accuracies = []\n",
    "\n",
    "for epoch in tqdm(range(epochs)):\n",
    "    train_loss = 0\n",
    "    acc_cnt = 0\n",
    "    err_cnt = 0\n",
    "    batch_cnt = 0\n",
    "    model.train()\n",
    "    for batch, (x, length, y) in enumerate(train_dataloader):\n",
    "        x = x.to(device)\n",
    "        y = y.to(device)\n",
    "        optimizer.zero_grad()\n",
    "        logits = model(x, length)\n",
    "        loss = criterion(logits, y)\n",
    "        loss.backward()\n",
    "        optimizer.step()\n",
    "        train_loss += loss.cpu().item()\n",
    "\n",
    "        #model outputs\n",
    "        out_val, out_indices = torch.max(logits, dim=1)\n",
    "        tar_indices = y\n",
    "\n",
    "        for i in range(len(out_indices)):\n",
    "            if out_indices[i] == tar_indices[i]:\n",
    "                acc_cnt += 1\n",
    "            else:\n",
    "                err_cnt += 1\n",
    "        batch_cnt += 1\n",
    "    \n",
    "    train_loss = train_loss/batch_cnt\n",
    "    train_accuracy = acc_cnt/(acc_cnt+err_cnt)\n",
    "    train_accuracies.append(train_accuracy)\n",
    "    train_losses.append(train_loss)\n",
    "    \n",
    "    print(f\"epoch:{epoch+1}, train accu:{train_accuracy:.4f},\", f\"train loss:{train_loss:.2f}\")"
   ]
  },
  {
   "cell_type": "markdown",
   "id": "42092bf7",
   "metadata": {},
   "source": [
    "## Model Test"
   ]
  },
  {
   "cell_type": "code",
   "execution_count": 17,
   "id": "3c5c9897",
   "metadata": {},
   "outputs": [
    {
     "name": "stderr",
     "output_type": "stream",
     "text": [
      "1241it [05:27,  3.78it/s]\n"
     ]
    }
   ],
   "source": [
    "from tqdm import tqdm\n",
    "\n",
    "testdata = []\n",
    "for _, row in tqdm(test.iterrows()):\n",
    "    testdata.append(torch.load(row[4]))\n",
    "    \n",
    "test_dataset = MyDataSet(testdata, test['emotion'].tolist(), cate_dic)\n",
    "testloader_args = dict(batch_size=1, shuffle=True)\n",
    "test_dataloader = DataLoader(test_dataset, **testloader_args, \n",
    "                             collate_fn=collate_indic)"
   ]
  },
  {
   "cell_type": "code",
   "execution_count": 18,
   "id": "3120f8d4",
   "metadata": {},
   "outputs": [
    {
     "name": "stdout",
     "output_type": "stream",
     "text": [
      "test accuracy: 0.5842062852538276\n"
     ]
    }
   ],
   "source": [
    "test_loss = 0\n",
    "acc_cnt = 0\n",
    "err_cnt = 0\n",
    "batch_cnt = 0\n",
    "model.eval()\n",
    "\n",
    "for x, lengths, y in test_dataloader:\n",
    "\n",
    "    x = x.to(device)\n",
    "    y = y.to(device)\n",
    "\n",
    "    logits = model(x, lengths)\n",
    "    loss = criterion(logits, y)\n",
    "    test_loss += loss.cpu().item()\n",
    "\n",
    "    out_val, out_indices = torch.max(logits, dim=1)\n",
    "    tar_indices = y\n",
    "\n",
    "    for i in range(len(out_indices)):\n",
    "        if out_indices[i] == tar_indices[i]:\n",
    "            acc_cnt += 1\n",
    "        else:\n",
    "            err_cnt += 1\n",
    "    batch_cnt += 1\n",
    "\n",
    "test_loss = test_loss/batch_cnt\n",
    "test_accuracy = acc_cnt/(acc_cnt+err_cnt)\n",
    "print(f'test accuracy: {test_accuracy}')"
   ]
  },
  {
   "cell_type": "code",
   "execution_count": 19,
   "id": "997c700b",
   "metadata": {},
   "outputs": [
    {
     "name": "stdout",
     "output_type": "stream",
     "text": [
      "aggr.weight tensor([[[ 0.1965],\n",
      "         [ 0.0680],\n",
      "         [ 0.0651],\n",
      "         [ 0.0419],\n",
      "         [-0.1110],\n",
      "         [ 0.1095],\n",
      "         [-0.1839],\n",
      "         [-0.3844],\n",
      "         [-0.2530],\n",
      "         [ 0.0046],\n",
      "         [-0.0066],\n",
      "         [-0.2062],\n",
      "         [-0.2324],\n",
      "         [ 0.0124],\n",
      "         [-0.0154],\n",
      "         [-0.0420],\n",
      "         [ 0.0308],\n",
      "         [-0.2259],\n",
      "         [-0.1874],\n",
      "         [ 0.5724],\n",
      "         [ 0.1875],\n",
      "         [-0.0353],\n",
      "         [ 0.1283],\n",
      "         [ 0.0384]]], device='cuda:0')\n",
      "aggr.bias tensor([0.0939], device='cuda:0')\n",
      "embed.weight tensor([[-0.1367,  0.0463, -0.0061,  ...,  0.0029,  0.2632, -0.0590],\n",
      "        [ 0.0252, -0.0278,  0.2660,  ...,  0.2371,  0.1935,  0.0794],\n",
      "        [-0.0566,  0.0074,  0.0039,  ..., -0.0582,  0.1193,  0.0087],\n",
      "        ...,\n",
      "        [ 0.1415, -0.0841, -0.0207,  ...,  0.0290, -0.1894, -0.0430],\n",
      "        [ 0.1165,  0.0523,  0.0439,  ...,  0.0537, -0.1463, -0.0426],\n",
      "        [-0.1131,  0.0109, -0.0870,  ..., -0.0439,  0.2326, -0.0077]],\n",
      "       device='cuda:0')\n",
      "embed.bias tensor([ 0.0514,  0.0869,  0.0572,  0.0073,  0.1668, -0.1318,  0.0038, -0.1011,\n",
      "         0.1156, -0.1129, -0.1206,  0.0447,  0.1297,  0.1681, -0.1367,  0.1919,\n",
      "         0.1479, -0.1902, -0.0577,  0.0997,  0.1037, -0.1546,  0.3033,  0.0802,\n",
      "         0.1447, -0.2738, -0.0661,  0.0833, -0.0481, -0.1455, -0.0450, -0.1548,\n",
      "         0.0603, -0.1752,  0.0682, -0.0717, -0.1111,  0.2763, -0.0432,  0.0435,\n",
      "        -0.1327, -0.2424, -0.3275,  0.2024, -0.1471, -0.0357, -0.1609, -0.1937,\n",
      "         0.0525, -0.1312,  0.0839,  0.3096,  0.2329,  0.2626, -0.1965,  0.0150,\n",
      "         0.0931,  0.0879,  0.0165,  0.1485,  0.0734,  0.0402, -0.0946, -0.0185,\n",
      "        -0.2073,  0.0803,  0.1512,  0.1340, -0.1994, -0.1371,  0.2454,  0.0938,\n",
      "         0.2049, -0.1224,  0.0608,  0.0479,  0.0655,  0.1802,  0.0667,  0.0320,\n",
      "         0.0709,  0.0263, -0.1167, -0.0232,  0.2040,  0.0131,  0.0372, -0.0578,\n",
      "        -0.0289,  0.0816, -0.0919,  0.0691,  0.0585, -0.2080, -0.0475,  0.1365,\n",
      "        -0.1436, -0.0280,  0.0156,  0.0404, -0.0449, -0.1671, -0.1199, -0.1407,\n",
      "        -0.0025, -0.0645, -0.0810, -0.1765, -0.0750, -0.0091,  0.2186,  0.1413,\n",
      "        -0.1200,  0.1032, -0.0304, -0.0816, -0.0927,  0.1734,  0.1958,  0.0233,\n",
      "        -0.1229, -0.0261,  0.2136,  0.1479,  0.2718,  0.0159,  0.1267, -0.1547],\n",
      "       device='cuda:0')\n",
      "cnn.weight tensor([[[ 5.6841e-03, -1.7280e-01, -9.3873e-02],\n",
      "         [ 1.2499e-03, -2.6781e-01, -5.4846e-02],\n",
      "         [-2.7464e-01, -1.2174e-01, -1.3543e-01],\n",
      "         ...,\n",
      "         [-3.8754e-02,  7.5187e-02, -4.6475e-02],\n",
      "         [ 3.4039e-01,  1.2806e-01,  1.7321e-01],\n",
      "         [-1.6505e-02, -1.5370e-01, -9.9858e-02]],\n",
      "\n",
      "        [[ 4.7935e-02,  1.1601e-01, -1.1571e-01],\n",
      "         [ 6.8963e-02,  1.6905e-01, -3.7349e-03],\n",
      "         [ 1.1975e-01,  1.7804e-01,  5.4849e-02],\n",
      "         ...,\n",
      "         [ 1.1249e-01, -4.5711e-03,  7.2103e-02],\n",
      "         [-2.2263e-01, -1.6692e-01, -1.8634e-01],\n",
      "         [ 1.4957e-01,  2.3809e-02,  4.1964e-02]],\n",
      "\n",
      "        [[ 1.6520e-01, -9.2771e-02, -1.5224e-02],\n",
      "         [-2.9431e-02,  3.7556e-03, -7.7012e-03],\n",
      "         [ 6.3418e-02, -9.9753e-02, -1.4245e-01],\n",
      "         ...,\n",
      "         [ 6.2617e-02,  3.5502e-01,  1.9006e-01],\n",
      "         [-8.6942e-02, -2.9286e-02, -6.1427e-02],\n",
      "         [ 6.5663e-02, -7.7714e-02, -1.5629e-02]],\n",
      "\n",
      "        ...,\n",
      "\n",
      "        [[-7.8674e-02,  1.5499e-01,  4.5332e-02],\n",
      "         [-1.7503e-01,  3.1582e-01,  1.6594e-01],\n",
      "         [ 2.1017e-02,  2.2941e-01,  1.2266e-02],\n",
      "         ...,\n",
      "         [ 5.2893e-02,  9.0593e-02,  1.8159e-01],\n",
      "         [-1.6951e-02, -2.4195e-01, -8.1714e-02],\n",
      "         [-7.3044e-03,  5.9358e-02, -2.9939e-03]],\n",
      "\n",
      "        [[ 7.5943e-02,  6.8711e-02,  4.2179e-02],\n",
      "         [-1.4371e-01,  1.9884e-01, -5.4969e-02],\n",
      "         [-5.3374e-05,  1.1437e-01,  1.0047e-01],\n",
      "         ...,\n",
      "         [ 1.2533e-02,  8.7379e-03,  8.6847e-02],\n",
      "         [ 9.3724e-02,  1.5540e-01,  5.4533e-02],\n",
      "         [-9.8854e-02,  4.8108e-02,  1.3113e-02]],\n",
      "\n",
      "        [[-1.4172e-01, -1.8468e-01,  1.0373e-01],\n",
      "         [-4.4665e-01, -1.3318e-01, -1.1454e-01],\n",
      "         [-5.8668e-02, -1.1266e-01,  2.2622e-03],\n",
      "         ...,\n",
      "         [ 2.6290e-01, -1.2531e-01, -1.4596e-01],\n",
      "         [-1.4585e-01,  2.5871e-02,  1.0828e-01],\n",
      "         [-2.2508e-01, -7.8346e-02, -3.0061e-02]]], device='cuda:0')\n",
      "cnn.bias tensor([ 0.0191,  0.0485, -0.0017, -0.0365,  0.0380,  0.0047,  0.0159, -0.0164,\n",
      "        -0.0454,  0.0367, -0.0433,  0.0408,  0.0213,  0.0115,  0.0067,  0.0348,\n",
      "        -0.0470, -0.0368, -0.0119,  0.0218, -0.0244, -0.0123, -0.0321, -0.0493,\n",
      "        -0.0335,  0.0311,  0.0360, -0.0033, -0.0034,  0.0040,  0.0200,  0.0478,\n",
      "        -0.0446,  0.0278,  0.0447, -0.0122, -0.0424,  0.0298, -0.0432,  0.0145,\n",
      "         0.0420,  0.0323,  0.0151, -0.0262,  0.0205, -0.0455,  0.0120, -0.0032,\n",
      "        -0.0122,  0.0511,  0.0056,  0.0299, -0.0001,  0.0273,  0.0337, -0.0047,\n",
      "        -0.0070, -0.0454,  0.0296, -0.0344, -0.0062, -0.0466,  0.0022, -0.0379,\n",
      "        -0.0009,  0.0398, -0.0230, -0.0052, -0.0392,  0.0092, -0.0371, -0.0112,\n",
      "         0.0279, -0.0320, -0.0001, -0.0404, -0.0466,  0.0209,  0.0176,  0.0126,\n",
      "        -0.0204,  0.0152,  0.0431,  0.0158, -0.0126,  0.0368,  0.0255, -0.0392,\n",
      "         0.0105,  0.0185,  0.0478,  0.0374,  0.0476,  0.0365,  0.0181, -0.0068,\n",
      "         0.0333,  0.0227, -0.0144,  0.0278,  0.0119, -0.0310,  0.0503,  0.0101,\n",
      "         0.0305,  0.0373, -0.0391, -0.0106, -0.0292, -0.0370,  0.0433, -0.0041,\n",
      "         0.0157,  0.0110, -0.0345,  0.0070, -0.0504, -0.0161,  0.0255,  0.0094,\n",
      "         0.0415, -0.0471, -0.0344,  0.0423,  0.0069, -0.0428,  0.0020,  0.0193],\n",
      "       device='cuda:0')\n",
      "cnn2.weight tensor([[[-0.0581,  0.0798, -0.1543,  0.0428,  0.0915],\n",
      "         [-0.1378, -0.1468, -0.0103,  0.1305,  0.0353],\n",
      "         [-0.0438,  0.0605, -0.1106,  0.0608,  0.1752],\n",
      "         ...,\n",
      "         [-0.0387, -0.1066,  0.2114,  0.1224,  0.1096],\n",
      "         [ 0.2053, -0.0620, -0.1117, -0.1523, -0.1142],\n",
      "         [-0.1574,  0.0456, -0.1175, -0.0565, -0.0491]],\n",
      "\n",
      "        [[ 0.0283,  0.1897,  0.0583, -0.1157, -0.0836],\n",
      "         [-0.1419, -0.0068,  0.1173,  0.1443, -0.0259],\n",
      "         [-0.2275,  0.0285,  0.0668, -0.1665, -0.2600],\n",
      "         ...,\n",
      "         [-0.0438, -0.1594,  0.1358,  0.1904,  0.1499],\n",
      "         [ 0.2543, -0.0713, -0.1523,  0.0775, -0.0498],\n",
      "         [-0.0828,  0.0276,  0.0266, -0.2070, -0.1401]],\n",
      "\n",
      "        [[ 0.1135,  0.0462,  0.1040, -0.0057, -0.0896],\n",
      "         [ 0.0549,  0.1211,  0.3190,  0.1292,  0.1009],\n",
      "         [ 0.0151,  0.0063,  0.1147,  0.0148,  0.0589],\n",
      "         ...,\n",
      "         [-0.2574, -0.0112,  0.0042,  0.0554, -0.0141],\n",
      "         [ 0.0406, -0.0087,  0.0307, -0.0005, -0.1505],\n",
      "         [ 0.0737,  0.0700, -0.0360, -0.0249,  0.1215]],\n",
      "\n",
      "        ...,\n",
      "\n",
      "        [[-0.0295, -0.0364, -0.0988, -0.0093, -0.0584],\n",
      "         [-0.0337, -0.0759, -0.2767, -0.1070, -0.2629],\n",
      "         [-0.1056, -0.1991, -0.1276,  0.0108,  0.0462],\n",
      "         ...,\n",
      "         [ 0.1784, -0.1757, -0.0701, -0.0439, -0.1177],\n",
      "         [-0.1593, -0.0666, -0.0844, -0.1384, -0.1170],\n",
      "         [ 0.0019,  0.0373,  0.0607,  0.0897,  0.0758]],\n",
      "\n",
      "        [[-0.0423, -0.0155, -0.0705, -0.0466, -0.0438],\n",
      "         [ 0.0240,  0.1115, -0.1717, -0.0351,  0.0224],\n",
      "         [ 0.0667,  0.0118, -0.0383,  0.0843,  0.1084],\n",
      "         ...,\n",
      "         [-0.0162,  0.0401, -0.0864, -0.1742, -0.0553],\n",
      "         [-0.0665, -0.0127, -0.0303, -0.0963, -0.0793],\n",
      "         [-0.0414, -0.0572, -0.0393,  0.0015,  0.1000]],\n",
      "\n",
      "        [[ 0.1180,  0.2029, -0.0540,  0.1394,  0.0523],\n",
      "         [-0.0108,  0.1460, -0.0724,  0.0820,  0.1618],\n",
      "         [-0.1930,  0.0607, -0.2376, -0.0591,  0.0190],\n",
      "         ...,\n",
      "         [-0.0054,  0.1773,  0.1216,  0.0686,  0.0747],\n",
      "         [ 0.0574, -0.0339, -0.0534, -0.0464, -0.1457],\n",
      "         [-0.0405,  0.0410, -0.0200,  0.0098,  0.0756]]], device='cuda:0')\n",
      "cnn2.bias tensor([-2.0569e-02, -2.1903e-02, -2.4756e-02,  2.6257e-02,  3.8034e-02,\n",
      "        -6.9834e-03, -3.0915e-02, -2.5812e-02, -3.0768e-02, -3.0038e-02,\n",
      "        -1.0518e-02,  3.7301e-02, -2.4922e-02, -2.2629e-02, -6.2635e-03,\n",
      "         3.8561e-02,  7.3678e-03, -2.2060e-02, -1.7019e-02,  2.5191e-02,\n",
      "        -2.3439e-02, -1.0087e-02,  1.4744e-02, -5.4524e-03,  2.4165e-02,\n",
      "         2.7857e-02,  3.5296e-02,  6.1811e-03,  1.3566e-02, -1.7023e-02,\n",
      "        -3.7202e-03,  1.8084e-02,  4.6910e-03,  2.3043e-02, -2.4168e-02,\n",
      "        -1.3055e-03,  2.3533e-02, -1.7468e-02, -2.5934e-02, -2.6908e-02,\n",
      "         2.8938e-02,  2.2489e-02,  5.0924e-03, -3.5552e-02, -3.2182e-02,\n",
      "        -3.1598e-02, -2.7243e-03,  2.0476e-02, -2.2823e-02,  1.9246e-02,\n",
      "         1.3314e-02,  1.9458e-02, -1.4297e-02,  1.1652e-02, -3.8292e-02,\n",
      "        -2.4702e-02,  3.2518e-02,  2.5474e-02, -3.2209e-02,  2.3834e-02,\n",
      "        -7.1511e-03,  3.1076e-02, -3.0175e-02, -2.2914e-02, -3.8729e-02,\n",
      "        -3.0844e-02,  1.6821e-02,  1.9972e-02, -7.8047e-05, -3.4193e-02,\n",
      "        -2.6151e-02, -1.3779e-02,  2.9328e-02,  1.1574e-02, -3.4643e-02,\n",
      "        -1.2308e-02, -2.2876e-02, -3.6832e-02,  2.6673e-02, -2.8925e-02,\n",
      "        -1.0462e-02, -2.6799e-02, -1.4470e-02,  6.2656e-03, -3.0327e-02,\n",
      "        -1.5830e-02, -1.4012e-02, -1.1433e-02,  1.6936e-02,  1.0078e-02,\n",
      "        -2.5331e-02, -2.3658e-02,  4.2463e-03, -1.3591e-02,  1.7649e-02,\n",
      "        -2.6972e-02,  8.5499e-03,  3.1117e-02, -3.5223e-02,  2.6235e-02,\n",
      "         4.7737e-03, -3.9122e-02,  1.3832e-02, -5.7589e-03,  3.8865e-02,\n",
      "         8.7789e-03,  2.0812e-02,  2.9698e-02, -2.4503e-02,  2.1332e-02,\n",
      "         7.8254e-03, -2.2429e-02,  5.3427e-03, -1.0688e-02,  5.0783e-03,\n",
      "         2.9928e-02, -3.8202e-02, -2.7189e-02,  3.0811e-02,  4.5733e-03,\n",
      "         2.6013e-02,  3.8094e-02,  1.7402e-02, -2.6024e-02, -3.7917e-02,\n",
      "         6.1564e-03,  2.7668e-02, -3.1140e-02], device='cuda:0')\n",
      "cnn3.weight tensor([[[ 0.0964, -0.0064, -0.0871,  ...,  0.0198,  0.0285,  0.0258],\n",
      "         [ 0.1173,  0.1782,  0.2107,  ...,  0.1423,  0.0461, -0.0340],\n",
      "         [ 0.0995, -0.0402, -0.1184,  ...,  0.1008,  0.0695,  0.0548],\n",
      "         ...,\n",
      "         [ 0.1905,  0.1697,  0.0956,  ...,  0.0056, -0.0170, -0.0996],\n",
      "         [ 0.0295, -0.0739,  0.0412,  ..., -0.1077,  0.0902, -0.1086],\n",
      "         [-0.0341, -0.0772, -0.2673,  ...,  0.0988, -0.0412,  0.1037]],\n",
      "\n",
      "        [[ 0.0620,  0.0178,  0.0091,  ..., -0.0555, -0.1155, -0.0715],\n",
      "         [-0.2731, -0.3297, -0.2957,  ...,  0.0351,  0.0843,  0.0767],\n",
      "         [-0.0466, -0.1109, -0.0950,  ..., -0.0534, -0.1110, -0.1254],\n",
      "         ...,\n",
      "         [-0.3404, -0.2849, -0.2784,  ..., -0.0398,  0.0460,  0.0243],\n",
      "         [ 0.0349,  0.2288,  0.0110,  ..., -0.0011,  0.0367, -0.0326],\n",
      "         [ 0.0189,  0.0042,  0.0449,  ..., -0.0194, -0.1035, -0.0449]],\n",
      "\n",
      "        [[ 0.0742,  0.0102, -0.0984,  ..., -0.0893, -0.1492, -0.1191],\n",
      "         [-0.0720,  0.0841,  0.1386,  ...,  0.0443,  0.1208,  0.0568],\n",
      "         [ 0.0965, -0.0282, -0.1431,  ..., -0.2314, -0.1542, -0.2415],\n",
      "         ...,\n",
      "         [-0.0728,  0.0405,  0.0441,  ...,  0.1638,  0.2851,  0.1861],\n",
      "         [ 0.0802,  0.0198, -0.0637,  ..., -0.1753, -0.1099,  0.0563],\n",
      "         [ 0.0652, -0.0212, -0.0713,  ..., -0.0245, -0.0865, -0.1485]],\n",
      "\n",
      "        ...,\n",
      "\n",
      "        [[ 0.0487, -0.0290,  0.0335,  ..., -0.0359,  0.0503,  0.0229],\n",
      "         [ 0.0094,  0.0392, -0.0009,  ..., -0.0192,  0.0531,  0.0294],\n",
      "         [ 0.0660, -0.0262,  0.0074,  ...,  0.0123, -0.0551, -0.1807],\n",
      "         ...,\n",
      "         [-0.0234,  0.0946, -0.0624,  ..., -0.1298, -0.2339, -0.2111],\n",
      "         [-0.0573, -0.0361,  0.1087,  ...,  0.0746,  0.2336,  0.1427],\n",
      "         [ 0.0624, -0.0369, -0.0345,  ...,  0.0868, -0.0409,  0.0321]],\n",
      "\n",
      "        [[ 0.0016, -0.0125, -0.0065,  ...,  0.0242, -0.0106,  0.0248],\n",
      "         [ 0.1251,  0.2364,  0.1484,  ..., -0.0041,  0.0273, -0.0096],\n",
      "         [-0.0465, -0.1357, -0.2301,  ..., -0.0770,  0.1053,  0.1463],\n",
      "         ...,\n",
      "         [ 0.0673,  0.1957,  0.0067,  ...,  0.0503,  0.0411,  0.0076],\n",
      "         [ 0.3756,  0.0895,  0.1191,  ..., -0.0593,  0.0097, -0.0683],\n",
      "         [-0.1097, -0.0372,  0.0366,  ...,  0.0936, -0.0564,  0.0348]],\n",
      "\n",
      "        [[ 0.1002, -0.0627,  0.0629,  ..., -0.0085,  0.0462, -0.0040],\n",
      "         [ 0.3427,  0.6216,  0.3803,  ...,  0.1148,  0.2315,  0.0767],\n",
      "         [-0.0412,  0.0015, -0.0671,  ...,  0.0621,  0.0935, -0.0267],\n",
      "         ...,\n",
      "         [ 0.1099,  0.1931,  0.0303,  ...,  0.0735,  0.1350,  0.0277],\n",
      "         [-0.0898,  0.0049, -0.0429,  ..., -0.0676, -0.1708, -0.1667],\n",
      "         [-0.0507, -0.0850, -0.1969,  ...,  0.0558,  0.0914,  0.0740]]],\n",
      "       device='cuda:0')\n",
      "cnn3.bias tensor([-0.0306, -0.0179,  0.0317, -0.0304, -0.0283,  0.0153, -0.0078,  0.0093,\n",
      "        -0.0327,  0.0125, -0.0134, -0.0330,  0.0197, -0.0090,  0.0324,  0.0117,\n",
      "         0.0128, -0.0323,  0.0043,  0.0157,  0.0107, -0.0170, -0.0045, -0.0309,\n",
      "        -0.0209, -0.0093, -0.0095, -0.0237, -0.0325, -0.0220, -0.0024, -0.0325,\n",
      "        -0.0147,  0.0002,  0.0233,  0.0119,  0.0326, -0.0175, -0.0230,  0.0248,\n",
      "         0.0200, -0.0266,  0.0014, -0.0021, -0.0275,  0.0225, -0.0252, -0.0235,\n",
      "         0.0255, -0.0322, -0.0136, -0.0312, -0.0327, -0.0331, -0.0160, -0.0099,\n",
      "        -0.0083, -0.0229,  0.0068,  0.0327, -0.0008,  0.0247,  0.0198,  0.0137,\n",
      "        -0.0116,  0.0235,  0.0017, -0.0120,  0.0086, -0.0003, -0.0033,  0.0178,\n",
      "        -0.0209, -0.0209, -0.0122,  0.0213,  0.0149, -0.0265, -0.0321,  0.0066,\n",
      "        -0.0188, -0.0129, -0.0236,  0.0258, -0.0147, -0.0183, -0.0096, -0.0246,\n",
      "        -0.0160, -0.0015,  0.0019, -0.0104, -0.0148, -0.0309,  0.0274,  0.0038,\n",
      "        -0.0255,  0.0174, -0.0325,  0.0013, -0.0056,  0.0277,  0.0039, -0.0111,\n",
      "         0.0290, -0.0242,  0.0328,  0.0048,  0.0075, -0.0230, -0.0231, -0.0245,\n",
      "        -0.0163, -0.0265, -0.0114,  0.0262, -0.0239,  0.0331, -0.0296,  0.0215,\n",
      "        -0.0072,  0.0023,  0.0186,  0.0272,  0.0217, -0.0131,  0.0226, -0.0033],\n",
      "       device='cuda:0')\n",
      "batchnorm.weight tensor([1.1196, 1.0551, 1.1205, 0.8148, 1.0682, 0.9470, 0.9848, 0.8955, 1.0776,\n",
      "        0.9347, 0.9618, 1.0991, 1.1211, 1.0651, 0.8003, 1.0497, 0.8445, 1.0252,\n",
      "        0.9972, 0.9049, 0.7958, 1.0379, 0.9218, 1.0380, 1.0942, 1.1096, 1.0542,\n",
      "        0.9431, 0.8859, 0.9942, 1.0557, 0.9040, 0.9566, 0.8319, 0.8562, 1.1046,\n",
      "        1.0870, 0.9281, 0.9317, 0.9369, 0.8495, 0.9193, 1.0093, 1.0339, 1.1839,\n",
      "        1.0057, 1.0509, 1.0308, 0.9251, 1.1242, 0.9925, 1.0645, 1.0774, 1.0478,\n",
      "        1.0415, 0.8358, 1.0865, 0.9135, 1.0896, 1.0761, 0.8450, 1.2362, 0.8683,\n",
      "        0.9589, 1.0581, 0.9452, 0.8691, 0.9776, 1.0319, 0.9733, 0.9372, 0.8713,\n",
      "        0.9158, 1.0848, 0.9101, 0.8535, 1.0951, 1.1034, 0.9684, 0.8971, 0.8963,\n",
      "        1.0300, 0.9414, 0.9788, 1.1271, 1.0499, 1.0053, 1.1562, 1.0982, 1.1156,\n",
      "        0.9548, 1.0455, 0.8448, 1.0534, 0.9571, 0.9683, 0.8779, 1.0631, 1.1877,\n",
      "        1.1018, 0.9014, 1.0244, 0.9632, 0.9365, 0.9759, 1.1311, 0.9535, 1.0176,\n",
      "        1.0710, 0.7430, 0.9605, 0.9879, 1.0149, 0.9742, 0.8811, 0.8658, 1.0174,\n",
      "        0.9583, 0.9868, 1.0905, 0.9512, 1.1131, 0.9999, 0.9435, 1.0908, 1.0324,\n",
      "        1.0847, 1.0949, 1.0482, 1.1427, 0.9799, 1.0067, 1.0523, 1.0020, 0.9058,\n",
      "        0.9566, 1.0320, 1.0686, 1.1742, 1.1439, 0.9695, 0.9727, 0.9405, 1.2057,\n",
      "        1.2113, 1.0631, 1.0528, 1.1298, 0.8806, 0.9424, 1.1115, 0.9936, 1.0272,\n",
      "        0.8434, 1.1470, 0.8939, 0.8765, 1.0333, 0.9211, 1.0921, 1.2239, 0.8478,\n",
      "        0.8472, 0.9992, 1.1733, 0.9526, 0.9418, 0.9618, 0.9412, 0.9708, 1.0410,\n",
      "        1.0916, 1.0788, 0.9820, 0.9800, 0.9403, 1.1276, 1.1691, 0.9991, 0.9839,\n",
      "        0.9609, 1.2513, 1.1661, 1.0799, 0.8937, 1.0907, 0.9777, 0.9354, 0.9742,\n",
      "        1.2290, 1.0911, 1.3103, 1.0920, 1.1568, 1.1118, 1.0493, 0.9937, 0.9272,\n",
      "        1.0232, 1.0223, 1.0189, 0.9398, 1.1256, 0.8288, 1.0447, 0.9314, 1.0574,\n",
      "        1.0580, 1.1455, 1.0505, 0.9348, 0.9123, 0.8981, 1.1121, 0.9135, 0.8890,\n",
      "        1.1474, 0.8846, 1.0623, 0.9129, 0.9859, 0.9827, 1.1699, 0.9300, 1.0736,\n",
      "        0.9144, 1.0239, 1.0099, 1.0629, 1.0901, 1.1387, 1.0479, 0.9160, 1.0398,\n",
      "        0.9695, 0.9283, 1.0451, 1.2514, 1.0908, 1.0266, 1.0459, 1.0231, 0.8311,\n",
      "        1.1289, 1.0142, 1.1085, 1.2702, 1.0495, 1.1241, 1.1013, 0.9931, 0.8475,\n",
      "        0.9689, 0.8944, 0.9383, 1.0737, 1.0173, 1.0827, 1.0824, 0.9883, 1.0243,\n",
      "        1.0674, 1.0334, 1.1621, 0.9919, 1.1613, 0.9019, 1.2007, 1.2951, 1.0854,\n",
      "        1.0810, 0.9739, 1.0468, 1.1304, 1.0920, 1.0017, 1.0596, 0.9869, 1.2999,\n",
      "        1.0957, 1.0652, 1.1103, 1.0133, 1.0340, 1.1395, 1.0475, 1.0226, 1.0288,\n",
      "        1.0692, 0.9542, 1.0786, 0.9253, 0.8611, 1.1164, 1.0450, 1.0519, 1.0417,\n",
      "        0.9330, 0.9370, 0.8949, 1.1988, 0.9889, 0.7933, 1.0448, 1.0852, 1.1585,\n",
      "        1.0021, 1.0391, 1.2345, 0.9251, 0.9831, 1.2119, 1.0211, 1.1585, 1.1199,\n",
      "        0.9892, 0.9659, 1.2719, 0.9072, 0.9580, 1.1268, 0.9505, 0.9109, 1.1776,\n",
      "        1.0540, 1.0705, 1.0814, 1.1353, 0.9672, 1.1182, 0.9813, 0.9062, 0.9736,\n",
      "        1.0580, 1.0271, 1.0492, 1.0049, 0.9550, 0.9696, 1.1901, 0.9612, 1.1398,\n",
      "        1.2190, 0.9114, 1.0661, 1.0777, 0.9566, 1.2433, 0.9899, 1.2736, 0.9034,\n",
      "        0.9567, 1.0679, 0.9818, 0.9343, 0.9839, 0.9049, 1.1897, 0.9884, 1.0782,\n",
      "        1.1062, 1.2134, 1.1556, 1.1552, 0.7625, 0.9983, 1.0864, 1.0460, 1.0917,\n",
      "        0.9995, 1.0827, 1.0250, 1.2558, 0.9088, 1.1282, 0.9961, 0.9341, 1.1322,\n",
      "        1.1315, 1.0781, 1.0797, 1.0625, 1.1465, 1.0871], device='cuda:0')\n",
      "batchnorm.bias tensor([-6.7957e-03,  4.4059e-02, -7.4495e-02, -9.4458e-02, -3.4535e-02,\n",
      "        -1.3668e-02,  1.2942e-01, -1.9042e-01,  7.8547e-02,  7.9339e-02,\n",
      "        -1.2748e-02,  2.0361e-02, -3.0511e-02, -9.6077e-02, -2.0679e-01,\n",
      "        -8.5574e-02, -1.3097e-01,  6.5702e-02, -1.5503e-01, -1.6041e-01,\n",
      "        -1.7999e-01,  2.7166e-02, -3.4417e-02, -1.0672e-01, -7.9080e-02,\n",
      "        -9.3467e-02,  1.7126e-02, -1.3029e-01, -1.7009e-01, -3.8325e-02,\n",
      "        -1.7313e-01, -2.3364e-01, -8.9118e-02, -1.8350e-01, -2.3834e-01,\n",
      "        -4.5153e-02, -9.2247e-02,  5.0537e-02, -9.9564e-02, -1.7004e-01,\n",
      "        -2.3763e-01, -1.2647e-02, -3.2152e-02, -3.4884e-02,  3.2095e-02,\n",
      "        -1.6499e-01,  1.8679e-02, -5.8483e-02, -1.7917e-01,  2.9835e-02,\n",
      "        -4.6340e-02,  1.1281e-01, -1.8222e-01, -8.6028e-02, -1.6175e-01,\n",
      "        -1.1712e-01, -8.2292e-02, -8.6072e-02,  4.8923e-02, -1.6178e-01,\n",
      "        -1.5396e-01,  4.5461e-02, -9.0448e-03, -1.9078e-01, -3.1658e-02,\n",
      "        -1.2636e-01, -6.5432e-02, -1.0775e-01,  1.1660e-01,  2.6408e-02,\n",
      "        -1.0832e-01, -2.7421e-01, -1.5656e-01, -8.4283e-02, -2.0892e-01,\n",
      "        -4.0787e-02, -4.0190e-02, -1.0561e-01, -2.0465e-01, -1.2726e-01,\n",
      "        -2.0978e-01,  2.4478e-02, -1.0081e-01, -1.1613e-01, -8.1732e-02,\n",
      "         9.7166e-02, -3.2437e-02, -5.6550e-02,  4.2798e-02,  1.5343e-01,\n",
      "        -5.8077e-02,  1.5022e-02, -9.9489e-02,  1.3788e-02, -1.0008e-01,\n",
      "         1.6771e-02, -1.4623e-01,  6.8686e-02,  6.1920e-02, -1.2514e-01,\n",
      "         3.8802e-02, -4.3473e-02, -8.3403e-03, -1.6391e-01, -2.1263e-02,\n",
      "        -1.0994e-01,  1.6035e-02,  1.0069e-04,  7.6649e-02, -1.9981e-01,\n",
      "        -1.3085e-01, -1.2984e-01, -5.0480e-02, -1.5056e-01, -2.5341e-01,\n",
      "        -1.9641e-01, -1.2511e-02, -6.3318e-02,  6.4199e-02, -3.3176e-02,\n",
      "        -6.8111e-02,  3.5006e-02, -2.0954e-01, -1.5925e-01, -1.4138e-02,\n",
      "         3.9012e-02, -1.3658e-01, -1.7694e-01, -5.7294e-02, -1.1829e-01,\n",
      "        -1.0843e-01, -1.3396e-01, -8.6294e-02, -2.2666e-01, -1.4534e-01,\n",
      "        -1.5294e-01, -2.0081e-02,  3.4827e-02,  6.0093e-02, -1.1801e-02,\n",
      "        -3.7572e-02, -1.6489e-01, -1.8294e-01,  6.0746e-02, -7.3774e-02,\n",
      "        -1.2342e-01,  5.0962e-02,  7.2790e-03, -1.7895e-01, -9.0695e-02,\n",
      "        -8.9248e-02,  1.6009e-02, -1.1429e-01, -1.8338e-01,  1.8001e-02,\n",
      "        -1.3263e-01, -1.0520e-01, -3.6600e-02, -1.8540e-01, -8.5756e-02,\n",
      "        -7.4493e-04, -2.5134e-01, -2.4939e-01, -1.4745e-01, -8.8714e-02,\n",
      "        -6.2951e-02, -8.1590e-02, -1.2092e-01, -1.0764e-01, -4.8038e-02,\n",
      "        -4.7954e-02,  7.4022e-02,  6.8619e-02, -7.7921e-02, -3.5648e-02,\n",
      "        -6.7211e-02,  2.8250e-02,  4.7036e-02, -1.1635e-02, -1.3689e-01,\n",
      "        -1.8431e-01,  6.4898e-02, -9.3359e-02, -1.9841e-02, -2.2161e-01,\n",
      "         3.1609e-02, -1.3044e-01, -1.8392e-01, -8.0734e-02,  1.7898e-01,\n",
      "         3.5455e-03,  4.4629e-02,  1.2927e-02, -6.1525e-02,  6.9078e-02,\n",
      "         4.9854e-02, -2.0811e-01, -1.6731e-01, -1.0447e-01, -1.1113e-01,\n",
      "        -3.8795e-03, -3.0521e-02,  1.3325e-02, -1.7645e-01, -1.5094e-01,\n",
      "        -1.9559e-01,  4.0515e-02, -6.5146e-02,  1.9007e-01, -2.2889e-02,\n",
      "        -2.1859e-01, -2.2985e-01, -1.9005e-01,  9.9784e-02, -1.0892e-01,\n",
      "        -1.7595e-01,  8.4133e-02, -2.0887e-01,  7.5464e-02, -1.7114e-01,\n",
      "        -1.1199e-01, -1.8771e-01,  1.0862e-01, -1.0902e-01, -1.9121e-02,\n",
      "        -1.9016e-01, -1.5194e-01,  3.5570e-02, -7.9039e-02,  4.5633e-02,\n",
      "         2.0789e-02,  3.6760e-02, -1.3458e-01, -9.9800e-02, -1.6762e-01,\n",
      "        -2.5187e-02, -2.0633e-03, -9.8064e-02,  7.9461e-02, -1.3132e-01,\n",
      "         9.3052e-02, -1.3416e-01, -2.4278e-01,  7.8015e-02, -9.3240e-02,\n",
      "        -1.9406e-01,  8.8980e-02, -1.1211e-01, -1.4790e-01, -9.6210e-03,\n",
      "        -9.2028e-02, -1.3936e-01, -7.0366e-02, -2.3522e-02, -8.4546e-02,\n",
      "        -9.8342e-02, -9.1464e-02, -6.9721e-02, -9.9694e-02, -1.9768e-01,\n",
      "        -1.5612e-01, -1.1266e-01, -1.2211e-01,  8.3524e-02, -1.6455e-01,\n",
      "        -7.0947e-02, -1.8458e-01, -1.6619e-02,  2.3291e-03, -7.9295e-02,\n",
      "        -1.1350e-02, -1.0179e-01,  6.6515e-02,  7.0598e-02,  2.0483e-02,\n",
      "        -6.8197e-03,  7.1332e-02,  3.2059e-02, -3.1687e-02,  9.9094e-03,\n",
      "         3.8040e-02,  9.4753e-02, -9.3588e-02, -1.3831e-01,  1.2758e-01,\n",
      "         9.7214e-03, -1.6632e-01, -1.3835e-01, -1.1155e-02, -6.5486e-02,\n",
      "        -6.7954e-02, -1.7283e-01, -2.4046e-01, -1.2761e-01, -6.6238e-02,\n",
      "        -1.1348e-01,  7.0944e-02, -2.0755e-01, -8.6618e-02, -2.0984e-01,\n",
      "        -1.0286e-01, -1.5536e-01, -2.1365e-01,  1.9760e-02, -1.0886e-01,\n",
      "        -5.1025e-03, -7.7384e-02, -1.1465e-01, -1.5280e-02, -1.8192e-01,\n",
      "        -1.1923e-01, -6.4566e-02, -1.1802e-01,  6.5145e-02, -3.2699e-02,\n",
      "        -1.0299e-01, -1.2453e-01,  3.4922e-02, -1.2130e-01, -2.0932e-01,\n",
      "        -1.3997e-01, -1.8107e-01, -1.2120e-01,  4.8917e-02, -9.8682e-02,\n",
      "        -5.4331e-02, -1.0534e-01,  6.2442e-02, -1.5398e-01,  1.1054e-02,\n",
      "        -1.2875e-01, -2.4272e-01, -1.4333e-01, -1.1907e-01, -2.0111e-01,\n",
      "        -1.3849e-01, -1.6555e-01, -5.3972e-02, -1.6404e-01, -2.9446e-04,\n",
      "        -5.6962e-02,  3.7160e-03, -7.2079e-03, -2.2471e-01, -1.1063e-01,\n",
      "         1.5010e-02, -2.3242e-01,  5.8372e-02, -7.7049e-02, -1.0433e-01,\n",
      "        -1.6371e-01, -1.2876e-01, -1.5012e-01, -1.0854e-01, -2.0954e-01,\n",
      "        -1.4245e-01, -9.0656e-02,  4.5900e-03, -1.7659e-01,  6.6719e-03,\n",
      "        -6.7518e-02,  2.8153e-02,  1.6277e-02, -3.5493e-03, -2.6755e-01,\n",
      "        -8.4239e-02, -1.2422e-01, -1.5030e-01,  5.8686e-02, -1.1977e-01,\n",
      "        -1.4229e-01, -2.3337e-02,  1.4944e-01, -1.8674e-01, -1.0514e-01,\n",
      "        -1.5801e-01, -2.1087e-01,  1.7372e-02,  6.0390e-03, -7.2792e-02,\n",
      "         4.3990e-02, -1.4384e-01, -8.0431e-02, -7.3591e-02], device='cuda:0')\n",
      "lstm.weight_ih_l0 tensor([[ 7.6361e-04, -3.4036e-02,  1.8404e-02,  ..., -2.0303e-02,\n",
      "         -4.6653e-02, -3.5454e-02],\n",
      "        [-3.2411e-02, -1.4863e-01,  1.1584e-01,  ..., -2.1799e-01,\n",
      "          1.1468e-01,  3.6837e-02],\n",
      "        [ 4.2613e-02,  4.7954e-02, -8.9905e-02,  ..., -8.9995e-02,\n",
      "         -1.3289e-01, -2.0717e-01],\n",
      "        ...,\n",
      "        [ 8.6143e-03,  4.8725e-01,  1.5957e-01,  ..., -2.4376e-02,\n",
      "          1.5713e-04,  1.6181e-01],\n",
      "        [-8.8549e-02,  1.0843e-02,  3.9901e-02,  ..., -1.3085e-01,\n",
      "         -2.6284e-01,  7.4752e-02],\n",
      "        [ 9.9194e-02,  5.8382e-02,  2.7673e-01,  ..., -1.4641e-01,\n",
      "         -4.3112e-02,  1.5188e-01]], device='cuda:0')\n",
      "lstm.weight_hh_l0 tensor([[-0.0209, -0.0530,  0.0825,  ..., -0.0580,  0.0118, -0.0122],\n",
      "        [-0.1076, -0.1255,  0.1005,  ..., -0.0104, -0.0662, -0.0190],\n",
      "        [-0.0508,  0.0343, -0.0505,  ...,  0.0471,  0.0676, -0.1424],\n",
      "        ...,\n",
      "        [ 0.0004,  0.0428, -0.1198,  ..., -0.0414, -0.0208,  0.2013],\n",
      "        [ 0.1204,  0.0710,  0.1532,  ..., -0.1286, -0.2114,  0.1133],\n",
      "        [ 0.1511, -0.0038,  0.1265,  ...,  0.0438,  0.0582,  0.0472]],\n",
      "       device='cuda:0')\n",
      "lstm.bias_ih_l0 tensor([-0.0321,  0.0181, -0.0724,  ...,  0.0894, -0.1318, -0.0658],\n",
      "       device='cuda:0')\n",
      "lstm.bias_hh_l0 tensor([-0.0729, -0.0250, -0.0448,  ...,  0.0599, -0.1414, -0.0143],\n",
      "       device='cuda:0')\n",
      "lstm.weight_ih_l1 tensor([[ 0.0395,  0.0569,  0.1030,  ...,  0.1060, -0.0733, -0.1081],\n",
      "        [-0.0013,  0.0015,  0.0300,  ...,  0.0315, -0.0798, -0.0178],\n",
      "        [ 0.0247,  0.0434,  0.0727,  ..., -0.0658, -0.0304,  0.0197],\n",
      "        ...,\n",
      "        [ 0.0164, -0.0542, -0.0478,  ...,  0.0435, -0.0216,  0.1280],\n",
      "        [-0.0168, -0.1130, -0.0798,  ...,  0.0200, -0.0048,  0.1492],\n",
      "        [-0.0076,  0.0692,  0.0952,  ..., -0.0672, -0.0005, -0.0141]],\n",
      "       device='cuda:0')\n",
      "lstm.weight_hh_l1 tensor([[-0.0423, -0.0477,  0.0154,  ...,  0.1536,  0.1088, -0.0377],\n",
      "        [-0.0595, -0.0193,  0.0880,  ..., -0.0650,  0.0490, -0.0133],\n",
      "        [ 0.0074,  0.0134, -0.0647,  ...,  0.0547,  0.0073, -0.0317],\n",
      "        ...,\n",
      "        [-0.0219,  0.0072,  0.0103,  ...,  0.0268,  0.0220, -0.0115],\n",
      "        [-0.0741,  0.0687,  0.0374,  ...,  0.0141,  0.0495, -0.0366],\n",
      "        [-0.0059, -0.0291,  0.0003,  ..., -0.0964, -0.0128, -0.0142]],\n",
      "       device='cuda:0')\n",
      "lstm.bias_ih_l1 tensor([ 0.0116, -0.1682, -0.0479,  ...,  0.0598, -0.0865, -0.0873],\n",
      "       device='cuda:0')\n",
      "lstm.bias_hh_l1 tensor([ 0.0379, -0.1234, -0.0330,  ..., -0.0044, -0.1170, -0.1582],\n",
      "       device='cuda:0')\n",
      "linear.weight tensor([[ 0.0882, -0.0272, -0.0671,  ..., -0.1708, -0.0256, -0.0040],\n",
      "        [-0.0837,  0.0655, -0.0497,  ...,  0.1251, -0.1091, -0.0673],\n",
      "        [-0.0642,  0.0166,  0.0088,  ...,  0.1126,  0.1356,  0.0150],\n",
      "        ...,\n",
      "        [-0.1214, -0.0408,  0.2400,  ..., -0.7526, -0.0762, -0.0252],\n",
      "        [-0.1490, -0.0288,  0.2180,  ..., -0.7854, -0.0614,  0.0159],\n",
      "        [-0.1275, -0.0488,  0.1622,  ..., -0.8063, -0.0851,  0.0160]],\n",
      "       device='cuda:0')\n",
      "linear.bias tensor([-0.0075, -0.0296,  0.0213, -0.0164, -0.3444, -0.2460, -0.2628],\n",
      "       device='cuda:0')\n"
     ]
    }
   ],
   "source": [
    "for name, param in model.named_parameters():\n",
    "    if param.requires_grad:\n",
    "        print(name, param.data)"
   ]
  },
  {
   "cell_type": "code",
   "execution_count": 20,
   "id": "cc9b6fd0",
   "metadata": {},
   "outputs": [],
   "source": [
    "model_path = f'../models/hubertlarge/holdout{holdout}.pth'\n",
    "\n",
    "torch.save({'epoch':epochs,\n",
    "            'model_state_dict':model.state_dict(),\n",
    "            'optimizer_state_dict':optimizer.state_dict()},\n",
    "            model_path)"
   ]
  }
 ],
 "metadata": {
  "kernelspec": {
   "display_name": "Python 3",
   "language": "python",
   "name": "python3"
  },
  "language_info": {
   "codemirror_mode": {
    "name": "ipython",
    "version": 3
   },
   "file_extension": ".py",
   "mimetype": "text/x-python",
   "name": "python",
   "nbconvert_exporter": "python",
   "pygments_lexer": "ipython3",
   "version": "3.7.12"
  }
 },
 "nbformat": 4,
 "nbformat_minor": 5
}
