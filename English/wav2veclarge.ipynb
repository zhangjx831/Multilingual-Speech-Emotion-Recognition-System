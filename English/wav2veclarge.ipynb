{
 "cells": [
  {
   "cell_type": "markdown",
   "id": "83f52390",
   "metadata": {},
   "source": [
    "## Prepare Data"
   ]
  },
  {
   "cell_type": "code",
   "execution_count": 1,
   "id": "fcff203e",
   "metadata": {},
   "outputs": [],
   "source": [
    "import re\n",
    "import os\n",
    "import pandas as pd\n",
    "\n",
    "regex = re.compile(r'\\[.+\\]\\n', re.IGNORECASE)\n",
    "file_paths, file_names, sessions, emotions = [], [], [], []\n",
    "emotion_map = {'neu': 'neutral', 'ang': 'angry', 'hap': 'happy', 'exc': 'happy', 'sad': 'sad'}\n",
    "\n",
    "for session in range(1, 6):\n",
    "    emo_evaluation_dir = f'/home/jz3313/IEMOCAP_full_release/Session{session}/dialog/EmoEvaluation/'\n",
    "    file_dir = f'/home/jz3313/IEMOCAP_full_release/Session{session}/sentences/wav/'\n",
    "    evaluation_files = [l for l in os.listdir(emo_evaluation_dir) if 'Ses' in l]\n",
    "    for file in evaluation_files:\n",
    "        with open(emo_evaluation_dir + file) as f:\n",
    "            content = f.read()\n",
    "        lines = re.findall(regex, content)\n",
    "        for line in lines[1:]:  # the first line is a header\n",
    "            start_end_time, wav_file_name, emotion, val_act_dom = line.strip().split('\\t')\n",
    "            dir_name = '_'.join(wav_file_name.split('_')[:-1])\n",
    "            if emotion in emotion_map:\n",
    "                file_paths.append(file_dir+dir_name+'/'+wav_file_name+'.wav')\n",
    "                file_names.append(wav_file_name)\n",
    "                sessions.append(session)\n",
    "                emotions.append(emotion_map[emotion])"
   ]
  },
  {
   "cell_type": "code",
   "execution_count": 2,
   "id": "08cd075c",
   "metadata": {},
   "outputs": [],
   "source": [
    "file = pd.DataFrame({'path':file_paths, 'name': file_names, 'session': sessions, 'emotion': emotions})"
   ]
  },
  {
   "cell_type": "code",
   "execution_count": 3,
   "id": "277cf819",
   "metadata": {},
   "outputs": [
    {
     "data": {
      "text/html": [
       "<div>\n",
       "<style scoped>\n",
       "    .dataframe tbody tr th:only-of-type {\n",
       "        vertical-align: middle;\n",
       "    }\n",
       "\n",
       "    .dataframe tbody tr th {\n",
       "        vertical-align: top;\n",
       "    }\n",
       "\n",
       "    .dataframe thead th {\n",
       "        text-align: right;\n",
       "    }\n",
       "</style>\n",
       "<table border=\"1\" class=\"dataframe\">\n",
       "  <thead>\n",
       "    <tr style=\"text-align: right;\">\n",
       "      <th></th>\n",
       "      <th>path</th>\n",
       "      <th>name</th>\n",
       "      <th>session</th>\n",
       "      <th>emotion</th>\n",
       "    </tr>\n",
       "  </thead>\n",
       "  <tbody>\n",
       "    <tr>\n",
       "      <th>0</th>\n",
       "      <td>/home/jz3313/IEMOCAP_full_release/Session1/sen...</td>\n",
       "      <td>Ses01F_impro02_F000</td>\n",
       "      <td>1</td>\n",
       "      <td>sad</td>\n",
       "    </tr>\n",
       "    <tr>\n",
       "      <th>1</th>\n",
       "      <td>/home/jz3313/IEMOCAP_full_release/Session1/sen...</td>\n",
       "      <td>Ses01F_impro02_F001</td>\n",
       "      <td>1</td>\n",
       "      <td>sad</td>\n",
       "    </tr>\n",
       "    <tr>\n",
       "      <th>2</th>\n",
       "      <td>/home/jz3313/IEMOCAP_full_release/Session1/sen...</td>\n",
       "      <td>Ses01F_impro02_F002</td>\n",
       "      <td>1</td>\n",
       "      <td>sad</td>\n",
       "    </tr>\n",
       "    <tr>\n",
       "      <th>3</th>\n",
       "      <td>/home/jz3313/IEMOCAP_full_release/Session1/sen...</td>\n",
       "      <td>Ses01F_impro02_F003</td>\n",
       "      <td>1</td>\n",
       "      <td>neutral</td>\n",
       "    </tr>\n",
       "    <tr>\n",
       "      <th>4</th>\n",
       "      <td>/home/jz3313/IEMOCAP_full_release/Session1/sen...</td>\n",
       "      <td>Ses01F_impro02_F004</td>\n",
       "      <td>1</td>\n",
       "      <td>sad</td>\n",
       "    </tr>\n",
       "  </tbody>\n",
       "</table>\n",
       "</div>"
      ],
      "text/plain": [
       "                                                path                 name  \\\n",
       "0  /home/jz3313/IEMOCAP_full_release/Session1/sen...  Ses01F_impro02_F000   \n",
       "1  /home/jz3313/IEMOCAP_full_release/Session1/sen...  Ses01F_impro02_F001   \n",
       "2  /home/jz3313/IEMOCAP_full_release/Session1/sen...  Ses01F_impro02_F002   \n",
       "3  /home/jz3313/IEMOCAP_full_release/Session1/sen...  Ses01F_impro02_F003   \n",
       "4  /home/jz3313/IEMOCAP_full_release/Session1/sen...  Ses01F_impro02_F004   \n",
       "\n",
       "   session  emotion  \n",
       "0        1      sad  \n",
       "1        1      sad  \n",
       "2        1      sad  \n",
       "3        1  neutral  \n",
       "4        1      sad  "
      ]
     },
     "execution_count": 3,
     "metadata": {},
     "output_type": "execute_result"
    }
   ],
   "source": [
    "file.head()"
   ]
  },
  {
   "cell_type": "code",
   "execution_count": 4,
   "id": "42fa07c1",
   "metadata": {},
   "outputs": [
    {
     "name": "stdout",
     "output_type": "stream",
     "text": [
      "1.12.1+cu113\n",
      "0.12.1+cu113\n",
      "cuda\n"
     ]
    }
   ],
   "source": [
    "import torch\n",
    "import torchaudio\n",
    "\n",
    "print(torch.__version__)\n",
    "print(torchaudio.__version__)\n",
    "\n",
    "torch.random.manual_seed(0)\n",
    "device = torch.device(\"cuda\" if torch.cuda.is_available() else \"cpu\")\n",
    "\n",
    "print(device)"
   ]
  },
  {
   "cell_type": "code",
   "execution_count": 5,
   "id": "b67c39ab",
   "metadata": {},
   "outputs": [
    {
     "name": "stdout",
     "output_type": "stream",
     "text": [
      "<class 'torchaudio.models.wav2vec2.model.Wav2Vec2Model'>\n"
     ]
    }
   ],
   "source": [
    "bundle = torchaudio.pipelines.WAV2VEC2_LARGE\n",
    "extractor = bundle.get_model()\n",
    "print(extractor.__class__)"
   ]
  },
  {
   "cell_type": "code",
   "execution_count": null,
   "id": "0d91d0a2",
   "metadata": {},
   "outputs": [],
   "source": [
    "from tqdm import tqdm\n",
    "\n",
    "for _, row in tqdm(file.iterrows()):\n",
    "    path, name, session, emotion = row[0], row[1], row[2], row[3]\n",
    "    wave, sr = torchaudio.load(path)\n",
    "    if sr != bundle.sample_rate:\n",
    "        wave = torchaudio.functional.resample(wave, sr, bundle.sample_rate)\n",
    "    with torch.inference_mode():\n",
    "        feature, _ = extractor.extract_features(wave)\n",
    "    feature = [f[0] for f in feature]\n",
    "    feature = torch.stack(feature)\n",
    "    save_path = f'../data/wav2veclarge/Session{session}/{name}.pt'\n",
    "    torch.save(feature, save_path)"
   ]
  },
  {
   "cell_type": "markdown",
   "id": "8a7be560",
   "metadata": {},
   "source": [
    "## Load Data"
   ]
  },
  {
   "cell_type": "code",
   "execution_count": 6,
   "id": "3d955c5e",
   "metadata": {},
   "outputs": [],
   "source": [
    "file['newpath'] = file.apply(lambda x: f'../data/wav2veclarge/Session{x[2]}/{x[1]}.pt', axis=1)"
   ]
  },
  {
   "cell_type": "code",
   "execution_count": 7,
   "id": "0cd4ffa6",
   "metadata": {},
   "outputs": [
    {
     "data": {
      "text/html": [
       "<div>\n",
       "<style scoped>\n",
       "    .dataframe tbody tr th:only-of-type {\n",
       "        vertical-align: middle;\n",
       "    }\n",
       "\n",
       "    .dataframe tbody tr th {\n",
       "        vertical-align: top;\n",
       "    }\n",
       "\n",
       "    .dataframe thead th {\n",
       "        text-align: right;\n",
       "    }\n",
       "</style>\n",
       "<table border=\"1\" class=\"dataframe\">\n",
       "  <thead>\n",
       "    <tr style=\"text-align: right;\">\n",
       "      <th></th>\n",
       "      <th>path</th>\n",
       "      <th>name</th>\n",
       "      <th>session</th>\n",
       "      <th>emotion</th>\n",
       "      <th>newpath</th>\n",
       "    </tr>\n",
       "  </thead>\n",
       "  <tbody>\n",
       "    <tr>\n",
       "      <th>0</th>\n",
       "      <td>/home/jz3313/IEMOCAP_full_release/Session1/sen...</td>\n",
       "      <td>Ses01F_impro02_F000</td>\n",
       "      <td>1</td>\n",
       "      <td>sad</td>\n",
       "      <td>../data/wav2veclarge/Session1/Ses01F_impro02_F...</td>\n",
       "    </tr>\n",
       "    <tr>\n",
       "      <th>1</th>\n",
       "      <td>/home/jz3313/IEMOCAP_full_release/Session1/sen...</td>\n",
       "      <td>Ses01F_impro02_F001</td>\n",
       "      <td>1</td>\n",
       "      <td>sad</td>\n",
       "      <td>../data/wav2veclarge/Session1/Ses01F_impro02_F...</td>\n",
       "    </tr>\n",
       "    <tr>\n",
       "      <th>2</th>\n",
       "      <td>/home/jz3313/IEMOCAP_full_release/Session1/sen...</td>\n",
       "      <td>Ses01F_impro02_F002</td>\n",
       "      <td>1</td>\n",
       "      <td>sad</td>\n",
       "      <td>../data/wav2veclarge/Session1/Ses01F_impro02_F...</td>\n",
       "    </tr>\n",
       "    <tr>\n",
       "      <th>3</th>\n",
       "      <td>/home/jz3313/IEMOCAP_full_release/Session1/sen...</td>\n",
       "      <td>Ses01F_impro02_F003</td>\n",
       "      <td>1</td>\n",
       "      <td>neutral</td>\n",
       "      <td>../data/wav2veclarge/Session1/Ses01F_impro02_F...</td>\n",
       "    </tr>\n",
       "    <tr>\n",
       "      <th>4</th>\n",
       "      <td>/home/jz3313/IEMOCAP_full_release/Session1/sen...</td>\n",
       "      <td>Ses01F_impro02_F004</td>\n",
       "      <td>1</td>\n",
       "      <td>sad</td>\n",
       "      <td>../data/wav2veclarge/Session1/Ses01F_impro02_F...</td>\n",
       "    </tr>\n",
       "  </tbody>\n",
       "</table>\n",
       "</div>"
      ],
      "text/plain": [
       "                                                path                 name  \\\n",
       "0  /home/jz3313/IEMOCAP_full_release/Session1/sen...  Ses01F_impro02_F000   \n",
       "1  /home/jz3313/IEMOCAP_full_release/Session1/sen...  Ses01F_impro02_F001   \n",
       "2  /home/jz3313/IEMOCAP_full_release/Session1/sen...  Ses01F_impro02_F002   \n",
       "3  /home/jz3313/IEMOCAP_full_release/Session1/sen...  Ses01F_impro02_F003   \n",
       "4  /home/jz3313/IEMOCAP_full_release/Session1/sen...  Ses01F_impro02_F004   \n",
       "\n",
       "   session  emotion                                            newpath  \n",
       "0        1      sad  ../data/wav2veclarge/Session1/Ses01F_impro02_F...  \n",
       "1        1      sad  ../data/wav2veclarge/Session1/Ses01F_impro02_F...  \n",
       "2        1      sad  ../data/wav2veclarge/Session1/Ses01F_impro02_F...  \n",
       "3        1  neutral  ../data/wav2veclarge/Session1/Ses01F_impro02_F...  \n",
       "4        1      sad  ../data/wav2veclarge/Session1/Ses01F_impro02_F...  "
      ]
     },
     "execution_count": 7,
     "metadata": {},
     "output_type": "execute_result"
    }
   ],
   "source": [
    "file.head()"
   ]
  },
  {
   "cell_type": "code",
   "execution_count": 8,
   "id": "eb4cd78e",
   "metadata": {},
   "outputs": [],
   "source": [
    "holdout = 5\n",
    "train = file[file['session'] != holdout]\n",
    "test = file[file['session'] == holdout]"
   ]
  },
  {
   "cell_type": "code",
   "execution_count": 9,
   "id": "75a75bd9",
   "metadata": {},
   "outputs": [],
   "source": [
    "class MyDataSet(torch.utils.data.Dataset):\n",
    "    def __init__(self, datas, labels, label_transform):\n",
    "        super(MyDataSet).__init__()\n",
    "        self.datas = datas\n",
    "        self.labels = labels\n",
    "        self.label_transform = label_transform\n",
    "        \n",
    "    def __getitem__(self, idx):\n",
    "        audio = self.datas[idx]\n",
    "        label = self.label_transform[self.labels[idx]]\n",
    "        length = audio.size(1)\n",
    "        return audio, length, label\n",
    "    \n",
    "    def __len__(self):\n",
    "        return len(self.labels)"
   ]
  },
  {
   "cell_type": "code",
   "execution_count": 10,
   "id": "141ec40a",
   "metadata": {},
   "outputs": [],
   "source": [
    "def collate_indic(data):\n",
    "    audios, lengths, labels = zip(*data)\n",
    "    max_len = max(lengths)\n",
    "    n_ftrs = audios[0].size(2)\n",
    "    n_dims = audios[0].size(0)\n",
    "    features = torch.zeros((len(audios), n_dims, max_len, n_ftrs))\n",
    "    labels = torch.tensor(labels)\n",
    "    lengths = torch.tensor(lengths)\n",
    "\n",
    "    for i in range(len(data)):\n",
    "        j, k = audios[i].size(1), audios[i].size(2)\n",
    "        features[i] = torch.cat([audios[i], torch.zeros((n_dims, max_len - j, k))], dim=1)\n",
    "\n",
    "    return features, lengths, labels"
   ]
  },
  {
   "cell_type": "code",
   "execution_count": 11,
   "id": "0738ead4",
   "metadata": {},
   "outputs": [
    {
     "data": {
      "text/plain": [
       "{'angry': 0, 'happy': 1, 'neutral': 2, 'sad': 3}"
      ]
     },
     "execution_count": 11,
     "metadata": {},
     "output_type": "execute_result"
    }
   ],
   "source": [
    "categories = ['angry', 'happy', 'neutral', 'sad']\n",
    "cate_dic = {}\n",
    "for i, cate in enumerate(categories):\n",
    "    cate_dic[cate] = i\n",
    "cate_dic"
   ]
  },
  {
   "cell_type": "markdown",
   "id": "adf4848c",
   "metadata": {},
   "source": [
    "## Train with 3CNN+LSTM"
   ]
  },
  {
   "cell_type": "code",
   "execution_count": 12,
   "id": "2ef1a6ec",
   "metadata": {},
   "outputs": [],
   "source": [
    "import torch.nn as nn\n",
    "import torch.nn.functional as F\n",
    "\n",
    "class ICASSP3CNN(nn.Module):\n",
    "    def __init__(self, vocab_size, dims = 12, embed_size=128, hidden_size=512, num_lstm_layers = 2, bidirectional = False, label_size=7):\n",
    "        super().__init__()\n",
    "        self.n_layers = num_lstm_layers \n",
    "        self.hidden = hidden_size\n",
    "        self.bidirectional = bidirectional\n",
    "        \n",
    "        self.aggr = nn.Conv1d(in_channels=dims, out_channels=1, kernel_size=1)\n",
    "        \n",
    "        self.embed = nn.Linear(in_features = vocab_size, out_features = embed_size)\n",
    "\n",
    "        self.cnn  = nn.Conv1d(embed_size, embed_size, kernel_size=3, padding=1)\n",
    "        self.cnn2 = nn.Conv1d(embed_size, embed_size, kernel_size=5, padding=2)\n",
    "        self.cnn3 = nn.Conv1d(embed_size, embed_size, kernel_size=7, padding=3)\n",
    "\n",
    "        self.batchnorm = nn.BatchNorm1d(3 * embed_size)\n",
    "\n",
    "        self.lstm = nn.LSTM(input_size = 3 * embed_size, \n",
    "                            hidden_size = hidden_size, \n",
    "                            num_layers = num_lstm_layers, \n",
    "                            bidirectional = bidirectional)\n",
    "\n",
    "        self.linear = nn.Linear(in_features = 2 * hidden_size if bidirectional else hidden_size, \n",
    "                                out_features = label_size)\n",
    "\n",
    "\n",
    "    def forward(self, x, lengths):\n",
    "        \"\"\"\n",
    "        padded_x: (B,T) padded LongTensor\n",
    "        \"\"\"\n",
    "        n, d, b, t = x.size(0), x.size(1), x.size(2), x.size(3)\n",
    "        x = torch.flatten(x, start_dim=2)\n",
    "        input = self.aggr(x)\n",
    "        input = torch.reshape(input, (n, b, t))\n",
    "        input = self.embed(input)\n",
    "\n",
    "        batch_size = input.size(0)\n",
    "        input = input.transpose(1,2)    # (B,T,H) -> (B,H,T)\n",
    "\n",
    "        cnn_output = torch.cat([self.cnn(input), self.cnn2(input), self.cnn3(input)], dim=1)\n",
    "\n",
    "        input = F.relu(self.batchnorm(cnn_output))\n",
    "\n",
    "        input = input.transpose(1,2)\n",
    "\n",
    "        pack_tensor = nn.utils.rnn.pack_padded_sequence(input, lengths, batch_first=True, enforce_sorted=False)\n",
    "        _, (hn, cn) = self.lstm(pack_tensor)\n",
    "\n",
    "        if self.bidirectional:\n",
    "            h_n = hn.view(self.n_layers, 2, batch_size, self.hidden)\n",
    "            h_n = torch.cat([ h_n[-1, 0,:], h_n[-1,1,:] ], dim = 1)\n",
    "        else:\n",
    "            h_n = hn[-1]\n",
    "\n",
    "        logits = self.linear(h_n)\n",
    "\n",
    "        return logits"
   ]
  },
  {
   "cell_type": "markdown",
   "id": "21a7d392",
   "metadata": {},
   "source": [
    "### Model Traning on each layer "
   ]
  },
  {
   "cell_type": "code",
   "execution_count": 13,
   "id": "01d051d0",
   "metadata": {},
   "outputs": [
    {
     "name": "stderr",
     "output_type": "stream",
     "text": [
      "4290it [07:39,  9.34it/s] \n"
     ]
    }
   ],
   "source": [
    "from tqdm import tqdm\n",
    "from torch.utils.data import DataLoader\n",
    "\n",
    "traindata = []\n",
    "for _, row in tqdm(train.iterrows()):\n",
    "    traindata.append(torch.load(row[4]))\n",
    "\n",
    "train_dataset = MyDataSet(traindata, train['emotion'].tolist(), cate_dic)\n",
    "trainloader_args = dict(batch_size=16, shuffle=True)\n",
    "train_dataloader = DataLoader(train_dataset, **trainloader_args, \n",
    "                              collate_fn=collate_indic)"
   ]
  },
  {
   "cell_type": "code",
   "execution_count": 15,
   "id": "e6942285",
   "metadata": {},
   "outputs": [],
   "source": [
    "from tqdm import tqdm\n",
    "from torchsummary import summary\n",
    "import torch.optim as optim\n",
    "\n",
    "model = ICASSP3CNN(1024, 24)\n",
    "model = model.to(device)\n",
    "criterion = nn.CrossEntropyLoss()\n",
    "optimizer = optim.Adam(model.parameters(), lr=0.001)"
   ]
  },
  {
   "cell_type": "code",
   "execution_count": 16,
   "id": "75762bdc",
   "metadata": {},
   "outputs": [
    {
     "name": "stderr",
     "output_type": "stream",
     "text": [
      "  3%|█████▌                                                                                                                                                                 | 1/30 [02:01<58:32, 121.11s/it]"
     ]
    },
    {
     "name": "stdout",
     "output_type": "stream",
     "text": [
      "epoch:1, train accu:0.4876, train loss:1.13\n"
     ]
    },
    {
     "name": "stderr",
     "output_type": "stream",
     "text": [
      "\r",
      "  7%|███████████▏                                                                                                                                                           | 2/30 [04:01<56:18, 120.67s/it]"
     ]
    },
    {
     "name": "stdout",
     "output_type": "stream",
     "text": [
      "epoch:2, train accu:0.6156, train loss:0.94\n"
     ]
    },
    {
     "name": "stderr",
     "output_type": "stream",
     "text": [
      "\r",
      " 10%|████████████████▋                                                                                                                                                      | 3/30 [06:01<54:05, 120.21s/it]"
     ]
    },
    {
     "name": "stdout",
     "output_type": "stream",
     "text": [
      "epoch:3, train accu:0.6767, train loss:0.83\n"
     ]
    },
    {
     "name": "stderr",
     "output_type": "stream",
     "text": [
      "\r",
      " 13%|██████████████████████▎                                                                                                                                                | 4/30 [07:59<51:45, 119.46s/it]"
     ]
    },
    {
     "name": "stdout",
     "output_type": "stream",
     "text": [
      "epoch:4, train accu:0.7103, train loss:0.76\n"
     ]
    },
    {
     "name": "stderr",
     "output_type": "stream",
     "text": [
      "\r",
      " 17%|███████████████████████████▊                                                                                                                                           | 5/30 [09:59<49:53, 119.73s/it]"
     ]
    },
    {
     "name": "stdout",
     "output_type": "stream",
     "text": [
      "epoch:5, train accu:0.7263, train loss:0.72\n"
     ]
    },
    {
     "name": "stderr",
     "output_type": "stream",
     "text": [
      "\r",
      " 20%|█████████████████████████████████▍                                                                                                                                     | 6/30 [11:56<47:30, 118.79s/it]"
     ]
    },
    {
     "name": "stdout",
     "output_type": "stream",
     "text": [
      "epoch:6, train accu:0.7592, train loss:0.65\n"
     ]
    },
    {
     "name": "stderr",
     "output_type": "stream",
     "text": [
      "\r",
      " 23%|██████████████████████████████████████▉                                                                                                                                | 7/30 [13:53<45:19, 118.26s/it]"
     ]
    },
    {
     "name": "stdout",
     "output_type": "stream",
     "text": [
      "epoch:7, train accu:0.7641, train loss:0.62\n"
     ]
    },
    {
     "name": "stderr",
     "output_type": "stream",
     "text": [
      "\r",
      " 27%|████████████████████████████████████████████▌                                                                                                                          | 8/30 [15:51<43:17, 118.07s/it]"
     ]
    },
    {
     "name": "stdout",
     "output_type": "stream",
     "text": [
      "epoch:8, train accu:0.7825, train loss:0.59\n"
     ]
    },
    {
     "name": "stderr",
     "output_type": "stream",
     "text": [
      "\r",
      " 30%|██████████████████████████████████████████████████                                                                                                                     | 9/30 [17:47<41:05, 117.39s/it]"
     ]
    },
    {
     "name": "stdout",
     "output_type": "stream",
     "text": [
      "epoch:9, train accu:0.7988, train loss:0.55\n"
     ]
    },
    {
     "name": "stderr",
     "output_type": "stream",
     "text": [
      "\r",
      " 33%|███████████████████████████████████████████████████████▎                                                                                                              | 10/30 [19:43<39:02, 117.11s/it]"
     ]
    },
    {
     "name": "stdout",
     "output_type": "stream",
     "text": [
      "epoch:10, train accu:0.8210, train loss:0.49\n"
     ]
    },
    {
     "name": "stderr",
     "output_type": "stream",
     "text": [
      "\r",
      " 37%|████████████████████████████████████████████████████████████▊                                                                                                         | 11/30 [21:40<37:04, 117.08s/it]"
     ]
    },
    {
     "name": "stdout",
     "output_type": "stream",
     "text": [
      "epoch:11, train accu:0.8373, train loss:0.44\n"
     ]
    },
    {
     "name": "stderr",
     "output_type": "stream",
     "text": [
      "\r",
      " 40%|██████████████████████████████████████████████████████████████████▍                                                                                                   | 12/30 [23:37<35:06, 117.04s/it]"
     ]
    },
    {
     "name": "stdout",
     "output_type": "stream",
     "text": [
      "epoch:12, train accu:0.8611, train loss:0.39\n"
     ]
    },
    {
     "name": "stderr",
     "output_type": "stream",
     "text": [
      "\r",
      " 43%|███████████████████████████████████████████████████████████████████████▉                                                                                              | 13/30 [25:35<33:15, 117.37s/it]"
     ]
    },
    {
     "name": "stdout",
     "output_type": "stream",
     "text": [
      "epoch:13, train accu:0.8751, train loss:0.36\n"
     ]
    },
    {
     "name": "stderr",
     "output_type": "stream",
     "text": [
      "\r",
      " 47%|█████████████████████████████████████████████████████████████████████████████▍                                                                                        | 14/30 [27:32<31:11, 116.99s/it]"
     ]
    },
    {
     "name": "stdout",
     "output_type": "stream",
     "text": [
      "epoch:14, train accu:0.8923, train loss:0.31\n"
     ]
    },
    {
     "name": "stderr",
     "output_type": "stream",
     "text": [
      "\r",
      " 50%|███████████████████████████████████████████████████████████████████████████████████                                                                                   | 15/30 [29:28<29:13, 116.89s/it]"
     ]
    },
    {
     "name": "stdout",
     "output_type": "stream",
     "text": [
      "epoch:15, train accu:0.9119, train loss:0.25\n"
     ]
    },
    {
     "name": "stderr",
     "output_type": "stream",
     "text": [
      "\r",
      " 53%|████████████████████████████████████████████████████████████████████████████████████████▌                                                                             | 16/30 [31:25<27:17, 116.97s/it]"
     ]
    },
    {
     "name": "stdout",
     "output_type": "stream",
     "text": [
      "epoch:16, train accu:0.9117, train loss:0.25\n"
     ]
    },
    {
     "name": "stderr",
     "output_type": "stream",
     "text": [
      "\r",
      " 57%|██████████████████████████████████████████████████████████████████████████████████████████████                                                                        | 17/30 [33:22<25:20, 116.96s/it]"
     ]
    },
    {
     "name": "stdout",
     "output_type": "stream",
     "text": [
      "epoch:17, train accu:0.9452, train loss:0.17\n"
     ]
    },
    {
     "name": "stderr",
     "output_type": "stream",
     "text": [
      "\r",
      " 60%|███████████████████████████████████████████████████████████████████████████████████████████████████▌                                                                  | 18/30 [35:20<23:24, 117.05s/it]"
     ]
    },
    {
     "name": "stdout",
     "output_type": "stream",
     "text": [
      "epoch:18, train accu:0.9471, train loss:0.15\n"
     ]
    },
    {
     "name": "stderr",
     "output_type": "stream",
     "text": [
      "\r",
      " 63%|█████████████████████████████████████████████████████████████████████████████████████████████████████████▏                                                            | 19/30 [37:16<21:24, 116.76s/it]"
     ]
    },
    {
     "name": "stdout",
     "output_type": "stream",
     "text": [
      "epoch:19, train accu:0.9513, train loss:0.14\n"
     ]
    },
    {
     "name": "stderr",
     "output_type": "stream",
     "text": [
      "\r",
      " 67%|██████████████████████████████████████████████████████████████████████████████████████████████████████████████▋                                                       | 20/30 [39:12<19:26, 116.63s/it]"
     ]
    },
    {
     "name": "stdout",
     "output_type": "stream",
     "text": [
      "epoch:20, train accu:0.9594, train loss:0.12\n"
     ]
    },
    {
     "name": "stderr",
     "output_type": "stream",
     "text": [
      "\r",
      " 70%|████████████████████████████████████████████████████████████████████████████████████████████████████████████████████▏                                                 | 21/30 [41:09<17:30, 116.77s/it]"
     ]
    },
    {
     "name": "stdout",
     "output_type": "stream",
     "text": [
      "epoch:21, train accu:0.9664, train loss:0.10\n"
     ]
    },
    {
     "name": "stderr",
     "output_type": "stream",
     "text": [
      "\r",
      " 73%|█████████████████████████████████████████████████████████████████████████████████████████████████████████████████████████▋                                            | 22/30 [43:07<15:36, 117.07s/it]"
     ]
    },
    {
     "name": "stdout",
     "output_type": "stream",
     "text": [
      "epoch:22, train accu:0.9753, train loss:0.08\n"
     ]
    },
    {
     "name": "stderr",
     "output_type": "stream",
     "text": [
      "\r",
      " 77%|███████████████████████████████████████████████████████████████████████████████████████████████████████████████████████████████▎                                      | 23/30 [45:04<13:38, 117.00s/it]"
     ]
    },
    {
     "name": "stdout",
     "output_type": "stream",
     "text": [
      "epoch:23, train accu:0.9660, train loss:0.10\n"
     ]
    },
    {
     "name": "stderr",
     "output_type": "stream",
     "text": [
      "\r",
      " 80%|████████████████████████████████████████████████████████████████████████████████████████████████████████████████████████████████████▊                                 | 24/30 [47:00<11:40, 116.83s/it]"
     ]
    },
    {
     "name": "stdout",
     "output_type": "stream",
     "text": [
      "epoch:24, train accu:0.9769, train loss:0.07\n"
     ]
    },
    {
     "name": "stderr",
     "output_type": "stream",
     "text": [
      "\r",
      " 83%|██████████████████████████████████████████████████████████████████████████████████████████████████████████████████████████████████████████▎                           | 25/30 [48:55<09:41, 116.23s/it]"
     ]
    },
    {
     "name": "stdout",
     "output_type": "stream",
     "text": [
      "epoch:25, train accu:0.9851, train loss:0.05\n"
     ]
    },
    {
     "name": "stderr",
     "output_type": "stream",
     "text": [
      "\r",
      " 87%|███████████████████████████████████████████████████████████████████████████████████████████████████████████████████████████████████████████████▊                      | 26/30 [50:53<07:47, 116.80s/it]"
     ]
    },
    {
     "name": "stdout",
     "output_type": "stream",
     "text": [
      "epoch:26, train accu:0.9681, train loss:0.10\n"
     ]
    },
    {
     "name": "stderr",
     "output_type": "stream",
     "text": [
      "\r",
      " 90%|█████████████████████████████████████████████████████████████████████████████████████████████████████████████████████████████████████████████████████▍                | 27/30 [52:50<05:50, 116.75s/it]"
     ]
    },
    {
     "name": "stdout",
     "output_type": "stream",
     "text": [
      "epoch:27, train accu:0.9786, train loss:0.06\n"
     ]
    },
    {
     "name": "stderr",
     "output_type": "stream",
     "text": [
      "\r",
      " 93%|██████████████████████████████████████████████████████████████████████████████████████████████████████████████████████████████████████████████████████████▉           | 28/30 [54:45<03:52, 116.33s/it]"
     ]
    },
    {
     "name": "stdout",
     "output_type": "stream",
     "text": [
      "epoch:28, train accu:0.9897, train loss:0.04\n"
     ]
    },
    {
     "name": "stderr",
     "output_type": "stream",
     "text": [
      "\r",
      " 97%|████████████████████████████████████████████████████████████████████████████████████████████████████████████████████████████████████████████████████████████████▍     | 29/30 [56:41<01:56, 116.17s/it]"
     ]
    },
    {
     "name": "stdout",
     "output_type": "stream",
     "text": [
      "epoch:29, train accu:0.9646, train loss:0.10\n"
     ]
    },
    {
     "name": "stderr",
     "output_type": "stream",
     "text": [
      "100%|██████████████████████████████████████████████████████████████████████████████████████████████████████████████████████████████████████████████████████████████████████| 30/30 [58:37<00:00, 117.24s/it]"
     ]
    },
    {
     "name": "stdout",
     "output_type": "stream",
     "text": [
      "epoch:30, train accu:0.9839, train loss:0.05\n"
     ]
    },
    {
     "name": "stderr",
     "output_type": "stream",
     "text": [
      "\n"
     ]
    }
   ],
   "source": [
    "epochs = 30\n",
    "train_losses = []\n",
    "train_accuracies = []\n",
    "valid_losses = []\n",
    "valid_accuracies = []\n",
    "\n",
    "for epoch in tqdm(range(epochs)):\n",
    "    train_loss = 0\n",
    "    acc_cnt = 0\n",
    "    err_cnt = 0\n",
    "    batch_cnt = 0\n",
    "    model.train()\n",
    "    for batch, (x, length, y) in enumerate(train_dataloader):\n",
    "        x = x.to(device)\n",
    "        y = y.to(device)\n",
    "        optimizer.zero_grad()\n",
    "        logits = model(x, length)\n",
    "        loss = criterion(logits, y)\n",
    "        loss.backward()\n",
    "        optimizer.step()\n",
    "        train_loss += loss.cpu().item()\n",
    "\n",
    "        #model outputs\n",
    "        out_val, out_indices = torch.max(logits, dim=1)\n",
    "        tar_indices = y\n",
    "\n",
    "        for i in range(len(out_indices)):\n",
    "            if out_indices[i] == tar_indices[i]:\n",
    "                acc_cnt += 1\n",
    "            else:\n",
    "                err_cnt += 1\n",
    "        batch_cnt += 1\n",
    "    \n",
    "    train_loss = train_loss/batch_cnt\n",
    "    train_accuracy = acc_cnt/(acc_cnt+err_cnt)\n",
    "    train_accuracies.append(train_accuracy)\n",
    "    train_losses.append(train_loss)\n",
    "    \n",
    "    print(f\"epoch:{epoch+1}, train accu:{train_accuracy:.4f},\", f\"train loss:{train_loss:.2f}\")"
   ]
  },
  {
   "cell_type": "markdown",
   "id": "42092bf7",
   "metadata": {},
   "source": [
    "## Model Test"
   ]
  },
  {
   "cell_type": "code",
   "execution_count": 17,
   "id": "3c5c9897",
   "metadata": {},
   "outputs": [
    {
     "name": "stderr",
     "output_type": "stream",
     "text": [
      "1241it [04:02,  5.12it/s]\n"
     ]
    }
   ],
   "source": [
    "from tqdm import tqdm\n",
    "\n",
    "testdata = []\n",
    "for _, row in tqdm(test.iterrows()):\n",
    "    testdata.append(torch.load(row[4]))\n",
    "    \n",
    "test_dataset = MyDataSet(testdata, test['emotion'].tolist(), cate_dic)\n",
    "testloader_args = dict(batch_size=1, shuffle=True)\n",
    "test_dataloader = DataLoader(test_dataset, **testloader_args, \n",
    "                             collate_fn=collate_indic)"
   ]
  },
  {
   "cell_type": "code",
   "execution_count": 18,
   "id": "3120f8d4",
   "metadata": {},
   "outputs": [
    {
     "name": "stdout",
     "output_type": "stream",
     "text": [
      "test accuracy: 0.5672844480257857\n"
     ]
    }
   ],
   "source": [
    "test_loss = 0\n",
    "acc_cnt = 0\n",
    "err_cnt = 0\n",
    "batch_cnt = 0\n",
    "model.eval()\n",
    "\n",
    "for x, lengths, y in test_dataloader:\n",
    "\n",
    "    x = x.to(device)\n",
    "    y = y.to(device)\n",
    "\n",
    "    logits = model(x, lengths)\n",
    "    loss = criterion(logits, y)\n",
    "    test_loss += loss.cpu().item()\n",
    "\n",
    "    out_val, out_indices = torch.max(logits, dim=1)\n",
    "    tar_indices = y\n",
    "\n",
    "    for i in range(len(out_indices)):\n",
    "        if out_indices[i] == tar_indices[i]:\n",
    "            acc_cnt += 1\n",
    "        else:\n",
    "            err_cnt += 1\n",
    "    batch_cnt += 1\n",
    "\n",
    "test_loss = test_loss/batch_cnt\n",
    "test_accuracy = acc_cnt/(acc_cnt+err_cnt)\n",
    "print(f'test accuracy: {test_accuracy}')"
   ]
  },
  {
   "cell_type": "code",
   "execution_count": 19,
   "id": "997c700b",
   "metadata": {},
   "outputs": [
    {
     "name": "stdout",
     "output_type": "stream",
     "text": [
      "aggr.weight tensor([[[-0.0733],\n",
      "         [-0.1134],\n",
      "         [ 0.1419],\n",
      "         [ 0.0013],\n",
      "         [-0.1593],\n",
      "         [ 0.2897],\n",
      "         [ 0.0577],\n",
      "         [-0.2451],\n",
      "         [-0.1725],\n",
      "         [ 0.1752],\n",
      "         [ 0.0864],\n",
      "         [-0.0383],\n",
      "         [-0.2767],\n",
      "         [-0.0082],\n",
      "         [ 0.1508],\n",
      "         [ 0.1626],\n",
      "         [ 0.1986],\n",
      "         [-0.1726],\n",
      "         [-0.2718],\n",
      "         [ 0.1386],\n",
      "         [ 0.1387],\n",
      "         [-0.1195],\n",
      "         [ 0.0529],\n",
      "         [ 0.0158]]], device='cuda:0')\n",
      "aggr.bias tensor([-0.0206], device='cuda:0')\n",
      "embed.weight tensor([[ 0.0087, -0.0049,  0.1415,  ..., -0.0607,  0.1349,  0.1496],\n",
      "        [-0.0793, -0.0490,  0.1403,  ...,  0.0589,  0.0657,  0.0871],\n",
      "        [-0.0191, -0.1388,  0.0891,  ..., -0.0401,  0.0044,  0.0460],\n",
      "        ...,\n",
      "        [ 0.1341, -0.1301,  0.0919,  ..., -0.0862,  0.0176,  0.0647],\n",
      "        [ 0.0378, -0.0144,  0.0370,  ...,  0.1127, -0.0841, -0.0030],\n",
      "        [ 0.0554,  0.0575,  0.0387,  ...,  0.0680,  0.0999, -0.0324]],\n",
      "       device='cuda:0')\n",
      "embed.bias tensor([-0.0730,  0.0181,  0.1661, -0.0217, -0.1028,  0.0393,  0.0024, -0.0300,\n",
      "        -0.0798,  0.1075, -0.0236,  0.0565,  0.0014, -0.0471, -0.1124, -0.0182,\n",
      "        -0.1056,  0.0164,  0.0125,  0.0914, -0.0330,  0.0517,  0.1198, -0.0194,\n",
      "         0.0604, -0.0809,  0.0009,  0.1404, -0.0162,  0.0051, -0.0245, -0.0025,\n",
      "         0.0530, -0.1065, -0.0576, -0.0434, -0.1182, -0.0695,  0.0802, -0.0205,\n",
      "        -0.0698, -0.0991,  0.0251,  0.0203,  0.0083,  0.0426, -0.0163, -0.1239,\n",
      "        -0.0682,  0.0489,  0.0303, -0.0030,  0.0714,  0.0389, -0.0479, -0.0298,\n",
      "         0.0660, -0.0360, -0.0435, -0.0024, -0.0196,  0.0270,  0.0455,  0.0890,\n",
      "        -0.0207, -0.0418,  0.0544,  0.0115, -0.0514, -0.0509, -0.0021,  0.0681,\n",
      "        -0.0235, -0.0956,  0.0094,  0.0789,  0.0061, -0.0219, -0.0133,  0.0402,\n",
      "        -0.1177, -0.0122, -0.0779,  0.0025, -0.0504, -0.0792, -0.0244,  0.0190,\n",
      "        -0.0580,  0.0179,  0.1677, -0.0857,  0.0524,  0.0464, -0.0017, -0.0054,\n",
      "         0.0677,  0.0394, -0.0398,  0.0324,  0.1325,  0.1505, -0.0428, -0.0093,\n",
      "         0.0671, -0.0178, -0.0607, -0.0854,  0.0816, -0.0196,  0.0313, -0.0691,\n",
      "         0.0427, -0.0212,  0.0287, -0.0268, -0.0847, -0.0538, -0.0603, -0.0348,\n",
      "         0.0184, -0.0562,  0.0637, -0.0009, -0.0249,  0.0863,  0.0204, -0.0086],\n",
      "       device='cuda:0')\n",
      "cnn.weight tensor([[[-8.8846e-02, -4.5055e-02, -3.6493e-02],\n",
      "         [ 2.0316e-01, -3.4290e-02,  3.2437e-02],\n",
      "         [-3.9229e-02, -5.3840e-02,  1.7193e-01],\n",
      "         ...,\n",
      "         [ 7.3505e-02, -1.0534e-01,  8.8720e-02],\n",
      "         [ 7.2873e-02,  9.8315e-02, -1.7314e-02],\n",
      "         [-2.8759e-02,  1.2654e-02, -8.3542e-02]],\n",
      "\n",
      "        [[-2.7679e-03, -2.7440e-02, -2.0493e-01],\n",
      "         [ 1.3301e-02,  8.6997e-03, -1.1363e-01],\n",
      "         [-2.2781e-03,  4.6742e-02, -3.9042e-02],\n",
      "         ...,\n",
      "         [-1.7521e-02, -1.1220e-01, -4.6720e-02],\n",
      "         [-4.4807e-02,  6.2821e-02,  1.2925e-01],\n",
      "         [ 1.2009e-01,  7.3200e-02,  5.0823e-03]],\n",
      "\n",
      "        [[ 8.0755e-02,  7.3873e-02, -1.2703e-01],\n",
      "         [-1.0175e-01,  2.4919e-02,  1.1125e-01],\n",
      "         [ 1.3096e-01,  4.3956e-02,  1.7814e-02],\n",
      "         ...,\n",
      "         [-1.3481e-01,  1.3886e-01,  5.8620e-02],\n",
      "         [ 4.9979e-02,  4.7786e-02,  9.7048e-02],\n",
      "         [-6.0781e-02, -1.6589e-02,  3.0088e-02]],\n",
      "\n",
      "        ...,\n",
      "\n",
      "        [[ 5.5513e-02,  1.2400e-01, -4.1646e-02],\n",
      "         [ 7.2972e-02,  1.2168e-01,  9.5448e-04],\n",
      "         [ 1.1369e-05,  8.4472e-02, -4.4585e-02],\n",
      "         ...,\n",
      "         [ 2.8878e-02, -1.6878e-02,  6.8590e-02],\n",
      "         [-3.0048e-02,  2.5331e-03,  1.5275e-01],\n",
      "         [ 1.2594e-01,  1.0738e-01, -2.0340e-02]],\n",
      "\n",
      "        [[-3.7651e-02, -1.7341e-02, -1.2187e-01],\n",
      "         [-4.1824e-02, -5.8149e-02, -1.2134e-01],\n",
      "         [ 5.7057e-02,  1.4964e-01, -7.7553e-02],\n",
      "         ...,\n",
      "         [-1.0107e-03, -4.0385e-03, -3.3975e-02],\n",
      "         [-4.3337e-02,  3.7424e-02, -6.3485e-03],\n",
      "         [ 9.5070e-02,  1.3687e-02,  1.0315e-01]],\n",
      "\n",
      "        [[ 6.9823e-02, -1.1054e-01, -8.0852e-02],\n",
      "         [-1.0467e-01, -5.1742e-03, -5.6954e-02],\n",
      "         [-7.2621e-03, -3.9327e-02, -7.0489e-02],\n",
      "         ...,\n",
      "         [ 1.4142e-01,  1.9797e-01, -2.3392e-01],\n",
      "         [-8.9577e-02, -3.8343e-02,  1.4800e-02],\n",
      "         [ 3.9598e-02, -1.3037e-01,  5.8198e-02]]], device='cuda:0')\n",
      "cnn.bias tensor([ 0.0028,  0.0469, -0.0395, -0.0424,  0.0403,  0.0042,  0.0044, -0.0285,\n",
      "        -0.0268,  0.0271, -0.0667,  0.0372,  0.0224,  0.0077,  0.0087,  0.0377,\n",
      "        -0.0540, -0.0372, -0.0162,  0.0226, -0.0232, -0.0215, -0.0314, -0.0420,\n",
      "        -0.0277,  0.0266,  0.0317, -0.0003, -0.0044, -0.0105,  0.0371,  0.0507,\n",
      "        -0.0465,  0.0190,  0.0409, -0.0081, -0.0369,  0.0259, -0.0511,  0.0116,\n",
      "         0.0440,  0.0343,  0.0157, -0.0245, -0.0004, -0.0445,  0.0123, -0.0023,\n",
      "        -0.0133,  0.0381,  0.0124,  0.0341,  0.0078,  0.0392,  0.0334, -0.0093,\n",
      "        -0.0080, -0.0444,  0.0371, -0.0377, -0.0104, -0.0434, -0.0058, -0.0394,\n",
      "        -0.0086,  0.0420, -0.0209, -0.0012, -0.0390,  0.0072, -0.0391, -0.0120,\n",
      "         0.0355, -0.0270, -0.0015, -0.0408, -0.0393,  0.0237,  0.0211,  0.0103,\n",
      "        -0.0223,  0.0150,  0.0302,  0.0216, -0.0071,  0.0285,  0.0272, -0.0358,\n",
      "        -0.0002,  0.0140,  0.0526,  0.0408,  0.0533,  0.0384,  0.0228, -0.0106,\n",
      "         0.0254,  0.0287, -0.0088,  0.0242,  0.0104, -0.0248,  0.0476,  0.0258,\n",
      "         0.0346,  0.0474, -0.0422,  0.0024, -0.0315, -0.0387,  0.0471, -0.0080,\n",
      "         0.0180,  0.0033, -0.0359,  0.0076, -0.0526, -0.0136,  0.0262,  0.0190,\n",
      "         0.0357, -0.0435, -0.0309,  0.0403,  0.0043, -0.0492, -0.0044,  0.0405],\n",
      "       device='cuda:0')\n",
      "cnn2.weight tensor([[[-0.0090,  0.0565,  0.0468, -0.0614, -0.1200],\n",
      "         [-0.1186, -0.1087,  0.0035, -0.0798, -0.0544],\n",
      "         [ 0.0686,  0.1360,  0.0981, -0.0530,  0.0109],\n",
      "         ...,\n",
      "         [-0.0938, -0.0385, -0.0327, -0.2012, -0.0891],\n",
      "         [-0.0343, -0.0317, -0.0458, -0.0179,  0.0166],\n",
      "         [ 0.0361,  0.0452,  0.1622,  0.0617, -0.0633]],\n",
      "\n",
      "        [[-0.0971, -0.0628, -0.0058, -0.1648,  0.0186],\n",
      "         [ 0.1663, -0.0951,  0.0342,  0.1685, -0.0089],\n",
      "         [-0.0232,  0.0550,  0.0687, -0.0262, -0.0067],\n",
      "         ...,\n",
      "         [-0.2518, -0.1673,  0.1653,  0.1447, -0.0529],\n",
      "         [ 0.2299,  0.0988,  0.0284, -0.0092,  0.0143],\n",
      "         [-0.1705, -0.1385, -0.1506,  0.0160, -0.0312]],\n",
      "\n",
      "        [[-0.0141, -0.0110, -0.0212, -0.0209,  0.0087],\n",
      "         [ 0.0956,  0.1356,  0.2296,  0.0922,  0.0476],\n",
      "         [-0.1844,  0.1155,  0.0628, -0.1299,  0.0017],\n",
      "         ...,\n",
      "         [-0.0814,  0.1140,  0.1657, -0.0363,  0.0030],\n",
      "         [ 0.0141, -0.0232, -0.0280, -0.0401,  0.0162],\n",
      "         [-0.0252, -0.0539, -0.0912, -0.0915, -0.0321]],\n",
      "\n",
      "        ...,\n",
      "\n",
      "        [[-0.0198,  0.0441, -0.0126,  0.0148, -0.0572],\n",
      "         [ 0.0067,  0.0606,  0.0198,  0.0013,  0.0003],\n",
      "         [ 0.0918, -0.0344, -0.1167,  0.1082,  0.0442],\n",
      "         ...,\n",
      "         [ 0.2830, -0.0665, -0.0086,  0.0367, -0.0988],\n",
      "         [-0.0273,  0.0541,  0.0135,  0.0137,  0.0496],\n",
      "         [-0.0149, -0.0692,  0.0439,  0.1608,  0.0056]],\n",
      "\n",
      "        [[-0.0575,  0.0253,  0.1017, -0.0811,  0.0437],\n",
      "         [-0.0768, -0.1170, -0.0725,  0.0378,  0.0112],\n",
      "         [ 0.0359, -0.0504, -0.1902,  0.0454, -0.0562],\n",
      "         ...,\n",
      "         [ 0.1652, -0.1004, -0.0232, -0.0610,  0.0852],\n",
      "         [-0.0163,  0.1293, -0.0273,  0.0655, -0.0231],\n",
      "         [-0.1859,  0.0239,  0.0048, -0.0729,  0.0939]],\n",
      "\n",
      "        [[ 0.0138,  0.1725,  0.1103,  0.0035,  0.1098],\n",
      "         [ 0.0234, -0.1175, -0.0491,  0.1407,  0.0270],\n",
      "         [ 0.0482,  0.0689, -0.0331,  0.0360,  0.0165],\n",
      "         ...,\n",
      "         [-0.0756, -0.0663, -0.0107, -0.0588,  0.0492],\n",
      "         [ 0.0017, -0.0848, -0.0990,  0.0278, -0.0526],\n",
      "         [-0.1318,  0.0074,  0.1108,  0.0306,  0.1271]]], device='cuda:0')\n",
      "cnn2.bias tensor([-0.0241, -0.0233, -0.0210,  0.0293,  0.0483, -0.0106, -0.0336, -0.0294,\n",
      "        -0.0224, -0.0295, -0.0152,  0.0352, -0.0244, -0.0223, -0.0030,  0.0360,\n",
      "         0.0075, -0.0214, -0.0150,  0.0225, -0.0241, -0.0073,  0.0106, -0.0116,\n",
      "         0.0262,  0.0250,  0.0399,  0.0114,  0.0201, -0.0178, -0.0017,  0.0151,\n",
      "         0.0025,  0.0239, -0.0245,  0.0048,  0.0250, -0.0080, -0.0271, -0.0312,\n",
      "         0.0235,  0.0212,  0.0047, -0.0375, -0.0311, -0.0206,  0.0006,  0.0207,\n",
      "        -0.0188,  0.0217,  0.0121,  0.0208, -0.0118,  0.0111, -0.0369, -0.0254,\n",
      "         0.0316,  0.0281, -0.0114,  0.0209,  0.0002,  0.0313, -0.0268, -0.0193,\n",
      "        -0.0406, -0.0236,  0.0175,  0.0174,  0.0144, -0.0356, -0.0258, -0.0160,\n",
      "         0.0323,  0.0253, -0.0368, -0.0055, -0.0226, -0.0383,  0.0213, -0.0296,\n",
      "        -0.0129, -0.0281, -0.0171,  0.0313, -0.0298, -0.0199, -0.0093, -0.0132,\n",
      "         0.0146,  0.0136, -0.0200, -0.0258, -0.0007, -0.0123,  0.0176, -0.0268,\n",
      "         0.0065,  0.0323, -0.0355,  0.0191,  0.0136, -0.0395,  0.0151, -0.0075,\n",
      "         0.0416,  0.0080,  0.0131,  0.0266, -0.0242,  0.0163,  0.0085, -0.0251,\n",
      "         0.0064, -0.0067,  0.0110,  0.0268, -0.0426, -0.0273,  0.0265,  0.0050,\n",
      "         0.0237,  0.0377,  0.0188, -0.0324, -0.0382,  0.0075,  0.0197, -0.0317],\n",
      "       device='cuda:0')\n",
      "cnn3.weight tensor([[[ 7.2082e-02, -5.3903e-02, -9.4055e-02,  ..., -7.3927e-02,\n",
      "          -2.1641e-02,  7.5110e-03],\n",
      "         [-1.1326e-01, -3.8051e-02,  1.1087e-02,  ...,  5.6527e-02,\n",
      "           6.6958e-02,  5.2357e-02],\n",
      "         [-1.6567e-01, -1.6436e-01,  5.7718e-02,  ..., -1.6454e-02,\n",
      "           4.9311e-02,  2.8464e-02],\n",
      "         ...,\n",
      "         [-1.8807e-01, -9.9920e-02,  6.6997e-02,  ...,  4.6924e-02,\n",
      "           7.4170e-02,  1.7229e-01],\n",
      "         [ 2.3775e-02,  2.6701e-02,  1.6187e-02,  ..., -2.2180e-02,\n",
      "          -2.6784e-02, -1.0002e-01],\n",
      "         [-1.0578e-02,  8.7414e-02,  2.0548e-03,  ...,  1.1595e-01,\n",
      "           6.2754e-02,  5.1907e-02]],\n",
      "\n",
      "        [[ 2.4209e-02,  6.7893e-02,  9.1099e-02,  ..., -1.7085e-02,\n",
      "          -9.4604e-02, -3.4631e-02],\n",
      "         [-1.7221e-01, -1.8546e-01, -1.4385e-01,  ..., -2.6165e-02,\n",
      "          -3.9514e-02, -1.1573e-01],\n",
      "         [-2.6602e-01, -1.4296e-01,  2.7063e-02,  ..., -7.1045e-02,\n",
      "          -1.5653e-01, -1.5591e-01],\n",
      "         ...,\n",
      "         [-1.9025e-01, -1.6678e-01, -1.4027e-02,  ..., -1.1405e-01,\n",
      "          -7.7837e-02, -3.8602e-02],\n",
      "         [-8.4810e-02, -1.4333e-03, -8.8471e-02,  ..., -1.8154e-02,\n",
      "           5.7560e-02,  2.7686e-02],\n",
      "         [-1.0648e-01, -5.3646e-02,  9.3126e-02,  ..., -2.4021e-02,\n",
      "          -1.6993e-01, -8.9943e-02]],\n",
      "\n",
      "        [[-4.8542e-02, -4.6226e-02, -4.0472e-02,  ..., -6.6717e-03,\n",
      "           2.0961e-02,  5.1894e-02],\n",
      "         [ 1.6563e-01,  9.8109e-02, -8.5430e-02,  ...,  1.1335e-01,\n",
      "           2.1219e-04, -6.7338e-02],\n",
      "         [ 2.5713e-01,  1.0896e-01,  6.4107e-02,  ...,  1.0471e-02,\n",
      "           7.5100e-03,  9.1918e-03],\n",
      "         ...,\n",
      "         [ 6.2410e-02, -4.9742e-02, -1.4447e-02,  ...,  1.1856e-01,\n",
      "           3.1125e-02,  8.6177e-02],\n",
      "         [-1.7505e-01, -2.4712e-04, -1.6736e-03,  ..., -7.8393e-02,\n",
      "          -7.8418e-02, -1.1568e-02],\n",
      "         [ 1.5602e-01, -2.7059e-02,  5.3201e-02,  ...,  3.3583e-02,\n",
      "           3.9251e-02,  1.6960e-02]],\n",
      "\n",
      "        ...,\n",
      "\n",
      "        [[-6.2681e-02,  3.4431e-02,  9.4207e-02,  ...,  8.6459e-02,\n",
      "           1.2083e-02,  1.6967e-02],\n",
      "         [-1.0211e-01, -9.9408e-02, -1.6089e-01,  ...,  4.8639e-02,\n",
      "          -2.0705e-02, -3.5857e-02],\n",
      "         [-2.4815e-01, -1.7428e-01,  5.4463e-02,  ...,  3.5619e-02,\n",
      "          -1.8109e-02, -3.8069e-02],\n",
      "         ...,\n",
      "         [-3.6047e-01, -2.3034e-01, -1.1103e-02,  ..., -1.1299e-01,\n",
      "           2.2114e-02, -1.0006e-02],\n",
      "         [-1.1968e-01, -8.3502e-02, -1.6188e-01,  ..., -2.9499e-02,\n",
      "          -6.0305e-02, -7.6116e-02],\n",
      "         [ 1.1198e-01,  6.3695e-02,  2.0866e-01,  ...,  4.3633e-02,\n",
      "          -4.4905e-03,  1.3324e-01]],\n",
      "\n",
      "        [[ 1.6192e-02,  1.4732e-01,  6.2603e-02,  ..., -5.7820e-02,\n",
      "          -1.1096e-01, -7.9408e-02],\n",
      "         [-5.0438e-02,  7.6717e-02,  2.2289e-02,  ..., -5.7520e-02,\n",
      "          -9.1833e-02, -7.1333e-02],\n",
      "         [-2.0900e-02,  5.0315e-02, -1.5120e-02,  ...,  1.2432e-01,\n",
      "           5.3757e-02,  8.0887e-02],\n",
      "         ...,\n",
      "         [ 1.7785e-01,  4.7258e-02,  9.0313e-02,  ...,  1.8475e-01,\n",
      "           5.0771e-02,  1.8171e-03],\n",
      "         [ 1.5267e-01, -1.1278e-02,  2.2413e-02,  ...,  1.5517e-01,\n",
      "           1.5062e-01,  1.2622e-01],\n",
      "         [-7.8975e-02, -1.1801e-02, -1.1525e-04,  ..., -1.4824e-01,\n",
      "          -6.0172e-02, -4.0839e-02]],\n",
      "\n",
      "        [[ 2.5588e-01,  5.7302e-02,  1.0688e-01,  ...,  2.5098e-02,\n",
      "           6.0356e-02,  5.8511e-02],\n",
      "         [ 1.2063e-01, -3.0089e-02, -4.2021e-03,  ..., -1.2212e-04,\n",
      "           1.2815e-01,  1.3277e-01],\n",
      "         [ 5.5654e-02,  3.1409e-02,  1.3708e-02,  ...,  6.5600e-02,\n",
      "           7.3372e-02,  1.0930e-01],\n",
      "         ...,\n",
      "         [-4.4614e-02, -2.7782e-02, -1.6366e-01,  ...,  1.4537e-01,\n",
      "          -5.7270e-02, -9.9408e-02],\n",
      "         [-2.3638e-01, -2.1287e-01, -2.0991e-01,  ..., -2.8167e-03,\n",
      "          -9.3905e-02, -1.1738e-01],\n",
      "         [ 2.1685e-01,  1.8675e-01,  1.5956e-01,  ...,  5.5252e-02,\n",
      "           4.1871e-02,  5.4223e-02]]], device='cuda:0')\n",
      "cnn3.bias tensor([-2.7668e-02, -1.3728e-02,  3.0179e-02, -3.8133e-02, -2.4977e-02,\n",
      "         1.7695e-02, -3.3659e-03,  7.2947e-03, -3.6720e-02,  1.0685e-02,\n",
      "        -8.8248e-03, -2.8289e-02,  2.1326e-02, -2.4209e-02,  3.0341e-02,\n",
      "         1.3406e-02,  1.6061e-02, -4.5855e-02,  8.6995e-03,  1.2205e-02,\n",
      "         1.2957e-02, -1.8396e-02, -9.1015e-03, -3.5070e-02, -1.8868e-02,\n",
      "        -7.1898e-03, -8.6308e-03, -1.2100e-02, -2.9251e-02, -1.9781e-02,\n",
      "        -2.5648e-03, -3.7437e-02, -1.3793e-02, -3.4152e-02,  2.2323e-02,\n",
      "         1.4327e-02,  2.0711e-02, -2.1590e-02, -2.0129e-02,  3.3014e-02,\n",
      "         2.0884e-02, -2.3966e-02,  6.1782e-03, -2.1223e-03, -2.8706e-02,\n",
      "         1.9959e-02, -2.3535e-02, -2.4818e-02,  2.1680e-02, -3.3687e-02,\n",
      "        -1.2563e-02, -3.2439e-02, -3.4524e-02, -3.1846e-02, -2.7966e-02,\n",
      "        -9.1025e-03, -6.0972e-03, -2.5680e-02, -6.4397e-03,  3.6750e-02,\n",
      "         4.4068e-03,  2.1946e-02,  1.6707e-02,  1.3124e-02, -1.0543e-02,\n",
      "         2.0239e-02,  1.5655e-03, -6.5906e-03,  8.6238e-04,  2.7990e-03,\n",
      "        -8.2737e-03,  1.5146e-02, -2.6764e-02, -1.6007e-02,  1.0723e-03,\n",
      "         2.6877e-02,  1.6788e-02, -2.4950e-02, -3.1982e-02,  5.3033e-03,\n",
      "        -1.5812e-02, -1.2228e-02, -2.4873e-02,  2.5091e-02, -2.0744e-02,\n",
      "        -6.7584e-03, -6.8573e-03, -2.2439e-02, -3.3172e-03,  3.2621e-03,\n",
      "         5.0732e-05, -5.0271e-04, -2.0787e-02, -2.9224e-02,  2.6029e-02,\n",
      "         5.3696e-03, -2.2845e-02,  1.7481e-02, -3.5389e-02, -4.7157e-04,\n",
      "        -3.5915e-03,  3.2804e-02,  1.8567e-03, -7.9154e-03,  3.3952e-02,\n",
      "        -2.2296e-02,  3.3681e-02,  5.1227e-03,  5.9542e-03, -2.4751e-02,\n",
      "        -2.6761e-02, -3.0917e-02, -2.7691e-02, -2.6290e-02, -9.6431e-03,\n",
      "         3.5428e-02, -2.5526e-02,  2.8942e-02, -4.1069e-02,  2.1391e-02,\n",
      "        -7.7097e-03,  1.7330e-03,  2.0868e-02,  3.0967e-02,  2.0384e-02,\n",
      "        -4.1497e-03,  2.2854e-02, -2.1944e-03], device='cuda:0')\n",
      "batchnorm.weight tensor([0.8791, 0.9413, 1.0460, 1.0039, 0.9618, 0.9968, 0.9752, 1.0865, 1.0855,\n",
      "        1.1116, 1.1248, 1.0325, 1.0612, 0.9670, 1.0218, 0.9468, 1.0762, 0.9896,\n",
      "        1.0561, 0.9656, 0.9845, 1.0268, 1.0088, 1.0252, 1.0074, 0.9775, 1.0097,\n",
      "        0.9643, 0.9770, 1.0346, 1.0803, 0.8946, 0.9955, 1.0364, 1.0152, 1.0681,\n",
      "        0.9452, 1.0977, 1.1194, 0.9802, 1.0875, 1.0276, 1.0934, 0.9531, 1.1554,\n",
      "        0.9624, 0.9651, 1.0215, 1.0455, 1.0657, 0.9867, 1.2062, 0.9666, 1.0229,\n",
      "        0.9534, 1.1067, 0.8905, 1.0311, 0.9604, 0.9960, 0.9786, 1.0939, 1.0322,\n",
      "        0.9672, 0.9047, 0.9893, 0.9243, 1.0529, 1.0014, 0.9444, 0.9356, 1.0591,\n",
      "        1.0758, 0.9554, 1.0642, 0.9281, 0.9850, 0.9705, 0.9469, 0.9533, 0.9099,\n",
      "        0.9874, 1.0024, 1.0527, 0.9646, 0.9383, 1.0426, 1.0348, 1.0492, 0.9493,\n",
      "        0.9290, 1.0987, 1.0379, 1.0906, 1.0352, 0.9811, 1.0898, 1.0238, 0.9713,\n",
      "        1.0302, 1.0459, 0.9927, 0.9835, 1.0851, 1.0410, 1.0004, 1.0504, 1.0464,\n",
      "        0.9813, 1.0149, 0.9739, 1.0021, 0.9922, 1.0084, 0.9315, 0.9255, 0.9710,\n",
      "        0.9624, 0.9328, 0.9975, 0.9933, 0.9114, 1.1260, 0.9987, 1.0083, 0.9466,\n",
      "        0.9578, 1.0665, 1.0667, 1.1636, 1.0541, 1.0116, 1.0322, 1.0779, 1.0178,\n",
      "        0.9227, 1.0697, 1.0189, 0.9648, 1.0003, 0.9736, 1.0348, 0.9669, 1.0886,\n",
      "        1.0850, 1.0900, 0.9932, 0.9822, 1.0623, 0.9548, 0.9961, 1.0496, 0.9866,\n",
      "        1.0203, 1.0581, 0.9762, 1.1016, 1.0664, 1.1312, 1.0024, 1.0230, 0.8695,\n",
      "        1.0707, 0.9492, 1.2392, 1.0983, 1.0258, 1.0115, 0.9992, 0.9960, 0.9325,\n",
      "        1.1331, 0.9509, 1.0530, 1.0364, 0.9675, 0.9916, 1.0465, 0.9334, 1.0779,\n",
      "        0.9732, 1.0389, 1.0338, 0.9912, 0.9217, 0.9891, 1.0667, 1.0058, 1.1926,\n",
      "        1.0866, 1.0755, 1.0478, 0.9915, 1.1389, 0.9658, 0.9882, 1.1152, 0.9660,\n",
      "        1.0052, 1.0392, 1.0781, 1.0472, 1.0191, 1.1209, 1.0395, 1.0048, 0.9793,\n",
      "        0.9391, 1.0910, 0.9629, 1.1382, 1.2036, 0.9576, 1.0051, 1.0093, 1.0272,\n",
      "        1.0205, 0.9350, 1.0777, 0.9358, 1.0549, 1.0304, 1.1280, 1.0818, 1.0754,\n",
      "        0.9508, 0.9835, 1.0106, 1.0775, 0.9269, 0.9970, 1.0318, 0.9942, 1.0793,\n",
      "        1.0274, 1.0458, 1.0213, 0.9456, 0.9829, 1.1384, 1.0865, 1.0240, 0.9849,\n",
      "        1.0564, 1.0498, 1.0566, 1.0230, 0.9887, 1.0001, 0.9717, 1.0168, 1.2427,\n",
      "        0.9670, 1.1091, 1.0315, 1.0370, 1.2041, 1.1102, 1.0240, 1.1469, 1.0772,\n",
      "        1.0414, 1.0460, 1.0360, 1.0848, 1.1131, 1.0164, 1.0386, 1.0834, 1.2086,\n",
      "        0.9089, 1.0843, 1.0464, 1.2032, 0.9611, 1.0693, 1.0518, 1.0239, 1.1114,\n",
      "        1.1152, 0.9867, 1.0467, 0.9939, 1.0348, 0.9896, 1.0871, 1.0371, 1.0784,\n",
      "        0.9693, 1.1641, 1.0807, 0.9846, 1.0860, 1.0199, 1.2015, 1.1597, 0.9832,\n",
      "        1.0855, 1.0677, 0.9754, 0.9917, 1.0984, 0.9777, 1.0977, 1.1053, 1.1179,\n",
      "        0.9495, 0.9448, 0.9978, 0.9402, 1.0984, 1.0834, 1.0692, 1.0428, 1.2426,\n",
      "        1.1126, 1.0557, 0.9727, 0.9902, 1.0962, 1.1046, 1.1502, 1.0122, 0.9660,\n",
      "        1.0844, 1.0471, 1.0297, 1.0193, 1.0595, 1.0918, 1.2294, 1.1009, 1.1666,\n",
      "        0.9592, 1.0771, 1.1447, 1.1060, 1.0671, 1.1328, 1.0768, 1.1033, 1.1324,\n",
      "        1.0619, 1.0275, 1.0821, 1.0517, 1.1197, 1.0705, 1.0079, 1.0308, 0.9385,\n",
      "        1.0001, 1.0292, 0.9799, 1.0629, 0.9246, 1.0345, 1.0403, 0.9530, 1.0330,\n",
      "        1.1165, 1.0174, 1.0538, 1.0261, 1.0211, 1.0059, 1.2148, 1.1252, 1.1331,\n",
      "        1.0191, 1.0838, 1.0016, 1.0610, 1.0144, 1.2446, 0.9190, 1.0915, 1.0744,\n",
      "        1.0294, 1.0364, 1.1976, 1.0546, 0.9650, 1.0452], device='cuda:0')\n",
      "batchnorm.bias tensor([-5.6047e-02, -7.6281e-02, -7.4701e-02, -7.2959e-02, -1.2536e-01,\n",
      "         6.9932e-02, -6.2924e-02, -3.8401e-02,  5.0976e-02, -5.7710e-02,\n",
      "         2.5406e-02,  2.1306e-02, -7.1966e-02, -6.8408e-02, -1.7083e-01,\n",
      "        -6.3123e-02, -2.3258e-02, -5.7537e-02,  2.3072e-02, -7.8123e-02,\n",
      "        -6.4353e-02, -5.1666e-02, -1.2324e-01,  6.1663e-02, -1.2879e-01,\n",
      "        -9.1882e-02, -1.5730e-02, -6.7136e-02, -8.3682e-02,  1.7124e-02,\n",
      "        -6.7334e-03, -7.0998e-02, -1.2168e-01,  6.2509e-03, -1.3573e-01,\n",
      "        -6.2238e-02, -1.3403e-01,  2.2466e-02, -6.7808e-02, -3.1120e-02,\n",
      "        -1.1197e-02,  2.0644e-02, -6.8479e-02, -1.1403e-02,  2.1925e-02,\n",
      "        -1.5294e-02, -9.3809e-02, -1.0646e-01, -1.3678e-01,  3.8272e-02,\n",
      "        -3.8911e-02, -1.8540e-02, -5.5187e-03, -1.8958e-01, -1.0714e-01,\n",
      "        -8.6417e-02, -1.4089e-01, -4.9068e-02, -1.9057e-01, -2.9648e-02,\n",
      "        -6.4200e-02, -6.1809e-02, -9.6120e-02, -1.0872e-01, -1.0455e-01,\n",
      "        -3.9889e-02, -1.2910e-01, -8.7363e-02, -8.3904e-02, -1.4085e-01,\n",
      "        -1.3272e-01, -5.6023e-02, -1.6987e-02, -4.3563e-02,  4.3350e-03,\n",
      "        -9.8138e-02, -1.1430e-01, -1.1636e-01, -8.9613e-02, -7.6512e-02,\n",
      "        -9.4051e-02,  5.4288e-02, -8.3741e-02,  6.1367e-03, -1.0273e-01,\n",
      "        -8.4097e-02, -9.2903e-02,  6.0460e-03,  1.2268e-02, -1.1930e-01,\n",
      "        -1.0316e-01,  6.8709e-02, -5.6064e-02, -2.2057e-02, -5.6399e-02,\n",
      "        -1.2408e-01, -4.4187e-02, -9.7867e-02, -1.0833e-01, -7.4489e-02,\n",
      "         9.5435e-03,  2.0811e-02, -1.3599e-01, -3.8172e-04, -1.1313e-02,\n",
      "        -1.3534e-01,  9.6772e-03,  1.5355e-02, -1.1825e-01, -8.0631e-02,\n",
      "        -1.0747e-01, -1.2245e-01, -1.3514e-01, -1.5611e-02, -5.3601e-02,\n",
      "        -1.2319e-01, -9.3134e-02, -8.1413e-02, -1.2231e-01, -9.9574e-02,\n",
      "        -1.0351e-02, -9.6000e-02, -7.6163e-02, -6.6996e-02, -1.0068e-01,\n",
      "        -9.6952e-02, -6.5218e-02,  6.1202e-02,  2.3726e-02, -2.0169e-02,\n",
      "        -2.6718e-02, -5.7721e-02, -8.0496e-02,  1.3379e-02, -8.3722e-02,\n",
      "        -1.4572e-01,  3.0133e-02, -1.1946e-01, -1.0587e-01, -2.1843e-03,\n",
      "        -9.4023e-02, -1.4081e-01, -1.2098e-01, -4.4674e-02, -6.4631e-02,\n",
      "         8.1658e-03, -5.3090e-03, -5.5448e-02, -2.8893e-02, -1.2439e-01,\n",
      "         2.8568e-02,  2.8611e-02, -4.5169e-02, -7.2454e-02, -1.5181e-02,\n",
      "        -9.5994e-02, -1.1943e-03, -3.3849e-02, -1.7566e-02, -7.2138e-02,\n",
      "        -1.2690e-04, -1.4005e-01,  1.8028e-02, -8.1939e-02, -7.8912e-02,\n",
      "        -3.4829e-02, -6.4686e-02, -7.9551e-02, -5.4961e-02, -5.2319e-02,\n",
      "        -9.5049e-02, -4.7823e-03, -1.1637e-01, -5.7389e-02,  3.9323e-02,\n",
      "        -1.1119e-01, -1.1874e-01, -5.3215e-02, -5.9655e-02, -8.8800e-02,\n",
      "        -4.5077e-02, -2.3025e-02, -1.1464e-02, -4.4145e-02, -1.3549e-01,\n",
      "         3.6772e-02, -7.7940e-02, -3.2067e-02, -4.6806e-02,  3.6437e-02,\n",
      "         3.1527e-02, -1.4844e-02, -1.8840e-02, -5.5927e-02, -1.3664e-01,\n",
      "        -1.2396e-01,  4.3260e-02, -7.2959e-02, -9.2120e-02,  2.6344e-03,\n",
      "        -6.0932e-02,  1.0973e-01,  4.5249e-03, -3.2680e-02, -1.3693e-02,\n",
      "        -4.7393e-02, -1.3096e-01, -1.2624e-01, -2.4072e-03, -1.3291e-02,\n",
      "        -2.5122e-02, -1.1711e-01, -8.6625e-02, -1.1863e-01, -6.0495e-02,\n",
      "        -5.0382e-02, -1.1727e-01, -8.0575e-02,  3.8781e-02, -6.5321e-02,\n",
      "        -9.2902e-02, -8.7652e-02, -2.6969e-02, -1.0879e-01, -8.7783e-02,\n",
      "        -1.3995e-01, -1.3128e-01,  1.0256e-02,  4.1175e-02, -1.1851e-01,\n",
      "        -7.9407e-02,  1.4130e-02, -2.6137e-02, -6.6974e-02, -2.7837e-02,\n",
      "         1.7013e-02, -1.2775e-01, -1.0119e-01, -8.3456e-02, -6.2051e-02,\n",
      "        -3.7280e-02, -7.8462e-02, -7.2458e-02, -7.0193e-02,  5.4942e-02,\n",
      "        -3.5938e-02, -9.7664e-02, -7.5239e-03, -1.1527e-01, -9.1216e-02,\n",
      "        -5.5959e-02, -7.0586e-02, -9.1460e-04, -7.6317e-02, -9.7767e-02,\n",
      "        -1.0093e-01, -3.0520e-02,  8.6855e-03, -7.0095e-02,  9.5440e-04,\n",
      "        -1.1663e-02, -5.4813e-02, -4.9949e-02, -9.0843e-02, -5.0474e-02,\n",
      "         5.9809e-02, -4.6383e-02, -9.1514e-02,  2.0149e-02,  2.9498e-02,\n",
      "        -1.0363e-01, -2.7843e-02, -7.1150e-02, -7.5151e-02, -1.4072e-01,\n",
      "        -3.2544e-02, -6.0178e-03, -5.6494e-02, -4.7231e-02, -5.2995e-02,\n",
      "        -1.0668e-01, -4.8732e-02, -4.5025e-02, -1.7101e-02, -4.5659e-02,\n",
      "        -4.6402e-02, -6.4672e-02, -5.5052e-02, -9.6696e-02,  1.4864e-04,\n",
      "        -5.5866e-02,  2.7078e-02,  4.0683e-04, -8.4021e-02, -1.8784e-02,\n",
      "        -9.7588e-02, -9.2832e-02, -3.9887e-02,  2.7199e-02, -1.0614e-01,\n",
      "         5.0386e-03, -1.1898e-02, -8.5359e-02, -4.0815e-02,  2.1032e-02,\n",
      "        -5.1486e-03, -1.2833e-01, -9.5066e-02, -9.3240e-02, -1.6200e-01,\n",
      "        -1.1457e-01,  6.2290e-02,  4.0820e-04, -9.7778e-02,  2.6845e-02,\n",
      "        -7.4826e-03, -6.6055e-02, -1.3090e-01, -1.0437e-01, -2.8114e-02,\n",
      "        -7.6151e-02,  1.1699e-01,  1.7060e-02, -5.7738e-02, -1.0039e-01,\n",
      "         6.4413e-02,  1.9842e-02, -9.2270e-02, -5.2907e-02, -4.2915e-02,\n",
      "         7.0367e-02, -6.8422e-02, -1.4523e-02, -9.6356e-02,  5.2079e-02,\n",
      "        -4.8116e-02,  1.2508e-01, -1.1745e-01, -8.7708e-02, -3.4608e-02,\n",
      "         6.6383e-02,  4.3751e-02,  3.5362e-02, -4.1218e-02, -3.6198e-02,\n",
      "         9.0711e-03,  3.1573e-02, -4.5047e-02, -9.6614e-02,  3.7992e-02,\n",
      "        -1.0721e-01, -7.8261e-02, -5.8935e-02,  5.4106e-02, -1.8687e-02,\n",
      "        -6.2537e-03,  8.5257e-02,  3.5630e-02, -7.4787e-02, -5.7434e-02,\n",
      "        -1.4873e-02, -6.5229e-02, -5.9120e-02, -1.0556e-02, -6.5790e-02,\n",
      "        -1.0150e-01,  1.1160e-01,  5.4919e-02, -1.1339e-01,  1.8335e-05,\n",
      "        -4.3862e-02, -6.0030e-02, -7.6185e-02, -4.3479e-02, -7.8695e-02,\n",
      "        -1.1868e-01, -3.3235e-02, -2.9430e-02,  2.5308e-02, -2.5560e-02,\n",
      "         4.5709e-02, -1.2017e-01, -7.8341e-02, -5.1863e-02], device='cuda:0')\n",
      "lstm.weight_ih_l0 tensor([[ 5.6973e-02,  4.9433e-02,  1.1121e-01,  ...,  4.4488e-03,\n",
      "          6.5210e-02,  1.0026e-04],\n",
      "        [-1.1366e-01, -1.5315e-01,  7.2041e-02,  ..., -4.8195e-02,\n",
      "         -3.7479e-02, -1.7298e-01],\n",
      "        [-1.5428e-01, -8.6043e-02, -1.1395e-01,  ..., -8.3953e-02,\n",
      "         -1.2208e-01, -7.6754e-02],\n",
      "        ...,\n",
      "        [-6.3085e-02, -8.9646e-03, -6.0154e-02,  ...,  1.6359e-03,\n",
      "          1.3051e-02, -7.5656e-03],\n",
      "        [ 1.1093e-01, -1.5256e-01, -1.9686e-01,  ..., -2.5117e-01,\n",
      "          7.4008e-02, -3.0000e-02],\n",
      "        [ 8.5518e-02,  3.8738e-02,  1.1866e-01,  ...,  1.1888e-02,\n",
      "         -9.9885e-02, -1.4882e-01]], device='cuda:0')\n",
      "lstm.weight_hh_l0 tensor([[-0.0500, -0.0420, -0.0121,  ..., -0.0011,  0.0339,  0.1137],\n",
      "        [ 0.1514, -0.0645,  0.0978,  ...,  0.0111, -0.1080, -0.0473],\n",
      "        [-0.0348, -0.0772,  0.0355,  ...,  0.0150, -0.1336,  0.0141],\n",
      "        ...,\n",
      "        [ 0.0369,  0.0239, -0.0069,  ..., -0.0540, -0.0366, -0.0077],\n",
      "        [-0.0379, -0.0788, -0.0185,  ..., -0.0364, -0.1272, -0.0265],\n",
      "        [ 0.0027, -0.0503,  0.0225,  ...,  0.0244,  0.0299, -0.0807]],\n",
      "       device='cuda:0')\n",
      "lstm.bias_ih_l0 tensor([ 0.0639, -0.1515, -0.0625,  ...,  0.0015,  0.0016,  0.0349],\n",
      "       device='cuda:0')\n",
      "lstm.bias_hh_l0 tensor([ 0.0230, -0.1946, -0.0349,  ..., -0.0280, -0.0080,  0.0864],\n",
      "       device='cuda:0')\n",
      "lstm.weight_ih_l1 tensor([[-0.0619,  0.1505,  0.0725,  ...,  0.0397, -0.0950,  0.0197],\n",
      "        [-0.0510,  0.0234,  0.0108,  ..., -0.0018, -0.0259,  0.0397],\n",
      "        [ 0.1693, -0.1067,  0.0238,  ..., -0.0121, -0.0548, -0.0101],\n",
      "        ...,\n",
      "        [-0.0948, -0.0270,  0.0388,  ...,  0.0377,  0.0581,  0.1183],\n",
      "        [ 0.0261, -0.0354, -0.0200,  ..., -0.0482, -0.0075,  0.0557],\n",
      "        [ 0.0511, -0.0855, -0.0128,  ..., -0.0352, -0.0029, -0.0237]],\n",
      "       device='cuda:0')\n",
      "lstm.weight_hh_l1 tensor([[-0.0525, -0.0250, -0.0100,  ..., -0.0107,  0.0385, -0.0226],\n",
      "        [-0.0076,  0.0324,  0.0065,  ..., -0.0519,  0.0367, -0.0277],\n",
      "        [-0.0591, -0.0282, -0.0294,  ..., -0.0222,  0.0027, -0.0009],\n",
      "        ...,\n",
      "        [-0.1259,  0.0253, -0.0096,  ...,  0.0097,  0.0366,  0.0104],\n",
      "        [-0.0244, -0.0451, -0.0239,  ..., -0.1294, -0.0243,  0.0125],\n",
      "        [-0.0467, -0.0966, -0.0268,  ..., -0.0721, -0.0372,  0.0339]],\n",
      "       device='cuda:0')\n",
      "lstm.bias_ih_l1 tensor([ 0.0126,  0.0088, -0.1152,  ...,  0.0931, -0.0883, -0.0463],\n",
      "       device='cuda:0')\n",
      "lstm.bias_hh_l1 tensor([ 0.0389,  0.0536, -0.1003,  ...,  0.0289, -0.1188, -0.1173],\n",
      "       device='cuda:0')\n",
      "linear.weight tensor([[ 0.0834, -0.1515, -0.0304,  ..., -0.1143,  0.0074, -0.0392],\n",
      "        [-0.0983,  0.1337, -0.0396,  ..., -0.0206, -0.0222, -0.0209],\n",
      "        [ 0.0283,  0.0339, -0.0446,  ...,  0.1253,  0.0416,  0.0559],\n",
      "        ...,\n",
      "        [-0.0983, -0.2833,  0.0661,  ..., -0.0114, -0.0608, -0.0369],\n",
      "        [-0.1163, -0.2976,  0.0188,  ..., -0.0810, -0.0434,  0.0054],\n",
      "        [-0.1038, -0.2964, -0.0161,  ..., -0.0667, -0.0667,  0.0051]],\n",
      "       device='cuda:0')\n",
      "linear.bias tensor([-0.0299,  0.0149, -0.0134, -0.0003, -0.1506, -0.0733, -0.0801],\n",
      "       device='cuda:0')\n"
     ]
    }
   ],
   "source": [
    "for name, param in model.named_parameters():\n",
    "    if param.requires_grad:\n",
    "        print(name, param.data)"
   ]
  },
  {
   "cell_type": "code",
   "execution_count": 20,
   "id": "cc9b6fd0",
   "metadata": {},
   "outputs": [],
   "source": [
    "model_path = f'../models/wav2veclarge/holdout{holdout}.pth'\n",
    "\n",
    "torch.save({'epoch':epochs,\n",
    "            'model_state_dict':model.state_dict(),\n",
    "            'optimizer_state_dict':optimizer.state_dict()},\n",
    "            model_path)"
   ]
  }
 ],
 "metadata": {
  "kernelspec": {
   "display_name": "Python 3",
   "language": "python",
   "name": "python3"
  },
  "language_info": {
   "codemirror_mode": {
    "name": "ipython",
    "version": 3
   },
   "file_extension": ".py",
   "mimetype": "text/x-python",
   "name": "python",
   "nbconvert_exporter": "python",
   "pygments_lexer": "ipython3",
   "version": "3.7.12"
  }
 },
 "nbformat": 4,
 "nbformat_minor": 5
}
