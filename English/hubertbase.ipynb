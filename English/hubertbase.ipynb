{
 "cells": [
  {
   "cell_type": "markdown",
   "id": "83f52390",
   "metadata": {},
   "source": [
    "## Prepare Data"
   ]
  },
  {
   "cell_type": "code",
   "execution_count": 1,
   "id": "fcff203e",
   "metadata": {},
   "outputs": [],
   "source": [
    "import re\n",
    "import os\n",
    "import pandas as pd\n",
    "\n",
    "regex = re.compile(r'\\[.+\\]\\n', re.IGNORECASE)\n",
    "file_paths, file_names, sessions, emotions = [], [], [], []\n",
    "emotion_map = {'neu': 'neutral', 'ang': 'angry', 'hap': 'happy', 'exc': 'happy', 'sad': 'sad'}\n",
    "\n",
    "for session in range(1, 6):\n",
    "    emo_evaluation_dir = f'/home/jz3313/IEMOCAP_full_release/Session{session}/dialog/EmoEvaluation/'\n",
    "    file_dir = f'/home/jz3313/IEMOCAP_full_release/Session{session}/sentences/wav/'\n",
    "    evaluation_files = [l for l in os.listdir(emo_evaluation_dir) if 'Ses' in l]\n",
    "    for file in evaluation_files:\n",
    "        with open(emo_evaluation_dir + file) as f:\n",
    "            content = f.read()\n",
    "        lines = re.findall(regex, content)\n",
    "        for line in lines[1:]:  # the first line is a header\n",
    "            start_end_time, wav_file_name, emotion, val_act_dom = line.strip().split('\\t')\n",
    "            dir_name = '_'.join(wav_file_name.split('_')[:-1])\n",
    "            if emotion in emotion_map:\n",
    "                file_paths.append(file_dir+dir_name+'/'+wav_file_name+'.wav')\n",
    "                file_names.append(wav_file_name)\n",
    "                sessions.append(session)\n",
    "                emotions.append(emotion_map[emotion])"
   ]
  },
  {
   "cell_type": "code",
   "execution_count": 2,
   "id": "08cd075c",
   "metadata": {},
   "outputs": [],
   "source": [
    "file = pd.DataFrame({'path':file_paths, 'name': file_names, 'session': sessions, 'emotion': emotions})"
   ]
  },
  {
   "cell_type": "code",
   "execution_count": 3,
   "id": "277cf819",
   "metadata": {},
   "outputs": [
    {
     "data": {
      "text/html": [
       "<div>\n",
       "<style scoped>\n",
       "    .dataframe tbody tr th:only-of-type {\n",
       "        vertical-align: middle;\n",
       "    }\n",
       "\n",
       "    .dataframe tbody tr th {\n",
       "        vertical-align: top;\n",
       "    }\n",
       "\n",
       "    .dataframe thead th {\n",
       "        text-align: right;\n",
       "    }\n",
       "</style>\n",
       "<table border=\"1\" class=\"dataframe\">\n",
       "  <thead>\n",
       "    <tr style=\"text-align: right;\">\n",
       "      <th></th>\n",
       "      <th>path</th>\n",
       "      <th>name</th>\n",
       "      <th>session</th>\n",
       "      <th>emotion</th>\n",
       "    </tr>\n",
       "  </thead>\n",
       "  <tbody>\n",
       "    <tr>\n",
       "      <th>0</th>\n",
       "      <td>/home/jz3313/IEMOCAP_full_release/Session1/sen...</td>\n",
       "      <td>Ses01F_impro02_F000</td>\n",
       "      <td>1</td>\n",
       "      <td>sad</td>\n",
       "    </tr>\n",
       "    <tr>\n",
       "      <th>1</th>\n",
       "      <td>/home/jz3313/IEMOCAP_full_release/Session1/sen...</td>\n",
       "      <td>Ses01F_impro02_F001</td>\n",
       "      <td>1</td>\n",
       "      <td>sad</td>\n",
       "    </tr>\n",
       "    <tr>\n",
       "      <th>2</th>\n",
       "      <td>/home/jz3313/IEMOCAP_full_release/Session1/sen...</td>\n",
       "      <td>Ses01F_impro02_F002</td>\n",
       "      <td>1</td>\n",
       "      <td>sad</td>\n",
       "    </tr>\n",
       "    <tr>\n",
       "      <th>3</th>\n",
       "      <td>/home/jz3313/IEMOCAP_full_release/Session1/sen...</td>\n",
       "      <td>Ses01F_impro02_F003</td>\n",
       "      <td>1</td>\n",
       "      <td>neutral</td>\n",
       "    </tr>\n",
       "    <tr>\n",
       "      <th>4</th>\n",
       "      <td>/home/jz3313/IEMOCAP_full_release/Session1/sen...</td>\n",
       "      <td>Ses01F_impro02_F004</td>\n",
       "      <td>1</td>\n",
       "      <td>sad</td>\n",
       "    </tr>\n",
       "  </tbody>\n",
       "</table>\n",
       "</div>"
      ],
      "text/plain": [
       "                                                path                 name  \\\n",
       "0  /home/jz3313/IEMOCAP_full_release/Session1/sen...  Ses01F_impro02_F000   \n",
       "1  /home/jz3313/IEMOCAP_full_release/Session1/sen...  Ses01F_impro02_F001   \n",
       "2  /home/jz3313/IEMOCAP_full_release/Session1/sen...  Ses01F_impro02_F002   \n",
       "3  /home/jz3313/IEMOCAP_full_release/Session1/sen...  Ses01F_impro02_F003   \n",
       "4  /home/jz3313/IEMOCAP_full_release/Session1/sen...  Ses01F_impro02_F004   \n",
       "\n",
       "   session  emotion  \n",
       "0        1      sad  \n",
       "1        1      sad  \n",
       "2        1      sad  \n",
       "3        1  neutral  \n",
       "4        1      sad  "
      ]
     },
     "execution_count": 3,
     "metadata": {},
     "output_type": "execute_result"
    }
   ],
   "source": [
    "file.head()"
   ]
  },
  {
   "cell_type": "code",
   "execution_count": 4,
   "id": "42fa07c1",
   "metadata": {},
   "outputs": [
    {
     "name": "stdout",
     "output_type": "stream",
     "text": [
      "1.12.1+cu113\n",
      "0.12.1+cu113\n",
      "cuda\n"
     ]
    }
   ],
   "source": [
    "import torch\n",
    "import torchaudio\n",
    "\n",
    "print(torch.__version__)\n",
    "print(torchaudio.__version__)\n",
    "\n",
    "torch.random.manual_seed(0)\n",
    "device = torch.device(\"cuda\" if torch.cuda.is_available() else \"cpu\")\n",
    "\n",
    "print(device)"
   ]
  },
  {
   "cell_type": "code",
   "execution_count": 5,
   "id": "b67c39ab",
   "metadata": {},
   "outputs": [
    {
     "name": "stdout",
     "output_type": "stream",
     "text": [
      "<class 'torchaudio.models.wav2vec2.model.Wav2Vec2Model'>\n"
     ]
    }
   ],
   "source": [
    "bundle = torchaudio.pipelines.HUBERT_BASE\n",
    "extractor = bundle.get_model()\n",
    "print(extractor.__class__)"
   ]
  },
  {
   "cell_type": "code",
   "execution_count": null,
   "id": "0d91d0a2",
   "metadata": {},
   "outputs": [],
   "source": [
    "from tqdm import tqdm\n",
    "\n",
    "for _, row in tqdm(file.iterrows()):\n",
    "    path, name, session, emotion = row[0], row[1], row[2], row[3]\n",
    "    wave, sr = torchaudio.load(path)\n",
    "    if sr != bundle.sample_rate:\n",
    "        wave = torchaudio.functional.resample(wave, sr, bundle.sample_rate)\n",
    "    with torch.inference_mode():\n",
    "        feature, _ = extractor.extract_features(wave)\n",
    "    feature = [f[0] for f in feature]\n",
    "    feature = torch.stack(feature)\n",
    "    save_path = f'../data/hubertbase/Session{session}/{name}.pt'\n",
    "    torch.save(feature, save_path)"
   ]
  },
  {
   "cell_type": "markdown",
   "id": "8a7be560",
   "metadata": {},
   "source": [
    "## Load Data"
   ]
  },
  {
   "cell_type": "code",
   "execution_count": 6,
   "id": "3d955c5e",
   "metadata": {},
   "outputs": [],
   "source": [
    "file['newpath'] = file.apply(lambda x: f'../data/hubertbase/Session{x[2]}/{x[1]}.pt', axis=1)"
   ]
  },
  {
   "cell_type": "code",
   "execution_count": 7,
   "id": "0cd4ffa6",
   "metadata": {},
   "outputs": [
    {
     "data": {
      "text/html": [
       "<div>\n",
       "<style scoped>\n",
       "    .dataframe tbody tr th:only-of-type {\n",
       "        vertical-align: middle;\n",
       "    }\n",
       "\n",
       "    .dataframe tbody tr th {\n",
       "        vertical-align: top;\n",
       "    }\n",
       "\n",
       "    .dataframe thead th {\n",
       "        text-align: right;\n",
       "    }\n",
       "</style>\n",
       "<table border=\"1\" class=\"dataframe\">\n",
       "  <thead>\n",
       "    <tr style=\"text-align: right;\">\n",
       "      <th></th>\n",
       "      <th>path</th>\n",
       "      <th>name</th>\n",
       "      <th>session</th>\n",
       "      <th>emotion</th>\n",
       "      <th>newpath</th>\n",
       "    </tr>\n",
       "  </thead>\n",
       "  <tbody>\n",
       "    <tr>\n",
       "      <th>0</th>\n",
       "      <td>/home/jz3313/IEMOCAP_full_release/Session1/sen...</td>\n",
       "      <td>Ses01F_impro02_F000</td>\n",
       "      <td>1</td>\n",
       "      <td>sad</td>\n",
       "      <td>../data/hubertbase/Session1/Ses01F_impro02_F00...</td>\n",
       "    </tr>\n",
       "    <tr>\n",
       "      <th>1</th>\n",
       "      <td>/home/jz3313/IEMOCAP_full_release/Session1/sen...</td>\n",
       "      <td>Ses01F_impro02_F001</td>\n",
       "      <td>1</td>\n",
       "      <td>sad</td>\n",
       "      <td>../data/hubertbase/Session1/Ses01F_impro02_F00...</td>\n",
       "    </tr>\n",
       "    <tr>\n",
       "      <th>2</th>\n",
       "      <td>/home/jz3313/IEMOCAP_full_release/Session1/sen...</td>\n",
       "      <td>Ses01F_impro02_F002</td>\n",
       "      <td>1</td>\n",
       "      <td>sad</td>\n",
       "      <td>../data/hubertbase/Session1/Ses01F_impro02_F00...</td>\n",
       "    </tr>\n",
       "    <tr>\n",
       "      <th>3</th>\n",
       "      <td>/home/jz3313/IEMOCAP_full_release/Session1/sen...</td>\n",
       "      <td>Ses01F_impro02_F003</td>\n",
       "      <td>1</td>\n",
       "      <td>neutral</td>\n",
       "      <td>../data/hubertbase/Session1/Ses01F_impro02_F00...</td>\n",
       "    </tr>\n",
       "    <tr>\n",
       "      <th>4</th>\n",
       "      <td>/home/jz3313/IEMOCAP_full_release/Session1/sen...</td>\n",
       "      <td>Ses01F_impro02_F004</td>\n",
       "      <td>1</td>\n",
       "      <td>sad</td>\n",
       "      <td>../data/hubertbase/Session1/Ses01F_impro02_F00...</td>\n",
       "    </tr>\n",
       "  </tbody>\n",
       "</table>\n",
       "</div>"
      ],
      "text/plain": [
       "                                                path                 name  \\\n",
       "0  /home/jz3313/IEMOCAP_full_release/Session1/sen...  Ses01F_impro02_F000   \n",
       "1  /home/jz3313/IEMOCAP_full_release/Session1/sen...  Ses01F_impro02_F001   \n",
       "2  /home/jz3313/IEMOCAP_full_release/Session1/sen...  Ses01F_impro02_F002   \n",
       "3  /home/jz3313/IEMOCAP_full_release/Session1/sen...  Ses01F_impro02_F003   \n",
       "4  /home/jz3313/IEMOCAP_full_release/Session1/sen...  Ses01F_impro02_F004   \n",
       "\n",
       "   session  emotion                                            newpath  \n",
       "0        1      sad  ../data/hubertbase/Session1/Ses01F_impro02_F00...  \n",
       "1        1      sad  ../data/hubertbase/Session1/Ses01F_impro02_F00...  \n",
       "2        1      sad  ../data/hubertbase/Session1/Ses01F_impro02_F00...  \n",
       "3        1  neutral  ../data/hubertbase/Session1/Ses01F_impro02_F00...  \n",
       "4        1      sad  ../data/hubertbase/Session1/Ses01F_impro02_F00...  "
      ]
     },
     "execution_count": 7,
     "metadata": {},
     "output_type": "execute_result"
    }
   ],
   "source": [
    "file.head()"
   ]
  },
  {
   "cell_type": "code",
   "execution_count": 8,
   "id": "eb4cd78e",
   "metadata": {},
   "outputs": [],
   "source": [
    "holdout = 5\n",
    "train = file[file['session'] != holdout]\n",
    "test = file[file['session'] == holdout]"
   ]
  },
  {
   "cell_type": "code",
   "execution_count": 9,
   "id": "75a75bd9",
   "metadata": {},
   "outputs": [],
   "source": [
    "class MyDataSet(torch.utils.data.Dataset):\n",
    "    def __init__(self, datas, labels, label_transform):\n",
    "        super(MyDataSet).__init__()\n",
    "        self.datas = datas\n",
    "        self.labels = labels\n",
    "        self.label_transform = label_transform\n",
    "        \n",
    "    def __getitem__(self, idx):\n",
    "        audio = self.datas[idx]\n",
    "        label = self.label_transform[self.labels[idx]]\n",
    "        length = audio.size(1)\n",
    "        return audio, length, label\n",
    "    \n",
    "    def __len__(self):\n",
    "        return len(self.labels)"
   ]
  },
  {
   "cell_type": "code",
   "execution_count": 10,
   "id": "141ec40a",
   "metadata": {},
   "outputs": [],
   "source": [
    "def collate_indic(data):\n",
    "    audios, lengths, labels = zip(*data)\n",
    "    max_len = max(lengths)\n",
    "    n_ftrs = audios[0].size(2)\n",
    "    n_dims = audios[0].size(0)\n",
    "    features = torch.zeros((len(audios), n_dims, max_len, n_ftrs))\n",
    "    labels = torch.tensor(labels)\n",
    "    lengths = torch.tensor(lengths)\n",
    "\n",
    "    for i in range(len(data)):\n",
    "        j, k = audios[i].size(1), audios[i].size(2)\n",
    "        features[i] = torch.cat([audios[i], torch.zeros((n_dims, max_len - j, k))], dim=1)\n",
    "\n",
    "    return features, lengths, labels"
   ]
  },
  {
   "cell_type": "code",
   "execution_count": 11,
   "id": "0738ead4",
   "metadata": {},
   "outputs": [
    {
     "data": {
      "text/plain": [
       "{'angry': 0, 'happy': 1, 'neutral': 2, 'sad': 3}"
      ]
     },
     "execution_count": 11,
     "metadata": {},
     "output_type": "execute_result"
    }
   ],
   "source": [
    "categories = ['angry', 'happy', 'neutral', 'sad']\n",
    "cate_dic = {}\n",
    "for i, cate in enumerate(categories):\n",
    "    cate_dic[cate] = i\n",
    "cate_dic"
   ]
  },
  {
   "cell_type": "markdown",
   "id": "adf4848c",
   "metadata": {},
   "source": [
    "## Train with 3CNN+LSTM"
   ]
  },
  {
   "cell_type": "code",
   "execution_count": 12,
   "id": "2ef1a6ec",
   "metadata": {},
   "outputs": [],
   "source": [
    "import torch.nn as nn\n",
    "import torch.nn.functional as F\n",
    "\n",
    "class ICASSP3CNN(nn.Module):\n",
    "    def __init__(self, vocab_size, dims = 12, embed_size=128, hidden_size=512, num_lstm_layers = 2, bidirectional = False, label_size=7):\n",
    "        super().__init__()\n",
    "        self.n_layers = num_lstm_layers \n",
    "        self.hidden = hidden_size\n",
    "        self.bidirectional = bidirectional\n",
    "        \n",
    "        self.aggr = nn.Conv1d(in_channels=dims, out_channels=1, kernel_size=1)\n",
    "        \n",
    "        self.embed = nn.Linear(in_features = vocab_size, out_features = embed_size)\n",
    "\n",
    "        self.cnn  = nn.Conv1d(embed_size, embed_size, kernel_size=3, padding=1)\n",
    "        self.cnn2 = nn.Conv1d(embed_size, embed_size, kernel_size=5, padding=2)\n",
    "        self.cnn3 = nn.Conv1d(embed_size, embed_size, kernel_size=7, padding=3)\n",
    "\n",
    "        self.batchnorm = nn.BatchNorm1d(3 * embed_size)\n",
    "\n",
    "        self.lstm = nn.LSTM(input_size = 3 * embed_size, \n",
    "                            hidden_size = hidden_size, \n",
    "                            num_layers = num_lstm_layers, \n",
    "                            bidirectional = bidirectional)\n",
    "\n",
    "        self.linear = nn.Linear(in_features = 2 * hidden_size if bidirectional else hidden_size, \n",
    "                                out_features = label_size)\n",
    "\n",
    "\n",
    "    def forward(self, x, lengths):\n",
    "        \"\"\"\n",
    "        padded_x: (B,T) padded LongTensor\n",
    "        \"\"\"\n",
    "        n, d, b, t = x.size(0), x.size(1), x.size(2), x.size(3)\n",
    "        x = torch.flatten(x, start_dim=2)\n",
    "        input = self.aggr(x)\n",
    "        input = torch.reshape(input, (n, b, t))\n",
    "        input = self.embed(input)\n",
    "\n",
    "        batch_size = input.size(0)\n",
    "        input = input.transpose(1,2)    # (B,T,H) -> (B,H,T)\n",
    "\n",
    "        cnn_output = torch.cat([self.cnn(input), self.cnn2(input), self.cnn3(input)], dim=1)\n",
    "\n",
    "        input = F.relu(self.batchnorm(cnn_output))\n",
    "\n",
    "        input = input.transpose(1,2)\n",
    "\n",
    "        pack_tensor = nn.utils.rnn.pack_padded_sequence(input, lengths, batch_first=True, enforce_sorted=False)\n",
    "        _, (hn, cn) = self.lstm(pack_tensor)\n",
    "\n",
    "        if self.bidirectional:\n",
    "            h_n = hn.view(self.n_layers, 2, batch_size, self.hidden)\n",
    "            h_n = torch.cat([ h_n[-1, 0,:], h_n[-1,1,:] ], dim = 1)\n",
    "        else:\n",
    "            h_n = hn[-1]\n",
    "\n",
    "        logits = self.linear(h_n)\n",
    "\n",
    "        return logits"
   ]
  },
  {
   "cell_type": "markdown",
   "id": "21a7d392",
   "metadata": {},
   "source": [
    "### Model Traning on each layer "
   ]
  },
  {
   "cell_type": "code",
   "execution_count": 13,
   "id": "01d051d0",
   "metadata": {},
   "outputs": [
    {
     "name": "stderr",
     "output_type": "stream",
     "text": [
      "4290it [07:49,  9.14it/s]\n"
     ]
    }
   ],
   "source": [
    "from tqdm import tqdm\n",
    "from torch.utils.data import DataLoader\n",
    "\n",
    "traindata = []\n",
    "for _, row in tqdm(train.iterrows()):\n",
    "    traindata.append(torch.load(row[4]))\n",
    "\n",
    "train_dataset = MyDataSet(traindata, train['emotion'].tolist(), cate_dic)\n",
    "trainloader_args = dict(batch_size=64, shuffle=True)\n",
    "train_dataloader = DataLoader(train_dataset, **trainloader_args, \n",
    "                              collate_fn=collate_indic)"
   ]
  },
  {
   "cell_type": "code",
   "execution_count": 14,
   "id": "57b10d98",
   "metadata": {},
   "outputs": [],
   "source": [
    "train_dataset = MyDataSet(traindata, train['emotion'].tolist(), cate_dic)\n",
    "trainloader_args = dict(batch_size=64, shuffle=True)\n",
    "train_dataloader = DataLoader(train_dataset, **trainloader_args, \n",
    "                              collate_fn=collate_indic)"
   ]
  },
  {
   "cell_type": "code",
   "execution_count": 16,
   "id": "e6942285",
   "metadata": {},
   "outputs": [],
   "source": [
    "from tqdm import tqdm\n",
    "from torchsummary import summary\n",
    "import torch.optim as optim\n",
    "\n",
    "model = ICASSP3CNN(768)\n",
    "model = model.to(device)\n",
    "criterion = nn.CrossEntropyLoss()\n",
    "optimizer = optim.Adam(model.parameters(), lr=0.001)"
   ]
  },
  {
   "cell_type": "code",
   "execution_count": 17,
   "id": "75762bdc",
   "metadata": {},
   "outputs": [
    {
     "name": "stderr",
     "output_type": "stream",
     "text": [
      "  2%|███▎                                                                                                                                                                  | 1/50 [01:34<1:17:17, 94.65s/it]"
     ]
    },
    {
     "name": "stdout",
     "output_type": "stream",
     "text": [
      "epoch:1, train accu:0.4748, train loss:1.15\n"
     ]
    },
    {
     "name": "stderr",
     "output_type": "stream",
     "text": [
      "\r",
      "  4%|██████▋                                                                                                                                                               | 2/50 [03:07<1:14:47, 93.49s/it]"
     ]
    },
    {
     "name": "stdout",
     "output_type": "stream",
     "text": [
      "epoch:2, train accu:0.5583, train loss:0.99\n"
     ]
    },
    {
     "name": "stderr",
     "output_type": "stream",
     "text": [
      "\r",
      "  6%|█████████▉                                                                                                                                                            | 3/50 [04:39<1:12:46, 92.89s/it]"
     ]
    },
    {
     "name": "stdout",
     "output_type": "stream",
     "text": [
      "epoch:3, train accu:0.5944, train loss:0.94\n"
     ]
    },
    {
     "name": "stderr",
     "output_type": "stream",
     "text": [
      "\r",
      "  8%|█████████████▎                                                                                                                                                        | 4/50 [06:12<1:11:20, 93.06s/it]"
     ]
    },
    {
     "name": "stdout",
     "output_type": "stream",
     "text": [
      "epoch:4, train accu:0.6352, train loss:0.90\n"
     ]
    },
    {
     "name": "stderr",
     "output_type": "stream",
     "text": [
      "\r",
      " 10%|████████████████▌                                                                                                                                                     | 5/50 [07:44<1:09:19, 92.44s/it]"
     ]
    },
    {
     "name": "stdout",
     "output_type": "stream",
     "text": [
      "epoch:5, train accu:0.6298, train loss:0.88\n"
     ]
    },
    {
     "name": "stderr",
     "output_type": "stream",
     "text": [
      "\r",
      " 12%|███████████████████▉                                                                                                                                                  | 6/50 [09:16<1:07:45, 92.40s/it]"
     ]
    },
    {
     "name": "stdout",
     "output_type": "stream",
     "text": [
      "epoch:6, train accu:0.6636, train loss:0.83\n"
     ]
    },
    {
     "name": "stderr",
     "output_type": "stream",
     "text": [
      "\r",
      " 14%|███████████████████████▏                                                                                                                                              | 7/50 [10:47<1:05:55, 91.98s/it]"
     ]
    },
    {
     "name": "stdout",
     "output_type": "stream",
     "text": [
      "epoch:7, train accu:0.6858, train loss:0.79\n"
     ]
    },
    {
     "name": "stderr",
     "output_type": "stream",
     "text": [
      "\r",
      " 16%|██████████████████████████▌                                                                                                                                           | 8/50 [12:18<1:04:12, 91.73s/it]"
     ]
    },
    {
     "name": "stdout",
     "output_type": "stream",
     "text": [
      "epoch:8, train accu:0.6998, train loss:0.74\n"
     ]
    },
    {
     "name": "stderr",
     "output_type": "stream",
     "text": [
      "\r",
      " 18%|█████████████████████████████▉                                                                                                                                        | 9/50 [13:51<1:02:51, 91.99s/it]"
     ]
    },
    {
     "name": "stdout",
     "output_type": "stream",
     "text": [
      "epoch:9, train accu:0.6956, train loss:0.76\n"
     ]
    },
    {
     "name": "stderr",
     "output_type": "stream",
     "text": [
      "\r",
      " 20%|█████████████████████████████████                                                                                                                                    | 10/50 [15:23<1:01:19, 92.00s/it]"
     ]
    },
    {
     "name": "stdout",
     "output_type": "stream",
     "text": [
      "epoch:10, train accu:0.7170, train loss:0.71\n"
     ]
    },
    {
     "name": "stderr",
     "output_type": "stream",
     "text": [
      "\r",
      " 22%|████████████████████████████████████▋                                                                                                                                  | 11/50 [16:55<59:53, 92.13s/it]"
     ]
    },
    {
     "name": "stdout",
     "output_type": "stream",
     "text": [
      "epoch:11, train accu:0.7233, train loss:0.69\n"
     ]
    },
    {
     "name": "stderr",
     "output_type": "stream",
     "text": [
      "\r",
      " 24%|████████████████████████████████████████                                                                                                                               | 12/50 [18:29<58:33, 92.46s/it]"
     ]
    },
    {
     "name": "stdout",
     "output_type": "stream",
     "text": [
      "epoch:12, train accu:0.7464, train loss:0.65\n"
     ]
    },
    {
     "name": "stderr",
     "output_type": "stream",
     "text": [
      "\r",
      " 26%|███████████████████████████████████████████▍                                                                                                                           | 13/50 [20:02<57:12, 92.76s/it]"
     ]
    },
    {
     "name": "stdout",
     "output_type": "stream",
     "text": [
      "epoch:13, train accu:0.7406, train loss:0.64\n"
     ]
    },
    {
     "name": "stderr",
     "output_type": "stream",
     "text": [
      "\r",
      " 28%|██████████████████████████████████████████████▊                                                                                                                        | 14/50 [21:33<55:22, 92.29s/it]"
     ]
    },
    {
     "name": "stdout",
     "output_type": "stream",
     "text": [
      "epoch:14, train accu:0.7643, train loss:0.60\n"
     ]
    },
    {
     "name": "stderr",
     "output_type": "stream",
     "text": [
      "\r",
      " 30%|██████████████████████████████████████████████████                                                                                                                     | 15/50 [23:05<53:45, 92.17s/it]"
     ]
    },
    {
     "name": "stdout",
     "output_type": "stream",
     "text": [
      "epoch:15, train accu:0.7573, train loss:0.60\n"
     ]
    },
    {
     "name": "stderr",
     "output_type": "stream",
     "text": [
      "\r",
      " 32%|█████████████████████████████████████████████████████▍                                                                                                                 | 16/50 [24:36<51:56, 91.66s/it]"
     ]
    },
    {
     "name": "stdout",
     "output_type": "stream",
     "text": [
      "epoch:16, train accu:0.7662, train loss:0.61\n"
     ]
    },
    {
     "name": "stderr",
     "output_type": "stream",
     "text": [
      "\r",
      " 34%|████████████████████████████████████████████████████████▊                                                                                                              | 17/50 [26:08<50:33, 91.92s/it]"
     ]
    },
    {
     "name": "stdout",
     "output_type": "stream",
     "text": [
      "epoch:17, train accu:0.7522, train loss:0.63\n"
     ]
    },
    {
     "name": "stderr",
     "output_type": "stream",
     "text": [
      "\r",
      " 36%|████████████████████████████████████████████████████████████                                                                                                           | 18/50 [27:42<49:17, 92.42s/it]"
     ]
    },
    {
     "name": "stdout",
     "output_type": "stream",
     "text": [
      "epoch:18, train accu:0.7214, train loss:0.69\n"
     ]
    },
    {
     "name": "stderr",
     "output_type": "stream",
     "text": [
      "\r",
      " 38%|███████████████████████████████████████████████████████████████▍                                                                                                       | 19/50 [29:14<47:41, 92.30s/it]"
     ]
    },
    {
     "name": "stdout",
     "output_type": "stream",
     "text": [
      "epoch:19, train accu:0.7697, train loss:0.57\n"
     ]
    },
    {
     "name": "stderr",
     "output_type": "stream",
     "text": [
      "\r",
      " 40%|██████████████████████████████████████████████████████████████████▊                                                                                                    | 20/50 [30:46<46:11, 92.38s/it]"
     ]
    },
    {
     "name": "stdout",
     "output_type": "stream",
     "text": [
      "epoch:20, train accu:0.7904, train loss:0.54\n"
     ]
    },
    {
     "name": "stderr",
     "output_type": "stream",
     "text": [
      "\r",
      " 42%|██████████████████████████████████████████████████████████████████████▏                                                                                                | 21/50 [32:18<44:36, 92.29s/it]"
     ]
    },
    {
     "name": "stdout",
     "output_type": "stream",
     "text": [
      "epoch:21, train accu:0.7438, train loss:0.65\n"
     ]
    },
    {
     "name": "stderr",
     "output_type": "stream",
     "text": [
      "\r",
      " 44%|█████████████████████████████████████████████████████████████████████████▍                                                                                             | 22/50 [33:50<42:55, 92.00s/it]"
     ]
    },
    {
     "name": "stdout",
     "output_type": "stream",
     "text": [
      "epoch:22, train accu:0.8068, train loss:0.52\n"
     ]
    },
    {
     "name": "stderr",
     "output_type": "stream",
     "text": [
      "\r",
      " 46%|████████████████████████████████████████████████████████████████████████████▊                                                                                          | 23/50 [35:20<41:11, 91.55s/it]"
     ]
    },
    {
     "name": "stdout",
     "output_type": "stream",
     "text": [
      "epoch:23, train accu:0.7984, train loss:0.54\n"
     ]
    },
    {
     "name": "stderr",
     "output_type": "stream",
     "text": [
      "\r",
      " 48%|████████████████████████████████████████████████████████████████████████████████▏                                                                                      | 24/50 [36:52<39:42, 91.65s/it]"
     ]
    },
    {
     "name": "stdout",
     "output_type": "stream",
     "text": [
      "epoch:24, train accu:0.8098, train loss:0.50\n"
     ]
    },
    {
     "name": "stderr",
     "output_type": "stream",
     "text": [
      "\r",
      " 50%|███████████████████████████████████████████████████████████████████████████████████▌                                                                                   | 25/50 [38:23<38:07, 91.49s/it]"
     ]
    },
    {
     "name": "stdout",
     "output_type": "stream",
     "text": [
      "epoch:25, train accu:0.8333, train loss:0.43\n"
     ]
    },
    {
     "name": "stderr",
     "output_type": "stream",
     "text": [
      "\r",
      " 52%|██████████████████████████████████████████████████████████████████████████████████████▊                                                                                | 26/50 [39:55<36:39, 91.65s/it]"
     ]
    },
    {
     "name": "stdout",
     "output_type": "stream",
     "text": [
      "epoch:26, train accu:0.8466, train loss:0.44\n"
     ]
    },
    {
     "name": "stderr",
     "output_type": "stream",
     "text": [
      "\r",
      " 54%|██████████████████████████████████████████████████████████████████████████████████████████▏                                                                            | 27/50 [41:25<34:57, 91.20s/it]"
     ]
    },
    {
     "name": "stdout",
     "output_type": "stream",
     "text": [
      "epoch:27, train accu:0.8361, train loss:0.43\n"
     ]
    },
    {
     "name": "stderr",
     "output_type": "stream",
     "text": [
      "\r",
      " 56%|█████████████████████████████████████████████████████████████████████████████████████████████▌                                                                         | 28/50 [42:58<33:34, 91.56s/it]"
     ]
    },
    {
     "name": "stdout",
     "output_type": "stream",
     "text": [
      "epoch:28, train accu:0.8392, train loss:0.42\n"
     ]
    },
    {
     "name": "stderr",
     "output_type": "stream",
     "text": [
      "\r",
      " 58%|████████████████████████████████████████████████████████████████████████████████████████████████▊                                                                      | 29/50 [44:30<32:09, 91.89s/it]"
     ]
    },
    {
     "name": "stdout",
     "output_type": "stream",
     "text": [
      "epoch:29, train accu:0.8476, train loss:0.47\n"
     ]
    },
    {
     "name": "stderr",
     "output_type": "stream",
     "text": [
      "\r",
      " 60%|████████████████████████████████████████████████████████████████████████████████████████████████████▏                                                                  | 30/50 [46:00<30:24, 91.22s/it]"
     ]
    },
    {
     "name": "stdout",
     "output_type": "stream",
     "text": [
      "epoch:30, train accu:0.7946, train loss:0.58\n"
     ]
    },
    {
     "name": "stderr",
     "output_type": "stream",
     "text": [
      "\r",
      " 62%|███████████████████████████████████████████████████████████████████████████████████████████████████████▌                                                               | 31/50 [47:30<28:47, 90.94s/it]"
     ]
    },
    {
     "name": "stdout",
     "output_type": "stream",
     "text": [
      "epoch:31, train accu:0.8189, train loss:0.49\n"
     ]
    },
    {
     "name": "stderr",
     "output_type": "stream",
     "text": [
      "\r",
      " 64%|██████████████████████████████████████████████████████████████████████████████████████████████████████████▉                                                            | 32/50 [49:01<27:15, 90.89s/it]"
     ]
    },
    {
     "name": "stdout",
     "output_type": "stream",
     "text": [
      "epoch:32, train accu:0.8629, train loss:0.37\n"
     ]
    },
    {
     "name": "stderr",
     "output_type": "stream",
     "text": [
      "\r",
      " 66%|██████████████████████████████████████████████████████████████████████████████████████████████████████████████▏                                                        | 33/50 [50:33<25:48, 91.09s/it]"
     ]
    },
    {
     "name": "stdout",
     "output_type": "stream",
     "text": [
      "epoch:33, train accu:0.8783, train loss:0.34\n"
     ]
    },
    {
     "name": "stderr",
     "output_type": "stream",
     "text": [
      "\r",
      " 68%|█████████████████████████████████████████████████████████████████████████████████████████████████████████████████▌                                                     | 34/50 [52:04<24:16, 91.03s/it]"
     ]
    },
    {
     "name": "stdout",
     "output_type": "stream",
     "text": [
      "epoch:34, train accu:0.7555, train loss:0.64\n"
     ]
    },
    {
     "name": "stderr",
     "output_type": "stream",
     "text": [
      "\r",
      " 70%|████████████████████████████████████████████████████████████████████████████████████████████████████████████████████▉                                                  | 35/50 [53:36<22:51, 91.47s/it]"
     ]
    },
    {
     "name": "stdout",
     "output_type": "stream",
     "text": [
      "epoch:35, train accu:0.8273, train loss:0.46\n"
     ]
    },
    {
     "name": "stderr",
     "output_type": "stream",
     "text": [
      "\r",
      " 72%|████████████████████████████████████████████████████████████████████████████████████████████████████████████████████████▏                                              | 36/50 [55:06<21:15, 91.10s/it]"
     ]
    },
    {
     "name": "stdout",
     "output_type": "stream",
     "text": [
      "epoch:36, train accu:0.8368, train loss:0.43\n"
     ]
    },
    {
     "name": "stderr",
     "output_type": "stream",
     "text": [
      "\r",
      " 74%|███████████████████████████████████████████████████████████████████████████████████████████████████████████████████████████▌                                           | 37/50 [56:39<19:50, 91.61s/it]"
     ]
    },
    {
     "name": "stdout",
     "output_type": "stream",
     "text": [
      "epoch:37, train accu:0.8613, train loss:0.39\n"
     ]
    },
    {
     "name": "stderr",
     "output_type": "stream",
     "text": [
      "\r",
      " 76%|██████████████████████████████████████████████████████████████████████████████████████████████████████████████████████████████▉                                        | 38/50 [58:11<18:19, 91.59s/it]"
     ]
    },
    {
     "name": "stdout",
     "output_type": "stream",
     "text": [
      "epoch:38, train accu:0.8807, train loss:0.32\n"
     ]
    },
    {
     "name": "stderr",
     "output_type": "stream",
     "text": [
      "\r",
      " 78%|██████████████████████████████████████████████████████████████████████████████████████████████████████████████████████████████████▎                                    | 39/50 [59:43<16:50, 91.85s/it]"
     ]
    },
    {
     "name": "stdout",
     "output_type": "stream",
     "text": [
      "epoch:39, train accu:0.8758, train loss:0.33\n"
     ]
    },
    {
     "name": "stderr",
     "output_type": "stream",
     "text": [
      "\r",
      " 80%|████████████████████████████████████████████████████████████████████████████████████████████████████████████████████████████████████                                 | 40/50 [1:01:14<15:15, 91.60s/it]"
     ]
    },
    {
     "name": "stdout",
     "output_type": "stream",
     "text": [
      "epoch:40, train accu:0.8739, train loss:0.33\n"
     ]
    },
    {
     "name": "stderr",
     "output_type": "stream",
     "text": [
      "\r",
      " 82%|███████████████████████████████████████████████████████████████████████████████████████████████████████████████████████████████████████▎                             | 41/50 [1:02:44<13:41, 91.22s/it]"
     ]
    },
    {
     "name": "stdout",
     "output_type": "stream",
     "text": [
      "epoch:41, train accu:0.8781, train loss:0.32\n"
     ]
    },
    {
     "name": "stderr",
     "output_type": "stream",
     "text": [
      "\r",
      " 84%|██████████████████████████████████████████████████████████████████████████████████████████████████████████████████████████████████████████▌                          | 42/50 [1:04:18<12:14, 91.81s/it]"
     ]
    },
    {
     "name": "stdout",
     "output_type": "stream",
     "text": [
      "epoch:42, train accu:0.9170, train loss:0.23\n"
     ]
    },
    {
     "name": "stderr",
     "output_type": "stream",
     "text": [
      "\r",
      " 86%|█████████████████████████████████████████████████████████████████████████████████████████████████████████████████████████████████████████████▉                       | 43/50 [1:05:50<10:44, 92.03s/it]"
     ]
    },
    {
     "name": "stdout",
     "output_type": "stream",
     "text": [
      "epoch:43, train accu:0.9266, train loss:0.22\n"
     ]
    },
    {
     "name": "stderr",
     "output_type": "stream",
     "text": [
      "\r",
      " 88%|█████████████████████████████████████████████████████████████████████████████████████████████████████████████████████████████████████████████████▏                   | 44/50 [1:07:21<09:10, 91.76s/it]"
     ]
    },
    {
     "name": "stdout",
     "output_type": "stream",
     "text": [
      "epoch:44, train accu:0.8981, train loss:0.28\n"
     ]
    },
    {
     "name": "stderr",
     "output_type": "stream",
     "text": [
      "\r",
      " 90%|████████████████████████████████████████████████████████████████████████████████████████████████████████████████████████████████████████████████████▌                | 45/50 [1:08:55<07:41, 92.24s/it]"
     ]
    },
    {
     "name": "stdout",
     "output_type": "stream",
     "text": [
      "epoch:45, train accu:0.8746, train loss:0.33\n"
     ]
    },
    {
     "name": "stderr",
     "output_type": "stream",
     "text": [
      "\r",
      " 92%|███████████████████████████████████████████████████████████████████████████████████████████████████████████████████████████████████████████████████████▊             | 46/50 [1:10:24<06:05, 91.40s/it]"
     ]
    },
    {
     "name": "stdout",
     "output_type": "stream",
     "text": [
      "epoch:46, train accu:0.9280, train loss:0.20\n"
     ]
    },
    {
     "name": "stderr",
     "output_type": "stream",
     "text": [
      "\r",
      " 94%|███████████████████████████████████████████████████████████████████████████████████████████████████████████████████████████████████████████████████████████          | 47/50 [1:11:55<04:34, 91.34s/it]"
     ]
    },
    {
     "name": "stdout",
     "output_type": "stream",
     "text": [
      "epoch:47, train accu:0.9268, train loss:0.22\n"
     ]
    },
    {
     "name": "stderr",
     "output_type": "stream",
     "text": [
      "\r",
      " 96%|██████████████████████████████████████████████████████████████████████████████████████████████████████████████████████████████████████████████████████████████▍      | 48/50 [1:13:26<03:02, 91.23s/it]"
     ]
    },
    {
     "name": "stdout",
     "output_type": "stream",
     "text": [
      "epoch:48, train accu:0.8140, train loss:0.51\n"
     ]
    },
    {
     "name": "stderr",
     "output_type": "stream",
     "text": [
      "\r",
      " 98%|█████████████████████████████████████████████████████████████████████████████████████████████████████████████████████████████████████████████████████████████████▋   | 49/50 [1:15:00<01:31, 91.88s/it]"
     ]
    },
    {
     "name": "stdout",
     "output_type": "stream",
     "text": [
      "epoch:49, train accu:0.9009, train loss:0.32\n"
     ]
    },
    {
     "name": "stderr",
     "output_type": "stream",
     "text": [
      "100%|█████████████████████████████████████████████████████████████████████████████████████████████████████████████████████████████████████████████████████████████████████| 50/50 [1:16:31<00:00, 91.82s/it]"
     ]
    },
    {
     "name": "stdout",
     "output_type": "stream",
     "text": [
      "epoch:50, train accu:0.8930, train loss:0.32\n"
     ]
    },
    {
     "name": "stderr",
     "output_type": "stream",
     "text": [
      "\n"
     ]
    }
   ],
   "source": [
    "epochs = 50\n",
    "train_losses = []\n",
    "train_accuracies = []\n",
    "valid_losses = []\n",
    "valid_accuracies = []\n",
    "\n",
    "for epoch in tqdm(range(epochs)):\n",
    "    train_loss = 0\n",
    "    acc_cnt = 0\n",
    "    err_cnt = 0\n",
    "    batch_cnt = 0\n",
    "    model.train()\n",
    "    for batch, (x, length, y) in enumerate(train_dataloader):\n",
    "        x = x.to(device)\n",
    "        y = y.to(device)\n",
    "        optimizer.zero_grad()\n",
    "        logits = model(x, length)\n",
    "        loss = criterion(logits, y)\n",
    "        loss.backward()\n",
    "        optimizer.step()\n",
    "        train_loss += loss.cpu().item()\n",
    "\n",
    "        #model outputs\n",
    "        out_val, out_indices = torch.max(logits, dim=1)\n",
    "        tar_indices = y\n",
    "\n",
    "        for i in range(len(out_indices)):\n",
    "            if out_indices[i] == tar_indices[i]:\n",
    "                acc_cnt += 1\n",
    "            else:\n",
    "                err_cnt += 1\n",
    "        batch_cnt += 1\n",
    "    \n",
    "    train_loss = train_loss/batch_cnt\n",
    "    train_accuracy = acc_cnt/(acc_cnt+err_cnt)\n",
    "    train_accuracies.append(train_accuracy)\n",
    "    train_losses.append(train_loss)\n",
    "    \n",
    "    print(f\"epoch:{epoch+1}, train accu:{train_accuracy:.4f},\", f\"train loss:{train_loss:.2f}\")"
   ]
  },
  {
   "cell_type": "markdown",
   "id": "42092bf7",
   "metadata": {},
   "source": [
    "## Model Test"
   ]
  },
  {
   "cell_type": "code",
   "execution_count": 18,
   "id": "3c5c9897",
   "metadata": {},
   "outputs": [
    {
     "name": "stderr",
     "output_type": "stream",
     "text": [
      "1241it [02:07,  9.70it/s]\n"
     ]
    }
   ],
   "source": [
    "from tqdm import tqdm\n",
    "\n",
    "testdata = []\n",
    "for _, row in tqdm(test.iterrows()):\n",
    "    testdata.append(torch.load(row[4]))\n",
    "    \n",
    "test_dataset = MyDataSet(testdata, test['emotion'].tolist(), cate_dic)\n",
    "testloader_args = dict(batch_size=1, shuffle=True)\n",
    "test_dataloader = DataLoader(test_dataset, **testloader_args, \n",
    "                             collate_fn=collate_indic)"
   ]
  },
  {
   "cell_type": "code",
   "execution_count": 19,
   "id": "3120f8d4",
   "metadata": {},
   "outputs": [
    {
     "name": "stdout",
     "output_type": "stream",
     "text": [
      "test accuracy: 0.5898468976631749\n"
     ]
    }
   ],
   "source": [
    "test_loss = 0\n",
    "acc_cnt = 0\n",
    "err_cnt = 0\n",
    "batch_cnt = 0\n",
    "model.eval()\n",
    "\n",
    "for x, lengths, y in test_dataloader:\n",
    "\n",
    "    x = x.to(device)\n",
    "    y = y.to(device)\n",
    "\n",
    "    logits = model(x, lengths)\n",
    "    loss = criterion(logits, y)\n",
    "    test_loss += loss.cpu().item()\n",
    "\n",
    "    out_val, out_indices = torch.max(logits, dim=1)\n",
    "    tar_indices = y\n",
    "\n",
    "    for i in range(len(out_indices)):\n",
    "        if out_indices[i] == tar_indices[i]:\n",
    "            acc_cnt += 1\n",
    "        else:\n",
    "            err_cnt += 1\n",
    "    batch_cnt += 1\n",
    "\n",
    "test_loss = test_loss/batch_cnt\n",
    "test_accuracy = acc_cnt/(acc_cnt+err_cnt)\n",
    "print(f'test accuracy: {test_accuracy}')"
   ]
  },
  {
   "cell_type": "code",
   "execution_count": 20,
   "id": "997c700b",
   "metadata": {},
   "outputs": [
    {
     "name": "stdout",
     "output_type": "stream",
     "text": [
      "aggr.weight tensor([[[-0.1250],\n",
      "         [ 0.1303],\n",
      "         [ 0.2537],\n",
      "         [-0.0435],\n",
      "         [ 0.1299],\n",
      "         [-0.2512],\n",
      "         [-0.2828],\n",
      "         [ 0.1415],\n",
      "         [-0.0142],\n",
      "         [ 0.0112],\n",
      "         [-0.0022],\n",
      "         [ 0.0660]]], device='cuda:0')\n",
      "aggr.bias tensor([-0.0235], device='cuda:0')\n",
      "embed.weight tensor([[ 0.0071,  0.1413, -0.0656,  ...,  0.0079, -0.1076,  0.0459],\n",
      "        [ 0.0426, -0.0723,  0.0207,  ...,  0.0307, -0.0739, -0.1503],\n",
      "        [ 0.0966,  0.0378,  0.0385,  ..., -0.0143, -0.0220, -0.0978],\n",
      "        ...,\n",
      "        [ 0.0796,  0.0220,  0.0242,  ..., -0.0295, -0.0784,  0.0260],\n",
      "        [-0.0224,  0.0989,  0.0033,  ..., -0.0097, -0.1146, -0.0145],\n",
      "        [-0.0209,  0.0935,  0.0756,  ..., -0.1003,  0.0828,  0.0328]],\n",
      "       device='cuda:0')\n",
      "embed.bias tensor([-3.1782e-02,  2.5740e-03, -6.0295e-02, -2.3978e-02, -4.5746e-03,\n",
      "        -2.6784e-02, -4.2904e-02, -4.8631e-02,  3.1392e-02, -3.7244e-02,\n",
      "         4.1521e-02, -1.0550e-02, -1.0406e-01, -4.4008e-05,  6.5216e-02,\n",
      "         3.9132e-02,  3.6353e-02,  7.8619e-02, -5.9280e-02,  1.1138e-01,\n",
      "        -5.5900e-02,  6.1519e-02, -6.3824e-02,  5.2627e-04,  5.5607e-02,\n",
      "         6.6620e-03,  8.4333e-02,  4.2316e-02,  2.9267e-02, -2.3852e-02,\n",
      "        -3.9361e-02, -2.5494e-03, -3.0183e-02, -2.2251e-02,  4.2761e-02,\n",
      "         3.5875e-03, -6.7589e-02,  7.0510e-03,  4.3204e-02, -8.8715e-03,\n",
      "         1.4053e-02,  5.1293e-02,  2.7219e-02, -9.8838e-02,  1.7480e-03,\n",
      "         7.3501e-03,  2.6892e-02, -6.3103e-02,  7.1547e-02,  2.7213e-02,\n",
      "        -3.0299e-02, -1.6547e-02, -8.6700e-02,  6.7055e-02, -5.9596e-02,\n",
      "        -1.6088e-02,  4.4503e-02, -3.3738e-02,  2.6367e-02, -5.5976e-02,\n",
      "         3.1239e-02,  3.6459e-02,  2.9202e-03, -7.4477e-02, -6.0932e-02,\n",
      "         2.6264e-02, -2.5020e-02, -2.1428e-02,  9.4814e-02, -7.8846e-02,\n",
      "        -7.3337e-03,  7.4172e-02, -1.0765e-01, -4.7216e-02,  4.6740e-02,\n",
      "         3.9052e-03,  6.9297e-02, -1.0361e-01,  2.3951e-02,  4.8467e-02,\n",
      "         7.5023e-02, -6.2443e-02, -2.5613e-02,  3.5288e-02, -6.4375e-03,\n",
      "        -5.6175e-02,  3.3954e-03, -7.2714e-02,  3.1533e-02,  4.8744e-02,\n",
      "        -1.4039e-01, -1.0606e-01,  7.5654e-02,  2.5815e-02, -8.8378e-04,\n",
      "         2.5969e-02, -1.4065e-02, -3.6080e-02, -2.7742e-02,  1.1469e-01,\n",
      "         2.8052e-02, -5.7537e-02,  6.6432e-02,  8.2764e-02,  3.3350e-02,\n",
      "        -1.6162e-03, -4.1514e-02, -3.7569e-02,  4.2679e-02,  3.1986e-02,\n",
      "        -8.4024e-02,  4.6107e-02, -4.9551e-02, -2.9482e-03,  5.8140e-02,\n",
      "         8.2722e-03, -1.5480e-01, -7.8359e-02,  7.4945e-02,  6.6726e-03,\n",
      "         9.3906e-02, -3.9470e-02,  3.3708e-02,  3.2955e-02,  4.8486e-02,\n",
      "         7.7164e-02, -8.3947e-02,  6.6338e-02], device='cuda:0')\n",
      "cnn.weight tensor([[[-5.5608e-02,  2.2684e-02, -8.6978e-02],\n",
      "         [ 6.9612e-02,  8.1857e-02,  1.1728e-01],\n",
      "         [-9.7448e-02,  6.6127e-02, -1.6229e-02],\n",
      "         ...,\n",
      "         [-1.6038e-02, -7.0123e-02,  3.1368e-02],\n",
      "         [-8.2666e-02, -6.3645e-02, -6.0834e-02],\n",
      "         [-3.3683e-02,  4.9873e-02, -6.5388e-02]],\n",
      "\n",
      "        [[-1.2895e-02, -1.4829e-01, -4.0501e-02],\n",
      "         [ 1.2165e-01,  9.0292e-03,  2.2322e-02],\n",
      "         [ 8.5206e-02, -7.7170e-03, -6.4110e-02],\n",
      "         ...,\n",
      "         [-1.6185e-01, -1.2226e-01, -3.4633e-02],\n",
      "         [-1.4338e-01, -8.5663e-02, -3.5409e-02],\n",
      "         [ 9.8227e-02,  5.1760e-02,  1.1548e-01]],\n",
      "\n",
      "        [[-2.8194e-02, -1.9190e-01, -1.2318e-01],\n",
      "         [ 4.2518e-02,  4.8738e-03,  6.3748e-02],\n",
      "         [-3.8145e-02, -1.5667e-02,  8.5452e-02],\n",
      "         ...,\n",
      "         [-7.1694e-02, -3.4742e-02, -3.7856e-02],\n",
      "         [ 1.9256e-02,  4.1600e-02,  1.8298e-02],\n",
      "         [-5.9803e-02, -5.6460e-02, -4.1980e-02]],\n",
      "\n",
      "        ...,\n",
      "\n",
      "        [[-3.0922e-02,  2.5750e-02,  1.8363e-02],\n",
      "         [ 7.5854e-02, -8.0974e-05, -1.0414e-01],\n",
      "         [ 7.5346e-02,  6.0155e-02,  2.7947e-02],\n",
      "         ...,\n",
      "         [-1.2443e-01, -2.1158e-02,  5.0020e-02],\n",
      "         [-8.2802e-02, -3.2598e-02,  8.4072e-03],\n",
      "         [ 5.5937e-02,  7.9819e-02,  6.8616e-02]],\n",
      "\n",
      "        [[-8.7523e-02, -3.3493e-02, -1.1026e-01],\n",
      "         [-6.3343e-02, -5.7280e-02, -7.2355e-02],\n",
      "         [-5.7140e-02,  5.0799e-02, -6.2230e-02],\n",
      "         ...,\n",
      "         [-9.0938e-02, -1.4606e-01, -2.5679e-02],\n",
      "         [ 3.0840e-02, -1.8414e-02,  9.6747e-02],\n",
      "         [ 4.1467e-02,  1.1210e-02,  5.5612e-02]],\n",
      "\n",
      "        [[-1.1385e-01, -1.8307e-01, -1.6181e-01],\n",
      "         [ 4.4349e-02, -3.3211e-02,  2.9658e-02],\n",
      "         [-4.0085e-02, -1.5296e-02, -1.7376e-02],\n",
      "         ...,\n",
      "         [-9.3288e-04, -2.9931e-02, -4.1049e-02],\n",
      "         [-1.3136e-02, -1.3673e-02, -7.0130e-02],\n",
      "         [ 1.1605e-01,  3.5309e-02,  3.6753e-02]]], device='cuda:0')\n",
      "cnn.bias tensor([ 0.0316,  0.0490,  0.0071, -0.0052, -0.0384, -0.0100, -0.0085, -0.0038,\n",
      "         0.0349, -0.0076, -0.0345,  0.0441,  0.0006,  0.0251, -0.0289,  0.0541,\n",
      "         0.0201, -0.0073,  0.0271, -0.0500, -0.0291,  0.0259, -0.0387,  0.0479,\n",
      "         0.0204,  0.0175, -0.0204,  0.0561, -0.0378, -0.0356,  0.0333, -0.0059,\n",
      "        -0.0050, -0.0518, -0.0510, -0.0357,  0.0210,  0.0565, -0.0169, -0.0276,\n",
      "         0.0117,  0.0306, -0.0125,  0.0092,  0.0126, -0.0152,  0.0258, -0.0005,\n",
      "         0.0247,  0.0020,  0.0444, -0.0366, -0.0295,  0.0333, -0.0217,  0.0051,\n",
      "        -0.0369, -0.0348,  0.0084, -0.0296, -0.0277, -0.0113,  0.0305,  0.0515,\n",
      "         0.0464, -0.0375,  0.0346, -0.0190, -0.0379, -0.0468, -0.0059,  0.0384,\n",
      "        -0.0331, -0.0455, -0.0203,  0.0299, -0.0155,  0.0141, -0.0250, -0.0403,\n",
      "        -0.0001, -0.0166, -0.0493,  0.0004, -0.0398, -0.0460,  0.0099,  0.0458,\n",
      "         0.0053, -0.0507, -0.0643,  0.0467,  0.0298,  0.0275,  0.0286, -0.0526,\n",
      "        -0.0022, -0.0377, -0.0087, -0.0368, -0.0483, -0.0464, -0.0315,  0.0091,\n",
      "        -0.0274,  0.0128,  0.0438,  0.0157,  0.0111, -0.0345, -0.0348, -0.0337,\n",
      "         0.0070, -0.0463,  0.0265, -0.0127, -0.0045, -0.0315, -0.0131, -0.0390,\n",
      "        -0.0124, -0.0403, -0.0218, -0.0041,  0.0235,  0.0002, -0.0037, -0.0023],\n",
      "       device='cuda:0')\n",
      "cnn2.weight tensor([[[ 2.9163e-02,  1.9388e-02, -6.4810e-02, -3.0510e-02,  6.9521e-02],\n",
      "         [ 3.9959e-02,  1.7803e-02,  5.4880e-02,  3.8590e-02,  1.0220e-01],\n",
      "         [-5.1128e-02,  5.2371e-03, -1.0176e-01, -3.4092e-02,  1.7352e-02],\n",
      "         ...,\n",
      "         [ 4.1447e-02,  5.3171e-02,  3.0374e-02,  8.0241e-02,  5.9569e-03],\n",
      "         [-5.8365e-02, -2.9234e-02,  1.3350e-02,  3.3093e-02,  8.9643e-02],\n",
      "         [ 1.0613e-01,  4.9182e-02, -3.4544e-02, -4.1864e-02, -6.5371e-02]],\n",
      "\n",
      "        [[-3.7848e-03,  1.6849e-02,  3.9721e-03, -5.4199e-02, -4.4393e-02],\n",
      "         [ 9.2559e-02,  4.1250e-02,  1.0994e-02,  8.0553e-02,  9.3249e-02],\n",
      "         [ 6.4081e-03, -2.2871e-03, -5.0295e-02,  4.5573e-02,  5.9513e-02],\n",
      "         ...,\n",
      "         [-3.0997e-02, -4.8592e-02, -8.2777e-02, -3.8861e-02, -5.4666e-02],\n",
      "         [-8.6280e-02, -5.7766e-02, -6.2573e-02, -2.5306e-02, -3.2027e-02],\n",
      "         [-3.2554e-02, -4.6552e-02, -4.6984e-02, -2.0363e-02, -4.7951e-02]],\n",
      "\n",
      "        [[ 2.4226e-02,  1.0637e-02, -6.1138e-03,  2.6408e-02,  5.9687e-02],\n",
      "         [ 1.5699e-02,  1.0363e-01,  4.2759e-02,  5.2944e-02,  3.8568e-03],\n",
      "         [ 2.2819e-02, -2.5065e-02, -2.3307e-02, -1.5711e-02, -3.4082e-02],\n",
      "         ...,\n",
      "         [ 3.6687e-02, -2.7533e-02, -5.1874e-02, -3.2480e-02,  1.3819e-02],\n",
      "         [ 8.6167e-02,  1.1655e-02,  4.2007e-02,  8.1861e-03,  6.9838e-02],\n",
      "         [ 6.6085e-02,  2.5364e-02,  5.3688e-02,  6.4462e-02,  6.2815e-02]],\n",
      "\n",
      "        ...,\n",
      "\n",
      "        [[ 1.5099e-02, -5.1210e-02, -7.0769e-02,  6.3331e-02,  2.5944e-02],\n",
      "         [-4.5919e-02,  7.3406e-02,  2.5267e-02,  1.9609e-02,  1.0846e-02],\n",
      "         [ 1.8653e-02, -1.0067e-02, -4.5164e-02, -9.1240e-03, -1.2252e-03],\n",
      "         ...,\n",
      "         [ 1.4578e-01,  6.4110e-02,  7.6523e-02,  7.9421e-02,  1.2737e-01],\n",
      "         [ 5.1701e-02,  6.2691e-02,  5.1187e-02,  4.2803e-02,  1.0823e-01],\n",
      "         [-5.5817e-03, -4.9821e-03,  4.8326e-02, -7.8789e-03, -2.1619e-02]],\n",
      "\n",
      "        [[-8.8377e-02, -3.9873e-02, -3.8260e-02, -3.3839e-02, -4.4982e-02],\n",
      "         [ 4.8220e-02, -4.5928e-02, -3.2135e-02,  2.2414e-04,  6.3853e-03],\n",
      "         [ 5.0612e-02,  9.6252e-03, -5.5466e-02,  3.5754e-02,  2.3424e-02],\n",
      "         ...,\n",
      "         [-1.4961e-01, -6.6329e-02, -4.3756e-02, -6.4576e-02, -7.3351e-02],\n",
      "         [-3.7077e-02,  2.6468e-02,  2.8209e-02, -3.6224e-02, -4.8098e-02],\n",
      "         [-7.6197e-02, -2.6238e-02,  1.8384e-02,  1.0302e-02, -1.7661e-02]],\n",
      "\n",
      "        [[-1.4130e-02,  2.0217e-02,  1.7673e-02,  9.4511e-02,  6.8224e-02],\n",
      "         [ 5.1233e-02, -3.4506e-02,  1.7548e-02, -3.0984e-02,  6.0864e-02],\n",
      "         [ 1.2812e-01,  1.8596e-02, -5.8357e-02, -4.0537e-02, -2.4920e-02],\n",
      "         ...,\n",
      "         [-2.5074e-01, -7.4374e-02,  9.2462e-02,  4.6645e-02, -2.5479e-02],\n",
      "         [-5.4304e-02, -9.3841e-02, -6.6289e-02, -4.1990e-02, -7.5212e-02],\n",
      "         [-1.2018e-01, -7.8471e-02,  6.0416e-03, -5.6234e-02, -6.6656e-03]]],\n",
      "       device='cuda:0')\n",
      "cnn2.bias tensor([ 0.0097,  0.0150, -0.0184, -0.0324, -0.0182, -0.0210,  0.0269,  0.0019,\n",
      "         0.0344,  0.0242, -0.0052, -0.0242, -0.0018, -0.0410,  0.0460,  0.0082,\n",
      "         0.0464, -0.0089, -0.0139, -0.0304, -0.0199, -0.0493,  0.0047,  0.0158,\n",
      "        -0.0185, -0.0189,  0.0012, -0.0365,  0.0273,  0.0094,  0.0263,  0.0079,\n",
      "         0.0464, -0.0324, -0.0272,  0.0402,  0.0032,  0.0081,  0.0178, -0.0100,\n",
      "         0.0202, -0.0343, -0.0119,  0.0327, -0.0145,  0.0118, -0.0174,  0.0137,\n",
      "         0.0059,  0.0323,  0.0277,  0.0276,  0.0399, -0.0041, -0.0407,  0.0378,\n",
      "        -0.0231, -0.0005, -0.0219,  0.0410,  0.0263,  0.0199,  0.0138, -0.0041,\n",
      "        -0.0110,  0.0310,  0.0137, -0.0045,  0.0062,  0.0124, -0.0037,  0.0106,\n",
      "         0.0187,  0.0340, -0.0298,  0.0003,  0.0130,  0.0245, -0.0107, -0.0020,\n",
      "         0.0340, -0.0020, -0.0219,  0.0026, -0.0194,  0.0380,  0.0148, -0.0292,\n",
      "         0.0445, -0.0213,  0.0137, -0.0038, -0.0224, -0.0186,  0.0313, -0.0376,\n",
      "        -0.0403, -0.0149,  0.0324,  0.0250, -0.0041, -0.0242, -0.0488,  0.0265,\n",
      "        -0.0424,  0.0073, -0.0180, -0.0094, -0.0178, -0.0024, -0.0219, -0.0076,\n",
      "         0.0127,  0.0371,  0.0444, -0.0063,  0.0021, -0.0294,  0.0134,  0.0062,\n",
      "         0.0198, -0.0055,  0.0135, -0.0099, -0.0108, -0.0202, -0.0102, -0.0173],\n",
      "       device='cuda:0')\n",
      "cnn3.weight tensor([[[-0.0758, -0.0245, -0.0116,  ...,  0.0839,  0.0984,  0.0641],\n",
      "         [ 0.1055,  0.0791,  0.0457,  ..., -0.0173, -0.0070, -0.0640],\n",
      "         [-0.0169,  0.0451, -0.0590,  ..., -0.0275,  0.0327,  0.0384],\n",
      "         ...,\n",
      "         [-0.0048, -0.0488, -0.0117,  ...,  0.0421,  0.0889,  0.0228],\n",
      "         [-0.0304,  0.0132,  0.0012,  ..., -0.0190,  0.0701,  0.0480],\n",
      "         [-0.1672, -0.0337,  0.0310,  ...,  0.0006,  0.0380,  0.0642]],\n",
      "\n",
      "        [[ 0.0520, -0.0818, -0.0430,  ..., -0.0279, -0.0324, -0.0508],\n",
      "         [-0.0591, -0.0012, -0.0243,  ..., -0.0377, -0.0292, -0.0163],\n",
      "         [ 0.0484,  0.0940, -0.0163,  ..., -0.0205, -0.0883, -0.0762],\n",
      "         ...,\n",
      "         [-0.0217, -0.1197, -0.0177,  ...,  0.0855,  0.0387,  0.0042],\n",
      "         [ 0.0377,  0.0290,  0.0455,  ...,  0.0341, -0.0063, -0.0019],\n",
      "         [ 0.0386,  0.0327,  0.1081,  ...,  0.1600,  0.1467,  0.1255]],\n",
      "\n",
      "        [[-0.0742, -0.1067, -0.0125,  ..., -0.0635, -0.0951, -0.1178],\n",
      "         [-0.0374, -0.1280, -0.0412,  ..., -0.0329, -0.0751, -0.0730],\n",
      "         [-0.0606, -0.0395, -0.0180,  ..., -0.0762, -0.1573, -0.1574],\n",
      "         ...,\n",
      "         [-0.0516, -0.0430,  0.0026,  ...,  0.0554,  0.0219,  0.0520],\n",
      "         [-0.0205,  0.0296, -0.0200,  ..., -0.0036,  0.0124,  0.0379],\n",
      "         [ 0.1045,  0.0860,  0.0364,  ...,  0.1138,  0.1230,  0.1325]],\n",
      "\n",
      "        ...,\n",
      "\n",
      "        [[-0.0268, -0.0380, -0.0799,  ..., -0.0317,  0.0349,  0.0572],\n",
      "         [-0.0034,  0.0382, -0.0221,  ...,  0.0735,  0.0720,  0.0186],\n",
      "         [-0.0133, -0.0127, -0.1116,  ..., -0.0464, -0.0539,  0.0256],\n",
      "         ...,\n",
      "         [ 0.0740, -0.0127,  0.0505,  ...,  0.0468,  0.0085,  0.0238],\n",
      "         [ 0.0554, -0.0486,  0.0202,  ...,  0.0258,  0.0590,  0.0945],\n",
      "         [-0.0015,  0.0136,  0.0908,  ..., -0.0579, -0.0544, -0.0452]],\n",
      "\n",
      "        [[ 0.0543, -0.0393, -0.0144,  ...,  0.0643,  0.0532,  0.0606],\n",
      "         [-0.0901, -0.0154,  0.0393,  ...,  0.0016, -0.0014, -0.0209],\n",
      "         [ 0.0596,  0.0422,  0.0204,  ...,  0.0419,  0.0972,  0.0328],\n",
      "         ...,\n",
      "         [ 0.0226,  0.1009,  0.0656,  ...,  0.0625,  0.0246,  0.0564],\n",
      "         [ 0.0459,  0.0763, -0.0554,  ...,  0.0017,  0.0339,  0.0447],\n",
      "         [-0.0704, -0.0191,  0.0050,  ..., -0.0187, -0.0115,  0.0141]],\n",
      "\n",
      "        [[-0.1295, -0.1495, -0.0647,  ..., -0.0601, -0.1328, -0.0595],\n",
      "         [-0.0707, -0.0610,  0.0054,  ...,  0.0413,  0.0094, -0.0441],\n",
      "         [-0.0315,  0.0282, -0.0393,  ..., -0.0596, -0.0495, -0.1186],\n",
      "         ...,\n",
      "         [-0.1003, -0.1350, -0.0657,  ..., -0.0142, -0.0326,  0.0153],\n",
      "         [ 0.0259, -0.0083, -0.0200,  ...,  0.0196,  0.0218,  0.0468],\n",
      "         [ 0.1060,  0.0978,  0.0750,  ...,  0.1005,  0.1187,  0.1500]]],\n",
      "       device='cuda:0')\n",
      "cnn3.bias tensor([ 1.0717e-03, -4.8385e-03, -2.4601e-03, -1.9149e-03, -9.4107e-03,\n",
      "         3.8686e-03, -4.0341e-02, -8.7229e-03,  1.3335e-02, -2.4792e-02,\n",
      "        -2.4233e-02, -6.5967e-03, -2.2451e-02, -5.9476e-03,  8.2323e-04,\n",
      "         1.3372e-02,  1.2154e-02, -2.3163e-02,  4.0278e-03,  2.5897e-02,\n",
      "        -3.0911e-03, -7.0481e-03, -2.5945e-04,  1.7244e-02,  2.3259e-02,\n",
      "        -3.3376e-02,  3.8919e-03, -1.6097e-02, -1.5033e-02, -3.6016e-03,\n",
      "         1.9881e-02, -9.3430e-03,  2.7077e-03,  3.2001e-02,  6.3716e-03,\n",
      "         7.3646e-03,  1.3673e-02, -4.2125e-02, -1.3388e-02,  1.9753e-02,\n",
      "        -1.7223e-02,  1.1174e-02,  5.3608e-02,  3.0984e-02, -1.9193e-02,\n",
      "         2.9937e-02, -1.4409e-02, -8.3701e-03, -2.2824e-03, -1.4893e-02,\n",
      "        -3.7027e-02,  4.0023e-03,  5.1240e-03, -2.3515e-04, -3.3761e-02,\n",
      "        -5.2869e-02,  1.4854e-02,  1.1922e-02, -1.9833e-02, -3.4323e-02,\n",
      "         2.8508e-02, -1.3230e-02, -1.3965e-02, -1.5108e-03,  1.9338e-02,\n",
      "         5.2311e-03,  3.1148e-02,  1.6563e-02, -2.5625e-02, -2.7453e-02,\n",
      "        -6.9135e-03,  4.1484e-02,  4.3204e-02,  2.3491e-02, -8.1002e-03,\n",
      "        -1.9350e-02,  2.5988e-03,  2.6166e-02,  2.8069e-02,  3.7182e-03,\n",
      "         2.3393e-02, -1.4049e-02,  1.0805e-02, -3.1487e-02,  2.8081e-02,\n",
      "         1.4978e-02,  2.5671e-02,  2.9835e-02, -3.7099e-02,  4.3030e-03,\n",
      "        -2.1365e-03,  2.3697e-02, -3.4104e-03,  2.4379e-02, -3.7877e-02,\n",
      "        -1.7481e-02,  9.5979e-03, -7.2376e-05, -1.0215e-02, -5.0170e-03,\n",
      "         1.9992e-02,  1.0492e-02, -5.3034e-03,  3.3626e-02, -2.1964e-02,\n",
      "         6.8538e-03,  1.9162e-02,  4.6337e-03, -2.0976e-02,  3.4333e-03,\n",
      "        -2.2627e-02, -2.6980e-03, -1.9445e-02,  2.4873e-02,  4.4015e-02,\n",
      "         3.0221e-02, -1.5737e-03,  3.7035e-02,  2.5193e-02, -8.1025e-03,\n",
      "        -3.3583e-02,  7.8914e-03,  3.0009e-02,  4.7995e-03,  2.0862e-02,\n",
      "        -3.9721e-04,  4.1182e-02,  7.8194e-03], device='cuda:0')\n",
      "batchnorm.weight tensor([1.0326, 1.0556, 1.0292, 0.9925, 1.0487, 0.9560, 1.0297, 1.0241, 1.0180,\n",
      "        1.0229, 0.9981, 1.0041, 0.9876, 0.9206, 0.9817, 1.0923, 0.9954, 1.0015,\n",
      "        1.0348, 1.0005, 1.0427, 0.9812, 0.9864, 1.0483, 1.0097, 0.9530, 1.0039,\n",
      "        1.0775, 1.0296, 1.0096, 1.0290, 1.0284, 1.0153, 0.9374, 0.9607, 1.0295,\n",
      "        0.9983, 1.0437, 1.0171, 1.0471, 1.0154, 0.9777, 1.0524, 1.0593, 0.9911,\n",
      "        1.0344, 1.0084, 0.9266, 1.0398, 0.9904, 1.0389, 1.0623, 1.0242, 1.0337,\n",
      "        0.9663, 0.9900, 1.0082, 1.0135, 0.9944, 1.0226, 0.9843, 1.0210, 1.0946,\n",
      "        1.0155, 0.9606, 1.0561, 1.0015, 1.0009, 1.0252, 1.0181, 0.9092, 1.0229,\n",
      "        0.9378, 1.0839, 1.0372, 1.1298, 0.9682, 1.0631, 1.0241, 1.0276, 1.0649,\n",
      "        0.9850, 1.0844, 1.0164, 1.0745, 1.0653, 0.9894, 0.9217, 0.9844, 1.0223,\n",
      "        1.0428, 0.9863, 1.0188, 1.0120, 1.0716, 0.9811, 0.9945, 0.9538, 1.0276,\n",
      "        1.0185, 1.0273, 1.0656, 0.9883, 1.0062, 1.0217, 1.0480, 1.0437, 0.9426,\n",
      "        0.9960, 1.0449, 1.0105, 1.0061, 1.1489, 1.0269, 0.9535, 1.0970, 1.0408,\n",
      "        1.0262, 0.9994, 1.0343, 1.0314, 0.9630, 1.0585, 1.0841, 0.9982, 0.9683,\n",
      "        0.9737, 0.9952, 1.0885, 1.0103, 1.0141, 1.0785, 1.0337, 1.0271, 0.9718,\n",
      "        1.0672, 1.0290, 1.0227, 1.0584, 1.0518, 0.9490, 0.9509, 0.9922, 1.1079,\n",
      "        0.9976, 0.9692, 1.0250, 0.9954, 1.0746, 1.0379, 1.0195, 1.0095, 1.0117,\n",
      "        0.9966, 1.0427, 1.0448, 1.0558, 0.9451, 1.0061, 1.0077, 1.0199, 1.0011,\n",
      "        1.0635, 1.1234, 1.0211, 1.0413, 0.9963, 1.0521, 1.0723, 1.0977, 1.0166,\n",
      "        0.9574, 0.9993, 0.9433, 0.9984, 0.9608, 1.0136, 0.9429, 1.0072, 1.0568,\n",
      "        1.0451, 0.9971, 1.0593, 1.0461, 1.0080, 0.9614, 0.9872, 0.9761, 0.9776,\n",
      "        1.0195, 0.9795, 1.0054, 1.0005, 0.9634, 1.0494, 1.0632, 1.0522, 1.0330,\n",
      "        1.0241, 0.9429, 1.0061, 1.0526, 0.9754, 1.0361, 1.0184, 0.9538, 1.0491,\n",
      "        0.9668, 1.0640, 1.0905, 1.0174, 1.0007, 1.0282, 1.0472, 1.0388, 1.0168,\n",
      "        1.0097, 1.0205, 0.9701, 0.9761, 1.0249, 1.0534, 1.0120, 1.0196, 1.0751,\n",
      "        1.1015, 1.0287, 1.0633, 1.0475, 1.0551, 1.0694, 1.0223, 1.0445, 1.0372,\n",
      "        0.9133, 1.0224, 0.9745, 1.0730, 0.9936, 1.0297, 1.0241, 1.0242, 1.0880,\n",
      "        1.0638, 1.0348, 0.9781, 1.0388, 1.0667, 1.0294, 1.0634, 0.9885, 1.0772,\n",
      "        1.0025, 1.0658, 0.9754, 0.9805, 1.0251, 1.0380, 1.0483, 1.0779, 1.0861,\n",
      "        1.0283, 1.0430, 1.0310, 1.0806, 1.0836, 1.0944, 1.0552, 1.0298, 1.0972,\n",
      "        1.0899, 1.1167, 1.0715, 1.0747, 1.0511, 1.0619, 1.0637, 1.0605, 1.1466,\n",
      "        0.9933, 1.1259, 1.0505, 1.0890, 1.0424, 1.0968, 1.0382, 1.1754, 0.9869,\n",
      "        1.0431, 1.0497, 1.0570, 1.0645, 1.0875, 1.0552, 1.0176, 1.0248, 1.0810,\n",
      "        0.9698, 1.0874, 1.0777, 1.1095, 1.0901, 1.0232, 1.0765, 1.0651, 1.0745,\n",
      "        1.0486, 1.0222, 0.9323, 1.0668, 1.1145, 1.0869, 1.0186, 0.9828, 1.0722,\n",
      "        1.0823, 0.9036, 1.0986, 0.9773, 1.0487, 1.1055, 1.0553, 0.9184, 1.0776,\n",
      "        1.0594, 0.9597, 1.0424, 1.0985, 1.0735, 1.0115, 1.0483, 1.0554, 1.0880,\n",
      "        0.9798, 1.0494, 1.0417, 1.0612, 0.9924, 0.9722, 1.0730, 1.0096, 1.0669,\n",
      "        1.0340, 1.0116, 1.0982, 1.0670, 1.0634, 1.1339, 1.0528, 1.0713, 0.9626,\n",
      "        1.0552, 0.9425, 0.9724, 1.0144, 1.0304, 1.0378, 1.1286, 1.0391, 1.0130,\n",
      "        1.0780, 1.0771, 1.1060, 1.0596, 1.0783, 1.0835, 1.0479, 1.1291, 1.0579,\n",
      "        1.0307, 1.0396, 1.1144, 0.9724, 1.0772, 1.0596, 1.0441, 0.9854, 1.0178,\n",
      "        1.0239, 1.0134, 1.0881, 1.0949, 1.1085, 1.0354], device='cuda:0')\n",
      "batchnorm.bias tensor([-2.4648e-02, -5.2232e-02, -4.2732e-02, -1.9207e-02, -2.3904e-03,\n",
      "        -1.4378e-01, -4.3480e-02, -2.6384e-02, -1.9948e-02, -3.6745e-02,\n",
      "        -1.3054e-02, -1.6917e-02, -4.2236e-02, -5.9961e-02, -1.0373e-01,\n",
      "        -1.3422e-02, -4.3285e-02, -6.2620e-02, -1.0798e-02, -7.9780e-02,\n",
      "        -3.5669e-02, -5.9493e-02, -7.8091e-02,  3.0007e-02, -5.5996e-02,\n",
      "        -7.9681e-02, -6.9803e-02, -2.3530e-02,  2.7617e-03, -1.6710e-02,\n",
      "        -3.7072e-02, -2.3511e-02, -5.3335e-02, -6.2970e-02, -4.2937e-02,\n",
      "        -2.3060e-02, -3.1930e-02, -4.2811e-02, -5.7488e-02, -3.2269e-02,\n",
      "        -6.9451e-02, -4.8236e-02, -6.0319e-04, -1.6101e-02, -7.1155e-02,\n",
      "        -4.6504e-02, -4.9308e-02, -1.1255e-01, -1.6174e-02, -4.0343e-02,\n",
      "        -6.9756e-02,  1.1502e-02, -1.3599e-02, -5.7765e-02, -7.5133e-02,\n",
      "        -5.0123e-02, -2.0277e-02, -4.0050e-02, -4.3181e-02,  1.2101e-03,\n",
      "        -7.7578e-02, -3.8541e-02,  2.2978e-03, -6.3283e-02, -7.8118e-02,\n",
      "        -1.0544e-02,  3.5310e-03, -7.3606e-02, -2.1117e-02, -3.9340e-02,\n",
      "        -1.4406e-01, -3.4410e-02, -1.0931e-01,  1.4376e-02,  2.5444e-03,\n",
      "        -1.7215e-02, -3.3824e-02,  1.8420e-02, -2.9473e-02,  4.5593e-03,\n",
      "         6.9270e-03, -1.2603e-01, -1.4583e-02, -5.5553e-02,  5.0736e-03,\n",
      "        -3.0190e-02, -7.7898e-02, -1.2577e-01, -4.9036e-02, -6.7880e-02,\n",
      "        -5.1965e-03, -3.6662e-02, -3.7180e-02, -7.7939e-02, -1.7903e-02,\n",
      "        -9.0874e-02, -3.8017e-02, -6.1206e-02, -6.7909e-02, -3.7225e-02,\n",
      "        -4.7464e-02, -7.4494e-02, -4.8722e-02, -6.8160e-02, -1.0264e-02,\n",
      "         1.5114e-02,  1.9393e-02, -7.4660e-02, -4.7845e-02,  4.5719e-03,\n",
      "        -4.4911e-02, -7.0840e-02,  1.9488e-03, -6.2905e-02, -5.3584e-02,\n",
      "         2.2028e-02, -4.1403e-02, -5.1362e-02, -4.7172e-02, -4.9915e-03,\n",
      "        -1.2368e-02, -3.2741e-02, -2.9949e-03,  2.4039e-02, -1.0444e-01,\n",
      "        -7.1345e-02, -9.7504e-02, -3.7648e-02,  2.4620e-02, -1.2650e-02,\n",
      "        -3.9924e-02,  2.3388e-02, -3.1508e-02, -1.3279e-03, -6.4207e-02,\n",
      "         8.9811e-03, -3.0698e-02, -3.8773e-02, -1.4492e-02, -1.4237e-02,\n",
      "        -1.0893e-01, -6.8929e-02, -3.9989e-02,  1.6174e-02, -8.9657e-02,\n",
      "        -5.8921e-02, -5.0266e-02, -8.4277e-02, -1.3832e-02, -3.6608e-02,\n",
      "        -5.4862e-02, -5.6771e-02, -2.9281e-02, -8.2900e-02, -3.5563e-02,\n",
      "        -4.6389e-02, -6.5193e-02, -1.1899e-01, -3.5029e-02, -5.4208e-02,\n",
      "        -3.7881e-02, -3.5475e-02, -4.7620e-03,  2.0553e-02, -6.4676e-02,\n",
      "        -1.7215e-02, -6.6417e-02,  7.7287e-03, -6.3323e-04, -1.4761e-02,\n",
      "        -2.9075e-02, -1.1650e-01, -4.4949e-02, -5.5102e-02, -2.0770e-02,\n",
      "        -7.1771e-02, -8.6118e-02, -7.5765e-02, -4.6939e-02, -2.8942e-02,\n",
      "        -4.9100e-03, -8.9461e-02, -2.0213e-02,  1.3966e-02, -3.5462e-02,\n",
      "        -3.9552e-02, -2.9286e-02, -4.7084e-02, -9.7741e-02, -2.4713e-02,\n",
      "        -2.7673e-02, -1.3165e-02, -3.8876e-02, -9.4838e-02, -2.7717e-02,\n",
      "        -8.0953e-03, -4.5609e-02, -2.3316e-02, -3.2614e-02, -1.0277e-01,\n",
      "        -4.3547e-02, -4.2331e-03, -3.1265e-02, -8.9282e-02, -5.7103e-02,\n",
      "        -7.5919e-02, -6.1798e-02, -6.8666e-02, -3.8785e-02,  1.0154e-02,\n",
      "        -5.2429e-03, -3.7666e-02, -3.9109e-02, -1.7123e-04, -2.0718e-02,\n",
      "        -4.6115e-02, -1.3980e-02, -3.9446e-02, -9.0931e-02, -9.0229e-02,\n",
      "        -1.2202e-02,  1.5580e-04, -4.4131e-02, -7.4563e-02,  2.4405e-03,\n",
      "         2.1052e-02, -4.9691e-02, -8.3462e-03, -2.5931e-02, -4.5588e-02,\n",
      "        -5.3888e-03, -4.0419e-02,  3.1854e-03, -1.6232e-02, -8.2409e-02,\n",
      "        -6.0766e-02, -5.5346e-02, -2.6622e-02, -7.9005e-02, -4.2816e-02,\n",
      "        -4.8362e-02, -1.7697e-02,  3.1310e-02, -2.1846e-02, -1.6256e-02,\n",
      "        -1.5818e-01, -1.4879e-02,  1.6503e-02,  5.8958e-03, -3.0779e-02,\n",
      "        -3.9390e-02, -1.2348e-02, -5.6503e-02,  1.7673e-02, -6.6694e-02,\n",
      "        -9.2474e-02, -4.8048e-02, -4.4426e-02, -1.0122e-03,  3.2230e-02,\n",
      "        -2.4416e-02, -6.1884e-02,  1.0736e-02, -2.3442e-02, -3.5107e-02,\n",
      "         8.5124e-03, -1.7012e-02,  8.0921e-03,  3.2725e-03, -2.6214e-03,\n",
      "         6.0367e-03,  4.6338e-02,  3.0738e-02, -2.5992e-02, -4.9506e-03,\n",
      "        -4.5946e-04, -5.0791e-03,  1.2816e-02,  2.5806e-02, -8.2811e-02,\n",
      "         4.2763e-02,  5.2888e-03, -8.9362e-03, -2.5465e-02,  2.9621e-02,\n",
      "        -3.2983e-02, -2.2373e-03, -5.0592e-02,  1.3693e-02, -7.2789e-03,\n",
      "        -9.8121e-03, -3.0853e-02,  2.2323e-04, -4.2151e-02, -9.2617e-02,\n",
      "        -2.8212e-02, -3.5729e-03, -1.1953e-01, -6.0505e-03,  1.5028e-02,\n",
      "         2.4732e-02, -1.6535e-02, -5.1909e-02,  1.1828e-02, -4.1298e-02,\n",
      "        -2.0042e-02, -6.3203e-02, -7.3190e-02, -1.0717e-01, -1.2976e-02,\n",
      "         1.9740e-04, -2.9273e-02, -4.4020e-02, -7.3538e-02, -1.4324e-03,\n",
      "        -1.6184e-02, -1.6934e-01,  2.7914e-02, -1.8688e-02, -1.8169e-02,\n",
      "         3.4371e-03, -5.2616e-02, -9.9975e-02, -5.5156e-03, -5.0325e-02,\n",
      "        -1.1185e-01,  2.5320e-02, -1.3731e-02, -2.0544e-02, -1.6926e-02,\n",
      "        -4.5319e-02, -5.9178e-02,  7.3574e-03, -4.3745e-02, -1.5155e-02,\n",
      "        -1.0097e-03,  3.6804e-03, -6.2175e-02, -1.3041e-01,  9.4374e-04,\n",
      "        -3.7235e-02, -5.8769e-02, -2.5575e-02, -5.1877e-02, -2.9980e-02,\n",
      "        -8.8755e-03, -2.4089e-02,  2.6407e-02, -1.8183e-02, -5.2789e-03,\n",
      "        -1.0391e-01, -4.1205e-02, -5.2656e-02, -7.3021e-02, -5.7465e-02,\n",
      "        -1.9473e-02, -2.3673e-02,  1.3854e-02, -4.0571e-02, -5.1041e-02,\n",
      "        -5.3218e-03, -2.1187e-02, -1.4080e-03, -2.1402e-03, -2.7208e-02,\n",
      "         9.4516e-03, -9.9548e-03,  3.1324e-02, -3.4084e-02, -4.1073e-02,\n",
      "        -2.1174e-02,  2.2733e-02, -6.0926e-02, -3.4476e-02, -2.8713e-02,\n",
      "        -7.8601e-03, -6.9127e-02, -3.0245e-02, -6.0828e-02, -5.8528e-02,\n",
      "         7.4743e-03, -7.1073e-03,  1.6182e-02, -4.0639e-02], device='cuda:0')\n",
      "lstm.weight_ih_l0 tensor([[ 0.1116,  0.0224,  0.0559,  ...,  0.0005,  0.0672,  0.0894],\n",
      "        [-0.0624,  0.0142, -0.0329,  ...,  0.0717, -0.0860, -0.0470],\n",
      "        [-0.0165, -0.0626, -0.0412,  ..., -0.0332, -0.0460, -0.0816],\n",
      "        ...,\n",
      "        [-0.0223, -0.1071, -0.1189,  ..., -0.0041, -0.0854,  0.0212],\n",
      "        [-0.0524, -0.0270, -0.0201,  ..., -0.0316,  0.0158, -0.0466],\n",
      "        [ 0.0211, -0.0176, -0.0501,  ..., -0.0485, -0.0478, -0.0549]],\n",
      "       device='cuda:0')\n",
      "lstm.weight_hh_l0 tensor([[ 0.0575,  0.0076, -0.0314,  ...,  0.0070,  0.0647, -0.0027],\n",
      "        [ 0.0237, -0.0051,  0.0559,  ..., -0.0298, -0.0434,  0.0425],\n",
      "        [-0.0147, -0.0387,  0.0019,  ..., -0.0118,  0.0387, -0.0285],\n",
      "        ...,\n",
      "        [-0.0194, -0.0440,  0.0137,  ...,  0.0067,  0.0206, -0.0048],\n",
      "        [-0.0291, -0.0463,  0.0201,  ...,  0.0515, -0.0255,  0.0007],\n",
      "        [-0.0141,  0.0094,  0.0093,  ...,  0.0168, -0.0160, -0.0593]],\n",
      "       device='cuda:0')\n",
      "lstm.bias_ih_l0 tensor([ 0.0781, -0.0334, -0.0770,  ..., -0.0080, -0.0178, -0.0925],\n",
      "       device='cuda:0')\n",
      "lstm.bias_hh_l0 tensor([ 0.0842,  0.0144, -0.0622,  ..., -0.0852, -0.0907, -0.0352],\n",
      "       device='cuda:0')\n",
      "lstm.weight_ih_l1 tensor([[ 1.5036e-01, -1.4911e-03, -5.0065e-02,  ...,  2.8561e-02,\n",
      "          4.1163e-02,  1.3705e-02],\n",
      "        [ 1.4111e-02,  1.1123e-01, -7.9201e-03,  ..., -1.0788e-01,\n",
      "         -7.6415e-03,  3.9918e-02],\n",
      "        [-3.7798e-02,  2.1103e-02,  1.2021e-02,  ...,  1.7405e-02,\n",
      "          4.0084e-05,  1.9668e-02],\n",
      "        ...,\n",
      "        [-9.4484e-03,  3.1307e-02,  1.1340e-03,  ..., -2.7235e-02,\n",
      "         -9.4555e-03, -3.0115e-02],\n",
      "        [ 1.5639e-02,  3.1649e-02,  1.1712e-02,  ...,  2.4453e-02,\n",
      "          6.0687e-03,  3.6050e-02],\n",
      "        [-1.0121e-01, -9.2094e-04,  6.3281e-02,  ..., -1.5700e-02,\n",
      "         -1.5840e-02,  2.0140e-02]], device='cuda:0')\n",
      "lstm.weight_hh_l1 tensor([[-0.0302, -0.0029, -0.0289,  ...,  0.0182, -0.0340,  0.0323],\n",
      "        [-0.0586, -0.0850, -0.0054,  ...,  0.0004,  0.0535,  0.0133],\n",
      "        [ 0.0555,  0.0691, -0.0213,  ...,  0.0090, -0.0409, -0.0116],\n",
      "        ...,\n",
      "        [ 0.0341,  0.0482,  0.0191,  ...,  0.0075,  0.0206, -0.0677],\n",
      "        [ 0.0606,  0.0696, -0.0109,  ..., -0.0291,  0.0257,  0.0229],\n",
      "        [ 0.0367,  0.0895, -0.0070,  ..., -0.0112,  0.0880, -0.0475]],\n",
      "       device='cuda:0')\n",
      "lstm.bias_ih_l1 tensor([ 0.0148,  0.1178, -0.0555,  ..., -0.0523, -0.0447, -0.0293],\n",
      "       device='cuda:0')\n",
      "lstm.bias_hh_l1 tensor([ 0.0428,  0.0486, -0.0748,  ..., -0.0529, -0.1022, -0.0085],\n",
      "       device='cuda:0')\n",
      "linear.weight tensor([[-0.1194, -0.0532,  0.0069,  ...,  0.0265,  0.0373, -0.0126],\n",
      "        [ 0.0419,  0.1105, -0.0373,  ..., -0.0318, -0.0826,  0.0929],\n",
      "        [ 0.0139,  0.0110,  0.0012,  ...,  0.0055,  0.0242, -0.0117],\n",
      "        ...,\n",
      "        [ 0.0901,  0.2186, -0.0304,  ...,  0.0373, -0.0212, -0.1222],\n",
      "        [ 0.1353,  0.2013, -0.0494,  ..., -0.0068,  0.0015, -0.1060],\n",
      "        [ 0.0798,  0.2100, -0.0352,  ...,  0.0120, -0.0148, -0.1221]],\n",
      "       device='cuda:0')\n",
      "linear.bias tensor([ 0.0007,  0.0529,  0.0404,  0.0420, -0.0323, -0.0893, -0.0928],\n",
      "       device='cuda:0')\n"
     ]
    }
   ],
   "source": [
    "for name, param in model.named_parameters():\n",
    "    if param.requires_grad:\n",
    "        print(name, param.data)"
   ]
  },
  {
   "cell_type": "code",
   "execution_count": 21,
   "id": "cc9b6fd0",
   "metadata": {},
   "outputs": [],
   "source": [
    "model_path = f'../models/hubertbase/holdout{holdout}.pth'\n",
    "\n",
    "torch.save({'epoch':epochs,\n",
    "            'model_state_dict':model.state_dict(),\n",
    "            'optimizer_state_dict':optimizer.state_dict()},\n",
    "            model_path)"
   ]
  }
 ],
 "metadata": {
  "kernelspec": {
   "display_name": "Python 3",
   "language": "python",
   "name": "python3"
  },
  "language_info": {
   "codemirror_mode": {
    "name": "ipython",
    "version": 3
   },
   "file_extension": ".py",
   "mimetype": "text/x-python",
   "name": "python",
   "nbconvert_exporter": "python",
   "pygments_lexer": "ipython3",
   "version": "3.7.12"
  }
 },
 "nbformat": 4,
 "nbformat_minor": 5
}
