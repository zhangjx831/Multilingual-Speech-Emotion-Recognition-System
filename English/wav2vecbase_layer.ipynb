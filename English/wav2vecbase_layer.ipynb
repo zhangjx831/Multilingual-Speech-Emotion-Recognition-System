{
 "cells": [
  {
   "cell_type": "markdown",
   "id": "3fe7ad6a",
   "metadata": {},
   "source": [
    "## Load Data"
   ]
  },
  {
   "cell_type": "code",
   "execution_count": 1,
   "id": "fb804b74",
   "metadata": {},
   "outputs": [],
   "source": [
    "import re\n",
    "import os\n",
    "import pandas as pd\n",
    "\n",
    "regex = re.compile(r'\\[.+\\]\\n', re.IGNORECASE)\n",
    "file_paths, file_names, sessions, emotions = [], [], [], []\n",
    "emotion_map = {'neu': 'neutral', 'ang': 'angry', 'hap': 'happy', 'exc': 'happy', 'sad': 'sad'}\n",
    "\n",
    "for session in range(1, 6):\n",
    "    emo_evaluation_dir = f'/home/jz3313/IEMOCAP_full_release/Session{session}/dialog/EmoEvaluation/'\n",
    "    file_dir = f'/home/jz3313/IEMOCAP_full_release/Session{session}/sentences/wav/'\n",
    "    evaluation_files = [l for l in os.listdir(emo_evaluation_dir) if 'Ses' in l]\n",
    "    for file in evaluation_files:\n",
    "        with open(emo_evaluation_dir + file) as f:\n",
    "            content = f.read()\n",
    "        lines = re.findall(regex, content)\n",
    "        for line in lines[1:]:  # the first line is a header\n",
    "            start_end_time, wav_file_name, emotion, val_act_dom = line.strip().split('\\t')\n",
    "            dir_name = '_'.join(wav_file_name.split('_')[:-1])\n",
    "            if emotion in emotion_map:\n",
    "                file_paths.append(file_dir+dir_name+'/'+wav_file_name+'.wav')\n",
    "                file_names.append(wav_file_name)\n",
    "                sessions.append(session)\n",
    "                emotions.append(emotion_map[emotion])"
   ]
  },
  {
   "cell_type": "code",
   "execution_count": 2,
   "id": "ef7b83a4",
   "metadata": {},
   "outputs": [
    {
     "data": {
      "text/html": [
       "<div>\n",
       "<style scoped>\n",
       "    .dataframe tbody tr th:only-of-type {\n",
       "        vertical-align: middle;\n",
       "    }\n",
       "\n",
       "    .dataframe tbody tr th {\n",
       "        vertical-align: top;\n",
       "    }\n",
       "\n",
       "    .dataframe thead th {\n",
       "        text-align: right;\n",
       "    }\n",
       "</style>\n",
       "<table border=\"1\" class=\"dataframe\">\n",
       "  <thead>\n",
       "    <tr style=\"text-align: right;\">\n",
       "      <th></th>\n",
       "      <th>path</th>\n",
       "      <th>name</th>\n",
       "      <th>session</th>\n",
       "      <th>emotion</th>\n",
       "      <th>newpath</th>\n",
       "    </tr>\n",
       "  </thead>\n",
       "  <tbody>\n",
       "    <tr>\n",
       "      <th>0</th>\n",
       "      <td>/home/jz3313/IEMOCAP_full_release/Session1/sen...</td>\n",
       "      <td>Ses01F_impro02_F000</td>\n",
       "      <td>1</td>\n",
       "      <td>sad</td>\n",
       "      <td>../data/wav2vecbase/Session1/Ses01F_impro02_F0...</td>\n",
       "    </tr>\n",
       "    <tr>\n",
       "      <th>1</th>\n",
       "      <td>/home/jz3313/IEMOCAP_full_release/Session1/sen...</td>\n",
       "      <td>Ses01F_impro02_F001</td>\n",
       "      <td>1</td>\n",
       "      <td>sad</td>\n",
       "      <td>../data/wav2vecbase/Session1/Ses01F_impro02_F0...</td>\n",
       "    </tr>\n",
       "    <tr>\n",
       "      <th>2</th>\n",
       "      <td>/home/jz3313/IEMOCAP_full_release/Session1/sen...</td>\n",
       "      <td>Ses01F_impro02_F002</td>\n",
       "      <td>1</td>\n",
       "      <td>sad</td>\n",
       "      <td>../data/wav2vecbase/Session1/Ses01F_impro02_F0...</td>\n",
       "    </tr>\n",
       "    <tr>\n",
       "      <th>3</th>\n",
       "      <td>/home/jz3313/IEMOCAP_full_release/Session1/sen...</td>\n",
       "      <td>Ses01F_impro02_F003</td>\n",
       "      <td>1</td>\n",
       "      <td>neutral</td>\n",
       "      <td>../data/wav2vecbase/Session1/Ses01F_impro02_F0...</td>\n",
       "    </tr>\n",
       "    <tr>\n",
       "      <th>4</th>\n",
       "      <td>/home/jz3313/IEMOCAP_full_release/Session1/sen...</td>\n",
       "      <td>Ses01F_impro02_F004</td>\n",
       "      <td>1</td>\n",
       "      <td>sad</td>\n",
       "      <td>../data/wav2vecbase/Session1/Ses01F_impro02_F0...</td>\n",
       "    </tr>\n",
       "  </tbody>\n",
       "</table>\n",
       "</div>"
      ],
      "text/plain": [
       "                                                path                 name  \\\n",
       "0  /home/jz3313/IEMOCAP_full_release/Session1/sen...  Ses01F_impro02_F000   \n",
       "1  /home/jz3313/IEMOCAP_full_release/Session1/sen...  Ses01F_impro02_F001   \n",
       "2  /home/jz3313/IEMOCAP_full_release/Session1/sen...  Ses01F_impro02_F002   \n",
       "3  /home/jz3313/IEMOCAP_full_release/Session1/sen...  Ses01F_impro02_F003   \n",
       "4  /home/jz3313/IEMOCAP_full_release/Session1/sen...  Ses01F_impro02_F004   \n",
       "\n",
       "   session  emotion                                            newpath  \n",
       "0        1      sad  ../data/wav2vecbase/Session1/Ses01F_impro02_F0...  \n",
       "1        1      sad  ../data/wav2vecbase/Session1/Ses01F_impro02_F0...  \n",
       "2        1      sad  ../data/wav2vecbase/Session1/Ses01F_impro02_F0...  \n",
       "3        1  neutral  ../data/wav2vecbase/Session1/Ses01F_impro02_F0...  \n",
       "4        1      sad  ../data/wav2vecbase/Session1/Ses01F_impro02_F0...  "
      ]
     },
     "execution_count": 2,
     "metadata": {},
     "output_type": "execute_result"
    }
   ],
   "source": [
    "file = pd.DataFrame({'path':file_paths, 'name': file_names, 'session': sessions, 'emotion': emotions})\n",
    "file['newpath'] = file.apply(lambda x: f'../data/wav2vecbase/Session{x[2]}/{x[1]}.pt', axis=1)\n",
    "file.head()"
   ]
  },
  {
   "cell_type": "code",
   "execution_count": 4,
   "id": "da2e6248",
   "metadata": {},
   "outputs": [
    {
     "name": "stdout",
     "output_type": "stream",
     "text": [
      "1.12.1+cu113\n",
      "0.12.1+cu113\n",
      "cuda\n"
     ]
    }
   ],
   "source": [
    "import torch\n",
    "import torchaudio\n",
    "\n",
    "print(torch.__version__)\n",
    "print(torchaudio.__version__)\n",
    "\n",
    "torch.random.manual_seed(0)\n",
    "device = torch.device(\"cuda\" if torch.cuda.is_available() else \"cpu\")\n",
    "\n",
    "print(device)"
   ]
  },
  {
   "cell_type": "code",
   "execution_count": 9,
   "id": "3d75b6b8",
   "metadata": {},
   "outputs": [
    {
     "name": "stderr",
     "output_type": "stream",
     "text": [
      "5531it [00:24, 226.98it/s]\n"
     ]
    }
   ],
   "source": [
    "from tqdm import tqdm\n",
    "\n",
    "holdout = 1\n",
    "train_audios = []\n",
    "test_audios = []\n",
    "train_emotions = []\n",
    "test_emotions = []\n",
    "\n",
    "for _, row in tqdm(file.iterrows()):\n",
    "    audio = torch.load(row[4])\n",
    "    audio = torch.mean(audio, dim=1, keepdim=False)\n",
    "    emotion = row[3]\n",
    "    if row[2] != holdout:\n",
    "        train_audios.append(audio)\n",
    "        train_emotions.append(emotion)\n",
    "    else:\n",
    "        test_audios.append(audio)\n",
    "        test_emotions.append(emotion)\n",
    "    "
   ]
  },
  {
   "cell_type": "code",
   "execution_count": 20,
   "id": "9b9fdd67",
   "metadata": {},
   "outputs": [],
   "source": [
    "class MyDataSet(torch.utils.data.Dataset):\n",
    "    def __init__(self, datas, labels, label_transform):\n",
    "        super(MyDataSet).__init__()\n",
    "        self.datas = datas\n",
    "        self.labels = labels\n",
    "        self.label_transform = label_transform\n",
    "        \n",
    "    def __getitem__(self, idx):\n",
    "        audio = self.datas[idx]\n",
    "        label = self.label_transform[self.labels[idx]]\n",
    "        return audio, label\n",
    "    \n",
    "    def __len__(self):\n",
    "        return len(self.labels)"
   ]
  },
  {
   "cell_type": "code",
   "execution_count": 11,
   "id": "78bd4e65",
   "metadata": {},
   "outputs": [
    {
     "data": {
      "text/plain": [
       "{'angry': 0, 'happy': 1, 'neutral': 2, 'sad': 3}"
      ]
     },
     "execution_count": 11,
     "metadata": {},
     "output_type": "execute_result"
    }
   ],
   "source": [
    "categories = ['angry', 'happy', 'neutral', 'sad']\n",
    "cate_dic = {}\n",
    "for i, cate in enumerate(categories):\n",
    "    cate_dic[cate] = i\n",
    "cate_dic"
   ]
  },
  {
   "cell_type": "markdown",
   "id": "7d548250",
   "metadata": {},
   "source": [
    "## Model"
   ]
  },
  {
   "cell_type": "code",
   "execution_count": 12,
   "id": "85afd638",
   "metadata": {},
   "outputs": [],
   "source": [
    "import torch.nn as nn\n",
    "import torch.nn.functional as F\n",
    "\n",
    "class NN(nn.Module):\n",
    "    def __init__(self, vocab_size, hidden_size=128, label_size=7):\n",
    "        super().__init__()\n",
    "        self.nn = nn.Linear(in_features = vocab_size, out_features = hidden_size)\n",
    "        self.linear = nn.Linear(in_features = hidden_size, out_features = label_size)\n",
    "\n",
    "    def forward(self, x):\n",
    "        x = self.nn(x)\n",
    "        logits = self.linear(x)\n",
    "        return logits"
   ]
  },
  {
   "cell_type": "code",
   "execution_count": 38,
   "id": "0ec6c34c",
   "metadata": {},
   "outputs": [
    {
     "name": "stderr",
     "output_type": "stream",
     "text": [
      "100%|███████████████████████████████████████████████████████████████████████████████████████████████████████████████████████████████████████████████████████████████████████| 80/80 [00:46<00:00,  1.73it/s]\n"
     ]
    },
    {
     "name": "stdout",
     "output_type": "stream",
     "text": [
      "layer: 0, test accuracy: 0.6138248847926268\n"
     ]
    },
    {
     "name": "stderr",
     "output_type": "stream",
     "text": [
      "100%|███████████████████████████████████████████████████████████████████████████████████████████████████████████████████████████████████████████████████████████████████████| 80/80 [00:43<00:00,  1.83it/s]\n"
     ]
    },
    {
     "name": "stdout",
     "output_type": "stream",
     "text": [
      "layer: 1, test accuracy: 0.576036866359447\n"
     ]
    },
    {
     "name": "stderr",
     "output_type": "stream",
     "text": [
      "100%|███████████████████████████████████████████████████████████████████████████████████████████████████████████████████████████████████████████████████████████████████████| 80/80 [00:43<00:00,  1.82it/s]\n"
     ]
    },
    {
     "name": "stdout",
     "output_type": "stream",
     "text": [
      "layer: 2, test accuracy: 0.5576036866359447\n"
     ]
    },
    {
     "name": "stderr",
     "output_type": "stream",
     "text": [
      "100%|███████████████████████████████████████████████████████████████████████████████████████████████████████████████████████████████████████████████████████████████████████| 80/80 [00:38<00:00,  2.06it/s]\n"
     ]
    },
    {
     "name": "stdout",
     "output_type": "stream",
     "text": [
      "layer: 3, test accuracy: 0.5502304147465438\n"
     ]
    },
    {
     "name": "stderr",
     "output_type": "stream",
     "text": [
      "100%|███████████████████████████████████████████████████████████████████████████████████████████████████████████████████████████████████████████████████████████████████████| 80/80 [00:21<00:00,  3.78it/s]\n"
     ]
    },
    {
     "name": "stdout",
     "output_type": "stream",
     "text": [
      "layer: 4, test accuracy: 0.6341013824884792\n"
     ]
    },
    {
     "name": "stderr",
     "output_type": "stream",
     "text": [
      "100%|███████████████████████████████████████████████████████████████████████████████████████████████████████████████████████████████████████████████████████████████████████| 80/80 [00:20<00:00,  3.96it/s]\n"
     ]
    },
    {
     "name": "stdout",
     "output_type": "stream",
     "text": [
      "layer: 5, test accuracy: 0.6138248847926268\n"
     ]
    },
    {
     "name": "stderr",
     "output_type": "stream",
     "text": [
      "100%|███████████████████████████████████████████████████████████████████████████████████████████████████████████████████████████████████████████████████████████████████████| 80/80 [00:20<00:00,  3.91it/s]\n"
     ]
    },
    {
     "name": "stdout",
     "output_type": "stream",
     "text": [
      "layer: 6, test accuracy: 0.6248847926267281\n"
     ]
    },
    {
     "name": "stderr",
     "output_type": "stream",
     "text": [
      "100%|███████████████████████████████████████████████████████████████████████████████████████████████████████████████████████████████████████████████████████████████████████| 80/80 [00:20<00:00,  3.81it/s]\n"
     ]
    },
    {
     "name": "stdout",
     "output_type": "stream",
     "text": [
      "layer: 7, test accuracy: 0.6129032258064516\n"
     ]
    },
    {
     "name": "stderr",
     "output_type": "stream",
     "text": [
      "100%|███████████████████████████████████████████████████████████████████████████████████████████████████████████████████████████████████████████████████████████████████████| 80/80 [00:20<00:00,  3.91it/s]\n"
     ]
    },
    {
     "name": "stdout",
     "output_type": "stream",
     "text": [
      "layer: 8, test accuracy: 0.576036866359447\n"
     ]
    },
    {
     "name": "stderr",
     "output_type": "stream",
     "text": [
      "100%|███████████████████████████████████████████████████████████████████████████████████████████████████████████████████████████████████████████████████████████████████████| 80/80 [00:21<00:00,  3.71it/s]\n"
     ]
    },
    {
     "name": "stdout",
     "output_type": "stream",
     "text": [
      "layer: 9, test accuracy: 0.6027649769585254\n"
     ]
    },
    {
     "name": "stderr",
     "output_type": "stream",
     "text": [
      "100%|███████████████████████████████████████████████████████████████████████████████████████████████████████████████████████████████████████████████████████████████████████| 80/80 [00:46<00:00,  1.71it/s]\n"
     ]
    },
    {
     "name": "stdout",
     "output_type": "stream",
     "text": [
      "layer: 10, test accuracy: 0.5493087557603686\n"
     ]
    },
    {
     "name": "stderr",
     "output_type": "stream",
     "text": [
      "100%|███████████████████████████████████████████████████████████████████████████████████████████████████████████████████████████████████████████████████████████████████████| 80/80 [00:21<00:00,  3.80it/s]\n"
     ]
    },
    {
     "name": "stdout",
     "output_type": "stream",
     "text": [
      "layer: 11, test accuracy: 0.5741935483870968\n"
     ]
    }
   ],
   "source": [
    "from torch.utils.data import DataLoader\n",
    "import torch.optim as optim\n",
    "\n",
    "layers = 12\n",
    "test_accuracies = []\n",
    "for layer in range(layers):\n",
    "    train = torch.stack([x[layer] for x in train_audios])\n",
    "    test = torch.stack([x[layer] for x in test_audios])\n",
    "    train_dataset = MyDataSet(train, train_emotions, cate_dic)\n",
    "    trainloader_args = dict(batch_size=64, shuffle=True)\n",
    "    train_dataloader = DataLoader(train_dataset, **trainloader_args)\n",
    "    \n",
    "    model = NN(768, 128, 4)\n",
    "    model = model.to(device)\n",
    "    criterion = nn.CrossEntropyLoss()\n",
    "    optimizer = optim.Adam(model.parameters(), lr=0.001)\n",
    "    \n",
    "    epochs = 80\n",
    "    \n",
    "    train_losses = []\n",
    "    train_accuracies = []\n",
    "    valid_losses = []\n",
    "    valid_accuracies = []\n",
    "    for epoch in tqdm(range(epochs)):\n",
    "        train_loss = 0\n",
    "        acc_cnt = 0\n",
    "        err_cnt = 0\n",
    "        batch_cnt = 0\n",
    "        model.train()\n",
    "        for batch, (x, y) in enumerate(train_dataloader):\n",
    "            x = x.to(device)\n",
    "            y = y.to(device)\n",
    "            optimizer.zero_grad()\n",
    "            logits = model(x)\n",
    "            loss = criterion(logits, y)\n",
    "            loss.backward()\n",
    "            optimizer.step()\n",
    "            train_loss += loss.cpu().item()\n",
    "\n",
    "            #model outputs\n",
    "            out_val, out_indices = torch.max(logits, dim=1)\n",
    "            tar_indices = y\n",
    "\n",
    "            for i in range(len(out_indices)):\n",
    "                if out_indices[i] == tar_indices[i]:\n",
    "                    acc_cnt += 1\n",
    "                else:\n",
    "                    err_cnt += 1\n",
    "            batch_cnt += 1\n",
    "\n",
    "        train_loss = train_loss/batch_cnt\n",
    "        train_accuracy = acc_cnt/(acc_cnt+err_cnt)\n",
    "        train_accuracies.append(train_accuracy)\n",
    "        train_losses.append(train_loss)\n",
    "        \n",
    "    test_dataset = MyDataSet(test, test_emotions, cate_dic)\n",
    "    testloader_args = dict(batch_size=1, shuffle=True)\n",
    "    test_dataloader = DataLoader(test_dataset, **testloader_args)\n",
    "\n",
    "    test_loss = 0\n",
    "    acc_cnt = 0\n",
    "    err_cnt = 0\n",
    "    batch_cnt = 0\n",
    "    model.eval()\n",
    "\n",
    "    for x, y in test_dataloader:\n",
    "\n",
    "        x = x.to(device)\n",
    "        y = y.to(device)\n",
    "\n",
    "        logits = model(x)\n",
    "        loss = criterion(logits, y)\n",
    "        test_loss += loss.cpu().item()\n",
    "\n",
    "        out_val, out_indices = torch.max(logits, dim=1)\n",
    "        tar_indices = y\n",
    "\n",
    "        for i in range(len(out_indices)):\n",
    "            if out_indices[i] == tar_indices[i]:\n",
    "                acc_cnt += 1\n",
    "            else:\n",
    "                err_cnt += 1\n",
    "        batch_cnt += 1\n",
    "\n",
    "    test_loss = test_loss/batch_cnt\n",
    "    test_accuracy = acc_cnt/(acc_cnt+err_cnt)\n",
    "    print(f'layer: {layer}, test accuracy: {test_accuracy}')\n",
    "    test_accuracies.append(test_accuracy)"
   ]
  },
  {
   "cell_type": "code",
   "execution_count": 40,
   "id": "1b5062d6",
   "metadata": {},
   "outputs": [
    {
     "data": {
      "image/png": "[encoded data removed]",
      "text/plain": [
       "<Figure size 640x480 with 1 Axes>"
      ]
     },
     "metadata": {},
     "output_type": "display_data"
    }
   ],
   "source": [
    "import matplotlib.pyplot as plt\n",
    "\n",
    "plt.plot(range(layers), test_accuracies)\n",
    "plt.xlabel(\"Layer\")\n",
    "plt.ylabel(\"Accuracy\")\n",
    "plt.title()\n",
    "plt.show()"
   ]
  }
 ],
 "metadata": {
  "kernelspec": {
   "display_name": "Python 3",
   "language": "python",
   "name": "python3"
  },
  "language_info": {
   "codemirror_mode": {
    "name": "ipython",
    "version": 3
   },
   "file_extension": ".py",
   "mimetype": "text/x-python",
   "name": "python",
   "nbconvert_exporter": "python",
   "pygments_lexer": "ipython3",
   "version": "3.7.12"
  }
 },
 "nbformat": 4,
 "nbformat_minor": 5
}
